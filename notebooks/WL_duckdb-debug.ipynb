{
 "metadata": {
  "language_info": {
   "codemirror_mode": {
    "name": "ipython",
    "version": 3
   },
   "file_extension": ".py",
   "mimetype": "text/x-python",
   "name": "python",
   "nbconvert_exporter": "python",
   "pygments_lexer": "ipython3",
   "version": "3.9.16-final"
  },
  "orig_nbformat": 2,
  "kernelspec": {
   "name": "python_defaultSpec_1687788418504",
   "display_name": "Python 3.9.16 64-bit"
  }
 },
 "nbformat": 4,
 "nbformat_minor": 2,
 "cells": [
  {
   "cell_type": "code",
   "execution_count": 6,
   "metadata": {},
   "outputs": [],
   "source": [
    "%load_ext autoreload\n",
    "%autoreload 2\n",
    "from IPython.core.interactiveshell import InteractiveShell\n",
    "from IPython.display import IFrame\n",
    "InteractiveShell.ast_node_interactivity = \"all\""
   ]
  },
  {
   "cell_type": "code",
   "execution_count": 35,
   "metadata": {},
   "outputs": [],
   "source": [
    "from src.config import settings\n",
    "from src.data import utils as du\n",
    "\n",
    "import logging\n",
    "import duckdb\n",
    "\n",
    "import mlflow\n",
    "from mlflow.entities import ViewType\n",
    "\n",
    "from splink.duckdb.linker import DuckDBLinker"
   ]
  },
  {
   "cell_type": "code",
   "execution_count": 68,
   "metadata": {
    "tags": []
   },
   "outputs": [
    {
     "output_type": "execute_result",
     "data": {
      "text/plain": "'models:/companies_matching_model.json'"
     },
     "metadata": {},
     "execution_count": 68
    }
   ],
   "source": [
    "x = f\"\"\"\n",
    "    models:/\n",
    "    companies_matching_model.json\n",
    "\"\"\"\n",
    "\n",
    "\"\".join(line.strip() for line in x.splitlines())"
   ]
  },
  {
   "cell_type": "code",
   "execution_count": 61,
   "metadata": {},
   "outputs": [],
   "source": [
    "query = 'attribute.status = FINISHED'\n",
    "\n",
    "x = mlflow.search_runs(\n",
    "    experiment_ids=mlflow.get_experiment_by_name(\n",
    "        'Default'\n",
    "    ).experiment_id\n",
    ")"
   ]
  },
  {
   "cell_type": "code",
   "execution_count": 55,
   "metadata": {},
   "outputs": [
    {
     "output_type": "execute_result",
     "data": {
      "text/plain": "0      True\n1     False\n2      True\n3      True\n4     False\n5     False\n6     False\n7     False\n8     False\n9     False\n10    False\n11    False\n12    False\n13    False\n14    False\n15     True\n16     True\n17     True\n18     True\n19     True\n20     True\n21     True\nName: status, dtype: bool"
     },
     "metadata": {},
     "execution_count": 55
    }
   ],
   "source": [
    "x.status == 'FINISHED'"
   ]
  },
  {
   "cell_type": "code",
   "execution_count": 60,
   "metadata": {},
   "outputs": [
    {
     "output_type": "execute_result",
     "data": {
      "text/plain": "'a325a3cb39d443e2a734e128ee7105b7'"
     },
     "metadata": {},
     "execution_count": 60
    }
   ],
   "source": [
    "x[(x.end_time == max(x.end_time)) & (x.status == 'FINISHED')].run_id[0]"
   ]
  },
  {
   "cell_type": "code",
   "execution_count": 46,
   "metadata": {},
   "outputs": [
    {
     "output_type": "execute_result",
     "data": {
      "text/plain": "Index(['run_id', 'experiment_id', 'status', 'artifact_uri', 'start_time',\n       'end_time', 'metrics.metric_1', 'metrics.metric_2', 'metrics.score',\n       'metrics.r2', 'metrics.rmse', 'metrics.mae', 'params.param_1',\n       'params.random_state', 'params.n_estimators', 'params.my',\n       'params.alpha', 'params.l1_ratio', 'tags.git_hash',\n       'tags.mlflow.runName', 'tags.mlflow.source.name', 'tags.mlflow.user',\n       'tags.mlflow.source.type', 'tags.dev', 'tags.mlflow.source.git.commit',\n       'tags.mlflow.note.content', 'tags.sample_tag',\n       'tags.mlflow.log-model.history'],\n      dtype='object')"
     },
     "metadata": {},
     "execution_count": 46
    }
   ],
   "source": [
    "x.columns"
   ]
  },
  {
   "cell_type": "code",
   "execution_count": 32,
   "metadata": {},
   "outputs": [
    {
     "output_type": "execute_result",
     "data": {
      "text/plain": "[<Experiment: artifact_location='mlflow-artifacts:/1', creation_time=1668086999660, experiment_id='1', last_update_time=1668086999660, lifecycle_stage='active', name='fex_v3', tags={}>,\n <Experiment: artifact_location='mlflow-artifacts:/0', creation_time=1667812210812, experiment_id='0', last_update_time=1667812210812, lifecycle_stage='active', name='Default', tags={'mlflow.note.content': 'A place where we can dump tests'}>]"
     },
     "metadata": {},
     "execution_count": 32
    }
   ],
   "source": [
    "[exp for exp in mlflow.search_experiments() where experiment_id]\n",
    "\n",
    "mlflow.get_experiment_by_name"
   ]
  },
  {
   "cell_type": "code",
   "execution_count": 6,
   "metadata": {},
   "outputs": [],
   "source": [
    "input_dir = \"company-matching__06-26-23_11-40-51\"\n",
    "connection = duckdb.connect()\n",
    "data = du.build_alias_path_dict(input_dir)\n",
    "\n",
    "linker = DuckDBLinker(\n",
    "    list(data.values()),\n",
    "    settings_dict=settings,\n",
    "    connection=connection,\n",
    "    input_table_aliases=list(data.keys()),\n",
    ")"
   ]
  },
  {
   "cell_type": "code",
   "execution_count": 27,
   "metadata": {},
   "outputs": [
    {
     "output_type": "execute_result",
     "data": {
      "text/plain": "353960"
     },
     "metadata": {},
     "execution_count": 27
    }
   ],
   "source": [
    "x = duckdb.sql(f\"\"\"\n",
    "    select\n",
    "        count(*)\n",
    "    from\n",
    "        read_parquet({list(data.values())})\n",
    "\"\"\").fetchall()[0][0]\n",
    "\n",
    "x"
   ]
  },
  {
   "cell_type": "code",
   "execution_count": 22,
   "metadata": {
    "tags": []
   },
   "outputs": [
    {
     "output_type": "error",
     "ename": "ParserException",
     "evalue": "Parser Error: syntax error at or near \"table\"\nLINE 5:             table\n                    ^",
     "traceback": [
      "\u001b[0;31m---------------------------------------------------------------------------\u001b[0m",
      "\u001b[0;31mParserException\u001b[0m                           Traceback (most recent call last)",
      "Cell \u001b[0;32mIn[22], line 3\u001b[0m\n\u001b[1;32m      1\u001b[0m \u001b[38;5;28;01mfor\u001b[39;00m table \u001b[38;5;129;01min\u001b[39;00m data\u001b[38;5;241m.\u001b[39mkeys():\n\u001b[1;32m      2\u001b[0m     duckdb\u001b[38;5;241m.\u001b[39mread_parquet(data[table])\n\u001b[0;32m----> 3\u001b[0m     \u001b[43mduckdb\u001b[49m\u001b[38;5;241;43m.\u001b[39;49m\u001b[43msql\u001b[49m\u001b[43m(\u001b[49m\u001b[38;5;124;43mf\u001b[39;49m\u001b[38;5;124;43m\"\"\"\u001b[39;49m\n\u001b[1;32m      4\u001b[0m \u001b[38;5;124;43m        select\u001b[39;49m\n\u001b[1;32m      5\u001b[0m \u001b[38;5;124;43m            count(*)\u001b[39;49m\n\u001b[1;32m      6\u001b[0m \u001b[38;5;124;43m        from\u001b[39;49m\n\u001b[1;32m      7\u001b[0m \u001b[38;5;124;43m            table\u001b[39;49m\n\u001b[1;32m      8\u001b[0m \u001b[38;5;124;43m    \u001b[39;49m\u001b[38;5;124;43m\"\"\"\u001b[39;49m\u001b[43m)\u001b[49m\n",
      "\u001b[0;31mParserException\u001b[0m: Parser Error: syntax error at or near \"table\"\nLINE 5:             table\n                    ^"
     ]
    }
   ],
   "source": [
    "for table in data.keys():\n",
    "    duckdb.read_parquet(data[table])\n",
    "    duckdb.sql(f\"\"\"\n",
    "        select\n",
    "            count(*)\n",
    "        from\n",
    "            table\n",
    "    \"\"\")"
   ]
  },
  {
   "cell_type": "code",
   "execution_count": 87,
   "metadata": {},
   "outputs": [
    {
     "output_type": "error",
     "ename": "AttributeError",
     "evalue": "'CompanyMatchingDatasets' object has no attribute 'logger'",
     "traceback": [
      "\u001b[0;31m---------------------------------------------------------------------------\u001b[0m",
      "\u001b[0;31mAttributeError\u001b[0m                            Traceback (most recent call last)",
      "Cell \u001b[0;32mIn[87], line 2\u001b[0m\n\u001b[1;32m      1\u001b[0m \u001b[38;5;66;03m# logger = logging.getLogger(__name__)\u001b[39;00m\n\u001b[0;32m----> 2\u001b[0m datasets \u001b[38;5;241m=\u001b[39m \u001b[43mCompanyMatchingDatasets\u001b[49m\u001b[43m(\u001b[49m\u001b[43msample\u001b[49m\u001b[38;5;241;43m=\u001b[39;49m\u001b[38;5;241;43m100\u001b[39;49m\u001b[43m)\u001b[49m\n",
      "File \u001b[0;32m~/company_matching/src/data/datasets.py:12\u001b[0m, in \u001b[0;36mCompanyMatchingDatasets.__init__\u001b[0;34m(self, sample)\u001b[0m\n\u001b[1;32m      9\u001b[0m \u001b[38;5;28;01mdef\u001b[39;00m \u001b[38;5;21m__init__\u001b[39m(\u001b[38;5;28mself\u001b[39m, sample: \u001b[38;5;28mint\u001b[39m \u001b[38;5;241m=\u001b[39m \u001b[38;5;28;01mNone\u001b[39;00m):\n\u001b[1;32m     11\u001b[0m     \u001b[38;5;28mself\u001b[39m\u001b[38;5;241m.\u001b[39mdatasets_and_readfuncs \u001b[38;5;241m=\u001b[39m {\n\u001b[0;32m---> 12\u001b[0m         \u001b[38;5;124m'\u001b[39m\u001b[38;5;124m\"\u001b[39m\u001b[38;5;124mcompanieshouse\u001b[39m\u001b[38;5;124m\"\u001b[39m\u001b[38;5;124m.\u001b[39m\u001b[38;5;124m\"\u001b[39m\u001b[38;5;124mcompanies\u001b[39m\u001b[38;5;124m\"\u001b[39m\u001b[38;5;124m'\u001b[39m: \u001b[38;5;28;43mself\u001b[39;49m\u001b[38;5;241;43m.\u001b[39;49m\u001b[43mcomp_house_read\u001b[49m\u001b[43m(\u001b[49m\u001b[43msample\u001b[49m\u001b[43m)\u001b[49m,\n\u001b[1;32m     13\u001b[0m         \u001b[38;5;124m'\u001b[39m\u001b[38;5;124m\"\u001b[39m\u001b[38;5;124mdit\u001b[39m\u001b[38;5;124m\"\u001b[39m\u001b[38;5;124m.\u001b[39m\u001b[38;5;124m\"\u001b[39m\u001b[38;5;124mdata_hub__companies\u001b[39m\u001b[38;5;124m\"\u001b[39m\u001b[38;5;124m'\u001b[39m: \u001b[38;5;28mself\u001b[39m\u001b[38;5;241m.\u001b[39mdata_hub_read(sample),\n\u001b[1;32m     14\u001b[0m         \u001b[38;5;124m'\u001b[39m\u001b[38;5;124m\"\u001b[39m\u001b[38;5;124mhmrc\u001b[39m\u001b[38;5;124m\"\u001b[39m\u001b[38;5;124m.\u001b[39m\u001b[38;5;124m\"\u001b[39m\u001b[38;5;124mtrade__exporters\u001b[39m\u001b[38;5;124m\"\u001b[39m\u001b[38;5;124m'\u001b[39m: \u001b[38;5;28mself\u001b[39m\u001b[38;5;241m.\u001b[39mhmrc_exporters_read(sample),\n\u001b[1;32m     15\u001b[0m         \u001b[38;5;124m'\u001b[39m\u001b[38;5;124m\"\u001b[39m\u001b[38;5;124mdit\u001b[39m\u001b[38;5;124m\"\u001b[39m\u001b[38;5;124m.\u001b[39m\u001b[38;5;124m\"\u001b[39m\u001b[38;5;124mexport_wins__wins_dataset\u001b[39m\u001b[38;5;124m\"\u001b[39m\u001b[38;5;124m'\u001b[39m: \u001b[38;5;28mself\u001b[39m\u001b[38;5;241m.\u001b[39mexport_wins_read(sample),\n\u001b[1;32m     16\u001b[0m     }\n\u001b[1;32m     17\u001b[0m     \u001b[38;5;28mself\u001b[39m\u001b[38;5;241m.\u001b[39mdatasets_and_readfuncs_clean \u001b[38;5;241m=\u001b[39m {}\n\u001b[1;32m     18\u001b[0m     \u001b[38;5;28mself\u001b[39m\u001b[38;5;241m.\u001b[39mconnection \u001b[38;5;241m=\u001b[39m duckdb\u001b[38;5;241m.\u001b[39mconnect()\n",
      "File \u001b[0;32m~/company_matching/src/data/datasets.py:135\u001b[0m, in \u001b[0;36mCompanyMatchingDatasets.comp_house_read\u001b[0;34m(self, sample)\u001b[0m\n\u001b[1;32m    127\u001b[0m query \u001b[38;5;241m=\u001b[39m \u001b[38;5;124mf\u001b[39m\u001b[38;5;124m\"\"\"\u001b[39m\n\u001b[1;32m    128\u001b[0m \u001b[38;5;124m    select \u001b[39m\u001b[38;5;132;01m{\u001b[39;00mcols\u001b[38;5;132;01m}\u001b[39;00m\n\u001b[1;32m    129\u001b[0m \u001b[38;5;124m    from \u001b[39m\u001b[38;5;132;01m{\u001b[39;00mdsname\u001b[38;5;132;01m}\u001b[39;00m\n\u001b[1;32m    130\u001b[0m \u001b[38;5;124m    \u001b[39m\u001b[38;5;132;01m{\u001b[39;00mlimit\u001b[38;5;132;01m}\u001b[39;00m\n\u001b[1;32m    131\u001b[0m \u001b[38;5;124m\u001b[39m\u001b[38;5;124m\"\"\"\u001b[39m\n\u001b[1;32m    133\u001b[0m df_ch \u001b[38;5;241m=\u001b[39m du\u001b[38;5;241m.\u001b[39mquery(sql\u001b[38;5;241m=\u001b[39mquery)\n\u001b[0;32m--> 135\u001b[0m \u001b[38;5;28;43mself\u001b[39;49m\u001b[38;5;241;43m.\u001b[39;49m\u001b[43mlogger\u001b[49m\u001b[38;5;241m.\u001b[39minfo(\n\u001b[1;32m    136\u001b[0m     \u001b[38;5;28mself\u001b[39m\u001b[38;5;241m.\u001b[39m_generate_data_log(\n\u001b[1;32m    137\u001b[0m         df_ch,\n\u001b[1;32m    138\u001b[0m         dsname,\n\u001b[1;32m    139\u001b[0m         sample\n\u001b[1;32m    140\u001b[0m     )\n\u001b[1;32m    141\u001b[0m )\n\u001b[1;32m    143\u001b[0m df_ch_clean \u001b[38;5;241m=\u001b[39m clean_raw_data(df_ch)\n\u001b[1;32m    145\u001b[0m \u001b[38;5;28mself\u001b[39m\u001b[38;5;241m.\u001b[39mlogger\u001b[38;5;241m.\u001b[39minfo(\u001b[38;5;124mf\u001b[39m\u001b[38;5;124m\"\u001b[39m\u001b[38;5;132;01m{\u001b[39;00mdsname\u001b[38;5;132;01m}\u001b[39;00m\u001b[38;5;124m cleaned\u001b[39m\u001b[38;5;124m\"\u001b[39m)\n",
      "\u001b[0;31mAttributeError\u001b[0m: 'CompanyMatchingDatasets' object has no attribute 'logger'"
     ]
    }
   ],
   "source": [
    "# logger = logging.getLogger(__name__)\n",
    "datasets = CompanyMatchingDatasets(sample=100)"
   ]
  },
  {
   "cell_type": "code",
   "execution_count": 62,
   "metadata": {},
   "outputs": [
    {
     "output_type": "execute_result",
     "data": {
      "text/plain": "Index(['unique_id', 'company_number', 'company_name', 'secondary_names',\n       'postcode'],\n      dtype='object')"
     },
     "metadata": {},
     "execution_count": 62
    },
    {
     "output_type": "execute_result",
     "data": {
      "text/plain": "Index(['unique_id', 'company_number', 'company_name', 'secondary_names',\n       'postcode'],\n      dtype='object')"
     },
     "metadata": {},
     "execution_count": 62
    },
    {
     "output_type": "execute_result",
     "data": {
      "text/plain": "Index(['unique_id', 'company_number', 'company_name', 'secondary_names',\n       'postcode'],\n      dtype='object')"
     },
     "metadata": {},
     "execution_count": 62
    },
    {
     "output_type": "execute_result",
     "data": {
      "text/plain": "Index(['unique_id', 'company_number', 'company_name', 'secondary_names',\n       'postcode'],\n      dtype='object')"
     },
     "metadata": {},
     "execution_count": 62
    }
   ],
   "source": [
    "datasets.datasets_and_readfuncs_clean['companieshouse_companies'].columns\n",
    "datasets.datasets_and_readfuncs_clean['dit_data_hub__companies'].columns\n",
    "datasets.datasets_and_readfuncs_clean['hmrc_trade__exporters'].columns\n",
    "datasets.datasets_and_readfuncs_clean['dit_export_wins__wins_dataset'].columns"
   ]
  },
  {
   "cell_type": "code",
   "execution_count": 74,
   "metadata": {
    "tags": []
   },
   "outputs": [
    {
     "output_type": "stream",
     "name": "stderr",
     "text": "Probability two random records match is estimated to be  3.58e-05.\nThis means that amongst all possible pairwise record comparisons, one in 27,930.00 are expected to match.  With 79,800 total possible comparisons, we expect a total of around 2.86 matching pairs\n"
    }
   ],
   "source": [
    "# linker = DuckDBLinker(\n",
    "#     list(datasets.datasets_and_readfuncs_clean.keys()),\n",
    "#     settings_dict = settings,\n",
    "#     connection = datasets.connection\n",
    "# )\n",
    "linker = datasets.linker(settings)\n",
    "linker.estimate_probability_two_random_records_match(\n",
    "    \"l.name_unusual_tokens = r.name_unusual_tokens\",\n",
    "    recall=0.7,\n",
    ")"
   ]
  },
  {
   "cell_type": "code",
   "execution_count": 10,
   "metadata": {},
   "outputs": [
    {
     "output_type": "execute_result",
     "data": {
      "text/plain": "pandas.core.frame.DataFrame"
     },
     "metadata": {},
     "execution_count": 10
    }
   ],
   "source": [
    "datasets.data[0].__class__"
   ]
  },
  {
   "cell_type": "code",
   "execution_count": 12,
   "metadata": {},
   "outputs": [
    {
     "output_type": "execute_result",
     "data": {
      "text/plain": "['self.companieshouse_companies',\n 'self.dit_data_hub__companies',\n 'self.hmrc_trade__exporters',\n 'self.dit_export_wins__wins_dataset']"
     },
     "metadata": {},
     "execution_count": 12
    }
   ],
   "source": [
    "datasets.alias"
   ]
  },
  {
   "cell_type": "code",
   "execution_count": 15,
   "metadata": {},
   "outputs": [
    {
     "output_type": "execute_result",
     "data": {
      "text/plain": "  unique_id company_number                 company_name      secondary_names  \\\n0  08230106       08230106  BOURNE HILL STABLES LIMITED  [TEN DELTA LIMITED]   \n\n  company_status account_category address_line_1 address_line_2 post_town  \\\n0         Active     MICRO ENTITY   9 CHEAM ROAD                    EPSOM   \n\n  county  country  postcode  \\\n0         ENGLAND  KT17 1SP   \n\n                                          sic_code_1 sic_code_2 sic_code_3  \\\n0  01629 - Support activities for animal producti...                         \n\n  sic_code_4  \n0             ",
      "text/html": "<div>\n<style scoped>\n    .dataframe tbody tr th:only-of-type {\n        vertical-align: middle;\n    }\n\n    .dataframe tbody tr th {\n        vertical-align: top;\n    }\n\n    .dataframe thead th {\n        text-align: right;\n    }\n</style>\n<table border=\"1\" class=\"dataframe\">\n  <thead>\n    <tr style=\"text-align: right;\">\n      <th></th>\n      <th>unique_id</th>\n      <th>company_number</th>\n      <th>company_name</th>\n      <th>secondary_names</th>\n      <th>company_status</th>\n      <th>account_category</th>\n      <th>address_line_1</th>\n      <th>address_line_2</th>\n      <th>post_town</th>\n      <th>county</th>\n      <th>country</th>\n      <th>postcode</th>\n      <th>sic_code_1</th>\n      <th>sic_code_2</th>\n      <th>sic_code_3</th>\n      <th>sic_code_4</th>\n    </tr>\n  </thead>\n  <tbody>\n    <tr>\n      <th>0</th>\n      <td>08230106</td>\n      <td>08230106</td>\n      <td>BOURNE HILL STABLES LIMITED</td>\n      <td>[TEN DELTA LIMITED]</td>\n      <td>Active</td>\n      <td>MICRO ENTITY</td>\n      <td>9 CHEAM ROAD</td>\n      <td></td>\n      <td>EPSOM</td>\n      <td></td>\n      <td>ENGLAND</td>\n      <td>KT17 1SP</td>\n      <td>01629 - Support activities for animal producti...</td>\n      <td></td>\n      <td></td>\n      <td></td>\n    </tr>\n  </tbody>\n</table>\n</div>"
     },
     "metadata": {},
     "execution_count": 15
    }
   ],
   "source": [
    "datasets.companieshouse_companies.head(1)"
   ]
  },
  {
   "cell_type": "code",
   "execution_count": 16,
   "metadata": {},
   "outputs": [
    {
     "output_type": "error",
     "ename": "CatalogException",
     "evalue": "Catalog Error: Table with name companieshouse_companies does not exist!\nDid you mean \"temp.information_schema.columns\"?",
     "traceback": [
      "\u001b[0;31m---------------------------------------------------------------------------\u001b[0m",
      "\u001b[0;31mCatalogException\u001b[0m                          Traceback (most recent call last)",
      "Cell \u001b[0;32mIn[16], line 1\u001b[0m\n\u001b[0;32m----> 1\u001b[0m \u001b[43mduckdb\u001b[49m\u001b[38;5;241;43m.\u001b[39;49m\u001b[43msql\u001b[49m\u001b[43m(\u001b[49m\u001b[38;5;124;43m\"\"\"\u001b[39;49m\n\u001b[1;32m      2\u001b[0m \u001b[38;5;124;43m    select\u001b[39;49m\n\u001b[1;32m      3\u001b[0m \u001b[38;5;124;43m        *\u001b[39;49m\n\u001b[1;32m      4\u001b[0m \u001b[38;5;124;43m    from\u001b[39;49m\n\u001b[1;32m      5\u001b[0m \u001b[38;5;124;43m        datasets.companieshouse_companies\u001b[39;49m\n\u001b[1;32m      6\u001b[0m \u001b[38;5;124;43m    limit 1\u001b[39;49m\n\u001b[1;32m      7\u001b[0m \u001b[38;5;124;43m\"\"\"\u001b[39;49m\u001b[43m)\u001b[49m\n",
      "\u001b[0;31mCatalogException\u001b[0m: Catalog Error: Table with name companieshouse_companies does not exist!\nDid you mean \"temp.information_schema.columns\"?"
     ]
    }
   ],
   "source": [
    "duckdb.sql(\"\"\"\n",
    "    select\n",
    "        *\n",
    "    from\n",
    "        datasets.companieshouse_companies\n",
    "    limit 1\n",
    "\"\"\")"
   ]
  },
  {
   "cell_type": "code",
   "execution_count": 40,
   "metadata": {},
   "outputs": [],
   "source": [
    "con = duckdb.connect()"
   ]
  },
  {
   "cell_type": "code",
   "execution_count": 52,
   "metadata": {},
   "outputs": [
    {
     "output_type": "execute_result",
     "data": {
      "text/plain": "<duckdb.DuckDBPyConnection at 0x7fb784012130>"
     },
     "metadata": {},
     "execution_count": 52
    },
    {
     "output_type": "execute_result",
     "data": {
      "text/plain": "<duckdb.DuckDBPyConnection at 0x7fb784012130>"
     },
     "metadata": {},
     "execution_count": 52
    },
    {
     "output_type": "execute_result",
     "data": {
      "text/plain": "<duckdb.DuckDBPyConnection at 0x7fb784012130>"
     },
     "metadata": {},
     "execution_count": 52
    },
    {
     "output_type": "execute_result",
     "data": {
      "text/plain": "<duckdb.DuckDBPyConnection at 0x7fb784012130>"
     },
     "metadata": {},
     "execution_count": 52
    }
   ],
   "source": [
    "# Load data\n",
    "datasets = CompanyMatchingDatasets(sample=100)\n",
    "\n",
    "# Instantiate linker\n",
    "# linker = datasets.linker(settings)\n",
    "\n",
    "table_names = []\n",
    "for table in datasets.datasets_and_readfuncs_clean:\n",
    "    # table_names.append(f\"{table}\")\n",
    "    con.register(\n",
    "        f\"{table}\", \n",
    "        datasets.datasets_and_readfuncs_clean[table]\n",
    "    )\n"
   ]
  },
  {
   "cell_type": "code",
   "execution_count": 53,
   "metadata": {},
   "outputs": [
    {
     "output_type": "execute_result",
     "data": {
      "text/plain": "['companieshouse_companies',\n 'dit_data_hub__companies',\n 'hmrc_trade__exporters',\n 'dit_export_wins__wins_dataset']"
     },
     "metadata": {},
     "execution_count": 53
    }
   ],
   "source": [
    "list(datasets.datasets_and_readfuncs_clean.keys())"
   ]
  },
  {
   "cell_type": "code",
   "execution_count": 54,
   "metadata": {
    "tags": []
   },
   "outputs": [],
   "source": [
    "# Instantiate linker\n",
    "linker = DuckDBLinker(\n",
    "    list(datasets.datasets_and_readfuncs_clean.keys()),\n",
    "    settings_dict = settings,\n",
    "    connection = con\n",
    ")"
   ]
  },
  {
   "cell_type": "code",
   "execution_count": 56,
   "metadata": {},
   "outputs": [
    {
     "output_type": "error",
     "ename": "SplinkException",
     "evalue": "Error executing the following sql for table `__splink__df_count_cumulative_blocks`(__splink__df_count_cumulative_blocks_4c42918e5):\nCREATE TABLE __splink__df_count_cumulative_blocks_4c42918e5 AS\n(\n  WITH __splink__df_concat AS (\n    SELECT\n      *\n    FROM __splink__df_concat_9f1d2ff43\n  ), __splink__df_blocked_data AS (\n    SELECT\n      \"l\".\"source_dataset\" AS \"source_dataset_l\",\n      \"r\".\"source_dataset\" AS \"source_dataset_r\",\n      \"l\".\"unique_id\" AS \"unique_id_l\",\n      \"r\".\"unique_id\" AS \"unique_id_r\",\n      \"l\".\"comp_num_clean\" AS \"comp_num_clean_l\",\n      \"r\".\"comp_num_clean\" AS \"comp_num_clean_r\",\n      \"l\".\"name_unusual_tokens\" AS \"name_unusual_tokens_l\",\n      \"r\".\"name_unusual_tokens\" AS \"name_unusual_tokens_r\",\n      \"l\".\"postcode\" AS \"postcode_l\",\n      \"r\".\"postcode\" AS \"postcode_r\",\n      \"l\".\"secondary_name_unusual_tokens\" AS \"secondary_name_unusual_tokens_l\",\n      \"r\".\"secondary_name_unusual_tokens\" AS \"secondary_name_unusual_tokens_r\",\n      '0' AS match_key\n    FROM __splink__df_concat AS l\n    INNER JOIN __splink__df_concat AS r\n      ON l.name_unusual_tokens = r.name_unusual_tokens\n    WHERE\n      l.\"source_dataset\" || '-__-' || l.\"unique_id\" < r.\"source_dataset\" || '-__-' || r.\"unique_id\"\n  )\n  SELECT\n    COUNT(*) AS row_count,\n    match_key\n  FROM __splink__df_blocked_data\n  GROUP BY\n    match_key\n  ORDER BY\n    CAST(match_key AS INT)\n)\n\nError was: Binder Error: Values list \"l\" does not have a column named \"name_unusual_tokens\"",
     "traceback": [
      "\u001b[0;31m---------------------------------------------------------------------------\u001b[0m",
      "\u001b[0;31mBinderException\u001b[0m                           Traceback (most recent call last)",
      "File \u001b[0;32m/opt/conda/envs/company_matching/lib/python3.9/site-packages/splink/linker.py:637\u001b[0m, in \u001b[0;36mLinker._log_and_run_sql_execution\u001b[0;34m(self, final_sql, templated_name, physical_name)\u001b[0m\n\u001b[1;32m    636\u001b[0m \u001b[38;5;28;01mtry\u001b[39;00m:\n\u001b[0;32m--> 637\u001b[0m     \u001b[38;5;28;01mreturn\u001b[39;00m \u001b[38;5;28;43mself\u001b[39;49m\u001b[38;5;241;43m.\u001b[39;49m\u001b[43m_run_sql_execution\u001b[49m\u001b[43m(\u001b[49m\u001b[43mfinal_sql\u001b[49m\u001b[43m,\u001b[49m\u001b[43m \u001b[49m\u001b[43mtemplated_name\u001b[49m\u001b[43m,\u001b[49m\u001b[43m \u001b[49m\u001b[43mphysical_name\u001b[49m\u001b[43m)\u001b[49m\n\u001b[1;32m    638\u001b[0m \u001b[38;5;28;01mexcept\u001b[39;00m \u001b[38;5;167;01mException\u001b[39;00m \u001b[38;5;28;01mas\u001b[39;00m e:\n\u001b[1;32m    639\u001b[0m     \u001b[38;5;66;03m# Parse our SQL through sqlglot to pretty print\u001b[39;00m\n",
      "File \u001b[0;32m/opt/conda/envs/company_matching/lib/python3.9/site-packages/splink/duckdb/linker.py:221\u001b[0m, in \u001b[0;36mDuckDBLinker._run_sql_execution\u001b[0;34m(self, final_sql, templated_name, physical_name)\u001b[0m\n\u001b[1;32m    220\u001b[0m \u001b[38;5;28;01mdef\u001b[39;00m \u001b[38;5;21m_run_sql_execution\u001b[39m(\u001b[38;5;28mself\u001b[39m, final_sql, templated_name, physical_name):\n\u001b[0;32m--> 221\u001b[0m     \u001b[38;5;28;43mself\u001b[39;49m\u001b[38;5;241;43m.\u001b[39;49m\u001b[43m_con\u001b[49m\u001b[38;5;241;43m.\u001b[39;49m\u001b[43mexecute\u001b[49m\u001b[43m(\u001b[49m\u001b[43mfinal_sql\u001b[49m\u001b[43m)\u001b[49m\n",
      "\u001b[0;31mBinderException\u001b[0m: Binder Error: Values list \"l\" does not have a column named \"name_unusual_tokens\"",
      "\nThe above exception was the direct cause of the following exception:\n",
      "\u001b[0;31mSplinkException\u001b[0m                           Traceback (most recent call last)",
      "Cell \u001b[0;32mIn[56], line 1\u001b[0m\n\u001b[0;32m----> 1\u001b[0m \u001b[43mlinker\u001b[49m\u001b[38;5;241;43m.\u001b[39;49m\u001b[43mestimate_probability_two_random_records_match\u001b[49m\u001b[43m(\u001b[49m\n\u001b[1;32m      2\u001b[0m \u001b[43m    \u001b[49m\u001b[38;5;124;43m\"\u001b[39;49m\u001b[38;5;124;43ml.name_unusual_tokens = r.name_unusual_tokens\u001b[39;49m\u001b[38;5;124;43m\"\u001b[39;49m\u001b[43m,\u001b[49m\n\u001b[1;32m      3\u001b[0m \u001b[43m    \u001b[49m\u001b[43mrecall\u001b[49m\u001b[38;5;241;43m=\u001b[39;49m\u001b[38;5;241;43m0.7\u001b[39;49m\u001b[43m,\u001b[49m\n\u001b[1;32m      4\u001b[0m \u001b[43m)\u001b[49m\n",
      "File \u001b[0;32m/opt/conda/envs/company_matching/lib/python3.9/site-packages/splink/linker.py:3088\u001b[0m, in \u001b[0;36mLinker.estimate_probability_two_random_records_match\u001b[0;34m(self, deterministic_matching_rules, recall)\u001b[0m\n\u001b[1;32m   3085\u001b[0m \u001b[38;5;28;01mif\u001b[39;00m \u001b[38;5;28misinstance\u001b[39m(deterministic_matching_rules, \u001b[38;5;28mstr\u001b[39m):\n\u001b[1;32m   3086\u001b[0m     deterministic_matching_rules \u001b[38;5;241m=\u001b[39m [deterministic_matching_rules]\n\u001b[0;32m-> 3088\u001b[0m records \u001b[38;5;241m=\u001b[39m \u001b[43mcumulative_comparisons_generated_by_blocking_rules\u001b[49m\u001b[43m(\u001b[49m\n\u001b[1;32m   3089\u001b[0m \u001b[43m    \u001b[49m\u001b[38;5;28;43mself\u001b[39;49m\u001b[43m,\u001b[49m\n\u001b[1;32m   3090\u001b[0m \u001b[43m    \u001b[49m\u001b[43mdeterministic_matching_rules\u001b[49m\u001b[43m,\u001b[49m\n\u001b[1;32m   3091\u001b[0m \u001b[43m\u001b[49m\u001b[43m)\u001b[49m\n\u001b[1;32m   3093\u001b[0m summary_record \u001b[38;5;241m=\u001b[39m records[\u001b[38;5;241m-\u001b[39m\u001b[38;5;241m1\u001b[39m]\n\u001b[1;32m   3094\u001b[0m num_observed_matches \u001b[38;5;241m=\u001b[39m summary_record[\u001b[38;5;124m\"\u001b[39m\u001b[38;5;124mcumulative_rows\u001b[39m\u001b[38;5;124m\"\u001b[39m]\n",
      "File \u001b[0;32m/opt/conda/envs/company_matching/lib/python3.9/site-packages/splink/analyse_blocking.py:100\u001b[0m, in \u001b[0;36mcumulative_comparisons_generated_by_blocking_rules\u001b[0;34m(linker, blocking_rules, output_chart)\u001b[0m\n\u001b[1;32m     91\u001b[0m sql \u001b[38;5;241m=\u001b[39m \u001b[38;5;124m\"\"\"\u001b[39m\n\u001b[1;32m     92\u001b[0m \u001b[38;5;124m    select\u001b[39m\n\u001b[1;32m     93\u001b[0m \u001b[38;5;124m    count(*) as row_count,\u001b[39m\n\u001b[0;32m   (...)\u001b[0m\n\u001b[1;32m     97\u001b[0m \u001b[38;5;124m    order by cast(match_key as int) asc\u001b[39m\n\u001b[1;32m     98\u001b[0m \u001b[38;5;124m\u001b[39m\u001b[38;5;124m\"\"\"\u001b[39m\n\u001b[1;32m     99\u001b[0m linker\u001b[38;5;241m.\u001b[39m_enqueue_sql(sql, \u001b[38;5;124m\"\u001b[39m\u001b[38;5;124m__splink__df_count_cumulative_blocks\u001b[39m\u001b[38;5;124m\"\u001b[39m)\n\u001b[0;32m--> 100\u001b[0m cumulative_blocking_rule_count \u001b[38;5;241m=\u001b[39m \u001b[43mlinker\u001b[49m\u001b[38;5;241;43m.\u001b[39;49m\u001b[43m_execute_sql_pipeline\u001b[49m\u001b[43m(\u001b[49m\u001b[43m[\u001b[49m\u001b[43mconcat\u001b[49m\u001b[43m]\u001b[49m\u001b[43m)\u001b[49m\n\u001b[1;32m    101\u001b[0m br_n \u001b[38;5;241m=\u001b[39m cumulative_blocking_rule_count\u001b[38;5;241m.\u001b[39mas_pandas_dataframe()\n\u001b[1;32m    102\u001b[0m cumulative_blocking_rule_count\u001b[38;5;241m.\u001b[39mdrop_table_from_database()\n",
      "File \u001b[0;32m/opt/conda/envs/company_matching/lib/python3.9/site-packages/splink/linker.py:579\u001b[0m, in \u001b[0;36mLinker._execute_sql_pipeline\u001b[0;34m(self, input_dataframes, materialise_as_hash, use_cache)\u001b[0m\n\u001b[1;32m    572\u001b[0m     dataframe \u001b[38;5;241m=\u001b[39m \u001b[38;5;28mself\u001b[39m\u001b[38;5;241m.\u001b[39m_sql_to_splink_dataframe_checking_cache(\n\u001b[1;32m    573\u001b[0m         sql_gen,\n\u001b[1;32m    574\u001b[0m         output_tablename_templated,\n\u001b[1;32m    575\u001b[0m         materialise_as_hash,\n\u001b[1;32m    576\u001b[0m         use_cache,\n\u001b[1;32m    577\u001b[0m     )\n\u001b[1;32m    578\u001b[0m \u001b[38;5;28;01mexcept\u001b[39;00m \u001b[38;5;167;01mException\u001b[39;00m \u001b[38;5;28;01mas\u001b[39;00m e:\n\u001b[0;32m--> 579\u001b[0m     \u001b[38;5;28;01mraise\u001b[39;00m e\n\u001b[1;32m    580\u001b[0m \u001b[38;5;28;01mfinally\u001b[39;00m:\n\u001b[1;32m    581\u001b[0m     \u001b[38;5;28mself\u001b[39m\u001b[38;5;241m.\u001b[39m_pipeline\u001b[38;5;241m.\u001b[39mreset()\n",
      "File \u001b[0;32m/opt/conda/envs/company_matching/lib/python3.9/site-packages/splink/linker.py:572\u001b[0m, in \u001b[0;36mLinker._execute_sql_pipeline\u001b[0;34m(self, input_dataframes, materialise_as_hash, use_cache)\u001b[0m\n\u001b[1;32m    569\u001b[0m output_tablename_templated \u001b[38;5;241m=\u001b[39m \u001b[38;5;28mself\u001b[39m\u001b[38;5;241m.\u001b[39m_pipeline\u001b[38;5;241m.\u001b[39mqueue[\u001b[38;5;241m-\u001b[39m\u001b[38;5;241m1\u001b[39m]\u001b[38;5;241m.\u001b[39moutput_table_name\n\u001b[1;32m    571\u001b[0m \u001b[38;5;28;01mtry\u001b[39;00m:\n\u001b[0;32m--> 572\u001b[0m     dataframe \u001b[38;5;241m=\u001b[39m \u001b[38;5;28;43mself\u001b[39;49m\u001b[38;5;241;43m.\u001b[39;49m\u001b[43m_sql_to_splink_dataframe_checking_cache\u001b[49m\u001b[43m(\u001b[49m\n\u001b[1;32m    573\u001b[0m \u001b[43m        \u001b[49m\u001b[43msql_gen\u001b[49m\u001b[43m,\u001b[49m\n\u001b[1;32m    574\u001b[0m \u001b[43m        \u001b[49m\u001b[43moutput_tablename_templated\u001b[49m\u001b[43m,\u001b[49m\n\u001b[1;32m    575\u001b[0m \u001b[43m        \u001b[49m\u001b[43mmaterialise_as_hash\u001b[49m\u001b[43m,\u001b[49m\n\u001b[1;32m    576\u001b[0m \u001b[43m        \u001b[49m\u001b[43muse_cache\u001b[49m\u001b[43m,\u001b[49m\n\u001b[1;32m    577\u001b[0m \u001b[43m    \u001b[49m\u001b[43m)\u001b[49m\n\u001b[1;32m    578\u001b[0m \u001b[38;5;28;01mexcept\u001b[39;00m \u001b[38;5;167;01mException\u001b[39;00m \u001b[38;5;28;01mas\u001b[39;00m e:\n\u001b[1;32m    579\u001b[0m     \u001b[38;5;28;01mraise\u001b[39;00m e\n",
      "File \u001b[0;32m/opt/conda/envs/company_matching/lib/python3.9/site-packages/splink/linker.py:809\u001b[0m, in \u001b[0;36mLinker._sql_to_splink_dataframe_checking_cache\u001b[0;34m(self, sql, output_tablename_templated, materialise_as_hash, use_cache)\u001b[0m\n\u001b[1;32m    806\u001b[0m     \u001b[38;5;28mprint\u001b[39m(sql)\n\u001b[1;32m    808\u001b[0m \u001b[38;5;28;01mif\u001b[39;00m materialise_as_hash:\n\u001b[0;32m--> 809\u001b[0m     splink_dataframe \u001b[38;5;241m=\u001b[39m \u001b[38;5;28;43mself\u001b[39;49m\u001b[38;5;241;43m.\u001b[39;49m\u001b[43m_execute_sql_against_backend\u001b[49m\u001b[43m(\u001b[49m\n\u001b[1;32m    810\u001b[0m \u001b[43m        \u001b[49m\u001b[43msql\u001b[49m\u001b[43m,\u001b[49m\u001b[43m \u001b[49m\u001b[43moutput_tablename_templated\u001b[49m\u001b[43m,\u001b[49m\u001b[43m \u001b[49m\u001b[43mtable_name_hash\u001b[49m\n\u001b[1;32m    811\u001b[0m \u001b[43m    \u001b[49m\u001b[43m)\u001b[49m\n\u001b[1;32m    812\u001b[0m \u001b[38;5;28;01melse\u001b[39;00m:\n\u001b[1;32m    813\u001b[0m     splink_dataframe \u001b[38;5;241m=\u001b[39m \u001b[38;5;28mself\u001b[39m\u001b[38;5;241m.\u001b[39m_execute_sql_against_backend(\n\u001b[1;32m    814\u001b[0m         sql,\n\u001b[1;32m    815\u001b[0m         output_tablename_templated,\n\u001b[1;32m    816\u001b[0m         output_tablename_templated,\n\u001b[1;32m    817\u001b[0m     )\n",
      "File \u001b[0;32m/opt/conda/envs/company_matching/lib/python3.9/site-packages/splink/duckdb/linker.py:216\u001b[0m, in \u001b[0;36mDuckDBLinker._execute_sql_against_backend\u001b[0;34m(self, sql, templated_name, physical_name)\u001b[0m\n\u001b[1;32m    209\u001b[0m \u001b[38;5;28mself\u001b[39m\u001b[38;5;241m.\u001b[39m_delete_table_from_database(physical_name)\n\u001b[1;32m    211\u001b[0m sql \u001b[38;5;241m=\u001b[39m \u001b[38;5;124mf\u001b[39m\u001b[38;5;124m\"\"\"\u001b[39m\n\u001b[1;32m    212\u001b[0m \u001b[38;5;124mCREATE TABLE \u001b[39m\u001b[38;5;132;01m{\u001b[39;00mphysical_name\u001b[38;5;132;01m}\u001b[39;00m\n\u001b[1;32m    213\u001b[0m \u001b[38;5;124mAS\u001b[39m\n\u001b[1;32m    214\u001b[0m \u001b[38;5;124m(\u001b[39m\u001b[38;5;132;01m{\u001b[39;00msql\u001b[38;5;132;01m}\u001b[39;00m\u001b[38;5;124m)\u001b[39m\n\u001b[1;32m    215\u001b[0m \u001b[38;5;124m\u001b[39m\u001b[38;5;124m\"\"\"\u001b[39m\n\u001b[0;32m--> 216\u001b[0m \u001b[38;5;28;43mself\u001b[39;49m\u001b[38;5;241;43m.\u001b[39;49m\u001b[43m_log_and_run_sql_execution\u001b[49m\u001b[43m(\u001b[49m\u001b[43msql\u001b[49m\u001b[43m,\u001b[49m\u001b[43m \u001b[49m\u001b[43mtemplated_name\u001b[49m\u001b[43m,\u001b[49m\u001b[43m \u001b[49m\u001b[43mphysical_name\u001b[49m\u001b[43m)\u001b[49m\n\u001b[1;32m    218\u001b[0m \u001b[38;5;28;01mreturn\u001b[39;00m DuckDBLinkerDataFrame(templated_name, physical_name, \u001b[38;5;28mself\u001b[39m)\n",
      "File \u001b[0;32m/opt/conda/envs/company_matching/lib/python3.9/site-packages/splink/linker.py:649\u001b[0m, in \u001b[0;36mLinker._log_and_run_sql_execution\u001b[0;34m(self, final_sql, templated_name, physical_name)\u001b[0m\n\u001b[1;32m    646\u001b[0m \u001b[38;5;28;01mexcept\u001b[39;00m \u001b[38;5;167;01mException\u001b[39;00m:\n\u001b[1;32m    647\u001b[0m     \u001b[38;5;28;01mpass\u001b[39;00m\n\u001b[0;32m--> 649\u001b[0m \u001b[38;5;28;01mraise\u001b[39;00m SplinkException(\n\u001b[1;32m    650\u001b[0m     \u001b[38;5;124mf\u001b[39m\u001b[38;5;124m\"\u001b[39m\u001b[38;5;124mError executing the following sql for table \u001b[39m\u001b[38;5;124m\"\u001b[39m\n\u001b[1;32m    651\u001b[0m     \u001b[38;5;124mf\u001b[39m\u001b[38;5;124m\"\u001b[39m\u001b[38;5;124m`\u001b[39m\u001b[38;5;132;01m{\u001b[39;00mtemplated_name\u001b[38;5;132;01m}\u001b[39;00m\u001b[38;5;124m`(\u001b[39m\u001b[38;5;132;01m{\u001b[39;00mphysical_name\u001b[38;5;132;01m}\u001b[39;00m\u001b[38;5;124m):\u001b[39m\u001b[38;5;130;01m\\n\u001b[39;00m\u001b[38;5;132;01m{\u001b[39;00mfinal_sql\u001b[38;5;132;01m}\u001b[39;00m\u001b[38;5;124m\"\u001b[39m\n\u001b[1;32m    652\u001b[0m     \u001b[38;5;124mf\u001b[39m\u001b[38;5;124m\"\u001b[39m\u001b[38;5;130;01m\\n\u001b[39;00m\u001b[38;5;130;01m\\n\u001b[39;00m\u001b[38;5;124mError was: \u001b[39m\u001b[38;5;132;01m{\u001b[39;00me\u001b[38;5;132;01m}\u001b[39;00m\u001b[38;5;124m\"\u001b[39m\n\u001b[1;32m    653\u001b[0m ) \u001b[38;5;28;01mfrom\u001b[39;00m \u001b[38;5;21;01me\u001b[39;00m\n",
      "\u001b[0;31mSplinkException\u001b[0m: Error executing the following sql for table `__splink__df_count_cumulative_blocks`(__splink__df_count_cumulative_blocks_4c42918e5):\nCREATE TABLE __splink__df_count_cumulative_blocks_4c42918e5 AS\n(\n  WITH __splink__df_concat AS (\n    SELECT\n      *\n    FROM __splink__df_concat_9f1d2ff43\n  ), __splink__df_blocked_data AS (\n    SELECT\n      \"l\".\"source_dataset\" AS \"source_dataset_l\",\n      \"r\".\"source_dataset\" AS \"source_dataset_r\",\n      \"l\".\"unique_id\" AS \"unique_id_l\",\n      \"r\".\"unique_id\" AS \"unique_id_r\",\n      \"l\".\"comp_num_clean\" AS \"comp_num_clean_l\",\n      \"r\".\"comp_num_clean\" AS \"comp_num_clean_r\",\n      \"l\".\"name_unusual_tokens\" AS \"name_unusual_tokens_l\",\n      \"r\".\"name_unusual_tokens\" AS \"name_unusual_tokens_r\",\n      \"l\".\"postcode\" AS \"postcode_l\",\n      \"r\".\"postcode\" AS \"postcode_r\",\n      \"l\".\"secondary_name_unusual_tokens\" AS \"secondary_name_unusual_tokens_l\",\n      \"r\".\"secondary_name_unusual_tokens\" AS \"secondary_name_unusual_tokens_r\",\n      '0' AS match_key\n    FROM __splink__df_concat AS l\n    INNER JOIN __splink__df_concat AS r\n      ON l.name_unusual_tokens = r.name_unusual_tokens\n    WHERE\n      l.\"source_dataset\" || '-__-' || l.\"unique_id\" < r.\"source_dataset\" || '-__-' || r.\"unique_id\"\n  )\n  SELECT\n    COUNT(*) AS row_count,\n    match_key\n  FROM __splink__df_blocked_data\n  GROUP BY\n    match_key\n  ORDER BY\n    CAST(match_key AS INT)\n)\n\nError was: Binder Error: Values list \"l\" does not have a column named \"name_unusual_tokens\""
     ]
    }
   ],
   "source": [
    "linker.estimate_probability_two_random_records_match(\n",
    "    \"l.name_unusual_tokens = r.name_unusual_tokens\",\n",
    "    recall=0.7,\n",
    ")"
   ]
  },
  {
   "cell_type": "code",
   "execution_count": 57,
   "metadata": {},
   "outputs": [
    {
     "output_type": "execute_result",
     "data": {
      "text/plain": "<duckdb.DuckDBPyConnection at 0x7fb784012130>"
     },
     "metadata": {},
     "execution_count": 57
    }
   ],
   "source": [
    "con.execute(\"\"\"\n",
    "    select\n",
    "        *\n",
    "    from\n",
    "        companieshouse_companies\n",
    "    limit 1\n",
    "\"\"\")\n"
   ]
  },
  {
   "cell_type": "code",
   "execution_count": 33,
   "metadata": {},
   "outputs": [
    {
     "output_type": "execute_result",
     "data": {
      "text/plain": "┌───────────┬────────────────┬──────────────────────┬─────────────────┬───┬────────────┬────────────┬────────────┐\n│ unique_id │ company_number │     company_name     │ secondary_names │ … │ sic_code_2 │ sic_code_3 │ sic_code_4 │\n│  varchar  │    varchar     │       varchar        │    varchar[]    │   │  varchar   │  varchar   │  varchar   │\n├───────────┼────────────────┼──────────────────────┼─────────────────┼───┼────────────┼────────────┼────────────┤\n│ 03232349  │ 03232349       │ CLASSIC MARQUEES L…  │ []              │ … │            │            │            │\n├───────────┴────────────────┴──────────────────────┴─────────────────┴───┴────────────┴────────────┴────────────┤\n│ 1 rows                                                                                    16 columns (7 shown) │\n└────────────────────────────────────────────────────────────────────────────────────────────────────────────────┘"
     },
     "metadata": {},
     "execution_count": 33
    }
   ],
   "source": [
    "duckdb.sql(f\"\"\"\n",
    "    select\n",
    "        *\n",
    "    from\n",
    "        {table_names[0]}\n",
    "    limit 1\n",
    "\"\"\")"
   ]
  }
 ]
}