{
 "metadata": {
  "language_info": {
   "codemirror_mode": {
    "name": "ipython",
    "version": 3
   },
   "file_extension": ".py",
   "mimetype": "text/x-python",
   "name": "python",
   "nbconvert_exporter": "python",
   "pygments_lexer": "ipython3",
   "version": "3.9.16-final"
  },
  "orig_nbformat": 2,
  "kernelspec": {
   "name": "python_defaultSpec_1687881882472",
   "display_name": "Python 3.9.16 64-bit ('company_matching': conda)"
  }
 },
 "nbformat": 4,
 "nbformat_minor": 2,
 "cells": [
  {
   "cell_type": "code",
   "execution_count": 1,
   "metadata": {},
   "outputs": [],
   "source": [
    "%load_ext autoreload\n",
    "%autoreload 2\n",
    "from IPython.core.interactiveshell import InteractiveShell\n",
    "from IPython.display import IFrame\n",
    "InteractiveShell.ast_node_interactivity = \"all\""
   ]
  },
  {
   "cell_type": "code",
   "execution_count": 1,
   "metadata": {
    "tags": []
   },
   "outputs": [
    {
     "output_type": "stream",
     "name": "stderr",
     "text": "/opt/conda/envs/company_matching/lib/python3.9/site-packages/splink/postgres/comparison_template_library.py:9: DeprecationWarning: The 'warn' method is deprecated, use 'warning' instead\n  logger.warn(\nThe Comparison Template Library is not currently implemented for Postgres due to limited string matching capability in `cll.comparison_level_library`\n"
    }
   ],
   "source": [
    "from splink.postgres.linker import PostgresLinker\n",
    "import splink.postgres.comparison_library as cl\n",
    "import splink.postgres.comparison_template_library as ctl\n"
   ]
  },
  {
   "source": [
    "In short -- key matching techniques (Jaro-Winkler) aren't implemented in PostgreSQL. This isn't a goer"
   ],
   "cell_type": "markdown",
   "metadata": {}
  },
  {
   "cell_type": "code",
   "execution_count": 2,
   "metadata": {},
   "outputs": [
    {
     "output_type": "error",
     "ename": "AttributeError",
     "evalue": "module 'splink.postgres.comparison_library' has no attribute 'jaro_winkler_at_thresholds'",
     "traceback": [
      "\u001b[0;31m---------------------------------------------------------------------------\u001b[0m",
      "\u001b[0;31mAttributeError\u001b[0m                            Traceback (most recent call last)",
      "Cell \u001b[0;32mIn[2], line 43\u001b[0m\n\u001b[1;32m      1\u001b[0m settings \u001b[38;5;241m=\u001b[39m {\n\u001b[1;32m      2\u001b[0m     \u001b[38;5;124m\"\u001b[39m\u001b[38;5;124mlink_type\u001b[39m\u001b[38;5;124m\"\u001b[39m: \u001b[38;5;124m\"\u001b[39m\u001b[38;5;124mlink_and_dedupe\u001b[39m\u001b[38;5;124m\"\u001b[39m,\n\u001b[1;32m      3\u001b[0m     \u001b[38;5;124m\"\u001b[39m\u001b[38;5;124mretain_matching_columns\u001b[39m\u001b[38;5;124m\"\u001b[39m: \u001b[38;5;28;01mFalse\u001b[39;00m,\n\u001b[1;32m      4\u001b[0m     \u001b[38;5;124m\"\u001b[39m\u001b[38;5;124mretain_intermediate_calculation_columns\u001b[39m\u001b[38;5;124m\"\u001b[39m: \u001b[38;5;28;01mFalse\u001b[39;00m,\n\u001b[1;32m      5\u001b[0m     \u001b[38;5;124m\"\u001b[39m\u001b[38;5;124mblocking_rules_to_generate_predictions\u001b[39m\u001b[38;5;124m\"\u001b[39m: [\n\u001b[1;32m      6\u001b[0m \u001b[38;5;250m        \u001b[39m\u001b[38;5;124;03m\"\"\"\u001b[39;00m\n\u001b[1;32m      7\u001b[0m \u001b[38;5;124;03m            ((l.comp_num_clean = r.comp_num_clean))\u001b[39;00m\n\u001b[1;32m      8\u001b[0m \u001b[38;5;124;03m            and (\u001b[39;00m\n\u001b[1;32m      9\u001b[0m \u001b[38;5;124;03m                l.comp_num_clean <> ''\u001b[39;00m\n\u001b[1;32m     10\u001b[0m \u001b[38;5;124;03m                and r.comp_num_clean <> ''\u001b[39;00m\n\u001b[1;32m     11\u001b[0m \u001b[38;5;124;03m            )\u001b[39;00m\n\u001b[1;32m     12\u001b[0m \u001b[38;5;124;03m        \"\"\"\u001b[39;00m,\n\u001b[1;32m     13\u001b[0m \u001b[38;5;250m        \u001b[39m\u001b[38;5;124;03m\"\"\"\u001b[39;00m\n\u001b[1;32m     14\u001b[0m \u001b[38;5;124;03m            (l.name_unusual_tokens = r.name_unusual_tokens)\u001b[39;00m\n\u001b[1;32m     15\u001b[0m \u001b[38;5;124;03m            and (\u001b[39;00m\n\u001b[1;32m     16\u001b[0m \u001b[38;5;124;03m                l.name_unusual_tokens <> ''\u001b[39;00m\n\u001b[1;32m     17\u001b[0m \u001b[38;5;124;03m                and r.name_unusual_tokens <> ''\u001b[39;00m\n\u001b[1;32m     18\u001b[0m \u001b[38;5;124;03m            )\u001b[39;00m\n\u001b[1;32m     19\u001b[0m \u001b[38;5;124;03m        \"\"\"\u001b[39;00m,\n\u001b[1;32m     20\u001b[0m \u001b[38;5;250m        \u001b[39m\u001b[38;5;124;03m\"\"\"\u001b[39;00m\n\u001b[1;32m     21\u001b[0m \u001b[38;5;124;03m            (l.secondary_name_unusual_tokens = r.secondary_name_unusual_tokens)\u001b[39;00m\n\u001b[1;32m     22\u001b[0m \u001b[38;5;124;03m            and (\u001b[39;00m\n\u001b[1;32m     23\u001b[0m \u001b[38;5;124;03m                l.secondary_name_unusual_tokens <> ''\u001b[39;00m\n\u001b[1;32m     24\u001b[0m \u001b[38;5;124;03m                and r.secondary_name_unusual_tokens <> ''\u001b[39;00m\n\u001b[1;32m     25\u001b[0m \u001b[38;5;124;03m            )\u001b[39;00m\n\u001b[1;32m     26\u001b[0m \u001b[38;5;124;03m        \"\"\"\u001b[39;00m,\n\u001b[1;32m     27\u001b[0m \u001b[38;5;250m        \u001b[39m\u001b[38;5;124;03m\"\"\"\u001b[39;00m\n\u001b[1;32m     28\u001b[0m \u001b[38;5;124;03m            (l.secondary_name_unusual_tokens = r.name_unusual_tokens)\u001b[39;00m\n\u001b[1;32m     29\u001b[0m \u001b[38;5;124;03m            and (\u001b[39;00m\n\u001b[1;32m     30\u001b[0m \u001b[38;5;124;03m                l.secondary_name_unusual_tokens <> ''\u001b[39;00m\n\u001b[1;32m     31\u001b[0m \u001b[38;5;124;03m                and r.name_unusual_tokens <> ''\u001b[39;00m\n\u001b[1;32m     32\u001b[0m \u001b[38;5;124;03m            )\u001b[39;00m\n\u001b[1;32m     33\u001b[0m \u001b[38;5;124;03m        \"\"\"\u001b[39;00m,\n\u001b[1;32m     34\u001b[0m \u001b[38;5;250m        \u001b[39m\u001b[38;5;124;03m\"\"\"\u001b[39;00m\n\u001b[1;32m     35\u001b[0m \u001b[38;5;124;03m            (r.secondary_name_unusual_tokens = l.name_unusual_tokens)\u001b[39;00m\n\u001b[1;32m     36\u001b[0m \u001b[38;5;124;03m            and (\u001b[39;00m\n\u001b[1;32m     37\u001b[0m \u001b[38;5;124;03m                r.secondary_name_unusual_tokens <> ''\u001b[39;00m\n\u001b[1;32m     38\u001b[0m \u001b[38;5;124;03m                and l.name_unusual_tokens <> ''\u001b[39;00m\n\u001b[1;32m     39\u001b[0m \u001b[38;5;124;03m            )\u001b[39;00m\n\u001b[1;32m     40\u001b[0m \u001b[38;5;124;03m        \"\"\"\u001b[39;00m,\n\u001b[1;32m     41\u001b[0m     ],\n\u001b[1;32m     42\u001b[0m     \u001b[38;5;124m\"\u001b[39m\u001b[38;5;124mcomparisons\u001b[39m\u001b[38;5;124m\"\u001b[39m: [\n\u001b[0;32m---> 43\u001b[0m         \u001b[43mcl\u001b[49m\u001b[38;5;241;43m.\u001b[39;49m\u001b[43mjaro_winkler_at_thresholds\u001b[49m(\n\u001b[1;32m     44\u001b[0m             \u001b[38;5;124m\"\u001b[39m\u001b[38;5;124mcomp_num_clean\u001b[39m\u001b[38;5;124m\"\u001b[39m, [\u001b[38;5;241m0.75\u001b[39m], term_frequency_adjustments\u001b[38;5;241m=\u001b[39m\u001b[38;5;28;01mTrue\u001b[39;00m\n\u001b[1;32m     45\u001b[0m         ),\n\u001b[1;32m     46\u001b[0m         cl\u001b[38;5;241m.\u001b[39mjaro_winkler_at_thresholds(\n\u001b[1;32m     47\u001b[0m             \u001b[38;5;124m\"\u001b[39m\u001b[38;5;124mname_unusual_tokens\u001b[39m\u001b[38;5;124m\"\u001b[39m, [\u001b[38;5;241m0.9\u001b[39m, \u001b[38;5;241m0.6\u001b[39m], term_frequency_adjustments\u001b[38;5;241m=\u001b[39m\u001b[38;5;28;01mTrue\u001b[39;00m\n\u001b[1;32m     48\u001b[0m         ),\n\u001b[1;32m     49\u001b[0m         ctl\u001b[38;5;241m.\u001b[39mpostcode_comparison(\u001b[38;5;124m\"\u001b[39m\u001b[38;5;124mpostcode\u001b[39m\u001b[38;5;124m\"\u001b[39m)\n\u001b[1;32m     50\u001b[0m     ],\n\u001b[1;32m     51\u001b[0m }\n",
      "\u001b[0;31mAttributeError\u001b[0m: module 'splink.postgres.comparison_library' has no attribute 'jaro_winkler_at_thresholds'"
     ]
    }
   ],
   "source": [
    "settings = {\n",
    "    \"link_type\": \"link_and_dedupe\",\n",
    "    \"retain_matching_columns\": False,\n",
    "    \"retain_intermediate_calculation_columns\": False,\n",
    "    \"blocking_rules_to_generate_predictions\": [\n",
    "        \"\"\"\n",
    "            ((l.comp_num_clean = r.comp_num_clean))\n",
    "            and (\n",
    "                l.comp_num_clean <> ''\n",
    "                and r.comp_num_clean <> ''\n",
    "            )\n",
    "        \"\"\",\n",
    "        \"\"\"\n",
    "            (l.name_unusual_tokens = r.name_unusual_tokens)\n",
    "            and (\n",
    "                l.name_unusual_tokens <> ''\n",
    "                and r.name_unusual_tokens <> ''\n",
    "            )\n",
    "        \"\"\",\n",
    "        \"\"\"\n",
    "            (l.secondary_name_unusual_tokens = r.secondary_name_unusual_tokens)\n",
    "            and (\n",
    "                l.secondary_name_unusual_tokens <> ''\n",
    "                and r.secondary_name_unusual_tokens <> ''\n",
    "            )\n",
    "        \"\"\",\n",
    "        \"\"\"\n",
    "            (l.secondary_name_unusual_tokens = r.name_unusual_tokens)\n",
    "            and (\n",
    "                l.secondary_name_unusual_tokens <> ''\n",
    "                and r.name_unusual_tokens <> ''\n",
    "            )\n",
    "        \"\"\",\n",
    "        \"\"\"\n",
    "            (r.secondary_name_unusual_tokens = l.name_unusual_tokens)\n",
    "            and (\n",
    "                r.secondary_name_unusual_tokens <> ''\n",
    "                and l.name_unusual_tokens <> ''\n",
    "            )\n",
    "        \"\"\",\n",
    "    ],\n",
    "    \"comparisons\": [\n",
    "        cl.jaro_winkler_at_thresholds(\n",
    "            \"comp_num_clean\", [0.75], term_frequency_adjustments=True\n",
    "        ),\n",
    "        cl.jaro_winkler_at_thresholds(\n",
    "            \"name_unusual_tokens\", [0.9, 0.6], term_frequency_adjustments=True\n",
    "        ),\n",
    "        ctl.postcode_comparison(\"postcode\")\n",
    "    ],\n",
    "}"
   ]
  }
 ]
}