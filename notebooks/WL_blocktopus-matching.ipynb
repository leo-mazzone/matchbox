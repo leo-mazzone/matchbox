{
 "cells": [
  {
   "cell_type": "code",
   "execution_count": 1,
   "id": "fc07efe0-5cb8-47bb-87b4-ab6f4a475f4e",
   "metadata": {},
   "outputs": [],
   "source": [
    "%load_ext autoreload\n",
    "%autoreload 2\n",
    "from IPython.core.interactiveshell import InteractiveShell\n",
    "from IPython.display import IFrame, display\n",
    "InteractiveShell.ast_node_interactivity = \"all\""
   ]
  },
  {
   "cell_type": "markdown",
   "id": "7c6625ba-1e67-45a6-8c13-a3f0b20d023d",
   "metadata": {},
   "source": [
    "# 🐙Blocktopus playground\n",
    "\n",
    "Just a place to get linkers running."
   ]
  },
  {
   "cell_type": "code",
   "execution_count": 16,
   "id": "6bb13950-4a12-4f3a-b27e-212984ec41e5",
   "metadata": {},
   "outputs": [
    {
     "data": {
      "text/plain": [
       "True"
      ]
     },
     "execution_count": 16,
     "metadata": {},
     "output_type": "execute_result"
    }
   ],
   "source": [
    "from src.data import utils as du\n",
    "from src.data.star import Star\n",
    "from src.data.datasets import Dataset\n",
    "from src.data.probabilities import Probabilities\n",
    "from src.data.clusters import Clusters\n",
    "from src.link.splink_linker import SplinkLinker\n",
    "from src.config import link_pipeline, stopwords\n",
    "from src.features.clean_complex import clean_comp_names\n",
    "\n",
    "import splink.duckdb.comparison_library as cl\n",
    "import splink.duckdb.comparison_template_library as ctl\n",
    "\n",
    "import uuid\n",
    "from dotenv import load_dotenv, find_dotenv\n",
    "import os\n",
    "\n",
    "dotenv_path = find_dotenv()\n",
    "load_dotenv(dotenv_path)"
   ]
  },
  {
   "cell_type": "markdown",
   "id": "420e71d7-752e-4df2-a474-1288f6f69812",
   "metadata": {},
   "source": [
    "## Setup"
   ]
  },
  {
   "cell_type": "code",
   "execution_count": 17,
   "id": "fa975078-979e-4a98-bbea-1df8a21b57d8",
   "metadata": {},
   "outputs": [],
   "source": [
    "star = Star(\n",
    "    schema = os.getenv(\"SCHEMA\"),\n",
    "    table = os.getenv(\"STAR_TABLE\")\n",
    ")\n",
    "probabilities = Probabilities(\n",
    "    schema = os.getenv(\"SCHEMA\"),\n",
    "    table = os.getenv(\"PROBABILITIES_TABLE\"),\n",
    "    star = star\n",
    ")\n",
    "clusters = Clusters(\n",
    "    schema = os.getenv(\"SCHEMA\"),\n",
    "    table = os.getenv(\"CLUSTERS_TABLE\"),\n",
    "    star = star\n",
    ")"
   ]
  },
  {
   "cell_type": "code",
   "execution_count": 18,
   "id": "73ca90a5-3940-4225-ba87-cf8cbe90eda3",
   "metadata": {},
   "outputs": [],
   "source": [
    "# probabilities.create(overwrite=True)\n",
    "# clusters.create(dim=1970, overwrite=False)"
   ]
  },
  {
   "cell_type": "markdown",
   "id": "eadc61f0-b869-49ac-bc3c-1d74f969198c",
   "metadata": {},
   "source": [
    "## Splink\n",
    "\n",
    "TODO:\n",
    "\n",
    "* Write the `linker.link` method\n",
    "* Run it\n",
    "* Load it into clusters\n",
    "* Add `cluster_select`s to the `link_pipeline` in config\n",
    "\n",
    "At that point I think we've got enough infra to MR the whole of this, linker, data and all. Not a pretty MR, a lot to chew, sorry reviewer."
   ]
  },
  {
   "cell_type": "code",
   "execution_count": 19,
   "id": "835f621d-f0b6-4b42-a305-264560c40dab",
   "metadata": {},
   "outputs": [],
   "source": [
    "# '\"hmrc\".\"trade__exporters\"': {\n",
    "#     \"fact\": '\"hmrc\".\"trade__exporters\"',\n",
    "#     \"key_fields\": [\"company_name\", \"address\", \"postcode\"],\n",
    "#     \"dim\": f'\"{os.getenv(\"SCHEMA\")}\".\"hmrc_trade__exporters__dim\"',\n",
    "#     \"n\": 3,\n",
    "#     \"experiment\": \"cm_hmrc-trade-exporters\",\n",
    "# }"
   ]
  },
  {
   "cell_type": "code",
   "execution_count": 25,
   "id": "b504bec4-4c95-441a-8629-7a5fcc1f58cf",
   "metadata": {},
   "outputs": [],
   "source": [
    "cl_x_exp = SplinkLinker(\n",
    "    dataset = Dataset(\n",
    "        star_id=54717,\n",
    "        star=star\n",
    "    ), \n",
    "    probabilities=probabilities, \n",
    "    clusters=clusters, \n",
    "    n=2\n",
    ")"
   ]
  },
  {
   "cell_type": "code",
   "execution_count": 26,
   "id": "98e870da-cfe1-48d3-810b-d3f924620f58",
   "metadata": {},
   "outputs": [],
   "source": [
    "cl_x_exp.get_data(\n",
    "    cluster_select={\n",
    "        '\"companieshouse\".\"companies\"': [\n",
    "            \"company_name\",\n",
    "            \"postcode\"\n",
    "        ]\n",
    "    },\n",
    "    dim_select=[\n",
    "        \"id::text\",\n",
    "        \"company_name\",\n",
    "        \"postcode\"\n",
    "    ]\n",
    ")"
   ]
  },
  {
   "cell_type": "code",
   "execution_count": 27,
   "id": "682cd48b-8319-416f-b6bc-b615f2adb85b",
   "metadata": {},
   "outputs": [
    {
     "data": {
      "text/html": [
       "<div>\n",
       "<style scoped>\n",
       "    .dataframe tbody tr th:only-of-type {\n",
       "        vertical-align: middle;\n",
       "    }\n",
       "\n",
       "    .dataframe tbody tr th {\n",
       "        vertical-align: top;\n",
       "    }\n",
       "\n",
       "    .dataframe thead th {\n",
       "        text-align: right;\n",
       "    }\n",
       "</style>\n",
       "<table border=\"1\" class=\"dataframe\">\n",
       "  <thead>\n",
       "    <tr style=\"text-align: right;\">\n",
       "      <th></th>\n",
       "      <th>cluster</th>\n",
       "      <th>companieshouse_companies_company_name</th>\n",
       "      <th>companieshouse_companies_postcode</th>\n",
       "    </tr>\n",
       "  </thead>\n",
       "  <tbody>\n",
       "    <tr>\n",
       "      <th>0</th>\n",
       "      <td>9834ef62-a2fc-430e-935e-b77f96ccc3d5</td>\n",
       "      <td>\"ITRESIDENT\"</td>\n",
       "      <td>E2 0LT</td>\n",
       "    </tr>\n",
       "    <tr>\n",
       "      <th>1</th>\n",
       "      <td>53e4217f-5649-47f6-8d20-4bcde95b7386</td>\n",
       "      <td>$AVE LTD</td>\n",
       "      <td>HG1 1ND</td>\n",
       "    </tr>\n",
       "    <tr>\n",
       "      <th>2</th>\n",
       "      <td>4d6c65be-7203-4b97-a8f8-b5af44e2b98a</td>\n",
       "      <td>'OUT AND ABOUT' WITH HIGHWAY FARM C.I.C.</td>\n",
       "      <td>PL25 4TR</td>\n",
       "    </tr>\n",
       "    <tr>\n",
       "      <th>3</th>\n",
       "      <td>77cd1f1f-a235-4dfb-ae2d-4ad5db3cf753</td>\n",
       "      <td>'YOUR HAIR' BY TJ LTD</td>\n",
       "      <td>FY8 1QG</td>\n",
       "    </tr>\n",
       "    <tr>\n",
       "      <th>4</th>\n",
       "      <td>346c616d-049e-4508-b6fe-efab8f6a8f46</td>\n",
       "      <td>(THE) COMMERCIAL COMPANY OF SALONICA LTD</td>\n",
       "      <td>W1S 2FB</td>\n",
       "    </tr>\n",
       "  </tbody>\n",
       "</table>\n",
       "</div>"
      ],
      "text/plain": [
       "                                cluster  \\\n",
       "0  9834ef62-a2fc-430e-935e-b77f96ccc3d5   \n",
       "1  53e4217f-5649-47f6-8d20-4bcde95b7386   \n",
       "2  4d6c65be-7203-4b97-a8f8-b5af44e2b98a   \n",
       "3  77cd1f1f-a235-4dfb-ae2d-4ad5db3cf753   \n",
       "4  346c616d-049e-4508-b6fe-efab8f6a8f46   \n",
       "\n",
       "      companieshouse_companies_company_name companieshouse_companies_postcode  \n",
       "0                              \"ITRESIDENT\"                            E2 0LT  \n",
       "1                                  $AVE LTD                           HG1 1ND  \n",
       "2  'OUT AND ABOUT' WITH HIGHWAY FARM C.I.C.                          PL25 4TR  \n",
       "3                     'YOUR HAIR' BY TJ LTD                           FY8 1QG  \n",
       "4  (THE) COMMERCIAL COMPANY OF SALONICA LTD                           W1S 2FB  "
      ]
     },
     "execution_count": 27,
     "metadata": {},
     "output_type": "execute_result"
    },
    {
     "data": {
      "text/html": [
       "<div>\n",
       "<style scoped>\n",
       "    .dataframe tbody tr th:only-of-type {\n",
       "        vertical-align: middle;\n",
       "    }\n",
       "\n",
       "    .dataframe tbody tr th {\n",
       "        vertical-align: top;\n",
       "    }\n",
       "\n",
       "    .dataframe thead th {\n",
       "        text-align: right;\n",
       "    }\n",
       "</style>\n",
       "<table border=\"1\" class=\"dataframe\">\n",
       "  <thead>\n",
       "    <tr style=\"text-align: right;\">\n",
       "      <th></th>\n",
       "      <th>id</th>\n",
       "      <th>company_name</th>\n",
       "      <th>postcode</th>\n",
       "    </tr>\n",
       "  </thead>\n",
       "  <tbody>\n",
       "    <tr>\n",
       "      <th>0</th>\n",
       "      <td>2749503</td>\n",
       "      <td>001-01062021 LTD</td>\n",
       "      <td>TF1 7ET</td>\n",
       "    </tr>\n",
       "    <tr>\n",
       "      <th>1</th>\n",
       "      <td>2828512</td>\n",
       "      <td>001 SECONDS LIMITED</td>\n",
       "      <td>TW13 5LR</td>\n",
       "    </tr>\n",
       "    <tr>\n",
       "      <th>2</th>\n",
       "      <td>349156</td>\n",
       "      <td>0044 LTD</td>\n",
       "      <td>CV32 6SN</td>\n",
       "    </tr>\n",
       "    <tr>\n",
       "      <th>3</th>\n",
       "      <td>1432833</td>\n",
       "      <td>0044 LTD</td>\n",
       "      <td>YO30 5PB</td>\n",
       "    </tr>\n",
       "    <tr>\n",
       "      <th>4</th>\n",
       "      <td>1413256</td>\n",
       "      <td>01DIRECT LTD</td>\n",
       "      <td>NW4 4QE</td>\n",
       "    </tr>\n",
       "  </tbody>\n",
       "</table>\n",
       "</div>"
      ],
      "text/plain": [
       "        id         company_name  postcode\n",
       "0  2749503     001-01062021 LTD   TF1 7ET\n",
       "1  2828512  001 SECONDS LIMITED  TW13 5LR\n",
       "2   349156             0044 LTD  CV32 6SN\n",
       "3  1432833             0044 LTD  YO30 5PB\n",
       "4  1413256         01DIRECT LTD   NW4 4QE"
      ]
     },
     "execution_count": 27,
     "metadata": {},
     "output_type": "execute_result"
    }
   ],
   "source": [
    "cl_x_exp.cluster_raw.head()\n",
    "cl_x_exp.dim_raw.head()"
   ]
  },
  {
   "cell_type": "code",
   "execution_count": null,
   "id": "09843d9a-eb36-49c0-b32e-117b27850760",
   "metadata": {},
   "outputs": [],
   "source": [
    "cl_x_exp._clean_data(\n",
    "    cluster_pipeline={\n",
    "        \"clean_comp_names\": {\n",
    "            \"function\": clean_comp_names,\n",
    "            \"arguments\": {\n",
    "                \"primary_col\": \"companieshouse_companies_company_name\",\n",
    "                \"secondary_col\": None,\n",
    "                \"stopwords\": stopwords,\n",
    "            },\n",
    "        }\n",
    "    },\n",
    "    dim_pipeline={\n",
    "        \"clean_comp_names\": {\n",
    "            \"function\": clean_comp_names,\n",
    "            \"arguments\": {\n",
    "                \"primary_col\": \"company_name\",\n",
    "                \"secondary_col\": None,\n",
    "                \"stopwords\": stopwords,\n",
    "            },\n",
    "        }\n",
    "    }\n",
    ")"
   ]
  },
  {
   "cell_type": "code",
   "execution_count": null,
   "id": "75cc956c-127f-4bcf-860b-7eda1e601418",
   "metadata": {},
   "outputs": [],
   "source": [
    "cl_x_exp.cluster_processed.head()\n",
    "cl_x_exp.dim_processed.head()"
   ]
  },
  {
   "cell_type": "code",
   "execution_count": 23,
   "id": "efafdbcd-7091-40f8-b2e3-6dfe7072fd02",
   "metadata": {},
   "outputs": [],
   "source": [
    "cl_x_exp._create_linker(\n",
    "    linker_settings={\n",
    "        \"link_type\": \"link_only\",\n",
    "        \"unique_id_column_name\": \"id\",\n",
    "        \"retain_matching_columns\": False,\n",
    "        \"retain_intermediate_calculation_columns\": False,\n",
    "        \"blocking_rules_to_generate_predictions\": [\n",
    "            \"\"\"\n",
    "                (l.name_unusual_tokens = r.name_unusual_tokens)\n",
    "                and (\n",
    "                    l.name_unusual_tokens <> ''\n",
    "                    and r.name_unusual_tokens <> ''\n",
    "                )\n",
    "            \"\"\",\n",
    "            \"\"\"\n",
    "                (l.postcode = r.postcode)\n",
    "                and (\n",
    "                    l.postcode <> ''\n",
    "                    and r.postcode <> ''\n",
    "                )\n",
    "            \"\"\",\n",
    "        ],\n",
    "        \"comparisons\": [\n",
    "            cl.jaro_winkler_at_thresholds(\n",
    "                \"name_unusual_tokens\", [0.9, 0.6], term_frequency_adjustments=True\n",
    "            ),\n",
    "            ctl.postcode_comparison(\"postcode\"),\n",
    "        ],\n",
    "    }\n",
    ")"
   ]
  },
  {
   "cell_type": "code",
   "execution_count": 24,
   "id": "340d1232-6b50-458f-9b53-711ae4a6ae85",
   "metadata": {},
   "outputs": [
    {
     "ename": "CatalogException",
     "evalue": "Catalog Error: Table with name None does not exist!\nDid you mean \"temp.information_schema.columns\"?",
     "output_type": "error",
     "traceback": [
      "\u001b[0;31m---------------------------------------------------------------------------\u001b[0m",
      "\u001b[0;31mCatalogException\u001b[0m                          Traceback (most recent call last)",
      "Cell \u001b[0;32mIn[24], line 1\u001b[0m\n\u001b[0;32m----> 1\u001b[0m \u001b[43mcl_x_exp\u001b[49m\u001b[38;5;241;43m.\u001b[39;49m\u001b[43m_train_linker\u001b[49m\u001b[43m(\u001b[49m\n\u001b[1;32m      2\u001b[0m \u001b[43m    \u001b[49m\u001b[43mtrain_pipeline\u001b[49m\u001b[38;5;241;43m=\u001b[39;49m\u001b[43m{\u001b[49m\n\u001b[1;32m      3\u001b[0m \u001b[43m        \u001b[49m\u001b[38;5;124;43m\"\u001b[39;49m\u001b[38;5;124;43mestimate_probability_two_random_records_match\u001b[39;49m\u001b[38;5;124;43m\"\u001b[39;49m\u001b[43m:\u001b[49m\u001b[43m \u001b[49m\u001b[43m{\u001b[49m\n\u001b[1;32m      4\u001b[0m \u001b[43m            \u001b[49m\u001b[38;5;124;43m\"\u001b[39;49m\u001b[38;5;124;43mfunction\u001b[39;49m\u001b[38;5;124;43m\"\u001b[39;49m\u001b[43m:\u001b[49m\u001b[43m \u001b[49m\u001b[38;5;124;43m\"\u001b[39;49m\u001b[38;5;124;43mestimate_probability_two_random_records_match\u001b[39;49m\u001b[38;5;124;43m\"\u001b[39;49m\u001b[43m,\u001b[49m\n\u001b[1;32m      5\u001b[0m \u001b[43m            \u001b[49m\u001b[38;5;124;43m\"\u001b[39;49m\u001b[38;5;124;43marguments\u001b[39;49m\u001b[38;5;124;43m\"\u001b[39;49m\u001b[43m:\u001b[49m\u001b[43m \u001b[49m\u001b[43m{\u001b[49m\n\u001b[1;32m      6\u001b[0m \u001b[43m                \u001b[49m\u001b[38;5;124;43m\"\u001b[39;49m\u001b[38;5;124;43mdeterministic_matching_rules\u001b[39;49m\u001b[38;5;124;43m\"\u001b[39;49m\u001b[43m:\u001b[49m\u001b[43m \u001b[49m\u001b[38;5;124;43m\"\"\"\u001b[39;49m\n\u001b[1;32m      7\u001b[0m \u001b[38;5;124;43m                    l.name_unusual_tokens = r.name_unusual_tokens\u001b[39;49m\n\u001b[1;32m      8\u001b[0m \u001b[38;5;124;43m                \u001b[39;49m\u001b[38;5;124;43m\"\"\"\u001b[39;49m\u001b[43m,\u001b[49m\n\u001b[1;32m      9\u001b[0m \u001b[43m                \u001b[49m\u001b[38;5;124;43m\"\u001b[39;49m\u001b[38;5;124;43mrecall\u001b[39;49m\u001b[38;5;124;43m\"\u001b[39;49m\u001b[43m:\u001b[49m\u001b[43m \u001b[49m\u001b[38;5;241;43m0.7\u001b[39;49m\u001b[43m,\u001b[49m\n\u001b[1;32m     10\u001b[0m \u001b[43m            \u001b[49m\u001b[43m}\u001b[49m\u001b[43m,\u001b[49m\n\u001b[1;32m     11\u001b[0m \u001b[43m        \u001b[49m\u001b[43m}\u001b[49m\u001b[43m,\u001b[49m\n\u001b[1;32m     12\u001b[0m \u001b[43m        \u001b[49m\u001b[38;5;124;43m\"\u001b[39;49m\u001b[38;5;124;43mestimate_u_using_random_sampling\u001b[39;49m\u001b[38;5;124;43m\"\u001b[39;49m\u001b[43m:\u001b[49m\u001b[43m \u001b[49m\u001b[43m{\u001b[49m\n\u001b[1;32m     13\u001b[0m \u001b[43m            \u001b[49m\u001b[38;5;124;43m\"\u001b[39;49m\u001b[38;5;124;43mfunction\u001b[39;49m\u001b[38;5;124;43m\"\u001b[39;49m\u001b[43m:\u001b[49m\u001b[43m \u001b[49m\u001b[38;5;124;43m\"\u001b[39;49m\u001b[38;5;124;43mestimate_u_using_random_sampling\u001b[39;49m\u001b[38;5;124;43m\"\u001b[39;49m\u001b[43m,\u001b[49m\n\u001b[1;32m     14\u001b[0m \u001b[43m            \u001b[49m\u001b[38;5;124;43m\"\u001b[39;49m\u001b[38;5;124;43marguments\u001b[39;49m\u001b[38;5;124;43m\"\u001b[39;49m\u001b[43m:\u001b[49m\u001b[43m \u001b[49m\u001b[43m{\u001b[49m\u001b[38;5;124;43m\"\u001b[39;49m\u001b[38;5;124;43mmax_pairs\u001b[39;49m\u001b[38;5;124;43m\"\u001b[39;49m\u001b[43m:\u001b[49m\u001b[43m \u001b[49m\u001b[38;5;241;43m1e6\u001b[39;49m\u001b[43m}\u001b[49m\u001b[43m,\u001b[49m\n\u001b[1;32m     15\u001b[0m \u001b[43m        \u001b[49m\u001b[43m}\u001b[49m\u001b[43m,\u001b[49m\n\u001b[1;32m     16\u001b[0m \u001b[43m        \u001b[49m\u001b[38;5;124;43m\"\u001b[39;49m\u001b[38;5;124;43mestimate_parameters_using_expectation_maximisation\u001b[39;49m\u001b[38;5;124;43m\"\u001b[39;49m\u001b[43m:\u001b[49m\u001b[43m \u001b[49m\u001b[43m{\u001b[49m\n\u001b[1;32m     17\u001b[0m \u001b[43m            \u001b[49m\u001b[38;5;124;43m\"\u001b[39;49m\u001b[38;5;124;43mfunction\u001b[39;49m\u001b[38;5;124;43m\"\u001b[39;49m\u001b[43m:\u001b[49m\u001b[43m \u001b[49m\u001b[38;5;124;43m\"\u001b[39;49m\u001b[38;5;124;43mestimate_parameters_using_expectation_maximisation\u001b[39;49m\u001b[38;5;124;43m\"\u001b[39;49m\u001b[43m,\u001b[49m\n\u001b[1;32m     18\u001b[0m \u001b[43m            \u001b[49m\u001b[38;5;124;43m\"\u001b[39;49m\u001b[38;5;124;43marguments\u001b[39;49m\u001b[38;5;124;43m\"\u001b[39;49m\u001b[43m:\u001b[49m\u001b[43m \u001b[49m\u001b[43m{\u001b[49m\n\u001b[1;32m     19\u001b[0m \u001b[43m                \u001b[49m\u001b[38;5;124;43m\"\u001b[39;49m\u001b[38;5;124;43mblocking_rule\u001b[39;49m\u001b[38;5;124;43m\"\u001b[39;49m\u001b[43m:\u001b[49m\u001b[43m \u001b[49m\u001b[38;5;124;43m\"\"\"\u001b[39;49m\n\u001b[1;32m     20\u001b[0m \u001b[38;5;124;43m                    l.name_unusual_tokens = r.name_unusual_tokens\u001b[39;49m\n\u001b[1;32m     21\u001b[0m \u001b[38;5;124;43m                \u001b[39;49m\u001b[38;5;124;43m\"\"\"\u001b[39;49m\n\u001b[1;32m     22\u001b[0m \u001b[43m            \u001b[49m\u001b[43m}\u001b[49m\u001b[43m,\u001b[49m\n\u001b[1;32m     23\u001b[0m \u001b[43m        \u001b[49m\u001b[43m}\u001b[49m\u001b[43m,\u001b[49m\n\u001b[1;32m     24\u001b[0m \u001b[43m    \u001b[49m\u001b[43m}\u001b[49m\n\u001b[1;32m     25\u001b[0m \u001b[43m)\u001b[49m\n",
      "File \u001b[0;32m~/company-matching/src/link/splink_linker.py:78\u001b[0m, in \u001b[0;36mSplinkLinker._train_linker\u001b[0;34m(self, train_pipeline)\u001b[0m\n\u001b[1;32m     76\u001b[0m \u001b[38;5;28;01mfor\u001b[39;00m func \u001b[38;5;129;01min\u001b[39;00m train_pipeline\u001b[38;5;241m.\u001b[39mkeys():\n\u001b[1;32m     77\u001b[0m     proc_func \u001b[38;5;241m=\u001b[39m \u001b[38;5;28mgetattr\u001b[39m(\u001b[38;5;28mself\u001b[39m\u001b[38;5;241m.\u001b[39mlinker, train_pipeline[func][\u001b[38;5;124m\"\u001b[39m\u001b[38;5;124mfunction\u001b[39m\u001b[38;5;124m\"\u001b[39m])\n\u001b[0;32m---> 78\u001b[0m     \u001b[43mproc_func\u001b[49m\u001b[43m(\u001b[49m\u001b[38;5;241;43m*\u001b[39;49m\u001b[38;5;241;43m*\u001b[39;49m\u001b[43mtrain_pipeline\u001b[49m\u001b[43m[\u001b[49m\u001b[43mfunc\u001b[49m\u001b[43m]\u001b[49m\u001b[43m[\u001b[49m\u001b[38;5;124;43m\"\u001b[39;49m\u001b[38;5;124;43marguments\u001b[39;49m\u001b[38;5;124;43m\"\u001b[39;49m\u001b[43m]\u001b[49m\u001b[43m)\u001b[49m\n\u001b[1;32m     80\u001b[0m train_pipeline_json \u001b[38;5;241m=\u001b[39m json\u001b[38;5;241m.\u001b[39mdumps(\n\u001b[1;32m     81\u001b[0m     train_pipeline, indent\u001b[38;5;241m=\u001b[39m\u001b[38;5;241m4\u001b[39m, \u001b[38;5;28mcls\u001b[39m\u001b[38;5;241m=\u001b[39mComparisonEncoder\n\u001b[1;32m     82\u001b[0m )\n\u001b[1;32m     84\u001b[0m \u001b[38;5;28msuper\u001b[39m()\u001b[38;5;241m.\u001b[39m_add_log_item(\n\u001b[1;32m     85\u001b[0m     name\u001b[38;5;241m=\u001b[39m\u001b[38;5;124m\"\u001b[39m\u001b[38;5;124mtrain_pipeline\u001b[39m\u001b[38;5;124m\"\u001b[39m,\n\u001b[1;32m     86\u001b[0m     item\u001b[38;5;241m=\u001b[39mtrain_pipeline_json\u001b[38;5;241m.\u001b[39mencode(),\n\u001b[1;32m     87\u001b[0m     item_type\u001b[38;5;241m=\u001b[39m\u001b[38;5;124m\"\u001b[39m\u001b[38;5;124martefact\u001b[39m\u001b[38;5;124m\"\u001b[39m,\n\u001b[1;32m     88\u001b[0m     path\u001b[38;5;241m=\u001b[39m\u001b[38;5;124m\"\u001b[39m\u001b[38;5;124mconfig/train_pipeline.json\u001b[39m\u001b[38;5;124m\"\u001b[39m,\n\u001b[1;32m     89\u001b[0m )\n",
      "File \u001b[0;32m/opt/conda/envs/company_matching/lib/python3.9/site-packages/splink/linker.py:3088\u001b[0m, in \u001b[0;36mLinker.estimate_probability_two_random_records_match\u001b[0;34m(self, deterministic_matching_rules, recall)\u001b[0m\n\u001b[1;32m   3085\u001b[0m \u001b[38;5;28;01mif\u001b[39;00m \u001b[38;5;28misinstance\u001b[39m(deterministic_matching_rules, \u001b[38;5;28mstr\u001b[39m):\n\u001b[1;32m   3086\u001b[0m     deterministic_matching_rules \u001b[38;5;241m=\u001b[39m [deterministic_matching_rules]\n\u001b[0;32m-> 3088\u001b[0m records \u001b[38;5;241m=\u001b[39m \u001b[43mcumulative_comparisons_generated_by_blocking_rules\u001b[49m\u001b[43m(\u001b[49m\n\u001b[1;32m   3089\u001b[0m \u001b[43m    \u001b[49m\u001b[38;5;28;43mself\u001b[39;49m\u001b[43m,\u001b[49m\n\u001b[1;32m   3090\u001b[0m \u001b[43m    \u001b[49m\u001b[43mdeterministic_matching_rules\u001b[49m\u001b[43m,\u001b[49m\n\u001b[1;32m   3091\u001b[0m \u001b[43m\u001b[49m\u001b[43m)\u001b[49m\n\u001b[1;32m   3093\u001b[0m summary_record \u001b[38;5;241m=\u001b[39m records[\u001b[38;5;241m-\u001b[39m\u001b[38;5;241m1\u001b[39m]\n\u001b[1;32m   3094\u001b[0m num_observed_matches \u001b[38;5;241m=\u001b[39m summary_record[\u001b[38;5;124m\"\u001b[39m\u001b[38;5;124mcumulative_rows\u001b[39m\u001b[38;5;124m\"\u001b[39m]\n",
      "File \u001b[0;32m/opt/conda/envs/company_matching/lib/python3.9/site-packages/splink/analyse_blocking.py:62\u001b[0m, in \u001b[0;36mcumulative_comparisons_generated_by_blocking_rules\u001b[0;34m(linker, blocking_rules, output_chart)\u001b[0m\n\u001b[1;32m     59\u001b[0m     \u001b[38;5;28;01mfor\u001b[39;00m cl \u001b[38;5;129;01min\u001b[39;00m cc\u001b[38;5;241m.\u001b[39mcomparison_levels:\n\u001b[1;32m     60\u001b[0m         cl\u001b[38;5;241m.\u001b[39m_level_dict[\u001b[38;5;124m\"\u001b[39m\u001b[38;5;124mtf_adjustment_column\u001b[39m\u001b[38;5;124m\"\u001b[39m] \u001b[38;5;241m=\u001b[39m \u001b[38;5;28;01mNone\u001b[39;00m\n\u001b[0;32m---> 62\u001b[0m concat \u001b[38;5;241m=\u001b[39m \u001b[43mlinker\u001b[49m\u001b[38;5;241;43m.\u001b[39;49m\u001b[43m_initialise_df_concat\u001b[49m\u001b[43m(\u001b[49m\u001b[43mmaterialise\u001b[49m\u001b[38;5;241;43m=\u001b[39;49m\u001b[38;5;28;43;01mTrue\u001b[39;49;00m\u001b[43m)\u001b[49m\n\u001b[1;32m     64\u001b[0m \u001b[38;5;66;03m# Calculate the Cartesian Product\u001b[39;00m\n\u001b[1;32m     65\u001b[0m \u001b[38;5;28;01mif\u001b[39;00m output_chart:\n\u001b[1;32m     66\u001b[0m     \u001b[38;5;66;03m# We only need the cartesian product if we want to output the chart view\u001b[39;00m\n",
      "File \u001b[0;32m/opt/conda/envs/company_matching/lib/python3.9/site-packages/splink/linker.py:483\u001b[0m, in \u001b[0;36mLinker._initialise_df_concat\u001b[0;34m(self, materialise)\u001b[0m\n\u001b[1;32m    478\u001b[0m \u001b[38;5;28;01mif\u001b[39;00m materialise:\n\u001b[1;32m    479\u001b[0m     \u001b[38;5;66;03m# Clear the pipeline if we are materialising\u001b[39;00m\n\u001b[1;32m    480\u001b[0m     \u001b[38;5;66;03m# There's no reason not to do this, since when\u001b[39;00m\n\u001b[1;32m    481\u001b[0m     \u001b[38;5;66;03m# we execute the pipeline, it'll get cleared anyway\u001b[39;00m\n\u001b[1;32m    482\u001b[0m     \u001b[38;5;28mself\u001b[39m\u001b[38;5;241m.\u001b[39m_pipeline\u001b[38;5;241m.\u001b[39mreset()\n\u001b[0;32m--> 483\u001b[0m sql \u001b[38;5;241m=\u001b[39m \u001b[43mvertically_concatenate_sql\u001b[49m\u001b[43m(\u001b[49m\u001b[38;5;28;43mself\u001b[39;49m\u001b[43m)\u001b[49m\n\u001b[1;32m    484\u001b[0m \u001b[38;5;28mself\u001b[39m\u001b[38;5;241m.\u001b[39m_enqueue_sql(sql, \u001b[38;5;124m\"\u001b[39m\u001b[38;5;124m__splink__df_concat\u001b[39m\u001b[38;5;124m\"\u001b[39m)\n\u001b[1;32m    485\u001b[0m \u001b[38;5;28;01mif\u001b[39;00m materialise:\n",
      "File \u001b[0;32m/opt/conda/envs/company_matching/lib/python3.9/site-packages/splink/vertically_concatenate.py:30\u001b[0m, in \u001b[0;36mvertically_concatenate_sql\u001b[0;34m(linker)\u001b[0m\n\u001b[1;32m     28\u001b[0m \u001b[38;5;66;03m# Use column order from first table in dict\u001b[39;00m\n\u001b[1;32m     29\u001b[0m df_obj \u001b[38;5;241m=\u001b[39m \u001b[38;5;28mnext\u001b[39m(\u001b[38;5;28miter\u001b[39m(linker\u001b[38;5;241m.\u001b[39m_input_tables_dict\u001b[38;5;241m.\u001b[39mvalues()))\n\u001b[0;32m---> 30\u001b[0m columns \u001b[38;5;241m=\u001b[39m \u001b[43mdf_obj\u001b[49m\u001b[38;5;241;43m.\u001b[39;49m\u001b[43mcolumns_escaped\u001b[49m\n\u001b[1;32m     32\u001b[0m select_columns_sql \u001b[38;5;241m=\u001b[39m \u001b[38;5;124m\"\u001b[39m\u001b[38;5;124m, \u001b[39m\u001b[38;5;124m\"\u001b[39m\u001b[38;5;241m.\u001b[39mjoin(columns)\n\u001b[1;32m     34\u001b[0m salting_reqiured \u001b[38;5;241m=\u001b[39m \u001b[38;5;28;01mFalse\u001b[39;00m\n",
      "File \u001b[0;32m/opt/conda/envs/company_matching/lib/python3.9/site-packages/splink/splink_dataframe.py:33\u001b[0m, in \u001b[0;36mSplinkDataFrame.columns_escaped\u001b[0;34m(self)\u001b[0m\n\u001b[1;32m     31\u001b[0m \u001b[38;5;129m@property\u001b[39m\n\u001b[1;32m     32\u001b[0m \u001b[38;5;28;01mdef\u001b[39;00m \u001b[38;5;21mcolumns_escaped\u001b[39m(\u001b[38;5;28mself\u001b[39m):\n\u001b[0;32m---> 33\u001b[0m     cols \u001b[38;5;241m=\u001b[39m \u001b[38;5;28;43mself\u001b[39;49m\u001b[38;5;241;43m.\u001b[39;49m\u001b[43mcolumns\u001b[49m\n\u001b[1;32m     34\u001b[0m     \u001b[38;5;28;01mreturn\u001b[39;00m [c\u001b[38;5;241m.\u001b[39mname() \u001b[38;5;28;01mfor\u001b[39;00m c \u001b[38;5;129;01min\u001b[39;00m cols]\n",
      "File \u001b[0;32m/opt/conda/envs/company_matching/lib/python3.9/site-packages/splink/duckdb/linker.py:31\u001b[0m, in \u001b[0;36mDuckDBLinkerDataFrame.columns\u001b[0;34m(self)\u001b[0m\n\u001b[1;32m     29\u001b[0m \u001b[38;5;129m@property\u001b[39m\n\u001b[1;32m     30\u001b[0m \u001b[38;5;28;01mdef\u001b[39;00m \u001b[38;5;21mcolumns\u001b[39m(\u001b[38;5;28mself\u001b[39m) \u001b[38;5;241m-\u001b[39m\u001b[38;5;241m>\u001b[39m \u001b[38;5;28mlist\u001b[39m[InputColumn]:\n\u001b[0;32m---> 31\u001b[0m     d \u001b[38;5;241m=\u001b[39m \u001b[38;5;28;43mself\u001b[39;49m\u001b[38;5;241;43m.\u001b[39;49m\u001b[43mas_record_dict\u001b[49m\u001b[43m(\u001b[49m\u001b[38;5;241;43m1\u001b[39;49m\u001b[43m)\u001b[49m[\u001b[38;5;241m0\u001b[39m]\n\u001b[1;32m     33\u001b[0m     col_strings \u001b[38;5;241m=\u001b[39m \u001b[38;5;28mlist\u001b[39m(d\u001b[38;5;241m.\u001b[39mkeys())\n\u001b[1;32m     34\u001b[0m     \u001b[38;5;28;01mreturn\u001b[39;00m [InputColumn(c, sql_dialect\u001b[38;5;241m=\u001b[39m\u001b[38;5;124m\"\u001b[39m\u001b[38;5;124mduckdb\u001b[39m\u001b[38;5;124m\"\u001b[39m) \u001b[38;5;28;01mfor\u001b[39;00m c \u001b[38;5;129;01min\u001b[39;00m col_strings]\n",
      "File \u001b[0;32m/opt/conda/envs/company_matching/lib/python3.9/site-packages/splink/duckdb/linker.py:49\u001b[0m, in \u001b[0;36mDuckDBLinkerDataFrame.as_record_dict\u001b[0;34m(self, limit)\u001b[0m\n\u001b[1;32m     46\u001b[0m \u001b[38;5;28;01mif\u001b[39;00m limit:\n\u001b[1;32m     47\u001b[0m     sql \u001b[38;5;241m+\u001b[39m\u001b[38;5;241m=\u001b[39m \u001b[38;5;124mf\u001b[39m\u001b[38;5;124m\"\u001b[39m\u001b[38;5;124m limit \u001b[39m\u001b[38;5;132;01m{\u001b[39;00mlimit\u001b[38;5;132;01m}\u001b[39;00m\u001b[38;5;124m\"\u001b[39m\n\u001b[0;32m---> 49\u001b[0m \u001b[38;5;28;01mreturn\u001b[39;00m \u001b[38;5;28;43mself\u001b[39;49m\u001b[38;5;241;43m.\u001b[39;49m\u001b[43mlinker\u001b[49m\u001b[38;5;241;43m.\u001b[39;49m\u001b[43m_con\u001b[49m\u001b[38;5;241;43m.\u001b[39;49m\u001b[43mquery\u001b[49m\u001b[43m(\u001b[49m\u001b[43msql\u001b[49m\u001b[43m)\u001b[49m\u001b[38;5;241m.\u001b[39mto_df()\u001b[38;5;241m.\u001b[39mto_dict(orient\u001b[38;5;241m=\u001b[39m\u001b[38;5;124m\"\u001b[39m\u001b[38;5;124mrecords\u001b[39m\u001b[38;5;124m\"\u001b[39m)\n",
      "\u001b[0;31mCatalogException\u001b[0m: Catalog Error: Table with name None does not exist!\nDid you mean \"temp.information_schema.columns\"?"
     ]
    }
   ],
   "source": [
    "cl_x_exp._train_linker(\n",
    "    train_pipeline={\n",
    "        \"estimate_probability_two_random_records_match\": {\n",
    "            \"function\": \"estimate_probability_two_random_records_match\",\n",
    "            \"arguments\": {\n",
    "                \"deterministic_matching_rules\": \"\"\"\n",
    "                    l.name_unusual_tokens = r.name_unusual_tokens\n",
    "                \"\"\",\n",
    "                \"recall\": 0.7,\n",
    "            },\n",
    "        },\n",
    "        \"estimate_u_using_random_sampling\": {\n",
    "            \"function\": \"estimate_u_using_random_sampling\",\n",
    "            \"arguments\": {\"max_pairs\": 1e6},\n",
    "        },\n",
    "        \"estimate_parameters_using_expectation_maximisation\": {\n",
    "            \"function\": \"estimate_parameters_using_expectation_maximisation\",\n",
    "            \"arguments\": {\n",
    "                \"blocking_rule\": \"\"\"\n",
    "                    l.name_unusual_tokens = r.name_unusual_tokens\n",
    "                \"\"\"\n",
    "            },\n",
    "        },\n",
    "    }\n",
    ")"
   ]
  },
  {
   "cell_type": "code",
   "execution_count": null,
   "id": "7a51ac76-0c5a-45b7-8632-a096f1bd015b",
   "metadata": {},
   "outputs": [],
   "source": [
    "cl_x_exp.link(threshold=0.7, log_output=True)"
   ]
  }
 ],
 "metadata": {
  "kernelspec": {
   "display_name": "company_matching",
   "language": "python",
   "name": "company_matching"
  },
  "language_info": {
   "codemirror_mode": {
    "name": "ipython",
    "version": 3
   },
   "file_extension": ".py",
   "mimetype": "text/x-python",
   "name": "python",
   "nbconvert_exporter": "python",
   "pygments_lexer": "ipython3",
   "version": "3.9.16"
  }
 },
 "nbformat": 4,
 "nbformat_minor": 5
}
