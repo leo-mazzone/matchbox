{
 "cells": [
  {
   "cell_type": "code",
   "execution_count": 13,
   "id": "261f0288-56de-427d-b683-f921be3f94a1",
   "metadata": {},
   "outputs": [
    {
     "ename": "CMFSourceError",
     "evalue": "Data doesn't exist in Company Matching Framework.\nTable: models\nData: naive_deduper",
     "output_type": "error",
     "traceback": [
      "\u001b[0;31m---------------------------------------------------------------------------\u001b[0m",
      "\u001b[0;31mCMFSourceError\u001b[0m                            Traceback (most recent call last)",
      "Cell \u001b[0;32mIn[13], line 4\u001b[0m\n\u001b[1;32m      1\u001b[0m \u001b[38;5;28;01mfrom\u001b[39;00m \u001b[38;5;21;01mcmf\u001b[39;00m\u001b[38;5;21;01m.\u001b[39;00m\u001b[38;5;21;01mdata\u001b[39;00m\u001b[38;5;21;01m.\u001b[39;00m\u001b[38;5;21;01mresults\u001b[39;00m \u001b[38;5;28;01mimport\u001b[39;00m CMFSourceError\n\u001b[1;32m      2\u001b[0m \u001b[38;5;28;01mfrom\u001b[39;00m \u001b[38;5;21;01mcmf\u001b[39;00m\u001b[38;5;21;01m.\u001b[39;00m\u001b[38;5;21;01mdata\u001b[39;00m \u001b[38;5;28;01mimport\u001b[39;00m Models\n\u001b[0;32m----> 4\u001b[0m \u001b[38;5;28;01mraise\u001b[39;00m CMFSourceError(source\u001b[38;5;241m=\u001b[39mModels, data\u001b[38;5;241m=\u001b[39m\u001b[38;5;124m\"\u001b[39m\u001b[38;5;124mnaive_deduper\u001b[39m\u001b[38;5;124m\"\u001b[39m)\n",
      "\u001b[0;31mCMFSourceError\u001b[0m: Data doesn't exist in Company Matching Framework.\nTable: models\nData: naive_deduper"
     ]
    }
   ],
   "source": [
    "from cmf.data.results import CMFSourceError\n",
    "from cmf.data import Models\n",
    "\n",
    "raise CMFSourceError(source=Models, data=\"naive_deduper\")"
   ]
  }
 ],
 "metadata": {
  "kernelspec": {
   "display_name": "company_matching",
   "language": "python",
   "name": "company_matching"
  },
  "language_info": {
   "codemirror_mode": {
    "name": "ipython",
    "version": 3
   },
   "file_extension": ".py",
   "mimetype": "text/x-python",
   "name": "python",
   "nbconvert_exporter": "python",
   "pygments_lexer": "ipython3",
   "version": "3.9.16"
  }
 },
 "nbformat": 4,
 "nbformat_minor": 5
}
