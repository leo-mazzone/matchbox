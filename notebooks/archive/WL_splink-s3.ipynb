{
 "cells": [
  {
   "cell_type": "code",
   "execution_count": 1,
   "id": "7869715c-d4ce-40b6-861f-6f811563bd26",
   "metadata": {},
   "outputs": [],
   "source": [
    "%load_ext autoreload\n",
    "%autoreload 2\n",
    "from IPython.core.interactiveshell import InteractiveShell\n",
    "InteractiveShell.ast_node_interactivity = \"all\""
   ]
  },
  {
   "cell_type": "code",
   "execution_count": 2,
   "id": "efa7a6c4-c036-4ade-b379-20431e9aa4ee",
   "metadata": {},
   "outputs": [],
   "source": [
    "import duckdb\n",
    "import boto3\n",
    "import os\n",
    "import pandas as pd\n",
    "import requests\n",
    "from pathlib import Path\n",
    "\n",
    "import cmf.locations as loc\n",
    "\n",
    "r = requests.get(\n",
    "    'http://169.254.170.2' + \n",
    "    os.environ['AWS_CONTAINER_CREDENTIALS_RELATIVE_URI']\n",
    ")\n",
    "\n",
    "AWS_CREDS = r.json()\n",
    "HTTPFS_PATH = loc.PROJECT_DIR / 'scratch' / 'httpfs.duckdb_extension'"
   ]
  },
  {
   "cell_type": "markdown",
   "id": "1a767a56-79c5-4c73-a8c5-9b59e61a5e6a",
   "metadata": {},
   "source": [
    "## Read from team S3: `boto`"
   ]
  },
  {
   "cell_type": "code",
   "execution_count": 3,
   "id": "be579556-8716-472c-9855-56af20022c88",
   "metadata": {},
   "outputs": [
    {
     "data": {
      "text/html": [
       "<div>\n",
       "<style scoped>\n",
       "    .dataframe tbody tr th:only-of-type {\n",
       "        vertical-align: middle;\n",
       "    }\n",
       "\n",
       "    .dataframe tbody tr th {\n",
       "        vertical-align: top;\n",
       "    }\n",
       "\n",
       "    .dataframe thead th {\n",
       "        text-align: right;\n",
       "    }\n",
       "</style>\n",
       "<table border=\"1\" class=\"dataframe\">\n",
       "  <thead>\n",
       "    <tr style=\"text-align: right;\">\n",
       "      <th></th>\n",
       "      <th>foo</th>\n",
       "      <th>bar</th>\n",
       "    </tr>\n",
       "  </thead>\n",
       "  <tbody>\n",
       "    <tr>\n",
       "      <th>0</th>\n",
       "      <td>a</td>\n",
       "      <td>1</td>\n",
       "    </tr>\n",
       "    <tr>\n",
       "      <th>1</th>\n",
       "      <td>b</td>\n",
       "      <td>2</td>\n",
       "    </tr>\n",
       "    <tr>\n",
       "      <th>2</th>\n",
       "      <td>c</td>\n",
       "      <td>3</td>\n",
       "    </tr>\n",
       "  </tbody>\n",
       "</table>\n",
       "</div>"
      ],
      "text/plain": [
       "  foo  bar\n",
       "0   a    1\n",
       "1   b    2\n",
       "2   c    3"
      ]
     },
     "execution_count": 3,
     "metadata": {},
     "output_type": "execute_result"
    }
   ],
   "source": [
    "client = boto3.client('s3', region_name=os.environ['S3_REGION']) \n",
    "response = client.get_object(\n",
    "    Bucket='jupyter.notebook.uktrade.io', \n",
    "    Key=os.environ['S3_PREFIX_TEAM_DDAT_DATA_SCIENCE'] + '.tmp/dummy.csv'\n",
    ") \n",
    "df = pd.read_csv(response['Body'])\n",
    "df"
   ]
  },
  {
   "cell_type": "markdown",
   "id": "80f5bc0f-195f-4014-9a10-fa396a1741ae",
   "metadata": {},
   "source": [
    "## Read/write from team S3: `duckdb`"
   ]
  },
  {
   "cell_type": "code",
   "execution_count": 4,
   "id": "d6a33127-36c6-46e3-95f4-d3f2bfb24197",
   "metadata": {},
   "outputs": [],
   "source": [
    "con = duckdb.connect()"
   ]
  },
  {
   "cell_type": "code",
   "execution_count": 5,
   "id": "47689981-6616-40f2-8cb9-b929764a2782",
   "metadata": {},
   "outputs": [],
   "source": [
    "# via https://duckdb.org/docs/extensions/httpfs.html\n",
    "\n",
    "con.query(f\"\"\"\n",
    "    install '{HTTPFS_PATH.resolve()}';\n",
    "    load '{HTTPFS_PATH.resolve()}';\n",
    "    set s3_region='{os.environ['S3_REGION']}';\n",
    "    set s3_access_key_id='{AWS_CREDS['AccessKeyId']}';\n",
    "    set s3_secret_access_key='{AWS_CREDS['SecretAccessKey']}';\n",
    "    set s3_session_token='{AWS_CREDS['Token']}';\n",
    "\"\"\")"
   ]
  },
  {
   "cell_type": "code",
   "execution_count": 6,
   "id": "b69cce58-7967-4894-b58f-99e6fc01a8dc",
   "metadata": {},
   "outputs": [
    {
     "data": {
      "text/plain": [
       "┌─────────┬───────┐\n",
       "│   foo   │  bar  │\n",
       "│ varchar │ int64 │\n",
       "├─────────┼───────┤\n",
       "│ a       │     1 │\n",
       "│ b       │     2 │\n",
       "│ c       │     3 │\n",
       "└─────────┴───────┘"
      ]
     },
     "execution_count": 6,
     "metadata": {},
     "output_type": "execute_result"
    }
   ],
   "source": [
    "con.query(f\"\"\"\n",
    "    select *\n",
    "    from 's3://{\n",
    "        '/'.join([\n",
    "            os.environ['S3_BUCKET'],\n",
    "            os.environ['S3_PREFIX_TEAM_DDAT_DATA_SCIENCE'][:-1],\n",
    "            '.tmp',\n",
    "            'dummy.csv'\n",
    "        ])\n",
    "    }';\n",
    "\"\"\")"
   ]
  },
  {
   "cell_type": "code",
   "execution_count": 7,
   "id": "267da13f-628a-4330-9c2f-f1ff18ac2a52",
   "metadata": {},
   "outputs": [],
   "source": [
    "df = pd.DataFrame({'col1': ['alpha', 'beta'], 'col2': [3.14, 2.72]})"
   ]
  },
  {
   "cell_type": "code",
   "execution_count": 8,
   "id": "a9e45682-b03e-4af0-83a5-6223d4bc471d",
   "metadata": {},
   "outputs": [],
   "source": [
    "con.query(f\"\"\"\n",
    "    copy df\n",
    "    to 's3://{\n",
    "        '/'.join([\n",
    "            os.environ['S3_BUCKET'],\n",
    "            os.environ['S3_PREFIX_TEAM_DDAT_DATA_SCIENCE'][:-1],\n",
    "            '.tmp',\n",
    "            'dummy_out.parquet'\n",
    "        ])\n",
    "    }'\n",
    "\"\"\")"
   ]
  },
  {
   "cell_type": "code",
   "execution_count": 9,
   "id": "396a3014-322e-4c6d-94dc-d2658a028e51",
   "metadata": {},
   "outputs": [
    {
     "data": {
      "text/plain": [
       "┌─────────┬────────┐\n",
       "│  col1   │  col2  │\n",
       "│ varchar │ double │\n",
       "├─────────┼────────┤\n",
       "│ alpha   │   3.14 │\n",
       "│ beta    │   2.72 │\n",
       "└─────────┴────────┘"
      ]
     },
     "execution_count": 9,
     "metadata": {},
     "output_type": "execute_result"
    }
   ],
   "source": [
    "con.query(f\"\"\"\n",
    "    select *\n",
    "    from 's3://{\n",
    "        '/'.join([\n",
    "            os.environ['S3_BUCKET'],\n",
    "            os.environ['S3_PREFIX_TEAM_DDAT_DATA_SCIENCE'][:-1],\n",
    "            '.tmp',\n",
    "            'dummy_out.parquet'\n",
    "        ])\n",
    "    }';\n",
    "\"\"\")"
   ]
  },
  {
   "cell_type": "markdown",
   "id": "56e46a79-2e1d-4722-8673-7c50601dfb49",
   "metadata": {},
   "source": [
    "## Use team S3 as temporary `duckdb` storage"
   ]
  },
  {
   "cell_type": "markdown",
   "id": "c9710d43-159d-4415-a4a5-1b11eb3b4f8e",
   "metadata": {},
   "source": [
    "Inconclusive, can't force it to use the S3 temp. Let's try it in production."
   ]
  },
  {
   "cell_type": "code",
   "execution_count": 10,
   "id": "3d6b5426-531c-4e2c-b89b-f3f413095f9e",
   "metadata": {},
   "outputs": [
    {
     "data": {
      "text/plain": [
       "┌─────────────────────────────────────────────────────────────────────┐\n",
       "│                  current_setting('temp_directory')                  │\n",
       "│                               varchar                               │\n",
       "├─────────────────────────────────────────────────────────────────────┤\n",
       "│ s3://jupyter.notebook.uktrade.io/teams/_team_ddat_data_science/.tmp │\n",
       "└─────────────────────────────────────────────────────────────────────┘"
      ]
     },
     "execution_count": 10,
     "metadata": {},
     "output_type": "execute_result"
    }
   ],
   "source": [
    "con.query(f\"\"\"\n",
    "    set temp_directory='s3://{\n",
    "        '/'.join([\n",
    "            os.environ['S3_BUCKET'],\n",
    "            os.environ['S3_PREFIX_TEAM_DDAT_DATA_SCIENCE'][:-1],\n",
    "            '.tmp'\n",
    "        ])\n",
    "    }';\n",
    "    select current_setting('temp_directory');\n",
    "\"\"\")"
   ]
  },
  {
   "cell_type": "code",
   "execution_count": 11,
   "id": "36a8270d-28f4-4c5a-a5fe-7e5e05641a2f",
   "metadata": {},
   "outputs": [
    {
     "data": {
      "text/plain": [
       "┌─────────────────────────────────┐\n",
       "│ current_setting('memory_limit') │\n",
       "│             varchar             │\n",
       "├─────────────────────────────────┤\n",
       "│ 26.4GB                          │\n",
       "└─────────────────────────────────┘"
      ]
     },
     "execution_count": 11,
     "metadata": {},
     "output_type": "execute_result"
    }
   ],
   "source": [
    "# set memory_limit='0.01GB';\n",
    "# reset memory_limit;\n",
    "con.query(\"\"\"\n",
    "    select current_setting('memory_limit');   \n",
    "\"\"\")"
   ]
  },
  {
   "cell_type": "code",
   "execution_count": 14,
   "id": "bd88e40c-0aed-4445-bb1c-e03d8cefaa4c",
   "metadata": {},
   "outputs": [
    {
     "data": {
      "text/plain": [
       "┌───────────────┬───────────┬────────────────┬───┬────────────┬─────────────────┬────────────────┐\n",
       "│ postcode_area │ unique_id │ comp_num_clean │ … │  name_sig  │ name_sig_first5 │ name_sig_last5 │\n",
       "│    varchar    │  varchar  │     double     │   │  varchar   │     varchar     │    varchar     │\n",
       "├───────────────┼───────────┼────────────────┼───┼────────────┼─────────────────┼────────────────┤\n",
       "│ NE            │ 1         │           NULL │ … │ clzbldjmmg │ clzbl           │ djmmg          │\n",
       "│ SG            │ 2         │           NULL │ … │ cluuck     │ cluuc           │ luuck          │\n",
       "│ GU            │ 3         │           NULL │ … │ mdclg      │ mdclg           │ mdclg          │\n",
       "│ SE            │ 4         │           NULL │ … │ cplddf     │ cpldd           │ plddf          │\n",
       "│ NP            │ 5         │           NULL │ … │ fvpduc     │ fvpdu           │ vpduc          │\n",
       "├───────────────┴───────────┴────────────────┴───┴────────────┴─────────────────┴────────────────┤\n",
       "│ 5 rows                                                                    13 columns (6 shown) │\n",
       "└────────────────────────────────────────────────────────────────────────────────────────────────┘"
      ]
     },
     "execution_count": 14,
     "metadata": {},
     "output_type": "execute_result"
    }
   ],
   "source": [
    "con.query(f\"\"\"\n",
    "    select\n",
    "        *\n",
    "    from\n",
    "        '{\n",
    "            '/'.join([\n",
    "                loc.DATA_SUBDIR['processed'],\n",
    "                'company-matching__full',\n",
    "                'hmrc_trade__exporters.parquet'\n",
    "            ])\n",
    "    }'\n",
    "    limit 5;\n",
    "\"\"\")"
   ]
  }
 ],
 "metadata": {
  "kernelspec": {
   "display_name": "company_matching",
   "language": "python",
   "name": "company_matching"
  },
  "language_info": {
   "codemirror_mode": {
    "name": "ipython",
    "version": 3
   },
   "file_extension": ".py",
   "mimetype": "text/x-python",
   "name": "python",
   "nbconvert_exporter": "python",
   "pygments_lexer": "ipython3",
   "version": "3.9.16"
  }
 },
 "nbformat": 4,
 "nbformat_minor": 5
}
