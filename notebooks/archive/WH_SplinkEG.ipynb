{
 "cells": [
  {
   "cell_type": "code",
   "execution_count": 9,
   "id": "6378293c-5aa1-4bdc-bd8c-88c41748257f",
   "metadata": {},
   "outputs": [],
   "source": [
    "%load_ext autoreload\n",
    "%autoreload 2"
   ]
  },
  {
   "cell_type": "code",
   "execution_count": 49,
   "id": "ad802486-6241-4122-a567-8c690c3ab65f",
   "metadata": {},
   "outputs": [],
   "source": [
    "import duckdb\n",
    "\n",
    "from splink.duckdb.linker import DuckDBLinker\n",
    "import splink.duckdb.comparison_library as cl\n",
    "import splink.duckdb.comparison_template_library as ctl\n",
    "\n",
    "import altair as alt\n",
    "alt.renderers.enable(\"mimetype\")\n",
    "\n",
    "from cmf.data import utils as du\n",
    "from cmf.features.clean_basic import (\n",
    "    clean_company_name,\n",
    "    clean_stopwords,\n",
    "    list_join_to_string\n",
    ")\n",
    "import cmf.locations as loc\n",
    "from cmf.config import stopwords"
   ]
  },
  {
   "cell_type": "markdown",
   "id": "3fa7ab19-b193-4245-8223-e9bbb503d49f",
   "metadata": {},
   "source": [
    "# Splink example\n",
    "\n",
    "Linking 5% samples from Companies House and HMRC Exporters to show a Splink workflow."
   ]
  },
  {
   "cell_type": "markdown",
   "id": "da55262c-f283-4891-9ac6-ed433e843870",
   "metadata": {},
   "source": [
    "## Get data\n",
    "\n",
    "We can get data directly from Companies House, but HMRC Exporters contains duplicated entities. Splink requires indepdendence of observations. I therefore am reading in a very roughly deduped version of the dataset."
   ]
  },
  {
   "cell_type": "code",
   "execution_count": 27,
   "id": "accd8ba9-8286-4578-b724-d9ecf642135f",
   "metadata": {},
   "outputs": [],
   "source": [
    "ch_raw = du.query(\n",
    "f\"\"\"\n",
    "select\n",
    "    id,\n",
    "    company_name,\n",
    "    postcode\n",
    "from\n",
    "    companieshouse.companies tablesample system (5);\n",
    "\"\"\"\n",
    ")"
   ]
  },
  {
   "cell_type": "code",
   "execution_count": 28,
   "id": "a640883f-45b6-44ce-9b8a-61997eb9e80b",
   "metadata": {},
   "outputs": [],
   "source": [
    "exp_raw = du.query(\n",
    "f\"\"\"\n",
    "select\n",
    "    id,\n",
    "    company_name,\n",
    "    postcode\n",
    "from\n",
    "    _user_eaf4fd9a.hmrc_trade__exporters__dim tablesample system (5);\n",
    "\"\"\"\n",
    ")"
   ]
  },
  {
   "cell_type": "code",
   "execution_count": 29,
   "id": "bd9b1c40-b13a-4af0-9658-3fcfd3c1b362",
   "metadata": {},
   "outputs": [
    {
     "name": "stdout",
     "output_type": "stream",
     "text": [
      "<class 'pandas.core.frame.DataFrame'>\n",
      "RangeIndex: 272681 entries, 0 to 272680\n",
      "Data columns (total 3 columns):\n",
      " #   Column        Non-Null Count   Dtype \n",
      "---  ------        --------------   ----- \n",
      " 0   id            272681 non-null  object\n",
      " 1   company_name  272681 non-null  object\n",
      " 2   postcode      272681 non-null  object\n",
      "dtypes: object(3)\n",
      "memory usage: 6.2+ MB\n",
      "<class 'pandas.core.frame.DataFrame'>\n",
      "RangeIndex: 12739 entries, 0 to 12738\n",
      "Data columns (total 3 columns):\n",
      " #   Column        Non-Null Count  Dtype \n",
      "---  ------        --------------  ----- \n",
      " 0   id            12739 non-null  int64 \n",
      " 1   company_name  12739 non-null  object\n",
      " 2   postcode      12739 non-null  object\n",
      "dtypes: int64(1), object(2)\n",
      "memory usage: 298.7+ KB\n"
     ]
    }
   ],
   "source": [
    "ch_raw.info()\n",
    "exp_raw.info()"
   ]
  },
  {
   "cell_type": "markdown",
   "id": "236d8bf7-d0e0-46a7-911d-ac4701545d36",
   "metadata": {},
   "source": [
    "## Clean data\n",
    "\n",
    "duckDB allows you to use SQL on pandas dataframes. I'm using it because it means we can use the same cleaning functions on the remote Postgres database as we use to clean stuff in-memory here. It's efficient.\n",
    "\n",
    "I'm also using simple cleaning functions to be explicit -- we have more complex ones available.\n",
    "\n",
    "Adding more functions to `src.features.clean_basic` and `src.features.clean_complex` is a core part of the task."
   ]
  },
  {
   "cell_type": "code",
   "execution_count": 30,
   "id": "6f5992cf-3cb0-447a-a6cc-e1a6315265cd",
   "metadata": {},
   "outputs": [],
   "source": [
    "ch_clean_step_1 = duckdb.sql(\n",
    "f\"\"\"\n",
    "    select\n",
    "        id,\n",
    "        {clean_company_name(\"company_name\")} as company_name,\n",
    "        postcode\n",
    "    from\n",
    "        ch_raw\n",
    "\"\"\"\n",
    ").df()\n",
    "ch_clean_step_2 = duckdb.sql(\n",
    "f\"\"\"\n",
    "    select\n",
    "        id,\n",
    "        {clean_stopwords(\"company_name\", stopwords=stopwords)} as company_name,\n",
    "        postcode\n",
    "    from\n",
    "        ch_clean_step_1\n",
    "\"\"\"\n",
    ").df()\n",
    "ch_clean = duckdb.sql(\n",
    "f\"\"\"\n",
    "    select\n",
    "        id,\n",
    "        {list_join_to_string(\"company_name\")} as company_name,\n",
    "        postcode\n",
    "    from\n",
    "        ch_clean_step_2\n",
    "\"\"\"\n",
    ").df()"
   ]
  },
  {
   "cell_type": "code",
   "execution_count": 31,
   "id": "7e52f064-573a-49b4-8778-80efdc02bb33",
   "metadata": {},
   "outputs": [
    {
     "data": {
      "text/html": [
       "<div>\n",
       "<style scoped>\n",
       "    .dataframe tbody tr th:only-of-type {\n",
       "        vertical-align: middle;\n",
       "    }\n",
       "\n",
       "    .dataframe tbody tr th {\n",
       "        vertical-align: top;\n",
       "    }\n",
       "\n",
       "    .dataframe thead th {\n",
       "        text-align: right;\n",
       "    }\n",
       "</style>\n",
       "<table border=\"1\" class=\"dataframe\">\n",
       "  <thead>\n",
       "    <tr style=\"text-align: right;\">\n",
       "      <th></th>\n",
       "      <th>id</th>\n",
       "      <th>company_name</th>\n",
       "      <th>postcode</th>\n",
       "    </tr>\n",
       "  </thead>\n",
       "  <tbody>\n",
       "    <tr>\n",
       "      <th>207450</th>\n",
       "      <td>13127527</td>\n",
       "      <td>roj made</td>\n",
       "      <td>SW6 1NY</td>\n",
       "    </tr>\n",
       "    <tr>\n",
       "      <th>21222</th>\n",
       "      <td>03376471</td>\n",
       "      <td>arnold green pension scheme trustees</td>\n",
       "      <td>EC3M 5JE</td>\n",
       "    </tr>\n",
       "    <tr>\n",
       "      <th>271087</th>\n",
       "      <td>09198508</td>\n",
       "      <td>yvonne school wear</td>\n",
       "      <td>EN4 8RQ</td>\n",
       "    </tr>\n",
       "  </tbody>\n",
       "</table>\n",
       "</div>"
      ],
      "text/plain": [
       "              id                          company_name  postcode\n",
       "207450  13127527                              roj made   SW6 1NY\n",
       "21222   03376471  arnold green pension scheme trustees  EC3M 5JE\n",
       "271087  09198508                    yvonne school wear   EN4 8RQ"
      ]
     },
     "execution_count": 31,
     "metadata": {},
     "output_type": "execute_result"
    }
   ],
   "source": [
    "ch_clean.sample(3)"
   ]
  },
  {
   "cell_type": "code",
   "execution_count": 32,
   "id": "a992614a-5843-4f29-aae4-3239c5e849b4",
   "metadata": {},
   "outputs": [],
   "source": [
    "exp_clean_step_1 = duckdb.sql(\n",
    "f\"\"\"\n",
    "    select\n",
    "        id,\n",
    "        {clean_company_name(\"company_name\")} as company_name,\n",
    "        postcode\n",
    "    from\n",
    "        exp_raw\n",
    "\"\"\"\n",
    ").df()\n",
    "exp_clean_step_2 = duckdb.sql(\n",
    "f\"\"\"\n",
    "    select\n",
    "        id,\n",
    "        {clean_stopwords(\"company_name\", stopwords=stopwords)} as company_name,\n",
    "        postcode\n",
    "    from\n",
    "        exp_clean_step_1\n",
    "\"\"\"\n",
    ").df()\n",
    "exp_clean = duckdb.sql(\n",
    "f\"\"\"\n",
    "    select\n",
    "        id,\n",
    "        {list_join_to_string(\"company_name\")} as company_name,\n",
    "        postcode\n",
    "    from\n",
    "        exp_clean_step_2\n",
    "\"\"\"\n",
    ").df()"
   ]
  },
  {
   "cell_type": "code",
   "execution_count": 33,
   "id": "8b19e6d3-771e-4527-a50c-59f5712563c9",
   "metadata": {},
   "outputs": [
    {
     "data": {
      "text/html": [
       "<div>\n",
       "<style scoped>\n",
       "    .dataframe tbody tr th:only-of-type {\n",
       "        vertical-align: middle;\n",
       "    }\n",
       "\n",
       "    .dataframe tbody tr th {\n",
       "        vertical-align: top;\n",
       "    }\n",
       "\n",
       "    .dataframe thead th {\n",
       "        text-align: right;\n",
       "    }\n",
       "</style>\n",
       "<table border=\"1\" class=\"dataframe\">\n",
       "  <thead>\n",
       "    <tr style=\"text-align: right;\">\n",
       "      <th></th>\n",
       "      <th>id</th>\n",
       "      <th>company_name</th>\n",
       "      <th>postcode</th>\n",
       "    </tr>\n",
       "  </thead>\n",
       "  <tbody>\n",
       "    <tr>\n",
       "      <th>3596</th>\n",
       "      <td>567601</td>\n",
       "      <td>eye emporium</td>\n",
       "      <td>E3 5LH</td>\n",
       "    </tr>\n",
       "    <tr>\n",
       "      <th>11133</th>\n",
       "      <td>1907344</td>\n",
       "      <td>tecnicas reunidas</td>\n",
       "      <td>SW1Y 4LB</td>\n",
       "    </tr>\n",
       "    <tr>\n",
       "      <th>11980</th>\n",
       "      <td>2476184</td>\n",
       "      <td>van rees north america</td>\n",
       "      <td>AB10 1ZP</td>\n",
       "    </tr>\n",
       "  </tbody>\n",
       "</table>\n",
       "</div>"
      ],
      "text/plain": [
       "            id            company_name  postcode\n",
       "3596    567601            eye emporium    E3 5LH\n",
       "11133  1907344       tecnicas reunidas  SW1Y 4LB\n",
       "11980  2476184  van rees north america  AB10 1ZP"
      ]
     },
     "execution_count": 33,
     "metadata": {},
     "output_type": "execute_result"
    }
   ],
   "source": [
    "exp_clean.sample(3)"
   ]
  },
  {
   "cell_type": "markdown",
   "id": "60c4ae37-350b-4b10-af0b-4330637f9ef1",
   "metadata": {},
   "source": [
    "## Set linker up\n",
    "\n",
    "Here you can see the levels we discussed in the \"comparisons\" part of the settings dictionary. `cl` and `ctl` are the Comparisons Library and Comparisons Template Library, tools Splink provides so you can make some basic matches right away.\n",
    "\n",
    "We'd look to do something more bespoke for addresses.\n",
    "\n",
    "Blocking rules will become extremely important. Strictly speaking we want to calculate the probability that every record matches every other record between tables, but this is exponentially expensive to compute. Blocking rules help Splink compare only things that stand a chance of being the same. Here the name OR postcode must match for us to bother comparing."
   ]
  },
  {
   "cell_type": "code",
   "execution_count": 34,
   "id": "bdd616ae-8fa7-4bb1-8a6b-639304c31b89",
   "metadata": {},
   "outputs": [],
   "source": [
    "settings = {\n",
    "    \"link_type\": \"link_only\",\n",
    "    \"unique_id_column_name\": \"id\",\n",
    "    \"retain_matching_columns\": False,\n",
    "    \"retain_intermediate_calculation_columns\": False,\n",
    "    \"blocking_rules_to_generate_predictions\": [\n",
    "        \"\"\"\n",
    "            (l.company_name = r.company_name)\n",
    "            and (\n",
    "                l.company_name <> ''\n",
    "                and r.company_name <> ''\n",
    "            )\n",
    "        \"\"\",\n",
    "        \"\"\"\n",
    "            (l.postcode = r.postcode)\n",
    "            and (\n",
    "                l.postcode <> ''\n",
    "                and r.postcode <> ''\n",
    "            )\n",
    "        \"\"\",\n",
    "    ],\n",
    "    \"comparisons\": [\n",
    "        cl.jaro_winkler_at_thresholds(\n",
    "            \"company_name\", [0.9, 0.6], term_frequency_adjustments=True\n",
    "        ),\n",
    "        ctl.postcode_comparison(\"postcode\"),\n",
    "    ],\n",
    "}"
   ]
  },
  {
   "cell_type": "code",
   "execution_count": 35,
   "id": "b255b3e0-79c4-419d-ac19-56a9748d9518",
   "metadata": {},
   "outputs": [],
   "source": [
    "linker = DuckDBLinker(\n",
    "    input_table_or_tables=[\n",
    "        ch_clean,\n",
    "        exp_clean\n",
    "    ],\n",
    "    input_table_aliases=[\n",
    "        \"ch\",\n",
    "        \"exp\"\n",
    "    ],\n",
    "    settings_dict=settings,\n",
    ")"
   ]
  },
  {
   "cell_type": "markdown",
   "id": "64d932c5-cbeb-49b0-ac9e-4b22dc333fb5",
   "metadata": {},
   "source": [
    "## Train linker\n",
    "\n",
    "Here's where we do some of the stuff I didn't cover -- estimating probabilities. You'd be free to play with this methodology a little, but I'd expect you'd land on something common to all the different cleaning methods you tried, so it'd be a one time thing."
   ]
  },
  {
   "cell_type": "code",
   "execution_count": 36,
   "id": "924b6da7-5006-4320-ac7f-98eb0ecb542a",
   "metadata": {},
   "outputs": [
    {
     "name": "stderr",
     "output_type": "stream",
     "text": [
      "Probability two random records match is estimated to be  2.28e-07.\n",
      "This means that amongst all possible pairwise record comparisons, one in 4,381,222.13 are expected to match.  With 3,473,683,259 total possible comparisons, we expect a total of around 792.86 matching pairs\n"
     ]
    }
   ],
   "source": [
    "linker.estimate_probability_two_random_records_match(\n",
    "    deterministic_matching_rules=\"\"\"\n",
    "        l.company_name = r.company_name\n",
    "    \"\"\",\n",
    "    recall=0.7\n",
    ")"
   ]
  },
  {
   "cell_type": "code",
   "execution_count": 37,
   "id": "4ebc7570-b1a1-4815-840b-a790bfe2a0c3",
   "metadata": {},
   "outputs": [
    {
     "name": "stderr",
     "output_type": "stream",
     "text": [
      "----- Estimating u probabilities using random sampling -----\n",
      "u probability not trained for company_name - Exact match (comparison vector value: 3). This usually means the comparison level was never observed in the training data.\n",
      "u probability not trained for company_name - Jaro_winkler_similarity >= 0.9 (comparison vector value: 2). This usually means the comparison level was never observed in the training data.\n",
      "\n",
      "Estimated u probabilities using random sampling\n",
      "\n",
      "Your model is not yet fully trained. Missing estimates for:\n",
      "    - company_name (some u values are not trained, no m values are trained).\n",
      "    - postcode (no m values are trained).\n"
     ]
    }
   ],
   "source": [
    "linker.estimate_u_using_random_sampling(\n",
    "    max_pairs=1e5\n",
    ")"
   ]
  },
  {
   "cell_type": "code",
   "execution_count": 38,
   "id": "038470cd-ab7d-4ec5-a089-b1ff658965bf",
   "metadata": {},
   "outputs": [
    {
     "name": "stderr",
     "output_type": "stream",
     "text": [
      "\n",
      "----- Starting EM training session -----\n",
      "\n",
      "Estimating the m probabilities of the model by blocking on:\n",
      "\n",
      "        l.company_name = r.company_name\n",
      "    \n",
      "\n",
      "Parameter estimates will be made for the following comparison(s):\n",
      "    - postcode\n",
      "\n",
      "Parameter estimates cannot be made for the following comparison(s) since they are used in the blocking rules: \n",
      "    - company_name\n",
      "\n",
      "Iteration 1: Largest change in params was 0.281 in probability_two_random_records_match\n",
      "Iteration 2: Largest change in params was 0.166 in probability_two_random_records_match\n",
      "Iteration 3: Largest change in params was -0.0605 in the m_probability of postcode, level `Exact match postcode`\n",
      "Iteration 4: Largest change in params was 0.131 in the m_probability of postcode, level `Exact match Postcode Area`\n",
      "Iteration 5: Largest change in params was 0.066 in the m_probability of postcode, level `Exact match Postcode Area`\n",
      "Iteration 6: Largest change in params was 0.00455 in the m_probability of postcode, level `Exact match Postcode Area`\n",
      "Iteration 7: Largest change in params was 0.000219 in the m_probability of postcode, level `Exact match Postcode Area`\n",
      "Iteration 8: Largest change in params was 1.03e-05 in the m_probability of postcode, level `Exact match Postcode Area`\n",
      "\n",
      "EM converged after 8 iterations\n",
      "\n",
      "Your model is not yet fully trained. Missing estimates for:\n",
      "    - company_name (some u values are not trained, no m values are trained).\n"
     ]
    },
    {
     "data": {
      "text/plain": [
       "<EMTrainingSession, blocking on \n",
       "        l.company_name = r.company_name\n",
       "    , deactivating comparisons company_name>"
      ]
     },
     "execution_count": 38,
     "metadata": {},
     "output_type": "execute_result"
    }
   ],
   "source": [
    "linker.estimate_parameters_using_expectation_maximisation(\n",
    "    blocking_rule=\"\"\"\n",
    "        l.company_name = r.company_name\n",
    "    \"\"\"\n",
    ")"
   ]
  },
  {
   "cell_type": "code",
   "execution_count": 39,
   "id": "285485e4-b087-4612-a0d8-8a77cc5af30b",
   "metadata": {},
   "outputs": [
    {
     "name": "stderr",
     "output_type": "stream",
     "text": [
      "\n",
      "----- Starting EM training session -----\n",
      "\n",
      "Estimating the m probabilities of the model by blocking on:\n",
      "\n",
      "        l.postcode = r.postcode\n",
      "    \n",
      "\n",
      "Parameter estimates will be made for the following comparison(s):\n",
      "    - company_name\n",
      "\n",
      "Parameter estimates cannot be made for the following comparison(s) since they are used in the blocking rules: \n",
      "    - postcode\n",
      "\n",
      "Iteration 1: Largest change in params was 0.0497 in the m_probability of company_name, level `Exact match`\n",
      "Iteration 2: Largest change in params was 0.000752 in probability_two_random_records_match\n",
      "Iteration 3: Largest change in params was 0.000241 in probability_two_random_records_match\n",
      "Iteration 4: Largest change in params was 2.74e-06 in probability_two_random_records_match\n",
      "\n",
      "EM converged after 4 iterations\n",
      "\n",
      "Your model is not yet fully trained. Missing estimates for:\n",
      "    - company_name (some u values are not trained).\n"
     ]
    },
    {
     "data": {
      "text/plain": [
       "<EMTrainingSession, blocking on \n",
       "        l.postcode = r.postcode\n",
       "    , deactivating comparisons postcode>"
      ]
     },
     "execution_count": 39,
     "metadata": {},
     "output_type": "execute_result"
    }
   ],
   "source": [
    "linker.estimate_parameters_using_expectation_maximisation(\n",
    "    blocking_rule=\"\"\"\n",
    "        l.postcode = r.postcode\n",
    "    \"\"\"\n",
    ")"
   ]
  },
  {
   "cell_type": "markdown",
   "id": "8c2c3fd3-8b07-4bac-ae5d-f71ec603a2ab",
   "metadata": {},
   "source": [
    "## Predict links\n",
    "\n",
    "We've fitted the model. Let's calculate the probabilities records are linked, and keep any over 0.7. Note we expect awful performance as this is a tiny sample."
   ]
  },
  {
   "cell_type": "code",
   "execution_count": 44,
   "id": "627250a2-8884-4259-a2a6-73aab837c374",
   "metadata": {},
   "outputs": [
    {
     "name": "stderr",
     "output_type": "stream",
     "text": [
      "\n",
      " -- WARNING --\n",
      "You have called predict(), but there are some parameter estimates which have neither been estimated or specified in your settings dictionary.  To produce predictions the following untrained trained parameters will use default values.\n",
      "Comparison: 'company_name':\n",
      "    u values not fully trained\n"
     ]
    }
   ],
   "source": [
    "predictions_duckdb = linker.predict(threshold_match_probability=0.7)\n",
    "predictions = predictions_duckdb.as_pandas_dataframe()"
   ]
  },
  {
   "cell_type": "code",
   "execution_count": 45,
   "id": "28ff657a-f1d6-400b-bf71-53ffe8c78167",
   "metadata": {},
   "outputs": [
    {
     "data": {
      "text/html": [
       "<div>\n",
       "<style scoped>\n",
       "    .dataframe tbody tr th:only-of-type {\n",
       "        vertical-align: middle;\n",
       "    }\n",
       "\n",
       "    .dataframe tbody tr th {\n",
       "        vertical-align: top;\n",
       "    }\n",
       "\n",
       "    .dataframe thead th {\n",
       "        text-align: right;\n",
       "    }\n",
       "</style>\n",
       "<table border=\"1\" class=\"dataframe\">\n",
       "  <thead>\n",
       "    <tr style=\"text-align: right;\">\n",
       "      <th></th>\n",
       "      <th>match_weight</th>\n",
       "      <th>match_probability</th>\n",
       "      <th>source_dataset_l</th>\n",
       "      <th>source_dataset_r</th>\n",
       "      <th>id_l</th>\n",
       "      <th>id_r</th>\n",
       "      <th>match_key</th>\n",
       "    </tr>\n",
       "  </thead>\n",
       "  <tbody>\n",
       "    <tr>\n",
       "      <th>0</th>\n",
       "      <td>7.241291</td>\n",
       "      <td>0.993434</td>\n",
       "      <td>ch</td>\n",
       "      <td>exp</td>\n",
       "      <td>10796240</td>\n",
       "      <td>1189196</td>\n",
       "      <td>0</td>\n",
       "    </tr>\n",
       "    <tr>\n",
       "      <th>1</th>\n",
       "      <td>3.904385</td>\n",
       "      <td>0.937398</td>\n",
       "      <td>ch</td>\n",
       "      <td>exp</td>\n",
       "      <td>12768525</td>\n",
       "      <td>3102506</td>\n",
       "      <td>0</td>\n",
       "    </tr>\n",
       "    <tr>\n",
       "      <th>2</th>\n",
       "      <td>7.826253</td>\n",
       "      <td>0.995613</td>\n",
       "      <td>ch</td>\n",
       "      <td>exp</td>\n",
       "      <td>11847537</td>\n",
       "      <td>2287041</td>\n",
       "      <td>0</td>\n",
       "    </tr>\n",
       "    <tr>\n",
       "      <th>3</th>\n",
       "      <td>7.241291</td>\n",
       "      <td>0.993434</td>\n",
       "      <td>ch</td>\n",
       "      <td>exp</td>\n",
       "      <td>03069535</td>\n",
       "      <td>2800687</td>\n",
       "      <td>0</td>\n",
       "    </tr>\n",
       "    <tr>\n",
       "      <th>4</th>\n",
       "      <td>7.241291</td>\n",
       "      <td>0.993434</td>\n",
       "      <td>ch</td>\n",
       "      <td>exp</td>\n",
       "      <td>10796240</td>\n",
       "      <td>1924738</td>\n",
       "      <td>0</td>\n",
       "    </tr>\n",
       "    <tr>\n",
       "      <th>5</th>\n",
       "      <td>7.826253</td>\n",
       "      <td>0.995613</td>\n",
       "      <td>ch</td>\n",
       "      <td>exp</td>\n",
       "      <td>03488862</td>\n",
       "      <td>1277794</td>\n",
       "      <td>0</td>\n",
       "    </tr>\n",
       "    <tr>\n",
       "      <th>6</th>\n",
       "      <td>7.826253</td>\n",
       "      <td>0.995613</td>\n",
       "      <td>ch</td>\n",
       "      <td>exp</td>\n",
       "      <td>06498279</td>\n",
       "      <td>2667482</td>\n",
       "      <td>0</td>\n",
       "    </tr>\n",
       "    <tr>\n",
       "      <th>7</th>\n",
       "      <td>6.504325</td>\n",
       "      <td>0.989105</td>\n",
       "      <td>ch</td>\n",
       "      <td>exp</td>\n",
       "      <td>07127476</td>\n",
       "      <td>3397781</td>\n",
       "      <td>0</td>\n",
       "    </tr>\n",
       "    <tr>\n",
       "      <th>8</th>\n",
       "      <td>6.504325</td>\n",
       "      <td>0.989105</td>\n",
       "      <td>ch</td>\n",
       "      <td>exp</td>\n",
       "      <td>07127476</td>\n",
       "      <td>2947920</td>\n",
       "      <td>0</td>\n",
       "    </tr>\n",
       "    <tr>\n",
       "      <th>9</th>\n",
       "      <td>2.582457</td>\n",
       "      <td>0.856930</td>\n",
       "      <td>ch</td>\n",
       "      <td>exp</td>\n",
       "      <td>07127476</td>\n",
       "      <td>631566</td>\n",
       "      <td>0</td>\n",
       "    </tr>\n",
       "  </tbody>\n",
       "</table>\n",
       "</div>"
      ],
      "text/plain": [
       "   match_weight  match_probability source_dataset_l source_dataset_r  \\\n",
       "0      7.241291           0.993434               ch              exp   \n",
       "1      3.904385           0.937398               ch              exp   \n",
       "2      7.826253           0.995613               ch              exp   \n",
       "3      7.241291           0.993434               ch              exp   \n",
       "4      7.241291           0.993434               ch              exp   \n",
       "5      7.826253           0.995613               ch              exp   \n",
       "6      7.826253           0.995613               ch              exp   \n",
       "7      6.504325           0.989105               ch              exp   \n",
       "8      6.504325           0.989105               ch              exp   \n",
       "9      2.582457           0.856930               ch              exp   \n",
       "\n",
       "       id_l     id_r match_key  \n",
       "0  10796240  1189196         0  \n",
       "1  12768525  3102506         0  \n",
       "2  11847537  2287041         0  \n",
       "3  03069535  2800687         0  \n",
       "4  10796240  1924738         0  \n",
       "5  03488862  1277794         0  \n",
       "6  06498279  2667482         0  \n",
       "7  07127476  3397781         0  \n",
       "8  07127476  2947920         0  \n",
       "9  07127476   631566         0  "
      ]
     },
     "execution_count": 45,
     "metadata": {},
     "output_type": "execute_result"
    }
   ],
   "source": [
    "predictions.head(10)"
   ]
  },
  {
   "cell_type": "markdown",
   "id": "20f36994-0e0c-42c7-8ac5-198ca17cce35",
   "metadata": {},
   "source": [
    "## Evaluate\n",
    "\n",
    "Here's where you'd need to do some manual labelling to assess a methodology. [Splink has a clerical labelling tool in the works](https://github.com/moj-analytical-services/splink/pull/1208) but it's not deployed yet. You'd have to do this by hand.\n",
    "\n",
    "We can also peek into the linker to see various stats about its configuration."
   ]
  },
  {
   "cell_type": "code",
   "execution_count": 50,
   "id": "551d846c-4efb-4074-b89c-cb6916037741",
   "metadata": {},
   "outputs": [
    {
     "data": {
      "application/vnd.vegalite.v5+json": {
       "$schema": "https://vega.github.io/schema/vega-lite/v5.9.3.json",
       "config": {
        "header": {
         "title": null
        },
        "mark": {
         "tooltip": null
        },
        "title": {
         "anchor": "middle"
        },
        "view": {
         "continuousHeight": 300,
         "continuousWidth": 300,
         "discreteHeight": 60,
         "discreteWidth": 400
        }
       },
       "data": {
        "name": "data-5d1c50219449e2e0255b7ddaa903074f"
       },
       "datasets": {
        "data-5d1c50219449e2e0255b7ddaa903074f": [
         {
          "bayes_factor": 2.2824686786571017e-07,
          "bayes_factor_description": "The probability that two random records drawn at random match is 0.000 or one in  4,381,222.1 records.This is equivalent to a starting match weight of -22.063.",
          "comparison_name": "probability_two_random_records_match",
          "comparison_sort_order": -1,
          "comparison_vector_value": 0,
          "has_tf_adjustments": false,
          "is_null_level": false,
          "label_for_charts": "",
          "log2_bayes_factor": -22.062901601354117,
          "m_probability": null,
          "m_probability_description": null,
          "max_comparison_vector_value": 0,
          "probability_two_random_records_match": 2.2824681576908936e-07,
          "sql_condition": null,
          "tf_adjustment_column": null,
          "tf_adjustment_weight": null,
          "u_probability": null,
          "u_probability_description": null
         },
         {
          "bayes_factor": 1077.8881005286016,
          "bayes_factor_description": "If comparison level is `exact match` then comparison is 1,077.89 times more likely to be a match",
          "comparison_name": "company_name",
          "comparison_sort_order": 0,
          "comparison_vector_value": 3,
          "has_tf_adjustments": true,
          "is_null_level": false,
          "label_for_charts": "Exact match",
          "log2_bayes_factor": 10.073991699123706,
          "m_probability": 0.9999938432638393,
          "m_probability_description": "Amongst matching record comparisons, 100.00% of records are in the exact match comparison level",
          "max_comparison_vector_value": 3,
          "probability_two_random_records_match": 2.2824681576908936e-07,
          "sql_condition": "\"company_name_l\" = \"company_name_r\"",
          "tf_adjustment_column": "company_name",
          "tf_adjustment_weight": 1,
          "u_probability": 0.000927734375,
          "u_probability_description": "Amongst non-matching record comparisons, 0.09% of records are in the exact match comparison level"
         },
         {
          "bayes_factor": 5.003662767779489e-07,
          "bayes_factor_description": "If comparison level is `jaro_winkler_similarity >= 0.9` then comparison is  1,998,535.97 times less likely to be a match",
          "comparison_name": "company_name",
          "comparison_sort_order": 0,
          "comparison_vector_value": 2,
          "has_tf_adjustments": false,
          "is_null_level": false,
          "label_for_charts": "Jaro_winkler_similarity >= 0.9",
          "log2_bayes_factor": -20.93051210485307,
          "m_probability": 1.0424297432873944e-09,
          "m_probability_description": "Amongst matching record comparisons, 0.00% of records are in the jaro_winkler_similarity >= 0.9 comparison level",
          "max_comparison_vector_value": 3,
          "probability_two_random_records_match": 2.2824681576908936e-07,
          "sql_condition": "jaro_winkler_similarity(\"company_name_l\", \"company_name_r\") >= 0.9",
          "tf_adjustment_column": null,
          "tf_adjustment_weight": 1,
          "u_probability": 0.002083333333333335,
          "u_probability_description": "Amongst non-matching record comparisons, 0.21% of records are in the jaro_winkler_similarity >= 0.9 comparison level"
         },
         {
          "bayes_factor": 2.398603557108488e-05,
          "bayes_factor_description": "If comparison level is `jaro_winkler_similarity >= 0.6` then comparison is  41,690.92 times less likely to be a match",
          "comparison_name": "company_name",
          "comparison_sort_order": 0,
          "comparison_vector_value": 1,
          "has_tf_adjustments": false,
          "is_null_level": false,
          "label_for_charts": "Jaro_winkler_similarity >= 0.6",
          "log2_bayes_factor": -15.347445746758282,
          "m_probability": 2.2644199317030986e-06,
          "m_probability_description": "Amongst matching record comparisons, 0.00% of records are in the jaro_winkler_similarity >= 0.6 comparison level",
          "max_comparison_vector_value": 3,
          "probability_two_random_records_match": 2.2824681576908936e-07,
          "sql_condition": "jaro_winkler_similarity(\"company_name_l\", \"company_name_r\") >= 0.6",
          "tf_adjustment_column": null,
          "tf_adjustment_weight": 1,
          "u_probability": 0.09440576059316999,
          "u_probability_description": "Amongst non-matching record comparisons, 9.44% of records are in the jaro_winkler_similarity >= 0.6 comparison level"
         },
         {
          "bayes_factor": 4.296928613203078e-06,
          "bayes_factor_description": "If comparison level is `all other comparisons` then comparison is  232,724.37 times less likely to be a match",
          "comparison_name": "company_name",
          "comparison_sort_order": 0,
          "comparison_vector_value": 0,
          "has_tf_adjustments": false,
          "is_null_level": false,
          "label_for_charts": "All other comparisons",
          "log2_bayes_factor": -17.828262760151212,
          "m_probability": 3.891273799259086e-06,
          "m_probability_description": "Amongst matching record comparisons, 0.00% of records are in the all other comparisons comparison level",
          "max_comparison_vector_value": 3,
          "probability_two_random_records_match": 2.2824681576908936e-07,
          "sql_condition": "ELSE",
          "tf_adjustment_column": null,
          "tf_adjustment_weight": 1,
          "u_probability": 0.90559423940683,
          "u_probability_description": "Amongst non-matching record comparisons, 90.56% of records are in the all other comparisons comparison level"
         },
         {
          "bayes_factor": 6967.79868693931,
          "bayes_factor_description": "If comparison level is `exact match postcode` then comparison is 6,967.80 times more likely to be a match",
          "comparison_name": "postcode",
          "comparison_sort_order": 1,
          "comparison_vector_value": 4,
          "has_tf_adjustments": false,
          "is_null_level": false,
          "label_for_charts": "Exact match postcode",
          "log2_bayes_factor": 12.766487226975748,
          "m_probability": 0.6623540185783227,
          "m_probability_description": "Amongst matching record comparisons, 66.24% of records are in the exact match postcode comparison level",
          "max_comparison_vector_value": 4,
          "probability_two_random_records_match": 2.2824681576908936e-07,
          "sql_condition": "lower(\"postcode_l\") = lower(\"postcode_r\")",
          "tf_adjustment_column": null,
          "tf_adjustment_weight": 1,
          "u_probability": 9.50592932341548e-05,
          "u_probability_description": "Amongst non-matching record comparisons, 0.01% of records are in the exact match postcode comparison level"
         },
         {
          "bayes_factor": 459.722336375772,
          "bayes_factor_description": "If comparison level is `exact match postcode sector` then comparison is 459.72 times more likely to be a match",
          "comparison_name": "postcode",
          "comparison_sort_order": 1,
          "comparison_vector_value": 3,
          "has_tf_adjustments": false,
          "is_null_level": false,
          "label_for_charts": "Exact match Postcode Sector",
          "log2_bayes_factor": 8.844618953374955,
          "m_probability": 0.0655513205697529,
          "m_probability_description": "Amongst matching record comparisons, 6.56% of records are in the exact match postcode sector comparison level",
          "max_comparison_vector_value": 4,
          "probability_two_random_records_match": 2.2824681576908936e-07,
          "sql_condition": "\n        regexp_extract(lower(\"postcode_l\"), '^[A-Za-z]{1,2}[0-9][A-Za-z0-9]? [0-9]')\n     = \n        regexp_extract(lower(\"postcode_r\"), '^[A-Za-z]{1,2}[0-9][A-Za-z0-9]? [0-9]')\n    ",
          "tf_adjustment_column": null,
          "tf_adjustment_weight": 1,
          "u_probability": 0.0001425889398512322,
          "u_probability_description": "Amongst non-matching record comparisons, 0.01% of records are in the exact match postcode sector comparison level"
         },
         {
          "bayes_factor": 108.80454006003016,
          "bayes_factor_description": "If comparison level is `exact match postcode district` then comparison is 108.80 times more likely to be a match",
          "comparison_name": "postcode",
          "comparison_sort_order": 1,
          "comparison_vector_value": 2,
          "has_tf_adjustments": false,
          "is_null_level": false,
          "label_for_charts": "Exact match Postcode District",
          "log2_bayes_factor": 6.765594946596759,
          "m_probability": 0.05042155305902204,
          "m_probability_description": "Amongst matching record comparisons, 5.04% of records are in the exact match postcode district comparison level",
          "max_comparison_vector_value": 4,
          "probability_two_random_records_match": 2.2824681576908936e-07,
          "sql_condition": "\n        regexp_extract(lower(\"postcode_l\"), '^[A-Za-z]{1,2}[0-9][A-Za-z0-9]?')\n     = \n        regexp_extract(lower(\"postcode_r\"), '^[A-Za-z]{1,2}[0-9][A-Za-z0-9]?')\n    ",
          "tf_adjustment_column": null,
          "tf_adjustment_weight": 1,
          "u_probability": 0.0004634140545165047,
          "u_probability_description": "Amongst non-matching record comparisons, 0.05% of records are in the exact match postcode district comparison level"
         },
         {
          "bayes_factor": 17.98989670573241,
          "bayes_factor_description": "If comparison level is `exact match postcode area` then comparison is 17.99 times more likely to be a match",
          "comparison_name": "postcode",
          "comparison_sort_order": 1,
          "comparison_vector_value": 1,
          "has_tf_adjustments": false,
          "is_null_level": false,
          "label_for_charts": "Exact match Postcode Area",
          "log2_bayes_factor": 4.169114997843882,
          "m_probability": 0.22167260253148252,
          "m_probability_description": "Amongst matching record comparisons, 22.17% of records are in the exact match postcode area comparison level",
          "max_comparison_vector_value": 4,
          "probability_two_random_records_match": 2.2824681576908936e-07,
          "sql_condition": "\n        regexp_extract(lower(\"postcode_l\"), '^[A-Za-z]{1,2}')\n     = \n        regexp_extract(lower(\"postcode_r\"), '^[A-Za-z]{1,2}')\n    ",
          "tf_adjustment_column": null,
          "tf_adjustment_weight": 1,
          "u_probability": 0.012322060885477316,
          "u_probability_description": "Amongst non-matching record comparisons, 1.23% of records are in the exact match postcode area comparison level"
         },
         {
          "bayes_factor": 5.119283255544672e-07,
          "bayes_factor_description": "If comparison level is `all other comparisons` then comparison is  1,953,398.45 times less likely to be a match",
          "comparison_name": "postcode",
          "comparison_sort_order": 1,
          "comparison_vector_value": 0,
          "has_tf_adjustments": false,
          "is_null_level": false,
          "label_for_charts": "All other comparisons",
          "log2_bayes_factor": -20.89755482977835,
          "m_probability": 5.052614199149832e-07,
          "m_probability_description": "Amongst matching record comparisons, 0.00% of records are in the all other comparisons comparison level",
          "max_comparison_vector_value": 4,
          "probability_two_random_records_match": 2.2824681576908936e-07,
          "sql_condition": "ELSE",
          "tf_adjustment_column": null,
          "tf_adjustment_weight": 1,
          "u_probability": 0.9869768768269208,
          "u_probability_description": "Amongst non-matching record comparisons, 98.70% of records are in the all other comparisons comparison level"
         }
        ]
       },
       "params": [
        {
         "bind": "scales",
         "name": "mouse_zoom",
         "select": {
          "encodings": [
           "x"
          ],
          "type": "interval"
         },
         "views": []
        }
       ],
       "resolve": {
        "axis": {
         "y": "independent"
        },
        "scale": {
         "y": "independent"
        }
       },
       "title": {
        "subtitle": "Use mousewheel to zoom",
        "text": "Model parameters (components of final match weight)"
       },
       "vconcat": [
        {
         "encoding": {
          "color": {
           "field": "log2_bayes_factor",
           "scale": {
            "domain": [
             -10,
             0,
             10
            ],
            "range": [
             "red",
             "orange",
             "green"
            ]
           },
           "title": "Match weight",
           "type": "quantitative"
          },
          "tooltip": [
           {
            "field": "comparison_name",
            "title": "Comparison name",
            "type": "nominal"
           },
           {
            "field": "probability_two_random_records_match",
            "format": ".4f",
            "title": "Probability two random records match",
            "type": "nominal"
           },
           {
            "field": "log2_bayes_factor",
            "format": ",.4f",
            "title": "Equivalent match weight",
            "type": "quantitative"
           },
           {
            "field": "bayes_factor_description",
            "title": "Match weight description",
            "type": "nominal"
           }
          ],
          "x": {
           "axis": {
            "domain": false,
            "labels": false,
            "ticks": false,
            "title": ""
           },
           "field": "log2_bayes_factor",
           "scale": {
            "domain": [
             -10,
             10
            ]
           },
           "type": "quantitative"
          },
          "y": {
           "axis": {
            "title": "Prior (starting) match weight",
            "titleAlign": "right",
            "titleAngle": 0,
            "titleFontWeight": "normal"
           },
           "field": "label_for_charts",
           "sort": {
            "field": "comparison_vector_value",
            "order": "descending"
           },
           "type": "nominal"
          }
         },
         "height": 20,
         "mark": {
          "clip": true,
          "height": 15,
          "type": "bar"
         },
         "transform": [
          {
           "filter": "(datum.comparison_name == 'probability_two_random_records_match')"
          }
         ]
        },
        {
         "encoding": {
          "color": {
           "field": "log2_bayes_factor",
           "scale": {
            "domain": [
             -10,
             0,
             10
            ],
            "range": [
             "red",
             "orange",
             "green"
            ]
           },
           "title": "Match weight",
           "type": "quantitative"
          },
          "row": {
           "field": "comparison_name",
           "header": {
            "labelAlign": "left",
            "labelAnchor": "middle",
            "labelAngle": 0
           },
           "sort": {
            "field": "comparison_sort_order"
           },
           "type": "nominal"
          },
          "tooltip": [
           {
            "field": "comparison_name",
            "title": "Comparison name",
            "type": "nominal"
           },
           {
            "field": "label_for_charts",
            "title": "Label",
            "type": "ordinal"
           },
           {
            "field": "sql_condition",
            "title": "SQL condition",
            "type": "nominal"
           },
           {
            "field": "m_probability",
            "format": ".4f",
            "title": "M probability",
            "type": "quantitative"
           },
           {
            "field": "u_probability",
            "format": ".4f",
            "title": "U probability",
            "type": "quantitative"
           },
           {
            "field": "bayes_factor",
            "format": ",.4f",
            "title": "Bayes factor = m/u",
            "type": "quantitative"
           },
           {
            "field": "log2_bayes_factor",
            "format": ",.4f",
            "title": "Match weight = log2(m/u)",
            "type": "quantitative"
           },
           {
            "field": "bayes_factor_description",
            "title": "Match weight description",
            "type": "nominal"
           }
          ],
          "x": {
           "axis": {
            "title": "Comparison level match weight = log2(m/u)"
           },
           "field": "log2_bayes_factor",
           "scale": {
            "domain": [
             -10,
             10
            ]
           },
           "type": "quantitative"
          },
          "y": {
           "axis": {
            "title": null
           },
           "field": "label_for_charts",
           "sort": {
            "field": "comparison_vector_value",
            "order": "descending"
           },
           "type": "nominal"
          }
         },
         "height": {
          "step": 12
         },
         "mark": {
          "clip": true,
          "type": "bar"
         },
         "resolve": {
          "axis": {
           "y": "independent"
          },
          "scale": {
           "y": "independent"
          }
         },
         "transform": [
          {
           "filter": "(datum.comparison_name != 'probability_two_random_records_match')"
          }
         ]
        }
       ]
      },
      "image/png": "[encoded data removed]",
      "text/plain": [
       "<VegaLite 5 object>\n",
       "\n",
       "If you see this message, it means the renderer has not been properly enabled\n",
       "for the frontend that you are using. For more information, see\n",
       "https://altair-viz.github.io/user_guide/display_frontends.html#troubleshooting\n"
      ]
     },
     "execution_count": 50,
     "metadata": {},
     "output_type": "execute_result"
    }
   ],
   "source": [
    "linker.match_weights_chart()"
   ]
  },
  {
   "cell_type": "code",
   "execution_count": 51,
   "id": "8520c766-1873-41ea-bbfa-fd00adafba9b",
   "metadata": {},
   "outputs": [
    {
     "data": {
      "application/vnd.vegalite.v5+json": {
       "$schema": "https://vega.github.io/schema/vega-lite/v5.9.3.json",
       "config": {
        "header": {
         "title": null
        },
        "title": {
         "anchor": "middle",
         "offset": 10
        },
        "view": {
         "continuousHeight": 300,
         "continuousWidth": 300,
         "discreteHeight": 300,
         "discreteWidth": 400
        }
       },
       "data": {
        "name": "data-26e581481633eb3ba26503d0ee6f9b19"
       },
       "datasets": {
        "data-26e581481633eb3ba26503d0ee6f9b19": [
         {
          "bayes_factor": 1077.8881005286016,
          "bayes_factor_description": "If comparison level is `exact match` then comparison is 1,077.89 times more likely to be a match",
          "comparison_name": "company_name",
          "comparison_sort_order": 0,
          "comparison_vector_value": 3,
          "has_tf_adjustments": true,
          "is_null_level": false,
          "label_for_charts": "Exact match",
          "log2_bayes_factor": 10.073991699123706,
          "m_probability": 0.9999938432638393,
          "m_probability_description": "Amongst matching record comparisons, 100.00% of records are in the exact match comparison level",
          "max_comparison_vector_value": 3,
          "probability_two_random_records_match": 2.2824681576908936e-07,
          "sql_condition": "\"company_name_l\" = \"company_name_r\"",
          "tf_adjustment_column": "company_name",
          "tf_adjustment_weight": 1,
          "u_probability": 0.000927734375,
          "u_probability_description": "Amongst non-matching record comparisons, 0.09% of records are in the exact match comparison level"
         },
         {
          "bayes_factor": 5.003662767779489e-07,
          "bayes_factor_description": "If comparison level is `jaro_winkler_similarity >= 0.9` then comparison is  1,998,535.97 times less likely to be a match",
          "comparison_name": "company_name",
          "comparison_sort_order": 0,
          "comparison_vector_value": 2,
          "has_tf_adjustments": false,
          "is_null_level": false,
          "label_for_charts": "Jaro_winkler_similarity >= 0.9",
          "log2_bayes_factor": -20.93051210485307,
          "m_probability": 1.0424297432873944e-09,
          "m_probability_description": "Amongst matching record comparisons, 0.00% of records are in the jaro_winkler_similarity >= 0.9 comparison level",
          "max_comparison_vector_value": 3,
          "probability_two_random_records_match": 2.2824681576908936e-07,
          "sql_condition": "jaro_winkler_similarity(\"company_name_l\", \"company_name_r\") >= 0.9",
          "tf_adjustment_column": null,
          "tf_adjustment_weight": 1,
          "u_probability": 0.002083333333333335,
          "u_probability_description": "Amongst non-matching record comparisons, 0.21% of records are in the jaro_winkler_similarity >= 0.9 comparison level"
         },
         {
          "bayes_factor": 2.398603557108488e-05,
          "bayes_factor_description": "If comparison level is `jaro_winkler_similarity >= 0.6` then comparison is  41,690.92 times less likely to be a match",
          "comparison_name": "company_name",
          "comparison_sort_order": 0,
          "comparison_vector_value": 1,
          "has_tf_adjustments": false,
          "is_null_level": false,
          "label_for_charts": "Jaro_winkler_similarity >= 0.6",
          "log2_bayes_factor": -15.347445746758282,
          "m_probability": 2.2644199317030986e-06,
          "m_probability_description": "Amongst matching record comparisons, 0.00% of records are in the jaro_winkler_similarity >= 0.6 comparison level",
          "max_comparison_vector_value": 3,
          "probability_two_random_records_match": 2.2824681576908936e-07,
          "sql_condition": "jaro_winkler_similarity(\"company_name_l\", \"company_name_r\") >= 0.6",
          "tf_adjustment_column": null,
          "tf_adjustment_weight": 1,
          "u_probability": 0.09440576059316999,
          "u_probability_description": "Amongst non-matching record comparisons, 9.44% of records are in the jaro_winkler_similarity >= 0.6 comparison level"
         },
         {
          "bayes_factor": 4.296928613203078e-06,
          "bayes_factor_description": "If comparison level is `all other comparisons` then comparison is  232,724.37 times less likely to be a match",
          "comparison_name": "company_name",
          "comparison_sort_order": 0,
          "comparison_vector_value": 0,
          "has_tf_adjustments": false,
          "is_null_level": false,
          "label_for_charts": "All other comparisons",
          "log2_bayes_factor": -17.828262760151212,
          "m_probability": 3.891273799259086e-06,
          "m_probability_description": "Amongst matching record comparisons, 0.00% of records are in the all other comparisons comparison level",
          "max_comparison_vector_value": 3,
          "probability_two_random_records_match": 2.2824681576908936e-07,
          "sql_condition": "ELSE",
          "tf_adjustment_column": null,
          "tf_adjustment_weight": 1,
          "u_probability": 0.90559423940683,
          "u_probability_description": "Amongst non-matching record comparisons, 90.56% of records are in the all other comparisons comparison level"
         },
         {
          "bayes_factor": 6967.79868693931,
          "bayes_factor_description": "If comparison level is `exact match postcode` then comparison is 6,967.80 times more likely to be a match",
          "comparison_name": "postcode",
          "comparison_sort_order": 1,
          "comparison_vector_value": 4,
          "has_tf_adjustments": false,
          "is_null_level": false,
          "label_for_charts": "Exact match postcode",
          "log2_bayes_factor": 12.766487226975748,
          "m_probability": 0.6623540185783227,
          "m_probability_description": "Amongst matching record comparisons, 66.24% of records are in the exact match postcode comparison level",
          "max_comparison_vector_value": 4,
          "probability_two_random_records_match": 2.2824681576908936e-07,
          "sql_condition": "lower(\"postcode_l\") = lower(\"postcode_r\")",
          "tf_adjustment_column": null,
          "tf_adjustment_weight": 1,
          "u_probability": 9.50592932341548e-05,
          "u_probability_description": "Amongst non-matching record comparisons, 0.01% of records are in the exact match postcode comparison level"
         },
         {
          "bayes_factor": 459.722336375772,
          "bayes_factor_description": "If comparison level is `exact match postcode sector` then comparison is 459.72 times more likely to be a match",
          "comparison_name": "postcode",
          "comparison_sort_order": 1,
          "comparison_vector_value": 3,
          "has_tf_adjustments": false,
          "is_null_level": false,
          "label_for_charts": "Exact match Postcode Sector",
          "log2_bayes_factor": 8.844618953374955,
          "m_probability": 0.0655513205697529,
          "m_probability_description": "Amongst matching record comparisons, 6.56% of records are in the exact match postcode sector comparison level",
          "max_comparison_vector_value": 4,
          "probability_two_random_records_match": 2.2824681576908936e-07,
          "sql_condition": "\n        regexp_extract(lower(\"postcode_l\"), '^[A-Za-z]{1,2}[0-9][A-Za-z0-9]? [0-9]')\n     = \n        regexp_extract(lower(\"postcode_r\"), '^[A-Za-z]{1,2}[0-9][A-Za-z0-9]? [0-9]')\n    ",
          "tf_adjustment_column": null,
          "tf_adjustment_weight": 1,
          "u_probability": 0.0001425889398512322,
          "u_probability_description": "Amongst non-matching record comparisons, 0.01% of records are in the exact match postcode sector comparison level"
         },
         {
          "bayes_factor": 108.80454006003016,
          "bayes_factor_description": "If comparison level is `exact match postcode district` then comparison is 108.80 times more likely to be a match",
          "comparison_name": "postcode",
          "comparison_sort_order": 1,
          "comparison_vector_value": 2,
          "has_tf_adjustments": false,
          "is_null_level": false,
          "label_for_charts": "Exact match Postcode District",
          "log2_bayes_factor": 6.765594946596759,
          "m_probability": 0.05042155305902204,
          "m_probability_description": "Amongst matching record comparisons, 5.04% of records are in the exact match postcode district comparison level",
          "max_comparison_vector_value": 4,
          "probability_two_random_records_match": 2.2824681576908936e-07,
          "sql_condition": "\n        regexp_extract(lower(\"postcode_l\"), '^[A-Za-z]{1,2}[0-9][A-Za-z0-9]?')\n     = \n        regexp_extract(lower(\"postcode_r\"), '^[A-Za-z]{1,2}[0-9][A-Za-z0-9]?')\n    ",
          "tf_adjustment_column": null,
          "tf_adjustment_weight": 1,
          "u_probability": 0.0004634140545165047,
          "u_probability_description": "Amongst non-matching record comparisons, 0.05% of records are in the exact match postcode district comparison level"
         },
         {
          "bayes_factor": 17.98989670573241,
          "bayes_factor_description": "If comparison level is `exact match postcode area` then comparison is 17.99 times more likely to be a match",
          "comparison_name": "postcode",
          "comparison_sort_order": 1,
          "comparison_vector_value": 1,
          "has_tf_adjustments": false,
          "is_null_level": false,
          "label_for_charts": "Exact match Postcode Area",
          "log2_bayes_factor": 4.169114997843882,
          "m_probability": 0.22167260253148252,
          "m_probability_description": "Amongst matching record comparisons, 22.17% of records are in the exact match postcode area comparison level",
          "max_comparison_vector_value": 4,
          "probability_two_random_records_match": 2.2824681576908936e-07,
          "sql_condition": "\n        regexp_extract(lower(\"postcode_l\"), '^[A-Za-z]{1,2}')\n     = \n        regexp_extract(lower(\"postcode_r\"), '^[A-Za-z]{1,2}')\n    ",
          "tf_adjustment_column": null,
          "tf_adjustment_weight": 1,
          "u_probability": 0.012322060885477316,
          "u_probability_description": "Amongst non-matching record comparisons, 1.23% of records are in the exact match postcode area comparison level"
         },
         {
          "bayes_factor": 5.119283255544672e-07,
          "bayes_factor_description": "If comparison level is `all other comparisons` then comparison is  1,953,398.45 times less likely to be a match",
          "comparison_name": "postcode",
          "comparison_sort_order": 1,
          "comparison_vector_value": 0,
          "has_tf_adjustments": false,
          "is_null_level": false,
          "label_for_charts": "All other comparisons",
          "log2_bayes_factor": -20.89755482977835,
          "m_probability": 5.052614199149832e-07,
          "m_probability_description": "Amongst matching record comparisons, 0.00% of records are in the all other comparisons comparison level",
          "max_comparison_vector_value": 4,
          "probability_two_random_records_match": 2.2824681576908936e-07,
          "sql_condition": "ELSE",
          "tf_adjustment_column": null,
          "tf_adjustment_weight": 1,
          "u_probability": 0.9869768768269208,
          "u_probability_description": "Amongst non-matching record comparisons, 98.70% of records are in the all other comparisons comparison level"
         }
        ]
       },
       "hconcat": [
        {
         "encoding": {
          "color": {
           "value": "green"
          },
          "row": {
           "field": "comparison_name",
           "header": {
            "labelAlign": "left",
            "labelAnchor": "middle",
            "labelAngle": 0
           },
           "sort": {
            "field": "comparison_sort_order"
           },
           "type": "nominal"
          },
          "tooltip": [
           {
            "field": "m_probability_description",
            "title": "m probability description",
            "type": "nominal"
           },
           {
            "field": "comparison_name",
            "title": "Comparison column name",
            "type": "nominal"
           },
           {
            "field": "label_for_charts",
            "title": "Label",
            "type": "ordinal"
           },
           {
            "field": "sql_condition",
            "title": "SQL condition",
            "type": "nominal"
           },
           {
            "field": "m_probability",
            "format": ".4p",
            "title": "m probability",
            "type": "quantitative"
           },
           {
            "field": "u_probability",
            "format": ".4p",
            "title": "u probability",
            "type": "quantitative"
           },
           {
            "field": "bayes_factor",
            "format": ",.4f",
            "title": "Bayes factor = m/u",
            "type": "quantitative"
           },
           {
            "field": "log2_bayes_factor",
            "format": ",.4f",
            "title": "Match weight = log2(m/u)",
            "type": "quantitative"
           }
          ],
          "x": {
           "axis": {
            "title": "Proportion of record comparisons"
           },
           "field": "m_probability",
           "type": "quantitative"
          },
          "y": {
           "axis": {
            "title": null
           },
           "field": "label_for_charts",
           "sort": {
            "field": "comparison_vector_value",
            "order": "descending"
           },
           "type": "nominal"
          }
         },
         "height": {
          "step": 12
         },
         "mark": "bar",
         "resolve": {
          "scale": {
           "y": "independent"
          }
         },
         "title": {
          "fontSize": 12,
          "fontWeight": "bold",
          "text": "Amongst matching record comparisons:"
         },
         "transform": [
          {
           "filter": "(datum.bayes_factor != 'no-op filter due to vega lite issue 4680')"
          }
         ],
         "width": 150
        },
        {
         "encoding": {
          "color": {
           "value": "red"
          },
          "row": {
           "field": "comparison_name",
           "header": {
            "labels": false
           },
           "sort": {
            "field": "comparison_sort_order"
           },
           "type": "nominal"
          },
          "tooltip": [
           {
            "field": "u_probability_description",
            "title": "u probability description",
            "type": "nominal"
           },
           {
            "field": "comparison_name",
            "title": "Comparison column name",
            "type": "nominal"
           },
           {
            "field": "label_for_charts",
            "title": "Label",
            "type": "ordinal"
           },
           {
            "field": "sql_condition",
            "title": "SQL condition",
            "type": "nominal"
           },
           {
            "field": "m_probability",
            "format": ".4p",
            "title": "m probability",
            "type": "quantitative"
           },
           {
            "field": "u_probability",
            "format": ".4p",
            "title": "u probability",
            "type": "quantitative"
           },
           {
            "field": "bayes_factor",
            "format": ",.4f",
            "title": "Bayes factor = m/u",
            "type": "quantitative"
           },
           {
            "field": "log2_bayes_factor",
            "format": ",.4f",
            "title": "Match weight = log2(m/u)",
            "type": "quantitative"
           }
          ],
          "x": {
           "axis": {
            "title": "Proportion of record comparisons"
           },
           "field": "u_probability",
           "type": "quantitative"
          },
          "y": {
           "axis": {
            "title": null
           },
           "field": "label_for_charts",
           "sort": {
            "field": "comparison_vector_value",
            "order": "descending"
           },
           "type": "nominal"
          }
         },
         "height": {
          "step": 12
         },
         "mark": "bar",
         "resolve": {
          "scale": {
           "y": "independent"
          }
         },
         "title": {
          "fontSize": 12,
          "fontWeight": "bold",
          "text": "Amongst non-matching record comparisons:"
         },
         "transform": [
          {
           "filter": "(datum.bayes_factor != 'no-op filter2 due to vega lite issue 4680')"
          }
         ],
         "width": 150
        }
       ],
       "title": {
        "subtitle": "(m and u probabilities)",
        "text": "Proportion of record comparisons in each comparison level by match status"
       }
      },
      "image/png": "[encoded data removed]",
      "text/plain": [
       "<VegaLite 5 object>\n",
       "\n",
       "If you see this message, it means the renderer has not been properly enabled\n",
       "for the frontend that you are using. For more information, see\n",
       "https://altair-viz.github.io/user_guide/display_frontends.html#troubleshooting\n"
      ]
     },
     "execution_count": 51,
     "metadata": {},
     "output_type": "execute_result"
    }
   ],
   "source": [
    "linker.m_u_parameters_chart()"
   ]
  },
  {
   "cell_type": "code",
   "execution_count": 52,
   "id": "4fae1eea-8adb-43c7-851c-7130d548037e",
   "metadata": {},
   "outputs": [
    {
     "data": {
      "application/vnd.vegalite.v5+json": {
       "$schema": "https://vega.github.io/schema/vega-lite/v5.9.3.json",
       "config": {
        "view": {
         "continuousHeight": 300,
         "continuousWidth": 400
        }
       },
       "data": {
        "name": "data-5d958450f019fd7fb0586192a9efb3df"
       },
       "datasets": {
        "data-5d958450f019fd7fb0586192a9efb3df": [
         {
          "cum_prop": 3.503608604660258e-05,
          "match_probability": 0.00159,
          "match_weight": -9.3,
          "prop": 3.503608604660258e-05
         },
         {
          "cum_prop": 6.30649556114804e-05,
          "match_probability": 0.98268,
          "match_weight": 5.83,
          "prop": 2.8028869564877823e-05
         },
         {
          "cum_prop": 8.759021693549585e-05,
          "match_probability": 0.98481,
          "match_weight": 6.02,
          "prop": 2.4525261324015446e-05
         },
         {
          "cum_prop": 0.00019269847507530358,
          "match_probability": 0.98695,
          "match_weight": 6.24,
          "prop": 0.00010510825813980773
         },
         {
          "cum_prop": 0.0005430593500932446,
          "match_probability": 0.9891,
          "match_weight": 6.5,
          "prop": 0.000350360875017941
         },
         {
          "cum_prop": 0.002014574978602468,
          "match_probability": 0.99126,
          "match_weight": 6.83,
          "prop": 0.0014715156285092235
         },
         {
          "cum_prop": 0.007291009567779838,
          "match_probability": 0.99343,
          "match_weight": 7.24,
          "prop": 0.00527643458917737
         },
         {
          "cum_prop": 0.038970639847320854,
          "match_probability": 0.99561,
          "match_weight": 7.83,
          "prop": 0.031679630279541016
         },
         {
          "cum_prop": 0.9999999906049197,
          "match_probability": 0.9978,
          "match_weight": 8.83,
          "prop": 0.9610293507575989
         }
        ]
       },
       "height": 400,
       "layer": [
        {
         "encoding": {
          "x": {
           "axis": {
            "format": "+",
            "title": "Threshold match weight"
           },
           "field": "match_weight",
           "type": "quantitative"
          },
          "y": {
           "axis": {
            "format": "%",
            "title": "Percentage of unlinkable records"
           },
           "field": "cum_prop",
           "type": "quantitative"
          }
         },
         "mark": {
          "type": "line"
         }
        },
        {
         "encoding": {
          "opacity": {
           "condition": {
            "empty": false,
            "param": "x_match_weight_y_cum_prop_coords_of_mouse",
            "value": 1
           },
           "value": 0
          },
          "tooltip": [
           {
            "field": "match_weight",
            "format": "+.5",
            "title": "Match weight",
            "type": "quantitative"
           },
           {
            "field": "match_probability",
            "format": ".5",
            "title": "Match probability",
            "type": "quantitative"
           },
           {
            "field": "cum_prop",
            "format": ".3%",
            "title": "Proportion of unlinkable records",
            "type": "quantitative"
           }
          ],
          "x": {
           "axis": {
            "title": "Threshold match weight"
           },
           "field": "match_weight",
           "type": "quantitative"
          },
          "y": {
           "axis": {
            "format": "%",
            "title": "Percentage of unlinkable records"
           },
           "field": "cum_prop",
           "type": "quantitative"
          }
         },
         "mark": {
          "type": "point"
         },
         "name": "mouse_coords"
        },
        {
         "encoding": {
          "x": {
           "field": "match_weight",
           "type": "quantitative"
          }
         },
         "mark": {
          "color": "gray",
          "type": "rule"
         },
         "transform": [
          {
           "filter": {
            "empty": false,
            "param": "x_match_weight_y_cum_prop_coords_of_mouse"
           }
          }
         ]
        },
        {
         "encoding": {
          "y": {
           "field": "cum_prop",
           "type": "quantitative"
          }
         },
         "mark": {
          "color": "gray",
          "type": "rule"
         },
         "transform": [
          {
           "filter": {
            "empty": false,
            "param": "x_match_weight_y_cum_prop_coords_of_mouse"
           }
          }
         ]
        }
       ],
       "params": [
        {
         "name": "x_match_weight_y_cum_prop_coords_of_mouse",
         "select": {
          "fields": [
           "match_weight",
           "cum_prop"
          ],
          "nearest": true,
          "on": "mouseover",
          "type": "point"
         },
         "views": [
          "mouse_coords"
         ]
        }
       ],
       "title": {
        "subtitle": "Records with insufficient information to exceed a given match threshold",
        "text": "Unlinkable records"
       },
       "width": 400
      },
      "image/png": "[encoded data removed]",
      "text/plain": [
       "<VegaLite 5 object>\n",
       "\n",
       "If you see this message, it means the renderer has not been properly enabled\n",
       "for the frontend that you are using. For more information, see\n",
       "https://altair-viz.github.io/user_guide/display_frontends.html#troubleshooting\n"
      ]
     },
     "execution_count": 52,
     "metadata": {},
     "output_type": "execute_result"
    }
   ],
   "source": [
    "linker.unlinkables_chart()"
   ]
  }
 ],
 "metadata": {
  "kernelspec": {
   "display_name": "company_matching",
   "language": "python",
   "name": "company_matching"
  },
  "language_info": {
   "codemirror_mode": {
    "name": "ipython",
    "version": 3
   },
   "file_extension": ".py",
   "mimetype": "text/x-python",
   "name": "python",
   "nbconvert_exporter": "python",
   "pygments_lexer": "ipython3",
   "version": "3.9.16"
  }
 },
 "nbformat": 4,
 "nbformat_minor": 5
}
