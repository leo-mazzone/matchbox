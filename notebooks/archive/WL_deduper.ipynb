{
 "cells": [
  {
   "cell_type": "code",
   "execution_count": 1,
   "id": "4b9d18fd-bb52-415b-871c-728626594c00",
   "metadata": {},
   "outputs": [],
   "source": [
    "%load_ext autoreload\n",
    "%autoreload 2"
   ]
  },
  {
   "cell_type": "code",
   "execution_count": 2,
   "id": "25dd6661-910a-4d07-8149-cff950b0a208",
   "metadata": {},
   "outputs": [],
   "source": [
    "import cProfile\n",
    "import hashlib\n",
    "import uuid\n",
    "from pathlib import Path\n",
    "\n",
    "import pandas as pd\n",
    "from IPython.core.interactiveshell import InteractiveShell\n",
    "\n",
    "import cmf.locations as loc\n",
    "from cmf import make_deduper, process, query\n",
    "from cmf.clean import company_name, company_number\n",
    "from cmf.data import utils as du\n",
    "from cmf.dedupers import Naive\n",
    "from cmf.helpers import cleaner, cleaners\n",
    "\n",
    "InteractiveShell.ast_node_interactivity = \"all\""
   ]
  },
  {
   "cell_type": "code",
   "execution_count": 3,
   "id": "d06826cf-60d4-4916-9e82-8358f8f3cb1f",
   "metadata": {},
   "outputs": [],
   "source": [
    "df = pd.read_csv(Path(loc.TEST, \"data\", \"all_companies.csv\")).reset_index(names=\"id\")\n",
    "df[\"id\"] = df[\"id\"].apply(lambda x: uuid.UUID(int=x))"
   ]
  },
  {
   "cell_type": "code",
   "execution_count": 47,
   "id": "fc58ac12-7971-4c5c-8525-8ced4e692f20",
   "metadata": {},
   "outputs": [
    {
     "data": {
      "text/plain": [
       "0    b\"\\x86{\\x8fL\\xffDQ?.('\\x9d\\xeb\\xd9j'\\x1b\\x85]\\...\n",
       "1    b'\\xad\\xff\\x98\\xd2\\xa2\\xa0\\x0c\\x06D\\x84\\xe9\\xc...\n",
       "2    b'\\xc6\\x04/\\x89\\x89\\xca\\xb3\\x95q\\x87\\xa4\\x9a?A...\n",
       "3    b'\\xa2\\xd2\\xc7\\x99\\xd3\\x08t0\\x84\\x81\\xed\\x1f\\x...\n",
       "4    b'\\x8d=}\\x16\\r\\xfa\\xf7\\x1d/M\\xfd\\xeaG\\x8dM1\\x8...\n",
       "5      b\"D\\x03\\x123\\x7f9\\x1f'W\\xeb&Ud\\xb9]])*\\x80\\xdd\"\n",
       "6    b'\\xa3\\x99\\xf6x2K\\xc4\\x131\\x05qW\\xabW\\xc5r\\x13...\n",
       "7    b'7\\xb6h1[\\xfet\\xcb\\xe2Hk4V\\x9c\\xb4\\x7f\\xf7\\xd...\n",
       "8    b'\\xd5\\x83\\xd3\\xc3\\xc6\\xb8\\x07\\xff\\xe6<Qcc)\\xa...\n",
       "9    b'\\xf4N\\xe0\\xadA(\\x9ew\\xaf+\\xc2\\x8c\\x89\\xca0o\\...\n",
       "dtype: object"
      ]
     },
     "execution_count": 47,
     "metadata": {},
     "output_type": "execute_result"
    }
   ],
   "source": [
    "sha1_series_1 = du.columns_to_value_ordered_sha1(\n",
    "    data=df.head(10), columns=[\"id\", \"company_name\", \"crn\", \"duns\", \"cdms\"]\n",
    ")\n",
    "sha1_series_1"
   ]
  },
  {
   "cell_type": "code",
   "execution_count": 32,
   "id": "5a5e0751-0510-4783-8de9-6b4eb3d6a90f",
   "metadata": {},
   "outputs": [],
   "source": [
    "records = du.columns_to_value_ordered_sha1(\n",
    "    data=df, columns=[\"id\", \"company_name\", \"crn\", \"duns\", \"cdms\"]\n",
    ")"
   ]
  },
  {
   "cell_type": "code",
   "execution_count": 39,
   "id": "83ec1fdb-c26a-4e1d-a1eb-6fbd509ed6c1",
   "metadata": {},
   "outputs": [
    {
     "data": {
      "text/plain": [
       "Index(['id', 'company_name', 'crn', 'address', 'duns', 'cdms'], dtype='object')"
      ]
     },
     "execution_count": 39,
     "metadata": {},
     "output_type": "execute_result"
    }
   ],
   "source": [
    "df.columns"
   ]
  },
  {
   "cell_type": "code",
   "execution_count": 4,
   "id": "b351d8f2-1b9d-470e-aade-f475002d6f73",
   "metadata": {},
   "outputs": [],
   "source": [
    "top = (\n",
    "    df.head(500)\n",
    "    .rename(\n",
    "        columns={\n",
    "            \"company_name\": \"address\",\n",
    "            \"address\": \"company_name\",\n",
    "            \"duns\": \"crn\",\n",
    "            \"crn\": \"duns\",\n",
    "        }\n",
    "    )\n",
    "    .filter([\"id\", \"company_name\", \"crn\", \"address\", \"duns\", \"cdms\"])\n",
    ")\n",
    "df2 = pd.concat([top, df.tail(500)])"
   ]
  },
  {
   "cell_type": "code",
   "execution_count": 23,
   "id": "02276ad1-67ef-493c-9ad8-be455967fd38",
   "metadata": {},
   "outputs": [
    {
     "data": {
      "text/html": [
       "<div>\n",
       "<style scoped>\n",
       "    .dataframe tbody tr th:only-of-type {\n",
       "        vertical-align: middle;\n",
       "    }\n",
       "\n",
       "    .dataframe tbody tr th {\n",
       "        vertical-align: top;\n",
       "    }\n",
       "\n",
       "    .dataframe thead th {\n",
       "        text-align: right;\n",
       "    }\n",
       "</style>\n",
       "<table border=\"1\" class=\"dataframe\">\n",
       "  <thead>\n",
       "    <tr style=\"text-align: right;\">\n",
       "      <th></th>\n",
       "      <th>id</th>\n",
       "      <th>company_name</th>\n",
       "      <th>crn</th>\n",
       "      <th>address</th>\n",
       "      <th>duns</th>\n",
       "      <th>cdms</th>\n",
       "    </tr>\n",
       "  </thead>\n",
       "  <tbody>\n",
       "    <tr>\n",
       "      <th>0</th>\n",
       "      <td>00000000-0000-0000-0000-000000000000</td>\n",
       "      <td>Dooley Inc</td>\n",
       "      <td>01HHGX9BHARZT77WHVWCYJSWSF</td>\n",
       "      <td>Room 577</td>\n",
       "      <td>111111111</td>\n",
       "      <td>ORG-55555555</td>\n",
       "    </tr>\n",
       "  </tbody>\n",
       "</table>\n",
       "</div>"
      ],
      "text/plain": [
       "                                     id company_name  \\\n",
       "0  00000000-0000-0000-0000-000000000000   Dooley Inc   \n",
       "\n",
       "                          crn   address       duns          cdms  \n",
       "0  01HHGX9BHARZT77WHVWCYJSWSF  Room 577  111111111  ORG-55555555  "
      ]
     },
     "execution_count": 23,
     "metadata": {},
     "output_type": "execute_result"
    },
    {
     "name": "stdout",
     "output_type": "stream",
     "text": [
      "[b'00000000-0000-0000-0000-000000000000', b'01HHGX9BHARZT77WHVWCYJSWSF', b'111111111', b'Dooley Inc', b'ORG-55555555', b'Room 577']\n"
     ]
    },
    {
     "data": {
      "text/plain": [
       "b'\\xdc`\\xe6E\\xa9R\\x16\\x98\\xd04\\xcfO\\x85\\xf2\\x1a\\xfc\\xe9\\xffT\\x87'"
      ]
     },
     "execution_count": 23,
     "metadata": {},
     "output_type": "execute_result"
    }
   ],
   "source": [
    "df.head(1)\n",
    "sha1_series_1 = du.columns_to_value_ordered_sha1(\n",
    "    data=df.head(1), columns=[\"id\", \"company_name\", \"address\", \"crn\", \"duns\", \"cdms\"]\n",
    ")\n",
    "sha1_series_1[0]"
   ]
  },
  {
   "cell_type": "code",
   "execution_count": 24,
   "id": "7a95dd5e-f9a2-4944-a608-8eb132ee975c",
   "metadata": {},
   "outputs": [
    {
     "data": {
      "text/html": [
       "<div>\n",
       "<style scoped>\n",
       "    .dataframe tbody tr th:only-of-type {\n",
       "        vertical-align: middle;\n",
       "    }\n",
       "\n",
       "    .dataframe tbody tr th {\n",
       "        vertical-align: top;\n",
       "    }\n",
       "\n",
       "    .dataframe thead th {\n",
       "        text-align: right;\n",
       "    }\n",
       "</style>\n",
       "<table border=\"1\" class=\"dataframe\">\n",
       "  <thead>\n",
       "    <tr style=\"text-align: right;\">\n",
       "      <th></th>\n",
       "      <th>id</th>\n",
       "      <th>company_name</th>\n",
       "      <th>crn</th>\n",
       "      <th>address</th>\n",
       "      <th>duns</th>\n",
       "      <th>cdms</th>\n",
       "    </tr>\n",
       "  </thead>\n",
       "  <tbody>\n",
       "    <tr>\n",
       "      <th>0</th>\n",
       "      <td>00000000-0000-0000-0000-000000000000</td>\n",
       "      <td>Room 577</td>\n",
       "      <td>111111111</td>\n",
       "      <td>Dooley Inc</td>\n",
       "      <td>01HHGX9BHARZT77WHVWCYJSWSF</td>\n",
       "      <td>ORG-55555555</td>\n",
       "    </tr>\n",
       "  </tbody>\n",
       "</table>\n",
       "</div>"
      ],
      "text/plain": [
       "                                     id company_name        crn     address  \\\n",
       "0  00000000-0000-0000-0000-000000000000     Room 577  111111111  Dooley Inc   \n",
       "\n",
       "                         duns          cdms  \n",
       "0  01HHGX9BHARZT77WHVWCYJSWSF  ORG-55555555  "
      ]
     },
     "execution_count": 24,
     "metadata": {},
     "output_type": "execute_result"
    },
    {
     "name": "stdout",
     "output_type": "stream",
     "text": [
      "[b'00000000-0000-0000-0000-000000000000', b'01HHGX9BHARZT77WHVWCYJSWSF', b'111111111', b'Dooley Inc', b'ORG-55555555', b'Room 577']\n"
     ]
    },
    {
     "data": {
      "text/plain": [
       "b'\\xdc`\\xe6E\\xa9R\\x16\\x98\\xd04\\xcfO\\x85\\xf2\\x1a\\xfc\\xe9\\xffT\\x87'"
      ]
     },
     "execution_count": 24,
     "metadata": {},
     "output_type": "execute_result"
    }
   ],
   "source": [
    "df2.head(1)\n",
    "sha1_series_2 = du.columns_to_value_ordered_sha1(\n",
    "    data=df2.head(1), columns=[\"id\", \"company_name\", \"address\", \"crn\", \"duns\", \"cdms\"]\n",
    ")\n",
    "sha1_series_2[0]"
   ]
  },
  {
   "cell_type": "code",
   "execution_count": 9,
   "id": "7c11a0bc-e6aa-4972-b3dc-bfa9e0f41067",
   "metadata": {},
   "outputs": [
    {
     "data": {
      "text/html": [
       "<div>\n",
       "<style scoped>\n",
       "    .dataframe tbody tr th:only-of-type {\n",
       "        vertical-align: middle;\n",
       "    }\n",
       "\n",
       "    .dataframe tbody tr th {\n",
       "        vertical-align: top;\n",
       "    }\n",
       "\n",
       "    .dataframe thead th {\n",
       "        text-align: right;\n",
       "    }\n",
       "</style>\n",
       "<table border=\"1\" class=\"dataframe\">\n",
       "  <thead>\n",
       "    <tr style=\"text-align: right;\">\n",
       "      <th></th>\n",
       "      <th>id</th>\n",
       "      <th>company_name</th>\n",
       "      <th>crn</th>\n",
       "      <th>address</th>\n",
       "      <th>duns</th>\n",
       "      <th>cdms</th>\n",
       "    </tr>\n",
       "  </thead>\n",
       "  <tbody>\n",
       "    <tr>\n",
       "      <th>0</th>\n",
       "      <td>00000000-0000-0000-0000-000000000000</td>\n",
       "      <td>Dooley Inc</td>\n",
       "      <td>01HHGX9BHARZT77WHVWCYJSWSF</td>\n",
       "      <td>Room 577</td>\n",
       "      <td>111111111</td>\n",
       "      <td>ORG-55555555</td>\n",
       "    </tr>\n",
       "  </tbody>\n",
       "</table>\n",
       "</div>"
      ],
      "text/plain": [
       "                                     id company_name  \\\n",
       "0  00000000-0000-0000-0000-000000000000   Dooley Inc   \n",
       "\n",
       "                          crn   address       duns          cdms  \n",
       "0  01HHGX9BHARZT77WHVWCYJSWSF  Room 577  111111111  ORG-55555555  "
      ]
     },
     "execution_count": 9,
     "metadata": {},
     "output_type": "execute_result"
    },
    {
     "data": {
      "text/plain": [
       "[b'00000000-0000-0000-0000-000000000000',\n",
       " b'01HHGX9BHARZT77WHVWCYJSWSF',\n",
       " b'111111111',\n",
       " b'Dooley Inc',\n",
       " b'ORG-55555555',\n",
       " b'Room 577']"
      ]
     },
     "execution_count": 9,
     "metadata": {},
     "output_type": "execute_result"
    },
    {
     "data": {
      "text/plain": [
       "b'\\xdc`\\xe6E\\xa9R\\x16\\x98\\xd04\\xcfO\\x85\\xf2\\x1a\\xfc\\xe9\\xffT\\x87'"
      ]
     },
     "execution_count": 9,
     "metadata": {},
     "output_type": "execute_result"
    }
   ],
   "source": [
    "bytes_records = df.head(1).astype(bytes).to_dict(\"records\")\n",
    "hashed_records = []\n",
    "\n",
    "for record in bytes_records:\n",
    "    sorted_vals = sorted(list(record.values()))\n",
    "    hashed_vals_list = [hashlib.sha1(i) for i in sorted_vals]\n",
    "\n",
    "    hashed_vals = hashed_vals_list[0]\n",
    "    for val in hashed_vals_list[1:]:\n",
    "        hashed_vals.update(val.digest())\n",
    "\n",
    "    hashed_records.append(hashed_vals.digest())\n",
    "\n",
    "df.head(1)\n",
    "sorted_vals\n",
    "pd.Series(hashed_records)[0]"
   ]
  },
  {
   "cell_type": "code",
   "execution_count": 10,
   "id": "1823e2b2-b88e-4fb8-891e-29debced9e10",
   "metadata": {},
   "outputs": [
    {
     "data": {
      "text/html": [
       "<div>\n",
       "<style scoped>\n",
       "    .dataframe tbody tr th:only-of-type {\n",
       "        vertical-align: middle;\n",
       "    }\n",
       "\n",
       "    .dataframe tbody tr th {\n",
       "        vertical-align: top;\n",
       "    }\n",
       "\n",
       "    .dataframe thead th {\n",
       "        text-align: right;\n",
       "    }\n",
       "</style>\n",
       "<table border=\"1\" class=\"dataframe\">\n",
       "  <thead>\n",
       "    <tr style=\"text-align: right;\">\n",
       "      <th></th>\n",
       "      <th>id</th>\n",
       "      <th>company_name</th>\n",
       "      <th>crn</th>\n",
       "      <th>address</th>\n",
       "      <th>duns</th>\n",
       "      <th>cdms</th>\n",
       "    </tr>\n",
       "  </thead>\n",
       "  <tbody>\n",
       "    <tr>\n",
       "      <th>0</th>\n",
       "      <td>00000000-0000-0000-0000-000000000000</td>\n",
       "      <td>Room 577</td>\n",
       "      <td>111111111</td>\n",
       "      <td>Dooley Inc</td>\n",
       "      <td>01HHGX9BHARZT77WHVWCYJSWSF</td>\n",
       "      <td>ORG-55555555</td>\n",
       "    </tr>\n",
       "  </tbody>\n",
       "</table>\n",
       "</div>"
      ],
      "text/plain": [
       "                                     id company_name        crn     address  \\\n",
       "0  00000000-0000-0000-0000-000000000000     Room 577  111111111  Dooley Inc   \n",
       "\n",
       "                         duns          cdms  \n",
       "0  01HHGX9BHARZT77WHVWCYJSWSF  ORG-55555555  "
      ]
     },
     "execution_count": 10,
     "metadata": {},
     "output_type": "execute_result"
    },
    {
     "data": {
      "text/plain": [
       "[b'00000000-0000-0000-0000-000000000000',\n",
       " b'01HHGX9BHARZT77WHVWCYJSWSF',\n",
       " b'111111111',\n",
       " b'Dooley Inc',\n",
       " b'ORG-55555555',\n",
       " b'Room 577']"
      ]
     },
     "execution_count": 10,
     "metadata": {},
     "output_type": "execute_result"
    },
    {
     "data": {
      "text/plain": [
       "b'\\xdc`\\xe6E\\xa9R\\x16\\x98\\xd04\\xcfO\\x85\\xf2\\x1a\\xfc\\xe9\\xffT\\x87'"
      ]
     },
     "execution_count": 10,
     "metadata": {},
     "output_type": "execute_result"
    }
   ],
   "source": [
    "bytes_records = df2.head(1).astype(bytes).to_dict(\"records\")\n",
    "hashed_records = []\n",
    "\n",
    "for record in bytes_records:\n",
    "    sorted_vals = sorted(list(record.values()))\n",
    "    hashed_vals_list = [hashlib.sha1(i) for i in sorted_vals]\n",
    "\n",
    "    hashed_vals = hashed_vals_list[0]\n",
    "    for val in hashed_vals_list[1:]:\n",
    "        hashed_vals.update(val.digest())\n",
    "\n",
    "    hashed_records.append(hashed_vals.digest())\n",
    "\n",
    "df2.head(1)\n",
    "sorted_vals\n",
    "pd.Series(hashed_records)[0]"
   ]
  },
  {
   "cell_type": "code",
   "execution_count": 33,
   "id": "c94cd019-0024-40f6-b9ce-4c05fb9912eb",
   "metadata": {},
   "outputs": [],
   "source": [
    "for record in records:\n",
    "    sorted_i = sorted(list(record.values()))\n",
    "    out_hash = hashlib.sha1()\n",
    "    for val in sorted_i:\n",
    "        out_hash.update(val)"
   ]
  },
  {
   "cell_type": "code",
   "execution_count": null,
   "id": "e4c9c748-90be-45b9-b9d4-395836e109c5",
   "metadata": {},
   "outputs": [],
   "source": [
    "cProfile.run(\n",
    "    \"\"\"\\\n",
    "du.columns_to_value_ordered_sha1(\n",
    "    data=df.head(10),\n",
    "    columns=[\"id\", \"company_name\", \"crn\", \"duns\", \"cdms\"]\n",
    ")\"\"\",\n",
    "    sort=\"tottime\",\n",
    ")"
   ]
  },
  {
   "cell_type": "code",
   "execution_count": 25,
   "id": "f3054087-2e5e-4941-90b8-5fd13922e433",
   "metadata": {},
   "outputs": [
    {
     "name": "stderr",
     "output_type": "stream",
     "text": [
      "/home/jovyan/company-matching/cmf/data/dedupe.py:15: SAWarning: This declarative base already contains a class with the same class name and module name as cmf.data.dedupe.Dedupes, and will be replaced in the string-lookup table.\n",
      "  class Dedupes(SHA1Mixin, CMFBase):\n",
      "[autoreload of cmf.data.dedupe failed: Traceback (most recent call last):\n",
      "  File \"/opt/conda/envs/company_matching/lib/python3.9/site-packages/IPython/extensions/autoreload.py\", line 276, in check\n",
      "    superreload(m, reload, self.old_objects)\n",
      "  File \"/opt/conda/envs/company_matching/lib/python3.9/site-packages/IPython/extensions/autoreload.py\", line 475, in superreload\n",
      "    module = reload(module)\n",
      "  File \"/opt/conda/envs/company_matching/lib/python3.9/importlib/__init__.py\", line 169, in reload\n",
      "    _bootstrap._exec(spec, module)\n",
      "  File \"<frozen importlib._bootstrap>\", line 613, in _exec\n",
      "  File \"<frozen importlib._bootstrap_external>\", line 850, in exec_module\n",
      "  File \"<frozen importlib._bootstrap>\", line 228, in _call_with_frames_removed\n",
      "  File \"/home/jovyan/company-matching/cmf/data/dedupe.py\", line 15, in <module>\n",
      "    class Dedupes(SHA1Mixin, CMFBase):\n",
      "  File \"/opt/conda/envs/company_matching/lib/python3.9/site-packages/sqlalchemy/orm/decl_api.py\", line 196, in __init__\n",
      "    _as_declarative(reg, cls, dict_)\n",
      "  File \"/opt/conda/envs/company_matching/lib/python3.9/site-packages/sqlalchemy/orm/decl_base.py\", line 247, in _as_declarative\n",
      "    return _MapperConfig.setup_mapping(registry, cls, dict_, None, {})\n",
      "  File \"/opt/conda/envs/company_matching/lib/python3.9/site-packages/sqlalchemy/orm/decl_base.py\", line 328, in setup_mapping\n",
      "    return _ClassScanMapperConfig(\n",
      "sqlalchemy.exc.InvalidRequestError: Table '_team_cmf.ddupes' is already defined for this MetaData instance.  Specify 'extend_existing=True' to redefine options and columns on an existing Table object.\n",
      "]\n"
     ]
    }
   ],
   "source": [
    "# Select\n",
    "dh = query(\n",
    "    selector={\n",
    "        \"dit.data_hub__companies\": [\n",
    "            \"id\",\n",
    "            \"name\",\n",
    "            \"company_number\",\n",
    "        ]\n",
    "    },\n",
    "    model=None,\n",
    "    return_type=\"pandas\",\n",
    ")\n",
    "\n",
    "# Clean\n",
    "col_prefix = \"dit_data_hub__companies_\"\n",
    "\n",
    "cleaner_name = cleaner(function=company_name, arguments={\"column\": f\"{col_prefix}name\"})\n",
    "cleaner_crn = cleaner(\n",
    "    function=company_number, arguments={\"column\": f\"{col_prefix}company_number\"}\n",
    ")\n",
    "cleaner_name_dh = cleaners(cleaner_name, cleaner_crn)\n",
    "\n",
    "dh_cleaned = process(data=dh, pipeline=cleaner_name_dh)"
   ]
  },
  {
   "cell_type": "code",
   "execution_count": 26,
   "id": "be039ed3-f615-4b04-ac34-432e6d21d325",
   "metadata": {},
   "outputs": [
    {
     "data": {
      "text/plain": [
       "(503449, 4)"
      ]
     },
     "execution_count": 26,
     "metadata": {},
     "output_type": "execute_result"
    },
    {
     "data": {
      "text/plain": [
       "(503449, 4)"
      ]
     },
     "execution_count": 26,
     "metadata": {},
     "output_type": "execute_result"
    }
   ],
   "source": [
    "dh.shape\n",
    "dh_cleaned.shape"
   ]
  },
  {
   "cell_type": "code",
   "execution_count": 27,
   "id": "4458d1df-7366-416b-833b-d7f7dbdc04be",
   "metadata": {},
   "outputs": [
    {
     "data": {
      "text/html": [
       "<div>\n",
       "<style scoped>\n",
       "    .dataframe tbody tr th:only-of-type {\n",
       "        vertical-align: middle;\n",
       "    }\n",
       "\n",
       "    .dataframe tbody tr th {\n",
       "        vertical-align: top;\n",
       "    }\n",
       "\n",
       "    .dataframe thead th {\n",
       "        text-align: right;\n",
       "    }\n",
       "</style>\n",
       "<table border=\"1\" class=\"dataframe\">\n",
       "  <thead>\n",
       "    <tr style=\"text-align: right;\">\n",
       "      <th></th>\n",
       "      <th>data_sha1</th>\n",
       "      <th>dit_data_hub__companies_id</th>\n",
       "      <th>dit_data_hub__companies_name</th>\n",
       "      <th>dit_data_hub__companies_company_number</th>\n",
       "    </tr>\n",
       "  </thead>\n",
       "  <tbody>\n",
       "    <tr>\n",
       "      <th>0</th>\n",
       "      <td>[196, 247, 190, 128, 184, 190, 103, 122, 20, 4...</td>\n",
       "      <td>00002c8e-591a-e711-88ee-e4115bead28a</td>\n",
       "      <td>arensis corp</td>\n",
       "      <td>None</td>\n",
       "    </tr>\n",
       "    <tr>\n",
       "      <th>1</th>\n",
       "      <td>[24, 61, 93, 182, 46, 163, 186, 32, 56, 37, 47...</td>\n",
       "      <td>000042c1-a098-e211-a939-e4115bead28a</td>\n",
       "      <td>macrogen korea</td>\n",
       "      <td>None</td>\n",
       "    </tr>\n",
       "    <tr>\n",
       "      <th>2</th>\n",
       "      <td>[88, 139, 37, 72, 135, 153, 140, 176, 249, 217...</td>\n",
       "      <td>00008a29-e155-e411-985c-e4115bead28a</td>\n",
       "      <td>pixsan digital software</td>\n",
       "      <td>None</td>\n",
       "    </tr>\n",
       "  </tbody>\n",
       "</table>\n",
       "</div>"
      ],
      "text/plain": [
       "                                           data_sha1  \\\n",
       "0  [196, 247, 190, 128, 184, 190, 103, 122, 20, 4...   \n",
       "1  [24, 61, 93, 182, 46, 163, 186, 32, 56, 37, 47...   \n",
       "2  [88, 139, 37, 72, 135, 153, 140, 176, 249, 217...   \n",
       "\n",
       "             dit_data_hub__companies_id dit_data_hub__companies_name  \\\n",
       "0  00002c8e-591a-e711-88ee-e4115bead28a                 arensis corp   \n",
       "1  000042c1-a098-e211-a939-e4115bead28a               macrogen korea   \n",
       "2  00008a29-e155-e411-985c-e4115bead28a      pixsan digital software   \n",
       "\n",
       "  dit_data_hub__companies_company_number  \n",
       "0                                   None  \n",
       "1                                   None  \n",
       "2                                   None  "
      ]
     },
     "execution_count": 27,
     "metadata": {},
     "output_type": "execute_result"
    }
   ],
   "source": [
    "dh_cleaned.head(3)"
   ]
  },
  {
   "cell_type": "code",
   "execution_count": 9,
   "id": "a59f4804-4f2e-4775-9c84-b0271c9e3f53",
   "metadata": {},
   "outputs": [
    {
     "data": {
      "text/plain": [
       "482602"
      ]
     },
     "execution_count": 9,
     "metadata": {},
     "output_type": "execute_result"
    }
   ],
   "source": [
    "dh_cleaned[\n",
    "    [\"dit_data_hub__companies_name\", \"dit_data_hub__companies_company_number\"]\n",
    "].drop_duplicates().shape[0]"
   ]
  },
  {
   "cell_type": "code",
   "execution_count": 28,
   "id": "d0ff4415-6066-4627-a92c-d21baa06767b",
   "metadata": {},
   "outputs": [],
   "source": [
    "# Dedupe\n",
    "dh_naive_deduper = make_deduper(\n",
    "    dedupe_run_name=\"basic_dh\",\n",
    "    description=\"\"\"\n",
    "        Clean company name, company number\n",
    "    \"\"\",\n",
    "    deduper=Naive,\n",
    "    deduper_settings={\n",
    "        \"id\": f\"{col_prefix}id\",\n",
    "        \"unique_fields\": [f\"{col_prefix}name\", f\"{col_prefix}company_number\"],\n",
    "    },\n",
    "    data_source=\"dit.data_hub__companies\",\n",
    "    data=dh_cleaned,\n",
    ")\n",
    "\n",
    "dh_deduped = dh_naive_deduper()\n",
    "\n",
    "dh_deduped_df = dh_deduped.to_df()"
   ]
  },
  {
   "cell_type": "code",
   "execution_count": 29,
   "id": "48a7cfed-9a89-40b0-b4fc-47310e2d66de",
   "metadata": {},
   "outputs": [
    {
     "data": {
      "text/html": [
       "<div>\n",
       "<style scoped>\n",
       "    .dataframe tbody tr th:only-of-type {\n",
       "        vertical-align: middle;\n",
       "    }\n",
       "\n",
       "    .dataframe tbody tr th {\n",
       "        vertical-align: top;\n",
       "    }\n",
       "\n",
       "    .dataframe thead th {\n",
       "        text-align: right;\n",
       "    }\n",
       "</style>\n",
       "<table border=\"1\" class=\"dataframe\">\n",
       "  <thead>\n",
       "    <tr style=\"text-align: right;\">\n",
       "      <th></th>\n",
       "      <th>model</th>\n",
       "      <th>left</th>\n",
       "      <th>left_id</th>\n",
       "      <th>right</th>\n",
       "      <th>right_id</th>\n",
       "      <th>probability</th>\n",
       "    </tr>\n",
       "  </thead>\n",
       "  <tbody>\n",
       "    <tr>\n",
       "      <th>0</th>\n",
       "      <td>basic_dh</td>\n",
       "      <td>dit.data_hub__companies</td>\n",
       "      <td>0085222b-68be-e311-a3d5-e4115bead28a</td>\n",
       "      <td>dit.data_hub__companies</td>\n",
       "      <td>10c93ac7-a098-e211-a939-e4115bead28a</td>\n",
       "      <td>1</td>\n",
       "    </tr>\n",
       "    <tr>\n",
       "      <th>1</th>\n",
       "      <td>basic_dh</td>\n",
       "      <td>dit.data_hub__companies</td>\n",
       "      <td>0115403a-ea34-e411-985c-e4115bead28a</td>\n",
       "      <td>dit.data_hub__companies</td>\n",
       "      <td>0d3a2831-da11-4158-b2be-da9a991139bc</td>\n",
       "      <td>1</td>\n",
       "    </tr>\n",
       "    <tr>\n",
       "      <th>2</th>\n",
       "      <td>basic_dh</td>\n",
       "      <td>dit.data_hub__companies</td>\n",
       "      <td>018649bb-a098-e211-a939-e4115bead28a</td>\n",
       "      <td>dit.data_hub__companies</td>\n",
       "      <td>d41b30ca-fae9-e611-bca1-e4115bead28a</td>\n",
       "      <td>1</td>\n",
       "    </tr>\n",
       "    <tr>\n",
       "      <th>3</th>\n",
       "      <td>basic_dh</td>\n",
       "      <td>dit.data_hub__companies</td>\n",
       "      <td>01b049bb-a098-e211-a939-e4115bead28a</td>\n",
       "      <td>dit.data_hub__companies</td>\n",
       "      <td>d439a050-10b1-e411-a839-e4115bead28a</td>\n",
       "      <td>1</td>\n",
       "    </tr>\n",
       "    <tr>\n",
       "      <th>4</th>\n",
       "      <td>basic_dh</td>\n",
       "      <td>dit.data_hub__companies</td>\n",
       "      <td>02987d74-681f-4558-b248-24023bcab4cf</td>\n",
       "      <td>dit.data_hub__companies</td>\n",
       "      <td>2f524795-c9cd-4b89-aa38-2e4d16ef0b7a</td>\n",
       "      <td>1</td>\n",
       "    </tr>\n",
       "  </tbody>\n",
       "</table>\n",
       "</div>"
      ],
      "text/plain": [
       "      model                     left                               left_id  \\\n",
       "0  basic_dh  dit.data_hub__companies  0085222b-68be-e311-a3d5-e4115bead28a   \n",
       "1  basic_dh  dit.data_hub__companies  0115403a-ea34-e411-985c-e4115bead28a   \n",
       "2  basic_dh  dit.data_hub__companies  018649bb-a098-e211-a939-e4115bead28a   \n",
       "3  basic_dh  dit.data_hub__companies  01b049bb-a098-e211-a939-e4115bead28a   \n",
       "4  basic_dh  dit.data_hub__companies  02987d74-681f-4558-b248-24023bcab4cf   \n",
       "\n",
       "                     right                              right_id  probability  \n",
       "0  dit.data_hub__companies  10c93ac7-a098-e211-a939-e4115bead28a            1  \n",
       "1  dit.data_hub__companies  0d3a2831-da11-4158-b2be-da9a991139bc            1  \n",
       "2  dit.data_hub__companies  d41b30ca-fae9-e611-bca1-e4115bead28a            1  \n",
       "3  dit.data_hub__companies  d439a050-10b1-e411-a839-e4115bead28a            1  \n",
       "4  dit.data_hub__companies  2f524795-c9cd-4b89-aa38-2e4d16ef0b7a            1  "
      ]
     },
     "execution_count": 29,
     "metadata": {},
     "output_type": "execute_result"
    }
   ],
   "source": [
    "dh_deduped_df.head(5)"
   ]
  },
  {
   "cell_type": "code",
   "execution_count": 12,
   "id": "a8c6881e-5620-4d92-9502-5953efe72d6a",
   "metadata": {},
   "outputs": [
    {
     "name": "stdout",
     "output_type": "stream",
     "text": [
      "<class 'pandas.core.frame.DataFrame'>\n",
      "RangeIndex: 2166 entries, 0 to 2165\n",
      "Data columns (total 6 columns):\n",
      " #   Column       Non-Null Count  Dtype \n",
      "---  ------       --------------  ----- \n",
      " 0   model        2166 non-null   object\n",
      " 1   left         2166 non-null   object\n",
      " 2   left_id      2166 non-null   object\n",
      " 3   right        2166 non-null   object\n",
      " 4   right_id     2166 non-null   object\n",
      " 5   probability  2166 non-null   int32 \n",
      "dtypes: int32(1), object(5)\n",
      "memory usage: 93.2+ KB\n"
     ]
    }
   ],
   "source": [
    "dh_deduped_df.info()"
   ]
  },
  {
   "cell_type": "code",
   "execution_count": 16,
   "id": "eb76f86d-2799-4d50-8a05-46bad0ab57d4",
   "metadata": {},
   "outputs": [
    {
     "name": "stderr",
     "output_type": "stream",
     "text": [
      "/home/jovyan/company-matching/cmf/data/results.py:158: UserWarning: DataFrame columns are not unique, some columns will be omitted.\n",
      "  df.assign(\n"
     ]
    },
    {
     "data": {
      "text/plain": [
       "[{'model': 'basic_dh',\n",
       "  'left': UUID('34f3e1b5-f612-e611-9bdc-e4115bead28a'),\n",
       "  'right': UUID('6bd85b41-ebd2-43ad-99b9-399fca511176'),\n",
       "  'probability': 1,\n",
       "  'sha1': b']\\xff\\x1c``\\xad\\t:[\\x80\\x83\\xa6\\xc43x\\x0f!\\n\\xc7\\x8d'},\n",
       " {'model': 'basic_dh',\n",
       "  'left': UUID('34779711-2a85-4fea-b4e1-07226cc10425'),\n",
       "  'right': UUID('6f3201cf-d483-4ce2-8c2c-c20e74a11f97'),\n",
       "  'probability': 1,\n",
       "  'sha1': b'5\\x1c*m&\\x96Y\\xda\\x0c\\xfd5\\xde\\xf9\\xf4\\x83\\t2N@)'},\n",
       " {'model': 'basic_dh',\n",
       "  'left': UUID('35519dfa-3c1a-4389-a452-141e7e84a289'),\n",
       "  'right': UUID('0a83eefa-68b2-4852-b0fa-edf08828debf'),\n",
       "  'probability': 1,\n",
       "  'sha1': b'\\xc0\\xaf\\xe1\\x03\\xec\\xc9\\x1a\\x98\\x1d\\xba\\xaaV\\x88JIw\\xfbo\\x03\\xde'},\n",
       " {'model': 'basic_dh',\n",
       "  'left': UUID('35cb9542-1a51-4f32-b614-c5f77878a3f2'),\n",
       "  'right': UUID('c3247c4f-4ee1-4500-a43c-61843964bc9e'),\n",
       "  'probability': 1,\n",
       "  'sha1': b'\\x05\\xf8\\xba\\xad\\xd7,\\xcaT\\xbdVY\\x04C\\x88a\\x9a\\xd83x\\x93'},\n",
       " {'model': 'basic_dh',\n",
       "  'left': UUID('3606e768-538b-e611-be23-e4115bead28a'),\n",
       "  'right': UUID('7cf553b5-a098-e211-a939-e4115bead28a'),\n",
       "  'probability': 1,\n",
       "  'sha1': b'\\xfc\\xb4\\x9e\\x10\\xa1J5x\\xae\\xd6\\x98\\xac\\xce\\xac\\xbb\\xe8D\\xee\\x01\\x9c'}]"
      ]
     },
     "execution_count": 16,
     "metadata": {},
     "output_type": "execute_result"
    }
   ],
   "source": [
    "dh_deduped._prep_to_cmf(dh_deduped_df)[:5]"
   ]
  }
 ],
 "metadata": {
  "kernelspec": {
   "display_name": "company_matching",
   "language": "python",
   "name": "company_matching"
  },
  "language_info": {
   "codemirror_mode": {
    "name": "ipython",
    "version": 3
   },
   "file_extension": ".py",
   "mimetype": "text/x-python",
   "name": "python",
   "nbconvert_exporter": "python",
   "pygments_lexer": "ipython3",
   "version": "3.9.16"
  }
 },
 "nbformat": 4,
 "nbformat_minor": 5
}
