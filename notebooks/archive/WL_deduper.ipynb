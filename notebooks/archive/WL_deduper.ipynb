{
 "cells": [
  {
   "cell_type": "code",
   "execution_count": 2,
   "id": "4b9d18fd-bb52-415b-871c-728626594c00",
   "metadata": {},
   "outputs": [],
   "source": [
    "%load_ext autoreload\n",
    "%autoreload 2"
   ]
  },
  {
   "cell_type": "code",
   "execution_count": 1,
   "id": "25dd6661-910a-4d07-8149-cff950b0a208",
   "metadata": {},
   "outputs": [],
   "source": [
    "from IPython.core.interactiveshell import InteractiveShell\n",
    "\n",
    "from cmf import make_deduper, process, query\n",
    "from cmf.clean import company_name, company_number\n",
    "from cmf.dedupers import Naive\n",
    "from cmf.helpers import cleaner, cleaners\n",
    "\n",
    "InteractiveShell.ast_node_interactivity = \"all\""
   ]
  },
  {
   "cell_type": "code",
   "execution_count": 12,
   "id": "f3054087-2e5e-4941-90b8-5fd13922e433",
   "metadata": {},
   "outputs": [],
   "source": [
    "# Select\n",
    "dh = query(\n",
    "    selector={\n",
    "        \"dit.data_hub__companies\": [\n",
    "            \"id\",\n",
    "            \"name\",\n",
    "            \"company_number\",\n",
    "        ]\n",
    "    },\n",
    "    model=None,\n",
    "    return_type=\"pandas\",\n",
    ")\n",
    "\n",
    "# Clean\n",
    "col_prefix = \"dit_data_hub__companies_\"\n",
    "\n",
    "cleaner_name = cleaner(function=company_name, arguments={\"column\": f\"{col_prefix}name\"})\n",
    "cleaner_crn = cleaner(\n",
    "    function=company_number, arguments={\"column\": f\"{col_prefix}company_number\"}\n",
    ")\n",
    "cleaner_name_dh = cleaners(cleaner_name, cleaner_crn)\n",
    "\n",
    "dh_cleaned = process(data=dh, pipeline=cleaner_name_dh)"
   ]
  },
  {
   "cell_type": "code",
   "execution_count": 13,
   "id": "be039ed3-f615-4b04-ac34-432e6d21d325",
   "metadata": {},
   "outputs": [
    {
     "data": {
      "text/plain": [
       "(503449, 4)"
      ]
     },
     "execution_count": 13,
     "metadata": {},
     "output_type": "execute_result"
    },
    {
     "data": {
      "text/plain": [
       "(503449, 4)"
      ]
     },
     "execution_count": 13,
     "metadata": {},
     "output_type": "execute_result"
    }
   ],
   "source": [
    "dh.shape\n",
    "dh_cleaned.shape"
   ]
  },
  {
   "cell_type": "code",
   "execution_count": 14,
   "id": "4458d1df-7366-416b-833b-d7f7dbdc04be",
   "metadata": {},
   "outputs": [
    {
     "data": {
      "text/html": [
       "<div>\n",
       "<style scoped>\n",
       "    .dataframe tbody tr th:only-of-type {\n",
       "        vertical-align: middle;\n",
       "    }\n",
       "\n",
       "    .dataframe tbody tr th {\n",
       "        vertical-align: top;\n",
       "    }\n",
       "\n",
       "    .dataframe thead th {\n",
       "        text-align: right;\n",
       "    }\n",
       "</style>\n",
       "<table border=\"1\" class=\"dataframe\">\n",
       "  <thead>\n",
       "    <tr style=\"text-align: right;\">\n",
       "      <th></th>\n",
       "      <th>data_sha1</th>\n",
       "      <th>dit_data_hub__companies_id</th>\n",
       "      <th>dit_data_hub__companies_name</th>\n",
       "      <th>dit_data_hub__companies_company_number</th>\n",
       "    </tr>\n",
       "  </thead>\n",
       "  <tbody>\n",
       "    <tr>\n",
       "      <th>0</th>\n",
       "      <td>[196, 247, 190, 128, 184, 190, 103, 122, 20, 4...</td>\n",
       "      <td>00002c8e-591a-e711-88ee-e4115bead28a</td>\n",
       "      <td>arensis corp</td>\n",
       "      <td>None</td>\n",
       "    </tr>\n",
       "    <tr>\n",
       "      <th>1</th>\n",
       "      <td>[24, 61, 93, 182, 46, 163, 186, 32, 56, 37, 47...</td>\n",
       "      <td>000042c1-a098-e211-a939-e4115bead28a</td>\n",
       "      <td>macrogen korea</td>\n",
       "      <td>None</td>\n",
       "    </tr>\n",
       "    <tr>\n",
       "      <th>2</th>\n",
       "      <td>[88, 139, 37, 72, 135, 153, 140, 176, 249, 217...</td>\n",
       "      <td>00008a29-e155-e411-985c-e4115bead28a</td>\n",
       "      <td>pixsan digital software</td>\n",
       "      <td>None</td>\n",
       "    </tr>\n",
       "  </tbody>\n",
       "</table>\n",
       "</div>"
      ],
      "text/plain": [
       "                                           data_sha1  \\\n",
       "0  [196, 247, 190, 128, 184, 190, 103, 122, 20, 4...   \n",
       "1  [24, 61, 93, 182, 46, 163, 186, 32, 56, 37, 47...   \n",
       "2  [88, 139, 37, 72, 135, 153, 140, 176, 249, 217...   \n",
       "\n",
       "             dit_data_hub__companies_id dit_data_hub__companies_name  \\\n",
       "0  00002c8e-591a-e711-88ee-e4115bead28a                 arensis corp   \n",
       "1  000042c1-a098-e211-a939-e4115bead28a               macrogen korea   \n",
       "2  00008a29-e155-e411-985c-e4115bead28a      pixsan digital software   \n",
       "\n",
       "  dit_data_hub__companies_company_number  \n",
       "0                                   None  \n",
       "1                                   None  \n",
       "2                                   None  "
      ]
     },
     "execution_count": 14,
     "metadata": {},
     "output_type": "execute_result"
    }
   ],
   "source": [
    "dh_cleaned.head(3)"
   ]
  },
  {
   "cell_type": "code",
   "execution_count": 16,
   "id": "a59f4804-4f2e-4775-9c84-b0271c9e3f53",
   "metadata": {},
   "outputs": [
    {
     "data": {
      "text/plain": [
       "482602"
      ]
     },
     "execution_count": 16,
     "metadata": {},
     "output_type": "execute_result"
    }
   ],
   "source": [
    "dh_cleaned[\n",
    "    [\"dit_data_hub__companies_name\", \"dit_data_hub__companies_company_number\"]\n",
    "].drop_duplicates().shape[0]"
   ]
  },
  {
   "cell_type": "code",
   "execution_count": 18,
   "id": "d0ff4415-6066-4627-a92c-d21baa06767b",
   "metadata": {},
   "outputs": [],
   "source": [
    "# Dedupe\n",
    "dh_naive_deduper = make_deduper(\n",
    "    dedupe_run_name=\"basic_dh\",\n",
    "    description=\"\"\"\n",
    "        Clean company name, company number\n",
    "    \"\"\",\n",
    "    deduper=Naive,\n",
    "    deduper_settings={\n",
    "        \"id\": f\"{col_prefix}id\",\n",
    "        \"unique_fields\": [f\"{col_prefix}name\", f\"{col_prefix}company_number\"],\n",
    "    },\n",
    "    data_source=\"dit.data_hub__companies\",\n",
    "    data=dh_cleaned,\n",
    ")\n",
    "\n",
    "dh_deduped = dh_naive_deduper()\n",
    "\n",
    "dh_deduped_df = dh_deduped.to_df()"
   ]
  },
  {
   "cell_type": "code",
   "execution_count": 20,
   "id": "48a7cfed-9a89-40b0-b4fc-47310e2d66de",
   "metadata": {},
   "outputs": [
    {
     "data": {
      "text/html": [
       "<div>\n",
       "<style scoped>\n",
       "    .dataframe tbody tr th:only-of-type {\n",
       "        vertical-align: middle;\n",
       "    }\n",
       "\n",
       "    .dataframe tbody tr th {\n",
       "        vertical-align: top;\n",
       "    }\n",
       "\n",
       "    .dataframe thead th {\n",
       "        text-align: right;\n",
       "    }\n",
       "</style>\n",
       "<table border=\"1\" class=\"dataframe\">\n",
       "  <thead>\n",
       "    <tr style=\"text-align: right;\">\n",
       "      <th></th>\n",
       "      <th>model</th>\n",
       "      <th>left</th>\n",
       "      <th>left_id</th>\n",
       "      <th>right</th>\n",
       "      <th>right_id</th>\n",
       "      <th>probability</th>\n",
       "    </tr>\n",
       "  </thead>\n",
       "  <tbody>\n",
       "    <tr>\n",
       "      <th>0</th>\n",
       "      <td>basic_dh</td>\n",
       "      <td>dit.data_hub__companies</td>\n",
       "      <td>9c5407b2-e557-430a-9c43-c45acb063fdc</td>\n",
       "      <td>dit.data_hub__companies</td>\n",
       "      <td>0cf1186e-a451-41c4-ae6b-d798716f7e99</td>\n",
       "      <td>1</td>\n",
       "    </tr>\n",
       "    <tr>\n",
       "      <th>1</th>\n",
       "      <td>basic_dh</td>\n",
       "      <td>dit.data_hub__companies</td>\n",
       "      <td>9c83b823-4af7-e611-bca1-e4115bead28a</td>\n",
       "      <td>dit.data_hub__companies</td>\n",
       "      <td>9b17c36f-20cc-4328-8bea-c7b5b2123fde</td>\n",
       "      <td>1</td>\n",
       "    </tr>\n",
       "    <tr>\n",
       "      <th>2</th>\n",
       "      <td>basic_dh</td>\n",
       "      <td>dit.data_hub__companies</td>\n",
       "      <td>9d06dbd0-06b8-42d0-8bef-8090a95af09c</td>\n",
       "      <td>dit.data_hub__companies</td>\n",
       "      <td>2e376ff5-9252-457b-984c-5f66930bd396</td>\n",
       "      <td>1</td>\n",
       "    </tr>\n",
       "    <tr>\n",
       "      <th>3</th>\n",
       "      <td>basic_dh</td>\n",
       "      <td>dit.data_hub__companies</td>\n",
       "      <td>9d3964e4-f94e-4a35-8dd1-9d3c480396d3</td>\n",
       "      <td>dit.data_hub__companies</td>\n",
       "      <td>f9802972-2881-4e3a-8d33-9a53d201361c</td>\n",
       "      <td>1</td>\n",
       "    </tr>\n",
       "    <tr>\n",
       "      <th>4</th>\n",
       "      <td>basic_dh</td>\n",
       "      <td>dit.data_hub__companies</td>\n",
       "      <td>9d44ecd6-51a1-4fa0-aba9-91ff13bca132</td>\n",
       "      <td>dit.data_hub__companies</td>\n",
       "      <td>e3b5424f-29de-48a8-a332-ecf490fe54e4</td>\n",
       "      <td>1</td>\n",
       "    </tr>\n",
       "  </tbody>\n",
       "</table>\n",
       "</div>"
      ],
      "text/plain": [
       "      model                     left                               left_id  \\\n",
       "0  basic_dh  dit.data_hub__companies  9c5407b2-e557-430a-9c43-c45acb063fdc   \n",
       "1  basic_dh  dit.data_hub__companies  9c83b823-4af7-e611-bca1-e4115bead28a   \n",
       "2  basic_dh  dit.data_hub__companies  9d06dbd0-06b8-42d0-8bef-8090a95af09c   \n",
       "3  basic_dh  dit.data_hub__companies  9d3964e4-f94e-4a35-8dd1-9d3c480396d3   \n",
       "4  basic_dh  dit.data_hub__companies  9d44ecd6-51a1-4fa0-aba9-91ff13bca132   \n",
       "\n",
       "                     right                              right_id  probability  \n",
       "0  dit.data_hub__companies  0cf1186e-a451-41c4-ae6b-d798716f7e99            1  \n",
       "1  dit.data_hub__companies  9b17c36f-20cc-4328-8bea-c7b5b2123fde            1  \n",
       "2  dit.data_hub__companies  2e376ff5-9252-457b-984c-5f66930bd396            1  \n",
       "3  dit.data_hub__companies  f9802972-2881-4e3a-8d33-9a53d201361c            1  \n",
       "4  dit.data_hub__companies  e3b5424f-29de-48a8-a332-ecf490fe54e4            1  "
      ]
     },
     "execution_count": 20,
     "metadata": {},
     "output_type": "execute_result"
    }
   ],
   "source": [
    "dh_deduped_df.head(5)"
   ]
  },
  {
   "cell_type": "code",
   "execution_count": null,
   "id": "eb76f86d-2799-4d50-8a05-46bad0ab57d4",
   "metadata": {},
   "outputs": [],
   "source": []
  }
 ],
 "metadata": {
  "kernelspec": {
   "display_name": "company_matching",
   "language": "python",
   "name": "company_matching"
  },
  "language_info": {
   "codemirror_mode": {
    "name": "ipython",
    "version": 3
   },
   "file_extension": ".py",
   "mimetype": "text/x-python",
   "name": "python",
   "nbconvert_exporter": "python",
   "pygments_lexer": "ipython3",
   "version": "3.9.16"
  }
 },
 "nbformat": 4,
 "nbformat_minor": 5
}
