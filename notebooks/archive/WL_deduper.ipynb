{
 "cells": [
  {
   "cell_type": "code",
   "execution_count": 4,
   "id": "4b9d18fd-bb52-415b-871c-728626594c00",
   "metadata": {},
   "outputs": [
    {
     "name": "stdout",
     "output_type": "stream",
     "text": [
      "The autoreload extension is already loaded. To reload it, use:\n",
      "  %reload_ext autoreload\n"
     ]
    }
   ],
   "source": [
    "%load_ext autoreload\n",
    "%autoreload 2"
   ]
  },
  {
   "cell_type": "code",
   "execution_count": 5,
   "id": "25dd6661-910a-4d07-8149-cff950b0a208",
   "metadata": {},
   "outputs": [],
   "source": [
    "from IPython.core.interactiveshell import InteractiveShell\n",
    "\n",
    "from cmf import make_deduper, process, query\n",
    "from cmf.clean import company_name, company_number\n",
    "from cmf.dedupers import Naive\n",
    "from cmf.helpers import cleaner, cleaners\n",
    "\n",
    "InteractiveShell.ast_node_interactivity = \"all\""
   ]
  },
  {
   "cell_type": "code",
   "execution_count": 6,
   "id": "f3054087-2e5e-4941-90b8-5fd13922e433",
   "metadata": {},
   "outputs": [],
   "source": [
    "# Select\n",
    "dh = query(\n",
    "    selector={\n",
    "        \"dit.data_hub__companies\": [\n",
    "            \"id\",\n",
    "            \"name\",\n",
    "            \"company_number\",\n",
    "        ]\n",
    "    },\n",
    "    model=None,\n",
    "    return_type=\"pandas\",\n",
    ")\n",
    "\n",
    "# Clean\n",
    "col_prefix = \"dit_data_hub__companies_\"\n",
    "\n",
    "cleaner_name = cleaner(function=company_name, arguments={\"column\": f\"{col_prefix}name\"})\n",
    "cleaner_crn = cleaner(\n",
    "    function=company_number, arguments={\"column\": f\"{col_prefix}company_number\"}\n",
    ")\n",
    "cleaner_name_dh = cleaners(cleaner_name, cleaner_crn)\n",
    "\n",
    "dh_cleaned = process(data=dh, pipeline=cleaner_name_dh)"
   ]
  },
  {
   "cell_type": "code",
   "execution_count": 7,
   "id": "be039ed3-f615-4b04-ac34-432e6d21d325",
   "metadata": {},
   "outputs": [
    {
     "data": {
      "text/plain": [
       "(503449, 4)"
      ]
     },
     "execution_count": 7,
     "metadata": {},
     "output_type": "execute_result"
    },
    {
     "data": {
      "text/plain": [
       "(503449, 4)"
      ]
     },
     "execution_count": 7,
     "metadata": {},
     "output_type": "execute_result"
    }
   ],
   "source": [
    "dh.shape\n",
    "dh_cleaned.shape"
   ]
  },
  {
   "cell_type": "code",
   "execution_count": 8,
   "id": "4458d1df-7366-416b-833b-d7f7dbdc04be",
   "metadata": {},
   "outputs": [
    {
     "data": {
      "text/html": [
       "<div>\n",
       "<style scoped>\n",
       "    .dataframe tbody tr th:only-of-type {\n",
       "        vertical-align: middle;\n",
       "    }\n",
       "\n",
       "    .dataframe tbody tr th {\n",
       "        vertical-align: top;\n",
       "    }\n",
       "\n",
       "    .dataframe thead th {\n",
       "        text-align: right;\n",
       "    }\n",
       "</style>\n",
       "<table border=\"1\" class=\"dataframe\">\n",
       "  <thead>\n",
       "    <tr style=\"text-align: right;\">\n",
       "      <th></th>\n",
       "      <th>data_sha1</th>\n",
       "      <th>dit_data_hub__companies_id</th>\n",
       "      <th>dit_data_hub__companies_name</th>\n",
       "      <th>dit_data_hub__companies_company_number</th>\n",
       "    </tr>\n",
       "  </thead>\n",
       "  <tbody>\n",
       "    <tr>\n",
       "      <th>0</th>\n",
       "      <td>[196, 247, 190, 128, 184, 190, 103, 122, 20, 4...</td>\n",
       "      <td>00002c8e-591a-e711-88ee-e4115bead28a</td>\n",
       "      <td>arensis corp</td>\n",
       "      <td>None</td>\n",
       "    </tr>\n",
       "    <tr>\n",
       "      <th>1</th>\n",
       "      <td>[24, 61, 93, 182, 46, 163, 186, 32, 56, 37, 47...</td>\n",
       "      <td>000042c1-a098-e211-a939-e4115bead28a</td>\n",
       "      <td>macrogen korea</td>\n",
       "      <td>None</td>\n",
       "    </tr>\n",
       "    <tr>\n",
       "      <th>2</th>\n",
       "      <td>[88, 139, 37, 72, 135, 153, 140, 176, 249, 217...</td>\n",
       "      <td>00008a29-e155-e411-985c-e4115bead28a</td>\n",
       "      <td>pixsan digital software</td>\n",
       "      <td>None</td>\n",
       "    </tr>\n",
       "  </tbody>\n",
       "</table>\n",
       "</div>"
      ],
      "text/plain": [
       "                                           data_sha1  \\\n",
       "0  [196, 247, 190, 128, 184, 190, 103, 122, 20, 4...   \n",
       "1  [24, 61, 93, 182, 46, 163, 186, 32, 56, 37, 47...   \n",
       "2  [88, 139, 37, 72, 135, 153, 140, 176, 249, 217...   \n",
       "\n",
       "             dit_data_hub__companies_id dit_data_hub__companies_name  \\\n",
       "0  00002c8e-591a-e711-88ee-e4115bead28a                 arensis corp   \n",
       "1  000042c1-a098-e211-a939-e4115bead28a               macrogen korea   \n",
       "2  00008a29-e155-e411-985c-e4115bead28a      pixsan digital software   \n",
       "\n",
       "  dit_data_hub__companies_company_number  \n",
       "0                                   None  \n",
       "1                                   None  \n",
       "2                                   None  "
      ]
     },
     "execution_count": 8,
     "metadata": {},
     "output_type": "execute_result"
    }
   ],
   "source": [
    "dh_cleaned.head(3)"
   ]
  },
  {
   "cell_type": "code",
   "execution_count": 9,
   "id": "a59f4804-4f2e-4775-9c84-b0271c9e3f53",
   "metadata": {},
   "outputs": [
    {
     "data": {
      "text/plain": [
       "482602"
      ]
     },
     "execution_count": 9,
     "metadata": {},
     "output_type": "execute_result"
    }
   ],
   "source": [
    "dh_cleaned[\n",
    "    [\"dit_data_hub__companies_name\", \"dit_data_hub__companies_company_number\"]\n",
    "].drop_duplicates().shape[0]"
   ]
  },
  {
   "cell_type": "code",
   "execution_count": 10,
   "id": "d0ff4415-6066-4627-a92c-d21baa06767b",
   "metadata": {},
   "outputs": [],
   "source": [
    "# Dedupe\n",
    "dh_naive_deduper = make_deduper(\n",
    "    dedupe_run_name=\"basic_dh\",\n",
    "    description=\"\"\"\n",
    "        Clean company name, company number\n",
    "    \"\"\",\n",
    "    deduper=Naive,\n",
    "    deduper_settings={\n",
    "        \"id\": f\"{col_prefix}id\",\n",
    "        \"unique_fields\": [f\"{col_prefix}name\", f\"{col_prefix}company_number\"],\n",
    "    },\n",
    "    data_source=\"dit.data_hub__companies\",\n",
    "    data=dh_cleaned,\n",
    ")\n",
    "\n",
    "dh_deduped = dh_naive_deduper()\n",
    "\n",
    "dh_deduped_df = dh_deduped.to_df()"
   ]
  },
  {
   "cell_type": "code",
   "execution_count": 11,
   "id": "48a7cfed-9a89-40b0-b4fc-47310e2d66de",
   "metadata": {},
   "outputs": [
    {
     "data": {
      "text/html": [
       "<div>\n",
       "<style scoped>\n",
       "    .dataframe tbody tr th:only-of-type {\n",
       "        vertical-align: middle;\n",
       "    }\n",
       "\n",
       "    .dataframe tbody tr th {\n",
       "        vertical-align: top;\n",
       "    }\n",
       "\n",
       "    .dataframe thead th {\n",
       "        text-align: right;\n",
       "    }\n",
       "</style>\n",
       "<table border=\"1\" class=\"dataframe\">\n",
       "  <thead>\n",
       "    <tr style=\"text-align: right;\">\n",
       "      <th></th>\n",
       "      <th>model</th>\n",
       "      <th>left</th>\n",
       "      <th>left_id</th>\n",
       "      <th>right</th>\n",
       "      <th>right_id</th>\n",
       "      <th>probability</th>\n",
       "    </tr>\n",
       "  </thead>\n",
       "  <tbody>\n",
       "    <tr>\n",
       "      <th>0</th>\n",
       "      <td>basic_dh</td>\n",
       "      <td>dit.data_hub__companies</td>\n",
       "      <td>34f3e1b5-f612-e611-9bdc-e4115bead28a</td>\n",
       "      <td>dit.data_hub__companies</td>\n",
       "      <td>6bd85b41-ebd2-43ad-99b9-399fca511176</td>\n",
       "      <td>1</td>\n",
       "    </tr>\n",
       "    <tr>\n",
       "      <th>1</th>\n",
       "      <td>basic_dh</td>\n",
       "      <td>dit.data_hub__companies</td>\n",
       "      <td>34779711-2a85-4fea-b4e1-07226cc10425</td>\n",
       "      <td>dit.data_hub__companies</td>\n",
       "      <td>6f3201cf-d483-4ce2-8c2c-c20e74a11f97</td>\n",
       "      <td>1</td>\n",
       "    </tr>\n",
       "    <tr>\n",
       "      <th>2</th>\n",
       "      <td>basic_dh</td>\n",
       "      <td>dit.data_hub__companies</td>\n",
       "      <td>35519dfa-3c1a-4389-a452-141e7e84a289</td>\n",
       "      <td>dit.data_hub__companies</td>\n",
       "      <td>0a83eefa-68b2-4852-b0fa-edf08828debf</td>\n",
       "      <td>1</td>\n",
       "    </tr>\n",
       "    <tr>\n",
       "      <th>3</th>\n",
       "      <td>basic_dh</td>\n",
       "      <td>dit.data_hub__companies</td>\n",
       "      <td>35cb9542-1a51-4f32-b614-c5f77878a3f2</td>\n",
       "      <td>dit.data_hub__companies</td>\n",
       "      <td>c3247c4f-4ee1-4500-a43c-61843964bc9e</td>\n",
       "      <td>1</td>\n",
       "    </tr>\n",
       "    <tr>\n",
       "      <th>4</th>\n",
       "      <td>basic_dh</td>\n",
       "      <td>dit.data_hub__companies</td>\n",
       "      <td>3606e768-538b-e611-be23-e4115bead28a</td>\n",
       "      <td>dit.data_hub__companies</td>\n",
       "      <td>7cf553b5-a098-e211-a939-e4115bead28a</td>\n",
       "      <td>1</td>\n",
       "    </tr>\n",
       "  </tbody>\n",
       "</table>\n",
       "</div>"
      ],
      "text/plain": [
       "      model                     left                               left_id  \\\n",
       "0  basic_dh  dit.data_hub__companies  34f3e1b5-f612-e611-9bdc-e4115bead28a   \n",
       "1  basic_dh  dit.data_hub__companies  34779711-2a85-4fea-b4e1-07226cc10425   \n",
       "2  basic_dh  dit.data_hub__companies  35519dfa-3c1a-4389-a452-141e7e84a289   \n",
       "3  basic_dh  dit.data_hub__companies  35cb9542-1a51-4f32-b614-c5f77878a3f2   \n",
       "4  basic_dh  dit.data_hub__companies  3606e768-538b-e611-be23-e4115bead28a   \n",
       "\n",
       "                     right                              right_id  probability  \n",
       "0  dit.data_hub__companies  6bd85b41-ebd2-43ad-99b9-399fca511176            1  \n",
       "1  dit.data_hub__companies  6f3201cf-d483-4ce2-8c2c-c20e74a11f97            1  \n",
       "2  dit.data_hub__companies  0a83eefa-68b2-4852-b0fa-edf08828debf            1  \n",
       "3  dit.data_hub__companies  c3247c4f-4ee1-4500-a43c-61843964bc9e            1  \n",
       "4  dit.data_hub__companies  7cf553b5-a098-e211-a939-e4115bead28a            1  "
      ]
     },
     "execution_count": 11,
     "metadata": {},
     "output_type": "execute_result"
    }
   ],
   "source": [
    "dh_deduped_df.head(5)"
   ]
  },
  {
   "cell_type": "code",
   "execution_count": 12,
   "id": "a8c6881e-5620-4d92-9502-5953efe72d6a",
   "metadata": {},
   "outputs": [
    {
     "name": "stdout",
     "output_type": "stream",
     "text": [
      "<class 'pandas.core.frame.DataFrame'>\n",
      "RangeIndex: 2166 entries, 0 to 2165\n",
      "Data columns (total 6 columns):\n",
      " #   Column       Non-Null Count  Dtype \n",
      "---  ------       --------------  ----- \n",
      " 0   model        2166 non-null   object\n",
      " 1   left         2166 non-null   object\n",
      " 2   left_id      2166 non-null   object\n",
      " 3   right        2166 non-null   object\n",
      " 4   right_id     2166 non-null   object\n",
      " 5   probability  2166 non-null   int32 \n",
      "dtypes: int32(1), object(5)\n",
      "memory usage: 93.2+ KB\n"
     ]
    }
   ],
   "source": [
    "dh_deduped_df.info()"
   ]
  },
  {
   "cell_type": "code",
   "execution_count": 16,
   "id": "eb76f86d-2799-4d50-8a05-46bad0ab57d4",
   "metadata": {},
   "outputs": [
    {
     "name": "stderr",
     "output_type": "stream",
     "text": [
      "/home/jovyan/company-matching/cmf/data/results.py:158: UserWarning: DataFrame columns are not unique, some columns will be omitted.\n",
      "  df.assign(\n"
     ]
    },
    {
     "data": {
      "text/plain": [
       "[{'model': 'basic_dh',\n",
       "  'left': UUID('34f3e1b5-f612-e611-9bdc-e4115bead28a'),\n",
       "  'right': UUID('6bd85b41-ebd2-43ad-99b9-399fca511176'),\n",
       "  'probability': 1,\n",
       "  'sha1': b']\\xff\\x1c``\\xad\\t:[\\x80\\x83\\xa6\\xc43x\\x0f!\\n\\xc7\\x8d'},\n",
       " {'model': 'basic_dh',\n",
       "  'left': UUID('34779711-2a85-4fea-b4e1-07226cc10425'),\n",
       "  'right': UUID('6f3201cf-d483-4ce2-8c2c-c20e74a11f97'),\n",
       "  'probability': 1,\n",
       "  'sha1': b'5\\x1c*m&\\x96Y\\xda\\x0c\\xfd5\\xde\\xf9\\xf4\\x83\\t2N@)'},\n",
       " {'model': 'basic_dh',\n",
       "  'left': UUID('35519dfa-3c1a-4389-a452-141e7e84a289'),\n",
       "  'right': UUID('0a83eefa-68b2-4852-b0fa-edf08828debf'),\n",
       "  'probability': 1,\n",
       "  'sha1': b'\\xc0\\xaf\\xe1\\x03\\xec\\xc9\\x1a\\x98\\x1d\\xba\\xaaV\\x88JIw\\xfbo\\x03\\xde'},\n",
       " {'model': 'basic_dh',\n",
       "  'left': UUID('35cb9542-1a51-4f32-b614-c5f77878a3f2'),\n",
       "  'right': UUID('c3247c4f-4ee1-4500-a43c-61843964bc9e'),\n",
       "  'probability': 1,\n",
       "  'sha1': b'\\x05\\xf8\\xba\\xad\\xd7,\\xcaT\\xbdVY\\x04C\\x88a\\x9a\\xd83x\\x93'},\n",
       " {'model': 'basic_dh',\n",
       "  'left': UUID('3606e768-538b-e611-be23-e4115bead28a'),\n",
       "  'right': UUID('7cf553b5-a098-e211-a939-e4115bead28a'),\n",
       "  'probability': 1,\n",
       "  'sha1': b'\\xfc\\xb4\\x9e\\x10\\xa1J5x\\xae\\xd6\\x98\\xac\\xce\\xac\\xbb\\xe8D\\xee\\x01\\x9c'}]"
      ]
     },
     "execution_count": 16,
     "metadata": {},
     "output_type": "execute_result"
    }
   ],
   "source": [
    "dh_deduped._prep_to_cmf(dh_deduped_df)[:5]"
   ]
  }
 ],
 "metadata": {
  "kernelspec": {
   "display_name": "company_matching",
   "language": "python",
   "name": "company_matching"
  },
  "language_info": {
   "codemirror_mode": {
    "name": "ipython",
    "version": 3
   },
   "file_extension": ".py",
   "mimetype": "text/x-python",
   "name": "python",
   "nbconvert_exporter": "python",
   "pygments_lexer": "ipython3",
   "version": "3.9.16"
  }
 },
 "nbformat": 4,
 "nbformat_minor": 5
}
