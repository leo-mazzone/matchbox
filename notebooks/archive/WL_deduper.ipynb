{
 "cells": [
  {
   "cell_type": "code",
   "execution_count": 1,
   "id": "4b9d18fd-bb52-415b-871c-728626594c00",
   "metadata": {},
   "outputs": [],
   "source": [
    "%load_ext autoreload\n",
    "%autoreload 2"
   ]
  },
  {
   "cell_type": "code",
   "execution_count": 2,
   "id": "25dd6661-910a-4d07-8149-cff950b0a208",
   "metadata": {},
   "outputs": [],
   "source": [
    "import uuid\n",
    "from pathlib import Path\n",
    "\n",
    "import numpy as np\n",
    "import pandas as pd\n",
    "from IPython.core.interactiveshell import InteractiveShell\n",
    "\n",
    "import cmf.locations as loc\n",
    "from cmf import make_deduper, process, query\n",
    "from cmf.clean import company_name, company_number\n",
    "from cmf.dedupers import Naive\n",
    "from cmf.helpers import cleaner, cleaners\n",
    "\n",
    "InteractiveShell.ast_node_interactivity = \"all\""
   ]
  },
  {
   "cell_type": "code",
   "execution_count": 39,
   "id": "b54f6f8f-32b1-45b7-ab4b-646b4d4e1ccb",
   "metadata": {},
   "outputs": [
    {
     "data": {
      "text/plain": [
       "'{        \"id\": \"data_sha1\",        \"unique_fields\": [                            \"a\",                            \"b\",                    ]    }'"
      ]
     },
     "execution_count": 39,
     "metadata": {},
     "output_type": "execute_result"
    },
    {
     "ename": "JSONDecodeError",
     "evalue": "Expecting value: line 10 column 9 (char 150)",
     "output_type": "error",
     "traceback": [
      "\u001b[0;31m---------------------------------------------------------------------------\u001b[0m",
      "\u001b[0;31mJSONDecodeError\u001b[0m                           Traceback (most recent call last)",
      "Cell \u001b[0;32mIn[39], line 19\u001b[0m\n\u001b[1;32m      6\u001b[0m template \u001b[38;5;241m=\u001b[39m Template(\u001b[38;5;124m\"\"\"\u001b[39m\n\u001b[1;32m      7\u001b[0m \u001b[38;5;124m    \u001b[39m\u001b[38;5;124m{\u001b[39m\n\u001b[1;32m      8\u001b[0m \u001b[38;5;124m        \u001b[39m\u001b[38;5;124m\"\u001b[39m\u001b[38;5;124mid\u001b[39m\u001b[38;5;124m\"\u001b[39m\u001b[38;5;124m: \u001b[39m\u001b[38;5;124m\"\u001b[39m\u001b[38;5;124mdata_sha1\u001b[39m\u001b[38;5;124m\"\u001b[39m\u001b[38;5;124m,\u001b[39m\n\u001b[0;32m   (...)\u001b[0m\n\u001b[1;32m     14\u001b[0m \u001b[38;5;124m    }\u001b[39m\n\u001b[1;32m     15\u001b[0m \u001b[38;5;124m\"\"\"\u001b[39m)\n\u001b[1;32m     17\u001b[0m template\u001b[38;5;241m.\u001b[39mrender(fields\u001b[38;5;241m=\u001b[39mfields)\u001b[38;5;241m.\u001b[39mstrip()\u001b[38;5;241m.\u001b[39mreplace(\u001b[38;5;124m\"\u001b[39m\u001b[38;5;130;01m\\n\u001b[39;00m\u001b[38;5;124m\"\u001b[39m, \u001b[38;5;124m\"\u001b[39m\u001b[38;5;124m\"\u001b[39m)\n\u001b[0;32m---> 19\u001b[0m \u001b[43mjson\u001b[49m\u001b[38;5;241;43m.\u001b[39;49m\u001b[43mloads\u001b[49m\u001b[43m(\u001b[49m\u001b[43mtemplate\u001b[49m\u001b[38;5;241;43m.\u001b[39;49m\u001b[43mrender\u001b[49m\u001b[43m(\u001b[49m\u001b[43mfields\u001b[49m\u001b[38;5;241;43m=\u001b[39;49m\u001b[43mfields\u001b[49m\u001b[43m)\u001b[49m\u001b[43m)\u001b[49m\n",
      "File \u001b[0;32m/opt/conda/envs/company_matching/lib/python3.9/json/__init__.py:346\u001b[0m, in \u001b[0;36mloads\u001b[0;34m(s, cls, object_hook, parse_float, parse_int, parse_constant, object_pairs_hook, **kw)\u001b[0m\n\u001b[1;32m    341\u001b[0m     s \u001b[38;5;241m=\u001b[39m s\u001b[38;5;241m.\u001b[39mdecode(detect_encoding(s), \u001b[38;5;124m'\u001b[39m\u001b[38;5;124msurrogatepass\u001b[39m\u001b[38;5;124m'\u001b[39m)\n\u001b[1;32m    343\u001b[0m \u001b[38;5;28;01mif\u001b[39;00m (\u001b[38;5;28mcls\u001b[39m \u001b[38;5;129;01mis\u001b[39;00m \u001b[38;5;28;01mNone\u001b[39;00m \u001b[38;5;129;01mand\u001b[39;00m object_hook \u001b[38;5;129;01mis\u001b[39;00m \u001b[38;5;28;01mNone\u001b[39;00m \u001b[38;5;129;01mand\u001b[39;00m\n\u001b[1;32m    344\u001b[0m         parse_int \u001b[38;5;129;01mis\u001b[39;00m \u001b[38;5;28;01mNone\u001b[39;00m \u001b[38;5;129;01mand\u001b[39;00m parse_float \u001b[38;5;129;01mis\u001b[39;00m \u001b[38;5;28;01mNone\u001b[39;00m \u001b[38;5;129;01mand\u001b[39;00m\n\u001b[1;32m    345\u001b[0m         parse_constant \u001b[38;5;129;01mis\u001b[39;00m \u001b[38;5;28;01mNone\u001b[39;00m \u001b[38;5;129;01mand\u001b[39;00m object_pairs_hook \u001b[38;5;129;01mis\u001b[39;00m \u001b[38;5;28;01mNone\u001b[39;00m \u001b[38;5;129;01mand\u001b[39;00m \u001b[38;5;129;01mnot\u001b[39;00m kw):\n\u001b[0;32m--> 346\u001b[0m     \u001b[38;5;28;01mreturn\u001b[39;00m \u001b[43m_default_decoder\u001b[49m\u001b[38;5;241;43m.\u001b[39;49m\u001b[43mdecode\u001b[49m\u001b[43m(\u001b[49m\u001b[43ms\u001b[49m\u001b[43m)\u001b[49m\n\u001b[1;32m    347\u001b[0m \u001b[38;5;28;01mif\u001b[39;00m \u001b[38;5;28mcls\u001b[39m \u001b[38;5;129;01mis\u001b[39;00m \u001b[38;5;28;01mNone\u001b[39;00m:\n\u001b[1;32m    348\u001b[0m     \u001b[38;5;28mcls\u001b[39m \u001b[38;5;241m=\u001b[39m JSONDecoder\n",
      "File \u001b[0;32m/opt/conda/envs/company_matching/lib/python3.9/json/decoder.py:337\u001b[0m, in \u001b[0;36mJSONDecoder.decode\u001b[0;34m(self, s, _w)\u001b[0m\n\u001b[1;32m    332\u001b[0m \u001b[38;5;28;01mdef\u001b[39;00m \u001b[38;5;21mdecode\u001b[39m(\u001b[38;5;28mself\u001b[39m, s, _w\u001b[38;5;241m=\u001b[39mWHITESPACE\u001b[38;5;241m.\u001b[39mmatch):\n\u001b[1;32m    333\u001b[0m \u001b[38;5;250m    \u001b[39m\u001b[38;5;124;03m\"\"\"Return the Python representation of ``s`` (a ``str`` instance\u001b[39;00m\n\u001b[1;32m    334\u001b[0m \u001b[38;5;124;03m    containing a JSON document).\u001b[39;00m\n\u001b[1;32m    335\u001b[0m \n\u001b[1;32m    336\u001b[0m \u001b[38;5;124;03m    \"\"\"\u001b[39;00m\n\u001b[0;32m--> 337\u001b[0m     obj, end \u001b[38;5;241m=\u001b[39m \u001b[38;5;28;43mself\u001b[39;49m\u001b[38;5;241;43m.\u001b[39;49m\u001b[43mraw_decode\u001b[49m\u001b[43m(\u001b[49m\u001b[43ms\u001b[49m\u001b[43m,\u001b[49m\u001b[43m \u001b[49m\u001b[43midx\u001b[49m\u001b[38;5;241;43m=\u001b[39;49m\u001b[43m_w\u001b[49m\u001b[43m(\u001b[49m\u001b[43ms\u001b[49m\u001b[43m,\u001b[49m\u001b[43m \u001b[49m\u001b[38;5;241;43m0\u001b[39;49m\u001b[43m)\u001b[49m\u001b[38;5;241;43m.\u001b[39;49m\u001b[43mend\u001b[49m\u001b[43m(\u001b[49m\u001b[43m)\u001b[49m\u001b[43m)\u001b[49m\n\u001b[1;32m    338\u001b[0m     end \u001b[38;5;241m=\u001b[39m _w(s, end)\u001b[38;5;241m.\u001b[39mend()\n\u001b[1;32m    339\u001b[0m     \u001b[38;5;28;01mif\u001b[39;00m end \u001b[38;5;241m!=\u001b[39m \u001b[38;5;28mlen\u001b[39m(s):\n",
      "File \u001b[0;32m/opt/conda/envs/company_matching/lib/python3.9/json/decoder.py:355\u001b[0m, in \u001b[0;36mJSONDecoder.raw_decode\u001b[0;34m(self, s, idx)\u001b[0m\n\u001b[1;32m    353\u001b[0m     obj, end \u001b[38;5;241m=\u001b[39m \u001b[38;5;28mself\u001b[39m\u001b[38;5;241m.\u001b[39mscan_once(s, idx)\n\u001b[1;32m    354\u001b[0m \u001b[38;5;28;01mexcept\u001b[39;00m \u001b[38;5;167;01mStopIteration\u001b[39;00m \u001b[38;5;28;01mas\u001b[39;00m err:\n\u001b[0;32m--> 355\u001b[0m     \u001b[38;5;28;01mraise\u001b[39;00m JSONDecodeError(\u001b[38;5;124m\"\u001b[39m\u001b[38;5;124mExpecting value\u001b[39m\u001b[38;5;124m\"\u001b[39m, s, err\u001b[38;5;241m.\u001b[39mvalue) \u001b[38;5;28;01mfrom\u001b[39;00m \u001b[38;5;28;01mNone\u001b[39;00m\n\u001b[1;32m    356\u001b[0m \u001b[38;5;28;01mreturn\u001b[39;00m obj, end\n",
      "\u001b[0;31mJSONDecodeError\u001b[0m: Expecting value: line 10 column 9 (char 150)"
     ]
    }
   ],
   "source": [
    "from jinja2 import Template\n",
    "import json\n",
    "\n",
    "fields = [\"a\", \"b\"]\n",
    "\n",
    "template = Template(\"\"\"\n",
    "    {\n",
    "        \"id\": \"data_sha1\",\n",
    "        \"unique_fields\": [\n",
    "            {% for field in fields %}\n",
    "                \"{{ field }}\",\n",
    "            {% endfor %}\n",
    "        ]\n",
    "    }\n",
    "\"\"\")\n",
    "\n",
    "template.render(fields=fields).strip().replace(\"\\n\", \"\")\n",
    "\n",
    "json.loads(template.render(fields=fields))"
   ]
  },
  {
   "cell_type": "code",
   "execution_count": 38,
   "id": "d06826cf-60d4-4916-9e82-8358f8f3cb1f",
   "metadata": {},
   "outputs": [],
   "source": [
    "df = pd.read_csv(Path(loc.TEST, \"data\", \"all_companies.csv\")).reset_index(names=\"id\")\n",
    "df[\"id\"] = df[\"id\"].apply(lambda x: uuid.UUID(int=x))"
   ]
  },
  {
   "cell_type": "code",
   "execution_count": 77,
   "id": "8b28fada-34b3-476e-af41-78c44f85e937",
   "metadata": {},
   "outputs": [
    {
     "data": {
      "text/html": [
       "<div>\n",
       "<style scoped>\n",
       "    .dataframe tbody tr th:only-of-type {\n",
       "        vertical-align: middle;\n",
       "    }\n",
       "\n",
       "    .dataframe tbody tr th {\n",
       "        vertical-align: top;\n",
       "    }\n",
       "\n",
       "    .dataframe thead th {\n",
       "        text-align: right;\n",
       "    }\n",
       "</style>\n",
       "<table border=\"1\" class=\"dataframe\">\n",
       "  <thead>\n",
       "    <tr style=\"text-align: right;\">\n",
       "      <th></th>\n",
       "      <th>id</th>\n",
       "      <th>company_name</th>\n",
       "      <th>crn</th>\n",
       "    </tr>\n",
       "  </thead>\n",
       "  <tbody>\n",
       "    <tr>\n",
       "      <th>0</th>\n",
       "      <td>00000000-0000-0000-0000-000000000000</td>\n",
       "      <td>People Limited</td>\n",
       "      <td>01HHGX9BHARZT77WHVWCYJSWSF</td>\n",
       "    </tr>\n",
       "    <tr>\n",
       "      <th>0</th>\n",
       "      <td>00000000-0000-0000-0000-0000000003e8</td>\n",
       "      <td>People UK</td>\n",
       "      <td>01HHGX9BHARZT77WHVWCYJSWSF</td>\n",
       "    </tr>\n",
       "    <tr>\n",
       "      <th>0</th>\n",
       "      <td>00000000-0000-0000-0000-0000000007d0</td>\n",
       "      <td>People Company</td>\n",
       "      <td>01HHGX9BHARZT77WHVWCYJSWSF</td>\n",
       "    </tr>\n",
       "  </tbody>\n",
       "</table>\n",
       "</div>"
      ],
      "text/plain": [
       "                                     id    company_name  \\\n",
       "0  00000000-0000-0000-0000-000000000000  People Limited   \n",
       "0  00000000-0000-0000-0000-0000000003e8       People UK   \n",
       "0  00000000-0000-0000-0000-0000000007d0  People Company   \n",
       "\n",
       "                          crn  \n",
       "0  01HHGX9BHARZT77WHVWCYJSWSF  \n",
       "0  01HHGX9BHARZT77WHVWCYJSWSF  \n",
       "0  01HHGX9BHARZT77WHVWCYJSWSF  "
      ]
     },
     "execution_count": 77,
     "metadata": {},
     "output_type": "execute_result"
    }
   ],
   "source": [
    "df_raw = df.filter([\"company_name\", \"crn\"])\n",
    "df_crn = pd.concat(\n",
    "    [\n",
    "        df_raw.assign(company_name=lambda df: df[\"company_name\"] + \" Limited\"),\n",
    "        df_raw.assign(company_name=lambda df: df[\"company_name\"] + \" UK\"),\n",
    "        df_raw.assign(company_name=lambda df: df[\"company_name\"] + \" Company\"),\n",
    "    ]\n",
    ")\n",
    "\n",
    "df_crn[\"id\"] = range(df_crn.shape[0])\n",
    "df_crn = df_crn.filter([\"id\", \"company_name\", \"crn\"])\n",
    "df_crn[\"id\"] = df_crn[\"id\"].apply(lambda x: uuid.UUID(int=x))\n",
    "df_crn.query(\"company_name.str.lower().str.contains('people')\")"
   ]
  },
  {
   "cell_type": "code",
   "execution_count": 78,
   "id": "cfc2eb82-90fa-4ab3-beee-f18385d8e5fc",
   "metadata": {},
   "outputs": [],
   "source": [
    "# Clean\n",
    "cleaner_name = cleaner(\n",
    "    function=company_name, arguments={\"column\": \"company_name\"}\n",
    ")\n",
    "cleaner_crn = cleaners(cleaner_name)\n",
    "\n",
    "df_cleaned = process(data=df_crn, pipeline=cleaner_crn)"
   ]
  },
  {
   "cell_type": "code",
   "execution_count": 79,
   "id": "57af58ff-bd1b-44eb-a0cb-6de152974134",
   "metadata": {},
   "outputs": [
    {
     "data": {
      "text/plain": [
       "1000"
      ]
     },
     "execution_count": 79,
     "metadata": {},
     "output_type": "execute_result"
    }
   ],
   "source": [
    "df_cleaned[[\"company_name\", \"crn\"]].drop_duplicates().shape[0]"
   ]
  },
  {
   "cell_type": "code",
   "execution_count": 80,
   "id": "dfb82f95-0078-4f57-a202-29d9e4979885",
   "metadata": {},
   "outputs": [
    {
     "name": "stderr",
     "output_type": "stream",
     "text": [
      "/home/jovyan/company-matching/cmf/dedupers/make_deduper.py:22: UserWarning: For offline deduplication, the ID can be any field. \n",
      "\n",
      "When deduplicating to write back to the Company Matching Framework database, the ID must be data_sha1, generated by retrieving data with cmf.query().\n",
      "  warnings.warn(\n"
     ]
    }
   ],
   "source": [
    "# Dedupe\n",
    "df_naive_deduper = make_deduper(\n",
    "    dedupe_run_name=\"basic_crn\",\n",
    "    description=\"Clean company name, company number\",\n",
    "    deduper=Naive,\n",
    "    deduper_settings={\n",
    "        \"id\": \"id\",\n",
    "        \"unique_fields\": [\"company_name\", \"crn\"],\n",
    "    },\n",
    "    data_source=\"foo\",\n",
    "    data=df_cleaned,\n",
    ")\n",
    "\n",
    "df_deduped = df_naive_deduper()\n",
    "\n",
    "df_deduped_df = df_deduped.to_df()"
   ]
  },
  {
   "cell_type": "code",
   "execution_count": 81,
   "id": "b5a2f840-a6c7-49a9-8b8f-db72ba36ebeb",
   "metadata": {},
   "outputs": [
    {
     "data": {
      "text/plain": [
       "3000"
      ]
     },
     "execution_count": 81,
     "metadata": {},
     "output_type": "execute_result"
    },
    {
     "data": {
      "text/html": [
       "<div>\n",
       "<style scoped>\n",
       "    .dataframe tbody tr th:only-of-type {\n",
       "        vertical-align: middle;\n",
       "    }\n",
       "\n",
       "    .dataframe tbody tr th {\n",
       "        vertical-align: top;\n",
       "    }\n",
       "\n",
       "    .dataframe thead th {\n",
       "        text-align: right;\n",
       "    }\n",
       "</style>\n",
       "<table border=\"1\" class=\"dataframe\">\n",
       "  <thead>\n",
       "    <tr style=\"text-align: right;\">\n",
       "      <th></th>\n",
       "      <th>model</th>\n",
       "      <th>left</th>\n",
       "      <th>left_id</th>\n",
       "      <th>right</th>\n",
       "      <th>right_id</th>\n",
       "      <th>probability</th>\n",
       "    </tr>\n",
       "  </thead>\n",
       "  <tbody>\n",
       "    <tr>\n",
       "      <th>0</th>\n",
       "      <td>basic_crn</td>\n",
       "      <td>foo</td>\n",
       "      <td>00000000-0000-0000-0000-000000000001</td>\n",
       "      <td>foo</td>\n",
       "      <td>00000000-0000-0000-0000-0000000007d1</td>\n",
       "      <td>1</td>\n",
       "    </tr>\n",
       "    <tr>\n",
       "      <th>1</th>\n",
       "      <td>basic_crn</td>\n",
       "      <td>foo</td>\n",
       "      <td>00000000-0000-0000-0000-000000000002</td>\n",
       "      <td>foo</td>\n",
       "      <td>00000000-0000-0000-0000-0000000007d2</td>\n",
       "      <td>1</td>\n",
       "    </tr>\n",
       "    <tr>\n",
       "      <th>2</th>\n",
       "      <td>basic_crn</td>\n",
       "      <td>foo</td>\n",
       "      <td>00000000-0000-0000-0000-000000000005</td>\n",
       "      <td>foo</td>\n",
       "      <td>00000000-0000-0000-0000-0000000007d5</td>\n",
       "      <td>1</td>\n",
       "    </tr>\n",
       "  </tbody>\n",
       "</table>\n",
       "</div>"
      ],
      "text/plain": [
       "       model left                               left_id right  \\\n",
       "0  basic_crn  foo  00000000-0000-0000-0000-000000000001   foo   \n",
       "1  basic_crn  foo  00000000-0000-0000-0000-000000000002   foo   \n",
       "2  basic_crn  foo  00000000-0000-0000-0000-000000000005   foo   \n",
       "\n",
       "                               right_id  probability  \n",
       "0  00000000-0000-0000-0000-0000000007d1            1  \n",
       "1  00000000-0000-0000-0000-0000000007d2            1  \n",
       "2  00000000-0000-0000-0000-0000000007d5            1  "
      ]
     },
     "execution_count": 81,
     "metadata": {},
     "output_type": "execute_result"
    }
   ],
   "source": [
    "df_deduped_df.shape[0]\n",
    "df_deduped_df.head(3)"
   ]
  },
  {
   "cell_type": "code",
   "execution_count": 82,
   "id": "d38bc203-0383-4874-aa9e-83aa261d487f",
   "metadata": {},
   "outputs": [
    {
     "data": {
      "text/html": [
       "<div>\n",
       "<style scoped>\n",
       "    .dataframe tbody tr th:only-of-type {\n",
       "        vertical-align: middle;\n",
       "    }\n",
       "\n",
       "    .dataframe tbody tr th {\n",
       "        vertical-align: top;\n",
       "    }\n",
       "\n",
       "    .dataframe thead th {\n",
       "        text-align: right;\n",
       "    }\n",
       "</style>\n",
       "<table border=\"1\" class=\"dataframe\">\n",
       "  <thead>\n",
       "    <tr style=\"text-align: right;\">\n",
       "      <th></th>\n",
       "      <th>left_id</th>\n",
       "      <th>right_id</th>\n",
       "      <th>probability</th>\n",
       "    </tr>\n",
       "  </thead>\n",
       "  <tbody>\n",
       "    <tr>\n",
       "      <th>0</th>\n",
       "      <td>00000000-0000-0000-0000-000000000001</td>\n",
       "      <td>00000000-0000-0000-0000-0000000007d1</td>\n",
       "      <td>1</td>\n",
       "    </tr>\n",
       "    <tr>\n",
       "      <th>1</th>\n",
       "      <td>00000000-0000-0000-0000-000000000002</td>\n",
       "      <td>00000000-0000-0000-0000-0000000007d2</td>\n",
       "      <td>1</td>\n",
       "    </tr>\n",
       "    <tr>\n",
       "      <th>2</th>\n",
       "      <td>00000000-0000-0000-0000-000000000005</td>\n",
       "      <td>00000000-0000-0000-0000-0000000007d5</td>\n",
       "      <td>1</td>\n",
       "    </tr>\n",
       "    <tr>\n",
       "      <th>3</th>\n",
       "      <td>00000000-0000-0000-0000-00000000000b</td>\n",
       "      <td>00000000-0000-0000-0000-0000000007db</td>\n",
       "      <td>1</td>\n",
       "    </tr>\n",
       "    <tr>\n",
       "      <th>4</th>\n",
       "      <td>00000000-0000-0000-0000-00000000000c</td>\n",
       "      <td>00000000-0000-0000-0000-0000000007dc</td>\n",
       "      <td>1</td>\n",
       "    </tr>\n",
       "    <tr>\n",
       "      <th>...</th>\n",
       "      <td>...</td>\n",
       "      <td>...</td>\n",
       "      <td>...</td>\n",
       "    </tr>\n",
       "    <tr>\n",
       "      <th>2995</th>\n",
       "      <td>00000000-0000-0000-0000-0000000003a0</td>\n",
       "      <td>00000000-0000-0000-0000-000000000788</td>\n",
       "      <td>1</td>\n",
       "    </tr>\n",
       "    <tr>\n",
       "      <th>2996</th>\n",
       "      <td>00000000-0000-0000-0000-0000000003d1</td>\n",
       "      <td>00000000-0000-0000-0000-0000000007b9</td>\n",
       "      <td>1</td>\n",
       "    </tr>\n",
       "    <tr>\n",
       "      <th>2997</th>\n",
       "      <td>00000000-0000-0000-0000-00000000039a</td>\n",
       "      <td>00000000-0000-0000-0000-000000000b6a</td>\n",
       "      <td>1</td>\n",
       "    </tr>\n",
       "    <tr>\n",
       "      <th>2998</th>\n",
       "      <td>00000000-0000-0000-0000-000000000782</td>\n",
       "      <td>00000000-0000-0000-0000-000000000b6a</td>\n",
       "      <td>1</td>\n",
       "    </tr>\n",
       "    <tr>\n",
       "      <th>2999</th>\n",
       "      <td>00000000-0000-0000-0000-00000000039a</td>\n",
       "      <td>00000000-0000-0000-0000-000000000782</td>\n",
       "      <td>1</td>\n",
       "    </tr>\n",
       "  </tbody>\n",
       "</table>\n",
       "<p>3000 rows × 3 columns</p>\n",
       "</div>"
      ],
      "text/plain": [
       "                                   left_id  \\\n",
       "0     00000000-0000-0000-0000-000000000001   \n",
       "1     00000000-0000-0000-0000-000000000002   \n",
       "2     00000000-0000-0000-0000-000000000005   \n",
       "3     00000000-0000-0000-0000-00000000000b   \n",
       "4     00000000-0000-0000-0000-00000000000c   \n",
       "...                                    ...   \n",
       "2995  00000000-0000-0000-0000-0000000003a0   \n",
       "2996  00000000-0000-0000-0000-0000000003d1   \n",
       "2997  00000000-0000-0000-0000-00000000039a   \n",
       "2998  00000000-0000-0000-0000-000000000782   \n",
       "2999  00000000-0000-0000-0000-00000000039a   \n",
       "\n",
       "                                  right_id  probability  \n",
       "0     00000000-0000-0000-0000-0000000007d1            1  \n",
       "1     00000000-0000-0000-0000-0000000007d2            1  \n",
       "2     00000000-0000-0000-0000-0000000007d5            1  \n",
       "3     00000000-0000-0000-0000-0000000007db            1  \n",
       "4     00000000-0000-0000-0000-0000000007dc            1  \n",
       "...                                    ...          ...  \n",
       "2995  00000000-0000-0000-0000-000000000788            1  \n",
       "2996  00000000-0000-0000-0000-0000000007b9            1  \n",
       "2997  00000000-0000-0000-0000-000000000b6a            1  \n",
       "2998  00000000-0000-0000-0000-000000000b6a            1  \n",
       "2999  00000000-0000-0000-0000-000000000782            1  \n",
       "\n",
       "[3000 rows x 3 columns]"
      ]
     },
     "execution_count": 82,
     "metadata": {},
     "output_type": "execute_result"
    }
   ],
   "source": [
    "df_deduped.dataframe"
   ]
  },
  {
   "cell_type": "code",
   "execution_count": 85,
   "id": "301b1354-5b03-4bde-98fc-f917d2fcc05d",
   "metadata": {},
   "outputs": [],
   "source": [
    "df_enriched = df_deduped.inspect_with_source(\n",
    "    left_data=df_cleaned, left_key=\"id\", right_data=df_cleaned, right_key=\"id\"\n",
    ")"
   ]
  },
  {
   "cell_type": "code",
   "execution_count": 86,
   "id": "97d93ced-1a26-48e6-8675-c9dccc4057d5",
   "metadata": {},
   "outputs": [
    {
     "data": {
      "text/html": [
       "<div>\n",
       "<style scoped>\n",
       "    .dataframe tbody tr th:only-of-type {\n",
       "        vertical-align: middle;\n",
       "    }\n",
       "\n",
       "    .dataframe tbody tr th {\n",
       "        vertical-align: top;\n",
       "    }\n",
       "\n",
       "    .dataframe thead th {\n",
       "        text-align: right;\n",
       "    }\n",
       "</style>\n",
       "<table border=\"1\" class=\"dataframe\">\n",
       "  <thead>\n",
       "    <tr style=\"text-align: right;\">\n",
       "      <th></th>\n",
       "      <th>left_id</th>\n",
       "      <th>right_id</th>\n",
       "      <th>company_name_x</th>\n",
       "      <th>crn_x</th>\n",
       "      <th>company_name_y</th>\n",
       "      <th>crn_y</th>\n",
       "    </tr>\n",
       "  </thead>\n",
       "  <tbody>\n",
       "    <tr>\n",
       "      <th>745</th>\n",
       "      <td>00000000-0000-0000-0000-000000000000</td>\n",
       "      <td>00000000-0000-0000-0000-0000000007d0</td>\n",
       "      <td>people</td>\n",
       "      <td>01HHGX9BHARZT77WHVWCYJSWSF</td>\n",
       "      <td>people</td>\n",
       "      <td>01HHGX9BHARZT77WHVWCYJSWSF</td>\n",
       "    </tr>\n",
       "    <tr>\n",
       "      <th>1989</th>\n",
       "      <td>00000000-0000-0000-0000-000000000000</td>\n",
       "      <td>00000000-0000-0000-0000-0000000003e8</td>\n",
       "      <td>people</td>\n",
       "      <td>01HHGX9BHARZT77WHVWCYJSWSF</td>\n",
       "      <td>people</td>\n",
       "      <td>01HHGX9BHARZT77WHVWCYJSWSF</td>\n",
       "    </tr>\n",
       "    <tr>\n",
       "      <th>2477</th>\n",
       "      <td>00000000-0000-0000-0000-0000000003e8</td>\n",
       "      <td>00000000-0000-0000-0000-0000000007d0</td>\n",
       "      <td>people</td>\n",
       "      <td>01HHGX9BHARZT77WHVWCYJSWSF</td>\n",
       "      <td>people</td>\n",
       "      <td>01HHGX9BHARZT77WHVWCYJSWSF</td>\n",
       "    </tr>\n",
       "  </tbody>\n",
       "</table>\n",
       "</div>"
      ],
      "text/plain": [
       "                                   left_id  \\\n",
       "745   00000000-0000-0000-0000-000000000000   \n",
       "1989  00000000-0000-0000-0000-000000000000   \n",
       "2477  00000000-0000-0000-0000-0000000003e8   \n",
       "\n",
       "                                  right_id company_name_x  \\\n",
       "745   00000000-0000-0000-0000-0000000007d0         people   \n",
       "1989  00000000-0000-0000-0000-0000000003e8         people   \n",
       "2477  00000000-0000-0000-0000-0000000007d0         people   \n",
       "\n",
       "                           crn_x company_name_y                       crn_y  \n",
       "745   01HHGX9BHARZT77WHVWCYJSWSF         people  01HHGX9BHARZT77WHVWCYJSWSF  \n",
       "1989  01HHGX9BHARZT77WHVWCYJSWSF         people  01HHGX9BHARZT77WHVWCYJSWSF  \n",
       "2477  01HHGX9BHARZT77WHVWCYJSWSF         people  01HHGX9BHARZT77WHVWCYJSWSF  "
      ]
     },
     "execution_count": 86,
     "metadata": {},
     "output_type": "execute_result"
    }
   ],
   "source": [
    "df_enriched.query(\"company_name_x == 'people'\")"
   ]
  },
  {
   "cell_type": "code",
   "execution_count": 71,
   "id": "31940ecd-c5f8-418b-9070-89f1f1940783",
   "metadata": {},
   "outputs": [
    {
     "data": {
      "text/html": [
       "<div>\n",
       "<style scoped>\n",
       "    .dataframe tbody tr th:only-of-type {\n",
       "        vertical-align: middle;\n",
       "    }\n",
       "\n",
       "    .dataframe tbody tr th {\n",
       "        vertical-align: top;\n",
       "    }\n",
       "\n",
       "    .dataframe thead th {\n",
       "        text-align: right;\n",
       "    }\n",
       "</style>\n",
       "<table border=\"1\" class=\"dataframe\">\n",
       "  <thead>\n",
       "    <tr style=\"text-align: right;\">\n",
       "      <th></th>\n",
       "      <th>left_id</th>\n",
       "      <th>right_id</th>\n",
       "      <th>left_unique</th>\n",
       "      <th>right_unique</th>\n",
       "      <th>probability</th>\n",
       "    </tr>\n",
       "  </thead>\n",
       "  <tbody>\n",
       "    <tr>\n",
       "      <th>0</th>\n",
       "      <td>00000000-0000-0000-0000-000000000000</td>\n",
       "      <td>00000000-0000-0000-0000-000000000000</td>\n",
       "      <td>0</td>\n",
       "      <td>2000</td>\n",
       "      <td>1</td>\n",
       "    </tr>\n",
       "    <tr>\n",
       "      <th>1</th>\n",
       "      <td>00000000-0000-0000-0000-000000000003</td>\n",
       "      <td>00000000-0000-0000-0000-000000000003</td>\n",
       "      <td>3</td>\n",
       "      <td>2003</td>\n",
       "      <td>1</td>\n",
       "    </tr>\n",
       "    <tr>\n",
       "      <th>2</th>\n",
       "      <td>00000000-0000-0000-0000-000000000006</td>\n",
       "      <td>00000000-0000-0000-0000-000000000006</td>\n",
       "      <td>6</td>\n",
       "      <td>2006</td>\n",
       "      <td>1</td>\n",
       "    </tr>\n",
       "    <tr>\n",
       "      <th>3</th>\n",
       "      <td>00000000-0000-0000-0000-000000000008</td>\n",
       "      <td>00000000-0000-0000-0000-000000000008</td>\n",
       "      <td>8</td>\n",
       "      <td>2008</td>\n",
       "      <td>1</td>\n",
       "    </tr>\n",
       "    <tr>\n",
       "      <th>4</th>\n",
       "      <td>00000000-0000-0000-0000-00000000000f</td>\n",
       "      <td>00000000-0000-0000-0000-00000000000f</td>\n",
       "      <td>15</td>\n",
       "      <td>2015</td>\n",
       "      <td>1</td>\n",
       "    </tr>\n",
       "    <tr>\n",
       "      <th>...</th>\n",
       "      <td>...</td>\n",
       "      <td>...</td>\n",
       "      <td>...</td>\n",
       "      <td>...</td>\n",
       "      <td>...</td>\n",
       "    </tr>\n",
       "    <tr>\n",
       "      <th>995</th>\n",
       "      <td>00000000-0000-0000-0000-00000000030f</td>\n",
       "      <td>00000000-0000-0000-0000-00000000030f</td>\n",
       "      <td>783</td>\n",
       "      <td>2783</td>\n",
       "      <td>1</td>\n",
       "    </tr>\n",
       "    <tr>\n",
       "      <th>996</th>\n",
       "      <td>00000000-0000-0000-0000-000000000342</td>\n",
       "      <td>00000000-0000-0000-0000-000000000342</td>\n",
       "      <td>834</td>\n",
       "      <td>2834</td>\n",
       "      <td>1</td>\n",
       "    </tr>\n",
       "    <tr>\n",
       "      <th>997</th>\n",
       "      <td>00000000-0000-0000-0000-000000000367</td>\n",
       "      <td>00000000-0000-0000-0000-000000000367</td>\n",
       "      <td>871</td>\n",
       "      <td>2871</td>\n",
       "      <td>1</td>\n",
       "    </tr>\n",
       "    <tr>\n",
       "      <th>998</th>\n",
       "      <td>00000000-0000-0000-0000-000000000372</td>\n",
       "      <td>00000000-0000-0000-0000-000000000372</td>\n",
       "      <td>882</td>\n",
       "      <td>2882</td>\n",
       "      <td>1</td>\n",
       "    </tr>\n",
       "    <tr>\n",
       "      <th>999</th>\n",
       "      <td>00000000-0000-0000-0000-0000000003c3</td>\n",
       "      <td>00000000-0000-0000-0000-0000000003c3</td>\n",
       "      <td>963</td>\n",
       "      <td>2963</td>\n",
       "      <td>1</td>\n",
       "    </tr>\n",
       "  </tbody>\n",
       "</table>\n",
       "<p>1000 rows × 5 columns</p>\n",
       "</div>"
      ],
      "text/plain": [
       "                                  left_id  \\\n",
       "0    00000000-0000-0000-0000-000000000000   \n",
       "1    00000000-0000-0000-0000-000000000003   \n",
       "2    00000000-0000-0000-0000-000000000006   \n",
       "3    00000000-0000-0000-0000-000000000008   \n",
       "4    00000000-0000-0000-0000-00000000000f   \n",
       "..                                    ...   \n",
       "995  00000000-0000-0000-0000-00000000030f   \n",
       "996  00000000-0000-0000-0000-000000000342   \n",
       "997  00000000-0000-0000-0000-000000000367   \n",
       "998  00000000-0000-0000-0000-000000000372   \n",
       "999  00000000-0000-0000-0000-0000000003c3   \n",
       "\n",
       "                                 right_id  left_unique  right_unique  \\\n",
       "0    00000000-0000-0000-0000-000000000000            0          2000   \n",
       "1    00000000-0000-0000-0000-000000000003            3          2003   \n",
       "2    00000000-0000-0000-0000-000000000006            6          2006   \n",
       "3    00000000-0000-0000-0000-000000000008            8          2008   \n",
       "4    00000000-0000-0000-0000-00000000000f           15          2015   \n",
       "..                                    ...          ...           ...   \n",
       "995  00000000-0000-0000-0000-00000000030f          783          2783   \n",
       "996  00000000-0000-0000-0000-000000000342          834          2834   \n",
       "997  00000000-0000-0000-0000-000000000367          871          2871   \n",
       "998  00000000-0000-0000-0000-000000000372          882          2882   \n",
       "999  00000000-0000-0000-0000-0000000003c3          963          2963   \n",
       "\n",
       "     probability  \n",
       "0              1  \n",
       "1              1  \n",
       "2              1  \n",
       "3              1  \n",
       "4              1  \n",
       "..           ...  \n",
       "995            1  \n",
       "996            1  \n",
       "997            1  \n",
       "998            1  \n",
       "999            1  \n",
       "\n",
       "[1000 rows x 5 columns]"
      ]
     },
     "execution_count": 71,
     "metadata": {},
     "output_type": "execute_result"
    }
   ],
   "source": [
    "import duckdb\n",
    "\n",
    "df_cleaned_2 = df_cleaned.copy()\n",
    "\n",
    "join_clause = []\n",
    "for field in [\"company_name\", \"crn\"]:\n",
    "    join_clause.append(f\"l.{field} = r.{field}\")\n",
    "join_clause_compiled = \" and \".join(join_clause)\n",
    "\n",
    "df_cleaned_2[\"_unique_e4003b\"] = range(df_cleaned_2.shape[0])\n",
    "\n",
    "duckdb.sql(\n",
    "    f\"\"\"\n",
    "    select distinct on (list_sort([raw.left_id, raw.right_id]))\n",
    "        raw.left_id,\n",
    "        raw.right_id,\n",
    "        raw.left_unique,\n",
    "        raw.right_unique,\n",
    "        1 as probability\n",
    "    from (\n",
    "        select\n",
    "            l.id as left_id,\n",
    "            r.id as right_id,\n",
    "            l._unique_e4003b as left_unique,\n",
    "            r._unique_e4003b as right_unique\n",
    "        from\n",
    "            df_cleaned_2 l\n",
    "        inner join df_cleaned_2 r on\n",
    "            (\n",
    "                {join_clause_compiled}\n",
    "            )\n",
    "    ) raw;\n",
    "\"\"\"\n",
    ").df()"
   ]
  },
  {
   "cell_type": "code",
   "execution_count": 3,
   "id": "f3054087-2e5e-4941-90b8-5fd13922e433",
   "metadata": {},
   "outputs": [],
   "source": [
    "# Select\n",
    "dh = query(\n",
    "    selector={\n",
    "        \"dit.data_hub__companies\": [\n",
    "            \"id\",\n",
    "            \"name\",\n",
    "            \"company_number\",\n",
    "        ]\n",
    "    },\n",
    "    model=None,\n",
    "    return_type=\"pandas\",\n",
    ")\n",
    "\n",
    "# Clean\n",
    "col_prefix = \"dit_data_hub__companies_\"\n",
    "\n",
    "cleaner_name = cleaner(function=company_name, arguments={\"column\": f\"{col_prefix}name\"})\n",
    "cleaner_crn = cleaner(\n",
    "    function=company_number, arguments={\"column\": f\"{col_prefix}company_number\"}\n",
    ")\n",
    "cleaner_name_dh = cleaners(cleaner_name, cleaner_crn)\n",
    "\n",
    "dh_cleaned = process(data=dh, pipeline=cleaner_name_dh)"
   ]
  },
  {
   "cell_type": "code",
   "execution_count": 4,
   "id": "be039ed3-f615-4b04-ac34-432e6d21d325",
   "metadata": {},
   "outputs": [
    {
     "data": {
      "text/plain": [
       "(503449, 4)"
      ]
     },
     "execution_count": 4,
     "metadata": {},
     "output_type": "execute_result"
    },
    {
     "data": {
      "text/plain": [
       "(503449, 4)"
      ]
     },
     "execution_count": 4,
     "metadata": {},
     "output_type": "execute_result"
    }
   ],
   "source": [
    "dh.shape\n",
    "dh_cleaned.shape"
   ]
  },
  {
   "cell_type": "code",
   "execution_count": 5,
   "id": "4458d1df-7366-416b-833b-d7f7dbdc04be",
   "metadata": {},
   "outputs": [
    {
     "data": {
      "text/html": [
       "<div>\n",
       "<style scoped>\n",
       "    .dataframe tbody tr th:only-of-type {\n",
       "        vertical-align: middle;\n",
       "    }\n",
       "\n",
       "    .dataframe tbody tr th {\n",
       "        vertical-align: top;\n",
       "    }\n",
       "\n",
       "    .dataframe thead th {\n",
       "        text-align: right;\n",
       "    }\n",
       "</style>\n",
       "<table border=\"1\" class=\"dataframe\">\n",
       "  <thead>\n",
       "    <tr style=\"text-align: right;\">\n",
       "      <th></th>\n",
       "      <th>data_sha1</th>\n",
       "      <th>dit_data_hub__companies_id</th>\n",
       "      <th>dit_data_hub__companies_name</th>\n",
       "      <th>dit_data_hub__companies_company_number</th>\n",
       "    </tr>\n",
       "  </thead>\n",
       "  <tbody>\n",
       "    <tr>\n",
       "      <th>0</th>\n",
       "      <td>[196, 247, 190, 128, 184, 190, 103, 122, 20, 4...</td>\n",
       "      <td>00002c8e-591a-e711-88ee-e4115bead28a</td>\n",
       "      <td>arensis corp</td>\n",
       "      <td>None</td>\n",
       "    </tr>\n",
       "    <tr>\n",
       "      <th>1</th>\n",
       "      <td>[24, 61, 93, 182, 46, 163, 186, 32, 56, 37, 47...</td>\n",
       "      <td>000042c1-a098-e211-a939-e4115bead28a</td>\n",
       "      <td>macrogen korea</td>\n",
       "      <td>None</td>\n",
       "    </tr>\n",
       "    <tr>\n",
       "      <th>2</th>\n",
       "      <td>[88, 139, 37, 72, 135, 153, 140, 176, 249, 217...</td>\n",
       "      <td>00008a29-e155-e411-985c-e4115bead28a</td>\n",
       "      <td>pixsan digital software</td>\n",
       "      <td>None</td>\n",
       "    </tr>\n",
       "  </tbody>\n",
       "</table>\n",
       "</div>"
      ],
      "text/plain": [
       "                                           data_sha1  \\\n",
       "0  [196, 247, 190, 128, 184, 190, 103, 122, 20, 4...   \n",
       "1  [24, 61, 93, 182, 46, 163, 186, 32, 56, 37, 47...   \n",
       "2  [88, 139, 37, 72, 135, 153, 140, 176, 249, 217...   \n",
       "\n",
       "             dit_data_hub__companies_id dit_data_hub__companies_name  \\\n",
       "0  00002c8e-591a-e711-88ee-e4115bead28a                 arensis corp   \n",
       "1  000042c1-a098-e211-a939-e4115bead28a               macrogen korea   \n",
       "2  00008a29-e155-e411-985c-e4115bead28a      pixsan digital software   \n",
       "\n",
       "  dit_data_hub__companies_company_number  \n",
       "0                                   None  \n",
       "1                                   None  \n",
       "2                                   None  "
      ]
     },
     "execution_count": 5,
     "metadata": {},
     "output_type": "execute_result"
    }
   ],
   "source": [
    "dh_cleaned.head(3)"
   ]
  },
  {
   "cell_type": "code",
   "execution_count": 9,
   "id": "a59f4804-4f2e-4775-9c84-b0271c9e3f53",
   "metadata": {},
   "outputs": [
    {
     "data": {
      "text/plain": [
       "482602"
      ]
     },
     "execution_count": 9,
     "metadata": {},
     "output_type": "execute_result"
    }
   ],
   "source": [
    "dh_cleaned[\n",
    "    [\"dit_data_hub__companies_name\", \"dit_data_hub__companies_company_number\"]\n",
    "].drop_duplicates().shape[0]"
   ]
  },
  {
   "cell_type": "code",
   "execution_count": 6,
   "id": "d0ff4415-6066-4627-a92c-d21baa06767b",
   "metadata": {},
   "outputs": [],
   "source": [
    "# Dedupe\n",
    "dh_naive_deduper = make_deduper(\n",
    "    dedupe_run_name=\"basic_dh\",\n",
    "    description=\"\"\"\n",
    "        Clean company name, company number\n",
    "    \"\"\",\n",
    "    deduper=Naive,\n",
    "    deduper_settings={\n",
    "        \"id\": f\"data_sha1\",\n",
    "        \"unique_fields\": [f\"{col_prefix}name\", f\"{col_prefix}company_number\"],\n",
    "    },\n",
    "    data_source=\"dit.data_hub__companies\",\n",
    "    data=dh_cleaned,\n",
    ")\n",
    "\n",
    "dh_deduped = dh_naive_deduper()\n",
    "\n",
    "dh_deduped_df = dh_deduped.to_df()"
   ]
  },
  {
   "cell_type": "code",
   "execution_count": 7,
   "id": "48a7cfed-9a89-40b0-b4fc-47310e2d66de",
   "metadata": {},
   "outputs": [
    {
     "data": {
      "text/html": [
       "<div>\n",
       "<style scoped>\n",
       "    .dataframe tbody tr th:only-of-type {\n",
       "        vertical-align: middle;\n",
       "    }\n",
       "\n",
       "    .dataframe tbody tr th {\n",
       "        vertical-align: top;\n",
       "    }\n",
       "\n",
       "    .dataframe thead th {\n",
       "        text-align: right;\n",
       "    }\n",
       "</style>\n",
       "<table border=\"1\" class=\"dataframe\">\n",
       "  <thead>\n",
       "    <tr style=\"text-align: right;\">\n",
       "      <th></th>\n",
       "      <th>model</th>\n",
       "      <th>left</th>\n",
       "      <th>left_id</th>\n",
       "      <th>right</th>\n",
       "      <th>right_id</th>\n",
       "      <th>probability</th>\n",
       "    </tr>\n",
       "  </thead>\n",
       "  <tbody>\n",
       "    <tr>\n",
       "      <th>0</th>\n",
       "      <td>basic_dh</td>\n",
       "      <td>dit.data_hub__companies</td>\n",
       "      <td>[159, 88, 93, 114, 229, 226, 159, 80, 204, 168...</td>\n",
       "      <td>dit.data_hub__companies</td>\n",
       "      <td>[134, 155, 152, 206, 81, 64, 135, 99, 204, 197...</td>\n",
       "      <td>1</td>\n",
       "    </tr>\n",
       "    <tr>\n",
       "      <th>1</th>\n",
       "      <td>basic_dh</td>\n",
       "      <td>dit.data_hub__companies</td>\n",
       "      <td>[5, 206, 209, 57, 155, 53, 4, 205, 147, 11, 13...</td>\n",
       "      <td>dit.data_hub__companies</td>\n",
       "      <td>[9, 74, 19, 18, 34, 88, 59, 107, 19, 210, 37, ...</td>\n",
       "      <td>1</td>\n",
       "    </tr>\n",
       "    <tr>\n",
       "      <th>2</th>\n",
       "      <td>basic_dh</td>\n",
       "      <td>dit.data_hub__companies</td>\n",
       "      <td>[85, 19, 108, 225, 134, 92, 105, 217, 244, 86,...</td>\n",
       "      <td>dit.data_hub__companies</td>\n",
       "      <td>[231, 248, 107, 96, 178, 253, 194, 43, 216, 8,...</td>\n",
       "      <td>1</td>\n",
       "    </tr>\n",
       "    <tr>\n",
       "      <th>3</th>\n",
       "      <td>basic_dh</td>\n",
       "      <td>dit.data_hub__companies</td>\n",
       "      <td>[72, 218, 48, 38, 233, 143, 9, 226, 204, 151, ...</td>\n",
       "      <td>dit.data_hub__companies</td>\n",
       "      <td>[25, 88, 248, 207, 122, 85, 22, 187, 41, 99, 4...</td>\n",
       "      <td>1</td>\n",
       "    </tr>\n",
       "    <tr>\n",
       "      <th>4</th>\n",
       "      <td>basic_dh</td>\n",
       "      <td>dit.data_hub__companies</td>\n",
       "      <td>[95, 15, 232, 74, 123, 239, 149, 20, 69, 201, ...</td>\n",
       "      <td>dit.data_hub__companies</td>\n",
       "      <td>[236, 26, 4, 121, 247, 204, 59, 212, 162, 32, ...</td>\n",
       "      <td>1</td>\n",
       "    </tr>\n",
       "  </tbody>\n",
       "</table>\n",
       "</div>"
      ],
      "text/plain": [
       "      model                     left  \\\n",
       "0  basic_dh  dit.data_hub__companies   \n",
       "1  basic_dh  dit.data_hub__companies   \n",
       "2  basic_dh  dit.data_hub__companies   \n",
       "3  basic_dh  dit.data_hub__companies   \n",
       "4  basic_dh  dit.data_hub__companies   \n",
       "\n",
       "                                             left_id                    right  \\\n",
       "0  [159, 88, 93, 114, 229, 226, 159, 80, 204, 168...  dit.data_hub__companies   \n",
       "1  [5, 206, 209, 57, 155, 53, 4, 205, 147, 11, 13...  dit.data_hub__companies   \n",
       "2  [85, 19, 108, 225, 134, 92, 105, 217, 244, 86,...  dit.data_hub__companies   \n",
       "3  [72, 218, 48, 38, 233, 143, 9, 226, 204, 151, ...  dit.data_hub__companies   \n",
       "4  [95, 15, 232, 74, 123, 239, 149, 20, 69, 201, ...  dit.data_hub__companies   \n",
       "\n",
       "                                            right_id  probability  \n",
       "0  [134, 155, 152, 206, 81, 64, 135, 99, 204, 197...            1  \n",
       "1  [9, 74, 19, 18, 34, 88, 59, 107, 19, 210, 37, ...            1  \n",
       "2  [231, 248, 107, 96, 178, 253, 194, 43, 216, 8,...            1  \n",
       "3  [25, 88, 248, 207, 122, 85, 22, 187, 41, 99, 4...            1  \n",
       "4  [236, 26, 4, 121, 247, 204, 59, 212, 162, 32, ...            1  "
      ]
     },
     "execution_count": 7,
     "metadata": {},
     "output_type": "execute_result"
    }
   ],
   "source": [
    "dh_deduped_df.head(5)"
   ]
  },
  {
   "cell_type": "code",
   "execution_count": 11,
   "id": "1963d05e-4cb1-4e62-b1e6-3e0067c938eb",
   "metadata": {},
   "outputs": [
    {
     "data": {
      "text/plain": [
       "0       [159, 88, 93, 114, 229, 226, 159, 80, 204, 168...\n",
       "1       [5, 206, 209, 57, 155, 53, 4, 205, 147, 11, 13...\n",
       "2       [85, 19, 108, 225, 134, 92, 105, 217, 244, 86,...\n",
       "3       [72, 218, 48, 38, 233, 143, 9, 226, 204, 151, ...\n",
       "4       [95, 15, 232, 74, 123, 239, 149, 20, 69, 201, ...\n",
       "                              ...                        \n",
       "2161    [170, 14, 152, 42, 218, 117, 226, 101, 119, 18...\n",
       "2162    [117, 142, 93, 47, 102, 98, 70, 24, 135, 242, ...\n",
       "2163    [26, 121, 21, 138, 127, 213, 138, 94, 227, 191...\n",
       "2164    [101, 86, 133, 145, 94, 225, 224, 86, 213, 43,...\n",
       "2165    [223, 178, 145, 11, 190, 234, 71, 40, 27, 80, ...\n",
       "Name: left_id, Length: 2166, dtype: object"
      ]
     },
     "execution_count": 11,
     "metadata": {},
     "output_type": "execute_result"
    }
   ],
   "source": [
    "dh_deduped.dataframe[\"left_id\"]"
   ]
  },
  {
   "cell_type": "code",
   "execution_count": 8,
   "id": "157e2c5e-c326-4f2b-b7d9-3c4eed83850f",
   "metadata": {},
   "outputs": [
    {
     "ename": "ValueError",
     "evalue": "setting an array element with a sequence",
     "output_type": "error",
     "traceback": [
      "\u001b[0;31m---------------------------------------------------------------------------\u001b[0m",
      "\u001b[0;31mValueError\u001b[0m                                Traceback (most recent call last)",
      "Cell \u001b[0;32mIn[8], line 1\u001b[0m\n\u001b[0;32m----> 1\u001b[0m \u001b[43mdh_deduped\u001b[49m\u001b[38;5;241;43m.\u001b[39;49m\u001b[43mdataframe\u001b[49m\u001b[43m[\u001b[49m\u001b[38;5;124;43m\"\u001b[39;49m\u001b[38;5;124;43mleft_id\u001b[39;49m\u001b[38;5;124;43m\"\u001b[39;49m\u001b[43m]\u001b[49m\u001b[38;5;241;43m.\u001b[39;49m\u001b[43mastype\u001b[49m\u001b[43m(\u001b[49m\u001b[38;5;28;43mbytes\u001b[39;49m\u001b[43m)\u001b[49m\n",
      "File \u001b[0;32m/opt/conda/envs/company_matching/lib/python3.9/site-packages/pandas/core/generic.py:6637\u001b[0m, in \u001b[0;36mNDFrame.astype\u001b[0;34m(self, dtype, copy, errors)\u001b[0m\n\u001b[1;32m   6631\u001b[0m     results \u001b[38;5;241m=\u001b[39m [\n\u001b[1;32m   6632\u001b[0m         ser\u001b[38;5;241m.\u001b[39mastype(dtype, copy\u001b[38;5;241m=\u001b[39mcopy, errors\u001b[38;5;241m=\u001b[39merrors) \u001b[38;5;28;01mfor\u001b[39;00m _, ser \u001b[38;5;129;01min\u001b[39;00m \u001b[38;5;28mself\u001b[39m\u001b[38;5;241m.\u001b[39mitems()\n\u001b[1;32m   6633\u001b[0m     ]\n\u001b[1;32m   6635\u001b[0m \u001b[38;5;28;01melse\u001b[39;00m:\n\u001b[1;32m   6636\u001b[0m     \u001b[38;5;66;03m# else, only a single dtype is given\u001b[39;00m\n\u001b[0;32m-> 6637\u001b[0m     new_data \u001b[38;5;241m=\u001b[39m \u001b[38;5;28;43mself\u001b[39;49m\u001b[38;5;241;43m.\u001b[39;49m\u001b[43m_mgr\u001b[49m\u001b[38;5;241;43m.\u001b[39;49m\u001b[43mastype\u001b[49m\u001b[43m(\u001b[49m\u001b[43mdtype\u001b[49m\u001b[38;5;241;43m=\u001b[39;49m\u001b[43mdtype\u001b[49m\u001b[43m,\u001b[49m\u001b[43m \u001b[49m\u001b[43mcopy\u001b[49m\u001b[38;5;241;43m=\u001b[39;49m\u001b[43mcopy\u001b[49m\u001b[43m,\u001b[49m\u001b[43m \u001b[49m\u001b[43merrors\u001b[49m\u001b[38;5;241;43m=\u001b[39;49m\u001b[43merrors\u001b[49m\u001b[43m)\u001b[49m\n\u001b[1;32m   6638\u001b[0m     res \u001b[38;5;241m=\u001b[39m \u001b[38;5;28mself\u001b[39m\u001b[38;5;241m.\u001b[39m_constructor_from_mgr(new_data, axes\u001b[38;5;241m=\u001b[39mnew_data\u001b[38;5;241m.\u001b[39maxes)\n\u001b[1;32m   6639\u001b[0m     \u001b[38;5;28;01mreturn\u001b[39;00m res\u001b[38;5;241m.\u001b[39m__finalize__(\u001b[38;5;28mself\u001b[39m, method\u001b[38;5;241m=\u001b[39m\u001b[38;5;124m\"\u001b[39m\u001b[38;5;124mastype\u001b[39m\u001b[38;5;124m\"\u001b[39m)\n",
      "File \u001b[0;32m/opt/conda/envs/company_matching/lib/python3.9/site-packages/pandas/core/internals/managers.py:431\u001b[0m, in \u001b[0;36mBaseBlockManager.astype\u001b[0;34m(self, dtype, copy, errors)\u001b[0m\n\u001b[1;32m    428\u001b[0m \u001b[38;5;28;01melif\u001b[39;00m using_copy_on_write():\n\u001b[1;32m    429\u001b[0m     copy \u001b[38;5;241m=\u001b[39m \u001b[38;5;28;01mFalse\u001b[39;00m\n\u001b[0;32m--> 431\u001b[0m \u001b[38;5;28;01mreturn\u001b[39;00m \u001b[38;5;28;43mself\u001b[39;49m\u001b[38;5;241;43m.\u001b[39;49m\u001b[43mapply\u001b[49m\u001b[43m(\u001b[49m\n\u001b[1;32m    432\u001b[0m \u001b[43m    \u001b[49m\u001b[38;5;124;43m\"\u001b[39;49m\u001b[38;5;124;43mastype\u001b[39;49m\u001b[38;5;124;43m\"\u001b[39;49m\u001b[43m,\u001b[49m\n\u001b[1;32m    433\u001b[0m \u001b[43m    \u001b[49m\u001b[43mdtype\u001b[49m\u001b[38;5;241;43m=\u001b[39;49m\u001b[43mdtype\u001b[49m\u001b[43m,\u001b[49m\n\u001b[1;32m    434\u001b[0m \u001b[43m    \u001b[49m\u001b[43mcopy\u001b[49m\u001b[38;5;241;43m=\u001b[39;49m\u001b[43mcopy\u001b[49m\u001b[43m,\u001b[49m\n\u001b[1;32m    435\u001b[0m \u001b[43m    \u001b[49m\u001b[43merrors\u001b[49m\u001b[38;5;241;43m=\u001b[39;49m\u001b[43merrors\u001b[49m\u001b[43m,\u001b[49m\n\u001b[1;32m    436\u001b[0m \u001b[43m    \u001b[49m\u001b[43musing_cow\u001b[49m\u001b[38;5;241;43m=\u001b[39;49m\u001b[43musing_copy_on_write\u001b[49m\u001b[43m(\u001b[49m\u001b[43m)\u001b[49m\u001b[43m,\u001b[49m\n\u001b[1;32m    437\u001b[0m \u001b[43m\u001b[49m\u001b[43m)\u001b[49m\n",
      "File \u001b[0;32m/opt/conda/envs/company_matching/lib/python3.9/site-packages/pandas/core/internals/managers.py:364\u001b[0m, in \u001b[0;36mBaseBlockManager.apply\u001b[0;34m(self, f, align_keys, **kwargs)\u001b[0m\n\u001b[1;32m    362\u001b[0m         applied \u001b[38;5;241m=\u001b[39m b\u001b[38;5;241m.\u001b[39mapply(f, \u001b[38;5;241m*\u001b[39m\u001b[38;5;241m*\u001b[39mkwargs)\n\u001b[1;32m    363\u001b[0m     \u001b[38;5;28;01melse\u001b[39;00m:\n\u001b[0;32m--> 364\u001b[0m         applied \u001b[38;5;241m=\u001b[39m \u001b[38;5;28;43mgetattr\u001b[39;49m\u001b[43m(\u001b[49m\u001b[43mb\u001b[49m\u001b[43m,\u001b[49m\u001b[43m \u001b[49m\u001b[43mf\u001b[49m\u001b[43m)\u001b[49m\u001b[43m(\u001b[49m\u001b[38;5;241;43m*\u001b[39;49m\u001b[38;5;241;43m*\u001b[39;49m\u001b[43mkwargs\u001b[49m\u001b[43m)\u001b[49m\n\u001b[1;32m    365\u001b[0m     result_blocks \u001b[38;5;241m=\u001b[39m extend_blocks(applied, result_blocks)\n\u001b[1;32m    367\u001b[0m out \u001b[38;5;241m=\u001b[39m \u001b[38;5;28mtype\u001b[39m(\u001b[38;5;28mself\u001b[39m)\u001b[38;5;241m.\u001b[39mfrom_blocks(result_blocks, \u001b[38;5;28mself\u001b[39m\u001b[38;5;241m.\u001b[39maxes)\n",
      "File \u001b[0;32m/opt/conda/envs/company_matching/lib/python3.9/site-packages/pandas/core/internals/blocks.py:758\u001b[0m, in \u001b[0;36mBlock.astype\u001b[0;34m(self, dtype, copy, errors, using_cow, squeeze)\u001b[0m\n\u001b[1;32m    755\u001b[0m         \u001b[38;5;28;01mraise\u001b[39;00m \u001b[38;5;167;01mValueError\u001b[39;00m(\u001b[38;5;124m\"\u001b[39m\u001b[38;5;124mCan not squeeze with more than one column.\u001b[39m\u001b[38;5;124m\"\u001b[39m)\n\u001b[1;32m    756\u001b[0m     values \u001b[38;5;241m=\u001b[39m values[\u001b[38;5;241m0\u001b[39m, :]  \u001b[38;5;66;03m# type: ignore[call-overload]\u001b[39;00m\n\u001b[0;32m--> 758\u001b[0m new_values \u001b[38;5;241m=\u001b[39m \u001b[43mastype_array_safe\u001b[49m\u001b[43m(\u001b[49m\u001b[43mvalues\u001b[49m\u001b[43m,\u001b[49m\u001b[43m \u001b[49m\u001b[43mdtype\u001b[49m\u001b[43m,\u001b[49m\u001b[43m \u001b[49m\u001b[43mcopy\u001b[49m\u001b[38;5;241;43m=\u001b[39;49m\u001b[43mcopy\u001b[49m\u001b[43m,\u001b[49m\u001b[43m \u001b[49m\u001b[43merrors\u001b[49m\u001b[38;5;241;43m=\u001b[39;49m\u001b[43merrors\u001b[49m\u001b[43m)\u001b[49m\n\u001b[1;32m    760\u001b[0m new_values \u001b[38;5;241m=\u001b[39m maybe_coerce_values(new_values)\n\u001b[1;32m    762\u001b[0m refs \u001b[38;5;241m=\u001b[39m \u001b[38;5;28;01mNone\u001b[39;00m\n",
      "File \u001b[0;32m/opt/conda/envs/company_matching/lib/python3.9/site-packages/pandas/core/dtypes/astype.py:237\u001b[0m, in \u001b[0;36mastype_array_safe\u001b[0;34m(values, dtype, copy, errors)\u001b[0m\n\u001b[1;32m    234\u001b[0m     dtype \u001b[38;5;241m=\u001b[39m dtype\u001b[38;5;241m.\u001b[39mnumpy_dtype\n\u001b[1;32m    236\u001b[0m \u001b[38;5;28;01mtry\u001b[39;00m:\n\u001b[0;32m--> 237\u001b[0m     new_values \u001b[38;5;241m=\u001b[39m \u001b[43mastype_array\u001b[49m\u001b[43m(\u001b[49m\u001b[43mvalues\u001b[49m\u001b[43m,\u001b[49m\u001b[43m \u001b[49m\u001b[43mdtype\u001b[49m\u001b[43m,\u001b[49m\u001b[43m \u001b[49m\u001b[43mcopy\u001b[49m\u001b[38;5;241;43m=\u001b[39;49m\u001b[43mcopy\u001b[49m\u001b[43m)\u001b[49m\n\u001b[1;32m    238\u001b[0m \u001b[38;5;28;01mexcept\u001b[39;00m (\u001b[38;5;167;01mValueError\u001b[39;00m, \u001b[38;5;167;01mTypeError\u001b[39;00m):\n\u001b[1;32m    239\u001b[0m     \u001b[38;5;66;03m# e.g. _astype_nansafe can fail on object-dtype of strings\u001b[39;00m\n\u001b[1;32m    240\u001b[0m     \u001b[38;5;66;03m#  trying to convert to float\u001b[39;00m\n\u001b[1;32m    241\u001b[0m     \u001b[38;5;28;01mif\u001b[39;00m errors \u001b[38;5;241m==\u001b[39m \u001b[38;5;124m\"\u001b[39m\u001b[38;5;124mignore\u001b[39m\u001b[38;5;124m\"\u001b[39m:\n",
      "File \u001b[0;32m/opt/conda/envs/company_matching/lib/python3.9/site-packages/pandas/core/dtypes/astype.py:182\u001b[0m, in \u001b[0;36mastype_array\u001b[0;34m(values, dtype, copy)\u001b[0m\n\u001b[1;32m    179\u001b[0m     values \u001b[38;5;241m=\u001b[39m values\u001b[38;5;241m.\u001b[39mastype(dtype, copy\u001b[38;5;241m=\u001b[39mcopy)\n\u001b[1;32m    181\u001b[0m \u001b[38;5;28;01melse\u001b[39;00m:\n\u001b[0;32m--> 182\u001b[0m     values \u001b[38;5;241m=\u001b[39m \u001b[43m_astype_nansafe\u001b[49m\u001b[43m(\u001b[49m\u001b[43mvalues\u001b[49m\u001b[43m,\u001b[49m\u001b[43m \u001b[49m\u001b[43mdtype\u001b[49m\u001b[43m,\u001b[49m\u001b[43m \u001b[49m\u001b[43mcopy\u001b[49m\u001b[38;5;241;43m=\u001b[39;49m\u001b[43mcopy\u001b[49m\u001b[43m)\u001b[49m\n\u001b[1;32m    184\u001b[0m \u001b[38;5;66;03m# in pandas we don't store numpy str dtypes, so convert to object\u001b[39;00m\n\u001b[1;32m    185\u001b[0m \u001b[38;5;28;01mif\u001b[39;00m \u001b[38;5;28misinstance\u001b[39m(dtype, np\u001b[38;5;241m.\u001b[39mdtype) \u001b[38;5;129;01mand\u001b[39;00m \u001b[38;5;28missubclass\u001b[39m(values\u001b[38;5;241m.\u001b[39mdtype\u001b[38;5;241m.\u001b[39mtype, \u001b[38;5;28mstr\u001b[39m):\n",
      "File \u001b[0;32m/opt/conda/envs/company_matching/lib/python3.9/site-packages/pandas/core/dtypes/astype.py:133\u001b[0m, in \u001b[0;36m_astype_nansafe\u001b[0;34m(arr, dtype, copy, skipna)\u001b[0m\n\u001b[1;32m    129\u001b[0m     \u001b[38;5;28;01mraise\u001b[39;00m \u001b[38;5;167;01mValueError\u001b[39;00m(msg)\n\u001b[1;32m    131\u001b[0m \u001b[38;5;28;01mif\u001b[39;00m copy \u001b[38;5;129;01mor\u001b[39;00m arr\u001b[38;5;241m.\u001b[39mdtype \u001b[38;5;241m==\u001b[39m \u001b[38;5;28mobject\u001b[39m \u001b[38;5;129;01mor\u001b[39;00m dtype \u001b[38;5;241m==\u001b[39m \u001b[38;5;28mobject\u001b[39m:\n\u001b[1;32m    132\u001b[0m     \u001b[38;5;66;03m# Explicit copy, or required since NumPy can't view from / to object.\u001b[39;00m\n\u001b[0;32m--> 133\u001b[0m     \u001b[38;5;28;01mreturn\u001b[39;00m \u001b[43marr\u001b[49m\u001b[38;5;241;43m.\u001b[39;49m\u001b[43mastype\u001b[49m\u001b[43m(\u001b[49m\u001b[43mdtype\u001b[49m\u001b[43m,\u001b[49m\u001b[43m \u001b[49m\u001b[43mcopy\u001b[49m\u001b[38;5;241;43m=\u001b[39;49m\u001b[38;5;28;43;01mTrue\u001b[39;49;00m\u001b[43m)\u001b[49m\n\u001b[1;32m    135\u001b[0m \u001b[38;5;28;01mreturn\u001b[39;00m arr\u001b[38;5;241m.\u001b[39mastype(dtype, copy\u001b[38;5;241m=\u001b[39mcopy)\n",
      "\u001b[0;31mValueError\u001b[0m: setting an array element with a sequence"
     ]
    }
   ],
   "source": [
    "dh_deduped.dataframe[\"left_id\"].astype(bytes)"
   ]
  },
  {
   "cell_type": "code",
   "execution_count": 12,
   "id": "e713dd80-5f45-4e57-9eaf-de31d13f7d00",
   "metadata": {},
   "outputs": [
    {
     "data": {
      "text/html": [
       "<div>\n",
       "<style scoped>\n",
       "    .dataframe tbody tr th:only-of-type {\n",
       "        vertical-align: middle;\n",
       "    }\n",
       "\n",
       "    .dataframe tbody tr th {\n",
       "        vertical-align: top;\n",
       "    }\n",
       "\n",
       "    .dataframe thead th {\n",
       "        text-align: right;\n",
       "    }\n",
       "</style>\n",
       "<table border=\"1\" class=\"dataframe\">\n",
       "  <thead>\n",
       "    <tr style=\"text-align: right;\">\n",
       "      <th></th>\n",
       "      <th>left_id</th>\n",
       "      <th>right_id</th>\n",
       "    </tr>\n",
       "  </thead>\n",
       "  <tbody>\n",
       "    <tr>\n",
       "      <th>0</th>\n",
       "      <td>b'\\x9fX]r\\xe5\\xe2\\x9fP\\xcc\\xa8\\xaaL~\\xa1\\\\\\xfc...</td>\n",
       "      <td>b'\\x86\\x9b\\x98\\xceQ@\\x87c\\xcc\\xc5\\xcb]\\xfeA\\xf...</td>\n",
       "    </tr>\n",
       "    <tr>\n",
       "      <th>1</th>\n",
       "      <td>b'\\x05\\xce\\xd19\\x9b5\\x04\\xcd\\x93\\x0b\\x89\\xe7^\\...</td>\n",
       "      <td>b'\\tJ\\x13\\x12\"X;k\\x13\\xd2%\\x0cj\\x18\\xe6\\x9e\\x1...</td>\n",
       "    </tr>\n",
       "    <tr>\n",
       "      <th>2</th>\n",
       "      <td>b'U\\x13l\\xe1\\x86\\\\i\\xd9\\xf4V\\x95\\x8d\\x8aB\\x1d\\...</td>\n",
       "      <td>b'\\xe7\\xf8k`\\xb2\\xfd\\xc2+\\xd8\\x08\\xa0\\xb4\\xd2\\...</td>\n",
       "    </tr>\n",
       "    <tr>\n",
       "      <th>3</th>\n",
       "      <td>b'H\\xda0&amp;\\xe9\\x8f\\t\\xe2\\xcc\\x97\\x03C|bv\\x9b\\x0...</td>\n",
       "      <td>b'\\x19X\\xf8\\xcfzU\\x16\\xbb)c(F\\x85\\x0e\\xf0AJ\\xf...</td>\n",
       "    </tr>\n",
       "    <tr>\n",
       "      <th>4</th>\n",
       "      <td>b'_\\x0f\\xe8J{\\xef\\x95\\x14E\\xc9\\xa2\\x1e5;*&gt;\\xd2...</td>\n",
       "      <td>b'\\xec\\x1a\\x04y\\xf7\\xcc;\\xd4\\xa2 \\xdfH\\xa4\\xe3...</td>\n",
       "    </tr>\n",
       "    <tr>\n",
       "      <th>...</th>\n",
       "      <td>...</td>\n",
       "      <td>...</td>\n",
       "    </tr>\n",
       "    <tr>\n",
       "      <th>2161</th>\n",
       "      <td>b'\\xaa\\x0e\\x98*\\xdau\\xe2ew\\xb4\\x85S[\\xdfb\\xb1\\...</td>\n",
       "      <td>b'\\xf1\\x8e@\\x86\\xc1\\xab\\xd1\\xda\\xe6\\x8c\\x80v\\x...</td>\n",
       "    </tr>\n",
       "    <tr>\n",
       "      <th>2162</th>\n",
       "      <td>b'u\\x8e]/fbF\\x18\\x87\\xf2\\r\\x86\\xf8\\x95\\xdd\\xb8...</td>\n",
       "      <td>b'\\x92\\x8c(\\xbd\\xbf\\x06\\xc4\\xcbJCu\\x17\\xe9\\x89...</td>\n",
       "    </tr>\n",
       "    <tr>\n",
       "      <th>2163</th>\n",
       "      <td>b'\\x1ay\\x15\\x8a\\x7f\\xd5\\x8a^\\xe3\\xbf\\x1b\\x1d(\\...</td>\n",
       "      <td>b'\\xb1\\x03\\x01\\x86\\x16\\x85\\x8dT/\\xe7}j\\xc4~q\\x...</td>\n",
       "    </tr>\n",
       "    <tr>\n",
       "      <th>2164</th>\n",
       "      <td>b'eV\\x85\\x91^\\xe1\\xe0V\\xd5+\\xba\\xb0\\xd0L&amp;\\xc4=...</td>\n",
       "      <td>b'\\x0eEp\\x89\\x1d;\\xa2\\x97\\xd3} CRN\\xa6\\xed\\x8f...</td>\n",
       "    </tr>\n",
       "    <tr>\n",
       "      <th>2165</th>\n",
       "      <td>b'\\xdf\\xb2\\x91\\x0b\\xbe\\xeaG(\\x1bP\\xccy\\x14\\xa1...</td>\n",
       "      <td>b\"f\\x01j\\xd4\\xf0\\x83\\x8d\\xe5q'\\xcc\\x137\\xeb\\x1...</td>\n",
       "    </tr>\n",
       "  </tbody>\n",
       "</table>\n",
       "<p>2166 rows × 2 columns</p>\n",
       "</div>"
      ],
      "text/plain": [
       "                                                left_id  \\\n",
       "0     b'\\x9fX]r\\xe5\\xe2\\x9fP\\xcc\\xa8\\xaaL~\\xa1\\\\\\xfc...   \n",
       "1     b'\\x05\\xce\\xd19\\x9b5\\x04\\xcd\\x93\\x0b\\x89\\xe7^\\...   \n",
       "2     b'U\\x13l\\xe1\\x86\\\\i\\xd9\\xf4V\\x95\\x8d\\x8aB\\x1d\\...   \n",
       "3     b'H\\xda0&\\xe9\\x8f\\t\\xe2\\xcc\\x97\\x03C|bv\\x9b\\x0...   \n",
       "4     b'_\\x0f\\xe8J{\\xef\\x95\\x14E\\xc9\\xa2\\x1e5;*>\\xd2...   \n",
       "...                                                 ...   \n",
       "2161  b'\\xaa\\x0e\\x98*\\xdau\\xe2ew\\xb4\\x85S[\\xdfb\\xb1\\...   \n",
       "2162  b'u\\x8e]/fbF\\x18\\x87\\xf2\\r\\x86\\xf8\\x95\\xdd\\xb8...   \n",
       "2163  b'\\x1ay\\x15\\x8a\\x7f\\xd5\\x8a^\\xe3\\xbf\\x1b\\x1d(\\...   \n",
       "2164  b'eV\\x85\\x91^\\xe1\\xe0V\\xd5+\\xba\\xb0\\xd0L&\\xc4=...   \n",
       "2165  b'\\xdf\\xb2\\x91\\x0b\\xbe\\xeaG(\\x1bP\\xccy\\x14\\xa1...   \n",
       "\n",
       "                                               right_id  \n",
       "0     b'\\x86\\x9b\\x98\\xceQ@\\x87c\\xcc\\xc5\\xcb]\\xfeA\\xf...  \n",
       "1     b'\\tJ\\x13\\x12\"X;k\\x13\\xd2%\\x0cj\\x18\\xe6\\x9e\\x1...  \n",
       "2     b'\\xe7\\xf8k`\\xb2\\xfd\\xc2+\\xd8\\x08\\xa0\\xb4\\xd2\\...  \n",
       "3     b'\\x19X\\xf8\\xcfzU\\x16\\xbb)c(F\\x85\\x0e\\xf0AJ\\xf...  \n",
       "4     b'\\xec\\x1a\\x04y\\xf7\\xcc;\\xd4\\xa2 \\xdfH\\xa4\\xe3...  \n",
       "...                                                 ...  \n",
       "2161  b'\\xf1\\x8e@\\x86\\xc1\\xab\\xd1\\xda\\xe6\\x8c\\x80v\\x...  \n",
       "2162  b'\\x92\\x8c(\\xbd\\xbf\\x06\\xc4\\xcbJCu\\x17\\xe9\\x89...  \n",
       "2163  b'\\xb1\\x03\\x01\\x86\\x16\\x85\\x8dT/\\xe7}j\\xc4~q\\x...  \n",
       "2164  b'\\x0eEp\\x89\\x1d;\\xa2\\x97\\xd3} CRN\\xa6\\xed\\x8f...  \n",
       "2165  b\"f\\x01j\\xd4\\xf0\\x83\\x8d\\xe5q'\\xcc\\x137\\xeb\\x1...  \n",
       "\n",
       "[2166 rows x 2 columns]"
      ]
     },
     "execution_count": 12,
     "metadata": {},
     "output_type": "execute_result"
    }
   ],
   "source": [
    "dh_deduped.dataframe.filter([\"left_id\", \"right_id\"]).map(bytes)"
   ]
  },
  {
   "cell_type": "code",
   "execution_count": 42,
   "id": "c0c06b3c-f673-4bf8-a979-0264471ed9e3",
   "metadata": {},
   "outputs": [],
   "source": [
    "# Dedupe\n",
    "dh_naive_deduper2 = make_deduper(\n",
    "    dedupe_run_name=\"basic_dh\",\n",
    "    description=\"\"\"\n",
    "        Clean company name, company number\n",
    "    \"\"\",\n",
    "    deduper=Naive,\n",
    "    deduper_settings={\n",
    "        \"id\": \"data_sha1\",\n",
    "        \"unique_fields\": [f\"{col_prefix}name\", f\"{col_prefix}company_number\"],\n",
    "    },\n",
    "    data_source=\"dit.data_hub__companies\",\n",
    "    data=dh_cleaned,\n",
    ")\n",
    "\n",
    "dh_deduped2 = dh_naive_deduper2()\n",
    "\n",
    "dh_deduped_df2 = dh_deduped2.to_df()"
   ]
  },
  {
   "cell_type": "code",
   "execution_count": 66,
   "id": "18284c26-7d8f-40f8-a7eb-efb038f1f2f8",
   "metadata": {},
   "outputs": [],
   "source": [
    "from sqlalchemy.orm import Session\n",
    "\n",
    "from cmf.data import ENGINE, SourceData\n",
    "\n",
    "with Session(ENGINE) as session:\n",
    "    data_inner_join = session.query(SourceData).limit(10).all()"
   ]
  },
  {
   "cell_type": "code",
   "execution_count": 67,
   "id": "3150b437-e674-41d8-b057-56af3f04f987",
   "metadata": {},
   "outputs": [
    {
     "data": {
      "text/plain": [
       "[<cmf.data.data.SourceData at 0x7f8acbd4af40>,\n",
       " <cmf.data.data.SourceData at 0x7f8acbd4afa0>,\n",
       " <cmf.data.data.SourceData at 0x7f8acbd4a130>,\n",
       " <cmf.data.data.SourceData at 0x7f8acbd54070>,\n",
       " <cmf.data.data.SourceData at 0x7f8acbd540d0>,\n",
       " <cmf.data.data.SourceData at 0x7f8acbd54130>,\n",
       " <cmf.data.data.SourceData at 0x7f8acbd54190>,\n",
       " <cmf.data.data.SourceData at 0x7f8acbd541f0>,\n",
       " <cmf.data.data.SourceData at 0x7f8acbd54250>,\n",
       " <cmf.data.data.SourceData at 0x7f8acbd542b0>]"
      ]
     },
     "execution_count": 67,
     "metadata": {},
     "output_type": "execute_result"
    }
   ],
   "source": [
    "data_inner_join"
   ]
  },
  {
   "cell_type": "code",
   "execution_count": 48,
   "id": "90cfc337-388a-4bec-b50e-05d97406ca79",
   "metadata": {},
   "outputs": [
    {
     "data": {
      "text/plain": [
       "bytearray(b\"bytearray(b\\'\\\\x0c\\\\xa6*\\\\x8e\\\\x00:\\\\xd7\\\\xd9^\\\\x0fF\\\\x82\\\\xa7\\\\x89}\\\\xe6Fb\\\\x93\\\\x87\\')\")"
      ]
     },
     "execution_count": 48,
     "metadata": {},
     "output_type": "execute_result"
    },
    {
     "data": {
      "text/plain": [
       "\"bytearray(b'\\\\x0c\\\\xa6*\\\\x8e\\\\x00:\\\\xd7\\\\xd9^\\\\x0fF\\\\x82\\\\xa7\\\\x89}\\\\xe6Fb\\\\x93\\\\x87')\""
      ]
     },
     "execution_count": 48,
     "metadata": {},
     "output_type": "execute_result"
    },
    {
     "name": "stdout",
     "output_type": "stream",
     "text": [
      "<class 'pandas.core.frame.DataFrame'>\n",
      "RangeIndex: 2166 entries, 0 to 2165\n",
      "Data columns (total 3 columns):\n",
      " #   Column       Non-Null Count  Dtype \n",
      "---  ------       --------------  ----- \n",
      " 0   left_id      2166 non-null   object\n",
      " 1   right_id     2166 non-null   object\n",
      " 2   probability  2166 non-null   int32 \n",
      "dtypes: int32(1), object(2)\n",
      "memory usage: 42.4+ KB\n"
     ]
    }
   ],
   "source": [
    "bytearray(dh_deduped2.dataframe[\"left_id\"][0].encode())\n",
    "dh_deduped2.dataframe[\"left_id\"][0]\n",
    "dh_deduped2.dataframe.info()"
   ]
  },
  {
   "cell_type": "code",
   "execution_count": 40,
   "id": "0d980667-5f9e-442b-ba69-4c68e713bebf",
   "metadata": {},
   "outputs": [
    {
     "data": {
      "text/plain": [
       "0       <class 'str'>\n",
       "1       <class 'str'>\n",
       "2       <class 'str'>\n",
       "3       <class 'str'>\n",
       "4       <class 'str'>\n",
       "            ...      \n",
       "2161    <class 'str'>\n",
       "2162    <class 'str'>\n",
       "2163    <class 'str'>\n",
       "2164    <class 'str'>\n",
       "2165    <class 'str'>\n",
       "Name: left_id, Length: 2166, dtype: object"
      ]
     },
     "execution_count": 40,
     "metadata": {},
     "output_type": "execute_result"
    }
   ],
   "source": [
    "dh_deduped2.dataframe[\"left_id\"].apply(type)"
   ]
  },
  {
   "cell_type": "code",
   "execution_count": 12,
   "id": "a8c6881e-5620-4d92-9502-5953efe72d6a",
   "metadata": {
    "scrolled": true
   },
   "outputs": [
    {
     "name": "stdout",
     "output_type": "stream",
     "text": [
      "<class 'pandas.core.frame.DataFrame'>\n",
      "RangeIndex: 2166 entries, 0 to 2165\n",
      "Data columns (total 6 columns):\n",
      " #   Column       Non-Null Count  Dtype \n",
      "---  ------       --------------  ----- \n",
      " 0   model        2166 non-null   object\n",
      " 1   left         2166 non-null   object\n",
      " 2   left_id      2166 non-null   object\n",
      " 3   right        2166 non-null   object\n",
      " 4   right_id     2166 non-null   object\n",
      " 5   probability  2166 non-null   int32 \n",
      "dtypes: int32(1), object(5)\n",
      "memory usage: 93.2+ KB\n"
     ]
    }
   ],
   "source": [
    "dh_deduped_df.info()"
   ]
  },
  {
   "cell_type": "code",
   "execution_count": 16,
   "id": "eb76f86d-2799-4d50-8a05-46bad0ab57d4",
   "metadata": {},
   "outputs": [
    {
     "name": "stderr",
     "output_type": "stream",
     "text": [
      "/home/jovyan/company-matching/cmf/data/results.py:158: UserWarning: DataFrame columns are not unique, some columns will be omitted.\n",
      "  df.assign(\n"
     ]
    },
    {
     "data": {
      "text/plain": [
       "[{'model': 'basic_dh',\n",
       "  'left': UUID('34f3e1b5-f612-e611-9bdc-e4115bead28a'),\n",
       "  'right': UUID('6bd85b41-ebd2-43ad-99b9-399fca511176'),\n",
       "  'probability': 1,\n",
       "  'sha1': b']\\xff\\x1c``\\xad\\t:[\\x80\\x83\\xa6\\xc43x\\x0f!\\n\\xc7\\x8d'},\n",
       " {'model': 'basic_dh',\n",
       "  'left': UUID('34779711-2a85-4fea-b4e1-07226cc10425'),\n",
       "  'right': UUID('6f3201cf-d483-4ce2-8c2c-c20e74a11f97'),\n",
       "  'probability': 1,\n",
       "  'sha1': b'5\\x1c*m&\\x96Y\\xda\\x0c\\xfd5\\xde\\xf9\\xf4\\x83\\t2N@)'},\n",
       " {'model': 'basic_dh',\n",
       "  'left': UUID('35519dfa-3c1a-4389-a452-141e7e84a289'),\n",
       "  'right': UUID('0a83eefa-68b2-4852-b0fa-edf08828debf'),\n",
       "  'probability': 1,\n",
       "  'sha1': b'\\xc0\\xaf\\xe1\\x03\\xec\\xc9\\x1a\\x98\\x1d\\xba\\xaaV\\x88JIw\\xfbo\\x03\\xde'},\n",
       " {'model': 'basic_dh',\n",
       "  'left': UUID('35cb9542-1a51-4f32-b614-c5f77878a3f2'),\n",
       "  'right': UUID('c3247c4f-4ee1-4500-a43c-61843964bc9e'),\n",
       "  'probability': 1,\n",
       "  'sha1': b'\\x05\\xf8\\xba\\xad\\xd7,\\xcaT\\xbdVY\\x04C\\x88a\\x9a\\xd83x\\x93'},\n",
       " {'model': 'basic_dh',\n",
       "  'left': UUID('3606e768-538b-e611-be23-e4115bead28a'),\n",
       "  'right': UUID('7cf553b5-a098-e211-a939-e4115bead28a'),\n",
       "  'probability': 1,\n",
       "  'sha1': b'\\xfc\\xb4\\x9e\\x10\\xa1J5x\\xae\\xd6\\x98\\xac\\xce\\xac\\xbb\\xe8D\\xee\\x01\\x9c'}]"
      ]
     },
     "execution_count": 16,
     "metadata": {},
     "output_type": "execute_result"
    }
   ],
   "source": [
    "dh_deduped._prep_to_cmf(dh_deduped_df)[:5]"
   ]
  }
 ],
 "metadata": {
  "kernelspec": {
   "display_name": "company_matching",
   "language": "python",
   "name": "company_matching"
  },
  "language_info": {
   "codemirror_mode": {
    "name": "ipython",
    "version": 3
   },
   "file_extension": ".py",
   "mimetype": "text/x-python",
   "name": "python",
   "nbconvert_exporter": "python",
   "pygments_lexer": "ipython3",
   "version": "3.9.16"
  }
 },
 "nbformat": 4,
 "nbformat_minor": 5
}
