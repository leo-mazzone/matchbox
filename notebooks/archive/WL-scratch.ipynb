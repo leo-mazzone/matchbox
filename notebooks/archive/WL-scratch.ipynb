{
 "cells": [
  {
   "cell_type": "code",
   "execution_count": 4,
   "metadata": {},
   "outputs": [],
   "source": [
    "%load_ext autoreload\n",
    "%autoreload 2\n",
    "from IPython.core.interactiveshell import InteractiveShell\n",
    "InteractiveShell.ast_node_interactivity = \"all\""
   ]
  },
  {
   "cell_type": "code",
   "execution_count": 2,
   "metadata": {},
   "outputs": [],
   "source": [
    "from cmf.locations import DATA_SUBDIR\n",
    "from cmf.models import utils as mu\n",
    "from cmf.data import utils as du\n",
    "import cmf\n",
    "\n",
    "import glob\n",
    "from os import path\n",
    "\n",
    "import mlflow\n",
    "import cloudpickle\n",
    "import duckdb"
   ]
  },
  {
   "cell_type": "code",
   "execution_count": 23,
   "metadata": {},
   "outputs": [],
   "source": [
    "import duckdb\n",
    "\n",
    "from cmf.data import utils as du\n",
    "from cmf.config import tables, stopwords\n",
    "from cmf.features.clean_complex import clean_comp_names"
   ]
  },
  {
   "cell_type": "code",
   "execution_count": 24,
   "metadata": {},
   "outputs": [],
   "source": [
    "companieshouse_raw = du.query(f\"\"\"\n",
    "        select\n",
    "            id::text as unique_id,\n",
    "            company_name,\n",
    "            postcode\n",
    "        from\n",
    "            {tables['\"companieshouse\".\"companies\"'][\"dim\"]};\n",
    "    \"\"\")"
   ]
  },
  {
   "cell_type": "code",
   "execution_count": 25,
   "metadata": {},
   "outputs": [],
   "source": [
    "companieshouse_clean = clean_comp_names(\n",
    "    companieshouse_raw,\n",
    "    primary_col = 'company_name',\n",
    "    secondary_col = None,\n",
    "    stopwords = stopwords\n",
    ")"
   ]
  },
  {
   "cell_type": "code",
   "execution_count": 26,
   "metadata": {},
   "outputs": [
    {
     "output_type": "execute_result",
     "data": {
      "text/plain": "                      company_name_arr unique_id               company_name  \\\n0              [a, r, motors, limited]  12586403         A&R MOTORS LIMITED   \n1            [a, r, munteanu, limited]  14119280           A&R MUNTEANU LTD   \n2             [a, r, nielsen, limited]  10238259        A&R NIELSEN LIMITED   \n3   [a, r, online, education, limited]  12722020   A&R ONLINE EDUCATION LTD   \n4  [a, r, painting, services, limited]  08441975  A&R PAINTING SERVICES LTD   \n\n   postcode                                          stopwords  \\\n0  NW10 2QU  [limited, uk, company, international, group, o...   \n1    E6 3LA  [limited, uk, company, international, group, o...   \n2   EN5 5LG  [limited, uk, company, international, group, o...   \n3   IG1 3FA  [limited, uk, company, international, group, o...   \n4  CH64 5SJ  [limited, uk, company, international, group, o...   \n\n     name_unusual_tokens names_tokens_stopwords name_unusual_tokens_first5  \\\n0             a motors r                limited                      a mot   \n1           a munteanu r                limited                      a mun   \n2            a nielsen r                limited                      a nie   \n3   a education online r                limited                      a edu   \n4  a painting r services                limited                      a pai   \n\n  name_unusual_tokens_last5  \n0                     ors r  \n1                     anu r  \n2                     sen r  \n3                     ine r  \n4                     vices  ",
      "text/html": "<div>\n<style scoped>\n    .dataframe tbody tr th:only-of-type {\n        vertical-align: middle;\n    }\n\n    .dataframe tbody tr th {\n        vertical-align: top;\n    }\n\n    .dataframe thead th {\n        text-align: right;\n    }\n</style>\n<table border=\"1\" class=\"dataframe\">\n  <thead>\n    <tr style=\"text-align: right;\">\n      <th></th>\n      <th>company_name_arr</th>\n      <th>unique_id</th>\n      <th>company_name</th>\n      <th>postcode</th>\n      <th>stopwords</th>\n      <th>name_unusual_tokens</th>\n      <th>names_tokens_stopwords</th>\n      <th>name_unusual_tokens_first5</th>\n      <th>name_unusual_tokens_last5</th>\n    </tr>\n  </thead>\n  <tbody>\n    <tr>\n      <th>0</th>\n      <td>[a, r, motors, limited]</td>\n      <td>12586403</td>\n      <td>A&amp;R MOTORS LIMITED</td>\n      <td>NW10 2QU</td>\n      <td>[limited, uk, company, international, group, o...</td>\n      <td>a motors r</td>\n      <td>limited</td>\n      <td>a mot</td>\n      <td>ors r</td>\n    </tr>\n    <tr>\n      <th>1</th>\n      <td>[a, r, munteanu, limited]</td>\n      <td>14119280</td>\n      <td>A&amp;R MUNTEANU LTD</td>\n      <td>E6 3LA</td>\n      <td>[limited, uk, company, international, group, o...</td>\n      <td>a munteanu r</td>\n      <td>limited</td>\n      <td>a mun</td>\n      <td>anu r</td>\n    </tr>\n    <tr>\n      <th>2</th>\n      <td>[a, r, nielsen, limited]</td>\n      <td>10238259</td>\n      <td>A&amp;R NIELSEN LIMITED</td>\n      <td>EN5 5LG</td>\n      <td>[limited, uk, company, international, group, o...</td>\n      <td>a nielsen r</td>\n      <td>limited</td>\n      <td>a nie</td>\n      <td>sen r</td>\n    </tr>\n    <tr>\n      <th>3</th>\n      <td>[a, r, online, education, limited]</td>\n      <td>12722020</td>\n      <td>A&amp;R ONLINE EDUCATION LTD</td>\n      <td>IG1 3FA</td>\n      <td>[limited, uk, company, international, group, o...</td>\n      <td>a education online r</td>\n      <td>limited</td>\n      <td>a edu</td>\n      <td>ine r</td>\n    </tr>\n    <tr>\n      <th>4</th>\n      <td>[a, r, painting, services, limited]</td>\n      <td>08441975</td>\n      <td>A&amp;R PAINTING SERVICES LTD</td>\n      <td>CH64 5SJ</td>\n      <td>[limited, uk, company, international, group, o...</td>\n      <td>a painting r services</td>\n      <td>limited</td>\n      <td>a pai</td>\n      <td>vices</td>\n    </tr>\n  </tbody>\n</table>\n</div>"
     },
     "metadata": {},
     "execution_count": 26
    }
   ],
   "source": [
    "companieshouse_clean.head(5)"
   ]
  },
  {
   "cell_type": "code",
   "execution_count": 4,
   "metadata": {},
   "outputs": [],
   "source": [
    "cloudpickle.register_pickle_by_value(src)\n"
   ]
  },
  {
   "cell_type": "code",
   "execution_count": null,
   "metadata": {},
   "outputs": [],
   "source": [
    "xcloudpickle.dumps(src.)"
   ]
  },
  {
   "cell_type": "code",
   "execution_count": 8,
   "metadata": {},
   "outputs": [],
   "source": [
    "con = du.get_duckdb_connection()"
   ]
  },
  {
   "cell_type": "code",
   "execution_count": null,
   "metadata": {},
   "outputs": [],
   "source": []
  },
  {
   "cell_type": "code",
   "execution_count": 28,
   "metadata": {},
   "outputs": [],
   "source": [
    "con.query(\"create table x(i integer);\")"
   ]
  },
  {
   "cell_type": "code",
   "execution_count": 16,
   "metadata": {},
   "outputs": [],
   "source": [
    "del con"
   ]
  },
  {
   "cell_type": "code",
   "execution_count": 30,
   "metadata": {},
   "outputs": [],
   "source": [
    "du.DEFAULT_DUCKDB_PATH.unlink()\n",
    "# con = du.get_duckdb_connection(path = duckdb_dir.as_posix())"
   ]
  },
  {
   "cell_type": "code",
   "execution_count": 9,
   "metadata": {},
   "outputs": [
    {
     "data": {
      "text/plain": [
       "┌───────────────────────────────┐\n",
       "│             name              │\n",
       "│            varchar            │\n",
       "├───────────────────────────────┤\n",
       "│ companieshouse_companies      │\n",
       "│ dit_data_hub__companies       │\n",
       "│ dit_export_wins__wins_dataset │\n",
       "│ hmrc_trade__exporters         │\n",
       "│ table_alias_lookup            │\n",
       "│ unique_id_lookup              │\n",
       "└───────────────────────────────┘"
      ]
     },
     "execution_count": 9,
     "metadata": {},
     "output_type": "execute_result"
    }
   ],
   "source": [
    "con.query(\"show tables;\")"
   ]
  },
  {
   "cell_type": "code",
   "execution_count": 10,
   "metadata": {},
   "outputs": [
    {
     "data": {
      "text/plain": [
       "┌───────┬───────────────────────────────┐\n",
       "│  id   │          table_name           │\n",
       "│ int32 │            varchar            │\n",
       "├───────┼───────────────────────────────┤\n",
       "│     1 │ hmrc_trade__exporters         │\n",
       "│     2 │ companieshouse_companies      │\n",
       "│     3 │ dit_data_hub__companies       │\n",
       "│     4 │ dit_export_wins__wins_dataset │\n",
       "└───────┴───────────────────────────────┘"
      ]
     },
     "execution_count": 10,
     "metadata": {},
     "output_type": "execute_result"
    }
   ],
   "source": [
    "con.query(\"select * from table_alias_lookup limit 5;\")"
   ]
  },
  {
   "cell_type": "code",
   "execution_count": 11,
   "metadata": {},
   "outputs": [
    {
     "data": {
      "text/plain": [
       "┌───────┬──────────────────────────────────────┐\n",
       "│  id   │              unique_id               │\n",
       "│ int32 │               varchar                │\n",
       "├───────┼──────────────────────────────────────┤\n",
       "│   568 │ 8eeb4338-8301-40c4-a69e-d1e19bf781d8 │\n",
       "│   569 │ 3a5317b3-7fb0-4982-8252-f0f784b2c5d6 │\n",
       "│   570 │ 80e9df92-e094-4822-90db-1b906338442f │\n",
       "│   571 │ 8100372b-d67f-4b3d-8aa7-1cabaf4cc0e8 │\n",
       "│   572 │ 068cb050-92d0-4764-896b-b8b4ab65d692 │\n",
       "└───────┴──────────────────────────────────────┘"
      ]
     },
     "execution_count": 11,
     "metadata": {},
     "output_type": "execute_result"
    }
   ],
   "source": [
    "con.query(\"select * from unique_id_lookup limit 5;\")"
   ]
  },
  {
   "cell_type": "code",
   "execution_count": 14,
   "metadata": {},
   "outputs": [
    {
     "data": {
      "text/plain": [
       "┌───────────┬────────────────┐\n",
       "│ unique_id │ comp_num_clean │\n",
       "│   int32   │    varchar     │\n",
       "├───────────┼────────────────┤\n",
       "│    333645 │ 9429966        │\n",
       "│    333647 │ 10247816       │\n",
       "│    333649 │ 12976187       │\n",
       "│    333651 │ 8236358        │\n",
       "│    333653 │ 6467209        │\n",
       "└───────────┴────────────────┘"
      ]
     },
     "execution_count": 14,
     "metadata": {},
     "output_type": "execute_result"
    }
   ],
   "source": [
    "con.query(\"select unique_id, comp_num_clean from companieshouse_companies limit 5;\")"
   ]
  },
  {
   "cell_type": "code",
   "execution_count": 15,
   "metadata": {},
   "outputs": [
    {
     "data": {
      "text/plain": [
       "┌──────────────┐\n",
       "│ count_star() │\n",
       "│    int64     │\n",
       "├──────────────┤\n",
       "│       100000 │\n",
       "└──────────────┘"
      ]
     },
     "execution_count": 15,
     "metadata": {},
     "output_type": "execute_result"
    }
   ],
   "source": [
    "con.query(\"select count(*) from companieshouse_companies;\")"
   ]
  },
  {
   "cell_type": "code",
   "execution_count": null,
   "metadata": {},
   "outputs": [],
   "source": [
    "con = du.get_duckdb_connection(path = duckdb_dir.as_posix())\n",
    "\n",
    "if overwrite:\n",
    "    Path(duckdb_dir).unlink()\n",
    "    con = du.get_duckdb_connection(path = duckdb_dir.as_posix())"
   ]
  },
  {
   "cell_type": "code",
   "execution_count": 32,
   "metadata": {},
   "outputs": [],
   "source": [
    "x = du.build_alias_path_dict('company-matching__06-26-23_11-40-51')"
   ]
  },
  {
   "cell_type": "code",
   "execution_count": null,
   "metadata": {},
   "outputs": [],
   "source": [
    "for df in x.keys()\n",
    "    df"
   ]
  },
  {
   "cell_type": "code",
   "execution_count": 34,
   "metadata": {},
   "outputs": [
    {
     "ename": "CatalogException",
     "evalue": "Catalog Error: Table Function with name dict_keys does not exist!\nDid you mean \"duckdb_keywords\"?",
     "output_type": "error",
     "traceback": [
      "\u001b[0;31m---------------------------------------------------------------------------\u001b[0m",
      "\u001b[0;31mCatalogException\u001b[0m                          Traceback (most recent call last)",
      "Cell \u001b[0;32mIn[34], line 1\u001b[0m\n\u001b[0;32m----> 1\u001b[0m \u001b[43mduckdb\u001b[49m\u001b[38;5;241;43m.\u001b[39;49m\u001b[43msql\u001b[49m\u001b[43m(\u001b[49m\u001b[38;5;124;43mf\u001b[39;49m\u001b[38;5;124;43m\"\u001b[39;49m\u001b[38;5;124;43mselect * from \u001b[39;49m\u001b[38;5;132;43;01m{\u001b[39;49;00m\u001b[43mx\u001b[49m\u001b[38;5;241;43m.\u001b[39;49m\u001b[43mkeys\u001b[49m\u001b[43m(\u001b[49m\u001b[43m)\u001b[49m\u001b[38;5;132;43;01m}\u001b[39;49;00m\u001b[38;5;124;43m as list\u001b[39;49m\u001b[38;5;124;43m\"\u001b[39;49m\u001b[43m)\u001b[49m\n",
      "\u001b[0;31mCatalogException\u001b[0m: Catalog Error: Table Function with name dict_keys does not exist!\nDid you mean \"duckdb_keywords\"?"
     ]
    }
   ],
   "source": [
    "duckdb.sql(f\"select * from {x.keys()} as list\")"
   ]
  }
 ],
 "metadata": {
  "kernelspec": {
   "display_name": "Python 3.9.16 64-bit ('company_matching': conda)",
   "language": "python",
   "name": "python_defaultSpec_1691046157545"
  },
  "language_info": {
   "codemirror_mode": {
    "name": "ipython",
    "version": 3
   },
   "file_extension": ".py",
   "mimetype": "text/x-python",
   "name": "python",
   "nbconvert_exporter": "python",
   "pygments_lexer": "ipython3",
   "version": "3.9.16-final"
  }
 },
 "nbformat": 4,
 "nbformat_minor": 4
}