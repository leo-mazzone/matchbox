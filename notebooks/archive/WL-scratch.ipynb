{
 "cells": [
  {
   "cell_type": "code",
   "execution_count": 7,
   "metadata": {},
   "outputs": [],
   "source": [
    "%load_ext autoreload\n",
    "%autoreload 2\n",
    "from IPython.core.interactiveshell import InteractiveShell\n",
    "InteractiveShell.ast_node_interactivity = \"all\""
   ]
  },
  {
   "cell_type": "code",
   "execution_count": 20,
   "metadata": {
    "scrolled": true
   },
   "outputs": [],
   "source": [
    "import duckdb\n",
    "import pandas as pd\n",
    "\n",
    "import cmf\n",
    "from cmf.helpers import selector"
   ]
  },
  {
   "cell_type": "code",
   "execution_count": 14,
   "metadata": {},
   "outputs": [],
   "source": [
    "ch_selector = selector(\n",
    "    table=\"companieshouse.companies\",\n",
    "    fields=[\"company_name\", \"company_number\", \"postcode\"],\n",
    ")\n",
    "\n",
    "ch_raw = cmf.query(selector=ch_selector, return_type=\"pandas\")"
   ]
  },
  {
   "cell_type": "code",
   "execution_count": 16,
   "metadata": {},
   "outputs": [
    {
     "data": {
      "text/html": [
       "<div>\n",
       "<style scoped>\n",
       "    .dataframe tbody tr th:only-of-type {\n",
       "        vertical-align: middle;\n",
       "    }\n",
       "\n",
       "    .dataframe tbody tr th {\n",
       "        vertical-align: top;\n",
       "    }\n",
       "\n",
       "    .dataframe thead th {\n",
       "        text-align: right;\n",
       "    }\n",
       "</style>\n",
       "<table border=\"1\" class=\"dataframe\">\n",
       "  <thead>\n",
       "    <tr style=\"text-align: right;\">\n",
       "      <th></th>\n",
       "      <th>data_sha1</th>\n",
       "      <th>companieshouse_companies_company_name</th>\n",
       "      <th>companieshouse_companies_company_number</th>\n",
       "      <th>companieshouse_companies_postcode</th>\n",
       "    </tr>\n",
       "  </thead>\n",
       "  <tbody>\n",
       "    <tr>\n",
       "      <th>0</th>\n",
       "      <td>b'&lt;\\xee\\x08\\x93\\x07\\x10M\\xdd\\x1a\\xbc\\xc3*T\\xa9...</td>\n",
       "      <td>00498943 LIMITED</td>\n",
       "      <td>00498943</td>\n",
       "      <td>WA14 5ER</td>\n",
       "    </tr>\n",
       "    <tr>\n",
       "      <th>1</th>\n",
       "      <td>b\"\\xdb\\xe0\\x9b\\xbe\\x06V\\x8c\\r'\\x17;E\\x0e\\xe3\\x...</td>\n",
       "      <td>029-001 LTD</td>\n",
       "      <td>14045431</td>\n",
       "      <td>EC2M 2RH</td>\n",
       "    </tr>\n",
       "    <tr>\n",
       "      <th>2</th>\n",
       "      <td>b'\\xb2\\xde\\xed\\x87*\\xa2\\xbbo\\xe1)\\x05jZ\\xc0J\\x...</td>\n",
       "      <td>0800GASMAN LIMITED</td>\n",
       "      <td>11332800</td>\n",
       "      <td>IP14 1NW</td>\n",
       "    </tr>\n",
       "  </tbody>\n",
       "</table>\n",
       "</div>"
      ],
      "text/plain": [
       "                                           data_sha1  \\\n",
       "0  b'<\\xee\\x08\\x93\\x07\\x10M\\xdd\\x1a\\xbc\\xc3*T\\xa9...   \n",
       "1  b\"\\xdb\\xe0\\x9b\\xbe\\x06V\\x8c\\r'\\x17;E\\x0e\\xe3\\x...   \n",
       "2  b'\\xb2\\xde\\xed\\x87*\\xa2\\xbbo\\xe1)\\x05jZ\\xc0J\\x...   \n",
       "\n",
       "  companieshouse_companies_company_name  \\\n",
       "0                      00498943 LIMITED   \n",
       "1                           029-001 LTD   \n",
       "2                    0800GASMAN LIMITED   \n",
       "\n",
       "  companieshouse_companies_company_number companieshouse_companies_postcode  \n",
       "0                                00498943                          WA14 5ER  \n",
       "1                                14045431                          EC2M 2RH  \n",
       "2                                11332800                          IP14 1NW  "
      ]
     },
     "execution_count": 16,
     "metadata": {},
     "output_type": "execute_result"
    },
    {
     "data": {
      "text/plain": [
       "bytes"
      ]
     },
     "execution_count": 16,
     "metadata": {},
     "output_type": "execute_result"
    },
    {
     "name": "stdout",
     "output_type": "stream",
     "text": [
      "<class 'pandas.core.frame.DataFrame'>\n",
      "RangeIndex: 5499110 entries, 0 to 5499109\n",
      "Data columns (total 4 columns):\n",
      " #   Column                                   Dtype \n",
      "---  ------                                   ----- \n",
      " 0   data_sha1                                object\n",
      " 1   companieshouse_companies_company_name    object\n",
      " 2   companieshouse_companies_company_number  object\n",
      " 3   companieshouse_companies_postcode        object\n",
      "dtypes: object(4)\n",
      "memory usage: 1.4 GB\n"
     ]
    }
   ],
   "source": [
    "ch_raw.head(3)\n",
    "type(ch_raw.data_sha1[0])\n",
    "ch_raw.info(memory_usage='deep')"
   ]
  },
  {
   "cell_type": "code",
   "execution_count": 17,
   "metadata": {},
   "outputs": [
    {
     "data": {
      "text/html": [
       "<div>\n",
       "<style scoped>\n",
       "    .dataframe tbody tr th:only-of-type {\n",
       "        vertical-align: middle;\n",
       "    }\n",
       "\n",
       "    .dataframe tbody tr th {\n",
       "        vertical-align: top;\n",
       "    }\n",
       "\n",
       "    .dataframe thead th {\n",
       "        text-align: right;\n",
       "    }\n",
       "</style>\n",
       "<table border=\"1\" class=\"dataframe\">\n",
       "  <thead>\n",
       "    <tr style=\"text-align: right;\">\n",
       "      <th></th>\n",
       "      <th>data_sha1</th>\n",
       "      <th>companieshouse_companies_company_name</th>\n",
       "      <th>companieshouse_companies_company_number</th>\n",
       "      <th>companieshouse_companies_postcode</th>\n",
       "    </tr>\n",
       "  </thead>\n",
       "  <tbody>\n",
       "    <tr>\n",
       "      <th>0</th>\n",
       "      <td>b'&lt;\\xee\\x08\\x93\\x07\\x10M\\xdd\\x1a\\xbc\\xc3*T\\xa9...</td>\n",
       "      <td>00498943 LIMITED</td>\n",
       "      <td>00498943</td>\n",
       "      <td>WA14 5ER</td>\n",
       "    </tr>\n",
       "    <tr>\n",
       "      <th>1</th>\n",
       "      <td>b\"\\xdb\\xe0\\x9b\\xbe\\x06V\\x8c\\r'\\x17;E\\x0e\\xe3\\x...</td>\n",
       "      <td>029-001 LTD</td>\n",
       "      <td>14045431</td>\n",
       "      <td>EC2M 2RH</td>\n",
       "    </tr>\n",
       "    <tr>\n",
       "      <th>2</th>\n",
       "      <td>b'\\xb2\\xde\\xed\\x87*\\xa2\\xbbo\\xe1)\\x05jZ\\xc0J\\x...</td>\n",
       "      <td>0800GASMAN LIMITED</td>\n",
       "      <td>11332800</td>\n",
       "      <td>IP14 1NW</td>\n",
       "    </tr>\n",
       "  </tbody>\n",
       "</table>\n",
       "</div>"
      ],
      "text/plain": [
       "                                           data_sha1  \\\n",
       "0  b'<\\xee\\x08\\x93\\x07\\x10M\\xdd\\x1a\\xbc\\xc3*T\\xa9...   \n",
       "1  b\"\\xdb\\xe0\\x9b\\xbe\\x06V\\x8c\\r'\\x17;E\\x0e\\xe3\\x...   \n",
       "2  b'\\xb2\\xde\\xed\\x87*\\xa2\\xbbo\\xe1)\\x05jZ\\xc0J\\x...   \n",
       "\n",
       "  companieshouse_companies_company_name  \\\n",
       "0                      00498943 LIMITED   \n",
       "1                           029-001 LTD   \n",
       "2                    0800GASMAN LIMITED   \n",
       "\n",
       "  companieshouse_companies_company_number companieshouse_companies_postcode  \n",
       "0                                00498943                          WA14 5ER  \n",
       "1                                14045431                          EC2M 2RH  \n",
       "2                                11332800                          IP14 1NW  "
      ]
     },
     "execution_count": 17,
     "metadata": {},
     "output_type": "execute_result"
    },
    {
     "data": {
      "text/plain": [
       "bytes"
      ]
     },
     "execution_count": 17,
     "metadata": {},
     "output_type": "execute_result"
    },
    {
     "name": "stdout",
     "output_type": "stream",
     "text": [
      "<class 'pandas.core.frame.DataFrame'>\n",
      "RangeIndex: 5499110 entries, 0 to 5499109\n",
      "Data columns (total 4 columns):\n",
      " #   Column                                   Dtype          \n",
      "---  ------                                   -----          \n",
      " 0   data_sha1                                object         \n",
      " 1   companieshouse_companies_company_name    string[pyarrow]\n",
      " 2   companieshouse_companies_company_number  string[pyarrow]\n",
      " 3   companieshouse_companies_postcode        string[pyarrow]\n",
      "dtypes: object(1), string[pyarrow](3)\n",
      "memory usage: 585.6 MB\n"
     ]
    }
   ],
   "source": [
    "ch_pyarrow = ch_raw.convert_dtypes(dtype_backend=\"pyarrow\")\n",
    "ch_pyarrow.head(3)\n",
    "type(ch_pyarrow.data_sha1[0])\n",
    "ch_pyarrow.info(memory_usage='deep')"
   ]
  },
  {
   "cell_type": "code",
   "execution_count": 18,
   "metadata": {},
   "outputs": [
    {
     "data": {
      "text/html": [
       "<div>\n",
       "<style scoped>\n",
       "    .dataframe tbody tr th:only-of-type {\n",
       "        vertical-align: middle;\n",
       "    }\n",
       "\n",
       "    .dataframe tbody tr th {\n",
       "        vertical-align: top;\n",
       "    }\n",
       "\n",
       "    .dataframe thead th {\n",
       "        text-align: right;\n",
       "    }\n",
       "</style>\n",
       "<table border=\"1\" class=\"dataframe\">\n",
       "  <thead>\n",
       "    <tr style=\"text-align: right;\">\n",
       "      <th></th>\n",
       "      <th>data_sha1</th>\n",
       "      <th>companieshouse_companies_company_name</th>\n",
       "      <th>companieshouse_companies_company_number</th>\n",
       "      <th>companieshouse_companies_postcode</th>\n",
       "    </tr>\n",
       "  </thead>\n",
       "  <tbody>\n",
       "    <tr>\n",
       "      <th>0</th>\n",
       "      <td>[60, 238, 8, 147, 7, 16, 77, 221, 26, 188, 195...</td>\n",
       "      <td>00498943 LIMITED</td>\n",
       "      <td>00498943</td>\n",
       "      <td>WA14 5ER</td>\n",
       "    </tr>\n",
       "    <tr>\n",
       "      <th>1</th>\n",
       "      <td>[219, 224, 155, 190, 6, 86, 140, 13, 39, 23, 5...</td>\n",
       "      <td>029-001 LTD</td>\n",
       "      <td>14045431</td>\n",
       "      <td>EC2M 2RH</td>\n",
       "    </tr>\n",
       "    <tr>\n",
       "      <th>2</th>\n",
       "      <td>[178, 222, 237, 135, 42, 162, 187, 111, 225, 4...</td>\n",
       "      <td>0800GASMAN LIMITED</td>\n",
       "      <td>11332800</td>\n",
       "      <td>IP14 1NW</td>\n",
       "    </tr>\n",
       "  </tbody>\n",
       "</table>\n",
       "</div>"
      ],
      "text/plain": [
       "                                           data_sha1  \\\n",
       "0  [60, 238, 8, 147, 7, 16, 77, 221, 26, 188, 195...   \n",
       "1  [219, 224, 155, 190, 6, 86, 140, 13, 39, 23, 5...   \n",
       "2  [178, 222, 237, 135, 42, 162, 187, 111, 225, 4...   \n",
       "\n",
       "  companieshouse_companies_company_name  \\\n",
       "0                      00498943 LIMITED   \n",
       "1                           029-001 LTD   \n",
       "2                    0800GASMAN LIMITED   \n",
       "\n",
       "  companieshouse_companies_company_number companieshouse_companies_postcode  \n",
       "0                                00498943                          WA14 5ER  \n",
       "1                                14045431                          EC2M 2RH  \n",
       "2                                11332800                          IP14 1NW  "
      ]
     },
     "execution_count": 18,
     "metadata": {},
     "output_type": "execute_result"
    },
    {
     "data": {
      "text/plain": [
       "bytearray"
      ]
     },
     "execution_count": 18,
     "metadata": {},
     "output_type": "execute_result"
    }
   ],
   "source": [
    "df = duckdb.sql(\"\"\"\n",
    "    select * from ch_pyarrow;\n",
    "\"\"\").df()\n",
    "\n",
    "df.head(3)\n",
    "type(df.data_sha1[0])"
   ]
  },
  {
   "cell_type": "code",
   "execution_count": 21,
   "metadata": {},
   "outputs": [
    {
     "data": {
      "text/html": [
       "<div>\n",
       "<style scoped>\n",
       "    .dataframe tbody tr th:only-of-type {\n",
       "        vertical-align: middle;\n",
       "    }\n",
       "\n",
       "    .dataframe tbody tr th {\n",
       "        vertical-align: top;\n",
       "    }\n",
       "\n",
       "    .dataframe thead th {\n",
       "        text-align: right;\n",
       "    }\n",
       "</style>\n",
       "<table border=\"1\" class=\"dataframe\">\n",
       "  <thead>\n",
       "    <tr style=\"text-align: right;\">\n",
       "      <th></th>\n",
       "      <th>data_sha1</th>\n",
       "      <th>companieshouse_companies_company_name</th>\n",
       "      <th>companieshouse_companies_company_number</th>\n",
       "      <th>companieshouse_companies_postcode</th>\n",
       "    </tr>\n",
       "  </thead>\n",
       "  <tbody>\n",
       "    <tr>\n",
       "      <th>0</th>\n",
       "      <td>b'&lt;\\xee\\x08\\x93\\x07\\x10M\\xdd\\x1a\\xbc\\xc3*T\\xa9...</td>\n",
       "      <td>00498943 LIMITED</td>\n",
       "      <td>00498943</td>\n",
       "      <td>WA14 5ER</td>\n",
       "    </tr>\n",
       "    <tr>\n",
       "      <th>1</th>\n",
       "      <td>b\"\\xdb\\xe0\\x9b\\xbe\\x06V\\x8c\\r'\\x17;E\\x0e\\xe3\\x...</td>\n",
       "      <td>029-001 LTD</td>\n",
       "      <td>14045431</td>\n",
       "      <td>EC2M 2RH</td>\n",
       "    </tr>\n",
       "    <tr>\n",
       "      <th>2</th>\n",
       "      <td>b'\\xb2\\xde\\xed\\x87*\\xa2\\xbbo\\xe1)\\x05jZ\\xc0J\\x...</td>\n",
       "      <td>0800GASMAN LIMITED</td>\n",
       "      <td>11332800</td>\n",
       "      <td>IP14 1NW</td>\n",
       "    </tr>\n",
       "  </tbody>\n",
       "</table>\n",
       "</div>"
      ],
      "text/plain": [
       "                                           data_sha1  \\\n",
       "0  b'<\\xee\\x08\\x93\\x07\\x10M\\xdd\\x1a\\xbc\\xc3*T\\xa9...   \n",
       "1  b\"\\xdb\\xe0\\x9b\\xbe\\x06V\\x8c\\r'\\x17;E\\x0e\\xe3\\x...   \n",
       "2  b'\\xb2\\xde\\xed\\x87*\\xa2\\xbbo\\xe1)\\x05jZ\\xc0J\\x...   \n",
       "\n",
       "  companieshouse_companies_company_name  \\\n",
       "0                      00498943 LIMITED   \n",
       "1                           029-001 LTD   \n",
       "2                    0800GASMAN LIMITED   \n",
       "\n",
       "  companieshouse_companies_company_number companieshouse_companies_postcode  \n",
       "0                                00498943                          WA14 5ER  \n",
       "1                                14045431                          EC2M 2RH  \n",
       "2                                11332800                          IP14 1NW  "
      ]
     },
     "execution_count": 21,
     "metadata": {},
     "output_type": "execute_result"
    },
    {
     "data": {
      "text/plain": [
       "bytes"
      ]
     },
     "execution_count": 21,
     "metadata": {},
     "output_type": "execute_result"
    }
   ],
   "source": [
    "df2 = duckdb.sql(\"\"\"\n",
    "    select * from ch_raw;\n",
    "\"\"\").arrow().to_pandas(types_mapper=pd.ArrowDtype)\n",
    "\n",
    "\n",
    "\n",
    "df2.head(3)\n",
    "type(df2.data_sha1[0])"
   ]
  }
 ],
 "metadata": {
  "kernelspec": {
   "display_name": "company_matching",
   "language": "python",
   "name": "company_matching"
  },
  "language_info": {
   "codemirror_mode": {
    "name": "ipython",
    "version": 3
   },
   "file_extension": ".py",
   "mimetype": "text/x-python",
   "name": "python",
   "nbconvert_exporter": "python",
   "pygments_lexer": "ipython3",
   "version": "3.9.16"
  }
 },
 "nbformat": 4,
 "nbformat_minor": 4
}
