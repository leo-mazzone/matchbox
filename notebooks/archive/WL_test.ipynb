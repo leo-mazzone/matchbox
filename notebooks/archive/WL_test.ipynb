{
 "cells": [
  {
   "cell_type": "code",
   "execution_count": 1,
   "id": "1ffbb76a-c43b-4e5b-ac68-96973a97d8dd",
   "metadata": {},
   "outputs": [],
   "source": [
    "%load_ext autoreload\n",
    "%autoreload 2\n",
    "from IPython.core.interactiveshell import InteractiveShell\n",
    "InteractiveShell.ast_node_interactivity = \"all\""
   ]
  },
  {
   "cell_type": "code",
   "execution_count": 11,
   "id": "89c523bf-d97a-48d7-9444-133d385cff8a",
   "metadata": {},
   "outputs": [
    {
     "data": {
      "text/plain": [
       "True"
      ]
     },
     "execution_count": 11,
     "metadata": {},
     "output_type": "execute_result"
    },
    {
     "data": {
      "text/html": [
       "<div>\n",
       "<style scoped>\n",
       "    .dataframe tbody tr th:only-of-type {\n",
       "        vertical-align: middle;\n",
       "    }\n",
       "\n",
       "    .dataframe tbody tr th {\n",
       "        vertical-align: top;\n",
       "    }\n",
       "\n",
       "    .dataframe thead th {\n",
       "        text-align: right;\n",
       "    }\n",
       "</style>\n",
       "<table border=\"1\" class=\"dataframe\">\n",
       "  <thead>\n",
       "    <tr style=\"text-align: right;\">\n",
       "      <th></th>\n",
       "      <th>irrational</th>\n",
       "      <th>rounded</th>\n",
       "    </tr>\n",
       "  </thead>\n",
       "  <tbody>\n",
       "    <tr>\n",
       "      <th>0</th>\n",
       "      <td>pi</td>\n",
       "      <td>3.14</td>\n",
       "    </tr>\n",
       "    <tr>\n",
       "      <th>1</th>\n",
       "      <td>e</td>\n",
       "      <td>2.72</td>\n",
       "    </tr>\n",
       "    <tr>\n",
       "      <th>2</th>\n",
       "      <td>phi</td>\n",
       "      <td>1.62</td>\n",
       "    </tr>\n",
       "  </tbody>\n",
       "</table>\n",
       "</div>"
      ],
      "text/plain": [
       "  irrational  rounded\n",
       "0         pi     3.14\n",
       "1          e     2.72\n",
       "2        phi     1.62"
      ]
     },
     "execution_count": 11,
     "metadata": {},
     "output_type": "execute_result"
    }
   ],
   "source": [
    "from cmf.clean import cleaning_function\n",
    "from cmf.clean import steps\n",
    "from cmf.data import utils as du\n",
    "from cmf.data import DB, Clusters, Table\n",
    "\n",
    "from dotenv import load_dotenv, find_dotenv\n",
    "import os\n",
    "\n",
    "load_dotenv(find_dotenv())\n",
    "\n",
    "df = du.generate_dummy_df()\n",
    "\n",
    "df"
   ]
  },
  {
   "cell_type": "code",
   "execution_count": 9,
   "id": "5210506b-ecb8-49d0-ad8d-ead62aafa056",
   "metadata": {},
   "outputs": [],
   "source": [
    "def to_upper(column: str) -> str:\n",
    "    \"\"\"\n",
    "    All characters to uppercase\n",
    "    \"\"\"\n",
    "    return f\"upper({column})\"\n",
    "\n",
    "logger = logging.getLogger(__name__)\n",
    "\n",
    "logger.info(\n",
    "    \"Creating probabilities table \"\n",
    "    \"test\"\n",
    ")"
   ]
  },
  {
   "cell_type": "code",
   "execution_count": 31,
   "id": "a90750e3-345c-4478-a51e-595ae8b7fbd3",
   "metadata": {},
   "outputs": [
    {
     "data": {
      "text/plain": [
       "['uuid', 'id', 'cluster', 'source', 'n']"
      ]
     },
     "execution_count": 31,
     "metadata": {},
     "output_type": "execute_result"
    }
   ],
   "source": [
    "clusters._db_expected_fields"
   ]
  },
  {
   "cell_type": "code",
   "execution_count": 7,
   "id": "37f7a47f-332a-488d-ace8-43fad6dfbe09",
   "metadata": {},
   "outputs": [
    {
     "data": {
      "text/plain": [
       "True"
      ]
     },
     "execution_count": 7,
     "metadata": {},
     "output_type": "execute_result"
    },
    {
     "data": {
      "text/plain": [
       "True"
      ]
     },
     "execution_count": 7,
     "metadata": {},
     "output_type": "execute_result"
    },
    {
     "data": {
      "text/plain": [
       "False"
      ]
     },
     "execution_count": 7,
     "metadata": {},
     "output_type": "execute_result"
    }
   ],
   "source": [
    "x = set([\"id\", \"uuid\", \"name\"])\n",
    "y = set([\"id\", \"uuid\", \"name\"])\n",
    "z = set([\"id\"])\n",
    "a = set([\"id\", \"foo\"])\n",
    "\n",
    "y <= x\n",
    "z <= x\n",
    "a <= x"
   ]
  },
  {
   "cell_type": "code",
   "execution_count": 5,
   "id": "36640c10-945c-47f2-9c61-cc15102a4dec",
   "metadata": {},
   "outputs": [
    {
     "data": {
      "text/plain": [
       "2"
      ]
     },
     "execution_count": 5,
     "metadata": {},
     "output_type": "execute_result"
    },
    {
     "data": {
      "text/plain": [
       "1"
      ]
     },
     "execution_count": 5,
     "metadata": {},
     "output_type": "execute_result"
    },
    {
     "name": "stdout",
     "output_type": "stream",
     "text": [
      "foo\n",
      "bar\n",
      "baz\n",
      "quz\n"
     ]
    }
   ],
   "source": [
    "x = {\"foo\": \"bar\", \"baz\": \"quz\"}\n",
    "y = {\"foo\": \"bar\"}\n",
    "len(x)\n",
    "len(y)\n",
    "for i, j in x.items():\n",
    "    print(i)\n",
    "    print(j)"
   ]
  },
  {
   "cell_type": "code",
   "execution_count": 8,
   "id": "dd50c37a-6d61-4edf-a6be-29a8d472d7aa",
   "metadata": {},
   "outputs": [
    {
     "data": {
      "text/plain": [
       "'l'"
      ]
     },
     "execution_count": 8,
     "metadata": {},
     "output_type": "execute_result"
    },
    {
     "data": {
      "text/plain": [
       "'m'"
      ]
     },
     "execution_count": 8,
     "metadata": {},
     "output_type": "execute_result"
    }
   ],
   "source": [
    "from pydantic import BaseModel\n",
    "\n",
    "class Test(BaseModel):\n",
    "    x: str\n",
    "    y: str\n",
    "\n",
    "    @classmethod\n",
    "    def make_test(cls, foo: str) -> \"Test\":\n",
    "        return cls(\n",
    "            x=foo[0],\n",
    "            y=foo[-1]\n",
    "        )\n",
    "\n",
    "test = Test.make_test(foo=\"lorem\")\n",
    "test.x\n",
    "test.y"
   ]
  },
  {
   "cell_type": "code",
   "execution_count": 15,
   "id": "8f5f487a-4027-4bbf-b36a-bd9207f17284",
   "metadata": {},
   "outputs": [
    {
     "data": {
      "text/plain": [
       "'foo'"
      ]
     },
     "execution_count": 15,
     "metadata": {},
     "output_type": "execute_result"
    },
    {
     "data": {
      "text/plain": [
       "'bar'"
      ]
     },
     "execution_count": 15,
     "metadata": {},
     "output_type": "execute_result"
    }
   ],
   "source": [
    "p, q = tuple(y.items())[0]\n",
    "p\n",
    "q"
   ]
  },
  {
   "cell_type": "code",
   "execution_count": 26,
   "id": "1b15ee7f-1897-4a8e-b3cf-d6a40665d653",
   "metadata": {},
   "outputs": [
    {
     "data": {
      "text/plain": [
       "{'comparisons': [{'comparison': 'company_name = company_name'},\n",
       "  {'comparison': 'data_hub_id = data_hub_id'}]}"
      ]
     },
     "execution_count": 26,
     "metadata": {},
     "output_type": "execute_result"
    }
   ],
   "source": [
    "from cmf.helpers import comparison, comparisons\n",
    "from icecream import ic\n",
    "\n",
    "comparison_name = comparison(sql_condition=\"company_name = company_name\")\n",
    "comparison_id = comparison(sql_condition=\"data_hub_id = data_hub_id\")\n",
    "comparison_name_id = comparisons(comparison_name, comparison_id)\n",
    "\n",
    "comparison_name_id"
   ]
  },
  {
   "cell_type": "code",
   "execution_count": 19,
   "id": "65285193-4992-4211-a08e-1a441281b46f",
   "metadata": {},
   "outputs": [],
   "source": [
    "from cmf import query, process\n",
    "from cmf.helpers import selector, cleaner, cleaners\n",
    "from cmf.clean import company_name, company_number\n",
    "\n",
    "select_ch = selector(\n",
    "    table=\"companieshouse.companies\", fields=[\"company_number\", \"company_name\"]\n",
    ")\n",
    "ch_sample = query(select=select_ch, sample=0.05)\n",
    "\n",
    "cleaner_name = cleaner(function=company_name, arguments={\"column\": \"company_name\"})\n",
    "cleaner_number = cleaner(\n",
    "    function=company_number, arguments={\"column\": \"company_number\"}\n",
    ")\n",
    "cleaner_name_number = cleaners(cleaner_name, cleaner_number)\n",
    "\n",
    "ch_sample_cleaned = process(data=ch_sample, pipeline=cleaner_name_number)"
   ]
  },
  {
   "cell_type": "code",
   "execution_count": 1,
   "id": "7baa10eb-4728-42ad-b474-cad6c6116ebb",
   "metadata": {},
   "outputs": [],
   "source": [
    "from cmf import query, process, make_deduper\n",
    "from cmf.dedupers import Naive\n",
    "from cmf.helpers import selector, cleaner, cleaners\n",
    "from cmf.clean import company_name, postcode_to_area\n",
    "\n",
    "# Select\n",
    "select_exp = selector(\n",
    "    table=\"hmrc.trade__exporters\", \n",
    "    fields=[\"id\", \"company_name\", \"postcode\"]\n",
    ")\n",
    "exp_sample = query(select=select_exp, sample=0.05)\n",
    "\n",
    "# Clean\n",
    "cleaner_name = cleaner(function=company_name, arguments={\"column\": \"company_name\"})\n",
    "cleaner_pc = cleaner(\n",
    "    function=postcode_to_area, arguments={\"column\": \"postcode\"}\n",
    ")\n",
    "cleaner_name_pc = cleaners(cleaner_name, cleaner_pc)\n",
    "\n",
    "exp_sample_cleaned = process(data=exp_sample, pipeline=cleaner_name_pc)\n",
    "\n",
    "exp_naive_deduper = make_deduper(\n",
    "    dedupe_run_name=\"basic_hmrc_exp\",\n",
    "    description=\"\"\"\n",
    "        Clean company name, extract postcode area\n",
    "    \"\"\",\n",
    "    deduper=Naive,\n",
    "    data=exp_sample_cleaned,\n",
    "    dedupe_settings={\n",
    "        \"id\": \"id\",\n",
    "        \"unique_fields\": [\n",
    "            \"company_name\",\n",
    "            \"postcode\"\n",
    "        ]\n",
    "    }\n",
    ")\n",
    "\n",
    "exp_deduped = exp_naive_deduper()"
   ]
  },
  {
   "cell_type": "code",
   "execution_count": 2,
   "id": "08612d5b-88e9-4a0c-b409-6845dc3b24a0",
   "metadata": {},
   "outputs": [
    {
     "data": {
      "text/html": [
       "<div>\n",
       "<style scoped>\n",
       "    .dataframe tbody tr th:only-of-type {\n",
       "        vertical-align: middle;\n",
       "    }\n",
       "\n",
       "    .dataframe tbody tr th {\n",
       "        vertical-align: top;\n",
       "    }\n",
       "\n",
       "    .dataframe thead th {\n",
       "        text-align: right;\n",
       "    }\n",
       "</style>\n",
       "<table border=\"1\" class=\"dataframe\">\n",
       "  <thead>\n",
       "    <tr style=\"text-align: right;\">\n",
       "      <th></th>\n",
       "      <th>id</th>\n",
       "      <th>company_name</th>\n",
       "      <th>postcode</th>\n",
       "    </tr>\n",
       "  </thead>\n",
       "  <tbody>\n",
       "    <tr>\n",
       "      <th>0</th>\n",
       "      <td>2635576</td>\n",
       "      <td>2gether support solutions</td>\n",
       "      <td>CT</td>\n",
       "    </tr>\n",
       "    <tr>\n",
       "      <th>1</th>\n",
       "      <td>3523148</td>\n",
       "      <td>3dprintuk</td>\n",
       "      <td>E</td>\n",
       "    </tr>\n",
       "    <tr>\n",
       "      <th>2</th>\n",
       "      <td>1934134</td>\n",
       "      <td>3style scooters</td>\n",
       "      <td>CO</td>\n",
       "    </tr>\n",
       "    <tr>\n",
       "      <th>3</th>\n",
       "      <td>3094466</td>\n",
       "      <td>a b c macintosh</td>\n",
       "      <td>NN</td>\n",
       "    </tr>\n",
       "    <tr>\n",
       "      <th>4</th>\n",
       "      <td>825933</td>\n",
       "      <td>a bratt son</td>\n",
       "      <td>NG</td>\n",
       "    </tr>\n",
       "    <tr>\n",
       "      <th>...</th>\n",
       "      <td>...</td>\n",
       "      <td>...</td>\n",
       "      <td>...</td>\n",
       "    </tr>\n",
       "    <tr>\n",
       "      <th>1326</th>\n",
       "      <td>1977117</td>\n",
       "      <td>ycs</td>\n",
       "      <td>SL</td>\n",
       "    </tr>\n",
       "    <tr>\n",
       "      <th>1327</th>\n",
       "      <td>2829967</td>\n",
       "      <td>yoshioka akira</td>\n",
       "      <td>AL</td>\n",
       "    </tr>\n",
       "    <tr>\n",
       "      <th>1328</th>\n",
       "      <td>126983</td>\n",
       "      <td>yumi</td>\n",
       "      <td>NW</td>\n",
       "    </tr>\n",
       "    <tr>\n",
       "      <th>1329</th>\n",
       "      <td>1897407</td>\n",
       "      <td>zebra a s</td>\n",
       "      <td>AB</td>\n",
       "    </tr>\n",
       "    <tr>\n",
       "      <th>1330</th>\n",
       "      <td>1960444</td>\n",
       "      <td>zeus packaging</td>\n",
       "      <td>SG</td>\n",
       "    </tr>\n",
       "  </tbody>\n",
       "</table>\n",
       "<p>1331 rows × 3 columns</p>\n",
       "</div>"
      ],
      "text/plain": [
       "           id               company_name postcode\n",
       "0     2635576  2gether support solutions       CT\n",
       "1     3523148                  3dprintuk        E\n",
       "2     1934134            3style scooters       CO\n",
       "3     3094466            a b c macintosh       NN\n",
       "4      825933                a bratt son       NG\n",
       "...       ...                        ...      ...\n",
       "1326  1977117                        ycs       SL\n",
       "1327  2829967             yoshioka akira       AL\n",
       "1328   126983                       yumi       NW\n",
       "1329  1897407                  zebra a s       AB\n",
       "1330  1960444             zeus packaging       SG\n",
       "\n",
       "[1331 rows x 3 columns]"
      ]
     },
     "execution_count": 2,
     "metadata": {},
     "output_type": "execute_result"
    }
   ],
   "source": [
    "exp_deduped"
   ]
  },
  {
   "cell_type": "code",
   "execution_count": 37,
   "id": "836a63ab-de27-4d73-8e48-c5452228367e",
   "metadata": {},
   "outputs": [
    {
     "data": {
      "text/html": [
       "<div>\n",
       "<style scoped>\n",
       "    .dataframe tbody tr th:only-of-type {\n",
       "        vertical-align: middle;\n",
       "    }\n",
       "\n",
       "    .dataframe tbody tr th {\n",
       "        vertical-align: top;\n",
       "    }\n",
       "\n",
       "    .dataframe thead th {\n",
       "        text-align: right;\n",
       "    }\n",
       "</style>\n",
       "<table border=\"1\" class=\"dataframe\">\n",
       "  <thead>\n",
       "    <tr style=\"text-align: right;\">\n",
       "      <th></th>\n",
       "      <th>probability</th>\n",
       "      <th>id</th>\n",
       "      <th>cluster</th>\n",
       "      <th>source</th>\n",
       "    </tr>\n",
       "  </thead>\n",
       "  <tbody>\n",
       "    <tr>\n",
       "      <th>0</th>\n",
       "      <td>0.10</td>\n",
       "      <td>aec1148c-39ee-4d6e-a7a5-ebfe36b7104f</td>\n",
       "      <td>8229d1b6-5486-4dd5-ae92-d9ae3be9d7fc</td>\n",
       "      <td>1</td>\n",
       "    </tr>\n",
       "    <tr>\n",
       "      <th>1</th>\n",
       "      <td>0.80</td>\n",
       "      <td>f93f530b-cdee-47d7-bb6b-a906aef18c6b</td>\n",
       "      <td>3e5a0820-6736-4da5-afa7-488f86500759</td>\n",
       "      <td>1</td>\n",
       "    </tr>\n",
       "    <tr>\n",
       "      <th>2</th>\n",
       "      <td>0.99</td>\n",
       "      <td>3eda53ac-f501-4f47-afa2-79b7762effff</td>\n",
       "      <td>b7b72197-c2ec-43e3-aa15-232eafb45d83</td>\n",
       "      <td>1</td>\n",
       "    </tr>\n",
       "  </tbody>\n",
       "</table>\n",
       "</div>"
      ],
      "text/plain": [
       "   probability                                    id  \\\n",
       "0         0.10  aec1148c-39ee-4d6e-a7a5-ebfe36b7104f   \n",
       "1         0.80  f93f530b-cdee-47d7-bb6b-a906aef18c6b   \n",
       "2         0.99  3eda53ac-f501-4f47-afa2-79b7762effff   \n",
       "\n",
       "                                cluster  source  \n",
       "0  8229d1b6-5486-4dd5-ae92-d9ae3be9d7fc       1  \n",
       "1  3e5a0820-6736-4da5-afa7-488f86500759       1  \n",
       "2  b7b72197-c2ec-43e3-aa15-232eafb45d83       1  "
      ]
     },
     "execution_count": 37,
     "metadata": {},
     "output_type": "execute_result"
    }
   ],
   "source": [
    "from cmf.data.probabilities import ProbabilityResults\n",
    "import pandas as pd\n",
    "import uuid\n",
    "\n",
    "df_prob = pd.DataFrame(\n",
    "    {\n",
    "        \"probability\": [0.1, 0.8, 0.99]\n",
    "    }\n",
    ")\n",
    "\n",
    "df_prob[\"id\"] = [uuid.uuid4() for _ in range(len(df_prob.index))]\n",
    "df_prob[\"cluster\"] = [uuid.uuid4() for _ in range(len(df_prob.index))]\n",
    "df_prob[\"source\"] = 1\n",
    "\n",
    "results = ProbabilityResults(\n",
    "    dataframe=df_prob,\n",
    "    run_name=\"foo\",\n",
    "    run_description=\"bar\"\n",
    ")\n",
    "\n",
    "results.to_df()"
   ]
  },
  {
   "cell_type": "code",
   "execution_count": 30,
   "id": "f03a18f8-9516-4826-ab79-615231045d7d",
   "metadata": {},
   "outputs": [],
   "source": [
    "from cmf.data import Probabilities, Table\n",
    "\n",
    "prob = Probabilities(\n",
    "    db_table=Table(\n",
    "        db_schema=os.getenv(\"SCHEMA\"), \n",
    "        db_table=os.getenv(\"PROBABILITIES_TABLE\")\n",
    "    )\n",
    ")"
   ]
  },
  {
   "cell_type": "code",
   "execution_count": 38,
   "id": "dfef51db-ac27-4e01-b9c4-ff2b965205a1",
   "metadata": {},
   "outputs": [],
   "source": [
    "results.to_cmf()"
   ]
  },
  {
   "cell_type": "code",
   "execution_count": 39,
   "id": "d27003dc-cc89-416b-a145-f6dd9befed79",
   "metadata": {},
   "outputs": [
    {
     "data": {
      "text/html": [
       "<div>\n",
       "<style scoped>\n",
       "    .dataframe tbody tr th:only-of-type {\n",
       "        vertical-align: middle;\n",
       "    }\n",
       "\n",
       "    .dataframe tbody tr th {\n",
       "        vertical-align: top;\n",
       "    }\n",
       "\n",
       "    .dataframe thead th {\n",
       "        text-align: right;\n",
       "    }\n",
       "</style>\n",
       "<table border=\"1\" class=\"dataframe\">\n",
       "  <thead>\n",
       "    <tr style=\"text-align: right;\">\n",
       "      <th></th>\n",
       "      <th>uuid</th>\n",
       "      <th>link_type</th>\n",
       "      <th>model</th>\n",
       "      <th>source</th>\n",
       "      <th>cluster</th>\n",
       "      <th>id</th>\n",
       "      <th>probability</th>\n",
       "    </tr>\n",
       "  </thead>\n",
       "  <tbody>\n",
       "    <tr>\n",
       "      <th>0</th>\n",
       "      <td>623adca9-1dd2-4db7-8b99-26d842b8a27d</td>\n",
       "      <td>link</td>\n",
       "      <td>foo</td>\n",
       "      <td>1</td>\n",
       "      <td>8229d1b6-5486-4dd5-ae92-d9ae3be9d7fc</td>\n",
       "      <td>aec1148c-39ee-4d6e-a7a5-ebfe36b7104f</td>\n",
       "      <td>0.10</td>\n",
       "    </tr>\n",
       "    <tr>\n",
       "      <th>1</th>\n",
       "      <td>93b7ffe9-01a8-4321-b0f0-e25fcd46ad37</td>\n",
       "      <td>link</td>\n",
       "      <td>foo</td>\n",
       "      <td>1</td>\n",
       "      <td>3e5a0820-6736-4da5-afa7-488f86500759</td>\n",
       "      <td>f93f530b-cdee-47d7-bb6b-a906aef18c6b</td>\n",
       "      <td>0.80</td>\n",
       "    </tr>\n",
       "    <tr>\n",
       "      <th>2</th>\n",
       "      <td>6e5ba1b4-d44b-483e-a433-a14aa2e06482</td>\n",
       "      <td>link</td>\n",
       "      <td>foo</td>\n",
       "      <td>1</td>\n",
       "      <td>b7b72197-c2ec-43e3-aa15-232eafb45d83</td>\n",
       "      <td>3eda53ac-f501-4f47-afa2-79b7762effff</td>\n",
       "      <td>0.99</td>\n",
       "    </tr>\n",
       "  </tbody>\n",
       "</table>\n",
       "</div>"
      ],
      "text/plain": [
       "                                   uuid link_type model  source  \\\n",
       "0  623adca9-1dd2-4db7-8b99-26d842b8a27d      link   foo       1   \n",
       "1  93b7ffe9-01a8-4321-b0f0-e25fcd46ad37      link   foo       1   \n",
       "2  6e5ba1b4-d44b-483e-a433-a14aa2e06482      link   foo       1   \n",
       "\n",
       "                                cluster                                    id  \\\n",
       "0  8229d1b6-5486-4dd5-ae92-d9ae3be9d7fc  aec1148c-39ee-4d6e-a7a5-ebfe36b7104f   \n",
       "1  3e5a0820-6736-4da5-afa7-488f86500759  f93f530b-cdee-47d7-bb6b-a906aef18c6b   \n",
       "2  b7b72197-c2ec-43e3-aa15-232eafb45d83  3eda53ac-f501-4f47-afa2-79b7762effff   \n",
       "\n",
       "   probability  \n",
       "0         0.10  \n",
       "1         0.80  \n",
       "2         0.99  "
      ]
     },
     "execution_count": 39,
     "metadata": {},
     "output_type": "execute_result"
    }
   ],
   "source": [
    "prob.db_table.read()"
   ]
  }
 ],
 "metadata": {
  "kernelspec": {
   "display_name": "company_matching",
   "language": "python",
   "name": "company_matching"
  },
  "language_info": {
   "codemirror_mode": {
    "name": "ipython",
    "version": 3
   },
   "file_extension": ".py",
   "mimetype": "text/x-python",
   "name": "python",
   "nbconvert_exporter": "python",
   "pygments_lexer": "ipython3",
   "version": "3.9.16"
  }
 },
 "nbformat": 4,
 "nbformat_minor": 5
}
