{
 "cells": [
  {
   "cell_type": "code",
   "execution_count": 1,
   "id": "1ffbb76a-c43b-4e5b-ac68-96973a97d8dd",
   "metadata": {},
   "outputs": [],
   "source": [
    "%load_ext autoreload\n",
    "%autoreload 2\n",
    "from IPython.core.interactiveshell import InteractiveShell\n",
    "InteractiveShell.ast_node_interactivity = \"all\""
   ]
  },
  {
   "cell_type": "code",
   "execution_count": 17,
   "id": "89c523bf-d97a-48d7-9444-133d385cff8a",
   "metadata": {},
   "outputs": [
    {
     "data": {
      "text/plain": [
       "True"
      ]
     },
     "execution_count": 17,
     "metadata": {},
     "output_type": "execute_result"
    },
    {
     "data": {
      "text/html": [
       "<div>\n",
       "<style scoped>\n",
       "    .dataframe tbody tr th:only-of-type {\n",
       "        vertical-align: middle;\n",
       "    }\n",
       "\n",
       "    .dataframe tbody tr th {\n",
       "        vertical-align: top;\n",
       "    }\n",
       "\n",
       "    .dataframe thead th {\n",
       "        text-align: right;\n",
       "    }\n",
       "</style>\n",
       "<table border=\"1\" class=\"dataframe\">\n",
       "  <thead>\n",
       "    <tr style=\"text-align: right;\">\n",
       "      <th></th>\n",
       "      <th>irrational</th>\n",
       "      <th>rounded</th>\n",
       "    </tr>\n",
       "  </thead>\n",
       "  <tbody>\n",
       "    <tr>\n",
       "      <th>0</th>\n",
       "      <td>pi</td>\n",
       "      <td>3.14</td>\n",
       "    </tr>\n",
       "    <tr>\n",
       "      <th>1</th>\n",
       "      <td>e</td>\n",
       "      <td>2.72</td>\n",
       "    </tr>\n",
       "    <tr>\n",
       "      <th>2</th>\n",
       "      <td>phi</td>\n",
       "      <td>1.62</td>\n",
       "    </tr>\n",
       "  </tbody>\n",
       "</table>\n",
       "</div>"
      ],
      "text/plain": [
       "  irrational  rounded\n",
       "0         pi     3.14\n",
       "1          e     2.72\n",
       "2        phi     1.62"
      ]
     },
     "execution_count": 17,
     "metadata": {},
     "output_type": "execute_result"
    }
   ],
   "source": [
    "from cmf.clean import cleaning_function\n",
    "from cmf.clean import steps\n",
    "from cmf.data import utils as du\n",
    "from cmf.data import Table\n",
    "from cmf import make_cmf_connection\n",
    "\n",
    "from dotenv import load_dotenv, find_dotenv\n",
    "import os\n",
    "\n",
    "load_dotenv(find_dotenv())\n",
    "\n",
    "cmf_conn = make_cmf_connection()\n",
    "\n",
    "df = du.generate_dummy_df()\n",
    "\n",
    "df"
   ]
  },
  {
   "cell_type": "code",
   "execution_count": 9,
   "id": "5210506b-ecb8-49d0-ad8d-ead62aafa056",
   "metadata": {},
   "outputs": [],
   "source": [
    "def to_upper(column: str) -> str:\n",
    "    \"\"\"\n",
    "    All characters to uppercase\n",
    "    \"\"\"\n",
    "    return f\"upper({column})\"\n",
    "\n",
    "logger = logging.getLogger(__name__)\n",
    "\n",
    "logger.info(\n",
    "    \"Creating probabilities table \"\n",
    "    \"test\"\n",
    ")"
   ]
  },
  {
   "cell_type": "code",
   "execution_count": 31,
   "id": "a90750e3-345c-4478-a51e-595ae8b7fbd3",
   "metadata": {},
   "outputs": [
    {
     "data": {
      "text/plain": [
       "['uuid', 'id', 'cluster', 'source', 'n']"
      ]
     },
     "execution_count": 31,
     "metadata": {},
     "output_type": "execute_result"
    }
   ],
   "source": [
    "clusters._db_expected_fields"
   ]
  },
  {
   "cell_type": "code",
   "execution_count": 7,
   "id": "37f7a47f-332a-488d-ace8-43fad6dfbe09",
   "metadata": {},
   "outputs": [
    {
     "data": {
      "text/plain": [
       "True"
      ]
     },
     "execution_count": 7,
     "metadata": {},
     "output_type": "execute_result"
    },
    {
     "data": {
      "text/plain": [
       "True"
      ]
     },
     "execution_count": 7,
     "metadata": {},
     "output_type": "execute_result"
    },
    {
     "data": {
      "text/plain": [
       "False"
      ]
     },
     "execution_count": 7,
     "metadata": {},
     "output_type": "execute_result"
    }
   ],
   "source": [
    "x = set([\"id\", \"uuid\", \"name\"])\n",
    "y = set([\"id\", \"uuid\", \"name\"])\n",
    "z = set([\"id\"])\n",
    "a = set([\"id\", \"foo\"])\n",
    "\n",
    "y <= x\n",
    "z <= x\n",
    "a <= x"
   ]
  },
  {
   "cell_type": "code",
   "execution_count": 5,
   "id": "36640c10-945c-47f2-9c61-cc15102a4dec",
   "metadata": {},
   "outputs": [
    {
     "data": {
      "text/plain": [
       "2"
      ]
     },
     "execution_count": 5,
     "metadata": {},
     "output_type": "execute_result"
    },
    {
     "data": {
      "text/plain": [
       "1"
      ]
     },
     "execution_count": 5,
     "metadata": {},
     "output_type": "execute_result"
    },
    {
     "name": "stdout",
     "output_type": "stream",
     "text": [
      "foo\n",
      "bar\n",
      "baz\n",
      "quz\n"
     ]
    }
   ],
   "source": [
    "x = {\"foo\": \"bar\", \"baz\": \"quz\"}\n",
    "y = {\"foo\": \"bar\"}\n",
    "len(x)\n",
    "len(y)\n",
    "for i, j in x.items():\n",
    "    print(i)\n",
    "    print(j)"
   ]
  },
  {
   "cell_type": "code",
   "execution_count": 8,
   "id": "dd50c37a-6d61-4edf-a6be-29a8d472d7aa",
   "metadata": {},
   "outputs": [
    {
     "data": {
      "text/plain": [
       "'l'"
      ]
     },
     "execution_count": 8,
     "metadata": {},
     "output_type": "execute_result"
    },
    {
     "data": {
      "text/plain": [
       "'m'"
      ]
     },
     "execution_count": 8,
     "metadata": {},
     "output_type": "execute_result"
    }
   ],
   "source": [
    "from pydantic import BaseModel\n",
    "\n",
    "class Test(BaseModel):\n",
    "    x: str\n",
    "    y: str\n",
    "\n",
    "    @classmethod\n",
    "    def make_test(cls, foo: str) -> \"Test\":\n",
    "        return cls(\n",
    "            x=foo[0],\n",
    "            y=foo[-1]\n",
    "        )\n",
    "\n",
    "test = Test.make_test(foo=\"lorem\")\n",
    "test.x\n",
    "test.y"
   ]
  },
  {
   "cell_type": "code",
   "execution_count": 15,
   "id": "8f5f487a-4027-4bbf-b36a-bd9207f17284",
   "metadata": {},
   "outputs": [
    {
     "data": {
      "text/plain": [
       "'foo'"
      ]
     },
     "execution_count": 15,
     "metadata": {},
     "output_type": "execute_result"
    },
    {
     "data": {
      "text/plain": [
       "'bar'"
      ]
     },
     "execution_count": 15,
     "metadata": {},
     "output_type": "execute_result"
    }
   ],
   "source": [
    "p, q = tuple(y.items())[0]\n",
    "p\n",
    "q"
   ]
  },
  {
   "cell_type": "code",
   "execution_count": 26,
   "id": "1b15ee7f-1897-4a8e-b3cf-d6a40665d653",
   "metadata": {},
   "outputs": [
    {
     "data": {
      "text/plain": [
       "{'comparisons': [{'comparison': 'company_name = company_name'},\n",
       "  {'comparison': 'data_hub_id = data_hub_id'}]}"
      ]
     },
     "execution_count": 26,
     "metadata": {},
     "output_type": "execute_result"
    }
   ],
   "source": [
    "from cmf.helpers import comparison, comparisons\n",
    "from icecream import ic\n",
    "\n",
    "comparison_name = comparison(sql_condition=\"company_name = company_name\")\n",
    "comparison_id = comparison(sql_condition=\"data_hub_id = data_hub_id\")\n",
    "comparison_name_id = comparisons(comparison_name, comparison_id)\n",
    "\n",
    "comparison_name_id"
   ]
  },
  {
   "cell_type": "code",
   "execution_count": 19,
   "id": "65285193-4992-4211-a08e-1a441281b46f",
   "metadata": {},
   "outputs": [],
   "source": [
    "from cmf import query, process\n",
    "from cmf.helpers import selector, cleaner, cleaners\n",
    "from cmf.clean import company_name, company_number\n",
    "\n",
    "select_ch = selector(\n",
    "    table=\"companieshouse.companies\", fields=[\"company_number\", \"company_name\"]\n",
    ")\n",
    "ch_sample = query(select=select_ch, sample=0.05)\n",
    "\n",
    "cleaner_name = cleaner(function=company_name, arguments={\"column\": \"company_name\"})\n",
    "cleaner_number = cleaner(\n",
    "    function=company_number, arguments={\"column\": \"company_number\"}\n",
    ")\n",
    "cleaner_name_number = cleaners(cleaner_name, cleaner_number)\n",
    "\n",
    "ch_sample_cleaned = process(data=ch_sample, pipeline=cleaner_name_number)"
   ]
  },
  {
   "cell_type": "code",
   "execution_count": 5,
   "id": "7baa10eb-4728-42ad-b474-cad6c6116ebb",
   "metadata": {},
   "outputs": [],
   "source": [
    "from cmf import query, process, make_deduper\n",
    "from cmf.dedupers import Naive\n",
    "from cmf.helpers import selector, cleaner, cleaners\n",
    "from cmf.clean import company_name, postcode_to_area\n",
    "\n",
    "# Select\n",
    "select_exp = selector(\n",
    "    table=\"hmrc.trade__exporters\", \n",
    "    fields=[\"id\", \"company_name\", \"postcode\"]\n",
    ")\n",
    "exp_sample = query(select=select_exp, sample=0.05)\n",
    "\n",
    "# Clean\n",
    "cleaner_name = cleaner(function=company_name, arguments={\"column\": \"company_name\"})\n",
    "cleaner_pc = cleaner(\n",
    "    function=postcode_to_area, arguments={\"column\": \"postcode\"}\n",
    ")\n",
    "cleaner_name_pc = cleaners(cleaner_name, cleaner_pc)\n",
    "\n",
    "exp_sample_cleaned = process(data=exp_sample, pipeline=cleaner_name_pc)"
   ]
  },
  {
   "cell_type": "code",
   "execution_count": 6,
   "id": "94a65c04-b359-4500-8c9d-fee566a1f226",
   "metadata": {},
   "outputs": [
    {
     "data": {
      "text/html": [
       "<div>\n",
       "<style scoped>\n",
       "    .dataframe tbody tr th:only-of-type {\n",
       "        vertical-align: middle;\n",
       "    }\n",
       "\n",
       "    .dataframe tbody tr th {\n",
       "        vertical-align: top;\n",
       "    }\n",
       "\n",
       "    .dataframe thead th {\n",
       "        text-align: right;\n",
       "    }\n",
       "</style>\n",
       "<table border=\"1\" class=\"dataframe\">\n",
       "  <thead>\n",
       "    <tr style=\"text-align: right;\">\n",
       "      <th></th>\n",
       "      <th>id</th>\n",
       "      <th>company_name</th>\n",
       "      <th>postcode</th>\n",
       "    </tr>\n",
       "  </thead>\n",
       "  <tbody>\n",
       "    <tr>\n",
       "      <th>0</th>\n",
       "      <td>47248</td>\n",
       "      <td>burgess furniture</td>\n",
       "      <td>TW</td>\n",
       "    </tr>\n",
       "    <tr>\n",
       "      <th>1</th>\n",
       "      <td>47249</td>\n",
       "      <td>hapton valley commercials</td>\n",
       "      <td>BB</td>\n",
       "    </tr>\n",
       "    <tr>\n",
       "      <th>2</th>\n",
       "      <td>47250</td>\n",
       "      <td>discovery yachts</td>\n",
       "      <td>SO</td>\n",
       "    </tr>\n",
       "    <tr>\n",
       "      <th>3</th>\n",
       "      <td>47251</td>\n",
       "      <td>holroyd precision</td>\n",
       "      <td>OL</td>\n",
       "    </tr>\n",
       "    <tr>\n",
       "      <th>4</th>\n",
       "      <td>47252</td>\n",
       "      <td>h g hannant</td>\n",
       "      <td>NR</td>\n",
       "    </tr>\n",
       "    <tr>\n",
       "      <th>...</th>\n",
       "      <td>...</td>\n",
       "      <td>...</td>\n",
       "      <td>...</td>\n",
       "    </tr>\n",
       "    <tr>\n",
       "      <th>2235</th>\n",
       "      <td>3563933</td>\n",
       "      <td>delapena honing equipment</td>\n",
       "      <td>GL</td>\n",
       "    </tr>\n",
       "    <tr>\n",
       "      <th>2236</th>\n",
       "      <td>3563934</td>\n",
       "      <td>i koncepts</td>\n",
       "      <td>BH</td>\n",
       "    </tr>\n",
       "    <tr>\n",
       "      <th>2237</th>\n",
       "      <td>3563935</td>\n",
       "      <td>fairfax saddles</td>\n",
       "      <td>WS</td>\n",
       "    </tr>\n",
       "    <tr>\n",
       "      <th>2238</th>\n",
       "      <td>3563936</td>\n",
       "      <td>triark pumps</td>\n",
       "      <td>CM</td>\n",
       "    </tr>\n",
       "    <tr>\n",
       "      <th>2239</th>\n",
       "      <td>3563937</td>\n",
       "      <td>august race worldwide</td>\n",
       "      <td>TQ</td>\n",
       "    </tr>\n",
       "  </tbody>\n",
       "</table>\n",
       "<p>2240 rows × 3 columns</p>\n",
       "</div>"
      ],
      "text/plain": [
       "           id               company_name postcode\n",
       "0       47248          burgess furniture       TW\n",
       "1       47249  hapton valley commercials       BB\n",
       "2       47250           discovery yachts       SO\n",
       "3       47251          holroyd precision       OL\n",
       "4       47252                h g hannant       NR\n",
       "...       ...                        ...      ...\n",
       "2235  3563933  delapena honing equipment       GL\n",
       "2236  3563934                 i koncepts       BH\n",
       "2237  3563935            fairfax saddles       WS\n",
       "2238  3563936               triark pumps       CM\n",
       "2239  3563937      august race worldwide       TQ\n",
       "\n",
       "[2240 rows x 3 columns]"
      ]
     },
     "execution_count": 6,
     "metadata": {},
     "output_type": "execute_result"
    }
   ],
   "source": [
    "exp_sample_cleaned"
   ]
  },
  {
   "cell_type": "code",
   "execution_count": 71,
   "id": "fd99fcef-354a-4b3b-85c2-b869d7286d51",
   "metadata": {},
   "outputs": [],
   "source": [
    "from cmf.data import utils as du\n",
    "\n",
    "du.query_nonreturn(\"\"\"\n",
    "    drop table if exists _user_eaf4fd9a.cm_probabilities;\n",
    "\"\"\")"
   ]
  },
  {
   "cell_type": "code",
   "execution_count": 68,
   "id": "6008f784-4a1e-4834-9dcf-34de411c909b",
   "metadata": {},
   "outputs": [
    {
     "data": {
      "text/plain": [
       "┌───────────┬───────────┬─────────────┐\n",
       "│ target_id │ source_id │ probability │\n",
       "│  varchar  │  varchar  │    int32    │\n",
       "├───────────┼───────────┼─────────────┤\n",
       "│ 400720    │ 3215046   │           1 │\n",
       "│ 439303    │ 3481079   │           1 │\n",
       "│ 439306    │ 3481080   │           1 │\n",
       "│ 439310    │ 3481082   │           1 │\n",
       "│ 439316    │ 3481103   │           1 │\n",
       "│ 1276365   │ 3509884   │           1 │\n",
       "│ 1276366   │ 3509887   │           1 │\n",
       "│ 1276371   │ 3509896   │           1 │\n",
       "│ 1276374   │ 3509902   │           1 │\n",
       "│ 1276375   │ 3509903   │           1 │\n",
       "│ 1382468   │ 1635734   │           1 │\n",
       "│ 1635734   │ 1382468   │           1 │\n",
       "│ 3215046   │ 400720    │           1 │\n",
       "│ 3481079   │ 439303    │           1 │\n",
       "│ 3481080   │ 439306    │           1 │\n",
       "│ 3481082   │ 439310    │           1 │\n",
       "│ 3481103   │ 439316    │           1 │\n",
       "│ 3509884   │ 1276365   │           1 │\n",
       "│ 3509887   │ 1276366   │           1 │\n",
       "│ 3509896   │ 1276371   │           1 │\n",
       "│ 3509902   │ 1276374   │           1 │\n",
       "│ 3509903   │ 1276375   │           1 │\n",
       "├───────────┴───────────┴─────────────┤\n",
       "│ 22 rows                   3 columns │\n",
       "└─────────────────────────────────────┘"
      ]
     },
     "execution_count": 68,
     "metadata": {},
     "output_type": "execute_result"
    }
   ],
   "source": [
    "import duckdb\n",
    "\n",
    "id = \"id\"\n",
    "unique_fields = [\"company_name\", \"postcode\"]\n",
    "join_clause = []\n",
    "for field in unique_fields:\n",
    "    join_clause.append(f\"l.{field} = r.{field}\")\n",
    "join_clause_compiled = \" and \".join(join_clause)\n",
    "\n",
    "duckdb.sql(\n",
    "    f\"\"\"\n",
    "    select \n",
    "        l.{id}::text as target_id,\n",
    "        r.{id}::text as source_id,\n",
    "        1 as probability\n",
    "    from\n",
    "        exp_sample_cleaned l\n",
    "    inner join exp_sample_cleaned r on\n",
    "        (\n",
    "            {join_clause_compiled}\n",
    "        ) and\n",
    "            l.{id} != r.{id}\n",
    "\"\"\"\n",
    ")"
   ]
  },
  {
   "cell_type": "code",
   "execution_count": 46,
   "id": "623ebf1b-9341-49ad-b61e-c2b24513d63f",
   "metadata": {},
   "outputs": [
    {
     "data": {
      "text/plain": [
       "┌──────────────────────────────────────┬─────────┬─────────┬─────────────┐\n",
       "│               cluster                │  l_id   │  r_id   │ probability │\n",
       "│                 uuid                 │  int64  │  int64  │    int32    │\n",
       "├──────────────────────────────────────┼─────────┼─────────┼─────────────┤\n",
       "│ 228ae7c0-ac37-41dd-bcdd-d57523ad753b │  400720 │ 3215046 │           1 │\n",
       "│ b97d14ba-4290-4126-8f4a-10b7b9b753e0 │  439303 │ 3481079 │           1 │\n",
       "│ 0c70853a-4899-44ac-b38d-a2bf7e7e6083 │  439306 │ 3481080 │           1 │\n",
       "│ b675452f-4caf-4dbd-9692-09d0a13aaf97 │  439310 │ 3481082 │           1 │\n",
       "│ 320b09f4-80a6-4b85-9005-e10c05894e71 │  439316 │ 3481103 │           1 │\n",
       "│ b58ba5cc-71f5-4bf8-a1cb-24eeef1a3c9d │ 1276365 │ 3509884 │           1 │\n",
       "│ 2cddfb7f-27dd-47f9-8d39-c4fc47917d39 │ 1276366 │ 3509887 │           1 │\n",
       "│ d4d2d180-c73d-4d79-acb2-b196bc58f9db │ 1276371 │ 3509896 │           1 │\n",
       "│ ac66276d-a6de-4b80-b37e-193d02b91b9a │ 1276374 │ 3509902 │           1 │\n",
       "│ e4ae51d2-4adb-4cc5-b03c-dee07b5da1d3 │ 1276375 │ 3509903 │           1 │\n",
       "│ 898d7756-6974-45f8-823c-b4720c23cd5b │ 1382468 │ 1635734 │           1 │\n",
       "│ a538e341-e0c9-488e-8193-8592c36c43ae │ 1635734 │ 1382468 │           1 │\n",
       "│ 84516757-f372-423b-9499-6fddf44c2bf5 │ 3215046 │  400720 │           1 │\n",
       "│ a371e5b7-97c3-4761-b262-4f5b1fb778a5 │ 3481079 │  439303 │           1 │\n",
       "│ 9f447d65-cd81-4bbd-87d4-29e47ae5a850 │ 3481080 │  439306 │           1 │\n",
       "│ f72f7801-c05b-47a2-a0df-2a10c8676b62 │ 3481082 │  439310 │           1 │\n",
       "│ 08098dd9-245e-45aa-a3d4-b01d717e5eb3 │ 3481103 │  439316 │           1 │\n",
       "│ 02e1d91c-5277-4703-bf5f-5fd0457dee3b │ 3509884 │ 1276365 │           1 │\n",
       "│ e04efdd0-12bc-45d0-bc07-9c17f4146034 │ 3509887 │ 1276366 │           1 │\n",
       "│ 2f4de701-c796-46a2-b574-041bb21d9d90 │ 3509896 │ 1276371 │           1 │\n",
       "│ cea6acdc-2a77-4a17-bc75-d1e34362edc8 │ 3509902 │ 1276374 │           1 │\n",
       "│ 34888a41-de0e-4151-ab6a-a57b69711e9e │ 3509903 │ 1276375 │           1 │\n",
       "├──────────────────────────────────────┴─────────┴─────────┴─────────────┤\n",
       "│ 22 rows                                                      4 columns │\n",
       "└────────────────────────────────────────────────────────────────────────┘"
      ]
     },
     "execution_count": 46,
     "metadata": {},
     "output_type": "execute_result"
    }
   ],
   "source": [
    "matched"
   ]
  },
  {
   "cell_type": "code",
   "execution_count": 57,
   "id": "0d12ba65-65cd-4c7b-b6b5-2ab3dab53d0b",
   "metadata": {},
   "outputs": [
    {
     "data": {
      "text/plain": [
       "┌──────────────────────────────────────┬─────────┬─────────────┐\n",
       "│               cluster                │   id    │ probability │\n",
       "│                 uuid                 │  int64  │    int32    │\n",
       "├──────────────────────────────────────┼─────────┼─────────────┤\n",
       "│ bd317632-4db6-40d7-9aff-6534a52a9781 │ 3215046 │           1 │\n",
       "│ 8d7055f5-c76b-41bc-8570-33a5b445f56e │  400720 │           1 │\n",
       "│ 2a6ce040-2860-4893-9f36-6bffcbaecf28 │ 3215046 │           1 │\n",
       "│ a1a026d2-c698-45ec-ad6e-893c6d811328 │  400720 │           1 │\n",
       "└──────────────────────────────────────┴─────────┴─────────────┘"
      ]
     },
     "execution_count": 57,
     "metadata": {},
     "output_type": "execute_result"
    }
   ],
   "source": [
    "# matched\n",
    "duckdb.sql(\"\"\"\n",
    "    select \n",
    "        * \n",
    "    from \n",
    "        stacked \n",
    "    where \n",
    "        cluster = '228ae7c0-ac37-41dd-bcdd-d57523ad753b'::uuid\n",
    "        or id in (400720, 3215046)\n",
    "\"\"\")"
   ]
  },
  {
   "cell_type": "code",
   "execution_count": 10,
   "id": "e03c8af4-16ee-4407-ad36-bf6b99c24ff8",
   "metadata": {},
   "outputs": [
    {
     "data": {
      "text/plain": [
       "┌─────────┬──────────────────────────────┬──────────┐\n",
       "│   id    │         company_name         │ postcode │\n",
       "│  int64  │           varchar            │ varchar  │\n",
       "├─────────┼──────────────────────────────┼──────────┤\n",
       "│ 2230549 │ 01direct                     │ NW       │\n",
       "│  600690 │ 2028 w                       │ S        │\n",
       "│ 3348100 │ 222 sports                   │ BA       │\n",
       "│ 2585664 │ 3 arrows recycling solutions │ DA       │\n",
       "│ 3481086 │ 313 pharma                   │ B        │\n",
       "│  795796 │ 365 itms                     │ RG       │\n",
       "│  330630 │ 4d modelshop                 │ E        │\n",
       "│   71869 │ 4px fulfillment              │ UB       │\n",
       "│  860104 │ 4sight imaging               │ BL       │\n",
       "│  757287 │ a a k butterworth            │ BD       │\n",
       "│     ·   │  ·                           │ ·        │\n",
       "│     ·   │  ·                           │ ·        │\n",
       "│     ·   │  ·                           │ ·        │\n",
       "│ 2069120 │ yuzu                         │ SE       │\n",
       "│ 2300862 │ zellis holdings              │ BS       │\n",
       "│ 2084312 │ zeotek                       │ CA       │\n",
       "│  162987 │ zinch designs                │ BH       │\n",
       "│  693239 │ ziztel                       │ NG       │\n",
       "│  279744 │ zodiac interconnect          │ SL       │\n",
       "│ 1660782 │ zodiac london                │ HA       │\n",
       "│  448605 │ zok                          │ GU       │\n",
       "│ 2069112 │ zoltan csaba trenovszki      │ BN       │\n",
       "│ 1276358 │ NULL                         │ NE       │\n",
       "├─────────┴──────────────────────────────┴──────────┤\n",
       "│ 1855 rows (20 shown)                    3 columns │\n",
       "└───────────────────────────────────────────────────┘"
      ]
     },
     "execution_count": 10,
     "metadata": {},
     "output_type": "execute_result"
    }
   ],
   "source": [
    "duckdb.sql(\n",
    "    f\"\"\"\n",
    "    select distinct on ({unique_fields})\n",
    "        {id},\n",
    "        {unique_fields}\n",
    "    from\n",
    "        exp_sample_cleaned\n",
    "    order by\n",
    "        {unique_fields};\n",
    "\"\"\"\n",
    ")"
   ]
  },
  {
   "cell_type": "code",
   "execution_count": 25,
   "id": "08612d5b-88e9-4a0c-b409-6845dc3b24a0",
   "metadata": {},
   "outputs": [],
   "source": [
    "exp_naive_deduper = make_deduper(\n",
    "    dedupe_run_name=\"basic_hmrc_exp\",\n",
    "    description=\"\"\"\n",
    "        Clean company name, extract postcode area\n",
    "    \"\"\",\n",
    "    deduper=Naive,\n",
    "    data=exp_sample_cleaned,\n",
    "    data_source='hmrc.trade__exporters',\n",
    "    dedupe_settings={\n",
    "        \"id\": \"id\",\n",
    "        \"unique_fields\": [\n",
    "            \"company_name\",\n",
    "            \"postcode\"\n",
    "        ]\n",
    "    }\n",
    ")\n",
    "\n",
    "exp_deduped = exp_naive_deduper()"
   ]
  },
  {
   "cell_type": "code",
   "execution_count": 29,
   "id": "2d9c01ad-102b-4cf2-9a69-c4228fb14dfc",
   "metadata": {},
   "outputs": [
    {
     "ename": "NameError",
     "evalue": "name 'pd' is not defined",
     "output_type": "error",
     "traceback": [
      "\u001b[0;31m---------------------------------------------------------------------------\u001b[0m",
      "\u001b[0;31mNameError\u001b[0m                                 Traceback (most recent call last)",
      "Cell \u001b[0;32mIn[29], line 1\u001b[0m\n\u001b[0;32m----> 1\u001b[0m \u001b[43mexp_deduped\u001b[49m\u001b[38;5;241;43m.\u001b[39;49m\u001b[43mto_cmf\u001b[49m\u001b[43m(\u001b[49m\n\u001b[1;32m      2\u001b[0m \u001b[43m    \u001b[49m\u001b[43mcmf_conn\u001b[49m\u001b[38;5;241;43m=\u001b[39;49m\u001b[43mcmf_conn\u001b[49m\u001b[43m,\u001b[49m\n\u001b[1;32m      3\u001b[0m \u001b[43m    \u001b[49m\u001b[43moverwrite\u001b[49m\u001b[38;5;241;43m=\u001b[39;49m\u001b[38;5;28;43;01mTrue\u001b[39;49;00m\n\u001b[1;32m      4\u001b[0m \u001b[43m)\u001b[49m\n",
      "File \u001b[0;32m~/company-matching/cmf/data/probabilities.py:238\u001b[0m, in \u001b[0;36mProbabilityResults.to_cmf\u001b[0;34m(self, cmf_conn, overwrite)\u001b[0m\n\u001b[1;32m    232\u001b[0m \u001b[38;5;28;01mdef\u001b[39;00m \u001b[38;5;21mto_cmf\u001b[39m(\n\u001b[1;32m    233\u001b[0m     \u001b[38;5;28mself\u001b[39m,\n\u001b[1;32m    234\u001b[0m     cmf_conn: CMFDB,\n\u001b[1;32m    235\u001b[0m     overwrite: \u001b[38;5;28mbool\u001b[39m \u001b[38;5;241m=\u001b[39m \u001b[38;5;28;01mFalse\u001b[39;00m,\n\u001b[1;32m    236\u001b[0m ):\n\u001b[1;32m    237\u001b[0m     \u001b[38;5;28;01mif\u001b[39;00m \u001b[38;5;28mself\u001b[39m\u001b[38;5;241m.\u001b[39mdataframe \u001b[38;5;129;01mis\u001b[39;00m \u001b[38;5;129;01mnot\u001b[39;00m \u001b[38;5;28;01mNone\u001b[39;00m:\n\u001b[0;32m--> 238\u001b[0m         \u001b[43mcmf_conn\u001b[49m\u001b[38;5;241;43m.\u001b[39;49m\u001b[43mprobabilities\u001b[49m\u001b[38;5;241;43m.\u001b[39;49m\u001b[43madd_probabilities\u001b[49m\u001b[43m(\u001b[49m\n\u001b[1;32m    239\u001b[0m \u001b[43m            \u001b[49m\u001b[43mprobabilities\u001b[49m\u001b[38;5;241;43m=\u001b[39;49m\u001b[38;5;28;43mself\u001b[39;49m\u001b[38;5;241;43m.\u001b[39;49m\u001b[43mto_df\u001b[49m\u001b[43m(\u001b[49m\u001b[43m)\u001b[49m\u001b[43m,\u001b[49m\u001b[43m \u001b[49m\n\u001b[1;32m    240\u001b[0m \u001b[43m            \u001b[49m\u001b[43mmodel\u001b[49m\u001b[38;5;241;43m=\u001b[39;49m\u001b[38;5;28;43mself\u001b[39;49m\u001b[38;5;241;43m.\u001b[39;49m\u001b[43mrun_name\u001b[49m\u001b[43m,\u001b[49m\n\u001b[1;32m    241\u001b[0m \u001b[43m            \u001b[49m\u001b[43moverwrite\u001b[49m\u001b[38;5;241;43m=\u001b[39;49m\u001b[43moverwrite\u001b[49m\n\u001b[1;32m    242\u001b[0m \u001b[43m        \u001b[49m\u001b[43m)\u001b[49m\n",
      "File \u001b[0;32m~/company-matching/cmf/data/probabilities.py:161\u001b[0m, in \u001b[0;36mProbabilities.add_probabilities\u001b[0;34m(self, probabilities, model, overwrite)\u001b[0m\n\u001b[1;32m    152\u001b[0m \u001b[38;5;28;01mif\u001b[39;00m max_prob \u001b[38;5;241m>\u001b[39m \u001b[38;5;241m1\u001b[39m \u001b[38;5;129;01mor\u001b[39;00m min_prob \u001b[38;5;241m<\u001b[39m \u001b[38;5;241m0\u001b[39m:\n\u001b[1;32m    153\u001b[0m     \u001b[38;5;28;01mraise\u001b[39;00m \u001b[38;5;167;01mValueError\u001b[39;00m(\n\u001b[1;32m    154\u001b[0m         \u001b[38;5;124mf\u001b[39m\u001b[38;5;124m\"\"\"\u001b[39m\n\u001b[1;32m    155\u001b[0m \u001b[38;5;124m        Probability column should contain valid probabilities.\u001b[39m\n\u001b[0;32m   (...)\u001b[0m\n\u001b[1;32m    158\u001b[0m \u001b[38;5;124m    \u001b[39m\u001b[38;5;124m\"\"\"\u001b[39m\n\u001b[1;32m    159\u001b[0m     )\n\u001b[0;32m--> 161\u001b[0m \u001b[43mpd\u001b[49m\u001b[38;5;241m.\u001b[39moptions\u001b[38;5;241m.\u001b[39mmode\u001b[38;5;241m.\u001b[39mchained_assignment \u001b[38;5;241m=\u001b[39m \u001b[38;5;28;01mNone\u001b[39;00m\n\u001b[1;32m    162\u001b[0m probabilities[\u001b[38;5;124m\"\u001b[39m\u001b[38;5;124mmodel\u001b[39m\u001b[38;5;124m\"\u001b[39m] \u001b[38;5;241m=\u001b[39m model\n\u001b[1;32m    163\u001b[0m probabilities[\u001b[38;5;124m\"\u001b[39m\u001b[38;5;124muuid\u001b[39m\u001b[38;5;124m\"\u001b[39m] \u001b[38;5;241m=\u001b[39m [uuid\u001b[38;5;241m.\u001b[39muuid4() \u001b[38;5;28;01mfor\u001b[39;00m _ \u001b[38;5;129;01min\u001b[39;00m \u001b[38;5;28mrange\u001b[39m(\u001b[38;5;28mlen\u001b[39m(probabilities\u001b[38;5;241m.\u001b[39mindex))] \n",
      "\u001b[0;31mNameError\u001b[0m: name 'pd' is not defined"
     ]
    }
   ],
   "source": [
    "exp_deduped.to_cmf(\n",
    "    cmf_conn=cmf_conn,\n",
    "    overwrite=True\n",
    ")"
   ]
  },
  {
   "cell_type": "code",
   "execution_count": 3,
   "id": "836a63ab-de27-4d73-8e48-c5452228367e",
   "metadata": {},
   "outputs": [
    {
     "data": {
      "text/html": [
       "<div>\n",
       "<style scoped>\n",
       "    .dataframe tbody tr th:only-of-type {\n",
       "        vertical-align: middle;\n",
       "    }\n",
       "\n",
       "    .dataframe tbody tr th {\n",
       "        vertical-align: top;\n",
       "    }\n",
       "\n",
       "    .dataframe thead th {\n",
       "        text-align: right;\n",
       "    }\n",
       "</style>\n",
       "<table border=\"1\" class=\"dataframe\">\n",
       "  <thead>\n",
       "    <tr style=\"text-align: right;\">\n",
       "      <th></th>\n",
       "      <th>probability</th>\n",
       "      <th>id</th>\n",
       "      <th>cluster</th>\n",
       "      <th>source</th>\n",
       "    </tr>\n",
       "  </thead>\n",
       "  <tbody>\n",
       "    <tr>\n",
       "      <th>0</th>\n",
       "      <td>0.10</td>\n",
       "      <td>012d5a1e-d47f-49cb-a1e1-4c71b72b5fbb</td>\n",
       "      <td>bbdd40eb-898e-438e-b964-53c798cdbf5e</td>\n",
       "      <td>1</td>\n",
       "    </tr>\n",
       "    <tr>\n",
       "      <th>1</th>\n",
       "      <td>0.80</td>\n",
       "      <td>97bc93c4-03c5-4f7c-8fc3-7e3fbaae53e2</td>\n",
       "      <td>a921959f-28c9-4380-a7b0-c82636655579</td>\n",
       "      <td>1</td>\n",
       "    </tr>\n",
       "    <tr>\n",
       "      <th>2</th>\n",
       "      <td>0.99</td>\n",
       "      <td>17faf79e-f9d4-439a-b2c2-6fb7da6c5be5</td>\n",
       "      <td>a7dad00c-89b3-471b-8e15-9d77e82f0da1</td>\n",
       "      <td>1</td>\n",
       "    </tr>\n",
       "  </tbody>\n",
       "</table>\n",
       "</div>"
      ],
      "text/plain": [
       "   probability                                    id  \\\n",
       "0         0.10  012d5a1e-d47f-49cb-a1e1-4c71b72b5fbb   \n",
       "1         0.80  97bc93c4-03c5-4f7c-8fc3-7e3fbaae53e2   \n",
       "2         0.99  17faf79e-f9d4-439a-b2c2-6fb7da6c5be5   \n",
       "\n",
       "                                cluster  source  \n",
       "0  bbdd40eb-898e-438e-b964-53c798cdbf5e       1  \n",
       "1  a921959f-28c9-4380-a7b0-c82636655579       1  \n",
       "2  a7dad00c-89b3-471b-8e15-9d77e82f0da1       1  "
      ]
     },
     "execution_count": 3,
     "metadata": {},
     "output_type": "execute_result"
    }
   ],
   "source": [
    "from cmf.data.probabilities import ProbabilityResults\n",
    "import pandas as pd\n",
    "import uuid\n",
    "\n",
    "df_prob = pd.DataFrame(\n",
    "    {\n",
    "        \"probability\": [0.1, 0.8, 0.99]\n",
    "    }\n",
    ")\n",
    "\n",
    "df_prob[\"id\"] = [uuid.uuid4() for _ in range(len(df_prob.index))]\n",
    "df_prob[\"cluster\"] = [uuid.uuid4() for _ in range(len(df_prob.index))]\n",
    "df_prob[\"source\"] = 1\n",
    "\n",
    "results = ProbabilityResults(\n",
    "    dataframe=df_prob,\n",
    "    run_name=\"foo\",\n",
    "    description=\"bar\"\n",
    ")\n",
    "\n",
    "results.to_df()"
   ]
  },
  {
   "cell_type": "code",
   "execution_count": 2,
   "id": "f03a18f8-9516-4826-ab79-615231045d7d",
   "metadata": {},
   "outputs": [
    {
     "ename": "NameError",
     "evalue": "name 'CMFDB' is not defined",
     "output_type": "error",
     "traceback": [
      "\u001b[0;31m---------------------------------------------------------------------------\u001b[0m",
      "\u001b[0;31mNameError\u001b[0m                                 Traceback (most recent call last)",
      "Cell \u001b[0;32mIn[2], line 1\u001b[0m\n\u001b[0;32m----> 1\u001b[0m \u001b[38;5;28;01mfrom\u001b[39;00m \u001b[38;5;21;01mcmf\u001b[39;00m\u001b[38;5;21;01m.\u001b[39;00m\u001b[38;5;21;01mdata\u001b[39;00m \u001b[38;5;28;01mimport\u001b[39;00m Probabilities, Table\n\u001b[1;32m      3\u001b[0m prob \u001b[38;5;241m=\u001b[39m Probabilities(\n\u001b[1;32m      4\u001b[0m     db_table\u001b[38;5;241m=\u001b[39mTable(\n\u001b[1;32m      5\u001b[0m         db_schema\u001b[38;5;241m=\u001b[39mos\u001b[38;5;241m.\u001b[39mgetenv(\u001b[38;5;124m\"\u001b[39m\u001b[38;5;124mSCHEMA\u001b[39m\u001b[38;5;124m\"\u001b[39m), \n\u001b[1;32m      6\u001b[0m         db_table\u001b[38;5;241m=\u001b[39mos\u001b[38;5;241m.\u001b[39mgetenv(\u001b[38;5;124m\"\u001b[39m\u001b[38;5;124mPROBABILITIES_TABLE\u001b[39m\u001b[38;5;124m\"\u001b[39m)\n\u001b[1;32m      7\u001b[0m     )\n\u001b[1;32m      8\u001b[0m )\n",
      "File \u001b[0;32m~/company-matching/cmf/__init__.py:3\u001b[0m\n\u001b[1;32m      1\u001b[0m \u001b[38;5;28;01mfrom\u001b[39;00m \u001b[38;5;21;01mcmf\u001b[39;00m\u001b[38;5;21;01m.\u001b[39;00m\u001b[38;5;21;01mhelpers\u001b[39;00m\u001b[38;5;21;01m.\u001b[39;00m\u001b[38;5;21;01mselector\u001b[39;00m \u001b[38;5;28;01mimport\u001b[39;00m query\n\u001b[1;32m      2\u001b[0m \u001b[38;5;28;01mfrom\u001b[39;00m \u001b[38;5;21;01mcmf\u001b[39;00m\u001b[38;5;21;01m.\u001b[39;00m\u001b[38;5;21;01mhelpers\u001b[39;00m\u001b[38;5;21;01m.\u001b[39;00m\u001b[38;5;21;01mcleaner\u001b[39;00m \u001b[38;5;28;01mimport\u001b[39;00m process\n\u001b[0;32m----> 3\u001b[0m \u001b[38;5;28;01mfrom\u001b[39;00m \u001b[38;5;21;01mcmf\u001b[39;00m\u001b[38;5;21;01m.\u001b[39;00m\u001b[38;5;21;01mdedupers\u001b[39;00m\u001b[38;5;21;01m.\u001b[39;00m\u001b[38;5;21;01mmake_deduper\u001b[39;00m \u001b[38;5;28;01mimport\u001b[39;00m make_deduper\n\u001b[1;32m      4\u001b[0m \u001b[38;5;28;01mfrom\u001b[39;00m \u001b[38;5;21;01mcmf\u001b[39;00m\u001b[38;5;21;01m.\u001b[39;00m\u001b[38;5;21;01mdata\u001b[39;00m\u001b[38;5;21;01m.\u001b[39;00m\u001b[38;5;21;01mdb\u001b[39;00m \u001b[38;5;28;01mimport\u001b[39;00m make_cmf_connection\n",
      "File \u001b[0;32m~/company-matching/cmf/dedupers/__init__.py:1\u001b[0m\n\u001b[0;32m----> 1\u001b[0m \u001b[38;5;28;01mfrom\u001b[39;00m \u001b[38;5;21;01mcmf\u001b[39;00m\u001b[38;5;21;01m.\u001b[39;00m\u001b[38;5;21;01mdedupers\u001b[39;00m\u001b[38;5;21;01m.\u001b[39;00m\u001b[38;5;21;01mnaive\u001b[39;00m \u001b[38;5;28;01mimport\u001b[39;00m Naive\n",
      "File \u001b[0;32m~/company-matching/cmf/dedupers/naive.py:1\u001b[0m\n\u001b[0;32m----> 1\u001b[0m \u001b[38;5;28;01mfrom\u001b[39;00m \u001b[38;5;21;01mcmf\u001b[39;00m\u001b[38;5;21;01m.\u001b[39;00m\u001b[38;5;21;01mdedupers\u001b[39;00m\u001b[38;5;21;01m.\u001b[39;00m\u001b[38;5;21;01mmake_deduper\u001b[39;00m \u001b[38;5;28;01mimport\u001b[39;00m Deduper\n\u001b[1;32m      2\u001b[0m \u001b[38;5;28;01mfrom\u001b[39;00m \u001b[38;5;21;01mpandas\u001b[39;00m \u001b[38;5;28;01mimport\u001b[39;00m DataFrame\n\u001b[1;32m      3\u001b[0m \u001b[38;5;28;01mimport\u001b[39;00m \u001b[38;5;21;01mduckdb\u001b[39;00m\n",
      "File \u001b[0;32m~/company-matching/cmf/dedupers/make_deduper.py:1\u001b[0m\n\u001b[0;32m----> 1\u001b[0m \u001b[38;5;28;01mfrom\u001b[39;00m \u001b[38;5;21;01mcmf\u001b[39;00m\u001b[38;5;21;01m.\u001b[39;00m\u001b[38;5;21;01mdata\u001b[39;00m\u001b[38;5;21;01m.\u001b[39;00m\u001b[38;5;21;01mprobabilities\u001b[39;00m \u001b[38;5;28;01mimport\u001b[39;00m ProbabilityResults\n\u001b[1;32m      3\u001b[0m \u001b[38;5;28;01mfrom\u001b[39;00m \u001b[38;5;21;01mpydantic\u001b[39;00m \u001b[38;5;28;01mimport\u001b[39;00m BaseModel\n\u001b[1;32m      4\u001b[0m \u001b[38;5;28;01mfrom\u001b[39;00m \u001b[38;5;21;01mpandas\u001b[39;00m \u001b[38;5;28;01mimport\u001b[39;00m DataFrame\n",
      "File \u001b[0;32m~/company-matching/cmf/data/probabilities.py:159\u001b[0m\n\u001b[1;32m    149\u001b[0m         du\u001b[38;5;241m.\u001b[39mdata_workspace_write(\n\u001b[1;32m    150\u001b[0m             df\u001b[38;5;241m=\u001b[39mprobabilities,\n\u001b[1;32m    151\u001b[0m             schema\u001b[38;5;241m=\u001b[39m\u001b[38;5;28mself\u001b[39m\u001b[38;5;241m.\u001b[39mdb_table\u001b[38;5;241m.\u001b[39mdb_schema,\n\u001b[1;32m    152\u001b[0m             table\u001b[38;5;241m=\u001b[39m\u001b[38;5;28mself\u001b[39m\u001b[38;5;241m.\u001b[39mdb_table\u001b[38;5;241m.\u001b[39mdb_table,\n\u001b[1;32m    153\u001b[0m             if_exists\u001b[38;5;241m=\u001b[39m\u001b[38;5;124m\"\u001b[39m\u001b[38;5;124mappend\u001b[39m\u001b[38;5;124m\"\u001b[39m,\n\u001b[1;32m    154\u001b[0m         )\n\u001b[1;32m    156\u001b[0m         \u001b[38;5;28;01mreturn\u001b[39;00m probabilities\n\u001b[0;32m--> 159\u001b[0m \u001b[38;5;28;01mclass\u001b[39;00m \u001b[38;5;21;01mProbabilityResults\u001b[39;00m(TableMixin, DataFrameMixin):\n\u001b[1;32m    160\u001b[0m     model_config \u001b[38;5;241m=\u001b[39m ConfigDict(arbitrary_types_allowed\u001b[38;5;241m=\u001b[39m\u001b[38;5;28;01mTrue\u001b[39;00m)\n\u001b[1;32m    162\u001b[0m     dataframe: Optional[DataFrame] \u001b[38;5;241m=\u001b[39m \u001b[38;5;28;01mNone\u001b[39;00m\n",
      "File \u001b[0;32m~/company-matching/cmf/data/probabilities.py:186\u001b[0m, in \u001b[0;36mProbabilityResults\u001b[0;34m()\u001b[0m\n\u001b[1;32m    181\u001b[0m     \u001b[38;5;28;01mif\u001b[39;00m \u001b[38;5;28mself\u001b[39m\u001b[38;5;241m.\u001b[39mdataframe \u001b[38;5;129;01mis\u001b[39;00m \u001b[38;5;129;01mnot\u001b[39;00m \u001b[38;5;28;01mNone\u001b[39;00m:\n\u001b[1;32m    182\u001b[0m         \u001b[38;5;28;01mreturn\u001b[39;00m \u001b[38;5;28mself\u001b[39m\u001b[38;5;241m.\u001b[39mdataframe\n\u001b[1;32m    184\u001b[0m \u001b[38;5;28;01mdef\u001b[39;00m \u001b[38;5;21mto_cmf\u001b[39m(\n\u001b[1;32m    185\u001b[0m     \u001b[38;5;28mself\u001b[39m,\n\u001b[0;32m--> 186\u001b[0m     cmf_conn: \u001b[43mCMFDB\u001b[49m,\n\u001b[1;32m    187\u001b[0m     overwrite: \u001b[38;5;28mbool\u001b[39m \u001b[38;5;241m=\u001b[39m \u001b[38;5;28;01mFalse\u001b[39;00m,\n\u001b[1;32m    188\u001b[0m ):\n\u001b[1;32m    189\u001b[0m     \u001b[38;5;28;01mif\u001b[39;00m \u001b[38;5;28mself\u001b[39m\u001b[38;5;241m.\u001b[39mdataframe \u001b[38;5;129;01mis\u001b[39;00m \u001b[38;5;129;01mnot\u001b[39;00m \u001b[38;5;28;01mNone\u001b[39;00m:\n\u001b[1;32m    190\u001b[0m         cmf_conn\u001b[38;5;241m.\u001b[39mprobabilities\u001b[38;5;241m.\u001b[39madd_probabilities(\n\u001b[1;32m    191\u001b[0m             probabilities\u001b[38;5;241m=\u001b[39m\u001b[38;5;28mself\u001b[39m\u001b[38;5;241m.\u001b[39mdataframe, model\u001b[38;5;241m=\u001b[39m\u001b[38;5;28mself\u001b[39m\u001b[38;5;241m.\u001b[39mrun_name\n\u001b[1;32m    192\u001b[0m         )\n",
      "\u001b[0;31mNameError\u001b[0m: name 'CMFDB' is not defined"
     ]
    }
   ],
   "source": [
    "from cmf.data import Probabilities, Table\n",
    "\n",
    "prob = Probabilities(\n",
    "    db_table=Table(\n",
    "        db_schema=os.getenv(\"SCHEMA\"), \n",
    "        db_table=os.getenv(\"PROBABILITIES_TABLE\")\n",
    "    )\n",
    ")"
   ]
  },
  {
   "cell_type": "code",
   "execution_count": 38,
   "id": "dfef51db-ac27-4e01-b9c4-ff2b965205a1",
   "metadata": {},
   "outputs": [],
   "source": [
    "results.to_cmf()"
   ]
  },
  {
   "cell_type": "code",
   "execution_count": 39,
   "id": "d27003dc-cc89-416b-a145-f6dd9befed79",
   "metadata": {},
   "outputs": [
    {
     "data": {
      "text/html": [
       "<div>\n",
       "<style scoped>\n",
       "    .dataframe tbody tr th:only-of-type {\n",
       "        vertical-align: middle;\n",
       "    }\n",
       "\n",
       "    .dataframe tbody tr th {\n",
       "        vertical-align: top;\n",
       "    }\n",
       "\n",
       "    .dataframe thead th {\n",
       "        text-align: right;\n",
       "    }\n",
       "</style>\n",
       "<table border=\"1\" class=\"dataframe\">\n",
       "  <thead>\n",
       "    <tr style=\"text-align: right;\">\n",
       "      <th></th>\n",
       "      <th>uuid</th>\n",
       "      <th>link_type</th>\n",
       "      <th>model</th>\n",
       "      <th>source</th>\n",
       "      <th>cluster</th>\n",
       "      <th>id</th>\n",
       "      <th>probability</th>\n",
       "    </tr>\n",
       "  </thead>\n",
       "  <tbody>\n",
       "    <tr>\n",
       "      <th>0</th>\n",
       "      <td>623adca9-1dd2-4db7-8b99-26d842b8a27d</td>\n",
       "      <td>link</td>\n",
       "      <td>foo</td>\n",
       "      <td>1</td>\n",
       "      <td>8229d1b6-5486-4dd5-ae92-d9ae3be9d7fc</td>\n",
       "      <td>aec1148c-39ee-4d6e-a7a5-ebfe36b7104f</td>\n",
       "      <td>0.10</td>\n",
       "    </tr>\n",
       "    <tr>\n",
       "      <th>1</th>\n",
       "      <td>93b7ffe9-01a8-4321-b0f0-e25fcd46ad37</td>\n",
       "      <td>link</td>\n",
       "      <td>foo</td>\n",
       "      <td>1</td>\n",
       "      <td>3e5a0820-6736-4da5-afa7-488f86500759</td>\n",
       "      <td>f93f530b-cdee-47d7-bb6b-a906aef18c6b</td>\n",
       "      <td>0.80</td>\n",
       "    </tr>\n",
       "    <tr>\n",
       "      <th>2</th>\n",
       "      <td>6e5ba1b4-d44b-483e-a433-a14aa2e06482</td>\n",
       "      <td>link</td>\n",
       "      <td>foo</td>\n",
       "      <td>1</td>\n",
       "      <td>b7b72197-c2ec-43e3-aa15-232eafb45d83</td>\n",
       "      <td>3eda53ac-f501-4f47-afa2-79b7762effff</td>\n",
       "      <td>0.99</td>\n",
       "    </tr>\n",
       "  </tbody>\n",
       "</table>\n",
       "</div>"
      ],
      "text/plain": [
       "                                   uuid link_type model  source  \\\n",
       "0  623adca9-1dd2-4db7-8b99-26d842b8a27d      link   foo       1   \n",
       "1  93b7ffe9-01a8-4321-b0f0-e25fcd46ad37      link   foo       1   \n",
       "2  6e5ba1b4-d44b-483e-a433-a14aa2e06482      link   foo       1   \n",
       "\n",
       "                                cluster                                    id  \\\n",
       "0  8229d1b6-5486-4dd5-ae92-d9ae3be9d7fc  aec1148c-39ee-4d6e-a7a5-ebfe36b7104f   \n",
       "1  3e5a0820-6736-4da5-afa7-488f86500759  f93f530b-cdee-47d7-bb6b-a906aef18c6b   \n",
       "2  b7b72197-c2ec-43e3-aa15-232eafb45d83  3eda53ac-f501-4f47-afa2-79b7762effff   \n",
       "\n",
       "   probability  \n",
       "0         0.10  \n",
       "1         0.80  \n",
       "2         0.99  "
      ]
     },
     "execution_count": 39,
     "metadata": {},
     "output_type": "execute_result"
    }
   ],
   "source": [
    "prob.db_table.read()"
   ]
  },
  {
   "cell_type": "code",
   "execution_count": null,
   "id": "97bb69f1-f55d-4a44-b496-a776a4a2d9ea",
   "metadata": {},
   "outputs": [],
   "source": []
  }
 ],
 "metadata": {
  "kernelspec": {
   "display_name": "company_matching",
   "language": "python",
   "name": "company_matching"
  },
  "language_info": {
   "codemirror_mode": {
    "name": "ipython",
    "version": 3
   },
   "file_extension": ".py",
   "mimetype": "text/x-python",
   "name": "python",
   "nbconvert_exporter": "python",
   "pygments_lexer": "ipython3",
   "version": "3.9.16"
  }
 },
 "nbformat": 4,
 "nbformat_minor": 5
}
