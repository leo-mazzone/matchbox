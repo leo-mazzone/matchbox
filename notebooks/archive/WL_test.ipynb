{
 "cells": [
  {
   "cell_type": "code",
   "execution_count": 1,
   "id": "1ffbb76a-c43b-4e5b-ac68-96973a97d8dd",
   "metadata": {},
   "outputs": [],
   "source": [
    "%load_ext autoreload\n",
    "%autoreload 2\n",
    "from IPython.core.interactiveshell import InteractiveShell\n",
    "InteractiveShell.ast_node_interactivity = \"all\""
   ]
  },
  {
   "cell_type": "code",
   "execution_count": 34,
   "id": "89c523bf-d97a-48d7-9444-133d385cff8a",
   "metadata": {},
   "outputs": [
    {
     "data": {
      "text/plain": [
       "True"
      ]
     },
     "execution_count": 34,
     "metadata": {},
     "output_type": "execute_result"
    },
    {
     "data": {
      "text/html": [
       "<div>\n",
       "<style scoped>\n",
       "    .dataframe tbody tr th:only-of-type {\n",
       "        vertical-align: middle;\n",
       "    }\n",
       "\n",
       "    .dataframe tbody tr th {\n",
       "        vertical-align: top;\n",
       "    }\n",
       "\n",
       "    .dataframe thead th {\n",
       "        text-align: right;\n",
       "    }\n",
       "</style>\n",
       "<table border=\"1\" class=\"dataframe\">\n",
       "  <thead>\n",
       "    <tr style=\"text-align: right;\">\n",
       "      <th></th>\n",
       "      <th>irrational</th>\n",
       "      <th>rounded</th>\n",
       "    </tr>\n",
       "  </thead>\n",
       "  <tbody>\n",
       "    <tr>\n",
       "      <th>0</th>\n",
       "      <td>pi</td>\n",
       "      <td>3.14</td>\n",
       "    </tr>\n",
       "    <tr>\n",
       "      <th>1</th>\n",
       "      <td>e</td>\n",
       "      <td>2.72</td>\n",
       "    </tr>\n",
       "    <tr>\n",
       "      <th>2</th>\n",
       "      <td>phi</td>\n",
       "      <td>1.62</td>\n",
       "    </tr>\n",
       "  </tbody>\n",
       "</table>\n",
       "</div>"
      ],
      "text/plain": [
       "  irrational  rounded\n",
       "0         pi     3.14\n",
       "1          e     2.72\n",
       "2        phi     1.62"
      ]
     },
     "execution_count": 34,
     "metadata": {},
     "output_type": "execute_result"
    }
   ],
   "source": [
    "from cmf.clean import cleaning_function\n",
    "from cmf.clean import steps\n",
    "from cmf.data import utils as du\n",
    "from cmf.data import Table\n",
    "from cmf import make_cmf_connection\n",
    "\n",
    "from dotenv import load_dotenv, find_dotenv\n",
    "import os\n",
    "import duckdb\n",
    "\n",
    "load_dotenv(find_dotenv())\n",
    "\n",
    "cmf_conn = make_cmf_connection()\n",
    "\n",
    "df = du.generate_dummy_df()\n",
    "\n",
    "df"
   ]
  },
  {
   "cell_type": "code",
   "execution_count": 9,
   "id": "5210506b-ecb8-49d0-ad8d-ead62aafa056",
   "metadata": {},
   "outputs": [],
   "source": [
    "def to_upper(column: str) -> str:\n",
    "    \"\"\"\n",
    "    All characters to uppercase\n",
    "    \"\"\"\n",
    "    return f\"upper({column})\"\n",
    "\n",
    "logger = logging.getLogger(__name__)\n",
    "\n",
    "logger.info(\n",
    "    \"Creating probabilities table \"\n",
    "    \"test\"\n",
    ")"
   ]
  },
  {
   "cell_type": "code",
   "execution_count": 31,
   "id": "a90750e3-345c-4478-a51e-595ae8b7fbd3",
   "metadata": {},
   "outputs": [
    {
     "data": {
      "text/plain": [
       "['uuid', 'id', 'cluster', 'source', 'n']"
      ]
     },
     "execution_count": 31,
     "metadata": {},
     "output_type": "execute_result"
    }
   ],
   "source": [
    "clusters._db_expected_fields"
   ]
  },
  {
   "cell_type": "code",
   "execution_count": 7,
   "id": "37f7a47f-332a-488d-ace8-43fad6dfbe09",
   "metadata": {},
   "outputs": [
    {
     "data": {
      "text/plain": [
       "True"
      ]
     },
     "execution_count": 7,
     "metadata": {},
     "output_type": "execute_result"
    },
    {
     "data": {
      "text/plain": [
       "True"
      ]
     },
     "execution_count": 7,
     "metadata": {},
     "output_type": "execute_result"
    },
    {
     "data": {
      "text/plain": [
       "False"
      ]
     },
     "execution_count": 7,
     "metadata": {},
     "output_type": "execute_result"
    }
   ],
   "source": [
    "x = set([\"id\", \"uuid\", \"name\"])\n",
    "y = set([\"id\", \"uuid\", \"name\"])\n",
    "z = set([\"id\"])\n",
    "a = set([\"id\", \"foo\"])\n",
    "\n",
    "y <= x\n",
    "z <= x\n",
    "a <= x"
   ]
  },
  {
   "cell_type": "code",
   "execution_count": 5,
   "id": "36640c10-945c-47f2-9c61-cc15102a4dec",
   "metadata": {},
   "outputs": [
    {
     "data": {
      "text/plain": [
       "2"
      ]
     },
     "execution_count": 5,
     "metadata": {},
     "output_type": "execute_result"
    },
    {
     "data": {
      "text/plain": [
       "1"
      ]
     },
     "execution_count": 5,
     "metadata": {},
     "output_type": "execute_result"
    },
    {
     "name": "stdout",
     "output_type": "stream",
     "text": [
      "foo\n",
      "bar\n",
      "baz\n",
      "quz\n"
     ]
    }
   ],
   "source": [
    "x = {\"foo\": \"bar\", \"baz\": \"quz\"}\n",
    "y = {\"foo\": \"bar\"}\n",
    "len(x)\n",
    "len(y)\n",
    "for i, j in x.items():\n",
    "    print(i)\n",
    "    print(j)"
   ]
  },
  {
   "cell_type": "code",
   "execution_count": 8,
   "id": "dd50c37a-6d61-4edf-a6be-29a8d472d7aa",
   "metadata": {},
   "outputs": [
    {
     "data": {
      "text/plain": [
       "'l'"
      ]
     },
     "execution_count": 8,
     "metadata": {},
     "output_type": "execute_result"
    },
    {
     "data": {
      "text/plain": [
       "'m'"
      ]
     },
     "execution_count": 8,
     "metadata": {},
     "output_type": "execute_result"
    }
   ],
   "source": [
    "from pydantic import BaseModel\n",
    "\n",
    "class Test(BaseModel):\n",
    "    x: str\n",
    "    y: str\n",
    "\n",
    "    @classmethod\n",
    "    def make_test(cls, foo: str) -> \"Test\":\n",
    "        return cls(\n",
    "            x=foo[0],\n",
    "            y=foo[-1]\n",
    "        )\n",
    "\n",
    "test = Test.make_test(foo=\"lorem\")\n",
    "test.x\n",
    "test.y"
   ]
  },
  {
   "cell_type": "code",
   "execution_count": 15,
   "id": "8f5f487a-4027-4bbf-b36a-bd9207f17284",
   "metadata": {},
   "outputs": [
    {
     "data": {
      "text/plain": [
       "'foo'"
      ]
     },
     "execution_count": 15,
     "metadata": {},
     "output_type": "execute_result"
    },
    {
     "data": {
      "text/plain": [
       "'bar'"
      ]
     },
     "execution_count": 15,
     "metadata": {},
     "output_type": "execute_result"
    }
   ],
   "source": [
    "p, q = tuple(y.items())[0]\n",
    "p\n",
    "q"
   ]
  },
  {
   "cell_type": "code",
   "execution_count": 26,
   "id": "1b15ee7f-1897-4a8e-b3cf-d6a40665d653",
   "metadata": {},
   "outputs": [
    {
     "data": {
      "text/plain": [
       "{'comparisons': [{'comparison': 'company_name = company_name'},\n",
       "  {'comparison': 'data_hub_id = data_hub_id'}]}"
      ]
     },
     "execution_count": 26,
     "metadata": {},
     "output_type": "execute_result"
    }
   ],
   "source": [
    "from cmf.helpers import comparison, comparisons\n",
    "from icecream import ic\n",
    "\n",
    "comparison_name = comparison(sql_condition=\"company_name = company_name\")\n",
    "comparison_id = comparison(sql_condition=\"data_hub_id = data_hub_id\")\n",
    "comparison_name_id = comparisons(comparison_name, comparison_id)\n",
    "\n",
    "comparison_name_id"
   ]
  },
  {
   "cell_type": "code",
   "execution_count": 19,
   "id": "65285193-4992-4211-a08e-1a441281b46f",
   "metadata": {},
   "outputs": [],
   "source": [
    "from cmf import query, process\n",
    "from cmf.helpers import selector, cleaner, cleaners\n",
    "from cmf.clean import company_name, company_number\n",
    "\n",
    "select_ch = selector(\n",
    "    table=\"companieshouse.companies\", fields=[\"company_number\", \"company_name\"]\n",
    ")\n",
    "ch_sample = query(select=select_ch, sample=0.05)\n",
    "\n",
    "cleaner_name = cleaner(function=company_name, arguments={\"column\": \"company_name\"})\n",
    "cleaner_number = cleaner(\n",
    "    function=company_number, arguments={\"column\": \"company_number\"}\n",
    ")\n",
    "cleaner_name_number = cleaners(cleaner_name, cleaner_number)\n",
    "\n",
    "ch_sample_cleaned = process(data=ch_sample, pipeline=cleaner_name_number)"
   ]
  },
  {
   "cell_type": "code",
   "execution_count": 5,
   "id": "7baa10eb-4728-42ad-b474-cad6c6116ebb",
   "metadata": {},
   "outputs": [],
   "source": [
    "from cmf import query, process, make_deduper\n",
    "from cmf.dedupers import Naive\n",
    "from cmf.helpers import selector, cleaner, cleaners\n",
    "from cmf.clean import company_name, postcode_to_area\n",
    "\n",
    "# Select\n",
    "select_exp = selector(\n",
    "    table=\"hmrc.trade__exporters\", \n",
    "    fields=[\"id\", \"company_name\", \"postcode\"]\n",
    ")\n",
    "exp_sample = query(select=select_exp, sample=0.05)\n",
    "\n",
    "# Clean\n",
    "cleaner_name = cleaner(function=company_name, arguments={\"column\": \"company_name\"})\n",
    "cleaner_pc = cleaner(\n",
    "    function=postcode_to_area, arguments={\"column\": \"postcode\"}\n",
    ")\n",
    "cleaner_name_pc = cleaners(cleaner_name, cleaner_pc)\n",
    "\n",
    "exp_sample_cleaned = process(data=exp_sample, pipeline=cleaner_name_pc)"
   ]
  },
  {
   "cell_type": "code",
   "execution_count": 6,
   "id": "94a65c04-b359-4500-8c9d-fee566a1f226",
   "metadata": {},
   "outputs": [
    {
     "data": {
      "text/html": [
       "<div>\n",
       "<style scoped>\n",
       "    .dataframe tbody tr th:only-of-type {\n",
       "        vertical-align: middle;\n",
       "    }\n",
       "\n",
       "    .dataframe tbody tr th {\n",
       "        vertical-align: top;\n",
       "    }\n",
       "\n",
       "    .dataframe thead th {\n",
       "        text-align: right;\n",
       "    }\n",
       "</style>\n",
       "<table border=\"1\" class=\"dataframe\">\n",
       "  <thead>\n",
       "    <tr style=\"text-align: right;\">\n",
       "      <th></th>\n",
       "      <th>id</th>\n",
       "      <th>company_name</th>\n",
       "      <th>postcode</th>\n",
       "    </tr>\n",
       "  </thead>\n",
       "  <tbody>\n",
       "    <tr>\n",
       "      <th>0</th>\n",
       "      <td>47248</td>\n",
       "      <td>burgess furniture</td>\n",
       "      <td>TW</td>\n",
       "    </tr>\n",
       "    <tr>\n",
       "      <th>1</th>\n",
       "      <td>47249</td>\n",
       "      <td>hapton valley commercials</td>\n",
       "      <td>BB</td>\n",
       "    </tr>\n",
       "    <tr>\n",
       "      <th>2</th>\n",
       "      <td>47250</td>\n",
       "      <td>discovery yachts</td>\n",
       "      <td>SO</td>\n",
       "    </tr>\n",
       "    <tr>\n",
       "      <th>3</th>\n",
       "      <td>47251</td>\n",
       "      <td>holroyd precision</td>\n",
       "      <td>OL</td>\n",
       "    </tr>\n",
       "    <tr>\n",
       "      <th>4</th>\n",
       "      <td>47252</td>\n",
       "      <td>h g hannant</td>\n",
       "      <td>NR</td>\n",
       "    </tr>\n",
       "    <tr>\n",
       "      <th>...</th>\n",
       "      <td>...</td>\n",
       "      <td>...</td>\n",
       "      <td>...</td>\n",
       "    </tr>\n",
       "    <tr>\n",
       "      <th>2235</th>\n",
       "      <td>3563933</td>\n",
       "      <td>delapena honing equipment</td>\n",
       "      <td>GL</td>\n",
       "    </tr>\n",
       "    <tr>\n",
       "      <th>2236</th>\n",
       "      <td>3563934</td>\n",
       "      <td>i koncepts</td>\n",
       "      <td>BH</td>\n",
       "    </tr>\n",
       "    <tr>\n",
       "      <th>2237</th>\n",
       "      <td>3563935</td>\n",
       "      <td>fairfax saddles</td>\n",
       "      <td>WS</td>\n",
       "    </tr>\n",
       "    <tr>\n",
       "      <th>2238</th>\n",
       "      <td>3563936</td>\n",
       "      <td>triark pumps</td>\n",
       "      <td>CM</td>\n",
       "    </tr>\n",
       "    <tr>\n",
       "      <th>2239</th>\n",
       "      <td>3563937</td>\n",
       "      <td>august race worldwide</td>\n",
       "      <td>TQ</td>\n",
       "    </tr>\n",
       "  </tbody>\n",
       "</table>\n",
       "<p>2240 rows × 3 columns</p>\n",
       "</div>"
      ],
      "text/plain": [
       "           id               company_name postcode\n",
       "0       47248          burgess furniture       TW\n",
       "1       47249  hapton valley commercials       BB\n",
       "2       47250           discovery yachts       SO\n",
       "3       47251          holroyd precision       OL\n",
       "4       47252                h g hannant       NR\n",
       "...       ...                        ...      ...\n",
       "2235  3563933  delapena honing equipment       GL\n",
       "2236  3563934                 i koncepts       BH\n",
       "2237  3563935            fairfax saddles       WS\n",
       "2238  3563936               triark pumps       CM\n",
       "2239  3563937      august race worldwide       TQ\n",
       "\n",
       "[2240 rows x 3 columns]"
      ]
     },
     "execution_count": 6,
     "metadata": {},
     "output_type": "execute_result"
    }
   ],
   "source": [
    "exp_sample_cleaned"
   ]
  },
  {
   "cell_type": "code",
   "execution_count": 71,
   "id": "fd99fcef-354a-4b3b-85c2-b869d7286d51",
   "metadata": {},
   "outputs": [],
   "source": [
    "from cmf.data import utils as du\n",
    "\n",
    "du.query_nonreturn(\"\"\"\n",
    "    drop table if exists _user_eaf4fd9a.cm_probabilities;\n",
    "\"\"\")"
   ]
  },
  {
   "cell_type": "code",
   "execution_count": 68,
   "id": "6008f784-4a1e-4834-9dcf-34de411c909b",
   "metadata": {},
   "outputs": [
    {
     "data": {
      "text/plain": [
       "┌───────────┬───────────┬─────────────┐\n",
       "│ target_id │ source_id │ probability │\n",
       "│  varchar  │  varchar  │    int32    │\n",
       "├───────────┼───────────┼─────────────┤\n",
       "│ 400720    │ 3215046   │           1 │\n",
       "│ 439303    │ 3481079   │           1 │\n",
       "│ 439306    │ 3481080   │           1 │\n",
       "│ 439310    │ 3481082   │           1 │\n",
       "│ 439316    │ 3481103   │           1 │\n",
       "│ 1276365   │ 3509884   │           1 │\n",
       "│ 1276366   │ 3509887   │           1 │\n",
       "│ 1276371   │ 3509896   │           1 │\n",
       "│ 1276374   │ 3509902   │           1 │\n",
       "│ 1276375   │ 3509903   │           1 │\n",
       "│ 1382468   │ 1635734   │           1 │\n",
       "│ 1635734   │ 1382468   │           1 │\n",
       "│ 3215046   │ 400720    │           1 │\n",
       "│ 3481079   │ 439303    │           1 │\n",
       "│ 3481080   │ 439306    │           1 │\n",
       "│ 3481082   │ 439310    │           1 │\n",
       "│ 3481103   │ 439316    │           1 │\n",
       "│ 3509884   │ 1276365   │           1 │\n",
       "│ 3509887   │ 1276366   │           1 │\n",
       "│ 3509896   │ 1276371   │           1 │\n",
       "│ 3509902   │ 1276374   │           1 │\n",
       "│ 3509903   │ 1276375   │           1 │\n",
       "├───────────┴───────────┴─────────────┤\n",
       "│ 22 rows                   3 columns │\n",
       "└─────────────────────────────────────┘"
      ]
     },
     "execution_count": 68,
     "metadata": {},
     "output_type": "execute_result"
    }
   ],
   "source": [
    "import duckdb\n",
    "\n",
    "id = \"id\"\n",
    "unique_fields = [\"company_name\", \"postcode\"]\n",
    "join_clause = []\n",
    "for field in unique_fields:\n",
    "    join_clause.append(f\"l.{field} = r.{field}\")\n",
    "join_clause_compiled = \" and \".join(join_clause)\n",
    "\n",
    "duckdb.sql(\n",
    "    f\"\"\"\n",
    "    select \n",
    "        l.{id}::text as target_id,\n",
    "        r.{id}::text as source_id,\n",
    "        1 as probability\n",
    "    from\n",
    "        exp_sample_cleaned l\n",
    "    inner join exp_sample_cleaned r on\n",
    "        (\n",
    "            {join_clause_compiled}\n",
    "        ) and\n",
    "            l.{id} != r.{id}\n",
    "\"\"\"\n",
    ")"
   ]
  },
  {
   "cell_type": "code",
   "execution_count": 46,
   "id": "623ebf1b-9341-49ad-b61e-c2b24513d63f",
   "metadata": {},
   "outputs": [
    {
     "data": {
      "text/plain": [
       "┌──────────────────────────────────────┬─────────┬─────────┬─────────────┐\n",
       "│               cluster                │  l_id   │  r_id   │ probability │\n",
       "│                 uuid                 │  int64  │  int64  │    int32    │\n",
       "├──────────────────────────────────────┼─────────┼─────────┼─────────────┤\n",
       "│ 228ae7c0-ac37-41dd-bcdd-d57523ad753b │  400720 │ 3215046 │           1 │\n",
       "│ b97d14ba-4290-4126-8f4a-10b7b9b753e0 │  439303 │ 3481079 │           1 │\n",
       "│ 0c70853a-4899-44ac-b38d-a2bf7e7e6083 │  439306 │ 3481080 │           1 │\n",
       "│ b675452f-4caf-4dbd-9692-09d0a13aaf97 │  439310 │ 3481082 │           1 │\n",
       "│ 320b09f4-80a6-4b85-9005-e10c05894e71 │  439316 │ 3481103 │           1 │\n",
       "│ b58ba5cc-71f5-4bf8-a1cb-24eeef1a3c9d │ 1276365 │ 3509884 │           1 │\n",
       "│ 2cddfb7f-27dd-47f9-8d39-c4fc47917d39 │ 1276366 │ 3509887 │           1 │\n",
       "│ d4d2d180-c73d-4d79-acb2-b196bc58f9db │ 1276371 │ 3509896 │           1 │\n",
       "│ ac66276d-a6de-4b80-b37e-193d02b91b9a │ 1276374 │ 3509902 │           1 │\n",
       "│ e4ae51d2-4adb-4cc5-b03c-dee07b5da1d3 │ 1276375 │ 3509903 │           1 │\n",
       "│ 898d7756-6974-45f8-823c-b4720c23cd5b │ 1382468 │ 1635734 │           1 │\n",
       "│ a538e341-e0c9-488e-8193-8592c36c43ae │ 1635734 │ 1382468 │           1 │\n",
       "│ 84516757-f372-423b-9499-6fddf44c2bf5 │ 3215046 │  400720 │           1 │\n",
       "│ a371e5b7-97c3-4761-b262-4f5b1fb778a5 │ 3481079 │  439303 │           1 │\n",
       "│ 9f447d65-cd81-4bbd-87d4-29e47ae5a850 │ 3481080 │  439306 │           1 │\n",
       "│ f72f7801-c05b-47a2-a0df-2a10c8676b62 │ 3481082 │  439310 │           1 │\n",
       "│ 08098dd9-245e-45aa-a3d4-b01d717e5eb3 │ 3481103 │  439316 │           1 │\n",
       "│ 02e1d91c-5277-4703-bf5f-5fd0457dee3b │ 3509884 │ 1276365 │           1 │\n",
       "│ e04efdd0-12bc-45d0-bc07-9c17f4146034 │ 3509887 │ 1276366 │           1 │\n",
       "│ 2f4de701-c796-46a2-b574-041bb21d9d90 │ 3509896 │ 1276371 │           1 │\n",
       "│ cea6acdc-2a77-4a17-bc75-d1e34362edc8 │ 3509902 │ 1276374 │           1 │\n",
       "│ 34888a41-de0e-4151-ab6a-a57b69711e9e │ 3509903 │ 1276375 │           1 │\n",
       "├──────────────────────────────────────┴─────────┴─────────┴─────────────┤\n",
       "│ 22 rows                                                      4 columns │\n",
       "└────────────────────────────────────────────────────────────────────────┘"
      ]
     },
     "execution_count": 46,
     "metadata": {},
     "output_type": "execute_result"
    }
   ],
   "source": [
    "matched"
   ]
  },
  {
   "cell_type": "code",
   "execution_count": 57,
   "id": "0d12ba65-65cd-4c7b-b6b5-2ab3dab53d0b",
   "metadata": {},
   "outputs": [
    {
     "data": {
      "text/plain": [
       "┌──────────────────────────────────────┬─────────┬─────────────┐\n",
       "│               cluster                │   id    │ probability │\n",
       "│                 uuid                 │  int64  │    int32    │\n",
       "├──────────────────────────────────────┼─────────┼─────────────┤\n",
       "│ bd317632-4db6-40d7-9aff-6534a52a9781 │ 3215046 │           1 │\n",
       "│ 8d7055f5-c76b-41bc-8570-33a5b445f56e │  400720 │           1 │\n",
       "│ 2a6ce040-2860-4893-9f36-6bffcbaecf28 │ 3215046 │           1 │\n",
       "│ a1a026d2-c698-45ec-ad6e-893c6d811328 │  400720 │           1 │\n",
       "└──────────────────────────────────────┴─────────┴─────────────┘"
      ]
     },
     "execution_count": 57,
     "metadata": {},
     "output_type": "execute_result"
    }
   ],
   "source": [
    "# matched\n",
    "duckdb.sql(\"\"\"\n",
    "    select \n",
    "        * \n",
    "    from \n",
    "        stacked \n",
    "    where \n",
    "        cluster = '228ae7c0-ac37-41dd-bcdd-d57523ad753b'::uuid\n",
    "        or id in (400720, 3215046)\n",
    "\"\"\")"
   ]
  },
  {
   "cell_type": "code",
   "execution_count": 10,
   "id": "e03c8af4-16ee-4407-ad36-bf6b99c24ff8",
   "metadata": {},
   "outputs": [
    {
     "data": {
      "text/plain": [
       "┌─────────┬──────────────────────────────┬──────────┐\n",
       "│   id    │         company_name         │ postcode │\n",
       "│  int64  │           varchar            │ varchar  │\n",
       "├─────────┼──────────────────────────────┼──────────┤\n",
       "│ 2230549 │ 01direct                     │ NW       │\n",
       "│  600690 │ 2028 w                       │ S        │\n",
       "│ 3348100 │ 222 sports                   │ BA       │\n",
       "│ 2585664 │ 3 arrows recycling solutions │ DA       │\n",
       "│ 3481086 │ 313 pharma                   │ B        │\n",
       "│  795796 │ 365 itms                     │ RG       │\n",
       "│  330630 │ 4d modelshop                 │ E        │\n",
       "│   71869 │ 4px fulfillment              │ UB       │\n",
       "│  860104 │ 4sight imaging               │ BL       │\n",
       "│  757287 │ a a k butterworth            │ BD       │\n",
       "│     ·   │  ·                           │ ·        │\n",
       "│     ·   │  ·                           │ ·        │\n",
       "│     ·   │  ·                           │ ·        │\n",
       "│ 2069120 │ yuzu                         │ SE       │\n",
       "│ 2300862 │ zellis holdings              │ BS       │\n",
       "│ 2084312 │ zeotek                       │ CA       │\n",
       "│  162987 │ zinch designs                │ BH       │\n",
       "│  693239 │ ziztel                       │ NG       │\n",
       "│  279744 │ zodiac interconnect          │ SL       │\n",
       "│ 1660782 │ zodiac london                │ HA       │\n",
       "│  448605 │ zok                          │ GU       │\n",
       "│ 2069112 │ zoltan csaba trenovszki      │ BN       │\n",
       "│ 1276358 │ NULL                         │ NE       │\n",
       "├─────────┴──────────────────────────────┴──────────┤\n",
       "│ 1855 rows (20 shown)                    3 columns │\n",
       "└───────────────────────────────────────────────────┘"
      ]
     },
     "execution_count": 10,
     "metadata": {},
     "output_type": "execute_result"
    }
   ],
   "source": [
    "duckdb.sql(\n",
    "    f\"\"\"\n",
    "    select distinct on ({unique_fields})\n",
    "        {id},\n",
    "        {unique_fields}\n",
    "    from\n",
    "        exp_sample_cleaned\n",
    "    order by\n",
    "        {unique_fields};\n",
    "\"\"\"\n",
    ")"
   ]
  },
  {
   "cell_type": "code",
   "execution_count": 25,
   "id": "08612d5b-88e9-4a0c-b409-6845dc3b24a0",
   "metadata": {},
   "outputs": [],
   "source": [
    "exp_naive_deduper = make_deduper(\n",
    "    dedupe_run_name=\"basic_hmrc_exp\",\n",
    "    description=\"\"\"\n",
    "        Clean company name, extract postcode area\n",
    "    \"\"\",\n",
    "    deduper=Naive,\n",
    "    data=exp_sample_cleaned,\n",
    "    data_source='hmrc.trade__exporters',\n",
    "    dedupe_settings={\n",
    "        \"id\": \"id\",\n",
    "        \"unique_fields\": [\n",
    "            \"company_name\",\n",
    "            \"postcode\"\n",
    "        ]\n",
    "    }\n",
    ")\n",
    "\n",
    "exp_deduped = exp_naive_deduper()"
   ]
  },
  {
   "cell_type": "code",
   "execution_count": 30,
   "id": "2d9c01ad-102b-4cf2-9a69-c4228fb14dfc",
   "metadata": {},
   "outputs": [],
   "source": [
    "exp_deduped.to_cmf(\n",
    "    cmf_conn=cmf_conn,\n",
    "    overwrite=True\n",
    ")"
   ]
  },
  {
   "cell_type": "code",
   "execution_count": 46,
   "id": "440dfedb-bfaf-4eef-b589-7ee9aab02f96",
   "metadata": {},
   "outputs": [
    {
     "ename": "ProgrammingError",
     "evalue": "(psycopg2.errors.UndefinedFunction) operator does not exist: text = integer\nLINE 6:             where target_id = 62114;\n                                    ^\nHINT:  No operator matches the given name and argument type(s). You might need to add explicit type casts.\n\n[SQL: \n            select\n                *\n            from\n                _user_eaf4fd9a.cm_probabilities \n            where target_id = 62114;\n        ]\n(Background on this error at: https://sqlalche.me/e/14/f405)",
     "output_type": "error",
     "traceback": [
      "\u001b[0;31m---------------------------------------------------------------------------\u001b[0m",
      "\u001b[0;31mUndefinedFunction\u001b[0m                         Traceback (most recent call last)",
      "File \u001b[0;32m/opt/conda/envs/company_matching/lib/python3.9/site-packages/sqlalchemy/engine/base.py:1905\u001b[0m, in \u001b[0;36mConnection._execute_context\u001b[0;34m(self, dialect, constructor, statement, parameters, execution_options, *args, **kw)\u001b[0m\n\u001b[1;32m   1904\u001b[0m     \u001b[38;5;28;01mif\u001b[39;00m \u001b[38;5;129;01mnot\u001b[39;00m evt_handled:\n\u001b[0;32m-> 1905\u001b[0m         \u001b[38;5;28;43mself\u001b[39;49m\u001b[38;5;241;43m.\u001b[39;49m\u001b[43mdialect\u001b[49m\u001b[38;5;241;43m.\u001b[39;49m\u001b[43mdo_execute\u001b[49m\u001b[43m(\u001b[49m\n\u001b[1;32m   1906\u001b[0m \u001b[43m            \u001b[49m\u001b[43mcursor\u001b[49m\u001b[43m,\u001b[49m\u001b[43m \u001b[49m\u001b[43mstatement\u001b[49m\u001b[43m,\u001b[49m\u001b[43m \u001b[49m\u001b[43mparameters\u001b[49m\u001b[43m,\u001b[49m\u001b[43m \u001b[49m\u001b[43mcontext\u001b[49m\n\u001b[1;32m   1907\u001b[0m \u001b[43m        \u001b[49m\u001b[43m)\u001b[49m\n\u001b[1;32m   1909\u001b[0m \u001b[38;5;28;01mif\u001b[39;00m \u001b[38;5;28mself\u001b[39m\u001b[38;5;241m.\u001b[39m_has_events \u001b[38;5;129;01mor\u001b[39;00m \u001b[38;5;28mself\u001b[39m\u001b[38;5;241m.\u001b[39mengine\u001b[38;5;241m.\u001b[39m_has_events:\n",
      "File \u001b[0;32m/opt/conda/envs/company_matching/lib/python3.9/site-packages/sqlalchemy/engine/default.py:736\u001b[0m, in \u001b[0;36mDefaultDialect.do_execute\u001b[0;34m(self, cursor, statement, parameters, context)\u001b[0m\n\u001b[1;32m    735\u001b[0m \u001b[38;5;28;01mdef\u001b[39;00m \u001b[38;5;21mdo_execute\u001b[39m(\u001b[38;5;28mself\u001b[39m, cursor, statement, parameters, context\u001b[38;5;241m=\u001b[39m\u001b[38;5;28;01mNone\u001b[39;00m):\n\u001b[0;32m--> 736\u001b[0m     \u001b[43mcursor\u001b[49m\u001b[38;5;241;43m.\u001b[39;49m\u001b[43mexecute\u001b[49m\u001b[43m(\u001b[49m\u001b[43mstatement\u001b[49m\u001b[43m,\u001b[49m\u001b[43m \u001b[49m\u001b[43mparameters\u001b[49m\u001b[43m)\u001b[49m\n",
      "\u001b[0;31mUndefinedFunction\u001b[0m: operator does not exist: text = integer\nLINE 6:             where target_id = 62114;\n                                    ^\nHINT:  No operator matches the given name and argument type(s). You might need to add explicit type casts.\n",
      "\nThe above exception was the direct cause of the following exception:\n",
      "\u001b[0;31mProgrammingError\u001b[0m                          Traceback (most recent call last)",
      "Cell \u001b[0;32mIn[46], line 1\u001b[0m\n\u001b[0;32m----> 1\u001b[0m \u001b[43mcmf_conn\u001b[49m\u001b[38;5;241;43m.\u001b[39;49m\u001b[43mprobabilities\u001b[49m\u001b[38;5;241;43m.\u001b[39;49m\u001b[43mdb_table\u001b[49m\u001b[38;5;241;43m.\u001b[39;49m\u001b[43mread\u001b[49m\u001b[43m(\u001b[49m\u001b[43mwhere\u001b[49m\u001b[38;5;241;43m=\u001b[39;49m\u001b[38;5;124;43m\"\u001b[39;49m\u001b[38;5;124;43mtarget_id = 62114\u001b[39;49m\u001b[38;5;124;43m\"\u001b[39;49m\u001b[43m)\u001b[49m\n",
      "File \u001b[0;32m~/company-matching/cmf/data/table.py:112\u001b[0m, in \u001b[0;36mTable.read\u001b[0;34m(self, select, where, sample)\u001b[0m\n\u001b[1;32m    109\u001b[0m \u001b[38;5;28;01melse\u001b[39;00m:\n\u001b[1;32m    110\u001b[0m     where \u001b[38;5;241m=\u001b[39m \u001b[38;5;124m\"\u001b[39m\u001b[38;5;124m\"\u001b[39m\n\u001b[0;32m--> 112\u001b[0m \u001b[38;5;28;01mreturn\u001b[39;00m \u001b[43mdu\u001b[49m\u001b[38;5;241;43m.\u001b[39;49m\u001b[43mquery\u001b[49m\u001b[43m(\u001b[49m\n\u001b[1;32m    113\u001b[0m \u001b[43m    \u001b[49m\u001b[38;5;124;43mf\u001b[39;49m\u001b[38;5;124;43m\"\"\"\u001b[39;49m\n\u001b[1;32m    114\u001b[0m \u001b[38;5;124;43m    select\u001b[39;49m\n\u001b[1;32m    115\u001b[0m \u001b[38;5;124;43m        \u001b[39;49m\u001b[38;5;132;43;01m{\u001b[39;49;00m\u001b[43mfields\u001b[49m\u001b[38;5;132;43;01m}\u001b[39;49;00m\n\u001b[1;32m    116\u001b[0m \u001b[38;5;124;43m    from\u001b[39;49m\n\u001b[1;32m    117\u001b[0m \u001b[38;5;124;43m        \u001b[39;49m\u001b[38;5;132;43;01m{\u001b[39;49;00m\u001b[38;5;28;43mself\u001b[39;49m\u001b[38;5;241;43m.\u001b[39;49m\u001b[43mdb_schema_table\u001b[49m\u001b[38;5;132;43;01m}\u001b[39;49;00m\u001b[38;5;124;43m \u001b[39;49m\u001b[38;5;132;43;01m{\u001b[39;49;00m\u001b[43msample_clause\u001b[49m\u001b[38;5;132;43;01m}\u001b[39;49;00m\n\u001b[1;32m    118\u001b[0m \u001b[38;5;124;43m    \u001b[39;49m\u001b[38;5;132;43;01m{\u001b[39;49;00m\u001b[43mwhere\u001b[49m\u001b[38;5;132;43;01m}\u001b[39;49;00m\u001b[38;5;124;43m;\u001b[39;49m\n\u001b[1;32m    119\u001b[0m \u001b[38;5;124;43m\u001b[39;49m\u001b[38;5;124;43m\"\"\"\u001b[39;49m\n\u001b[1;32m    120\u001b[0m \u001b[43m\u001b[49m\u001b[43m)\u001b[49m\n",
      "File \u001b[0;32m~/company-matching/cmf/data/utils.py:40\u001b[0m, in \u001b[0;36mquery\u001b[0;34m(sql, params, **kwargs)\u001b[0m\n\u001b[1;32m     27\u001b[0m \u001b[38;5;250m\u001b[39m\u001b[38;5;124;03m\"\"\"\u001b[39;00m\n\u001b[1;32m     28\u001b[0m \u001b[38;5;124;03mRead full results set from Data Workspace based on arbitrary query\u001b[39;00m\n\u001b[1;32m     29\u001b[0m \n\u001b[0;32m   (...)\u001b[0m\n\u001b[1;32m     36\u001b[0m \u001b[38;5;124;03m    df: pandas dataframe read from Data Workspace\u001b[39;00m\n\u001b[1;32m     37\u001b[0m \u001b[38;5;124;03m\"\"\"\u001b[39;00m\n\u001b[1;32m     39\u001b[0m \u001b[38;5;28;01mwith\u001b[39;00m sql_engine\u001b[38;5;241m.\u001b[39mconnect() \u001b[38;5;28;01mas\u001b[39;00m connection:\n\u001b[0;32m---> 40\u001b[0m     \u001b[38;5;28;01mreturn\u001b[39;00m \u001b[43mpd\u001b[49m\u001b[38;5;241;43m.\u001b[39;49m\u001b[43mread_sql\u001b[49m\u001b[43m(\u001b[49m\u001b[43msql_text\u001b[49m\u001b[43m(\u001b[49m\u001b[43msql\u001b[49m\u001b[43m)\u001b[49m\u001b[43m,\u001b[49m\u001b[43m \u001b[49m\u001b[43mconnection\u001b[49m\u001b[43m,\u001b[49m\u001b[43m \u001b[49m\u001b[43mparams\u001b[49m\u001b[38;5;241;43m=\u001b[39;49m\u001b[43mparams\u001b[49m\u001b[43m,\u001b[49m\u001b[43m \u001b[49m\u001b[38;5;241;43m*\u001b[39;49m\u001b[38;5;241;43m*\u001b[39;49m\u001b[43mkwargs\u001b[49m\u001b[43m)\u001b[49m\n",
      "File \u001b[0;32m/opt/conda/envs/company_matching/lib/python3.9/site-packages/pandas/io/sql.py:628\u001b[0m, in \u001b[0;36mread_sql\u001b[0;34m(sql, con, index_col, coerce_float, params, parse_dates, columns, chunksize)\u001b[0m\n\u001b[1;32m    619\u001b[0m     \u001b[38;5;28;01mreturn\u001b[39;00m pandas_sql\u001b[38;5;241m.\u001b[39mread_table(\n\u001b[1;32m    620\u001b[0m         sql,\n\u001b[1;32m    621\u001b[0m         index_col\u001b[38;5;241m=\u001b[39mindex_col,\n\u001b[0;32m   (...)\u001b[0m\n\u001b[1;32m    625\u001b[0m         chunksize\u001b[38;5;241m=\u001b[39mchunksize,\n\u001b[1;32m    626\u001b[0m     )\n\u001b[1;32m    627\u001b[0m \u001b[38;5;28;01melse\u001b[39;00m:\n\u001b[0;32m--> 628\u001b[0m     \u001b[38;5;28;01mreturn\u001b[39;00m \u001b[43mpandas_sql\u001b[49m\u001b[38;5;241;43m.\u001b[39;49m\u001b[43mread_query\u001b[49m\u001b[43m(\u001b[49m\n\u001b[1;32m    629\u001b[0m \u001b[43m        \u001b[49m\u001b[43msql\u001b[49m\u001b[43m,\u001b[49m\n\u001b[1;32m    630\u001b[0m \u001b[43m        \u001b[49m\u001b[43mindex_col\u001b[49m\u001b[38;5;241;43m=\u001b[39;49m\u001b[43mindex_col\u001b[49m\u001b[43m,\u001b[49m\n\u001b[1;32m    631\u001b[0m \u001b[43m        \u001b[49m\u001b[43mparams\u001b[49m\u001b[38;5;241;43m=\u001b[39;49m\u001b[43mparams\u001b[49m\u001b[43m,\u001b[49m\n\u001b[1;32m    632\u001b[0m \u001b[43m        \u001b[49m\u001b[43mcoerce_float\u001b[49m\u001b[38;5;241;43m=\u001b[39;49m\u001b[43mcoerce_float\u001b[49m\u001b[43m,\u001b[49m\n\u001b[1;32m    633\u001b[0m \u001b[43m        \u001b[49m\u001b[43mparse_dates\u001b[49m\u001b[38;5;241;43m=\u001b[39;49m\u001b[43mparse_dates\u001b[49m\u001b[43m,\u001b[49m\n\u001b[1;32m    634\u001b[0m \u001b[43m        \u001b[49m\u001b[43mchunksize\u001b[49m\u001b[38;5;241;43m=\u001b[39;49m\u001b[43mchunksize\u001b[49m\u001b[43m,\u001b[49m\n\u001b[1;32m    635\u001b[0m \u001b[43m    \u001b[49m\u001b[43m)\u001b[49m\n",
      "File \u001b[0;32m/opt/conda/envs/company_matching/lib/python3.9/site-packages/pandas/io/sql.py:1579\u001b[0m, in \u001b[0;36mSQLDatabase.read_query\u001b[0;34m(self, sql, index_col, coerce_float, parse_dates, params, chunksize, dtype)\u001b[0m\n\u001b[1;32m   1531\u001b[0m \u001b[38;5;250m\u001b[39m\u001b[38;5;124;03m\"\"\"\u001b[39;00m\n\u001b[1;32m   1532\u001b[0m \u001b[38;5;124;03mRead SQL query into a DataFrame.\u001b[39;00m\n\u001b[1;32m   1533\u001b[0m \n\u001b[0;32m   (...)\u001b[0m\n\u001b[1;32m   1575\u001b[0m \n\u001b[1;32m   1576\u001b[0m \u001b[38;5;124;03m\"\"\"\u001b[39;00m\n\u001b[1;32m   1577\u001b[0m args \u001b[38;5;241m=\u001b[39m _convert_params(sql, params)\n\u001b[0;32m-> 1579\u001b[0m result \u001b[38;5;241m=\u001b[39m \u001b[38;5;28;43mself\u001b[39;49m\u001b[38;5;241;43m.\u001b[39;49m\u001b[43mexecute\u001b[49m\u001b[43m(\u001b[49m\u001b[38;5;241;43m*\u001b[39;49m\u001b[43margs\u001b[49m\u001b[43m)\u001b[49m\n\u001b[1;32m   1580\u001b[0m columns \u001b[38;5;241m=\u001b[39m result\u001b[38;5;241m.\u001b[39mkeys()\n\u001b[1;32m   1582\u001b[0m \u001b[38;5;28;01mif\u001b[39;00m chunksize \u001b[38;5;129;01mis\u001b[39;00m \u001b[38;5;129;01mnot\u001b[39;00m \u001b[38;5;28;01mNone\u001b[39;00m:\n",
      "File \u001b[0;32m/opt/conda/envs/company_matching/lib/python3.9/site-packages/pandas/io/sql.py:1424\u001b[0m, in \u001b[0;36mSQLDatabase.execute\u001b[0;34m(self, *args, **kwargs)\u001b[0m\n\u001b[1;32m   1422\u001b[0m \u001b[38;5;28;01mdef\u001b[39;00m \u001b[38;5;21mexecute\u001b[39m(\u001b[38;5;28mself\u001b[39m, \u001b[38;5;241m*\u001b[39margs, \u001b[38;5;241m*\u001b[39m\u001b[38;5;241m*\u001b[39mkwargs):\n\u001b[1;32m   1423\u001b[0m \u001b[38;5;250m    \u001b[39m\u001b[38;5;124;03m\"\"\"Simple passthrough to SQLAlchemy connectable\"\"\"\u001b[39;00m\n\u001b[0;32m-> 1424\u001b[0m     \u001b[38;5;28;01mreturn\u001b[39;00m \u001b[38;5;28;43mself\u001b[39;49m\u001b[38;5;241;43m.\u001b[39;49m\u001b[43mconnectable\u001b[49m\u001b[38;5;241;43m.\u001b[39;49m\u001b[43mexecution_options\u001b[49m\u001b[43m(\u001b[49m\u001b[43m)\u001b[49m\u001b[38;5;241;43m.\u001b[39;49m\u001b[43mexecute\u001b[49m\u001b[43m(\u001b[49m\u001b[38;5;241;43m*\u001b[39;49m\u001b[43margs\u001b[49m\u001b[43m,\u001b[49m\u001b[43m \u001b[49m\u001b[38;5;241;43m*\u001b[39;49m\u001b[38;5;241;43m*\u001b[39;49m\u001b[43mkwargs\u001b[49m\u001b[43m)\u001b[49m\n",
      "File \u001b[0;32m/opt/conda/envs/company_matching/lib/python3.9/site-packages/sqlalchemy/engine/base.py:1385\u001b[0m, in \u001b[0;36mConnection.execute\u001b[0;34m(self, statement, *multiparams, **params)\u001b[0m\n\u001b[1;32m   1381\u001b[0m     util\u001b[38;5;241m.\u001b[39mraise_(\n\u001b[1;32m   1382\u001b[0m         exc\u001b[38;5;241m.\u001b[39mObjectNotExecutableError(statement), replace_context\u001b[38;5;241m=\u001b[39merr\n\u001b[1;32m   1383\u001b[0m     )\n\u001b[1;32m   1384\u001b[0m \u001b[38;5;28;01melse\u001b[39;00m:\n\u001b[0;32m-> 1385\u001b[0m     \u001b[38;5;28;01mreturn\u001b[39;00m \u001b[43mmeth\u001b[49m\u001b[43m(\u001b[49m\u001b[38;5;28;43mself\u001b[39;49m\u001b[43m,\u001b[49m\u001b[43m \u001b[49m\u001b[43mmultiparams\u001b[49m\u001b[43m,\u001b[49m\u001b[43m \u001b[49m\u001b[43mparams\u001b[49m\u001b[43m,\u001b[49m\u001b[43m \u001b[49m\u001b[43m_EMPTY_EXECUTION_OPTS\u001b[49m\u001b[43m)\u001b[49m\n",
      "File \u001b[0;32m/opt/conda/envs/company_matching/lib/python3.9/site-packages/sqlalchemy/sql/elements.py:334\u001b[0m, in \u001b[0;36mClauseElement._execute_on_connection\u001b[0;34m(self, connection, multiparams, params, execution_options, _force)\u001b[0m\n\u001b[1;32m    330\u001b[0m \u001b[38;5;28;01mdef\u001b[39;00m \u001b[38;5;21m_execute_on_connection\u001b[39m(\n\u001b[1;32m    331\u001b[0m     \u001b[38;5;28mself\u001b[39m, connection, multiparams, params, execution_options, _force\u001b[38;5;241m=\u001b[39m\u001b[38;5;28;01mFalse\u001b[39;00m\n\u001b[1;32m    332\u001b[0m ):\n\u001b[1;32m    333\u001b[0m     \u001b[38;5;28;01mif\u001b[39;00m _force \u001b[38;5;129;01mor\u001b[39;00m \u001b[38;5;28mself\u001b[39m\u001b[38;5;241m.\u001b[39msupports_execution:\n\u001b[0;32m--> 334\u001b[0m         \u001b[38;5;28;01mreturn\u001b[39;00m \u001b[43mconnection\u001b[49m\u001b[38;5;241;43m.\u001b[39;49m\u001b[43m_execute_clauseelement\u001b[49m\u001b[43m(\u001b[49m\n\u001b[1;32m    335\u001b[0m \u001b[43m            \u001b[49m\u001b[38;5;28;43mself\u001b[39;49m\u001b[43m,\u001b[49m\u001b[43m \u001b[49m\u001b[43mmultiparams\u001b[49m\u001b[43m,\u001b[49m\u001b[43m \u001b[49m\u001b[43mparams\u001b[49m\u001b[43m,\u001b[49m\u001b[43m \u001b[49m\u001b[43mexecution_options\u001b[49m\n\u001b[1;32m    336\u001b[0m \u001b[43m        \u001b[49m\u001b[43m)\u001b[49m\n\u001b[1;32m    337\u001b[0m     \u001b[38;5;28;01melse\u001b[39;00m:\n\u001b[1;32m    338\u001b[0m         \u001b[38;5;28;01mraise\u001b[39;00m exc\u001b[38;5;241m.\u001b[39mObjectNotExecutableError(\u001b[38;5;28mself\u001b[39m)\n",
      "File \u001b[0;32m/opt/conda/envs/company_matching/lib/python3.9/site-packages/sqlalchemy/engine/base.py:1577\u001b[0m, in \u001b[0;36mConnection._execute_clauseelement\u001b[0;34m(self, elem, multiparams, params, execution_options)\u001b[0m\n\u001b[1;32m   1565\u001b[0m compiled_cache \u001b[38;5;241m=\u001b[39m execution_options\u001b[38;5;241m.\u001b[39mget(\n\u001b[1;32m   1566\u001b[0m     \u001b[38;5;124m\"\u001b[39m\u001b[38;5;124mcompiled_cache\u001b[39m\u001b[38;5;124m\"\u001b[39m, \u001b[38;5;28mself\u001b[39m\u001b[38;5;241m.\u001b[39mengine\u001b[38;5;241m.\u001b[39m_compiled_cache\n\u001b[1;32m   1567\u001b[0m )\n\u001b[1;32m   1569\u001b[0m compiled_sql, extracted_params, cache_hit \u001b[38;5;241m=\u001b[39m elem\u001b[38;5;241m.\u001b[39m_compile_w_cache(\n\u001b[1;32m   1570\u001b[0m     dialect\u001b[38;5;241m=\u001b[39mdialect,\n\u001b[1;32m   1571\u001b[0m     compiled_cache\u001b[38;5;241m=\u001b[39mcompiled_cache,\n\u001b[0;32m   (...)\u001b[0m\n\u001b[1;32m   1575\u001b[0m     linting\u001b[38;5;241m=\u001b[39m\u001b[38;5;28mself\u001b[39m\u001b[38;5;241m.\u001b[39mdialect\u001b[38;5;241m.\u001b[39mcompiler_linting \u001b[38;5;241m|\u001b[39m compiler\u001b[38;5;241m.\u001b[39mWARN_LINTING,\n\u001b[1;32m   1576\u001b[0m )\n\u001b[0;32m-> 1577\u001b[0m ret \u001b[38;5;241m=\u001b[39m \u001b[38;5;28;43mself\u001b[39;49m\u001b[38;5;241;43m.\u001b[39;49m\u001b[43m_execute_context\u001b[49m\u001b[43m(\u001b[49m\n\u001b[1;32m   1578\u001b[0m \u001b[43m    \u001b[49m\u001b[43mdialect\u001b[49m\u001b[43m,\u001b[49m\n\u001b[1;32m   1579\u001b[0m \u001b[43m    \u001b[49m\u001b[43mdialect\u001b[49m\u001b[38;5;241;43m.\u001b[39;49m\u001b[43mexecution_ctx_cls\u001b[49m\u001b[38;5;241;43m.\u001b[39;49m\u001b[43m_init_compiled\u001b[49m\u001b[43m,\u001b[49m\n\u001b[1;32m   1580\u001b[0m \u001b[43m    \u001b[49m\u001b[43mcompiled_sql\u001b[49m\u001b[43m,\u001b[49m\n\u001b[1;32m   1581\u001b[0m \u001b[43m    \u001b[49m\u001b[43mdistilled_params\u001b[49m\u001b[43m,\u001b[49m\n\u001b[1;32m   1582\u001b[0m \u001b[43m    \u001b[49m\u001b[43mexecution_options\u001b[49m\u001b[43m,\u001b[49m\n\u001b[1;32m   1583\u001b[0m \u001b[43m    \u001b[49m\u001b[43mcompiled_sql\u001b[49m\u001b[43m,\u001b[49m\n\u001b[1;32m   1584\u001b[0m \u001b[43m    \u001b[49m\u001b[43mdistilled_params\u001b[49m\u001b[43m,\u001b[49m\n\u001b[1;32m   1585\u001b[0m \u001b[43m    \u001b[49m\u001b[43melem\u001b[49m\u001b[43m,\u001b[49m\n\u001b[1;32m   1586\u001b[0m \u001b[43m    \u001b[49m\u001b[43mextracted_params\u001b[49m\u001b[43m,\u001b[49m\n\u001b[1;32m   1587\u001b[0m \u001b[43m    \u001b[49m\u001b[43mcache_hit\u001b[49m\u001b[38;5;241;43m=\u001b[39;49m\u001b[43mcache_hit\u001b[49m\u001b[43m,\u001b[49m\n\u001b[1;32m   1588\u001b[0m \u001b[43m\u001b[49m\u001b[43m)\u001b[49m\n\u001b[1;32m   1589\u001b[0m \u001b[38;5;28;01mif\u001b[39;00m has_events:\n\u001b[1;32m   1590\u001b[0m     \u001b[38;5;28mself\u001b[39m\u001b[38;5;241m.\u001b[39mdispatch\u001b[38;5;241m.\u001b[39mafter_execute(\n\u001b[1;32m   1591\u001b[0m         \u001b[38;5;28mself\u001b[39m,\n\u001b[1;32m   1592\u001b[0m         elem,\n\u001b[0;32m   (...)\u001b[0m\n\u001b[1;32m   1596\u001b[0m         ret,\n\u001b[1;32m   1597\u001b[0m     )\n",
      "File \u001b[0;32m/opt/conda/envs/company_matching/lib/python3.9/site-packages/sqlalchemy/engine/base.py:1948\u001b[0m, in \u001b[0;36mConnection._execute_context\u001b[0;34m(self, dialect, constructor, statement, parameters, execution_options, *args, **kw)\u001b[0m\n\u001b[1;32m   1945\u001b[0m             branched\u001b[38;5;241m.\u001b[39mclose()\n\u001b[1;32m   1947\u001b[0m \u001b[38;5;28;01mexcept\u001b[39;00m \u001b[38;5;167;01mBaseException\u001b[39;00m \u001b[38;5;28;01mas\u001b[39;00m e:\n\u001b[0;32m-> 1948\u001b[0m     \u001b[38;5;28;43mself\u001b[39;49m\u001b[38;5;241;43m.\u001b[39;49m\u001b[43m_handle_dbapi_exception\u001b[49m\u001b[43m(\u001b[49m\n\u001b[1;32m   1949\u001b[0m \u001b[43m        \u001b[49m\u001b[43me\u001b[49m\u001b[43m,\u001b[49m\u001b[43m \u001b[49m\u001b[43mstatement\u001b[49m\u001b[43m,\u001b[49m\u001b[43m \u001b[49m\u001b[43mparameters\u001b[49m\u001b[43m,\u001b[49m\u001b[43m \u001b[49m\u001b[43mcursor\u001b[49m\u001b[43m,\u001b[49m\u001b[43m \u001b[49m\u001b[43mcontext\u001b[49m\n\u001b[1;32m   1950\u001b[0m \u001b[43m    \u001b[49m\u001b[43m)\u001b[49m\n\u001b[1;32m   1952\u001b[0m \u001b[38;5;28;01mreturn\u001b[39;00m result\n",
      "File \u001b[0;32m/opt/conda/envs/company_matching/lib/python3.9/site-packages/sqlalchemy/engine/base.py:2129\u001b[0m, in \u001b[0;36mConnection._handle_dbapi_exception\u001b[0;34m(self, e, statement, parameters, cursor, context)\u001b[0m\n\u001b[1;32m   2127\u001b[0m     util\u001b[38;5;241m.\u001b[39mraise_(newraise, with_traceback\u001b[38;5;241m=\u001b[39mexc_info[\u001b[38;5;241m2\u001b[39m], from_\u001b[38;5;241m=\u001b[39me)\n\u001b[1;32m   2128\u001b[0m \u001b[38;5;28;01melif\u001b[39;00m should_wrap:\n\u001b[0;32m-> 2129\u001b[0m     \u001b[43mutil\u001b[49m\u001b[38;5;241;43m.\u001b[39;49m\u001b[43mraise_\u001b[49m\u001b[43m(\u001b[49m\n\u001b[1;32m   2130\u001b[0m \u001b[43m        \u001b[49m\u001b[43msqlalchemy_exception\u001b[49m\u001b[43m,\u001b[49m\u001b[43m \u001b[49m\u001b[43mwith_traceback\u001b[49m\u001b[38;5;241;43m=\u001b[39;49m\u001b[43mexc_info\u001b[49m\u001b[43m[\u001b[49m\u001b[38;5;241;43m2\u001b[39;49m\u001b[43m]\u001b[49m\u001b[43m,\u001b[49m\u001b[43m \u001b[49m\u001b[43mfrom_\u001b[49m\u001b[38;5;241;43m=\u001b[39;49m\u001b[43me\u001b[49m\n\u001b[1;32m   2131\u001b[0m \u001b[43m    \u001b[49m\u001b[43m)\u001b[49m\n\u001b[1;32m   2132\u001b[0m \u001b[38;5;28;01melse\u001b[39;00m:\n\u001b[1;32m   2133\u001b[0m     util\u001b[38;5;241m.\u001b[39mraise_(exc_info[\u001b[38;5;241m1\u001b[39m], with_traceback\u001b[38;5;241m=\u001b[39mexc_info[\u001b[38;5;241m2\u001b[39m])\n",
      "File \u001b[0;32m/opt/conda/envs/company_matching/lib/python3.9/site-packages/sqlalchemy/util/compat.py:211\u001b[0m, in \u001b[0;36mraise_\u001b[0;34m(***failed resolving arguments***)\u001b[0m\n\u001b[1;32m    208\u001b[0m     exception\u001b[38;5;241m.\u001b[39m__cause__ \u001b[38;5;241m=\u001b[39m replace_context\n\u001b[1;32m    210\u001b[0m \u001b[38;5;28;01mtry\u001b[39;00m:\n\u001b[0;32m--> 211\u001b[0m     \u001b[38;5;28;01mraise\u001b[39;00m exception\n\u001b[1;32m    212\u001b[0m \u001b[38;5;28;01mfinally\u001b[39;00m:\n\u001b[1;32m    213\u001b[0m     \u001b[38;5;66;03m# credit to\u001b[39;00m\n\u001b[1;32m    214\u001b[0m     \u001b[38;5;66;03m# https://cosmicpercolator.com/2016/01/13/exception-leaks-in-python-2-and-3/\u001b[39;00m\n\u001b[1;32m    215\u001b[0m     \u001b[38;5;66;03m# as the __traceback__ object creates a cycle\u001b[39;00m\n\u001b[1;32m    216\u001b[0m     \u001b[38;5;28;01mdel\u001b[39;00m exception, replace_context, from_, with_traceback\n",
      "File \u001b[0;32m/opt/conda/envs/company_matching/lib/python3.9/site-packages/sqlalchemy/engine/base.py:1905\u001b[0m, in \u001b[0;36mConnection._execute_context\u001b[0;34m(self, dialect, constructor, statement, parameters, execution_options, *args, **kw)\u001b[0m\n\u001b[1;32m   1903\u001b[0m                 \u001b[38;5;28;01mbreak\u001b[39;00m\n\u001b[1;32m   1904\u001b[0m     \u001b[38;5;28;01mif\u001b[39;00m \u001b[38;5;129;01mnot\u001b[39;00m evt_handled:\n\u001b[0;32m-> 1905\u001b[0m         \u001b[38;5;28;43mself\u001b[39;49m\u001b[38;5;241;43m.\u001b[39;49m\u001b[43mdialect\u001b[49m\u001b[38;5;241;43m.\u001b[39;49m\u001b[43mdo_execute\u001b[49m\u001b[43m(\u001b[49m\n\u001b[1;32m   1906\u001b[0m \u001b[43m            \u001b[49m\u001b[43mcursor\u001b[49m\u001b[43m,\u001b[49m\u001b[43m \u001b[49m\u001b[43mstatement\u001b[49m\u001b[43m,\u001b[49m\u001b[43m \u001b[49m\u001b[43mparameters\u001b[49m\u001b[43m,\u001b[49m\u001b[43m \u001b[49m\u001b[43mcontext\u001b[49m\n\u001b[1;32m   1907\u001b[0m \u001b[43m        \u001b[49m\u001b[43m)\u001b[49m\n\u001b[1;32m   1909\u001b[0m \u001b[38;5;28;01mif\u001b[39;00m \u001b[38;5;28mself\u001b[39m\u001b[38;5;241m.\u001b[39m_has_events \u001b[38;5;129;01mor\u001b[39;00m \u001b[38;5;28mself\u001b[39m\u001b[38;5;241m.\u001b[39mengine\u001b[38;5;241m.\u001b[39m_has_events:\n\u001b[1;32m   1910\u001b[0m     \u001b[38;5;28mself\u001b[39m\u001b[38;5;241m.\u001b[39mdispatch\u001b[38;5;241m.\u001b[39mafter_cursor_execute(\n\u001b[1;32m   1911\u001b[0m         \u001b[38;5;28mself\u001b[39m,\n\u001b[1;32m   1912\u001b[0m         cursor,\n\u001b[0;32m   (...)\u001b[0m\n\u001b[1;32m   1916\u001b[0m         context\u001b[38;5;241m.\u001b[39mexecutemany,\n\u001b[1;32m   1917\u001b[0m     )\n",
      "File \u001b[0;32m/opt/conda/envs/company_matching/lib/python3.9/site-packages/sqlalchemy/engine/default.py:736\u001b[0m, in \u001b[0;36mDefaultDialect.do_execute\u001b[0;34m(self, cursor, statement, parameters, context)\u001b[0m\n\u001b[1;32m    735\u001b[0m \u001b[38;5;28;01mdef\u001b[39;00m \u001b[38;5;21mdo_execute\u001b[39m(\u001b[38;5;28mself\u001b[39m, cursor, statement, parameters, context\u001b[38;5;241m=\u001b[39m\u001b[38;5;28;01mNone\u001b[39;00m):\n\u001b[0;32m--> 736\u001b[0m     \u001b[43mcursor\u001b[49m\u001b[38;5;241;43m.\u001b[39;49m\u001b[43mexecute\u001b[49m\u001b[43m(\u001b[49m\u001b[43mstatement\u001b[49m\u001b[43m,\u001b[49m\u001b[43m \u001b[49m\u001b[43mparameters\u001b[49m\u001b[43m)\u001b[49m\n",
      "\u001b[0;31mProgrammingError\u001b[0m: (psycopg2.errors.UndefinedFunction) operator does not exist: text = integer\nLINE 6:             where target_id = 62114;\n                                    ^\nHINT:  No operator matches the given name and argument type(s). You might need to add explicit type casts.\n\n[SQL: \n            select\n                *\n            from\n                _user_eaf4fd9a.cm_probabilities \n            where target_id = 62114;\n        ]\n(Background on this error at: https://sqlalche.me/e/14/f405)"
     ]
    }
   ],
   "source": [
    "cmf_conn.probabilities.db_table.read(where=\"target_id = 62114\")"
   ]
  },
  {
   "cell_type": "code",
   "execution_count": 32,
   "id": "bd9b5e19-2413-4622-96be-6bb8c3254f19",
   "metadata": {},
   "outputs": [],
   "source": [
    "probs = cmf_conn.probabilities.db_table.read()"
   ]
  },
  {
   "cell_type": "code",
   "execution_count": 45,
   "id": "4d4a8517-cc42-42a5-b140-192f9ed21ac5",
   "metadata": {},
   "outputs": [
    {
     "data": {
      "text/html": [
       "<div>\n",
       "<style scoped>\n",
       "    .dataframe tbody tr th:only-of-type {\n",
       "        vertical-align: middle;\n",
       "    }\n",
       "\n",
       "    .dataframe tbody tr th {\n",
       "        vertical-align: top;\n",
       "    }\n",
       "\n",
       "    .dataframe thead th {\n",
       "        text-align: right;\n",
       "    }\n",
       "</style>\n",
       "<table border=\"1\" class=\"dataframe\">\n",
       "  <thead>\n",
       "    <tr style=\"text-align: right;\">\n",
       "      <th></th>\n",
       "      <th>uuid</th>\n",
       "      <th>model</th>\n",
       "      <th>target</th>\n",
       "      <th>target_id</th>\n",
       "      <th>source</th>\n",
       "      <th>source_id</th>\n",
       "      <th>probability</th>\n",
       "    </tr>\n",
       "  </thead>\n",
       "  <tbody>\n",
       "    <tr>\n",
       "      <th>0</th>\n",
       "      <td>289eb050-788a-4443-9249-13b88f1698dd</td>\n",
       "      <td>basic_hmrc_exp</td>\n",
       "      <td>hmrc.trade__exporters</td>\n",
       "      <td>62114</td>\n",
       "      <td>hmrc.trade__exporters</td>\n",
       "      <td>3436473</td>\n",
       "      <td>1.0</td>\n",
       "    </tr>\n",
       "    <tr>\n",
       "      <th>1</th>\n",
       "      <td>a6599bcc-05d9-495c-8baa-8ddb6f33f848</td>\n",
       "      <td>basic_hmrc_exp</td>\n",
       "      <td>hmrc.trade__exporters</td>\n",
       "      <td>459312</td>\n",
       "      <td>hmrc.trade__exporters</td>\n",
       "      <td>2108357</td>\n",
       "      <td>1.0</td>\n",
       "    </tr>\n",
       "    <tr>\n",
       "      <th>2</th>\n",
       "      <td>7035a728-e363-4030-8081-9f5317df5ad2</td>\n",
       "      <td>basic_hmrc_exp</td>\n",
       "      <td>hmrc.trade__exporters</td>\n",
       "      <td>459315</td>\n",
       "      <td>hmrc.trade__exporters</td>\n",
       "      <td>2108370</td>\n",
       "      <td>1.0</td>\n",
       "    </tr>\n",
       "    <tr>\n",
       "      <th>3</th>\n",
       "      <td>652f98e7-7491-4f5f-9f67-017f0155974a</td>\n",
       "      <td>basic_hmrc_exp</td>\n",
       "      <td>hmrc.trade__exporters</td>\n",
       "      <td>459317</td>\n",
       "      <td>hmrc.trade__exporters</td>\n",
       "      <td>2108372</td>\n",
       "      <td>1.0</td>\n",
       "    </tr>\n",
       "    <tr>\n",
       "      <th>4</th>\n",
       "      <td>62bbc87a-4724-410a-8652-11ad0c464ca9</td>\n",
       "      <td>basic_hmrc_exp</td>\n",
       "      <td>hmrc.trade__exporters</td>\n",
       "      <td>459320</td>\n",
       "      <td>hmrc.trade__exporters</td>\n",
       "      <td>2108377</td>\n",
       "      <td>1.0</td>\n",
       "    </tr>\n",
       "    <tr>\n",
       "      <th>...</th>\n",
       "      <td>...</td>\n",
       "      <td>...</td>\n",
       "      <td>...</td>\n",
       "      <td>...</td>\n",
       "      <td>...</td>\n",
       "      <td>...</td>\n",
       "      <td>...</td>\n",
       "    </tr>\n",
       "    <tr>\n",
       "      <th>73</th>\n",
       "      <td>7647d96a-d813-49fa-a5f5-bae0ddeac57f</td>\n",
       "      <td>basic_hmrc_exp</td>\n",
       "      <td>hmrc.trade__exporters</td>\n",
       "      <td>1956553</td>\n",
       "      <td>hmrc.trade__exporters</td>\n",
       "      <td>1215189</td>\n",
       "      <td>1.0</td>\n",
       "    </tr>\n",
       "    <tr>\n",
       "      <th>74</th>\n",
       "      <td>1effa11f-045d-4b9b-88f3-14ed76eac757</td>\n",
       "      <td>basic_hmrc_exp</td>\n",
       "      <td>hmrc.trade__exporters</td>\n",
       "      <td>3533298</td>\n",
       "      <td>hmrc.trade__exporters</td>\n",
       "      <td>3533299</td>\n",
       "      <td>1.0</td>\n",
       "    </tr>\n",
       "    <tr>\n",
       "      <th>75</th>\n",
       "      <td>e801dc7d-3446-44c5-a414-1a8a0ebeacbc</td>\n",
       "      <td>basic_hmrc_exp</td>\n",
       "      <td>hmrc.trade__exporters</td>\n",
       "      <td>3533299</td>\n",
       "      <td>hmrc.trade__exporters</td>\n",
       "      <td>3533298</td>\n",
       "      <td>1.0</td>\n",
       "    </tr>\n",
       "    <tr>\n",
       "      <th>76</th>\n",
       "      <td>9a479206-3452-4c8a-9ed1-c1556bee0daa</td>\n",
       "      <td>basic_hmrc_exp</td>\n",
       "      <td>hmrc.trade__exporters</td>\n",
       "      <td>3563916</td>\n",
       "      <td>hmrc.trade__exporters</td>\n",
       "      <td>2300594</td>\n",
       "      <td>1.0</td>\n",
       "    </tr>\n",
       "    <tr>\n",
       "      <th>77</th>\n",
       "      <td>813ba335-7715-40f9-bd02-41a1d5e1d2fe</td>\n",
       "      <td>basic_hmrc_exp</td>\n",
       "      <td>hmrc.trade__exporters</td>\n",
       "      <td>3563925</td>\n",
       "      <td>hmrc.trade__exporters</td>\n",
       "      <td>700377</td>\n",
       "      <td>1.0</td>\n",
       "    </tr>\n",
       "  </tbody>\n",
       "</table>\n",
       "<p>78 rows × 7 columns</p>\n",
       "</div>"
      ],
      "text/plain": [
       "                                    uuid           model  \\\n",
       "0   289eb050-788a-4443-9249-13b88f1698dd  basic_hmrc_exp   \n",
       "1   a6599bcc-05d9-495c-8baa-8ddb6f33f848  basic_hmrc_exp   \n",
       "2   7035a728-e363-4030-8081-9f5317df5ad2  basic_hmrc_exp   \n",
       "3   652f98e7-7491-4f5f-9f67-017f0155974a  basic_hmrc_exp   \n",
       "4   62bbc87a-4724-410a-8652-11ad0c464ca9  basic_hmrc_exp   \n",
       "..                                   ...             ...   \n",
       "73  7647d96a-d813-49fa-a5f5-bae0ddeac57f  basic_hmrc_exp   \n",
       "74  1effa11f-045d-4b9b-88f3-14ed76eac757  basic_hmrc_exp   \n",
       "75  e801dc7d-3446-44c5-a414-1a8a0ebeacbc  basic_hmrc_exp   \n",
       "76  9a479206-3452-4c8a-9ed1-c1556bee0daa  basic_hmrc_exp   \n",
       "77  813ba335-7715-40f9-bd02-41a1d5e1d2fe  basic_hmrc_exp   \n",
       "\n",
       "                   target target_id                 source source_id  \\\n",
       "0   hmrc.trade__exporters     62114  hmrc.trade__exporters   3436473   \n",
       "1   hmrc.trade__exporters    459312  hmrc.trade__exporters   2108357   \n",
       "2   hmrc.trade__exporters    459315  hmrc.trade__exporters   2108370   \n",
       "3   hmrc.trade__exporters    459317  hmrc.trade__exporters   2108372   \n",
       "4   hmrc.trade__exporters    459320  hmrc.trade__exporters   2108377   \n",
       "..                    ...       ...                    ...       ...   \n",
       "73  hmrc.trade__exporters   1956553  hmrc.trade__exporters   1215189   \n",
       "74  hmrc.trade__exporters   3533298  hmrc.trade__exporters   3533299   \n",
       "75  hmrc.trade__exporters   3533299  hmrc.trade__exporters   3533298   \n",
       "76  hmrc.trade__exporters   3563916  hmrc.trade__exporters   2300594   \n",
       "77  hmrc.trade__exporters   3563925  hmrc.trade__exporters    700377   \n",
       "\n",
       "    probability  \n",
       "0           1.0  \n",
       "1           1.0  \n",
       "2           1.0  \n",
       "3           1.0  \n",
       "4           1.0  \n",
       "..          ...  \n",
       "73          1.0  \n",
       "74          1.0  \n",
       "75          1.0  \n",
       "76          1.0  \n",
       "77          1.0  \n",
       "\n",
       "[78 rows x 7 columns]"
      ]
     },
     "execution_count": 45,
     "metadata": {},
     "output_type": "execute_result"
    }
   ],
   "source": [
    "probs"
   ]
  },
  {
   "cell_type": "code",
   "execution_count": 43,
   "id": "31ca17c3-de47-4f57-8e69-242757216b12",
   "metadata": {},
   "outputs": [
    {
     "data": {
      "text/html": [
       "<div>\n",
       "<style scoped>\n",
       "    .dataframe tbody tr th:only-of-type {\n",
       "        vertical-align: middle;\n",
       "    }\n",
       "\n",
       "    .dataframe tbody tr th {\n",
       "        vertical-align: top;\n",
       "    }\n",
       "\n",
       "    .dataframe thead th {\n",
       "        text-align: right;\n",
       "    }\n",
       "</style>\n",
       "<table border=\"1\" class=\"dataframe\">\n",
       "  <thead>\n",
       "    <tr style=\"text-align: right;\">\n",
       "      <th></th>\n",
       "      <th>cluster</th>\n",
       "      <th>id</th>\n",
       "    </tr>\n",
       "  </thead>\n",
       "  <tbody>\n",
       "    <tr>\n",
       "      <th>0</th>\n",
       "      <td>2f9ce14c-a54f-4287-9ba1-b5fb193ab067</td>\n",
       "      <td>62114</td>\n",
       "    </tr>\n",
       "    <tr>\n",
       "      <th>1</th>\n",
       "      <td>2f9ce14c-a54f-4287-9ba1-b5fb193ab067</td>\n",
       "      <td>3436473</td>\n",
       "    </tr>\n",
       "    <tr>\n",
       "      <th>2</th>\n",
       "      <td>88295681-f44e-4c37-b786-589c1ae123bc</td>\n",
       "      <td>2108357</td>\n",
       "    </tr>\n",
       "    <tr>\n",
       "      <th>3</th>\n",
       "      <td>88295681-f44e-4c37-b786-589c1ae123bc</td>\n",
       "      <td>459312</td>\n",
       "    </tr>\n",
       "    <tr>\n",
       "      <th>4</th>\n",
       "      <td>6d705dd4-65f7-4cd1-9750-ab47f8f3833e</td>\n",
       "      <td>459315</td>\n",
       "    </tr>\n",
       "    <tr>\n",
       "      <th>...</th>\n",
       "      <td>...</td>\n",
       "      <td>...</td>\n",
       "    </tr>\n",
       "    <tr>\n",
       "      <th>70</th>\n",
       "      <td>f5745504-664e-4aad-bbeb-8bc15fb4a1eb</td>\n",
       "      <td>2300594</td>\n",
       "    </tr>\n",
       "    <tr>\n",
       "      <th>71</th>\n",
       "      <td>891ded7e-98fa-472c-8e4f-00c99c5d5981</td>\n",
       "      <td>2896872</td>\n",
       "    </tr>\n",
       "    <tr>\n",
       "      <th>72</th>\n",
       "      <td>891ded7e-98fa-472c-8e4f-00c99c5d5981</td>\n",
       "      <td>2896871</td>\n",
       "    </tr>\n",
       "    <tr>\n",
       "      <th>73</th>\n",
       "      <td>118e50ee-c509-4075-a141-63e9cbb015e5</td>\n",
       "      <td>3533298</td>\n",
       "    </tr>\n",
       "    <tr>\n",
       "      <th>74</th>\n",
       "      <td>118e50ee-c509-4075-a141-63e9cbb015e5</td>\n",
       "      <td>3533299</td>\n",
       "    </tr>\n",
       "  </tbody>\n",
       "</table>\n",
       "<p>75 rows × 2 columns</p>\n",
       "</div>"
      ],
      "text/plain": [
       "                                 cluster       id\n",
       "0   2f9ce14c-a54f-4287-9ba1-b5fb193ab067    62114\n",
       "1   2f9ce14c-a54f-4287-9ba1-b5fb193ab067  3436473\n",
       "2   88295681-f44e-4c37-b786-589c1ae123bc  2108357\n",
       "3   88295681-f44e-4c37-b786-589c1ae123bc   459312\n",
       "4   6d705dd4-65f7-4cd1-9750-ab47f8f3833e   459315\n",
       "..                                   ...      ...\n",
       "70  f5745504-664e-4aad-bbeb-8bc15fb4a1eb  2300594\n",
       "71  891ded7e-98fa-472c-8e4f-00c99c5d5981  2896872\n",
       "72  891ded7e-98fa-472c-8e4f-00c99c5d5981  2896871\n",
       "73  118e50ee-c509-4075-a141-63e9cbb015e5  3533298\n",
       "74  118e50ee-c509-4075-a141-63e9cbb015e5  3533299\n",
       "\n",
       "[75 rows x 2 columns]"
      ]
     },
     "execution_count": 43,
     "metadata": {},
     "output_type": "execute_result"
    }
   ],
   "source": [
    "import networkx as nx\n",
    "import pandas as pd\n",
    "import uuid\n",
    "\n",
    "G = nx.from_pandas_edgelist(\n",
    "    probs,\n",
    "    source=\"source_id\",\n",
    "    target=\"target_id\"\n",
    ")\n",
    "\n",
    "companies = nx.connected_components(G)\n",
    "\n",
    "out = {\n",
    "    \"cluster\": [],\n",
    "    \"id\": []\n",
    "}\n",
    "\n",
    "for company in companies:\n",
    "    company_uuid = uuid.uuid4()\n",
    "    for id in company:\n",
    "        out[\"cluster\"].append(company_uuid)\n",
    "        out[\"id\"].append(id)\n",
    "\n",
    "pd.DataFrame(out)\n",
    "        \n",
    "# res = nx.to_pandas_edgelist(\n",
    "#     G,\n",
    "#     x\n",
    "# )"
   ]
  },
  {
   "cell_type": "code",
   "execution_count": null,
   "id": "e141bf8f-0da4-4e12-88d6-db6cf8454f9d",
   "metadata": {},
   "outputs": [],
   "source": [
    "def to_clusters(\n",
    "    dedupe_run_name: str,\n",
    "    dedupe_threshold: float,\n",
    "    link_run_name: str,\n",
    "    link_threshold: float,\n",
    "    cmf_conn: CMFDB\n",
    ") -> None:\n",
    "\n",
    "    cmf_conn.probabilities.db_table.read\n",
    "    \n",
    "    G = nx.from_pandas_edgelist(\n",
    "        probs,\n",
    "        source=\"source_id\",\n",
    "        target=\"target_id\"\n",
    "    )\n",
    "    \n",
    "    companies = nx.connected_components(G)\n",
    "    \n",
    "    out = {\n",
    "        \"cluster\": [],\n",
    "        \"id\": []\n",
    "    }\n",
    "    \n",
    "    for company in companies:\n",
    "        company_uuid = uuid.uuid4()\n",
    "        for id in company:\n",
    "            out[\"cluster\"].append(company_uuid)\n",
    "            out[\"id\"].append(id)\n"
   ]
  },
  {
   "cell_type": "code",
   "execution_count": null,
   "id": "d6d50f63-e1d0-43ac-93ce-1858bbffce94",
   "metadata": {},
   "outputs": [],
   "source": [
    "def read(\n",
    "    self, \n",
    "    select: Optional[List] = None,\n",
    "    where: Optional[str] = None,\n",
    "    sample: Optional[float] = None\n",
    ") -> DataFrame:\n",
    "    \"\"\"\n",
    "    Returns the table as pandas dataframe.\n",
    "\n",
    "    Arguments:\n",
    "        select: [optional] a list of columns to select. Aliasing\n",
    "        and casting permitted\n",
    "        where: [optional] a where clause to filter the table\n",
    "        sample:[optional] the percentage sample to return. Used to\n",
    "        speed up debugging of downstream processes\n",
    "    \"\"\"\n",
    "    fields = \"*\" if select is None else \" ,\".join(select)\n",
    "    \n",
    "    if sample is not None:\n",
    "        sample_clause = f\"tablesample system ({sample})\"\n",
    "    else:\n",
    "        sample_clause = \"\"\n",
    "    \n",
    "    if where is not None:\n",
    "        where = f\"where {where}\"\n",
    "    else:\n",
    "        where = \"\"\n",
    "\n",
    "    return du.query(\n",
    "        f\"\"\"\n",
    "        select\n",
    "            {fields}\n",
    "        from\n",
    "            {self.db_schema_table} {sample_clause}\n",
    "        {where};\n",
    "    \"\"\"\n",
    "    )"
   ]
  },
  {
   "cell_type": "code",
   "execution_count": 3,
   "id": "836a63ab-de27-4d73-8e48-c5452228367e",
   "metadata": {},
   "outputs": [
    {
     "data": {
      "text/html": [
       "<div>\n",
       "<style scoped>\n",
       "    .dataframe tbody tr th:only-of-type {\n",
       "        vertical-align: middle;\n",
       "    }\n",
       "\n",
       "    .dataframe tbody tr th {\n",
       "        vertical-align: top;\n",
       "    }\n",
       "\n",
       "    .dataframe thead th {\n",
       "        text-align: right;\n",
       "    }\n",
       "</style>\n",
       "<table border=\"1\" class=\"dataframe\">\n",
       "  <thead>\n",
       "    <tr style=\"text-align: right;\">\n",
       "      <th></th>\n",
       "      <th>probability</th>\n",
       "      <th>id</th>\n",
       "      <th>cluster</th>\n",
       "      <th>source</th>\n",
       "    </tr>\n",
       "  </thead>\n",
       "  <tbody>\n",
       "    <tr>\n",
       "      <th>0</th>\n",
       "      <td>0.10</td>\n",
       "      <td>012d5a1e-d47f-49cb-a1e1-4c71b72b5fbb</td>\n",
       "      <td>bbdd40eb-898e-438e-b964-53c798cdbf5e</td>\n",
       "      <td>1</td>\n",
       "    </tr>\n",
       "    <tr>\n",
       "      <th>1</th>\n",
       "      <td>0.80</td>\n",
       "      <td>97bc93c4-03c5-4f7c-8fc3-7e3fbaae53e2</td>\n",
       "      <td>a921959f-28c9-4380-a7b0-c82636655579</td>\n",
       "      <td>1</td>\n",
       "    </tr>\n",
       "    <tr>\n",
       "      <th>2</th>\n",
       "      <td>0.99</td>\n",
       "      <td>17faf79e-f9d4-439a-b2c2-6fb7da6c5be5</td>\n",
       "      <td>a7dad00c-89b3-471b-8e15-9d77e82f0da1</td>\n",
       "      <td>1</td>\n",
       "    </tr>\n",
       "  </tbody>\n",
       "</table>\n",
       "</div>"
      ],
      "text/plain": [
       "   probability                                    id  \\\n",
       "0         0.10  012d5a1e-d47f-49cb-a1e1-4c71b72b5fbb   \n",
       "1         0.80  97bc93c4-03c5-4f7c-8fc3-7e3fbaae53e2   \n",
       "2         0.99  17faf79e-f9d4-439a-b2c2-6fb7da6c5be5   \n",
       "\n",
       "                                cluster  source  \n",
       "0  bbdd40eb-898e-438e-b964-53c798cdbf5e       1  \n",
       "1  a921959f-28c9-4380-a7b0-c82636655579       1  \n",
       "2  a7dad00c-89b3-471b-8e15-9d77e82f0da1       1  "
      ]
     },
     "execution_count": 3,
     "metadata": {},
     "output_type": "execute_result"
    }
   ],
   "source": [
    "from cmf.data.probabilities import ProbabilityResults\n",
    "import pandas as pd\n",
    "import uuid\n",
    "\n",
    "df_prob = pd.DataFrame(\n",
    "    {\n",
    "        \"probability\": [0.1, 0.8, 0.99]\n",
    "    }\n",
    ")\n",
    "\n",
    "df_prob[\"id\"] = [uuid.uuid4() for _ in range(len(df_prob.index))]\n",
    "df_prob[\"cluster\"] = [uuid.uuid4() for _ in range(len(df_prob.index))]\n",
    "df_prob[\"source\"] = 1\n",
    "\n",
    "results = ProbabilityResults(\n",
    "    dataframe=df_prob,\n",
    "    run_name=\"foo\",\n",
    "    description=\"bar\"\n",
    ")\n",
    "\n",
    "results.to_df()"
   ]
  },
  {
   "cell_type": "code",
   "execution_count": 2,
   "id": "f03a18f8-9516-4826-ab79-615231045d7d",
   "metadata": {},
   "outputs": [
    {
     "ename": "NameError",
     "evalue": "name 'CMFDB' is not defined",
     "output_type": "error",
     "traceback": [
      "\u001b[0;31m---------------------------------------------------------------------------\u001b[0m",
      "\u001b[0;31mNameError\u001b[0m                                 Traceback (most recent call last)",
      "Cell \u001b[0;32mIn[2], line 1\u001b[0m\n\u001b[0;32m----> 1\u001b[0m \u001b[38;5;28;01mfrom\u001b[39;00m \u001b[38;5;21;01mcmf\u001b[39;00m\u001b[38;5;21;01m.\u001b[39;00m\u001b[38;5;21;01mdata\u001b[39;00m \u001b[38;5;28;01mimport\u001b[39;00m Probabilities, Table\n\u001b[1;32m      3\u001b[0m prob \u001b[38;5;241m=\u001b[39m Probabilities(\n\u001b[1;32m      4\u001b[0m     db_table\u001b[38;5;241m=\u001b[39mTable(\n\u001b[1;32m      5\u001b[0m         db_schema\u001b[38;5;241m=\u001b[39mos\u001b[38;5;241m.\u001b[39mgetenv(\u001b[38;5;124m\"\u001b[39m\u001b[38;5;124mSCHEMA\u001b[39m\u001b[38;5;124m\"\u001b[39m), \n\u001b[1;32m      6\u001b[0m         db_table\u001b[38;5;241m=\u001b[39mos\u001b[38;5;241m.\u001b[39mgetenv(\u001b[38;5;124m\"\u001b[39m\u001b[38;5;124mPROBABILITIES_TABLE\u001b[39m\u001b[38;5;124m\"\u001b[39m)\n\u001b[1;32m      7\u001b[0m     )\n\u001b[1;32m      8\u001b[0m )\n",
      "File \u001b[0;32m~/company-matching/cmf/__init__.py:3\u001b[0m\n\u001b[1;32m      1\u001b[0m \u001b[38;5;28;01mfrom\u001b[39;00m \u001b[38;5;21;01mcmf\u001b[39;00m\u001b[38;5;21;01m.\u001b[39;00m\u001b[38;5;21;01mhelpers\u001b[39;00m\u001b[38;5;21;01m.\u001b[39;00m\u001b[38;5;21;01mselector\u001b[39;00m \u001b[38;5;28;01mimport\u001b[39;00m query\n\u001b[1;32m      2\u001b[0m \u001b[38;5;28;01mfrom\u001b[39;00m \u001b[38;5;21;01mcmf\u001b[39;00m\u001b[38;5;21;01m.\u001b[39;00m\u001b[38;5;21;01mhelpers\u001b[39;00m\u001b[38;5;21;01m.\u001b[39;00m\u001b[38;5;21;01mcleaner\u001b[39;00m \u001b[38;5;28;01mimport\u001b[39;00m process\n\u001b[0;32m----> 3\u001b[0m \u001b[38;5;28;01mfrom\u001b[39;00m \u001b[38;5;21;01mcmf\u001b[39;00m\u001b[38;5;21;01m.\u001b[39;00m\u001b[38;5;21;01mdedupers\u001b[39;00m\u001b[38;5;21;01m.\u001b[39;00m\u001b[38;5;21;01mmake_deduper\u001b[39;00m \u001b[38;5;28;01mimport\u001b[39;00m make_deduper\n\u001b[1;32m      4\u001b[0m \u001b[38;5;28;01mfrom\u001b[39;00m \u001b[38;5;21;01mcmf\u001b[39;00m\u001b[38;5;21;01m.\u001b[39;00m\u001b[38;5;21;01mdata\u001b[39;00m\u001b[38;5;21;01m.\u001b[39;00m\u001b[38;5;21;01mdb\u001b[39;00m \u001b[38;5;28;01mimport\u001b[39;00m make_cmf_connection\n",
      "File \u001b[0;32m~/company-matching/cmf/dedupers/__init__.py:1\u001b[0m\n\u001b[0;32m----> 1\u001b[0m \u001b[38;5;28;01mfrom\u001b[39;00m \u001b[38;5;21;01mcmf\u001b[39;00m\u001b[38;5;21;01m.\u001b[39;00m\u001b[38;5;21;01mdedupers\u001b[39;00m\u001b[38;5;21;01m.\u001b[39;00m\u001b[38;5;21;01mnaive\u001b[39;00m \u001b[38;5;28;01mimport\u001b[39;00m Naive\n",
      "File \u001b[0;32m~/company-matching/cmf/dedupers/naive.py:1\u001b[0m\n\u001b[0;32m----> 1\u001b[0m \u001b[38;5;28;01mfrom\u001b[39;00m \u001b[38;5;21;01mcmf\u001b[39;00m\u001b[38;5;21;01m.\u001b[39;00m\u001b[38;5;21;01mdedupers\u001b[39;00m\u001b[38;5;21;01m.\u001b[39;00m\u001b[38;5;21;01mmake_deduper\u001b[39;00m \u001b[38;5;28;01mimport\u001b[39;00m Deduper\n\u001b[1;32m      2\u001b[0m \u001b[38;5;28;01mfrom\u001b[39;00m \u001b[38;5;21;01mpandas\u001b[39;00m \u001b[38;5;28;01mimport\u001b[39;00m DataFrame\n\u001b[1;32m      3\u001b[0m \u001b[38;5;28;01mimport\u001b[39;00m \u001b[38;5;21;01mduckdb\u001b[39;00m\n",
      "File \u001b[0;32m~/company-matching/cmf/dedupers/make_deduper.py:1\u001b[0m\n\u001b[0;32m----> 1\u001b[0m \u001b[38;5;28;01mfrom\u001b[39;00m \u001b[38;5;21;01mcmf\u001b[39;00m\u001b[38;5;21;01m.\u001b[39;00m\u001b[38;5;21;01mdata\u001b[39;00m\u001b[38;5;21;01m.\u001b[39;00m\u001b[38;5;21;01mprobabilities\u001b[39;00m \u001b[38;5;28;01mimport\u001b[39;00m ProbabilityResults\n\u001b[1;32m      3\u001b[0m \u001b[38;5;28;01mfrom\u001b[39;00m \u001b[38;5;21;01mpydantic\u001b[39;00m \u001b[38;5;28;01mimport\u001b[39;00m BaseModel\n\u001b[1;32m      4\u001b[0m \u001b[38;5;28;01mfrom\u001b[39;00m \u001b[38;5;21;01mpandas\u001b[39;00m \u001b[38;5;28;01mimport\u001b[39;00m DataFrame\n",
      "File \u001b[0;32m~/company-matching/cmf/data/probabilities.py:159\u001b[0m\n\u001b[1;32m    149\u001b[0m         du\u001b[38;5;241m.\u001b[39mdata_workspace_write(\n\u001b[1;32m    150\u001b[0m             df\u001b[38;5;241m=\u001b[39mprobabilities,\n\u001b[1;32m    151\u001b[0m             schema\u001b[38;5;241m=\u001b[39m\u001b[38;5;28mself\u001b[39m\u001b[38;5;241m.\u001b[39mdb_table\u001b[38;5;241m.\u001b[39mdb_schema,\n\u001b[1;32m    152\u001b[0m             table\u001b[38;5;241m=\u001b[39m\u001b[38;5;28mself\u001b[39m\u001b[38;5;241m.\u001b[39mdb_table\u001b[38;5;241m.\u001b[39mdb_table,\n\u001b[1;32m    153\u001b[0m             if_exists\u001b[38;5;241m=\u001b[39m\u001b[38;5;124m\"\u001b[39m\u001b[38;5;124mappend\u001b[39m\u001b[38;5;124m\"\u001b[39m,\n\u001b[1;32m    154\u001b[0m         )\n\u001b[1;32m    156\u001b[0m         \u001b[38;5;28;01mreturn\u001b[39;00m probabilities\n\u001b[0;32m--> 159\u001b[0m \u001b[38;5;28;01mclass\u001b[39;00m \u001b[38;5;21;01mProbabilityResults\u001b[39;00m(TableMixin, DataFrameMixin):\n\u001b[1;32m    160\u001b[0m     model_config \u001b[38;5;241m=\u001b[39m ConfigDict(arbitrary_types_allowed\u001b[38;5;241m=\u001b[39m\u001b[38;5;28;01mTrue\u001b[39;00m)\n\u001b[1;32m    162\u001b[0m     dataframe: Optional[DataFrame] \u001b[38;5;241m=\u001b[39m \u001b[38;5;28;01mNone\u001b[39;00m\n",
      "File \u001b[0;32m~/company-matching/cmf/data/probabilities.py:186\u001b[0m, in \u001b[0;36mProbabilityResults\u001b[0;34m()\u001b[0m\n\u001b[1;32m    181\u001b[0m     \u001b[38;5;28;01mif\u001b[39;00m \u001b[38;5;28mself\u001b[39m\u001b[38;5;241m.\u001b[39mdataframe \u001b[38;5;129;01mis\u001b[39;00m \u001b[38;5;129;01mnot\u001b[39;00m \u001b[38;5;28;01mNone\u001b[39;00m:\n\u001b[1;32m    182\u001b[0m         \u001b[38;5;28;01mreturn\u001b[39;00m \u001b[38;5;28mself\u001b[39m\u001b[38;5;241m.\u001b[39mdataframe\n\u001b[1;32m    184\u001b[0m \u001b[38;5;28;01mdef\u001b[39;00m \u001b[38;5;21mto_cmf\u001b[39m(\n\u001b[1;32m    185\u001b[0m     \u001b[38;5;28mself\u001b[39m,\n\u001b[0;32m--> 186\u001b[0m     cmf_conn: \u001b[43mCMFDB\u001b[49m,\n\u001b[1;32m    187\u001b[0m     overwrite: \u001b[38;5;28mbool\u001b[39m \u001b[38;5;241m=\u001b[39m \u001b[38;5;28;01mFalse\u001b[39;00m,\n\u001b[1;32m    188\u001b[0m ):\n\u001b[1;32m    189\u001b[0m     \u001b[38;5;28;01mif\u001b[39;00m \u001b[38;5;28mself\u001b[39m\u001b[38;5;241m.\u001b[39mdataframe \u001b[38;5;129;01mis\u001b[39;00m \u001b[38;5;129;01mnot\u001b[39;00m \u001b[38;5;28;01mNone\u001b[39;00m:\n\u001b[1;32m    190\u001b[0m         cmf_conn\u001b[38;5;241m.\u001b[39mprobabilities\u001b[38;5;241m.\u001b[39madd_probabilities(\n\u001b[1;32m    191\u001b[0m             probabilities\u001b[38;5;241m=\u001b[39m\u001b[38;5;28mself\u001b[39m\u001b[38;5;241m.\u001b[39mdataframe, model\u001b[38;5;241m=\u001b[39m\u001b[38;5;28mself\u001b[39m\u001b[38;5;241m.\u001b[39mrun_name\n\u001b[1;32m    192\u001b[0m         )\n",
      "\u001b[0;31mNameError\u001b[0m: name 'CMFDB' is not defined"
     ]
    }
   ],
   "source": [
    "from cmf.data import Probabilities, Table\n",
    "\n",
    "prob = Probabilities(\n",
    "    db_table=Table(\n",
    "        db_schema=os.getenv(\"SCHEMA\"), \n",
    "        db_table=os.getenv(\"PROBABILITIES_TABLE\")\n",
    "    )\n",
    ")"
   ]
  },
  {
   "cell_type": "code",
   "execution_count": 38,
   "id": "dfef51db-ac27-4e01-b9c4-ff2b965205a1",
   "metadata": {},
   "outputs": [],
   "source": [
    "results.to_cmf()"
   ]
  },
  {
   "cell_type": "code",
   "execution_count": 39,
   "id": "d27003dc-cc89-416b-a145-f6dd9befed79",
   "metadata": {},
   "outputs": [
    {
     "data": {
      "text/html": [
       "<div>\n",
       "<style scoped>\n",
       "    .dataframe tbody tr th:only-of-type {\n",
       "        vertical-align: middle;\n",
       "    }\n",
       "\n",
       "    .dataframe tbody tr th {\n",
       "        vertical-align: top;\n",
       "    }\n",
       "\n",
       "    .dataframe thead th {\n",
       "        text-align: right;\n",
       "    }\n",
       "</style>\n",
       "<table border=\"1\" class=\"dataframe\">\n",
       "  <thead>\n",
       "    <tr style=\"text-align: right;\">\n",
       "      <th></th>\n",
       "      <th>uuid</th>\n",
       "      <th>link_type</th>\n",
       "      <th>model</th>\n",
       "      <th>source</th>\n",
       "      <th>cluster</th>\n",
       "      <th>id</th>\n",
       "      <th>probability</th>\n",
       "    </tr>\n",
       "  </thead>\n",
       "  <tbody>\n",
       "    <tr>\n",
       "      <th>0</th>\n",
       "      <td>623adca9-1dd2-4db7-8b99-26d842b8a27d</td>\n",
       "      <td>link</td>\n",
       "      <td>foo</td>\n",
       "      <td>1</td>\n",
       "      <td>8229d1b6-5486-4dd5-ae92-d9ae3be9d7fc</td>\n",
       "      <td>aec1148c-39ee-4d6e-a7a5-ebfe36b7104f</td>\n",
       "      <td>0.10</td>\n",
       "    </tr>\n",
       "    <tr>\n",
       "      <th>1</th>\n",
       "      <td>93b7ffe9-01a8-4321-b0f0-e25fcd46ad37</td>\n",
       "      <td>link</td>\n",
       "      <td>foo</td>\n",
       "      <td>1</td>\n",
       "      <td>3e5a0820-6736-4da5-afa7-488f86500759</td>\n",
       "      <td>f93f530b-cdee-47d7-bb6b-a906aef18c6b</td>\n",
       "      <td>0.80</td>\n",
       "    </tr>\n",
       "    <tr>\n",
       "      <th>2</th>\n",
       "      <td>6e5ba1b4-d44b-483e-a433-a14aa2e06482</td>\n",
       "      <td>link</td>\n",
       "      <td>foo</td>\n",
       "      <td>1</td>\n",
       "      <td>b7b72197-c2ec-43e3-aa15-232eafb45d83</td>\n",
       "      <td>3eda53ac-f501-4f47-afa2-79b7762effff</td>\n",
       "      <td>0.99</td>\n",
       "    </tr>\n",
       "  </tbody>\n",
       "</table>\n",
       "</div>"
      ],
      "text/plain": [
       "                                   uuid link_type model  source  \\\n",
       "0  623adca9-1dd2-4db7-8b99-26d842b8a27d      link   foo       1   \n",
       "1  93b7ffe9-01a8-4321-b0f0-e25fcd46ad37      link   foo       1   \n",
       "2  6e5ba1b4-d44b-483e-a433-a14aa2e06482      link   foo       1   \n",
       "\n",
       "                                cluster                                    id  \\\n",
       "0  8229d1b6-5486-4dd5-ae92-d9ae3be9d7fc  aec1148c-39ee-4d6e-a7a5-ebfe36b7104f   \n",
       "1  3e5a0820-6736-4da5-afa7-488f86500759  f93f530b-cdee-47d7-bb6b-a906aef18c6b   \n",
       "2  b7b72197-c2ec-43e3-aa15-232eafb45d83  3eda53ac-f501-4f47-afa2-79b7762effff   \n",
       "\n",
       "   probability  \n",
       "0         0.10  \n",
       "1         0.80  \n",
       "2         0.99  "
      ]
     },
     "execution_count": 39,
     "metadata": {},
     "output_type": "execute_result"
    }
   ],
   "source": [
    "prob.db_table.read()"
   ]
  },
  {
   "cell_type": "code",
   "execution_count": null,
   "id": "97bb69f1-f55d-4a44-b496-a776a4a2d9ea",
   "metadata": {},
   "outputs": [],
   "source": []
  }
 ],
 "metadata": {
  "kernelspec": {
   "display_name": "company_matching",
   "language": "python",
   "name": "company_matching"
  },
  "language_info": {
   "codemirror_mode": {
    "name": "ipython",
    "version": 3
   },
   "file_extension": ".py",
   "mimetype": "text/x-python",
   "name": "python",
   "nbconvert_exporter": "python",
   "pygments_lexer": "ipython3",
   "version": "3.9.16"
  }
 },
 "nbformat": 4,
 "nbformat_minor": 5
}
