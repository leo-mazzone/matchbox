{
 "cells": [
  {
   "cell_type": "code",
   "execution_count": 2,
   "id": "1ffbb76a-c43b-4e5b-ac68-96973a97d8dd",
   "metadata": {},
   "outputs": [],
   "source": [
    "%load_ext autoreload\n",
    "%autoreload 2\n",
    "from IPython.core.interactiveshell import InteractiveShell\n",
    "InteractiveShell.ast_node_interactivity = \"all\""
   ]
  },
  {
   "cell_type": "code",
   "execution_count": 19,
   "id": "89c523bf-d97a-48d7-9444-133d385cff8a",
   "metadata": {},
   "outputs": [
    {
     "data": {
      "text/html": [
       "<div>\n",
       "<style scoped>\n",
       "    .dataframe tbody tr th:only-of-type {\n",
       "        vertical-align: middle;\n",
       "    }\n",
       "\n",
       "    .dataframe tbody tr th {\n",
       "        vertical-align: top;\n",
       "    }\n",
       "\n",
       "    .dataframe thead th {\n",
       "        text-align: right;\n",
       "    }\n",
       "</style>\n",
       "<table border=\"1\" class=\"dataframe\">\n",
       "  <thead>\n",
       "    <tr style=\"text-align: right;\">\n",
       "      <th></th>\n",
       "      <th>irrational</th>\n",
       "      <th>rounded</th>\n",
       "    </tr>\n",
       "  </thead>\n",
       "  <tbody>\n",
       "    <tr>\n",
       "      <th>0</th>\n",
       "      <td>pi</td>\n",
       "      <td>3.14</td>\n",
       "    </tr>\n",
       "    <tr>\n",
       "      <th>1</th>\n",
       "      <td>e</td>\n",
       "      <td>2.72</td>\n",
       "    </tr>\n",
       "    <tr>\n",
       "      <th>2</th>\n",
       "      <td>phi</td>\n",
       "      <td>1.62</td>\n",
       "    </tr>\n",
       "  </tbody>\n",
       "</table>\n",
       "</div>"
      ],
      "text/plain": [
       "  irrational  rounded\n",
       "0         pi     3.14\n",
       "1          e     2.72\n",
       "2        phi     1.62"
      ]
     },
     "execution_count": 19,
     "metadata": {},
     "output_type": "execute_result"
    }
   ],
   "source": [
    "from cmf.clean import cleaning_function\n",
    "from cmf.clean import steps\n",
    "from cmf.data import utils as du\n",
    "from cmf.data import DB, Clusters, Table\n",
    "\n",
    "from dotenv import load_dotenv, find_dotenv\n",
    "import os\n",
    "\n",
    "load_dotenv(find_dotenv())\n",
    "\n",
    "df = du.generate_dummy_df()\n",
    "\n",
    "df"
   ]
  },
  {
   "cell_type": "code",
   "execution_count": 9,
   "id": "5210506b-ecb8-49d0-ad8d-ead62aafa056",
   "metadata": {},
   "outputs": [],
   "source": [
    "def to_upper(column: str) -> str:\n",
    "    \"\"\"\n",
    "    All characters to uppercase\n",
    "    \"\"\"\n",
    "    return f\"upper({column})\"\n",
    "\n",
    "logger = logging.getLogger(__name__)\n",
    "\n",
    "logger.info(\n",
    "    \"Creating probabilities table \"\n",
    "    \"test\"\n",
    ")"
   ]
  },
  {
   "cell_type": "code",
   "execution_count": 31,
   "id": "a90750e3-345c-4478-a51e-595ae8b7fbd3",
   "metadata": {},
   "outputs": [
    {
     "data": {
      "text/plain": [
       "['uuid', 'id', 'cluster', 'source', 'n']"
      ]
     },
     "execution_count": 31,
     "metadata": {},
     "output_type": "execute_result"
    }
   ],
   "source": [
    "clusters._db_expected_fields"
   ]
  },
  {
   "cell_type": "code",
   "execution_count": 7,
   "id": "37f7a47f-332a-488d-ace8-43fad6dfbe09",
   "metadata": {},
   "outputs": [
    {
     "data": {
      "text/plain": [
       "True"
      ]
     },
     "execution_count": 7,
     "metadata": {},
     "output_type": "execute_result"
    },
    {
     "data": {
      "text/plain": [
       "True"
      ]
     },
     "execution_count": 7,
     "metadata": {},
     "output_type": "execute_result"
    },
    {
     "data": {
      "text/plain": [
       "False"
      ]
     },
     "execution_count": 7,
     "metadata": {},
     "output_type": "execute_result"
    }
   ],
   "source": [
    "x = set([\"id\", \"uuid\", \"name\"])\n",
    "y = set([\"id\", \"uuid\", \"name\"])\n",
    "z = set([\"id\"])\n",
    "a = set([\"id\", \"foo\"])\n",
    "\n",
    "y <= x\n",
    "z <= x\n",
    "a <= x"
   ]
  },
  {
   "cell_type": "code",
   "execution_count": 5,
   "id": "36640c10-945c-47f2-9c61-cc15102a4dec",
   "metadata": {},
   "outputs": [
    {
     "data": {
      "text/plain": [
       "2"
      ]
     },
     "execution_count": 5,
     "metadata": {},
     "output_type": "execute_result"
    },
    {
     "data": {
      "text/plain": [
       "1"
      ]
     },
     "execution_count": 5,
     "metadata": {},
     "output_type": "execute_result"
    },
    {
     "name": "stdout",
     "output_type": "stream",
     "text": [
      "foo\n",
      "bar\n",
      "baz\n",
      "quz\n"
     ]
    }
   ],
   "source": [
    "x = {\"foo\": \"bar\", \"baz\": \"quz\"}\n",
    "y = {\"foo\": \"bar\"}\n",
    "len(x)\n",
    "len(y)\n",
    "for i, j in x.items():\n",
    "    print(i)\n",
    "    print(j)"
   ]
  },
  {
   "cell_type": "code",
   "execution_count": 8,
   "id": "dd50c37a-6d61-4edf-a6be-29a8d472d7aa",
   "metadata": {},
   "outputs": [
    {
     "data": {
      "text/plain": [
       "'l'"
      ]
     },
     "execution_count": 8,
     "metadata": {},
     "output_type": "execute_result"
    },
    {
     "data": {
      "text/plain": [
       "'m'"
      ]
     },
     "execution_count": 8,
     "metadata": {},
     "output_type": "execute_result"
    }
   ],
   "source": [
    "from pydantic import BaseModel\n",
    "\n",
    "class Test(BaseModel):\n",
    "    x: str\n",
    "    y: str\n",
    "\n",
    "    @classmethod\n",
    "    def make_test(cls, foo: str) -> \"Test\":\n",
    "        return cls(\n",
    "            x=foo[0],\n",
    "            y=foo[-1]\n",
    "        )\n",
    "\n",
    "test = Test.make_test(foo=\"lorem\")\n",
    "test.x\n",
    "test.y"
   ]
  },
  {
   "cell_type": "code",
   "execution_count": 15,
   "id": "8f5f487a-4027-4bbf-b36a-bd9207f17284",
   "metadata": {},
   "outputs": [
    {
     "data": {
      "text/plain": [
       "'foo'"
      ]
     },
     "execution_count": 15,
     "metadata": {},
     "output_type": "execute_result"
    },
    {
     "data": {
      "text/plain": [
       "'bar'"
      ]
     },
     "execution_count": 15,
     "metadata": {},
     "output_type": "execute_result"
    }
   ],
   "source": [
    "p, q = tuple(y.items())[0]\n",
    "p\n",
    "q"
   ]
  },
  {
   "cell_type": "code",
   "execution_count": 26,
   "id": "1b15ee7f-1897-4a8e-b3cf-d6a40665d653",
   "metadata": {},
   "outputs": [
    {
     "data": {
      "text/plain": [
       "{'comparisons': [{'comparison': 'company_name = company_name'},\n",
       "  {'comparison': 'data_hub_id = data_hub_id'}]}"
      ]
     },
     "execution_count": 26,
     "metadata": {},
     "output_type": "execute_result"
    }
   ],
   "source": [
    "from cmf.helpers import comparison, comparisons\n",
    "from icecream import ic\n",
    "\n",
    "comparison_name = comparison(sql_condition=\"company_name = company_name\")\n",
    "comparison_id = comparison(sql_condition=\"data_hub_id = data_hub_id\")\n",
    "comparison_name_id = comparisons(comparison_name, comparison_id)\n",
    "\n",
    "comparison_name_id"
   ]
  },
  {
   "cell_type": "code",
   "execution_count": 19,
   "id": "65285193-4992-4211-a08e-1a441281b46f",
   "metadata": {},
   "outputs": [],
   "source": [
    "from cmf import query, process\n",
    "from cmf.helpers import selector, cleaner, cleaners\n",
    "from cmf.clean import company_name, company_number\n",
    "\n",
    "select_ch = selector(\n",
    "    table=\"companieshouse.companies\", fields=[\"company_number\", \"company_name\"]\n",
    ")\n",
    "ch_sample = query(select=select_ch, sample=0.05)\n",
    "\n",
    "cleaner_name = cleaner(function=company_name, arguments={\"column\": \"company_name\"})\n",
    "cleaner_number = cleaner(\n",
    "    function=company_number, arguments={\"column\": \"company_number\"}\n",
    ")\n",
    "cleaner_name_number = cleaners(cleaner_name, cleaner_number)\n",
    "\n",
    "ch_sample_cleaned = process(data=ch_sample, pipeline=cleaner_name_number)"
   ]
  },
  {
   "cell_type": "code",
   "execution_count": 28,
   "id": "7baa10eb-4728-42ad-b474-cad6c6116ebb",
   "metadata": {},
   "outputs": [
    {
     "ename": "ImportError",
     "evalue": "cannot import name 'make_deduper' from 'cmf' (/home/jovyan/company-matching/cmf/__init__.py)",
     "output_type": "error",
     "traceback": [
      "\u001b[0;31m---------------------------------------------------------------------------\u001b[0m",
      "\u001b[0;31mImportError\u001b[0m                               Traceback (most recent call last)",
      "Cell \u001b[0;32mIn[28], line 1\u001b[0m\n\u001b[0;32m----> 1\u001b[0m \u001b[38;5;28;01mfrom\u001b[39;00m \u001b[38;5;21;01mcmf\u001b[39;00m \u001b[38;5;28;01mimport\u001b[39;00m query, process, make_deduper\n\u001b[1;32m      2\u001b[0m \u001b[38;5;28;01mfrom\u001b[39;00m \u001b[38;5;21;01mcmf\u001b[39;00m\u001b[38;5;21;01m.\u001b[39;00m\u001b[38;5;21;01mdedupers\u001b[39;00m \u001b[38;5;28;01mimport\u001b[39;00m Naive\n\u001b[1;32m      3\u001b[0m \u001b[38;5;28;01mfrom\u001b[39;00m \u001b[38;5;21;01mcmf\u001b[39;00m\u001b[38;5;21;01m.\u001b[39;00m\u001b[38;5;21;01mhelpers\u001b[39;00m \u001b[38;5;28;01mimport\u001b[39;00m selector, cleaner, cleaners\n",
      "\u001b[0;31mImportError\u001b[0m: cannot import name 'make_deduper' from 'cmf' (/home/jovyan/company-matching/cmf/__init__.py)"
     ]
    }
   ],
   "source": [
    "from cmf import query, process, make_deduper\n",
    "from cmf.dedupers import Naive\n",
    "from cmf.helpers import selector, cleaner, cleaners\n",
    "from cmf.clean import company_name, postcode_to_area\n",
    "\n",
    "# Select\n",
    "select_exp = selector(\n",
    "    table=\"hmrc.trade__exporters\", \n",
    "    fields=[\"id\", \"company_name\", \"postcode\"]\n",
    ")\n",
    "exp_sample = query(select=select_exp, sample=0.05)\n",
    "\n",
    "# Clean\n",
    "cleaner_name = cleaner(function=company_name, arguments={\"column\": \"company_name\"})\n",
    "cleaner_pc = cleaner(\n",
    "    function=postcode_to_area, arguments={\"column\": \"postcode\"}\n",
    ")\n",
    "cleaner_name_pc = cleaners(cleaner_name, cleaner_pc)\n",
    "\n",
    "exp_sample_cleaned = process(data=exp_sample, pipeline=cleaner_name_pc)\n",
    "\n",
    "exp_naive_deduper = make_deduper(\n",
    "    dedupe_run_name=\"basic_hmrc_exp\",\n",
    "    description=\"\"\"\n",
    "        Clean company name, extract postcode area\n",
    "    \"\"\",\n",
    "    deduper=Naive,\n",
    "    data=exp_sample_cleaned,\n",
    "    dedupe_settings={\n",
    "        \"id\": \"id\",\n",
    "        \"unique_fields\": [\n",
    "            \"company_name\",\n",
    "            \"postcode\"\n",
    "        ]\n",
    "    }\n",
    ")\n",
    "\n",
    "exp_deduped = exp_naive_deduper()"
   ]
  }
 ],
 "metadata": {
  "kernelspec": {
   "display_name": "company_matching",
   "language": "python",
   "name": "company_matching"
  },
  "language_info": {
   "codemirror_mode": {
    "name": "ipython",
    "version": 3
   },
   "file_extension": ".py",
   "mimetype": "text/x-python",
   "name": "python",
   "nbconvert_exporter": "python",
   "pygments_lexer": "ipython3",
   "version": "3.9.16"
  }
 },
 "nbformat": 4,
 "nbformat_minor": 5
}
