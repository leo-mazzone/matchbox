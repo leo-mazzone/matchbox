{
 "cells": [
  {
   "cell_type": "code",
   "execution_count": 1,
   "id": "d8019f5c-5446-46fa-90d3-b5db28541001",
   "metadata": {
    "tags": []
   },
   "outputs": [],
   "source": [
    "%load_ext autoreload\n",
    "%autoreload 2\n",
    "from IPython.core.interactiveshell import InteractiveShell\n",
    "from IPython.display import IFrame, display\n",
    "InteractiveShell.ast_node_interactivity = \"all\"\n",
    "# pip install dwutils@git+ssh://git@gitlab.data.trade.gov.uk/ddatdatascienceteam/data-workspace-utilities.git@latest"
   ]
  },
  {
   "cell_type": "code",
   "execution_count": 43,
   "id": "6c751528-6238-4f29-a9e4-79bf167d8308",
   "metadata": {},
   "outputs": [],
   "source": [
    "import logging\n",
    "\n",
    "# import connectorx as cx\n",
    "from pandas import DataFrame\n",
    "import pandas as pd\n",
    "from typing import Optional\n",
    "from sqlglot import parse_one\n",
    "\n",
    "from sqlalchemy import select\n",
    "from sqlalchemy.dialects import postgresql\n",
    "\n",
    "import cmf\n",
    "from cmf.helpers import selector\n",
    "from cmf.data.utils import sqa_profiled\n",
    "from cmf.helpers.selector import _parent_to_tree, _tree_to_reachable_stmt, _reachable_to_parent_data_stmt, _selector_to_data\n",
    "from cmf.data import ENGINE\n",
    "\n",
    "def create_cmf_pipelines_logger() -> logging.Logger:\n",
    "    pipeline_logger = logging.getLogger(\"cmf_pipelines\")\n",
    "    logic_logger = logging.getLogger(\"cmf_logic\")\n",
    "\n",
    "    pipeline_logger.setLevel(logging.INFO)\n",
    "    logic_logger.setLevel(logging.INFO)\n",
    "\n",
    "    handler = logging.StreamHandler()\n",
    "    formatter = logging.Formatter(\n",
    "        \"[%(asctime)s: %(levelname)s] %(name)s %(module)s: %(message)s\"\n",
    "    )\n",
    "    handler.setFormatter(formatter)\n",
    "\n",
    "    pipeline_logger.addHandler(handler)\n",
    "    logic_logger.addHandler(handler)\n",
    "\n",
    "    return pipeline_logger\n",
    "\n",
    "logger = create_cmf_pipelines_logger()"
   ]
  },
  {
   "cell_type": "markdown",
   "id": "f701e3de-ee2a-4a61-b764-af9d3f34e91b",
   "metadata": {},
   "source": [
    "# Speeding up queries\n",
    "\n",
    "Everything is slower than I thought. Let's profile it.\n",
    "\n",
    "When I compiled and ran it was faster. Now when I run in SQLAlchemy it's faster. All I can conclude is that overall database load is what's screwing with this."
   ]
  },
  {
   "cell_type": "code",
   "execution_count": 44,
   "metadata": {
    "tags": []
   },
   "outputs": [
    {
     "output_type": "stream",
     "name": "stdout",
     "text": "CPU times: user 2 µs, sys: 0 ns, total: 2 µs\nWall time: 5.48 µs\n"
    },
    {
     "output_type": "error",
     "ename": "NameError",
     "evalue": "name 'ew_selector' is not defined",
     "traceback": [
      "\u001b[0;31m---------------------------------------------------------------------------\u001b[0m",
      "\u001b[0;31mNameError\u001b[0m                                 Traceback (most recent call last)",
      "Cell \u001b[0;32mIn[44], line 12\u001b[0m\n\u001b[1;32m      6\u001b[0m dh_selector \u001b[38;5;241m=\u001b[39m selector(\n\u001b[1;32m      7\u001b[0m     table\u001b[38;5;241m=\u001b[39m\u001b[38;5;124m\"\u001b[39m\u001b[38;5;124mdbt.data_hub__companies\u001b[39m\u001b[38;5;124m\"\u001b[39m,\n\u001b[1;32m      8\u001b[0m     fields\u001b[38;5;241m=\u001b[39m[\u001b[38;5;124m\"\u001b[39m\u001b[38;5;124mname\u001b[39m\u001b[38;5;124m\"\u001b[39m, \u001b[38;5;124m\"\u001b[39m\u001b[38;5;124mcompany_number\u001b[39m\u001b[38;5;124m\"\u001b[39m, \u001b[38;5;124m\"\u001b[39m\u001b[38;5;124maddress_postcode\u001b[39m\u001b[38;5;124m\"\u001b[39m],\n\u001b[1;32m      9\u001b[0m )\n\u001b[1;32m     11\u001b[0m \u001b[38;5;28;01mwith\u001b[39;00m sqa_profiled():\n\u001b[0;32m---> 12\u001b[0m     dh_raw \u001b[38;5;241m=\u001b[39m \u001b[43mcmf\u001b[49m\u001b[38;5;241;43m.\u001b[39;49m\u001b[43mquery\u001b[49m\u001b[43m(\u001b[49m\n\u001b[1;32m     13\u001b[0m \u001b[43m        \u001b[49m\u001b[43mselector\u001b[49m\u001b[38;5;241;43m=\u001b[39;49m\u001b[43mdh_selector\u001b[49m\u001b[43m,\u001b[49m\u001b[43m \u001b[49m\u001b[43mreturn_type\u001b[49m\u001b[38;5;241;43m=\u001b[39;49m\u001b[38;5;124;43m\"\u001b[39;49m\u001b[38;5;124;43mpandas\u001b[39;49m\u001b[38;5;124;43m\"\u001b[39;49m\u001b[43m,\u001b[49m\u001b[43m \u001b[49m\u001b[43mmodel\u001b[49m\u001b[38;5;241;43m=\u001b[39;49m\u001b[43m_SOURCE_L\u001b[49m\u001b[38;5;66;43;03m#, limit=SAMPLE\u001b[39;49;00m\n\u001b[1;32m     14\u001b[0m \u001b[43m    \u001b[49m\u001b[43m)\u001b[49m\n",
      "File \u001b[0;32m~/company-matching/cmf/helpers/selector.py:399\u001b[0m, in \u001b[0;36mquery\u001b[0;34m(selector, model, return_type, engine, limit)\u001b[0m\n\u001b[1;32m    395\u001b[0m     final_stmt \u001b[38;5;241m=\u001b[39m final_stmt\u001b[38;5;241m.\u001b[39mlimit(limit)\n\u001b[1;32m    397\u001b[0m \u001b[38;5;28;01mif\u001b[39;00m return_type \u001b[38;5;241m==\u001b[39m \u001b[38;5;124m\"\u001b[39m\u001b[38;5;124mpandas\u001b[39m\u001b[38;5;124m\"\u001b[39m:\n\u001b[1;32m    398\u001b[0m     \u001b[38;5;66;03m# Detect datatypes\u001b[39;00m\n\u001b[0;32m--> 399\u001b[0m     selector_dtypes \u001b[38;5;241m=\u001b[39m _selector_to_pandas_dtypes(\u001b[43mew_selector\u001b[49m, ENGINE)\n\u001b[1;32m    400\u001b[0m     default_dtypes \u001b[38;5;241m=\u001b[39m  {\n\u001b[1;32m    401\u001b[0m         \u001b[38;5;124m\"\u001b[39m\u001b[38;5;124mcluster_sha1\u001b[39m\u001b[38;5;124m\"\u001b[39m: \u001b[38;5;124m\"\u001b[39m\u001b[38;5;124mstring[pyarrow]\u001b[39m\u001b[38;5;124m\"\u001b[39m,\n\u001b[1;32m    402\u001b[0m         \u001b[38;5;124m\"\u001b[39m\u001b[38;5;124mdata_sha1\u001b[39m\u001b[38;5;124m\"\u001b[39m: \u001b[38;5;124m\"\u001b[39m\u001b[38;5;124mstring[pyarrow]\u001b[39m\u001b[38;5;124m\"\u001b[39m\n\u001b[1;32m    403\u001b[0m     }\n\u001b[1;32m    405\u001b[0m     \u001b[38;5;28;01mwith\u001b[39;00m ENGINE\u001b[38;5;241m.\u001b[39mconnect() \u001b[38;5;28;01mas\u001b[39;00m conn:\n\u001b[1;32m    406\u001b[0m         \u001b[38;5;66;03m# Compile query\u001b[39;00m\n",
      "\u001b[0;31mNameError\u001b[0m: name 'ew_selector' is not defined"
     ]
    }
   ],
   "source": [
    "%time\n",
    "\n",
    "# SAMPLE = 10_000\n",
    "_SOURCE_L = \"naive_data_hub_v1\"\n",
    "\n",
    "dh_selector = selector(\n",
    "    table=\"dbt.data_hub__companies\",\n",
    "    fields=[\"name\", \"company_number\", \"address_postcode\"],\n",
    ")\n",
    "\n",
    "with sqa_profiled():\n",
    "    dh_raw = cmf.query(\n",
    "        selector=dh_selector, return_type=\"pandas\", model=_SOURCE_L#, limit=SAMPLE\n",
    "    )"
   ]
  },
  {
   "cell_type": "code",
   "execution_count": 10,
   "metadata": {},
   "outputs": [
    {
     "output_type": "execute_result",
     "data": {
      "text/plain": "                                        cluster_sha1  ... dbt_data_hub__companies_address_postcode\n0  b'\\x00\\x00\\x8a\\x9c\\x95\\xa8\\xf2\\xd4c=:pa\\x86\\xa...  ...                                 CF83 8YE\n1  b'\\x00\\x05\\xce\\xde\\r\\xf1\\xa4\"$\\x94b6\\xd7g\\xe0\\...  ...                                  NG7 5GQ\n2  b'\\x00\\x07\\x93\\xb9,\\xcf\\xcd\\xe1h\\xad\\x8f\\x88!\\...  ...                                 MK17 8UR\n\n[3 rows x 5 columns]",
      "text/html": "<div>\n<style scoped>\n    .dataframe tbody tr th:only-of-type {\n        vertical-align: middle;\n    }\n\n    .dataframe tbody tr th {\n        vertical-align: top;\n    }\n\n    .dataframe thead th {\n        text-align: right;\n    }\n</style>\n<table border=\"1\" class=\"dataframe\">\n  <thead>\n    <tr style=\"text-align: right;\">\n      <th></th>\n      <th>cluster_sha1</th>\n      <th>data_sha1</th>\n      <th>dbt_data_hub__companies_name</th>\n      <th>dbt_data_hub__companies_company_number</th>\n      <th>dbt_data_hub__companies_address_postcode</th>\n    </tr>\n  </thead>\n  <tbody>\n    <tr>\n      <th>0</th>\n      <td>b'\\x00\\x00\\x8a\\x9c\\x95\\xa8\\xf2\\xd4c=:pa\\x86\\xa...</td>\n      <td>b'\\x00\\x00\\x8a\\x9c\\x95\\xa8\\xf2\\xd4c=:pa\\x86\\xa...</td>\n      <td>COLOUR TONE MASTERBATCH LIMITED</td>\n      <td>03176153</td>\n      <td>CF83 8YE</td>\n    </tr>\n    <tr>\n      <th>1</th>\n      <td>b'\\x00\\x05\\xce\\xde\\r\\xf1\\xa4\"$\\x94b6\\xd7g\\xe0\\...</td>\n      <td>b'\\x00\\x05\\xce\\xde\\r\\xf1\\xa4\"$\\x94b6\\xd7g\\xe0\\...</td>\n      <td>Fourays Fashion</td>\n      <td>&lt;NA&gt;</td>\n      <td>NG7 5GQ</td>\n    </tr>\n    <tr>\n      <th>2</th>\n      <td>b'\\x00\\x07\\x93\\xb9,\\xcf\\xcd\\xe1h\\xad\\x8f\\x88!\\...</td>\n      <td>b'\\x00\\x07\\x93\\xb9,\\xcf\\xcd\\xe1h\\xad\\x8f\\x88!\\...</td>\n      <td>JFL BROACHES &amp; BROACHING LIMITED</td>\n      <td>06917128</td>\n      <td>MK17 8UR</td>\n    </tr>\n  </tbody>\n</table>\n</div>"
     },
     "metadata": {},
     "execution_count": 10
    }
   ],
   "source": [
    "dh_raw.head(3)"
   ]
  },
  {
   "cell_type": "code",
   "execution_count": null,
   "metadata": {},
   "outputs": [],
   "source": [
    "dh_raw = cmf.query(\n",
    "    selector=dh_selector, return_type=\"pandas\", model=_SOURCE_L#, limit=SAMPLE\n",
    ")"
   ]
  },
  {
   "cell_type": "code",
   "execution_count": 6,
   "metadata": {
    "tags": []
   },
   "outputs": [
    {
     "output_type": "stream",
     "name": "stdout",
     "text": "CPU times: user 2 µs, sys: 0 ns, total: 2 µs\nWall time: 4.29 µs\n"
    }
   ],
   "source": [
    "%time\n",
    "\n",
    "SAMPLE = 10_000\n",
    "_SOURCE_L = \"naive_export_wins_v1\"\n",
    "\n",
    "ew_selector = selector(\n",
    "    table=\"dbt.export_wins__wins_dataset\",\n",
    "    fields=[\"company_name\", \"cdms_reference\"],\n",
    ")\n",
    "\n",
    "# with sqa_profiled():\n",
    "#     ew_raw = cmf.query(\n",
    "#         selector=ew_selector, return_type=\"sqlalchemy\", model=_SOURCE_L, limit=SAMPLE\n",
    "#     )"
   ]
  },
  {
   "cell_type": "code",
   "execution_count": 12,
   "metadata": {},
   "outputs": [
    {
     "output_type": "execute_result",
     "data": {
      "text/plain": "sqlalchemy.engine.result.ChunkedIteratorResult"
     },
     "metadata": {},
     "execution_count": 12
    }
   ],
   "source": [
    "type(ew_raw)"
   ]
  },
  {
   "source": [
    "# Export wins\n",
    "\n",
    "Takes ages here, but runs VERY fast in PG directly."
   ],
   "cell_type": "markdown",
   "metadata": {}
  },
  {
   "cell_type": "code",
   "execution_count": 4,
   "metadata": {},
   "outputs": [],
   "source": [
    "model = \"naive_export_wins_v1\"\n",
    "ew_selector = selector(\n",
    "    table=\"dbt.export_wins__wins_dataset\",\n",
    "    fields=[\"company_name\", \"cdms_reference\"],\n",
    ")\n",
    "\n",
    "# We want raw data with clusters attached\n",
    "parent, child = _parent_to_tree(model, engine=ENGINE)\n",
    "if len(parent) == 0:\n",
    "    raise ValueError(f\"Model {model} not found\")\n",
    "tree = [parent] + child\n",
    "reachable_stmt = _tree_to_reachable_stmt(tree)\n",
    "lookup_stmt = _reachable_to_parent_data_stmt(reachable_stmt, parent)\n",
    "data_stmt = _selector_to_data(ew_selector, engine=ENGINE).cte()\n",
    "\n",
    "final_stmt = select(lookup_stmt.c.parent.label(\"cluster_sha1\"), data_stmt).join(\n",
    "    lookup_stmt, lookup_stmt.c.child == data_stmt.c.data_sha1\n",
    ")"
   ]
  },
  {
   "cell_type": "code",
   "execution_count": 6,
   "metadata": {},
   "outputs": [],
   "source": [
    "with ENGINE.connect() as conn:\n",
    "    cursor = conn.connection.cursor()\n",
    "    compiled = final_stmt.compile(\n",
    "        dialect=postgresql.dialect(),\n",
    "        compile_kwargs={\"render_postcompile\": True}\n",
    "    )\n",
    "    compiled_bound = cursor.mogrify(str(compiled), compiled.params)\n",
    "    sql = parse_one(compiled_bound.decode(\"utf-8\"))\n"
   ]
  },
  {
   "cell_type": "code",
   "execution_count": 14,
   "metadata": {
    "tags": []
   },
   "outputs": [],
   "source": [
    "from cmf.data.utils import get_schema_table_names, string_to_dataset, string_to_table\n",
    "from sqlalchemy import LABEL_STYLE_TABLENAME_PLUS_COL\n",
    "from sqlalchemy.orm import Session\n",
    "\n",
    "def selector_to_datatypes(selector, engine):\n",
    "    types_dict = {}\n",
    "    for schema_table, fields in selector.items():\n",
    "        db_schema, db_table = get_schema_table_names(schema_table)\n",
    "        db_table = string_to_table(db_schema, db_table, engine=engine)\n",
    "        stmt = (\n",
    "            select(db_table.c[tuple(fields)])\n",
    "            .limit(1)\n",
    "            .set_label_style(LABEL_STYLE_TABLENAME_PLUS_COL)\n",
    "        )\n",
    "        with Session(ENGINE) as session:\n",
    "            res = pd.read_sql(stmt, session.bind).convert_dtypes(\n",
    "                dtype_backend=\"pyarrow\"\n",
    "            )\n",
    "        types_dict = types_dict | res.dtypes.apply(lambda x: x.name).to_dict()\n",
    "    \n",
    "    return types_dict\n"
   ]
  },
  {
   "cell_type": "code",
   "execution_count": 14,
   "metadata": {},
   "outputs": [
    {
     "output_type": "execute_result",
     "data": {
      "text/plain": "                                           data_sha1  \\\n0  b'O\\xa7\\xd1k\\x0f\\xed\\xb6R\\xe4X-w\\x01ag\\xaam\\xa...   \n\n  dbt_export_wins__wins_dataset_company_name  \\\n0                   Veolia Nuclear Solutions   \n\n  dbt_export_wins__wins_dataset_cdms_reference  \n0                                 ORG-10039882  ",
      "text/html": "<div>\n<style scoped>\n    .dataframe tbody tr th:only-of-type {\n        vertical-align: middle;\n    }\n\n    .dataframe tbody tr th {\n        vertical-align: top;\n    }\n\n    .dataframe thead th {\n        text-align: right;\n    }\n</style>\n<table border=\"1\" class=\"dataframe\">\n  <thead>\n    <tr style=\"text-align: right;\">\n      <th></th>\n      <th>data_sha1</th>\n      <th>dbt_export_wins__wins_dataset_company_name</th>\n      <th>dbt_export_wins__wins_dataset_cdms_reference</th>\n    </tr>\n  </thead>\n  <tbody>\n    <tr>\n      <th>0</th>\n      <td>b'O\\xa7\\xd1k\\x0f\\xed\\xb6R\\xe4X-w\\x01ag\\xaam\\xa...</td>\n      <td>Veolia Nuclear Solutions</td>\n      <td>ORG-10039882</td>\n    </tr>\n  </tbody>\n</table>\n</div>"
     },
     "metadata": {},
     "execution_count": 14
    }
   ],
   "source": [
    "from sqlalchemy.orm import Session\n",
    "\n",
    "with Session(ENGINE) as session:\n",
    "    res = pd.read_sql(\n",
    "        _selector_to_data(ew_selector, engine=ENGINE).limit(1),\n",
    "        session.bind\n",
    "    ).convert_dtypes(\n",
    "        dtype_backend=\"pyarrow\"\n",
    "    )\n",
    "\n",
    "res"
   ]
  },
  {
   "cell_type": "code",
   "execution_count": 41,
   "metadata": {
    "tags": []
   },
   "outputs": [
    {
     "output_type": "stream",
     "name": "stdout",
     "text": "CPU times: user 2 µs, sys: 0 ns, total: 2 µs\nWall time: 4.53 µs\n"
    },
    {
     "output_type": "execute_result",
     "data": {
      "text/plain": "0"
     },
     "metadata": {},
     "execution_count": 41
    },
    {
     "output_type": "execute_result",
     "data": {
      "text/plain": "                                        cluster_sha1  \\\n0  b'\\x02\\xd3\\xc3\\xfb\\x01KnG\\xc9,\\x07\\xb1\\xc1\\x11...   \n1  b'\\x04\\xdfY\\xad\\xadtT\\x1b\\xed\\xfd\\x06w\\xe9J\\xf...   \n2  b'\\x06\\xc1S\\xb5p\\x88SZ\\xbcV\\xd0a\\xfbT\\xad\\xd3g...   \n\n                                           data_sha1  \\\n0  b'\\x02\\xd3\\xc3\\xfb\\x01KnG\\xc9,\\x07\\xb1\\xc1\\x11...   \n1  b'&\\x04\\x9a\\xda~v\\xbeu?F\\xf0\\xfd\\x92\\xa7IP\\xfa...   \n2  b'\\x8cV\\xb8[\\xac\\xa6K,]\\xb1\\x96\\xbf\\xfe\\x1a\\x9...   \n\n  dbt_export_wins__wins_dataset_company_name  \\\n0                    ETA Green Power Limited   \n1                        Med-Eq (Europe) Ltd   \n2                  Silver Lined Horizons Ltd   \n\n  dbt_export_wins__wins_dataset_cdms_reference  \n0                Companies House ref: 12359858  \n1                                 ORG-10109781  \n2                                 ORG-10170829  ",
      "text/html": "<div>\n<style scoped>\n    .dataframe tbody tr th:only-of-type {\n        vertical-align: middle;\n    }\n\n    .dataframe tbody tr th {\n        vertical-align: top;\n    }\n\n    .dataframe thead th {\n        text-align: right;\n    }\n</style>\n<table border=\"1\" class=\"dataframe\">\n  <thead>\n    <tr style=\"text-align: right;\">\n      <th></th>\n      <th>cluster_sha1</th>\n      <th>data_sha1</th>\n      <th>dbt_export_wins__wins_dataset_company_name</th>\n      <th>dbt_export_wins__wins_dataset_cdms_reference</th>\n    </tr>\n  </thead>\n  <tbody>\n    <tr>\n      <th>0</th>\n      <td>b'\\x02\\xd3\\xc3\\xfb\\x01KnG\\xc9,\\x07\\xb1\\xc1\\x11...</td>\n      <td>b'\\x02\\xd3\\xc3\\xfb\\x01KnG\\xc9,\\x07\\xb1\\xc1\\x11...</td>\n      <td>ETA Green Power Limited</td>\n      <td>Companies House ref: 12359858</td>\n    </tr>\n    <tr>\n      <th>1</th>\n      <td>b'\\x04\\xdfY\\xad\\xadtT\\x1b\\xed\\xfd\\x06w\\xe9J\\xf...</td>\n      <td>b'&amp;\\x04\\x9a\\xda~v\\xbeu?F\\xf0\\xfd\\x92\\xa7IP\\xfa...</td>\n      <td>Med-Eq (Europe) Ltd</td>\n      <td>ORG-10109781</td>\n    </tr>\n    <tr>\n      <th>2</th>\n      <td>b'\\x06\\xc1S\\xb5p\\x88SZ\\xbcV\\xd0a\\xfbT\\xad\\xd3g...</td>\n      <td>b'\\x8cV\\xb8[\\xac\\xa6K,]\\xb1\\x96\\xbf\\xfe\\x1a\\x9...</td>\n      <td>Silver Lined Horizons Ltd</td>\n      <td>ORG-10170829</td>\n    </tr>\n  </tbody>\n</table>\n</div>"
     },
     "metadata": {},
     "execution_count": 41
    },
    {
     "output_type": "stream",
     "name": "stdout",
     "text": "<class 'pandas.core.frame.DataFrame'>\nRangeIndex: 57658 entries, 0 to 57657\nData columns (total 4 columns):\n #   Column                                        Non-Null Count  Dtype          \n---  ------                                        --------------  -----          \n 0   cluster_sha1                                  57658 non-null  binary[pyarrow]\n 1   data_sha1                                     57658 non-null  binary[pyarrow]\n 2   dbt_export_wins__wins_dataset_company_name    57658 non-null  string         \n 3   dbt_export_wins__wins_dataset_cdms_reference  57571 non-null  string         \ndtypes: binary[pyarrow](2), string(2)\nmemory usage: 5.2 MB\n"
    }
   ],
   "source": [
    "%time\n",
    "\n",
    "import io\n",
    "\n",
    "selector_dtypes = selector_to_datatypes(ew_selector, ENGINE)\n",
    "default_dtypes =  {\n",
    "    \"cluster_sha1\": \"string[pyarrow]\",\n",
    "    \"data_sha1\": \"string[pyarrow]\"\n",
    "}\n",
    "\n",
    "with ENGINE.connect() as conn:\n",
    "    cursor = conn.connection.cursor()\n",
    "    compiled = final_stmt.compile(\n",
    "        dialect=postgresql.dialect(),\n",
    "        compile_kwargs={\"render_postcompile\": True}\n",
    "    )\n",
    "    compiled_bound = cursor.mogrify(str(compiled), compiled.params)\n",
    "    sql = compiled_bound.decode(\"utf-8\")\n",
    "    copy_sql = f\"copy ({sql}) to stdout with csv header\"\n",
    "\n",
    "    store = io.StringIO()\n",
    "    cursor.copy_expert(copy_sql, store)\n",
    "    store.seek(0)\n",
    "    \n",
    "    res = pd.read_csv(store, dtype=default_dtypes | selector_dtypes)\n",
    "\n",
    "    if \"data_sha1\" in res.columns:\n",
    "        res.data_sha1 = res.data_sha1.str[2:].apply(bytes.fromhex)\n",
    "        res.data_sha1 = res.data_sha1.astype(\"binary[pyarrow]\")\n",
    "    if \"cluster_sha1\" in res.columns:\n",
    "        res.cluster_sha1 = res.cluster_sha1.str[2:].apply(bytes.fromhex)\n",
    "        res.cluster_sha1 = res.cluster_sha1.astype(\"binary[pyarrow]\")\n",
    "    \n",
    "res.head(3)\n",
    "res.info()"
   ]
  },
  {
   "cell_type": "code",
   "execution_count": 38,
   "metadata": {},
   "outputs": [
    {
     "output_type": "execute_result",
     "data": {
      "text/plain": "20"
     },
     "metadata": {},
     "execution_count": 38
    }
   ],
   "source": []
  },
  {
   "cell_type": "code",
   "execution_count": 36,
   "metadata": {},
   "outputs": [
    {
     "output_type": "execute_result",
     "data": {
      "text/plain": "b'\\x02\\xd3\\xc3\\xfb\\x01KnG\\xc9,\\x07\\xb1\\xc1\\x11N\\xd7\\xb6\\xcb\\x1bq'"
     },
     "metadata": {},
     "execution_count": 36
    }
   ],
   "source": [
    "bytes.fromhex(df.cluster_sha1[0][2:])"
   ]
  },
  {
   "cell_type": "code",
   "execution_count": 23,
   "metadata": {},
   "outputs": [
    {
     "output_type": "execute_result",
     "data": {
      "text/plain": "b'\\\\x02d3c3fb014b6e47c92c07b1c1114ed7b6cb1b71'"
     },
     "metadata": {},
     "execution_count": 23
    }
   ],
   "source": [
    "x = df.cluster_sha1[0]\n",
    "bytes(x.encode(\"utf-8\"))"
   ]
  },
  {
   "cell_type": "code",
   "execution_count": 30,
   "metadata": {},
   "outputs": [
    {
     "output_type": "execute_result",
     "data": {
      "text/plain": "b'\\\\x02d3c3fb014b6e47c92c07b1c1114ed7b6cb1b71'"
     },
     "metadata": {},
     "execution_count": 30
    }
   ],
   "source": [
    "x.encode(\"utf-8\")"
   ]
  },
  {
   "cell_type": "code",
   "execution_count": 29,
   "metadata": {},
   "outputs": [
    {
     "output_type": "execute_result",
     "data": {
      "text/plain": "20"
     },
     "metadata": {},
     "execution_count": 29
    }
   ],
   "source": [
    "import hashlib\n",
    "len(hashlib.sha1().digest())"
   ]
  },
  {
   "cell_type": "code",
   "execution_count": 16,
   "metadata": {
    "tags": []
   },
   "outputs": [
    {
     "output_type": "stream",
     "name": "stdout",
     "text": "CPU times: user 4 µs, sys: 0 ns, total: 4 µs\nWall time: 10.5 µs\n"
    },
    {
     "output_type": "execute_result",
     "data": {
      "text/plain": "pyarrow.Table\ncluster_sha1: large_binary\ndata_sha1: large_binary\ndbt_export_wins__wins_dataset_company_name: string\ndbt_export_wins__wins_dataset_cdms_reference: string\n----\ncluster_sha1: [[02D3C3FB014B6E47C92C07B1C1114ED7B6CB1B71,04DF59ADAD74541BEDFD0677E94AF4097B808FD0,06C153B57088535ABC56D061FB54ADD36795CF5A,0AA1B08A949FA0743EE7175AF7ED5FCF315397FC,0F4ED090B49C9AB5DBF7F9AA4849F466B4F654CB,...,F86BCAFA29797916160A37F25ED8AA34B70C0FCE,F8FB7C510BF37E463D0BE09101BC29EE13CA8A71,FB74D423C8D75AAAFF822C60A44BB7E704820A3E,FC2D37EF721A256FD4C88CD1F5D3722C7192C047,FFA426C5EEC58E7630A0849F1039416B3C071AE8]]\ndata_sha1: [[02D3C3FB014B6E47C92C07B1C1114ED7B6CB1B71,26049ADA7E76BE753F46F0FD92A74950FAD49762,8C56B85BACA64B2C5DB196BFFE1A952B65B5A039,4B6181C1E38124BBED5DB64F3B74C6278531A824,0F4ED090B49C9AB5DBF7F9AA4849F466B4F654CB,...,7CBF24EED28CF959FAE9B1250518B59847643755,330BB80215A604659B5F3D897B26AE7C5C88E220,87581D5F0D58AF9E1A40DBDF2AF711C534A6AC81,1129391B5B703884860DC15E27386F9DC7A0B41B,37EEEADA6546F96D5EE506B435674B1568E5BAD8]]\ndbt_export_wins__wins_dataset_company_name: [[\"ETA Green Power Limited\",\"Med-Eq (Europe) Ltd\",\"Silver Lined Horizons Ltd\",\"Travelbee Ltd\",\"Hyde Sails\",...,\"AEROSERVICES LTD.\",\"Instarmac Group PLC\",\"Crush Creative Ltd.\",\"Stelfox UK Ltd\",\"Delf Freezer Wear Limited\"]]\ndbt_export_wins__wins_dataset_cdms_reference: [[\"Companies House ref: 12359858\",\"ORG-10109781\",\"ORG-10170829\",\"10010986\",\"00046947\",...,\"06403722\",\"01324925\",\"03610570\",\"ORG-10136650\",\"04368635\"]]"
     },
     "metadata": {},
     "execution_count": 16
    }
   ],
   "source": [
    "%time\n",
    "\n",
    "df = cx.read_sql(\n",
    "    f\"postgresql://{os.environ['PGUSER']}:{os.environ['PGPASSWORD']}@{os.environ['PGHOST']}:{os.environ['PGPORT']}/{os.environ['PGDATABASE']}\", \n",
    "    compiled_bound.decode(\"utf-8\"), \n",
    "    return_type=\"arrow\"\n",
    ")\n",
    "df"
   ]
  },
  {
   "cell_type": "code",
   "execution_count": null,
   "metadata": {},
   "outputs": [],
   "source": [
    "%time\n",
    "\n",
    "df = cx.read_sql(\n",
    "    f\"postgresql://{os.environ['PGUSER']}:{os.environ['PGPASSWORD']}@{os.environ['PGHOST']}:{os.environ['PGPORT']}/{os.environ['PGDATABASE']}\", \n",
    "    sql.sql(dialect=\"postgres\"), \n",
    "    return_type=\"polars\"\n",
    ")\n",
    "df.head(3)"
   ]
  },
  {
   "cell_type": "code",
   "execution_count": 42,
   "metadata": {
    "tags": []
   },
   "outputs": [
    {
     "output_type": "stream",
     "name": "stdout",
     "text": "WITH RECURSIVE source_data_unnested AS (\n  SELECT\n    _team_cmf.cmf__source_data.sha1 AS sha1,\n    UNNEST(_team_cmf.cmf__source_data.id) AS id,\n    _team_cmf.cmf__source_data.dataset AS dataset\n  FROM _team_cmf.cmf__source_data\n), anon_1 AS (\n  SELECT\n    source_data_unnested.sha1 AS data_sha1,\n    dbt.export_wins__wins_dataset.company_name AS dbt_export_wins__wins_dataset_company_name,\n    dbt.export_wins__wins_dataset.cdms_reference AS dbt_export_wins__wins_dataset_cdms_reference\n  FROM source_data_unnested\n  LEFT OUTER JOIN dbt.export_wins__wins_dataset\n    ON source_data_unnested.id = CAST(dbt.export_wins__wins_dataset.id AS VARCHAR)\n    AND source_data_unnested.dataset = CAST(CAST('cc89099f-d065-49cc-aa45-e08e1db6653a' AS UUID) AS UUID)\n  WHERE\n    NOT dbt.export_wins__wins_dataset.id IS NULL\n), allowed AS (\n  SELECT\n    _team_cmf.cmf__ddupe_contains.parent AS parent,\n    _team_cmf.cmf__ddupe_contains.child AS child\n  FROM _team_cmf.cmf__ddupe_contains\n  JOIN _team_cmf.cmf__clusters AS cmf__clusters_1\n    ON _team_cmf.cmf__ddupe_contains.parent = cmf__clusters_1.sha1\n  JOIN _team_cmf.cmf__models_create_clusters\n    ON _team_cmf.cmf__models_create_clusters.child = cmf__clusters_1.sha1\n  JOIN _team_cmf.cmf__models\n    ON _team_cmf.cmf__models_create_clusters.parent = _team_cmf.cmf__models.sha1\n  WHERE\n    _team_cmf.cmf__models.sha1 IN (CAST('\\x17a46e0ea365597922a07f6b7bb01b9956807b21' AS BYTEA))\n  UNION\n  SELECT\n    _team_cmf.cmf__link_contains.parent AS parent,\n    _team_cmf.cmf__link_contains.child AS child\n  FROM _team_cmf.cmf__link_contains\n  JOIN _team_cmf.cmf__clusters AS cmf__clusters_1\n    ON _team_cmf.cmf__link_contains.parent = cmf__clusters_1.sha1\n  JOIN _team_cmf.cmf__clusters AS cmf__clusters_2\n    ON _team_cmf.cmf__link_contains.child = cmf__clusters_2.sha1\n  JOIN _team_cmf.cmf__models_create_clusters\n    ON _team_cmf.cmf__models_create_clusters.child = cmf__clusters_1.sha1\n  JOIN _team_cmf.cmf__models\n    ON _team_cmf.cmf__models_create_clusters.parent = _team_cmf.cmf__models.sha1\n  WHERE\n    _team_cmf.cmf__models.sha1 IN (CAST('\\x17a46e0ea365597922a07f6b7bb01b9956807b21' AS BYTEA))\n), root AS (\n  SELECT\n    allowed.parent AS parent,\n    allowed.child AS child\n  FROM allowed\n  JOIN _team_cmf.cmf__clusters\n    ON _team_cmf.cmf__clusters.sha1 = allowed.parent\n  JOIN _team_cmf.cmf__models_create_clusters\n    ON _team_cmf.cmf__models_create_clusters.child = _team_cmf.cmf__clusters.sha1\n  JOIN _team_cmf.cmf__models\n    ON _team_cmf.cmf__models_create_clusters.parent = _team_cmf.cmf__models.sha1\n  WHERE\n    _team_cmf.cmf__models.sha1 = CAST('\\x17a46e0ea365597922a07f6b7bb01b9956807b21' AS BYTEA)\n), recurse(parent, child) AS (\n  SELECT\n    root.parent AS parent,\n    root.child AS child\n  FROM root\n  UNION\n  SELECT\n    recurse.parent AS parent,\n    allowed.child AS child\n  FROM allowed\n  JOIN recurse\n    ON allowed.parent = recurse.child\n)\nSELECT\n  recurse.parent AS cluster_sha1,\n  anon_1.data_sha1,\n  anon_1.dbt_export_wins__wins_dataset_company_name,\n  anon_1.dbt_export_wins__wins_dataset_cdms_reference\nFROM anon_1\nJOIN recurse\n  ON recurse.child = anon_1.data_sha1\n"
    }
   ],
   "source": [
    "print(sql.sql(dialect=\"postgres\", pretty=True))"
   ]
  },
  {
   "cell_type": "code",
   "execution_count": 41,
   "metadata": {
    "tags": []
   },
   "outputs": [
    {
     "output_type": "stream",
     "name": "stdout",
     "text": "WITH RECURSIVE \"allowed\" AS (\n  SELECT\n    \"_team_cmf\".\"cmf__ddupe_contains\".\"parent\" AS \"parent\",\n    \"_team_cmf\".\"cmf__ddupe_contains\".\"child\" AS \"child\"\n  FROM \"_team_cmf\".\"cmf__ddupe_contains\" AS \"cmf__ddupe_contains\"\n  JOIN \"_team_cmf\".\"cmf__clusters\" AS \"cmf__clusters_1\"\n    ON \"_team_cmf\".\"cmf__ddupe_contains\".\"parent\" = \"cmf__clusters_1\".\"sha1\"\n  JOIN \"_team_cmf\".\"cmf__models_create_clusters\" AS \"cmf__models_create_clusters\"\n    ON \"_team_cmf\".\"cmf__models_create_clusters\".\"child\" = \"cmf__clusters_1\".\"sha1\"\n  JOIN \"_team_cmf\".\"cmf__models\" AS \"cmf__models\"\n    ON \"_team_cmf\".\"cmf__models\".\"sha1\" = \"_team_cmf\".\"cmf__models_create_clusters\".\"parent\"\n    AND \"_team_cmf\".\"cmf__models\".\"sha1\" IN (CAST('\\x17a46e0ea365597922a07f6b7bb01b9956807b21' AS BYTEA))\n  UNION\n  SELECT\n    \"_team_cmf\".\"cmf__link_contains\".\"parent\" AS \"parent\",\n    \"_team_cmf\".\"cmf__link_contains\".\"child\" AS \"child\"\n  FROM \"_team_cmf\".\"cmf__link_contains\" AS \"cmf__link_contains\"\n  JOIN \"_team_cmf\".\"cmf__clusters\" AS \"cmf__clusters_1\"\n    ON \"_team_cmf\".\"cmf__link_contains\".\"parent\" = \"cmf__clusters_1\".\"sha1\"\n  JOIN \"_team_cmf\".\"cmf__clusters\" AS \"cmf__clusters_2\"\n    ON \"_team_cmf\".\"cmf__link_contains\".\"child\" = \"cmf__clusters_2\".\"sha1\"\n  JOIN \"_team_cmf\".\"cmf__models_create_clusters\" AS \"cmf__models_create_clusters\"\n    ON \"_team_cmf\".\"cmf__models_create_clusters\".\"child\" = \"cmf__clusters_1\".\"sha1\"\n  JOIN \"_team_cmf\".\"cmf__models\" AS \"cmf__models\"\n    ON \"_team_cmf\".\"cmf__models\".\"sha1\" = \"_team_cmf\".\"cmf__models_create_clusters\".\"parent\"\n    AND \"_team_cmf\".\"cmf__models\".\"sha1\" IN (CAST('\\x17a46e0ea365597922a07f6b7bb01b9956807b21' AS BYTEA))\n), \"recurse\"(\"parent\", \"child\") AS (\n  SELECT\n    \"allowed\".\"parent\" AS \"parent\",\n    \"allowed\".\"child\" AS \"child\"\n  FROM \"allowed\" AS \"allowed\"\n  JOIN \"_team_cmf\".\"cmf__clusters\" AS \"cmf__clusters\"\n    ON \"_team_cmf\".\"cmf__clusters\".\"sha1\" = \"allowed\".\"parent\"\n  JOIN \"_team_cmf\".\"cmf__models_create_clusters\" AS \"cmf__models_create_clusters\"\n    ON \"_team_cmf\".\"cmf__clusters\".\"sha1\" = \"_team_cmf\".\"cmf__models_create_clusters\".\"child\"\n  JOIN \"_team_cmf\".\"cmf__models\" AS \"cmf__models\"\n    ON \"_team_cmf\".\"cmf__models\".\"sha1\" = \"_team_cmf\".\"cmf__models_create_clusters\".\"parent\"\n    AND \"_team_cmf\".\"cmf__models\".\"sha1\" = CAST('\\x17a46e0ea365597922a07f6b7bb01b9956807b21' AS BYTEA)\n  UNION\n  SELECT\n    \"recurse\".\"parent\" AS \"parent\",\n    \"allowed\".\"child\" AS \"child\"\n  FROM \"allowed\" AS \"allowed\"\n  JOIN \"recurse\" AS \"recurse\"\n    ON \"allowed\".\"parent\" = \"recurse\".\"child\"\n)\nSELECT\n  \"recurse\".\"parent\" AS \"cluster_sha1\",\n  \"_team_cmf\".\"cmf__source_data\".\"sha1\" AS \"data_sha1\",\n  \"dbt\".\"export_wins__wins_dataset\".\"company_name\" AS \"dbt_export_wins__wins_dataset_company_name\",\n  \"dbt\".\"export_wins__wins_dataset\".\"cdms_reference\" AS \"dbt_export_wins__wins_dataset_cdms_reference\"\nFROM \"_team_cmf\".\"cmf__source_data\" AS \"cmf__source_data\"\nLEFT JOIN \"dbt\".\"export_wins__wins_dataset\" AS \"export_wins__wins_dataset\"\n  ON \"_team_cmf\".\"cmf__source_data\".\"dataset\" = CAST('cc89099f-d065-49cc-aa45-e08e1db6653a' AS UUID)\n  AND UNNEST(\"_team_cmf\".\"cmf__source_data\".\"id\") = CAST(\"dbt\".\"export_wins__wins_dataset\".\"id\" AS VARCHAR)\nJOIN \"recurse\" AS \"recurse\"\n  ON \"_team_cmf\".\"cmf__source_data\".\"sha1\" = \"recurse\".\"child\"\nWHERE\n  NOT \"dbt\".\"export_wins__wins_dataset\".\"id\" IS NULL\n"
    }
   ],
   "source": [
    "from sqlglot.optimizer import optimize\n",
    "\n",
    "optimised = optimize(\n",
    "    sql,\n",
    "    schema={\n",
    "        \"_team_cmf.cmf__source_data\": {\n",
    "            \"sha1\": \"BINARY\",\n",
    "            \"id\": \"STRING\",\n",
    "            \"dataset\": \"UUID\",\n",
    "        },\n",
    "        \"_team_cmf.cmf__clusters\": {\n",
    "            \"sha1\": \"BINARY\",\n",
    "        },\n",
    "        \"_team_cmf.cmf__models_create_clusters\": {\n",
    "            \"parent\": \"BINARY\",\n",
    "            \"child\": \"BINARY\",\n",
    "        },\n",
    "        \"_team_cmf.cmf__models\": {\n",
    "            \"sha1\": \"BINARY\",\n",
    "        },\n",
    "        \"_team_cmf.cmf__link_contains\": {\n",
    "            \"parent\": \"BINARY\",\n",
    "            \"child\": \"BINARY\",\n",
    "        },\n",
    "        \"_team_cmf.cmf__ddupe_contains\": {\n",
    "            \"parent\": \"BINARY\",\n",
    "            \"child\": \"BINARY\",\n",
    "        },\n",
    "        \"_team_cmf.cmf__clusters\": {\n",
    "            \"sha1\": \"BINARY\",\n",
    "        },\n",
    "        \"dbt.export_wins__wins_dataset\": {\n",
    "            \"id\": \"STRING\",\n",
    "            \"company_name\": \"STRING\",\n",
    "            \"cdms_reference\": \"STRING\",\n",
    "        }\n",
    "    }\n",
    ")\n",
    "\n",
    "print(optimised.sql(dialect=\"postgres\", pretty=True))"
   ]
  },
  {
   "source": [
    "# Companies House\n",
    "\n",
    "Should take forever -- timed out for me.\n",
    "\n",
    "And yet in PGAdmin, 2 mins. Wtf?!"
   ],
   "cell_type": "markdown",
   "metadata": {}
  },
  {
   "source": [
    "model = \"naive_companies_house_v1\"\n",
    "ch_selector = selector(\n",
    "    table=\"companieshouse.companies\",\n",
    "    fields=[\"company_name\", \"company_number\", \"postcode\"],\n",
    ")\n",
    "\n",
    "# We want raw data with clusters attached\n",
    "parent, child = _parent_to_tree(model, engine=ENGINE)\n",
    "if len(parent) == 0:\n",
    "    raise ValueError(f\"Model {model} not found\")\n",
    "tree = [parent] + child\n",
    "reachable_stmt = _tree_to_reachable_stmt(tree)\n",
    "lookup_stmt = _reachable_to_parent_data_stmt(reachable_stmt, parent)\n",
    "data_stmt = _selector_to_data(ch_selector, engine=ENGINE).cte()\n",
    "\n",
    "final_stmt = select(lookup_stmt.c.parent.label(\"cluster_sha1\"), data_stmt).join(\n",
    "    lookup_stmt, lookup_stmt.c.child == data_stmt.c.data_sha1\n",
    ")\n",
    "\n",
    "with ENGINE.connect() as conn:\n",
    "    cursor = conn.connection.cursor()\n",
    "    compiled = final_stmt.compile(\n",
    "        dialect=postgresql.dialect(),\n",
    "        compile_kwargs={\"render_postcompile\": True}\n",
    "    )\n",
    "    compiled_bound = cursor.mogrify(str(compiled), compiled.params)\n",
    "    sql = parse_one(compiled_bound.decode(\"utf-8\"))\n",
    "\n",
    "print(sql.sql(dialect=\"postgres\", pretty=True))"
   ],
   "cell_type": "code",
   "metadata": {
    "tags": []
   },
   "execution_count": 5,
   "outputs": [
    {
     "output_type": "stream",
     "name": "stdout",
     "text": "WITH RECURSIVE source_data_unnested AS (\n  SELECT\n    _team_cmf.cmf__source_data.sha1 AS sha1,\n    UNNEST(_team_cmf.cmf__source_data.id) AS id,\n    _team_cmf.cmf__source_data.dataset AS dataset\n  FROM _team_cmf.cmf__source_data\n), anon_1 AS (\n  SELECT\n    source_data_unnested.sha1 AS data_sha1,\n    companieshouse.companies.company_name AS companieshouse_companies_company_name,\n    companieshouse.companies.company_number AS companieshouse_companies_company_number,\n    companieshouse.companies.postcode AS companieshouse_companies_postcode\n  FROM source_data_unnested\n  LEFT OUTER JOIN companieshouse.companies\n    ON source_data_unnested.id = CAST(companieshouse.companies.id AS VARCHAR)\n    AND source_data_unnested.dataset = CAST(CAST('592b69e0-ce95-47a6-9f0a-bcd792f214a4' AS UUID) AS UUID)\n  WHERE\n    NOT companieshouse.companies.id IS NULL\n), allowed AS (\n  SELECT\n    _team_cmf.cmf__ddupe_contains.parent AS parent,\n    _team_cmf.cmf__ddupe_contains.child AS child\n  FROM _team_cmf.cmf__ddupe_contains\n  JOIN _team_cmf.cmf__clusters AS cmf__clusters_1\n    ON _team_cmf.cmf__ddupe_contains.parent = cmf__clusters_1.sha1\n  JOIN _team_cmf.cmf__models_create_clusters\n    ON _team_cmf.cmf__models_create_clusters.child = cmf__clusters_1.sha1\n  JOIN _team_cmf.cmf__models\n    ON _team_cmf.cmf__models_create_clusters.parent = _team_cmf.cmf__models.sha1\n  WHERE\n    _team_cmf.cmf__models.sha1 IN (CAST('\\x5666a21720152c92b6b89be7d61e336d4ca684bf' AS BYTEA))\n  UNION\n  SELECT\n    _team_cmf.cmf__link_contains.parent AS parent,\n    _team_cmf.cmf__link_contains.child AS child\n  FROM _team_cmf.cmf__link_contains\n  JOIN _team_cmf.cmf__clusters AS cmf__clusters_1\n    ON _team_cmf.cmf__link_contains.parent = cmf__clusters_1.sha1\n  JOIN _team_cmf.cmf__clusters AS cmf__clusters_2\n    ON _team_cmf.cmf__link_contains.child = cmf__clusters_2.sha1\n  JOIN _team_cmf.cmf__models_create_clusters\n    ON _team_cmf.cmf__models_create_clusters.child = cmf__clusters_1.sha1\n  JOIN _team_cmf.cmf__models\n    ON _team_cmf.cmf__models_create_clusters.parent = _team_cmf.cmf__models.sha1\n  WHERE\n    _team_cmf.cmf__models.sha1 IN (CAST('\\x5666a21720152c92b6b89be7d61e336d4ca684bf' AS BYTEA))\n), root AS (\n  SELECT\n    allowed.parent AS parent,\n    allowed.child AS child\n  FROM allowed\n  JOIN _team_cmf.cmf__clusters\n    ON _team_cmf.cmf__clusters.sha1 = allowed.parent\n  JOIN _team_cmf.cmf__models_create_clusters\n    ON _team_cmf.cmf__models_create_clusters.child = _team_cmf.cmf__clusters.sha1\n  JOIN _team_cmf.cmf__models\n    ON _team_cmf.cmf__models_create_clusters.parent = _team_cmf.cmf__models.sha1\n  WHERE\n    _team_cmf.cmf__models.sha1 = CAST('\\x5666a21720152c92b6b89be7d61e336d4ca684bf' AS BYTEA)\n), recurse(parent, child) AS (\n  SELECT\n    root.parent AS parent,\n    root.child AS child\n  FROM root\n  UNION\n  SELECT\n    recurse.parent AS parent,\n    allowed.child AS child\n  FROM allowed\n  JOIN recurse\n    ON allowed.parent = recurse.child\n)\nSELECT\n  recurse.parent AS cluster_sha1,\n  anon_1.data_sha1,\n  anon_1.companieshouse_companies_company_name,\n  anon_1.companieshouse_companies_company_number,\n  anon_1.companieshouse_companies_postcode\nFROM anon_1\nJOIN recurse\n  ON recurse.child = anon_1.data_sha1\n"
    }
   ]
  },
  {
   "source": [
    "Maybe let's try running this compiled SQL directly with SQLAlchemy."
   ],
   "cell_type": "markdown",
   "metadata": {}
  },
  {
   "cell_type": "code",
   "execution_count": 11,
   "metadata": {
    "tags": []
   },
   "outputs": [
    {
     "output_type": "stream",
     "name": "stdout",
     "text": "CPU times: user 2 µs, sys: 1 µs, total: 3 µs\nWall time: 4.77 µs\n         13915 function calls (12898 primitive calls) in 96.436 seconds\n\n   Ordered by: cumulative time\n\n   ncalls  tottime  percall  cumtime  percall filename:lineno(function)\n        1    0.000    0.000   96.429   96.429 /opt/conda/envs/company_matching/lib/python3.9/site-packages/sqlalchemy/orm/session.py:2245(execute)\n        1    0.000    0.000   96.429   96.429 /opt/conda/envs/company_matching/lib/python3.9/site-packages/sqlalchemy/orm/session.py:2078(_execute_internal)\n        1    0.000    0.000   96.429   96.429 /opt/conda/envs/company_matching/lib/python3.9/site-packages/sqlalchemy/engine/base.py:1377(execute)\n        1    0.000    0.000   96.429   96.429 /opt/conda/envs/company_matching/lib/python3.9/site-packages/sqlalchemy/sql/elements.py:505(_execute_on_connection)\n        1    0.000    0.000   96.429   96.429 /opt/conda/envs/company_matching/lib/python3.9/site-packages/sqlalchemy/engine/base.py:1593(_execute_clauseelement)\n        1    0.000    0.000   96.428   96.428 /opt/conda/envs/company_matching/lib/python3.9/site-packages/sqlalchemy/engine/base.py:1794(_execute_context)\n        1    0.000    0.000   96.428   96.428 /opt/conda/envs/company_matching/lib/python3.9/site-packages/sqlalchemy/engine/base.py:1853(_exec_single_context)\n        1    0.000    0.000   96.428   96.428 /opt/conda/envs/company_matching/lib/python3.9/site-packages/sqlalchemy/engine/default.py:923(do_execute)\n        1   96.428   96.428   96.428   96.428 {method 'execute' of 'psycopg2.extensions.cursor' objects}\n        1    0.000    0.000    0.006    0.006 /opt/conda/envs/company_matching/lib/python3.9/site-packages/sqlglot/expressions.py:535(sql)\n        1    0.000    0.000    0.006    0.006 /opt/conda/envs/company_matching/lib/python3.9/site-packages/sqlglot/dialects/dialect.py:485(generate)\n        1    0.000    0.000    0.006    0.006 /opt/conda/envs/company_matching/lib/python3.9/site-packages/sqlglot/generator.py:563(generate)\n    759/1    0.001    0.000    0.004    0.004 /opt/conda/envs/company_matching/lib/python3.9/site-packages/sqlglot/generator.py:711(sql)\n      8/1    0.000    0.000    0.004    0.004 /opt/conda/envs/company_matching/lib/python3.9/site-packages/sqlglot/transforms.py:592(_to_sql)\n      8/1    0.000    0.000    0.004    0.004 /opt/conda/envs/company_matching/lib/python3.9/site-packages/sqlglot/generator.py:2182(select_sql)\n   129/12    0.000    0.000    0.004    0.000 /opt/conda/envs/company_matching/lib/python3.9/site-packages/sqlglot/generator.py:3168(expressions)\n   112/13    0.000    0.000    0.004    0.000 {method 'join' of 'str' objects}\n     10/1    0.000    0.000    0.004    0.004 /opt/conda/envs/company_matching/lib/python3.9/site-packages/sqlglot/generator.py:1032(prepend_ctes)\n        1    0.000    0.000    0.004    0.004 /opt/conda/envs/company_matching/lib/python3.9/site-packages/sqlglot/generator.py:1038(with_sql)\n     13/6    0.000    0.000    0.004    0.001 /opt/conda/envs/company_matching/lib/python3.9/site-packages/sqlglot/generator.py:3185(<genexpr>)\n        5    0.000    0.000    0.004    0.001 /opt/conda/envs/company_matching/lib/python3.9/site-packages/sqlglot/generator.py:1048(cte_sql)\n        5    0.000    0.000    0.004    0.001 /opt/conda/envs/company_matching/lib/python3.9/site-packages/sqlglot/generator.py:662(wrap)\n       10    0.000    0.000    0.003    0.000 /opt/conda/envs/company_matching/lib/python3.9/site-packages/sqlglot/generator.py:2125(query_modifiers)\n        1    0.000    0.000    0.002    0.002 /opt/conda/envs/company_matching/lib/python3.9/site-packages/sqlglot/expressions.py:284(copy)\n     11/1    0.000    0.000    0.002    0.002 /opt/conda/envs/company_matching/lib/python3.9/copy.py:128(deepcopy)\n        1    0.001    0.001    0.002    0.002 /opt/conda/envs/company_matching/lib/python3.9/site-packages/sqlglot/expressions.py:250(__deepcopy__)\n        2    0.000    0.000    0.002    0.001 /opt/conda/envs/company_matching/lib/python3.9/site-packages/sqlglot/generator.py:2314(union_sql)\n        2    0.000    0.000    0.002    0.001 /opt/conda/envs/company_matching/lib/python3.9/site-packages/sqlglot/generator.py:2290(set_operations)\n       10    0.000    0.000    0.002    0.000 /opt/conda/envs/company_matching/lib/python3.9/site-packages/sqlglot/generator.py:2150(<listcomp>)\n       13    0.000    0.000    0.002    0.000 /opt/conda/envs/company_matching/lib/python3.9/site-packages/sqlglot/generator.py:1843(join_sql)\n    17/15    0.000    0.000    0.001    0.000 /opt/conda/envs/company_matching/lib/python3.9/site-packages/sqlglot/generator.py:3120(binary)\n       15    0.000    0.000    0.001    0.000 /opt/conda/envs/company_matching/lib/python3.9/site-packages/sqlglot/generator.py:3031(eq_sql)\n       53    0.000    0.000    0.001    0.000 /opt/conda/envs/company_matching/lib/python3.9/site-packages/sqlglot/generator.py:770(column_sql)\n        2    0.000    0.000    0.001    0.001 /opt/conda/envs/company_matching/lib/python3.9/site-packages/sqlalchemy/orm/state_changes.py:95(_go)\n        1    0.000    0.000    0.001    0.001 /opt/conda/envs/company_matching/lib/python3.9/site-packages/sqlalchemy/orm/session.py:1750(__exit__)\n        1    0.000    0.000    0.001    0.001 /opt/conda/envs/company_matching/lib/python3.9/site-packages/sqlalchemy/orm/session.py:2423(close)\n        1    0.000    0.000    0.001    0.001 /opt/conda/envs/company_matching/lib/python3.9/site-packages/sqlalchemy/orm/session.py:2525(_close_impl)\n      188    0.000    0.000    0.001    0.000 /opt/conda/envs/company_matching/lib/python3.9/site-packages/sqlglot/generator.py:777(<genexpr>)\n        1    0.000    0.000    0.001    0.001 <string>:1(close)\n        1    0.000    0.000    0.001    0.001 /opt/conda/envs/company_matching/lib/python3.9/site-packages/sqlalchemy/orm/session.py:1346(close)\n        1    0.000    0.000    0.001    0.001 /opt/conda/envs/company_matching/lib/python3.9/site-packages/sqlalchemy/engine/base.py:2577(close)\n        1    0.000    0.000    0.001    0.001 /opt/conda/envs/company_matching/lib/python3.9/site-packages/sqlalchemy/engine/base.py:2726(_do_close)\n        1    0.000    0.000    0.001    0.001 /opt/conda/envs/company_matching/lib/python3.9/site-packages/sqlalchemy/engine/base.py:2710(_close_impl)\n        1    0.000    0.000    0.001    0.001 /opt/conda/envs/company_matching/lib/python3.9/site-packages/sqlalchemy/engine/base.py:2704(_connection_rollback_impl)\n        1    0.000    0.000    0.001    0.001 /opt/conda/envs/company_matching/lib/python3.9/site-packages/sqlalchemy/engine/base.py:1116(_rollback_impl)\n        2    0.000    0.000    0.001    0.000 /opt/conda/envs/company_matching/lib/python3.9/site-packages/sqlalchemy/engine/default.py:691(do_rollback)\n        2    0.001    0.000    0.001    0.000 {method 'rollback' of 'psycopg2.extensions.connection' objects}\n      198    0.000    0.000    0.001    0.000 /opt/conda/envs/company_matching/lib/python3.9/site-packages/sqlglot/generator.py:1249(identifier_sql)\n      6/5    0.000    0.000    0.001    0.000 /opt/conda/envs/company_matching/lib/python3.9/site-packages/sqlglot/generator.py:2797(cast_sql)\n       18    0.000    0.000    0.001    0.000 /opt/conda/envs/company_matching/lib/python3.9/site-packages/sqlglot/generator.py:2724(alias_sql)\n        6    0.000    0.000    0.001    0.000 /opt/conda/envs/company_matching/lib/python3.9/site-packages/sqlglot/dialects/postgres.py:117(_datatype_sql)\n      389    0.000    0.000    0.001    0.000 /opt/conda/envs/company_matching/lib/python3.9/site-packages/sqlglot/expressions.py:96(__init__)\n        6    0.000    0.000    0.001    0.000 /opt/conda/envs/company_matching/lib/python3.9/site-packages/sqlglot/expressions.py:3948(is_type)\n        6    0.000    0.000    0.001    0.000 /opt/conda/envs/company_matching/lib/python3.9/site-packages/sqlglot/expressions.py:3902(build)\n       21    0.000    0.000    0.001    0.000 /opt/conda/envs/company_matching/lib/python3.9/site-packages/sqlglot/generator.py:1619(table_sql)\n        4    0.000    0.000    0.001    0.000 /opt/conda/envs/company_matching/lib/python3.9/site-packages/sqlglot/generator.py:2355(where_sql)\n        6    0.000    0.000    0.001    0.000 /opt/conda/envs/company_matching/lib/python3.9/site-packages/sqlglot/__init__.py:98(parse_one)\n        1    0.000    0.000    0.000    0.000 /opt/conda/envs/company_matching/lib/python3.9/site-packages/sqlglot/generator.py:2761(and_sql)\n        1    0.000    0.000    0.000    0.000 /opt/conda/envs/company_matching/lib/python3.9/site-packages/sqlglot/generator.py:2767(connector_sql)\n        6    0.000    0.000    0.000    0.000 /opt/conda/envs/company_matching/lib/python3.9/site-packages/sqlglot/dialects/dialect.py:480(parse_into)\n      768    0.000    0.000    0.000    0.000 {method 'items' of 'dict' objects}\n        2    0.000    0.000    0.000    0.000 /opt/conda/envs/company_matching/lib/python3.9/site-packages/sqlglot/generator.py:2655(in_sql)\n       21    0.000    0.000    0.000    0.000 /opt/conda/envs/company_matching/lib/python3.9/site-packages/sqlglot/generator.py:1608(table_parts)\n      331    0.000    0.000    0.000    0.000 /opt/conda/envs/company_matching/lib/python3.9/site-packages/sqlglot/expressions.py:318(set)\n       56    0.000    0.000    0.000    0.000 /opt/conda/envs/company_matching/lib/python3.9/site-packages/sqlglot/generator.py:1609(<genexpr>)\n        6    0.000    0.000    0.000    0.000 /opt/conda/envs/company_matching/lib/python3.9/site-packages/sqlglot/parser.py:1149(parse_into)\n     1808    0.000    0.000    0.000    0.000 {built-in method builtins.hasattr}\n        8    0.000    0.000    0.000    0.000 /opt/conda/envs/company_matching/lib/python3.9/site-packages/sqlglot/generator.py:1788(from_sql)\n      250    0.000    0.000    0.000    0.000 /opt/conda/envs/company_matching/lib/python3.9/site-packages/sqlglot/expressions.py:146(text)\n        6    0.000    0.000    0.000    0.000 /opt/conda/envs/company_matching/lib/python3.9/site-packages/sqlglot/parser.py:1185(_parse)\n     1990    0.000    0.000    0.000    0.000 {method 'get' of 'dict' objects}\n        6    0.000    0.000    0.000    0.000 /opt/conda/envs/company_matching/lib/python3.9/site-packages/sqlglot/dialects/dialect.py:494(tokenize)\n     1616    0.000    0.000    0.000    0.000 {built-in method builtins.isinstance}\n      198    0.000    0.000    0.000    0.000 /opt/conda/envs/company_matching/lib/python3.9/site-packages/sqlglot/expressions.py:202(name)\n      436    0.000    0.000    0.000    0.000 /opt/conda/envs/company_matching/lib/python3.9/site-packages/sqlglot/expressions.py:333(_set_parent)\n        6    0.000    0.000    0.000    0.000 /opt/conda/envs/company_matching/lib/python3.9/site-packages/sqlglot/parser.py:588(<lambda>)\n        6    0.000    0.000    0.000    0.000 /opt/conda/envs/company_matching/lib/python3.9/site-packages/sqlglot/tokens.py:945(tokenize)\n        1    0.000    0.000    0.000    0.000 /opt/conda/envs/company_matching/lib/python3.9/site-packages/sqlalchemy/orm/session.py:2039(_connection_for_bind)\n        6    0.000    0.000    0.000    0.000 /opt/conda/envs/company_matching/lib/python3.9/site-packages/sqlglot/tokens.py:964(_scan)\n        6    0.000    0.000    0.000    0.000 /opt/conda/envs/company_matching/lib/python3.9/site-packages/sqlglot/parser.py:3903(_parse_types)\n        1    0.000    0.000    0.000    0.000 /opt/conda/envs/company_matching/lib/python3.9/site-packages/sqlalchemy/engine/default.py:1806(_setup_result_proxy)\n        1    0.000    0.000    0.000    0.000 /opt/conda/envs/company_matching/lib/python3.9/site-packages/sqlalchemy/engine/default.py:1876(_setup_dml_or_text_result)\n        1    0.000    0.000    0.000    0.000 <string>:1(_connection_for_bind)\n        6    0.000    0.000    0.000    0.000 /opt/conda/envs/company_matching/lib/python3.9/site-packages/sqlglot/tokens.py:1083(_scan_keywords)\n        1    0.000    0.000    0.000    0.000 /opt/conda/envs/company_matching/lib/python3.9/site-packages/sqlalchemy/orm/session.py:1107(_connection_for_bind)\n        1    0.000    0.000    0.000    0.000 /opt/conda/envs/company_matching/lib/python3.9/site-packages/sqlalchemy/engine/cursor.py:1419(__init__)\n        8    0.000    0.000    0.000    0.000 /opt/conda/envs/company_matching/lib/python3.9/site-packages/sqlglot/generator.py:1052(tablealias_sql)\n      198    0.000    0.000    0.000    0.000 /opt/conda/envs/company_matching/lib/python3.9/site-packages/sqlglot/expressions.py:1844(quoted)\n      396    0.000    0.000    0.000    0.000 /opt/conda/envs/company_matching/lib/python3.9/site-packages/sqlglot/generator.py:631(maybe_comment)\n        6    0.000    0.000    0.000    0.000 /opt/conda/envs/company_matching/lib/python3.9/site-packages/sqlglot/tokens.py:1299(_scan_var)\n        1    0.000    0.000    0.000    0.000 /opt/conda/envs/company_matching/lib/python3.9/site-packages/sqlalchemy/engine/base.py:3256(connect)\n        1    0.000    0.000    0.000    0.000 /opt/conda/envs/company_matching/lib/python3.9/site-packages/sqlalchemy/sql/_elements_constructors.py:1565(text)\n        1    0.000    0.000    0.000    0.000 /opt/conda/envs/company_matching/lib/python3.9/site-packages/sqlalchemy/engine/cursor.py:1482(_init_metadata)\n        1    0.000    0.000    0.000    0.000 /opt/conda/envs/company_matching/lib/python3.9/site-packages/sqlalchemy/engine/base.py:131(__init__)\n       45    0.000    0.000    0.000    0.000 /opt/conda/envs/company_matching/lib/python3.9/site-packages/sqlglot/expressions.py:305(append)\n      479    0.000    0.000    0.000    0.000 {method 'append' of 'list' objects}\n        1    0.000    0.000    0.000    0.000 /opt/conda/envs/company_matching/lib/python3.9/site-packages/sqlalchemy/sql/elements.py:2286(__init__)\n        1    0.000    0.000    0.000    0.000 /opt/conda/envs/company_matching/lib/python3.9/site-packages/sqlalchemy/engine/cursor.py:347(__init__)\n        1    0.000    0.000    0.000    0.000 {method 'sub' of 're.Pattern' objects}\n       26    0.000    0.000    0.000    0.000 /opt/conda/envs/company_matching/lib/python3.9/site-packages/sqlglot/expressions.py:2047(kind)\n        1    0.000    0.000    0.000    0.000 /opt/conda/envs/company_matching/lib/python3.9/site-packages/sqlalchemy/engine/base.py:1221(close)\n        8    0.000    0.000    0.000    0.000 /opt/conda/envs/company_matching/lib/python3.9/site-packages/sqlglot/transforms.py:382(eliminate_semi_and_anti_joins)\n        1    0.000    0.000    0.000    0.000 /opt/conda/envs/company_matching/lib/python3.9/site-packages/sqlalchemy/pool/base.py:1507(close)\n        1    0.000    0.000    0.000    0.000 /opt/conda/envs/company_matching/lib/python3.9/site-packages/sqlalchemy/pool/base.py:1384(_checkin)\n        1    0.000    0.000    0.000    0.000 /opt/conda/envs/company_matching/lib/python3.9/site-packages/sqlalchemy/engine/base.py:3281(raw_connection)\n        1    0.000    0.000    0.000    0.000 /opt/conda/envs/company_matching/lib/python3.9/site-packages/sqlalchemy/engine/cursor.py:496(_merge_cursor_description)\n        1    0.000    0.000    0.000    0.000 /opt/conda/envs/company_matching/lib/python3.9/site-packages/sqlalchemy/pool/base.py:917(_finalize_fairy)\n        1    0.000    0.000    0.000    0.000 /opt/conda/envs/company_matching/lib/python3.9/site-packages/sqlalchemy/pool/base.py:441(connect)\n        1    0.000    0.000    0.000    0.000 /opt/conda/envs/company_matching/lib/python3.9/site-packages/sqlalchemy/engine/cursor.py:625(<listcomp>)\n      376    0.000    0.000    0.000    0.000 {built-in method builtins.getattr}\n        1    0.000    0.000    0.000    0.000 /opt/conda/envs/company_matching/lib/python3.9/site-packages/sqlalchemy/pool/base.py:1255(_checkout)\n        1    0.000    0.000    0.000    0.000 /opt/conda/envs/company_matching/lib/python3.9/site-packages/sqlalchemy/orm/session.py:1445(__init__)\n        1    0.000    0.000    0.000    0.000 /opt/conda/envs/company_matching/lib/python3.9/site-packages/sqlglot/generator.py:2721(not_sql)\n        1    0.000    0.000    0.000    0.000 /opt/conda/envs/company_matching/lib/python3.9/site-packages/sqlalchemy/sql/elements.py:667(_compile_w_cache)\n        1    0.000    0.000    0.000    0.000 /opt/conda/envs/company_matching/lib/python3.9/site-packages/sqlalchemy/orm/session.py:2533(expunge_all)\n        1    0.000    0.000    0.000    0.000 /opt/conda/envs/company_matching/lib/python3.9/site-packages/sqlalchemy/engine/default.py:1276(_init_compiled)\n       20    0.000    0.000    0.000    0.000 /opt/conda/envs/company_matching/lib/python3.9/site-packages/sqlglot/dialects/dialect.py:296(get_or_raise)\n        1    0.000    0.000    0.000    0.000 /opt/conda/envs/company_matching/lib/python3.9/site-packages/sqlglot/generator.py:2703(anonymous_sql)\n        6    0.000    0.000    0.000    0.000 /opt/conda/envs/company_matching/lib/python3.9/site-packages/sqlglot/dialects/dialect.py:503(parser)\n       12    0.000    0.000    0.000    0.000 /opt/conda/envs/company_matching/lib/python3.9/site-packages/sqlglot/tokens.py:1008(_advance)\n        1    0.000    0.000    0.000    0.000 /opt/conda/envs/company_matching/lib/python3.9/site-packages/sqlalchemy/pool/base.py:707(checkout)\n        1    0.000    0.000    0.000    0.000 /opt/conda/envs/company_matching/lib/python3.9/site-packages/sqlglot/generator.py:3055(is_sql)\n      385    0.000    0.000    0.000    0.000 {method 'pop' of 'list' objects}\n        6    0.000    0.000    0.000    0.000 /opt/conda/envs/company_matching/lib/python3.9/site-packages/sqlglot/dialects/dialect.py:497(tokenizer)\n        6    0.000    0.000    0.000    0.000 /opt/conda/envs/company_matching/lib/python3.9/site-packages/sqlglot/tokens.py:1048(_add)\n      198    0.000    0.000    0.000    0.000 /opt/conda/envs/company_matching/lib/python3.9/site-packages/sqlglot/dialects/dialect.py:426(can_identify)\n        1    0.000    0.000    0.000    0.000 /opt/conda/envs/company_matching/lib/python3.9/site-packages/sqlglot/generator.py:3143(func)\n        6    0.000    0.000    0.000    0.000 /opt/conda/envs/company_matching/lib/python3.9/site-packages/sqlglot/generator.py:1110(datatype_sql)\n        2    0.000    0.000    0.000    0.000 /opt/conda/envs/company_matching/lib/python3.9/site-packages/ipykernel/ipkernel.py:770(_clean_thread_parent_frames)\n      198    0.000    0.000    0.000    0.000 {method 'lower' of 'str' objects}\n        1    0.000    0.000    0.000    0.000 /opt/conda/envs/company_matching/lib/python3.9/site-packages/sqlglot/generator.py:3152(format_args)\n        1    0.000    0.000    0.000    0.000 /opt/conda/envs/company_matching/lib/python3.9/site-packages/sqlalchemy/orm/session.py:1814(_autobegin_t)\n        6    0.000    0.000    0.000    0.000 /opt/conda/envs/company_matching/lib/python3.9/site-packages/sqlglot/parser.py:1106(__init__)\n       10    0.000    0.000    0.000    0.000 /opt/conda/envs/company_matching/lib/python3.9/site-packages/sqlglot/helper.py:106(csv)\n        1    0.000    0.000    0.000    0.000 /opt/conda/envs/company_matching/lib/python3.9/site-packages/sqlalchemy/pool/base.py:751(checkin)\n      377    0.000    0.000    0.000    0.000 {built-in method builtins.callable}\n       13    0.000    0.000    0.000    0.000 /opt/conda/envs/company_matching/lib/python3.9/site-packages/sqlglot/expressions.py:2051(side)\n       12    0.000    0.000    0.000    0.000 /opt/conda/envs/company_matching/lib/python3.9/site-packages/sqlglot/parser.py:1305(_advance)\n        2    0.000    0.000    0.000    0.000 /opt/conda/envs/company_matching/lib/python3.9/site-packages/sqlglot/generator.py:3153(<genexpr>)\n        1    0.000    0.000    0.000    0.000 /opt/conda/envs/company_matching/lib/python3.9/site-packages/sqlalchemy/util/langhelpers.py:1264(oneshot)\n       13    0.000    0.000    0.000    0.000 /opt/conda/envs/company_matching/lib/python3.9/site-packages/sqlglot/expressions.py:2043(method)\n        1    0.000    0.000    0.000    0.000 /opt/conda/envs/company_matching/lib/python3.9/site-packages/sqlalchemy/orm/session.py:880(__init__)\n      202    0.000    0.000    0.000    0.000 {method 'replace' of 'str' objects}\n        2    0.000    0.000    0.000    0.000 /opt/conda/envs/company_matching/lib/python3.9/site-packages/sqlalchemy/event/base.py:437(__get__)\n        6    0.000    0.000    0.000    0.000 /opt/conda/envs/company_matching/lib/python3.9/site-packages/sqlglot/tokens.py:917(__init__)\n       10    0.000    0.000    0.000    0.000 /opt/conda/envs/company_matching/lib/python3.9/site-packages/sqlglot/generator.py:2158(<listcomp>)\n        1    0.000    0.000    0.000    0.000 /opt/conda/envs/company_matching/lib/python3.9/site-packages/sqlalchemy/pool/base.py:451(_return_conn)\n      204    0.000    0.000    0.000    0.000 {method 'isdigit' of 'str' objects}\n        6    0.000    0.000    0.000    0.000 /opt/conda/envs/company_matching/lib/python3.9/site-packages/sqlglot/parser.py:5992(_match_set)\n        1    0.000    0.000    0.000    0.000 /opt/conda/envs/company_matching/lib/python3.9/site-packages/sqlalchemy/pool/impl.py:144(_do_return_conn)\n        1    0.000    0.000    0.000    0.000 /opt/conda/envs/company_matching/lib/python3.9/site-packages/sqlalchemy/sql/cache_key.py:411(_generate_cache_key)\n        6    0.000    0.000    0.000    0.000 /opt/conda/envs/company_matching/lib/python3.9/site-packages/sqlalchemy/engine/cursor.py:794(_merge_cols_by_none)\n       51    0.000    0.000    0.000    0.000 /opt/conda/envs/company_matching/lib/python3.9/site-packages/sqlglot/expressions.py:125(this)\n       10    0.000    0.000    0.000    0.000 /opt/conda/envs/company_matching/lib/python3.9/site-packages/sqlglot/generator.py:2177(after_limit_modifiers)\n        1    0.000    0.000    0.000    0.000 /opt/conda/envs/company_matching/lib/python3.9/site-packages/sqlglot/dialects/dialect.py:506(generator)\n        1    0.000    0.000    0.000    0.000 /opt/conda/envs/company_matching/lib/python3.9/site-packages/sqlalchemy/sql/cache_key.py:347(_generate_cache_key)\n       43    0.000    0.000    0.000    0.000 /opt/conda/envs/company_matching/lib/python3.9/enum.py:774(__hash__)\n        1    0.000    0.000    0.000    0.000 /opt/conda/envs/company_matching/lib/python3.9/site-packages/sqlalchemy/util/queue.py:132(put)\n        1    0.000    0.000    0.000    0.000 /opt/conda/envs/company_matching/lib/python3.9/site-packages/sqlalchemy/pool/impl.py:153(_do_get)\n        1    0.000    0.000    0.000    0.000 /opt/conda/envs/company_matching/lib/python3.9/site-packages/sqlalchemy/orm/state.py:459(_detach_states)\n       20    0.000    0.000    0.000    0.000 <frozen importlib._bootstrap>:1033(_handle_fromlist)\n       30    0.000    0.000    0.000    0.000 /opt/conda/envs/company_matching/lib/python3.9/site-packages/sqlglot/generator.py:623(seg)\n        5    0.000    0.000    0.000    0.000 /opt/conda/envs/company_matching/lib/python3.9/site-packages/sqlalchemy/engine/default.py:1757(get_result_processor)\n        4    0.000    0.000    0.000    0.000 /opt/conda/envs/company_matching/lib/python3.9/site-packages/sqlglot/generator.py:1980(literal_sql)\n        6    0.000    0.000    0.000    0.000 /opt/conda/envs/company_matching/lib/python3.9/site-packages/sqlalchemy/engine/cursor.py:648(_colnames_from_description)\n        1    0.000    0.000    0.000    0.000 /opt/conda/envs/company_matching/lib/python3.9/site-packages/sqlglot/generator.py:520(__init__)\n        6    0.000    0.000    0.000    0.000 /opt/conda/envs/company_matching/lib/python3.9/encodings/utf_8.py:15(decode)\n       11    0.000    0.000    0.000    0.000 /opt/conda/envs/company_matching/lib/python3.9/copy.py:242(_keep_alive)\n       12    0.000    0.000    0.000    0.000 /opt/conda/envs/company_matching/lib/python3.9/site-packages/sqlglot/parser.py:6029(_match_text_seq)\n        1    0.000    0.000    0.000    0.000 /opt/conda/envs/company_matching/lib/python3.9/site-packages/sqlalchemy/util/queue.py:174(get)\n        1    0.000    0.000    0.000    0.000 /opt/conda/envs/company_matching/lib/python3.9/site-packages/sqlalchemy/engine/default.py:1719(create_cursor)\n       10    0.000    0.000    0.000    0.000 /opt/conda/envs/company_matching/lib/python3.9/site-packages/sqlglot/generator.py:2169(offset_limit_modifiers)\n        2    0.000    0.000    0.000    0.000 /opt/conda/envs/company_matching/lib/python3.9/site-packages/sqlalchemy/event/base.py:183(_for_instance)\n        8    0.000    0.000    0.000    0.000 /opt/conda/envs/company_matching/lib/python3.9/site-packages/sqlalchemy/event/base.py:159(__getattr__)\n        1    0.000    0.000    0.000    0.000 /opt/conda/envs/company_matching/lib/python3.9/site-packages/sqlalchemy/sql/coercions.py:314(expect)\n        5    0.000    0.000    0.000    0.000 /opt/conda/envs/company_matching/lib/python3.9/site-packages/sqlalchemy/sql/type_api.py:916(_cached_result_processor)\n        1    0.000    0.000    0.000    0.000 /opt/conda/envs/company_matching/lib/python3.9/site-packages/sqlalchemy/orm/session.py:1029(_take_snapshot)\n        1    0.000    0.000    0.000    0.000 /opt/conda/envs/company_matching/lib/python3.9/weakref.py:165(__setitem__)\n        1    0.000    0.000    0.000    0.000 /opt/conda/envs/company_matching/lib/python3.9/site-packages/sqlalchemy/engine/base.py:798(begin)\n        1    0.000    0.000    0.000    0.000 /opt/conda/envs/company_matching/lib/python3.9/site-packages/sqlalchemy/engine/default.py:1740(create_default_cursor)\n       12    0.000    0.000    0.000    0.000 /opt/conda/envs/company_matching/lib/python3.9/site-packages/sqlglot/tokens.py:930(reset)\n        2    0.000    0.000    0.000    0.000 /opt/conda/envs/company_matching/lib/python3.9/site-packages/sqlalchemy/event/base.py:180(_for_class)\n        1    0.000    0.000    0.000    0.000 /opt/conda/envs/company_matching/lib/python3.9/threading.py:1388(enumerate)\n       24    0.000    0.000    0.000    0.000 /opt/conda/envs/company_matching/lib/python3.9/site-packages/sqlglot/helper.py:47(seq_get)\n       12    0.000    0.000    0.000    0.000 /opt/conda/envs/company_matching/lib/python3.9/site-packages/sqlglot/parser.py:1121(reset)\n        1    0.000    0.000    0.000    0.000 /opt/conda/envs/company_matching/lib/python3.9/site-packages/sqlalchemy/sql/cache_key.py:221(_gen_cache_key)\n        1    0.000    0.000    0.000    0.000 /opt/conda/envs/company_matching/lib/python3.9/site-packages/sqlalchemy/pool/base.py:1483(cursor)\n       10    0.000    0.000    0.000    0.000 /opt/conda/envs/company_matching/lib/python3.9/site-packages/sqlglot/generator.py:365(<lambda>)\n        1    0.000    0.000    0.000    0.000 /opt/conda/envs/company_matching/lib/python3.9/site-packages/sqlalchemy/engine/base.py:2679(__init__)\n        7    0.000    0.000    0.000    0.000 /opt/conda/envs/company_matching/lib/python3.9/weakref.py:415(__getitem__)\n       45    0.000    0.000    0.000    0.000 /opt/conda/envs/company_matching/lib/python3.9/site-packages/sqlglot/helper.py:117(<genexpr>)\n       10    0.000    0.000    0.000    0.000 /opt/conda/envs/company_matching/lib/python3.9/copy.py:200(_deepcopy_list)\n        1    0.000    0.000    0.000    0.000 /opt/conda/envs/company_matching/lib/python3.9/site-packages/ipykernel/ipkernel.py:785(<setcomp>)\n       77    0.000    0.000    0.000    0.000 {method 'upper' of 'str' objects}\n       12    0.000    0.000    0.000    0.000 /opt/conda/envs/company_matching/lib/python3.9/types.py:171(__get__)\n        2    0.000    0.000    0.000    0.000 /opt/conda/envs/company_matching/lib/python3.9/site-packages/sqlalchemy/event/base.py:137(__init__)\n       50    0.000    0.000    0.000    0.000 /opt/conda/envs/company_matching/lib/python3.9/site-packages/sqlglot/generator.py:620(sep)\n        7    0.000    0.000    0.000    0.000 /opt/conda/envs/company_matching/lib/python3.9/site-packages/sqlglot/dialects/dialect.py:360(__init__)\n        1    0.000    0.000    0.000    0.000 /opt/conda/envs/company_matching/lib/python3.9/site-packages/sqlalchemy/util/_collections.py:526(get)\n        1    0.000    0.000    0.000    0.000 /opt/conda/envs/company_matching/lib/python3.9/site-packages/sqlalchemy/engine/base.py:2701(_connection_begin_impl)\n        8    0.000    0.000    0.000    0.000 /opt/conda/envs/company_matching/lib/python3.9/site-packages/sqlglot/transforms.py:86(eliminate_qualify)\n        1    0.000    0.000    0.000    0.000 {method 'cursor' of 'psycopg2.extensions.connection' objects}\n        1    0.000    0.000    0.000    0.000 /opt/conda/envs/company_matching/lib/python3.9/site-packages/sqlalchemy/pool/base.py:1398(_reset)\n        1    0.000    0.000    0.000    0.000 /opt/conda/envs/company_matching/lib/python3.9/contextlib.py:123(__exit__)\n        1    0.000    0.000    0.000    0.000 /opt/conda/envs/company_matching/lib/python3.9/site-packages/sqlalchemy/util/langhelpers.py:1424(_next)\n        2    0.000    0.000    0.000    0.000 /opt/conda/envs/company_matching/lib/python3.9/site-packages/sqlalchemy/orm/identity.py:43(__init__)\n        1    0.000    0.000    0.000    0.000 /opt/conda/envs/company_matching/lib/python3.9/site-packages/sqlalchemy/engine/result.py:205(_effective_processors)\n        4    0.000    0.000    0.000    0.000 /opt/conda/envs/company_matching/lib/python3.9/weakref.py:368(__init__)\n        1    0.000    0.000    0.000    0.000 /opt/conda/envs/company_matching/lib/python3.9/site-packages/sqlalchemy/engine/base.py:1094(_begin_impl)\n       30    0.000    0.000    0.000    0.000 /opt/conda/envs/company_matching/lib/python3.9/site-packages/sqlglot/generator.py:688(indent)\n        2    0.000    0.000    0.000    0.000 /opt/conda/envs/company_matching/lib/python3.9/threading.py:256(__enter__)\n        6    0.000    0.000    0.000    0.000 /opt/conda/envs/company_matching/lib/python3.9/site-packages/sqlglot/helper.py:63(ensure_list)\n       18    0.000    0.000    0.000    0.000 /opt/conda/envs/company_matching/lib/python3.9/site-packages/sqlglot/tokens.py:1044(_text)\n       43    0.000    0.000    0.000    0.000 {built-in method builtins.id}\n        1    0.000    0.000    0.000    0.000 /opt/conda/envs/company_matching/lib/python3.9/weakref.py:348(__new__)\n        2    0.000    0.000    0.000    0.000 {built-in method builtins.next}\n        6    0.000    0.000    0.000    0.000 /opt/conda/envs/company_matching/lib/python3.9/site-packages/sqlglot/trie.py:43(in_trie)\n        8    0.000    0.000    0.000    0.000 /opt/conda/envs/company_matching/lib/python3.9/site-packages/sqlalchemy/event/attr.py:389(__bool__)\n       43    0.000    0.000    0.000    0.000 {built-in method builtins.hash}\n        1    0.000    0.000    0.000    0.000 /opt/conda/envs/company_matching/lib/python3.9/site-packages/sqlalchemy/engine/default.py:1379(<listcomp>)\n       15    0.000    0.000    0.000    0.000 /opt/conda/envs/company_matching/lib/python3.9/site-packages/sqlglot/generator.py:1849(<genexpr>)\n       10    0.000    0.000    0.000    0.000 /opt/conda/envs/company_matching/lib/python3.9/site-packages/sqlglot/generator.py:367(<lambda>)\n        1    0.000    0.000    0.000    0.000 /opt/conda/envs/company_matching/lib/python3.9/site-packages/sqlalchemy/dialects/postgresql/psycopg2.py:567(post_exec)\n        1    0.000    0.000    0.000    0.000 /opt/conda/envs/company_matching/lib/python3.9/site-packages/sqlalchemy/event/base.py:187(_join)\n        1    0.000    0.000    0.000    0.000 /opt/conda/envs/company_matching/lib/python3.9/site-packages/sqlalchemy/util/langhelpers.py:1223(_set_memoized_attribute)\n        6    0.000    0.000    0.000    0.000 /opt/conda/envs/company_matching/lib/python3.9/site-packages/sqlglot/parser.py:1220(check_errors)\n       30    0.000    0.000    0.000    0.000 {built-in method builtins.len}\n        6    0.000    0.000    0.000    0.000 /opt/conda/envs/company_matching/lib/python3.9/site-packages/sqlglot/tokens.py:409(__init__)\n        4    0.000    0.000    0.000    0.000 /opt/conda/envs/company_matching/lib/python3.9/site-packages/sqlglot/generator.py:1986(escape_str)\n        6    0.000    0.000    0.000    0.000 {built-in method _codecs.utf_8_decode}\n        1    0.000    0.000    0.000    0.000 /opt/conda/envs/company_matching/lib/python3.9/site-packages/sqlalchemy/engine/result.py:182(_make_key_to_index)\n        2    0.000    0.000    0.000    0.000 /opt/conda/envs/company_matching/lib/python3.9/threading.py:351(notify)\n        1    0.000    0.000    0.000    0.000 /home/theia/company-matching/cmf/data/utils/db.py:165(sqa_profiled)\n        1    0.000    0.000    0.000    0.000 /opt/conda/envs/company_matching/lib/python3.9/site-packages/sqlalchemy/engine/base.py:535(_still_open_and_dbapi_connection_is_valid)\n        1    0.000    0.000    0.000    0.000 /opt/conda/envs/company_matching/lib/python3.9/site-packages/sqlalchemy/orm/identity.py:259(all_states)\n        1    0.000    0.000    0.000    0.000 /opt/conda/envs/company_matching/lib/python3.9/site-packages/sqlalchemy/log.py:101(_should_log_debug)\n        1    0.000    0.000    0.000    0.000 /opt/conda/envs/company_matching/lib/python3.9/site-packages/sqlalchemy/pool/base.py:819(get_connection)\n        7    0.000    0.000    0.000    0.000 /opt/conda/envs/company_matching/lib/python3.9/site-packages/sqlglot/expressions.py:139(expressions)\n       22    0.000    0.000    0.000    0.000 {method 'strip' of 'str' objects}\n        7    0.000    0.000    0.000    0.000 /opt/conda/envs/company_matching/lib/python3.9/threading.py:1109(ident)\n        1    0.000    0.000    0.000    0.000 /opt/conda/envs/company_matching/lib/python3.9/site-packages/sqlalchemy/util/langhelpers.py:1137(__get__)\n        6    0.000    0.000    0.000    0.000 /opt/conda/envs/company_matching/lib/python3.9/enum.py:431(__getitem__)\n        1    0.000    0.000    0.000    0.000 /opt/conda/envs/company_matching/lib/python3.9/site-packages/sqlalchemy/util/queue.py:228(_put)\n        2    0.000    0.000    0.000    0.000 /opt/conda/envs/company_matching/lib/python3.9/site-packages/sqlglot/generator.py:2317(union_op)\n        3    0.000    0.000    0.000    0.000 /opt/conda/envs/company_matching/lib/python3.9/site-packages/sqlalchemy/event/attr.py:374(__call__)\n       12    0.000    0.000    0.000    0.000 /opt/conda/envs/company_matching/lib/python3.9/enum.py:792(value)\n       12    0.000    0.000    0.000    0.000 /opt/conda/envs/company_matching/lib/python3.9/site-packages/sqlglot/parser.py:1317(_retreat)\n        1    0.000    0.000    0.000    0.000 /opt/conda/envs/company_matching/lib/python3.9/site-packages/sqlglot/dialects/dialect.py:95(get)\n        1    0.000    0.000    0.000    0.000 {method 'issuperset' of 'frozenset' objects}\n        1    0.000    0.000    0.000    0.000 /opt/conda/envs/company_matching/lib/python3.9/site-packages/sqlalchemy/sql/compiler.py:1852(construct_params)\n        2    0.000    0.000    0.000    0.000 /opt/conda/envs/company_matching/lib/python3.9/threading.py:259(__exit__)\n       14    0.000    0.000    0.000    0.000 {method 'values' of 'dict' objects}\n        4    0.000    0.000    0.000    0.000 /opt/conda/envs/company_matching/lib/python3.9/site-packages/sqlglot/expressions.py:160(is_string)\n       30    0.000    0.000    0.000    0.000 {method 'isalnum' of 'str' objects}\n        1    0.000    0.000    0.000    0.000 /opt/conda/envs/company_matching/lib/python3.9/site-packages/sqlalchemy/dialects/postgresql/psycopg2.py:570(_log_notices)\n        2    0.000    0.000    0.000    0.000 /opt/conda/envs/company_matching/lib/python3.9/site-packages/sqlalchemy/pool/base.py:1487(__getattr__)\n       12    0.000    0.000    0.000    0.000 /opt/conda/envs/company_matching/lib/python3.9/site-packages/sqlglot/parser.py:5980(_match)\n        1    0.000    0.000    0.000    0.000 /opt/conda/envs/company_matching/lib/python3.9/site-packages/sqlalchemy/pool/base.py:1225(__init__)\n        1    0.000    0.000    0.000    0.000 /opt/conda/envs/company_matching/lib/python3.9/site-packages/sqlalchemy/util/queue.py:225(_full)\n        1    0.000    0.000    0.000    0.000 /opt/conda/envs/company_matching/lib/python3.9/site-packages/sqlalchemy/util/queue.py:231(_get)\n        1    0.000    0.000    0.000    0.000 /opt/conda/envs/company_matching/lib/python3.9/site-packages/sqlalchemy/log.py:104(_should_log_info)\n        1    0.000    0.000    0.000    0.000 /opt/conda/envs/company_matching/lib/python3.9/site-packages/sqlalchemy/engine/default.py:1602(executemany)\n        2    0.000    0.000    0.000    0.000 /opt/conda/envs/company_matching/lib/python3.9/logging/__init__.py:1689(isEnabledFor)\n        1    0.000    0.000    0.000    0.000 /opt/conda/envs/company_matching/lib/python3.9/site-packages/sqlglot/generator.py:597(preprocess)\n        1    0.000    0.000    0.000    0.000 <string>:1(_generated_cache_key_traversal)\n        2    0.000    0.000    0.000    0.000 {method '__enter__' of '_thread.RLock' objects}\n       10    0.000    0.000    0.000    0.000 /opt/conda/envs/company_matching/lib/python3.9/site-packages/sqlglot/generator.py:2153(<listcomp>)\n        1    0.000    0.000    0.000    0.000 /opt/conda/envs/company_matching/lib/python3.9/site-packages/sqlalchemy/orm/identity.py:48(_kill)\n        1    0.000    0.000    0.000    0.000 /opt/conda/envs/company_matching/lib/python3.9/site-packages/sqlalchemy/engine/cursor.py:470(<dictcomp>)\n        2    0.000    0.000    0.000    0.000 /opt/conda/envs/company_matching/lib/python3.9/site-packages/sqlalchemy/engine/base.py:570(connection)\n        2    0.000    0.000    0.000    0.000 /opt/conda/envs/company_matching/lib/python3.9/site-packages/sqlglot/expressions.py:132(expression)\n        6    0.000    0.000    0.000    0.000 /opt/conda/envs/company_matching/lib/python3.9/site-packages/sqlglot/parser.py:6003(_match_pair)\n        1    0.000    0.000    0.000    0.000 /opt/conda/envs/company_matching/lib/python3.9/site-packages/sqlalchemy/orm/session.py:1010(_iterate_self_and_parents)\n        1    0.000    0.000    0.000    0.000 {built-in method builtins.sorted}\n        1    0.000    0.000    0.000    0.000 /opt/conda/envs/company_matching/lib/python3.9/weakref.py:353(__init__)\n        8    0.000    0.000    0.000    0.000 {built-in method builtins.setattr}\n        1    0.000    0.000    0.000    0.000 /opt/conda/envs/company_matching/lib/python3.9/site-packages/sqlalchemy/event/base.py:394(__init__)\n        1    0.000    0.000    0.000    0.000 /opt/conda/envs/company_matching/lib/python3.9/site-packages/sqlglot/dialects/dialect.py:323(<dictcomp>)\n        1    0.000    0.000    0.000    0.000 /opt/conda/envs/company_matching/lib/python3.9/site-packages/sqlalchemy/engine/result.py:185(<dictcomp>)\n        3    0.000    0.000    0.000    0.000 {built-in method __new__ of type object at 0x562f7007e380}\n       12    0.000    0.000    0.000    0.000 {method 'isspace' of 'str' objects}\n        1    0.000    0.000    0.000    0.000 /opt/conda/envs/company_matching/lib/python3.9/site-packages/sqlalchemy/orm/session.py:2632(get_bind)\n        1    0.000    0.000    0.000    0.000 /opt/conda/envs/company_matching/lib/python3.9/site-packages/sqlalchemy/util/_collections.py:516(_inc_counter)\n        1    0.000    0.000    0.000    0.000 <string>:1(<lambda>)\n        2    0.000    0.000    0.000    0.000 /opt/conda/envs/company_matching/lib/python3.9/site-packages/sqlalchemy/engine/util.py:105(_trans_ctx_check)\n        1    0.000    0.000    0.000    0.000 {method 'pop' of 'dict' objects}\n        1    0.000    0.000    0.000    0.000 /opt/conda/envs/company_matching/lib/python3.9/site-packages/sqlalchemy/engine/cursor.py:388(<listcomp>)\n        1    0.000    0.000    0.000    0.000 /opt/conda/envs/company_matching/lib/python3.9/site-packages/sqlalchemy/pool/base.py:1445(is_valid)\n        3    0.000    0.000    0.000    0.000 {method '__exit__' of '_thread.RLock' objects}\n        1    0.000    0.000    0.000    0.000 /opt/conda/envs/company_matching/lib/python3.9/site-packages/sqlalchemy/util/_collections.py:131(coerce_to_immutabledict)\n        1    0.000    0.000    0.000    0.000 /opt/conda/envs/company_matching/lib/python3.9/site-packages/sqlglot/generator.py:681(normalize_func)\n        1    0.000    0.000    0.000    0.000 /opt/conda/envs/company_matching/lib/python3.9/site-packages/sqlalchemy/engine/default.py:1641(no_parameters)\n        2    0.000    0.000    0.000    0.000 {method '_is_owned' of '_thread.RLock' objects}\n        1    0.000    0.000    0.000    0.000 {method 'disable' of '_lsprof.Profiler' objects}\n        1    0.000    0.000    0.000    0.000 /opt/conda/envs/company_matching/lib/python3.9/site-packages/sqlalchemy/engine/base.py:2689(_deactivate_from_connection)\n        1    0.000    0.000    0.000    0.000 /opt/conda/envs/company_matching/lib/python3.9/site-packages/sqlalchemy/util/queue.py:222(_empty)\n        3    0.000    0.000    0.000    0.000 /opt/conda/envs/company_matching/lib/python3.9/typing.py:1375(cast)\n        1    0.000    0.000    0.000    0.000 /opt/conda/envs/company_matching/lib/python3.9/site-packages/sqlalchemy/engine/base.py:1041(in_transaction)\n        1    0.000    0.000    0.000    0.000 {method '__exit__' of '_thread.lock' objects}\n        1    0.000    0.000    0.000    0.000 /opt/conda/envs/company_matching/lib/python3.9/site-packages/sqlalchemy/engine/default.py:688(do_begin)\n        1    0.000    0.000    0.000    0.000 /opt/conda/envs/company_matching/lib/python3.9/site-packages/sqlalchemy/orm/session.py:980(_is_transaction_boundary)\n        1    0.000    0.000    0.000    0.000 /opt/conda/envs/company_matching/lib/python3.9/site-packages/sqlalchemy/orm/session.py:1747(__enter__)\n        4    0.000    0.000    0.000    0.000 {method 'keys' of 'dict' objects}\n        1    0.000    0.000    0.000    0.000 {method 'split' of 'str' objects}\n        1    0.000    0.000    0.000    0.000 {method 'append' of 'collections.deque' objects}\n        1    0.000    0.000    0.000    0.000 /opt/conda/envs/company_matching/lib/python3.9/site-packages/sqlglot/generator.py:2007(null_sql)\n        1    0.000    0.000    0.000    0.000 {method 'popleft' of 'collections.deque' objects}\n        1    0.000    0.000    0.000    0.000 /opt/conda/envs/company_matching/lib/python3.9/site-packages/sqlalchemy/engine/default.py:1491(<dictcomp>)\n        1    0.000    0.000    0.000    0.000 /opt/conda/envs/company_matching/lib/python3.9/site-packages/sqlglot/dialects/dialect.py:323(<genexpr>)\n        1    0.000    0.000    0.000    0.000 /opt/conda/envs/company_matching/lib/python3.9/site-packages/sqlalchemy/sql/coercions.py:1152(_post_coercion)\n        1    0.000    0.000    0.000    0.000 {method 'setdefault' of 'dict' objects}\n        1    0.000    0.000    0.000    0.000 /opt/conda/envs/company_matching/lib/python3.9/site-packages/sqlalchemy/engine/default.py:1746(pre_exec)\n        1    0.000    0.000    0.000    0.000 {built-in method builtins.issubclass}\n\n\n\n"
    }
   ],
   "source": [
    "%time\n",
    "\n",
    "from sqlalchemy.orm import Session\n",
    "from sqlalchemy import text\n",
    "\n",
    "with sqa_profiled():\n",
    "    with Session(ENGINE) as session:\n",
    "        res = session.execute(text(sql.sql(dialect=\"postgres\")))"
   ]
  },
  {
   "cell_type": "code",
   "execution_count": 12,
   "metadata": {},
   "outputs": [
    {
     "output_type": "execute_result",
     "data": {
      "text/plain": "(<memory at 0x7f29b60e8ac0>, <memory at 0x7f29b60e8940>, 'ARCADE GEEKS INT LTD', '13231865', 'DY13 9RH')"
     },
     "metadata": {},
     "execution_count": 12
    }
   ],
   "source": [
    "res.first()"
   ]
  }
 ],
 "metadata": {
  "kernelspec": {
   "display_name": "Python 3.9.16 64-bit ('company_matching': conda)",
   "language": "python",
   "name": "python_defaultSpec_1710778041107"
  },
  "language_info": {
   "codemirror_mode": {
    "name": "ipython",
    "version": 3
   },
   "file_extension": ".py",
   "mimetype": "text/x-python",
   "name": "python",
   "nbconvert_exporter": "python",
   "pygments_lexer": "ipython3",
   "version": "3.9.16-final"
  }
 },
 "nbformat": 4,
 "nbformat_minor": 5
}