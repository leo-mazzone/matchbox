{
 "cells": [
  {
   "cell_type": "code",
   "execution_count": 1,
   "id": "d8019f5c-5446-46fa-90d3-b5db28541001",
   "metadata": {},
   "outputs": [],
   "source": [
    "%load_ext autoreload\n",
    "%autoreload 2\n",
    "from IPython.core.interactiveshell import InteractiveShell\n",
    "from IPython.display import IFrame, display\n",
    "InteractiveShell.ast_node_interactivity = \"all\""
   ]
  },
  {
   "cell_type": "code",
   "execution_count": 3,
   "id": "6c751528-6238-4f29-a9e4-79bf167d8308",
   "metadata": {},
   "outputs": [],
   "source": [
    "from cmf.data import ENGINE, SourceDataset\n",
    "from cmf.data.utils import get_schema_table_names, string_to_table"
   ]
  },
  {
   "cell_type": "markdown",
   "id": "f701e3de-ee2a-4a61-b764-af9d3f34e91b",
   "metadata": {},
   "source": [
    "# Testing selectors\n",
    "\n",
    "An area to adapt and test."
   ]
  },
  {
   "cell_type": "code",
   "execution_count": 9,
   "id": "d0b53b75-4d66-4977-92c0-15c837ada7f1",
   "metadata": {},
   "outputs": [],
   "source": [
    "table=\"companieshouse.companies\"\n",
    "db_schema, db_table = get_schema_table_names(table, validate=True)\n",
    "selected_table = string_to_table(\n",
    "    db_schema=db_schema,\n",
    "    db_table=db_table,\n",
    "    engine=ENGINE\n",
    ")"
   ]
  },
  {
   "cell_type": "code",
   "execution_count": 17,
   "id": "10082b7c-3b96-46ba-aefa-9f25bdc3a225",
   "metadata": {},
   "outputs": [
    {
     "data": {
      "text/plain": [
       "'companieshouse'"
      ]
     },
     "execution_count": 17,
     "metadata": {},
     "output_type": "execute_result"
    },
    {
     "data": {
      "text/plain": [
       "'companies'"
      ]
     },
     "execution_count": 17,
     "metadata": {},
     "output_type": "execute_result"
    }
   ],
   "source": [
    "selected_table.schema\n",
    "selected_table.name"
   ]
  }
 ],
 "metadata": {
  "kernelspec": {
   "display_name": "company_matching",
   "language": "python",
   "name": "company_matching"
  },
  "language_info": {
   "codemirror_mode": {
    "name": "ipython",
    "version": 3
   },
   "file_extension": ".py",
   "mimetype": "text/x-python",
   "name": "python",
   "nbconvert_exporter": "python",
   "pygments_lexer": "ipython3",
   "version": "3.9.16"
  }
 },
 "nbformat": 4,
 "nbformat_minor": 5
}
