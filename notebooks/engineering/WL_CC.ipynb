{
 "cells": [
  {
   "cell_type": "code",
   "execution_count": 2,
   "id": "2c76d233-7a6a-4d82-abd0-3ba75343de58",
   "metadata": {},
   "outputs": [
    {
     "name": "stdout",
     "output_type": "stream",
     "text": [
      "The autoreload extension is already loaded. To reload it, use:\n",
      "  %reload_ext autoreload\n"
     ]
    }
   ],
   "source": [
    "%load_ext autoreload\n",
    "%autoreload 2\n",
    "from IPython.core.interactiveshell import InteractiveShell\n",
    "InteractiveShell.ast_node_interactivity = \"all\""
   ]
  },
  {
   "cell_type": "markdown",
   "id": "f3912d8f-6c0c-4767-bd6d-1af8339b9605",
   "metadata": {},
   "source": [
    "# Massive connected components\n",
    "\n",
    "Connected components crashes on 90m probabilities. We need to be able to handle that and more."
   ]
  },
  {
   "cell_type": "code",
   "execution_count": null,
   "id": "05f280b4-811c-48b9-8316-87c5414b41a8",
   "metadata": {},
   "outputs": [],
   "source": [
    "import cmf\n",
    "from cmf import clean\n",
    "from cmf.dedupers import NaiveDeduper\n",
    "from cmf.helpers import cleaner, cleaners, selector\n",
    "\n",
    "from dwutils import s3"
   ]
  },
  {
   "cell_type": "markdown",
   "id": "b4cd6f81-a14d-4668-b973-40b6169ad446",
   "metadata": {},
   "source": [
    "## Get and save dataframe"
   ]
  },
  {
   "cell_type": "code",
   "execution_count": null,
   "id": "b7639271-0294-4cce-9f69-ad12acbb8765",
   "metadata": {},
   "outputs": [],
   "source": [
    "_NAME = \"naive_hmrc_exports_v1\"\n",
    "_SOURCE = \"hmrc.trade__exporters\"\n",
    "\n",
    "exp_selector = selector(\n",
    "    table=_SOURCE,\n",
    "    fields=[\"company_name\", \"postcode\"],\n",
    ")\n",
    "\n",
    "exp_raw = cmf.query(selector=exp_selector, return_type=\"pandas\", limit=limit)\n",
    "\n",
    "clean_exp = cleaners(\n",
    "    cleaner(clean.company_name, {\"column\": \"hmrc_trade__exporters_company_name\"}),\n",
    "    cleaner(clean.postcode, {\"column\": \"hmrc_trade__exporters_postcode\"}),\n",
    ")\n",
    "\n",
    "exp_clean = cmf.process(raw, exp_raw)\n",
    "\n",
    "exp_naive_deduper = cmf.make_deduper(\n",
    "    dedupe_run_name=_NAME,\n",
    "    description=\"Basic cleaning of name and postcode.\",\n",
    "    deduper=NaiveDeduper,\n",
    "    deduper_settings={\n",
    "        \"id\": \"data_sha1\",\n",
    "        \"unique_fields\": [\n",
    "            \"hmrc_trade__exporters_company_name\",\n",
    "            \"hmrc_trade__exporters_postcode\",\n",
    "        ],\n",
    "    },\n",
    "    data=clean,\n",
    "    data_source=_SOURCE,\n",
    ")\n",
    "\n",
    "exp_deduped = exp_naive_deduper()\n",
    "\n",
    "with s3.write(path=\"hmrc_exporters_probabilities.parquet\") as f:\n",
    "    exp_deduped.dataframe.to_parquet(f)\n"
   ]
  }
 ],
 "metadata": {
  "kernelspec": {
   "display_name": "company_matching",
   "language": "python",
   "name": "company_matching"
  },
  "language_info": {
   "codemirror_mode": {
    "name": "ipython",
    "version": 3
   },
   "file_extension": ".py",
   "mimetype": "text/x-python",
   "name": "python",
   "nbconvert_exporter": "python",
   "pygments_lexer": "ipython3",
   "version": "3.9.16"
  }
 },
 "nbformat": 4,
 "nbformat_minor": 5
}
