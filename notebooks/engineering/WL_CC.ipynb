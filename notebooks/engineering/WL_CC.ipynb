{
 "cells": [
  {
   "cell_type": "code",
   "execution_count": null,
   "id": "123cf1dc-6310-4183-b12a-0879b927047b",
   "metadata": {},
   "outputs": [],
   "source": [
    "!pip install dwutils@git+ssh://git@gitlab.data.trade.gov.uk/ddatdatascienceteam/data-workspace-utilities.git@latest"
   ]
  },
  {
   "cell_type": "code",
   "execution_count": 1,
   "id": "2c76d233-7a6a-4d82-abd0-3ba75343de58",
   "metadata": {},
   "outputs": [],
   "source": [
    "%load_ext autoreload\n",
    "%autoreload 2\n",
    "from IPython.core.interactiveshell import InteractiveShell\n",
    "InteractiveShell.ast_node_interactivity = \"all\""
   ]
  },
  {
   "cell_type": "markdown",
   "id": "f3912d8f-6c0c-4767-bd6d-1af8339b9605",
   "metadata": {},
   "source": [
    "# Massive connected components\n",
    "\n",
    "Connected components crashes on 90m probabilities. We need to be able to handle that and more."
   ]
  },
  {
   "cell_type": "code",
   "execution_count": 2,
   "id": "05f280b4-811c-48b9-8316-87c5414b41a8",
   "metadata": {},
   "outputs": [
    {
     "name": "stderr",
     "output_type": "stream",
     "text": [
      "ignoring unparsable config /home/jovyan/company-matching/pyproject.toml\n",
      "ignoring unparsable config /home/jovyan/company-matching/pyproject.toml\n"
     ]
    }
   ],
   "source": [
    "import cmf\n",
    "from cmf import clean\n",
    "from cmf.dedupers import NaiveDeduper\n",
    "from cmf.helpers import cleaner, cleaners, selector\n",
    "\n",
    "from dwutils import s3\n",
    "\n",
    "import pandas as pd\n",
    "import pyarrow as pa\n",
    "import rustworkx as rx"
   ]
  },
  {
   "cell_type": "code",
   "execution_count": 3,
   "id": "b7639271-0294-4cce-9f69-ad12acbb8765",
   "metadata": {},
   "outputs": [
    {
     "data": {
      "text/html": [
       "<div>\n",
       "<style scoped>\n",
       "    .dataframe tbody tr th:only-of-type {\n",
       "        vertical-align: middle;\n",
       "    }\n",
       "\n",
       "    .dataframe tbody tr th {\n",
       "        vertical-align: top;\n",
       "    }\n",
       "\n",
       "    .dataframe thead th {\n",
       "        text-align: right;\n",
       "    }\n",
       "</style>\n",
       "<table border=\"1\" class=\"dataframe\">\n",
       "  <thead>\n",
       "    <tr style=\"text-align: right;\">\n",
       "      <th></th>\n",
       "      <th>left_id</th>\n",
       "      <th>right_id</th>\n",
       "      <th>probability</th>\n",
       "    </tr>\n",
       "  </thead>\n",
       "  <tbody>\n",
       "    <tr>\n",
       "      <th>0</th>\n",
       "      <td>b'\\\\s31\\x86\\xbb\\xd0s\\xa2\\x92\\x8a\\xadI&lt; \\xc7^+l...</td>\n",
       "      <td>b'v\\xa9=\\x14\\xc2\\xc2~\\xa7\\xbe\\xb9\\xa2\\xe6\\xe2M...</td>\n",
       "      <td>1</td>\n",
       "    </tr>\n",
       "    <tr>\n",
       "      <th>1</th>\n",
       "      <td>b'?@\\xf4\\xa9\\xbeBQ\\xa8\\x7fn\\xcbT\\xac\\xedL\\x05\\...</td>\n",
       "      <td>b'\\xf3\\xce\\xa4\\xe4H\\r\\xcf\\xaf\\x11IfH\\xf9\\xc4\\x...</td>\n",
       "      <td>1</td>\n",
       "    </tr>\n",
       "    <tr>\n",
       "      <th>2</th>\n",
       "      <td>b'\\xfe^[\\xea\\xecLt\\x08O\\x0b\\x11.\\xdf*\\xcb\\x89K...</td>\n",
       "      <td>b'-I\\xf4:\\xb6\\xeb\\xb4\\xd9\\xbb\\xe0\\xc4\\xb7V4\\xc...</td>\n",
       "      <td>1</td>\n",
       "    </tr>\n",
       "  </tbody>\n",
       "</table>\n",
       "</div>"
      ],
      "text/plain": [
       "                                             left_id  \\\n",
       "0  b'\\\\s31\\x86\\xbb\\xd0s\\xa2\\x92\\x8a\\xadI< \\xc7^+l...   \n",
       "1  b'?@\\xf4\\xa9\\xbeBQ\\xa8\\x7fn\\xcbT\\xac\\xedL\\x05\\...   \n",
       "2  b'\\xfe^[\\xea\\xecLt\\x08O\\x0b\\x11.\\xdf*\\xcb\\x89K...   \n",
       "\n",
       "                                            right_id  probability  \n",
       "0  b'v\\xa9=\\x14\\xc2\\xc2~\\xa7\\xbe\\xb9\\xa2\\xe6\\xe2M...            1  \n",
       "1  b'\\xf3\\xce\\xa4\\xe4H\\r\\xcf\\xaf\\x11IfH\\xf9\\xc4\\x...            1  \n",
       "2  b'-I\\xf4:\\xb6\\xeb\\xb4\\xd9\\xbb\\xe0\\xc4\\xb7V4\\xc...            1  "
      ]
     },
     "execution_count": 3,
     "metadata": {},
     "output_type": "execute_result"
    },
    {
     "name": "stdout",
     "output_type": "stream",
     "text": [
      "<class 'pandas.core.frame.DataFrame'>\n",
      "RangeIndex: 90276899 entries, 0 to 90276898\n",
      "Data columns (total 3 columns):\n",
      " #   Column       Dtype          \n",
      "---  ------       -----          \n",
      " 0   left_id      binary[pyarrow]\n",
      " 1   right_id     binary[pyarrow]\n",
      " 2   probability  int32[pyarrow] \n",
      "dtypes: binary[pyarrow](2), int32[pyarrow](1)\n",
      "memory usage: 4.4 GB\n"
     ]
    }
   ],
   "source": [
    "with s3.read(path=\"hmrc_exporters_probabilities.parquet\") as f:\n",
    "    exp_deduped = pd.read_parquet(f, dtype_backend=\"pyarrow\")\n",
    "\n",
    "exp_deduped.left_id = exp_deduped.left_id.astype(\"binary[pyarrow]\")\n",
    "exp_deduped.right_id = exp_deduped.right_id.astype(\"binary[pyarrow]\")\n",
    "\n",
    "exp_deduped.head(3)\n",
    "exp_deduped.info()"
   ]
  },
  {
   "cell_type": "code",
   "execution_count": 17,
   "id": "85c18d43-d5c3-4b7c-940e-081353cd05a7",
   "metadata": {},
   "outputs": [],
   "source": [
    "df = exp_deduped.head(10).copy()"
   ]
  },
  {
   "cell_type": "code",
   "execution_count": null,
   "id": "b2b76df1-5a2a-458d-a01a-8a2994957666",
   "metadata": {},
   "outputs": [],
   "source": [
    "pd.ArrowDtype(pa.Binary)"
   ]
  },
  {
   "cell_type": "code",
   "execution_count": 28,
   "id": "ca8678c7-b82d-406a-a40f-7c825d7603b2",
   "metadata": {},
   "outputs": [
    {
     "data": {
      "text/html": [
       "<div>\n",
       "<style scoped>\n",
       "    .dataframe tbody tr th:only-of-type {\n",
       "        vertical-align: middle;\n",
       "    }\n",
       "\n",
       "    .dataframe tbody tr th {\n",
       "        vertical-align: top;\n",
       "    }\n",
       "\n",
       "    .dataframe thead th {\n",
       "        text-align: right;\n",
       "    }\n",
       "</style>\n",
       "<table border=\"1\" class=\"dataframe\">\n",
       "  <thead>\n",
       "    <tr style=\"text-align: right;\">\n",
       "      <th></th>\n",
       "      <th>left_id</th>\n",
       "      <th>right_id</th>\n",
       "    </tr>\n",
       "  </thead>\n",
       "  <tbody>\n",
       "    <tr>\n",
       "      <th>0</th>\n",
       "      <td>b'\\\\s31\\x86\\xbb\\xd0s\\xa2\\x92\\x8a\\xadI&lt; \\xc7^+l...</td>\n",
       "      <td>b'v\\xa9=\\x14\\xc2\\xc2~\\xa7\\xbe\\xb9\\xa2\\xe6\\xe2M...</td>\n",
       "    </tr>\n",
       "    <tr>\n",
       "      <th>1</th>\n",
       "      <td>b'?@\\xf4\\xa9\\xbeBQ\\xa8\\x7fn\\xcbT\\xac\\xedL\\x05\\...</td>\n",
       "      <td>b'\\xf3\\xce\\xa4\\xe4H\\r\\xcf\\xaf\\x11IfH\\xf9\\xc4\\x...</td>\n",
       "    </tr>\n",
       "    <tr>\n",
       "      <th>2</th>\n",
       "      <td>b'\\xfe^[\\xea\\xecLt\\x08O\\x0b\\x11.\\xdf*\\xcb\\x89K...</td>\n",
       "      <td>b'-I\\xf4:\\xb6\\xeb\\xb4\\xd9\\xbb\\xe0\\xc4\\xb7V4\\xc...</td>\n",
       "    </tr>\n",
       "    <tr>\n",
       "      <th>3</th>\n",
       "      <td>b'\\x07\\xab\\xa9\\x92\\xfa`\\xc9\\x1e\\x9b\\x12)?w\\x9d...</td>\n",
       "      <td>b'\\xfc\\x81\\xdd\\xdc\\x98V\\x96\\x88&lt;\\x91}\\'q\\x02y\\...</td>\n",
       "    </tr>\n",
       "    <tr>\n",
       "      <th>4</th>\n",
       "      <td>b'}C\\xd2\\xfcxL\\x13\\xc5\\xf4\\xe0a\\xbdc\\x92O.\\r\\x...</td>\n",
       "      <td>b'\\xc7W\\xbfPX&amp;\\xd2ZIZ\\x8a\\xac\\xae)\\xd8\\xc9wUQT'</td>\n",
       "    </tr>\n",
       "    <tr>\n",
       "      <th>5</th>\n",
       "      <td>b'vP\\xff\\x91\\xfc\\t\\xd6\\xde\\xfa\\xdc\\xc3hj\\xe56r...</td>\n",
       "      <td>b'5\\xc1\\xc4)\\xe2G\\xbc\\xc2\\xabr2\\xb8\\xbc\\xc5XH)...</td>\n",
       "    </tr>\n",
       "    <tr>\n",
       "      <th>6</th>\n",
       "      <td>b'r\\x12H&lt;\\x84}/\\xbb\\xf1`\\xa5\\xe4\\xfc\\r\\xc8Id\\x...</td>\n",
       "      <td>b'Ul\\x0b\\x8e\\x1b^\\xb6L\\xe3\\x8d\\xde\\x1b\\x8d\\xdb...</td>\n",
       "    </tr>\n",
       "    <tr>\n",
       "      <th>7</th>\n",
       "      <td>b'\\xea\\x8ab\\xc1\\xa2r/\\x92\\xf3\\x07\\x98\\xe6\\xcb&lt;...</td>\n",
       "      <td>b'\\xe4mK\\xffX\\xec\\xe2\\x9e\\x92\\x1d\\xf5\\x80\\x96p...</td>\n",
       "    </tr>\n",
       "    <tr>\n",
       "      <th>8</th>\n",
       "      <td>b'\\x999/u#\\x1f\\x02uw\\xcc\\x199\\x18{\\x06\\x9b\\xc9...</td>\n",
       "      <td>b';&amp;Z.\\xed\\x16A\\xdaP\\xfe\\xe2{\\x7f\\xa9\\x9d\\xb1\\...</td>\n",
       "    </tr>\n",
       "    <tr>\n",
       "      <th>9</th>\n",
       "      <td>b'Y\\x87\\xb5M\\xe9!Z\\x87\\xf3\\xda\\x94e\\x0e^p2`\\xa...</td>\n",
       "      <td>b'\\x84\\xfe!s\\xd3\\xee\\xed\\xd0\\x1a\\x81:\\x18\\x13\\...</td>\n",
       "    </tr>\n",
       "  </tbody>\n",
       "</table>\n",
       "</div>"
      ],
      "text/plain": [
       "                                             left_id  \\\n",
       "0  b'\\\\s31\\x86\\xbb\\xd0s\\xa2\\x92\\x8a\\xadI< \\xc7^+l...   \n",
       "1  b'?@\\xf4\\xa9\\xbeBQ\\xa8\\x7fn\\xcbT\\xac\\xedL\\x05\\...   \n",
       "2  b'\\xfe^[\\xea\\xecLt\\x08O\\x0b\\x11.\\xdf*\\xcb\\x89K...   \n",
       "3  b'\\x07\\xab\\xa9\\x92\\xfa`\\xc9\\x1e\\x9b\\x12)?w\\x9d...   \n",
       "4  b'}C\\xd2\\xfcxL\\x13\\xc5\\xf4\\xe0a\\xbdc\\x92O.\\r\\x...   \n",
       "5  b'vP\\xff\\x91\\xfc\\t\\xd6\\xde\\xfa\\xdc\\xc3hj\\xe56r...   \n",
       "6  b'r\\x12H<\\x84}/\\xbb\\xf1`\\xa5\\xe4\\xfc\\r\\xc8Id\\x...   \n",
       "7  b'\\xea\\x8ab\\xc1\\xa2r/\\x92\\xf3\\x07\\x98\\xe6\\xcb<...   \n",
       "8  b'\\x999/u#\\x1f\\x02uw\\xcc\\x199\\x18{\\x06\\x9b\\xc9...   \n",
       "9  b'Y\\x87\\xb5M\\xe9!Z\\x87\\xf3\\xda\\x94e\\x0e^p2`\\xa...   \n",
       "\n",
       "                                            right_id  \n",
       "0  b'v\\xa9=\\x14\\xc2\\xc2~\\xa7\\xbe\\xb9\\xa2\\xe6\\xe2M...  \n",
       "1  b'\\xf3\\xce\\xa4\\xe4H\\r\\xcf\\xaf\\x11IfH\\xf9\\xc4\\x...  \n",
       "2  b'-I\\xf4:\\xb6\\xeb\\xb4\\xd9\\xbb\\xe0\\xc4\\xb7V4\\xc...  \n",
       "3  b'\\xfc\\x81\\xdd\\xdc\\x98V\\x96\\x88<\\x91}\\'q\\x02y\\...  \n",
       "4    b'\\xc7W\\xbfPX&\\xd2ZIZ\\x8a\\xac\\xae)\\xd8\\xc9wUQT'  \n",
       "5  b'5\\xc1\\xc4)\\xe2G\\xbc\\xc2\\xabr2\\xb8\\xbc\\xc5XH)...  \n",
       "6  b'Ul\\x0b\\x8e\\x1b^\\xb6L\\xe3\\x8d\\xde\\x1b\\x8d\\xdb...  \n",
       "7  b'\\xe4mK\\xffX\\xec\\xe2\\x9e\\x92\\x1d\\xf5\\x80\\x96p...  \n",
       "8  b';&Z.\\xed\\x16A\\xdaP\\xfe\\xe2{\\x7f\\xa9\\x9d\\xb1\\...  \n",
       "9  b'\\x84\\xfe!s\\xd3\\xee\\xed\\xd0\\x1a\\x81:\\x18\\x13\\...  "
      ]
     },
     "execution_count": 28,
     "metadata": {},
     "output_type": "execute_result"
    }
   ],
   "source": [
    "df[[\"left_id\", \"right_id\"]].astype(\"binary[pyarrow]\")"
   ]
  },
  {
   "cell_type": "code",
   "execution_count": 13,
   "id": "939e89e8-a2e8-4b29-a52a-96964885d9b3",
   "metadata": {},
   "outputs": [],
   "source": [
    "all_edges = (\n",
    "    exp_deduped\n",
    "    .query(\"probability >= 1\")\n",
    "    .filter([\"left_id\", \"right_id\"])\n",
    "    .itertuples(index=False, name=None)\n",
    ")"
   ]
  },
  {
   "cell_type": "code",
   "execution_count": 14,
   "id": "c1c9992e-b544-4693-b7c0-bab103efc322",
   "metadata": {},
   "outputs": [],
   "source": [
    "G = rx.PyGraph()\n",
    "added = {}\n",
    "\n",
    "for edge in all_edges:\n",
    "    edge_idx = []\n",
    "    for sha1 in edge:\n",
    "        sha1_idx = added.get(sha1)\n",
    "        if sha1_idx is None:\n",
    "            sha1_idx = G.add_node(sha1)\n",
    "            added[sha1] = sha1_idx\n",
    "        edge_idx.append(sha1_idx)\n",
    "    edge_idx.append(None)\n",
    "    _ = G.add_edge(*edge_idx)\n"
   ]
  },
  {
   "cell_type": "code",
   "execution_count": 15,
   "id": "dfadc38c-a5a9-4451-8bb8-d13a1121b82d",
   "metadata": {},
   "outputs": [
    {
     "data": {
      "text/plain": [
       "187004"
      ]
     },
     "execution_count": 15,
     "metadata": {},
     "output_type": "execute_result"
    }
   ],
   "source": [
    "rx.number_connected_components(G)"
   ]
  },
  {
   "cell_type": "code",
   "execution_count": 19,
   "id": "5d92dd7a-d25d-4daa-bcfd-8442ca322486",
   "metadata": {},
   "outputs": [
    {
     "name": "stdout",
     "output_type": "stream",
     "text": [
      "b'\\\\s31\\x86\\xbb\\xd0s\\xa2\\x92\\x8a\\xadI< \\xc7^+l\\xdf'\n"
     ]
    }
   ],
   "source": [
    "for edge in all_edges:\n",
    "    print(edge)\n",
    "    break"
   ]
  },
  {
   "cell_type": "code",
   "execution_count": 23,
   "id": "85cd00ab-ce8e-4afe-a667-d8e70aa43fbc",
   "metadata": {},
   "outputs": [
    {
     "data": {
      "text/plain": [
       "(0, b'\\\\s31\\x86\\xbb\\xd0s\\xa2\\x92\\x8a\\xadI< \\xc7^+l\\xdf', b'v\\xa9=\\x14\\xc2\\xc2~\\xa7\\xbe\\xb9\\xa2\\xe6\\xe2M\\xca\\x9d\\xf6(\\x0b1')"
      ]
     },
     "execution_count": 23,
     "metadata": {},
     "output_type": "execute_result"
    }
   ],
   "source": [
    "(\n",
    "    exp_deduped\n",
    "    .head(100_000)\n",
    "    .query(\"probability >= 1\")\n",
    "    .filter([\"left_id\", \"right_id\"])\n",
    "    .to_records()\n",
    ")[0]"
   ]
  }
 ],
 "metadata": {
  "kernelspec": {
   "display_name": "company_matching",
   "language": "python",
   "name": "company_matching"
  },
  "language_info": {
   "codemirror_mode": {
    "name": "ipython",
    "version": 3
   },
   "file_extension": ".py",
   "mimetype": "text/x-python",
   "name": "python",
   "nbconvert_exporter": "python",
   "pygments_lexer": "ipython3",
   "version": "3.9.16"
  }
 },
 "nbformat": 4,
 "nbformat_minor": 5
}
