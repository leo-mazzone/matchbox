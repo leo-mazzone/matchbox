{
 "cells": [
  {
   "cell_type": "code",
   "execution_count": 1,
   "metadata": {},
   "outputs": [],
   "source": [
    "%load_ext autoreload\n",
    "%autoreload 2\n",
    "from IPython.core.interactiveshell import InteractiveShell\n",
    "InteractiveShell.ast_node_interactivity = \"all\""
   ]
  },
  {
   "cell_type": "code",
   "execution_count": 2,
   "metadata": {},
   "outputs": [],
   "source": [
    "from src.locations import DATA_SUBDIR\n",
    "from src.models import utils as mu\n",
    "from src.data import utils as du\n",
    "import src\n",
    "\n",
    "import glob\n",
    "from os import path\n",
    "\n",
    "import mlflow\n",
    "import cloudpickle\n",
    "import duckdb"
   ]
  },
  {
   "cell_type": "code",
   "execution_count": 4,
   "metadata": {},
   "outputs": [],
   "source": [
    "cloudpickle.register_pickle_by_value(src)\n"
   ]
  },
  {
   "cell_type": "code",
   "execution_count": null,
   "metadata": {},
   "outputs": [],
   "source": [
    "xcloudpickle.dumps(src.)"
   ]
  },
  {
   "cell_type": "code",
   "execution_count": 8,
   "metadata": {},
   "outputs": [],
   "source": [
    "con = du.get_duckdb_connection()"
   ]
  },
  {
   "cell_type": "code",
   "execution_count": null,
   "metadata": {},
   "outputs": [],
   "source": []
  },
  {
   "cell_type": "code",
   "execution_count": 28,
   "metadata": {},
   "outputs": [],
   "source": [
    "con.query(\"create table x(i integer);\")"
   ]
  },
  {
   "cell_type": "code",
   "execution_count": 16,
   "metadata": {},
   "outputs": [],
   "source": [
    "del con"
   ]
  },
  {
   "cell_type": "code",
   "execution_count": 30,
   "metadata": {},
   "outputs": [],
   "source": [
    "du.DEFAULT_DUCKDB_PATH.unlink()\n",
    "# con = du.get_duckdb_connection(path = duckdb_dir.as_posix())"
   ]
  },
  {
   "cell_type": "code",
   "execution_count": 9,
   "metadata": {},
   "outputs": [
    {
     "data": {
      "text/plain": [
       "┌───────────────────────────────┐\n",
       "│             name              │\n",
       "│            varchar            │\n",
       "├───────────────────────────────┤\n",
       "│ companieshouse_companies      │\n",
       "│ dit_data_hub__companies       │\n",
       "│ dit_export_wins__wins_dataset │\n",
       "│ hmrc_trade__exporters         │\n",
       "│ table_alias_lookup            │\n",
       "│ unique_id_lookup              │\n",
       "└───────────────────────────────┘"
      ]
     },
     "execution_count": 9,
     "metadata": {},
     "output_type": "execute_result"
    }
   ],
   "source": [
    "con.query(\"show tables;\")"
   ]
  },
  {
   "cell_type": "code",
   "execution_count": 10,
   "metadata": {},
   "outputs": [
    {
     "data": {
      "text/plain": [
       "┌───────┬───────────────────────────────┐\n",
       "│  id   │          table_name           │\n",
       "│ int32 │            varchar            │\n",
       "├───────┼───────────────────────────────┤\n",
       "│     1 │ hmrc_trade__exporters         │\n",
       "│     2 │ companieshouse_companies      │\n",
       "│     3 │ dit_data_hub__companies       │\n",
       "│     4 │ dit_export_wins__wins_dataset │\n",
       "└───────┴───────────────────────────────┘"
      ]
     },
     "execution_count": 10,
     "metadata": {},
     "output_type": "execute_result"
    }
   ],
   "source": [
    "con.query(\"select * from table_alias_lookup limit 5;\")"
   ]
  },
  {
   "cell_type": "code",
   "execution_count": 11,
   "metadata": {},
   "outputs": [
    {
     "data": {
      "text/plain": [
       "┌───────┬──────────────────────────────────────┐\n",
       "│  id   │              unique_id               │\n",
       "│ int32 │               varchar                │\n",
       "├───────┼──────────────────────────────────────┤\n",
       "│   568 │ 8eeb4338-8301-40c4-a69e-d1e19bf781d8 │\n",
       "│   569 │ 3a5317b3-7fb0-4982-8252-f0f784b2c5d6 │\n",
       "│   570 │ 80e9df92-e094-4822-90db-1b906338442f │\n",
       "│   571 │ 8100372b-d67f-4b3d-8aa7-1cabaf4cc0e8 │\n",
       "│   572 │ 068cb050-92d0-4764-896b-b8b4ab65d692 │\n",
       "└───────┴──────────────────────────────────────┘"
      ]
     },
     "execution_count": 11,
     "metadata": {},
     "output_type": "execute_result"
    }
   ],
   "source": [
    "con.query(\"select * from unique_id_lookup limit 5;\")"
   ]
  },
  {
   "cell_type": "code",
   "execution_count": 14,
   "metadata": {},
   "outputs": [
    {
     "data": {
      "text/plain": [
       "┌───────────┬────────────────┐\n",
       "│ unique_id │ comp_num_clean │\n",
       "│   int32   │    varchar     │\n",
       "├───────────┼────────────────┤\n",
       "│    333645 │ 9429966        │\n",
       "│    333647 │ 10247816       │\n",
       "│    333649 │ 12976187       │\n",
       "│    333651 │ 8236358        │\n",
       "│    333653 │ 6467209        │\n",
       "└───────────┴────────────────┘"
      ]
     },
     "execution_count": 14,
     "metadata": {},
     "output_type": "execute_result"
    }
   ],
   "source": [
    "con.query(\"select unique_id, comp_num_clean from companieshouse_companies limit 5;\")"
   ]
  },
  {
   "cell_type": "code",
   "execution_count": 15,
   "metadata": {},
   "outputs": [
    {
     "data": {
      "text/plain": [
       "┌──────────────┐\n",
       "│ count_star() │\n",
       "│    int64     │\n",
       "├──────────────┤\n",
       "│       100000 │\n",
       "└──────────────┘"
      ]
     },
     "execution_count": 15,
     "metadata": {},
     "output_type": "execute_result"
    }
   ],
   "source": [
    "con.query(\"select count(*) from companieshouse_companies;\")"
   ]
  },
  {
   "cell_type": "code",
   "execution_count": null,
   "metadata": {},
   "outputs": [],
   "source": [
    "con = du.get_duckdb_connection(path = duckdb_dir.as_posix())\n",
    "\n",
    "if overwrite:\n",
    "    Path(duckdb_dir).unlink()\n",
    "    con = du.get_duckdb_connection(path = duckdb_dir.as_posix())"
   ]
  },
  {
   "cell_type": "code",
   "execution_count": 32,
   "metadata": {},
   "outputs": [],
   "source": [
    "x = du.build_alias_path_dict('company-matching__06-26-23_11-40-51')"
   ]
  },
  {
   "cell_type": "code",
   "execution_count": null,
   "metadata": {},
   "outputs": [],
   "source": [
    "for df in x.keys()\n",
    "    df"
   ]
  },
  {
   "cell_type": "code",
   "execution_count": 34,
   "metadata": {},
   "outputs": [
    {
     "ename": "CatalogException",
     "evalue": "Catalog Error: Table Function with name dict_keys does not exist!\nDid you mean \"duckdb_keywords\"?",
     "output_type": "error",
     "traceback": [
      "\u001b[0;31m---------------------------------------------------------------------------\u001b[0m",
      "\u001b[0;31mCatalogException\u001b[0m                          Traceback (most recent call last)",
      "Cell \u001b[0;32mIn[34], line 1\u001b[0m\n\u001b[0;32m----> 1\u001b[0m \u001b[43mduckdb\u001b[49m\u001b[38;5;241;43m.\u001b[39;49m\u001b[43msql\u001b[49m\u001b[43m(\u001b[49m\u001b[38;5;124;43mf\u001b[39;49m\u001b[38;5;124;43m\"\u001b[39;49m\u001b[38;5;124;43mselect * from \u001b[39;49m\u001b[38;5;132;43;01m{\u001b[39;49;00m\u001b[43mx\u001b[49m\u001b[38;5;241;43m.\u001b[39;49m\u001b[43mkeys\u001b[49m\u001b[43m(\u001b[49m\u001b[43m)\u001b[49m\u001b[38;5;132;43;01m}\u001b[39;49;00m\u001b[38;5;124;43m as list\u001b[39;49m\u001b[38;5;124;43m\"\u001b[39;49m\u001b[43m)\u001b[49m\n",
      "\u001b[0;31mCatalogException\u001b[0m: Catalog Error: Table Function with name dict_keys does not exist!\nDid you mean \"duckdb_keywords\"?"
     ]
    }
   ],
   "source": [
    "duckdb.sql(f\"select * from {x.keys()} as list\")"
   ]
  }
 ],
 "metadata": {
  "kernelspec": {
   "display_name": "company_matching",
   "language": "python",
   "name": "company_matching"
  },
  "language_info": {
   "codemirror_mode": {
    "name": "ipython",
    "version": 3
   },
   "file_extension": ".py",
   "mimetype": "text/x-python",
   "name": "python",
   "nbconvert_exporter": "python",
   "pygments_lexer": "ipython3",
   "version": "3.9.16"
  }
 },
 "nbformat": 4,
 "nbformat_minor": 4
}
