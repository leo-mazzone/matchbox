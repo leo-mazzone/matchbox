{
 "cells": [
  {
   "cell_type": "code",
   "execution_count": 2,
   "id": "6d2cf574-09ed-4120-9bea-8564dfb43bb1",
   "metadata": {},
   "outputs": [],
   "source": [
    "%load_ext autoreload\n",
    "%autoreload 2\n",
    "from IPython.core.interactiveshell import InteractiveShell\n",
    "InteractiveShell.ast_node_interactivity = \"all\""
   ]
  },
  {
   "cell_type": "code",
   "execution_count": 3,
   "id": "c0090a19-89f2-4f87-bef1-a72f01cf6e74",
   "metadata": {},
   "outputs": [],
   "source": [
    "import mlflow\n",
    "import duckdb\n",
    "import json\n",
    "from pathlib import Path\n",
    "import dask.dataframe as dd\n",
    "\n",
    "from splink.duckdb.linker import DuckDBLinker\n",
    "\n",
    "from src.data import utils as du\n",
    "import src.locations as loc\n",
    "from src.config import settings"
   ]
  },
  {
   "cell_type": "markdown",
   "id": "fc0edb74-b974-4004-b6be-5a625b878c32",
   "metadata": {},
   "source": [
    "Questions:\n",
    "\n",
    "1. Can we predict in batches?\n",
    "2. If we predict in batches, do we get the same answer as when not?\n",
    "3. Does this alleviate memory issues?\n",
    "4. Does this work with clustering?\n",
    "\n",
    "29/7 update: didn't even need to do batch stuff. CLUSTERING is the problem -- predict is fine. Opens up new avenues."
   ]
  },
  {
   "cell_type": "markdown",
   "id": "1ac8302c-9f46-49f0-a394-59b7ed0f6e94",
   "metadata": {},
   "source": [
    "## Repartition into multiple files"
   ]
  },
  {
   "cell_type": "code",
   "execution_count": 4,
   "id": "a2791807-a862-4a3e-b6b5-895552db1786",
   "metadata": {},
   "outputs": [],
   "source": [
    "data_full = du.build_alias_path_dict(Path(loc.DATA_SUBDIR['processed']) / 'company-matching__full')"
   ]
  },
  {
   "cell_type": "code",
   "execution_count": 47,
   "id": "dadfc0a3-14e4-4c5a-85f4-2ffa8cd9ce62",
   "metadata": {},
   "outputs": [
    {
     "data": {
      "text/plain": [
       "{'hmrc_trade__exporters': \"'/home/jovyan/company_matching/data/processed/company-matching__partitioned/hmrc_trade__exporters'\",\n",
       " 'dit_export_wins__wins_dataset': \"'/home/jovyan/company_matching/data/processed/company-matching__partitioned/dit_export_wins__wins_dataset'\",\n",
       " 'dit_data_hub__companies': \"'/home/jovyan/company_matching/data/processed/company-matching__partitioned/dit_data_hub__companies'\",\n",
       " 'companieshouse_companies': \"'/home/jovyan/company_matching/data/processed/company-matching__partitioned/companieshouse_companies'\"}"
      ]
     },
     "execution_count": 47,
     "metadata": {},
     "output_type": "execute_result"
    }
   ],
   "source": [
    "data_partitioned = {}\n",
    "\n",
    "for data in data_full.keys():\n",
    "    df = dd.read_parquet(data_full[data])\n",
    "    df = df.repartition(partition_size=\"100MB\")\n",
    "    new_dir = Path(loc.DATA_SUBDIR['processed']) / 'company-matching__partitioned' / data\n",
    "    df.to_parquet(new_dir)\n",
    "    data_partitioned[data] = f\"'{new_dir.as_posix()}'\"\n",
    "    \n",
    "data_partitioned"
   ]
  },
  {
   "cell_type": "markdown",
   "id": "d7aff7fc-ff27-4e10-b2c6-dcddb19f3880",
   "metadata": {},
   "source": [
    "## Predict in batches"
   ]
  },
  {
   "cell_type": "code",
   "execution_count": 5,
   "id": "959219b0-f2b3-4558-be14-3c20dd082ceb",
   "metadata": {},
   "outputs": [],
   "source": [
    "json_raw = mlflow.artifacts.load_text(\n",
    "    artifact_uri=\"runs:/22ce217706c54650ac34f59cb6a45960/model/companies_matching_model.json\"\n",
    ")\n",
    "json_settings = json.loads(json_raw)"
   ]
  },
  {
   "cell_type": "code",
   "execution_count": 6,
   "id": "4ec62f95-1fb7-4266-a0e8-205c530bf234",
   "metadata": {},
   "outputs": [],
   "source": [
    "connection = duckdb.connect()"
   ]
  },
  {
   "cell_type": "code",
   "execution_count": 7,
   "id": "995f791c-464a-4624-bb7f-d36cf58c7156",
   "metadata": {},
   "outputs": [],
   "source": [
    "linker = DuckDBLinker(\n",
    "    list(data_full.values()),\n",
    "    settings_dict=settings,\n",
    "    connection=connection,\n",
    "    input_table_aliases=list(data_full.keys()),\n",
    ")\n",
    "linker.load_model(json_settings)"
   ]
  },
  {
   "cell_type": "code",
   "execution_count": 8,
   "id": "1cf4ad10-b7ce-4adf-9dfa-919d13f0e1bd",
   "metadata": {},
   "outputs": [
    {
     "name": "stderr",
     "output_type": "stream",
     "text": [
      "\n",
      " -- WARNING --\n",
      "You have called predict(), but there are some parameter estimates which have neither been estimated or specified in your settings dictionary.  To produce predictions the following untrained trained parameters will use default values.\n",
      "Comparison: 'comp_num_clean':\n",
      "    u values not fully trained\n"
     ]
    }
   ],
   "source": [
    "predictions = linker.predict(threshold_match_probability=0.7)"
   ]
  },
  {
   "cell_type": "code",
   "execution_count": 10,
   "id": "19a3c751-f95b-4cbf-ad44-cc24c13e516f",
   "metadata": {},
   "outputs": [
    {
     "data": {
      "text/plain": [
       "┌───────────────┬───────────────┬────────────┬──────────────┬───┬─────────────┬──────────┬──────────────┬──────────────┐\n",
       "│ database_name │ database_size │ block_size │ total_blocks │ … │ free_blocks │ wal_size │ memory_usage │ memory_limit │\n",
       "│    varchar    │    varchar    │   int64    │    int64     │   │    int64    │ varchar  │   varchar    │   varchar    │\n",
       "├───────────────┼───────────────┼────────────┼──────────────┼───┼─────────────┼──────────┼──────────────┼──────────────┤\n",
       "│ memory        │ 0 bytes       │          0 │            0 │ … │           0 │ 0 bytes  │ 11.0GB       │ 26.4GB       │\n",
       "├───────────────┴───────────────┴────────────┴──────────────┴───┴─────────────┴──────────┴──────────────┴──────────────┤\n",
       "│ 1 rows                                                                                           9 columns (8 shown) │\n",
       "└──────────────────────────────────────────────────────────────────────────────────────────────────────────────────────┘"
      ]
     },
     "execution_count": 10,
     "metadata": {},
     "output_type": "execute_result"
    }
   ],
   "source": [
    "connection.query(\"\"\"\n",
    "    pragma database_size;\n",
    "    call pragma_database_size();\n",
    "\"\"\")"
   ]
  },
  {
   "cell_type": "code",
   "execution_count": 17,
   "id": "c7b23e97-9f8e-405a-a216-147132560874",
   "metadata": {},
   "outputs": [],
   "source": [
    "pred_path = Path(loc.DATA_SUBDIR['processed']) / 'company-matching__full' / 'predictions.parquet'"
   ]
  },
  {
   "cell_type": "code",
   "execution_count": 18,
   "id": "ddfbca05-c1d5-421a-9be1-33bd87e6f004",
   "metadata": {},
   "outputs": [],
   "source": [
    "connection.query(f\"\"\"\n",
    "    copy {predictions.physical_name}\n",
    "    to '{pred_path.as_posix()}'\n",
    "    (format parquet);\n",
    "\"\"\")"
   ]
  },
  {
   "cell_type": "code",
   "execution_count": 19,
   "id": "9d4aef28-0cf9-4925-ac23-3457797bfe49",
   "metadata": {},
   "outputs": [
    {
     "data": {
      "text/plain": [
       "┌────────────────────┬────────────────────┬───┬──────────────────────┬──────────────────────┬───────────┐\n",
       "│    match_weight    │ match_probability  │ … │     unique_id_l      │     unique_id_r      │ match_key │\n",
       "│       double       │       double       │   │       varchar        │       varchar        │  varchar  │\n",
       "├────────────────────┼────────────────────┼───┼──────────────────────┼──────────────────────┼───────────┤\n",
       "│ 1.4157836817616756 │ 0.7273753031699655 │ … │ b18c76fc-a30d-e411…  │ 11f864f6-09bc-4cf8…  │ 0         │\n",
       "│ 20.075070679022463 │ 0.9999990946819749 │ … │ 7a7fd6b2-4f0e-e411…  │ 19a1c784-0e8c-4b9b…  │ 0         │\n",
       "│ 18.852678257686016 │ 0.9999978875938246 │ … │ e7275be8-7e11-e411…  │ 3d895056-4ffd-4a15…  │ 0         │\n",
       "│ 21.338105084856256 │  0.999999622783957 │ … │ 6afa126b-a911-e411…  │ 03ebd8a5-f065-423a…  │ 0         │\n",
       "│  18.20060156110632 │ 0.9999966805085885 │ … │ f7f4ddb5-4d12-e411…  │ 600dcf7f-7087-46f3…  │ 0         │\n",
       "│ 22.075070679022463 │ 0.9999997736703401 │ … │ a2af958c-6d12-e411…  │ 2cdace24-f936-48b6…  │ 0         │\n",
       "│ 21.660033179743618 │ 0.9999996982271429 │ … │ 758d33ef-7612-e411…  │ a45178bf-d2b8-42bf…  │ 0         │\n",
       "│  8.697196988889726 │ 0.9975965352319727 │ … │ 25d45568-4713-e411…  │ 76b9acb6-9839-4b3a…  │ 0         │\n",
       "│ 17.267715756964858 │ 0.9999936628082473 │ … │ 2ad5730d-0718-e411…  │ 33c1c23d-126a-4a48…  │ 0         │\n",
       "│ 1.8339107565946287 │ 0.7809429788614763 │ … │ 8ba7f427-b71b-e411…  │ ec4c2222-701f-4c6f…  │ 0         │\n",
       "│          ·         │          ·         │ · │    ·                 │    ·                 │ ·         │\n",
       "│          ·         │          ·         │ · │    ·                 │    ·                 │ ·         │\n",
       "│          ·         │          ·         │ · │    ·                 │    ·                 │ ·         │\n",
       "│ 1.2508575379009217 │ 0.7041269888047618 │ … │ LP015585             │ SL015585             │ 0         │\n",
       "│ 12.290310605733186 │ 0.9998003997147098 │ … │ CE005649             │ OE005649             │ 0         │\n",
       "│ 1.2477679623468125 │ 0.7036806441393585 │ … │ 00649920             │ NI649920             │ 0         │\n",
       "│ 1.8327304630679686 │ 0.7808029905433105 │ … │ NI655088             │ SC655088             │ 0         │\n",
       "│ 20.660033179743618 │ 0.9999993964544678 │ … │ 03102371             │ fff1057e-6785-4f33…  │ 0         │\n",
       "│ 34.441450699323646 │ 0.9999999999571363 │ … │ 10595685             │ 7b3f4c93-006d-478a…  │ 0         │\n",
       "│ 1.2477679623468125 │ 0.7036806441393585 │ … │ NI036254             │ SL036254             │ 0         │\n",
       "│ 2.4157836817616753 │ 0.8421740218644254 │ … │ SC315210             │ d6f51b21-a98c-4205…  │ 0         │\n",
       "│ 1.8327304630679686 │ 0.7808029905433105 │ … │ OC400419             │ SC400419             │ 0         │\n",
       "│ 1.8327304630679686 │ 0.7808029905433105 │ … │ NI621269             │ SC621269             │ 0         │\n",
       "├────────────────────┴────────────────────┴───┴──────────────────────┴──────────────────────┴───────────┤\n",
       "│ ? rows (>9999 rows, 20 shown)                                                     7 columns (5 shown) │\n",
       "└───────────────────────────────────────────────────────────────────────────────────────────────────────┘"
      ]
     },
     "execution_count": 19,
     "metadata": {},
     "output_type": "execute_result"
    }
   ],
   "source": [
    "connection.query(f\"\"\"\n",
    "    select *\n",
    "    from '{pred_path.as_posix()}'\n",
    "\"\"\")"
   ]
  },
  {
   "cell_type": "code",
   "execution_count": 20,
   "id": "06ffe9d4-55be-4161-aff3-23976b0c33ed",
   "metadata": {},
   "outputs": [
    {
     "ename": "type",
     "evalue": "'str' object has no attribute 'physical_name'",
     "output_type": "error",
     "traceback": [
      "\u001b[0;31m---------------------------------------------------------------------------\u001b[0m",
      "\u001b[0;31mAttributeError\u001b[0m                            Traceback (most recent call last)",
      "Cell \u001b[0;32mIn[20], line 1\u001b[0m\n\u001b[0;32m----> 1\u001b[0m clusters \u001b[38;5;241m=\u001b[39m \u001b[43mlinker\u001b[49m\u001b[38;5;241;43m.\u001b[39;49m\u001b[43mcluster_pairwise_predictions_at_threshold\u001b[49m\u001b[43m(\u001b[49m\n\u001b[1;32m      2\u001b[0m \u001b[43m    \u001b[49m\u001b[38;5;124;43mf\u001b[39;49m\u001b[38;5;124;43m\"\u001b[39;49m\u001b[38;5;124;43m'\u001b[39;49m\u001b[38;5;132;43;01m{\u001b[39;49;00m\u001b[43mpred_path\u001b[49m\u001b[38;5;241;43m.\u001b[39;49m\u001b[43mas_posix\u001b[49m\u001b[43m(\u001b[49m\u001b[43m)\u001b[49m\u001b[38;5;132;43;01m}\u001b[39;49;00m\u001b[38;5;124;43m'\u001b[39;49m\u001b[38;5;124;43m\"\u001b[39;49m\u001b[43m,\u001b[49m\n\u001b[1;32m      3\u001b[0m \u001b[43m    \u001b[49m\u001b[43mthreshold_match_probability\u001b[49m\u001b[38;5;241;43m=\u001b[39;49m\u001b[38;5;241;43m0.7\u001b[39;49m\u001b[43m,\u001b[49m\n\u001b[1;32m      4\u001b[0m \u001b[43m    \u001b[49m\u001b[43mpairwise_formatting\u001b[49m\u001b[38;5;241;43m=\u001b[39;49m\u001b[38;5;28;43;01mTrue\u001b[39;49;00m\u001b[43m,\u001b[49m\n\u001b[1;32m      5\u001b[0m \u001b[43m    \u001b[49m\u001b[43mfilter_pairwise_format_for_clusters\u001b[49m\u001b[38;5;241;43m=\u001b[39;49m\u001b[38;5;28;43;01mFalse\u001b[39;49;00m\u001b[43m,\u001b[49m\n\u001b[1;32m      6\u001b[0m \u001b[43m)\u001b[49m\n",
      "File \u001b[0;32m/opt/conda/envs/company_matching/lib/python3.9/site-packages/splink/linker.py:2010\u001b[0m, in \u001b[0;36mLinker.cluster_pairwise_predictions_at_threshold\u001b[0;34m(self, df_predict, threshold_match_probability, pairwise_formatting, filter_pairwise_format_for_clusters)\u001b[0m\n\u001b[1;32m   2004\u001b[0m \u001b[38;5;66;03m# Feeding in df_predict forces materiailisation, if it exists in your database\u001b[39;00m\n\u001b[1;32m   2005\u001b[0m concat_with_tf \u001b[38;5;241m=\u001b[39m \u001b[38;5;28mself\u001b[39m\u001b[38;5;241m.\u001b[39m_initialise_df_concat_with_tf(df_predict)\n\u001b[1;32m   2007\u001b[0m edges_table \u001b[38;5;241m=\u001b[39m _cc_create_unique_id_cols(\n\u001b[1;32m   2008\u001b[0m     \u001b[38;5;28mself\u001b[39m,\n\u001b[1;32m   2009\u001b[0m     concat_with_tf\u001b[38;5;241m.\u001b[39mphysical_name,\n\u001b[0;32m-> 2010\u001b[0m     \u001b[43mdf_predict\u001b[49m\u001b[38;5;241;43m.\u001b[39;49m\u001b[43mphysical_name\u001b[49m,\n\u001b[1;32m   2011\u001b[0m     threshold_match_probability,\n\u001b[1;32m   2012\u001b[0m )\n\u001b[1;32m   2014\u001b[0m cc \u001b[38;5;241m=\u001b[39m solve_connected_components(\n\u001b[1;32m   2015\u001b[0m     \u001b[38;5;28mself\u001b[39m,\n\u001b[1;32m   2016\u001b[0m     edges_table,\n\u001b[0;32m   (...)\u001b[0m\n\u001b[1;32m   2020\u001b[0m     filter_pairwise_format_for_clusters,\n\u001b[1;32m   2021\u001b[0m )\n\u001b[1;32m   2023\u001b[0m \u001b[38;5;28;01mreturn\u001b[39;00m cc\n",
      "\u001b[0;31mAttributeError\u001b[0m: 'str' object has no attribute 'physical_name'"
     ]
    }
   ],
   "source": [
    "clusters = linker.cluster_pairwise_predictions_at_threshold(\n",
    "    f\"'{pred_path.as_posix()}'\",\n",
    "    threshold_match_probability=0.7,\n",
    "    pairwise_formatting=True,\n",
    "    filter_pairwise_format_for_clusters=False,\n",
    ")"
   ]
  },
  {
   "cell_type": "code",
   "execution_count": null,
   "id": "95e3c12a-f07c-4e7a-a390-faf10bec8f04",
   "metadata": {},
   "outputs": [],
   "source": [
    "lookup = linker.query_sql(\n",
    "    f\"\"\"\n",
    "    select\n",
    "        source_dataset_l as source,\n",
    "        unique_id_l as source_id,\n",
    "        cluster_id_l as source_cluster,\n",
    "        source_dataset_r as target,\n",
    "        unique_id_r as target_id,\n",
    "        cluster_id_r as target_cluster,\n",
    "        match_probability\n",
    "    from\n",
    "        { clusters.physical_name }\n",
    "    union\n",
    "    select\n",
    "        source_dataset_r as source,\n",
    "        unique_id_r as source_id,\n",
    "        cluster_id_r as source_cluster,\n",
    "        source_dataset_l as target,\n",
    "        unique_id_l as target_id,\n",
    "        cluster_id_l as target_cluster,\n",
    "        match_probability\n",
    "    from\n",
    "        { clusters.physical_name }\n",
    "    \"\"\",\n",
    "    output_type=\"splink_df\",\n",
    ")"
   ]
  }
 ],
 "metadata": {
  "kernelspec": {
   "display_name": "company_matching",
   "language": "python",
   "name": "company_matching"
  },
  "language_info": {
   "codemirror_mode": {
    "name": "ipython",
    "version": 3
   },
   "file_extension": ".py",
   "mimetype": "text/x-python",
   "name": "python",
   "nbconvert_exporter": "python",
   "pygments_lexer": "ipython3",
   "version": "3.9.16"
  }
 },
 "nbformat": 4,
 "nbformat_minor": 5
}
