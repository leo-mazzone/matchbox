{
 "cells": [
  {
   "cell_type": "code",
   "execution_count": 1,
   "id": "6d2cf574-09ed-4120-9bea-8564dfb43bb1",
   "metadata": {},
   "outputs": [],
   "source": [
    "%load_ext autoreload\n",
    "%autoreload 2\n",
    "from IPython.core.interactiveshell import InteractiveShell\n",
    "InteractiveShell.ast_node_interactivity = \"all\""
   ]
  },
  {
   "cell_type": "code",
   "execution_count": 2,
   "id": "c0090a19-89f2-4f87-bef1-a72f01cf6e74",
   "metadata": {},
   "outputs": [],
   "source": [
    "import mlflow\n",
    "import duckdb\n",
    "import json\n",
    "from pathlib import Path\n",
    "import pandas as pd\n",
    "# import dask.dataframe as dd\n",
    "\n",
    "from splink.duckdb.linker import DuckDBLinker\n",
    "from splink.postgres.linker import PostgresLinker\n",
    "\n",
    "from src.data import utils as du\n",
    "import src.locations as loc\n",
    "from src.config import settings\n",
    "\n",
    "DATA_FULL = du.build_alias_path_dict(Path(loc.DATA_SUBDIR['processed']) / 'company-matching__full')\n",
    "PRED_PATH = Path(loc.DATA_SUBDIR['processed']) / 'company-matching__full' / 'predictions.parquet'"
   ]
  },
  {
   "cell_type": "markdown",
   "id": "fc0edb74-b974-4004-b6be-5a625b878c32",
   "metadata": {},
   "source": [
    "Questions:\n",
    "\n",
    "1. Can we predict in batches?\n",
    "2. If we predict in batches, do we get the same answer as when not?\n",
    "3. Does this alleviate memory issues?\n",
    "4. Does this work with clustering?\n",
    "\n",
    "29/7 update: didn't even need to do batch stuff. CLUSTERING is the problem -- predict is fine. Opens up new avenues.\n",
    "\n",
    "Let's see where clustering fails specifically."
   ]
  },
  {
   "cell_type": "markdown",
   "id": "1ac8302c-9f46-49f0-a394-59b7ed0f6e94",
   "metadata": {
    "jp-MarkdownHeadingCollapsed": true,
    "tags": []
   },
   "source": [
    "## Repartition into multiple files"
   ]
  },
  {
   "cell_type": "code",
   "execution_count": 47,
   "id": "dadfc0a3-14e4-4c5a-85f4-2ffa8cd9ce62",
   "metadata": {},
   "outputs": [
    {
     "data": {
      "text/plain": [
       "{'hmrc_trade__exporters': \"'/home/jovyan/company_matching/data/processed/company-matching__partitioned/hmrc_trade__exporters'\",\n",
       " 'dit_export_wins__wins_dataset': \"'/home/jovyan/company_matching/data/processed/company-matching__partitioned/dit_export_wins__wins_dataset'\",\n",
       " 'dit_data_hub__companies': \"'/home/jovyan/company_matching/data/processed/company-matching__partitioned/dit_data_hub__companies'\",\n",
       " 'companieshouse_companies': \"'/home/jovyan/company_matching/data/processed/company-matching__partitioned/companieshouse_companies'\"}"
      ]
     },
     "execution_count": 47,
     "metadata": {},
     "output_type": "execute_result"
    }
   ],
   "source": [
    "data_partitioned = {}\n",
    "\n",
    "for data in data_full.keys():\n",
    "    df = dd.read_parquet(data_full[data])\n",
    "    df = df.repartition(partition_size=\"100MB\")\n",
    "    new_dir = Path(loc.DATA_SUBDIR['processed']) / 'company-matching__partitioned' / data\n",
    "    df.to_parquet(new_dir)\n",
    "    data_partitioned[data] = f\"'{new_dir.as_posix()}'\"\n",
    "    \n",
    "data_partitioned"
   ]
  },
  {
   "cell_type": "markdown",
   "id": "d7aff7fc-ff27-4e10-b2c6-dcddb19f3880",
   "metadata": {},
   "source": [
    "## Generate predictions and stash"
   ]
  },
  {
   "cell_type": "code",
   "execution_count": 3,
   "id": "959219b0-f2b3-4558-be14-3c20dd082ceb",
   "metadata": {},
   "outputs": [],
   "source": [
    "json_raw = mlflow.artifacts.load_text(\n",
    "    artifact_uri=\"runs:/22ce217706c54650ac34f59cb6a45960/model/companies_matching_model.json\"\n",
    ")\n",
    "json_settings = json.loads(json_raw)"
   ]
  },
  {
   "cell_type": "code",
   "execution_count": 4,
   "id": "4ec62f95-1fb7-4266-a0e8-205c530bf234",
   "metadata": {},
   "outputs": [],
   "source": [
    "connection = duckdb.connect()"
   ]
  },
  {
   "cell_type": "code",
   "execution_count": 5,
   "id": "995f791c-464a-4624-bb7f-d36cf58c7156",
   "metadata": {},
   "outputs": [],
   "source": [
    "linker = DuckDBLinker(\n",
    "    list(DATA_FULL.values()),\n",
    "    settings_dict=settings,\n",
    "    connection=connection,\n",
    "    input_table_aliases=list(DATA_FULL.keys()),\n",
    ")\n",
    "linker.load_model(json_settings)"
   ]
  },
  {
   "cell_type": "code",
   "execution_count": 6,
   "id": "1cf4ad10-b7ce-4adf-9dfa-919d13f0e1bd",
   "metadata": {},
   "outputs": [
    {
     "ename": "SplinkException",
     "evalue": "Error executing the following sql for table `__splink__df_concat_with_tf`(__splink__df_concat_with_tf_52d091831):\nCREATE TABLE __splink__df_concat_with_tf_52d091831 AS\n(\n  WITH __splink__df_concat AS (\n    SELECT\n      'hmrc_trade__exporters' AS source_dataset,\n      \"postcode_area\",\n      \"unique_id\",\n      \"comp_num_clean\",\n      \"name_unusual_tokens\",\n      \"secondary_name_unusual_tokens\",\n      \"names_tokens_stopwords\",\n      \"postcode\",\n      \"postcode_alt\",\n      \"name_unusual_tokens_first5\",\n      \"name_unusual_tokens_last5\",\n      \"name_sig\",\n      \"name_sig_first5\",\n      \"name_sig_last5\"\n    FROM READ_PARQUET(\n      '/home/jovyan/company_matching/data/processed/company-matching__full/hmrc_trade__exporters.parquet'\n    )\n    UNION ALL\n    SELECT\n      'dit_export_wins__wins_dataset' AS source_dataset,\n      \"postcode_area\",\n      \"unique_id\",\n      \"comp_num_clean\",\n      \"name_unusual_tokens\",\n      \"secondary_name_unusual_tokens\",\n      \"names_tokens_stopwords\",\n      \"postcode\",\n      \"postcode_alt\",\n      \"name_unusual_tokens_first5\",\n      \"name_unusual_tokens_last5\",\n      \"name_sig\",\n      \"name_sig_first5\",\n      \"name_sig_last5\"\n    FROM READ_PARQUET(\n      '/home/jovyan/company_matching/data/processed/company-matching__full/dit_export_wins__wins_dataset.parquet'\n    )\n    UNION ALL\n    SELECT\n      'dit_data_hub__companies' AS source_dataset,\n      \"postcode_area\",\n      \"unique_id\",\n      \"comp_num_clean\",\n      \"name_unusual_tokens\",\n      \"secondary_name_unusual_tokens\",\n      \"names_tokens_stopwords\",\n      \"postcode\",\n      \"postcode_alt\",\n      \"name_unusual_tokens_first5\",\n      \"name_unusual_tokens_last5\",\n      \"name_sig\",\n      \"name_sig_first5\",\n      \"name_sig_last5\"\n    FROM READ_PARQUET(\n      '/home/jovyan/company_matching/data/processed/company-matching__full/dit_data_hub__companies.parquet'\n    )\n    UNION ALL\n    SELECT\n      'predictions' AS source_dataset,\n      \"postcode_area\",\n      \"unique_id\",\n      \"comp_num_clean\",\n      \"name_unusual_tokens\",\n      \"secondary_name_unusual_tokens\",\n      \"names_tokens_stopwords\",\n      \"postcode\",\n      \"postcode_alt\",\n      \"name_unusual_tokens_first5\",\n      \"name_unusual_tokens_last5\",\n      \"name_sig\",\n      \"name_sig_first5\",\n      \"name_sig_last5\"\n    FROM READ_PARQUET(\n      '/home/jovyan/company_matching/data/processed/company-matching__full/predictions.parquet'\n    )\n    UNION ALL\n    SELECT\n      'companieshouse_companies' AS source_dataset,\n      \"postcode_area\",\n      \"unique_id\",\n      \"comp_num_clean\",\n      \"name_unusual_tokens\",\n      \"secondary_name_unusual_tokens\",\n      \"names_tokens_stopwords\",\n      \"postcode\",\n      \"postcode_alt\",\n      \"name_unusual_tokens_first5\",\n      \"name_unusual_tokens_last5\",\n      \"name_sig\",\n      \"name_sig_first5\",\n      \"name_sig_last5\"\n    FROM READ_PARQUET(\n      '/home/jovyan/company_matching/data/processed/company-matching__full/companieshouse_companies.parquet'\n    )\n  ), __splink__df_tf_name_unusual_tokens AS (\n    SELECT\n      \"name_unusual_tokens\",\n      CAST(COUNT(*) AS DOUBLE) / (\n        SELECT\n          COUNT(\"name_unusual_tokens\") AS total\n        FROM __splink__df_concat\n      ) AS \"tf_name_unusual_tokens\"\n    FROM __splink__df_concat\n    WHERE\n      NOT \"name_unusual_tokens\" IS NULL\n    GROUP BY\n      \"name_unusual_tokens\"\n  ), __splink__df_tf_comp_num_clean AS (\n    SELECT\n      \"comp_num_clean\",\n      CAST(COUNT(*) AS DOUBLE) / (\n        SELECT\n          COUNT(\"comp_num_clean\") AS total\n        FROM __splink__df_concat\n      ) AS \"tf_comp_num_clean\"\n    FROM __splink__df_concat\n    WHERE\n      NOT \"comp_num_clean\" IS NULL\n    GROUP BY\n      \"comp_num_clean\"\n  )\n  SELECT\n    __splink__df_concat.*,\n    __splink__df_tf_name_unusual_tokens.\"tf_name_unusual_tokens\",\n    __splink__df_tf_comp_num_clean.\"tf_comp_num_clean\"\n  FROM __splink__df_concat\n  LEFT JOIN __splink__df_tf_name_unusual_tokens\n    ON __splink__df_concat.\"name_unusual_tokens\" = __splink__df_tf_name_unusual_tokens.\"name_unusual_tokens\"\n  LEFT JOIN __splink__df_tf_comp_num_clean\n    ON __splink__df_concat.\"comp_num_clean\" = __splink__df_tf_comp_num_clean.\"comp_num_clean\"\n)\n\nError was: Binder Error: Referenced column \"postcode_area\" not found in FROM clause!\nCandidate bindings: \"read_parquet.match_key\"",
     "output_type": "error",
     "traceback": [
      "\u001b[0;31m---------------------------------------------------------------------------\u001b[0m",
      "\u001b[0;31mBinderException\u001b[0m                           Traceback (most recent call last)",
      "File \u001b[0;32m/opt/conda/envs/company_matching/lib/python3.9/site-packages/splink/linker.py:637\u001b[0m, in \u001b[0;36mLinker._log_and_run_sql_execution\u001b[0;34m(self, final_sql, templated_name, physical_name)\u001b[0m\n\u001b[1;32m    636\u001b[0m \u001b[38;5;28;01mtry\u001b[39;00m:\n\u001b[0;32m--> 637\u001b[0m     \u001b[38;5;28;01mreturn\u001b[39;00m \u001b[38;5;28;43mself\u001b[39;49m\u001b[38;5;241;43m.\u001b[39;49m\u001b[43m_run_sql_execution\u001b[49m\u001b[43m(\u001b[49m\u001b[43mfinal_sql\u001b[49m\u001b[43m,\u001b[49m\u001b[43m \u001b[49m\u001b[43mtemplated_name\u001b[49m\u001b[43m,\u001b[49m\u001b[43m \u001b[49m\u001b[43mphysical_name\u001b[49m\u001b[43m)\u001b[49m\n\u001b[1;32m    638\u001b[0m \u001b[38;5;28;01mexcept\u001b[39;00m \u001b[38;5;167;01mException\u001b[39;00m \u001b[38;5;28;01mas\u001b[39;00m e:\n\u001b[1;32m    639\u001b[0m     \u001b[38;5;66;03m# Parse our SQL through sqlglot to pretty print\u001b[39;00m\n",
      "File \u001b[0;32m/opt/conda/envs/company_matching/lib/python3.9/site-packages/splink/duckdb/linker.py:221\u001b[0m, in \u001b[0;36mDuckDBLinker._run_sql_execution\u001b[0;34m(self, final_sql, templated_name, physical_name)\u001b[0m\n\u001b[1;32m    220\u001b[0m \u001b[38;5;28;01mdef\u001b[39;00m \u001b[38;5;21m_run_sql_execution\u001b[39m(\u001b[38;5;28mself\u001b[39m, final_sql, templated_name, physical_name):\n\u001b[0;32m--> 221\u001b[0m     \u001b[38;5;28;43mself\u001b[39;49m\u001b[38;5;241;43m.\u001b[39;49m\u001b[43m_con\u001b[49m\u001b[38;5;241;43m.\u001b[39;49m\u001b[43mexecute\u001b[49m\u001b[43m(\u001b[49m\u001b[43mfinal_sql\u001b[49m\u001b[43m)\u001b[49m\n",
      "\u001b[0;31mBinderException\u001b[0m: Binder Error: Referenced column \"postcode_area\" not found in FROM clause!\nCandidate bindings: \"read_parquet.match_key\"",
      "\nThe above exception was the direct cause of the following exception:\n",
      "\u001b[0;31mSplinkException\u001b[0m                           Traceback (most recent call last)",
      "Cell \u001b[0;32mIn[6], line 1\u001b[0m\n\u001b[0;32m----> 1\u001b[0m predictions \u001b[38;5;241m=\u001b[39m \u001b[43mlinker\u001b[49m\u001b[38;5;241;43m.\u001b[39;49m\u001b[43mpredict\u001b[49m\u001b[43m(\u001b[49m\u001b[43mthreshold_match_probability\u001b[49m\u001b[38;5;241;43m=\u001b[39;49m\u001b[38;5;241;43m0.7\u001b[39;49m\u001b[43m)\u001b[49m\n",
      "File \u001b[0;32m/opt/conda/envs/company_matching/lib/python3.9/site-packages/splink/linker.py:1672\u001b[0m, in \u001b[0;36mLinker.predict\u001b[0;34m(self, threshold_match_probability, threshold_match_weight, materialise_after_computing_term_frequencies)\u001b[0m\n\u001b[1;32m   1631\u001b[0m \u001b[38;5;250m\u001b[39m\u001b[38;5;124;03m\"\"\"Create a dataframe of scored pairwise comparisons using the parameters\u001b[39;00m\n\u001b[1;32m   1632\u001b[0m \u001b[38;5;124;03mof the linkage model.\u001b[39;00m\n\u001b[1;32m   1633\u001b[0m \n\u001b[0;32m   (...)\u001b[0m\n\u001b[1;32m   1663\u001b[0m \n\u001b[1;32m   1664\u001b[0m \u001b[38;5;124;03m\"\"\"\u001b[39;00m\n\u001b[1;32m   1666\u001b[0m \u001b[38;5;66;03m# If materialise_after_computing_term_frequencies=False and the user only\u001b[39;00m\n\u001b[1;32m   1667\u001b[0m \u001b[38;5;66;03m# calls predict, it runs as a single pipeline with no materialisation\u001b[39;00m\n\u001b[1;32m   1668\u001b[0m \u001b[38;5;66;03m# of anything.\u001b[39;00m\n\u001b[1;32m   1669\u001b[0m \n\u001b[1;32m   1670\u001b[0m \u001b[38;5;66;03m# _initialise_df_concat_with_tf returns None if the table doesn't exist\u001b[39;00m\n\u001b[1;32m   1671\u001b[0m \u001b[38;5;66;03m# and only SQL is queued in this step.\u001b[39;00m\n\u001b[0;32m-> 1672\u001b[0m nodes_with_tf \u001b[38;5;241m=\u001b[39m \u001b[38;5;28;43mself\u001b[39;49m\u001b[38;5;241;43m.\u001b[39;49m\u001b[43m_initialise_df_concat_with_tf\u001b[49m\u001b[43m(\u001b[49m\n\u001b[1;32m   1673\u001b[0m \u001b[43m    \u001b[49m\u001b[43mmaterialise\u001b[49m\u001b[38;5;241;43m=\u001b[39;49m\u001b[43mmaterialise_after_computing_term_frequencies\u001b[49m\n\u001b[1;32m   1674\u001b[0m \u001b[43m\u001b[49m\u001b[43m)\u001b[49m\n\u001b[1;32m   1676\u001b[0m input_dataframes \u001b[38;5;241m=\u001b[39m []\n\u001b[1;32m   1677\u001b[0m \u001b[38;5;28;01mif\u001b[39;00m nodes_with_tf:\n",
      "File \u001b[0;32m/opt/conda/envs/company_matching/lib/python3.9/site-packages/splink/linker.py:512\u001b[0m, in \u001b[0;36mLinker._initialise_df_concat_with_tf\u001b[0;34m(self, materialise)\u001b[0m\n\u001b[1;32m    509\u001b[0m         \u001b[38;5;28mself\u001b[39m\u001b[38;5;241m.\u001b[39m_enqueue_sql(sql[\u001b[38;5;124m\"\u001b[39m\u001b[38;5;124msql\u001b[39m\u001b[38;5;124m\"\u001b[39m], sql[\u001b[38;5;124m\"\u001b[39m\u001b[38;5;124moutput_table_name\u001b[39m\u001b[38;5;124m\"\u001b[39m])\n\u001b[1;32m    511\u001b[0m     \u001b[38;5;28;01mif\u001b[39;00m materialise:\n\u001b[0;32m--> 512\u001b[0m         nodes_with_tf \u001b[38;5;241m=\u001b[39m \u001b[38;5;28;43mself\u001b[39;49m\u001b[38;5;241;43m.\u001b[39;49m\u001b[43m_execute_sql_pipeline\u001b[49m\u001b[43m(\u001b[49m\u001b[43m)\u001b[49m\n\u001b[1;32m    513\u001b[0m         cache[\u001b[38;5;124m\"\u001b[39m\u001b[38;5;124m__splink__df_concat_with_tf\u001b[39m\u001b[38;5;124m\"\u001b[39m] \u001b[38;5;241m=\u001b[39m nodes_with_tf\n\u001b[1;32m    515\u001b[0m \u001b[38;5;66;03m# verify the link job\u001b[39;00m\n",
      "File \u001b[0;32m/opt/conda/envs/company_matching/lib/python3.9/site-packages/splink/linker.py:579\u001b[0m, in \u001b[0;36mLinker._execute_sql_pipeline\u001b[0;34m(self, input_dataframes, materialise_as_hash, use_cache)\u001b[0m\n\u001b[1;32m    572\u001b[0m     dataframe \u001b[38;5;241m=\u001b[39m \u001b[38;5;28mself\u001b[39m\u001b[38;5;241m.\u001b[39m_sql_to_splink_dataframe_checking_cache(\n\u001b[1;32m    573\u001b[0m         sql_gen,\n\u001b[1;32m    574\u001b[0m         output_tablename_templated,\n\u001b[1;32m    575\u001b[0m         materialise_as_hash,\n\u001b[1;32m    576\u001b[0m         use_cache,\n\u001b[1;32m    577\u001b[0m     )\n\u001b[1;32m    578\u001b[0m \u001b[38;5;28;01mexcept\u001b[39;00m \u001b[38;5;167;01mException\u001b[39;00m \u001b[38;5;28;01mas\u001b[39;00m e:\n\u001b[0;32m--> 579\u001b[0m     \u001b[38;5;28;01mraise\u001b[39;00m e\n\u001b[1;32m    580\u001b[0m \u001b[38;5;28;01mfinally\u001b[39;00m:\n\u001b[1;32m    581\u001b[0m     \u001b[38;5;28mself\u001b[39m\u001b[38;5;241m.\u001b[39m_pipeline\u001b[38;5;241m.\u001b[39mreset()\n",
      "File \u001b[0;32m/opt/conda/envs/company_matching/lib/python3.9/site-packages/splink/linker.py:572\u001b[0m, in \u001b[0;36mLinker._execute_sql_pipeline\u001b[0;34m(self, input_dataframes, materialise_as_hash, use_cache)\u001b[0m\n\u001b[1;32m    569\u001b[0m output_tablename_templated \u001b[38;5;241m=\u001b[39m \u001b[38;5;28mself\u001b[39m\u001b[38;5;241m.\u001b[39m_pipeline\u001b[38;5;241m.\u001b[39mqueue[\u001b[38;5;241m-\u001b[39m\u001b[38;5;241m1\u001b[39m]\u001b[38;5;241m.\u001b[39moutput_table_name\n\u001b[1;32m    571\u001b[0m \u001b[38;5;28;01mtry\u001b[39;00m:\n\u001b[0;32m--> 572\u001b[0m     dataframe \u001b[38;5;241m=\u001b[39m \u001b[38;5;28;43mself\u001b[39;49m\u001b[38;5;241;43m.\u001b[39;49m\u001b[43m_sql_to_splink_dataframe_checking_cache\u001b[49m\u001b[43m(\u001b[49m\n\u001b[1;32m    573\u001b[0m \u001b[43m        \u001b[49m\u001b[43msql_gen\u001b[49m\u001b[43m,\u001b[49m\n\u001b[1;32m    574\u001b[0m \u001b[43m        \u001b[49m\u001b[43moutput_tablename_templated\u001b[49m\u001b[43m,\u001b[49m\n\u001b[1;32m    575\u001b[0m \u001b[43m        \u001b[49m\u001b[43mmaterialise_as_hash\u001b[49m\u001b[43m,\u001b[49m\n\u001b[1;32m    576\u001b[0m \u001b[43m        \u001b[49m\u001b[43muse_cache\u001b[49m\u001b[43m,\u001b[49m\n\u001b[1;32m    577\u001b[0m \u001b[43m    \u001b[49m\u001b[43m)\u001b[49m\n\u001b[1;32m    578\u001b[0m \u001b[38;5;28;01mexcept\u001b[39;00m \u001b[38;5;167;01mException\u001b[39;00m \u001b[38;5;28;01mas\u001b[39;00m e:\n\u001b[1;32m    579\u001b[0m     \u001b[38;5;28;01mraise\u001b[39;00m e\n",
      "File \u001b[0;32m/opt/conda/envs/company_matching/lib/python3.9/site-packages/splink/linker.py:809\u001b[0m, in \u001b[0;36mLinker._sql_to_splink_dataframe_checking_cache\u001b[0;34m(self, sql, output_tablename_templated, materialise_as_hash, use_cache)\u001b[0m\n\u001b[1;32m    806\u001b[0m     \u001b[38;5;28mprint\u001b[39m(sql)\n\u001b[1;32m    808\u001b[0m \u001b[38;5;28;01mif\u001b[39;00m materialise_as_hash:\n\u001b[0;32m--> 809\u001b[0m     splink_dataframe \u001b[38;5;241m=\u001b[39m \u001b[38;5;28;43mself\u001b[39;49m\u001b[38;5;241;43m.\u001b[39;49m\u001b[43m_execute_sql_against_backend\u001b[49m\u001b[43m(\u001b[49m\n\u001b[1;32m    810\u001b[0m \u001b[43m        \u001b[49m\u001b[43msql\u001b[49m\u001b[43m,\u001b[49m\u001b[43m \u001b[49m\u001b[43moutput_tablename_templated\u001b[49m\u001b[43m,\u001b[49m\u001b[43m \u001b[49m\u001b[43mtable_name_hash\u001b[49m\n\u001b[1;32m    811\u001b[0m \u001b[43m    \u001b[49m\u001b[43m)\u001b[49m\n\u001b[1;32m    812\u001b[0m \u001b[38;5;28;01melse\u001b[39;00m:\n\u001b[1;32m    813\u001b[0m     splink_dataframe \u001b[38;5;241m=\u001b[39m \u001b[38;5;28mself\u001b[39m\u001b[38;5;241m.\u001b[39m_execute_sql_against_backend(\n\u001b[1;32m    814\u001b[0m         sql,\n\u001b[1;32m    815\u001b[0m         output_tablename_templated,\n\u001b[1;32m    816\u001b[0m         output_tablename_templated,\n\u001b[1;32m    817\u001b[0m     )\n",
      "File \u001b[0;32m/opt/conda/envs/company_matching/lib/python3.9/site-packages/splink/duckdb/linker.py:216\u001b[0m, in \u001b[0;36mDuckDBLinker._execute_sql_against_backend\u001b[0;34m(self, sql, templated_name, physical_name)\u001b[0m\n\u001b[1;32m    209\u001b[0m \u001b[38;5;28mself\u001b[39m\u001b[38;5;241m.\u001b[39m_delete_table_from_database(physical_name)\n\u001b[1;32m    211\u001b[0m sql \u001b[38;5;241m=\u001b[39m \u001b[38;5;124mf\u001b[39m\u001b[38;5;124m\"\"\"\u001b[39m\n\u001b[1;32m    212\u001b[0m \u001b[38;5;124mCREATE TABLE \u001b[39m\u001b[38;5;132;01m{\u001b[39;00mphysical_name\u001b[38;5;132;01m}\u001b[39;00m\n\u001b[1;32m    213\u001b[0m \u001b[38;5;124mAS\u001b[39m\n\u001b[1;32m    214\u001b[0m \u001b[38;5;124m(\u001b[39m\u001b[38;5;132;01m{\u001b[39;00msql\u001b[38;5;132;01m}\u001b[39;00m\u001b[38;5;124m)\u001b[39m\n\u001b[1;32m    215\u001b[0m \u001b[38;5;124m\u001b[39m\u001b[38;5;124m\"\"\"\u001b[39m\n\u001b[0;32m--> 216\u001b[0m \u001b[38;5;28;43mself\u001b[39;49m\u001b[38;5;241;43m.\u001b[39;49m\u001b[43m_log_and_run_sql_execution\u001b[49m\u001b[43m(\u001b[49m\u001b[43msql\u001b[49m\u001b[43m,\u001b[49m\u001b[43m \u001b[49m\u001b[43mtemplated_name\u001b[49m\u001b[43m,\u001b[49m\u001b[43m \u001b[49m\u001b[43mphysical_name\u001b[49m\u001b[43m)\u001b[49m\n\u001b[1;32m    218\u001b[0m \u001b[38;5;28;01mreturn\u001b[39;00m DuckDBLinkerDataFrame(templated_name, physical_name, \u001b[38;5;28mself\u001b[39m)\n",
      "File \u001b[0;32m/opt/conda/envs/company_matching/lib/python3.9/site-packages/splink/linker.py:649\u001b[0m, in \u001b[0;36mLinker._log_and_run_sql_execution\u001b[0;34m(self, final_sql, templated_name, physical_name)\u001b[0m\n\u001b[1;32m    646\u001b[0m \u001b[38;5;28;01mexcept\u001b[39;00m \u001b[38;5;167;01mException\u001b[39;00m:\n\u001b[1;32m    647\u001b[0m     \u001b[38;5;28;01mpass\u001b[39;00m\n\u001b[0;32m--> 649\u001b[0m \u001b[38;5;28;01mraise\u001b[39;00m SplinkException(\n\u001b[1;32m    650\u001b[0m     \u001b[38;5;124mf\u001b[39m\u001b[38;5;124m\"\u001b[39m\u001b[38;5;124mError executing the following sql for table \u001b[39m\u001b[38;5;124m\"\u001b[39m\n\u001b[1;32m    651\u001b[0m     \u001b[38;5;124mf\u001b[39m\u001b[38;5;124m\"\u001b[39m\u001b[38;5;124m`\u001b[39m\u001b[38;5;132;01m{\u001b[39;00mtemplated_name\u001b[38;5;132;01m}\u001b[39;00m\u001b[38;5;124m`(\u001b[39m\u001b[38;5;132;01m{\u001b[39;00mphysical_name\u001b[38;5;132;01m}\u001b[39;00m\u001b[38;5;124m):\u001b[39m\u001b[38;5;130;01m\\n\u001b[39;00m\u001b[38;5;132;01m{\u001b[39;00mfinal_sql\u001b[38;5;132;01m}\u001b[39;00m\u001b[38;5;124m\"\u001b[39m\n\u001b[1;32m    652\u001b[0m     \u001b[38;5;124mf\u001b[39m\u001b[38;5;124m\"\u001b[39m\u001b[38;5;130;01m\\n\u001b[39;00m\u001b[38;5;130;01m\\n\u001b[39;00m\u001b[38;5;124mError was: \u001b[39m\u001b[38;5;132;01m{\u001b[39;00me\u001b[38;5;132;01m}\u001b[39;00m\u001b[38;5;124m\"\u001b[39m\n\u001b[1;32m    653\u001b[0m ) \u001b[38;5;28;01mfrom\u001b[39;00m \u001b[38;5;21;01me\u001b[39;00m\n",
      "\u001b[0;31mSplinkException\u001b[0m: Error executing the following sql for table `__splink__df_concat_with_tf`(__splink__df_concat_with_tf_52d091831):\nCREATE TABLE __splink__df_concat_with_tf_52d091831 AS\n(\n  WITH __splink__df_concat AS (\n    SELECT\n      'hmrc_trade__exporters' AS source_dataset,\n      \"postcode_area\",\n      \"unique_id\",\n      \"comp_num_clean\",\n      \"name_unusual_tokens\",\n      \"secondary_name_unusual_tokens\",\n      \"names_tokens_stopwords\",\n      \"postcode\",\n      \"postcode_alt\",\n      \"name_unusual_tokens_first5\",\n      \"name_unusual_tokens_last5\",\n      \"name_sig\",\n      \"name_sig_first5\",\n      \"name_sig_last5\"\n    FROM READ_PARQUET(\n      '/home/jovyan/company_matching/data/processed/company-matching__full/hmrc_trade__exporters.parquet'\n    )\n    UNION ALL\n    SELECT\n      'dit_export_wins__wins_dataset' AS source_dataset,\n      \"postcode_area\",\n      \"unique_id\",\n      \"comp_num_clean\",\n      \"name_unusual_tokens\",\n      \"secondary_name_unusual_tokens\",\n      \"names_tokens_stopwords\",\n      \"postcode\",\n      \"postcode_alt\",\n      \"name_unusual_tokens_first5\",\n      \"name_unusual_tokens_last5\",\n      \"name_sig\",\n      \"name_sig_first5\",\n      \"name_sig_last5\"\n    FROM READ_PARQUET(\n      '/home/jovyan/company_matching/data/processed/company-matching__full/dit_export_wins__wins_dataset.parquet'\n    )\n    UNION ALL\n    SELECT\n      'dit_data_hub__companies' AS source_dataset,\n      \"postcode_area\",\n      \"unique_id\",\n      \"comp_num_clean\",\n      \"name_unusual_tokens\",\n      \"secondary_name_unusual_tokens\",\n      \"names_tokens_stopwords\",\n      \"postcode\",\n      \"postcode_alt\",\n      \"name_unusual_tokens_first5\",\n      \"name_unusual_tokens_last5\",\n      \"name_sig\",\n      \"name_sig_first5\",\n      \"name_sig_last5\"\n    FROM READ_PARQUET(\n      '/home/jovyan/company_matching/data/processed/company-matching__full/dit_data_hub__companies.parquet'\n    )\n    UNION ALL\n    SELECT\n      'predictions' AS source_dataset,\n      \"postcode_area\",\n      \"unique_id\",\n      \"comp_num_clean\",\n      \"name_unusual_tokens\",\n      \"secondary_name_unusual_tokens\",\n      \"names_tokens_stopwords\",\n      \"postcode\",\n      \"postcode_alt\",\n      \"name_unusual_tokens_first5\",\n      \"name_unusual_tokens_last5\",\n      \"name_sig\",\n      \"name_sig_first5\",\n      \"name_sig_last5\"\n    FROM READ_PARQUET(\n      '/home/jovyan/company_matching/data/processed/company-matching__full/predictions.parquet'\n    )\n    UNION ALL\n    SELECT\n      'companieshouse_companies' AS source_dataset,\n      \"postcode_area\",\n      \"unique_id\",\n      \"comp_num_clean\",\n      \"name_unusual_tokens\",\n      \"secondary_name_unusual_tokens\",\n      \"names_tokens_stopwords\",\n      \"postcode\",\n      \"postcode_alt\",\n      \"name_unusual_tokens_first5\",\n      \"name_unusual_tokens_last5\",\n      \"name_sig\",\n      \"name_sig_first5\",\n      \"name_sig_last5\"\n    FROM READ_PARQUET(\n      '/home/jovyan/company_matching/data/processed/company-matching__full/companieshouse_companies.parquet'\n    )\n  ), __splink__df_tf_name_unusual_tokens AS (\n    SELECT\n      \"name_unusual_tokens\",\n      CAST(COUNT(*) AS DOUBLE) / (\n        SELECT\n          COUNT(\"name_unusual_tokens\") AS total\n        FROM __splink__df_concat\n      ) AS \"tf_name_unusual_tokens\"\n    FROM __splink__df_concat\n    WHERE\n      NOT \"name_unusual_tokens\" IS NULL\n    GROUP BY\n      \"name_unusual_tokens\"\n  ), __splink__df_tf_comp_num_clean AS (\n    SELECT\n      \"comp_num_clean\",\n      CAST(COUNT(*) AS DOUBLE) / (\n        SELECT\n          COUNT(\"comp_num_clean\") AS total\n        FROM __splink__df_concat\n      ) AS \"tf_comp_num_clean\"\n    FROM __splink__df_concat\n    WHERE\n      NOT \"comp_num_clean\" IS NULL\n    GROUP BY\n      \"comp_num_clean\"\n  )\n  SELECT\n    __splink__df_concat.*,\n    __splink__df_tf_name_unusual_tokens.\"tf_name_unusual_tokens\",\n    __splink__df_tf_comp_num_clean.\"tf_comp_num_clean\"\n  FROM __splink__df_concat\n  LEFT JOIN __splink__df_tf_name_unusual_tokens\n    ON __splink__df_concat.\"name_unusual_tokens\" = __splink__df_tf_name_unusual_tokens.\"name_unusual_tokens\"\n  LEFT JOIN __splink__df_tf_comp_num_clean\n    ON __splink__df_concat.\"comp_num_clean\" = __splink__df_tf_comp_num_clean.\"comp_num_clean\"\n)\n\nError was: Binder Error: Referenced column \"postcode_area\" not found in FROM clause!\nCandidate bindings: \"read_parquet.match_key\""
     ]
    }
   ],
   "source": [
    "predictions = linker.predict(threshold_match_probability=0.7)"
   ]
  },
  {
   "cell_type": "code",
   "execution_count": 10,
   "id": "19a3c751-f95b-4cbf-ad44-cc24c13e516f",
   "metadata": {},
   "outputs": [
    {
     "data": {
      "text/plain": [
       "┌───────────────┬───────────────┬────────────┬──────────────┬───┬─────────────┬──────────┬──────────────┬──────────────┐\n",
       "│ database_name │ database_size │ block_size │ total_blocks │ … │ free_blocks │ wal_size │ memory_usage │ memory_limit │\n",
       "│    varchar    │    varchar    │   int64    │    int64     │   │    int64    │ varchar  │   varchar    │   varchar    │\n",
       "├───────────────┼───────────────┼────────────┼──────────────┼───┼─────────────┼──────────┼──────────────┼──────────────┤\n",
       "│ memory        │ 0 bytes       │          0 │            0 │ … │           0 │ 0 bytes  │ 11.0GB       │ 26.4GB       │\n",
       "├───────────────┴───────────────┴────────────┴──────────────┴───┴─────────────┴──────────┴──────────────┴──────────────┤\n",
       "│ 1 rows                                                                                           9 columns (8 shown) │\n",
       "└──────────────────────────────────────────────────────────────────────────────────────────────────────────────────────┘"
      ]
     },
     "execution_count": 10,
     "metadata": {},
     "output_type": "execute_result"
    }
   ],
   "source": [
    "connection.query(\"\"\"\n",
    "    pragma database_size;\n",
    "    call pragma_database_size();\n",
    "\"\"\")"
   ]
  },
  {
   "cell_type": "code",
   "execution_count": 18,
   "id": "ddfbca05-c1d5-421a-9be1-33bd87e6f004",
   "metadata": {},
   "outputs": [],
   "source": [
    "connection.query(f\"\"\"\n",
    "    copy {predictions.physical_name}\n",
    "    to '{PRED_PATH.as_posix()}'\n",
    "    (format parquet);\n",
    "\"\"\")"
   ]
  },
  {
   "cell_type": "code",
   "execution_count": 10,
   "id": "9d4aef28-0cf9-4925-ac23-3457797bfe49",
   "metadata": {},
   "outputs": [
    {
     "data": {
      "text/plain": [
       "┌────────────────────┬────────────────────┬───┬──────────────────────┬──────────────────────┬───────────┐\n",
       "│    match_weight    │ match_probability  │ … │     unique_id_l      │     unique_id_r      │ match_key │\n",
       "│       double       │       double       │   │       varchar        │       varchar        │  varchar  │\n",
       "├────────────────────┼────────────────────┼───┼──────────────────────┼──────────────────────┼───────────┤\n",
       "│ 1.4157836817616756 │ 0.7273753031699655 │ … │ b18c76fc-a30d-e411…  │ 11f864f6-09bc-4cf8…  │ 0         │\n",
       "│ 20.075070679022463 │ 0.9999990946819749 │ … │ 7a7fd6b2-4f0e-e411…  │ 19a1c784-0e8c-4b9b…  │ 0         │\n",
       "│ 18.852678257686016 │ 0.9999978875938246 │ … │ e7275be8-7e11-e411…  │ 3d895056-4ffd-4a15…  │ 0         │\n",
       "│ 21.338105084856256 │  0.999999622783957 │ … │ 6afa126b-a911-e411…  │ 03ebd8a5-f065-423a…  │ 0         │\n",
       "│  18.20060156110632 │ 0.9999966805085885 │ … │ f7f4ddb5-4d12-e411…  │ 600dcf7f-7087-46f3…  │ 0         │\n",
       "│ 22.075070679022463 │ 0.9999997736703401 │ … │ a2af958c-6d12-e411…  │ 2cdace24-f936-48b6…  │ 0         │\n",
       "│ 21.660033179743618 │ 0.9999996982271429 │ … │ 758d33ef-7612-e411…  │ a45178bf-d2b8-42bf…  │ 0         │\n",
       "│  8.697196988889726 │ 0.9975965352319727 │ … │ 25d45568-4713-e411…  │ 76b9acb6-9839-4b3a…  │ 0         │\n",
       "│ 17.267715756964858 │ 0.9999936628082473 │ … │ 2ad5730d-0718-e411…  │ 33c1c23d-126a-4a48…  │ 0         │\n",
       "│ 1.8339107565946287 │ 0.7809429788614763 │ … │ 8ba7f427-b71b-e411…  │ ec4c2222-701f-4c6f…  │ 0         │\n",
       "│          ·         │          ·         │ · │    ·                 │    ·                 │ ·         │\n",
       "│          ·         │          ·         │ · │    ·                 │    ·                 │ ·         │\n",
       "│          ·         │          ·         │ · │    ·                 │    ·                 │ ·         │\n",
       "│ 1.2508575379009217 │ 0.7041269888047618 │ … │ LP015585             │ SL015585             │ 0         │\n",
       "│ 12.290310605733186 │ 0.9998003997147098 │ … │ CE005649             │ OE005649             │ 0         │\n",
       "│ 1.2477679623468125 │ 0.7036806441393585 │ … │ 00649920             │ NI649920             │ 0         │\n",
       "│ 1.8327304630679686 │ 0.7808029905433105 │ … │ NI655088             │ SC655088             │ 0         │\n",
       "│ 20.660033179743618 │ 0.9999993964544678 │ … │ 03102371             │ fff1057e-6785-4f33…  │ 0         │\n",
       "│ 34.441450699323646 │ 0.9999999999571363 │ … │ 10595685             │ 7b3f4c93-006d-478a…  │ 0         │\n",
       "│ 1.2477679623468125 │ 0.7036806441393585 │ … │ NI036254             │ SL036254             │ 0         │\n",
       "│ 2.4157836817616753 │ 0.8421740218644254 │ … │ SC315210             │ d6f51b21-a98c-4205…  │ 0         │\n",
       "│ 1.8327304630679686 │ 0.7808029905433105 │ … │ OC400419             │ SC400419             │ 0         │\n",
       "│ 1.8327304630679686 │ 0.7808029905433105 │ … │ NI621269             │ SC621269             │ 0         │\n",
       "├────────────────────┴────────────────────┴───┴──────────────────────┴──────────────────────┴───────────┤\n",
       "│ ? rows (>9999 rows, 20 shown)                                                     7 columns (5 shown) │\n",
       "└───────────────────────────────────────────────────────────────────────────────────────────────────────┘"
      ]
     },
     "execution_count": 10,
     "metadata": {},
     "output_type": "execute_result"
    }
   ],
   "source": [
    "connection.query(f\"\"\"\n",
    "    select *\n",
    "    from '{PRED_PATH.as_posix()}'\n",
    "\"\"\")"
   ]
  },
  {
   "cell_type": "code",
   "execution_count": null,
   "id": "acafdef2-9932-48f4-a47d-9886b3a9b147",
   "metadata": {},
   "outputs": [],
   "source": [
    "du.data_workspace_write(\n",
    "    schema = \"_user_eaf4fd9a\",\n",
    "    table = \"lge_all_predictions\",\n",
    "    df = pd.read_parquet(PRED_PATH),\n",
    "    if_exists = \"replace\",\n",
    "    chunksize = int(1e6)\n",
    ")"
   ]
  },
  {
   "cell_type": "markdown",
   "id": "581b5bc0-49f4-48f1-b3de-544c358e5f6a",
   "metadata": {},
   "source": [
    "## Fix clustering"
   ]
  },
  {
   "cell_type": "code",
   "execution_count": 5,
   "id": "43db4d83-1fed-492c-9cb5-06481e66f942",
   "metadata": {},
   "outputs": [],
   "source": [
    "df_predict = pd.read_parquet(PRED_PATH)"
   ]
  },
  {
   "cell_type": "code",
   "execution_count": 5,
   "id": "33b806f5-03bd-462f-8bfc-7c6507f9afad",
   "metadata": {},
   "outputs": [
    {
     "data": {
      "text/plain": [
       "(79576965, 7)"
      ]
     },
     "execution_count": 5,
     "metadata": {},
     "output_type": "execute_result"
    }
   ],
   "source": [
    "df_predict.shape"
   ]
  },
  {
   "cell_type": "code",
   "execution_count": 6,
   "id": "875fed40-f673-4c81-aa3a-15889f47c7c3",
   "metadata": {},
   "outputs": [
    {
     "data": {
      "text/html": [
       "<div>\n",
       "<style scoped>\n",
       "    .dataframe tbody tr th:only-of-type {\n",
       "        vertical-align: middle;\n",
       "    }\n",
       "\n",
       "    .dataframe tbody tr th {\n",
       "        vertical-align: top;\n",
       "    }\n",
       "\n",
       "    .dataframe thead th {\n",
       "        text-align: right;\n",
       "    }\n",
       "</style>\n",
       "<table border=\"1\" class=\"dataframe\">\n",
       "  <thead>\n",
       "    <tr style=\"text-align: right;\">\n",
       "      <th></th>\n",
       "      <th>match_weight</th>\n",
       "      <th>match_probability</th>\n",
       "      <th>source_dataset_l</th>\n",
       "      <th>source_dataset_r</th>\n",
       "      <th>unique_id_l</th>\n",
       "      <th>unique_id_r</th>\n",
       "      <th>match_key</th>\n",
       "    </tr>\n",
       "  </thead>\n",
       "  <tbody>\n",
       "    <tr>\n",
       "      <th>0</th>\n",
       "      <td>1.415784</td>\n",
       "      <td>0.727375</td>\n",
       "      <td>dit_data_hub__companies</td>\n",
       "      <td>dit_export_wins__wins_dataset</td>\n",
       "      <td>b18c76fc-a30d-e411-8a2b-e4115bead28a</td>\n",
       "      <td>11f864f6-09bc-4cf8-969e-ae790c28aec7</td>\n",
       "      <td>0</td>\n",
       "    </tr>\n",
       "    <tr>\n",
       "      <th>1</th>\n",
       "      <td>20.075071</td>\n",
       "      <td>0.999999</td>\n",
       "      <td>dit_data_hub__companies</td>\n",
       "      <td>dit_export_wins__wins_dataset</td>\n",
       "      <td>7a7fd6b2-4f0e-e411-8a2b-e4115bead28a</td>\n",
       "      <td>19a1c784-0e8c-4b9b-b40f-f4daa5d9bd01</td>\n",
       "      <td>0</td>\n",
       "    </tr>\n",
       "    <tr>\n",
       "      <th>2</th>\n",
       "      <td>18.852678</td>\n",
       "      <td>0.999998</td>\n",
       "      <td>dit_data_hub__companies</td>\n",
       "      <td>dit_export_wins__wins_dataset</td>\n",
       "      <td>e7275be8-7e11-e411-8a2b-e4115bead28a</td>\n",
       "      <td>3d895056-4ffd-4a15-91d3-05e6def6e606</td>\n",
       "      <td>0</td>\n",
       "    </tr>\n",
       "    <tr>\n",
       "      <th>3</th>\n",
       "      <td>21.338105</td>\n",
       "      <td>1.000000</td>\n",
       "      <td>dit_data_hub__companies</td>\n",
       "      <td>dit_export_wins__wins_dataset</td>\n",
       "      <td>6afa126b-a911-e411-8a2b-e4115bead28a</td>\n",
       "      <td>03ebd8a5-f065-423a-b9f4-de78360b0faf</td>\n",
       "      <td>0</td>\n",
       "    </tr>\n",
       "    <tr>\n",
       "      <th>4</th>\n",
       "      <td>18.200602</td>\n",
       "      <td>0.999997</td>\n",
       "      <td>dit_data_hub__companies</td>\n",
       "      <td>dit_export_wins__wins_dataset</td>\n",
       "      <td>f7f4ddb5-4d12-e411-8a2b-e4115bead28a</td>\n",
       "      <td>600dcf7f-7087-46f3-9f6a-abdb95bab77f</td>\n",
       "      <td>0</td>\n",
       "    </tr>\n",
       "  </tbody>\n",
       "</table>\n",
       "</div>"
      ],
      "text/plain": [
       "   match_weight  match_probability         source_dataset_l  \\\n",
       "0      1.415784           0.727375  dit_data_hub__companies   \n",
       "1     20.075071           0.999999  dit_data_hub__companies   \n",
       "2     18.852678           0.999998  dit_data_hub__companies   \n",
       "3     21.338105           1.000000  dit_data_hub__companies   \n",
       "4     18.200602           0.999997  dit_data_hub__companies   \n",
       "\n",
       "                source_dataset_r                           unique_id_l  \\\n",
       "0  dit_export_wins__wins_dataset  b18c76fc-a30d-e411-8a2b-e4115bead28a   \n",
       "1  dit_export_wins__wins_dataset  7a7fd6b2-4f0e-e411-8a2b-e4115bead28a   \n",
       "2  dit_export_wins__wins_dataset  e7275be8-7e11-e411-8a2b-e4115bead28a   \n",
       "3  dit_export_wins__wins_dataset  6afa126b-a911-e411-8a2b-e4115bead28a   \n",
       "4  dit_export_wins__wins_dataset  f7f4ddb5-4d12-e411-8a2b-e4115bead28a   \n",
       "\n",
       "                            unique_id_r match_key  \n",
       "0  11f864f6-09bc-4cf8-969e-ae790c28aec7         0  \n",
       "1  19a1c784-0e8c-4b9b-b40f-f4daa5d9bd01         0  \n",
       "2  3d895056-4ffd-4a15-91d3-05e6def6e606         0  \n",
       "3  03ebd8a5-f065-423a-b9f4-de78360b0faf         0  \n",
       "4  600dcf7f-7087-46f3-9f6a-abdb95bab77f         0  "
      ]
     },
     "execution_count": 6,
     "metadata": {},
     "output_type": "execute_result"
    }
   ],
   "source": [
    "df_predict.head(5)"
   ]
  },
  {
   "cell_type": "code",
   "execution_count": 18,
   "id": "635d7473-e598-401b-ad3d-48cbc1b5e2b5",
   "metadata": {},
   "outputs": [
    {
     "data": {
      "text/plain": [
       "hmrc_trade__exporters            76194847\n",
       "companieshouse_companies          2155706\n",
       "dit_data_hub__companies           1078847\n",
       "dit_export_wins__wins_dataset      147565\n",
       "Name: source_dataset_l, dtype: int64"
      ]
     },
     "execution_count": 18,
     "metadata": {},
     "output_type": "execute_result"
    },
    {
     "data": {
      "text/plain": [
       "hmrc_trade__exporters            79091872\n",
       "companieshouse_companies           196660\n",
       "dit_export_wins__wins_dataset      186607\n",
       "dit_data_hub__companies            101826\n",
       "Name: source_dataset_r, dtype: int64"
      ]
     },
     "execution_count": 18,
     "metadata": {},
     "output_type": "execute_result"
    }
   ],
   "source": [
    "df_predict.source_dataset_l.value_counts()\n",
    "df_predict.source_dataset_r.value_counts()"
   ]
  },
  {
   "cell_type": "markdown",
   "id": "b19fddc1-3651-47d2-90ab-3cb7f0810a79",
   "metadata": {},
   "source": [
    "### Clustering fail diagnosis\n",
    "\n",
    "We're stepping through `linker.cluster_pairwise_predictions_at_threshold` to see what crashes the kernel. [Source](https://github.com/moj-analytical-services/splink/blob/56833b6fe6692de72530083f51dfdbad29c0fd33/splink/linker.py#L1953)."
   ]
  },
  {
   "cell_type": "code",
   "execution_count": null,
   "id": "69407d6a-9e0c-4ec8-88cf-991aaf0d2527",
   "metadata": {},
   "outputs": [],
   "source": [
    "# linker.cluster_pairwise_predictions_at_threshold(\n",
    "#     f\"'{pred_path.as_posix()}'\",\n",
    "#     threshold_match_probability=0.7,\n",
    "#     pairwise_formatting=True,\n",
    "#     filter_pairwise_format_for_clusters=False,\n",
    "# )"
   ]
  },
  {
   "cell_type": "code",
   "execution_count": 10,
   "id": "0d24c2cb-cc9b-4db6-b0c7-72a8a8406643",
   "metadata": {},
   "outputs": [
    {
     "ename": "SplinkException",
     "evalue": "Error executing the following sql for table `__splink__df_concat_with_tf`(__splink__df_concat_with_tf_1b5daab97):\nCREATE TABLE __splink__df_concat_with_tf_1b5daab97 AS\n(\n  WITH __splink__df_concat AS (\n    SELECT\n      'hmrc_trade__exporters' AS source_dataset,\n      \"postcode_area\",\n      \"unique_id\",\n      \"comp_num_clean\",\n      \"name_unusual_tokens\",\n      \"secondary_name_unusual_tokens\",\n      \"names_tokens_stopwords\",\n      \"postcode\",\n      \"postcode_alt\",\n      \"name_unusual_tokens_first5\",\n      \"name_unusual_tokens_last5\",\n      \"name_sig\",\n      \"name_sig_first5\",\n      \"name_sig_last5\"\n    FROM READ_PARQUET(\n      '/home/jovyan/company_matching/data/processed/company-matching__full/hmrc_trade__exporters.parquet'\n    )\n    UNION ALL\n    SELECT\n      'dit_export_wins__wins_dataset' AS source_dataset,\n      \"postcode_area\",\n      \"unique_id\",\n      \"comp_num_clean\",\n      \"name_unusual_tokens\",\n      \"secondary_name_unusual_tokens\",\n      \"names_tokens_stopwords\",\n      \"postcode\",\n      \"postcode_alt\",\n      \"name_unusual_tokens_first5\",\n      \"name_unusual_tokens_last5\",\n      \"name_sig\",\n      \"name_sig_first5\",\n      \"name_sig_last5\"\n    FROM READ_PARQUET(\n      '/home/jovyan/company_matching/data/processed/company-matching__full/dit_export_wins__wins_dataset.parquet'\n    )\n    UNION ALL\n    SELECT\n      'dit_data_hub__companies' AS source_dataset,\n      \"postcode_area\",\n      \"unique_id\",\n      \"comp_num_clean\",\n      \"name_unusual_tokens\",\n      \"secondary_name_unusual_tokens\",\n      \"names_tokens_stopwords\",\n      \"postcode\",\n      \"postcode_alt\",\n      \"name_unusual_tokens_first5\",\n      \"name_unusual_tokens_last5\",\n      \"name_sig\",\n      \"name_sig_first5\",\n      \"name_sig_last5\"\n    FROM READ_PARQUET(\n      '/home/jovyan/company_matching/data/processed/company-matching__full/dit_data_hub__companies.parquet'\n    )\n    UNION ALL\n    SELECT\n      'predictions' AS source_dataset,\n      \"postcode_area\",\n      \"unique_id\",\n      \"comp_num_clean\",\n      \"name_unusual_tokens\",\n      \"secondary_name_unusual_tokens\",\n      \"names_tokens_stopwords\",\n      \"postcode\",\n      \"postcode_alt\",\n      \"name_unusual_tokens_first5\",\n      \"name_unusual_tokens_last5\",\n      \"name_sig\",\n      \"name_sig_first5\",\n      \"name_sig_last5\"\n    FROM READ_PARQUET(\n      '/home/jovyan/company_matching/data/processed/company-matching__full/predictions.parquet'\n    )\n    UNION ALL\n    SELECT\n      'companieshouse_companies' AS source_dataset,\n      \"postcode_area\",\n      \"unique_id\",\n      \"comp_num_clean\",\n      \"name_unusual_tokens\",\n      \"secondary_name_unusual_tokens\",\n      \"names_tokens_stopwords\",\n      \"postcode\",\n      \"postcode_alt\",\n      \"name_unusual_tokens_first5\",\n      \"name_unusual_tokens_last5\",\n      \"name_sig\",\n      \"name_sig_first5\",\n      \"name_sig_last5\"\n    FROM READ_PARQUET(\n      '/home/jovyan/company_matching/data/processed/company-matching__full/companieshouse_companies.parquet'\n    )\n  ), __splink__df_tf_comp_num_clean AS (\n    SELECT\n      \"comp_num_clean\",\n      CAST(COUNT(*) AS DOUBLE) / (\n        SELECT\n          COUNT(\"comp_num_clean\") AS total\n        FROM __splink__df_concat\n      ) AS \"tf_comp_num_clean\"\n    FROM __splink__df_concat\n    WHERE\n      NOT \"comp_num_clean\" IS NULL\n    GROUP BY\n      \"comp_num_clean\"\n  ), __splink__df_tf_name_unusual_tokens AS (\n    SELECT\n      \"name_unusual_tokens\",\n      CAST(COUNT(*) AS DOUBLE) / (\n        SELECT\n          COUNT(\"name_unusual_tokens\") AS total\n        FROM __splink__df_concat\n      ) AS \"tf_name_unusual_tokens\"\n    FROM __splink__df_concat\n    WHERE\n      NOT \"name_unusual_tokens\" IS NULL\n    GROUP BY\n      \"name_unusual_tokens\"\n  )\n  SELECT\n    __splink__df_concat.*,\n    __splink__df_tf_comp_num_clean.\"tf_comp_num_clean\",\n    __splink__df_tf_name_unusual_tokens.\"tf_name_unusual_tokens\"\n  FROM __splink__df_concat\n  LEFT JOIN __splink__df_tf_comp_num_clean\n    ON __splink__df_concat.\"comp_num_clean\" = __splink__df_tf_comp_num_clean.\"comp_num_clean\"\n  LEFT JOIN __splink__df_tf_name_unusual_tokens\n    ON __splink__df_concat.\"name_unusual_tokens\" = __splink__df_tf_name_unusual_tokens.\"name_unusual_tokens\"\n)\n\nError was: Binder Error: Referenced column \"postcode_area\" not found in FROM clause!\nCandidate bindings: \"read_parquet.match_key\"",
     "output_type": "error",
     "traceback": [
      "\u001b[0;31m---------------------------------------------------------------------------\u001b[0m",
      "\u001b[0;31mBinderException\u001b[0m                           Traceback (most recent call last)",
      "File \u001b[0;32m/opt/conda/envs/company_matching/lib/python3.9/site-packages/splink/linker.py:637\u001b[0m, in \u001b[0;36mLinker._log_and_run_sql_execution\u001b[0;34m(self, final_sql, templated_name, physical_name)\u001b[0m\n\u001b[1;32m    636\u001b[0m \u001b[38;5;28;01mtry\u001b[39;00m:\n\u001b[0;32m--> 637\u001b[0m     \u001b[38;5;28;01mreturn\u001b[39;00m \u001b[38;5;28;43mself\u001b[39;49m\u001b[38;5;241;43m.\u001b[39;49m\u001b[43m_run_sql_execution\u001b[49m\u001b[43m(\u001b[49m\u001b[43mfinal_sql\u001b[49m\u001b[43m,\u001b[49m\u001b[43m \u001b[49m\u001b[43mtemplated_name\u001b[49m\u001b[43m,\u001b[49m\u001b[43m \u001b[49m\u001b[43mphysical_name\u001b[49m\u001b[43m)\u001b[49m\n\u001b[1;32m    638\u001b[0m \u001b[38;5;28;01mexcept\u001b[39;00m \u001b[38;5;167;01mException\u001b[39;00m \u001b[38;5;28;01mas\u001b[39;00m e:\n\u001b[1;32m    639\u001b[0m     \u001b[38;5;66;03m# Parse our SQL through sqlglot to pretty print\u001b[39;00m\n",
      "File \u001b[0;32m/opt/conda/envs/company_matching/lib/python3.9/site-packages/splink/duckdb/linker.py:221\u001b[0m, in \u001b[0;36mDuckDBLinker._run_sql_execution\u001b[0;34m(self, final_sql, templated_name, physical_name)\u001b[0m\n\u001b[1;32m    220\u001b[0m \u001b[38;5;28;01mdef\u001b[39;00m \u001b[38;5;21m_run_sql_execution\u001b[39m(\u001b[38;5;28mself\u001b[39m, final_sql, templated_name, physical_name):\n\u001b[0;32m--> 221\u001b[0m     \u001b[38;5;28;43mself\u001b[39;49m\u001b[38;5;241;43m.\u001b[39;49m\u001b[43m_con\u001b[49m\u001b[38;5;241;43m.\u001b[39;49m\u001b[43mexecute\u001b[49m\u001b[43m(\u001b[49m\u001b[43mfinal_sql\u001b[49m\u001b[43m)\u001b[49m\n",
      "\u001b[0;31mBinderException\u001b[0m: Binder Error: Referenced column \"postcode_area\" not found in FROM clause!\nCandidate bindings: \"read_parquet.match_key\"",
      "\nThe above exception was the direct cause of the following exception:\n",
      "\u001b[0;31mSplinkException\u001b[0m                           Traceback (most recent call last)",
      "Cell \u001b[0;32mIn[10], line 1\u001b[0m\n\u001b[0;32m----> 1\u001b[0m predictions \u001b[38;5;241m=\u001b[39m \u001b[43mlinker\u001b[49m\u001b[38;5;241;43m.\u001b[39;49m\u001b[43mpredict\u001b[49m\u001b[43m(\u001b[49m\u001b[43mthreshold_match_probability\u001b[49m\u001b[38;5;241;43m=\u001b[39;49m\u001b[38;5;241;43m0.7\u001b[39;49m\u001b[43m)\u001b[49m\n",
      "File \u001b[0;32m/opt/conda/envs/company_matching/lib/python3.9/site-packages/splink/linker.py:1672\u001b[0m, in \u001b[0;36mLinker.predict\u001b[0;34m(self, threshold_match_probability, threshold_match_weight, materialise_after_computing_term_frequencies)\u001b[0m\n\u001b[1;32m   1631\u001b[0m \u001b[38;5;250m\u001b[39m\u001b[38;5;124;03m\"\"\"Create a dataframe of scored pairwise comparisons using the parameters\u001b[39;00m\n\u001b[1;32m   1632\u001b[0m \u001b[38;5;124;03mof the linkage model.\u001b[39;00m\n\u001b[1;32m   1633\u001b[0m \n\u001b[0;32m   (...)\u001b[0m\n\u001b[1;32m   1663\u001b[0m \n\u001b[1;32m   1664\u001b[0m \u001b[38;5;124;03m\"\"\"\u001b[39;00m\n\u001b[1;32m   1666\u001b[0m \u001b[38;5;66;03m# If materialise_after_computing_term_frequencies=False and the user only\u001b[39;00m\n\u001b[1;32m   1667\u001b[0m \u001b[38;5;66;03m# calls predict, it runs as a single pipeline with no materialisation\u001b[39;00m\n\u001b[1;32m   1668\u001b[0m \u001b[38;5;66;03m# of anything.\u001b[39;00m\n\u001b[1;32m   1669\u001b[0m \n\u001b[1;32m   1670\u001b[0m \u001b[38;5;66;03m# _initialise_df_concat_with_tf returns None if the table doesn't exist\u001b[39;00m\n\u001b[1;32m   1671\u001b[0m \u001b[38;5;66;03m# and only SQL is queued in this step.\u001b[39;00m\n\u001b[0;32m-> 1672\u001b[0m nodes_with_tf \u001b[38;5;241m=\u001b[39m \u001b[38;5;28;43mself\u001b[39;49m\u001b[38;5;241;43m.\u001b[39;49m\u001b[43m_initialise_df_concat_with_tf\u001b[49m\u001b[43m(\u001b[49m\n\u001b[1;32m   1673\u001b[0m \u001b[43m    \u001b[49m\u001b[43mmaterialise\u001b[49m\u001b[38;5;241;43m=\u001b[39;49m\u001b[43mmaterialise_after_computing_term_frequencies\u001b[49m\n\u001b[1;32m   1674\u001b[0m \u001b[43m\u001b[49m\u001b[43m)\u001b[49m\n\u001b[1;32m   1676\u001b[0m input_dataframes \u001b[38;5;241m=\u001b[39m []\n\u001b[1;32m   1677\u001b[0m \u001b[38;5;28;01mif\u001b[39;00m nodes_with_tf:\n",
      "File \u001b[0;32m/opt/conda/envs/company_matching/lib/python3.9/site-packages/splink/linker.py:512\u001b[0m, in \u001b[0;36mLinker._initialise_df_concat_with_tf\u001b[0;34m(self, materialise)\u001b[0m\n\u001b[1;32m    509\u001b[0m         \u001b[38;5;28mself\u001b[39m\u001b[38;5;241m.\u001b[39m_enqueue_sql(sql[\u001b[38;5;124m\"\u001b[39m\u001b[38;5;124msql\u001b[39m\u001b[38;5;124m\"\u001b[39m], sql[\u001b[38;5;124m\"\u001b[39m\u001b[38;5;124moutput_table_name\u001b[39m\u001b[38;5;124m\"\u001b[39m])\n\u001b[1;32m    511\u001b[0m     \u001b[38;5;28;01mif\u001b[39;00m materialise:\n\u001b[0;32m--> 512\u001b[0m         nodes_with_tf \u001b[38;5;241m=\u001b[39m \u001b[38;5;28;43mself\u001b[39;49m\u001b[38;5;241;43m.\u001b[39;49m\u001b[43m_execute_sql_pipeline\u001b[49m\u001b[43m(\u001b[49m\u001b[43m)\u001b[49m\n\u001b[1;32m    513\u001b[0m         cache[\u001b[38;5;124m\"\u001b[39m\u001b[38;5;124m__splink__df_concat_with_tf\u001b[39m\u001b[38;5;124m\"\u001b[39m] \u001b[38;5;241m=\u001b[39m nodes_with_tf\n\u001b[1;32m    515\u001b[0m \u001b[38;5;66;03m# verify the link job\u001b[39;00m\n",
      "File \u001b[0;32m/opt/conda/envs/company_matching/lib/python3.9/site-packages/splink/linker.py:579\u001b[0m, in \u001b[0;36mLinker._execute_sql_pipeline\u001b[0;34m(self, input_dataframes, materialise_as_hash, use_cache)\u001b[0m\n\u001b[1;32m    572\u001b[0m     dataframe \u001b[38;5;241m=\u001b[39m \u001b[38;5;28mself\u001b[39m\u001b[38;5;241m.\u001b[39m_sql_to_splink_dataframe_checking_cache(\n\u001b[1;32m    573\u001b[0m         sql_gen,\n\u001b[1;32m    574\u001b[0m         output_tablename_templated,\n\u001b[1;32m    575\u001b[0m         materialise_as_hash,\n\u001b[1;32m    576\u001b[0m         use_cache,\n\u001b[1;32m    577\u001b[0m     )\n\u001b[1;32m    578\u001b[0m \u001b[38;5;28;01mexcept\u001b[39;00m \u001b[38;5;167;01mException\u001b[39;00m \u001b[38;5;28;01mas\u001b[39;00m e:\n\u001b[0;32m--> 579\u001b[0m     \u001b[38;5;28;01mraise\u001b[39;00m e\n\u001b[1;32m    580\u001b[0m \u001b[38;5;28;01mfinally\u001b[39;00m:\n\u001b[1;32m    581\u001b[0m     \u001b[38;5;28mself\u001b[39m\u001b[38;5;241m.\u001b[39m_pipeline\u001b[38;5;241m.\u001b[39mreset()\n",
      "File \u001b[0;32m/opt/conda/envs/company_matching/lib/python3.9/site-packages/splink/linker.py:572\u001b[0m, in \u001b[0;36mLinker._execute_sql_pipeline\u001b[0;34m(self, input_dataframes, materialise_as_hash, use_cache)\u001b[0m\n\u001b[1;32m    569\u001b[0m output_tablename_templated \u001b[38;5;241m=\u001b[39m \u001b[38;5;28mself\u001b[39m\u001b[38;5;241m.\u001b[39m_pipeline\u001b[38;5;241m.\u001b[39mqueue[\u001b[38;5;241m-\u001b[39m\u001b[38;5;241m1\u001b[39m]\u001b[38;5;241m.\u001b[39moutput_table_name\n\u001b[1;32m    571\u001b[0m \u001b[38;5;28;01mtry\u001b[39;00m:\n\u001b[0;32m--> 572\u001b[0m     dataframe \u001b[38;5;241m=\u001b[39m \u001b[38;5;28;43mself\u001b[39;49m\u001b[38;5;241;43m.\u001b[39;49m\u001b[43m_sql_to_splink_dataframe_checking_cache\u001b[49m\u001b[43m(\u001b[49m\n\u001b[1;32m    573\u001b[0m \u001b[43m        \u001b[49m\u001b[43msql_gen\u001b[49m\u001b[43m,\u001b[49m\n\u001b[1;32m    574\u001b[0m \u001b[43m        \u001b[49m\u001b[43moutput_tablename_templated\u001b[49m\u001b[43m,\u001b[49m\n\u001b[1;32m    575\u001b[0m \u001b[43m        \u001b[49m\u001b[43mmaterialise_as_hash\u001b[49m\u001b[43m,\u001b[49m\n\u001b[1;32m    576\u001b[0m \u001b[43m        \u001b[49m\u001b[43muse_cache\u001b[49m\u001b[43m,\u001b[49m\n\u001b[1;32m    577\u001b[0m \u001b[43m    \u001b[49m\u001b[43m)\u001b[49m\n\u001b[1;32m    578\u001b[0m \u001b[38;5;28;01mexcept\u001b[39;00m \u001b[38;5;167;01mException\u001b[39;00m \u001b[38;5;28;01mas\u001b[39;00m e:\n\u001b[1;32m    579\u001b[0m     \u001b[38;5;28;01mraise\u001b[39;00m e\n",
      "File \u001b[0;32m/opt/conda/envs/company_matching/lib/python3.9/site-packages/splink/linker.py:809\u001b[0m, in \u001b[0;36mLinker._sql_to_splink_dataframe_checking_cache\u001b[0;34m(self, sql, output_tablename_templated, materialise_as_hash, use_cache)\u001b[0m\n\u001b[1;32m    806\u001b[0m     \u001b[38;5;28mprint\u001b[39m(sql)\n\u001b[1;32m    808\u001b[0m \u001b[38;5;28;01mif\u001b[39;00m materialise_as_hash:\n\u001b[0;32m--> 809\u001b[0m     splink_dataframe \u001b[38;5;241m=\u001b[39m \u001b[38;5;28;43mself\u001b[39;49m\u001b[38;5;241;43m.\u001b[39;49m\u001b[43m_execute_sql_against_backend\u001b[49m\u001b[43m(\u001b[49m\n\u001b[1;32m    810\u001b[0m \u001b[43m        \u001b[49m\u001b[43msql\u001b[49m\u001b[43m,\u001b[49m\u001b[43m \u001b[49m\u001b[43moutput_tablename_templated\u001b[49m\u001b[43m,\u001b[49m\u001b[43m \u001b[49m\u001b[43mtable_name_hash\u001b[49m\n\u001b[1;32m    811\u001b[0m \u001b[43m    \u001b[49m\u001b[43m)\u001b[49m\n\u001b[1;32m    812\u001b[0m \u001b[38;5;28;01melse\u001b[39;00m:\n\u001b[1;32m    813\u001b[0m     splink_dataframe \u001b[38;5;241m=\u001b[39m \u001b[38;5;28mself\u001b[39m\u001b[38;5;241m.\u001b[39m_execute_sql_against_backend(\n\u001b[1;32m    814\u001b[0m         sql,\n\u001b[1;32m    815\u001b[0m         output_tablename_templated,\n\u001b[1;32m    816\u001b[0m         output_tablename_templated,\n\u001b[1;32m    817\u001b[0m     )\n",
      "File \u001b[0;32m/opt/conda/envs/company_matching/lib/python3.9/site-packages/splink/duckdb/linker.py:216\u001b[0m, in \u001b[0;36mDuckDBLinker._execute_sql_against_backend\u001b[0;34m(self, sql, templated_name, physical_name)\u001b[0m\n\u001b[1;32m    209\u001b[0m \u001b[38;5;28mself\u001b[39m\u001b[38;5;241m.\u001b[39m_delete_table_from_database(physical_name)\n\u001b[1;32m    211\u001b[0m sql \u001b[38;5;241m=\u001b[39m \u001b[38;5;124mf\u001b[39m\u001b[38;5;124m\"\"\"\u001b[39m\n\u001b[1;32m    212\u001b[0m \u001b[38;5;124mCREATE TABLE \u001b[39m\u001b[38;5;132;01m{\u001b[39;00mphysical_name\u001b[38;5;132;01m}\u001b[39;00m\n\u001b[1;32m    213\u001b[0m \u001b[38;5;124mAS\u001b[39m\n\u001b[1;32m    214\u001b[0m \u001b[38;5;124m(\u001b[39m\u001b[38;5;132;01m{\u001b[39;00msql\u001b[38;5;132;01m}\u001b[39;00m\u001b[38;5;124m)\u001b[39m\n\u001b[1;32m    215\u001b[0m \u001b[38;5;124m\u001b[39m\u001b[38;5;124m\"\"\"\u001b[39m\n\u001b[0;32m--> 216\u001b[0m \u001b[38;5;28;43mself\u001b[39;49m\u001b[38;5;241;43m.\u001b[39;49m\u001b[43m_log_and_run_sql_execution\u001b[49m\u001b[43m(\u001b[49m\u001b[43msql\u001b[49m\u001b[43m,\u001b[49m\u001b[43m \u001b[49m\u001b[43mtemplated_name\u001b[49m\u001b[43m,\u001b[49m\u001b[43m \u001b[49m\u001b[43mphysical_name\u001b[49m\u001b[43m)\u001b[49m\n\u001b[1;32m    218\u001b[0m \u001b[38;5;28;01mreturn\u001b[39;00m DuckDBLinkerDataFrame(templated_name, physical_name, \u001b[38;5;28mself\u001b[39m)\n",
      "File \u001b[0;32m/opt/conda/envs/company_matching/lib/python3.9/site-packages/splink/linker.py:649\u001b[0m, in \u001b[0;36mLinker._log_and_run_sql_execution\u001b[0;34m(self, final_sql, templated_name, physical_name)\u001b[0m\n\u001b[1;32m    646\u001b[0m \u001b[38;5;28;01mexcept\u001b[39;00m \u001b[38;5;167;01mException\u001b[39;00m:\n\u001b[1;32m    647\u001b[0m     \u001b[38;5;28;01mpass\u001b[39;00m\n\u001b[0;32m--> 649\u001b[0m \u001b[38;5;28;01mraise\u001b[39;00m SplinkException(\n\u001b[1;32m    650\u001b[0m     \u001b[38;5;124mf\u001b[39m\u001b[38;5;124m\"\u001b[39m\u001b[38;5;124mError executing the following sql for table \u001b[39m\u001b[38;5;124m\"\u001b[39m\n\u001b[1;32m    651\u001b[0m     \u001b[38;5;124mf\u001b[39m\u001b[38;5;124m\"\u001b[39m\u001b[38;5;124m`\u001b[39m\u001b[38;5;132;01m{\u001b[39;00mtemplated_name\u001b[38;5;132;01m}\u001b[39;00m\u001b[38;5;124m`(\u001b[39m\u001b[38;5;132;01m{\u001b[39;00mphysical_name\u001b[38;5;132;01m}\u001b[39;00m\u001b[38;5;124m):\u001b[39m\u001b[38;5;130;01m\\n\u001b[39;00m\u001b[38;5;132;01m{\u001b[39;00mfinal_sql\u001b[38;5;132;01m}\u001b[39;00m\u001b[38;5;124m\"\u001b[39m\n\u001b[1;32m    652\u001b[0m     \u001b[38;5;124mf\u001b[39m\u001b[38;5;124m\"\u001b[39m\u001b[38;5;130;01m\\n\u001b[39;00m\u001b[38;5;130;01m\\n\u001b[39;00m\u001b[38;5;124mError was: \u001b[39m\u001b[38;5;132;01m{\u001b[39;00me\u001b[38;5;132;01m}\u001b[39;00m\u001b[38;5;124m\"\u001b[39m\n\u001b[1;32m    653\u001b[0m ) \u001b[38;5;28;01mfrom\u001b[39;00m \u001b[38;5;21;01me\u001b[39;00m\n",
      "\u001b[0;31mSplinkException\u001b[0m: Error executing the following sql for table `__splink__df_concat_with_tf`(__splink__df_concat_with_tf_1b5daab97):\nCREATE TABLE __splink__df_concat_with_tf_1b5daab97 AS\n(\n  WITH __splink__df_concat AS (\n    SELECT\n      'hmrc_trade__exporters' AS source_dataset,\n      \"postcode_area\",\n      \"unique_id\",\n      \"comp_num_clean\",\n      \"name_unusual_tokens\",\n      \"secondary_name_unusual_tokens\",\n      \"names_tokens_stopwords\",\n      \"postcode\",\n      \"postcode_alt\",\n      \"name_unusual_tokens_first5\",\n      \"name_unusual_tokens_last5\",\n      \"name_sig\",\n      \"name_sig_first5\",\n      \"name_sig_last5\"\n    FROM READ_PARQUET(\n      '/home/jovyan/company_matching/data/processed/company-matching__full/hmrc_trade__exporters.parquet'\n    )\n    UNION ALL\n    SELECT\n      'dit_export_wins__wins_dataset' AS source_dataset,\n      \"postcode_area\",\n      \"unique_id\",\n      \"comp_num_clean\",\n      \"name_unusual_tokens\",\n      \"secondary_name_unusual_tokens\",\n      \"names_tokens_stopwords\",\n      \"postcode\",\n      \"postcode_alt\",\n      \"name_unusual_tokens_first5\",\n      \"name_unusual_tokens_last5\",\n      \"name_sig\",\n      \"name_sig_first5\",\n      \"name_sig_last5\"\n    FROM READ_PARQUET(\n      '/home/jovyan/company_matching/data/processed/company-matching__full/dit_export_wins__wins_dataset.parquet'\n    )\n    UNION ALL\n    SELECT\n      'dit_data_hub__companies' AS source_dataset,\n      \"postcode_area\",\n      \"unique_id\",\n      \"comp_num_clean\",\n      \"name_unusual_tokens\",\n      \"secondary_name_unusual_tokens\",\n      \"names_tokens_stopwords\",\n      \"postcode\",\n      \"postcode_alt\",\n      \"name_unusual_tokens_first5\",\n      \"name_unusual_tokens_last5\",\n      \"name_sig\",\n      \"name_sig_first5\",\n      \"name_sig_last5\"\n    FROM READ_PARQUET(\n      '/home/jovyan/company_matching/data/processed/company-matching__full/dit_data_hub__companies.parquet'\n    )\n    UNION ALL\n    SELECT\n      'predictions' AS source_dataset,\n      \"postcode_area\",\n      \"unique_id\",\n      \"comp_num_clean\",\n      \"name_unusual_tokens\",\n      \"secondary_name_unusual_tokens\",\n      \"names_tokens_stopwords\",\n      \"postcode\",\n      \"postcode_alt\",\n      \"name_unusual_tokens_first5\",\n      \"name_unusual_tokens_last5\",\n      \"name_sig\",\n      \"name_sig_first5\",\n      \"name_sig_last5\"\n    FROM READ_PARQUET(\n      '/home/jovyan/company_matching/data/processed/company-matching__full/predictions.parquet'\n    )\n    UNION ALL\n    SELECT\n      'companieshouse_companies' AS source_dataset,\n      \"postcode_area\",\n      \"unique_id\",\n      \"comp_num_clean\",\n      \"name_unusual_tokens\",\n      \"secondary_name_unusual_tokens\",\n      \"names_tokens_stopwords\",\n      \"postcode\",\n      \"postcode_alt\",\n      \"name_unusual_tokens_first5\",\n      \"name_unusual_tokens_last5\",\n      \"name_sig\",\n      \"name_sig_first5\",\n      \"name_sig_last5\"\n    FROM READ_PARQUET(\n      '/home/jovyan/company_matching/data/processed/company-matching__full/companieshouse_companies.parquet'\n    )\n  ), __splink__df_tf_comp_num_clean AS (\n    SELECT\n      \"comp_num_clean\",\n      CAST(COUNT(*) AS DOUBLE) / (\n        SELECT\n          COUNT(\"comp_num_clean\") AS total\n        FROM __splink__df_concat\n      ) AS \"tf_comp_num_clean\"\n    FROM __splink__df_concat\n    WHERE\n      NOT \"comp_num_clean\" IS NULL\n    GROUP BY\n      \"comp_num_clean\"\n  ), __splink__df_tf_name_unusual_tokens AS (\n    SELECT\n      \"name_unusual_tokens\",\n      CAST(COUNT(*) AS DOUBLE) / (\n        SELECT\n          COUNT(\"name_unusual_tokens\") AS total\n        FROM __splink__df_concat\n      ) AS \"tf_name_unusual_tokens\"\n    FROM __splink__df_concat\n    WHERE\n      NOT \"name_unusual_tokens\" IS NULL\n    GROUP BY\n      \"name_unusual_tokens\"\n  )\n  SELECT\n    __splink__df_concat.*,\n    __splink__df_tf_comp_num_clean.\"tf_comp_num_clean\",\n    __splink__df_tf_name_unusual_tokens.\"tf_name_unusual_tokens\"\n  FROM __splink__df_concat\n  LEFT JOIN __splink__df_tf_comp_num_clean\n    ON __splink__df_concat.\"comp_num_clean\" = __splink__df_tf_comp_num_clean.\"comp_num_clean\"\n  LEFT JOIN __splink__df_tf_name_unusual_tokens\n    ON __splink__df_concat.\"name_unusual_tokens\" = __splink__df_tf_name_unusual_tokens.\"name_unusual_tokens\"\n)\n\nError was: Binder Error: Referenced column \"postcode_area\" not found in FROM clause!\nCandidate bindings: \"read_parquet.match_key\""
     ]
    }
   ],
   "source": [
    "predictions = linker.predict(threshold_match_probability=0.7)"
   ]
  },
  {
   "cell_type": "code",
   "execution_count": 8,
   "id": "dc18a9ed-5f37-4a42-88de-4862c26b63d7",
   "metadata": {},
   "outputs": [
    {
     "ename": "ValueError",
     "evalue": "The truth value of a DataFrame is ambiguous. Use a.empty, a.bool(), a.item(), a.any() or a.all().",
     "output_type": "error",
     "traceback": [
      "\u001b[0;31m---------------------------------------------------------------------------\u001b[0m",
      "\u001b[0;31mValueError\u001b[0m                                Traceback (most recent call last)",
      "\u001b[0;32m/tmp/ipykernel_924/1390331868.py\u001b[0m in \u001b[0;36m?\u001b[0;34m()\u001b[0m\n\u001b[0;32m----> 1\u001b[0;31m \u001b[0mconcat_with_tf\u001b[0m \u001b[0;34m=\u001b[0m \u001b[0mlinker\u001b[0m\u001b[0;34m.\u001b[0m\u001b[0m_initialise_df_concat_with_tf\u001b[0m\u001b[0;34m(\u001b[0m\u001b[0mdf_predict\u001b[0m\u001b[0;34m)\u001b[0m\u001b[0;34m\u001b[0m\u001b[0;34m\u001b[0m\u001b[0m\n\u001b[0m",
      "\u001b[0;32m/opt/conda/envs/company_matching/lib/python3.9/site-packages/splink/linker.py\u001b[0m in \u001b[0;36m?\u001b[0;34m(self, materialise)\u001b[0m\n\u001b[1;32m    494\u001b[0m         \u001b[0;32mif\u001b[0m \u001b[0;34m\"__splink__df_concat_with_tf\"\u001b[0m \u001b[0;32min\u001b[0m \u001b[0mcache\u001b[0m\u001b[0;34m:\u001b[0m\u001b[0;34m\u001b[0m\u001b[0;34m\u001b[0m\u001b[0m\n\u001b[1;32m    495\u001b[0m             \u001b[0mnodes_with_tf\u001b[0m \u001b[0;34m=\u001b[0m \u001b[0mcache\u001b[0m\u001b[0;34m[\u001b[0m\u001b[0;34m\"__splink__df_concat_with_tf\"\u001b[0m\u001b[0;34m]\u001b[0m\u001b[0;34m\u001b[0m\u001b[0;34m\u001b[0m\u001b[0m\n\u001b[1;32m    496\u001b[0m \u001b[0;34m\u001b[0m\u001b[0m\n\u001b[1;32m    497\u001b[0m         \u001b[0;32melse\u001b[0m\u001b[0;34m:\u001b[0m\u001b[0;34m\u001b[0m\u001b[0;34m\u001b[0m\u001b[0m\n\u001b[0;32m--> 498\u001b[0;31m             \u001b[0;32mif\u001b[0m \u001b[0mmaterialise\u001b[0m\u001b[0;34m:\u001b[0m\u001b[0;34m\u001b[0m\u001b[0;34m\u001b[0m\u001b[0m\n\u001b[0m\u001b[1;32m    499\u001b[0m                 \u001b[0;31m# Clear the pipeline if we are materialising\u001b[0m\u001b[0;34m\u001b[0m\u001b[0;34m\u001b[0m\u001b[0m\n\u001b[1;32m    500\u001b[0m                 \u001b[0;31m# There's no reason not to do this, since when\u001b[0m\u001b[0;34m\u001b[0m\u001b[0;34m\u001b[0m\u001b[0m\n\u001b[1;32m    501\u001b[0m                 \u001b[0;31m# we execute the pipeline, it'll get cleared anyway\u001b[0m\u001b[0;34m\u001b[0m\u001b[0;34m\u001b[0m\u001b[0m\n",
      "\u001b[0;32m/opt/conda/envs/company_matching/lib/python3.9/site-packages/pandas/core/generic.py\u001b[0m in \u001b[0;36m?\u001b[0;34m(self)\u001b[0m\n\u001b[1;32m   1535\u001b[0m     \u001b[0;34m@\u001b[0m\u001b[0mfinal\u001b[0m\u001b[0;34m\u001b[0m\u001b[0;34m\u001b[0m\u001b[0m\n\u001b[1;32m   1536\u001b[0m     \u001b[0;32mdef\u001b[0m \u001b[0m__nonzero__\u001b[0m\u001b[0;34m(\u001b[0m\u001b[0mself\u001b[0m\u001b[0;34m)\u001b[0m\u001b[0;34m:\u001b[0m\u001b[0;34m\u001b[0m\u001b[0;34m\u001b[0m\u001b[0m\n\u001b[0;32m-> 1537\u001b[0;31m         raise ValueError(\n\u001b[0m\u001b[1;32m   1538\u001b[0m             \u001b[0;34mf\"The truth value of a {type(self).__name__} is ambiguous. \"\u001b[0m\u001b[0;34m\u001b[0m\u001b[0;34m\u001b[0m\u001b[0m\n\u001b[1;32m   1539\u001b[0m             \u001b[0;34m\"Use a.empty, a.bool(), a.item(), a.any() or a.all().\"\u001b[0m\u001b[0;34m\u001b[0m\u001b[0;34m\u001b[0m\u001b[0m\n\u001b[1;32m   1540\u001b[0m         )\n",
      "\u001b[0;31mValueError\u001b[0m: The truth value of a DataFrame is ambiguous. Use a.empty, a.bool(), a.item(), a.any() or a.all()."
     ]
    }
   ],
   "source": [
    "concat_with_tf = linker._initialise_df_concat_with_tf(df_predict)"
   ]
  },
  {
   "cell_type": "code",
   "execution_count": null,
   "id": "1e79e678-8aed-4425-8fec-00ef067eb6f4",
   "metadata": {},
   "outputs": [],
   "source": [
    "edges_table = _cc_create_unique_id_cols(\n",
    "    concat_with_tf.physical_name,\n",
    "    df_predict.physical_name,\n",
    "    threshold_match_probability,\n",
    ")"
   ]
  },
  {
   "cell_type": "markdown",
   "id": "07c8fa16-ddfd-49b8-bdb8-911dfe5172a1",
   "metadata": {},
   "source": [
    "### Postgres fails"
   ]
  },
  {
   "cell_type": "code",
   "execution_count": 6,
   "id": "63b4529c-e616-46e2-9a9c-892a0089f87f",
   "metadata": {},
   "outputs": [],
   "source": [
    "pg_con = du.sql_engine.connect()"
   ]
  },
  {
   "cell_type": "code",
   "execution_count": 15,
   "id": "39c550f7-fc2b-4624-9507-91ef0ec93a17",
   "metadata": {},
   "outputs": [
    {
     "name": "stderr",
     "output_type": "stream",
     "text": [
      "/opt/conda/envs/company_matching/lib/python3.9/site-packages/splink/postgres/linker.py:135: RemovedIn20Warning: Deprecated API features detected! These feature(s) are not compatible with SQLAlchemy 2.0. To prevent incompatible upgrades prior to updating applications, ensure requirements files are pinned to \"sqlalchemy<2.0\". Set environment variable SQLALCHEMY_WARN_20=1 to show all deprecation warnings.  Set environment variable SQLALCHEMY_SILENCE_UBER_WARNING=1 to silence this message. (Background on SQLAlchemy 2.0 at: https://sqlalche.me/e/b8d9)\n",
      "  res = con.execute(text(final_sql))\n"
     ]
    },
    {
     "ename": "ProgrammingError",
     "evalue": "(psycopg2.errors.InvalidFunctionDefinition) return type mismatch in function declared to return double precision\nDETAIL:  Actual return type is numeric.\nCONTEXT:  SQL function \"ave_months_between\"\n\n[SQL: \n        CREATE OR REPLACE FUNCTION ave_months_between(x date, y date)\n        RETURNS float8 AS $$\n        SELECT datediff(x, y)/30.4375;\n        $$ LANGUAGE SQL IMMUTABLE;\n        ]\n(Background on this error at: https://sqlalche.me/e/14/f405)",
     "output_type": "error",
     "traceback": [
      "\u001b[0;31m---------------------------------------------------------------------------\u001b[0m",
      "\u001b[0;31mInvalidFunctionDefinition\u001b[0m                 Traceback (most recent call last)",
      "File \u001b[0;32m/opt/conda/envs/company_matching/lib/python3.9/site-packages/sqlalchemy/engine/base.py:1905\u001b[0m, in \u001b[0;36mConnection._execute_context\u001b[0;34m(self, dialect, constructor, statement, parameters, execution_options, *args, **kw)\u001b[0m\n\u001b[1;32m   1904\u001b[0m     \u001b[38;5;28;01mif\u001b[39;00m \u001b[38;5;129;01mnot\u001b[39;00m evt_handled:\n\u001b[0;32m-> 1905\u001b[0m         \u001b[38;5;28;43mself\u001b[39;49m\u001b[38;5;241;43m.\u001b[39;49m\u001b[43mdialect\u001b[49m\u001b[38;5;241;43m.\u001b[39;49m\u001b[43mdo_execute\u001b[49m\u001b[43m(\u001b[49m\n\u001b[1;32m   1906\u001b[0m \u001b[43m            \u001b[49m\u001b[43mcursor\u001b[49m\u001b[43m,\u001b[49m\u001b[43m \u001b[49m\u001b[43mstatement\u001b[49m\u001b[43m,\u001b[49m\u001b[43m \u001b[49m\u001b[43mparameters\u001b[49m\u001b[43m,\u001b[49m\u001b[43m \u001b[49m\u001b[43mcontext\u001b[49m\n\u001b[1;32m   1907\u001b[0m \u001b[43m        \u001b[49m\u001b[43m)\u001b[49m\n\u001b[1;32m   1909\u001b[0m \u001b[38;5;28;01mif\u001b[39;00m \u001b[38;5;28mself\u001b[39m\u001b[38;5;241m.\u001b[39m_has_events \u001b[38;5;129;01mor\u001b[39;00m \u001b[38;5;28mself\u001b[39m\u001b[38;5;241m.\u001b[39mengine\u001b[38;5;241m.\u001b[39m_has_events:\n",
      "File \u001b[0;32m/opt/conda/envs/company_matching/lib/python3.9/site-packages/sqlalchemy/engine/default.py:736\u001b[0m, in \u001b[0;36mDefaultDialect.do_execute\u001b[0;34m(self, cursor, statement, parameters, context)\u001b[0m\n\u001b[1;32m    735\u001b[0m \u001b[38;5;28;01mdef\u001b[39;00m \u001b[38;5;21mdo_execute\u001b[39m(\u001b[38;5;28mself\u001b[39m, cursor, statement, parameters, context\u001b[38;5;241m=\u001b[39m\u001b[38;5;28;01mNone\u001b[39;00m):\n\u001b[0;32m--> 736\u001b[0m     \u001b[43mcursor\u001b[49m\u001b[38;5;241;43m.\u001b[39;49m\u001b[43mexecute\u001b[49m\u001b[43m(\u001b[49m\u001b[43mstatement\u001b[49m\u001b[43m,\u001b[49m\u001b[43m \u001b[49m\u001b[43mparameters\u001b[49m\u001b[43m)\u001b[49m\n",
      "\u001b[0;31mInvalidFunctionDefinition\u001b[0m: return type mismatch in function declared to return double precision\nDETAIL:  Actual return type is numeric.\nCONTEXT:  SQL function \"ave_months_between\"\n",
      "\nThe above exception was the direct cause of the following exception:\n",
      "\u001b[0;31mProgrammingError\u001b[0m                          Traceback (most recent call last)",
      "Cell \u001b[0;32mIn[15], line 1\u001b[0m\n\u001b[0;32m----> 1\u001b[0m pg_linker \u001b[38;5;241m=\u001b[39m \u001b[43mPostgresLinker\u001b[49m\u001b[43m(\u001b[49m\n\u001b[1;32m      2\u001b[0m \u001b[43m    \u001b[49m\u001b[43minput_table_or_tables\u001b[49m\u001b[38;5;241;43m=\u001b[39;49m\u001b[43mdu\u001b[49m\u001b[38;5;241;43m.\u001b[39;49m\u001b[43mgenerate_dummy_df\u001b[49m\u001b[43m(\u001b[49m\u001b[43m)\u001b[49m\u001b[43m,\u001b[49m\n\u001b[1;32m      3\u001b[0m \u001b[43m    \u001b[49m\u001b[43mengine\u001b[49m\u001b[38;5;241;43m=\u001b[39;49m\u001b[43mdu\u001b[49m\u001b[38;5;241;43m.\u001b[39;49m\u001b[43msql_engine\u001b[49m\u001b[43m,\u001b[49m\n\u001b[1;32m      4\u001b[0m \u001b[43m)\u001b[49m\n\u001b[1;32m      5\u001b[0m pg_linker\u001b[38;5;241m.\u001b[39mload_model(json_settings)\n",
      "File \u001b[0;32m/opt/conda/envs/company_matching/lib/python3.9/site-packages/splink/postgres/linker.py:104\u001b[0m, in \u001b[0;36mPostgresLinker.__init__\u001b[0;34m(self, input_table_or_tables, settings_dict, engine, set_up_basic_logging, input_table_aliases, schema)\u001b[0m\n\u001b[1;32m    101\u001b[0m \u001b[38;5;28mself\u001b[39m\u001b[38;5;241m.\u001b[39m_db_schema \u001b[38;5;241m=\u001b[39m schema\n\u001b[1;32m    103\u001b[0m \u001b[38;5;66;03m# Create custom SQL functions in database\u001b[39;00m\n\u001b[0;32m--> 104\u001b[0m \u001b[38;5;28;43mself\u001b[39;49m\u001b[38;5;241;43m.\u001b[39;49m\u001b[43m_register_custom_functions\u001b[49m\u001b[43m(\u001b[49m\u001b[43m)\u001b[49m\n\u001b[1;32m    105\u001b[0m \u001b[38;5;28mself\u001b[39m\u001b[38;5;241m.\u001b[39m_register_extensions()\n\u001b[1;32m    107\u001b[0m \u001b[38;5;66;03m# Create splink schema\u001b[39;00m\n",
      "File \u001b[0;32m/opt/conda/envs/company_matching/lib/python3.9/site-packages/splink/postgres/linker.py:285\u001b[0m, in \u001b[0;36mPostgresLinker._register_custom_functions\u001b[0;34m(self)\u001b[0m\n\u001b[1;32m    283\u001b[0m \u001b[38;5;66;03m# need for datediff levels\u001b[39;00m\n\u001b[1;32m    284\u001b[0m \u001b[38;5;28mself\u001b[39m\u001b[38;5;241m.\u001b[39m_create_datediff_function()\n\u001b[0;32m--> 285\u001b[0m \u001b[38;5;28;43mself\u001b[39;49m\u001b[38;5;241;43m.\u001b[39;49m\u001b[43m_create_months_between_function\u001b[49m\u001b[43m(\u001b[49m\u001b[43m)\u001b[49m\n\u001b[1;32m    286\u001b[0m \u001b[38;5;66;03m# need for array_intersect levels\u001b[39;00m\n\u001b[1;32m    287\u001b[0m \u001b[38;5;28mself\u001b[39m\u001b[38;5;241m.\u001b[39m_create_array_intersect_function()\n",
      "File \u001b[0;32m/opt/conda/envs/company_matching/lib/python3.9/site-packages/splink/postgres/linker.py:257\u001b[0m, in \u001b[0;36mPostgresLinker._create_months_between_function\u001b[0;34m(self)\u001b[0m\n\u001b[1;32m    250\u001b[0m ave_length_month \u001b[38;5;241m=\u001b[39m \u001b[38;5;241m365.25\u001b[39m \u001b[38;5;241m/\u001b[39m \u001b[38;5;241m12\u001b[39m\n\u001b[1;32m    251\u001b[0m sql \u001b[38;5;241m=\u001b[39m \u001b[38;5;124mf\u001b[39m\u001b[38;5;124m\"\"\"\u001b[39m\n\u001b[1;32m    252\u001b[0m \u001b[38;5;124mCREATE OR REPLACE FUNCTION ave_months_between(x date, y date)\u001b[39m\n\u001b[1;32m    253\u001b[0m \u001b[38;5;124mRETURNS float8 AS $$\u001b[39m\n\u001b[1;32m    254\u001b[0m \u001b[38;5;124mSELECT datediff(x, y)/\u001b[39m\u001b[38;5;132;01m{\u001b[39;00mave_length_month\u001b[38;5;132;01m}\u001b[39;00m\u001b[38;5;124m;\u001b[39m\n\u001b[1;32m    255\u001b[0m \u001b[38;5;124m$$ LANGUAGE SQL IMMUTABLE;\u001b[39m\n\u001b[1;32m    256\u001b[0m \u001b[38;5;124m\u001b[39m\u001b[38;5;124m\"\"\"\u001b[39m\n\u001b[0;32m--> 257\u001b[0m \u001b[38;5;28;43mself\u001b[39;49m\u001b[38;5;241;43m.\u001b[39;49m\u001b[43m_run_sql_execution\u001b[49m\u001b[43m(\u001b[49m\u001b[43msql\u001b[49m\u001b[43m)\u001b[49m\n\u001b[1;32m    259\u001b[0m sql_cast \u001b[38;5;241m=\u001b[39m \u001b[38;5;124m\"\"\"\u001b[39m\n\u001b[1;32m    260\u001b[0m \u001b[38;5;124mCREATE OR REPLACE FUNCTION ave_months_between(\u001b[39m\n\u001b[1;32m    261\u001b[0m \u001b[38;5;124m    x \u001b[39m\u001b[38;5;132;01m{dateish_type}\u001b[39;00m\u001b[38;5;124m, y \u001b[39m\u001b[38;5;132;01m{dateish_type}\u001b[39;00m\n\u001b[0;32m   (...)\u001b[0m\n\u001b[1;32m    265\u001b[0m \u001b[38;5;124m$$ LANGUAGE SQL IMMUTABLE;\u001b[39m\n\u001b[1;32m    266\u001b[0m \u001b[38;5;124m\u001b[39m\u001b[38;5;124m\"\"\"\u001b[39m\n\u001b[1;32m    267\u001b[0m \u001b[38;5;28;01mfor\u001b[39;00m dateish_type \u001b[38;5;129;01min\u001b[39;00m (\u001b[38;5;124m\"\u001b[39m\u001b[38;5;124mtimestamp\u001b[39m\u001b[38;5;124m\"\u001b[39m, \u001b[38;5;124m\"\u001b[39m\u001b[38;5;124mtimestamp with time zone\u001b[39m\u001b[38;5;124m\"\u001b[39m):\n",
      "File \u001b[0;32m/opt/conda/envs/company_matching/lib/python3.9/site-packages/splink/postgres/linker.py:135\u001b[0m, in \u001b[0;36mPostgresLinker._run_sql_execution\u001b[0;34m(self, final_sql, templated_name, physical_name)\u001b[0m\n\u001b[1;32m    131\u001b[0m \u001b[38;5;28;01mdef\u001b[39;00m \u001b[38;5;21m_run_sql_execution\u001b[39m(\n\u001b[1;32m    132\u001b[0m     \u001b[38;5;28mself\u001b[39m, final_sql: \u001b[38;5;28mstr\u001b[39m, templated_name: \u001b[38;5;28mstr\u001b[39m \u001b[38;5;241m=\u001b[39m \u001b[38;5;28;01mNone\u001b[39;00m, physical_name: \u001b[38;5;28mstr\u001b[39m \u001b[38;5;241m=\u001b[39m \u001b[38;5;28;01mNone\u001b[39;00m\n\u001b[1;32m    133\u001b[0m ):\n\u001b[1;32m    134\u001b[0m     \u001b[38;5;28;01mwith\u001b[39;00m \u001b[38;5;28mself\u001b[39m\u001b[38;5;241m.\u001b[39m_engine\u001b[38;5;241m.\u001b[39mconnect() \u001b[38;5;28;01mas\u001b[39;00m con:\n\u001b[0;32m--> 135\u001b[0m         res \u001b[38;5;241m=\u001b[39m \u001b[43mcon\u001b[49m\u001b[38;5;241;43m.\u001b[39;49m\u001b[43mexecute\u001b[49m\u001b[43m(\u001b[49m\u001b[43mtext\u001b[49m\u001b[43m(\u001b[49m\u001b[43mfinal_sql\u001b[49m\u001b[43m)\u001b[49m\u001b[43m)\u001b[49m\n\u001b[1;32m    136\u001b[0m     \u001b[38;5;28;01mreturn\u001b[39;00m res\n",
      "File \u001b[0;32m/opt/conda/envs/company_matching/lib/python3.9/site-packages/sqlalchemy/engine/base.py:1385\u001b[0m, in \u001b[0;36mConnection.execute\u001b[0;34m(self, statement, *multiparams, **params)\u001b[0m\n\u001b[1;32m   1381\u001b[0m     util\u001b[38;5;241m.\u001b[39mraise_(\n\u001b[1;32m   1382\u001b[0m         exc\u001b[38;5;241m.\u001b[39mObjectNotExecutableError(statement), replace_context\u001b[38;5;241m=\u001b[39merr\n\u001b[1;32m   1383\u001b[0m     )\n\u001b[1;32m   1384\u001b[0m \u001b[38;5;28;01melse\u001b[39;00m:\n\u001b[0;32m-> 1385\u001b[0m     \u001b[38;5;28;01mreturn\u001b[39;00m \u001b[43mmeth\u001b[49m\u001b[43m(\u001b[49m\u001b[38;5;28;43mself\u001b[39;49m\u001b[43m,\u001b[49m\u001b[43m \u001b[49m\u001b[43mmultiparams\u001b[49m\u001b[43m,\u001b[49m\u001b[43m \u001b[49m\u001b[43mparams\u001b[49m\u001b[43m,\u001b[49m\u001b[43m \u001b[49m\u001b[43m_EMPTY_EXECUTION_OPTS\u001b[49m\u001b[43m)\u001b[49m\n",
      "File \u001b[0;32m/opt/conda/envs/company_matching/lib/python3.9/site-packages/sqlalchemy/sql/elements.py:334\u001b[0m, in \u001b[0;36mClauseElement._execute_on_connection\u001b[0;34m(self, connection, multiparams, params, execution_options, _force)\u001b[0m\n\u001b[1;32m    330\u001b[0m \u001b[38;5;28;01mdef\u001b[39;00m \u001b[38;5;21m_execute_on_connection\u001b[39m(\n\u001b[1;32m    331\u001b[0m     \u001b[38;5;28mself\u001b[39m, connection, multiparams, params, execution_options, _force\u001b[38;5;241m=\u001b[39m\u001b[38;5;28;01mFalse\u001b[39;00m\n\u001b[1;32m    332\u001b[0m ):\n\u001b[1;32m    333\u001b[0m     \u001b[38;5;28;01mif\u001b[39;00m _force \u001b[38;5;129;01mor\u001b[39;00m \u001b[38;5;28mself\u001b[39m\u001b[38;5;241m.\u001b[39msupports_execution:\n\u001b[0;32m--> 334\u001b[0m         \u001b[38;5;28;01mreturn\u001b[39;00m \u001b[43mconnection\u001b[49m\u001b[38;5;241;43m.\u001b[39;49m\u001b[43m_execute_clauseelement\u001b[49m\u001b[43m(\u001b[49m\n\u001b[1;32m    335\u001b[0m \u001b[43m            \u001b[49m\u001b[38;5;28;43mself\u001b[39;49m\u001b[43m,\u001b[49m\u001b[43m \u001b[49m\u001b[43mmultiparams\u001b[49m\u001b[43m,\u001b[49m\u001b[43m \u001b[49m\u001b[43mparams\u001b[49m\u001b[43m,\u001b[49m\u001b[43m \u001b[49m\u001b[43mexecution_options\u001b[49m\n\u001b[1;32m    336\u001b[0m \u001b[43m        \u001b[49m\u001b[43m)\u001b[49m\n\u001b[1;32m    337\u001b[0m     \u001b[38;5;28;01melse\u001b[39;00m:\n\u001b[1;32m    338\u001b[0m         \u001b[38;5;28;01mraise\u001b[39;00m exc\u001b[38;5;241m.\u001b[39mObjectNotExecutableError(\u001b[38;5;28mself\u001b[39m)\n",
      "File \u001b[0;32m/opt/conda/envs/company_matching/lib/python3.9/site-packages/sqlalchemy/engine/base.py:1577\u001b[0m, in \u001b[0;36mConnection._execute_clauseelement\u001b[0;34m(self, elem, multiparams, params, execution_options)\u001b[0m\n\u001b[1;32m   1565\u001b[0m compiled_cache \u001b[38;5;241m=\u001b[39m execution_options\u001b[38;5;241m.\u001b[39mget(\n\u001b[1;32m   1566\u001b[0m     \u001b[38;5;124m\"\u001b[39m\u001b[38;5;124mcompiled_cache\u001b[39m\u001b[38;5;124m\"\u001b[39m, \u001b[38;5;28mself\u001b[39m\u001b[38;5;241m.\u001b[39mengine\u001b[38;5;241m.\u001b[39m_compiled_cache\n\u001b[1;32m   1567\u001b[0m )\n\u001b[1;32m   1569\u001b[0m compiled_sql, extracted_params, cache_hit \u001b[38;5;241m=\u001b[39m elem\u001b[38;5;241m.\u001b[39m_compile_w_cache(\n\u001b[1;32m   1570\u001b[0m     dialect\u001b[38;5;241m=\u001b[39mdialect,\n\u001b[1;32m   1571\u001b[0m     compiled_cache\u001b[38;5;241m=\u001b[39mcompiled_cache,\n\u001b[0;32m   (...)\u001b[0m\n\u001b[1;32m   1575\u001b[0m     linting\u001b[38;5;241m=\u001b[39m\u001b[38;5;28mself\u001b[39m\u001b[38;5;241m.\u001b[39mdialect\u001b[38;5;241m.\u001b[39mcompiler_linting \u001b[38;5;241m|\u001b[39m compiler\u001b[38;5;241m.\u001b[39mWARN_LINTING,\n\u001b[1;32m   1576\u001b[0m )\n\u001b[0;32m-> 1577\u001b[0m ret \u001b[38;5;241m=\u001b[39m \u001b[38;5;28;43mself\u001b[39;49m\u001b[38;5;241;43m.\u001b[39;49m\u001b[43m_execute_context\u001b[49m\u001b[43m(\u001b[49m\n\u001b[1;32m   1578\u001b[0m \u001b[43m    \u001b[49m\u001b[43mdialect\u001b[49m\u001b[43m,\u001b[49m\n\u001b[1;32m   1579\u001b[0m \u001b[43m    \u001b[49m\u001b[43mdialect\u001b[49m\u001b[38;5;241;43m.\u001b[39;49m\u001b[43mexecution_ctx_cls\u001b[49m\u001b[38;5;241;43m.\u001b[39;49m\u001b[43m_init_compiled\u001b[49m\u001b[43m,\u001b[49m\n\u001b[1;32m   1580\u001b[0m \u001b[43m    \u001b[49m\u001b[43mcompiled_sql\u001b[49m\u001b[43m,\u001b[49m\n\u001b[1;32m   1581\u001b[0m \u001b[43m    \u001b[49m\u001b[43mdistilled_params\u001b[49m\u001b[43m,\u001b[49m\n\u001b[1;32m   1582\u001b[0m \u001b[43m    \u001b[49m\u001b[43mexecution_options\u001b[49m\u001b[43m,\u001b[49m\n\u001b[1;32m   1583\u001b[0m \u001b[43m    \u001b[49m\u001b[43mcompiled_sql\u001b[49m\u001b[43m,\u001b[49m\n\u001b[1;32m   1584\u001b[0m \u001b[43m    \u001b[49m\u001b[43mdistilled_params\u001b[49m\u001b[43m,\u001b[49m\n\u001b[1;32m   1585\u001b[0m \u001b[43m    \u001b[49m\u001b[43melem\u001b[49m\u001b[43m,\u001b[49m\n\u001b[1;32m   1586\u001b[0m \u001b[43m    \u001b[49m\u001b[43mextracted_params\u001b[49m\u001b[43m,\u001b[49m\n\u001b[1;32m   1587\u001b[0m \u001b[43m    \u001b[49m\u001b[43mcache_hit\u001b[49m\u001b[38;5;241;43m=\u001b[39;49m\u001b[43mcache_hit\u001b[49m\u001b[43m,\u001b[49m\n\u001b[1;32m   1588\u001b[0m \u001b[43m\u001b[49m\u001b[43m)\u001b[49m\n\u001b[1;32m   1589\u001b[0m \u001b[38;5;28;01mif\u001b[39;00m has_events:\n\u001b[1;32m   1590\u001b[0m     \u001b[38;5;28mself\u001b[39m\u001b[38;5;241m.\u001b[39mdispatch\u001b[38;5;241m.\u001b[39mafter_execute(\n\u001b[1;32m   1591\u001b[0m         \u001b[38;5;28mself\u001b[39m,\n\u001b[1;32m   1592\u001b[0m         elem,\n\u001b[0;32m   (...)\u001b[0m\n\u001b[1;32m   1596\u001b[0m         ret,\n\u001b[1;32m   1597\u001b[0m     )\n",
      "File \u001b[0;32m/opt/conda/envs/company_matching/lib/python3.9/site-packages/sqlalchemy/engine/base.py:1948\u001b[0m, in \u001b[0;36mConnection._execute_context\u001b[0;34m(self, dialect, constructor, statement, parameters, execution_options, *args, **kw)\u001b[0m\n\u001b[1;32m   1945\u001b[0m             branched\u001b[38;5;241m.\u001b[39mclose()\n\u001b[1;32m   1947\u001b[0m \u001b[38;5;28;01mexcept\u001b[39;00m \u001b[38;5;167;01mBaseException\u001b[39;00m \u001b[38;5;28;01mas\u001b[39;00m e:\n\u001b[0;32m-> 1948\u001b[0m     \u001b[38;5;28;43mself\u001b[39;49m\u001b[38;5;241;43m.\u001b[39;49m\u001b[43m_handle_dbapi_exception\u001b[49m\u001b[43m(\u001b[49m\n\u001b[1;32m   1949\u001b[0m \u001b[43m        \u001b[49m\u001b[43me\u001b[49m\u001b[43m,\u001b[49m\u001b[43m \u001b[49m\u001b[43mstatement\u001b[49m\u001b[43m,\u001b[49m\u001b[43m \u001b[49m\u001b[43mparameters\u001b[49m\u001b[43m,\u001b[49m\u001b[43m \u001b[49m\u001b[43mcursor\u001b[49m\u001b[43m,\u001b[49m\u001b[43m \u001b[49m\u001b[43mcontext\u001b[49m\n\u001b[1;32m   1950\u001b[0m \u001b[43m    \u001b[49m\u001b[43m)\u001b[49m\n\u001b[1;32m   1952\u001b[0m \u001b[38;5;28;01mreturn\u001b[39;00m result\n",
      "File \u001b[0;32m/opt/conda/envs/company_matching/lib/python3.9/site-packages/sqlalchemy/engine/base.py:2129\u001b[0m, in \u001b[0;36mConnection._handle_dbapi_exception\u001b[0;34m(self, e, statement, parameters, cursor, context)\u001b[0m\n\u001b[1;32m   2127\u001b[0m     util\u001b[38;5;241m.\u001b[39mraise_(newraise, with_traceback\u001b[38;5;241m=\u001b[39mexc_info[\u001b[38;5;241m2\u001b[39m], from_\u001b[38;5;241m=\u001b[39me)\n\u001b[1;32m   2128\u001b[0m \u001b[38;5;28;01melif\u001b[39;00m should_wrap:\n\u001b[0;32m-> 2129\u001b[0m     \u001b[43mutil\u001b[49m\u001b[38;5;241;43m.\u001b[39;49m\u001b[43mraise_\u001b[49m\u001b[43m(\u001b[49m\n\u001b[1;32m   2130\u001b[0m \u001b[43m        \u001b[49m\u001b[43msqlalchemy_exception\u001b[49m\u001b[43m,\u001b[49m\u001b[43m \u001b[49m\u001b[43mwith_traceback\u001b[49m\u001b[38;5;241;43m=\u001b[39;49m\u001b[43mexc_info\u001b[49m\u001b[43m[\u001b[49m\u001b[38;5;241;43m2\u001b[39;49m\u001b[43m]\u001b[49m\u001b[43m,\u001b[49m\u001b[43m \u001b[49m\u001b[43mfrom_\u001b[49m\u001b[38;5;241;43m=\u001b[39;49m\u001b[43me\u001b[49m\n\u001b[1;32m   2131\u001b[0m \u001b[43m    \u001b[49m\u001b[43m)\u001b[49m\n\u001b[1;32m   2132\u001b[0m \u001b[38;5;28;01melse\u001b[39;00m:\n\u001b[1;32m   2133\u001b[0m     util\u001b[38;5;241m.\u001b[39mraise_(exc_info[\u001b[38;5;241m1\u001b[39m], with_traceback\u001b[38;5;241m=\u001b[39mexc_info[\u001b[38;5;241m2\u001b[39m])\n",
      "File \u001b[0;32m/opt/conda/envs/company_matching/lib/python3.9/site-packages/sqlalchemy/util/compat.py:211\u001b[0m, in \u001b[0;36mraise_\u001b[0;34m(***failed resolving arguments***)\u001b[0m\n\u001b[1;32m    208\u001b[0m     exception\u001b[38;5;241m.\u001b[39m__cause__ \u001b[38;5;241m=\u001b[39m replace_context\n\u001b[1;32m    210\u001b[0m \u001b[38;5;28;01mtry\u001b[39;00m:\n\u001b[0;32m--> 211\u001b[0m     \u001b[38;5;28;01mraise\u001b[39;00m exception\n\u001b[1;32m    212\u001b[0m \u001b[38;5;28;01mfinally\u001b[39;00m:\n\u001b[1;32m    213\u001b[0m     \u001b[38;5;66;03m# credit to\u001b[39;00m\n\u001b[1;32m    214\u001b[0m     \u001b[38;5;66;03m# https://cosmicpercolator.com/2016/01/13/exception-leaks-in-python-2-and-3/\u001b[39;00m\n\u001b[1;32m    215\u001b[0m     \u001b[38;5;66;03m# as the __traceback__ object creates a cycle\u001b[39;00m\n\u001b[1;32m    216\u001b[0m     \u001b[38;5;28;01mdel\u001b[39;00m exception, replace_context, from_, with_traceback\n",
      "File \u001b[0;32m/opt/conda/envs/company_matching/lib/python3.9/site-packages/sqlalchemy/engine/base.py:1905\u001b[0m, in \u001b[0;36mConnection._execute_context\u001b[0;34m(self, dialect, constructor, statement, parameters, execution_options, *args, **kw)\u001b[0m\n\u001b[1;32m   1903\u001b[0m                 \u001b[38;5;28;01mbreak\u001b[39;00m\n\u001b[1;32m   1904\u001b[0m     \u001b[38;5;28;01mif\u001b[39;00m \u001b[38;5;129;01mnot\u001b[39;00m evt_handled:\n\u001b[0;32m-> 1905\u001b[0m         \u001b[38;5;28;43mself\u001b[39;49m\u001b[38;5;241;43m.\u001b[39;49m\u001b[43mdialect\u001b[49m\u001b[38;5;241;43m.\u001b[39;49m\u001b[43mdo_execute\u001b[49m\u001b[43m(\u001b[49m\n\u001b[1;32m   1906\u001b[0m \u001b[43m            \u001b[49m\u001b[43mcursor\u001b[49m\u001b[43m,\u001b[49m\u001b[43m \u001b[49m\u001b[43mstatement\u001b[49m\u001b[43m,\u001b[49m\u001b[43m \u001b[49m\u001b[43mparameters\u001b[49m\u001b[43m,\u001b[49m\u001b[43m \u001b[49m\u001b[43mcontext\u001b[49m\n\u001b[1;32m   1907\u001b[0m \u001b[43m        \u001b[49m\u001b[43m)\u001b[49m\n\u001b[1;32m   1909\u001b[0m \u001b[38;5;28;01mif\u001b[39;00m \u001b[38;5;28mself\u001b[39m\u001b[38;5;241m.\u001b[39m_has_events \u001b[38;5;129;01mor\u001b[39;00m \u001b[38;5;28mself\u001b[39m\u001b[38;5;241m.\u001b[39mengine\u001b[38;5;241m.\u001b[39m_has_events:\n\u001b[1;32m   1910\u001b[0m     \u001b[38;5;28mself\u001b[39m\u001b[38;5;241m.\u001b[39mdispatch\u001b[38;5;241m.\u001b[39mafter_cursor_execute(\n\u001b[1;32m   1911\u001b[0m         \u001b[38;5;28mself\u001b[39m,\n\u001b[1;32m   1912\u001b[0m         cursor,\n\u001b[0;32m   (...)\u001b[0m\n\u001b[1;32m   1916\u001b[0m         context\u001b[38;5;241m.\u001b[39mexecutemany,\n\u001b[1;32m   1917\u001b[0m     )\n",
      "File \u001b[0;32m/opt/conda/envs/company_matching/lib/python3.9/site-packages/sqlalchemy/engine/default.py:736\u001b[0m, in \u001b[0;36mDefaultDialect.do_execute\u001b[0;34m(self, cursor, statement, parameters, context)\u001b[0m\n\u001b[1;32m    735\u001b[0m \u001b[38;5;28;01mdef\u001b[39;00m \u001b[38;5;21mdo_execute\u001b[39m(\u001b[38;5;28mself\u001b[39m, cursor, statement, parameters, context\u001b[38;5;241m=\u001b[39m\u001b[38;5;28;01mNone\u001b[39;00m):\n\u001b[0;32m--> 736\u001b[0m     \u001b[43mcursor\u001b[49m\u001b[38;5;241;43m.\u001b[39;49m\u001b[43mexecute\u001b[49m\u001b[43m(\u001b[49m\u001b[43mstatement\u001b[49m\u001b[43m,\u001b[49m\u001b[43m \u001b[49m\u001b[43mparameters\u001b[49m\u001b[43m)\u001b[49m\n",
      "\u001b[0;31mProgrammingError\u001b[0m: (psycopg2.errors.InvalidFunctionDefinition) return type mismatch in function declared to return double precision\nDETAIL:  Actual return type is numeric.\nCONTEXT:  SQL function \"ave_months_between\"\n\n[SQL: \n        CREATE OR REPLACE FUNCTION ave_months_between(x date, y date)\n        RETURNS float8 AS $$\n        SELECT datediff(x, y)/30.4375;\n        $$ LANGUAGE SQL IMMUTABLE;\n        ]\n(Background on this error at: https://sqlalche.me/e/14/f405)"
     ]
    }
   ],
   "source": [
    "pg_linker = PostgresLinker(\n",
    "    input_table_or_tables=du.generate_dummy_df(),\n",
    "    engine=du.sql_engine,\n",
    ")\n",
    "pg_linker.load_model(json_settings)"
   ]
  },
  {
   "cell_type": "code",
   "execution_count": null,
   "id": "de5f59bc-6484-42bf-a55c-39f27022db98",
   "metadata": {},
   "outputs": [],
   "source": [
    "df_clusters = pg_linker.cluster_pairwise_predictions_at_threshold(\n",
    "    df_predict, \n",
    "    0.7\n",
    ")"
   ]
  },
  {
   "cell_type": "code",
   "execution_count": 20,
   "id": "06ffe9d4-55be-4161-aff3-23976b0c33ed",
   "metadata": {},
   "outputs": [
    {
     "ename": "type",
     "evalue": "'str' object has no attribute 'physical_name'",
     "output_type": "error",
     "traceback": [
      "\u001b[0;31m---------------------------------------------------------------------------\u001b[0m",
      "\u001b[0;31mAttributeError\u001b[0m                            Traceback (most recent call last)",
      "Cell \u001b[0;32mIn[20], line 1\u001b[0m\n\u001b[0;32m----> 1\u001b[0m clusters \u001b[38;5;241m=\u001b[39m \u001b[43mlinker\u001b[49m\u001b[38;5;241;43m.\u001b[39;49m\u001b[43mcluster_pairwise_predictions_at_threshold\u001b[49m\u001b[43m(\u001b[49m\n\u001b[1;32m      2\u001b[0m \u001b[43m    \u001b[49m\u001b[38;5;124;43mf\u001b[39;49m\u001b[38;5;124;43m\"\u001b[39;49m\u001b[38;5;124;43m'\u001b[39;49m\u001b[38;5;132;43;01m{\u001b[39;49;00m\u001b[43mpred_path\u001b[49m\u001b[38;5;241;43m.\u001b[39;49m\u001b[43mas_posix\u001b[49m\u001b[43m(\u001b[49m\u001b[43m)\u001b[49m\u001b[38;5;132;43;01m}\u001b[39;49;00m\u001b[38;5;124;43m'\u001b[39;49m\u001b[38;5;124;43m\"\u001b[39;49m\u001b[43m,\u001b[49m\n\u001b[1;32m      3\u001b[0m \u001b[43m    \u001b[49m\u001b[43mthreshold_match_probability\u001b[49m\u001b[38;5;241;43m=\u001b[39;49m\u001b[38;5;241;43m0.7\u001b[39;49m\u001b[43m,\u001b[49m\n\u001b[1;32m      4\u001b[0m \u001b[43m    \u001b[49m\u001b[43mpairwise_formatting\u001b[49m\u001b[38;5;241;43m=\u001b[39;49m\u001b[38;5;28;43;01mTrue\u001b[39;49;00m\u001b[43m,\u001b[49m\n\u001b[1;32m      5\u001b[0m \u001b[43m    \u001b[49m\u001b[43mfilter_pairwise_format_for_clusters\u001b[49m\u001b[38;5;241;43m=\u001b[39;49m\u001b[38;5;28;43;01mFalse\u001b[39;49;00m\u001b[43m,\u001b[49m\n\u001b[1;32m      6\u001b[0m \u001b[43m)\u001b[49m\n",
      "File \u001b[0;32m/opt/conda/envs/company_matching/lib/python3.9/site-packages/splink/linker.py:2010\u001b[0m, in \u001b[0;36mLinker.cluster_pairwise_predictions_at_threshold\u001b[0;34m(self, df_predict, threshold_match_probability, pairwise_formatting, filter_pairwise_format_for_clusters)\u001b[0m\n\u001b[1;32m   2004\u001b[0m \u001b[38;5;66;03m# Feeding in df_predict forces materiailisation, if it exists in your database\u001b[39;00m\n\u001b[1;32m   2005\u001b[0m concat_with_tf \u001b[38;5;241m=\u001b[39m \u001b[38;5;28mself\u001b[39m\u001b[38;5;241m.\u001b[39m_initialise_df_concat_with_tf(df_predict)\n\u001b[1;32m   2007\u001b[0m edges_table \u001b[38;5;241m=\u001b[39m _cc_create_unique_id_cols(\n\u001b[1;32m   2008\u001b[0m     \u001b[38;5;28mself\u001b[39m,\n\u001b[1;32m   2009\u001b[0m     concat_with_tf\u001b[38;5;241m.\u001b[39mphysical_name,\n\u001b[0;32m-> 2010\u001b[0m     \u001b[43mdf_predict\u001b[49m\u001b[38;5;241;43m.\u001b[39;49m\u001b[43mphysical_name\u001b[49m,\n\u001b[1;32m   2011\u001b[0m     threshold_match_probability,\n\u001b[1;32m   2012\u001b[0m )\n\u001b[1;32m   2014\u001b[0m cc \u001b[38;5;241m=\u001b[39m solve_connected_components(\n\u001b[1;32m   2015\u001b[0m     \u001b[38;5;28mself\u001b[39m,\n\u001b[1;32m   2016\u001b[0m     edges_table,\n\u001b[0;32m   (...)\u001b[0m\n\u001b[1;32m   2020\u001b[0m     filter_pairwise_format_for_clusters,\n\u001b[1;32m   2021\u001b[0m )\n\u001b[1;32m   2023\u001b[0m \u001b[38;5;28;01mreturn\u001b[39;00m cc\n",
      "\u001b[0;31mAttributeError\u001b[0m: 'str' object has no attribute 'physical_name'"
     ]
    }
   ],
   "source": [
    "clusters = linker.cluster_pairwise_predictions_at_threshold(\n",
    "    f\"'{pred_path.as_posix()}'\",\n",
    "    threshold_match_probability=0.7,\n",
    "    pairwise_formatting=True,\n",
    "    filter_pairwise_format_for_clusters=False,\n",
    ")"
   ]
  },
  {
   "cell_type": "code",
   "execution_count": null,
   "id": "95e3c12a-f07c-4e7a-a390-faf10bec8f04",
   "metadata": {},
   "outputs": [],
   "source": [
    "lookup = linker.query_sql(\n",
    "    f\"\"\"\n",
    "    select\n",
    "        source_dataset_l as source,\n",
    "        unique_id_l as source_id,\n",
    "        cluster_id_l as source_cluster,\n",
    "        source_dataset_r as target,\n",
    "        unique_id_r as target_id,\n",
    "        cluster_id_r as target_cluster,\n",
    "        match_probability\n",
    "    from\n",
    "        { clusters.physical_name }\n",
    "    union\n",
    "    select\n",
    "        source_dataset_r as source,\n",
    "        unique_id_r as source_id,\n",
    "        cluster_id_r as source_cluster,\n",
    "        source_dataset_l as target,\n",
    "        unique_id_l as target_id,\n",
    "        cluster_id_l as target_cluster,\n",
    "        match_probability\n",
    "    from\n",
    "        { clusters.physical_name }\n",
    "    \"\"\",\n",
    "    output_type=\"splink_df\",\n",
    ")"
   ]
  }
 ],
 "metadata": {
  "kernelspec": {
   "display_name": "company_matching",
   "language": "python",
   "name": "company_matching"
  },
  "language_info": {
   "codemirror_mode": {
    "name": "ipython",
    "version": 3
   },
   "file_extension": ".py",
   "mimetype": "text/x-python",
   "name": "python",
   "nbconvert_exporter": "python",
   "pygments_lexer": "ipython3",
   "version": "3.9.16"
  }
 },
 "nbformat": 4,
 "nbformat_minor": 5
}
