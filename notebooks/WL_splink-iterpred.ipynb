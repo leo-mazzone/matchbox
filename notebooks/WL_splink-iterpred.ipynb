{
 "cells": [
  {
   "cell_type": "code",
   "execution_count": 1,
   "id": "6d2cf574-09ed-4120-9bea-8564dfb43bb1",
   "metadata": {},
   "outputs": [],
   "source": [
    "%load_ext autoreload\n",
    "%autoreload 2\n",
    "from IPython.core.interactiveshell import InteractiveShell\n",
    "InteractiveShell.ast_node_interactivity = \"all\""
   ]
  },
  {
   "cell_type": "code",
   "execution_count": 9,
   "id": "c0090a19-89f2-4f87-bef1-a72f01cf6e74",
   "metadata": {},
   "outputs": [],
   "source": [
    "import mlflow\n",
    "import duckdb\n",
    "import json\n",
    "from pathlib import Path\n",
    "import pandas as pd\n",
    "import time\n",
    "import networkx as nx\n",
    "import sys\n",
    "# import dask.dataframe as dd\n",
    "\n",
    "from splink.duckdb.linker import DuckDBLinker\n",
    "from splink.postgres.linker import PostgresLinker\n",
    "from splink.connected_components import (\n",
    "    _cc_create_unique_id_cols,\n",
    "    solve_connected_components,\n",
    "    _cc_create_nodes_table,\n",
    "    _cc_generate_neighbours_representation,\n",
    "    _cc_generate_initial_representatives_table,\n",
    "    _cc_update_neighbours_first_iter,\n",
    "    _cc_update_representatives_first_iter,\n",
    "    _cc_generate_representatives_loop_cond,\n",
    "    _cc_update_representatives_loop_cond\n",
    ")\n",
    "\n",
    "from src.data import utils as du\n",
    "import src.locations as loc\n",
    "from src.config import settings\n",
    "\n",
    "DATA_FULL = du.build_alias_path_dict(Path(loc.DATA_SUBDIR['processed']) / 'company-matching__full')\n",
    "del DATA_FULL['predictions']\n",
    "PRED_PATH = Path(loc.DATA_SUBDIR['processed']) / 'company-matching__full' / 'predictions.parquet'"
   ]
  },
  {
   "cell_type": "markdown",
   "id": "fc0edb74-b974-4004-b6be-5a625b878c32",
   "metadata": {},
   "source": [
    "Questions:\n",
    "\n",
    "1. Can we predict in batches?\n",
    "2. If we predict in batches, do we get the same answer as when not?\n",
    "3. Does this alleviate memory issues?\n",
    "4. Does this work with clustering?\n",
    "\n",
    "29/6 update: didn't even need to do batch stuff. CLUSTERING is the problem -- predict is fine. Opens up new avenues.\n",
    "\n",
    "Let's see where clustering fails specifically.\n",
    "\n",
    "30/6: [This could be an option](https://github.com/moj-analytical-services/splink/discussions/1218). Predict in a glob, cluster in batches. Robin's assumptions all hold in our use case. The model is fixed because this is batching one run, records are only added because we're batching one set of predictions, and the records don't change because this is batching one run."
   ]
  },
  {
   "cell_type": "markdown",
   "id": "1ac8302c-9f46-49f0-a394-59b7ed0f6e94",
   "metadata": {
    "jp-MarkdownHeadingCollapsed": true,
    "tags": []
   },
   "source": [
    "## Repartition into multiple files"
   ]
  },
  {
   "cell_type": "code",
   "execution_count": 47,
   "id": "dadfc0a3-14e4-4c5a-85f4-2ffa8cd9ce62",
   "metadata": {},
   "outputs": [
    {
     "data": {
      "text/plain": [
       "{'hmrc_trade__exporters': \"'/home/jovyan/company_matching/data/processed/company-matching__partitioned/hmrc_trade__exporters'\",\n",
       " 'dit_export_wins__wins_dataset': \"'/home/jovyan/company_matching/data/processed/company-matching__partitioned/dit_export_wins__wins_dataset'\",\n",
       " 'dit_data_hub__companies': \"'/home/jovyan/company_matching/data/processed/company-matching__partitioned/dit_data_hub__companies'\",\n",
       " 'companieshouse_companies': \"'/home/jovyan/company_matching/data/processed/company-matching__partitioned/companieshouse_companies'\"}"
      ]
     },
     "execution_count": 47,
     "metadata": {},
     "output_type": "execute_result"
    }
   ],
   "source": [
    "data_partitioned = {}\n",
    "\n",
    "for data in data_full.keys():\n",
    "    df = dd.read_parquet(data_full[data])\n",
    "    df = df.repartition(partition_size=\"100MB\")\n",
    "    new_dir = Path(loc.DATA_SUBDIR['processed']) / 'company-matching__partitioned' / data\n",
    "    df.to_parquet(new_dir)\n",
    "    data_partitioned[data] = f\"'{new_dir.as_posix()}'\"\n",
    "    \n",
    "data_partitioned"
   ]
  },
  {
   "cell_type": "markdown",
   "id": "d7aff7fc-ff27-4e10-b2c6-dcddb19f3880",
   "metadata": {},
   "source": [
    "## Generate predictions and stash"
   ]
  },
  {
   "cell_type": "code",
   "execution_count": 3,
   "id": "959219b0-f2b3-4558-be14-3c20dd082ceb",
   "metadata": {},
   "outputs": [],
   "source": [
    "json_raw = mlflow.artifacts.load_text(\n",
    "    artifact_uri=\"runs:/22ce217706c54650ac34f59cb6a45960/model/companies_matching_model.json\"\n",
    ")\n",
    "json_settings = json.loads(json_raw)"
   ]
  },
  {
   "cell_type": "code",
   "execution_count": 29,
   "id": "4ec62f95-1fb7-4266-a0e8-205c530bf234",
   "metadata": {},
   "outputs": [],
   "source": [
    "connection = duckdb.connect()"
   ]
  },
  {
   "cell_type": "code",
   "execution_count": 30,
   "id": "995f791c-464a-4624-bb7f-d36cf58c7156",
   "metadata": {},
   "outputs": [],
   "source": [
    "linker = DuckDBLinker(\n",
    "    list(DATA_FULL.values()),\n",
    "    settings_dict=settings,\n",
    "    connection=connection,\n",
    "    input_table_aliases=list(DATA_FULL.keys()),\n",
    ")\n",
    "linker.load_model(json_settings)"
   ]
  },
  {
   "cell_type": "code",
   "execution_count": 9,
   "id": "1cf4ad10-b7ce-4adf-9dfa-919d13f0e1bd",
   "metadata": {},
   "outputs": [
    {
     "name": "stderr",
     "output_type": "stream",
     "text": [
      "\n",
      " -- WARNING --\n",
      "You have called predict(), but there are some parameter estimates which have neither been estimated or specified in your settings dictionary.  To produce predictions the following untrained trained parameters will use default values.\n",
      "Comparison: 'comp_num_clean':\n",
      "    u values not fully trained\n"
     ]
    }
   ],
   "source": [
    "predictions = linker.predict(threshold_match_probability=0.7)"
   ]
  },
  {
   "cell_type": "code",
   "execution_count": 10,
   "id": "19a3c751-f95b-4cbf-ad44-cc24c13e516f",
   "metadata": {},
   "outputs": [
    {
     "data": {
      "text/plain": [
       "┌───────────────┬───────────────┬────────────┬──────────────┬───┬─────────────┬──────────┬──────────────┬──────────────┐\n",
       "│ database_name │ database_size │ block_size │ total_blocks │ … │ free_blocks │ wal_size │ memory_usage │ memory_limit │\n",
       "│    varchar    │    varchar    │   int64    │    int64     │   │    int64    │ varchar  │   varchar    │   varchar    │\n",
       "├───────────────┼───────────────┼────────────┼──────────────┼───┼─────────────┼──────────┼──────────────┼──────────────┤\n",
       "│ memory        │ 0 bytes       │          0 │            0 │ … │           0 │ 0 bytes  │ 11.0GB       │ 26.4GB       │\n",
       "├───────────────┴───────────────┴────────────┴──────────────┴───┴─────────────┴──────────┴──────────────┴──────────────┤\n",
       "│ 1 rows                                                                                           9 columns (8 shown) │\n",
       "└──────────────────────────────────────────────────────────────────────────────────────────────────────────────────────┘"
      ]
     },
     "execution_count": 10,
     "metadata": {},
     "output_type": "execute_result"
    }
   ],
   "source": [
    "connection.query(\"\"\"\n",
    "    pragma database_size;\n",
    "    call pragma_database_size();\n",
    "\"\"\")"
   ]
  },
  {
   "cell_type": "code",
   "execution_count": 18,
   "id": "ddfbca05-c1d5-421a-9be1-33bd87e6f004",
   "metadata": {},
   "outputs": [],
   "source": [
    "connection.query(f\"\"\"\n",
    "    copy {predictions.physical_name}\n",
    "    to '{PRED_PATH.as_posix()}'\n",
    "    (format parquet);\n",
    "\"\"\")"
   ]
  },
  {
   "cell_type": "code",
   "execution_count": 10,
   "id": "9d4aef28-0cf9-4925-ac23-3457797bfe49",
   "metadata": {},
   "outputs": [
    {
     "data": {
      "text/plain": [
       "┌────────────────────┬────────────────────┬───┬──────────────────────┬──────────────────────┬───────────┐\n",
       "│    match_weight    │ match_probability  │ … │     unique_id_l      │     unique_id_r      │ match_key │\n",
       "│       double       │       double       │   │       varchar        │       varchar        │  varchar  │\n",
       "├────────────────────┼────────────────────┼───┼──────────────────────┼──────────────────────┼───────────┤\n",
       "│ 1.4157836817616756 │ 0.7273753031699655 │ … │ b18c76fc-a30d-e411…  │ 11f864f6-09bc-4cf8…  │ 0         │\n",
       "│ 20.075070679022463 │ 0.9999990946819749 │ … │ 7a7fd6b2-4f0e-e411…  │ 19a1c784-0e8c-4b9b…  │ 0         │\n",
       "│ 18.852678257686016 │ 0.9999978875938246 │ … │ e7275be8-7e11-e411…  │ 3d895056-4ffd-4a15…  │ 0         │\n",
       "│ 21.338105084856256 │  0.999999622783957 │ … │ 6afa126b-a911-e411…  │ 03ebd8a5-f065-423a…  │ 0         │\n",
       "│  18.20060156110632 │ 0.9999966805085885 │ … │ f7f4ddb5-4d12-e411…  │ 600dcf7f-7087-46f3…  │ 0         │\n",
       "│ 22.075070679022463 │ 0.9999997736703401 │ … │ a2af958c-6d12-e411…  │ 2cdace24-f936-48b6…  │ 0         │\n",
       "│ 21.660033179743618 │ 0.9999996982271429 │ … │ 758d33ef-7612-e411…  │ a45178bf-d2b8-42bf…  │ 0         │\n",
       "│  8.697196988889726 │ 0.9975965352319727 │ … │ 25d45568-4713-e411…  │ 76b9acb6-9839-4b3a…  │ 0         │\n",
       "│ 17.267715756964858 │ 0.9999936628082473 │ … │ 2ad5730d-0718-e411…  │ 33c1c23d-126a-4a48…  │ 0         │\n",
       "│ 1.8339107565946287 │ 0.7809429788614763 │ … │ 8ba7f427-b71b-e411…  │ ec4c2222-701f-4c6f…  │ 0         │\n",
       "│          ·         │          ·         │ · │    ·                 │    ·                 │ ·         │\n",
       "│          ·         │          ·         │ · │    ·                 │    ·                 │ ·         │\n",
       "│          ·         │          ·         │ · │    ·                 │    ·                 │ ·         │\n",
       "│ 1.2508575379009217 │ 0.7041269888047618 │ … │ LP015585             │ SL015585             │ 0         │\n",
       "│ 12.290310605733186 │ 0.9998003997147098 │ … │ CE005649             │ OE005649             │ 0         │\n",
       "│ 1.2477679623468125 │ 0.7036806441393585 │ … │ 00649920             │ NI649920             │ 0         │\n",
       "│ 1.8327304630679686 │ 0.7808029905433105 │ … │ NI655088             │ SC655088             │ 0         │\n",
       "│ 20.660033179743618 │ 0.9999993964544678 │ … │ 03102371             │ fff1057e-6785-4f33…  │ 0         │\n",
       "│ 34.441450699323646 │ 0.9999999999571363 │ … │ 10595685             │ 7b3f4c93-006d-478a…  │ 0         │\n",
       "│ 1.2477679623468125 │ 0.7036806441393585 │ … │ NI036254             │ SL036254             │ 0         │\n",
       "│ 2.4157836817616753 │ 0.8421740218644254 │ … │ SC315210             │ d6f51b21-a98c-4205…  │ 0         │\n",
       "│ 1.8327304630679686 │ 0.7808029905433105 │ … │ OC400419             │ SC400419             │ 0         │\n",
       "│ 1.8327304630679686 │ 0.7808029905433105 │ … │ NI621269             │ SC621269             │ 0         │\n",
       "├────────────────────┴────────────────────┴───┴──────────────────────┴──────────────────────┴───────────┤\n",
       "│ ? rows (>9999 rows, 20 shown)                                                     7 columns (5 shown) │\n",
       "└───────────────────────────────────────────────────────────────────────────────────────────────────────┘"
      ]
     },
     "execution_count": 10,
     "metadata": {},
     "output_type": "execute_result"
    }
   ],
   "source": [
    "connection.query(f\"\"\"\n",
    "    select *\n",
    "    from '{PRED_PATH.as_posix()}'\n",
    "\"\"\")"
   ]
  },
  {
   "cell_type": "code",
   "execution_count": null,
   "id": "acafdef2-9932-48f4-a47d-9886b3a9b147",
   "metadata": {},
   "outputs": [],
   "source": [
    "du.data_workspace_write(\n",
    "    schema = \"_user_eaf4fd9a\",\n",
    "    table = \"lge_all_predictions\",\n",
    "    df = pd.read_parquet(PRED_PATH),\n",
    "    if_exists = \"replace\",\n",
    "    chunksize = int(1e6)\n",
    ")"
   ]
  },
  {
   "cell_type": "markdown",
   "id": "581b5bc0-49f4-48f1-b3de-544c358e5f6a",
   "metadata": {},
   "source": [
    "## Fix clustering"
   ]
  },
  {
   "cell_type": "code",
   "execution_count": 4,
   "id": "43db4d83-1fed-492c-9cb5-06481e66f942",
   "metadata": {},
   "outputs": [],
   "source": [
    "df_predict = pd.read_parquet(PRED_PATH)"
   ]
  },
  {
   "cell_type": "code",
   "execution_count": 4,
   "id": "9aa4cb33-07ad-477a-b8c3-58a36dba855f",
   "metadata": {},
   "outputs": [
    {
     "ename": "NameError",
     "evalue": "name 'linker' is not defined",
     "output_type": "error",
     "traceback": [
      "\u001b[0;31m---------------------------------------------------------------------------\u001b[0m",
      "\u001b[0;31mNameError\u001b[0m                                 Traceback (most recent call last)",
      "Cell \u001b[0;32mIn[4], line 1\u001b[0m\n\u001b[0;32m----> 1\u001b[0m \u001b[43mlinker\u001b[49m\u001b[38;5;241m.\u001b[39mquery_sql(\u001b[38;5;124mf\u001b[39m\u001b[38;5;124m\"\u001b[39m\u001b[38;5;124mselect * from \u001b[39m\u001b[38;5;132;01m{\u001b[39;00mdb_predict\u001b[38;5;241m.\u001b[39mphysical_name\u001b[38;5;132;01m}\u001b[39;00m\u001b[38;5;124m\"\u001b[39m)\n",
      "\u001b[0;31mNameError\u001b[0m: name 'linker' is not defined"
     ]
    }
   ],
   "source": [
    "linker.query_sql(f\"select * from {db_predict.physical_name}\")"
   ]
  },
  {
   "cell_type": "code",
   "execution_count": 18,
   "id": "635d7473-e598-401b-ad3d-48cbc1b5e2b5",
   "metadata": {},
   "outputs": [
    {
     "data": {
      "text/plain": [
       "hmrc_trade__exporters            76194847\n",
       "companieshouse_companies          2155706\n",
       "dit_data_hub__companies           1078847\n",
       "dit_export_wins__wins_dataset      147565\n",
       "Name: source_dataset_l, dtype: int64"
      ]
     },
     "execution_count": 18,
     "metadata": {},
     "output_type": "execute_result"
    },
    {
     "data": {
      "text/plain": [
       "hmrc_trade__exporters            79091872\n",
       "companieshouse_companies           196660\n",
       "dit_export_wins__wins_dataset      186607\n",
       "dit_data_hub__companies            101826\n",
       "Name: source_dataset_r, dtype: int64"
      ]
     },
     "execution_count": 18,
     "metadata": {},
     "output_type": "execute_result"
    }
   ],
   "source": [
    "df_predict.source_dataset_l.value_counts()\n",
    "df_predict.source_dataset_r.value_counts()"
   ]
  },
  {
   "cell_type": "markdown",
   "id": "5048c3fb-5b2a-43b7-adac-fa90b88d4c17",
   "metadata": {},
   "source": [
    "### NetworkX\n",
    "\n",
    "DuckDB is performing a graph operation on a relational database -- no wonder it's running out of memory. This approach makes sense when you've got a cluster to play with and want to keep stuff SQL first, but we don't and don't.\n",
    "\n",
    "Splink checks its connected components clustering using `networkx`. Let's try promoting it to our preferred method.\n",
    "\n",
    "A problem I can see emerging in this method is when the unique ID of one table is (possibly by chance) the same as a unique ID in another. I believe this is either quite likely, when company ID has been used, or almost impossible, when it's a UUID. But it needs checking and I haven't done it yet."
   ]
  },
  {
   "cell_type": "code",
   "execution_count": 6,
   "id": "2b83a13c-2e46-4e96-a34e-f5891fe2b57f",
   "metadata": {},
   "outputs": [
    {
     "data": {
      "text/html": [
       "<div>\n",
       "<style scoped>\n",
       "    .dataframe tbody tr th:only-of-type {\n",
       "        vertical-align: middle;\n",
       "    }\n",
       "\n",
       "    .dataframe tbody tr th {\n",
       "        vertical-align: top;\n",
       "    }\n",
       "\n",
       "    .dataframe thead th {\n",
       "        text-align: right;\n",
       "    }\n",
       "</style>\n",
       "<table border=\"1\" class=\"dataframe\">\n",
       "  <thead>\n",
       "    <tr style=\"text-align: right;\">\n",
       "      <th></th>\n",
       "      <th>match_weight</th>\n",
       "      <th>match_probability</th>\n",
       "      <th>source_dataset_l</th>\n",
       "      <th>source_dataset_r</th>\n",
       "      <th>unique_id_l</th>\n",
       "      <th>unique_id_r</th>\n",
       "      <th>match_key</th>\n",
       "    </tr>\n",
       "  </thead>\n",
       "  <tbody>\n",
       "    <tr>\n",
       "      <th>0</th>\n",
       "      <td>1.415784</td>\n",
       "      <td>0.727375</td>\n",
       "      <td>dit_data_hub__companies</td>\n",
       "      <td>dit_export_wins__wins_dataset</td>\n",
       "      <td>b18c76fc-a30d-e411-8a2b-e4115bead28a</td>\n",
       "      <td>11f864f6-09bc-4cf8-969e-ae790c28aec7</td>\n",
       "      <td>0</td>\n",
       "    </tr>\n",
       "    <tr>\n",
       "      <th>1</th>\n",
       "      <td>20.075071</td>\n",
       "      <td>0.999999</td>\n",
       "      <td>dit_data_hub__companies</td>\n",
       "      <td>dit_export_wins__wins_dataset</td>\n",
       "      <td>7a7fd6b2-4f0e-e411-8a2b-e4115bead28a</td>\n",
       "      <td>19a1c784-0e8c-4b9b-b40f-f4daa5d9bd01</td>\n",
       "      <td>0</td>\n",
       "    </tr>\n",
       "    <tr>\n",
       "      <th>2</th>\n",
       "      <td>18.852678</td>\n",
       "      <td>0.999998</td>\n",
       "      <td>dit_data_hub__companies</td>\n",
       "      <td>dit_export_wins__wins_dataset</td>\n",
       "      <td>e7275be8-7e11-e411-8a2b-e4115bead28a</td>\n",
       "      <td>3d895056-4ffd-4a15-91d3-05e6def6e606</td>\n",
       "      <td>0</td>\n",
       "    </tr>\n",
       "  </tbody>\n",
       "</table>\n",
       "</div>"
      ],
      "text/plain": [
       "   match_weight  match_probability         source_dataset_l  \\\n",
       "0      1.415784           0.727375  dit_data_hub__companies   \n",
       "1     20.075071           0.999999  dit_data_hub__companies   \n",
       "2     18.852678           0.999998  dit_data_hub__companies   \n",
       "\n",
       "                source_dataset_r                           unique_id_l  \\\n",
       "0  dit_export_wins__wins_dataset  b18c76fc-a30d-e411-8a2b-e4115bead28a   \n",
       "1  dit_export_wins__wins_dataset  7a7fd6b2-4f0e-e411-8a2b-e4115bead28a   \n",
       "2  dit_export_wins__wins_dataset  e7275be8-7e11-e411-8a2b-e4115bead28a   \n",
       "\n",
       "                            unique_id_r match_key  \n",
       "0  11f864f6-09bc-4cf8-969e-ae790c28aec7         0  \n",
       "1  19a1c784-0e8c-4b9b-b40f-f4daa5d9bd01         0  \n",
       "2  3d895056-4ffd-4a15-91d3-05e6def6e606         0  "
      ]
     },
     "execution_count": 6,
     "metadata": {},
     "output_type": "execute_result"
    }
   ],
   "source": [
    "df_predict.head(3)"
   ]
  },
  {
   "cell_type": "markdown",
   "id": "84db0b40-5fa2-4107-a5e3-31e3742b79fd",
   "metadata": {},
   "source": [
    "#### First try"
   ]
  },
  {
   "cell_type": "code",
   "execution_count": 5,
   "id": "abf7ac8c-d0f9-4d5c-9c29-9b5e47b54130",
   "metadata": {},
   "outputs": [],
   "source": [
    "G = nx.from_pandas_edgelist(\n",
    "    df = df_predict.sample(1_000_000),\n",
    "    source = 'unique_id_l',\n",
    "    target = 'unique_id_r',\n",
    "    edge_attr = 'match_probability'\n",
    ")"
   ]
  },
  {
   "cell_type": "code",
   "execution_count": 13,
   "id": "d3713736-1f70-4b5f-a875-c09e15d6749b",
   "metadata": {},
   "outputs": [
    {
     "data": {
      "text/html": [
       "<div>\n",
       "<style scoped>\n",
       "    .dataframe tbody tr th:only-of-type {\n",
       "        vertical-align: middle;\n",
       "    }\n",
       "\n",
       "    .dataframe tbody tr th {\n",
       "        vertical-align: top;\n",
       "    }\n",
       "\n",
       "    .dataframe thead th {\n",
       "        text-align: right;\n",
       "    }\n",
       "</style>\n",
       "<table border=\"1\" class=\"dataframe\">\n",
       "  <thead>\n",
       "    <tr style=\"text-align: right;\">\n",
       "      <th></th>\n",
       "      <th>node_id</th>\n",
       "      <th>representative</th>\n",
       "    </tr>\n",
       "  </thead>\n",
       "  <tbody>\n",
       "    <tr>\n",
       "      <th>0</th>\n",
       "      <td>6147b00b-0b1f-4941-ad03-8589005229ba</td>\n",
       "      <td>018de358-52d9-4df8-aa53-7e9b068c7237</td>\n",
       "    </tr>\n",
       "    <tr>\n",
       "      <th>1</th>\n",
       "      <td>7cd96a12-4ac8-4a58-bd4c-5649edea565c</td>\n",
       "      <td>018de358-52d9-4df8-aa53-7e9b068c7237</td>\n",
       "    </tr>\n",
       "    <tr>\n",
       "      <th>2</th>\n",
       "      <td>018de358-52d9-4df8-aa53-7e9b068c7237</td>\n",
       "      <td>018de358-52d9-4df8-aa53-7e9b068c7237</td>\n",
       "    </tr>\n",
       "  </tbody>\n",
       "</table>\n",
       "</div>"
      ],
      "text/plain": [
       "                                node_id                        representative\n",
       "0  6147b00b-0b1f-4941-ad03-8589005229ba  018de358-52d9-4df8-aa53-7e9b068c7237\n",
       "1  7cd96a12-4ac8-4a58-bd4c-5649edea565c  018de358-52d9-4df8-aa53-7e9b068c7237\n",
       "2  018de358-52d9-4df8-aa53-7e9b068c7237  018de358-52d9-4df8-aa53-7e9b068c7237"
      ]
     },
     "execution_count": 13,
     "metadata": {},
     "output_type": "execute_result"
    }
   ],
   "source": [
    "rows = []\n",
    "\n",
    "for cluster in nx.connected_components(G):\n",
    "    m = min(list(cluster))\n",
    "    for n in cluster:\n",
    "        row = {\"node_id\": n, \"representative\": m}\n",
    "        rows.append(row)\n",
    "        \n",
    "clusters = pd.DataFrame(rows)\n",
    "\n",
    "clusters.head(3)"
   ]
  },
  {
   "cell_type": "markdown",
   "id": "a8ec63e9-2a41-401b-878e-60df42259059",
   "metadata": {},
   "source": [
    "#### More advanced -- add attributes"
   ]
  },
  {
   "cell_type": "code",
   "execution_count": 14,
   "id": "a92bce4d-fd18-4345-95a7-3ae042180622",
   "metadata": {},
   "outputs": [],
   "source": [
    "df_sample = df_predict.sample(1_000_000)"
   ]
  },
  {
   "cell_type": "code",
   "execution_count": 53,
   "id": "8d74eecc-17e3-4f09-a7f2-ddfcb7f29848",
   "metadata": {},
   "outputs": [],
   "source": [
    "G = nx.from_pandas_edgelist(\n",
    "    df = df_sample,\n",
    "    source = 'unique_id_l',\n",
    "    target = 'unique_id_r',\n",
    "    edge_attr = 'match_probability'\n",
    ")"
   ]
  },
  {
   "cell_type": "code",
   "execution_count": 52,
   "id": "fdb41080-0566-4152-9ed6-3354710a7f1b",
   "metadata": {},
   "outputs": [],
   "source": [
    "attr_l = (\n",
    "    df_sample[['unique_id_l', 'source_dataset_l']]\n",
    "    .rename(columns={\n",
    "        'unique_id_l': 'unique_id',\n",
    "        'source_dataset_l': 'source_dataset'\n",
    "    })\n",
    ")\n",
    "attr_r = (\n",
    "    df_sample[['unique_id_r', 'source_dataset_r']]\n",
    "    .rename(columns={\n",
    "        'unique_id_r': 'unique_id',\n",
    "        'source_dataset_r': 'source_dataset'\n",
    "    })\n",
    ")\n",
    "attr_all = (\n",
    "    pd.concat([attr_r, attr_r])\n",
    "    .drop_duplicates()\n",
    "    # .groupby('unique_id')\n",
    "    # .agg(lambda x: x.tolist())\n",
    "    # .to_dict('index')\n",
    ")\n",
    "attr_dict = (\n",
    "    pd.crosstab(\n",
    "        attr_all.unique_id, \n",
    "        attr_all.source_dataset\n",
    "    )\n",
    "    .astype(bool)\n",
    "    .to_dict('index')\n",
    ")"
   ]
  },
  {
   "cell_type": "code",
   "execution_count": 54,
   "id": "1d634b1d-f226-4bc4-b226-1b910ec22eaf",
   "metadata": {},
   "outputs": [],
   "source": [
    "nx.set_node_attributes(G, attr_dict)"
   ]
  },
  {
   "cell_type": "code",
   "execution_count": 81,
   "id": "22578508-5dcf-44f7-987e-575944ff1e2d",
   "metadata": {
    "tags": []
   },
   "outputs": [],
   "source": [
    "nodes = (\n",
    "    node\n",
    "    for node, data\n",
    "    in G.nodes(data=True)\n",
    "    if data.get(\"dit_data_hub__companies\") or data.get(\"companieshouse_companies\")\n",
    ")\n",
    "subgraph = G.subgraph(nodes)"
   ]
  },
  {
   "cell_type": "code",
   "execution_count": 84,
   "id": "1824d82e-a4b9-49f3-8461-d7f808599d50",
   "metadata": {},
   "outputs": [
    {
     "data": {
      "text/plain": [
       "{'companieshouse_companies': True,\n",
       " 'dit_data_hub__companies': False,\n",
       " 'dit_export_wins__wins_dataset': False,\n",
       " 'hmrc_trade__exporters': False}"
      ]
     },
     "execution_count": 84,
     "metadata": {},
     "output_type": "execute_result"
    }
   ],
   "source": [
    "dict(subgraph.nodes(data=True))['CS002474']"
   ]
  },
  {
   "cell_type": "code",
   "execution_count": 39,
   "id": "e2df2cb0-783c-4609-b245-78fbc00998cb",
   "metadata": {},
   "outputs": [],
   "source": [
    "cc = next(nx.connected_components(G))"
   ]
  },
  {
   "cell_type": "code",
   "execution_count": 40,
   "id": "a7dba50a-0a9a-4499-a411-4ee954ff513a",
   "metadata": {},
   "outputs": [
    {
     "data": {
      "text/plain": [
       "{'018de358-52d9-4df8-aa53-7e9b068c7237',\n",
       " '6147b00b-0b1f-4941-ad03-8589005229ba',\n",
       " '7cd96a12-4ac8-4a58-bd4c-5649edea565c'}"
      ]
     },
     "execution_count": 40,
     "metadata": {},
     "output_type": "execute_result"
    }
   ],
   "source": [
    "cc"
   ]
  },
  {
   "cell_type": "code",
   "execution_count": 43,
   "id": "d15efbb7-8622-48a3-b486-2eb92cfde335",
   "metadata": {},
   "outputs": [
    {
     "data": {
      "text/plain": [
       "{'018de358-52d9-4df8-aa53-7e9b068c7237',\n",
       " '6147b00b-0b1f-4941-ad03-8589005229ba',\n",
       " '7cd96a12-4ac8-4a58-bd4c-5649edea565c'}"
      ]
     },
     "execution_count": 43,
     "metadata": {},
     "output_type": "execute_result"
    }
   ],
   "source": [
    "nx.node_connected_component(G,'6147b00b-0b1f-4941-ad03-8589005229ba')"
   ]
  },
  {
   "cell_type": "code",
   "execution_count": 41,
   "id": "cf41cc76-232d-4a49-afe4-39708398ab5b",
   "metadata": {},
   "outputs": [
    {
     "data": {
      "text/html": [
       "<div>\n",
       "<style scoped>\n",
       "    .dataframe tbody tr th:only-of-type {\n",
       "        vertical-align: middle;\n",
       "    }\n",
       "\n",
       "    .dataframe tbody tr th {\n",
       "        vertical-align: top;\n",
       "    }\n",
       "\n",
       "    .dataframe thead th {\n",
       "        text-align: right;\n",
       "    }\n",
       "</style>\n",
       "<table border=\"1\" class=\"dataframe\">\n",
       "  <thead>\n",
       "    <tr style=\"text-align: right;\">\n",
       "      <th></th>\n",
       "      <th>node_id</th>\n",
       "      <th>representative</th>\n",
       "    </tr>\n",
       "  </thead>\n",
       "  <tbody>\n",
       "    <tr>\n",
       "      <th>0</th>\n",
       "      <td>6147b00b-0b1f-4941-ad03-8589005229ba</td>\n",
       "      <td>018de358-52d9-4df8-aa53-7e9b068c7237</td>\n",
       "    </tr>\n",
       "    <tr>\n",
       "      <th>1</th>\n",
       "      <td>7cd96a12-4ac8-4a58-bd4c-5649edea565c</td>\n",
       "      <td>018de358-52d9-4df8-aa53-7e9b068c7237</td>\n",
       "    </tr>\n",
       "    <tr>\n",
       "      <th>2</th>\n",
       "      <td>018de358-52d9-4df8-aa53-7e9b068c7237</td>\n",
       "      <td>018de358-52d9-4df8-aa53-7e9b068c7237</td>\n",
       "    </tr>\n",
       "  </tbody>\n",
       "</table>\n",
       "</div>"
      ],
      "text/plain": [
       "                                node_id                        representative\n",
       "0  6147b00b-0b1f-4941-ad03-8589005229ba  018de358-52d9-4df8-aa53-7e9b068c7237\n",
       "1  7cd96a12-4ac8-4a58-bd4c-5649edea565c  018de358-52d9-4df8-aa53-7e9b068c7237\n",
       "2  018de358-52d9-4df8-aa53-7e9b068c7237  018de358-52d9-4df8-aa53-7e9b068c7237"
      ]
     },
     "execution_count": 41,
     "metadata": {},
     "output_type": "execute_result"
    }
   ],
   "source": [
    "rows = []\n",
    "\n",
    "for cluster in nx.connected_components(G):\n",
    "    m = min(list(cluster))\n",
    "    for n in cluster:\n",
    "        row = {\"node_id\": n, \"representative\": m}\n",
    "        rows.append(row)\n",
    "        \n",
    "clusters = pd.DataFrame(rows)\n",
    "\n",
    "clusters.head(3)"
   ]
  },
  {
   "cell_type": "markdown",
   "id": "a8316fee-b83a-4f93-80a0-908c8e83f410",
   "metadata": {},
   "source": [
    "### Iterative clustering\n",
    "\n",
    "See top of file. We're going to cluster this iteratively, then combine them at the end, because [these assumptions hold](https://github.com/moj-analytical-services/splink/discussions/1218)."
   ]
  },
  {
   "cell_type": "code",
   "execution_count": 33,
   "id": "914c9552-6f49-432e-9228-f2615c197a10",
   "metadata": {},
   "outputs": [],
   "source": [
    "df_predict_to_sample = df_predict"
   ]
  },
  {
   "cell_type": "code",
   "execution_count": null,
   "id": "571df32d-4501-407d-a315-e3552732e922",
   "metadata": {},
   "outputs": [
    {
     "name": "stdout",
     "output_type": "stream",
     "text": [
      "Cluster 0\n",
      "df_predict_to_sample shape: (79576965, 7)\n",
      "Sampling complete\n",
      "predict_sample shape: (100000, 7)\n",
      "df_predict_to_sample shape: (79476965, 7)\n"
     ]
    }
   ],
   "source": [
    "clusters = []\n",
    "\n",
    "for i in range(2):\n",
    "    print(f\"Cluster {i}\")\n",
    "    print(f\"df_predict_to_sample shape: {df_predict_to_sample.shape}\")\n",
    "          \n",
    "    predict_sample = df_predict_to_sample.sample(100_000)\n",
    "    df_predict_to_sample = df_predict_to_sample.drop(predict_sample.index)\n",
    "          \n",
    "    print(\"Sampling complete\")\n",
    "    print(f\"predict_sample shape: {predict_sample.shape}\")\n",
    "    print(f\"df_predict_to_sample shape: {df_predict_to_sample.shape}\")\n",
    "    \n",
    "    linker = DuckDBLinker(\n",
    "        list(DATA_FULL.values()),\n",
    "        settings_dict=settings,\n",
    "        connection=':memory:',\n",
    "        input_table_aliases=list(DATA_FULL.keys()),\n",
    "    )\n",
    "    \n",
    "    linker.load_model(json_settings)\n",
    "\n",
    "    db_predict = linker.register_table(\n",
    "        predict_sample, \n",
    "        \"__splink__df_predict\",\n",
    "        overwrite=True\n",
    "    )\n",
    "\n",
    "    clusters_sample = linker.cluster_pairwise_predictions_at_threshold(\n",
    "        db_predict,\n",
    "        threshold_match_probability=0.7,\n",
    "        pairwise_formatting=True,\n",
    "        filter_pairwise_format_for_clusters=False,\n",
    "    )\n",
    "    \n",
    "    clusters.append(clusters_sample.as_pandas_dataframe())\n",
    "    \n",
    "clusters"
   ]
  },
  {
   "cell_type": "code",
   "execution_count": 17,
   "id": "46a47e3f-a0b3-4044-9a49-45a67f3bb397",
   "metadata": {},
   "outputs": [
    {
     "data": {
      "text/html": [
       "<div>\n",
       "<style scoped>\n",
       "    .dataframe tbody tr th:only-of-type {\n",
       "        vertical-align: middle;\n",
       "    }\n",
       "\n",
       "    .dataframe tbody tr th {\n",
       "        vertical-align: top;\n",
       "    }\n",
       "\n",
       "    .dataframe thead th {\n",
       "        text-align: right;\n",
       "    }\n",
       "</style>\n",
       "<table border=\"1\" class=\"dataframe\">\n",
       "  <thead>\n",
       "    <tr style=\"text-align: right;\">\n",
       "      <th></th>\n",
       "      <th>match_weight</th>\n",
       "      <th>match_probability</th>\n",
       "      <th>source_dataset_l</th>\n",
       "      <th>source_dataset_r</th>\n",
       "      <th>unique_id_l</th>\n",
       "      <th>unique_id_r</th>\n",
       "      <th>match_key</th>\n",
       "      <th>cluster_id_l</th>\n",
       "      <th>cluster_id_r</th>\n",
       "    </tr>\n",
       "  </thead>\n",
       "  <tbody>\n",
       "    <tr>\n",
       "      <th>0</th>\n",
       "      <td>1.832730</td>\n",
       "      <td>0.780803</td>\n",
       "      <td>companieshouse_companies</td>\n",
       "      <td>companieshouse_companies</td>\n",
       "      <td>00038751</td>\n",
       "      <td>FC038751</td>\n",
       "      <td>0</td>\n",
       "      <td>companieshouse_companies-__-00038751</td>\n",
       "      <td>companieshouse_companies-__-00038751</td>\n",
       "    </tr>\n",
       "    <tr>\n",
       "      <th>1</th>\n",
       "      <td>7.753164</td>\n",
       "      <td>0.995386</td>\n",
       "      <td>companieshouse_companies</td>\n",
       "      <td>hmrc_trade__exporters</td>\n",
       "      <td>00043694</td>\n",
       "      <td>1830964</td>\n",
       "      <td>1</td>\n",
       "      <td>companieshouse_companies-__-00043694</td>\n",
       "      <td>companieshouse_companies-__-00043694</td>\n",
       "    </tr>\n",
       "    <tr>\n",
       "      <th>2</th>\n",
       "      <td>7.737223</td>\n",
       "      <td>0.995335</td>\n",
       "      <td>companieshouse_companies</td>\n",
       "      <td>hmrc_trade__exporters</td>\n",
       "      <td>00045916</td>\n",
       "      <td>2410810</td>\n",
       "      <td>1</td>\n",
       "      <td>companieshouse_companies-__-00045916</td>\n",
       "      <td>companieshouse_companies-__-00045916</td>\n",
       "    </tr>\n",
       "  </tbody>\n",
       "</table>\n",
       "</div>"
      ],
      "text/plain": [
       "   match_weight  match_probability          source_dataset_l  \\\n",
       "0      1.832730           0.780803  companieshouse_companies   \n",
       "1      7.753164           0.995386  companieshouse_companies   \n",
       "2      7.737223           0.995335  companieshouse_companies   \n",
       "\n",
       "           source_dataset_r unique_id_l unique_id_r match_key  \\\n",
       "0  companieshouse_companies    00038751    FC038751         0   \n",
       "1     hmrc_trade__exporters    00043694     1830964         1   \n",
       "2     hmrc_trade__exporters    00045916     2410810         1   \n",
       "\n",
       "                           cluster_id_l                          cluster_id_r  \n",
       "0  companieshouse_companies-__-00038751  companieshouse_companies-__-00038751  \n",
       "1  companieshouse_companies-__-00043694  companieshouse_companies-__-00043694  \n",
       "2  companieshouse_companies-__-00045916  companieshouse_companies-__-00045916  "
      ]
     },
     "execution_count": 17,
     "metadata": {},
     "output_type": "execute_result"
    },
    {
     "data": {
      "text/html": [
       "<div>\n",
       "<style scoped>\n",
       "    .dataframe tbody tr th:only-of-type {\n",
       "        vertical-align: middle;\n",
       "    }\n",
       "\n",
       "    .dataframe tbody tr th {\n",
       "        vertical-align: top;\n",
       "    }\n",
       "\n",
       "    .dataframe thead th {\n",
       "        text-align: right;\n",
       "    }\n",
       "</style>\n",
       "<table border=\"1\" class=\"dataframe\">\n",
       "  <thead>\n",
       "    <tr style=\"text-align: right;\">\n",
       "      <th></th>\n",
       "      <th>match_weight</th>\n",
       "      <th>match_probability</th>\n",
       "      <th>source_dataset_l</th>\n",
       "      <th>source_dataset_r</th>\n",
       "      <th>unique_id_l</th>\n",
       "      <th>unique_id_r</th>\n",
       "      <th>match_key</th>\n",
       "      <th>cluster_id_l</th>\n",
       "      <th>cluster_id_r</th>\n",
       "    </tr>\n",
       "  </thead>\n",
       "  <tbody>\n",
       "    <tr>\n",
       "      <th>0</th>\n",
       "      <td>1.832730</td>\n",
       "      <td>0.780803</td>\n",
       "      <td>companieshouse_companies</td>\n",
       "      <td>companieshouse_companies</td>\n",
       "      <td>00038751</td>\n",
       "      <td>FC038751</td>\n",
       "      <td>0</td>\n",
       "      <td>companieshouse_companies-__-00038751</td>\n",
       "      <td>companieshouse_companies-__-00038751</td>\n",
       "    </tr>\n",
       "    <tr>\n",
       "      <th>1</th>\n",
       "      <td>7.753164</td>\n",
       "      <td>0.995386</td>\n",
       "      <td>companieshouse_companies</td>\n",
       "      <td>hmrc_trade__exporters</td>\n",
       "      <td>00043694</td>\n",
       "      <td>1830964</td>\n",
       "      <td>1</td>\n",
       "      <td>companieshouse_companies-__-00043694</td>\n",
       "      <td>companieshouse_companies-__-00043694</td>\n",
       "    </tr>\n",
       "    <tr>\n",
       "      <th>2</th>\n",
       "      <td>7.737223</td>\n",
       "      <td>0.995335</td>\n",
       "      <td>companieshouse_companies</td>\n",
       "      <td>hmrc_trade__exporters</td>\n",
       "      <td>00045916</td>\n",
       "      <td>2410810</td>\n",
       "      <td>1</td>\n",
       "      <td>companieshouse_companies-__-00045916</td>\n",
       "      <td>companieshouse_companies-__-00045916</td>\n",
       "    </tr>\n",
       "  </tbody>\n",
       "</table>\n",
       "</div>"
      ],
      "text/plain": [
       "   match_weight  match_probability          source_dataset_l  \\\n",
       "0      1.832730           0.780803  companieshouse_companies   \n",
       "1      7.753164           0.995386  companieshouse_companies   \n",
       "2      7.737223           0.995335  companieshouse_companies   \n",
       "\n",
       "           source_dataset_r unique_id_l unique_id_r match_key  \\\n",
       "0  companieshouse_companies    00038751    FC038751         0   \n",
       "1     hmrc_trade__exporters    00043694     1830964         1   \n",
       "2     hmrc_trade__exporters    00045916     2410810         1   \n",
       "\n",
       "                           cluster_id_l                          cluster_id_r  \n",
       "0  companieshouse_companies-__-00038751  companieshouse_companies-__-00038751  \n",
       "1  companieshouse_companies-__-00043694  companieshouse_companies-__-00043694  \n",
       "2  companieshouse_companies-__-00045916  companieshouse_companies-__-00045916  "
      ]
     },
     "execution_count": 17,
     "metadata": {},
     "output_type": "execute_result"
    }
   ],
   "source": [
    "clusters[0].head(3)\n",
    "clusters[1].head(3)"
   ]
  },
  {
   "cell_type": "code",
   "execution_count": 11,
   "id": "382805eb-7947-488b-b89c-c092b53ac746",
   "metadata": {},
   "outputs": [
    {
     "data": {
      "text/html": [
       "<div>\n",
       "<style scoped>\n",
       "    .dataframe tbody tr th:only-of-type {\n",
       "        vertical-align: middle;\n",
       "    }\n",
       "\n",
       "    .dataframe tbody tr th {\n",
       "        vertical-align: top;\n",
       "    }\n",
       "\n",
       "    .dataframe thead th {\n",
       "        text-align: right;\n",
       "    }\n",
       "</style>\n",
       "<table border=\"1\" class=\"dataframe\">\n",
       "  <thead>\n",
       "    <tr style=\"text-align: right;\">\n",
       "      <th></th>\n",
       "      <th>match_weight</th>\n",
       "      <th>match_probability</th>\n",
       "      <th>source_dataset_l</th>\n",
       "      <th>source_dataset_r</th>\n",
       "      <th>unique_id_l</th>\n",
       "      <th>unique_id_r</th>\n",
       "      <th>match_key</th>\n",
       "      <th>cluster_id_l</th>\n",
       "      <th>cluster_id_r</th>\n",
       "    </tr>\n",
       "  </thead>\n",
       "  <tbody>\n",
       "    <tr>\n",
       "      <th>0</th>\n",
       "      <td>1.832730</td>\n",
       "      <td>0.780803</td>\n",
       "      <td>companieshouse_companies</td>\n",
       "      <td>companieshouse_companies</td>\n",
       "      <td>00038751</td>\n",
       "      <td>FC038751</td>\n",
       "      <td>0</td>\n",
       "      <td>companieshouse_companies-__-00038751</td>\n",
       "      <td>companieshouse_companies-__-00038751</td>\n",
       "    </tr>\n",
       "    <tr>\n",
       "      <th>1</th>\n",
       "      <td>7.753164</td>\n",
       "      <td>0.995386</td>\n",
       "      <td>companieshouse_companies</td>\n",
       "      <td>hmrc_trade__exporters</td>\n",
       "      <td>00043694</td>\n",
       "      <td>1830964</td>\n",
       "      <td>1</td>\n",
       "      <td>companieshouse_companies-__-00043694</td>\n",
       "      <td>companieshouse_companies-__-00043694</td>\n",
       "    </tr>\n",
       "    <tr>\n",
       "      <th>2</th>\n",
       "      <td>7.737223</td>\n",
       "      <td>0.995335</td>\n",
       "      <td>companieshouse_companies</td>\n",
       "      <td>hmrc_trade__exporters</td>\n",
       "      <td>00045916</td>\n",
       "      <td>2410810</td>\n",
       "      <td>1</td>\n",
       "      <td>companieshouse_companies-__-00045916</td>\n",
       "      <td>companieshouse_companies-__-00045916</td>\n",
       "    </tr>\n",
       "    <tr>\n",
       "      <th>3</th>\n",
       "      <td>8.517097</td>\n",
       "      <td>0.997278</td>\n",
       "      <td>companieshouse_companies</td>\n",
       "      <td>hmrc_trade__exporters</td>\n",
       "      <td>00048860</td>\n",
       "      <td>2505504</td>\n",
       "      <td>1</td>\n",
       "      <td>companieshouse_companies-__-00048860</td>\n",
       "      <td>companieshouse_companies-__-00048860</td>\n",
       "    </tr>\n",
       "    <tr>\n",
       "      <th>4</th>\n",
       "      <td>8.660055</td>\n",
       "      <td>0.997534</td>\n",
       "      <td>companieshouse_companies</td>\n",
       "      <td>hmrc_trade__exporters</td>\n",
       "      <td>00049371</td>\n",
       "      <td>1039169</td>\n",
       "      <td>1</td>\n",
       "      <td>companieshouse_companies-__-00049371</td>\n",
       "      <td>companieshouse_companies-__-00049371</td>\n",
       "    </tr>\n",
       "  </tbody>\n",
       "</table>\n",
       "</div>"
      ],
      "text/plain": [
       "   match_weight  match_probability          source_dataset_l  \\\n",
       "0      1.832730           0.780803  companieshouse_companies   \n",
       "1      7.753164           0.995386  companieshouse_companies   \n",
       "2      7.737223           0.995335  companieshouse_companies   \n",
       "3      8.517097           0.997278  companieshouse_companies   \n",
       "4      8.660055           0.997534  companieshouse_companies   \n",
       "\n",
       "           source_dataset_r unique_id_l unique_id_r match_key  \\\n",
       "0  companieshouse_companies    00038751    FC038751         0   \n",
       "1     hmrc_trade__exporters    00043694     1830964         1   \n",
       "2     hmrc_trade__exporters    00045916     2410810         1   \n",
       "3     hmrc_trade__exporters    00048860     2505504         1   \n",
       "4     hmrc_trade__exporters    00049371     1039169         1   \n",
       "\n",
       "                           cluster_id_l                          cluster_id_r  \n",
       "0  companieshouse_companies-__-00038751  companieshouse_companies-__-00038751  \n",
       "1  companieshouse_companies-__-00043694  companieshouse_companies-__-00043694  \n",
       "2  companieshouse_companies-__-00045916  companieshouse_companies-__-00045916  \n",
       "3  companieshouse_companies-__-00048860  companieshouse_companies-__-00048860  \n",
       "4  companieshouse_companies-__-00049371  companieshouse_companies-__-00049371  "
      ]
     },
     "execution_count": 11,
     "metadata": {},
     "output_type": "execute_result"
    },
    {
     "data": {
      "text/html": [
       "<div>\n",
       "<style scoped>\n",
       "    .dataframe tbody tr th:only-of-type {\n",
       "        vertical-align: middle;\n",
       "    }\n",
       "\n",
       "    .dataframe tbody tr th {\n",
       "        vertical-align: top;\n",
       "    }\n",
       "\n",
       "    .dataframe thead th {\n",
       "        text-align: right;\n",
       "    }\n",
       "</style>\n",
       "<table border=\"1\" class=\"dataframe\">\n",
       "  <thead>\n",
       "    <tr style=\"text-align: right;\">\n",
       "      <th></th>\n",
       "      <th>match_weight</th>\n",
       "      <th>match_probability</th>\n",
       "      <th>source_dataset_l</th>\n",
       "      <th>source_dataset_r</th>\n",
       "      <th>unique_id_l</th>\n",
       "      <th>unique_id_r</th>\n",
       "      <th>match_key</th>\n",
       "      <th>cluster_id_l</th>\n",
       "      <th>cluster_id_r</th>\n",
       "    </tr>\n",
       "  </thead>\n",
       "  <tbody>\n",
       "    <tr>\n",
       "      <th>0</th>\n",
       "      <td>1.832730</td>\n",
       "      <td>0.780803</td>\n",
       "      <td>companieshouse_companies</td>\n",
       "      <td>companieshouse_companies</td>\n",
       "      <td>00038751</td>\n",
       "      <td>FC038751</td>\n",
       "      <td>0</td>\n",
       "      <td>companieshouse_companies-__-00038751</td>\n",
       "      <td>companieshouse_companies-__-00038751</td>\n",
       "    </tr>\n",
       "    <tr>\n",
       "      <th>1</th>\n",
       "      <td>7.753164</td>\n",
       "      <td>0.995386</td>\n",
       "      <td>companieshouse_companies</td>\n",
       "      <td>hmrc_trade__exporters</td>\n",
       "      <td>00043694</td>\n",
       "      <td>1830964</td>\n",
       "      <td>1</td>\n",
       "      <td>companieshouse_companies-__-00043694</td>\n",
       "      <td>companieshouse_companies-__-00043694</td>\n",
       "    </tr>\n",
       "    <tr>\n",
       "      <th>2</th>\n",
       "      <td>7.737223</td>\n",
       "      <td>0.995335</td>\n",
       "      <td>companieshouse_companies</td>\n",
       "      <td>hmrc_trade__exporters</td>\n",
       "      <td>00045916</td>\n",
       "      <td>2410810</td>\n",
       "      <td>1</td>\n",
       "      <td>companieshouse_companies-__-00045916</td>\n",
       "      <td>companieshouse_companies-__-00045916</td>\n",
       "    </tr>\n",
       "    <tr>\n",
       "      <th>3</th>\n",
       "      <td>8.517097</td>\n",
       "      <td>0.997278</td>\n",
       "      <td>companieshouse_companies</td>\n",
       "      <td>hmrc_trade__exporters</td>\n",
       "      <td>00048860</td>\n",
       "      <td>2505504</td>\n",
       "      <td>1</td>\n",
       "      <td>companieshouse_companies-__-00048860</td>\n",
       "      <td>companieshouse_companies-__-00048860</td>\n",
       "    </tr>\n",
       "    <tr>\n",
       "      <th>4</th>\n",
       "      <td>8.660055</td>\n",
       "      <td>0.997534</td>\n",
       "      <td>companieshouse_companies</td>\n",
       "      <td>hmrc_trade__exporters</td>\n",
       "      <td>00049371</td>\n",
       "      <td>1039169</td>\n",
       "      <td>1</td>\n",
       "      <td>companieshouse_companies-__-00049371</td>\n",
       "      <td>companieshouse_companies-__-00049371</td>\n",
       "    </tr>\n",
       "  </tbody>\n",
       "</table>\n",
       "</div>"
      ],
      "text/plain": [
       "   match_weight  match_probability          source_dataset_l  \\\n",
       "0      1.832730           0.780803  companieshouse_companies   \n",
       "1      7.753164           0.995386  companieshouse_companies   \n",
       "2      7.737223           0.995335  companieshouse_companies   \n",
       "3      8.517097           0.997278  companieshouse_companies   \n",
       "4      8.660055           0.997534  companieshouse_companies   \n",
       "\n",
       "           source_dataset_r unique_id_l unique_id_r match_key  \\\n",
       "0  companieshouse_companies    00038751    FC038751         0   \n",
       "1     hmrc_trade__exporters    00043694     1830964         1   \n",
       "2     hmrc_trade__exporters    00045916     2410810         1   \n",
       "3     hmrc_trade__exporters    00048860     2505504         1   \n",
       "4     hmrc_trade__exporters    00049371     1039169         1   \n",
       "\n",
       "                           cluster_id_l                          cluster_id_r  \n",
       "0  companieshouse_companies-__-00038751  companieshouse_companies-__-00038751  \n",
       "1  companieshouse_companies-__-00043694  companieshouse_companies-__-00043694  \n",
       "2  companieshouse_companies-__-00045916  companieshouse_companies-__-00045916  \n",
       "3  companieshouse_companies-__-00048860  companieshouse_companies-__-00048860  \n",
       "4  companieshouse_companies-__-00049371  companieshouse_companies-__-00049371  "
      ]
     },
     "execution_count": 11,
     "metadata": {},
     "output_type": "execute_result"
    }
   ],
   "source": [
    "linker.query_sql(f\"\"\"\n",
    "    select * from {clusters[0].physical_name} limit 5\n",
    "\"\"\")\n",
    "linker.query_sql(f\"\"\"\n",
    "    select * from {clusters[1].physical_name} limit 5\n",
    "\"\"\")"
   ]
  },
  {
   "cell_type": "markdown",
   "id": "b19fddc1-3651-47d2-90ab-3cb7f0810a79",
   "metadata": {},
   "source": [
    "### Clustering fail diagnosis\n",
    "\n",
    "We're stepping through `linker.cluster_pairwise_predictions_at_threshold` to see what crashes the kernel. [Source](https://github.com/moj-analytical-services/splink/blob/56833b6fe6692de72530083f51dfdbad29c0fd33/splink/linker.py#L1953)."
   ]
  },
  {
   "cell_type": "code",
   "execution_count": null,
   "id": "69407d6a-9e0c-4ec8-88cf-991aaf0d2527",
   "metadata": {},
   "outputs": [],
   "source": [
    "# linker.cluster_pairwise_predictions_at_threshold(\n",
    "#     f\"'{pred_path.as_posix()}'\",\n",
    "#     threshold_match_probability=0.7,\n",
    "#     pairwise_formatting=True,\n",
    "#     filter_pairwise_format_for_clusters=False,\n",
    "# )"
   ]
  },
  {
   "cell_type": "code",
   "execution_count": 10,
   "id": "dc18a9ed-5f37-4a42-88de-4862c26b63d7",
   "metadata": {},
   "outputs": [],
   "source": [
    "concat_with_tf = linker._initialise_df_concat_with_tf(predictions)"
   ]
  },
  {
   "cell_type": "code",
   "execution_count": 11,
   "id": "1e79e678-8aed-4425-8fec-00ef067eb6f4",
   "metadata": {},
   "outputs": [],
   "source": [
    "edges_table = _cc_create_unique_id_cols(\n",
    "    linker,\n",
    "    concat_with_tf.physical_name,\n",
    "    predictions.physical_name,\n",
    "    0.7,\n",
    ")"
   ]
  },
  {
   "cell_type": "markdown",
   "id": "a5e2160f-4c92-4a6d-a2eb-deb0f3811fd4",
   "metadata": {},
   "source": [
    "Crashed in the connected components function. Let's break it down."
   ]
  },
  {
   "cell_type": "code",
   "execution_count": 12,
   "id": "66aa83f9-7d39-4eda-88f9-b3634335e9f7",
   "metadata": {},
   "outputs": [],
   "source": [
    "# cc = solve_connected_components(\n",
    "#     linker,\n",
    "#     edges_table,\n",
    "#     predictions,\n",
    "#     concat_with_tf,\n",
    "#     pairwise_output = True,\n",
    "#     filter_pairwise_format_for_clusters = False,\n",
    "# )"
   ]
  },
  {
   "cell_type": "markdown",
   "id": "f09da443-d7e8-4ec6-af84-efa1a2526912",
   "metadata": {},
   "source": [
    "This is within `solve_connected_components`."
   ]
  },
  {
   "cell_type": "code",
   "execution_count": 13,
   "id": "004e0579-5f26-46e9-aced-2c49f4ed56ca",
   "metadata": {},
   "outputs": [],
   "source": [
    "input_dfs = [edges_table]\n",
    "input_dfs.append(concat_with_tf)"
   ]
  },
  {
   "cell_type": "code",
   "execution_count": 14,
   "id": "9e31f4e8-8aa7-4ca3-a348-24e96efe325e",
   "metadata": {},
   "outputs": [],
   "source": [
    "# Create our initial node and neighbours tables\n",
    "sql = _cc_create_nodes_table(linker, False)\n",
    "linker._enqueue_sql(sql, \"nodes\")\n",
    "sql = _cc_generate_neighbours_representation()\n",
    "linker._enqueue_sql(sql, \"__splink__df_neighbours\")\n",
    "neighbours = linker._execute_sql_pipeline(input_dfs)"
   ]
  },
  {
   "cell_type": "code",
   "execution_count": 12,
   "id": "8f34bd92-2639-4634-bdb5-e8b5e3faa8dd",
   "metadata": {},
   "outputs": [],
   "source": [
    "# # Create our initial representatives table\n",
    "# sql = _cc_generate_initial_representatives_table()\n",
    "# linker._enqueue_sql(sql, \"representatives\")\n",
    "# sql = _cc_update_neighbours_first_iter()\n",
    "# linker._enqueue_sql(sql, \"neighbours_first_iter\")\n",
    "# sql = _cc_update_representatives_first_iter()\n",
    "# # Execute if we have no batching, otherwise add it to our batched process\n",
    "# linker._enqueue_sql(sql, \"__splink__df_representatives\")"
   ]
  },
  {
   "cell_type": "markdown",
   "id": "410795c3-6989-43f8-9ca8-ef7f4f829450",
   "metadata": {},
   "source": [
    "And here's our crash. Let's try running it sequentially, which I hope will work?"
   ]
  },
  {
   "cell_type": "code",
   "execution_count": null,
   "id": "7f9065c1-9c13-4651-a56a-1e5f42463e31",
   "metadata": {},
   "outputs": [],
   "source": [
    "# representatives = linker._execute_sql_pipeline([neighbours])"
   ]
  },
  {
   "cell_type": "markdown",
   "id": "f4256ee7-61b0-4524-b4d2-cf075742db38",
   "metadata": {},
   "source": [
    "Let's try."
   ]
  },
  {
   "cell_type": "code",
   "execution_count": 15,
   "id": "c8f1242e-5cd6-4e80-9864-afcbfed4bc78",
   "metadata": {},
   "outputs": [],
   "source": [
    "sql = _cc_generate_initial_representatives_table()\n",
    "linker._enqueue_sql(sql, \"representatives\")\n",
    "step_1 = linker._execute_sql_pipeline([neighbours])"
   ]
  },
  {
   "cell_type": "code",
   "execution_count": 21,
   "id": "392b3844-f610-4a8c-bd7e-c3d0bcdf0b90",
   "metadata": {},
   "outputs": [],
   "source": [
    "sql = _cc_update_neighbours_first_iter()\n",
    "linker._enqueue_sql(sql, \"neighbours_first_iter\")\n",
    "step_2 = linker._execute_sql_pipeline([step_1, neighbours])"
   ]
  },
  {
   "cell_type": "code",
   "execution_count": 24,
   "id": "9851c4d3-a736-4d23-a949-7c6f3d0e2177",
   "metadata": {},
   "outputs": [],
   "source": [
    "sql = _cc_update_representatives_first_iter()\n",
    "# Execute if we have no batching, otherwise add it to our batched process\n",
    "linker._enqueue_sql(sql, \"__splink__df_representatives\")\n",
    "representatives = linker._execute_sql_pipeline([step_2, step_1, neighbours])"
   ]
  },
  {
   "cell_type": "code",
   "execution_count": 34,
   "id": "47d4b8f0-4815-4a1a-b3c5-37d2e66d8a3e",
   "metadata": {},
   "outputs": [
    {
     "data": {
      "text/html": [
       "<div>\n",
       "<style scoped>\n",
       "    .dataframe tbody tr th:only-of-type {\n",
       "        vertical-align: middle;\n",
       "    }\n",
       "\n",
       "    .dataframe tbody tr th {\n",
       "        vertical-align: top;\n",
       "    }\n",
       "\n",
       "    .dataframe thead th {\n",
       "        text-align: right;\n",
       "    }\n",
       "</style>\n",
       "<table border=\"1\" class=\"dataframe\">\n",
       "  <thead>\n",
       "    <tr style=\"text-align: right;\">\n",
       "      <th></th>\n",
       "      <th>node_id</th>\n",
       "      <th>representative</th>\n",
       "      <th>rep_match</th>\n",
       "    </tr>\n",
       "  </thead>\n",
       "  <tbody>\n",
       "    <tr>\n",
       "      <th>0</th>\n",
       "      <td>companieshouse_companies-__-07258900</td>\n",
       "      <td>companieshouse_companies-__-07258900</td>\n",
       "      <td>False</td>\n",
       "    </tr>\n",
       "    <tr>\n",
       "      <th>1</th>\n",
       "      <td>companieshouse_companies-__-07259140</td>\n",
       "      <td>companieshouse_companies-__-07259140</td>\n",
       "      <td>False</td>\n",
       "    </tr>\n",
       "    <tr>\n",
       "      <th>2</th>\n",
       "      <td>companieshouse_companies-__-07252840</td>\n",
       "      <td>companieshouse_companies-__-07252840</td>\n",
       "      <td>False</td>\n",
       "    </tr>\n",
       "    <tr>\n",
       "      <th>3</th>\n",
       "      <td>companieshouse_companies-__-07253048</td>\n",
       "      <td>companieshouse_companies-__-07253048</td>\n",
       "      <td>False</td>\n",
       "    </tr>\n",
       "    <tr>\n",
       "      <th>4</th>\n",
       "      <td>companieshouse_companies-__-07258011</td>\n",
       "      <td>companieshouse_companies-__-07258011</td>\n",
       "      <td>False</td>\n",
       "    </tr>\n",
       "  </tbody>\n",
       "</table>\n",
       "</div>"
      ],
      "text/plain": [
       "                                node_id                        representative  \\\n",
       "0  companieshouse_companies-__-07258900  companieshouse_companies-__-07258900   \n",
       "1  companieshouse_companies-__-07259140  companieshouse_companies-__-07259140   \n",
       "2  companieshouse_companies-__-07252840  companieshouse_companies-__-07252840   \n",
       "3  companieshouse_companies-__-07253048  companieshouse_companies-__-07253048   \n",
       "4  companieshouse_companies-__-07258011  companieshouse_companies-__-07258011   \n",
       "\n",
       "   rep_match  \n",
       "0      False  \n",
       "1      False  \n",
       "2      False  \n",
       "3      False  \n",
       "4      False  "
      ]
     },
     "execution_count": 34,
     "metadata": {},
     "output_type": "execute_result"
    }
   ],
   "source": [
    "linker.query_sql(f\"\"\"\n",
    "    select * from {representatives.physical_name} limit 5\n",
    "\"\"\")"
   ]
  },
  {
   "cell_type": "code",
   "execution_count": null,
   "id": "1bced313-716e-42bb-b046-9a1f12d05488",
   "metadata": {},
   "outputs": [],
   "source": [
    "sql = _cc_generate_initial_representatives_table()\n",
    "linker._enqueue_sql(sql, \"representatives\")\n",
    "sql = _cc_update_neighbours_first_iter()\n",
    "linker._enqueue_sql(sql, \"neighbours_first_iter\")\n",
    "step_2 = linker._execute_sql_pipeline([step_1, neighbours])"
   ]
  },
  {
   "cell_type": "code",
   "execution_count": 31,
   "id": "08b17a84-ef2e-4de4-8e2b-9cfb7f895337",
   "metadata": {},
   "outputs": [],
   "source": [
    "prev_representatives_table = representatives"
   ]
  },
  {
   "cell_type": "code",
   "execution_count": 35,
   "id": "0eeef805-a092-49d5-81d2-442a68b83fc5",
   "metadata": {},
   "outputs": [
    {
     "ename": "AttributeError",
     "evalue": "'DuckDBLinkerDataFrame' object has no attribute 'drop_table_from_database_and_remove_from_cache'",
     "output_type": "error",
     "traceback": [
      "\u001b[0;31m---------------------------------------------------------------------------\u001b[0m",
      "\u001b[0;31mAttributeError\u001b[0m                            Traceback (most recent call last)",
      "Cell \u001b[0;32mIn[35], line 1\u001b[0m\n\u001b[0;32m----> 1\u001b[0m \u001b[43mrepresentatives\u001b[49m\u001b[38;5;241;43m.\u001b[39;49m\u001b[43mdrop_table_from_database_and_remove_from_cache\u001b[49m()\n",
      "\u001b[0;31mAttributeError\u001b[0m: 'DuckDBLinkerDataFrame' object has no attribute 'drop_table_from_database_and_remove_from_cache'"
     ]
    }
   ],
   "source": [
    "representatives.drop_table_from_database_and_remove_from_cache()"
   ]
  },
  {
   "cell_type": "code",
   "execution_count": 32,
   "id": "558f5d0c-7e3c-4b94-b833-da2ec41cf91d",
   "metadata": {},
   "outputs": [
    {
     "ename": "AttributeError",
     "evalue": "'DuckDBLinkerDataFrame' object has no attribute 'drop_table_from_database_and_remove_from_cache'",
     "output_type": "error",
     "traceback": [
      "\u001b[0;31m---------------------------------------------------------------------------\u001b[0m",
      "\u001b[0;31mAttributeError\u001b[0m                            Traceback (most recent call last)",
      "Cell \u001b[0;32mIn[32], line 1\u001b[0m\n\u001b[0;32m----> 1\u001b[0m \u001b[43mprev_representatives_table\u001b[49m\u001b[38;5;241;43m.\u001b[39;49m\u001b[43mdrop_table_from_database_and_remove_from_cache\u001b[49m()\n",
      "\u001b[0;31mAttributeError\u001b[0m: 'DuckDBLinkerDataFrame' object has no attribute 'drop_table_from_database_and_remove_from_cache'"
     ]
    }
   ],
   "source": [
    "prev_representatives_table.drop_table_from_database_and_remove_from_cache()"
   ]
  },
  {
   "cell_type": "code",
   "execution_count": 28,
   "id": "0b4da6f9-7d8b-4b28-ac54-fd62ec30dc6e",
   "metadata": {},
   "outputs": [
    {
     "ename": "AttributeError",
     "evalue": "'DuckDBLinkerDataFrame' object has no attribute 'drop_table_from_database_and_remove_from_cache'",
     "output_type": "error",
     "traceback": [
      "\u001b[0;31m---------------------------------------------------------------------------\u001b[0m",
      "\u001b[0;31mAttributeError\u001b[0m                            Traceback (most recent call last)",
      "Cell \u001b[0;32mIn[28], line 34\u001b[0m\n\u001b[1;32m     32\u001b[0m representatives \u001b[38;5;241m=\u001b[39m linker\u001b[38;5;241m.\u001b[39m_execute_sql_pipeline([neighbours])\n\u001b[1;32m     33\u001b[0m \u001b[38;5;66;03m# Update table reference\u001b[39;00m\n\u001b[0;32m---> 34\u001b[0m \u001b[43mprev_representatives_table\u001b[49m\u001b[38;5;241;43m.\u001b[39;49m\u001b[43mdrop_table_from_database_and_remove_from_cache\u001b[49m()\n\u001b[1;32m     35\u001b[0m prev_representatives_table \u001b[38;5;241m=\u001b[39m representatives\n\u001b[1;32m     37\u001b[0m \u001b[38;5;66;03m# Check if our exit condition has been met...\u001b[39;00m\n",
      "\u001b[0;31mAttributeError\u001b[0m: 'DuckDBLinkerDataFrame' object has no attribute 'drop_table_from_database_and_remove_from_cache'"
     ]
    }
   ],
   "source": [
    "# Loop while our representative table still has unsettled nodes\n",
    "iteration, root_rows = 0, 1\n",
    "while root_rows > 0:\n",
    "    start_time = time.time()\n",
    "    iteration += 1\n",
    "\n",
    "    # Loop summary:\n",
    "\n",
    "    # 1. Update our neighbours table.\n",
    "    # 2. Join on the representatives table from the previous iteration\n",
    "    #    to create the \"rep_match\" column.\n",
    "    # 3. Assess if our exit condition has been met.\n",
    "\n",
    "    # Generates our representatives table for the next iteration\n",
    "    # by joining our previous tables onto our neighbours table.\n",
    "    sql = _cc_generate_representatives_loop_cond(\n",
    "        prev_representatives_table.physical_name,\n",
    "    )\n",
    "    linker._enqueue_sql(sql, \"r\")\n",
    "    # Update our rep_match column in the representatives table.\n",
    "    sql = _cc_update_representatives_loop_cond(\n",
    "        prev_representatives_table.physical_name\n",
    "    )\n",
    "\n",
    "    repr_name = f\"__splink__df_representatives_{iteration}\"\n",
    "\n",
    "    representatives = linker._enqueue_sql(\n",
    "        sql,\n",
    "        repr_name,\n",
    "    )\n",
    "\n",
    "    representatives = linker._execute_sql_pipeline([neighbours])\n",
    "    # Update table reference\n",
    "    prev_representatives_table.drop_table_from_database_and_remove_from_cache()\n",
    "    prev_representatives_table = representatives\n",
    "\n",
    "    # Check if our exit condition has been met...\n",
    "    sql = _cc_assess_exit_condition(representatives.physical_name)\n",
    "\n",
    "    linker._enqueue_sql(sql, \"__splink__df_root_rows\")\n",
    "\n",
    "    root_rows_df = linker._execute_sql_pipeline(use_cache=False)\n",
    "\n",
    "    root_rows = root_rows_df.as_record_dict()\n",
    "    root_rows_df.drop_table_from_database_and_remove_from_cache()\n",
    "    root_rows = root_rows[0][\"count\"]\n",
    "    logger.info(f\"Completed iteration {iteration}, root rows count {root_rows}\")\n",
    "    end_time = time.time()\n",
    "    logger.log(15, f\"    Iteration time: {end_time - start_time} seconds\")"
   ]
  },
  {
   "cell_type": "code",
   "execution_count": 29,
   "id": "35b08e73-5f4e-4a01-a385-5ffeda540a5d",
   "metadata": {},
   "outputs": [
    {
     "ename": "AttributeError",
     "evalue": "'DuckDBLinker' object has no attribute 'drop_table_from_database_and_remove_from_cache'",
     "output_type": "error",
     "traceback": [
      "\u001b[0;31m---------------------------------------------------------------------------\u001b[0m",
      "\u001b[0;31mAttributeError\u001b[0m                            Traceback (most recent call last)",
      "Cell \u001b[0;32mIn[29], line 1\u001b[0m\n\u001b[0;32m----> 1\u001b[0m \u001b[43mlinker\u001b[49m\u001b[38;5;241;43m.\u001b[39;49m\u001b[43mdrop_table_from_database_and_remove_from_cache\u001b[49m\n",
      "\u001b[0;31mAttributeError\u001b[0m: 'DuckDBLinker' object has no attribute 'drop_table_from_database_and_remove_from_cache'"
     ]
    }
   ],
   "source": [
    "linker.drop_table_from_database_and_remove_from_cache"
   ]
  },
  {
   "cell_type": "markdown",
   "id": "07c8fa16-ddfd-49b8-bdb8-911dfe5172a1",
   "metadata": {},
   "source": [
    "### Postgres fails"
   ]
  },
  {
   "cell_type": "code",
   "execution_count": 6,
   "id": "63b4529c-e616-46e2-9a9c-892a0089f87f",
   "metadata": {},
   "outputs": [],
   "source": [
    "pg_con = du.sql_engine.connect()"
   ]
  },
  {
   "cell_type": "code",
   "execution_count": 15,
   "id": "39c550f7-fc2b-4624-9507-91ef0ec93a17",
   "metadata": {},
   "outputs": [
    {
     "name": "stderr",
     "output_type": "stream",
     "text": [
      "/opt/conda/envs/company_matching/lib/python3.9/site-packages/splink/postgres/linker.py:135: RemovedIn20Warning: Deprecated API features detected! These feature(s) are not compatible with SQLAlchemy 2.0. To prevent incompatible upgrades prior to updating applications, ensure requirements files are pinned to \"sqlalchemy<2.0\". Set environment variable SQLALCHEMY_WARN_20=1 to show all deprecation warnings.  Set environment variable SQLALCHEMY_SILENCE_UBER_WARNING=1 to silence this message. (Background on SQLAlchemy 2.0 at: https://sqlalche.me/e/b8d9)\n",
      "  res = con.execute(text(final_sql))\n"
     ]
    },
    {
     "ename": "ProgrammingError",
     "evalue": "(psycopg2.errors.InvalidFunctionDefinition) return type mismatch in function declared to return double precision\nDETAIL:  Actual return type is numeric.\nCONTEXT:  SQL function \"ave_months_between\"\n\n[SQL: \n        CREATE OR REPLACE FUNCTION ave_months_between(x date, y date)\n        RETURNS float8 AS $$\n        SELECT datediff(x, y)/30.4375;\n        $$ LANGUAGE SQL IMMUTABLE;\n        ]\n(Background on this error at: https://sqlalche.me/e/14/f405)",
     "output_type": "error",
     "traceback": [
      "\u001b[0;31m---------------------------------------------------------------------------\u001b[0m",
      "\u001b[0;31mInvalidFunctionDefinition\u001b[0m                 Traceback (most recent call last)",
      "File \u001b[0;32m/opt/conda/envs/company_matching/lib/python3.9/site-packages/sqlalchemy/engine/base.py:1905\u001b[0m, in \u001b[0;36mConnection._execute_context\u001b[0;34m(self, dialect, constructor, statement, parameters, execution_options, *args, **kw)\u001b[0m\n\u001b[1;32m   1904\u001b[0m     \u001b[38;5;28;01mif\u001b[39;00m \u001b[38;5;129;01mnot\u001b[39;00m evt_handled:\n\u001b[0;32m-> 1905\u001b[0m         \u001b[38;5;28;43mself\u001b[39;49m\u001b[38;5;241;43m.\u001b[39;49m\u001b[43mdialect\u001b[49m\u001b[38;5;241;43m.\u001b[39;49m\u001b[43mdo_execute\u001b[49m\u001b[43m(\u001b[49m\n\u001b[1;32m   1906\u001b[0m \u001b[43m            \u001b[49m\u001b[43mcursor\u001b[49m\u001b[43m,\u001b[49m\u001b[43m \u001b[49m\u001b[43mstatement\u001b[49m\u001b[43m,\u001b[49m\u001b[43m \u001b[49m\u001b[43mparameters\u001b[49m\u001b[43m,\u001b[49m\u001b[43m \u001b[49m\u001b[43mcontext\u001b[49m\n\u001b[1;32m   1907\u001b[0m \u001b[43m        \u001b[49m\u001b[43m)\u001b[49m\n\u001b[1;32m   1909\u001b[0m \u001b[38;5;28;01mif\u001b[39;00m \u001b[38;5;28mself\u001b[39m\u001b[38;5;241m.\u001b[39m_has_events \u001b[38;5;129;01mor\u001b[39;00m \u001b[38;5;28mself\u001b[39m\u001b[38;5;241m.\u001b[39mengine\u001b[38;5;241m.\u001b[39m_has_events:\n",
      "File \u001b[0;32m/opt/conda/envs/company_matching/lib/python3.9/site-packages/sqlalchemy/engine/default.py:736\u001b[0m, in \u001b[0;36mDefaultDialect.do_execute\u001b[0;34m(self, cursor, statement, parameters, context)\u001b[0m\n\u001b[1;32m    735\u001b[0m \u001b[38;5;28;01mdef\u001b[39;00m \u001b[38;5;21mdo_execute\u001b[39m(\u001b[38;5;28mself\u001b[39m, cursor, statement, parameters, context\u001b[38;5;241m=\u001b[39m\u001b[38;5;28;01mNone\u001b[39;00m):\n\u001b[0;32m--> 736\u001b[0m     \u001b[43mcursor\u001b[49m\u001b[38;5;241;43m.\u001b[39;49m\u001b[43mexecute\u001b[49m\u001b[43m(\u001b[49m\u001b[43mstatement\u001b[49m\u001b[43m,\u001b[49m\u001b[43m \u001b[49m\u001b[43mparameters\u001b[49m\u001b[43m)\u001b[49m\n",
      "\u001b[0;31mInvalidFunctionDefinition\u001b[0m: return type mismatch in function declared to return double precision\nDETAIL:  Actual return type is numeric.\nCONTEXT:  SQL function \"ave_months_between\"\n",
      "\nThe above exception was the direct cause of the following exception:\n",
      "\u001b[0;31mProgrammingError\u001b[0m                          Traceback (most recent call last)",
      "Cell \u001b[0;32mIn[15], line 1\u001b[0m\n\u001b[0;32m----> 1\u001b[0m pg_linker \u001b[38;5;241m=\u001b[39m \u001b[43mPostgresLinker\u001b[49m\u001b[43m(\u001b[49m\n\u001b[1;32m      2\u001b[0m \u001b[43m    \u001b[49m\u001b[43minput_table_or_tables\u001b[49m\u001b[38;5;241;43m=\u001b[39;49m\u001b[43mdu\u001b[49m\u001b[38;5;241;43m.\u001b[39;49m\u001b[43mgenerate_dummy_df\u001b[49m\u001b[43m(\u001b[49m\u001b[43m)\u001b[49m\u001b[43m,\u001b[49m\n\u001b[1;32m      3\u001b[0m \u001b[43m    \u001b[49m\u001b[43mengine\u001b[49m\u001b[38;5;241;43m=\u001b[39;49m\u001b[43mdu\u001b[49m\u001b[38;5;241;43m.\u001b[39;49m\u001b[43msql_engine\u001b[49m\u001b[43m,\u001b[49m\n\u001b[1;32m      4\u001b[0m \u001b[43m)\u001b[49m\n\u001b[1;32m      5\u001b[0m pg_linker\u001b[38;5;241m.\u001b[39mload_model(json_settings)\n",
      "File \u001b[0;32m/opt/conda/envs/company_matching/lib/python3.9/site-packages/splink/postgres/linker.py:104\u001b[0m, in \u001b[0;36mPostgresLinker.__init__\u001b[0;34m(self, input_table_or_tables, settings_dict, engine, set_up_basic_logging, input_table_aliases, schema)\u001b[0m\n\u001b[1;32m    101\u001b[0m \u001b[38;5;28mself\u001b[39m\u001b[38;5;241m.\u001b[39m_db_schema \u001b[38;5;241m=\u001b[39m schema\n\u001b[1;32m    103\u001b[0m \u001b[38;5;66;03m# Create custom SQL functions in database\u001b[39;00m\n\u001b[0;32m--> 104\u001b[0m \u001b[38;5;28;43mself\u001b[39;49m\u001b[38;5;241;43m.\u001b[39;49m\u001b[43m_register_custom_functions\u001b[49m\u001b[43m(\u001b[49m\u001b[43m)\u001b[49m\n\u001b[1;32m    105\u001b[0m \u001b[38;5;28mself\u001b[39m\u001b[38;5;241m.\u001b[39m_register_extensions()\n\u001b[1;32m    107\u001b[0m \u001b[38;5;66;03m# Create splink schema\u001b[39;00m\n",
      "File \u001b[0;32m/opt/conda/envs/company_matching/lib/python3.9/site-packages/splink/postgres/linker.py:285\u001b[0m, in \u001b[0;36mPostgresLinker._register_custom_functions\u001b[0;34m(self)\u001b[0m\n\u001b[1;32m    283\u001b[0m \u001b[38;5;66;03m# need for datediff levels\u001b[39;00m\n\u001b[1;32m    284\u001b[0m \u001b[38;5;28mself\u001b[39m\u001b[38;5;241m.\u001b[39m_create_datediff_function()\n\u001b[0;32m--> 285\u001b[0m \u001b[38;5;28;43mself\u001b[39;49m\u001b[38;5;241;43m.\u001b[39;49m\u001b[43m_create_months_between_function\u001b[49m\u001b[43m(\u001b[49m\u001b[43m)\u001b[49m\n\u001b[1;32m    286\u001b[0m \u001b[38;5;66;03m# need for array_intersect levels\u001b[39;00m\n\u001b[1;32m    287\u001b[0m \u001b[38;5;28mself\u001b[39m\u001b[38;5;241m.\u001b[39m_create_array_intersect_function()\n",
      "File \u001b[0;32m/opt/conda/envs/company_matching/lib/python3.9/site-packages/splink/postgres/linker.py:257\u001b[0m, in \u001b[0;36mPostgresLinker._create_months_between_function\u001b[0;34m(self)\u001b[0m\n\u001b[1;32m    250\u001b[0m ave_length_month \u001b[38;5;241m=\u001b[39m \u001b[38;5;241m365.25\u001b[39m \u001b[38;5;241m/\u001b[39m \u001b[38;5;241m12\u001b[39m\n\u001b[1;32m    251\u001b[0m sql \u001b[38;5;241m=\u001b[39m \u001b[38;5;124mf\u001b[39m\u001b[38;5;124m\"\"\"\u001b[39m\n\u001b[1;32m    252\u001b[0m \u001b[38;5;124mCREATE OR REPLACE FUNCTION ave_months_between(x date, y date)\u001b[39m\n\u001b[1;32m    253\u001b[0m \u001b[38;5;124mRETURNS float8 AS $$\u001b[39m\n\u001b[1;32m    254\u001b[0m \u001b[38;5;124mSELECT datediff(x, y)/\u001b[39m\u001b[38;5;132;01m{\u001b[39;00mave_length_month\u001b[38;5;132;01m}\u001b[39;00m\u001b[38;5;124m;\u001b[39m\n\u001b[1;32m    255\u001b[0m \u001b[38;5;124m$$ LANGUAGE SQL IMMUTABLE;\u001b[39m\n\u001b[1;32m    256\u001b[0m \u001b[38;5;124m\u001b[39m\u001b[38;5;124m\"\"\"\u001b[39m\n\u001b[0;32m--> 257\u001b[0m \u001b[38;5;28;43mself\u001b[39;49m\u001b[38;5;241;43m.\u001b[39;49m\u001b[43m_run_sql_execution\u001b[49m\u001b[43m(\u001b[49m\u001b[43msql\u001b[49m\u001b[43m)\u001b[49m\n\u001b[1;32m    259\u001b[0m sql_cast \u001b[38;5;241m=\u001b[39m \u001b[38;5;124m\"\"\"\u001b[39m\n\u001b[1;32m    260\u001b[0m \u001b[38;5;124mCREATE OR REPLACE FUNCTION ave_months_between(\u001b[39m\n\u001b[1;32m    261\u001b[0m \u001b[38;5;124m    x \u001b[39m\u001b[38;5;132;01m{dateish_type}\u001b[39;00m\u001b[38;5;124m, y \u001b[39m\u001b[38;5;132;01m{dateish_type}\u001b[39;00m\n\u001b[0;32m   (...)\u001b[0m\n\u001b[1;32m    265\u001b[0m \u001b[38;5;124m$$ LANGUAGE SQL IMMUTABLE;\u001b[39m\n\u001b[1;32m    266\u001b[0m \u001b[38;5;124m\u001b[39m\u001b[38;5;124m\"\"\"\u001b[39m\n\u001b[1;32m    267\u001b[0m \u001b[38;5;28;01mfor\u001b[39;00m dateish_type \u001b[38;5;129;01min\u001b[39;00m (\u001b[38;5;124m\"\u001b[39m\u001b[38;5;124mtimestamp\u001b[39m\u001b[38;5;124m\"\u001b[39m, \u001b[38;5;124m\"\u001b[39m\u001b[38;5;124mtimestamp with time zone\u001b[39m\u001b[38;5;124m\"\u001b[39m):\n",
      "File \u001b[0;32m/opt/conda/envs/company_matching/lib/python3.9/site-packages/splink/postgres/linker.py:135\u001b[0m, in \u001b[0;36mPostgresLinker._run_sql_execution\u001b[0;34m(self, final_sql, templated_name, physical_name)\u001b[0m\n\u001b[1;32m    131\u001b[0m \u001b[38;5;28;01mdef\u001b[39;00m \u001b[38;5;21m_run_sql_execution\u001b[39m(\n\u001b[1;32m    132\u001b[0m     \u001b[38;5;28mself\u001b[39m, final_sql: \u001b[38;5;28mstr\u001b[39m, templated_name: \u001b[38;5;28mstr\u001b[39m \u001b[38;5;241m=\u001b[39m \u001b[38;5;28;01mNone\u001b[39;00m, physical_name: \u001b[38;5;28mstr\u001b[39m \u001b[38;5;241m=\u001b[39m \u001b[38;5;28;01mNone\u001b[39;00m\n\u001b[1;32m    133\u001b[0m ):\n\u001b[1;32m    134\u001b[0m     \u001b[38;5;28;01mwith\u001b[39;00m \u001b[38;5;28mself\u001b[39m\u001b[38;5;241m.\u001b[39m_engine\u001b[38;5;241m.\u001b[39mconnect() \u001b[38;5;28;01mas\u001b[39;00m con:\n\u001b[0;32m--> 135\u001b[0m         res \u001b[38;5;241m=\u001b[39m \u001b[43mcon\u001b[49m\u001b[38;5;241;43m.\u001b[39;49m\u001b[43mexecute\u001b[49m\u001b[43m(\u001b[49m\u001b[43mtext\u001b[49m\u001b[43m(\u001b[49m\u001b[43mfinal_sql\u001b[49m\u001b[43m)\u001b[49m\u001b[43m)\u001b[49m\n\u001b[1;32m    136\u001b[0m     \u001b[38;5;28;01mreturn\u001b[39;00m res\n",
      "File \u001b[0;32m/opt/conda/envs/company_matching/lib/python3.9/site-packages/sqlalchemy/engine/base.py:1385\u001b[0m, in \u001b[0;36mConnection.execute\u001b[0;34m(self, statement, *multiparams, **params)\u001b[0m\n\u001b[1;32m   1381\u001b[0m     util\u001b[38;5;241m.\u001b[39mraise_(\n\u001b[1;32m   1382\u001b[0m         exc\u001b[38;5;241m.\u001b[39mObjectNotExecutableError(statement), replace_context\u001b[38;5;241m=\u001b[39merr\n\u001b[1;32m   1383\u001b[0m     )\n\u001b[1;32m   1384\u001b[0m \u001b[38;5;28;01melse\u001b[39;00m:\n\u001b[0;32m-> 1385\u001b[0m     \u001b[38;5;28;01mreturn\u001b[39;00m \u001b[43mmeth\u001b[49m\u001b[43m(\u001b[49m\u001b[38;5;28;43mself\u001b[39;49m\u001b[43m,\u001b[49m\u001b[43m \u001b[49m\u001b[43mmultiparams\u001b[49m\u001b[43m,\u001b[49m\u001b[43m \u001b[49m\u001b[43mparams\u001b[49m\u001b[43m,\u001b[49m\u001b[43m \u001b[49m\u001b[43m_EMPTY_EXECUTION_OPTS\u001b[49m\u001b[43m)\u001b[49m\n",
      "File \u001b[0;32m/opt/conda/envs/company_matching/lib/python3.9/site-packages/sqlalchemy/sql/elements.py:334\u001b[0m, in \u001b[0;36mClauseElement._execute_on_connection\u001b[0;34m(self, connection, multiparams, params, execution_options, _force)\u001b[0m\n\u001b[1;32m    330\u001b[0m \u001b[38;5;28;01mdef\u001b[39;00m \u001b[38;5;21m_execute_on_connection\u001b[39m(\n\u001b[1;32m    331\u001b[0m     \u001b[38;5;28mself\u001b[39m, connection, multiparams, params, execution_options, _force\u001b[38;5;241m=\u001b[39m\u001b[38;5;28;01mFalse\u001b[39;00m\n\u001b[1;32m    332\u001b[0m ):\n\u001b[1;32m    333\u001b[0m     \u001b[38;5;28;01mif\u001b[39;00m _force \u001b[38;5;129;01mor\u001b[39;00m \u001b[38;5;28mself\u001b[39m\u001b[38;5;241m.\u001b[39msupports_execution:\n\u001b[0;32m--> 334\u001b[0m         \u001b[38;5;28;01mreturn\u001b[39;00m \u001b[43mconnection\u001b[49m\u001b[38;5;241;43m.\u001b[39;49m\u001b[43m_execute_clauseelement\u001b[49m\u001b[43m(\u001b[49m\n\u001b[1;32m    335\u001b[0m \u001b[43m            \u001b[49m\u001b[38;5;28;43mself\u001b[39;49m\u001b[43m,\u001b[49m\u001b[43m \u001b[49m\u001b[43mmultiparams\u001b[49m\u001b[43m,\u001b[49m\u001b[43m \u001b[49m\u001b[43mparams\u001b[49m\u001b[43m,\u001b[49m\u001b[43m \u001b[49m\u001b[43mexecution_options\u001b[49m\n\u001b[1;32m    336\u001b[0m \u001b[43m        \u001b[49m\u001b[43m)\u001b[49m\n\u001b[1;32m    337\u001b[0m     \u001b[38;5;28;01melse\u001b[39;00m:\n\u001b[1;32m    338\u001b[0m         \u001b[38;5;28;01mraise\u001b[39;00m exc\u001b[38;5;241m.\u001b[39mObjectNotExecutableError(\u001b[38;5;28mself\u001b[39m)\n",
      "File \u001b[0;32m/opt/conda/envs/company_matching/lib/python3.9/site-packages/sqlalchemy/engine/base.py:1577\u001b[0m, in \u001b[0;36mConnection._execute_clauseelement\u001b[0;34m(self, elem, multiparams, params, execution_options)\u001b[0m\n\u001b[1;32m   1565\u001b[0m compiled_cache \u001b[38;5;241m=\u001b[39m execution_options\u001b[38;5;241m.\u001b[39mget(\n\u001b[1;32m   1566\u001b[0m     \u001b[38;5;124m\"\u001b[39m\u001b[38;5;124mcompiled_cache\u001b[39m\u001b[38;5;124m\"\u001b[39m, \u001b[38;5;28mself\u001b[39m\u001b[38;5;241m.\u001b[39mengine\u001b[38;5;241m.\u001b[39m_compiled_cache\n\u001b[1;32m   1567\u001b[0m )\n\u001b[1;32m   1569\u001b[0m compiled_sql, extracted_params, cache_hit \u001b[38;5;241m=\u001b[39m elem\u001b[38;5;241m.\u001b[39m_compile_w_cache(\n\u001b[1;32m   1570\u001b[0m     dialect\u001b[38;5;241m=\u001b[39mdialect,\n\u001b[1;32m   1571\u001b[0m     compiled_cache\u001b[38;5;241m=\u001b[39mcompiled_cache,\n\u001b[0;32m   (...)\u001b[0m\n\u001b[1;32m   1575\u001b[0m     linting\u001b[38;5;241m=\u001b[39m\u001b[38;5;28mself\u001b[39m\u001b[38;5;241m.\u001b[39mdialect\u001b[38;5;241m.\u001b[39mcompiler_linting \u001b[38;5;241m|\u001b[39m compiler\u001b[38;5;241m.\u001b[39mWARN_LINTING,\n\u001b[1;32m   1576\u001b[0m )\n\u001b[0;32m-> 1577\u001b[0m ret \u001b[38;5;241m=\u001b[39m \u001b[38;5;28;43mself\u001b[39;49m\u001b[38;5;241;43m.\u001b[39;49m\u001b[43m_execute_context\u001b[49m\u001b[43m(\u001b[49m\n\u001b[1;32m   1578\u001b[0m \u001b[43m    \u001b[49m\u001b[43mdialect\u001b[49m\u001b[43m,\u001b[49m\n\u001b[1;32m   1579\u001b[0m \u001b[43m    \u001b[49m\u001b[43mdialect\u001b[49m\u001b[38;5;241;43m.\u001b[39;49m\u001b[43mexecution_ctx_cls\u001b[49m\u001b[38;5;241;43m.\u001b[39;49m\u001b[43m_init_compiled\u001b[49m\u001b[43m,\u001b[49m\n\u001b[1;32m   1580\u001b[0m \u001b[43m    \u001b[49m\u001b[43mcompiled_sql\u001b[49m\u001b[43m,\u001b[49m\n\u001b[1;32m   1581\u001b[0m \u001b[43m    \u001b[49m\u001b[43mdistilled_params\u001b[49m\u001b[43m,\u001b[49m\n\u001b[1;32m   1582\u001b[0m \u001b[43m    \u001b[49m\u001b[43mexecution_options\u001b[49m\u001b[43m,\u001b[49m\n\u001b[1;32m   1583\u001b[0m \u001b[43m    \u001b[49m\u001b[43mcompiled_sql\u001b[49m\u001b[43m,\u001b[49m\n\u001b[1;32m   1584\u001b[0m \u001b[43m    \u001b[49m\u001b[43mdistilled_params\u001b[49m\u001b[43m,\u001b[49m\n\u001b[1;32m   1585\u001b[0m \u001b[43m    \u001b[49m\u001b[43melem\u001b[49m\u001b[43m,\u001b[49m\n\u001b[1;32m   1586\u001b[0m \u001b[43m    \u001b[49m\u001b[43mextracted_params\u001b[49m\u001b[43m,\u001b[49m\n\u001b[1;32m   1587\u001b[0m \u001b[43m    \u001b[49m\u001b[43mcache_hit\u001b[49m\u001b[38;5;241;43m=\u001b[39;49m\u001b[43mcache_hit\u001b[49m\u001b[43m,\u001b[49m\n\u001b[1;32m   1588\u001b[0m \u001b[43m\u001b[49m\u001b[43m)\u001b[49m\n\u001b[1;32m   1589\u001b[0m \u001b[38;5;28;01mif\u001b[39;00m has_events:\n\u001b[1;32m   1590\u001b[0m     \u001b[38;5;28mself\u001b[39m\u001b[38;5;241m.\u001b[39mdispatch\u001b[38;5;241m.\u001b[39mafter_execute(\n\u001b[1;32m   1591\u001b[0m         \u001b[38;5;28mself\u001b[39m,\n\u001b[1;32m   1592\u001b[0m         elem,\n\u001b[0;32m   (...)\u001b[0m\n\u001b[1;32m   1596\u001b[0m         ret,\n\u001b[1;32m   1597\u001b[0m     )\n",
      "File \u001b[0;32m/opt/conda/envs/company_matching/lib/python3.9/site-packages/sqlalchemy/engine/base.py:1948\u001b[0m, in \u001b[0;36mConnection._execute_context\u001b[0;34m(self, dialect, constructor, statement, parameters, execution_options, *args, **kw)\u001b[0m\n\u001b[1;32m   1945\u001b[0m             branched\u001b[38;5;241m.\u001b[39mclose()\n\u001b[1;32m   1947\u001b[0m \u001b[38;5;28;01mexcept\u001b[39;00m \u001b[38;5;167;01mBaseException\u001b[39;00m \u001b[38;5;28;01mas\u001b[39;00m e:\n\u001b[0;32m-> 1948\u001b[0m     \u001b[38;5;28;43mself\u001b[39;49m\u001b[38;5;241;43m.\u001b[39;49m\u001b[43m_handle_dbapi_exception\u001b[49m\u001b[43m(\u001b[49m\n\u001b[1;32m   1949\u001b[0m \u001b[43m        \u001b[49m\u001b[43me\u001b[49m\u001b[43m,\u001b[49m\u001b[43m \u001b[49m\u001b[43mstatement\u001b[49m\u001b[43m,\u001b[49m\u001b[43m \u001b[49m\u001b[43mparameters\u001b[49m\u001b[43m,\u001b[49m\u001b[43m \u001b[49m\u001b[43mcursor\u001b[49m\u001b[43m,\u001b[49m\u001b[43m \u001b[49m\u001b[43mcontext\u001b[49m\n\u001b[1;32m   1950\u001b[0m \u001b[43m    \u001b[49m\u001b[43m)\u001b[49m\n\u001b[1;32m   1952\u001b[0m \u001b[38;5;28;01mreturn\u001b[39;00m result\n",
      "File \u001b[0;32m/opt/conda/envs/company_matching/lib/python3.9/site-packages/sqlalchemy/engine/base.py:2129\u001b[0m, in \u001b[0;36mConnection._handle_dbapi_exception\u001b[0;34m(self, e, statement, parameters, cursor, context)\u001b[0m\n\u001b[1;32m   2127\u001b[0m     util\u001b[38;5;241m.\u001b[39mraise_(newraise, with_traceback\u001b[38;5;241m=\u001b[39mexc_info[\u001b[38;5;241m2\u001b[39m], from_\u001b[38;5;241m=\u001b[39me)\n\u001b[1;32m   2128\u001b[0m \u001b[38;5;28;01melif\u001b[39;00m should_wrap:\n\u001b[0;32m-> 2129\u001b[0m     \u001b[43mutil\u001b[49m\u001b[38;5;241;43m.\u001b[39;49m\u001b[43mraise_\u001b[49m\u001b[43m(\u001b[49m\n\u001b[1;32m   2130\u001b[0m \u001b[43m        \u001b[49m\u001b[43msqlalchemy_exception\u001b[49m\u001b[43m,\u001b[49m\u001b[43m \u001b[49m\u001b[43mwith_traceback\u001b[49m\u001b[38;5;241;43m=\u001b[39;49m\u001b[43mexc_info\u001b[49m\u001b[43m[\u001b[49m\u001b[38;5;241;43m2\u001b[39;49m\u001b[43m]\u001b[49m\u001b[43m,\u001b[49m\u001b[43m \u001b[49m\u001b[43mfrom_\u001b[49m\u001b[38;5;241;43m=\u001b[39;49m\u001b[43me\u001b[49m\n\u001b[1;32m   2131\u001b[0m \u001b[43m    \u001b[49m\u001b[43m)\u001b[49m\n\u001b[1;32m   2132\u001b[0m \u001b[38;5;28;01melse\u001b[39;00m:\n\u001b[1;32m   2133\u001b[0m     util\u001b[38;5;241m.\u001b[39mraise_(exc_info[\u001b[38;5;241m1\u001b[39m], with_traceback\u001b[38;5;241m=\u001b[39mexc_info[\u001b[38;5;241m2\u001b[39m])\n",
      "File \u001b[0;32m/opt/conda/envs/company_matching/lib/python3.9/site-packages/sqlalchemy/util/compat.py:211\u001b[0m, in \u001b[0;36mraise_\u001b[0;34m(***failed resolving arguments***)\u001b[0m\n\u001b[1;32m    208\u001b[0m     exception\u001b[38;5;241m.\u001b[39m__cause__ \u001b[38;5;241m=\u001b[39m replace_context\n\u001b[1;32m    210\u001b[0m \u001b[38;5;28;01mtry\u001b[39;00m:\n\u001b[0;32m--> 211\u001b[0m     \u001b[38;5;28;01mraise\u001b[39;00m exception\n\u001b[1;32m    212\u001b[0m \u001b[38;5;28;01mfinally\u001b[39;00m:\n\u001b[1;32m    213\u001b[0m     \u001b[38;5;66;03m# credit to\u001b[39;00m\n\u001b[1;32m    214\u001b[0m     \u001b[38;5;66;03m# https://cosmicpercolator.com/2016/01/13/exception-leaks-in-python-2-and-3/\u001b[39;00m\n\u001b[1;32m    215\u001b[0m     \u001b[38;5;66;03m# as the __traceback__ object creates a cycle\u001b[39;00m\n\u001b[1;32m    216\u001b[0m     \u001b[38;5;28;01mdel\u001b[39;00m exception, replace_context, from_, with_traceback\n",
      "File \u001b[0;32m/opt/conda/envs/company_matching/lib/python3.9/site-packages/sqlalchemy/engine/base.py:1905\u001b[0m, in \u001b[0;36mConnection._execute_context\u001b[0;34m(self, dialect, constructor, statement, parameters, execution_options, *args, **kw)\u001b[0m\n\u001b[1;32m   1903\u001b[0m                 \u001b[38;5;28;01mbreak\u001b[39;00m\n\u001b[1;32m   1904\u001b[0m     \u001b[38;5;28;01mif\u001b[39;00m \u001b[38;5;129;01mnot\u001b[39;00m evt_handled:\n\u001b[0;32m-> 1905\u001b[0m         \u001b[38;5;28;43mself\u001b[39;49m\u001b[38;5;241;43m.\u001b[39;49m\u001b[43mdialect\u001b[49m\u001b[38;5;241;43m.\u001b[39;49m\u001b[43mdo_execute\u001b[49m\u001b[43m(\u001b[49m\n\u001b[1;32m   1906\u001b[0m \u001b[43m            \u001b[49m\u001b[43mcursor\u001b[49m\u001b[43m,\u001b[49m\u001b[43m \u001b[49m\u001b[43mstatement\u001b[49m\u001b[43m,\u001b[49m\u001b[43m \u001b[49m\u001b[43mparameters\u001b[49m\u001b[43m,\u001b[49m\u001b[43m \u001b[49m\u001b[43mcontext\u001b[49m\n\u001b[1;32m   1907\u001b[0m \u001b[43m        \u001b[49m\u001b[43m)\u001b[49m\n\u001b[1;32m   1909\u001b[0m \u001b[38;5;28;01mif\u001b[39;00m \u001b[38;5;28mself\u001b[39m\u001b[38;5;241m.\u001b[39m_has_events \u001b[38;5;129;01mor\u001b[39;00m \u001b[38;5;28mself\u001b[39m\u001b[38;5;241m.\u001b[39mengine\u001b[38;5;241m.\u001b[39m_has_events:\n\u001b[1;32m   1910\u001b[0m     \u001b[38;5;28mself\u001b[39m\u001b[38;5;241m.\u001b[39mdispatch\u001b[38;5;241m.\u001b[39mafter_cursor_execute(\n\u001b[1;32m   1911\u001b[0m         \u001b[38;5;28mself\u001b[39m,\n\u001b[1;32m   1912\u001b[0m         cursor,\n\u001b[0;32m   (...)\u001b[0m\n\u001b[1;32m   1916\u001b[0m         context\u001b[38;5;241m.\u001b[39mexecutemany,\n\u001b[1;32m   1917\u001b[0m     )\n",
      "File \u001b[0;32m/opt/conda/envs/company_matching/lib/python3.9/site-packages/sqlalchemy/engine/default.py:736\u001b[0m, in \u001b[0;36mDefaultDialect.do_execute\u001b[0;34m(self, cursor, statement, parameters, context)\u001b[0m\n\u001b[1;32m    735\u001b[0m \u001b[38;5;28;01mdef\u001b[39;00m \u001b[38;5;21mdo_execute\u001b[39m(\u001b[38;5;28mself\u001b[39m, cursor, statement, parameters, context\u001b[38;5;241m=\u001b[39m\u001b[38;5;28;01mNone\u001b[39;00m):\n\u001b[0;32m--> 736\u001b[0m     \u001b[43mcursor\u001b[49m\u001b[38;5;241;43m.\u001b[39;49m\u001b[43mexecute\u001b[49m\u001b[43m(\u001b[49m\u001b[43mstatement\u001b[49m\u001b[43m,\u001b[49m\u001b[43m \u001b[49m\u001b[43mparameters\u001b[49m\u001b[43m)\u001b[49m\n",
      "\u001b[0;31mProgrammingError\u001b[0m: (psycopg2.errors.InvalidFunctionDefinition) return type mismatch in function declared to return double precision\nDETAIL:  Actual return type is numeric.\nCONTEXT:  SQL function \"ave_months_between\"\n\n[SQL: \n        CREATE OR REPLACE FUNCTION ave_months_between(x date, y date)\n        RETURNS float8 AS $$\n        SELECT datediff(x, y)/30.4375;\n        $$ LANGUAGE SQL IMMUTABLE;\n        ]\n(Background on this error at: https://sqlalche.me/e/14/f405)"
     ]
    }
   ],
   "source": [
    "pg_linker = PostgresLinker(\n",
    "    input_table_or_tables=du.generate_dummy_df(),\n",
    "    engine=du.sql_engine,\n",
    ")\n",
    "pg_linker.load_model(json_settings)"
   ]
  },
  {
   "cell_type": "code",
   "execution_count": null,
   "id": "de5f59bc-6484-42bf-a55c-39f27022db98",
   "metadata": {},
   "outputs": [],
   "source": [
    "df_clusters = pg_linker.cluster_pairwise_predictions_at_threshold(\n",
    "    df_predict, \n",
    "    0.7\n",
    ")"
   ]
  },
  {
   "cell_type": "code",
   "execution_count": 20,
   "id": "06ffe9d4-55be-4161-aff3-23976b0c33ed",
   "metadata": {},
   "outputs": [
    {
     "ename": "type",
     "evalue": "'str' object has no attribute 'physical_name'",
     "output_type": "error",
     "traceback": [
      "\u001b[0;31m---------------------------------------------------------------------------\u001b[0m",
      "\u001b[0;31mAttributeError\u001b[0m                            Traceback (most recent call last)",
      "Cell \u001b[0;32mIn[20], line 1\u001b[0m\n\u001b[0;32m----> 1\u001b[0m clusters \u001b[38;5;241m=\u001b[39m \u001b[43mlinker\u001b[49m\u001b[38;5;241;43m.\u001b[39;49m\u001b[43mcluster_pairwise_predictions_at_threshold\u001b[49m\u001b[43m(\u001b[49m\n\u001b[1;32m      2\u001b[0m \u001b[43m    \u001b[49m\u001b[38;5;124;43mf\u001b[39;49m\u001b[38;5;124;43m\"\u001b[39;49m\u001b[38;5;124;43m'\u001b[39;49m\u001b[38;5;132;43;01m{\u001b[39;49;00m\u001b[43mpred_path\u001b[49m\u001b[38;5;241;43m.\u001b[39;49m\u001b[43mas_posix\u001b[49m\u001b[43m(\u001b[49m\u001b[43m)\u001b[49m\u001b[38;5;132;43;01m}\u001b[39;49;00m\u001b[38;5;124;43m'\u001b[39;49m\u001b[38;5;124;43m\"\u001b[39;49m\u001b[43m,\u001b[49m\n\u001b[1;32m      3\u001b[0m \u001b[43m    \u001b[49m\u001b[43mthreshold_match_probability\u001b[49m\u001b[38;5;241;43m=\u001b[39;49m\u001b[38;5;241;43m0.7\u001b[39;49m\u001b[43m,\u001b[49m\n\u001b[1;32m      4\u001b[0m \u001b[43m    \u001b[49m\u001b[43mpairwise_formatting\u001b[49m\u001b[38;5;241;43m=\u001b[39;49m\u001b[38;5;28;43;01mTrue\u001b[39;49;00m\u001b[43m,\u001b[49m\n\u001b[1;32m      5\u001b[0m \u001b[43m    \u001b[49m\u001b[43mfilter_pairwise_format_for_clusters\u001b[49m\u001b[38;5;241;43m=\u001b[39;49m\u001b[38;5;28;43;01mFalse\u001b[39;49;00m\u001b[43m,\u001b[49m\n\u001b[1;32m      6\u001b[0m \u001b[43m)\u001b[49m\n",
      "File \u001b[0;32m/opt/conda/envs/company_matching/lib/python3.9/site-packages/splink/linker.py:2010\u001b[0m, in \u001b[0;36mLinker.cluster_pairwise_predictions_at_threshold\u001b[0;34m(self, df_predict, threshold_match_probability, pairwise_formatting, filter_pairwise_format_for_clusters)\u001b[0m\n\u001b[1;32m   2004\u001b[0m \u001b[38;5;66;03m# Feeding in df_predict forces materiailisation, if it exists in your database\u001b[39;00m\n\u001b[1;32m   2005\u001b[0m concat_with_tf \u001b[38;5;241m=\u001b[39m \u001b[38;5;28mself\u001b[39m\u001b[38;5;241m.\u001b[39m_initialise_df_concat_with_tf(df_predict)\n\u001b[1;32m   2007\u001b[0m edges_table \u001b[38;5;241m=\u001b[39m _cc_create_unique_id_cols(\n\u001b[1;32m   2008\u001b[0m     \u001b[38;5;28mself\u001b[39m,\n\u001b[1;32m   2009\u001b[0m     concat_with_tf\u001b[38;5;241m.\u001b[39mphysical_name,\n\u001b[0;32m-> 2010\u001b[0m     \u001b[43mdf_predict\u001b[49m\u001b[38;5;241;43m.\u001b[39;49m\u001b[43mphysical_name\u001b[49m,\n\u001b[1;32m   2011\u001b[0m     threshold_match_probability,\n\u001b[1;32m   2012\u001b[0m )\n\u001b[1;32m   2014\u001b[0m cc \u001b[38;5;241m=\u001b[39m solve_connected_components(\n\u001b[1;32m   2015\u001b[0m     \u001b[38;5;28mself\u001b[39m,\n\u001b[1;32m   2016\u001b[0m     edges_table,\n\u001b[0;32m   (...)\u001b[0m\n\u001b[1;32m   2020\u001b[0m     filter_pairwise_format_for_clusters,\n\u001b[1;32m   2021\u001b[0m )\n\u001b[1;32m   2023\u001b[0m \u001b[38;5;28;01mreturn\u001b[39;00m cc\n",
      "\u001b[0;31mAttributeError\u001b[0m: 'str' object has no attribute 'physical_name'"
     ]
    }
   ],
   "source": [
    "clusters = linker.cluster_pairwise_predictions_at_threshold(\n",
    "    f\"'{pred_path.as_posix()}'\",\n",
    "    threshold_match_probability=0.7,\n",
    "    pairwise_formatting=True,\n",
    "    filter_pairwise_format_for_clusters=False,\n",
    ")"
   ]
  },
  {
   "cell_type": "code",
   "execution_count": null,
   "id": "95e3c12a-f07c-4e7a-a390-faf10bec8f04",
   "metadata": {},
   "outputs": [],
   "source": [
    "lookup = linker.query_sql(\n",
    "    f\"\"\"\n",
    "    select\n",
    "        source_dataset_l as source,\n",
    "        unique_id_l as source_id,\n",
    "        cluster_id_l as source_cluster,\n",
    "        source_dataset_r as target,\n",
    "        unique_id_r as target_id,\n",
    "        cluster_id_r as target_cluster,\n",
    "        match_probability\n",
    "    from\n",
    "        { clusters.physical_name }\n",
    "    union\n",
    "    select\n",
    "        source_dataset_r as source,\n",
    "        unique_id_r as source_id,\n",
    "        cluster_id_r as source_cluster,\n",
    "        source_dataset_l as target,\n",
    "        unique_id_l as target_id,\n",
    "        cluster_id_l as target_cluster,\n",
    "        match_probability\n",
    "    from\n",
    "        { clusters.physical_name }\n",
    "    \"\"\",\n",
    "    output_type=\"splink_df\",\n",
    ")"
   ]
  }
 ],
 "metadata": {
  "kernelspec": {
   "display_name": "company_matching",
   "language": "python",
   "name": "company_matching"
  },
  "language_info": {
   "codemirror_mode": {
    "name": "ipython",
    "version": 3
   },
   "file_extension": ".py",
   "mimetype": "text/x-python",
   "name": "python",
   "nbconvert_exporter": "python",
   "pygments_lexer": "ipython3",
   "version": "3.9.16"
  }
 },
 "nbformat": 4,
 "nbformat_minor": 5
}
