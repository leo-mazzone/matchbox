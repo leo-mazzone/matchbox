{
 "cells": [
  {
   "cell_type": "code",
   "execution_count": 1,
   "id": "fc07efe0-5cb8-47bb-87b4-ab6f4a475f4e",
   "metadata": {},
   "outputs": [],
   "source": [
    "%load_ext autoreload\n",
    "%autoreload 2\n",
    "from IPython.core.interactiveshell import InteractiveShell\n",
    "from IPython.display import IFrame, display\n",
    "InteractiveShell.ast_node_interactivity = \"all\""
   ]
  },
  {
   "cell_type": "markdown",
   "id": "7c6625ba-1e67-45a6-8c13-a3f0b20d023d",
   "metadata": {},
   "source": [
    "# 🔌Hybrid additive playground\n",
    "\n",
    "Just a place to get linkers running."
   ]
  },
  {
   "cell_type": "code",
   "execution_count": 2,
   "id": "6bb13950-4a12-4f3a-b27e-212984ec41e5",
   "metadata": {},
   "outputs": [
    {
     "name": "stderr",
     "output_type": "stream",
     "text": [
      "DEBUG:git.cmd:Popen(['git', 'version'], cwd=/home/jovyan/company-matching/notebooks, universal_newlines=False, shell=None, istream=None)\n",
      "DEBUG:git.cmd:Popen(['git', 'version'], cwd=/home/jovyan/company-matching/notebooks, universal_newlines=False, shell=None, istream=None)\n"
     ]
    },
    {
     "data": {
      "text/plain": [
       "True"
      ]
     },
     "execution_count": 2,
     "metadata": {},
     "output_type": "execute_result"
    }
   ],
   "source": [
    "from src import locations as loc\n",
    "from src.data import utils as du\n",
    "from src.data.star import Star\n",
    "from src.data.datasets import Dataset\n",
    "from src.data.probabilities import Probabilities\n",
    "from src.data.clusters import Clusters\n",
    "from src.link.splink_linker import SplinkLinker\n",
    "from src.config import link_pipeline, stopwords\n",
    "from src.features.clean_complex import clean_comp_names\n",
    "\n",
    "from splink.duckdb.linker import DuckDBLinker\n",
    "import splink.duckdb.comparison_library as cl\n",
    "import splink.duckdb.comparison_template_library as ctl\n",
    "\n",
    "import uuid\n",
    "import types\n",
    "from pathlib import Path\n",
    "from dotenv import load_dotenv, find_dotenv\n",
    "import os\n",
    "import io\n",
    "import pandas as pd\n",
    "import duckdb\n",
    "import json\n",
    "\n",
    "dotenv_path = find_dotenv()\n",
    "load_dotenv(dotenv_path)"
   ]
  },
  {
   "cell_type": "markdown",
   "id": "420e71d7-752e-4df2-a474-1288f6f69812",
   "metadata": {},
   "source": [
    "## Setup"
   ]
  },
  {
   "cell_type": "code",
   "execution_count": 3,
   "id": "fa975078-979e-4a98-bbea-1df8a21b57d8",
   "metadata": {},
   "outputs": [],
   "source": [
    "star = Star(\n",
    "    schema = os.getenv(\"SCHEMA\"),\n",
    "    table = os.getenv(\"STAR_TABLE\")\n",
    ")\n",
    "probabilities = Probabilities(\n",
    "    schema = os.getenv(\"SCHEMA\"),\n",
    "    table = os.getenv(\"PROBABILITIES_TABLE\"),\n",
    "    star = star\n",
    ")\n",
    "clusters = Clusters(\n",
    "    schema = os.getenv(\"SCHEMA\"),\n",
    "    table = os.getenv(\"CLUSTERS_TABLE\"),\n",
    "    star = star\n",
    ")"
   ]
  },
  {
   "cell_type": "code",
   "execution_count": 4,
   "id": "73ca90a5-3940-4225-ba87-cf8cbe90eda3",
   "metadata": {},
   "outputs": [],
   "source": [
    "# probabilities.create(overwrite=True)\n",
    "# clusters.create(dim=1970, overwrite=False)"
   ]
  },
  {
   "cell_type": "code",
   "execution_count": 5,
   "id": "23177305-2238-40b7-ba96-58ecbff7c170",
   "metadata": {},
   "outputs": [
    {
     "data": {
      "text/plain": [
       "(256604, 3)"
      ]
     },
     "execution_count": 5,
     "metadata": {},
     "output_type": "execute_result"
    },
    {
     "data": {
      "text/plain": [
       "(256604, 3)"
      ]
     },
     "execution_count": 5,
     "metadata": {},
     "output_type": "execute_result"
    },
    {
     "data": {
      "text/plain": [
       "(10774831, 3)"
      ]
     },
     "execution_count": 5,
     "metadata": {},
     "output_type": "execute_result"
    },
    {
     "data": {
      "text/plain": [
       "(10774831, 3)"
      ]
     },
     "execution_count": 5,
     "metadata": {},
     "output_type": "execute_result"
    }
   ],
   "source": [
    "cl_x_exp=SplinkLinker.load(\n",
    "    path=Path(loc.DATA_SUBDIR['raw'], 'ch_x_exp.pickle')\n",
    ")\n",
    "cl_x_exp.dim_raw.shape\n",
    "cl_x_exp.dim_processed.shape\n",
    "cl_x_exp.cluster_raw.shape\n",
    "cl_x_exp.cluster_processed.shape"
   ]
  },
  {
   "cell_type": "markdown",
   "id": "eadc61f0-b869-49ac-bc3c-1d74f969198c",
   "metadata": {},
   "source": [
    "## Splink\n",
    "\n",
    "TODO:\n",
    "\n",
    "* Write the `linker.link` method\n",
    "* Run it\n",
    "* Load it into clusters\n",
    "* Add `cluster_select`s to the `link_pipeline` in config\n",
    "\n",
    "At that point I think we've got enough infra to MR the whole of this, linker, data and all. Not a pretty MR, a lot to chew, sorry reviewer."
   ]
  },
  {
   "cell_type": "code",
   "execution_count": 5,
   "id": "835f621d-f0b6-4b42-a305-264560c40dab",
   "metadata": {},
   "outputs": [],
   "source": [
    "# '\"hmrc\".\"trade__exporters\"': {\n",
    "#     \"fact\": '\"hmrc\".\"trade__exporters\"',\n",
    "#     \"key_fields\": [\"company_name\", \"address\", \"postcode\"],\n",
    "#     \"dim\": f'\"{os.getenv(\"SCHEMA\")}\".\"hmrc_trade__exporters__dim\"',\n",
    "#     \"n\": 3,\n",
    "#     \"experiment\": \"cm_hmrc-trade-exporters\",\n",
    "# }"
   ]
  },
  {
   "cell_type": "code",
   "execution_count": 4,
   "id": "d0f5cb4d-ca66-4c00-8735-7df24163b676",
   "metadata": {},
   "outputs": [
    {
     "name": "stderr",
     "output_type": "stream",
     "text": [
      "/opt/conda/envs/company_matching/lib/python3.9/site-packages/pandas/io/sql.py:1410: RemovedIn20Warning: Deprecated API features detected! These feature(s) are not compatible with SQLAlchemy 2.0. To prevent incompatible upgrades prior to updating applications, ensure requirements files are pinned to \"sqlalchemy<2.0\". Set environment variable SQLALCHEMY_WARN_20=1 to show all deprecation warnings.  Set environment variable SQLALCHEMY_SILENCE_UBER_WARNING=1 to silence this message. (Background on SQLAlchemy 2.0 at: https://sqlalche.me/e/b8d9)\n",
      "  meta = MetaData(self.connectable, schema=schema)\n"
     ]
    }
   ],
   "source": [
    "cl_x_exp = SplinkLinker(\n",
    "    dataset = Dataset(\n",
    "        star_id=54717,\n",
    "        star=star\n",
    "    ), \n",
    "    probabilities=probabilities, \n",
    "    clusters=clusters, \n",
    "    n=2\n",
    ")"
   ]
  },
  {
   "cell_type": "code",
   "execution_count": 5,
   "id": "b504bec4-4c95-441a-8629-7a5fcc1f58cf",
   "metadata": {
    "scrolled": true
   },
   "outputs": [],
   "source": [
    "cl_x_exp.get_data(\n",
    "    cluster_select={\n",
    "        '\"companieshouse\".\"companies\"': [\n",
    "            \"company_name as company_name\",\n",
    "            \"postcode as postcode\"\n",
    "        ]\n",
    "    },\n",
    "    dim_select=[\n",
    "        \"id\",\n",
    "        \"company_name\",\n",
    "        \"postcode\"\n",
    "    ]\n",
    ")"
   ]
  },
  {
   "cell_type": "code",
   "execution_count": null,
   "id": "7398eefd-d41d-4b2e-956b-3d9b933e9b9a",
   "metadata": {},
   "outputs": [],
   "source": [
    "cl_x_exp.prepare(\n",
    "    cluster_pipeline={\n",
    "        \"clean_comp_names\": {\n",
    "            \"function\": clean_comp_names,\n",
    "            \"arguments\": {\n",
    "                \"primary_col\": \"company_name\",\n",
    "                \"secondary_col\": None,\n",
    "                \"stopwords\": stopwords,\n",
    "            },\n",
    "        }\n",
    "    },\n",
    "    dim_pipeline={\n",
    "        \"clean_comp_names\": {\n",
    "            \"function\": clean_comp_names,\n",
    "            \"arguments\": {\n",
    "                \"primary_col\": \"company_name\",\n",
    "                \"secondary_col\": None,\n",
    "                \"stopwords\": stopwords,\n",
    "            },\n",
    "        }\n",
    "    },\n",
    "    linker_settings={\n",
    "        \"link_type\": \"link_only\",\n",
    "        \"unique_id_column_name\": \"id\",\n",
    "        \"retain_matching_columns\": False,\n",
    "        \"retain_intermediate_calculation_columns\": False,\n",
    "        \"blocking_rules_to_generate_predictions\": [\n",
    "            \"\"\"\n",
    "                (l.company_name = r.company_name)\n",
    "                and (\n",
    "                    l.company_name <> ''\n",
    "                    and r.company_name <> ''\n",
    "                )\n",
    "            \"\"\",\n",
    "            \"\"\"\n",
    "                (l.postcode = r.postcode)\n",
    "                and (\n",
    "                    l.postcode <> ''\n",
    "                    and r.postcode <> ''\n",
    "                )\n",
    "            \"\"\",\n",
    "        ],\n",
    "        \"comparisons\": [\n",
    "            cl.jaro_winkler_at_thresholds(\n",
    "                \"company_name\", [0.9, 0.6], term_frequency_adjustments=True\n",
    "            ),\n",
    "            ctl.postcode_comparison(\"postcode\"),\n",
    "        ],\n",
    "    },\n",
    "    train_pipeline={\n",
    "        \"estimate_probability_two_random_records_match\": {\n",
    "            \"function\": \"estimate_probability_two_random_records_match\",\n",
    "            \"arguments\": {\n",
    "                \"deterministic_matching_rules\": \"\"\"\n",
    "                    l.company_name = r.company_name\n",
    "                \"\"\",\n",
    "                \"recall\": 0.7,\n",
    "            },\n",
    "        },\n",
    "        \"estimate_u_using_random_sampling\": {\n",
    "            \"function\": \"estimate_u_using_random_sampling\",\n",
    "            \"arguments\": {\"max_pairs\": 1e6},\n",
    "        },\n",
    "        \"estimate_parameters_using_expectation_maximisation\": {\n",
    "            \"function\": \"estimate_parameters_using_expectation_maximisation\",\n",
    "            \"arguments\": {\n",
    "                \"blocking_rule\": \"\"\"\n",
    "                    l.company_name = r.company_name\n",
    "                \"\"\"\n",
    "            },\n",
    "        },\n",
    "    }\n",
    ")"
   ]
  },
  {
   "cell_type": "code",
   "execution_count": 8,
   "id": "2b43b8f4-2b62-4cf7-be08-6299729ece10",
   "metadata": {},
   "outputs": [],
   "source": [
    "cl_x_exp.save(path=Path(loc.DATA_SUBDIR['raw'], 'ch_x_exp.pickle'))"
   ]
  },
  {
   "cell_type": "markdown",
   "id": "3aa27689-0331-415d-9107-abee6f625556",
   "metadata": {},
   "source": [
    "## Testing lower-level functions"
   ]
  },
  {
   "cell_type": "code",
   "execution_count": 5,
   "id": "09843d9a-eb36-49c0-b32e-117b27850760",
   "metadata": {},
   "outputs": [],
   "source": [
    "cl_x_exp._clean_data(\n",
    "    cluster_pipeline={\n",
    "        \"clean_comp_names\": {\n",
    "            \"function\": clean_comp_names,\n",
    "            \"arguments\": {\n",
    "                \"primary_col\": \"company_name\",\n",
    "                \"secondary_col\": None,\n",
    "                \"stopwords\": stopwords,\n",
    "            },\n",
    "        }\n",
    "    },\n",
    "    dim_pipeline={\n",
    "        \"clean_comp_names\": {\n",
    "            \"function\": clean_comp_names,\n",
    "            \"arguments\": {\n",
    "                \"primary_col\": \"company_name\",\n",
    "                \"secondary_col\": None,\n",
    "                \"stopwords\": stopwords,\n",
    "            },\n",
    "        }\n",
    "    }\n",
    ")"
   ]
  },
  {
   "cell_type": "code",
   "execution_count": 6,
   "id": "e815b1df-8142-496c-839b-ed1f5634ba14",
   "metadata": {
    "scrolled": true
   },
   "outputs": [
    {
     "name": "stderr",
     "output_type": "stream",
     "text": [
      "/opt/conda/envs/company_matching/lib/python3.9/site-packages/pandas/core/dtypes/cast.py:1846: DeprecationWarning: np.find_common_type is deprecated.  Please use `np.result_type` or `np.promote_types`.\n",
      "See https://numpy.org/devdocs/release/1.25.0-notes.html and the docs for more information.  (Deprecated NumPy 1.25)\n",
      "  return np.find_common_type(types, [])  # type: ignore[arg-type]\n"
     ]
    }
   ],
   "source": [
    "cl_x_exp._substitute_ids()"
   ]
  },
  {
   "cell_type": "code",
   "execution_count": 13,
   "id": "7d1b0797-fc7a-450e-9bad-3ca8b1b0beeb",
   "metadata": {},
   "outputs": [],
   "source": [
    "# def _register_tables(self):\n",
    "#     self.con.register('cls', self.cluster_processed)\n",
    "#     self.con.register('dim', self.dim_processed)\n",
    "\n",
    "# cl_x_exp._register_tables = types.MethodType(_register_tables, cl_x_exp)"
   ]
  },
  {
   "cell_type": "code",
   "execution_count": 7,
   "id": "0a5ac300-98d5-4505-84fa-ff838a879c35",
   "metadata": {},
   "outputs": [],
   "source": [
    "cl_x_exp._register_tables()"
   ]
  },
  {
   "cell_type": "code",
   "execution_count": 5,
   "id": "efafdbcd-7091-40f8-b2e3-6dfe7072fd02",
   "metadata": {},
   "outputs": [],
   "source": [
    "cl_x_exp._create_linker(\n",
    "    linker_settings={\n",
    "        \"link_type\": \"link_only\",\n",
    "        \"unique_id_column_name\": \"id\",\n",
    "        \"retain_matching_columns\": False,\n",
    "        \"retain_intermediate_calculation_columns\": False,\n",
    "        \"blocking_rules_to_generate_predictions\": [\n",
    "            \"\"\"\n",
    "                (l.company_name = r.company_name)\n",
    "                and (\n",
    "                    l.company_name <> ''\n",
    "                    and r.company_name <> ''\n",
    "                )\n",
    "            \"\"\",\n",
    "            \"\"\"\n",
    "                (l.postcode = r.postcode)\n",
    "                and (\n",
    "                    l.postcode <> ''\n",
    "                    and r.postcode <> ''\n",
    "                )\n",
    "            \"\"\",\n",
    "        ],\n",
    "        \"comparisons\": [\n",
    "            cl.jaro_winkler_at_thresholds(\n",
    "                \"company_name\", [0.9, 0.6], term_frequency_adjustments=True\n",
    "            ),\n",
    "            ctl.postcode_comparison(\"postcode\"),\n",
    "        ],\n",
    "    }\n",
    ")"
   ]
  },
  {
   "cell_type": "code",
   "execution_count": 10,
   "id": "340d1232-6b50-458f-9b53-711ae4a6ae85",
   "metadata": {},
   "outputs": [
    {
     "name": "stderr",
     "output_type": "stream",
     "text": [
      "INFO:splink.linker:Probability two random records match is estimated to be  2.25e-07.\n",
      "This means that amongst all possible pairwise record comparisons, one in 4,447,653.50 are expected to match.  With 2,764,864,733,924 total possible comparisons, we expect a total of around 621,645.71 matching pairs\n",
      "INFO:splink.estimate_u:----- Estimating u probabilities using random sampling -----\n",
      "INFO:splink.estimate_u:\n",
      "Estimated u probabilities using random sampling\n",
      "INFO:splink.settings:\n",
      "Your model is not yet fully trained. Missing estimates for:\n",
      "    - company_name (no m values are trained).\n",
      "    - postcode (no m values are trained).\n",
      "INFO:splink.em_training_session:\n",
      "----- Starting EM training session -----\n",
      "\n",
      "INFO:splink.em_training_session:Estimating the m probabilities of the model by blocking on:\n",
      "\n",
      "                    l.company_name = r.company_name\n",
      "                \n",
      "\n",
      "Parameter estimates will be made for the following comparison(s):\n",
      "    - postcode\n",
      "\n",
      "Parameter estimates cannot be made for the following comparison(s) since they are used in the blocking rules: \n",
      "    - company_name\n",
      "INFO:splink.expectation_maximisation:\n",
      "INFO:splink.expectation_maximisation:Iteration 1: Largest change in params was 0.33 in probability_two_random_records_match\n",
      "INFO:splink.expectation_maximisation:Iteration 2: Largest change in params was 0.123 in the m_probability of postcode, level `Exact match Postcode Area`\n",
      "INFO:splink.expectation_maximisation:Iteration 3: Largest change in params was 0.0327 in the m_probability of postcode, level `Exact match Postcode Area`\n",
      "INFO:splink.expectation_maximisation:Iteration 4: Largest change in params was 0.00215 in the m_probability of postcode, level `Exact match Postcode Area`\n",
      "INFO:splink.expectation_maximisation:Iteration 5: Largest change in params was 0.000119 in the m_probability of postcode, level `Exact match Postcode Area`\n",
      "INFO:splink.expectation_maximisation:Iteration 6: Largest change in params was 6.48e-06 in the m_probability of postcode, level `Exact match Postcode Area`\n",
      "INFO:splink.expectation_maximisation:\n",
      "EM converged after 6 iterations\n",
      "INFO:splink.settings:\n",
      "Your model is not yet fully trained. Missing estimates for:\n",
      "    - company_name (no m values are trained).\n"
     ]
    }
   ],
   "source": [
    "cl_x_exp._train_linker(\n",
    "    train_pipeline={\n",
    "        \"estimate_probability_two_random_records_match\": {\n",
    "            \"function\": \"estimate_probability_two_random_records_match\",\n",
    "            \"arguments\": {\n",
    "                \"deterministic_matching_rules\": \"\"\"\n",
    "                    l.company_name = r.company_name\n",
    "                \"\"\",\n",
    "                \"recall\": 0.7,\n",
    "            },\n",
    "        },\n",
    "        \"estimate_u_using_random_sampling\": {\n",
    "            \"function\": \"estimate_u_using_random_sampling\",\n",
    "            \"arguments\": {\"max_pairs\": 1e6},\n",
    "        },\n",
    "        \"estimate_parameters_using_expectation_maximisation\": {\n",
    "            \"function\": \"estimate_parameters_using_expectation_maximisation\",\n",
    "            \"arguments\": {\n",
    "                \"blocking_rule\": \"\"\"\n",
    "                    l.company_name = r.company_name\n",
    "                \"\"\"\n",
    "            },\n",
    "        },\n",
    "    }\n",
    ")"
   ]
  },
  {
   "cell_type": "code",
   "execution_count": null,
   "id": "7a51ac76-0c5a-45b7-8632-a096f1bd015b",
   "metadata": {},
   "outputs": [],
   "source": [
    "cl_x_exp.link(threshold=0.7, log_output=True)"
   ]
  }
 ],
 "metadata": {
  "kernelspec": {
   "display_name": "company_matching",
   "language": "python",
   "name": "company_matching"
  },
  "language_info": {
   "codemirror_mode": {
    "name": "ipython",
    "version": 3
   },
   "file_extension": ".py",
   "mimetype": "text/x-python",
   "name": "python",
   "nbconvert_exporter": "python",
   "pygments_lexer": "ipython3",
   "version": "3.9.16"
  }
 },
 "nbformat": 4,
 "nbformat_minor": 5
}
