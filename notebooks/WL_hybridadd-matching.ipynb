{
 "cells": [
  {
   "cell_type": "code",
   "execution_count": 1,
   "id": "fc07efe0-5cb8-47bb-87b4-ab6f4a475f4e",
   "metadata": {},
   "outputs": [],
   "source": [
    "%load_ext autoreload\n",
    "%autoreload 2\n",
    "from IPython.core.interactiveshell import InteractiveShell\n",
    "from IPython.display import IFrame, display\n",
    "InteractiveShell.ast_node_interactivity = \"all\""
   ]
  },
  {
   "cell_type": "markdown",
   "id": "7c6625ba-1e67-45a6-8c13-a3f0b20d023d",
   "metadata": {},
   "source": [
    "# 🔌Hybrid additive playground\n",
    "\n",
    "Just a place to get linkers running."
   ]
  },
  {
   "cell_type": "code",
   "execution_count": 2,
   "id": "6bb13950-4a12-4f3a-b27e-212984ec41e5",
   "metadata": {},
   "outputs": [
    {
     "name": "stderr",
     "output_type": "stream",
     "text": [
      "DEBUG:git.cmd:Popen(['git', 'version'], cwd=/home/jovyan/company-matching/notebooks, universal_newlines=False, shell=None, istream=None)\n",
      "DEBUG:git.cmd:Popen(['git', 'version'], cwd=/home/jovyan/company-matching/notebooks, universal_newlines=False, shell=None, istream=None)\n"
     ]
    },
    {
     "data": {
      "text/plain": [
       "True"
      ]
     },
     "execution_count": 2,
     "metadata": {},
     "output_type": "execute_result"
    }
   ],
   "source": [
    "from src import locations as loc\n",
    "from src.data import utils as du\n",
    "from src.data.star import Star\n",
    "from src.data.datasets import Dataset\n",
    "from src.data.probabilities import Probabilities\n",
    "from src.data.clusters import Clusters\n",
    "from src.link.splink_linker import SplinkLinker\n",
    "from src.config import link_pipeline, stopwords\n",
    "from src.features.clean_complex import clean_comp_names\n",
    "\n",
    "from splink.duckdb.linker import DuckDBLinker\n",
    "import splink.duckdb.comparison_library as cl\n",
    "import splink.duckdb.comparison_template_library as ctl\n",
    "\n",
    "import uuid\n",
    "import types\n",
    "from pathlib import Path\n",
    "from dotenv import load_dotenv, find_dotenv\n",
    "import os\n",
    "import io\n",
    "import pandas as pd\n",
    "import duckdb\n",
    "import json\n",
    "\n",
    "dotenv_path = find_dotenv()\n",
    "load_dotenv(dotenv_path)"
   ]
  },
  {
   "cell_type": "markdown",
   "id": "420e71d7-752e-4df2-a474-1288f6f69812",
   "metadata": {},
   "source": [
    "## Setup"
   ]
  },
  {
   "cell_type": "code",
   "execution_count": 3,
   "id": "fa975078-979e-4a98-bbea-1df8a21b57d8",
   "metadata": {},
   "outputs": [],
   "source": [
    "star = Star(\n",
    "    schema = os.getenv(\"SCHEMA\"),\n",
    "    table = os.getenv(\"STAR_TABLE\")\n",
    ")\n",
    "probabilities = Probabilities(\n",
    "    schema = os.getenv(\"SCHEMA\"),\n",
    "    table = os.getenv(\"PROBABILITIES_TABLE\"),\n",
    "    star = star\n",
    ")\n",
    "clusters = Clusters(\n",
    "    schema = os.getenv(\"SCHEMA\"),\n",
    "    table = os.getenv(\"CLUSTERS_TABLE\"),\n",
    "    star = star\n",
    ")"
   ]
  },
  {
   "cell_type": "code",
   "execution_count": 6,
   "id": "73ca90a5-3940-4225-ba87-cf8cbe90eda3",
   "metadata": {},
   "outputs": [],
   "source": [
    "# probabilities.create(overwrite=True)\n",
    "# clusters.create(dim=1970, overwrite=False)"
   ]
  },
  {
   "cell_type": "code",
   "execution_count": 7,
   "id": "23177305-2238-40b7-ba96-58ecbff7c170",
   "metadata": {},
   "outputs": [
    {
     "data": {
      "text/plain": [
       "(256604, 3)"
      ]
     },
     "execution_count": 7,
     "metadata": {},
     "output_type": "execute_result"
    },
    {
     "data": {
      "text/plain": [
       "(256604, 3)"
      ]
     },
     "execution_count": 7,
     "metadata": {},
     "output_type": "execute_result"
    },
    {
     "data": {
      "text/plain": [
       "(10774831, 3)"
      ]
     },
     "execution_count": 7,
     "metadata": {},
     "output_type": "execute_result"
    },
    {
     "data": {
      "text/plain": [
       "(10774831, 3)"
      ]
     },
     "execution_count": 7,
     "metadata": {},
     "output_type": "execute_result"
    },
    {
     "data": {
      "text/plain": [
       "(11031435, 2)"
      ]
     },
     "execution_count": 7,
     "metadata": {},
     "output_type": "execute_result"
    },
    {
     "data": {
      "text/plain": [
       "<splink.duckdb.linker.DuckDBLinker at 0x7fb9d70c8d90>"
      ]
     },
     "execution_count": 7,
     "metadata": {},
     "output_type": "execute_result"
    }
   ],
   "source": [
    "cl_x_exp=SplinkLinker.load(\n",
    "    path=Path(loc.DATA_SUBDIR['raw'], 'ch_x_exp.pickle')\n",
    ")\n",
    "cl_x_exp.dim_raw.shape\n",
    "cl_x_exp.dim_processed.shape\n",
    "cl_x_exp.cluster_raw.shape\n",
    "cl_x_exp.cluster_processed.shape\n",
    "cl_x_exp.id_lookup.shape\n",
    "cl_x_exp.linker"
   ]
  },
  {
   "cell_type": "markdown",
   "id": "eadc61f0-b869-49ac-bc3c-1d74f969198c",
   "metadata": {},
   "source": [
    "## Splink\n",
    "\n",
    "TODO:\n",
    "\n",
    "* Write the `linker.link` method\n",
    "* Run it\n",
    "* Load it into clusters\n",
    "* Add `cluster_select`s to the `link_pipeline` in config\n",
    "\n",
    "At that point I think we've got enough infra to MR the whole of this, linker, data and all. Not a pretty MR, a lot to chew, sorry reviewer."
   ]
  },
  {
   "cell_type": "code",
   "execution_count": 5,
   "id": "835f621d-f0b6-4b42-a305-264560c40dab",
   "metadata": {},
   "outputs": [],
   "source": [
    "# '\"hmrc\".\"trade__exporters\"': {\n",
    "#     \"fact\": '\"hmrc\".\"trade__exporters\"',\n",
    "#     \"key_fields\": [\"company_name\", \"address\", \"postcode\"],\n",
    "#     \"dim\": f'\"{os.getenv(\"SCHEMA\")}\".\"hmrc_trade__exporters__dim\"',\n",
    "#     \"n\": 3,\n",
    "#     \"experiment\": \"cm_hmrc-trade-exporters\",\n",
    "# }"
   ]
  },
  {
   "cell_type": "code",
   "execution_count": 4,
   "id": "d0f5cb4d-ca66-4c00-8735-7df24163b676",
   "metadata": {},
   "outputs": [
    {
     "name": "stderr",
     "output_type": "stream",
     "text": [
      "/opt/conda/envs/company_matching/lib/python3.9/site-packages/pandas/io/sql.py:1410: RemovedIn20Warning: Deprecated API features detected! These feature(s) are not compatible with SQLAlchemy 2.0. To prevent incompatible upgrades prior to updating applications, ensure requirements files are pinned to \"sqlalchemy<2.0\". Set environment variable SQLALCHEMY_WARN_20=1 to show all deprecation warnings.  Set environment variable SQLALCHEMY_SILENCE_UBER_WARNING=1 to silence this message. (Background on SQLAlchemy 2.0 at: https://sqlalche.me/e/b8d9)\n",
      "  meta = MetaData(self.connectable, schema=schema)\n"
     ]
    }
   ],
   "source": [
    "cl_x_exp = SplinkLinker(\n",
    "    dataset = Dataset(\n",
    "        star_id=54717,\n",
    "        star=star\n",
    "    ), \n",
    "    probabilities=probabilities, \n",
    "    clusters=clusters, \n",
    "    n=2\n",
    ")"
   ]
  },
  {
   "cell_type": "code",
   "execution_count": 5,
   "id": "b504bec4-4c95-441a-8629-7a5fcc1f58cf",
   "metadata": {
    "scrolled": true
   },
   "outputs": [],
   "source": [
    "cl_x_exp.get_data(\n",
    "    sample=5,\n",
    "    cluster_select={\n",
    "        '\"companieshouse\".\"companies\"': [\n",
    "            \"company_name as company_name\",\n",
    "            \"postcode as postcode\"\n",
    "        ]\n",
    "    },\n",
    "    dim_select=[\n",
    "        \"id\",\n",
    "        \"company_name\",\n",
    "        \"postcode\"\n",
    "    ],\n",
    ")"
   ]
  },
  {
   "cell_type": "code",
   "execution_count": 6,
   "id": "7398eefd-d41d-4b2e-956b-3d9b933e9b9a",
   "metadata": {},
   "outputs": [
    {
     "name": "stderr",
     "output_type": "stream",
     "text": [
      "/opt/conda/envs/company_matching/lib/python3.9/site-packages/pandas/core/dtypes/cast.py:1846: DeprecationWarning: np.find_common_type is deprecated.  Please use `np.result_type` or `np.promote_types`.\n",
      "See https://numpy.org/devdocs/release/1.25.0-notes.html and the docs for more information.  (Deprecated NumPy 1.25)\n",
      "  return np.find_common_type(types, [])  # type: ignore[arg-type]\n",
      "INFO:splink.linker:Probability two random records match is estimated to be  2.81e-07.\n",
      "This means that amongst all possible pairwise record comparisons, one in 3,562,089.28 are expected to match.  With 7,063,114,170 total possible comparisons, we expect a total of around 1,982.86 matching pairs\n",
      "INFO:splink.estimate_u:----- Estimating u probabilities using random sampling -----\n",
      "INFO:splink.m_u_records_to_parameters:u probability not trained for company_name - Exact match (comparison vector value: 3). This usually means the comparison level was never observed in the training data.\n",
      "INFO:splink.estimate_u:\n",
      "Estimated u probabilities using random sampling\n",
      "INFO:splink.settings:\n",
      "Your model is not yet fully trained. Missing estimates for:\n",
      "    - company_name (some u values are not trained, no m values are trained).\n",
      "    - postcode (no m values are trained).\n",
      "INFO:splink.em_training_session:\n",
      "----- Starting EM training session -----\n",
      "\n",
      "INFO:splink.em_training_session:Estimating the m probabilities of the model by blocking on:\n",
      "\n",
      "                    l.company_name = r.company_name\n",
      "                \n",
      "\n",
      "Parameter estimates will be made for the following comparison(s):\n",
      "    - postcode\n",
      "\n",
      "Parameter estimates cannot be made for the following comparison(s) since they are used in the blocking rules: \n",
      "    - company_name\n",
      "INFO:splink.expectation_maximisation:\n",
      "INFO:splink.expectation_maximisation:Iteration 1: Largest change in params was 0.268 in probability_two_random_records_match\n",
      "INFO:splink.expectation_maximisation:Iteration 2: Largest change in params was 0.205 in probability_two_random_records_match\n",
      "INFO:splink.expectation_maximisation:Iteration 3: Largest change in params was -0.0548 in the m_probability of postcode, level `Exact match postcode`\n",
      "INFO:splink.expectation_maximisation:Iteration 4: Largest change in params was 0.121 in the m_probability of postcode, level `Exact match Postcode Area`\n",
      "INFO:splink.expectation_maximisation:Iteration 5: Largest change in params was 0.049 in the m_probability of postcode, level `Exact match Postcode Area`\n",
      "INFO:splink.expectation_maximisation:Iteration 6: Largest change in params was 0.00308 in the m_probability of postcode, level `Exact match Postcode Area`\n",
      "INFO:splink.expectation_maximisation:Iteration 7: Largest change in params was 0.000145 in the m_probability of postcode, level `Exact match Postcode Area`\n",
      "INFO:splink.expectation_maximisation:Iteration 8: Largest change in params was 6.72e-06 in the m_probability of postcode, level `Exact match Postcode Area`\n",
      "INFO:splink.expectation_maximisation:\n",
      "EM converged after 8 iterations\n",
      "INFO:splink.settings:\n",
      "Your model is not yet fully trained. Missing estimates for:\n",
      "    - company_name (some u values are not trained, no m values are trained).\n"
     ]
    }
   ],
   "source": [
    "cl_x_exp.prepare(\n",
    "    low_memory=True,\n",
    "    cluster_pipeline={\n",
    "        \"clean_comp_names\": {\n",
    "            \"function\": clean_comp_names,\n",
    "            \"arguments\": {\n",
    "                \"primary_col\": \"company_name\",\n",
    "                \"secondary_col\": None,\n",
    "                \"stopwords\": stopwords,\n",
    "            },\n",
    "        }\n",
    "    },\n",
    "    dim_pipeline={\n",
    "        \"clean_comp_names\": {\n",
    "            \"function\": clean_comp_names,\n",
    "            \"arguments\": {\n",
    "                \"primary_col\": \"company_name\",\n",
    "                \"secondary_col\": None,\n",
    "                \"stopwords\": stopwords,\n",
    "            },\n",
    "        }\n",
    "    },\n",
    "    linker_settings={\n",
    "        \"link_type\": \"link_only\",\n",
    "        \"unique_id_column_name\": \"id\",\n",
    "        \"retain_matching_columns\": False,\n",
    "        \"retain_intermediate_calculation_columns\": False,\n",
    "        \"blocking_rules_to_generate_predictions\": [\n",
    "            \"\"\"\n",
    "                (l.company_name = r.company_name)\n",
    "                and (\n",
    "                    l.company_name <> ''\n",
    "                    and r.company_name <> ''\n",
    "                )\n",
    "            \"\"\",\n",
    "            \"\"\"\n",
    "                (l.postcode = r.postcode)\n",
    "                and (\n",
    "                    l.postcode <> ''\n",
    "                    and r.postcode <> ''\n",
    "                )\n",
    "            \"\"\",\n",
    "        ],\n",
    "        \"comparisons\": [\n",
    "            cl.jaro_winkler_at_thresholds(\n",
    "                \"company_name\", [0.9, 0.6], term_frequency_adjustments=True\n",
    "            ),\n",
    "            ctl.postcode_comparison(\"postcode\"),\n",
    "        ],\n",
    "    },\n",
    "    train_pipeline={\n",
    "        \"estimate_probability_two_random_records_match\": {\n",
    "            \"function\": \"estimate_probability_two_random_records_match\",\n",
    "            \"arguments\": {\n",
    "                \"deterministic_matching_rules\": \"\"\"\n",
    "                    l.company_name = r.company_name\n",
    "                \"\"\",\n",
    "                \"recall\": 0.7,\n",
    "            },\n",
    "        },\n",
    "        \"estimate_u_using_random_sampling\": {\n",
    "            \"function\": \"estimate_u_using_random_sampling\",\n",
    "            \"arguments\": {\"max_pairs\": 1e6},\n",
    "        },\n",
    "        \"estimate_parameters_using_expectation_maximisation\": {\n",
    "            \"function\": \"estimate_parameters_using_expectation_maximisation\",\n",
    "            \"arguments\": {\n",
    "                \"blocking_rule\": \"\"\"\n",
    "                    l.company_name = r.company_name\n",
    "                \"\"\"\n",
    "            },\n",
    "        },\n",
    "    }\n",
    ")"
   ]
  },
  {
   "cell_type": "code",
   "execution_count": 7,
   "id": "a8bd7db5-6147-4872-81ea-20e51178e400",
   "metadata": {},
   "outputs": [
    {
     "name": "stderr",
     "output_type": "stream",
     "text": [
      "WARNING:splink.linker:\n",
      " -- WARNING --\n",
      "You have called predict(), but there are some parameter estimates which have neither been estimated or specified in your settings dictionary.  To produce predictions the following untrained trained parameters will use default values.\n",
      "Comparison: 'company_name':\n",
      "    m values not fully trained\n",
      "Comparison: 'company_name':\n",
      "    u values not fully trained\n"
     ]
    }
   ],
   "source": [
    "cl_x_exp.link(threshold=0.7, log_output=True)"
   ]
  },
  {
   "cell_type": "code",
   "execution_count": null,
   "id": "6fc4e215-126b-4e8e-a8e1-b869f61efcd8",
   "metadata": {},
   "outputs": [],
   "source": [
    "cl_x_exp.save(path=Path(loc.DATA_SUBDIR['raw'], 'ch_x_exp.pickle'))"
   ]
  },
  {
   "cell_type": "markdown",
   "id": "3aa27689-0331-415d-9107-abee6f625556",
   "metadata": {},
   "source": [
    "## Testing lower-level functions"
   ]
  },
  {
   "cell_type": "markdown",
   "id": "d9254d63-d447-4abf-a894-39f9a0fbebdd",
   "metadata": {
    "jp-MarkdownHeadingCollapsed": true
   },
   "source": [
    "### `prepare()` private methods"
   ]
  },
  {
   "cell_type": "code",
   "execution_count": 5,
   "id": "09843d9a-eb36-49c0-b32e-117b27850760",
   "metadata": {},
   "outputs": [],
   "source": [
    "cl_x_exp._clean_data(\n",
    "    cluster_pipeline={\n",
    "        \"clean_comp_names\": {\n",
    "            \"function\": clean_comp_names,\n",
    "            \"arguments\": {\n",
    "                \"primary_col\": \"company_name\",\n",
    "                \"secondary_col\": None,\n",
    "                \"stopwords\": stopwords,\n",
    "            },\n",
    "        }\n",
    "    },\n",
    "    dim_pipeline={\n",
    "        \"clean_comp_names\": {\n",
    "            \"function\": clean_comp_names,\n",
    "            \"arguments\": {\n",
    "                \"primary_col\": \"company_name\",\n",
    "                \"secondary_col\": None,\n",
    "                \"stopwords\": stopwords,\n",
    "            },\n",
    "        }\n",
    "    }\n",
    ")"
   ]
  },
  {
   "cell_type": "code",
   "execution_count": 6,
   "id": "e815b1df-8142-496c-839b-ed1f5634ba14",
   "metadata": {
    "scrolled": true
   },
   "outputs": [
    {
     "name": "stderr",
     "output_type": "stream",
     "text": [
      "/opt/conda/envs/company_matching/lib/python3.9/site-packages/pandas/core/dtypes/cast.py:1846: DeprecationWarning: np.find_common_type is deprecated.  Please use `np.result_type` or `np.promote_types`.\n",
      "See https://numpy.org/devdocs/release/1.25.0-notes.html and the docs for more information.  (Deprecated NumPy 1.25)\n",
      "  return np.find_common_type(types, [])  # type: ignore[arg-type]\n"
     ]
    }
   ],
   "source": [
    "cl_x_exp._substitute_ids()"
   ]
  },
  {
   "cell_type": "code",
   "execution_count": 13,
   "id": "7d1b0797-fc7a-450e-9bad-3ca8b1b0beeb",
   "metadata": {},
   "outputs": [],
   "source": [
    "# def _register_tables(self):\n",
    "#     self.con.register('cls', self.cluster_processed)\n",
    "#     self.con.register('dim', self.dim_processed)\n",
    "\n",
    "# cl_x_exp._register_tables = types.MethodType(_register_tables, cl_x_exp)"
   ]
  },
  {
   "cell_type": "code",
   "execution_count": 7,
   "id": "0a5ac300-98d5-4505-84fa-ff838a879c35",
   "metadata": {},
   "outputs": [],
   "source": [
    "cl_x_exp._register_tables()"
   ]
  },
  {
   "cell_type": "code",
   "execution_count": 5,
   "id": "efafdbcd-7091-40f8-b2e3-6dfe7072fd02",
   "metadata": {},
   "outputs": [],
   "source": [
    "cl_x_exp._create_linker(\n",
    "    linker_settings={\n",
    "        \"link_type\": \"link_only\",\n",
    "        \"unique_id_column_name\": \"id\",\n",
    "        \"retain_matching_columns\": False,\n",
    "        \"retain_intermediate_calculation_columns\": False,\n",
    "        \"blocking_rules_to_generate_predictions\": [\n",
    "            \"\"\"\n",
    "                (l.company_name = r.company_name)\n",
    "                and (\n",
    "                    l.company_name <> ''\n",
    "                    and r.company_name <> ''\n",
    "                )\n",
    "            \"\"\",\n",
    "            \"\"\"\n",
    "                (l.postcode = r.postcode)\n",
    "                and (\n",
    "                    l.postcode <> ''\n",
    "                    and r.postcode <> ''\n",
    "                )\n",
    "            \"\"\",\n",
    "        ],\n",
    "        \"comparisons\": [\n",
    "            cl.jaro_winkler_at_thresholds(\n",
    "                \"company_name\", [0.9, 0.6], term_frequency_adjustments=True\n",
    "            ),\n",
    "            ctl.postcode_comparison(\"postcode\"),\n",
    "        ],\n",
    "    }\n",
    ")"
   ]
  },
  {
   "cell_type": "code",
   "execution_count": 10,
   "id": "340d1232-6b50-458f-9b53-711ae4a6ae85",
   "metadata": {},
   "outputs": [
    {
     "name": "stderr",
     "output_type": "stream",
     "text": [
      "INFO:splink.linker:Probability two random records match is estimated to be  2.25e-07.\n",
      "This means that amongst all possible pairwise record comparisons, one in 4,447,653.50 are expected to match.  With 2,764,864,733,924 total possible comparisons, we expect a total of around 621,645.71 matching pairs\n",
      "INFO:splink.estimate_u:----- Estimating u probabilities using random sampling -----\n",
      "INFO:splink.estimate_u:\n",
      "Estimated u probabilities using random sampling\n",
      "INFO:splink.settings:\n",
      "Your model is not yet fully trained. Missing estimates for:\n",
      "    - company_name (no m values are trained).\n",
      "    - postcode (no m values are trained).\n",
      "INFO:splink.em_training_session:\n",
      "----- Starting EM training session -----\n",
      "\n",
      "INFO:splink.em_training_session:Estimating the m probabilities of the model by blocking on:\n",
      "\n",
      "                    l.company_name = r.company_name\n",
      "                \n",
      "\n",
      "Parameter estimates will be made for the following comparison(s):\n",
      "    - postcode\n",
      "\n",
      "Parameter estimates cannot be made for the following comparison(s) since they are used in the blocking rules: \n",
      "    - company_name\n",
      "INFO:splink.expectation_maximisation:\n",
      "INFO:splink.expectation_maximisation:Iteration 1: Largest change in params was 0.33 in probability_two_random_records_match\n",
      "INFO:splink.expectation_maximisation:Iteration 2: Largest change in params was 0.123 in the m_probability of postcode, level `Exact match Postcode Area`\n",
      "INFO:splink.expectation_maximisation:Iteration 3: Largest change in params was 0.0327 in the m_probability of postcode, level `Exact match Postcode Area`\n",
      "INFO:splink.expectation_maximisation:Iteration 4: Largest change in params was 0.00215 in the m_probability of postcode, level `Exact match Postcode Area`\n",
      "INFO:splink.expectation_maximisation:Iteration 5: Largest change in params was 0.000119 in the m_probability of postcode, level `Exact match Postcode Area`\n",
      "INFO:splink.expectation_maximisation:Iteration 6: Largest change in params was 6.48e-06 in the m_probability of postcode, level `Exact match Postcode Area`\n",
      "INFO:splink.expectation_maximisation:\n",
      "EM converged after 6 iterations\n",
      "INFO:splink.settings:\n",
      "Your model is not yet fully trained. Missing estimates for:\n",
      "    - company_name (no m values are trained).\n"
     ]
    }
   ],
   "source": [
    "cl_x_exp._train_linker(\n",
    "    train_pipeline={\n",
    "        \"estimate_probability_two_random_records_match\": {\n",
    "            \"function\": \"estimate_probability_two_random_records_match\",\n",
    "            \"arguments\": {\n",
    "                \"deterministic_matching_rules\": \"\"\"\n",
    "                    l.company_name = r.company_name\n",
    "                \"\"\",\n",
    "                \"recall\": 0.7,\n",
    "            },\n",
    "        },\n",
    "        \"estimate_u_using_random_sampling\": {\n",
    "            \"function\": \"estimate_u_using_random_sampling\",\n",
    "            \"arguments\": {\"max_pairs\": 1e6},\n",
    "        },\n",
    "        \"estimate_parameters_using_expectation_maximisation\": {\n",
    "            \"function\": \"estimate_parameters_using_expectation_maximisation\",\n",
    "            \"arguments\": {\n",
    "                \"blocking_rule\": \"\"\"\n",
    "                    l.company_name = r.company_name\n",
    "                \"\"\"\n",
    "            },\n",
    "        },\n",
    "    }\n",
    ")"
   ]
  },
  {
   "cell_type": "markdown",
   "id": "af78b0ce-9ae9-4526-a655-5016c97a54af",
   "metadata": {},
   "source": [
    "### `link()` private methods"
   ]
  },
  {
   "cell_type": "markdown",
   "id": "82abf325-fbd9-4c19-9b60-aa7506d7d814",
   "metadata": {},
   "source": [
    "* Preds stuff\n",
    "    * Make preds\n",
    "    * Rejoin IDs\n",
    "    * Send to probs table\n",
    "    * Log params\n",
    "    * Log metrics (none yet, nothing to eval against)\n",
    "* Model stuff\n",
    "    * Add model uuid to predictions table\n",
    "    * Add model table to hold model name\n",
    "    * Update unit tests to deal with this"
   ]
  },
  {
   "cell_type": "code",
   "execution_count": 8,
   "id": "33c5180b-f290-4750-b474-de013248ad69",
   "metadata": {},
   "outputs": [
    {
     "name": "stdout",
     "output_type": "stream",
     "text": [
      "<class 'pandas.core.frame.DataFrame'>\n",
      "RangeIndex: 10774831 entries, 0 to 10774830\n",
      "Data columns (total 3 columns):\n",
      " #   Column        Dtype \n",
      "---  ------        ----- \n",
      " 0   id            int64 \n",
      " 1   company_name  object\n",
      " 2   postcode      object\n",
      "dtypes: int64(1), object(2)\n",
      "memory usage: 246.6+ MB\n",
      "<class 'pandas.core.frame.DataFrame'>\n",
      "RangeIndex: 256604 entries, 0 to 256603\n",
      "Data columns (total 3 columns):\n",
      " #   Column        Non-Null Count   Dtype \n",
      "---  ------        --------------   ----- \n",
      " 0   id            256604 non-null  int64 \n",
      " 1   company_name  256596 non-null  object\n",
      " 2   postcode      256604 non-null  object\n",
      "dtypes: int64(1), object(2)\n",
      "memory usage: 5.9+ MB\n"
     ]
    }
   ],
   "source": [
    "cl_x_exp.cluster_processed.info()\n",
    "cl_x_exp.dim_processed.info()"
   ]
  },
  {
   "cell_type": "code",
   "execution_count": 10,
   "id": "7a51ac76-0c5a-45b7-8632-a096f1bd015b",
   "metadata": {},
   "outputs": [
    {
     "name": "stderr",
     "output_type": "stream",
     "text": [
      "WARNING:splink.linker:\n",
      " -- WARNING --\n",
      "You have called predict(), but there are some parameter estimates which have neither been estimated or specified in your settings dictionary.  To produce predictions the following untrained trained parameters will use default values.\n",
      "Comparison: 'company_name':\n",
      "    m values not fully trained\n",
      "Comparison: 'company_name':\n",
      "    u values not fully trained\n"
     ]
    }
   ],
   "source": [
    "preds = cl_x_exp.linker.predict(threshold_match_probability=0.7)"
   ]
  },
  {
   "cell_type": "code",
   "execution_count": null,
   "id": "729069be-eb3e-44c0-9d3a-f5397ef0ca4f",
   "metadata": {},
   "outputs": [],
   "source": [
    "# {\"cluster\", \"id\", \"probability\", \"source\"}"
   ]
  },
  {
   "cell_type": "code",
   "execution_count": 14,
   "id": "73892295-4ca8-4775-934e-bfc0ff6d450a",
   "metadata": {},
   "outputs": [
    {
     "data": {
      "text/html": [
       "<div>\n",
       "<style scoped>\n",
       "    .dataframe tbody tr th:only-of-type {\n",
       "        vertical-align: middle;\n",
       "    }\n",
       "\n",
       "    .dataframe tbody tr th {\n",
       "        vertical-align: top;\n",
       "    }\n",
       "\n",
       "    .dataframe thead th {\n",
       "        text-align: right;\n",
       "    }\n",
       "</style>\n",
       "<table border=\"1\" class=\"dataframe\">\n",
       "  <thead>\n",
       "    <tr style=\"text-align: right;\">\n",
       "      <th></th>\n",
       "      <th>duckdb_id</th>\n",
       "      <th>id</th>\n",
       "    </tr>\n",
       "  </thead>\n",
       "  <tbody>\n",
       "    <tr>\n",
       "      <th>0</th>\n",
       "      <td>0</td>\n",
       "      <td>51f3f15d-ea7c-44d9-889c-e6e77918e886</td>\n",
       "    </tr>\n",
       "  </tbody>\n",
       "</table>\n",
       "</div>"
      ],
      "text/plain": [
       "   duckdb_id                                    id\n",
       "0          0  51f3f15d-ea7c-44d9-889c-e6e77918e886"
      ]
     },
     "execution_count": 14,
     "metadata": {},
     "output_type": "execute_result"
    }
   ],
   "source": [
    "cl_x_exp.id_lookup.head(1)"
   ]
  },
  {
   "cell_type": "code",
   "execution_count": 31,
   "id": "e847a099-e283-4160-9286-be371b7228df",
   "metadata": {},
   "outputs": [
    {
     "data": {
      "text/html": [
       "<div>\n",
       "<style scoped>\n",
       "    .dataframe tbody tr th:only-of-type {\n",
       "        vertical-align: middle;\n",
       "    }\n",
       "\n",
       "    .dataframe tbody tr th {\n",
       "        vertical-align: top;\n",
       "    }\n",
       "\n",
       "    .dataframe thead th {\n",
       "        text-align: right;\n",
       "    }\n",
       "</style>\n",
       "<table border=\"1\" class=\"dataframe\">\n",
       "  <thead>\n",
       "    <tr style=\"text-align: right;\">\n",
       "      <th></th>\n",
       "      <th>cluster</th>\n",
       "      <th>id</th>\n",
       "      <th>probability</th>\n",
       "      <th>source</th>\n",
       "    </tr>\n",
       "  </thead>\n",
       "  <tbody>\n",
       "    <tr>\n",
       "      <th>0</th>\n",
       "      <td>3ce18bbd-ca73-4173-bb1f-91e0441e5223</td>\n",
       "      <td>3241808</td>\n",
       "      <td>0.998251</td>\n",
       "      <td>54717</td>\n",
       "    </tr>\n",
       "    <tr>\n",
       "      <th>1</th>\n",
       "      <td>a3f03e2d-f976-4596-b345-17b13946bd71</td>\n",
       "      <td>191621</td>\n",
       "      <td>0.843849</td>\n",
       "      <td>54717</td>\n",
       "    </tr>\n",
       "    <tr>\n",
       "      <th>2</th>\n",
       "      <td>8b37d820-cfdb-4c28-9910-c0fa6e1bf773</td>\n",
       "      <td>112895</td>\n",
       "      <td>0.998251</td>\n",
       "      <td>54717</td>\n",
       "    </tr>\n",
       "    <tr>\n",
       "      <th>3</th>\n",
       "      <td>5259db87-4701-4209-9ac9-36b4c0d11dd7</td>\n",
       "      <td>2997499</td>\n",
       "      <td>0.998251</td>\n",
       "      <td>54717</td>\n",
       "    </tr>\n",
       "    <tr>\n",
       "      <th>4</th>\n",
       "      <td>1bb90293-52dd-45a3-95f1-219264d7b760</td>\n",
       "      <td>2411254</td>\n",
       "      <td>0.997380</td>\n",
       "      <td>54717</td>\n",
       "    </tr>\n",
       "  </tbody>\n",
       "</table>\n",
       "</div>"
      ],
      "text/plain": [
       "                                cluster       id  probability  source\n",
       "0  3ce18bbd-ca73-4173-bb1f-91e0441e5223  3241808     0.998251   54717\n",
       "1  a3f03e2d-f976-4596-b345-17b13946bd71   191621     0.843849   54717\n",
       "2  8b37d820-cfdb-4c28-9910-c0fa6e1bf773   112895     0.998251   54717\n",
       "3  5259db87-4701-4209-9ac9-36b4c0d11dd7  2997499     0.998251   54717\n",
       "4  1bb90293-52dd-45a3-95f1-219264d7b760  2411254     0.997380   54717"
      ]
     },
     "execution_count": 31,
     "metadata": {},
     "output_type": "execute_result"
    }
   ],
   "source": [
    "probs = (\n",
    "    preds\n",
    "    .as_pandas_dataframe()\n",
    "    .merge(\n",
    "        right=cl_x_exp.id_lookup.rename(columns={\"id\": \"cluster\"}),\n",
    "        how=\"left\",\n",
    "        left_on=\"id_l\",\n",
    "        right_on=\"duckdb_id\"\n",
    "    )\n",
    "    .merge(\n",
    "        right=cl_x_exp.id_lookup,\n",
    "        how=\"left\",\n",
    "        left_on=\"id_r\",\n",
    "        right_on=\"duckdb_id\"\n",
    "    )\n",
    "    .rename(\n",
    "        columns={\n",
    "            \"match_probability\": \"probability\"\n",
    "        }\n",
    "    )\n",
    ")[['cluster', 'id', 'probability']]\n",
    "probs[\"source\"] = cl_x_exp.dataset.id\n",
    "probs.head(5)"
   ]
  },
  {
   "cell_type": "code",
   "execution_count": 32,
   "id": "cb198fb6-7a5f-42fa-bc16-dda1f325e4ca",
   "metadata": {},
   "outputs": [
    {
     "data": {
      "text/html": [
       "<div>\n",
       "<style scoped>\n",
       "    .dataframe tbody tr th:only-of-type {\n",
       "        vertical-align: middle;\n",
       "    }\n",
       "\n",
       "    .dataframe tbody tr th {\n",
       "        vertical-align: top;\n",
       "    }\n",
       "\n",
       "    .dataframe thead th {\n",
       "        text-align: right;\n",
       "    }\n",
       "</style>\n",
       "<table border=\"1\" class=\"dataframe\">\n",
       "  <thead>\n",
       "    <tr style=\"text-align: right;\">\n",
       "      <th></th>\n",
       "      <th>cluster</th>\n",
       "      <th>id</th>\n",
       "      <th>probability</th>\n",
       "      <th>source</th>\n",
       "      <th>uuid</th>\n",
       "      <th>link_type</th>\n",
       "    </tr>\n",
       "  </thead>\n",
       "  <tbody>\n",
       "    <tr>\n",
       "      <th>0</th>\n",
       "      <td>3ce18bbd-ca73-4173-bb1f-91e0441e5223</td>\n",
       "      <td>3241808</td>\n",
       "      <td>0.998251</td>\n",
       "      <td>54717</td>\n",
       "      <td>51d9eeff-46d4-48be-b7cc-24161549450d</td>\n",
       "      <td>link</td>\n",
       "    </tr>\n",
       "    <tr>\n",
       "      <th>1</th>\n",
       "      <td>a3f03e2d-f976-4596-b345-17b13946bd71</td>\n",
       "      <td>191621</td>\n",
       "      <td>0.843849</td>\n",
       "      <td>54717</td>\n",
       "      <td>b222c116-2ba4-48d0-9696-f758b0b9c2cc</td>\n",
       "      <td>link</td>\n",
       "    </tr>\n",
       "    <tr>\n",
       "      <th>2</th>\n",
       "      <td>8b37d820-cfdb-4c28-9910-c0fa6e1bf773</td>\n",
       "      <td>112895</td>\n",
       "      <td>0.998251</td>\n",
       "      <td>54717</td>\n",
       "      <td>10319d55-52b2-43e7-8afe-95ab59a76fa1</td>\n",
       "      <td>link</td>\n",
       "    </tr>\n",
       "    <tr>\n",
       "      <th>3</th>\n",
       "      <td>5259db87-4701-4209-9ac9-36b4c0d11dd7</td>\n",
       "      <td>2997499</td>\n",
       "      <td>0.998251</td>\n",
       "      <td>54717</td>\n",
       "      <td>fc2ce3e6-1ac2-433d-b8c5-e4bdc405dea8</td>\n",
       "      <td>link</td>\n",
       "    </tr>\n",
       "    <tr>\n",
       "      <th>4</th>\n",
       "      <td>1bb90293-52dd-45a3-95f1-219264d7b760</td>\n",
       "      <td>2411254</td>\n",
       "      <td>0.997380</td>\n",
       "      <td>54717</td>\n",
       "      <td>8717545c-219f-4208-a8b5-df4eb2234e56</td>\n",
       "      <td>link</td>\n",
       "    </tr>\n",
       "    <tr>\n",
       "      <th>...</th>\n",
       "      <td>...</td>\n",
       "      <td>...</td>\n",
       "      <td>...</td>\n",
       "      <td>...</td>\n",
       "      <td>...</td>\n",
       "      <td>...</td>\n",
       "    </tr>\n",
       "    <tr>\n",
       "      <th>670</th>\n",
       "      <td>7b4aac6e-1f05-4665-9631-5d33fd4632db</td>\n",
       "      <td>3270689</td>\n",
       "      <td>0.805509</td>\n",
       "      <td>54717</td>\n",
       "      <td>91fb7cdd-9fff-4c38-9956-ff4ae48853f4</td>\n",
       "      <td>link</td>\n",
       "    </tr>\n",
       "    <tr>\n",
       "      <th>671</th>\n",
       "      <td>fd2b2db0-ba8a-4559-831e-06f7574d6e0d</td>\n",
       "      <td>160681</td>\n",
       "      <td>0.805509</td>\n",
       "      <td>54717</td>\n",
       "      <td>19bc1708-5513-489d-a356-3f3cb17ce0c2</td>\n",
       "      <td>link</td>\n",
       "    </tr>\n",
       "    <tr>\n",
       "      <th>672</th>\n",
       "      <td>841949c0-3a7c-4dae-afbf-8b5d13b1117f</td>\n",
       "      <td>1682657</td>\n",
       "      <td>0.805509</td>\n",
       "      <td>54717</td>\n",
       "      <td>fd48fa28-5f17-496d-b11b-143c4dba5651</td>\n",
       "      <td>link</td>\n",
       "    </tr>\n",
       "    <tr>\n",
       "      <th>673</th>\n",
       "      <td>841949c0-3a7c-4dae-afbf-8b5d13b1117f</td>\n",
       "      <td>3193742</td>\n",
       "      <td>0.805509</td>\n",
       "      <td>54717</td>\n",
       "      <td>b04ca25b-6338-4c0b-b3af-a52ff15541fe</td>\n",
       "      <td>link</td>\n",
       "    </tr>\n",
       "    <tr>\n",
       "      <th>674</th>\n",
       "      <td>de0cbf64-20e3-4de8-b01b-7e1289a35f66</td>\n",
       "      <td>2751313</td>\n",
       "      <td>0.805509</td>\n",
       "      <td>54717</td>\n",
       "      <td>00a8cf34-bb72-4266-855d-e8e1c28e0af7</td>\n",
       "      <td>link</td>\n",
       "    </tr>\n",
       "  </tbody>\n",
       "</table>\n",
       "<p>675 rows × 6 columns</p>\n",
       "</div>"
      ],
      "text/plain": [
       "                                  cluster       id  probability  source  \\\n",
       "0    3ce18bbd-ca73-4173-bb1f-91e0441e5223  3241808     0.998251   54717   \n",
       "1    a3f03e2d-f976-4596-b345-17b13946bd71   191621     0.843849   54717   \n",
       "2    8b37d820-cfdb-4c28-9910-c0fa6e1bf773   112895     0.998251   54717   \n",
       "3    5259db87-4701-4209-9ac9-36b4c0d11dd7  2997499     0.998251   54717   \n",
       "4    1bb90293-52dd-45a3-95f1-219264d7b760  2411254     0.997380   54717   \n",
       "..                                    ...      ...          ...     ...   \n",
       "670  7b4aac6e-1f05-4665-9631-5d33fd4632db  3270689     0.805509   54717   \n",
       "671  fd2b2db0-ba8a-4559-831e-06f7574d6e0d   160681     0.805509   54717   \n",
       "672  841949c0-3a7c-4dae-afbf-8b5d13b1117f  1682657     0.805509   54717   \n",
       "673  841949c0-3a7c-4dae-afbf-8b5d13b1117f  3193742     0.805509   54717   \n",
       "674  de0cbf64-20e3-4de8-b01b-7e1289a35f66  2751313     0.805509   54717   \n",
       "\n",
       "                                     uuid link_type  \n",
       "0    51d9eeff-46d4-48be-b7cc-24161549450d      link  \n",
       "1    b222c116-2ba4-48d0-9696-f758b0b9c2cc      link  \n",
       "2    10319d55-52b2-43e7-8afe-95ab59a76fa1      link  \n",
       "3    fc2ce3e6-1ac2-433d-b8c5-e4bdc405dea8      link  \n",
       "4    8717545c-219f-4208-a8b5-df4eb2234e56      link  \n",
       "..                                    ...       ...  \n",
       "670  91fb7cdd-9fff-4c38-9956-ff4ae48853f4      link  \n",
       "671  19bc1708-5513-489d-a356-3f3cb17ce0c2      link  \n",
       "672  fd48fa28-5f17-496d-b11b-143c4dba5651      link  \n",
       "673  b04ca25b-6338-4c0b-b3af-a52ff15541fe      link  \n",
       "674  00a8cf34-bb72-4266-855d-e8e1c28e0af7      link  \n",
       "\n",
       "[675 rows x 6 columns]"
      ]
     },
     "execution_count": 32,
     "metadata": {},
     "output_type": "execute_result"
    }
   ],
   "source": [
    "probabilities.add_probabilities(probs)"
   ]
  },
  {
   "cell_type": "code",
   "execution_count": null,
   "id": "7717d9d8-2584-4ad6-8316-0e470fd9ec66",
   "metadata": {},
   "outputs": [],
   "source": [
    "cl_x_exp.id_lookup"
   ]
  }
 ],
 "metadata": {
  "kernelspec": {
   "display_name": "company_matching",
   "language": "python",
   "name": "company_matching"
  },
  "language_info": {
   "codemirror_mode": {
    "name": "ipython",
    "version": 3
   },
   "file_extension": ".py",
   "mimetype": "text/x-python",
   "name": "python",
   "nbconvert_exporter": "python",
   "pygments_lexer": "ipython3",
   "version": "3.9.16"
  }
 },
 "nbformat": 4,
 "nbformat_minor": 5
}
