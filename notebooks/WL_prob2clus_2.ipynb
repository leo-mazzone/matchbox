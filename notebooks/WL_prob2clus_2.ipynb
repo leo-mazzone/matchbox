{
 "cells": [
  {
   "cell_type": "code",
   "execution_count": 1,
   "id": "4f6f17b1-2052-4322-acfe-dd271846311f",
   "metadata": {},
   "outputs": [],
   "source": [
    "%load_ext autoreload\n",
    "%autoreload 2\n",
    "from IPython.core.interactiveshell import InteractiveShell\n",
    "from IPython.display import IFrame, display\n",
    "InteractiveShell.ast_node_interactivity = \"all\""
   ]
  },
  {
   "cell_type": "markdown",
   "id": "3706608b-1690-48bb-b8aa-61ce1fb96a7d",
   "metadata": {},
   "source": [
    "# Probabilities to cluster algorithm\n",
    "\n",
    "A notebook to hash out this algorithm and check it works.\n",
    "\n",
    "Will hopefully turn into a unit test too, hence CVSs into version control."
   ]
  },
  {
   "cell_type": "code",
   "execution_count": 2,
   "id": "2d75838e-9781-463e-ac09-3a9097fb630b",
   "metadata": {},
   "outputs": [],
   "source": [
    "from src import locations as loc\n",
    "\n",
    "import pandas as pd\n",
    "import duckdb\n",
    "from pathlib import Path"
   ]
  },
  {
   "cell_type": "code",
   "execution_count": 3,
   "id": "567ce495-eb33-4f2c-908a-b25db551293d",
   "metadata": {},
   "outputs": [],
   "source": [
    "clus = pd.read_csv(Path(loc.PROJECT_DIR, \"test\", \"clusters.csv\"))\n",
    "prob = pd.read_csv(Path(loc.PROJECT_DIR, \"test\", \"probabilities.csv\"))\n",
    "val = pd.read_csv(Path(loc.PROJECT_DIR, \"test\", \"validate.csv\"))"
   ]
  },
  {
   "cell_type": "markdown",
   "id": "abf44d31-efed-4432-8256-64eb023654c8",
   "metadata": {},
   "source": [
    "### Parallel\n",
    "\n",
    "Sometimes we might join several tables to `probabilities` at once, then add them to `clusters` together."
   ]
  },
  {
   "cell_type": "code",
   "execution_count": 120,
   "id": "dc0ba81e-6ed0-48ed-9c37-3ed2bae2a91e",
   "metadata": {},
   "outputs": [
    {
     "data": {
      "text/plain": [
       "┌───────┬─────────┬──────────────┬────────┬───────┐\n",
       "│ uuid  │ cluster │      id      │ source │   n   │\n",
       "│ int64 │  int64  │   varchar    │ int64  │ int32 │\n",
       "├───────┼─────────┼──────────────┼────────┼───────┤\n",
       "│     1 │       1 │ will_inc_t1  │      1 │     0 │\n",
       "│     2 │       2 │ leo_inc_t1   │      1 │     0 │\n",
       "│     3 │       3 │ sarah_inc_t1 │      1 │     0 │\n",
       "└───────┴─────────┴──────────────┴────────┴───────┘"
      ]
     },
     "execution_count": 120,
     "metadata": {},
     "output_type": "execute_result"
    }
   ],
   "source": [
    "clus_init = duckdb.sql(\"\"\"\n",
    "    drop sequence if exists uuid;\n",
    "    drop sequence if exists cluster;\n",
    "    create sequence uuid start 1;\n",
    "    create sequence cluster start 1;\n",
    "    select\n",
    "        nextval('uuid') as uuid,\n",
    "        nextval('cluster') as cluster,\n",
    "        id,\n",
    "        source,\n",
    "        0 as n,\n",
    "    from\n",
    "        prob\n",
    "    where\n",
    "        cluster = 0\n",
    "\"\"\")\n",
    "clus_init"
   ]
  },
  {
   "cell_type": "code",
   "execution_count": 121,
   "id": "87d76974-2408-46d4-9152-59ea7c78111a",
   "metadata": {},
   "outputs": [],
   "source": [
    "clus_complete = duckdb.sql(\"\"\"\n",
    "    select\n",
    "        nextval('uuid') as uuid,\n",
    "        cluster,\n",
    "        id,\n",
    "        source,\n",
    "        1 as n,\n",
    "    from (\n",
    "        select\n",
    "            distinct on (prob.cluster, prob.source)\n",
    "            prob.*\n",
    "        from\n",
    "            prob\n",
    "        anti join clus_init cl on\n",
    "            cl.id = prob.id\n",
    "            and cl.source = prob.source\n",
    "        where \n",
    "            probability > 0.7\n",
    "        order by\n",
    "            probability desc,\n",
    "            id desc\n",
    "    )\n",
    "    union\n",
    "    select\n",
    "        *\n",
    "    from\n",
    "        clus_init\n",
    "\"\"\")"
   ]
  },
  {
   "cell_type": "code",
   "execution_count": 122,
   "id": "132a8399-0b40-4827-ae02-4e97d69cb74b",
   "metadata": {},
   "outputs": [
    {
     "data": {
      "text/plain": [
       "True"
      ]
     },
     "execution_count": 122,
     "metadata": {},
     "output_type": "execute_result"
    },
    {
     "data": {
      "text/html": [
       "<div>\n",
       "<style scoped>\n",
       "    .dataframe tbody tr th:only-of-type {\n",
       "        vertical-align: middle;\n",
       "    }\n",
       "\n",
       "    .dataframe tbody tr th {\n",
       "        vertical-align: top;\n",
       "    }\n",
       "\n",
       "    .dataframe thead tr th {\n",
       "        text-align: left;\n",
       "    }\n",
       "</style>\n",
       "<table border=\"1\" class=\"dataframe\">\n",
       "  <thead>\n",
       "  </thead>\n",
       "  <tbody>\n",
       "  </tbody>\n",
       "</table>\n",
       "</div>"
      ],
      "text/plain": [
       "Empty DataFrame\n",
       "Columns: []\n",
       "Index: []"
      ]
     },
     "execution_count": 122,
     "metadata": {},
     "output_type": "execute_result"
    }
   ],
   "source": [
    "clus_check_l = duckdb.sql(\"\"\"\n",
    "    select\n",
    "        cluster,\n",
    "        id,\n",
    "        source,\n",
    "        n::int as n\n",
    "    from\n",
    "        clus_complete\n",
    "    order by\n",
    "        cluster,\n",
    "        source,\n",
    "        id,\n",
    "        n\n",
    "\"\"\")\n",
    "clus_check_r = duckdb.sql(\"\"\"\n",
    "    select\n",
    "        cluster,\n",
    "        id,\n",
    "        source,\n",
    "        n_par::int as n\n",
    "    from\n",
    "        clus\n",
    "    order by\n",
    "        cluster,\n",
    "        source,\n",
    "        id,\n",
    "        n_par\n",
    "\"\"\")\n",
    "clus_check_l.df().equals(clus_check_r.df())\n",
    "clus_check_l.df().compare(clus_check_r.df())"
   ]
  },
  {
   "cell_type": "markdown",
   "id": "d6538182-58d7-4cc7-a238-572b43a4d655",
   "metadata": {},
   "source": [
    "### Sequential\n",
    "\n",
    "Sometimes we'll add one table to `probabilities`, then resolve to `clusters`, then do that over and over."
   ]
  },
  {
   "cell_type": "code",
   "execution_count": 132,
   "id": "1dd5c01f-2210-4781-bfd9-acfa94f7cc3d",
   "metadata": {},
   "outputs": [
    {
     "data": {
      "text/plain": [
       "┌───────┬─────────┬──────────────┬────────┬───────┐\n",
       "│ uuid  │ cluster │      id      │ source │   n   │\n",
       "│ int64 │  int64  │   varchar    │ int64  │ int32 │\n",
       "├───────┼─────────┼──────────────┼────────┼───────┤\n",
       "│     1 │       1 │ will_inc_t1  │      1 │     0 │\n",
       "│     2 │       2 │ leo_inc_t1   │      1 │     0 │\n",
       "│     3 │       3 │ sarah_inc_t1 │      1 │     0 │\n",
       "└───────┴─────────┴──────────────┴────────┴───────┘"
      ]
     },
     "execution_count": 132,
     "metadata": {},
     "output_type": "execute_result"
    }
   ],
   "source": [
    "clus_init = duckdb.sql(\"\"\"\n",
    "    drop sequence if exists uuid;\n",
    "    drop sequence if exists cluster;\n",
    "    create sequence uuid start 1;\n",
    "    create sequence cluster start 1;\n",
    "    select\n",
    "        nextval('uuid') as uuid,\n",
    "        nextval('cluster') as cluster,\n",
    "        id,\n",
    "        source,\n",
    "        0 as n,\n",
    "    from\n",
    "        prob\n",
    "    where\n",
    "        cluster = 0\n",
    "\"\"\")\n",
    "clus_init"
   ]
  },
  {
   "cell_type": "code",
   "execution_count": 133,
   "id": "dcdbfc77-7bce-49ba-8564-9a25a0790649",
   "metadata": {},
   "outputs": [],
   "source": [
    "prob_n1 = duckdb.sql(\"\"\"\n",
    "    select\n",
    "        *\n",
    "    from\n",
    "        prob\n",
    "    where\n",
    "        source = 2\n",
    "\"\"\")\n",
    "prob_n2 = duckdb.sql(\"\"\"\n",
    "    select\n",
    "        *\n",
    "    from\n",
    "        prob\n",
    "    where\n",
    "        source = 3\n",
    "\"\"\")\n",
    "prob_n3 = duckdb.sql(\"\"\"\n",
    "    select\n",
    "        *\n",
    "    from\n",
    "        prob\n",
    "    where\n",
    "        source = 4\n",
    "\"\"\")"
   ]
  },
  {
   "cell_type": "code",
   "execution_count": 134,
   "id": "c0f0bae9-1358-472e-8e5b-82445aabacf7",
   "metadata": {},
   "outputs": [
    {
     "data": {
      "text/plain": [
       "┌───────┬─────────┬──────────────┬────────┬───────┐\n",
       "│ uuid  │ cluster │      id      │ source │   n   │\n",
       "│ int64 │  int64  │   varchar    │ int64  │ int32 │\n",
       "├───────┼─────────┼──────────────┼────────┼───────┤\n",
       "│     1 │       1 │ will_inc_t1  │      1 │     0 │\n",
       "│     2 │       2 │ leo_inc_t1   │      1 │     0 │\n",
       "│     3 │       3 │ sarah_inc_t1 │      1 │     0 │\n",
       "│     4 │       1 │ will_inc_t2  │      2 │     1 │\n",
       "│     5 │       4 │ pedro_inc_t2 │      2 │     1 │\n",
       "│     6 │       2 │ leo_inc_t2   │      2 │     1 │\n",
       "└───────┴─────────┴──────────────┴────────┴───────┘"
      ]
     },
     "execution_count": 134,
     "metadata": {},
     "output_type": "execute_result"
    }
   ],
   "source": [
    "clus_n1 = duckdb.sql(\"\"\"\n",
    "    select\n",
    "        nextval('uuid') as uuid,\n",
    "        cluster,\n",
    "        id,\n",
    "        source,\n",
    "        1 as n,\n",
    "    from (\n",
    "        select\n",
    "            distinct on (prob.cluster, prob.source)\n",
    "            prob.*\n",
    "        from\n",
    "            prob_n1 prob\n",
    "        anti join clus_init cl on\n",
    "            cl.id = prob.id\n",
    "            and cl.source = prob.source\n",
    "        where\n",
    "            probability > 0.7\n",
    "        order by\n",
    "            probability desc,\n",
    "            id desc\n",
    "    )\n",
    "    union\n",
    "    select\n",
    "        *\n",
    "    from\n",
    "        clus_init\n",
    "\"\"\")\n",
    "clus_n1"
   ]
  },
  {
   "cell_type": "code",
   "execution_count": 135,
   "id": "96f72767-0493-4e73-b435-a88243a0f32e",
   "metadata": {},
   "outputs": [
    {
     "data": {
      "text/plain": [
       "┌───────┬─────────┬──────────────┬────────┬───────┐\n",
       "│ uuid  │ cluster │      id      │ source │   n   │\n",
       "│ int64 │  int64  │   varchar    │ int64  │ int32 │\n",
       "├───────┼─────────┼──────────────┼────────┼───────┤\n",
       "│     1 │       1 │ will_inc_t1  │      1 │     0 │\n",
       "│     2 │       2 │ leo_inc_t1   │      1 │     0 │\n",
       "│     3 │       3 │ sarah_inc_t1 │      1 │     0 │\n",
       "│    10 │       1 │ will_inc_t2  │      2 │     1 │\n",
       "│    11 │       4 │ pedro_inc_t2 │      2 │     1 │\n",
       "│    12 │       2 │ leo_inc_t2   │      2 │     1 │\n",
       "│    13 │       1 │ will_inc_t3  │      3 │     2 │\n",
       "└───────┴─────────┴──────────────┴────────┴───────┘"
      ]
     },
     "execution_count": 135,
     "metadata": {},
     "output_type": "execute_result"
    }
   ],
   "source": [
    "clus_n2 = duckdb.sql(\"\"\"\n",
    "    select\n",
    "        nextval('uuid') as uuid,\n",
    "        cluster,\n",
    "        id,\n",
    "        source,\n",
    "        2 as n,\n",
    "    from (\n",
    "        select\n",
    "            distinct on (prob.cluster, prob.source)\n",
    "            prob.*\n",
    "        from\n",
    "            prob_n2 prob\n",
    "        anti join clus_n1 cl on\n",
    "            cl.id = prob.id\n",
    "            and cl.source = prob.source\n",
    "        where\n",
    "            probability > 0.7\n",
    "        order by\n",
    "            probability desc,\n",
    "            id desc\n",
    "    )\n",
    "    union\n",
    "    select\n",
    "        *\n",
    "    from\n",
    "        clus_n1\n",
    "\"\"\")\n",
    "clus_n2"
   ]
  },
  {
   "cell_type": "code",
   "execution_count": 136,
   "id": "af2f346e-6600-4a7f-9eba-bc83863757a4",
   "metadata": {},
   "outputs": [
    {
     "data": {
      "text/plain": [
       "┌───────┬─────────┬──────────────┬────────┬───────┐\n",
       "│ uuid  │ cluster │      id      │ source │   n   │\n",
       "│ int64 │  int64  │   varchar    │ int64  │ int32 │\n",
       "├───────┼─────────┼──────────────┼────────┼───────┤\n",
       "│     1 │       1 │ will_inc_t1  │      1 │     0 │\n",
       "│     2 │       2 │ leo_inc_t1   │      1 │     0 │\n",
       "│     3 │       3 │ sarah_inc_t1 │      1 │     0 │\n",
       "│    14 │       1 │ will_inc_t2  │      2 │     1 │\n",
       "│    15 │       4 │ pedro_inc_t2 │      2 │     1 │\n",
       "│    16 │       2 │ leo_inc_t2   │      2 │     1 │\n",
       "│    27 │       1 │ will_inc_t3  │      3 │     2 │\n",
       "└───────┴─────────┴──────────────┴────────┴───────┘"
      ]
     },
     "execution_count": 136,
     "metadata": {},
     "output_type": "execute_result"
    }
   ],
   "source": [
    "clus_n3 = duckdb.sql(\"\"\"\n",
    "    select\n",
    "        nextval('uuid') as uuid,\n",
    "        cluster,\n",
    "        id,\n",
    "        source,\n",
    "        3 as n,\n",
    "    from (\n",
    "        select\n",
    "            distinct on (prob.cluster, prob.source)\n",
    "            prob.*\n",
    "        from\n",
    "            prob_n3 prob\n",
    "        anti join clus_n2 on\n",
    "            clus_n2.id = prob.id\n",
    "            and clus_n2.source = prob.source\n",
    "        where\n",
    "            probability > 0.7\n",
    "        order by\n",
    "            probability desc,\n",
    "            id desc\n",
    "    )\n",
    "    union\n",
    "    select\n",
    "        *\n",
    "    from\n",
    "        clus_n2\n",
    "\"\"\")\n",
    "clus_n3"
   ]
  },
  {
   "cell_type": "code",
   "execution_count": 137,
   "id": "5a90a411-db08-4ed6-be5f-8224b729a9cd",
   "metadata": {},
   "outputs": [
    {
     "data": {
      "text/plain": [
       "True"
      ]
     },
     "execution_count": 137,
     "metadata": {},
     "output_type": "execute_result"
    },
    {
     "data": {
      "text/html": [
       "<div>\n",
       "<style scoped>\n",
       "    .dataframe tbody tr th:only-of-type {\n",
       "        vertical-align: middle;\n",
       "    }\n",
       "\n",
       "    .dataframe tbody tr th {\n",
       "        vertical-align: top;\n",
       "    }\n",
       "\n",
       "    .dataframe thead tr th {\n",
       "        text-align: left;\n",
       "    }\n",
       "</style>\n",
       "<table border=\"1\" class=\"dataframe\">\n",
       "  <thead>\n",
       "  </thead>\n",
       "  <tbody>\n",
       "  </tbody>\n",
       "</table>\n",
       "</div>"
      ],
      "text/plain": [
       "Empty DataFrame\n",
       "Columns: []\n",
       "Index: []"
      ]
     },
     "execution_count": 137,
     "metadata": {},
     "output_type": "execute_result"
    },
    {
     "data": {
      "text/plain": [
       "True"
      ]
     },
     "execution_count": 137,
     "metadata": {},
     "output_type": "execute_result"
    },
    {
     "data": {
      "text/html": [
       "<div>\n",
       "<style scoped>\n",
       "    .dataframe tbody tr th:only-of-type {\n",
       "        vertical-align: middle;\n",
       "    }\n",
       "\n",
       "    .dataframe tbody tr th {\n",
       "        vertical-align: top;\n",
       "    }\n",
       "\n",
       "    .dataframe thead tr th {\n",
       "        text-align: left;\n",
       "    }\n",
       "</style>\n",
       "<table border=\"1\" class=\"dataframe\">\n",
       "  <thead>\n",
       "  </thead>\n",
       "  <tbody>\n",
       "  </tbody>\n",
       "</table>\n",
       "</div>"
      ],
      "text/plain": [
       "Empty DataFrame\n",
       "Columns: []\n",
       "Index: []"
      ]
     },
     "execution_count": 137,
     "metadata": {},
     "output_type": "execute_result"
    }
   ],
   "source": [
    "clus_check_l1 = duckdb.sql(\"\"\"\n",
    "    select\n",
    "        cluster,\n",
    "        id,\n",
    "        source,\n",
    "        n::int as n\n",
    "    from\n",
    "        clus_n2\n",
    "    order by\n",
    "        cluster,\n",
    "        source,\n",
    "        id,\n",
    "        n\n",
    "\"\"\")\n",
    "clus_check_l2 = duckdb.sql(\"\"\"\n",
    "    select\n",
    "        cluster,\n",
    "        id,\n",
    "        source,\n",
    "        n::int as n\n",
    "    from\n",
    "        clus_n3\n",
    "    order by\n",
    "        cluster,\n",
    "        source,\n",
    "        id,\n",
    "        n\n",
    "\"\"\")\n",
    "clus_check_r = duckdb.sql(\"\"\"\n",
    "    select\n",
    "        cluster,\n",
    "        id,\n",
    "        source,\n",
    "        n_seq::int as n\n",
    "    from\n",
    "        clus\n",
    "    order by\n",
    "        cluster,\n",
    "        source,\n",
    "        id,\n",
    "        n_par\n",
    "\"\"\")\n",
    "clus_check_l1.df().equals(clus_check_r.df())\n",
    "clus_check_l1.df().compare(clus_check_r.df())\n",
    "clus_check_l2.df().equals(clus_check_r.df())\n",
    "clus_check_l2.df().compare(clus_check_r.df())"
   ]
  },
  {
   "cell_type": "code",
   "execution_count": null,
   "id": "fb0662ef-5e71-45ba-a00f-efcde5b54422",
   "metadata": {},
   "outputs": [],
   "source": []
  }
 ],
 "metadata": {
  "kernelspec": {
   "display_name": "company_matching",
   "language": "python",
   "name": "company_matching"
  },
  "language_info": {
   "codemirror_mode": {
    "name": "ipython",
    "version": 3
   },
   "file_extension": ".py",
   "mimetype": "text/x-python",
   "name": "python",
   "nbconvert_exporter": "python",
   "pygments_lexer": "ipython3",
   "version": "3.9.16"
  }
 },
 "nbformat": 4,
 "nbformat_minor": 5
}
