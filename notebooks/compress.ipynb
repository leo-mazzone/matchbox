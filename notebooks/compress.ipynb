{
 "cells": [
  {
   "cell_type": "code",
   "execution_count": 1,
   "metadata": {},
   "outputs": [],
   "source": [
    "from hashlib import sha1\n",
    "import numpy as np\n",
    "import pyarrow as pa\n",
    "from typing import List\n",
    "\n",
    "def fast_generate_hashes(n: int = int(2e7)) -> pa.Array:\n",
    "    \"\"\"Generate n SHA1 hashes using PyArrow arrays.\"\"\"\n",
    "    hashes = [sha1(i.to_bytes(8, 'big')).digest() \n",
    "              for i in range(int(n))]\n",
    "    return pa.array(hashes, type=pa.binary())\n",
    "\n",
    "def fast_sample_pairs(hashes: pa.Array, n: int = int(1e8)) -> pa.Table:\n",
    "    \"\"\"Generate hash pairs with random new hashes.\"\"\"\n",
    "    hash_count = len(hashes)\n",
    "    \n",
    "    # Generate indices\n",
    "    left = np.random.randint(0, hash_count, n)\n",
    "    right = np.random.randint(0, hash_count - 1, n)\n",
    "    right += (right >= left)\n",
    "    \n",
    "    # Take values using PyArrow\n",
    "    left_hashes = hashes.take(pa.array(left))\n",
    "    right_hashes = hashes.take(pa.array(right))\n",
    "    \n",
    "    # Generate probabilities as PyArrow array\n",
    "    probs = pa.array(np.random.random(n), type=pa.float64())\n",
    "    \n",
    "    # Generate completely new random hashes instead of combining\n",
    "    new_hashes = [sha1(i.to_bytes(8, 'big')).digest() \n",
    "                  for i in range(n)]\n",
    "    combined_arr = pa.array(new_hashes, type=pa.binary())\n",
    "    \n",
    "    # Create table directly with PyArrow\n",
    "    return pa.table({\n",
    "        'hash': combined_arr,\n",
    "        'left': left_hashes,\n",
    "        'right': right_hashes,\n",
    "        'probability': probs\n",
    "    })\n"
   ]
  },
  {
   "cell_type": "code",
   "execution_count": 4,
   "metadata": {},
   "outputs": [],
   "source": [
    "hashes = fast_generate_hashes(int(2e7))\n",
    "arrow_table = fast_sample_pairs(hashes, int(1e8))"
   ]
  },
  {
   "cell_type": "code",
   "execution_count": 5,
   "metadata": {},
   "outputs": [
    {
     "data": {
      "text/plain": [
       "(hash: binary\n",
       " left: binary\n",
       " right: binary\n",
       " probability: double,\n",
       " '7653.24MB')"
      ]
     },
     "execution_count": 5,
     "metadata": {},
     "output_type": "execute_result"
    }
   ],
   "source": [
    "arrow_table.schema, f\"{arrow_table.nbytes / (1024 * 1024):.2f}MB\""
   ]
  },
  {
   "cell_type": "code",
   "execution_count": 8,
   "metadata": {},
   "outputs": [],
   "source": [
    "import pyarrow.parquet as pq\n",
    "from pathlib import Path\n",
    "\n",
    "# Define the path to save the parquet file\n",
    "file_path = Path.cwd() / 'probabilities.parquet'\n",
    "\n",
    "# Save the arrow_table to a parquet file\n",
    "pq.write_table(arrow_table, file_path)"
   ]
  }
 ],
 "metadata": {
  "kernelspec": {
   "display_name": ".venv",
   "language": "python",
   "name": "python3"
  },
  "language_info": {
   "codemirror_mode": {
    "name": "ipython",
    "version": 3
   },
   "file_extension": ".py",
   "mimetype": "text/x-python",
   "name": "python",
   "nbconvert_exporter": "python",
   "pygments_lexer": "ipython3",
   "version": "3.11.8"
  }
 },
 "nbformat": 4,
 "nbformat_minor": 2
}
