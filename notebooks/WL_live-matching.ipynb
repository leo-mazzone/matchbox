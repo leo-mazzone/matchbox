{
 "cells": [
  {
   "cell_type": "code",
   "execution_count": 4,
   "id": "faa1b4bb-7287-4a92-82a6-6f25dccb6953",
   "metadata": {},
   "outputs": [],
   "source": [
    "%load_ext autoreload\n",
    "%autoreload 2\n",
    "from IPython.core.interactiveshell import InteractiveShell\n",
    "InteractiveShell.ast_node_interactivity = \"all\""
   ]
  },
  {
   "cell_type": "code",
   "execution_count": 6,
   "id": "d09cc18b-6c64-4ce1-8849-463f09c929f1",
   "metadata": {},
   "outputs": [],
   "source": [
    "import connectorx as cx\n",
    "import os\n",
    "import pandas as pd\n",
    "\n",
    "import src.data.utils as du"
   ]
  },
  {
   "cell_type": "markdown",
   "id": "f7ee79a5-e210-4aaa-b0f9-7602a02c70bf",
   "metadata": {},
   "source": [
    "# Deployed lookup testing\n",
    "\n",
    "Using this to both refine lookup speed and boilerplate code for achieving our target tasks:\n",
    "\n",
    "* Joining multiple tables with duplicates in the source and targets\n",
    "* Joining multiple tables with duplicates in the source, but the best match in the target\n",
    "* Finding duplicates in the source\n",
    "\n",
    "It's worth noting the below is just for raw data extraction. Especially when duplicates are involved, you'd expect the below to become aggregation queries, which will slow stuff up."
   ]
  },
  {
   "cell_type": "markdown",
   "id": "a110a777-c452-4a1f-ae9c-9ca2d7b0a1df",
   "metadata": {},
   "source": [
    "## With dupes in both source and target\n",
    "\n",
    "Joining data from three medium-sized tables.\n",
    "\n",
    "V1 index is two multicolumn b-tree indices on `source`/`target` and `source_id`/`target_id`.\n",
    "\n",
    "| `return_type` | lib | index on lookup | time (seconds) |\n",
    "| --- | --- | --- | --- |\n",
    "| None | pgAdmin | no | 53 |\n",
    "| `arrow` | `connectorx` | no | 52 |\n",
    "| `pandas` | `connectorx` | no | 115 |\n",
    "| `pandas` | `pandas=1.3.5` | no | 72 |\n",
    "| None | pgAdmin | v1 | 15 |\n",
    "| `arrow` | `connectorx` | v1 | 10 |\n",
    "| `pandas` | `connectorx` | v1 | 15 |\n",
    "| `pandas` | `pandas=1.3.5` | v1 | 17 |"
   ]
  },
  {
   "cell_type": "code",
   "execution_count": 4,
   "id": "19730bc7-ca7f-4798-83df-691d66d1355c",
   "metadata": {},
   "outputs": [],
   "source": [
    "sql = \"\"\"\n",
    "    select\n",
    "        ch.id,\n",
    "        ch.company_name as ch_name,\n",
    "        dh.name as dh_name,\n",
    "        ew.company_name as ew_name\n",
    "    from (\n",
    "        select \n",
    "            *\n",
    "        from\n",
    "            _user_eaf4fd9a.lookup lookup\n",
    "        where\n",
    "            lookup.source = 'companieshouse_companies'\n",
    "            and lookup.target in (\n",
    "                'dit_data_hub__companies',\n",
    "                'dit_export_wins__wins_dataset'\n",
    "            )\n",
    "    ) lookup\n",
    "    right outer join companieshouse.companies ch on\n",
    "        lookup.source_id = ch.id::text\n",
    "        and lookup.source = 'companieshouse_companies'\n",
    "    left join dit.data_hub__companies dh on\n",
    "        lookup.target_id = dh.id::text\n",
    "        and lookup.target = 'dit_data_hub__companies'\n",
    "    left join dit.export_wins__wins_dataset ew on\n",
    "        lookup.target_id = ew.id::text\n",
    "        and lookup.target = 'dit_export_wins__wins_dataset'  \n",
    "\"\"\""
   ]
  },
  {
   "cell_type": "code",
   "execution_count": 9,
   "id": "18b9430f-2136-40da-a845-2823fffbd474",
   "metadata": {},
   "outputs": [
    {
     "name": "stdout",
     "output_type": "stream",
     "text": [
      "CPU times: user 5.07 s, sys: 375 ms, total: 5.44 s\n",
      "Wall time: 10.6 s\n"
     ]
    }
   ],
   "source": [
    "%%time\n",
    "\n",
    "df = cx.read_sql(\n",
    "    conn = f\"postgres://{os.environ['PGUSER']}:{os.environ['PGPASSWORD']}@{os.environ['PGHOST']}:{os.environ['PGPORT']}/{os.environ['PGDATABASE']}\",\n",
    "    query = sql,\n",
    "    return_type = \"arrow\"\n",
    ")"
   ]
  },
  {
   "cell_type": "code",
   "execution_count": 6,
   "id": "2864b6ad-7e31-4c92-90e3-5483e9c2b820",
   "metadata": {},
   "outputs": [
    {
     "name": "stdout",
     "output_type": "stream",
     "text": [
      "CPU times: user 5.39 s, sys: 673 ms, total: 6.07 s\n",
      "Wall time: 17.3 s\n"
     ]
    }
   ],
   "source": [
    "%%time\n",
    "\n",
    "df = cx.read_sql(\n",
    "    conn = f\"postgres://{os.environ['PGUSER']}:{os.environ['PGPASSWORD']}@{os.environ['PGHOST']}:{os.environ['PGPORT']}/{os.environ['PGDATABASE']}\",\n",
    "    query = sql,\n",
    "    return_type = \"pandas\"\n",
    ")"
   ]
  },
  {
   "cell_type": "code",
   "execution_count": 7,
   "id": "c4bfd7a0-b966-458d-8fb3-e90d69d42961",
   "metadata": {},
   "outputs": [
    {
     "name": "stdout",
     "output_type": "stream",
     "text": [
      "CPU times: user 10.7 s, sys: 1.44 s, total: 12.2 s\n",
      "Wall time: 19 s\n"
     ]
    }
   ],
   "source": [
    "%%time\n",
    "\n",
    "with du.sql_engine.connect() as connection:\n",
    "    df = pd.read_sql(\n",
    "        sql, \n",
    "        connection\n",
    "    )"
   ]
  },
  {
   "cell_type": "code",
   "execution_count": 8,
   "id": "93ed8dd3-1692-40d7-a52c-b5d80b6b49a0",
   "metadata": {},
   "outputs": [
    {
     "name": "stdout",
     "output_type": "stream",
     "text": [
      "<class 'pandas.core.frame.DataFrame'>\n",
      "RangeIndex: 5379033 entries, 0 to 5379032\n",
      "Data columns (total 4 columns):\n",
      " #   Column   Dtype \n",
      "---  ------   ----- \n",
      " 0   id       object\n",
      " 1   ch_name  object\n",
      " 2   dh_name  object\n",
      " 3   ew_name  object\n",
      "dtypes: object(4)\n",
      "memory usage: 164.2+ MB\n"
     ]
    }
   ],
   "source": [
    "df.info()"
   ]
  },
  {
   "cell_type": "markdown",
   "id": "bb9a0c2a-dd8f-448c-afd2-398199044eac",
   "metadata": {},
   "source": [
    "## Without dupes in target, with dupes in source\n",
    "\n",
    "Top result only from targets, ignores duplicates in source. Same data as above. No non-indexed benchmark, sorry.\n",
    "\n",
    "When using a deduped source, this will result in unique source to top result in target.\n",
    "\n",
    "V1 index is two multicolumn b-tree indices on `source`/`target` and `source_id`/`target_id`.\n",
    "\n",
    "| `return_type` | lib | index on lookup | time (seconds) |\n",
    "| --- | --- | --- | --- |\n",
    "| None | pgAdmin | v1 | 27 |\n",
    "| `arrow` | `connectorx` | v1 | 12 |\n",
    "| `pandas` | `connectorx` | v1 | 22 |\n",
    "| `pandas` | `pandas=1.3.5` | v1 | 21 |"
   ]
  },
  {
   "cell_type": "code",
   "execution_count": 2,
   "id": "4af06827-74a4-4b2c-b045-670d2b15ee33",
   "metadata": {},
   "outputs": [],
   "source": [
    "sql = \"\"\"\n",
    "    select\n",
    "        ch.id,\n",
    "        ch.company_name as ch_name,\n",
    "        dh.name as dh_name,\n",
    "        ew.company_name as ew_name\n",
    "    from (\n",
    "        select\n",
    "            companieshouse_companies,\n",
    "            max(dit_data_hub__companies) as dit_data_hub__companies,\n",
    "            max(dit_export_wins__wins_dataset) as dit_export_wins__wins_dataset\n",
    "        from crosstab(\n",
    "            'select distinct on (target, target_id)\n",
    "                source_id,\n",
    "                target,\n",
    "                target_id\n",
    "            from (\n",
    "                select distinct on (source_id, target)\n",
    "                    source_id,\n",
    "                    target,\n",
    "                    target_id,\n",
    "                    match_probability\n",
    "                from\n",
    "                    \"_user_eaf4fd9a\".\"lookup\" lookup\n",
    "                where\n",
    "                    lookup.source = ''companieshouse_companies''\n",
    "                    and lookup.target in (\n",
    "                        ''dit_data_hub__companies'',\n",
    "                        ''dit_export_wins__wins_dataset''\n",
    "                    )\n",
    "                order by\n",
    "                    source_id,\n",
    "                    target,\n",
    "                    target_id,\n",
    "                    match_probability desc\n",
    "            ) lookup\n",
    "            order by\n",
    "                target, \n",
    "                target_id,\n",
    "                match_probability',\n",
    "            $$ values\n",
    "                ('dit_data_hub__companies'::text), \n",
    "                ('dit_export_wins__wins_dataset'::text)\n",
    "            $$ \n",
    "        ) as ct (\n",
    "            \"companieshouse_companies\" text,\n",
    "            \"dit_data_hub__companies\" text,\n",
    "            \"dit_export_wins__wins_dataset\" text\n",
    "        )\n",
    "        group by\n",
    "            companieshouse_companies\n",
    "    ) lookup\n",
    "    right outer join companieshouse.companies ch on\n",
    "        lookup.companieshouse_companies = ch.id::text\n",
    "    left join dit.data_hub__companies dh on\n",
    "        lookup.dit_data_hub__companies = dh.id::text\n",
    "    left join dit.export_wins__wins_dataset ew on\n",
    "        lookup.dit_export_wins__wins_dataset = ew.id::text\n",
    "\"\"\""
   ]
  },
  {
   "cell_type": "code",
   "execution_count": 7,
   "id": "c84c38c1-95a2-41ee-9661-2fa8617cf006",
   "metadata": {},
   "outputs": [
    {
     "name": "stdout",
     "output_type": "stream",
     "text": [
      "CPU times: user 3.61 s, sys: 192 ms, total: 3.81 s\n",
      "Wall time: 12.4 s\n"
     ]
    }
   ],
   "source": [
    "%%time\n",
    "\n",
    "df = cx.read_sql(\n",
    "    conn = f\"postgres://{os.environ['PGUSER']}:{os.environ['PGPASSWORD']}@{os.environ['PGHOST']}:{os.environ['PGPORT']}/{os.environ['PGDATABASE']}\",\n",
    "    query = sql,\n",
    "    return_type = \"arrow\"\n",
    ")"
   ]
  },
  {
   "cell_type": "code",
   "execution_count": 8,
   "id": "e73ed80c-5d33-445d-9039-8cbe9fe9572d",
   "metadata": {},
   "outputs": [
    {
     "name": "stdout",
     "output_type": "stream",
     "text": [
      "CPU times: user 4.07 s, sys: 579 ms, total: 4.65 s\n",
      "Wall time: 22.4 s\n"
     ]
    }
   ],
   "source": [
    "%%time\n",
    "\n",
    "df = cx.read_sql(\n",
    "    conn = f\"postgres://{os.environ['PGUSER']}:{os.environ['PGPASSWORD']}@{os.environ['PGHOST']}:{os.environ['PGPORT']}/{os.environ['PGDATABASE']}\",\n",
    "    query = sql,\n",
    "    return_type = \"pandas\"\n",
    ")"
   ]
  },
  {
   "cell_type": "code",
   "execution_count": 9,
   "id": "bd575c52-f361-47d3-9baa-e44340483199",
   "metadata": {},
   "outputs": [
    {
     "name": "stdout",
     "output_type": "stream",
     "text": [
      "CPU times: user 9.6 s, sys: 1.02 s, total: 10.6 s\n",
      "Wall time: 21 s\n"
     ]
    }
   ],
   "source": [
    "%%time\n",
    "\n",
    "with du.sql_engine.connect() as connection:\n",
    "    df = pd.read_sql(\n",
    "        sql, \n",
    "        connection\n",
    "    )"
   ]
  },
  {
   "cell_type": "code",
   "execution_count": 10,
   "id": "6d44bbae-fd20-4939-ad1a-2ef53fba2eec",
   "metadata": {},
   "outputs": [
    {
     "name": "stdout",
     "output_type": "stream",
     "text": [
      "<class 'pandas.core.frame.DataFrame'>\n",
      "RangeIndex: 5359637 entries, 0 to 5359636\n",
      "Data columns (total 4 columns):\n",
      " #   Column   Dtype \n",
      "---  ------   ----- \n",
      " 0   id       object\n",
      " 1   ch_name  object\n",
      " 2   dh_name  object\n",
      " 3   ew_name  object\n",
      "dtypes: object(4)\n",
      "memory usage: 163.6+ MB\n"
     ]
    }
   ],
   "source": [
    "df.info()"
   ]
  },
  {
   "cell_type": "markdown",
   "id": "4f3f6b4b-c8dc-4093-a6f4-361c323bd5cd",
   "metadata": {},
   "source": [
    "## Finding duplicates in source\n",
    "\n",
    "V1 index is two multicolumn b-tree indices on `source`/`target` and `source_id`/`target_id`.\n",
    "\n",
    "| `return_type` | lib | index on lookup | time (seconds) |\n",
    "| --- | --- | --- | --- |\n",
    "| None | pgAdmin | v1 | x |\n",
    "| `arrow` | `connectorx` | v1 | x |\n",
    "| `pandas` | `connectorx` | v1 | x |\n",
    "| `pandas` | `pandas=1.3.5` | v1 | x |"
   ]
  }
 ],
 "metadata": {
  "kernelspec": {
   "display_name": "company_matching",
   "language": "python",
   "name": "company_matching"
  },
  "language_info": {
   "codemirror_mode": {
    "name": "ipython",
    "version": 3
   },
   "file_extension": ".py",
   "mimetype": "text/x-python",
   "name": "python",
   "nbconvert_exporter": "python",
   "pygments_lexer": "ipython3",
   "version": "3.9.16"
  }
 },
 "nbformat": 4,
 "nbformat_minor": 5
}
