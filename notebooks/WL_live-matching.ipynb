{
 "cells": [
  {
   "cell_type": "code",
   "execution_count": 1,
   "id": "faa1b4bb-7287-4a92-82a6-6f25dccb6953",
   "metadata": {},
   "outputs": [],
   "source": [
    "%load_ext autoreload\n",
    "%autoreload 2\n",
    "from IPython.core.interactiveshell import InteractiveShell\n",
    "InteractiveShell.ast_node_interactivity = \"all\""
   ]
  },
  {
   "cell_type": "code",
   "execution_count": 3,
   "id": "d09cc18b-6c64-4ce1-8849-463f09c929f1",
   "metadata": {},
   "outputs": [],
   "source": [
    "import connectorx as cx\n",
    "import os\n",
    "import pandas as pd\n",
    "\n",
    "import src.data.utils as du"
   ]
  },
  {
   "cell_type": "markdown",
   "id": "a110a777-c452-4a1f-ae9c-9ca2d7b0a1df",
   "metadata": {},
   "source": [
    "## With dupes\n",
    "\n",
    "Joining data from three medium-sized tables.\n",
    "\n",
    "V1 index is two multicolumn b-tree indices on `source`/`target` and `source_id`/`target_id`.\n",
    "\n",
    "| `return_type` | lib | index on lookup | time (seconds) |\n",
    "| --- | --- | --- | --- |\n",
    "| None | pgAdmin | no | 53 |\n",
    "| `arrow` | `connectorx` | no | 52 |\n",
    "| `pandas` | `connectorx` | no | 115 |\n",
    "| `pandas` | `pandas=1.3.5` | no | 72 |\n",
    "| None | pgAdmin | v1 | 15 |\n",
    "| `arrow` | `connectorx` | v1 | 10 |\n",
    "| `pandas` | `connectorx` | v1 | 15 |\n",
    "| `pandas` | `pandas=1.3.5` | v1 | 17 |"
   ]
  },
  {
   "cell_type": "code",
   "execution_count": 4,
   "id": "19730bc7-ca7f-4798-83df-691d66d1355c",
   "metadata": {},
   "outputs": [],
   "source": [
    "sql = \"\"\"\n",
    "    select\n",
    "        ch.id,\n",
    "        ch.company_name as ch_name,\n",
    "        dh.name as dh_name,\n",
    "        ew.company_name as ew_name\n",
    "    from (\n",
    "        select \n",
    "            *\n",
    "        from\n",
    "            _user_eaf4fd9a.lookup lookup\n",
    "        where\n",
    "            lookup.source = 'companieshouse_companies'\n",
    "            and lookup.target in (\n",
    "                'dit_data_hub__companies',\n",
    "                'dit_export_wins__wins_dataset'\n",
    "            )\n",
    "    ) lookup\n",
    "    right outer join companieshouse.companies ch on\n",
    "        lookup.source_id = ch.id::text\n",
    "        and lookup.source = 'companieshouse_companies'\n",
    "    left join dit.data_hub__companies dh on\n",
    "        lookup.target_id = dh.id::text\n",
    "        and lookup.target = 'dit_data_hub__companies'\n",
    "    left join dit.export_wins__wins_dataset ew on\n",
    "        lookup.target_id = ew.id::text\n",
    "        and lookup.target = 'dit_export_wins__wins_dataset'  \n",
    "\"\"\""
   ]
  },
  {
   "cell_type": "code",
   "execution_count": 9,
   "id": "18b9430f-2136-40da-a845-2823fffbd474",
   "metadata": {},
   "outputs": [
    {
     "name": "stdout",
     "output_type": "stream",
     "text": [
      "CPU times: user 5.07 s, sys: 375 ms, total: 5.44 s\n",
      "Wall time: 10.6 s\n"
     ]
    }
   ],
   "source": [
    "%%time\n",
    "\n",
    "df = cx.read_sql(\n",
    "    conn = f\"postgres://{os.environ['PGUSER']}:{os.environ['PGPASSWORD']}@{os.environ['PGHOST']}:{os.environ['PGPORT']}/{os.environ['PGDATABASE']}\",\n",
    "    query = sql,\n",
    "    return_type = \"arrow\"\n",
    ")"
   ]
  },
  {
   "cell_type": "code",
   "execution_count": 6,
   "id": "2864b6ad-7e31-4c92-90e3-5483e9c2b820",
   "metadata": {},
   "outputs": [
    {
     "name": "stdout",
     "output_type": "stream",
     "text": [
      "CPU times: user 5.39 s, sys: 673 ms, total: 6.07 s\n",
      "Wall time: 17.3 s\n"
     ]
    }
   ],
   "source": [
    "%%time\n",
    "\n",
    "df = cx.read_sql(\n",
    "    conn = f\"postgres://{os.environ['PGUSER']}:{os.environ['PGPASSWORD']}@{os.environ['PGHOST']}:{os.environ['PGPORT']}/{os.environ['PGDATABASE']}\",\n",
    "    query = sql,\n",
    "    return_type = \"pandas\"\n",
    ")"
   ]
  },
  {
   "cell_type": "code",
   "execution_count": 7,
   "id": "c4bfd7a0-b966-458d-8fb3-e90d69d42961",
   "metadata": {},
   "outputs": [
    {
     "name": "stdout",
     "output_type": "stream",
     "text": [
      "CPU times: user 10.7 s, sys: 1.44 s, total: 12.2 s\n",
      "Wall time: 19 s\n"
     ]
    }
   ],
   "source": [
    "%%time\n",
    "\n",
    "with du.sql_engine.connect() as connection:\n",
    "    df = pd.read_sql(\n",
    "        sql, \n",
    "        connection\n",
    "    )"
   ]
  },
  {
   "cell_type": "code",
   "execution_count": 8,
   "id": "93ed8dd3-1692-40d7-a52c-b5d80b6b49a0",
   "metadata": {},
   "outputs": [
    {
     "name": "stdout",
     "output_type": "stream",
     "text": [
      "<class 'pandas.core.frame.DataFrame'>\n",
      "RangeIndex: 5379033 entries, 0 to 5379032\n",
      "Data columns (total 4 columns):\n",
      " #   Column   Dtype \n",
      "---  ------   ----- \n",
      " 0   id       object\n",
      " 1   ch_name  object\n",
      " 2   dh_name  object\n",
      " 3   ew_name  object\n",
      "dtypes: object(4)\n",
      "memory usage: 164.2+ MB\n"
     ]
    }
   ],
   "source": [
    "df.info()"
   ]
  },
  {
   "cell_type": "markdown",
   "id": "bb9a0c2a-dd8f-448c-afd2-398199044eac",
   "metadata": {},
   "source": [
    "## Without dupes\n",
    "\n",
    "So top result only. Same data as above. No non-indexed benchmark, sorry.\n",
    "\n",
    "V1 index is two multicolumn b-tree indices on `source`/`target` and `source_id`/`target_id`.\n",
    "\n",
    "| `return_type` | lib | index on lookup | time (seconds) |\n",
    "| --- | --- | --- | --- |\n",
    "| None | pgAdmin | v1 | x |\n",
    "| `arrow` | `connectorx` | v1 | x |\n",
    "| `pandas` | `connectorx` | v1 | x |\n",
    "| `pandas` | `pandas=1.3.5` | v1 | x |"
   ]
  },
  {
   "cell_type": "markdown",
   "id": "3edd9770-d922-40f5-a6a3-31bc8c921efd",
   "metadata": {},
   "source": [
    "I terminated the first attempt after 5 mins. Too slow to be viable -- I need a new approach.\n",
    "\n",
    "Why not join as above (quick) but bring in the `match_probability`, then take the max from the results?"
   ]
  },
  {
   "cell_type": "code",
   "execution_count": 13,
   "id": "4af06827-74a4-4b2c-b045-670d2b15ee33",
   "metadata": {},
   "outputs": [],
   "source": [
    "sql = \"\"\"\n",
    "    select\n",
    "        ch.id,\n",
    "        ch.company_name as ch_name,\n",
    "        dh.name as dh_name,\n",
    "        ew.company_name as ew_name\n",
    "    from (\n",
    "        select\n",
    "            source,\n",
    "            source_id,\n",
    "            array_agg(target) as target, \n",
    "            array_agg(target_id) as target_id\n",
    "        from (\n",
    "            select distinct on (\n",
    "                lookup.source_id, \n",
    "                lookup.target,\n",
    "                lookup.target_cluster\n",
    "            )\n",
    "                *\n",
    "            from\n",
    "                _user_eaf4fd9a.lookup lookup\n",
    "            where\n",
    "                lookup.source = 'companieshouse_companies'\n",
    "                and lookup.target in (\n",
    "                    'dit_data_hub__companies',\n",
    "                    'dit_export_wins__wins_dataset'\n",
    "                )\n",
    "            order by\n",
    "                lookup.source_id, \n",
    "                lookup.target,\n",
    "                lookup.target_cluster,\n",
    "                lookup.match_probability desc\n",
    "        ) lookup\n",
    "        where\n",
    "            lookup.source = 'companieshouse_companies'\n",
    "            and lookup.target in (\n",
    "                'dit_data_hub__companies',\n",
    "                'dit_export_wins__wins_dataset'\n",
    "            )\n",
    "        group by\n",
    "            source,\n",
    "            source_id\n",
    "    ) lookup\n",
    "    right join companieshouse.companies ch on\n",
    "        lookup.source_id = ch.id::text \n",
    "        and lookup.source = 'companieshouse_companies'\n",
    "    left join dit.data_hub__companies dh on\n",
    "        dh.id::text = any(lookup.target_id)\n",
    "        and 'dit_data_hub__companies' = any(lookup.target)\n",
    "    left join dit.export_wins__wins_dataset ew on\n",
    "        ew.id::text = any(lookup.target_id)\n",
    "        and 'dit_export_wins__wins_dataset' = any(lookup.target)\n",
    "\"\"\""
   ]
  },
  {
   "cell_type": "code",
   "execution_count": null,
   "id": "c84c38c1-95a2-41ee-9661-2fa8617cf006",
   "metadata": {},
   "outputs": [],
   "source": [
    "%%time\n",
    "\n",
    "df = cx.read_sql(\n",
    "    conn = f\"postgres://{os.environ['PGUSER']}:{os.environ['PGPASSWORD']}@{os.environ['PGHOST']}:{os.environ['PGPORT']}/{os.environ['PGDATABASE']}\",\n",
    "    query = sql,\n",
    "    return_type = \"arrow\"\n",
    ")"
   ]
  },
  {
   "cell_type": "code",
   "execution_count": null,
   "id": "e73ed80c-5d33-445d-9039-8cbe9fe9572d",
   "metadata": {},
   "outputs": [],
   "source": [
    "%%time\n",
    "\n",
    "df = cx.read_sql(\n",
    "    conn = f\"postgres://{os.environ['PGUSER']}:{os.environ['PGPASSWORD']}@{os.environ['PGHOST']}:{os.environ['PGPORT']}/{os.environ['PGDATABASE']}\",\n",
    "    query = sql,\n",
    "    return_type = \"pandas\"\n",
    ")"
   ]
  },
  {
   "cell_type": "code",
   "execution_count": null,
   "id": "bd575c52-f361-47d3-9baa-e44340483199",
   "metadata": {},
   "outputs": [],
   "source": [
    "%%time\n",
    "\n",
    "with du.sql_engine.connect() as connection:\n",
    "    df = pd.read_sql(\n",
    "        sql, \n",
    "        connection\n",
    "    )"
   ]
  },
  {
   "cell_type": "code",
   "execution_count": null,
   "id": "6d44bbae-fd20-4939-ad1a-2ef53fba2eec",
   "metadata": {},
   "outputs": [],
   "source": [
    "df.info()"
   ]
  }
 ],
 "metadata": {
  "kernelspec": {
   "display_name": "company_matching",
   "language": "python",
   "name": "company_matching"
  },
  "language_info": {
   "codemirror_mode": {
    "name": "ipython",
    "version": 3
   },
   "file_extension": ".py",
   "mimetype": "text/x-python",
   "name": "python",
   "nbconvert_exporter": "python",
   "pygments_lexer": "ipython3",
   "version": "3.9.16"
  }
 },
 "nbformat": 4,
 "nbformat_minor": 5
}
