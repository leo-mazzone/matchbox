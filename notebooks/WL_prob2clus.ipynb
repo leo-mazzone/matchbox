{
 "cells": [
  {
   "cell_type": "code",
   "execution_count": 9,
   "id": "4f6f17b1-2052-4322-acfe-dd271846311f",
   "metadata": {},
   "outputs": [],
   "source": [
    "%load_ext autoreload\n",
    "%autoreload 2\n",
    "from IPython.core.interactiveshell import InteractiveShell\n",
    "from IPython.display import IFrame, display\n",
    "InteractiveShell.ast_node_interactivity = \"all\""
   ]
  },
  {
   "cell_type": "markdown",
   "id": "3706608b-1690-48bb-b8aa-61ce1fb96a7d",
   "metadata": {},
   "source": [
    "# Probabilities to cluster algorithm\n",
    "\n",
    "A notebook to hash out this algorithm and check it works.\n",
    "\n",
    "Will hopefully turn into a unit test too, hence CVSs into version control."
   ]
  },
  {
   "cell_type": "code",
   "execution_count": 5,
   "id": "2d75838e-9781-463e-ac09-3a9097fb630b",
   "metadata": {},
   "outputs": [],
   "source": [
    "from src import locations as loc\n",
    "\n",
    "import pandas as pd\n",
    "import duckdb\n",
    "from pathlib import Path"
   ]
  },
  {
   "cell_type": "code",
   "execution_count": 104,
   "id": "567ce495-eb33-4f2c-908a-b25db551293d",
   "metadata": {},
   "outputs": [],
   "source": [
    "clus = pd.read_csv(Path(loc.PROJECT_DIR, \"test\", \"clusters.csv\"))\n",
    "prob = pd.read_csv(Path(loc.PROJECT_DIR, \"test\", \"probabilities.csv\"))"
   ]
  },
  {
   "cell_type": "code",
   "execution_count": 140,
   "id": "626e5131-daf2-45a3-94a5-03792828e6a9",
   "metadata": {},
   "outputs": [
    {
     "data": {
      "text/plain": [
       "┌───────┬───────────┬─────────┬──────────────┬────────┬─────────────┐\n",
       "│ uuid  │ link_type │ cluster │      id      │ source │ probability │\n",
       "│ int64 │  varchar  │  int64  │   varchar    │ int64  │   double    │\n",
       "├───────┼───────────┼─────────┼──────────────┼────────┼─────────────┤\n",
       "│     1 │ link      │       0 │ will_inc_t1  │      1 │         1.0 │\n",
       "│     2 │ link      │       0 │ leo_inc_t1   │      1 │         1.0 │\n",
       "│     3 │ link      │       0 │ sarah_inc_t1 │      1 │         1.0 │\n",
       "│     4 │ link      │       1 │ will_inc_t2  │      2 │         0.9 │\n",
       "│     5 │ link      │       2 │ will_inc_t2  │      2 │         0.7 │\n",
       "│     6 │ link      │       1 │ woll_inc_t2  │      2 │         0.7 │\n",
       "│     7 │ link      │       1 │ wall_inc_t2  │      2 │         0.7 │\n",
       "│     8 │ link      │       2 │ lao_inc_t2   │      2 │         0.8 │\n",
       "│     9 │ link      │       2 │ lio_inc_t2   │      2 │        0.85 │\n",
       "│    10 │ link      │       2 │ leo_inc_t2   │      2 │         0.9 │\n",
       "│    11 │ link      │       4 │ pedro_inc_t2 │      2 │         0.9 │\n",
       "│    12 │ link      │       2 │ pedro_inc_t2 │      2 │         0.7 │\n",
       "│    13 │ link      │       3 │ podro_inc_t2 │      2 │         0.6 │\n",
       "│    14 │ link      │       1 │ will_inc_t3  │      3 │         1.0 │\n",
       "│    15 │ link      │       4 │ pedro_inc_t3 │      3 │         0.2 │\n",
       "├───────┴───────────┴─────────┴──────────────┴────────┴─────────────┤\n",
       "│ 15 rows                                                 6 columns │\n",
       "└───────────────────────────────────────────────────────────────────┘"
      ]
     },
     "execution_count": 140,
     "metadata": {},
     "output_type": "execute_result"
    }
   ],
   "source": [
    "duckdb.sql(\"\"\"\n",
    "    select\n",
    "        *\n",
    "    from\n",
    "        prob;\n",
    "\"\"\")"
   ]
  },
  {
   "cell_type": "code",
   "execution_count": 139,
   "id": "73f728fc-2a32-4071-8c0a-47334862a6e4",
   "metadata": {},
   "outputs": [
    {
     "data": {
      "text/plain": [
       "┌───────┬─────────┬──────────────┬────────┬───────┬───────┐\n",
       "│ uuid  │ cluster │      id      │ source │ n_seq │ n_par │\n",
       "│ int64 │  int64  │   varchar    │ int64  │ int64 │ int64 │\n",
       "├───────┼─────────┼──────────────┼────────┼───────┼───────┤\n",
       "│     1 │       1 │ will_inc_t1  │      1 │     0 │     0 │\n",
       "│     2 │       1 │ will_inc_t2  │      2 │     1 │     1 │\n",
       "│     3 │       1 │ will_inc_t3  │      3 │     2 │     1 │\n",
       "│     4 │       2 │ leo_inc_t1   │      1 │     0 │     0 │\n",
       "│     5 │       2 │ leo_inc_t2   │      2 │     1 │     1 │\n",
       "│     6 │       3 │ sarah_inc_t1 │      1 │     0 │     0 │\n",
       "│     7 │       4 │ pedro_inc_t2 │      2 │     1 │     1 │\n",
       "└───────┴─────────┴──────────────┴────────┴───────┴───────┘"
      ]
     },
     "execution_count": 139,
     "metadata": {},
     "output_type": "execute_result"
    }
   ],
   "source": [
    "duckdb.sql(\"\"\"\n",
    "    select\n",
    "        *\n",
    "    from\n",
    "        clus;\n",
    "\"\"\")"
   ]
  },
  {
   "cell_type": "markdown",
   "id": "1feb3e0e-e9c6-4aba-8322-17a8c1d95fe9",
   "metadata": {},
   "source": [
    "Having done some fiddling below, here's the core SQL.\n",
    "\n",
    "Step 1: instantiate clusters (or already have a cluster table)\n",
    "Step 2: run this to add any new clusters the probabilities table now holds\n",
    "\n",
    "Note this notebook DOESN'T handle adding unmatched dimensions to the clusters table as new clusters.\n",
    "\n",
    "Params:\n",
    "\n",
    "* n: your current stage in the 🐙blocktopus\n",
    "* threshold: the point where we consider a probability a valid match. For parallel, note this means all tables will use the same value, which might not be the optimal value across all tables. In this instance, consider making it an additive table"
   ]
  },
  {
   "cell_type": "code",
   "execution_count": null,
   "id": "8c388d94-b300-4613-a7bc-23bc13f787f1",
   "metadata": {},
   "outputs": [],
   "source": [
    "sql = \"\"\"\n",
    "    select\n",
    "        nextval('uuid') as uuid, -- Create UUID in an appropriate way for Postgres\n",
    "        cluster,\n",
    "        id,\n",
    "        source,\n",
    "        1 as n,\n",
    "    from (\n",
    "        select\n",
    "            distinct on (prob.cluster, prob.source)\n",
    "            prob.*\n",
    "        from\n",
    "            prob\n",
    "        anti join clus_init on\n",
    "            clus_init.id = prob.id\n",
    "            and clus_init.source = prob.source\n",
    "        where \n",
    "            probability > 0.7 -- Should be set by calling function\n",
    "            and link_type = 'link'\n",
    "        order by\n",
    "            probability desc,\n",
    "            id desc\n",
    "    )\n",
    "    union\n",
    "    select\n",
    "        *\n",
    "    from\n",
    "        clus_init\n",
    "\"\"\""
   ]
  },
  {
   "cell_type": "markdown",
   "id": "5026fef1-9e44-420e-bcea-98e20f83fea7",
   "metadata": {},
   "source": [
    "Something doesn't add up here. I previously thought this needed recursion. Why? Let's try and construct a situation:\n",
    "\n",
    "* \"will_inc\" is 0.9 for cluster 1 and 0.8 for cluster 2\n",
    "* \"wedro_inc\" is 0.8 for cluster 1 and 0.75 for cluster 2\n",
    "\n",
    "In the current setup, \"will_inc\" goes to cluster 1 and cluster 2 is unmatched.\n",
    "\n",
    "What we want is \"will_inc\" to go to cluster 1, and the second best option, \"wedro_inc\", to go to cluster 2."
   ]
  },
  {
   "cell_type": "markdown",
   "id": "abf44d31-efed-4432-8256-64eb023654c8",
   "metadata": {},
   "source": [
    "## Parallel\n",
    "\n",
    "Sometimes we might join several tables to `probabilities` at once, then add them to `clusters` together."
   ]
  },
  {
   "cell_type": "code",
   "execution_count": 120,
   "id": "dc0ba81e-6ed0-48ed-9c37-3ed2bae2a91e",
   "metadata": {},
   "outputs": [
    {
     "data": {
      "text/plain": [
       "┌───────┬─────────┬──────────────┬────────┬───────┐\n",
       "│ uuid  │ cluster │      id      │ source │   n   │\n",
       "│ int64 │  int64  │   varchar    │ int64  │ int32 │\n",
       "├───────┼─────────┼──────────────┼────────┼───────┤\n",
       "│     1 │       1 │ will_inc_t1  │      1 │     0 │\n",
       "│     2 │       2 │ leo_inc_t1   │      1 │     0 │\n",
       "│     3 │       3 │ sarah_inc_t1 │      1 │     0 │\n",
       "└───────┴─────────┴──────────────┴────────┴───────┘"
      ]
     },
     "execution_count": 120,
     "metadata": {},
     "output_type": "execute_result"
    }
   ],
   "source": [
    "clus_init = duckdb.sql(\"\"\"\n",
    "    drop sequence if exists uuid;\n",
    "    drop sequence if exists cluster;\n",
    "    create sequence uuid start 1;\n",
    "    create sequence cluster start 1;\n",
    "    select\n",
    "        nextval('uuid') as uuid,\n",
    "        nextval('cluster') as cluster,\n",
    "        id,\n",
    "        source,\n",
    "        0 as n,\n",
    "    from\n",
    "        prob\n",
    "    where\n",
    "        cluster = 0\n",
    "\"\"\")\n",
    "clus_init"
   ]
  },
  {
   "cell_type": "code",
   "execution_count": 121,
   "id": "87d76974-2408-46d4-9152-59ea7c78111a",
   "metadata": {},
   "outputs": [],
   "source": [
    "clus_complete = duckdb.sql(\"\"\"\n",
    "    select\n",
    "        nextval('uuid') as uuid,\n",
    "        cluster,\n",
    "        id,\n",
    "        source,\n",
    "        1 as n,\n",
    "    from (\n",
    "        select\n",
    "            distinct on (prob.cluster, prob.source)\n",
    "            prob.*\n",
    "        from\n",
    "            prob\n",
    "        anti join clus_init cl on\n",
    "            cl.id = prob.id\n",
    "            and cl.source = prob.source\n",
    "        where \n",
    "            probability > 0.7\n",
    "        order by\n",
    "            probability desc,\n",
    "            id desc\n",
    "    )\n",
    "    union\n",
    "    select\n",
    "        *\n",
    "    from\n",
    "        clus_init\n",
    "\"\"\")"
   ]
  },
  {
   "cell_type": "code",
   "execution_count": 122,
   "id": "132a8399-0b40-4827-ae02-4e97d69cb74b",
   "metadata": {},
   "outputs": [
    {
     "data": {
      "text/plain": [
       "True"
      ]
     },
     "execution_count": 122,
     "metadata": {},
     "output_type": "execute_result"
    },
    {
     "data": {
      "text/html": [
       "<div>\n",
       "<style scoped>\n",
       "    .dataframe tbody tr th:only-of-type {\n",
       "        vertical-align: middle;\n",
       "    }\n",
       "\n",
       "    .dataframe tbody tr th {\n",
       "        vertical-align: top;\n",
       "    }\n",
       "\n",
       "    .dataframe thead tr th {\n",
       "        text-align: left;\n",
       "    }\n",
       "</style>\n",
       "<table border=\"1\" class=\"dataframe\">\n",
       "  <thead>\n",
       "  </thead>\n",
       "  <tbody>\n",
       "  </tbody>\n",
       "</table>\n",
       "</div>"
      ],
      "text/plain": [
       "Empty DataFrame\n",
       "Columns: []\n",
       "Index: []"
      ]
     },
     "execution_count": 122,
     "metadata": {},
     "output_type": "execute_result"
    }
   ],
   "source": [
    "clus_check_l = duckdb.sql(\"\"\"\n",
    "    select\n",
    "        cluster,\n",
    "        id,\n",
    "        source,\n",
    "        n::int as n\n",
    "    from\n",
    "        clus_complete\n",
    "    order by\n",
    "        cluster,\n",
    "        source,\n",
    "        id,\n",
    "        n\n",
    "\"\"\")\n",
    "clus_check_r = duckdb.sql(\"\"\"\n",
    "    select\n",
    "        cluster,\n",
    "        id,\n",
    "        source,\n",
    "        n_par::int as n\n",
    "    from\n",
    "        clus\n",
    "    order by\n",
    "        cluster,\n",
    "        source,\n",
    "        id,\n",
    "        n_par\n",
    "\"\"\")\n",
    "clus_check_l.df().equals(clus_check_r.df())\n",
    "clus_check_l.df().compare(clus_check_r.df())"
   ]
  },
  {
   "cell_type": "markdown",
   "id": "d6538182-58d7-4cc7-a238-572b43a4d655",
   "metadata": {},
   "source": [
    "## Sequential\n",
    "\n",
    "Sometimes we'll add one table to `probabilities`, then resolve to `clusters`, then do that over and over."
   ]
  },
  {
   "cell_type": "code",
   "execution_count": 132,
   "id": "1dd5c01f-2210-4781-bfd9-acfa94f7cc3d",
   "metadata": {},
   "outputs": [
    {
     "data": {
      "text/plain": [
       "┌───────┬─────────┬──────────────┬────────┬───────┐\n",
       "│ uuid  │ cluster │      id      │ source │   n   │\n",
       "│ int64 │  int64  │   varchar    │ int64  │ int32 │\n",
       "├───────┼─────────┼──────────────┼────────┼───────┤\n",
       "│     1 │       1 │ will_inc_t1  │      1 │     0 │\n",
       "│     2 │       2 │ leo_inc_t1   │      1 │     0 │\n",
       "│     3 │       3 │ sarah_inc_t1 │      1 │     0 │\n",
       "└───────┴─────────┴──────────────┴────────┴───────┘"
      ]
     },
     "execution_count": 132,
     "metadata": {},
     "output_type": "execute_result"
    }
   ],
   "source": [
    "clus_init = duckdb.sql(\"\"\"\n",
    "    drop sequence if exists uuid;\n",
    "    drop sequence if exists cluster;\n",
    "    create sequence uuid start 1;\n",
    "    create sequence cluster start 1;\n",
    "    select\n",
    "        nextval('uuid') as uuid,\n",
    "        nextval('cluster') as cluster,\n",
    "        id,\n",
    "        source,\n",
    "        0 as n,\n",
    "    from\n",
    "        prob\n",
    "    where\n",
    "        cluster = 0\n",
    "\"\"\")\n",
    "clus_init"
   ]
  },
  {
   "cell_type": "code",
   "execution_count": 133,
   "id": "dcdbfc77-7bce-49ba-8564-9a25a0790649",
   "metadata": {},
   "outputs": [],
   "source": [
    "prob_n1 = duckdb.sql(\"\"\"\n",
    "    select\n",
    "        *\n",
    "    from\n",
    "        prob\n",
    "    where\n",
    "        source = 2\n",
    "\"\"\")\n",
    "prob_n2 = duckdb.sql(\"\"\"\n",
    "    select\n",
    "        *\n",
    "    from\n",
    "        prob\n",
    "    where\n",
    "        source = 3\n",
    "\"\"\")\n",
    "prob_n3 = duckdb.sql(\"\"\"\n",
    "    select\n",
    "        *\n",
    "    from\n",
    "        prob\n",
    "    where\n",
    "        source = 4\n",
    "\"\"\")"
   ]
  },
  {
   "cell_type": "code",
   "execution_count": 134,
   "id": "c0f0bae9-1358-472e-8e5b-82445aabacf7",
   "metadata": {},
   "outputs": [
    {
     "data": {
      "text/plain": [
       "┌───────┬─────────┬──────────────┬────────┬───────┐\n",
       "│ uuid  │ cluster │      id      │ source │   n   │\n",
       "│ int64 │  int64  │   varchar    │ int64  │ int32 │\n",
       "├───────┼─────────┼──────────────┼────────┼───────┤\n",
       "│     1 │       1 │ will_inc_t1  │      1 │     0 │\n",
       "│     2 │       2 │ leo_inc_t1   │      1 │     0 │\n",
       "│     3 │       3 │ sarah_inc_t1 │      1 │     0 │\n",
       "│     4 │       1 │ will_inc_t2  │      2 │     1 │\n",
       "│     5 │       4 │ pedro_inc_t2 │      2 │     1 │\n",
       "│     6 │       2 │ leo_inc_t2   │      2 │     1 │\n",
       "└───────┴─────────┴──────────────┴────────┴───────┘"
      ]
     },
     "execution_count": 134,
     "metadata": {},
     "output_type": "execute_result"
    }
   ],
   "source": [
    "clus_n1 = duckdb.sql(\"\"\"\n",
    "    select\n",
    "        nextval('uuid') as uuid,\n",
    "        cluster,\n",
    "        id,\n",
    "        source,\n",
    "        1 as n,\n",
    "    from (\n",
    "        select\n",
    "            distinct on (prob.cluster, prob.source)\n",
    "            prob.*\n",
    "        from\n",
    "            prob_n1 prob\n",
    "        anti join clus_init cl on\n",
    "            cl.id = prob.id\n",
    "            and cl.source = prob.source\n",
    "        where\n",
    "            probability > 0.7\n",
    "        order by\n",
    "            probability desc,\n",
    "            id desc\n",
    "    )\n",
    "    union\n",
    "    select\n",
    "        *\n",
    "    from\n",
    "        clus_init\n",
    "\"\"\")\n",
    "clus_n1"
   ]
  },
  {
   "cell_type": "code",
   "execution_count": 135,
   "id": "96f72767-0493-4e73-b435-a88243a0f32e",
   "metadata": {},
   "outputs": [
    {
     "data": {
      "text/plain": [
       "┌───────┬─────────┬──────────────┬────────┬───────┐\n",
       "│ uuid  │ cluster │      id      │ source │   n   │\n",
       "│ int64 │  int64  │   varchar    │ int64  │ int32 │\n",
       "├───────┼─────────┼──────────────┼────────┼───────┤\n",
       "│     1 │       1 │ will_inc_t1  │      1 │     0 │\n",
       "│     2 │       2 │ leo_inc_t1   │      1 │     0 │\n",
       "│     3 │       3 │ sarah_inc_t1 │      1 │     0 │\n",
       "│    10 │       1 │ will_inc_t2  │      2 │     1 │\n",
       "│    11 │       4 │ pedro_inc_t2 │      2 │     1 │\n",
       "│    12 │       2 │ leo_inc_t2   │      2 │     1 │\n",
       "│    13 │       1 │ will_inc_t3  │      3 │     2 │\n",
       "└───────┴─────────┴──────────────┴────────┴───────┘"
      ]
     },
     "execution_count": 135,
     "metadata": {},
     "output_type": "execute_result"
    }
   ],
   "source": [
    "clus_n2 = duckdb.sql(\"\"\"\n",
    "    select\n",
    "        nextval('uuid') as uuid,\n",
    "        cluster,\n",
    "        id,\n",
    "        source,\n",
    "        2 as n,\n",
    "    from (\n",
    "        select\n",
    "            distinct on (prob.cluster, prob.source)\n",
    "            prob.*\n",
    "        from\n",
    "            prob_n2 prob\n",
    "        anti join clus_n1 cl on\n",
    "            cl.id = prob.id\n",
    "            and cl.source = prob.source\n",
    "        where\n",
    "            probability > 0.7\n",
    "        order by\n",
    "            probability desc,\n",
    "            id desc\n",
    "    )\n",
    "    union\n",
    "    select\n",
    "        *\n",
    "    from\n",
    "        clus_n1\n",
    "\"\"\")\n",
    "clus_n2"
   ]
  },
  {
   "cell_type": "code",
   "execution_count": 136,
   "id": "af2f346e-6600-4a7f-9eba-bc83863757a4",
   "metadata": {},
   "outputs": [
    {
     "data": {
      "text/plain": [
       "┌───────┬─────────┬──────────────┬────────┬───────┐\n",
       "│ uuid  │ cluster │      id      │ source │   n   │\n",
       "│ int64 │  int64  │   varchar    │ int64  │ int32 │\n",
       "├───────┼─────────┼──────────────┼────────┼───────┤\n",
       "│     1 │       1 │ will_inc_t1  │      1 │     0 │\n",
       "│     2 │       2 │ leo_inc_t1   │      1 │     0 │\n",
       "│     3 │       3 │ sarah_inc_t1 │      1 │     0 │\n",
       "│    14 │       1 │ will_inc_t2  │      2 │     1 │\n",
       "│    15 │       4 │ pedro_inc_t2 │      2 │     1 │\n",
       "│    16 │       2 │ leo_inc_t2   │      2 │     1 │\n",
       "│    27 │       1 │ will_inc_t3  │      3 │     2 │\n",
       "└───────┴─────────┴──────────────┴────────┴───────┘"
      ]
     },
     "execution_count": 136,
     "metadata": {},
     "output_type": "execute_result"
    }
   ],
   "source": [
    "clus_n3 = duckdb.sql(\"\"\"\n",
    "    select\n",
    "        nextval('uuid') as uuid,\n",
    "        cluster,\n",
    "        id,\n",
    "        source,\n",
    "        3 as n,\n",
    "    from (\n",
    "        select\n",
    "            distinct on (prob.cluster, prob.source)\n",
    "            prob.*\n",
    "        from\n",
    "            prob_n3 prob\n",
    "        anti join clus_n2 on\n",
    "            clus_n2.id = prob.id\n",
    "            and clus_n2.source = prob.source\n",
    "        where\n",
    "            probability > 0.7\n",
    "        order by\n",
    "            probability desc,\n",
    "            id desc\n",
    "    )\n",
    "    union\n",
    "    select\n",
    "        *\n",
    "    from\n",
    "        clus_n2\n",
    "\"\"\")\n",
    "clus_n3"
   ]
  },
  {
   "cell_type": "code",
   "execution_count": 137,
   "id": "5a90a411-db08-4ed6-be5f-8224b729a9cd",
   "metadata": {},
   "outputs": [
    {
     "data": {
      "text/plain": [
       "True"
      ]
     },
     "execution_count": 137,
     "metadata": {},
     "output_type": "execute_result"
    },
    {
     "data": {
      "text/html": [
       "<div>\n",
       "<style scoped>\n",
       "    .dataframe tbody tr th:only-of-type {\n",
       "        vertical-align: middle;\n",
       "    }\n",
       "\n",
       "    .dataframe tbody tr th {\n",
       "        vertical-align: top;\n",
       "    }\n",
       "\n",
       "    .dataframe thead tr th {\n",
       "        text-align: left;\n",
       "    }\n",
       "</style>\n",
       "<table border=\"1\" class=\"dataframe\">\n",
       "  <thead>\n",
       "  </thead>\n",
       "  <tbody>\n",
       "  </tbody>\n",
       "</table>\n",
       "</div>"
      ],
      "text/plain": [
       "Empty DataFrame\n",
       "Columns: []\n",
       "Index: []"
      ]
     },
     "execution_count": 137,
     "metadata": {},
     "output_type": "execute_result"
    },
    {
     "data": {
      "text/plain": [
       "True"
      ]
     },
     "execution_count": 137,
     "metadata": {},
     "output_type": "execute_result"
    },
    {
     "data": {
      "text/html": [
       "<div>\n",
       "<style scoped>\n",
       "    .dataframe tbody tr th:only-of-type {\n",
       "        vertical-align: middle;\n",
       "    }\n",
       "\n",
       "    .dataframe tbody tr th {\n",
       "        vertical-align: top;\n",
       "    }\n",
       "\n",
       "    .dataframe thead tr th {\n",
       "        text-align: left;\n",
       "    }\n",
       "</style>\n",
       "<table border=\"1\" class=\"dataframe\">\n",
       "  <thead>\n",
       "  </thead>\n",
       "  <tbody>\n",
       "  </tbody>\n",
       "</table>\n",
       "</div>"
      ],
      "text/plain": [
       "Empty DataFrame\n",
       "Columns: []\n",
       "Index: []"
      ]
     },
     "execution_count": 137,
     "metadata": {},
     "output_type": "execute_result"
    }
   ],
   "source": [
    "clus_check_l1 = duckdb.sql(\"\"\"\n",
    "    select\n",
    "        cluster,\n",
    "        id,\n",
    "        source,\n",
    "        n::int as n\n",
    "    from\n",
    "        clus_n2\n",
    "    order by\n",
    "        cluster,\n",
    "        source,\n",
    "        id,\n",
    "        n\n",
    "\"\"\")\n",
    "clus_check_l2 = duckdb.sql(\"\"\"\n",
    "    select\n",
    "        cluster,\n",
    "        id,\n",
    "        source,\n",
    "        n::int as n\n",
    "    from\n",
    "        clus_n3\n",
    "    order by\n",
    "        cluster,\n",
    "        source,\n",
    "        id,\n",
    "        n\n",
    "\"\"\")\n",
    "clus_check_r = duckdb.sql(\"\"\"\n",
    "    select\n",
    "        cluster,\n",
    "        id,\n",
    "        source,\n",
    "        n_seq::int as n\n",
    "    from\n",
    "        clus\n",
    "    order by\n",
    "        cluster,\n",
    "        source,\n",
    "        id,\n",
    "        n_par\n",
    "\"\"\")\n",
    "clus_check_l1.df().equals(clus_check_r.df())\n",
    "clus_check_l1.df().compare(clus_check_r.df())\n",
    "clus_check_l2.df().equals(clus_check_r.df())\n",
    "clus_check_l2.df().compare(clus_check_r.df())"
   ]
  }
 ],
 "metadata": {
  "kernelspec": {
   "display_name": "company_matching",
   "language": "python",
   "name": "company_matching"
  },
  "language_info": {
   "codemirror_mode": {
    "name": "ipython",
    "version": 3
   },
   "file_extension": ".py",
   "mimetype": "text/x-python",
   "name": "python",
   "nbconvert_exporter": "python",
   "pygments_lexer": "ipython3",
   "version": "3.9.16"
  }
 },
 "nbformat": 4,
 "nbformat_minor": 5
}
