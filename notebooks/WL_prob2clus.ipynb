{
 "cells": [
  {
   "cell_type": "code",
   "execution_count": 1,
   "id": "4f6f17b1-2052-4322-acfe-dd271846311f",
   "metadata": {},
   "outputs": [],
   "source": [
    "%load_ext autoreload\n",
    "%autoreload 2\n",
    "from IPython.core.interactiveshell import InteractiveShell\n",
    "from IPython.display import IFrame, display\n",
    "InteractiveShell.ast_node_interactivity = \"all\""
   ]
  },
  {
   "cell_type": "markdown",
   "id": "3706608b-1690-48bb-b8aa-61ce1fb96a7d",
   "metadata": {},
   "source": [
    "# Probabilities to cluster algorithm\n",
    "\n",
    "A notebook to hash out this algorithm and check it works.\n",
    "\n",
    "Will hopefully turn into a unit test too, hence CVSs into version control."
   ]
  },
  {
   "cell_type": "code",
   "execution_count": 2,
   "id": "2d75838e-9781-463e-ac09-3a9097fb630b",
   "metadata": {},
   "outputs": [],
   "source": [
    "from src import locations as loc\n",
    "\n",
    "import pandas as pd\n",
    "import duckdb\n",
    "from pathlib import Path"
   ]
  },
  {
   "cell_type": "code",
   "execution_count": 3,
   "id": "567ce495-eb33-4f2c-908a-b25db551293d",
   "metadata": {},
   "outputs": [],
   "source": [
    "clus = pd.read_csv(Path(loc.PROJECT_DIR, \"test\", \"clusters.csv\"))\n",
    "prob = pd.read_csv(Path(loc.PROJECT_DIR, \"test\", \"probabilities.csv\"))\n",
    "val = pd.read_csv(Path(loc.PROJECT_DIR, \"test\", \"validate.csv\"))"
   ]
  },
  {
   "cell_type": "code",
   "execution_count": 85,
   "id": "626e5131-daf2-45a3-94a5-03792828e6a9",
   "metadata": {
    "scrolled": true
   },
   "outputs": [
    {
     "data": {
      "text/plain": [
       "┌───────┬───────────┬─────────┬──────────────┬────────┬─────────────┐\n",
       "│ uuid  │ link_type │ cluster │      id      │ source │ probability │\n",
       "│ int64 │  varchar  │  int64  │   varchar    │ int64  │   double    │\n",
       "├───────┼───────────┼─────────┼──────────────┼────────┼─────────────┤\n",
       "│     1 │ link      │       0 │ will_inc_t1  │      1 │         1.0 │\n",
       "│     2 │ link      │       1 │ will_inc_t2  │      2 │         0.9 │\n",
       "│     3 │ link      │       2 │ will_inc_t2  │      2 │         0.7 │\n",
       "│     4 │ link      │       3 │ will_inc_t2  │      2 │         0.4 │\n",
       "│     5 │ link      │       4 │ will_inc_t2  │      2 │         0.2 │\n",
       "│     6 │ link      │       1 │ will_inc_t3  │      3 │         0.8 │\n",
       "│     7 │ link      │       2 │ will_inc_t3  │      3 │         0.7 │\n",
       "│     8 │ link      │       3 │ will_inc_t3  │      3 │         0.1 │\n",
       "│     9 │ link      │       4 │ will_inc_t3  │      3 │         0.3 │\n",
       "│    10 │ link      │       1 │ will_inc_t4  │      4 │        0.75 │\n",
       "│     · │  ·        │       · │      ·       │      · │          ·  │\n",
       "│     · │  ·        │       · │      ·       │      · │          ·  │\n",
       "│     · │  ·        │       · │      ·       │      · │          ·  │\n",
       "│    43 │ link      │       3 │ sarah_inc_t2 │      2 │         0.9 │\n",
       "│    44 │ link      │       4 │ sarah_inc_t2 │      2 │         0.8 │\n",
       "│    45 │ link      │       1 │ sarah_inc_t3 │      3 │         0.1 │\n",
       "│    46 │ link      │       2 │ sarah_inc_t3 │      3 │         0.1 │\n",
       "│    47 │ link      │       3 │ sarah_inc_t3 │      3 │         0.2 │\n",
       "│    48 │ link      │       4 │ sarah_inc_t3 │      3 │         0.1 │\n",
       "│    49 │ link      │       1 │ sarah_inc_t4 │      4 │         0.2 │\n",
       "│    50 │ link      │       2 │ sarah_inc_t4 │      4 │        0.75 │\n",
       "│    51 │ link      │       3 │ sarah_inc_t4 │      4 │         0.6 │\n",
       "│    52 │ link      │       4 │ sarah_inc_t4 │      4 │         0.7 │\n",
       "├───────┴───────────┴─────────┴──────────────┴────────┴─────────────┤\n",
       "│ 52 rows (20 shown)                                      6 columns │\n",
       "└───────────────────────────────────────────────────────────────────┘"
      ]
     },
     "execution_count": 85,
     "metadata": {},
     "output_type": "execute_result"
    }
   ],
   "source": [
    "duckdb.sql(\"\"\"\n",
    "    select\n",
    "        *\n",
    "    from\n",
    "        prob;\n",
    "\"\"\")"
   ]
  },
  {
   "cell_type": "code",
   "execution_count": 86,
   "id": "73f728fc-2a32-4071-8c0a-47334862a6e4",
   "metadata": {},
   "outputs": [
    {
     "data": {
      "text/plain": [
       "┌───────┬─────────┬──────────────┬────────┬───────┬───────┐\n",
       "│ uuid  │ cluster │      id      │ source │ n_seq │ n_par │\n",
       "│ int64 │  int64  │   varchar    │ int64  │ int64 │ int64 │\n",
       "├───────┼─────────┼──────────────┼────────┼───────┼───────┤\n",
       "│     1 │       1 │ will_inc_t1  │      1 │     0 │     0 │\n",
       "│     2 │       1 │ will_inc_t2  │      2 │     1 │     1 │\n",
       "│     3 │       1 │ will_inc_t3  │      3 │     2 │     1 │\n",
       "│     4 │       1 │ will_inc_t4  │      4 │     3 │     1 │\n",
       "│     5 │       2 │ leo_inc_t1   │      1 │     0 │     0 │\n",
       "│     6 │       2 │ leo_inc_t2   │      2 │     1 │     1 │\n",
       "│     7 │       2 │ leo_inc_t4   │      4 │     3 │     1 │\n",
       "│     8 │       3 │ pedro_inc_t1 │      1 │     0 │     0 │\n",
       "│     9 │       3 │ pedro_inc_t2 │      2 │     1 │     1 │\n",
       "│     9 │       3 │ pedro_inc_t4 │      4 │     3 │     1 │\n",
       "│     9 │       4 │ sarah_inc_t1 │      1 │     0 │     0 │\n",
       "│     9 │       4 │ sarah_inc_t2 │      2 │     1 │     1 │\n",
       "│     9 │       4 │ sarah_inc_t3 │      3 │     2 │     1 │\n",
       "│     9 │       4 │ sarah_inc_t4 │      4 │     3 │     1 │\n",
       "├───────┴─────────┴──────────────┴────────┴───────┴───────┤\n",
       "│ 14 rows                                       6 columns │\n",
       "└─────────────────────────────────────────────────────────┘"
      ]
     },
     "execution_count": 86,
     "metadata": {},
     "output_type": "execute_result"
    }
   ],
   "source": [
    "duckdb.sql(\"\"\"\n",
    "    select\n",
    "        *\n",
    "    from\n",
    "        clus;\n",
    "\"\"\")"
   ]
  },
  {
   "cell_type": "code",
   "execution_count": 87,
   "id": "15d54092-9be1-4038-806d-94b920c39739",
   "metadata": {},
   "outputs": [
    {
     "data": {
      "text/plain": [
       "┌───────┬─────────┬──────────────┬────────┬─────────┬─────────┐\n",
       "│ uuid  │ cluster │      id      │ source │  user   │  match  │\n",
       "│ int64 │  int64  │   varchar    │ int64  │ varchar │ boolean │\n",
       "├───────┼─────────┼──────────────┼────────┼─────────┼─────────┤\n",
       "│     1 │       3 │ pedro_inc_t2 │      2 │ user01  │ true    │\n",
       "│     2 │       4 │ sarah_inc_t3 │      3 │ user01  │ true    │\n",
       "└───────┴─────────┴──────────────┴────────┴─────────┴─────────┘"
      ]
     },
     "execution_count": 87,
     "metadata": {},
     "output_type": "execute_result"
    }
   ],
   "source": [
    "duckdb.sql(\"\"\"\n",
    "    select\n",
    "        *\n",
    "    from\n",
    "        val;\n",
    "\"\"\")"
   ]
  },
  {
   "cell_type": "markdown",
   "id": "1feb3e0e-e9c6-4aba-8322-17a8c1d95fe9",
   "metadata": {},
   "source": [
    "## v1\n",
    "\n",
    "Having done some fiddling below, here's the core SQL.\n",
    "\n",
    "Step 1: instantiate clusters (or already have a cluster table)\n",
    "Step 2: run this to add any new clusters the probabilities table now holds\n",
    "\n",
    "Note this notebook DOESN'T handle adding unmatched dimensions to the clusters table as new clusters.\n",
    "\n",
    "Params:\n",
    "\n",
    "* n: your current stage in the 🐙blocktopus\n",
    "* threshold: the point where we consider a probability a valid match. For parallel, note this means all tables will use the same value, which might not be the optimal value across all tables. In this instance, consider making it an additive table"
   ]
  },
  {
   "cell_type": "code",
   "execution_count": null,
   "id": "8c388d94-b300-4613-a7bc-23bc13f787f1",
   "metadata": {},
   "outputs": [],
   "source": [
    "sql = \"\"\"\n",
    "    select\n",
    "        nextval('uuid') as uuid, -- Create UUID in an appropriate way for Postgres\n",
    "        cluster,\n",
    "        id,\n",
    "        source,\n",
    "        1 as n,\n",
    "    from (\n",
    "        select\n",
    "            distinct on (prob.cluster, prob.source)\n",
    "            prob.*\n",
    "        from\n",
    "            prob\n",
    "        anti join clus_init on\n",
    "            clus_init.id = prob.id\n",
    "            and clus_init.source = prob.source\n",
    "        where \n",
    "            probability > 0.7 -- Should be set by calling function\n",
    "            and link_type = 'link'\n",
    "        order by\n",
    "            probability desc,\n",
    "            id desc\n",
    "    )\n",
    "    union\n",
    "    select\n",
    "        *\n",
    "    from\n",
    "        clus_init\n",
    "\"\"\""
   ]
  },
  {
   "cell_type": "markdown",
   "id": "5026fef1-9e44-420e-bcea-98e20f83fea7",
   "metadata": {},
   "source": [
    "## v2\n",
    "\n",
    "Woah. v1 is completely wrong. I thought making my IDs a bit like names would be helpful but it's just confused me -- the problem is the same ID being matched to loads of clusters and the interactions that emerge from that.\n",
    "\n",
    "Let's recall why I thought this needed recursion:\n",
    "\n",
    "* \"will_inc\" is 0.9 for cluster 1 and 0.8 for cluster 2\n",
    "* \"wedro_inc\" is 0.8 for cluster 1 and 0.75 for cluster 2\n",
    "\n",
    "In the current setup, \"will_inc\" goes to cluster 1 and cluster 2 is unmatched.\n",
    "\n",
    "What we want is \"will_inc\" to go to cluster 1, and the second best option, \"wedro_inc\", to go to cluster 2.\n",
    "\n",
    "There's some other stuff too.\n",
    "\n",
    "* How do we handle validated clusters?\n",
    "* Swear there was something else...\n",
    "\n",
    "On validated, I say we add them first -- per round, not in a blob. Let's make a dummy validated table and add its conclusions to the clusters."
   ]
  },
  {
   "cell_type": "markdown",
   "id": "4977f55c-5bfa-478d-bfeb-79b124ac438c",
   "metadata": {},
   "source": [
    "# Code"
   ]
  },
  {
   "cell_type": "markdown",
   "id": "4cb15e8c-d2e7-42da-b29e-a4557c50a09e",
   "metadata": {},
   "source": [
    "## v2\n",
    "\n",
    "Now dealing with:\n",
    "\n",
    "* Second best matches when the first best masked it\n",
    "* Validated clusters"
   ]
  },
  {
   "cell_type": "markdown",
   "id": "e70664e1-8ff3-423e-8d99-a9ee2cf97b0b",
   "metadata": {
    "jp-MarkdownHeadingCollapsed": true
   },
   "source": [
    "### v2.0\n",
    "\n",
    "Without recursion or deletion."
   ]
  },
  {
   "cell_type": "code",
   "execution_count": 5,
   "id": "f7fb301b-42c1-43fb-97ea-20c146503180",
   "metadata": {},
   "outputs": [
    {
     "data": {
      "text/plain": [
       "┌───────┬─────────┬──────────────┬────────┬───────┐\n",
       "│ uuid  │ cluster │      id      │ source │   n   │\n",
       "│ int64 │  int64  │   varchar    │ int64  │ int32 │\n",
       "├───────┼─────────┼──────────────┼────────┼───────┤\n",
       "│     1 │       1 │ will_inc_t1  │      1 │     0 │\n",
       "│     2 │       2 │ leo_inc_t1   │      1 │     0 │\n",
       "│     3 │       3 │ pedro_inc_t1 │      1 │     0 │\n",
       "│     4 │       4 │ sarah_inc_t1 │      1 │     0 │\n",
       "└───────┴─────────┴──────────────┴────────┴───────┘"
      ]
     },
     "execution_count": 5,
     "metadata": {},
     "output_type": "execute_result"
    }
   ],
   "source": [
    "clus_init = duckdb.sql(\"\"\"\n",
    "    drop sequence if exists uuid;\n",
    "    drop sequence if exists cluster;\n",
    "    create sequence uuid start 1;\n",
    "    create sequence cluster start 1;\n",
    "    select\n",
    "        nextval('uuid') as uuid,\n",
    "        nextval('cluster') as cluster,\n",
    "        id,\n",
    "        source,\n",
    "        0 as n,\n",
    "    from\n",
    "        prob\n",
    "    where\n",
    "        cluster = 0\n",
    "\"\"\")\n",
    "clus_init"
   ]
  },
  {
   "cell_type": "code",
   "execution_count": 6,
   "id": "eca7576c-ee95-4ed8-bde6-6151e71977a8",
   "metadata": {},
   "outputs": [
    {
     "data": {
      "text/plain": [
       "┌───────┬─────────┬──────────────┬────────┬───────┐\n",
       "│ uuid  │ cluster │      id      │ source │   n   │\n",
       "│ int64 │  int64  │   varchar    │ int64  │ int32 │\n",
       "├───────┼─────────┼──────────────┼────────┼───────┤\n",
       "│     1 │       1 │ will_inc_t1  │      1 │     0 │\n",
       "│     2 │       2 │ leo_inc_t1   │      1 │     0 │\n",
       "│     3 │       3 │ pedro_inc_t1 │      1 │     0 │\n",
       "│     4 │       4 │ sarah_inc_t1 │      1 │     0 │\n",
       "│     5 │       3 │ pedro_inc_t2 │      2 │     1 │\n",
       "│     6 │       4 │ sarah_inc_t3 │      3 │     1 │\n",
       "└───────┴─────────┴──────────────┴────────┴───────┘"
      ]
     },
     "execution_count": 6,
     "metadata": {},
     "output_type": "execute_result"
    }
   ],
   "source": [
    "clus_val = duckdb.sql(\"\"\"\n",
    "    select\n",
    "        nextval('uuid') as uuid,\n",
    "        cluster,\n",
    "        id,\n",
    "        source,\n",
    "        1 as n,\n",
    "    from\n",
    "        val\n",
    "    where \n",
    "        source in (\n",
    "            select\n",
    "                source\n",
    "            from\n",
    "                prob\n",
    "        )\n",
    "    union\n",
    "    select\n",
    "        *\n",
    "    from\n",
    "        clus_init\n",
    "\"\"\")\n",
    "clus_val"
   ]
  },
  {
   "cell_type": "code",
   "execution_count": 111,
   "id": "1eb28b4b-5b9e-456a-9f8e-763f71d583a2",
   "metadata": {},
   "outputs": [
    {
     "data": {
      "text/plain": [
       "┌───────┬───────────┬─────────┬──────────────┬────────┬─────────────┐\n",
       "│ uuid  │ link_type │ cluster │      id      │ source │ probability │\n",
       "│ int64 │  varchar  │  int64  │   varchar    │ int64  │   double    │\n",
       "├───────┼───────────┼─────────┼──────────────┼────────┼─────────────┤\n",
       "│     2 │ link      │       1 │ will_inc_t2  │      2 │         0.9 │\n",
       "│    24 │ link      │       2 │ leo_inc_t4   │      4 │         0.9 │\n",
       "│    38 │ link      │       3 │ pedro_inc_t4 │      4 │         0.9 │\n",
       "│    16 │ link      │       2 │ leo_inc_t2   │      2 │         0.8 │\n",
       "│     6 │ link      │       1 │ will_inc_t3  │      3 │         0.8 │\n",
       "│    44 │ link      │       4 │ sarah_inc_t2 │      2 │         0.8 │\n",
       "│    10 │ link      │       1 │ will_inc_t4  │      4 │        0.75 │\n",
       "└───────┴───────────┴─────────┴──────────────┴────────┴─────────────┘"
      ]
     },
     "execution_count": 111,
     "metadata": {},
     "output_type": "execute_result"
    }
   ],
   "source": [
    "duckdb.sql(\"\"\"\n",
    "    select\n",
    "        distinct on (agg1.id, agg1.source)\n",
    "        *\n",
    "    from (\n",
    "        select\n",
    "            distinct on (prob.cluster, prob.source)\n",
    "            prob.*\n",
    "        from\n",
    "            prob\n",
    "        anti join clus_val cl on\n",
    "            cl.id = prob.id\n",
    "            and cl.source = prob.source\n",
    "        anti join clus_val cl on\n",
    "            cl.cluster = prob.cluster\n",
    "            and cl.source = prob.source\n",
    "        where \n",
    "            probability >= 0.7\n",
    "        order by\n",
    "            probability desc\n",
    "    ) agg1\n",
    "    order by\n",
    "        agg1.probability desc\n",
    "\"\"\")"
   ]
  },
  {
   "cell_type": "code",
   "execution_count": 112,
   "id": "fddd9619-881e-449b-ac12-13e44a601ab5",
   "metadata": {},
   "outputs": [
    {
     "data": {
      "text/plain": [
       "┌───────┬─────────┬──────────────┬────────┬───────┐\n",
       "│ uuid  │ cluster │      id      │ source │   n   │\n",
       "│ int64 │  int64  │   varchar    │ int64  │ int32 │\n",
       "├───────┼─────────┼──────────────┼────────┼───────┤\n",
       "│     1 │       1 │ will_inc_t1  │      1 │     0 │\n",
       "│     2 │       2 │ leo_inc_t1   │      1 │     0 │\n",
       "│     3 │       3 │ pedro_inc_t1 │      1 │     0 │\n",
       "│     4 │       4 │ sarah_inc_t1 │      1 │     0 │\n",
       "│    13 │       3 │ pedro_inc_t2 │      2 │     1 │\n",
       "│    14 │       4 │ sarah_inc_t3 │      3 │     1 │\n",
       "│    17 │       1 │ will_inc_t2  │      2 │     1 │\n",
       "│    18 │       2 │ leo_inc_t4   │      4 │     1 │\n",
       "│    19 │       3 │ pedro_inc_t4 │      4 │     1 │\n",
       "│    20 │       2 │ leo_inc_t2   │      2 │     1 │\n",
       "│    21 │       1 │ will_inc_t3  │      3 │     1 │\n",
       "│    23 │       4 │ sarah_inc_t2 │      2 │     1 │\n",
       "│    24 │       1 │ will_inc_t4  │      4 │     1 │\n",
       "├───────┴─────────┴──────────────┴────────┴───────┤\n",
       "│ 13 rows                               5 columns │\n",
       "└─────────────────────────────────────────────────┘"
      ]
     },
     "execution_count": 112,
     "metadata": {},
     "output_type": "execute_result"
    }
   ],
   "source": [
    "clus_1 = duckdb.sql(\"\"\"\n",
    "    select\n",
    "        distinct on (agg.id, agg.source)\n",
    "        nextval('uuid') as uuid,\n",
    "        cluster,\n",
    "        id,\n",
    "        source,\n",
    "        1 as n,\n",
    "    from (\n",
    "        select\n",
    "            distinct on (prob.cluster, prob.source)\n",
    "            prob.*\n",
    "        from\n",
    "            prob\n",
    "        anti join clus_val cl on\n",
    "            cl.id = prob.id\n",
    "            and cl.source = prob.source\n",
    "        anti join clus_val cl on\n",
    "            cl.cluster = prob.cluster\n",
    "            and cl.source = prob.source\n",
    "        where \n",
    "            probability >= 0.7\n",
    "        order by\n",
    "            probability desc\n",
    "    ) agg\n",
    "    union\n",
    "    select\n",
    "        *\n",
    "    from\n",
    "        clus_val\n",
    "\"\"\")\n",
    "clus_1"
   ]
  },
  {
   "cell_type": "code",
   "execution_count": 113,
   "id": "b7501298-5205-42bd-b1ba-80d8ce40eb3f",
   "metadata": {},
   "outputs": [
    {
     "data": {
      "text/plain": [
       "┌───────┬───────────┬─────────┬──────────────┬────────┬─────────────┐\n",
       "│ uuid  │ link_type │ cluster │      id      │ source │ probability │\n",
       "│ int64 │  varchar  │  int64  │   varchar    │ int64  │   double    │\n",
       "├───────┼───────────┼─────────┼──────────────┼────────┼─────────────┤\n",
       "│    52 │ link      │       4 │ sarah_inc_t4 │      4 │         0.7 │\n",
       "└───────┴───────────┴─────────┴──────────────┴────────┴─────────────┘"
      ]
     },
     "execution_count": 113,
     "metadata": {},
     "output_type": "execute_result"
    },
    {
     "data": {
      "text/plain": [
       "┌────────────────────┬───────────────────────────────────────────┬──────────────┐\n",
       "│ count(DISTINCT id) │ count(DISTINCT concat(\"cluster\", source)) │ count_star() │\n",
       "│       int64        │                   int64                   │    int64     │\n",
       "├────────────────────┼───────────────────────────────────────────┼──────────────┤\n",
       "│                 13 │                                        13 │           13 │\n",
       "└────────────────────┴───────────────────────────────────────────┴──────────────┘"
      ]
     },
     "execution_count": 113,
     "metadata": {},
     "output_type": "execute_result"
    },
    {
     "data": {
      "text/plain": [
       "┌───────┬─────────┬──────────────┬────────┬───────┐\n",
       "│ uuid  │ cluster │      id      │ source │   n   │\n",
       "│ int64 │  int64  │   varchar    │ int64  │ int32 │\n",
       "├───────┼─────────┼──────────────┼────────┼───────┤\n",
       "│     1 │       1 │ will_inc_t1  │      1 │     0 │\n",
       "│    77 │       1 │ will_inc_t2  │      2 │     1 │\n",
       "│    81 │       1 │ will_inc_t3  │      3 │     1 │\n",
       "│    84 │       1 │ will_inc_t4  │      4 │     1 │\n",
       "│     2 │       2 │ leo_inc_t1   │      1 │     0 │\n",
       "│    78 │       2 │ leo_inc_t4   │      4 │     1 │\n",
       "│    80 │       2 │ leo_inc_t2   │      2 │     1 │\n",
       "│     3 │       3 │ pedro_inc_t1 │      1 │     0 │\n",
       "│    75 │       3 │ pedro_inc_t2 │      2 │     1 │\n",
       "│    79 │       3 │ pedro_inc_t4 │      4 │     1 │\n",
       "│     4 │       4 │ sarah_inc_t1 │      1 │     0 │\n",
       "│    76 │       4 │ sarah_inc_t3 │      3 │     1 │\n",
       "│    83 │       4 │ sarah_inc_t2 │      2 │     1 │\n",
       "├───────┴─────────┴──────────────┴────────┴───────┤\n",
       "│ 13 rows                               5 columns │\n",
       "└─────────────────────────────────────────────────┘"
      ]
     },
     "execution_count": 113,
     "metadata": {},
     "output_type": "execute_result"
    }
   ],
   "source": [
    "duckdb.sql(\"\"\"\n",
    "    select\n",
    "        distinct on (agg.id, agg.source)\n",
    "        agg.*\n",
    "    from (\n",
    "        select\n",
    "            distinct on (prob.cluster, prob.source)\n",
    "            prob.*\n",
    "        from\n",
    "            prob\n",
    "        anti join clus_1 cl on\n",
    "            cl.id = prob.id\n",
    "            and cl.source = prob.source\n",
    "        anti join clus_1 cl on\n",
    "            cl.cluster = prob.cluster\n",
    "            and cl.source = prob.source\n",
    "        where \n",
    "            probability >= 0.7\n",
    "        order by\n",
    "            probability desc\n",
    "    ) agg\n",
    "\"\"\")\n",
    "duckdb.sql(\"\"\"\n",
    "    select\n",
    "        count(distinct id),\n",
    "        count(distinct concat(cluster, source)),\n",
    "        count(*)\n",
    "    from\n",
    "        clus_1\n",
    "\"\"\")\n",
    "duckdb.sql(\"\"\"\n",
    "    select\n",
    "        *\n",
    "    from\n",
    "        clus_1\n",
    "    order by\n",
    "        cluster\n",
    "\"\"\")"
   ]
  },
  {
   "cell_type": "code",
   "execution_count": 114,
   "id": "9748acfb-5be0-45ab-bc48-e45c9a1bbb19",
   "metadata": {},
   "outputs": [
    {
     "data": {
      "text/plain": [
       "┌───────┬─────────┬──────────────┬────────┬───────┐\n",
       "│ uuid  │ cluster │      id      │ source │   n   │\n",
       "│ int64 │  int64  │   varchar    │ int64  │ int32 │\n",
       "├───────┼─────────┼──────────────┼────────┼───────┤\n",
       "│     1 │       1 │ will_inc_t1  │      1 │     0 │\n",
       "│     2 │       2 │ leo_inc_t1   │      1 │     0 │\n",
       "│     3 │       3 │ pedro_inc_t1 │      1 │     0 │\n",
       "│     4 │       4 │ sarah_inc_t1 │      1 │     0 │\n",
       "│   100 │       3 │ pedro_inc_t2 │      2 │     1 │\n",
       "│   101 │       4 │ sarah_inc_t3 │      3 │     1 │\n",
       "│   122 │       1 │ will_inc_t2  │      2 │     1 │\n",
       "│   123 │       2 │ leo_inc_t4   │      4 │     1 │\n",
       "│   124 │       3 │ pedro_inc_t4 │      4 │     1 │\n",
       "│   125 │       2 │ leo_inc_t2   │      2 │     1 │\n",
       "│   126 │       1 │ will_inc_t3  │      3 │     1 │\n",
       "│   128 │       4 │ sarah_inc_t2 │      2 │     1 │\n",
       "│   129 │       1 │ will_inc_t4  │      4 │     1 │\n",
       "│   131 │       4 │ sarah_inc_t4 │      4 │     1 │\n",
       "├───────┴─────────┴──────────────┴────────┴───────┤\n",
       "│ 14 rows                               5 columns │\n",
       "└─────────────────────────────────────────────────┘"
      ]
     },
     "execution_count": 114,
     "metadata": {},
     "output_type": "execute_result"
    }
   ],
   "source": [
    "clus_2 = duckdb.sql(\"\"\"\n",
    "    select\n",
    "        distinct on (agg.id, agg.source)\n",
    "        nextval('uuid') as uuid,\n",
    "        cluster,\n",
    "        id,\n",
    "        source,\n",
    "        1 as n,\n",
    "    from (\n",
    "        select\n",
    "            distinct on (prob.cluster, prob.source)\n",
    "            prob.*\n",
    "        from\n",
    "            prob\n",
    "        anti join clus_1 cl on\n",
    "            cl.id = prob.id\n",
    "            and cl.source = prob.source\n",
    "        anti join clus_1 cl on\n",
    "            cl.cluster = prob.cluster\n",
    "            and cl.source = prob.source\n",
    "        where \n",
    "            probability >= 0.7\n",
    "        order by\n",
    "            probability desc\n",
    "    ) agg\n",
    "    union\n",
    "    select\n",
    "        *\n",
    "    from\n",
    "        clus_1\n",
    "\"\"\")\n",
    "clus_2"
   ]
  },
  {
   "cell_type": "code",
   "execution_count": 115,
   "id": "22206d48-9c1c-4a02-a2fb-dd0610a0780c",
   "metadata": {},
   "outputs": [
    {
     "data": {
      "text/plain": [
       "┌───────┬─────────┬──────────────┬────────┬───────┐\n",
       "│ uuid  │ cluster │      id      │ source │   n   │\n",
       "│ int64 │  int64  │   varchar    │ int64  │ int32 │\n",
       "├───────┼─────────┼──────────────┼────────┼───────┤\n",
       "│     1 │       1 │ will_inc_t1  │      1 │     0 │\n",
       "│     2 │       2 │ leo_inc_t1   │      1 │     0 │\n",
       "│     3 │       3 │ pedro_inc_t1 │      1 │     0 │\n",
       "│     4 │       4 │ sarah_inc_t1 │      1 │     0 │\n",
       "│   184 │       3 │ pedro_inc_t2 │      2 │     1 │\n",
       "│   185 │       4 │ sarah_inc_t3 │      3 │     1 │\n",
       "│   258 │       1 │ will_inc_t2  │      2 │     1 │\n",
       "│   259 │       2 │ leo_inc_t4   │      4 │     1 │\n",
       "│   260 │       3 │ pedro_inc_t4 │      4 │     1 │\n",
       "│   261 │       2 │ leo_inc_t2   │      2 │     1 │\n",
       "│   262 │       1 │ will_inc_t3  │      3 │     1 │\n",
       "│   264 │       4 │ sarah_inc_t2 │      2 │     1 │\n",
       "│   265 │       1 │ will_inc_t4  │      4 │     1 │\n",
       "│   269 │       4 │ sarah_inc_t4 │      4 │     1 │\n",
       "├───────┴─────────┴──────────────┴────────┴───────┤\n",
       "│ 14 rows                               5 columns │\n",
       "└─────────────────────────────────────────────────┘"
      ]
     },
     "execution_count": 115,
     "metadata": {},
     "output_type": "execute_result"
    }
   ],
   "source": [
    "clus_3 = duckdb.sql(\"\"\"\n",
    "    select\n",
    "        distinct on (agg.id, agg.source)\n",
    "        nextval('uuid') as uuid,\n",
    "        cluster,\n",
    "        id,\n",
    "        source,\n",
    "        1 as n,\n",
    "    from (\n",
    "        select\n",
    "            distinct on (prob.cluster, prob.source)\n",
    "            prob.*\n",
    "        from\n",
    "            prob\n",
    "        anti join clus_2 cl on\n",
    "            cl.id = prob.id\n",
    "            and cl.source = prob.source\n",
    "        anti join clus_2 cl on\n",
    "            cl.cluster = prob.cluster\n",
    "            and cl.source = prob.source\n",
    "        where \n",
    "            probability >= 0.7\n",
    "        order by\n",
    "            probability desc\n",
    "    ) agg\n",
    "    union\n",
    "    select\n",
    "        *\n",
    "    from\n",
    "        clus_2\n",
    "\"\"\")\n",
    "clus_3"
   ]
  },
  {
   "cell_type": "code",
   "execution_count": 116,
   "id": "d14ecdbe-f453-4081-87cd-7088d0c8c20a",
   "metadata": {},
   "outputs": [
    {
     "data": {
      "text/plain": [
       "True"
      ]
     },
     "execution_count": 116,
     "metadata": {},
     "output_type": "execute_result"
    },
    {
     "data": {
      "text/html": [
       "<div>\n",
       "<style scoped>\n",
       "    .dataframe tbody tr th:only-of-type {\n",
       "        vertical-align: middle;\n",
       "    }\n",
       "\n",
       "    .dataframe tbody tr th {\n",
       "        vertical-align: top;\n",
       "    }\n",
       "\n",
       "    .dataframe thead tr th {\n",
       "        text-align: left;\n",
       "    }\n",
       "</style>\n",
       "<table border=\"1\" class=\"dataframe\">\n",
       "  <thead>\n",
       "  </thead>\n",
       "  <tbody>\n",
       "  </tbody>\n",
       "</table>\n",
       "</div>"
      ],
      "text/plain": [
       "Empty DataFrame\n",
       "Columns: []\n",
       "Index: []"
      ]
     },
     "execution_count": 116,
     "metadata": {},
     "output_type": "execute_result"
    }
   ],
   "source": [
    "clus_check_l = duckdb.sql(\"\"\"\n",
    "    select\n",
    "        cluster,\n",
    "        id,\n",
    "        source,\n",
    "        n::int as n\n",
    "    from\n",
    "        clus_3\n",
    "    order by\n",
    "        cluster,\n",
    "        source,\n",
    "        id,\n",
    "        n\n",
    "\"\"\")\n",
    "clus_check_r = duckdb.sql(\"\"\"\n",
    "    select\n",
    "        cluster,\n",
    "        id,\n",
    "        source,\n",
    "        n_par::int as n\n",
    "    from\n",
    "        clus\n",
    "    order by\n",
    "        cluster,\n",
    "        source,\n",
    "        id,\n",
    "        n_par\n",
    "\"\"\")\n",
    "clus_check_l.df().equals(clus_check_r.df())\n",
    "clus_check_l.df().compare(clus_check_r.df())"
   ]
  },
  {
   "cell_type": "markdown",
   "id": "e7828c5f-731d-49e2-8805-52ab83c83945",
   "metadata": {
    "jp-MarkdownHeadingCollapsed": true
   },
   "source": [
    "### v2.1\n",
    "\n",
    "Let's recurse 👹"
   ]
  },
  {
   "cell_type": "code",
   "execution_count": 11,
   "id": "48736a48-0082-4f9e-bf24-8bdb8ed9e0f4",
   "metadata": {},
   "outputs": [
    {
     "data": {
      "text/plain": [
       "┌───────┬─────────┬──────────────┬────────┬───────┐\n",
       "│ uuid  │ cluster │      id      │ source │   n   │\n",
       "│ int64 │  int64  │   varchar    │ int64  │ int32 │\n",
       "├───────┼─────────┼──────────────┼────────┼───────┤\n",
       "│     1 │       1 │ will_inc_t1  │      1 │     0 │\n",
       "│     2 │       2 │ leo_inc_t1   │      1 │     0 │\n",
       "│     3 │       3 │ pedro_inc_t1 │      1 │     0 │\n",
       "│     4 │       4 │ sarah_inc_t1 │      1 │     0 │\n",
       "│    11 │       3 │ pedro_inc_t2 │      2 │     1 │\n",
       "│    12 │       4 │ sarah_inc_t3 │      3 │     1 │\n",
       "└───────┴─────────┴──────────────┴────────┴───────┘"
      ]
     },
     "execution_count": 11,
     "metadata": {},
     "output_type": "execute_result"
    }
   ],
   "source": [
    "duckdb.sql(\"\"\"\n",
    "    select\n",
    "        uuid,\n",
    "        cluster,\n",
    "        id,\n",
    "        source,\n",
    "        n,\n",
    "    from \n",
    "        clus_val\n",
    "\"\"\")"
   ]
  },
  {
   "cell_type": "code",
   "execution_count": 14,
   "id": "752031b0-df28-451e-9d2a-207f536affb0",
   "metadata": {},
   "outputs": [
    {
     "data": {
      "text/plain": [
       "┌───────┬─────────┬──────────────┬────────┬───────┬───────┐\n",
       "│ uuid  │ cluster │      id      │ source │   n   │ step  │\n",
       "│ int64 │  int64  │   varchar    │ int64  │ int32 │ int32 │\n",
       "├───────┼─────────┼──────────────┼────────┼───────┼───────┤\n",
       "│     1 │       1 │ will_inc_t1  │      1 │     0 │     1 │\n",
       "│     2 │       2 │ leo_inc_t1   │      1 │     0 │     1 │\n",
       "│     3 │       3 │ pedro_inc_t1 │      1 │     0 │     1 │\n",
       "│     4 │       4 │ sarah_inc_t1 │      1 │     0 │     1 │\n",
       "│ 36712 │       3 │ pedro_inc_t2 │      2 │     1 │     1 │\n",
       "│ 36713 │       4 │ sarah_inc_t3 │      3 │     1 │     1 │\n",
       "│ 36714 │       1 │ will_inc_t2  │      2 │     1 │     2 │\n",
       "│ 36715 │       2 │ leo_inc_t4   │      4 │     1 │     2 │\n",
       "│ 36716 │       3 │ pedro_inc_t4 │      4 │     1 │     2 │\n",
       "│ 36717 │       2 │ leo_inc_t2   │      2 │     1 │     2 │\n",
       "│   ·   │       · │     ·        │      · │     · │     · │\n",
       "│   ·   │       · │     ·        │      · │     · │     · │\n",
       "│   ·   │       · │     ·        │      · │     · │     · │\n",
       "│ 48921 │       1 │ will_inc_t3  │      3 │     1 │  1112 │\n",
       "│ 48915 │       1 │ will_inc_t2  │      2 │     1 │  1112 │\n",
       "│ 48918 │       3 │ sarah_inc_t2 │      2 │     1 │  1112 │\n",
       "│ 48920 │       2 │ leo_inc_t2   │      2 │     1 │  1112 │\n",
       "│ 48917 │       3 │ pedro_inc_t4 │      4 │     1 │  1112 │\n",
       "│ 48923 │       1 │ will_inc_t4  │      4 │     1 │  1112 │\n",
       "│ 48914 │       0 │ will_inc_t1  │      1 │     1 │  1112 │\n",
       "│ 48925 │       0 │ will_inc_t1  │      1 │     1 │  1113 │\n",
       "│ 48926 │       1 │ will_inc_t2  │      2 │     1 │  1113 │\n",
       "│ 48928 │       3 │ pedro_inc_t4 │      4 │     1 │  1113 │\n",
       "├───────┴─────────┴──────────────┴────────┴───────┴───────┤\n",
       "│ ? rows (>9999 rows, 20 shown)                 6 columns │\n",
       "└─────────────────────────────────────────────────────────┘"
      ]
     },
     "execution_count": 14,
     "metadata": {},
     "output_type": "execute_result"
    }
   ],
   "source": [
    "duckdb.sql(\"\"\"\n",
    "    with recursive clusters as (\n",
    "        select\n",
    "            uuid,\n",
    "            cluster,\n",
    "            id,\n",
    "            source,\n",
    "            n,\n",
    "            1 as step\n",
    "        from \n",
    "            clus_val\n",
    "        union\n",
    "        select distinct on (agg.id, agg.source)\n",
    "            nextval('uuid') as uuid,\n",
    "            agg.cluster,\n",
    "            agg.id,\n",
    "            agg.source,\n",
    "            1 as n,\n",
    "            step + 1\n",
    "        from (\n",
    "            select distinct on (p.cluster, p.source)\n",
    "                p.*, (select max(step) from clusters) step\n",
    "            from\n",
    "                prob p\n",
    "            where not exists (\n",
    "                select  1             from\n",
    "                    clusters cl\n",
    "                where cl.id = p.id and cl.source = p.source and cl.step < 3\n",
    "            )  and \n",
    "            not exists (\n",
    "                select\n",
    "                    1\n",
    "                from\n",
    "                    clusters cl\n",
    "                where cl.cluster = p.cluster and cl.source = p.source and cl.step < 3\n",
    "            )            \n",
    "            and\n",
    "                p.probability >= 0.7\n",
    "            order by\n",
    "                p.probability desc\n",
    "        ) agg\n",
    "    )\n",
    "    select\n",
    "        *\n",
    "    from\n",
    "        clusters   \n",
    "\"\"\")"
   ]
  },
  {
   "cell_type": "markdown",
   "id": "8b276edb-8bfd-4edb-a623-31ee105f2a95",
   "metadata": {},
   "source": [
    "### v2.2\n",
    "\n",
    "Michał says that because the theoretical limit of the recursion is so high, we may end up with large blocking queries and hitting database settings limits. This is bad for performance and bugfixing. Suggests two tables and `delete returning`. I think this is a solid suggestion."
   ]
  },
  {
   "cell_type": "code",
   "execution_count": 138,
   "id": "7141f495-c22c-4992-9df6-592e95e118fc",
   "metadata": {},
   "outputs": [
    {
     "data": {
      "text/plain": [
       "┌───────┬─────────┬──────────────┬────────┬───────┐\n",
       "│ uuid  │ cluster │      id      │ source │   n   │\n",
       "│ int64 │  int64  │   varchar    │ int64  │ int32 │\n",
       "├───────┼─────────┼──────────────┼────────┼───────┤\n",
       "│     1 │       1 │ will_inc_t1  │      1 │     0 │\n",
       "│     2 │       2 │ leo_inc_t1   │      1 │     0 │\n",
       "│     3 │       3 │ pedro_inc_t1 │      1 │     0 │\n",
       "│     4 │       4 │ sarah_inc_t1 │      1 │     0 │\n",
       "└───────┴─────────┴──────────────┴────────┴───────┘"
      ]
     },
     "execution_count": 138,
     "metadata": {},
     "output_type": "execute_result"
    }
   ],
   "source": [
    "clus_init = duckdb.sql(\"\"\"\n",
    "    drop sequence if exists uuid;\n",
    "    drop sequence if exists cluster;\n",
    "    create sequence uuid start 1;\n",
    "    create sequence cluster start 1;\n",
    "    select\n",
    "        nextval('uuid') as uuid,\n",
    "        nextval('cluster') as cluster,\n",
    "        id,\n",
    "        source,\n",
    "        0 as n,\n",
    "    from\n",
    "        prob\n",
    "    where\n",
    "        cluster = 0\n",
    "\"\"\")\n",
    "clus_init"
   ]
  },
  {
   "cell_type": "code",
   "execution_count": 139,
   "id": "8641e015-c5bf-4b17-821d-69f3f9e896a3",
   "metadata": {},
   "outputs": [
    {
     "data": {
      "text/plain": [
       "┌───────┬─────────┬──────────────┬────────┬───────┐\n",
       "│ uuid  │ cluster │      id      │ source │   n   │\n",
       "│ int64 │  int64  │   varchar    │ int64  │ int32 │\n",
       "├───────┼─────────┼──────────────┼────────┼───────┤\n",
       "│     1 │       1 │ will_inc_t1  │      1 │     0 │\n",
       "│     2 │       2 │ leo_inc_t1   │      1 │     0 │\n",
       "│     3 │       3 │ pedro_inc_t1 │      1 │     0 │\n",
       "│     4 │       4 │ sarah_inc_t1 │      1 │     0 │\n",
       "│     5 │       3 │ pedro_inc_t2 │      2 │     1 │\n",
       "│     6 │       4 │ sarah_inc_t3 │      3 │     1 │\n",
       "└───────┴─────────┴──────────────┴────────┴───────┘"
      ]
     },
     "execution_count": 139,
     "metadata": {},
     "output_type": "execute_result"
    }
   ],
   "source": [
    "clus_val = duckdb.sql(\"\"\"\n",
    "    select\n",
    "        nextval('uuid') as uuid,\n",
    "        cluster,\n",
    "        id,\n",
    "        source,\n",
    "        1 as n,\n",
    "    from\n",
    "        val\n",
    "    where \n",
    "        source in (\n",
    "            select\n",
    "                source\n",
    "            from\n",
    "                prob\n",
    "        )\n",
    "    union\n",
    "    select\n",
    "        *\n",
    "    from\n",
    "        clus_init\n",
    "\"\"\")\n",
    "clus_val"
   ]
  },
  {
   "cell_type": "code",
   "execution_count": 143,
   "id": "891311da-80b3-4759-ac2a-5ac6749d2499",
   "metadata": {},
   "outputs": [
    {
     "data": {
      "text/plain": [
       "┌───────┬─────────┬──────────────┬────────┬───────┐\n",
       "│ uuid  │ cluster │      id      │ source │   n   │\n",
       "│ int64 │  int64  │   varchar    │ int64  │ int32 │\n",
       "├───────┼─────────┼──────────────┼────────┼───────┤\n",
       "│     1 │       1 │ will_inc_t1  │      1 │     0 │\n",
       "│     2 │       2 │ leo_inc_t1   │      1 │     0 │\n",
       "│     3 │       3 │ pedro_inc_t1 │      1 │     0 │\n",
       "│     4 │       4 │ sarah_inc_t1 │      1 │     0 │\n",
       "│     5 │       3 │ pedro_inc_t2 │      2 │     1 │\n",
       "│     6 │       4 │ sarah_inc_t3 │      3 │     1 │\n",
       "└───────┴─────────┴──────────────┴────────┴───────┘"
      ]
     },
     "execution_count": 143,
     "metadata": {},
     "output_type": "execute_result"
    }
   ],
   "source": [
    "duckdb.sql(\"\"\"\n",
    "    drop sequence if exists uuid;\n",
    "    drop sequence if exists cluster;\n",
    "    create sequence uuid start 1;\n",
    "    create sequence cluster start 1;\n",
    "    select\n",
    "        nextval('uuid') as uuid,\n",
    "        nextval('cluster') as cluster,\n",
    "        id,\n",
    "        source,\n",
    "        0 as n,\n",
    "    from\n",
    "        prob\n",
    "    where\n",
    "        cluster = 0\n",
    "    union\n",
    "    select\n",
    "        nextval('uuid') as uuid,\n",
    "        cluster,\n",
    "        id,\n",
    "        source,\n",
    "        1 as n,\n",
    "    from\n",
    "        val\n",
    "    where \n",
    "        source in (\n",
    "            select\n",
    "                source\n",
    "            from\n",
    "                prob\n",
    "        )\n",
    "\"\"\")"
   ]
  },
  {
   "cell_type": "markdown",
   "id": "ec1a4222-3c21-4458-ad78-e9c776181183",
   "metadata": {},
   "source": [
    "We want to:\n",
    "\n",
    "1. Create a temporary `probability` table with every candidate value\n",
    "2. Antijoin on `clusters` to get the bits we want to insert\n",
    "3. If this contains values\n",
    "    1. `delete returning` into `clusters`\n",
    "    2. Go back to 2.\n",
    "4. If the result is empty, done"
   ]
  },
  {
   "cell_type": "code",
   "execution_count": 140,
   "id": "2f40b541-3cf1-4329-aa6f-7c9254ee421e",
   "metadata": {},
   "outputs": [],
   "source": [
    "duckdb.sql(\"\"\"\n",
    "    drop table if exists probabilities_temp;\n",
    "    drop table if exists clusters_temp;\n",
    "    \n",
    "    create temp table probabilities_temp as\n",
    "        select\n",
    "            uuid,\n",
    "            link_type,\n",
    "            cluster,\n",
    "            id,\n",
    "            source,\n",
    "            probability\n",
    "        from\n",
    "            prob prob\n",
    "        where \n",
    "            prob.probability >= 0.7\n",
    "            and cluster != 0\n",
    "        order by\n",
    "            probability desc;\n",
    "    \n",
    "    create temp table clusters_temp as\n",
    "        select\n",
    "            uuid,\n",
    "            cluster,\n",
    "            id,\n",
    "            source,\n",
    "            n,\n",
    "        from\n",
    "            clus_val;\n",
    "\"\"\")"
   ]
  },
  {
   "cell_type": "code",
   "execution_count": 141,
   "id": "cad43948-60dc-4570-b30b-25d06e81971a",
   "metadata": {},
   "outputs": [
    {
     "data": {
      "text/plain": [
       "┌───────┬─────────┬──────────────┬────────┬───────┐\n",
       "│ uuid  │ cluster │      id      │ source │   n   │\n",
       "│ int64 │  int64  │   varchar    │ int64  │ int32 │\n",
       "├───────┼─────────┼──────────────┼────────┼───────┤\n",
       "│     1 │       1 │ will_inc_t1  │      1 │     0 │\n",
       "│     2 │       2 │ leo_inc_t1   │      1 │     0 │\n",
       "│     3 │       3 │ pedro_inc_t1 │      1 │     0 │\n",
       "│     4 │       4 │ sarah_inc_t1 │      1 │     0 │\n",
       "│     7 │       3 │ pedro_inc_t2 │      2 │     1 │\n",
       "│     8 │       4 │ sarah_inc_t3 │      3 │     1 │\n",
       "└───────┴─────────┴──────────────┴────────┴───────┘"
      ]
     },
     "execution_count": 141,
     "metadata": {},
     "output_type": "execute_result"
    },
    {
     "data": {
      "text/plain": [
       "┌───────┬───────────┬─────────┬──────────────┬────────┬─────────────┐\n",
       "│ uuid  │ link_type │ cluster │      id      │ source │ probability │\n",
       "│ int64 │  varchar  │  int64  │   varchar    │ int64  │   double    │\n",
       "├───────┼───────────┼─────────┼──────────────┼────────┼─────────────┤\n",
       "│     2 │ link      │       1 │ will_inc_t2  │      2 │         0.9 │\n",
       "│    24 │ link      │       2 │ leo_inc_t4   │      4 │         0.9 │\n",
       "│    31 │ link      │       4 │ pedro_inc_t2 │      2 │         0.9 │\n",
       "│    38 │ link      │       3 │ pedro_inc_t4 │      4 │         0.9 │\n",
       "│    43 │ link      │       3 │ sarah_inc_t2 │      2 │         0.9 │\n",
       "│    25 │ link      │       3 │ leo_inc_t4   │      4 │        0.85 │\n",
       "│     6 │ link      │       1 │ will_inc_t3  │      3 │         0.8 │\n",
       "│    16 │ link      │       2 │ leo_inc_t2   │      2 │         0.8 │\n",
       "│    19 │ link      │       1 │ leo_inc_t3   │      3 │         0.8 │\n",
       "│    26 │ link      │       4 │ leo_inc_t4   │      4 │         0.8 │\n",
       "│    39 │ link      │       4 │ pedro_inc_t4 │      4 │         0.8 │\n",
       "│    44 │ link      │       4 │ sarah_inc_t2 │      2 │         0.8 │\n",
       "│    10 │ link      │       1 │ will_inc_t4  │      4 │        0.75 │\n",
       "│    50 │ link      │       2 │ sarah_inc_t4 │      4 │        0.75 │\n",
       "│     3 │ link      │       2 │ will_inc_t2  │      2 │         0.7 │\n",
       "│     7 │ link      │       2 │ will_inc_t3  │      3 │         0.7 │\n",
       "│    15 │ link      │       1 │ leo_inc_t2   │      2 │         0.7 │\n",
       "│    23 │ link      │       1 │ leo_inc_t4   │      4 │         0.7 │\n",
       "│    30 │ link      │       3 │ pedro_inc_t2 │      2 │         0.7 │\n",
       "│    42 │ link      │       2 │ sarah_inc_t2 │      2 │         0.7 │\n",
       "│    52 │ link      │       4 │ sarah_inc_t4 │      4 │         0.7 │\n",
       "├───────┴───────────┴─────────┴──────────────┴────────┴─────────────┤\n",
       "│ 21 rows                                                 6 columns │\n",
       "└───────────────────────────────────────────────────────────────────┘"
      ]
     },
     "execution_count": 141,
     "metadata": {},
     "output_type": "execute_result"
    }
   ],
   "source": [
    "duckdb.sql(\"\"\"\n",
    "    select * from clusters_temp;\n",
    "\"\"\")\n",
    "duckdb.sql(\"\"\"\n",
    "    select * from probabilities_temp;\n",
    "\"\"\")"
   ]
  },
  {
   "cell_type": "code",
   "execution_count": 142,
   "id": "de7c4b00-6bdb-4f9a-9aad-def8f833bd5f",
   "metadata": {},
   "outputs": [
    {
     "data": {
      "text/plain": [
       "┌───────┬─────────┬──────────────┬────────┬───────┐\n",
       "│ uuid  │ cluster │      id      │ source │   n   │\n",
       "│ int64 │  int64  │   varchar    │ int64  │ int32 │\n",
       "├───────┼─────────┼──────────────┼────────┼───────┤\n",
       "│     9 │       1 │ will_inc_t2  │      2 │     1 │\n",
       "│    10 │       2 │ leo_inc_t4   │      4 │     1 │\n",
       "│    11 │       3 │ pedro_inc_t4 │      4 │     1 │\n",
       "│    12 │       3 │ sarah_inc_t2 │      2 │     1 │\n",
       "│    13 │       4 │ pedro_inc_t2 │      2 │     1 │\n",
       "│    14 │       1 │ will_inc_t3  │      3 │     1 │\n",
       "│    15 │       2 │ leo_inc_t2   │      2 │     1 │\n",
       "│    17 │       1 │ will_inc_t4  │      4 │     1 │\n",
       "└───────┴─────────┴──────────────┴────────┴───────┘"
      ]
     },
     "execution_count": 142,
     "metadata": {},
     "output_type": "execute_result"
    }
   ],
   "source": [
    "clus_1 = duckdb.sql(\"\"\"\n",
    "    select\n",
    "        distinct on (agg.id, agg.source)\n",
    "        nextval('uuid') as uuid,\n",
    "        cluster,\n",
    "        id,\n",
    "        source,\n",
    "        1 as n,\n",
    "    from (\n",
    "        select\n",
    "            distinct on (prob.cluster, prob.source)\n",
    "            prob.*\n",
    "        from\n",
    "            probabilities_temp prob\n",
    "        where \n",
    "            not exists (\n",
    "                select\n",
    "                    id,\n",
    "                    source\n",
    "                from\n",
    "                    clusters_temp clus\n",
    "                where\n",
    "                    clus.id = prob.id\n",
    "                    and clus.source = prob.source\n",
    "            )\n",
    "            or not exists (\n",
    "                select\n",
    "                    cluster,\n",
    "                    source\n",
    "                from\n",
    "                    clusters_temp clus\n",
    "                where\n",
    "                    clus.cluster = prob.cluster\n",
    "                    and clus.source = prob.source\n",
    "            )\n",
    "        order by\n",
    "            probability desc\n",
    "    ) agg;\n",
    "\"\"\")\n",
    "clus_1"
   ]
  },
  {
   "cell_type": "code",
   "execution_count": 145,
   "id": "3b7dffc3-84b5-4cc5-b348-622d7919ed6e",
   "metadata": {},
   "outputs": [
    {
     "data": {
      "text/plain": [
       "8"
      ]
     },
     "execution_count": 145,
     "metadata": {},
     "output_type": "execute_result"
    }
   ],
   "source": [
    "len(clus_1.df().index)"
   ]
  },
  {
   "cell_type": "code",
   "execution_count": 135,
   "id": "0652f473-b798-42f6-b9d9-53f1f7bd7e3b",
   "metadata": {},
   "outputs": [],
   "source": [
    "duckdb.sql(\"\"\"\n",
    "    insert into clusters_temp \n",
    "    select\n",
    "        uuid,\n",
    "        cluster,\n",
    "        id,\n",
    "        source,\n",
    "        n,\n",
    "    from\n",
    "        clus_1;\n",
    "\n",
    "\"\"\")"
   ]
  },
  {
   "cell_type": "code",
   "execution_count": 114,
   "id": "878f43cf-6a19-482f-b9f7-20f2881ec2e2",
   "metadata": {},
   "outputs": [],
   "source": [
    "duckdb.sql(\"\"\"\n",
    "    delete from probabilities_temp prob_temp\n",
    "    where exists (\n",
    "        select \n",
    "            cl.cluster,\n",
    "            cl.id,\n",
    "            cl.source\n",
    "        from \n",
    "            clus_1 cl\n",
    "        where\n",
    "            (\n",
    "                cl.id = prob_temp.id\n",
    "                and cl.source = prob_temp.source\n",
    "            ) or (\n",
    "                cl.cluster = prob_temp.cluster\n",
    "                and cl.source = prob_temp.source\n",
    "            )\n",
    "    );\n",
    "\"\"\")"
   ]
  },
  {
   "cell_type": "code",
   "execution_count": 109,
   "id": "216fa51a-a92d-4d7a-b50d-d1a62dd569a6",
   "metadata": {},
   "outputs": [],
   "source": [
    "duckdb.sql(\"\"\"\n",
    "    delete from probabilities_temp prob_temp\n",
    "    where exists (\n",
    "        select \n",
    "            cl.cluster,\n",
    "            cl.id,\n",
    "            cl.source\n",
    "        from \n",
    "            clus_1 cl\n",
    "        where\n",
    "            cl.id = prob_temp.id\n",
    "            and cl.cluster = prob_temp.cluster\n",
    "            and cl.source = prob_temp.source\n",
    "    );\n",
    "\"\"\")"
   ]
  },
  {
   "cell_type": "code",
   "execution_count": 136,
   "id": "5516e6df-80c5-4e50-9434-4f3bd424c08f",
   "metadata": {},
   "outputs": [
    {
     "data": {
      "text/plain": [
       "┌───────┬─────────┬──────────────┬────────┬───────┐\n",
       "│ uuid  │ cluster │      id      │ source │   n   │\n",
       "│ int64 │  int64  │   varchar    │ int64  │ int32 │\n",
       "├───────┼─────────┼──────────────┼────────┼───────┤\n",
       "│     1 │       1 │ will_inc_t1  │      1 │     0 │\n",
       "│     2 │       2 │ leo_inc_t1   │      1 │     0 │\n",
       "│     3 │       3 │ pedro_inc_t1 │      1 │     0 │\n",
       "│     4 │       4 │ sarah_inc_t1 │      1 │     0 │\n",
       "│    11 │       3 │ pedro_inc_t2 │      2 │     1 │\n",
       "│    12 │       4 │ sarah_inc_t3 │      3 │     1 │\n",
       "│    24 │       0 │ will_inc_t1  │      1 │     1 │\n",
       "│    25 │       1 │ will_inc_t2  │      2 │     1 │\n",
       "│    26 │       2 │ leo_inc_t4   │      4 │     1 │\n",
       "│    27 │       3 │ pedro_inc_t4 │      4 │     1 │\n",
       "│    28 │       3 │ sarah_inc_t2 │      2 │     1 │\n",
       "│    29 │       4 │ pedro_inc_t2 │      2 │     1 │\n",
       "│    30 │       1 │ will_inc_t3  │      3 │     1 │\n",
       "│    31 │       2 │ leo_inc_t2   │      2 │     1 │\n",
       "│    33 │       1 │ will_inc_t4  │      4 │     1 │\n",
       "├───────┴─────────┴──────────────┴────────┴───────┤\n",
       "│ 15 rows                               5 columns │\n",
       "└─────────────────────────────────────────────────┘"
      ]
     },
     "execution_count": 136,
     "metadata": {},
     "output_type": "execute_result"
    },
    {
     "data": {
      "text/plain": [
       "┌───────┬───────────┬─────────┬──────────────┬────────┬─────────────┐\n",
       "│ uuid  │ link_type │ cluster │      id      │ source │ probability │\n",
       "│ int64 │  varchar  │  int64  │   varchar    │ int64  │   double    │\n",
       "├───────┼───────────┼─────────┼──────────────┼────────┼─────────────┤\n",
       "│     1 │ link      │       0 │ will_inc_t1  │      1 │         1.0 │\n",
       "│    14 │ link      │       0 │ leo_inc_t1   │      1 │         1.0 │\n",
       "│    27 │ link      │       0 │ pedro_inc_t1 │      1 │         1.0 │\n",
       "│    40 │ link      │       0 │ sarah_inc_t1 │      1 │         1.0 │\n",
       "│     2 │ link      │       1 │ will_inc_t2  │      2 │         0.9 │\n",
       "│    24 │ link      │       2 │ leo_inc_t4   │      4 │         0.9 │\n",
       "│    38 │ link      │       3 │ pedro_inc_t4 │      4 │         0.9 │\n",
       "│    43 │ link      │       3 │ sarah_inc_t2 │      2 │         0.9 │\n",
       "│    31 │ link      │       4 │ pedro_inc_t2 │      2 │         0.9 │\n",
       "│    25 │ link      │       3 │ leo_inc_t4   │      4 │        0.85 │\n",
       "│     · │  ·        │       · │     ·        │      · │          ·  │\n",
       "│     · │  ·        │       · │     ·        │      · │          ·  │\n",
       "│     · │  ·        │       · │     ·        │      · │          ·  │\n",
       "│    39 │ link      │       4 │ pedro_inc_t4 │      4 │         0.8 │\n",
       "│    44 │ link      │       4 │ sarah_inc_t2 │      2 │         0.8 │\n",
       "│    10 │ link      │       1 │ will_inc_t4  │      4 │        0.75 │\n",
       "│    50 │ link      │       2 │ sarah_inc_t4 │      4 │        0.75 │\n",
       "│     3 │ link      │       2 │ will_inc_t2  │      2 │         0.7 │\n",
       "│     7 │ link      │       2 │ will_inc_t3  │      3 │         0.7 │\n",
       "│    15 │ link      │       1 │ leo_inc_t2   │      2 │         0.7 │\n",
       "│    23 │ link      │       1 │ leo_inc_t4   │      4 │         0.7 │\n",
       "│    42 │ link      │       2 │ sarah_inc_t2 │      2 │         0.7 │\n",
       "│    52 │ link      │       4 │ sarah_inc_t4 │      4 │         0.7 │\n",
       "├───────┴───────────┴─────────┴──────────────┴────────┴─────────────┤\n",
       "│ 24 rows (20 shown)                                      6 columns │\n",
       "└───────────────────────────────────────────────────────────────────┘"
      ]
     },
     "execution_count": 136,
     "metadata": {},
     "output_type": "execute_result"
    }
   ],
   "source": [
    "duckdb.sql(\"\"\"\n",
    "    select * from clusters_temp;\n",
    "\"\"\")\n",
    "duckdb.sql(\"\"\"\n",
    "    select * from probabilities_temp;\n",
    "\"\"\")"
   ]
  },
  {
   "cell_type": "code",
   "execution_count": 127,
   "id": "7feaf716-35a4-42c4-a0fe-55dc32696428",
   "metadata": {},
   "outputs": [
    {
     "data": {
      "text/plain": [
       "False"
      ]
     },
     "execution_count": 127,
     "metadata": {},
     "output_type": "execute_result"
    },
    {
     "data": {
      "text/html": [
       "<div>\n",
       "<style scoped>\n",
       "    .dataframe tbody tr th:only-of-type {\n",
       "        vertical-align: middle;\n",
       "    }\n",
       "\n",
       "    .dataframe tbody tr th {\n",
       "        vertical-align: top;\n",
       "    }\n",
       "\n",
       "    .dataframe thead tr th {\n",
       "        text-align: left;\n",
       "    }\n",
       "</style>\n",
       "<table border=\"1\" class=\"dataframe\">\n",
       "  <thead>\n",
       "    <tr>\n",
       "      <th></th>\n",
       "      <th colspan=\"2\" halign=\"left\">cluster</th>\n",
       "      <th colspan=\"2\" halign=\"left\">id</th>\n",
       "      <th colspan=\"2\" halign=\"left\">source</th>\n",
       "      <th colspan=\"2\" halign=\"left\">n</th>\n",
       "    </tr>\n",
       "    <tr>\n",
       "      <th></th>\n",
       "      <th>self</th>\n",
       "      <th>other</th>\n",
       "      <th>self</th>\n",
       "      <th>other</th>\n",
       "      <th>self</th>\n",
       "      <th>other</th>\n",
       "      <th>self</th>\n",
       "      <th>other</th>\n",
       "    </tr>\n",
       "  </thead>\n",
       "  <tbody>\n",
       "    <tr>\n",
       "      <th>9</th>\n",
       "      <td>NaN</td>\n",
       "      <td>NaN</td>\n",
       "      <td>sarah_inc_t2</td>\n",
       "      <td>pedro_inc_t4</td>\n",
       "      <td>2.0</td>\n",
       "      <td>4.0</td>\n",
       "      <td>NaN</td>\n",
       "      <td>NaN</td>\n",
       "    </tr>\n",
       "    <tr>\n",
       "      <th>10</th>\n",
       "      <td>3.0</td>\n",
       "      <td>4.0</td>\n",
       "      <td>pedro_inc_t4</td>\n",
       "      <td>sarah_inc_t1</td>\n",
       "      <td>4.0</td>\n",
       "      <td>1.0</td>\n",
       "      <td>1.0</td>\n",
       "      <td>0.0</td>\n",
       "    </tr>\n",
       "    <tr>\n",
       "      <th>11</th>\n",
       "      <td>NaN</td>\n",
       "      <td>NaN</td>\n",
       "      <td>sarah_inc_t1</td>\n",
       "      <td>sarah_inc_t2</td>\n",
       "      <td>1.0</td>\n",
       "      <td>2.0</td>\n",
       "      <td>0.0</td>\n",
       "      <td>1.0</td>\n",
       "    </tr>\n",
       "    <tr>\n",
       "      <th>13</th>\n",
       "      <td>NaN</td>\n",
       "      <td>NaN</td>\n",
       "      <td>pedro_inc_t4</td>\n",
       "      <td>sarah_inc_t4</td>\n",
       "      <td>NaN</td>\n",
       "      <td>NaN</td>\n",
       "      <td>NaN</td>\n",
       "      <td>NaN</td>\n",
       "    </tr>\n",
       "  </tbody>\n",
       "</table>\n",
       "</div>"
      ],
      "text/plain": [
       "   cluster                  id               source          n      \n",
       "      self other          self         other   self other self other\n",
       "9      NaN   NaN  sarah_inc_t2  pedro_inc_t4    2.0   4.0  NaN   NaN\n",
       "10     3.0   4.0  pedro_inc_t4  sarah_inc_t1    4.0   1.0  1.0   0.0\n",
       "11     NaN   NaN  sarah_inc_t1  sarah_inc_t2    1.0   2.0  0.0   1.0\n",
       "13     NaN   NaN  pedro_inc_t4  sarah_inc_t4    NaN   NaN  NaN   NaN"
      ]
     },
     "execution_count": 127,
     "metadata": {},
     "output_type": "execute_result"
    }
   ],
   "source": [
    "clus_check_l = duckdb.sql(\"\"\"\n",
    "    select\n",
    "        cluster,\n",
    "        id,\n",
    "        source,\n",
    "        n::int as n\n",
    "    from\n",
    "        clusters_temp\n",
    "    order by\n",
    "        cluster,\n",
    "        source,\n",
    "        id,\n",
    "        n\n",
    "\"\"\")\n",
    "clus_check_r = duckdb.sql(\"\"\"\n",
    "    select\n",
    "        cluster,\n",
    "        id,\n",
    "        source,\n",
    "        n_par::int as n\n",
    "    from\n",
    "        clus\n",
    "    order by\n",
    "        cluster,\n",
    "        source,\n",
    "        id,\n",
    "        n_par\n",
    "\"\"\")\n",
    "clus_check_l.df().equals(clus_check_r.df())\n",
    "clus_check_l.df().compare(clus_check_r.df())"
   ]
  },
  {
   "cell_type": "code",
   "execution_count": 128,
   "id": "a61915f6-d977-436a-af91-ca9e4de99757",
   "metadata": {},
   "outputs": [
    {
     "data": {
      "text/plain": [
       "┌─────────┬──────────────┬────────┬───────┐\n",
       "│ cluster │      id      │ source │   n   │\n",
       "│  int64  │   varchar    │ int64  │ int32 │\n",
       "├─────────┼──────────────┼────────┼───────┤\n",
       "│       1 │ will_inc_t1  │      1 │     0 │\n",
       "│       1 │ will_inc_t2  │      2 │     1 │\n",
       "│       1 │ will_inc_t3  │      3 │     1 │\n",
       "│       1 │ will_inc_t4  │      4 │     1 │\n",
       "│       2 │ leo_inc_t1   │      1 │     0 │\n",
       "│       2 │ leo_inc_t2   │      2 │     1 │\n",
       "│       2 │ leo_inc_t4   │      4 │     1 │\n",
       "│       3 │ pedro_inc_t1 │      1 │     0 │\n",
       "│       3 │ pedro_inc_t2 │      2 │     1 │\n",
       "│       3 │ sarah_inc_t2 │      2 │     1 │\n",
       "│       3 │ pedro_inc_t4 │      4 │     1 │\n",
       "│       4 │ sarah_inc_t1 │      1 │     0 │\n",
       "│       4 │ sarah_inc_t3 │      3 │     1 │\n",
       "│       4 │ pedro_inc_t4 │      4 │     1 │\n",
       "├─────────┴──────────────┴────────┴───────┤\n",
       "│ 14 rows                       4 columns │\n",
       "└─────────────────────────────────────────┘"
      ]
     },
     "execution_count": 128,
     "metadata": {},
     "output_type": "execute_result"
    },
    {
     "data": {
      "text/plain": [
       "┌─────────┬──────────────┬────────┬───────┐\n",
       "│ cluster │      id      │ source │   n   │\n",
       "│  int64  │   varchar    │ int64  │ int32 │\n",
       "├─────────┼──────────────┼────────┼───────┤\n",
       "│       1 │ will_inc_t1  │      1 │     0 │\n",
       "│       1 │ will_inc_t2  │      2 │     1 │\n",
       "│       1 │ will_inc_t3  │      3 │     1 │\n",
       "│       1 │ will_inc_t4  │      4 │     1 │\n",
       "│       2 │ leo_inc_t1   │      1 │     0 │\n",
       "│       2 │ leo_inc_t2   │      2 │     1 │\n",
       "│       2 │ leo_inc_t4   │      4 │     1 │\n",
       "│       3 │ pedro_inc_t1 │      1 │     0 │\n",
       "│       3 │ pedro_inc_t2 │      2 │     1 │\n",
       "│       3 │ pedro_inc_t4 │      4 │     1 │\n",
       "│       4 │ sarah_inc_t1 │      1 │     0 │\n",
       "│       4 │ sarah_inc_t2 │      2 │     1 │\n",
       "│       4 │ sarah_inc_t3 │      3 │     1 │\n",
       "│       4 │ sarah_inc_t4 │      4 │     1 │\n",
       "├─────────┴──────────────┴────────┴───────┤\n",
       "│ 14 rows                       4 columns │\n",
       "└─────────────────────────────────────────┘"
      ]
     },
     "execution_count": 128,
     "metadata": {},
     "output_type": "execute_result"
    }
   ],
   "source": [
    "clus_check_l\n",
    "clus_check_r"
   ]
  },
  {
   "cell_type": "markdown",
   "id": "3c3846aa-3ed1-4785-b771-c654f8427408",
   "metadata": {
    "jp-MarkdownHeadingCollapsed": true,
    "tags": []
   },
   "source": [
    "## v1\n",
    "\n",
    "I've made the data more complicated so the below won't now evaluate to True."
   ]
  },
  {
   "cell_type": "markdown",
   "id": "abf44d31-efed-4432-8256-64eb023654c8",
   "metadata": {},
   "source": [
    "### Parallel\n",
    "\n",
    "Sometimes we might join several tables to `probabilities` at once, then add them to `clusters` together."
   ]
  },
  {
   "cell_type": "code",
   "execution_count": 120,
   "id": "dc0ba81e-6ed0-48ed-9c37-3ed2bae2a91e",
   "metadata": {},
   "outputs": [
    {
     "data": {
      "text/plain": [
       "┌───────┬─────────┬──────────────┬────────┬───────┐\n",
       "│ uuid  │ cluster │      id      │ source │   n   │\n",
       "│ int64 │  int64  │   varchar    │ int64  │ int32 │\n",
       "├───────┼─────────┼──────────────┼────────┼───────┤\n",
       "│     1 │       1 │ will_inc_t1  │      1 │     0 │\n",
       "│     2 │       2 │ leo_inc_t1   │      1 │     0 │\n",
       "│     3 │       3 │ sarah_inc_t1 │      1 │     0 │\n",
       "└───────┴─────────┴──────────────┴────────┴───────┘"
      ]
     },
     "execution_count": 120,
     "metadata": {},
     "output_type": "execute_result"
    }
   ],
   "source": [
    "clus_init = duckdb.sql(\"\"\"\n",
    "    drop sequence if exists uuid;\n",
    "    drop sequence if exists cluster;\n",
    "    create sequence uuid start 1;\n",
    "    create sequence cluster start 1;\n",
    "    select\n",
    "        nextval('uuid') as uuid,\n",
    "        nextval('cluster') as cluster,\n",
    "        id,\n",
    "        source,\n",
    "        0 as n,\n",
    "    from\n",
    "        prob\n",
    "    where\n",
    "        cluster = 0\n",
    "\"\"\")\n",
    "clus_init"
   ]
  },
  {
   "cell_type": "code",
   "execution_count": 121,
   "id": "87d76974-2408-46d4-9152-59ea7c78111a",
   "metadata": {},
   "outputs": [],
   "source": [
    "clus_complete = duckdb.sql(\"\"\"\n",
    "    select\n",
    "        nextval('uuid') as uuid,\n",
    "        cluster,\n",
    "        id,\n",
    "        source,\n",
    "        1 as n,\n",
    "    from (\n",
    "        select\n",
    "            distinct on (prob.cluster, prob.source)\n",
    "            prob.*\n",
    "        from\n",
    "            prob\n",
    "        anti join clus_init cl on\n",
    "            cl.id = prob.id\n",
    "            and cl.source = prob.source\n",
    "        where \n",
    "            probability > 0.7\n",
    "        order by\n",
    "            probability desc,\n",
    "            id desc\n",
    "    )\n",
    "    union\n",
    "    select\n",
    "        *\n",
    "    from\n",
    "        clus_init\n",
    "\"\"\")"
   ]
  },
  {
   "cell_type": "code",
   "execution_count": 122,
   "id": "132a8399-0b40-4827-ae02-4e97d69cb74b",
   "metadata": {},
   "outputs": [
    {
     "data": {
      "text/plain": [
       "True"
      ]
     },
     "execution_count": 122,
     "metadata": {},
     "output_type": "execute_result"
    },
    {
     "data": {
      "text/html": [
       "<div>\n",
       "<style scoped>\n",
       "    .dataframe tbody tr th:only-of-type {\n",
       "        vertical-align: middle;\n",
       "    }\n",
       "\n",
       "    .dataframe tbody tr th {\n",
       "        vertical-align: top;\n",
       "    }\n",
       "\n",
       "    .dataframe thead tr th {\n",
       "        text-align: left;\n",
       "    }\n",
       "</style>\n",
       "<table border=\"1\" class=\"dataframe\">\n",
       "  <thead>\n",
       "  </thead>\n",
       "  <tbody>\n",
       "  </tbody>\n",
       "</table>\n",
       "</div>"
      ],
      "text/plain": [
       "Empty DataFrame\n",
       "Columns: []\n",
       "Index: []"
      ]
     },
     "execution_count": 122,
     "metadata": {},
     "output_type": "execute_result"
    }
   ],
   "source": [
    "clus_check_l = duckdb.sql(\"\"\"\n",
    "    select\n",
    "        cluster,\n",
    "        id,\n",
    "        source,\n",
    "        n::int as n\n",
    "    from\n",
    "        clus_complete\n",
    "    order by\n",
    "        cluster,\n",
    "        source,\n",
    "        id,\n",
    "        n\n",
    "\"\"\")\n",
    "clus_check_r = duckdb.sql(\"\"\"\n",
    "    select\n",
    "        cluster,\n",
    "        id,\n",
    "        source,\n",
    "        n_par::int as n\n",
    "    from\n",
    "        clus\n",
    "    order by\n",
    "        cluster,\n",
    "        source,\n",
    "        id,\n",
    "        n_par\n",
    "\"\"\")\n",
    "clus_check_l.df().equals(clus_check_r.df())\n",
    "clus_check_l.df().compare(clus_check_r.df())"
   ]
  },
  {
   "cell_type": "markdown",
   "id": "d6538182-58d7-4cc7-a238-572b43a4d655",
   "metadata": {},
   "source": [
    "### Sequential\n",
    "\n",
    "Sometimes we'll add one table to `probabilities`, then resolve to `clusters`, then do that over and over."
   ]
  },
  {
   "cell_type": "code",
   "execution_count": 132,
   "id": "1dd5c01f-2210-4781-bfd9-acfa94f7cc3d",
   "metadata": {},
   "outputs": [
    {
     "data": {
      "text/plain": [
       "┌───────┬─────────┬──────────────┬────────┬───────┐\n",
       "│ uuid  │ cluster │      id      │ source │   n   │\n",
       "│ int64 │  int64  │   varchar    │ int64  │ int32 │\n",
       "├───────┼─────────┼──────────────┼────────┼───────┤\n",
       "│     1 │       1 │ will_inc_t1  │      1 │     0 │\n",
       "│     2 │       2 │ leo_inc_t1   │      1 │     0 │\n",
       "│     3 │       3 │ sarah_inc_t1 │      1 │     0 │\n",
       "└───────┴─────────┴──────────────┴────────┴───────┘"
      ]
     },
     "execution_count": 132,
     "metadata": {},
     "output_type": "execute_result"
    }
   ],
   "source": [
    "clus_init = duckdb.sql(\"\"\"\n",
    "    drop sequence if exists uuid;\n",
    "    drop sequence if exists cluster;\n",
    "    create sequence uuid start 1;\n",
    "    create sequence cluster start 1;\n",
    "    select\n",
    "        nextval('uuid') as uuid,\n",
    "        nextval('cluster') as cluster,\n",
    "        id,\n",
    "        source,\n",
    "        0 as n,\n",
    "    from\n",
    "        prob\n",
    "    where\n",
    "        cluster = 0\n",
    "\"\"\")\n",
    "clus_init"
   ]
  },
  {
   "cell_type": "code",
   "execution_count": 133,
   "id": "dcdbfc77-7bce-49ba-8564-9a25a0790649",
   "metadata": {},
   "outputs": [],
   "source": [
    "prob_n1 = duckdb.sql(\"\"\"\n",
    "    select\n",
    "        *\n",
    "    from\n",
    "        prob\n",
    "    where\n",
    "        source = 2\n",
    "\"\"\")\n",
    "prob_n2 = duckdb.sql(\"\"\"\n",
    "    select\n",
    "        *\n",
    "    from\n",
    "        prob\n",
    "    where\n",
    "        source = 3\n",
    "\"\"\")\n",
    "prob_n3 = duckdb.sql(\"\"\"\n",
    "    select\n",
    "        *\n",
    "    from\n",
    "        prob\n",
    "    where\n",
    "        source = 4\n",
    "\"\"\")"
   ]
  },
  {
   "cell_type": "code",
   "execution_count": 134,
   "id": "c0f0bae9-1358-472e-8e5b-82445aabacf7",
   "metadata": {},
   "outputs": [
    {
     "data": {
      "text/plain": [
       "┌───────┬─────────┬──────────────┬────────┬───────┐\n",
       "│ uuid  │ cluster │      id      │ source │   n   │\n",
       "│ int64 │  int64  │   varchar    │ int64  │ int32 │\n",
       "├───────┼─────────┼──────────────┼────────┼───────┤\n",
       "│     1 │       1 │ will_inc_t1  │      1 │     0 │\n",
       "│     2 │       2 │ leo_inc_t1   │      1 │     0 │\n",
       "│     3 │       3 │ sarah_inc_t1 │      1 │     0 │\n",
       "│     4 │       1 │ will_inc_t2  │      2 │     1 │\n",
       "│     5 │       4 │ pedro_inc_t2 │      2 │     1 │\n",
       "│     6 │       2 │ leo_inc_t2   │      2 │     1 │\n",
       "└───────┴─────────┴──────────────┴────────┴───────┘"
      ]
     },
     "execution_count": 134,
     "metadata": {},
     "output_type": "execute_result"
    }
   ],
   "source": [
    "clus_n1 = duckdb.sql(\"\"\"\n",
    "    select\n",
    "        nextval('uuid') as uuid,\n",
    "        cluster,\n",
    "        id,\n",
    "        source,\n",
    "        1 as n,\n",
    "    from (\n",
    "        select\n",
    "            distinct on (prob.cluster, prob.source)\n",
    "            prob.*\n",
    "        from\n",
    "            prob_n1 prob\n",
    "        anti join clus_init cl on\n",
    "            cl.id = prob.id\n",
    "            and cl.source = prob.source\n",
    "        where\n",
    "            probability > 0.7\n",
    "        order by\n",
    "            probability desc,\n",
    "            id desc\n",
    "    )\n",
    "    union\n",
    "    select\n",
    "        *\n",
    "    from\n",
    "        clus_init\n",
    "\"\"\")\n",
    "clus_n1"
   ]
  },
  {
   "cell_type": "code",
   "execution_count": 135,
   "id": "96f72767-0493-4e73-b435-a88243a0f32e",
   "metadata": {},
   "outputs": [
    {
     "data": {
      "text/plain": [
       "┌───────┬─────────┬──────────────┬────────┬───────┐\n",
       "│ uuid  │ cluster │      id      │ source │   n   │\n",
       "│ int64 │  int64  │   varchar    │ int64  │ int32 │\n",
       "├───────┼─────────┼──────────────┼────────┼───────┤\n",
       "│     1 │       1 │ will_inc_t1  │      1 │     0 │\n",
       "│     2 │       2 │ leo_inc_t1   │      1 │     0 │\n",
       "│     3 │       3 │ sarah_inc_t1 │      1 │     0 │\n",
       "│    10 │       1 │ will_inc_t2  │      2 │     1 │\n",
       "│    11 │       4 │ pedro_inc_t2 │      2 │     1 │\n",
       "│    12 │       2 │ leo_inc_t2   │      2 │     1 │\n",
       "│    13 │       1 │ will_inc_t3  │      3 │     2 │\n",
       "└───────┴─────────┴──────────────┴────────┴───────┘"
      ]
     },
     "execution_count": 135,
     "metadata": {},
     "output_type": "execute_result"
    }
   ],
   "source": [
    "clus_n2 = duckdb.sql(\"\"\"\n",
    "    select\n",
    "        nextval('uuid') as uuid,\n",
    "        cluster,\n",
    "        id,\n",
    "        source,\n",
    "        2 as n,\n",
    "    from (\n",
    "        select\n",
    "            distinct on (prob.cluster, prob.source)\n",
    "            prob.*\n",
    "        from\n",
    "            prob_n2 prob\n",
    "        anti join clus_n1 cl on\n",
    "            cl.id = prob.id\n",
    "            and cl.source = prob.source\n",
    "        where\n",
    "            probability > 0.7\n",
    "        order by\n",
    "            probability desc,\n",
    "            id desc\n",
    "    )\n",
    "    union\n",
    "    select\n",
    "        *\n",
    "    from\n",
    "        clus_n1\n",
    "\"\"\")\n",
    "clus_n2"
   ]
  },
  {
   "cell_type": "code",
   "execution_count": 136,
   "id": "af2f346e-6600-4a7f-9eba-bc83863757a4",
   "metadata": {},
   "outputs": [
    {
     "data": {
      "text/plain": [
       "┌───────┬─────────┬──────────────┬────────┬───────┐\n",
       "│ uuid  │ cluster │      id      │ source │   n   │\n",
       "│ int64 │  int64  │   varchar    │ int64  │ int32 │\n",
       "├───────┼─────────┼──────────────┼────────┼───────┤\n",
       "│     1 │       1 │ will_inc_t1  │      1 │     0 │\n",
       "│     2 │       2 │ leo_inc_t1   │      1 │     0 │\n",
       "│     3 │       3 │ sarah_inc_t1 │      1 │     0 │\n",
       "│    14 │       1 │ will_inc_t2  │      2 │     1 │\n",
       "│    15 │       4 │ pedro_inc_t2 │      2 │     1 │\n",
       "│    16 │       2 │ leo_inc_t2   │      2 │     1 │\n",
       "│    27 │       1 │ will_inc_t3  │      3 │     2 │\n",
       "└───────┴─────────┴──────────────┴────────┴───────┘"
      ]
     },
     "execution_count": 136,
     "metadata": {},
     "output_type": "execute_result"
    }
   ],
   "source": [
    "clus_n3 = duckdb.sql(\"\"\"\n",
    "    select\n",
    "        nextval('uuid') as uuid,\n",
    "        cluster,\n",
    "        id,\n",
    "        source,\n",
    "        3 as n,\n",
    "    from (\n",
    "        select\n",
    "            distinct on (prob.cluster, prob.source)\n",
    "            prob.*\n",
    "        from\n",
    "            prob_n3 prob\n",
    "        anti join clus_n2 on\n",
    "            clus_n2.id = prob.id\n",
    "            and clus_n2.source = prob.source\n",
    "        where\n",
    "            probability > 0.7\n",
    "        order by\n",
    "            probability desc,\n",
    "            id desc\n",
    "    )\n",
    "    union\n",
    "    select\n",
    "        *\n",
    "    from\n",
    "        clus_n2\n",
    "\"\"\")\n",
    "clus_n3"
   ]
  },
  {
   "cell_type": "code",
   "execution_count": 137,
   "id": "5a90a411-db08-4ed6-be5f-8224b729a9cd",
   "metadata": {},
   "outputs": [
    {
     "data": {
      "text/plain": [
       "True"
      ]
     },
     "execution_count": 137,
     "metadata": {},
     "output_type": "execute_result"
    },
    {
     "data": {
      "text/html": [
       "<div>\n",
       "<style scoped>\n",
       "    .dataframe tbody tr th:only-of-type {\n",
       "        vertical-align: middle;\n",
       "    }\n",
       "\n",
       "    .dataframe tbody tr th {\n",
       "        vertical-align: top;\n",
       "    }\n",
       "\n",
       "    .dataframe thead tr th {\n",
       "        text-align: left;\n",
       "    }\n",
       "</style>\n",
       "<table border=\"1\" class=\"dataframe\">\n",
       "  <thead>\n",
       "  </thead>\n",
       "  <tbody>\n",
       "  </tbody>\n",
       "</table>\n",
       "</div>"
      ],
      "text/plain": [
       "Empty DataFrame\n",
       "Columns: []\n",
       "Index: []"
      ]
     },
     "execution_count": 137,
     "metadata": {},
     "output_type": "execute_result"
    },
    {
     "data": {
      "text/plain": [
       "True"
      ]
     },
     "execution_count": 137,
     "metadata": {},
     "output_type": "execute_result"
    },
    {
     "data": {
      "text/html": [
       "<div>\n",
       "<style scoped>\n",
       "    .dataframe tbody tr th:only-of-type {\n",
       "        vertical-align: middle;\n",
       "    }\n",
       "\n",
       "    .dataframe tbody tr th {\n",
       "        vertical-align: top;\n",
       "    }\n",
       "\n",
       "    .dataframe thead tr th {\n",
       "        text-align: left;\n",
       "    }\n",
       "</style>\n",
       "<table border=\"1\" class=\"dataframe\">\n",
       "  <thead>\n",
       "  </thead>\n",
       "  <tbody>\n",
       "  </tbody>\n",
       "</table>\n",
       "</div>"
      ],
      "text/plain": [
       "Empty DataFrame\n",
       "Columns: []\n",
       "Index: []"
      ]
     },
     "execution_count": 137,
     "metadata": {},
     "output_type": "execute_result"
    }
   ],
   "source": [
    "clus_check_l1 = duckdb.sql(\"\"\"\n",
    "    select\n",
    "        cluster,\n",
    "        id,\n",
    "        source,\n",
    "        n::int as n\n",
    "    from\n",
    "        clus_n2\n",
    "    order by\n",
    "        cluster,\n",
    "        source,\n",
    "        id,\n",
    "        n\n",
    "\"\"\")\n",
    "clus_check_l2 = duckdb.sql(\"\"\"\n",
    "    select\n",
    "        cluster,\n",
    "        id,\n",
    "        source,\n",
    "        n::int as n\n",
    "    from\n",
    "        clus_n3\n",
    "    order by\n",
    "        cluster,\n",
    "        source,\n",
    "        id,\n",
    "        n\n",
    "\"\"\")\n",
    "clus_check_r = duckdb.sql(\"\"\"\n",
    "    select\n",
    "        cluster,\n",
    "        id,\n",
    "        source,\n",
    "        n_seq::int as n\n",
    "    from\n",
    "        clus\n",
    "    order by\n",
    "        cluster,\n",
    "        source,\n",
    "        id,\n",
    "        n_par\n",
    "\"\"\")\n",
    "clus_check_l1.df().equals(clus_check_r.df())\n",
    "clus_check_l1.df().compare(clus_check_r.df())\n",
    "clus_check_l2.df().equals(clus_check_r.df())\n",
    "clus_check_l2.df().compare(clus_check_r.df())"
   ]
  }
 ],
 "metadata": {
  "kernelspec": {
   "display_name": "company_matching",
   "language": "python",
   "name": "company_matching"
  },
  "language_info": {
   "codemirror_mode": {
    "name": "ipython",
    "version": 3
   },
   "file_extension": ".py",
   "mimetype": "text/x-python",
   "name": "python",
   "nbconvert_exporter": "python",
   "pygments_lexer": "ipython3",
   "version": "3.9.16"
  }
 },
 "nbformat": 4,
 "nbformat_minor": 5
}
