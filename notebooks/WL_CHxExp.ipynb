{
 "metadata": {
  "language_info": {
   "codemirror_mode": {
    "name": "ipython",
    "version": 3
   },
   "file_extension": ".py",
   "mimetype": "text/x-python",
   "name": "python",
   "nbconvert_exporter": "python",
   "pygments_lexer": "ipython3",
   "version": "3.9.16-final"
  },
  "orig_nbformat": 2,
  "kernelspec": {
   "name": "python_defaultSpec_1691245163451",
   "display_name": "Python 3.9.16 64-bit ('company_matching': conda)"
  }
 },
 "nbformat": 4,
 "nbformat_minor": 2,
 "cells": [
  {
   "source": [
    "# Companies House x HMRC exporters\n",
    "\n",
    "I want to build this in a way that one can improve a link pair in a notebook, then deploy those changes to the link easily. I'm going to play with this idea here."
   ],
   "cell_type": "markdown",
   "metadata": {}
  },
  {
   "cell_type": "code",
   "execution_count": 1,
   "metadata": {},
   "outputs": [],
   "source": [
    "from src.data import utils as du\n",
    "from src.models import utils as mu\n",
    "from src.config import tables, stopwords\n",
    "from src.features.clean_complex import clean_comp_names\n",
    "from src.link.link import LinkDatasets\n",
    "\n",
    "from splink.duckdb.linker import DuckDBLinker\n",
    "import splink.duckdb.comparison_library as cl\n",
    "import splink.duckdb.comparison_template_library as ctl\n",
    "\n",
    "# import os\n",
    "import logging\n",
    "import mlflow\n",
    "from functools import partial\n",
    "from dotenv import load_dotenv, find_dotenv"
   ]
  },
  {
   "cell_type": "code",
   "execution_count": 23,
   "metadata": {
    "tags": []
   },
   "outputs": [],
   "source": [
    "companieshouse_raw = du.query(\n",
    "    f\"\"\"\n",
    "        select\n",
    "            id::text as dim_uuid,\n",
    "            company_name,\n",
    "            postcode\n",
    "        from\n",
    "            {tables['\"companieshouse\".\"companies\"'][\"dim\"]};\n",
    "    \"\"\"\n",
    ")\n",
    "\n",
    "companieshouse_proc = clean_comp_names(\n",
    "    companieshouse_raw,\n",
    "    primary_col=\"company_name\",\n",
    "    secondary_col=None,\n",
    "    stopwords=stopwords,\n",
    ")"
   ]
  },
  {
   "cell_type": "code",
   "execution_count": 14,
   "metadata": {},
   "outputs": [
    {
     "output_type": "execute_result",
     "data": {
      "text/plain": "                      company_name_arr  dim_uuid               company_name  \\\n0              [a, r, motors, limited]  12586403         A&R MOTORS LIMITED   \n1            [a, r, munteanu, limited]  14119280           A&R MUNTEANU LTD   \n2             [a, r, nielsen, limited]  10238259        A&R NIELSEN LIMITED   \n3   [a, r, online, education, limited]  12722020   A&R ONLINE EDUCATION LTD   \n4  [a, r, painting, services, limited]  08441975  A&R PAINTING SERVICES LTD   \n\n   postcode                                          stopwords  \\\n0  NW10 2QU  [limited, uk, company, international, group, o...   \n1    E6 3LA  [limited, uk, company, international, group, o...   \n2   EN5 5LG  [limited, uk, company, international, group, o...   \n3   IG1 3FA  [limited, uk, company, international, group, o...   \n4  CH64 5SJ  [limited, uk, company, international, group, o...   \n\n     name_unusual_tokens names_tokens_stopwords name_unusual_tokens_first5  \\\n0             a motors r                limited                      a mot   \n1           a munteanu r                limited                      a mun   \n2            a nielsen r                limited                      a nie   \n3   a education online r                limited                      a edu   \n4  a painting r services                limited                      a pai   \n\n  name_unusual_tokens_last5  \n0                     ors r  \n1                     anu r  \n2                     sen r  \n3                     ine r  \n4                     vices  ",
      "text/html": "<div>\n<style scoped>\n    .dataframe tbody tr th:only-of-type {\n        vertical-align: middle;\n    }\n\n    .dataframe tbody tr th {\n        vertical-align: top;\n    }\n\n    .dataframe thead th {\n        text-align: right;\n    }\n</style>\n<table border=\"1\" class=\"dataframe\">\n  <thead>\n    <tr style=\"text-align: right;\">\n      <th></th>\n      <th>company_name_arr</th>\n      <th>dim_uuid</th>\n      <th>company_name</th>\n      <th>postcode</th>\n      <th>stopwords</th>\n      <th>name_unusual_tokens</th>\n      <th>names_tokens_stopwords</th>\n      <th>name_unusual_tokens_first5</th>\n      <th>name_unusual_tokens_last5</th>\n    </tr>\n  </thead>\n  <tbody>\n    <tr>\n      <th>0</th>\n      <td>[a, r, motors, limited]</td>\n      <td>12586403</td>\n      <td>A&amp;R MOTORS LIMITED</td>\n      <td>NW10 2QU</td>\n      <td>[limited, uk, company, international, group, o...</td>\n      <td>a motors r</td>\n      <td>limited</td>\n      <td>a mot</td>\n      <td>ors r</td>\n    </tr>\n    <tr>\n      <th>1</th>\n      <td>[a, r, munteanu, limited]</td>\n      <td>14119280</td>\n      <td>A&amp;R MUNTEANU LTD</td>\n      <td>E6 3LA</td>\n      <td>[limited, uk, company, international, group, o...</td>\n      <td>a munteanu r</td>\n      <td>limited</td>\n      <td>a mun</td>\n      <td>anu r</td>\n    </tr>\n    <tr>\n      <th>2</th>\n      <td>[a, r, nielsen, limited]</td>\n      <td>10238259</td>\n      <td>A&amp;R NIELSEN LIMITED</td>\n      <td>EN5 5LG</td>\n      <td>[limited, uk, company, international, group, o...</td>\n      <td>a nielsen r</td>\n      <td>limited</td>\n      <td>a nie</td>\n      <td>sen r</td>\n    </tr>\n    <tr>\n      <th>3</th>\n      <td>[a, r, online, education, limited]</td>\n      <td>12722020</td>\n      <td>A&amp;R ONLINE EDUCATION LTD</td>\n      <td>IG1 3FA</td>\n      <td>[limited, uk, company, international, group, o...</td>\n      <td>a education online r</td>\n      <td>limited</td>\n      <td>a edu</td>\n      <td>ine r</td>\n    </tr>\n    <tr>\n      <th>4</th>\n      <td>[a, r, painting, services, limited]</td>\n      <td>08441975</td>\n      <td>A&amp;R PAINTING SERVICES LTD</td>\n      <td>CH64 5SJ</td>\n      <td>[limited, uk, company, international, group, o...</td>\n      <td>a painting r services</td>\n      <td>limited</td>\n      <td>a pai</td>\n      <td>vices</td>\n    </tr>\n  </tbody>\n</table>\n</div>"
     },
     "metadata": {},
     "execution_count": 14
    }
   ],
   "source": [
    "companieshouse_proc.head(5)"
   ]
  },
  {
   "cell_type": "code",
   "execution_count": 24,
   "metadata": {},
   "outputs": [],
   "source": [
    "hmrcexporters_raw = du.query(\n",
    "    f\"\"\"\n",
    "        select\n",
    "            dim_uuid::text,\n",
    "            company_name,\n",
    "            postcode\n",
    "        from\n",
    "            {tables['\"hmrc\".\"trade__exporters\"'][\"dim\"]};\n",
    "    \"\"\"\n",
    ")\n",
    "\n",
    "hmrcexporters_proc = clean_comp_names(\n",
    "    hmrcexporters_raw,\n",
    "    primary_col=\"company_name\",\n",
    "    secondary_col=None,\n",
    "    stopwords=stopwords,\n",
    ")"
   ]
  },
  {
   "cell_type": "code",
   "execution_count": 13,
   "metadata": {},
   "outputs": [
    {
     "output_type": "execute_result",
     "data": {
      "text/plain": "                     company_name_arr                              dim_uuid  \\\n0                 [ska, organisation]  df91e625-6ea6-437f-80db-a7fb3d7084ff   \n1                 [skapandi, limited]  2bf89964-bbe5-4b2a-b892-6eafd79975d2   \n2                    [skape, limited]  f17627f8-f06f-4256-85e2-0cc7efea0d4a   \n3  [skardin, industrial, uk, limited]  4333cc4f-a41f-4a5c-9646-2f218709937e   \n4  [skardin, industrial, uk, limited]  324f409d-3e6f-456a-9f7e-90b09075fb56   \n\n                      company_name  postcode  \\\n0                 SKA ORGANISATION  SK11 9DL   \n1                     SKAPANDI LTD  YO11 3UD   \n2                        SKAPE LTD   BA5 1AF   \n3  SKARDIN INDUSTRIAL (UK) LIMITED   CM6 2JR   \n4  SKARDIN INDUSTRIAL (UK) LIMITED  CM19 5QB   \n\n                                           stopwords name_unusual_tokens  \\\n0  [limited, uk, company, international, group, o...    organisation ska   \n1  [limited, uk, company, international, group, o...            skapandi   \n2  [limited, uk, company, international, group, o...               skape   \n3  [limited, uk, company, international, group, o...  industrial skardin   \n4  [limited, uk, company, international, group, o...  industrial skardin   \n\n  names_tokens_stopwords name_unusual_tokens_first5 name_unusual_tokens_last5  \n0                                             organ                     n ska  \n1                limited                      skapa                     pandi  \n2                limited                      skape                     skape  \n3             uk limited                      indus                     ardin  \n4             uk limited                      indus                     ardin  ",
      "text/html": "<div>\n<style scoped>\n    .dataframe tbody tr th:only-of-type {\n        vertical-align: middle;\n    }\n\n    .dataframe tbody tr th {\n        vertical-align: top;\n    }\n\n    .dataframe thead th {\n        text-align: right;\n    }\n</style>\n<table border=\"1\" class=\"dataframe\">\n  <thead>\n    <tr style=\"text-align: right;\">\n      <th></th>\n      <th>company_name_arr</th>\n      <th>dim_uuid</th>\n      <th>company_name</th>\n      <th>postcode</th>\n      <th>stopwords</th>\n      <th>name_unusual_tokens</th>\n      <th>names_tokens_stopwords</th>\n      <th>name_unusual_tokens_first5</th>\n      <th>name_unusual_tokens_last5</th>\n    </tr>\n  </thead>\n  <tbody>\n    <tr>\n      <th>0</th>\n      <td>[ska, organisation]</td>\n      <td>df91e625-6ea6-437f-80db-a7fb3d7084ff</td>\n      <td>SKA ORGANISATION</td>\n      <td>SK11 9DL</td>\n      <td>[limited, uk, company, international, group, o...</td>\n      <td>organisation ska</td>\n      <td></td>\n      <td>organ</td>\n      <td>n ska</td>\n    </tr>\n    <tr>\n      <th>1</th>\n      <td>[skapandi, limited]</td>\n      <td>2bf89964-bbe5-4b2a-b892-6eafd79975d2</td>\n      <td>SKAPANDI LTD</td>\n      <td>YO11 3UD</td>\n      <td>[limited, uk, company, international, group, o...</td>\n      <td>skapandi</td>\n      <td>limited</td>\n      <td>skapa</td>\n      <td>pandi</td>\n    </tr>\n    <tr>\n      <th>2</th>\n      <td>[skape, limited]</td>\n      <td>f17627f8-f06f-4256-85e2-0cc7efea0d4a</td>\n      <td>SKAPE LTD</td>\n      <td>BA5 1AF</td>\n      <td>[limited, uk, company, international, group, o...</td>\n      <td>skape</td>\n      <td>limited</td>\n      <td>skape</td>\n      <td>skape</td>\n    </tr>\n    <tr>\n      <th>3</th>\n      <td>[skardin, industrial, uk, limited]</td>\n      <td>4333cc4f-a41f-4a5c-9646-2f218709937e</td>\n      <td>SKARDIN INDUSTRIAL (UK) LIMITED</td>\n      <td>CM6 2JR</td>\n      <td>[limited, uk, company, international, group, o...</td>\n      <td>industrial skardin</td>\n      <td>uk limited</td>\n      <td>indus</td>\n      <td>ardin</td>\n    </tr>\n    <tr>\n      <th>4</th>\n      <td>[skardin, industrial, uk, limited]</td>\n      <td>324f409d-3e6f-456a-9f7e-90b09075fb56</td>\n      <td>SKARDIN INDUSTRIAL (UK) LIMITED</td>\n      <td>CM19 5QB</td>\n      <td>[limited, uk, company, international, group, o...</td>\n      <td>industrial skardin</td>\n      <td>uk limited</td>\n      <td>indus</td>\n      <td>ardin</td>\n    </tr>\n  </tbody>\n</table>\n</div>"
     },
     "metadata": {},
     "execution_count": 13
    }
   ],
   "source": [
    "hmrcexporters_proc.head(5)"
   ]
  },
  {
   "cell_type": "code",
   "execution_count": 25,
   "metadata": {},
   "outputs": [],
   "source": [
    "settings = {\n",
    "    \"link_type\": \"link_only\",\n",
    "    \"unique_id_column_name\": \"dim_uuid\",\n",
    "    \"retain_matching_columns\": False,\n",
    "    \"retain_intermediate_calculation_columns\": False,\n",
    "    \"blocking_rules_to_generate_predictions\": [\n",
    "        \"\"\"\n",
    "            (l.name_unusual_tokens = r.name_unusual_tokens)\n",
    "            and (\n",
    "                l.name_unusual_tokens <> ''\n",
    "                and r.name_unusual_tokens <> ''\n",
    "            )\n",
    "        \"\"\",\n",
    "        \"\"\"\n",
    "            (l.postcode = r.postcode)\n",
    "            and (\n",
    "                l.postcode <> ''\n",
    "                and r.postcode <> ''\n",
    "            )\n",
    "        \"\"\",\n",
    "        \"\"\"\n",
    "            (l.name_unusual_tokens_first5 = r.name_unusual_tokens_first5)\n",
    "            and (\n",
    "                length(l.name_unusual_tokens_first5) = 5\n",
    "                and length(r.name_unusual_tokens_first5) = 5\n",
    "            )\n",
    "        \"\"\",\n",
    "        \"\"\"\n",
    "            (l.name_unusual_tokens_last5 = r.name_unusual_tokens_last5)\n",
    "            and (\n",
    "                length(l.name_unusual_tokens_last5) = 5\n",
    "                and length(r.name_unusual_tokens_last5) = 5\n",
    "            )\n",
    "        \"\"\"\n",
    "    ],\n",
    "    \"comparisons\": [\n",
    "        cl.jaro_winkler_at_thresholds(\n",
    "            \"name_unusual_tokens\", [0.9, 0.6], term_frequency_adjustments=True\n",
    "        ),\n",
    "        ctl.postcode_comparison(\"postcode\")\n",
    "    ],\n",
    "}"
   ]
  },
  {
   "cell_type": "code",
   "execution_count": 26,
   "metadata": {},
   "outputs": [],
   "source": [
    "linker = DuckDBLinker(\n",
    "    input_table_or_tables = [\n",
    "        companieshouse_proc, \n",
    "        hmrcexporters_proc\n",
    "    ],\n",
    "    settings_dict = settings,\n",
    "    input_table_aliases=[\n",
    "        'companieshouse_companies', \n",
    "        'hmrc_trade__exporters'\n",
    "    ],\n",
    ")"
   ]
  },
  {
   "cell_type": "code",
   "execution_count": 27,
   "metadata": {},
   "outputs": [],
   "source": [
    "linker.estimate_probability_two_random_records_match(\n",
    "    \"l.name_unusual_tokens = r.name_unusual_tokens\",\n",
    "    recall=0.7,\n",
    ")"
   ]
  },
  {
   "cell_type": "code",
   "execution_count": 2,
   "metadata": {},
   "outputs": [
    {
     "output_type": "error",
     "ename": "NameError",
     "evalue": "name 'linker' is not defined",
     "traceback": [
      "\u001b[0;31m---------------------------------------------------------------------------\u001b[0m",
      "\u001b[0;31mNameError\u001b[0m                                 Traceback (most recent call last)",
      "Cell \u001b[0;32mIn[2], line 1\u001b[0m\n\u001b[0;32m----> 1\u001b[0m \u001b[43mlinker\u001b[49m\u001b[38;5;241m.\u001b[39mestimate_u_using_random_sampling(max_pairs\u001b[38;5;241m=\u001b[39m\u001b[38;5;241m1e6\u001b[39m)\n",
      "\u001b[0;31mNameError\u001b[0m: name 'linker' is not defined"
     ]
    }
   ],
   "source": [
    "linker.estimate_u_using_random_sampling(max_pairs=1e6)"
   ]
  },
  {
   "cell_type": "code",
   "execution_count": null,
   "metadata": {},
   "outputs": [],
   "source": [
    "m_by_name_and_postcode = \"\"\"\n",
    "    l.name_unusual_tokens = r.name_unusual_tokens\n",
    "    and l.postcode = r.postcode\n",
    "\"\"\"\n",
    "linker.estimate_parameters_using_expectation_maximisation(\n",
    "    m_by_name_and_postcode_area\n",
    ")"
   ]
  },
  {
   "cell_type": "code",
   "execution_count": null,
   "metadata": {},
   "outputs": [],
   "source": [
    "predictions = linker.predict(threshold_match_probability=0.7) "
   ]
  },
  {
   "cell_type": "code",
   "execution_count": null,
   "metadata": {},
   "outputs": [],
   "source": [
    "predictions"
   ]
  },
  {
   "source": [
    "## As a class\n",
    "\n",
    "Let's try it."
   ],
   "cell_type": "markdown",
   "metadata": {}
  },
  {
   "cell_type": "code",
   "execution_count": 2,
   "metadata": {},
   "outputs": [],
   "source": [
    "settings = {\n",
    "    \"link_type\": \"link_only\",\n",
    "    \"unique_id_column_name\": \"dim_uuid\",\n",
    "    \"retain_matching_columns\": False,\n",
    "    \"retain_intermediate_calculation_columns\": False,\n",
    "    \"blocking_rules_to_generate_predictions\": [\n",
    "        \"\"\"\n",
    "            (l.name_unusual_tokens = r.name_unusual_tokens)\n",
    "            and (\n",
    "                l.name_unusual_tokens <> ''\n",
    "                and r.name_unusual_tokens <> ''\n",
    "            )\n",
    "        \"\"\",\n",
    "        \"\"\"\n",
    "            (l.postcode = r.postcode)\n",
    "            and (\n",
    "                l.postcode <> ''\n",
    "                and r.postcode <> ''\n",
    "            )\n",
    "        \"\"\",\n",
    "        \"\"\"\n",
    "            (l.name_unusual_tokens_first5 = r.name_unusual_tokens_first5)\n",
    "            and (\n",
    "                length(l.name_unusual_tokens_first5) = 5\n",
    "                and length(r.name_unusual_tokens_first5) = 5\n",
    "            )\n",
    "        \"\"\",\n",
    "        \"\"\"\n",
    "            (l.name_unusual_tokens_last5 = r.name_unusual_tokens_last5)\n",
    "            and (\n",
    "                length(l.name_unusual_tokens_last5) = 5\n",
    "                and length(r.name_unusual_tokens_last5) = 5\n",
    "            )\n",
    "        \"\"\"\n",
    "    ],\n",
    "    \"comparisons\": [\n",
    "        cl.jaro_winkler_at_thresholds(\n",
    "            \"name_unusual_tokens\", [0.9, 0.6], term_frequency_adjustments=True\n",
    "        ),\n",
    "        ctl.postcode_comparison(\"postcode\")\n",
    "    ],\n",
    "}"
   ]
  },
  {
   "cell_type": "code",
   "execution_count": 4,
   "metadata": {},
   "outputs": [],
   "source": [
    "pipeline = {\n",
    "    \"estimate_probability_two_random_records_match\": {\n",
    "        \"deterministic_matching_rules\": \"\"\"\n",
    "            l.name_unusual_tokens = r.name_unusual_tokens\n",
    "        \"\"\",\n",
    "        \"recall\": 0.7\n",
    "    },\n",
    "    \"estimate_u_using_random_sampling\": {\n",
    "        \"max_pairs\": 1e6\n",
    "    },\n",
    "    \"estimate_parameters_using_expectation_maximisation\": {\n",
    "        \"blocking_rule\": \"\"\"\n",
    "            l.name_unusual_tokens = r.name_unusual_tokens\n",
    "            and l.postcode = r.postcode\n",
    "        \"\"\"\n",
    "    }\n",
    "}"
   ]
  },
  {
   "cell_type": "code",
   "execution_count": null,
   "metadata": {},
   "outputs": [],
   "source": [
    "ch_settings = {\n",
    "    \"name\": \"\",\n",
    "    \"select\": \"\"\n",
    "    \"preproc\": {\n",
    "        clean_comp_names: {\n",
    "            \"primary_col\": \"company_name\",\n",
    "            \"secondary_col\": None,\n",
    "            \"stopwords\": stopwords\n",
    "        }\n",
    "    }\n",
    "}"
   ]
  },
  {
   "cell_type": "code",
   "execution_count": 7,
   "metadata": {},
   "outputs": [],
   "source": [
    "ch_x_exp = LinkDatasets(\n",
    "    table_l = '\"companieshouse\".\"companies\"',\n",
    "    table_l_select = [\n",
    "        \"id::text as dim_uuid\",\n",
    "        \"company_name\",\n",
    "        \"postcode\"\n",
    "    ],\n",
    "    table_l_preproc = [\n",
    "        partial(\n",
    "            clean_comp_names,\n",
    "            primary_col=\"company_name\",\n",
    "            secondary_col=None,\n",
    "            stopwords=stopwords\n",
    "        )\n",
    "    ],\n",
    "    table_r = '\"hmrc\".\"trade__exporters\"',\n",
    "    table_r_select = [\n",
    "        \"dim_uuid::text\",\n",
    "        \"company_name\",\n",
    "        \"postcode\"\n",
    "    ],\n",
    "    table_r_preproc = [\n",
    "        partial(\n",
    "            clean_comp_names,\n",
    "            primary_col=\"company_name\",\n",
    "            secondary_col=None,\n",
    "            stopwords=stopwords\n",
    "        )\n",
    "    ],\n",
    "    settings = settings,\n",
    "    pipeline = pipeline\n",
    ")"
   ]
  },
  {
   "cell_type": "code",
   "execution_count": 8,
   "metadata": {
    "tags": []
   },
   "outputs": [
    {
     "output_type": "stream",
     "name": "stderr",
     "text": "/opt/conda/envs/company_matching/lib/python3.9/site-packages/pandas/io/sql.py:1410: RemovedIn20Warning: Deprecated API features detected! These feature(s) are not compatible with SQLAlchemy 2.0. To prevent incompatible upgrades prior to updating applications, ensure requirements files are pinned to \"sqlalchemy<2.0\". Set environment variable SQLALCHEMY_WARN_20=1 to show all deprecation warnings.  Set environment variable SQLALCHEMY_SILENCE_UBER_WARNING=1 to silence this message. (Background on SQLAlchemy 2.0 at: https://sqlalche.me/e/b8d9)\n  meta = MetaData(self.connectable, schema=schema)\n"
    }
   ],
   "source": [
    "ch_x_exp.get_data()"
   ]
  },
  {
   "cell_type": "code",
   "execution_count": 9,
   "metadata": {},
   "outputs": [],
   "source": [
    "ch_x_exp.preprocess_data()"
   ]
  },
  {
   "cell_type": "code",
   "execution_count": 10,
   "metadata": {},
   "outputs": [
    {
     "output_type": "execute_result",
     "data": {
      "text/plain": "                      company_name_arr  dim_uuid               company_name  \\\n0              [a, r, motors, limited]  12586403         A&R MOTORS LIMITED   \n1            [a, r, munteanu, limited]  14119280           A&R MUNTEANU LTD   \n2             [a, r, nielsen, limited]  10238259        A&R NIELSEN LIMITED   \n3   [a, r, online, education, limited]  12722020   A&R ONLINE EDUCATION LTD   \n4  [a, r, painting, services, limited]  08441975  A&R PAINTING SERVICES LTD   \n\n   postcode                                          stopwords  \\\n0  NW10 2QU  [limited, uk, company, international, group, o...   \n1    E6 3LA  [limited, uk, company, international, group, o...   \n2   EN5 5LG  [limited, uk, company, international, group, o...   \n3   IG1 3FA  [limited, uk, company, international, group, o...   \n4  CH64 5SJ  [limited, uk, company, international, group, o...   \n\n     name_unusual_tokens names_tokens_stopwords name_unusual_tokens_first5  \\\n0             a motors r                limited                      a mot   \n1           a munteanu r                limited                      a mun   \n2            a nielsen r                limited                      a nie   \n3   a education online r                limited                      a edu   \n4  a painting r services                limited                      a pai   \n\n  name_unusual_tokens_last5  \n0                     ors r  \n1                     anu r  \n2                     sen r  \n3                     ine r  \n4                     vices  ",
      "text/html": "<div>\n<style scoped>\n    .dataframe tbody tr th:only-of-type {\n        vertical-align: middle;\n    }\n\n    .dataframe tbody tr th {\n        vertical-align: top;\n    }\n\n    .dataframe thead th {\n        text-align: right;\n    }\n</style>\n<table border=\"1\" class=\"dataframe\">\n  <thead>\n    <tr style=\"text-align: right;\">\n      <th></th>\n      <th>company_name_arr</th>\n      <th>dim_uuid</th>\n      <th>company_name</th>\n      <th>postcode</th>\n      <th>stopwords</th>\n      <th>name_unusual_tokens</th>\n      <th>names_tokens_stopwords</th>\n      <th>name_unusual_tokens_first5</th>\n      <th>name_unusual_tokens_last5</th>\n    </tr>\n  </thead>\n  <tbody>\n    <tr>\n      <th>0</th>\n      <td>[a, r, motors, limited]</td>\n      <td>12586403</td>\n      <td>A&amp;R MOTORS LIMITED</td>\n      <td>NW10 2QU</td>\n      <td>[limited, uk, company, international, group, o...</td>\n      <td>a motors r</td>\n      <td>limited</td>\n      <td>a mot</td>\n      <td>ors r</td>\n    </tr>\n    <tr>\n      <th>1</th>\n      <td>[a, r, munteanu, limited]</td>\n      <td>14119280</td>\n      <td>A&amp;R MUNTEANU LTD</td>\n      <td>E6 3LA</td>\n      <td>[limited, uk, company, international, group, o...</td>\n      <td>a munteanu r</td>\n      <td>limited</td>\n      <td>a mun</td>\n      <td>anu r</td>\n    </tr>\n    <tr>\n      <th>2</th>\n      <td>[a, r, nielsen, limited]</td>\n      <td>10238259</td>\n      <td>A&amp;R NIELSEN LIMITED</td>\n      <td>EN5 5LG</td>\n      <td>[limited, uk, company, international, group, o...</td>\n      <td>a nielsen r</td>\n      <td>limited</td>\n      <td>a nie</td>\n      <td>sen r</td>\n    </tr>\n    <tr>\n      <th>3</th>\n      <td>[a, r, online, education, limited]</td>\n      <td>12722020</td>\n      <td>A&amp;R ONLINE EDUCATION LTD</td>\n      <td>IG1 3FA</td>\n      <td>[limited, uk, company, international, group, o...</td>\n      <td>a education online r</td>\n      <td>limited</td>\n      <td>a edu</td>\n      <td>ine r</td>\n    </tr>\n    <tr>\n      <th>4</th>\n      <td>[a, r, painting, services, limited]</td>\n      <td>08441975</td>\n      <td>A&amp;R PAINTING SERVICES LTD</td>\n      <td>CH64 5SJ</td>\n      <td>[limited, uk, company, international, group, o...</td>\n      <td>a painting r services</td>\n      <td>limited</td>\n      <td>a pai</td>\n      <td>vices</td>\n    </tr>\n  </tbody>\n</table>\n</div>"
     },
     "metadata": {},
     "execution_count": 10
    }
   ],
   "source": [
    "ch_x_exp.table_l_proc.head(5)"
   ]
  },
  {
   "cell_type": "code",
   "execution_count": 11,
   "metadata": {},
   "outputs": [
    {
     "output_type": "error",
     "ename": "AttributeError",
     "evalue": "'DuckDBLinker' object has no attribute 'k'",
     "traceback": [
      "\u001b[0;31m---------------------------------------------------------------------------\u001b[0m",
      "\u001b[0;31mAttributeError\u001b[0m                            Traceback (most recent call last)",
      "Cell \u001b[0;32mIn[11], line 2\u001b[0m\n\u001b[1;32m      1\u001b[0m ch_x_exp\u001b[38;5;241m.\u001b[39mcreate_linker()\n\u001b[0;32m----> 2\u001b[0m \u001b[43mch_x_exp\u001b[49m\u001b[38;5;241;43m.\u001b[39;49m\u001b[43mtrain_linker\u001b[49m\u001b[43m(\u001b[49m\u001b[43m)\u001b[49m\n",
      "File \u001b[0;32m~/company-matching/src/link/link.py:80\u001b[0m, in \u001b[0;36mLinkDatasets.train_linker\u001b[0;34m(self)\u001b[0m\n\u001b[1;32m     78\u001b[0m \u001b[38;5;28;01mdef\u001b[39;00m \u001b[38;5;21mtrain_linker\u001b[39m(\u001b[38;5;28mself\u001b[39m):\n\u001b[1;32m     79\u001b[0m     \u001b[38;5;28;01mfor\u001b[39;00m k \u001b[38;5;129;01min\u001b[39;00m \u001b[38;5;28mself\u001b[39m\u001b[38;5;241m.\u001b[39mpipeline\u001b[38;5;241m.\u001b[39mkeys():\n\u001b[0;32m---> 80\u001b[0m         proc_func \u001b[38;5;241m=\u001b[39m \u001b[38;5;28;43mgetattr\u001b[39;49m\u001b[43m(\u001b[49m\u001b[38;5;28;43mself\u001b[39;49m\u001b[38;5;241;43m.\u001b[39;49m\u001b[43mlinker\u001b[49m\u001b[43m,\u001b[49m\u001b[43m \u001b[49m\u001b[38;5;124;43m'\u001b[39;49m\u001b[38;5;124;43mk\u001b[39;49m\u001b[38;5;124;43m'\u001b[39;49m\u001b[43m)\u001b[49m\n\u001b[1;32m     81\u001b[0m         proc_func(\u001b[38;5;241m*\u001b[39m\u001b[38;5;241m*\u001b[39m\u001b[38;5;28mself\u001b[39m\u001b[38;5;241m.\u001b[39mpipeline[k])\n",
      "\u001b[0;31mAttributeError\u001b[0m: 'DuckDBLinker' object has no attribute 'k'"
     ]
    }
   ],
   "source": [
    "ch_x_exp.create_linker()\n",
    "ch_x_exp.train_linker()"
   ]
  }
 ]
}