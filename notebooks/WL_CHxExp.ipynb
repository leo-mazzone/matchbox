{
 "metadata": {
  "language_info": {
   "codemirror_mode": {
    "name": "ipython",
    "version": 3
   },
   "file_extension": ".py",
   "mimetype": "text/x-python",
   "name": "python",
   "nbconvert_exporter": "python",
   "pygments_lexer": "ipython3",
   "version": "3.9.16-final"
  },
  "orig_nbformat": 2,
  "kernelspec": {
   "name": "python_defaultSpec_1691245163451",
   "display_name": "Python 3.9.16 64-bit ('company_matching': conda)"
  }
 },
 "nbformat": 4,
 "nbformat_minor": 2,
 "cells": [
  {
   "cell_type": "code",
   "execution_count": 1,
   "metadata": {},
   "outputs": [],
   "source": [
    "%load_ext autoreload\n",
    "%autoreload 2\n",
    "from IPython.core.interactiveshell import InteractiveShell\n",
    "from IPython.display import IFrame\n",
    "InteractiveShell.ast_node_interactivity = \"all\""
   ]
  },
  {
   "source": [
    "# Companies House x HMRC exporters\n",
    "\n",
    "I want to build this in a way that one can improve a link pair in a notebook, then deploy those changes to the link easily. I'm going to play with this idea here."
   ],
   "cell_type": "markdown",
   "metadata": {}
  },
  {
   "cell_type": "code",
   "execution_count": 2,
   "metadata": {},
   "outputs": [],
   "source": [
    "from src.data import utils as du\n",
    "from src.models import utils as mu\n",
    "from src.config import tables, stopwords\n",
    "from src.features.clean_complex import clean_comp_names\n",
    "from src.link.make_link import LinkDatasets\n",
    "\n",
    "from splink.duckdb.linker import DuckDBLinker\n",
    "import splink.duckdb.comparison_library as cl\n",
    "import splink.duckdb.comparison_template_library as ctl\n",
    "\n",
    "# import os\n",
    "import logging\n",
    "import mlflow\n",
    "from functools import partial\n",
    "from dotenv import load_dotenv, find_dotenv"
   ]
  },
  {
   "cell_type": "code",
   "execution_count": 3,
   "metadata": {},
   "outputs": [],
   "source": [
    "settings = {\n",
    "    \"link_type\": \"link_only\",\n",
    "    \"unique_id_column_name\": \"dim_uuid\",\n",
    "    \"retain_matching_columns\": False,\n",
    "    \"retain_intermediate_calculation_columns\": False,\n",
    "    \"blocking_rules_to_generate_predictions\": [\n",
    "        \"\"\"\n",
    "            (l.name_unusual_tokens = r.name_unusual_tokens)\n",
    "            and (\n",
    "                l.name_unusual_tokens <> ''\n",
    "                and r.name_unusual_tokens <> ''\n",
    "            )\n",
    "        \"\"\",\n",
    "        \"\"\"\n",
    "            (l.postcode = r.postcode)\n",
    "            and (\n",
    "                l.postcode <> ''\n",
    "                and r.postcode <> ''\n",
    "            )\n",
    "        \"\"\",\n",
    "        \"\"\"\n",
    "            (l.name_unusual_tokens_first5 = r.name_unusual_tokens_first5)\n",
    "            and (\n",
    "                length(l.name_unusual_tokens_first5) = 5\n",
    "                and length(r.name_unusual_tokens_first5) = 5\n",
    "            )\n",
    "        \"\"\",\n",
    "        \"\"\"\n",
    "            (l.name_unusual_tokens_last5 = r.name_unusual_tokens_last5)\n",
    "            and (\n",
    "                length(l.name_unusual_tokens_last5) = 5\n",
    "                and length(r.name_unusual_tokens_last5) = 5\n",
    "            )\n",
    "        \"\"\"\n",
    "    ],\n",
    "    \"comparisons\": [\n",
    "        cl.jaro_winkler_at_thresholds(\n",
    "            \"name_unusual_tokens\", [0.9, 0.6], term_frequency_adjustments=True\n",
    "        ),\n",
    "        ctl.postcode_comparison(\"postcode\")\n",
    "    ],\n",
    "}"
   ]
  },
  {
   "cell_type": "code",
   "execution_count": 15,
   "metadata": {},
   "outputs": [],
   "source": [
    "pipeline = {\n",
    "    \"estimate_probability_two_random_records_match\": {\n",
    "        \"deterministic_matching_rules\": \"\"\"\n",
    "            l.name_unusual_tokens = r.name_unusual_tokens\n",
    "        \"\"\",\n",
    "        \"recall\": 0.7\n",
    "    },\n",
    "    \"estimate_u_using_random_sampling\": {\n",
    "        \"max_pairs\": 1e6\n",
    "    },\n",
    "    \"estimate_parameters_using_expectation_maximisation\": {\n",
    "        \"blocking_rule\": \"\"\"\n",
    "            l.name_unusual_tokens = r.name_unusual_tokens\n",
    "        \"\"\"\n",
    "    },\n",
    "    \"estimate_parameters_using_expectation_maximisation\": {\n",
    "        \"blocking_rule\": \"\"\"\n",
    "            l.postcode = r.postcode\n",
    "        \"\"\"\n",
    "    }\n",
    "}"
   ]
  },
  {
   "cell_type": "code",
   "execution_count": 5,
   "metadata": {},
   "outputs": [],
   "source": [
    "ch_settings = {\n",
    "    \"name\": '\"companieshouse\".\"companies\"',\n",
    "    \"select\": [\n",
    "        \"id::text as dim_uuid\",\n",
    "        \"company_name\",\n",
    "        \"postcode\"\n",
    "    ],\n",
    "    \"preproc\": {\n",
    "        clean_comp_names: {\n",
    "            \"primary_col\": \"company_name\",\n",
    "            \"secondary_col\": None,\n",
    "            \"stopwords\": stopwords\n",
    "        }\n",
    "    }\n",
    "}"
   ]
  },
  {
   "cell_type": "code",
   "execution_count": 6,
   "metadata": {},
   "outputs": [],
   "source": [
    "exp_settings = {\n",
    "    \"name\": '\"hmrc\".\"trade__exporters\"',\n",
    "    \"select\": [\n",
    "        \"dim_uuid::text\",\n",
    "        \"company_name\",\n",
    "        \"postcode\"\n",
    "    ],\n",
    "    \"preproc\": {\n",
    "        clean_comp_names: {\n",
    "            \"primary_col\": \"company_name\",\n",
    "            \"secondary_col\": None,\n",
    "            \"stopwords\": stopwords\n",
    "        }\n",
    "    }\n",
    "}"
   ]
  },
  {
   "cell_type": "code",
   "execution_count": 7,
   "metadata": {},
   "outputs": [],
   "source": [
    "ch_x_exp = LinkDatasets(\n",
    "    table_l = ch_settings,\n",
    "    table_r = exp_settings,\n",
    "    settings = settings,\n",
    "    pipeline = pipeline\n",
    ")"
   ]
  },
  {
   "cell_type": "code",
   "execution_count": 8,
   "metadata": {
    "tags": []
   },
   "outputs": [
    {
     "output_type": "stream",
     "name": "stderr",
     "text": "/opt/conda/envs/company_matching/lib/python3.9/site-packages/pandas/io/sql.py:1410: RemovedIn20Warning: Deprecated API features detected! These feature(s) are not compatible with SQLAlchemy 2.0. To prevent incompatible upgrades prior to updating applications, ensure requirements files are pinned to \"sqlalchemy<2.0\". Set environment variable SQLALCHEMY_WARN_20=1 to show all deprecation warnings.  Set environment variable SQLALCHEMY_SILENCE_UBER_WARNING=1 to silence this message. (Background on SQLAlchemy 2.0 at: https://sqlalche.me/e/b8d9)\n  meta = MetaData(self.connectable, schema=schema)\n"
    }
   ],
   "source": [
    "ch_x_exp.get_data()"
   ]
  },
  {
   "cell_type": "code",
   "execution_count": 9,
   "metadata": {},
   "outputs": [],
   "source": [
    "ch_x_exp.preprocess_data()"
   ]
  },
  {
   "cell_type": "code",
   "execution_count": 13,
   "metadata": {},
   "outputs": [],
   "source": [
    "ch_x_exp.pipeline = pipeline"
   ]
  },
  {
   "cell_type": "code",
   "execution_count": 14,
   "metadata": {
    "tags": []
   },
   "outputs": [
    {
     "output_type": "stream",
     "name": "stderr",
     "text": "Probability two random records match is estimated to be  2.34e-07.\nThis means that amongst all possible pairwise record comparisons, one in 4,272,989.32 are expected to match.  With 1,362,650,189,791 total possible comparisons, we expect a total of around 318,898.57 matching pairs\n----- Estimating u probabilities using random sampling -----\nu probability not trained for name_unusual_tokens - Exact match (comparison vector value: 3). This usually means the comparison level was never observed in the training data.\n\nEstimated u probabilities using random sampling\n\nYour model is not yet fully trained. Missing estimates for:\n    - name_unusual_tokens (some u values are not trained, no m values are trained).\n    - postcode (no m values are trained).\n\n----- Starting EM training session -----\n\nEstimating the m probabilities of the model by blocking on:\n\n            l.name_unusual_tokens = r.name_unusual_tokens\n        \n\nParameter estimates will be made for the following comparison(s):\n    - postcode\n\nParameter estimates cannot be made for the following comparison(s) since they are used in the blocking rules: \n    - name_unusual_tokens\n\nIteration 1: Largest change in params was 0.254 in probability_two_random_records_match\nIteration 2: Largest change in params was 0.2 in probability_two_random_records_match\nIteration 3: Largest change in params was -0.0671 in the m_probability of postcode, level `Exact match postcode`\nIteration 4: Largest change in params was 0.121 in the m_probability of postcode, level `Exact match Postcode Area`\nIteration 5: Largest change in params was 0.0547 in the m_probability of postcode, level `Exact match Postcode Area`\nIteration 6: Largest change in params was 0.00354 in the m_probability of postcode, level `Exact match Postcode Area`\nIteration 7: Largest change in params was 0.000165 in the m_probability of postcode, level `Exact match Postcode Area`\nIteration 8: Largest change in params was 7.62e-06 in the m_probability of postcode, level `Exact match Postcode Area`\n\nEM converged after 8 iterations\n\nYour model is not yet fully trained. Missing estimates for:\n    - name_unusual_tokens (some u values are not trained, no m values are trained).\n"
    }
   ],
   "source": [
    "ch_x_exp.create_linker()\n",
    "ch_x_exp.train_linker()"
   ]
  },
  {
   "cell_type": "code",
   "execution_count": null,
   "metadata": {},
   "outputs": [],
   "source": [
    "ch_x_exp.linker.estimate_parameters_using_expectation_maximisation(\n",
    "    blocking_rule = \"\"\"\n",
    "        l.postcode = r.postcode\n",
    "    \"\"\"\n",
    ")"
   ]
  },
  {
   "cell_type": "code",
   "execution_count": null,
   "metadata": {},
   "outputs": [],
   "source": [
    "predictions = ch_x_exp.linker.predict(threshold_match_probability=0.7) "
   ]
  },
  {
   "cell_type": "code",
   "execution_count": null,
   "metadata": {},
   "outputs": [],
   "source": [
    "predictions.as_pandas_dataframe.head(10)"
   ]
  }
 ]
}