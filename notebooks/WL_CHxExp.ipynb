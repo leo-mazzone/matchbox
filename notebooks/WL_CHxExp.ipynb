{
 "cells": [
  {
   "cell_type": "code",
   "execution_count": 1,
   "metadata": {},
   "outputs": [],
   "source": [
    "%load_ext autoreload\n",
    "%autoreload 2\n",
    "from IPython.core.interactiveshell import InteractiveShell\n",
    "from IPython.display import IFrame\n",
    "InteractiveShell.ast_node_interactivity = \"all\""
   ]
  },
  {
   "cell_type": "markdown",
   "metadata": {},
   "source": [
    "# Companies House x HMRC exporters\n",
    "\n",
    "I want to build this in a way that one can improve a link pair in a notebook, then deploy those changes to the link easily. I'm going to play with this idea here."
   ]
  },
  {
   "cell_type": "code",
   "execution_count": 2,
   "metadata": {},
   "outputs": [],
   "source": [
    "from src.data import utils as du\n",
    "from src.models import utils as mu\n",
    "from src.config import tables, stopwords\n",
    "from src.features.clean_complex import clean_comp_names\n",
    "from src.link.make_link import LinkDatasets\n",
    "\n",
    "from splink.duckdb.linker import DuckDBLinker\n",
    "import splink.duckdb.comparison_library as cl\n",
    "import splink.duckdb.comparison_template_library as ctl\n",
    "\n",
    "# import os\n",
    "import logging\n",
    "import mlflow\n",
    "from functools import partial\n",
    "from dotenv import load_dotenv, find_dotenv"
   ]
  },
  {
   "cell_type": "code",
   "execution_count": 12,
   "metadata": {},
   "outputs": [],
   "source": [
    "settings = {\n",
    "    \"link_type\": \"link_only\",\n",
    "    \"unique_id_column_name\": \"id\",\n",
    "    \"retain_matching_columns\": False,\n",
    "    \"retain_intermediate_calculation_columns\": False,\n",
    "    \"blocking_rules_to_generate_predictions\": [\n",
    "        \"\"\"\n",
    "            (l.name_unusual_tokens = r.name_unusual_tokens)\n",
    "            and (\n",
    "                l.name_unusual_tokens <> ''\n",
    "                and r.name_unusual_tokens <> ''\n",
    "            )\n",
    "        \"\"\",\n",
    "        \"\"\"\n",
    "            (l.postcode = r.postcode)\n",
    "            and (\n",
    "                l.postcode <> ''\n",
    "                and r.postcode <> ''\n",
    "            )\n",
    "        \"\"\"\n",
    "    ],\n",
    "    \"comparisons\": [\n",
    "        cl.jaro_winkler_at_thresholds(\n",
    "            \"name_unusual_tokens\", [0.9, 0.6], term_frequency_adjustments=True\n",
    "        ),\n",
    "        ctl.postcode_comparison(\"postcode\")\n",
    "    ],\n",
    "}"
   ]
  },
  {
   "cell_type": "code",
   "execution_count": 4,
   "metadata": {},
   "outputs": [],
   "source": [
    "pipeline = {\n",
    "    \"estimate_probability_two_random_records_match\": {\n",
    "        \"deterministic_matching_rules\": \"\"\"\n",
    "            l.name_unusual_tokens = r.name_unusual_tokens\n",
    "        \"\"\",\n",
    "        \"recall\": 0.7\n",
    "    },\n",
    "    \"estimate_u_using_random_sampling\": {\n",
    "        \"max_pairs\": 1e6\n",
    "    },\n",
    "    \"estimate_parameters_using_expectation_maximisation\": {\n",
    "        \"blocking_rule\": \"\"\"\n",
    "            l.name_unusual_tokens = r.name_unusual_tokens\n",
    "        \"\"\"\n",
    "    }\n",
    "}"
   ]
  },
  {
   "cell_type": "code",
   "execution_count": 5,
   "metadata": {},
   "outputs": [],
   "source": [
    "ch_settings = {\n",
    "    \"name\": '\"companieshouse\".\"companies\"',\n",
    "    \"select\": [\n",
    "        \"id::text\",\n",
    "        \"company_name\",\n",
    "        \"postcode\"\n",
    "    ],\n",
    "    \"preproc\": {\n",
    "        clean_comp_names: {\n",
    "            \"primary_col\": \"company_name\",\n",
    "            \"secondary_col\": None,\n",
    "            \"stopwords\": stopwords\n",
    "        }\n",
    "    }\n",
    "}"
   ]
  },
  {
   "cell_type": "code",
   "execution_count": 6,
   "metadata": {},
   "outputs": [],
   "source": [
    "exp_settings = {\n",
    "    \"name\": '\"hmrc\".\"trade__exporters\"',\n",
    "    \"select\": [\n",
    "        \"id::text\",\n",
    "        \"company_name\",\n",
    "        \"postcode\"\n",
    "    ],\n",
    "    \"preproc\": {\n",
    "        clean_comp_names: {\n",
    "            \"primary_col\": \"company_name\",\n",
    "            \"secondary_col\": None,\n",
    "            \"stopwords\": stopwords\n",
    "        }\n",
    "    }\n",
    "}"
   ]
  },
  {
   "cell_type": "code",
   "execution_count": 13,
   "metadata": {},
   "outputs": [],
   "source": [
    "ch_x_exp = LinkDatasets(\n",
    "    table_l = ch_settings,\n",
    "    table_r = exp_settings,\n",
    "    settings = settings,\n",
    "    pipeline = pipeline\n",
    ")"
   ]
  },
  {
   "cell_type": "code",
   "execution_count": 14,
   "metadata": {
    "tags": []
   },
   "outputs": [],
   "source": [
    "ch_x_exp.get_data()"
   ]
  },
  {
   "cell_type": "code",
   "execution_count": null,
   "metadata": {},
   "outputs": [],
   "source": [
    "ch_x_exp.preprocess_data()"
   ]
  },
  {
   "cell_type": "code",
   "execution_count": null,
   "metadata": {
    "tags": []
   },
   "outputs": [],
   "source": [
    "ch_x_exp.create_linker()"
   ]
  },
  {
   "cell_type": "code",
   "execution_count": null,
   "metadata": {},
   "outputs": [],
   "source": [
    "ch_x_exp.train_linker()"
   ]
  },
  {
   "cell_type": "code",
   "execution_count": null,
   "metadata": {},
   "outputs": [],
   "source": [
    "predictions = ch_x_exp.linker.predict(threshold_match_probability=0.7) "
   ]
  },
  {
   "cell_type": "code",
   "execution_count": null,
   "metadata": {},
   "outputs": [],
   "source": [
    "predictions.as_pandas_dataframe().head(10)"
   ]
  },
  {
   "cell_type": "code",
   "execution_count": null,
   "metadata": {},
   "outputs": [],
   "source": [
    "existing = du.dataset(ch_x_exp.pair['eval'])"
   ]
  },
  {
   "cell_type": "code",
   "execution_count": null,
   "metadata": {},
   "outputs": [],
   "source": [
    "existing"
   ]
  }
 ],
 "metadata": {
  "kernelspec": {
   "display_name": "company_matching",
   "language": "python",
   "name": "company_matching"
  },
  "language_info": {
   "codemirror_mode": {
    "name": "ipython",
    "version": 3
   },
   "file_extension": ".py",
   "mimetype": "text/x-python",
   "name": "python",
   "nbconvert_exporter": "python",
   "pygments_lexer": "ipython3",
   "version": "3.9.16"
  }
 },
 "nbformat": 4,
 "nbformat_minor": 4
}
