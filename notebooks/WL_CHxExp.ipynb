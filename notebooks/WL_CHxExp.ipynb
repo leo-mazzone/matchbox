{
 "metadata": {
  "language_info": {
   "codemirror_mode": {
    "name": "ipython",
    "version": 3
   },
   "file_extension": ".py",
   "mimetype": "text/x-python",
   "name": "python",
   "nbconvert_exporter": "python",
   "pygments_lexer": "ipython3",
   "version": "3.9.16-final"
  },
  "orig_nbformat": 2,
  "kernelspec": {
   "name": "python_defaultSpec_1691145506814",
   "display_name": "Python 3.9.16 64-bit ('company_matching': conda)"
  }
 },
 "nbformat": 4,
 "nbformat_minor": 2,
 "cells": [
  {
   "source": [
    "# Companies House x HMRC exporters\n",
    "\n",
    "I want to build this in a way that one can improve a link pair in a notebook, then deploy those changes to the link easily. I'm going to play with this idea here."
   ],
   "cell_type": "markdown",
   "metadata": {}
  },
  {
   "cell_type": "code",
   "execution_count": 1,
   "metadata": {},
   "outputs": [],
   "source": [
    "from src.data import utils as du\n",
    "from src.models import utils as mu\n",
    "from src.config import tables, stopwords\n",
    "from src.features.clean_complex import clean_comp_names\n",
    "\n",
    "from splink.duckdb.linker import DuckDBLinker\n",
    "import splink.duckdb.comparison_library as cl\n",
    "import splink.duckdb.comparison_template_library as ctl\n",
    "\n",
    "# import os\n",
    "import logging\n",
    "import mlflow\n",
    "from dotenv import load_dotenv, find_dotenv"
   ]
  },
  {
   "cell_type": "code",
   "execution_count": 3,
   "metadata": {
    "tags": []
   },
   "outputs": [],
   "source": [
    "companieshouse_raw = du.query(\n",
    "    f\"\"\"\n",
    "        select\n",
    "            id as dim_uuid,\n",
    "            company_name,\n",
    "            postcode\n",
    "        from\n",
    "            {tables['\"companieshouse\".\"companies\"'][\"dim\"]};\n",
    "    \"\"\"\n",
    ")\n",
    "\n",
    "companieshouse_proc = clean_comp_names(\n",
    "    companieshouse_raw,\n",
    "    primary_col=\"company_name\",\n",
    "    secondary_col=None,\n",
    "    stopwords=stopwords,\n",
    ")"
   ]
  },
  {
   "cell_type": "code",
   "execution_count": 5,
   "metadata": {},
   "outputs": [
    {
     "output_type": "execute_result",
     "data": {
      "text/plain": "                      company_name_arr  dim_uuid               company_name  \\\n0              [a, r, motors, limited]  12586403         A&R MOTORS LIMITED   \n1            [a, r, munteanu, limited]  14119280           A&R MUNTEANU LTD   \n2             [a, r, nielsen, limited]  10238259        A&R NIELSEN LIMITED   \n3   [a, r, online, education, limited]  12722020   A&R ONLINE EDUCATION LTD   \n4  [a, r, painting, services, limited]  08441975  A&R PAINTING SERVICES LTD   \n\n   postcode                                          stopwords  \\\n0  NW10 2QU  [limited, uk, company, international, group, o...   \n1    E6 3LA  [limited, uk, company, international, group, o...   \n2   EN5 5LG  [limited, uk, company, international, group, o...   \n3   IG1 3FA  [limited, uk, company, international, group, o...   \n4  CH64 5SJ  [limited, uk, company, international, group, o...   \n\n     name_unusual_tokens names_tokens_stopwords name_unusual_tokens_first5  \\\n0             a motors r                limited                      a mot   \n1           a munteanu r                limited                      a mun   \n2            a nielsen r                limited                      a nie   \n3   a education online r                limited                      a edu   \n4  a painting r services                limited                      a pai   \n\n  name_unusual_tokens_last5  \n0                     ors r  \n1                     anu r  \n2                     sen r  \n3                     ine r  \n4                     vices  ",
      "text/html": "<div>\n<style scoped>\n    .dataframe tbody tr th:only-of-type {\n        vertical-align: middle;\n    }\n\n    .dataframe tbody tr th {\n        vertical-align: top;\n    }\n\n    .dataframe thead th {\n        text-align: right;\n    }\n</style>\n<table border=\"1\" class=\"dataframe\">\n  <thead>\n    <tr style=\"text-align: right;\">\n      <th></th>\n      <th>company_name_arr</th>\n      <th>dim_uuid</th>\n      <th>company_name</th>\n      <th>postcode</th>\n      <th>stopwords</th>\n      <th>name_unusual_tokens</th>\n      <th>names_tokens_stopwords</th>\n      <th>name_unusual_tokens_first5</th>\n      <th>name_unusual_tokens_last5</th>\n    </tr>\n  </thead>\n  <tbody>\n    <tr>\n      <th>0</th>\n      <td>[a, r, motors, limited]</td>\n      <td>12586403</td>\n      <td>A&amp;R MOTORS LIMITED</td>\n      <td>NW10 2QU</td>\n      <td>[limited, uk, company, international, group, o...</td>\n      <td>a motors r</td>\n      <td>limited</td>\n      <td>a mot</td>\n      <td>ors r</td>\n    </tr>\n    <tr>\n      <th>1</th>\n      <td>[a, r, munteanu, limited]</td>\n      <td>14119280</td>\n      <td>A&amp;R MUNTEANU LTD</td>\n      <td>E6 3LA</td>\n      <td>[limited, uk, company, international, group, o...</td>\n      <td>a munteanu r</td>\n      <td>limited</td>\n      <td>a mun</td>\n      <td>anu r</td>\n    </tr>\n    <tr>\n      <th>2</th>\n      <td>[a, r, nielsen, limited]</td>\n      <td>10238259</td>\n      <td>A&amp;R NIELSEN LIMITED</td>\n      <td>EN5 5LG</td>\n      <td>[limited, uk, company, international, group, o...</td>\n      <td>a nielsen r</td>\n      <td>limited</td>\n      <td>a nie</td>\n      <td>sen r</td>\n    </tr>\n    <tr>\n      <th>3</th>\n      <td>[a, r, online, education, limited]</td>\n      <td>12722020</td>\n      <td>A&amp;R ONLINE EDUCATION LTD</td>\n      <td>IG1 3FA</td>\n      <td>[limited, uk, company, international, group, o...</td>\n      <td>a education online r</td>\n      <td>limited</td>\n      <td>a edu</td>\n      <td>ine r</td>\n    </tr>\n    <tr>\n      <th>4</th>\n      <td>[a, r, painting, services, limited]</td>\n      <td>08441975</td>\n      <td>A&amp;R PAINTING SERVICES LTD</td>\n      <td>CH64 5SJ</td>\n      <td>[limited, uk, company, international, group, o...</td>\n      <td>a painting r services</td>\n      <td>limited</td>\n      <td>a pai</td>\n      <td>vices</td>\n    </tr>\n  </tbody>\n</table>\n</div>"
     },
     "metadata": {},
     "execution_count": 5
    }
   ],
   "source": [
    "companieshouse_proc.head(5)"
   ]
  },
  {
   "cell_type": "code",
   "execution_count": 6,
   "metadata": {},
   "outputs": [],
   "source": [
    "hmrcexporters_raw = du.query(\n",
    "    f\"\"\"\n",
    "        select\n",
    "            dim_uuid,\n",
    "            company_name,\n",
    "            postcode\n",
    "        from\n",
    "            {tables['\"hmrc\".\"trade__exporters\"'][\"dim\"]};\n",
    "    \"\"\"\n",
    ")\n",
    "\n",
    "hmrcexporters_proc = clean_comp_names(\n",
    "    hmrcexporters_raw,\n",
    "    primary_col=\"company_name\",\n",
    "    secondary_col=None,\n",
    "    stopwords=stopwords,\n",
    ")"
   ]
  },
  {
   "cell_type": "code",
   "execution_count": 7,
   "metadata": {},
   "outputs": [
    {
     "output_type": "execute_result",
     "data": {
      "text/plain": "                     company_name_arr                              dim_uuid  \\\n0                 [ska, organisation]  df91e625-6ea6-437f-80db-a7fb3d7084ff   \n1                 [skapandi, limited]  2bf89964-bbe5-4b2a-b892-6eafd79975d2   \n2                    [skape, limited]  f17627f8-f06f-4256-85e2-0cc7efea0d4a   \n3  [skardin, industrial, uk, limited]  4333cc4f-a41f-4a5c-9646-2f218709937e   \n4  [skardin, industrial, uk, limited]  324f409d-3e6f-456a-9f7e-90b09075fb56   \n\n                      company_name  postcode  \\\n0                 SKA ORGANISATION  SK11 9DL   \n1                     SKAPANDI LTD  YO11 3UD   \n2                        SKAPE LTD   BA5 1AF   \n3  SKARDIN INDUSTRIAL (UK) LIMITED   CM6 2JR   \n4  SKARDIN INDUSTRIAL (UK) LIMITED  CM19 5QB   \n\n                                           stopwords name_unusual_tokens  \\\n0  [limited, uk, company, international, group, o...    organisation ska   \n1  [limited, uk, company, international, group, o...            skapandi   \n2  [limited, uk, company, international, group, o...               skape   \n3  [limited, uk, company, international, group, o...  industrial skardin   \n4  [limited, uk, company, international, group, o...  industrial skardin   \n\n  names_tokens_stopwords name_unusual_tokens_first5 name_unusual_tokens_last5  \n0                                             organ                     n ska  \n1                limited                      skapa                     pandi  \n2                limited                      skape                     skape  \n3             uk limited                      indus                     ardin  \n4             uk limited                      indus                     ardin  ",
      "text/html": "<div>\n<style scoped>\n    .dataframe tbody tr th:only-of-type {\n        vertical-align: middle;\n    }\n\n    .dataframe tbody tr th {\n        vertical-align: top;\n    }\n\n    .dataframe thead th {\n        text-align: right;\n    }\n</style>\n<table border=\"1\" class=\"dataframe\">\n  <thead>\n    <tr style=\"text-align: right;\">\n      <th></th>\n      <th>company_name_arr</th>\n      <th>dim_uuid</th>\n      <th>company_name</th>\n      <th>postcode</th>\n      <th>stopwords</th>\n      <th>name_unusual_tokens</th>\n      <th>names_tokens_stopwords</th>\n      <th>name_unusual_tokens_first5</th>\n      <th>name_unusual_tokens_last5</th>\n    </tr>\n  </thead>\n  <tbody>\n    <tr>\n      <th>0</th>\n      <td>[ska, organisation]</td>\n      <td>df91e625-6ea6-437f-80db-a7fb3d7084ff</td>\n      <td>SKA ORGANISATION</td>\n      <td>SK11 9DL</td>\n      <td>[limited, uk, company, international, group, o...</td>\n      <td>organisation ska</td>\n      <td></td>\n      <td>organ</td>\n      <td>n ska</td>\n    </tr>\n    <tr>\n      <th>1</th>\n      <td>[skapandi, limited]</td>\n      <td>2bf89964-bbe5-4b2a-b892-6eafd79975d2</td>\n      <td>SKAPANDI LTD</td>\n      <td>YO11 3UD</td>\n      <td>[limited, uk, company, international, group, o...</td>\n      <td>skapandi</td>\n      <td>limited</td>\n      <td>skapa</td>\n      <td>pandi</td>\n    </tr>\n    <tr>\n      <th>2</th>\n      <td>[skape, limited]</td>\n      <td>f17627f8-f06f-4256-85e2-0cc7efea0d4a</td>\n      <td>SKAPE LTD</td>\n      <td>BA5 1AF</td>\n      <td>[limited, uk, company, international, group, o...</td>\n      <td>skape</td>\n      <td>limited</td>\n      <td>skape</td>\n      <td>skape</td>\n    </tr>\n    <tr>\n      <th>3</th>\n      <td>[skardin, industrial, uk, limited]</td>\n      <td>4333cc4f-a41f-4a5c-9646-2f218709937e</td>\n      <td>SKARDIN INDUSTRIAL (UK) LIMITED</td>\n      <td>CM6 2JR</td>\n      <td>[limited, uk, company, international, group, o...</td>\n      <td>industrial skardin</td>\n      <td>uk limited</td>\n      <td>indus</td>\n      <td>ardin</td>\n    </tr>\n    <tr>\n      <th>4</th>\n      <td>[skardin, industrial, uk, limited]</td>\n      <td>324f409d-3e6f-456a-9f7e-90b09075fb56</td>\n      <td>SKARDIN INDUSTRIAL (UK) LIMITED</td>\n      <td>CM19 5QB</td>\n      <td>[limited, uk, company, international, group, o...</td>\n      <td>industrial skardin</td>\n      <td>uk limited</td>\n      <td>indus</td>\n      <td>ardin</td>\n    </tr>\n  </tbody>\n</table>\n</div>"
     },
     "metadata": {},
     "execution_count": 7
    }
   ],
   "source": [
    "hmrcexporters_proc.head(5)"
   ]
  },
  {
   "cell_type": "code",
   "execution_count": 9,
   "metadata": {},
   "outputs": [],
   "source": [
    "settings = {\n",
    "    \"link_type\": \"link_only\",\n",
    "    \"unique_id_column_name\": \"dim_uuid\",\n",
    "    \"retain_matching_columns\": False,\n",
    "    \"retain_intermediate_calculation_columns\": False,\n",
    "    \"blocking_rules_to_generate_predictions\": [\n",
    "        \"\"\"\n",
    "            (l.name_unusual_tokens = r.name_unusual_tokens)\n",
    "            and (\n",
    "                l.name_unusual_tokens <> ''\n",
    "                and r.name_unusual_tokens <> ''\n",
    "            )\n",
    "        \"\"\",\n",
    "        \"\"\"\n",
    "            (l.postcode = r.postcode)\n",
    "            and (\n",
    "                l.postcode <> ''\n",
    "                and r.postcode <> ''\n",
    "            )\n",
    "        \"\"\",\n",
    "        \"\"\"\n",
    "            (l.name_unusual_tokens_first5 = r.name_unusual_tokens_first5)\n",
    "            and (\n",
    "                length(l.name_unusual_tokens_first5) = 5\n",
    "                and length(r.name_unusual_tokens_first5) = 5\n",
    "            )\n",
    "        \"\"\",\n",
    "        \"\"\"\n",
    "            (l.name_unusual_tokens_last5 = r.name_unusual_tokens_last5)\n",
    "            and (\n",
    "                length(l.name_unusual_tokens_last5) = 5\n",
    "                and length(r.name_unusual_tokens_last5) = 5\n",
    "            )\n",
    "        \"\"\"\n",
    "    ],\n",
    "    \"comparisons\": [\n",
    "        {\n",
    "            \"output_column_name\": \"Company name\",\n",
    "            \"comparison_description\": \"Jaro-Winkler of the unusual company name tokens\",\n",
    "            \"comparison_levels\": [\n",
    "                {\n",
    "                    cl.jaro_winkler_at_thresholds(\n",
    "                        \"name_unusual_tokens\", [0.9, 0.6], term_frequency_adjustments=True\n",
    "                    )\n",
    "                }\n",
    "            ]\n",
    "        },\n",
    "        {\n",
    "            \"output_column_name\": \"Company postcode\",\n",
    "            \"comparison_description\": \"Splink's postcode comparison built-in\",\n",
    "            \"comparison_levels\": [\n",
    "                {\n",
    "                    ctl.postcode_comparison(\"postcode\")\n",
    "                }\n",
    "            ]\n",
    "        }\n",
    "    ],\n",
    "}"
   ]
  },
  {
   "cell_type": "code",
   "execution_count": 10,
   "metadata": {},
   "outputs": [
    {
     "output_type": "error",
     "ename": "TypeError",
     "evalue": "Object of type set is not JSON serializable",
     "traceback": [
      "\u001b[0;31m---------------------------------------------------------------------------\u001b[0m",
      "\u001b[0;31mTypeError\u001b[0m                                 Traceback (most recent call last)",
      "Cell \u001b[0;32mIn[10], line 1\u001b[0m\n\u001b[0;32m----> 1\u001b[0m linker \u001b[38;5;241m=\u001b[39m \u001b[43mDuckDBLinker\u001b[49m\u001b[43m(\u001b[49m\n\u001b[1;32m      2\u001b[0m \u001b[43m    \u001b[49m\u001b[43minput_table_or_tables\u001b[49m\u001b[43m \u001b[49m\u001b[38;5;241;43m=\u001b[39;49m\u001b[43m \u001b[49m\u001b[43m[\u001b[49m\n\u001b[1;32m      3\u001b[0m \u001b[43m        \u001b[49m\u001b[43mcompanieshouse_proc\u001b[49m\u001b[43m,\u001b[49m\u001b[43m \u001b[49m\n\u001b[1;32m      4\u001b[0m \u001b[43m        \u001b[49m\u001b[43mhmrcexporters_proc\u001b[49m\n\u001b[1;32m      5\u001b[0m \u001b[43m    \u001b[49m\u001b[43m]\u001b[49m\u001b[43m,\u001b[49m\n\u001b[1;32m      6\u001b[0m \u001b[43m    \u001b[49m\u001b[43msettings_dict\u001b[49m\u001b[43m \u001b[49m\u001b[38;5;241;43m=\u001b[39;49m\u001b[43m \u001b[49m\u001b[43msettings\u001b[49m\u001b[43m,\u001b[49m\n\u001b[1;32m      7\u001b[0m \u001b[43m    \u001b[49m\u001b[43minput_table_aliases\u001b[49m\u001b[38;5;241;43m=\u001b[39;49m\u001b[43m[\u001b[49m\n\u001b[1;32m      8\u001b[0m \u001b[43m        \u001b[49m\u001b[38;5;124;43m'\u001b[39;49m\u001b[38;5;124;43m\"\u001b[39;49m\u001b[38;5;124;43mcompanieshouse\u001b[39;49m\u001b[38;5;124;43m\"\u001b[39;49m\u001b[38;5;124;43m.\u001b[39;49m\u001b[38;5;124;43m\"\u001b[39;49m\u001b[38;5;124;43mcompanies\u001b[39;49m\u001b[38;5;124;43m\"\u001b[39;49m\u001b[38;5;124;43m'\u001b[39;49m\u001b[43m,\u001b[49m\u001b[43m \u001b[49m\n\u001b[1;32m      9\u001b[0m \u001b[43m        \u001b[49m\u001b[38;5;124;43m'\u001b[39;49m\u001b[38;5;124;43m\"\u001b[39;49m\u001b[38;5;124;43mhmrc\u001b[39;49m\u001b[38;5;124;43m\"\u001b[39;49m\u001b[38;5;124;43m.\u001b[39;49m\u001b[38;5;124;43m\"\u001b[39;49m\u001b[38;5;124;43mtrade__exporters\u001b[39;49m\u001b[38;5;124;43m\"\u001b[39;49m\u001b[38;5;124;43m'\u001b[39;49m\n\u001b[1;32m     10\u001b[0m \u001b[43m    \u001b[49m\u001b[43m]\u001b[49m\u001b[43m,\u001b[49m\n\u001b[1;32m     11\u001b[0m \u001b[43m)\u001b[49m\n",
      "File \u001b[0;32m/opt/conda/envs/company_matching/lib/python3.9/site-packages/splink/duckdb/linker.py:177\u001b[0m, in \u001b[0;36mDuckDBLinker.__init__\u001b[0;34m(self, input_table_or_tables, settings_dict, connection, set_up_basic_logging, output_schema, input_table_aliases)\u001b[0m\n\u001b[1;32m    174\u001b[0m \u001b[38;5;28;01mexcept\u001b[39;00m \u001b[38;5;167;01mImportError\u001b[39;00m:\n\u001b[1;32m    175\u001b[0m     \u001b[38;5;28;01mpass\u001b[39;00m\n\u001b[0;32m--> 177\u001b[0m \u001b[38;5;28;43msuper\u001b[39;49m\u001b[43m(\u001b[49m\u001b[43m)\u001b[49m\u001b[38;5;241;43m.\u001b[39;49m\u001b[38;5;21;43m__init__\u001b[39;49m\u001b[43m(\u001b[49m\n\u001b[1;32m    178\u001b[0m \u001b[43m    \u001b[49m\u001b[43minput_tables\u001b[49m\u001b[43m,\u001b[49m\n\u001b[1;32m    179\u001b[0m \u001b[43m    \u001b[49m\u001b[43msettings_dict\u001b[49m\u001b[43m,\u001b[49m\n\u001b[1;32m    180\u001b[0m \u001b[43m    \u001b[49m\u001b[43maccepted_df_dtypes\u001b[49m\u001b[43m,\u001b[49m\n\u001b[1;32m    181\u001b[0m \u001b[43m    \u001b[49m\u001b[43mset_up_basic_logging\u001b[49m\u001b[43m,\u001b[49m\n\u001b[1;32m    182\u001b[0m \u001b[43m    \u001b[49m\u001b[43minput_table_aliases\u001b[49m\u001b[38;5;241;43m=\u001b[39;49m\u001b[43minput_aliases\u001b[49m\u001b[43m,\u001b[49m\n\u001b[1;32m    183\u001b[0m \u001b[43m\u001b[49m\u001b[43m)\u001b[49m\n\u001b[1;32m    185\u001b[0m \u001b[38;5;66;03m# Quickly check for casting error in duckdb/pandas\u001b[39;00m\n\u001b[1;32m    186\u001b[0m \u001b[38;5;28;01mfor\u001b[39;00m i, (table, alias) \u001b[38;5;129;01min\u001b[39;00m \u001b[38;5;28menumerate\u001b[39m(\u001b[38;5;28mzip\u001b[39m(input_tables, input_aliases)):\n",
      "File \u001b[0;32m/opt/conda/envs/company_matching/lib/python3.9/site-packages/splink/linker.py:229\u001b[0m, in \u001b[0;36mLinker.__init__\u001b[0;34m(self, input_table_or_tables, settings_dict, accepted_df_dtypes, set_up_basic_logging, input_table_aliases)\u001b[0m\n\u001b[1;32m    227\u001b[0m \u001b[38;5;28;01melse\u001b[39;00m:\n\u001b[1;32m    228\u001b[0m     settings_dict \u001b[38;5;241m=\u001b[39m deepcopy(settings_dict)\n\u001b[0;32m--> 229\u001b[0m     \u001b[38;5;28;43mself\u001b[39;49m\u001b[38;5;241;43m.\u001b[39;49m\u001b[43m_setup_settings_objs\u001b[49m\u001b[43m(\u001b[49m\u001b[43msettings_dict\u001b[49m\u001b[43m)\u001b[49m\n\u001b[1;32m    231\u001b[0m homogenised_tables, homogenised_aliases \u001b[38;5;241m=\u001b[39m \u001b[38;5;28mself\u001b[39m\u001b[38;5;241m.\u001b[39m_register_input_tables(\n\u001b[1;32m    232\u001b[0m     input_table_or_tables,\n\u001b[1;32m    233\u001b[0m     input_table_aliases,\n\u001b[1;32m    234\u001b[0m     accepted_df_dtypes,\n\u001b[1;32m    235\u001b[0m )\n\u001b[1;32m    237\u001b[0m \u001b[38;5;28mself\u001b[39m\u001b[38;5;241m.\u001b[39m_input_tables_dict \u001b[38;5;241m=\u001b[39m \u001b[38;5;28mself\u001b[39m\u001b[38;5;241m.\u001b[39m_get_input_tables_dict(\n\u001b[1;32m    238\u001b[0m     homogenised_tables, homogenised_aliases\n\u001b[1;32m    239\u001b[0m )\n",
      "File \u001b[0;32m/opt/conda/envs/company_matching/lib/python3.9/site-packages/splink/linker.py:465\u001b[0m, in \u001b[0;36mLinker._setup_settings_objs\u001b[0;34m(self, settings_dict)\u001b[0m\n\u001b[1;32m    463\u001b[0m     \u001b[38;5;28mself\u001b[39m\u001b[38;5;241m.\u001b[39m_settings_obj_ \u001b[38;5;241m=\u001b[39m \u001b[38;5;28;01mNone\u001b[39;00m\n\u001b[1;32m    464\u001b[0m \u001b[38;5;28;01melse\u001b[39;00m:\n\u001b[0;32m--> 465\u001b[0m     \u001b[38;5;28mself\u001b[39m\u001b[38;5;241m.\u001b[39m_settings_obj_ \u001b[38;5;241m=\u001b[39m \u001b[43mSettings\u001b[49m\u001b[43m(\u001b[49m\u001b[43msettings_dict\u001b[49m\u001b[43m)\u001b[49m\n\u001b[1;32m    467\u001b[0m     \u001b[38;5;28mself\u001b[39m\u001b[38;5;241m.\u001b[39m_validate_dialect()\n",
      "File \u001b[0;32m/opt/conda/envs/company_matching/lib/python3.9/site-packages/splink/settings.py:42\u001b[0m, in \u001b[0;36mSettings.__init__\u001b[0;34m(self, settings_dict)\u001b[0m\n\u001b[1;32m     36\u001b[0m \u001b[38;5;28;01mfor\u001b[39;00m comparison_dict \u001b[38;5;129;01min\u001b[39;00m settings_dict[\u001b[38;5;124m\"\u001b[39m\u001b[38;5;124mcomparisons\u001b[39m\u001b[38;5;124m\"\u001b[39m]:\n\u001b[1;32m     37\u001b[0m     comparison_dict[\u001b[38;5;124m\"\u001b[39m\u001b[38;5;124mcomparison_levels\u001b[39m\u001b[38;5;124m\"\u001b[39m] \u001b[38;5;241m=\u001b[39m [\n\u001b[1;32m     38\u001b[0m         cl\u001b[38;5;241m.\u001b[39mas_dict() \u001b[38;5;28;01mif\u001b[39;00m \u001b[38;5;28misinstance\u001b[39m(cl, ComparisonLevel) \u001b[38;5;28;01melse\u001b[39;00m cl\n\u001b[1;32m     39\u001b[0m         \u001b[38;5;28;01mfor\u001b[39;00m cl \u001b[38;5;129;01min\u001b[39;00m comparison_dict[\u001b[38;5;124m\"\u001b[39m\u001b[38;5;124mcomparison_levels\u001b[39m\u001b[38;5;124m\"\u001b[39m]\n\u001b[1;32m     40\u001b[0m     ]\n\u001b[0;32m---> 42\u001b[0m \u001b[43mvalidate_settings_against_schema\u001b[49m\u001b[43m(\u001b[49m\u001b[43msettings_dict\u001b[49m\u001b[43m)\u001b[49m\n\u001b[1;32m     44\u001b[0m \u001b[38;5;28mself\u001b[39m\u001b[38;5;241m.\u001b[39m_settings_dict \u001b[38;5;241m=\u001b[39m settings_dict\n\u001b[1;32m     46\u001b[0m ccs \u001b[38;5;241m=\u001b[39m \u001b[38;5;28mself\u001b[39m\u001b[38;5;241m.\u001b[39m_settings_dict[\u001b[38;5;124m\"\u001b[39m\u001b[38;5;124mcomparisons\u001b[39m\u001b[38;5;124m\"\u001b[39m]\n",
      "File \u001b[0;32m/opt/conda/envs/company_matching/lib/python3.9/site-packages/splink/validate_jsonschema.py:62\u001b[0m, in \u001b[0;36mvalidate_settings_against_schema\u001b[0;34m(settings_dict)\u001b[0m\n\u001b[1;32m     60\u001b[0m error_in \u001b[38;5;241m=\u001b[39m \u001b[38;5;124m\"\u001b[39m\u001b[38;5;124m\"\u001b[39m\n\u001b[1;32m     61\u001b[0m \u001b[38;5;28;01mif\u001b[39;00m comparison_level:\n\u001b[0;32m---> 62\u001b[0m     error_in \u001b[38;5;241m+\u001b[39m\u001b[38;5;241m=\u001b[39m \u001b[38;5;124mf\u001b[39m\u001b[38;5;124m\"\u001b[39m\u001b[38;5;124mThe comparison level is: \u001b[39m\u001b[38;5;132;01m{\u001b[39;00m\u001b[43mjson\u001b[49m\u001b[38;5;241;43m.\u001b[39;49m\u001b[43mdumps\u001b[49m\u001b[43m(\u001b[49m\u001b[43mcomparison_level\u001b[49m\u001b[43m)\u001b[49m\u001b[38;5;132;01m}\u001b[39;00m\u001b[38;5;130;01m\\n\u001b[39;00m\u001b[38;5;130;01m\\n\u001b[39;00m\u001b[38;5;124m\"\u001b[39m\n\u001b[1;32m     64\u001b[0m \u001b[38;5;28;01mif\u001b[39;00m comparison:\n\u001b[1;32m     65\u001b[0m     error_in \u001b[38;5;241m+\u001b[39m\u001b[38;5;241m=\u001b[39m \u001b[38;5;124mf\u001b[39m\u001b[38;5;124m\"\u001b[39m\u001b[38;5;124mThe comparison is: \u001b[39m\u001b[38;5;132;01m{\u001b[39;00mjson\u001b[38;5;241m.\u001b[39mdumps(comparison)\u001b[38;5;132;01m}\u001b[39;00m\u001b[38;5;130;01m\\n\u001b[39;00m\u001b[38;5;130;01m\\n\u001b[39;00m\u001b[38;5;124m\"\u001b[39m\n",
      "File \u001b[0;32m/opt/conda/envs/company_matching/lib/python3.9/json/__init__.py:231\u001b[0m, in \u001b[0;36mdumps\u001b[0;34m(obj, skipkeys, ensure_ascii, check_circular, allow_nan, cls, indent, separators, default, sort_keys, **kw)\u001b[0m\n\u001b[1;32m    226\u001b[0m \u001b[38;5;66;03m# cached encoder\u001b[39;00m\n\u001b[1;32m    227\u001b[0m \u001b[38;5;28;01mif\u001b[39;00m (\u001b[38;5;129;01mnot\u001b[39;00m skipkeys \u001b[38;5;129;01mand\u001b[39;00m ensure_ascii \u001b[38;5;129;01mand\u001b[39;00m\n\u001b[1;32m    228\u001b[0m     check_circular \u001b[38;5;129;01mand\u001b[39;00m allow_nan \u001b[38;5;129;01mand\u001b[39;00m\n\u001b[1;32m    229\u001b[0m     \u001b[38;5;28mcls\u001b[39m \u001b[38;5;129;01mis\u001b[39;00m \u001b[38;5;28;01mNone\u001b[39;00m \u001b[38;5;129;01mand\u001b[39;00m indent \u001b[38;5;129;01mis\u001b[39;00m \u001b[38;5;28;01mNone\u001b[39;00m \u001b[38;5;129;01mand\u001b[39;00m separators \u001b[38;5;129;01mis\u001b[39;00m \u001b[38;5;28;01mNone\u001b[39;00m \u001b[38;5;129;01mand\u001b[39;00m\n\u001b[1;32m    230\u001b[0m     default \u001b[38;5;129;01mis\u001b[39;00m \u001b[38;5;28;01mNone\u001b[39;00m \u001b[38;5;129;01mand\u001b[39;00m \u001b[38;5;129;01mnot\u001b[39;00m sort_keys \u001b[38;5;129;01mand\u001b[39;00m \u001b[38;5;129;01mnot\u001b[39;00m kw):\n\u001b[0;32m--> 231\u001b[0m     \u001b[38;5;28;01mreturn\u001b[39;00m \u001b[43m_default_encoder\u001b[49m\u001b[38;5;241;43m.\u001b[39;49m\u001b[43mencode\u001b[49m\u001b[43m(\u001b[49m\u001b[43mobj\u001b[49m\u001b[43m)\u001b[49m\n\u001b[1;32m    232\u001b[0m \u001b[38;5;28;01mif\u001b[39;00m \u001b[38;5;28mcls\u001b[39m \u001b[38;5;129;01mis\u001b[39;00m \u001b[38;5;28;01mNone\u001b[39;00m:\n\u001b[1;32m    233\u001b[0m     \u001b[38;5;28mcls\u001b[39m \u001b[38;5;241m=\u001b[39m JSONEncoder\n",
      "File \u001b[0;32m/opt/conda/envs/company_matching/lib/python3.9/json/encoder.py:199\u001b[0m, in \u001b[0;36mJSONEncoder.encode\u001b[0;34m(self, o)\u001b[0m\n\u001b[1;32m    195\u001b[0m         \u001b[38;5;28;01mreturn\u001b[39;00m encode_basestring(o)\n\u001b[1;32m    196\u001b[0m \u001b[38;5;66;03m# This doesn't pass the iterator directly to ''.join() because the\u001b[39;00m\n\u001b[1;32m    197\u001b[0m \u001b[38;5;66;03m# exceptions aren't as detailed.  The list call should be roughly\u001b[39;00m\n\u001b[1;32m    198\u001b[0m \u001b[38;5;66;03m# equivalent to the PySequence_Fast that ''.join() would do.\u001b[39;00m\n\u001b[0;32m--> 199\u001b[0m chunks \u001b[38;5;241m=\u001b[39m \u001b[38;5;28;43mself\u001b[39;49m\u001b[38;5;241;43m.\u001b[39;49m\u001b[43miterencode\u001b[49m\u001b[43m(\u001b[49m\u001b[43mo\u001b[49m\u001b[43m,\u001b[49m\u001b[43m \u001b[49m\u001b[43m_one_shot\u001b[49m\u001b[38;5;241;43m=\u001b[39;49m\u001b[38;5;28;43;01mTrue\u001b[39;49;00m\u001b[43m)\u001b[49m\n\u001b[1;32m    200\u001b[0m \u001b[38;5;28;01mif\u001b[39;00m \u001b[38;5;129;01mnot\u001b[39;00m \u001b[38;5;28misinstance\u001b[39m(chunks, (\u001b[38;5;28mlist\u001b[39m, \u001b[38;5;28mtuple\u001b[39m)):\n\u001b[1;32m    201\u001b[0m     chunks \u001b[38;5;241m=\u001b[39m \u001b[38;5;28mlist\u001b[39m(chunks)\n",
      "File \u001b[0;32m/opt/conda/envs/company_matching/lib/python3.9/json/encoder.py:257\u001b[0m, in \u001b[0;36mJSONEncoder.iterencode\u001b[0;34m(self, o, _one_shot)\u001b[0m\n\u001b[1;32m    252\u001b[0m \u001b[38;5;28;01melse\u001b[39;00m:\n\u001b[1;32m    253\u001b[0m     _iterencode \u001b[38;5;241m=\u001b[39m _make_iterencode(\n\u001b[1;32m    254\u001b[0m         markers, \u001b[38;5;28mself\u001b[39m\u001b[38;5;241m.\u001b[39mdefault, _encoder, \u001b[38;5;28mself\u001b[39m\u001b[38;5;241m.\u001b[39mindent, floatstr,\n\u001b[1;32m    255\u001b[0m         \u001b[38;5;28mself\u001b[39m\u001b[38;5;241m.\u001b[39mkey_separator, \u001b[38;5;28mself\u001b[39m\u001b[38;5;241m.\u001b[39mitem_separator, \u001b[38;5;28mself\u001b[39m\u001b[38;5;241m.\u001b[39msort_keys,\n\u001b[1;32m    256\u001b[0m         \u001b[38;5;28mself\u001b[39m\u001b[38;5;241m.\u001b[39mskipkeys, _one_shot)\n\u001b[0;32m--> 257\u001b[0m \u001b[38;5;28;01mreturn\u001b[39;00m \u001b[43m_iterencode\u001b[49m\u001b[43m(\u001b[49m\u001b[43mo\u001b[49m\u001b[43m,\u001b[49m\u001b[43m \u001b[49m\u001b[38;5;241;43m0\u001b[39;49m\u001b[43m)\u001b[49m\n",
      "File \u001b[0;32m/opt/conda/envs/company_matching/lib/python3.9/json/encoder.py:179\u001b[0m, in \u001b[0;36mJSONEncoder.default\u001b[0;34m(self, o)\u001b[0m\n\u001b[1;32m    160\u001b[0m \u001b[38;5;28;01mdef\u001b[39;00m \u001b[38;5;21mdefault\u001b[39m(\u001b[38;5;28mself\u001b[39m, o):\n\u001b[1;32m    161\u001b[0m \u001b[38;5;250m    \u001b[39m\u001b[38;5;124;03m\"\"\"Implement this method in a subclass such that it returns\u001b[39;00m\n\u001b[1;32m    162\u001b[0m \u001b[38;5;124;03m    a serializable object for ``o``, or calls the base implementation\u001b[39;00m\n\u001b[1;32m    163\u001b[0m \u001b[38;5;124;03m    (to raise a ``TypeError``).\u001b[39;00m\n\u001b[0;32m   (...)\u001b[0m\n\u001b[1;32m    177\u001b[0m \n\u001b[1;32m    178\u001b[0m \u001b[38;5;124;03m    \"\"\"\u001b[39;00m\n\u001b[0;32m--> 179\u001b[0m     \u001b[38;5;28;01mraise\u001b[39;00m \u001b[38;5;167;01mTypeError\u001b[39;00m(\u001b[38;5;124mf\u001b[39m\u001b[38;5;124m'\u001b[39m\u001b[38;5;124mObject of type \u001b[39m\u001b[38;5;132;01m{\u001b[39;00mo\u001b[38;5;241m.\u001b[39m\u001b[38;5;18m__class__\u001b[39m\u001b[38;5;241m.\u001b[39m\u001b[38;5;18m__name__\u001b[39m\u001b[38;5;132;01m}\u001b[39;00m\u001b[38;5;124m \u001b[39m\u001b[38;5;124m'\u001b[39m\n\u001b[1;32m    180\u001b[0m                     \u001b[38;5;124mf\u001b[39m\u001b[38;5;124m'\u001b[39m\u001b[38;5;124mis not JSON serializable\u001b[39m\u001b[38;5;124m'\u001b[39m)\n",
      "\u001b[0;31mTypeError\u001b[0m: Object of type set is not JSON serializable"
     ]
    }
   ],
   "source": [
    "linker = DuckDBLinker(\n",
    "    input_table_or_tables = [\n",
    "        companieshouse_proc, \n",
    "        hmrcexporters_proc\n",
    "    ],\n",
    "    settings_dict = settings,\n",
    "    input_table_aliases=[\n",
    "        '\"companieshouse\".\"companies\"', \n",
    "        '\"hmrc\".\"trade__exporters\"'\n",
    "    ],\n",
    ")"
   ]
  }
 ]
}