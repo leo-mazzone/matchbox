{
 "cells": [
  {
   "cell_type": "code",
   "execution_count": null,
   "id": "fc07efe0-5cb8-47bb-87b4-ab6f4a475f4e",
   "metadata": {},
   "outputs": [],
   "source": [
    "%load_ext autoreload\n",
    "%autoreload 2\n",
    "from IPython.core.interactiveshell import InteractiveShell\n",
    "from IPython.display import IFrame, display\n",
    "InteractiveShell.ast_node_interactivity = \"all\""
   ]
  },
  {
   "cell_type": "markdown",
   "id": "7c6625ba-1e67-45a6-8c13-a3f0b20d023d",
   "metadata": {},
   "source": [
    "# 🔌Hybrid additive linker playground\n",
    "\n",
    "Just a place to get linkers running."
   ]
  },
  {
   "cell_type": "code",
   "execution_count": 1,
   "id": "6bb13950-4a12-4f3a-b27e-212984ec41e5",
   "metadata": {},
   "outputs": [
    {
     "ename": "ModuleNotFoundError",
     "evalue": "No module named 'src.link.splink_linker'",
     "output_type": "error",
     "traceback": [
      "\u001b[0;31m---------------------------------------------------------------------------\u001b[0m",
      "\u001b[0;31mModuleNotFoundError\u001b[0m                       Traceback (most recent call last)",
      "Cell \u001b[0;32mIn[1], line 7\u001b[0m\n\u001b[1;32m      5\u001b[0m \u001b[38;5;28;01mfrom\u001b[39;00m \u001b[38;5;21;01msrc\u001b[39;00m\u001b[38;5;21;01m.\u001b[39;00m\u001b[38;5;21;01mdata\u001b[39;00m\u001b[38;5;21;01m.\u001b[39;00m\u001b[38;5;21;01mclusters\u001b[39;00m \u001b[38;5;28;01mimport\u001b[39;00m Clusters\n\u001b[1;32m      6\u001b[0m \u001b[38;5;28;01mfrom\u001b[39;00m \u001b[38;5;21;01msrc\u001b[39;00m\u001b[38;5;21;01m.\u001b[39;00m\u001b[38;5;21;01mdata\u001b[39;00m\u001b[38;5;21;01m.\u001b[39;00m\u001b[38;5;21;01mvalidation\u001b[39;00m \u001b[38;5;28;01mimport\u001b[39;00m Validation\n\u001b[0;32m----> 7\u001b[0m \u001b[38;5;28;01mfrom\u001b[39;00m \u001b[38;5;21;01msrc\u001b[39;00m\u001b[38;5;21;01m.\u001b[39;00m\u001b[38;5;21;01mlink\u001b[39;00m\u001b[38;5;21;01m.\u001b[39;00m\u001b[38;5;21;01msplink_linker\u001b[39;00m \u001b[38;5;28;01mimport\u001b[39;00m SplinkLinker\n\u001b[1;32m      8\u001b[0m \u001b[38;5;28;01mfrom\u001b[39;00m \u001b[38;5;21;01msrc\u001b[39;00m\u001b[38;5;21;01m.\u001b[39;00m\u001b[38;5;21;01mconfig\u001b[39;00m \u001b[38;5;28;01mimport\u001b[39;00m link_pipeline, stopwords\n\u001b[1;32m      9\u001b[0m \u001b[38;5;28;01mfrom\u001b[39;00m \u001b[38;5;21;01msrc\u001b[39;00m\u001b[38;5;21;01m.\u001b[39;00m\u001b[38;5;21;01mfeatures\u001b[39;00m\u001b[38;5;21;01m.\u001b[39;00m\u001b[38;5;21;01mclean_complex\u001b[39;00m \u001b[38;5;28;01mimport\u001b[39;00m clean_comp_names\n",
      "\u001b[0;31mModuleNotFoundError\u001b[0m: No module named 'src.link.splink_linker'"
     ]
    }
   ],
   "source": [
    "from src.data import utils as du\n",
    "from src.data.star import Star\n",
    "from src.data.datasets import Dataset\n",
    "from src.data.probabilities import Probabilities\n",
    "from src.data.clusters import Clusters\n",
    "from src.data.validation import Validation\n",
    "from src.link.splink_linker import SplinkLinker\n",
    "from src.config import link_pipeline, stopwords\n",
    "from src.features.clean_complex import clean_comp_names\n",
    "\n",
    "import splink.duckdb.comparison_library as cl\n",
    "import splink.duckdb.comparison_template_library as ctl\n",
    "\n",
    "import uuid\n",
    "from dotenv import load_dotenv, find_dotenv\n",
    "import os\n",
    "\n",
    "dotenv_path = find_dotenv()\n",
    "load_dotenv(dotenv_path)"
   ]
  },
  {
   "cell_type": "markdown",
   "id": "420e71d7-752e-4df2-a474-1288f6f69812",
   "metadata": {},
   "source": [
    "## Setup"
   ]
  },
  {
   "cell_type": "code",
   "execution_count": null,
   "id": "fa975078-979e-4a98-bbea-1df8a21b57d8",
   "metadata": {},
   "outputs": [],
   "source": [
    "star = Star(\n",
    "    schema = os.getenv(\"SCHEMA\"),\n",
    "    table = os.getenv(\"STAR_TABLE\")\n",
    ")\n",
    "probabilities = Probabilities(\n",
    "    schema = os.getenv(\"SCHEMA\"),\n",
    "    table = os.getenv(\"PROBABILITIES_TABLE\"),\n",
    "    star = star\n",
    ")\n",
    "clusters = Clusters(\n",
    "    schema = os.getenv(\"SCHEMA\"),\n",
    "    table = os.getenv(\"CLUSTERS_TABLE\"),\n",
    "    star = star\n",
    ")"
   ]
  },
  {
   "cell_type": "code",
   "execution_count": null,
   "id": "73ca90a5-3940-4225-ba87-cf8cbe90eda3",
   "metadata": {},
   "outputs": [],
   "source": [
    "# probabilities.create(overwrite=True)\n",
    "# clusters.create(dim=1970, overwrite=False)"
   ]
  },
  {
   "cell_type": "markdown",
   "id": "eadc61f0-b869-49ac-bc3c-1d74f969198c",
   "metadata": {},
   "source": [
    "## Splink\n",
    "\n",
    "TODO:\n",
    "\n",
    "* Write the `linker.link` method\n",
    "* Run it\n",
    "* Load it into clusters\n",
    "* Add `cluster_select`s to the `link_pipeline` in config\n",
    "\n",
    "At that point I think we've got enough infra to MR the whole of this, linker, data and all. Not a pretty MR, a lot to chew, sorry reviewer."
   ]
  },
  {
   "cell_type": "code",
   "execution_count": null,
   "id": "835f621d-f0b6-4b42-a305-264560c40dab",
   "metadata": {},
   "outputs": [],
   "source": [
    "# '\"hmrc\".\"trade__exporters\"': {\n",
    "#     \"fact\": '\"hmrc\".\"trade__exporters\"',\n",
    "#     \"key_fields\": [\"company_name\", \"address\", \"postcode\"],\n",
    "#     \"dim\": f'\"{os.getenv(\"SCHEMA\")}\".\"hmrc_trade__exporters__dim\"',\n",
    "#     \"n\": 3,\n",
    "#     \"experiment\": \"cm_hmrc-trade-exporters\",\n",
    "# }"
   ]
  },
  {
   "cell_type": "code",
   "execution_count": null,
   "id": "b504bec4-4c95-441a-8629-7a5fcc1f58cf",
   "metadata": {},
   "outputs": [],
   "source": [
    "cl_x_exp = SplinkLinker(\n",
    "    dataset = Dataset(\n",
    "        star_id=54717,\n",
    "        star=star\n",
    "    ), \n",
    "    probabilities=probabilities, \n",
    "    clusters=clusters, \n",
    "    n=2\n",
    ")"
   ]
  },
  {
   "cell_type": "code",
   "execution_count": null,
   "id": "98e870da-cfe1-48d3-810b-d3f924620f58",
   "metadata": {},
   "outputs": [],
   "source": [
    "cl_x_exp.get_data(\n",
    "    cluster_select={\n",
    "        '\"companieshouse\".\"companies\"': [\n",
    "            \"company_name\",\n",
    "            \"postcode\"\n",
    "        ]\n",
    "    },\n",
    "    dim_select=[\n",
    "        \"company_name\",\n",
    "        \"postcode\"\n",
    "    ]\n",
    ")"
   ]
  },
  {
   "cell_type": "code",
   "execution_count": null,
   "id": "efafdbcd-7091-40f8-b2e3-6dfe7072fd02",
   "metadata": {},
   "outputs": [],
   "source": [
    "cl_x_exp._create_linker(\n",
    "    linker_settings={\n",
    "        \"link_type\": \"link_only\",\n",
    "        \"unique_id_column_name\": \"id\",\n",
    "        \"retain_matching_columns\": False,\n",
    "        \"retain_intermediate_calculation_columns\": False,\n",
    "        \"blocking_rules_to_generate_predictions\": [\n",
    "            \"\"\"\n",
    "                (l.name_unusual_tokens = r.name_unusual_tokens)\n",
    "                and (\n",
    "                    l.name_unusual_tokens <> ''\n",
    "                    and r.name_unusual_tokens <> ''\n",
    "                )\n",
    "            \"\"\",\n",
    "            \"\"\"\n",
    "                (l.postcode = r.postcode)\n",
    "                and (\n",
    "                    l.postcode <> ''\n",
    "                    and r.postcode <> ''\n",
    "                )\n",
    "            \"\"\",\n",
    "        ],\n",
    "        \"comparisons\": [\n",
    "            cl.jaro_winkler_at_thresholds(\n",
    "                \"name_unusual_tokens\", [0.9, 0.6], term_frequency_adjustments=True\n",
    "            ),\n",
    "            ctl.postcode_comparison(\"postcode\"),\n",
    "        ],\n",
    "    }\n",
    ")"
   ]
  },
  {
   "cell_type": "code",
   "execution_count": null,
   "id": "340d1232-6b50-458f-9b53-711ae4a6ae85",
   "metadata": {},
   "outputs": [],
   "source": [
    "cl_x_exp._train_linker(\n",
    "    train_pipeline={\n",
    "        \"estimate_probability_two_random_records_match\": {\n",
    "            \"function\": \"estimate_probability_two_random_records_match\",\n",
    "            \"arguments\": {\n",
    "                \"deterministic_matching_rules\": \"\"\"\n",
    "                    l.name_unusual_tokens = r.name_unusual_tokens\n",
    "                \"\"\",\n",
    "                \"recall\": 0.7,\n",
    "            },\n",
    "        },\n",
    "        \"estimate_u_using_random_sampling\": {\n",
    "            \"function\": \"estimate_u_using_random_sampling\",\n",
    "            \"arguments\": {\"max_pairs\": 1e6},\n",
    "        },\n",
    "        \"estimate_parameters_using_expectation_maximisation\": {\n",
    "            \"function\": \"estimate_parameters_using_expectation_maximisation\",\n",
    "            \"arguments\": {\n",
    "                \"blocking_rule\": \"\"\"\n",
    "                    l.name_unusual_tokens = r.name_unusual_tokens\n",
    "                \"\"\"\n",
    "            },\n",
    "        },\n",
    "    }\n",
    ")"
   ]
  }
 ],
 "metadata": {
  "kernelspec": {
   "display_name": "company_matching",
   "language": "python",
   "name": "company_matching"
  },
  "language_info": {
   "codemirror_mode": {
    "name": "ipython",
    "version": 3
   },
   "file_extension": ".py",
   "mimetype": "text/x-python",
   "name": "python",
   "nbconvert_exporter": "python",
   "pygments_lexer": "ipython3",
   "version": "3.9.16"
  }
 },
 "nbformat": 4,
 "nbformat_minor": 5
}
