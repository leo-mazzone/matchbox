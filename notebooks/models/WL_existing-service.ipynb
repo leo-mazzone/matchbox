{
 "cells": [
  {
   "cell_type": "code",
   "execution_count": 1,
   "id": "0b389e80-89a0-4544-b508-b0b07ee9070c",
   "metadata": {},
   "outputs": [],
   "source": [
    "%load_ext autoreload\n",
    "%autoreload 2\n",
    "from IPython.core.interactiveshell import InteractiveShell\n",
    "from IPython.display import IFrame\n",
    "InteractiveShell.ast_node_interactivity = \"all\""
   ]
  },
  {
   "cell_type": "markdown",
   "id": "f6c04d59-c6d9-4a28-9fe1-60d106239b9f",
   "metadata": {},
   "source": [
    "# Existing company matching service\n",
    "\n",
    "I needed to be able to evaluate against predictions made by the current company matching service that:\n",
    "\n",
    "* Only made one match per record\n",
    "* Only joined the most likely match for a record\n",
    "* Had no bias to which table was being joined onto the other\n",
    "* Reflected the \"truest\" belief of the service (using postcode)\n",
    "\n",
    "What follows is an EDA done in SQL, which I'm pulling over with very few checks just so the code doesn't get lost.\n",
    "\n",
    "I'm focusing on [Companies House company data](https://data.trade.gov.uk/datasets/a777d199-53a4-4d0a-bbbb-1559a86f8c4c#companies-house-company-data) and [UK exporters](https://data.trade.gov.uk/datasets/76fb2db3-ab32-4af8-ae87-d41d36b31265#uk-exporters).\n",
    "\n",
    "`make dims` had been run to produce the dimension tables."
   ]
  },
  {
   "cell_type": "code",
   "execution_count": 5,
   "id": "9e8ea063-717f-46a2-aa55-a8caab5bbd26",
   "metadata": {},
   "outputs": [
    {
     "data": {
      "text/plain": [
       "True"
      ]
     },
     "execution_count": 5,
     "metadata": {},
     "output_type": "execute_result"
    }
   ],
   "source": [
    "from cmf.data import utils as du\n",
    "from dotenv import load_dotenv, find_dotenv\n",
    "import os\n",
    "\n",
    "dotenv_path = find_dotenv()\n",
    "load_dotenv(dotenv_path)"
   ]
  },
  {
   "cell_type": "markdown",
   "id": "1e3727a5-28da-46ae-a149-85e1afdec105",
   "metadata": {},
   "source": [
    "## Dim table sizes"
   ]
  },
  {
   "cell_type": "code",
   "execution_count": 6,
   "id": "4bc10f51-6107-4975-9f6e-944e1112c8de",
   "metadata": {},
   "outputs": [
    {
     "data": {
      "text/html": [
       "<div>\n",
       "<style scoped>\n",
       "    .dataframe tbody tr th:only-of-type {\n",
       "        vertical-align: middle;\n",
       "    }\n",
       "\n",
       "    .dataframe tbody tr th {\n",
       "        vertical-align: top;\n",
       "    }\n",
       "\n",
       "    .dataframe thead th {\n",
       "        text-align: right;\n",
       "    }\n",
       "</style>\n",
       "<table border=\"1\" class=\"dataframe\">\n",
       "  <thead>\n",
       "    <tr style=\"text-align: right;\">\n",
       "      <th></th>\n",
       "      <th>count</th>\n",
       "    </tr>\n",
       "  </thead>\n",
       "  <tbody>\n",
       "    <tr>\n",
       "      <th>0</th>\n",
       "      <td>254243</td>\n",
       "    </tr>\n",
       "  </tbody>\n",
       "</table>\n",
       "</div>"
      ],
      "text/plain": [
       "    count\n",
       "0  254243"
      ]
     },
     "execution_count": 6,
     "metadata": {},
     "output_type": "execute_result"
    }
   ],
   "source": [
    "du.query(f\"\"\"\n",
    "    select\n",
    "        count(*)\n",
    "    from\n",
    "        {os.getenv(\"SCHEMA\")}.\"hmrc_trade__exporters__dim\";\n",
    "\"\"\")"
   ]
  },
  {
   "cell_type": "code",
   "execution_count": 7,
   "id": "6366df93-7433-4f41-a079-0e0f2645a6d4",
   "metadata": {},
   "outputs": [
    {
     "data": {
      "text/html": [
       "<div>\n",
       "<style scoped>\n",
       "    .dataframe tbody tr th:only-of-type {\n",
       "        vertical-align: middle;\n",
       "    }\n",
       "\n",
       "    .dataframe tbody tr th {\n",
       "        vertical-align: top;\n",
       "    }\n",
       "\n",
       "    .dataframe thead th {\n",
       "        text-align: right;\n",
       "    }\n",
       "</style>\n",
       "<table border=\"1\" class=\"dataframe\">\n",
       "  <thead>\n",
       "    <tr style=\"text-align: right;\">\n",
       "      <th></th>\n",
       "      <th>count</th>\n",
       "    </tr>\n",
       "  </thead>\n",
       "  <tbody>\n",
       "    <tr>\n",
       "      <th>0</th>\n",
       "      <td>5381225</td>\n",
       "    </tr>\n",
       "  </tbody>\n",
       "</table>\n",
       "</div>"
      ],
      "text/plain": [
       "     count\n",
       "0  5381225"
      ]
     },
     "execution_count": 7,
     "metadata": {},
     "output_type": "execute_result"
    }
   ],
   "source": [
    "du.query(f\"\"\"\n",
    "    select\n",
    "        count(*)\n",
    "    from\n",
    "        \"companieshouse\".\"companies\";\n",
    "\"\"\")"
   ]
  },
  {
   "cell_type": "markdown",
   "id": "28fbf12d-867c-48ee-9ae7-6a629f00b7c4",
   "metadata": {},
   "source": [
    "## Lead Gen Experiments match method"
   ]
  },
  {
   "cell_type": "markdown",
   "id": "76c1f26a-c0b3-46f6-871e-82bad88f29b4",
   "metadata": {},
   "source": [
    "### Left: companies house, right: exporters"
   ]
  },
  {
   "cell_type": "code",
   "execution_count": null,
   "id": "99cf6dd5-f72e-44cb-8fcb-1fa81aa2df1d",
   "metadata": {},
   "outputs": [],
   "source": [
    "du.query_nonreturn(f\"\"\"\n",
    "    drop table {os.getenv(\"SCHEMA\")}.test_match_lr;\n",
    "    create table {os.getenv(\"SCHEMA\")}.test_match_lr as\n",
    "        select distinct on (w_match.id, c_match.match_id)\n",
    "            w_match.id as export_id,\n",
    "            w_match.match_id as export_match_id,\n",
    "            w_match.similarity as export_match_similarity,\n",
    "            -- Ignore postcode, sum similarity\n",
    "            (select sum(co::int) from unnest(regexp_split_to_array(left(w_match.similarity, 6), '')) as co) as match_sum_similarity,\n",
    "            c_match.id as crn,\n",
    "            c_match.match_id as company_match_id,\n",
    "            c_match.similarity as company_match_similarity,\n",
    "            -- Ignore postcode, sum similarity\n",
    "            (select sum(co::int) from unnest(regexp_split_to_array(left(c_match.similarity, 6), '')) as co) as ch_sum_similarity\n",
    "        from\n",
    "            companieshouse.companies__match_ids w_match\n",
    "        left join  \n",
    "            hmrc.trade__exporters__match_ids c_match on\n",
    "            w_match.match_id = c_match.match_id\n",
    "        order by\n",
    "            -- Order by similarity, take the top (see select statement)\n",
    "            w_match.id, \n",
    "            c_match.match_id,\n",
    "            (select sum(co::int) from unnest(regexp_split_to_array(left(c_match.similarity, 6), '')) as co) desc;\n",
    "    \"\"\")"
   ]
  },
  {
   "cell_type": "code",
   "execution_count": 12,
   "id": "a8e32a0b-778b-4803-87eb-a0196bd188cf",
   "metadata": {},
   "outputs": [
    {
     "data": {
      "text/html": [
       "<div>\n",
       "<style scoped>\n",
       "    .dataframe tbody tr th:only-of-type {\n",
       "        vertical-align: middle;\n",
       "    }\n",
       "\n",
       "    .dataframe tbody tr th {\n",
       "        vertical-align: top;\n",
       "    }\n",
       "\n",
       "    .dataframe thead th {\n",
       "        text-align: right;\n",
       "    }\n",
       "</style>\n",
       "<table border=\"1\" class=\"dataframe\">\n",
       "  <thead>\n",
       "    <tr style=\"text-align: right;\">\n",
       "      <th></th>\n",
       "      <th>count</th>\n",
       "    </tr>\n",
       "  </thead>\n",
       "  <tbody>\n",
       "    <tr>\n",
       "      <th>0</th>\n",
       "      <td>5336353</td>\n",
       "    </tr>\n",
       "  </tbody>\n",
       "</table>\n",
       "</div>"
      ],
      "text/plain": [
       "     count\n",
       "0  5336353"
      ]
     },
     "execution_count": 12,
     "metadata": {},
     "output_type": "execute_result"
    }
   ],
   "source": [
    "du.query(f\"\"\"\n",
    "    select\n",
    "        count(*)\n",
    "    from\n",
    "        {os.getenv(\"SCHEMA\")}.test_match_lr;\n",
    "\"\"\")"
   ]
  },
  {
   "cell_type": "code",
   "execution_count": 13,
   "id": "2d166b6e-7644-4ef7-82fe-5b3df9fe7286",
   "metadata": {},
   "outputs": [
    {
     "data": {
      "text/html": [
       "<div>\n",
       "<style scoped>\n",
       "    .dataframe tbody tr th:only-of-type {\n",
       "        vertical-align: middle;\n",
       "    }\n",
       "\n",
       "    .dataframe tbody tr th {\n",
       "        vertical-align: top;\n",
       "    }\n",
       "\n",
       "    .dataframe thead th {\n",
       "        text-align: right;\n",
       "    }\n",
       "</style>\n",
       "<table border=\"1\" class=\"dataframe\">\n",
       "  <thead>\n",
       "    <tr style=\"text-align: right;\">\n",
       "      <th></th>\n",
       "      <th>count</th>\n",
       "    </tr>\n",
       "  </thead>\n",
       "  <tbody>\n",
       "    <tr>\n",
       "      <th>0</th>\n",
       "      <td>69146</td>\n",
       "    </tr>\n",
       "  </tbody>\n",
       "</table>\n",
       "</div>"
      ],
      "text/plain": [
       "   count\n",
       "0  69146"
      ]
     },
     "execution_count": 13,
     "metadata": {},
     "output_type": "execute_result"
    }
   ],
   "source": [
    "du.query(f\"\"\"\n",
    "    select\n",
    "        count(*)\n",
    "    from\n",
    "        {os.getenv(\"SCHEMA\")}.test_match_lr m\n",
    "    inner join\n",
    "        {os.getenv(\"SCHEMA\")}.\"hmrc_trade__exporters__dim\" d on\n",
    "        d.id::text = m.crn;\n",
    "\"\"\")"
   ]
  },
  {
   "cell_type": "markdown",
   "id": "8b8bb671-8bb9-4831-ba92-dae947dd2658",
   "metadata": {},
   "source": [
    "(of 254243)"
   ]
  },
  {
   "cell_type": "code",
   "execution_count": 14,
   "id": "a458b686-5ca9-4525-84a9-59d86939afc9",
   "metadata": {},
   "outputs": [
    {
     "data": {
      "text/html": [
       "<div>\n",
       "<style scoped>\n",
       "    .dataframe tbody tr th:only-of-type {\n",
       "        vertical-align: middle;\n",
       "    }\n",
       "\n",
       "    .dataframe tbody tr th {\n",
       "        vertical-align: top;\n",
       "    }\n",
       "\n",
       "    .dataframe thead th {\n",
       "        text-align: right;\n",
       "    }\n",
       "</style>\n",
       "<table border=\"1\" class=\"dataframe\">\n",
       "  <thead>\n",
       "    <tr style=\"text-align: right;\">\n",
       "      <th></th>\n",
       "      <th>count</th>\n",
       "    </tr>\n",
       "  </thead>\n",
       "  <tbody>\n",
       "    <tr>\n",
       "      <th>0</th>\n",
       "      <td>5157812</td>\n",
       "    </tr>\n",
       "  </tbody>\n",
       "</table>\n",
       "</div>"
      ],
      "text/plain": [
       "     count\n",
       "0  5157812"
      ]
     },
     "execution_count": 14,
     "metadata": {},
     "output_type": "execute_result"
    }
   ],
   "source": [
    "du.query(f\"\"\"\n",
    "    select\n",
    "        count(*)\n",
    "    from\n",
    "        {os.getenv(\"SCHEMA\")}.test_match_lr m\n",
    "    inner join\n",
    "        \"companieshouse\".\"companies\" d on\n",
    "        d.id = m.export_id;\n",
    "\"\"\")"
   ]
  },
  {
   "cell_type": "markdown",
   "id": "c3eae059-bef1-43d5-ac4b-4a3e71f25027",
   "metadata": {},
   "source": [
    "(of 5359637)"
   ]
  },
  {
   "cell_type": "code",
   "execution_count": 15,
   "id": "e6b723a8-40be-485a-8feb-a6d37c8f05be",
   "metadata": {},
   "outputs": [
    {
     "data": {
      "text/html": [
       "<div>\n",
       "<style scoped>\n",
       "    .dataframe tbody tr th:only-of-type {\n",
       "        vertical-align: middle;\n",
       "    }\n",
       "\n",
       "    .dataframe tbody tr th {\n",
       "        vertical-align: top;\n",
       "    }\n",
       "\n",
       "    .dataframe thead th {\n",
       "        text-align: right;\n",
       "    }\n",
       "</style>\n",
       "<table border=\"1\" class=\"dataframe\">\n",
       "  <thead>\n",
       "    <tr style=\"text-align: right;\">\n",
       "      <th></th>\n",
       "      <th>count</th>\n",
       "    </tr>\n",
       "  </thead>\n",
       "  <tbody>\n",
       "    <tr>\n",
       "      <th>0</th>\n",
       "      <td>68500</td>\n",
       "    </tr>\n",
       "  </tbody>\n",
       "</table>\n",
       "</div>"
      ],
      "text/plain": [
       "   count\n",
       "0  68500"
      ]
     },
     "execution_count": 15,
     "metadata": {},
     "output_type": "execute_result"
    }
   ],
   "source": [
    "du.query(f\"\"\"\n",
    "    select\n",
    "        count(*)\n",
    "    from\n",
    "        {os.getenv(\"SCHEMA\")}.test_match_lr lkp\n",
    "    left join\n",
    "        {os.getenv(\"SCHEMA\")}.\"hmrc_trade__exporters__dim\" l on\n",
    "        l.id::text = lkp.crn\n",
    "    left join\n",
    "        \"companieshouse\".\"companies\" r on\n",
    "        r.id = lkp.export_id\n",
    "    where\n",
    "        l.id is not null and r.id is not null\n",
    "\"\"\")"
   ]
  },
  {
   "cell_type": "markdown",
   "id": "62a96e77-1c76-430a-82d6-c76639adf882",
   "metadata": {},
   "source": [
    "### Left: exporters, right: companies house"
   ]
  },
  {
   "cell_type": "code",
   "execution_count": null,
   "id": "907f8af9-6152-4a41-b60e-88d7f2f0986f",
   "metadata": {},
   "outputs": [],
   "source": [
    "du.query_nonreturn(f\"\"\"\n",
    "    drop table {os.getenv(\"SCHEMA\")}.test_match_rl;\n",
    "    create table {os.getenv(\"SCHEMA\")}.test_match_rl as\n",
    "        select distinct on (w_match.id, c_match.match_id)\n",
    "            w_match.id as export_id,\n",
    "            w_match.match_id as export_match_id,\n",
    "            w_match.similarity as export_match_similarity,\n",
    "            -- Ignore postcode, sum similarity\n",
    "            (select sum(co::int) from unnest(regexp_split_to_array(left(w_match.similarity, 6), '')) as co) as match_sum_similarity,\n",
    "            c_match.id as crn,\n",
    "            c_match.match_id as company_match_id,\n",
    "            c_match.similarity as company_match_similarity,\n",
    "            -- Ignore postcode, sum similarity\n",
    "            (select sum(co::int) from unnest(regexp_split_to_array(left(c_match.similarity, 6), '')) as co) as ch_sum_similarity\n",
    "        from\n",
    "            hmrc.trade__exporters__match_ids w_match\n",
    "        left join  \n",
    "            companieshouse.companies__match_ids c_match on\n",
    "            w_match.match_id = c_match.match_id\n",
    "        order by\n",
    "            -- Order by similarity, take the top (see select statement)\n",
    "            w_match.id, \n",
    "            c_match.match_id,\n",
    "            (select sum(co::int) from unnest(regexp_split_to_array(left(c_match.similarity, 6), '')) as co) desc;\n",
    "    \"\"\")"
   ]
  },
  {
   "cell_type": "code",
   "execution_count": 8,
   "id": "c65bab05-03e3-4808-b37f-19e9c29bf33f",
   "metadata": {},
   "outputs": [
    {
     "data": {
      "text/html": [
       "<div>\n",
       "<style scoped>\n",
       "    .dataframe tbody tr th:only-of-type {\n",
       "        vertical-align: middle;\n",
       "    }\n",
       "\n",
       "    .dataframe tbody tr th {\n",
       "        vertical-align: top;\n",
       "    }\n",
       "\n",
       "    .dataframe thead th {\n",
       "        text-align: right;\n",
       "    }\n",
       "</style>\n",
       "<table border=\"1\" class=\"dataframe\">\n",
       "  <thead>\n",
       "    <tr style=\"text-align: right;\">\n",
       "      <th></th>\n",
       "      <th>count</th>\n",
       "    </tr>\n",
       "  </thead>\n",
       "  <tbody>\n",
       "    <tr>\n",
       "      <th>0</th>\n",
       "      <td>3418561</td>\n",
       "    </tr>\n",
       "  </tbody>\n",
       "</table>\n",
       "</div>"
      ],
      "text/plain": [
       "     count\n",
       "0  3418561"
      ]
     },
     "execution_count": 8,
     "metadata": {},
     "output_type": "execute_result"
    }
   ],
   "source": [
    "du.query(f\"\"\"\n",
    "    select\n",
    "        count(*)\n",
    "    from\n",
    "        {os.getenv(\"SCHEMA\")}.test_match_rl;\n",
    "\"\"\")"
   ]
  },
  {
   "cell_type": "code",
   "execution_count": 9,
   "id": "c74683e3-c194-4f8a-9825-f7c0e4aac85a",
   "metadata": {},
   "outputs": [
    {
     "data": {
      "text/html": [
       "<div>\n",
       "<style scoped>\n",
       "    .dataframe tbody tr th:only-of-type {\n",
       "        vertical-align: middle;\n",
       "    }\n",
       "\n",
       "    .dataframe tbody tr th {\n",
       "        vertical-align: top;\n",
       "    }\n",
       "\n",
       "    .dataframe thead th {\n",
       "        text-align: right;\n",
       "    }\n",
       "</style>\n",
       "<table border=\"1\" class=\"dataframe\">\n",
       "  <thead>\n",
       "    <tr style=\"text-align: right;\">\n",
       "      <th></th>\n",
       "      <th>count</th>\n",
       "    </tr>\n",
       "  </thead>\n",
       "  <tbody>\n",
       "    <tr>\n",
       "      <th>0</th>\n",
       "      <td>254243</td>\n",
       "    </tr>\n",
       "  </tbody>\n",
       "</table>\n",
       "</div>"
      ],
      "text/plain": [
       "    count\n",
       "0  254243"
      ]
     },
     "execution_count": 9,
     "metadata": {},
     "output_type": "execute_result"
    }
   ],
   "source": [
    "du.query(f\"\"\"\n",
    "    select\n",
    "        count(*)\n",
    "    from\n",
    "        {os.getenv(\"SCHEMA\")}.test_match_rl m\n",
    "    inner join\n",
    "        {os.getenv(\"SCHEMA\")}.\"hmrc_trade__exporters__dim\" d on\n",
    "        d.id::text = m.export_id;\n",
    "\"\"\")"
   ]
  },
  {
   "cell_type": "markdown",
   "id": "bcff3258-f239-45a7-9795-d1e936a25a6f",
   "metadata": {},
   "source": [
    "(of 254243)"
   ]
  },
  {
   "cell_type": "code",
   "execution_count": 10,
   "id": "97658372-6210-42ff-9803-2c437bb22fe3",
   "metadata": {},
   "outputs": [
    {
     "data": {
      "text/html": [
       "<div>\n",
       "<style scoped>\n",
       "    .dataframe tbody tr th:only-of-type {\n",
       "        vertical-align: middle;\n",
       "    }\n",
       "\n",
       "    .dataframe tbody tr th {\n",
       "        vertical-align: top;\n",
       "    }\n",
       "\n",
       "    .dataframe thead th {\n",
       "        text-align: right;\n",
       "    }\n",
       "</style>\n",
       "<table border=\"1\" class=\"dataframe\">\n",
       "  <thead>\n",
       "    <tr style=\"text-align: right;\">\n",
       "      <th></th>\n",
       "      <th>count</th>\n",
       "    </tr>\n",
       "  </thead>\n",
       "  <tbody>\n",
       "    <tr>\n",
       "      <th>0</th>\n",
       "      <td>3273969</td>\n",
       "    </tr>\n",
       "  </tbody>\n",
       "</table>\n",
       "</div>"
      ],
      "text/plain": [
       "     count\n",
       "0  3273969"
      ]
     },
     "execution_count": 10,
     "metadata": {},
     "output_type": "execute_result"
    }
   ],
   "source": [
    "du.query(f\"\"\"\n",
    "    select\n",
    "        count(*)\n",
    "    from\n",
    "        {os.getenv(\"SCHEMA\")}.test_match_rl m\n",
    "    inner join\n",
    "        \"companieshouse\".\"companies\" d on\n",
    "        d.id::text = m.crn;\n",
    "\"\"\")"
   ]
  },
  {
   "cell_type": "markdown",
   "id": "58e560a9-6ad9-4074-83a5-cd17c5b219c6",
   "metadata": {},
   "source": [
    "(of 5359637)"
   ]
  },
  {
   "cell_type": "code",
   "execution_count": 11,
   "id": "28a5fe55-91a6-4870-b42e-122aa2872987",
   "metadata": {},
   "outputs": [
    {
     "data": {
      "text/html": [
       "<div>\n",
       "<style scoped>\n",
       "    .dataframe tbody tr th:only-of-type {\n",
       "        vertical-align: middle;\n",
       "    }\n",
       "\n",
       "    .dataframe tbody tr th {\n",
       "        vertical-align: top;\n",
       "    }\n",
       "\n",
       "    .dataframe thead th {\n",
       "        text-align: right;\n",
       "    }\n",
       "</style>\n",
       "<table border=\"1\" class=\"dataframe\">\n",
       "  <thead>\n",
       "    <tr style=\"text-align: right;\">\n",
       "      <th></th>\n",
       "      <th>count</th>\n",
       "    </tr>\n",
       "  </thead>\n",
       "  <tbody>\n",
       "    <tr>\n",
       "      <th>0</th>\n",
       "      <td>235820</td>\n",
       "    </tr>\n",
       "  </tbody>\n",
       "</table>\n",
       "</div>"
      ],
      "text/plain": [
       "    count\n",
       "0  235820"
      ]
     },
     "execution_count": 11,
     "metadata": {},
     "output_type": "execute_result"
    }
   ],
   "source": [
    "du.query(f\"\"\"\n",
    "    select\n",
    "        count(*)\n",
    "    from\n",
    "        {os.getenv(\"SCHEMA\")}.test_match_rl lkp\n",
    "    left join\n",
    "        {os.getenv(\"SCHEMA\")}.\"hmrc_trade__exporters__dim\" l on\n",
    "        l.id::text = lkp.export_id\n",
    "    left join\n",
    "        \"companieshouse\".\"companies\" r on\n",
    "        r.id = lkp.crn\n",
    "    where\n",
    "        l.id is not null and r.id is not null\n",
    "\"\"\")"
   ]
  },
  {
   "cell_type": "markdown",
   "id": "6d90236b-c7ca-4cea-bbc8-a2312a704b8c",
   "metadata": {},
   "source": [
    "## Why?\n",
    "\n",
    "The algo gets to the top match on the right given what's on the left needs matching.\n",
    "\n",
    "If all your exporters need matching, it can match them all -- even if some weren't its top pick.\n",
    "\n",
    "If all your companies need matching, it can match them all -- even if some weren't its top pick.\n",
    "\n",
    "Our method wants to _succeed_, not _evaluate_.\n",
    "\n",
    "Recommend:\n",
    "\n",
    "1. Write a new algorithm that isn't opinionated\n",
    "2. OR choose the (flawed) one with CH on the left and leave this as something to iterate"
   ]
  },
  {
   "cell_type": "markdown",
   "id": "b33c98b5-e0d4-4072-9307-ad36f9e4b240",
   "metadata": {},
   "source": [
    "## New method\n",
    "\n",
    "* For two dim tables\n",
    "* Connect company matching match tables, including things that weren't matched (full join)\n",
    "* Connect in the two dim tables and show where we've successfully connected (because company matching matches FACT tables)\n",
    "* Only one row is allowed per cluster. We prefer:\n",
    "    * The highest score\n",
    "    * Exists in one of the two dim tables\n",
    "* If company matching scored a match not in our dim table highest, we drop it\n",
    "    * It shouldn't do -- at worst it'll be tied for top match"
   ]
  },
  {
   "cell_type": "code",
   "execution_count": null,
   "id": "45a93960-5fb2-475d-bae5-d55a30226c36",
   "metadata": {},
   "outputs": [],
   "source": [
    "du.query_nonreturn(f\"\"\"\n",
    "    drop table if exists {os.getenv(\"SCHEMA\")}.ch_x_exp_eval;\n",
    "    create table {os.getenv(\"SCHEMA\")}.ch_x_exp_eval as (\n",
    "        select distinct on (cluster)\n",
    "            cluster,\n",
    "            score,\n",
    "            l_id,\n",
    "            l_hit,\n",
    "            r_id,\n",
    "            r_hit\n",
    "        from (\n",
    "            select\n",
    "                l_lkp.id as l_id,\n",
    "                case \n",
    "                    when l.id is not null\n",
    "                    then true\n",
    "                    else false\n",
    "                end as l_hit,\n",
    "                r_lkp.id as r_id,\n",
    "                case \n",
    "                    when r.id is not null\n",
    "                    then true\n",
    "                    else false\n",
    "                end as r_hit,\n",
    "                l_lkp.match_id as cluster,\n",
    "                coalesce(\n",
    "                    (\n",
    "                        char_length(replace(l_lkp.similarity, '0', ''))\n",
    "                        +\n",
    "                        char_length(replace(r_lkp.similarity, '0', ''))\n",
    "                    ),\n",
    "                    0\n",
    "                ) as score\n",
    "            from\n",
    "                \"hmrc\".\"trade__exporters__match_ids\" l_lkp\n",
    "            full join\n",
    "                companieshouse.companies__match_ids r_lkp on\n",
    "                l_lkp.match_id = r_lkp.match_id\n",
    "            left join\n",
    "                _user_eaf4fd9a.\"hmrc_trade__exporters__dim\" l on\n",
    "                l.id::text = l_lkp.id\n",
    "            left join\n",
    "                \"companieshouse\".\"companies\" r on\n",
    "                r.id = r_lkp.id\t\n",
    "        ) raw_matches\n",
    "        order by\n",
    "            cluster desc,\n",
    "            score desc,\n",
    "            l_hit desc,\n",
    "            r_hit desc\n",
    "    );\n",
    "    \"\"\")"
   ]
  },
  {
   "cell_type": "code",
   "execution_count": 17,
   "id": "0b35623b-59cb-4685-96cf-52e84df829cd",
   "metadata": {},
   "outputs": [
    {
     "data": {
      "text/html": [
       "<div>\n",
       "<style scoped>\n",
       "    .dataframe tbody tr th:only-of-type {\n",
       "        vertical-align: middle;\n",
       "    }\n",
       "\n",
       "    .dataframe tbody tr th {\n",
       "        vertical-align: top;\n",
       "    }\n",
       "\n",
       "    .dataframe thead th {\n",
       "        text-align: right;\n",
       "    }\n",
       "</style>\n",
       "<table border=\"1\" class=\"dataframe\">\n",
       "  <thead>\n",
       "    <tr style=\"text-align: right;\">\n",
       "      <th></th>\n",
       "      <th>count</th>\n",
       "    </tr>\n",
       "  </thead>\n",
       "  <tbody>\n",
       "    <tr>\n",
       "      <th>0</th>\n",
       "      <td>188154</td>\n",
       "    </tr>\n",
       "  </tbody>\n",
       "</table>\n",
       "</div>"
      ],
      "text/plain": [
       "    count\n",
       "0  188154"
      ]
     },
     "execution_count": 17,
     "metadata": {},
     "output_type": "execute_result"
    }
   ],
   "source": [
    "# all company matching entries from dim tables\n",
    "\n",
    "du.query(f\"\"\"\n",
    "    select\n",
    "        count(*)\n",
    "    from\n",
    "        {os.getenv(\"SCHEMA\")}.ch_x_exp_eval\n",
    "    where\n",
    "        l_hit = true or r_hit = true\n",
    "\"\"\")"
   ]
  },
  {
   "cell_type": "code",
   "execution_count": 18,
   "id": "5d3e769a-6fba-4ec6-b45a-4478574ce680",
   "metadata": {},
   "outputs": [
    {
     "data": {
      "text/html": [
       "<div>\n",
       "<style scoped>\n",
       "    .dataframe tbody tr th:only-of-type {\n",
       "        vertical-align: middle;\n",
       "    }\n",
       "\n",
       "    .dataframe tbody tr th {\n",
       "        vertical-align: top;\n",
       "    }\n",
       "\n",
       "    .dataframe thead th {\n",
       "        text-align: right;\n",
       "    }\n",
       "</style>\n",
       "<table border=\"1\" class=\"dataframe\">\n",
       "  <thead>\n",
       "    <tr style=\"text-align: right;\">\n",
       "      <th></th>\n",
       "      <th>count</th>\n",
       "    </tr>\n",
       "  </thead>\n",
       "  <tbody>\n",
       "    <tr>\n",
       "      <th>0</th>\n",
       "      <td>188154</td>\n",
       "    </tr>\n",
       "  </tbody>\n",
       "</table>\n",
       "</div>"
      ],
      "text/plain": [
       "    count\n",
       "0  188154"
      ]
     },
     "execution_count": 18,
     "metadata": {},
     "output_type": "execute_result"
    }
   ],
   "source": [
    "# all company matching entries from export dim table \n",
    "\n",
    "du.query(f\"\"\"\n",
    "    select\n",
    "        count(*)\n",
    "    from\n",
    "        {os.getenv(\"SCHEMA\")}.ch_x_exp_eval\n",
    "    where\n",
    "        l_hit = true\n",
    "\"\"\")"
   ]
  },
  {
   "cell_type": "markdown",
   "id": "b8eb36fc-36be-42ff-a1e0-ddd038e632a1",
   "metadata": {},
   "source": [
    "(of 254243)"
   ]
  },
  {
   "cell_type": "code",
   "execution_count": 19,
   "id": "c3e75e75-5b26-4bd8-98ba-5ed5673f6237",
   "metadata": {},
   "outputs": [
    {
     "data": {
      "text/html": [
       "<div>\n",
       "<style scoped>\n",
       "    .dataframe tbody tr th:only-of-type {\n",
       "        vertical-align: middle;\n",
       "    }\n",
       "\n",
       "    .dataframe tbody tr th {\n",
       "        vertical-align: top;\n",
       "    }\n",
       "\n",
       "    .dataframe thead th {\n",
       "        text-align: right;\n",
       "    }\n",
       "</style>\n",
       "<table border=\"1\" class=\"dataframe\">\n",
       "  <thead>\n",
       "    <tr style=\"text-align: right;\">\n",
       "      <th></th>\n",
       "      <th>count</th>\n",
       "    </tr>\n",
       "  </thead>\n",
       "  <tbody>\n",
       "    <tr>\n",
       "      <th>0</th>\n",
       "      <td>175468</td>\n",
       "    </tr>\n",
       "  </tbody>\n",
       "</table>\n",
       "</div>"
      ],
      "text/plain": [
       "    count\n",
       "0  175468"
      ]
     },
     "execution_count": 19,
     "metadata": {},
     "output_type": "execute_result"
    }
   ],
   "source": [
    "# all company matching entries from company dim table\n",
    "\n",
    "du.query(f\"\"\"\n",
    "    select\n",
    "        count(*)\n",
    "    from\n",
    "        {os.getenv(\"SCHEMA\")}.ch_x_exp_eval\n",
    "    where\n",
    "        r_hit = true\n",
    "\"\"\")"
   ]
  },
  {
   "cell_type": "markdown",
   "id": "ec16ca86-e028-4ded-996d-c3c951a9cffc",
   "metadata": {},
   "source": [
    "(of 5359637)"
   ]
  },
  {
   "cell_type": "code",
   "execution_count": 20,
   "id": "420de95c-c96a-4098-a80f-ad272c9769f5",
   "metadata": {},
   "outputs": [
    {
     "data": {
      "text/html": [
       "<div>\n",
       "<style scoped>\n",
       "    .dataframe tbody tr th:only-of-type {\n",
       "        vertical-align: middle;\n",
       "    }\n",
       "\n",
       "    .dataframe tbody tr th {\n",
       "        vertical-align: top;\n",
       "    }\n",
       "\n",
       "    .dataframe thead th {\n",
       "        text-align: right;\n",
       "    }\n",
       "</style>\n",
       "<table border=\"1\" class=\"dataframe\">\n",
       "  <thead>\n",
       "    <tr style=\"text-align: right;\">\n",
       "      <th></th>\n",
       "      <th>count</th>\n",
       "    </tr>\n",
       "  </thead>\n",
       "  <tbody>\n",
       "    <tr>\n",
       "      <th>0</th>\n",
       "      <td>175468</td>\n",
       "    </tr>\n",
       "  </tbody>\n",
       "</table>\n",
       "</div>"
      ],
      "text/plain": [
       "    count\n",
       "0  175468"
      ]
     },
     "execution_count": 20,
     "metadata": {},
     "output_type": "execute_result"
    }
   ],
   "source": [
    "du.query(f\"\"\"\n",
    "    select\n",
    "        count(*)\n",
    "    from\n",
    "        {os.getenv(\"SCHEMA\")}.ch_x_exp_eval\n",
    "    where\n",
    "        l_hit = true and r_hit = true\n",
    "\"\"\")"
   ]
  },
  {
   "cell_type": "markdown",
   "id": "d01da233-553a-40a0-974a-e43a272c50ff",
   "metadata": {},
   "source": [
    "## How do the approaches differ?\n",
    "\n",
    "I set up three evaluation tables to compare and contrast.\n",
    "\n",
    "* v1 is original method, CH on the left\n",
    "* v2 is original method, exporters on the left\n",
    "* v3 is the new method"
   ]
  },
  {
   "cell_type": "code",
   "execution_count": null,
   "id": "36799a40-28d7-4045-a991-64be3eeebbd5",
   "metadata": {},
   "outputs": [],
   "source": [
    "du.query_nonreturn(f\"\"\"\n",
    "    drop table if exists {os.getenv(\"SCHEMA\")}.match_test_v1;\n",
    "    create table {os.getenv(\"SCHEMA\")}.match_test_v1 as (\n",
    "        select\n",
    "            export_id as crn,\n",
    "            crn as export_id,\n",
    "            match_sum_similarity,\n",
    "            ch_sum_similarity,\n",
    "            lkp.export_match_id as cluster,\n",
    "            r.company_name as ch_name,\n",
    "            r.postcode as ch_pc,\n",
    "            l.company_name as exp_name,\n",
    "            l.postcode as exp_pc\n",
    "        from\n",
    "            {os.getenv(\"SCHEMA\")}.test_match_lr lkp\n",
    "        left join\n",
    "            {os.getenv(\"SCHEMA\")}.\"hmrc_trade__exporters__dim\" l on\n",
    "            l.id::text = lkp.crn\n",
    "        left join\n",
    "            \"companieshouse\".\"companies\" r on\n",
    "            r.id = lkp.export_id\n",
    "        where\n",
    "            l.id is not null \n",
    "            and r.id is not null\n",
    "    );\n",
    "\"\"\")"
   ]
  },
  {
   "cell_type": "code",
   "execution_count": null,
   "id": "04373a34-f7b0-404c-a6bd-9d481aef0de8",
   "metadata": {},
   "outputs": [],
   "source": [
    "du.query_nonreturn(f\"\"\"\n",
    "    drop table if exists {os.getenv(\"SCHEMA\")}.match_test_v2;\n",
    "    create table {os.getenv(\"SCHEMA\")}.match_test_v2 as (\n",
    "        select\n",
    "            export_id,\n",
    "            crn,\n",
    "            match_sum_similarity,\n",
    "            ch_sum_similarity,\n",
    "            lkp.export_match_id as cluster,\n",
    "            r.company_name as ch_name,\n",
    "            r.postcode as ch_pc,\n",
    "            l.company_name as exp_name,\n",
    "            l.postcode as exp_pc\n",
    "        from\n",
    "            {os.getenv(\"SCHEMA\")}.test_match_rl lkp\n",
    "        left join\n",
    "            {os.getenv(\"SCHEMA\")}.\"hmrc_trade__exporters__dim\" l on\n",
    "            l.id::text = lkp.export_id\n",
    "        left join\n",
    "            \"companieshouse\".\"companies\" r on\n",
    "            r.id = lkp.crn\n",
    "        where\n",
    "            l.id is not null \n",
    "            and r.id is not null\n",
    "    );\n",
    "\"\"\")"
   ]
  },
  {
   "cell_type": "code",
   "execution_count": null,
   "id": "d772b69f-93d9-48de-806e-320515de0222",
   "metadata": {},
   "outputs": [],
   "source": [
    "du.query_nonreturn(f\"\"\"\n",
    "    drop table if exists {os.getenv(\"SCHEMA\")}.match_test_v3;\n",
    "    create table {os.getenv(\"SCHEMA\")}.match_test_v3 as (\n",
    "        select\n",
    "            lkp.*,\n",
    "            r.company_name as ch_name,\n",
    "            r.postcode as ch_pc,\n",
    "            l.company_name as exp_name,\n",
    "            l.postcode as exp_pc\n",
    "        from\n",
    "            {os.getenv(\"SCHEMA\")}.ch_x_exp_eval lkp\n",
    "        left join\n",
    "            {os.getenv(\"SCHEMA\")}.\"hmrc_trade__exporters__dim\" l on\n",
    "            l.id::text = lkp.l_id\n",
    "        left join\n",
    "            \"companieshouse\".\"companies\" r on\n",
    "            r.id = lkp.r_id\t\n",
    "        where\n",
    "            l_hit = true \n",
    "            and r_hit = true\n",
    "    );\n",
    "\"\"\")"
   ]
  },
  {
   "cell_type": "markdown",
   "id": "abf51672-e9a8-4e4c-bbbd-39b859c877b5",
   "metadata": {},
   "source": [
    "### Agree"
   ]
  },
  {
   "cell_type": "code",
   "execution_count": 21,
   "id": "0003a9cc-5537-446d-b593-b0e5e00e5302",
   "metadata": {},
   "outputs": [
    {
     "data": {
      "text/html": [
       "<div>\n",
       "<style scoped>\n",
       "    .dataframe tbody tr th:only-of-type {\n",
       "        vertical-align: middle;\n",
       "    }\n",
       "\n",
       "    .dataframe tbody tr th {\n",
       "        vertical-align: top;\n",
       "    }\n",
       "\n",
       "    .dataframe thead th {\n",
       "        text-align: right;\n",
       "    }\n",
       "</style>\n",
       "<table border=\"1\" class=\"dataframe\">\n",
       "  <thead>\n",
       "    <tr style=\"text-align: right;\">\n",
       "      <th></th>\n",
       "      <th>count</th>\n",
       "    </tr>\n",
       "  </thead>\n",
       "  <tbody>\n",
       "    <tr>\n",
       "      <th>0</th>\n",
       "      <td>64075</td>\n",
       "    </tr>\n",
       "  </tbody>\n",
       "</table>\n",
       "</div>"
      ],
      "text/plain": [
       "   count\n",
       "0  64075"
      ]
     },
     "execution_count": 21,
     "metadata": {},
     "output_type": "execute_result"
    }
   ],
   "source": [
    "du.query(f\"\"\"\n",
    "    select \n",
    "        count(*)\n",
    "    from \n",
    "        {os.getenv(\"SCHEMA\")}.match_test_v1 v1\n",
    "    inner join\n",
    "        {os.getenv(\"SCHEMA\")}.match_test_v2 v2 on\n",
    "        v1.export_id = v2.export_id\n",
    "        and v1.crn = v2.crn\n",
    "    inner join\n",
    "        {os.getenv(\"SCHEMA\")}.match_test_v3 v3 on\n",
    "        v1.export_id = v3.l_id\n",
    "        and v1.crn = v3.r_id;\n",
    "\"\"\")"
   ]
  },
  {
   "cell_type": "markdown",
   "id": "a51c5a04-5bf1-4d16-82c8-0279eb7db59d",
   "metadata": {},
   "source": [
    "### Who does it better? v3 vs v1"
   ]
  },
  {
   "cell_type": "code",
   "execution_count": 22,
   "id": "51cfd745-7a83-4aac-ad55-dd60494dae40",
   "metadata": {},
   "outputs": [
    {
     "data": {
      "text/html": [
       "<div>\n",
       "<style scoped>\n",
       "    .dataframe tbody tr th:only-of-type {\n",
       "        vertical-align: middle;\n",
       "    }\n",
       "\n",
       "    .dataframe tbody tr th {\n",
       "        vertical-align: top;\n",
       "    }\n",
       "\n",
       "    .dataframe thead th {\n",
       "        text-align: right;\n",
       "    }\n",
       "</style>\n",
       "<table border=\"1\" class=\"dataframe\">\n",
       "  <thead>\n",
       "    <tr style=\"text-align: right;\">\n",
       "      <th></th>\n",
       "      <th>count</th>\n",
       "    </tr>\n",
       "  </thead>\n",
       "  <tbody>\n",
       "    <tr>\n",
       "      <th>0</th>\n",
       "      <td>111393</td>\n",
       "    </tr>\n",
       "  </tbody>\n",
       "</table>\n",
       "</div>"
      ],
      "text/plain": [
       "    count\n",
       "0  111393"
      ]
     },
     "execution_count": 22,
     "metadata": {},
     "output_type": "execute_result"
    }
   ],
   "source": [
    "# disagree: in v3, not v1\n",
    "\n",
    "du.query(f\"\"\"\n",
    "    select\n",
    "        count(*)\n",
    "        --*\n",
    "    from\n",
    "        {os.getenv(\"SCHEMA\")}.match_test_v3 v3\n",
    "    where not exists (\n",
    "        select\n",
    "            export_id,\n",
    "            crn\n",
    "        from\n",
    "            {os.getenv(\"SCHEMA\")}.match_test_v1 v1\n",
    "        where\n",
    "            v1.crn = v3.r_id\n",
    "            and v1.export_id = v3.l_id\n",
    "    );\n",
    "\"\"\")"
   ]
  },
  {
   "cell_type": "markdown",
   "id": "939ad265-9bc6-4f8c-9e9a-c3fd9dc8a5f6",
   "metadata": {},
   "source": [
    "Does this accurately represent the belief of the matching service?\n",
    "\n",
    "* e\"2256473\" to ch\"03042765\" via 3369780 -- appropriate. Two postcode-only exp matches, either as likely as the other. Including PC is the diff\n",
    "* e\"2407592\" to ch\"11911888\" via 1013097 -- appropriate. Two equal matches, either as likely as the other. Order probably the diff\n",
    "* e\"2645274\" to ch\"01660807\" via 2344457 -- appropriate. Two postcode-only exp matches, either as likely as the other. Including PC is the diff"
   ]
  },
  {
   "cell_type": "code",
   "execution_count": 23,
   "id": "a2cf2199-9e65-4492-a2d4-272a33bd8273",
   "metadata": {},
   "outputs": [
    {
     "data": {
      "text/html": [
       "<div>\n",
       "<style scoped>\n",
       "    .dataframe tbody tr th:only-of-type {\n",
       "        vertical-align: middle;\n",
       "    }\n",
       "\n",
       "    .dataframe tbody tr th {\n",
       "        vertical-align: top;\n",
       "    }\n",
       "\n",
       "    .dataframe thead th {\n",
       "        text-align: right;\n",
       "    }\n",
       "</style>\n",
       "<table border=\"1\" class=\"dataframe\">\n",
       "  <thead>\n",
       "    <tr style=\"text-align: right;\">\n",
       "      <th></th>\n",
       "      <th>count</th>\n",
       "    </tr>\n",
       "  </thead>\n",
       "  <tbody>\n",
       "    <tr>\n",
       "      <th>0</th>\n",
       "      <td>4645</td>\n",
       "    </tr>\n",
       "  </tbody>\n",
       "</table>\n",
       "</div>"
      ],
      "text/plain": [
       "   count\n",
       "0   4645"
      ]
     },
     "execution_count": 23,
     "metadata": {},
     "output_type": "execute_result"
    }
   ],
   "source": [
    "# disagree: in v1, not v3\n",
    "\n",
    "du.query(f\"\"\"\n",
    "    select\n",
    "        count(*)\n",
    "        --*\n",
    "    from\n",
    "        {os.getenv(\"SCHEMA\")}.match_test_v1 v1\n",
    "    where not exists (\n",
    "        select\n",
    "            l_id,\n",
    "            r_id\n",
    "        from\n",
    "\n",
    "            {os.getenv(\"SCHEMA\")}.match_test_v3 v3\n",
    "        where\n",
    "            v1.crn = v3.r_id\n",
    "            and v1.export_id = v3.l_id\n",
    "    )\n",
    "\"\"\")"
   ]
  },
  {
   "cell_type": "markdown",
   "id": "3dcb82ef-7e4f-431e-8a98-4024016e0da6",
   "metadata": {},
   "source": [
    "Does this accurately represent the belief of the matching service?\n",
    "\n",
    "* e\"2925935\" to ch\"03512796\" via 8133 -- Two equal matches, either as likely as the other. Order probably the diff\n",
    "* e\"11630588\" to ch\"387111\" via 3092652 -- Two postcode-only exp matches, either as likely as the other. Including PC is the diff\n",
    "\n",
    "What about CLUSTERS not being matched? That might prove a difference"
   ]
  },
  {
   "cell_type": "code",
   "execution_count": 24,
   "id": "afa0db6a-b464-4fc7-9ae1-216e7aa2213f",
   "metadata": {},
   "outputs": [
    {
     "data": {
      "text/html": [
       "<div>\n",
       "<style scoped>\n",
       "    .dataframe tbody tr th:only-of-type {\n",
       "        vertical-align: middle;\n",
       "    }\n",
       "\n",
       "    .dataframe tbody tr th {\n",
       "        vertical-align: top;\n",
       "    }\n",
       "\n",
       "    .dataframe thead th {\n",
       "        text-align: right;\n",
       "    }\n",
       "</style>\n",
       "<table border=\"1\" class=\"dataframe\">\n",
       "  <thead>\n",
       "    <tr style=\"text-align: right;\">\n",
       "      <th></th>\n",
       "      <th>count</th>\n",
       "    </tr>\n",
       "  </thead>\n",
       "  <tbody>\n",
       "    <tr>\n",
       "      <th>0</th>\n",
       "      <td>322</td>\n",
       "    </tr>\n",
       "  </tbody>\n",
       "</table>\n",
       "</div>"
      ],
      "text/plain": [
       "   count\n",
       "0    322"
      ]
     },
     "execution_count": 24,
     "metadata": {},
     "output_type": "execute_result"
    }
   ],
   "source": [
    "du.query(f\"\"\"\n",
    "    select\n",
    "        count(*)\n",
    "        --*\n",
    "    from\n",
    "        {os.getenv(\"SCHEMA\")}.match_test_v1 v1\n",
    "    where not exists (\n",
    "        select\n",
    "            v3.cluster\n",
    "        from\n",
    "            {os.getenv(\"SCHEMA\")}.match_test_v3 v3\n",
    "        where\n",
    "            v1.cluster = v3.cluster\n",
    "    );\n",
    "\"\"\")"
   ]
  },
  {
   "cell_type": "markdown",
   "id": "9a9a4245-3f2a-4f02-8877-7dabb32c214b",
   "metadata": {},
   "source": [
    "322, all bad matches\n",
    "\n",
    "1564656 doesn't exist in HMRC exporters match ids. How did this happen?"
   ]
  },
  {
   "cell_type": "code",
   "execution_count": 25,
   "id": "f63735c1-c72b-4ce5-8921-2f8d09503080",
   "metadata": {},
   "outputs": [
    {
     "data": {
      "text/html": [
       "<div>\n",
       "<style scoped>\n",
       "    .dataframe tbody tr th:only-of-type {\n",
       "        vertical-align: middle;\n",
       "    }\n",
       "\n",
       "    .dataframe tbody tr th {\n",
       "        vertical-align: top;\n",
       "    }\n",
       "\n",
       "    .dataframe thead th {\n",
       "        text-align: right;\n",
       "    }\n",
       "</style>\n",
       "<table border=\"1\" class=\"dataframe\">\n",
       "  <thead>\n",
       "    <tr style=\"text-align: right;\">\n",
       "      <th></th>\n",
       "      <th>count</th>\n",
       "    </tr>\n",
       "  </thead>\n",
       "  <tbody>\n",
       "    <tr>\n",
       "      <th>0</th>\n",
       "      <td>107070</td>\n",
       "    </tr>\n",
       "  </tbody>\n",
       "</table>\n",
       "</div>"
      ],
      "text/plain": [
       "    count\n",
       "0  107070"
      ]
     },
     "execution_count": 25,
     "metadata": {},
     "output_type": "execute_result"
    }
   ],
   "source": [
    "du.query(f\"\"\"\n",
    "    select\n",
    "        count(*)\n",
    "        --*\n",
    "    from\n",
    "        {os.getenv(\"SCHEMA\")}.match_test_v3 v3\n",
    "    where not exists (\n",
    "        select\n",
    "            v1.cluster\n",
    "        from\n",
    "            {os.getenv(\"SCHEMA\")}.match_test_v1 v1\n",
    "        where\n",
    "            v1.cluster = v3.cluster\n",
    "    );\n",
    "\"\"\")"
   ]
  },
  {
   "cell_type": "markdown",
   "id": "2d016bac-b0bc-43fa-b790-237f877d89fd",
   "metadata": {},
   "source": [
    "100k rows, mostly looking solid\n",
    "\n",
    "**🏆 V3 WINS**"
   ]
  },
  {
   "cell_type": "markdown",
   "id": "b8615013-44ae-43e2-968e-ec92710a7b39",
   "metadata": {},
   "source": [
    "### Who does it better? v3 vs v2"
   ]
  },
  {
   "cell_type": "code",
   "execution_count": 27,
   "id": "da1446fc-bbe1-4d83-9aef-a5b39ab78923",
   "metadata": {},
   "outputs": [
    {
     "data": {
      "text/html": [
       "<div>\n",
       "<style scoped>\n",
       "    .dataframe tbody tr th:only-of-type {\n",
       "        vertical-align: middle;\n",
       "    }\n",
       "\n",
       "    .dataframe tbody tr th {\n",
       "        vertical-align: top;\n",
       "    }\n",
       "\n",
       "    .dataframe thead th {\n",
       "        text-align: right;\n",
       "    }\n",
       "</style>\n",
       "<table border=\"1\" class=\"dataframe\">\n",
       "  <thead>\n",
       "    <tr style=\"text-align: right;\">\n",
       "      <th></th>\n",
       "      <th>count</th>\n",
       "    </tr>\n",
       "  </thead>\n",
       "  <tbody>\n",
       "    <tr>\n",
       "      <th>0</th>\n",
       "      <td>887</td>\n",
       "    </tr>\n",
       "  </tbody>\n",
       "</table>\n",
       "</div>"
      ],
      "text/plain": [
       "   count\n",
       "0    887"
      ]
     },
     "execution_count": 27,
     "metadata": {},
     "output_type": "execute_result"
    }
   ],
   "source": [
    "# disagree: in v3, not v2\n",
    "\n",
    "du.query(f\"\"\"\n",
    "    select\n",
    "        count(*)\n",
    "        --*\n",
    "    from\n",
    "        {os.getenv(\"SCHEMA\")}.match_test_v3 v3\n",
    "    where not exists (\n",
    "        select\n",
    "            export_id,\n",
    "            crn\n",
    "        from\n",
    "            {os.getenv(\"SCHEMA\")}.match_test_v2 v2\n",
    "        where\n",
    "            v2.crn = v3.r_id\n",
    "            and v2.export_id = v3.l_id\n",
    "    );\n",
    "\"\"\")"
   ]
  },
  {
   "cell_type": "code",
   "execution_count": 28,
   "id": "0511e0a2-1b18-4d3b-978f-b9080e30f2a7",
   "metadata": {},
   "outputs": [
    {
     "data": {
      "text/html": [
       "<div>\n",
       "<style scoped>\n",
       "    .dataframe tbody tr th:only-of-type {\n",
       "        vertical-align: middle;\n",
       "    }\n",
       "\n",
       "    .dataframe tbody tr th {\n",
       "        vertical-align: top;\n",
       "    }\n",
       "\n",
       "    .dataframe thead th {\n",
       "        text-align: right;\n",
       "    }\n",
       "</style>\n",
       "<table border=\"1\" class=\"dataframe\">\n",
       "  <thead>\n",
       "    <tr style=\"text-align: right;\">\n",
       "      <th></th>\n",
       "      <th>count</th>\n",
       "    </tr>\n",
       "  </thead>\n",
       "  <tbody>\n",
       "    <tr>\n",
       "      <th>0</th>\n",
       "      <td>61703</td>\n",
       "    </tr>\n",
       "  </tbody>\n",
       "</table>\n",
       "</div>"
      ],
      "text/plain": [
       "   count\n",
       "0  61703"
      ]
     },
     "execution_count": 28,
     "metadata": {},
     "output_type": "execute_result"
    }
   ],
   "source": [
    "# disagree: in v2, not v3\n",
    "\n",
    "du.query(f\"\"\"\n",
    "    select\n",
    "        count(*)\n",
    "        --*\n",
    "    from\n",
    "        {os.getenv(\"SCHEMA\")}.match_test_v2 v2\n",
    "    where not exists (\n",
    "        select\n",
    "            l_id,\n",
    "            r_id\n",
    "        from\n",
    "            {os.getenv(\"SCHEMA\")}.match_test_v3 v3\n",
    "        where\n",
    "            v2.crn = v3.r_id\n",
    "            and v2.export_id = v3.l_id\n",
    "    );\n",
    "\"\"\")"
   ]
  },
  {
   "cell_type": "code",
   "execution_count": 29,
   "id": "d1d6adc6-5183-4a4e-a297-96d76123c99e",
   "metadata": {},
   "outputs": [
    {
     "data": {
      "text/html": [
       "<div>\n",
       "<style scoped>\n",
       "    .dataframe tbody tr th:only-of-type {\n",
       "        vertical-align: middle;\n",
       "    }\n",
       "\n",
       "    .dataframe tbody tr th {\n",
       "        vertical-align: top;\n",
       "    }\n",
       "\n",
       "    .dataframe thead th {\n",
       "        text-align: right;\n",
       "    }\n",
       "</style>\n",
       "<table border=\"1\" class=\"dataframe\">\n",
       "  <thead>\n",
       "    <tr style=\"text-align: right;\">\n",
       "      <th></th>\n",
       "      <th>count</th>\n",
       "    </tr>\n",
       "  </thead>\n",
       "  <tbody>\n",
       "    <tr>\n",
       "      <th>0</th>\n",
       "      <td>1422</td>\n",
       "    </tr>\n",
       "  </tbody>\n",
       "</table>\n",
       "</div>"
      ],
      "text/plain": [
       "   count\n",
       "0   1422"
      ]
     },
     "execution_count": 29,
     "metadata": {},
     "output_type": "execute_result"
    }
   ],
   "source": [
    "du.query(f\"\"\"\n",
    "    select\n",
    "        count(*)\n",
    "        --*\n",
    "    from\n",
    "        {os.getenv(\"SCHEMA\")}.match_test_v2 v2\n",
    "    where not exists (\n",
    "        select\n",
    "            v3.cluster\n",
    "        from\n",
    "\n",
    "            {os.getenv(\"SCHEMA\")}.match_test_v3 v3\n",
    "        where\n",
    "            v2.cluster = v3.cluster\n",
    "    );\n",
    "\"\"\")"
   ]
  },
  {
   "cell_type": "markdown",
   "id": "b6f5de21-5104-4744-ab55-e467dc3bc0c9",
   "metadata": {},
   "source": [
    "1422, all bad matches\n",
    "\n",
    "Cluster 2159702 doesn't exist in the exporters dataset. How has it been matched? Same for 100285"
   ]
  },
  {
   "cell_type": "code",
   "execution_count": 30,
   "id": "22d287ce-a54e-4130-914a-250d85505048",
   "metadata": {},
   "outputs": [
    {
     "data": {
      "text/html": [
       "<div>\n",
       "<style scoped>\n",
       "    .dataframe tbody tr th:only-of-type {\n",
       "        vertical-align: middle;\n",
       "    }\n",
       "\n",
       "    .dataframe tbody tr th {\n",
       "        vertical-align: top;\n",
       "    }\n",
       "\n",
       "    .dataframe thead th {\n",
       "        text-align: right;\n",
       "    }\n",
       "</style>\n",
       "<table border=\"1\" class=\"dataframe\">\n",
       "  <thead>\n",
       "    <tr style=\"text-align: right;\">\n",
       "      <th></th>\n",
       "      <th>count</th>\n",
       "    </tr>\n",
       "  </thead>\n",
       "  <tbody>\n",
       "    <tr>\n",
       "      <th>0</th>\n",
       "      <td>805</td>\n",
       "    </tr>\n",
       "  </tbody>\n",
       "</table>\n",
       "</div>"
      ],
      "text/plain": [
       "   count\n",
       "0    805"
      ]
     },
     "execution_count": 30,
     "metadata": {},
     "output_type": "execute_result"
    }
   ],
   "source": [
    "du.query(f\"\"\"\n",
    "    select\n",
    "        count(*)\n",
    "        --*\n",
    "    from\n",
    "        {os.getenv(\"SCHEMA\")}.match_test_v3 v3\n",
    "    where not exists (\n",
    "        select\n",
    "            v2.cluster\n",
    "        from\n",
    "            {os.getenv(\"SCHEMA\")}.match_test_v2 v2\n",
    "        where\n",
    "            v2.cluster = v3.cluster\n",
    "    )\n",
    "\"\"\")"
   ]
  },
  {
   "cell_type": "markdown",
   "id": "5021e6f5-bd2c-4f1f-9a06-de12e0e2a6a9",
   "metadata": {},
   "source": [
    "100k rows, good and bad matches.\n",
    "\n",
    "* 18584 is wrong but uses postcode, and is a fair representation of the match system's belief\n",
    "* 3140785 is right but uses postcode -- again, fair representation\n",
    "\n",
    "**🏆 V3 WINS**"
   ]
  }
 ],
 "metadata": {
  "kernelspec": {
   "display_name": "company_matching",
   "language": "python",
   "name": "company_matching"
  },
  "language_info": {
   "codemirror_mode": {
    "name": "ipython",
    "version": 3
   },
   "file_extension": ".py",
   "mimetype": "text/x-python",
   "name": "python",
   "nbconvert_exporter": "python",
   "pygments_lexer": "ipython3",
   "version": "3.9.16"
  }
 },
 "nbformat": 4,
 "nbformat_minor": 5
}
