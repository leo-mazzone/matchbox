{
 "cells": [
  {
   "cell_type": "code",
   "execution_count": 1,
   "id": "7869715c-d4ce-40b6-861f-6f811563bd26",
   "metadata": {},
   "outputs": [],
   "source": [
    "%load_ext autoreload\n",
    "%autoreload 2\n",
    "from IPython.core.interactiveshell import InteractiveShell\n",
    "InteractiveShell.ast_node_interactivity = \"all\""
   ]
  },
  {
   "cell_type": "code",
   "execution_count": 2,
   "id": "efa7a6c4-c036-4ade-b379-20431e9aa4ee",
   "metadata": {},
   "outputs": [],
   "source": [
    "import duckdb\n",
    "import boto3\n",
    "import os\n",
    "import pandas as pd\n",
    "from pathlib import Path\n",
    "\n",
    "import src.locations as loc\n",
    "\n",
    "HTTPFS_PATH = loc.PROJECT_DIR / 'scratch' / 'httpfs.duckdb_extension'"
   ]
  },
  {
   "cell_type": "code",
   "execution_count": 3,
   "id": "be579556-8716-472c-9855-56af20022c88",
   "metadata": {},
   "outputs": [
    {
     "data": {
      "text/html": [
       "<div>\n",
       "<style scoped>\n",
       "    .dataframe tbody tr th:only-of-type {\n",
       "        vertical-align: middle;\n",
       "    }\n",
       "\n",
       "    .dataframe tbody tr th {\n",
       "        vertical-align: top;\n",
       "    }\n",
       "\n",
       "    .dataframe thead th {\n",
       "        text-align: right;\n",
       "    }\n",
       "</style>\n",
       "<table border=\"1\" class=\"dataframe\">\n",
       "  <thead>\n",
       "    <tr style=\"text-align: right;\">\n",
       "      <th></th>\n",
       "      <th>foo</th>\n",
       "      <th>bar</th>\n",
       "    </tr>\n",
       "  </thead>\n",
       "  <tbody>\n",
       "    <tr>\n",
       "      <th>0</th>\n",
       "      <td>a</td>\n",
       "      <td>1</td>\n",
       "    </tr>\n",
       "    <tr>\n",
       "      <th>1</th>\n",
       "      <td>b</td>\n",
       "      <td>2</td>\n",
       "    </tr>\n",
       "    <tr>\n",
       "      <th>2</th>\n",
       "      <td>c</td>\n",
       "      <td>3</td>\n",
       "    </tr>\n",
       "  </tbody>\n",
       "</table>\n",
       "</div>"
      ],
      "text/plain": [
       "  foo  bar\n",
       "0   a    1\n",
       "1   b    2\n",
       "2   c    3"
      ]
     },
     "execution_count": 3,
     "metadata": {},
     "output_type": "execute_result"
    }
   ],
   "source": [
    "client = boto3.client('s3', region_name=os.environ['S3_REGION']) \n",
    "response = client.get_object(\n",
    "    Bucket='jupyter.notebook.uktrade.io', \n",
    "    Key=os.environ['S3_PREFIX_TEAM_DDAT_DATA_SCIENCE'] + '.tmp/dummy.csv'\n",
    ") \n",
    "df = pd.read_csv(response['Body'])\n",
    "df"
   ]
  },
  {
   "cell_type": "code",
   "execution_count": 10,
   "id": "d6a33127-36c6-46e3-95f4-d3f2bfb24197",
   "metadata": {},
   "outputs": [],
   "source": [
    "con = duckdb.connect()"
   ]
  },
  {
   "cell_type": "code",
   "execution_count": 11,
   "id": "47689981-6616-40f2-8cb9-b929764a2782",
   "metadata": {},
   "outputs": [],
   "source": [
    "# via https://duckdb.org/docs/extensions/httpfs.html\n",
    "\n",
    "con.query(f\"\"\"\n",
    "    install '{HTTPFS_PATH.resolve()}';\n",
    "    load '{HTTPFS_PATH.resolve()}';\n",
    "    set s3_region='{os.environ['S3_REGION']}';\n",
    "\"\"\")"
   ]
  },
  {
   "cell_type": "code",
   "execution_count": 13,
   "id": "6d588543-58ad-4bba-ae14-33584fd73144",
   "metadata": {},
   "outputs": [
    {
     "data": {
      "text/plain": [
       "'jupyter.notebook.uktrade.io/teams/_team_ddat_data_science//.tmp/dummy.csv'"
      ]
     },
     "execution_count": 13,
     "metadata": {},
     "output_type": "execute_result"
    }
   ],
   "source": [
    "'/'.join([\n",
    "    os.environ['S3_BUCKET'],\n",
    "    os.environ['S3_PREFIX_TEAM_DDAT_DATA_SCIENCE'],\n",
    "    '.tmp',\n",
    "    'dummy.csv'\n",
    "])"
   ]
  },
  {
   "cell_type": "markdown",
   "id": "4456988c-5ed5-43e4-94eb-54b13a7520fe",
   "metadata": {},
   "source": [
    "Try this: https://stackoverflow.com/questions/74789412/aws-role-vs-iam-credential-in-duckdb-httpfs-call"
   ]
  },
  {
   "cell_type": "code",
   "execution_count": 12,
   "id": "b69cce58-7967-4894-b58f-99e6fc01a8dc",
   "metadata": {},
   "outputs": [
    {
     "ename": "IOException",
     "evalue": "IO Error: Unable to connect to URL \"s3://jupyter.notebook.uktrade.io/teams/_team_ddat_data_science//.tmp/dummy.csv\": 403 (Forbidden)",
     "output_type": "error",
     "traceback": [
      "\u001b[0;31m---------------------------------------------------------------------------\u001b[0m",
      "\u001b[0;31mIOException\u001b[0m                               Traceback (most recent call last)",
      "Cell \u001b[0;32mIn[12], line 1\u001b[0m\n\u001b[0;32m----> 1\u001b[0m \u001b[43mcon\u001b[49m\u001b[38;5;241;43m.\u001b[39;49m\u001b[43mquery\u001b[49m\u001b[43m(\u001b[49m\u001b[38;5;124;43mf\u001b[39;49m\u001b[38;5;124;43m\"\"\"\u001b[39;49m\n\u001b[1;32m      2\u001b[0m \u001b[38;5;124;43m    select *\u001b[39;49m\n\u001b[1;32m      3\u001b[0m \u001b[38;5;124;43m    from \u001b[39;49m\u001b[38;5;124;43m'\u001b[39;49m\u001b[38;5;124;43ms3://\u001b[39;49m\u001b[38;5;132;43;01m{\u001b[39;49;00m\n\u001b[1;32m      4\u001b[0m \u001b[38;5;250;43m        \u001b[39;49m\u001b[38;5;124;43m'\u001b[39;49m\u001b[38;5;124;43m/\u001b[39;49m\u001b[38;5;124;43m'\u001b[39;49m\u001b[38;5;241;43m.\u001b[39;49m\u001b[43mjoin\u001b[49m\u001b[43m(\u001b[49m\u001b[43m[\u001b[49m\n\u001b[1;32m      5\u001b[0m \u001b[38;5;250;43m            \u001b[39;49m\u001b[43mos\u001b[49m\u001b[38;5;241;43m.\u001b[39;49m\u001b[43menviron\u001b[49m\u001b[43m[\u001b[49m\u001b[38;5;124;43m'\u001b[39;49m\u001b[38;5;124;43mS3_BUCKET\u001b[39;49m\u001b[38;5;124;43m'\u001b[39;49m\u001b[43m]\u001b[49m\u001b[43m,\u001b[49m\n\u001b[1;32m      6\u001b[0m \u001b[38;5;250;43m            \u001b[39;49m\u001b[43mos\u001b[49m\u001b[38;5;241;43m.\u001b[39;49m\u001b[43menviron\u001b[49m\u001b[43m[\u001b[49m\u001b[38;5;124;43m'\u001b[39;49m\u001b[38;5;124;43mS3_PREFIX_TEAM_DDAT_DATA_SCIENCE\u001b[39;49m\u001b[38;5;124;43m'\u001b[39;49m\u001b[43m]\u001b[49m\u001b[43m,\u001b[49m\n\u001b[1;32m      7\u001b[0m \u001b[38;5;250;43m            \u001b[39;49m\u001b[38;5;124;43m'\u001b[39;49m\u001b[38;5;124;43m.tmp\u001b[39;49m\u001b[38;5;124;43m'\u001b[39;49m\u001b[43m,\u001b[49m\n\u001b[1;32m      8\u001b[0m \u001b[38;5;250;43m            \u001b[39;49m\u001b[38;5;124;43m'\u001b[39;49m\u001b[38;5;124;43mdummy.csv\u001b[39;49m\u001b[38;5;124;43m'\u001b[39;49m\n\u001b[1;32m      9\u001b[0m \u001b[38;5;250;43m        \u001b[39;49m\u001b[43m]\u001b[49m\u001b[43m)\u001b[49m\n\u001b[1;32m     10\u001b[0m \u001b[38;5;250;43m    \u001b[39;49m\u001b[38;5;132;43;01m}\u001b[39;49;00m\u001b[38;5;124;43m'\u001b[39;49m\u001b[38;5;124;43m;\u001b[39;49m\n\u001b[1;32m     11\u001b[0m \u001b[38;5;124;43m\"\"\"\u001b[39;49m\u001b[43m)\u001b[49m\n",
      "\u001b[0;31mIOException\u001b[0m: IO Error: Unable to connect to URL \"s3://jupyter.notebook.uktrade.io/teams/_team_ddat_data_science//.tmp/dummy.csv\": 403 (Forbidden)"
     ]
    }
   ],
   "source": [
    "con.query(f\"\"\"\n",
    "    select *\n",
    "    from 's3://{\n",
    "        '/'.join([\n",
    "            os.environ['S3_BUCKET'],\n",
    "            os.environ['S3_PREFIX_TEAM_DDAT_DATA_SCIENCE'],\n",
    "            '.tmp',\n",
    "            'dummy.csv'\n",
    "        ])\n",
    "    }';\n",
    "\"\"\")"
   ]
  },
  {
   "cell_type": "code",
   "execution_count": 4,
   "id": "267da13f-628a-4330-9c2f-f1ff18ac2a52",
   "metadata": {},
   "outputs": [],
   "source": [
    "df = pd.DataFrame({'col1': [1, 2], 'col2': [3, 4]})"
   ]
  },
  {
   "cell_type": "code",
   "execution_count": 9,
   "id": "a9e45682-b03e-4af0-83a5-6223d4bc471d",
   "metadata": {},
   "outputs": [
    {
     "data": {
      "text/plain": [
       "┌───────┬───────┐\n",
       "│ col1  │ col2  │\n",
       "│ int64 │ int64 │\n",
       "├───────┼───────┤\n",
       "│     1 │     3 │\n",
       "│     2 │     4 │\n",
       "└───────┴───────┘"
      ]
     },
     "execution_count": 9,
     "metadata": {},
     "output_type": "execute_result"
    }
   ],
   "source": [
    "con.query(\"\"\"\n",
    "    select\n",
    "        *\n",
    "    from\n",
    "        df\n",
    "\"\"\")"
   ]
  },
  {
   "cell_type": "code",
   "execution_count": null,
   "id": "3f406eda-31fb-454d-8a6f-1a9d088bebcb",
   "metadata": {},
   "outputs": [],
   "source": [
    "os.environ['S3_HOST']\n",
    "os.environ['S3_BUCKET']"
   ]
  },
  {
   "cell_type": "code",
   "execution_count": 33,
   "id": "8ad08dfa-349d-4a22-bb44-d110866769f9",
   "metadata": {},
   "outputs": [
    {
     "data": {
      "text/plain": [
       "['S3_HOST',\n",
       " 'S3_BUCKET',\n",
       " 'S3_REGION',\n",
       " 'S3_PREFIX_TEAM_DDAT_DATA_SCIENCE',\n",
       " 'S3_PREFIX_TEAM_DEET',\n",
       " 'S3_PREFIX']"
      ]
     },
     "execution_count": 33,
     "metadata": {},
     "output_type": "execute_result"
    }
   ],
   "source": [
    "[k for k in list(dict(os.environ).keys()) if 's3' in k.lower()]"
   ]
  },
  {
   "cell_type": "code",
   "execution_count": 35,
   "id": "93e6f5be-6bc7-4a2e-b082-2baae4bbcaac",
   "metadata": {},
   "outputs": [
    {
     "data": {
      "text/plain": [
       "['MLFLOW_TRACKING_TOKEN']"
      ]
     },
     "execution_count": 35,
     "metadata": {},
     "output_type": "execute_result"
    }
   ],
   "source": [
    "[k for k in list(dict(os.environ).keys()) if 'token' in k.lower()]"
   ]
  },
  {
   "cell_type": "code",
   "execution_count": 42,
   "id": "a8cca4bd-be99-43bc-a3b8-655d1d48c705",
   "metadata": {},
   "outputs": [
    {
     "data": {
      "text/plain": [
       "['AWS_CONTAINER_CREDENTIALS_RELATIVE_URI',\n",
       " 'AWS_EXECUTION_ENV',\n",
       " 'AWS_DEFAULT_REGION',\n",
       " 'AWS_REGION']"
      ]
     },
     "execution_count": 42,
     "metadata": {},
     "output_type": "execute_result"
    }
   ],
   "source": [
    "[k for k in list(dict(os.environ).keys()) if 'aws' in k.lower()]"
   ]
  },
  {
   "cell_type": "code",
   "execution_count": 14,
   "id": "e66f52bd-c6e1-4c63-8da7-7513be0faa3a",
   "metadata": {},
   "outputs": [],
   "source": [
    "# os.environ['AWS_CONTAINER_CREDENTIALS_RELATIVE_URI']\n",
    "# os.environ['ECS_CONTAINER_METADATA_URI_V4']"
   ]
  }
 ],
 "metadata": {
  "kernelspec": {
   "display_name": "company_matching",
   "language": "python",
   "name": "company_matching"
  },
  "language_info": {
   "codemirror_mode": {
    "name": "ipython",
    "version": 3
   },
   "file_extension": ".py",
   "mimetype": "text/x-python",
   "name": "python",
   "nbconvert_exporter": "python",
   "pygments_lexer": "ipython3",
   "version": "3.9.16"
  }
 },
 "nbformat": 4,
 "nbformat_minor": 5
}
