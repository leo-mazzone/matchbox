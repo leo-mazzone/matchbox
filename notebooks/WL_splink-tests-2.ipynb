{
 "cells": [
  {
   "cell_type": "markdown",
   "id": "fe85d7d5-8de2-483c-a004-0a7703a88138",
   "metadata": {},
   "source": [
    "# Splink tests 2\n",
    "\n",
    "Somewhere clean to tighten up the pipeline as I get to a quicker iteration."
   ]
  },
  {
   "cell_type": "code",
   "execution_count": 1,
   "id": "8f79bd43-bfbf-4f55-b929-48c49c25a212",
   "metadata": {},
   "outputs": [],
   "source": [
    "%load_ext autoreload\n",
    "%autoreload 2\n",
    "from IPython.core.interactiveshell import InteractiveShell\n",
    "from IPython.display import IFrame\n",
    "InteractiveShell.ast_node_interactivity = \"all\""
   ]
  },
  {
   "cell_type": "code",
   "execution_count": 2,
   "id": "00297a5f-93ec-40b4-8fab-8266aa9cbb62",
   "metadata": {
    "tags": []
   },
   "outputs": [
    {
     "data": {
      "text/plain": [
       "RendererRegistry.enable('mimetype')"
      ]
     },
     "execution_count": 2,
     "metadata": {},
     "output_type": "execute_result"
    }
   ],
   "source": [
    "import duckdb\n",
    "import pandas as pd\n",
    "import polars as pl\n",
    "import random\n",
    "import datetime\n",
    "import os\n",
    "\n",
    "import altair as alt\n",
    "alt.renderers.enable(\"mimetype\")\n",
    "\n",
    "from src.models import model_train as ld\n",
    "from src.features.clean_complex import clean_comp_names\n",
    "from src.config import stopwords\n",
    "from src.config import settings\n",
    "from src.features.clean_basic import (\n",
    "    remove_notnumbers_leadingzeroes,\n",
    "    clean_company_name,\n",
    "    array_except,\n",
    "    array_intersect,\n",
    "    list_join_to_string,\n",
    ")\n",
    "from src import locations as loc\n",
    "\n",
    "from splink.duckdb.linker import DuckDBLinker\n",
    "from splink.charts import save_offline_chart"
   ]
  },
  {
   "cell_type": "markdown",
   "id": "4be42707-e6e5-4ea6-81f5-d2eebf8849d7",
   "metadata": {},
   "source": [
    "# TODO\n",
    "\n",
    "21/6. I've got a strategy. I have example queries that use a generated lookup to join n number of target tables to a source, both permitting and not permitting duplication in the target. I believe that link_and_dedupe will create the clusters I need to successfully sort this out.\n",
    "\n",
    "The blocking rules are hugely improved but estimating m is taking weirdly long. I think replacing '' with nulls will sort this out.\n",
    "\n",
    "* Change '' to nulls in data selection -- suspect this is what's slowing down m estimation in the company_number column (tonnes of false dupes)\n",
    "* Figure out why dupes in EW aren't in one cluster\n",
    "    * Changed linker to link_and_dedupe -- needs testing\n",
    "    * If this works, ready to productionise"
   ]
  },
  {
   "cell_type": "markdown",
   "id": "f51b1677-db58-4b50-87ea-08625b05efe6",
   "metadata": {},
   "source": [
    "## Data"
   ]
  },
  {
   "cell_type": "markdown",
   "id": "5c5b098d-8405-4eb4-a35c-1fd0ddf55a05",
   "metadata": {},
   "source": [
    "Data we need to bring in:\n",
    "\n",
    "* ✅ Companies house\n",
    "* ✅ Data Hub companies\n",
    "* ✅ HMRC exporters\n",
    "* ✅ Export wins"
   ]
  },
  {
   "cell_type": "code",
   "execution_count": 11,
   "id": "5d462348-92af-48c8-ad08-76afdddfa652",
   "metadata": {},
   "outputs": [
    {
     "name": "stderr",
     "output_type": "stream",
     "text": [
      "/opt/conda/envs/lead_generation_experiments/lib/python3.9/site-packages/pandas/io/sql.py:1410: RemovedIn20Warning: Deprecated API features detected! These feature(s) are not compatible with SQLAlchemy 2.0. To prevent incompatible upgrades prior to updating applications, ensure requirements files are pinned to \"sqlalchemy<2.0\". Set environment variable SQLALCHEMY_WARN_20=1 to show all deprecation warnings.  Set environment variable SQLALCHEMY_SILENCE_UBER_WARNING=1 to silence this message. (Background on SQLAlchemy 2.0 at: https://sqlalche.me/e/b8d9)\n",
      "  meta = MetaData(self.connectable, schema=schema)\n"
     ]
    }
   ],
   "source": [
    "df_ch = ld.comp_house_read(100_000)\n",
    "df_ch_clean = ld.clean_numbers_and_names(df_ch)"
   ]
  },
  {
   "cell_type": "code",
   "execution_count": 12,
   "id": "6fbde7ee-8f02-46b8-b31a-4b4bef496e61",
   "metadata": {},
   "outputs": [],
   "source": [
    "df_dh = ld.data_hub_read(100_000)\n",
    "df_dh_clean = ld.clean_numbers_and_names(df_dh)"
   ]
  },
  {
   "cell_type": "code",
   "execution_count": 13,
   "id": "275226f9-aa29-4f96-98ee-6d3955fa9197",
   "metadata": {},
   "outputs": [],
   "source": [
    "df_ex = ld.hmrc_exporters_read(100_000)\n",
    "df_ex_clean = ld.clean_numbers_and_names(df_ex)"
   ]
  },
  {
   "cell_type": "code",
   "execution_count": 14,
   "id": "f1981605-31f0-40d0-8a08-eb33313b304e",
   "metadata": {},
   "outputs": [],
   "source": [
    "df_ew = ld.export_wins_read(100_000)\n",
    "df_ew_clean = ld.clean_numbers_and_names(df_ew)"
   ]
  },
  {
   "cell_type": "markdown",
   "id": "f694a908-a612-429d-9c99-5bb7e089ce15",
   "metadata": {},
   "source": [
    "## Link and predict"
   ]
  },
  {
   "cell_type": "code",
   "execution_count": 15,
   "id": "76c3130d-ff5e-4c7e-9c91-421d88c59dc3",
   "metadata": {},
   "outputs": [],
   "source": [
    "linker = DuckDBLinker(\n",
    "    [\n",
    "        df_dh_clean, \n",
    "        df_ch_clean, \n",
    "        df_ex_clean, \n",
    "        df_ew_clean\n",
    "    ],\n",
    "    settings,\n",
    "    input_table_aliases=[\n",
    "        \"dit_data_hub__companies\", \n",
    "        \"companieshouse_companies\", \n",
    "        \"hmrc_trade__exporters\", \n",
    "        \"dit_export_wins__wins_dataset\"\n",
    "    ],\n",
    ")"
   ]
  },
  {
   "cell_type": "code",
   "execution_count": 16,
   "id": "7a824346-6248-462f-8d54-aa53ea2853ab",
   "metadata": {},
   "outputs": [
    {
     "name": "stderr",
     "output_type": "stream",
     "text": [
      "Probability two random records match is estimated to be  8.85e-06.\n",
      "This means that amongst all possible pairwise record comparisons, one in 112,941.61 are expected to match.  With 62,627,736,655 total possible comparisons, we expect a total of around 554,514.29 matching pairs\n"
     ]
    }
   ],
   "source": [
    "linker.estimate_probability_two_random_records_match(\n",
    "    \"l.name_unusual_tokens = r.name_unusual_tokens\",\n",
    "    recall=0.7,\n",
    ")"
   ]
  },
  {
   "cell_type": "code",
   "execution_count": 17,
   "id": "457bc209-36fc-4124-8d0b-013de18b2934",
   "metadata": {
    "tags": []
   },
   "outputs": [
    {
     "name": "stderr",
     "output_type": "stream",
     "text": [
      "----- Estimating u probabilities using random sampling -----\n",
      "\n",
      "Estimated u probabilities using random sampling\n",
      "\n",
      "Your model is not yet fully trained. Missing estimates for:\n",
      "    - comp_num_clean (no m values are trained).\n",
      "    - name_unusual_tokens (no m values are trained).\n",
      "    - postcode (no m values are trained).\n"
     ]
    }
   ],
   "source": [
    "linker.estimate_u_using_random_sampling(max_pairs=1e7)"
   ]
  },
  {
   "cell_type": "code",
   "execution_count": 18,
   "id": "85618fb1-9185-42be-8faf-29d7529f56b0",
   "metadata": {},
   "outputs": [
    {
     "name": "stderr",
     "output_type": "stream",
     "text": [
      "---- Estimating m probabilities using from column comp_num_clean -----\n",
      "m probability not trained for comp_num_clean - Jaro_winkler_similarity >= 0.75 (comparison vector value: 1). This usually means the comparison level was never observed in the training data.\n",
      "m probability not trained for comp_num_clean - All other comparisons (comparison vector value: 0). This usually means the comparison level was never observed in the training data.\n",
      "\n",
      "Your model is not yet fully trained. Missing estimates for:\n",
      "    - comp_num_clean (some m values are not trained).\n"
     ]
    }
   ],
   "source": [
    "linker.estimate_m_from_label_column(\"comp_num_clean\")"
   ]
  },
  {
   "cell_type": "code",
   "execution_count": 19,
   "id": "857cd4fb-9e5c-4b36-af4f-32a1030e5682",
   "metadata": {},
   "outputs": [
    {
     "name": "stderr",
     "output_type": "stream",
     "text": [
      "\n",
      "----- Starting EM training session -----\n",
      "\n",
      "Estimating the m probabilities of the model by blocking on:\n",
      "l.name_unusual_tokens = r.name_unusual_tokens and l.postcode_area = r.postcode_area\n",
      "\n",
      "Parameter estimates will be made for the following comparison(s):\n",
      "    - comp_num_clean\n",
      "    - postcode\n",
      "\n",
      "Parameter estimates cannot be made for the following comparison(s) since they are used in the blocking rules: \n",
      "    - name_unusual_tokens\n",
      "\n",
      "\n",
      "WARNING:\n",
      "Level All other comparisons on comparison postcode not observed in dataset, unable to train m value\n",
      "Iteration 1: Largest change in params was -0.754 in the m_probability of postcode, level `All other comparisons`\n",
      "\n",
      "WARNING:\n",
      "Level All other comparisons on comparison postcode not observed in dataset, unable to train m value\n",
      "Iteration 2: Largest change in params was 0.0448 in probability_two_random_records_match\n",
      "\n",
      "WARNING:\n",
      "Level All other comparisons on comparison postcode not observed in dataset, unable to train m value\n",
      "Iteration 3: Largest change in params was -0.00363 in the m_probability of comp_num_clean, level `Exact match`\n",
      "\n",
      "WARNING:\n",
      "Level All other comparisons on comparison postcode not observed in dataset, unable to train m value\n",
      "Iteration 4: Largest change in params was -0.000101 in the m_probability of comp_num_clean, level `Exact match`\n",
      "\n",
      "WARNING:\n",
      "Level All other comparisons on comparison postcode not observed in dataset, unable to train m value\n",
      "Iteration 5: Largest change in params was -2.37e-06 in the m_probability of comp_num_clean, level `Exact match`\n",
      "\n",
      "EM converged after 5 iterations\n",
      "m probability not trained for postcode - All other comparisons (comparison vector value: 0). This usually means the comparison level was never observed in the training data.\n",
      "\n",
      "Your model is fully trained. All comparisons have at least one estimate for their m and u values\n"
     ]
    },
    {
     "data": {
      "text/plain": [
       "<EMTrainingSession, blocking on l.name_unusual_tokens = r.name_unusual_tokens and l.postcode_area = r.postcode_area, deactivating comparisons name_unusual_tokens>"
      ]
     },
     "execution_count": 19,
     "metadata": {},
     "output_type": "execute_result"
    }
   ],
   "source": [
    "m_by_name_and_postcode_area = \"l.name_unusual_tokens = r.name_unusual_tokens and l.postcode_area = r.postcode_area\"\n",
    "linker.estimate_parameters_using_expectation_maximisation(m_by_name_and_postcode_area)"
   ]
  },
  {
   "cell_type": "code",
   "execution_count": 20,
   "id": "ff6dbbdd-d48e-44a4-a398-88ea695120e6",
   "metadata": {},
   "outputs": [],
   "source": [
    "predictions = linker.predict(threshold_match_probability=0.7)"
   ]
  },
  {
   "cell_type": "code",
   "execution_count": 21,
   "id": "b961953b-aff9-4b08-b697-3741582d9968",
   "metadata": {},
   "outputs": [],
   "source": [
    "df_predict = predictions.as_pandas_dataframe()"
   ]
  },
  {
   "cell_type": "code",
   "execution_count": 93,
   "id": "9835c059-7acd-40dd-a60e-7c75b574103f",
   "metadata": {},
   "outputs": [
    {
     "data": {
      "text/plain": [
       "dit_export_wins__wins_dataset    145293\n",
       "hmrc_trade__exporters             66647\n",
       "dit_data_hub__companies           26615\n",
       "companieshouse_companies           2504\n",
       "Name: source_dataset_l, dtype: int64"
      ]
     },
     "execution_count": 93,
     "metadata": {},
     "output_type": "execute_result"
    },
    {
     "data": {
      "text/plain": [
       "dit_export_wins__wins_dataset    154230\n",
       "hmrc_trade__exporters             85181\n",
       "dit_data_hub__companies            1616\n",
       "companieshouse_companies             32\n",
       "Name: source_dataset_r, dtype: int64"
      ]
     },
     "execution_count": 93,
     "metadata": {},
     "output_type": "execute_result"
    }
   ],
   "source": [
    "df_predict.source_dataset_l.value_counts()\n",
    "df_predict.source_dataset_r.value_counts()"
   ]
  },
  {
   "cell_type": "code",
   "execution_count": 94,
   "id": "3a8d14b1-9617-4297-b318-a6dd943ee51b",
   "metadata": {},
   "outputs": [
    {
     "data": {
      "text/plain": [
       "dit_export_wins__wins_dataset    256527\n",
       "dit_data_hub__companies           76777\n",
       "hmrc_trade__exporters             73356\n",
       "companieshouse_companies           5508\n",
       "Name: source_dataset_l, dtype: int64"
      ]
     },
     "execution_count": 94,
     "metadata": {},
     "output_type": "execute_result"
    },
    {
     "data": {
      "text/plain": [
       "dit_export_wins__wins_dataset    257237\n",
       "hmrc_trade__exporters            143475\n",
       "dit_data_hub__companies           11239\n",
       "companieshouse_companies            217\n",
       "Name: source_dataset_r, dtype: int64"
      ]
     },
     "execution_count": 94,
     "metadata": {},
     "output_type": "execute_result"
    }
   ],
   "source": [
    "predictions_2 = linker.predict()\n",
    "predictions_2 = predictions_2.as_pandas_dataframe()\n",
    "predictions_2.source_dataset_l.value_counts()\n",
    "predictions_2.source_dataset_r.value_counts()"
   ]
  },
  {
   "cell_type": "code",
   "execution_count": 95,
   "id": "4c671934-32dd-4b6c-a727-af977dd86b50",
   "metadata": {},
   "outputs": [
    {
     "data": {
      "text/html": [
       "<div><style>\n",
       ".dataframe > thead > tr > th,\n",
       ".dataframe > tbody > tr > td {\n",
       "  text-align: right;\n",
       "}\n",
       "</style>\n",
       "<small>shape: (5, 27)</small><table border=\"1\" class=\"dataframe\"><thead><tr><th>match_weight</th><th>match_probability</th><th>source_dataset_l</th><th>source_dataset_r</th><th>unique_id_l</th><th>unique_id_r</th><th>comp_num_clean_l</th><th>comp_num_clean_r</th><th>gamma_comp_num_clean</th><th>tf_comp_num_clean_l</th><th>tf_comp_num_clean_r</th><th>bf_comp_num_clean</th><th>bf_tf_adj_comp_num_clean</th><th>name_unusual_tokens_l</th><th>name_unusual_tokens_r</th><th>gamma_name_unusual_tokens</th><th>tf_name_unusual_tokens_l</th><th>tf_name_unusual_tokens_r</th><th>bf_name_unusual_tokens</th><th>bf_tf_adj_name_unusual_tokens</th><th>postcode_l</th><th>postcode_r</th><th>gamma_postcode</th><th>bf_postcode</th><th>secondary_name_unusual_tokens_l</th><th>secondary_name_unusual_tokens_r</th><th>match_key</th></tr><tr><td>f64</td><td>f64</td><td>str</td><td>str</td><td>str</td><td>str</td><td>str</td><td>str</td><td>i32</td><td>f64</td><td>f64</td><td>f64</td><td>f64</td><td>str</td><td>str</td><td>i32</td><td>f64</td><td>f64</td><td>f64</td><td>f64</td><td>str</td><td>str</td><td>i32</td><td>f64</td><td>str</td><td>str</td><td>str</td></tr></thead><tbody><tr><td>8.450592</td><td>0.99715</td><td>&quot;companieshouse…</td><td>&quot;hmrc_trade__ex…</td><td>&quot;06274585&quot;</td><td>&quot;1418546&quot;</td><td>&quot;6274585&quot;</td><td>null</td><td>-1</td><td>0.000005</td><td>null</td><td>1.0</td><td>1.0</td><td>&quot;magawell&quot;</td><td>&quot;magawell&quot;</td><td>3</td><td>0.000006</td><td>0.000006</td><td>67666.27948</td><td>1.134151</td><td>&quot;NP11 5GT&quot;</td><td>&quot;NP11 5GT&quot;</td><td>4</td><td>520.071434</td><td>&quot;&quot;</td><td>null</td><td>&quot;1&quot;</td></tr><tr><td>8.450592</td><td>0.99715</td><td>&quot;companieshouse…</td><td>&quot;hmrc_trade__ex…</td><td>&quot;05401138&quot;</td><td>&quot;2611486&quot;</td><td>&quot;5401138&quot;</td><td>null</td><td>-1</td><td>0.000005</td><td>null</td><td>1.0</td><td>1.0</td><td>&quot;springcoil&quot;</td><td>&quot;springcoil&quot;</td><td>3</td><td>0.000006</td><td>0.000006</td><td>67666.27948</td><td>1.134151</td><td>&quot;S9 3NE&quot;</td><td>&quot;S9 3NE&quot;</td><td>4</td><td>520.071434</td><td>&quot;&quot;</td><td>null</td><td>&quot;1&quot;</td></tr><tr><td>8.450592</td><td>0.99715</td><td>&quot;companieshouse…</td><td>&quot;hmrc_trade__ex…</td><td>&quot;03413004&quot;</td><td>&quot;2871186&quot;</td><td>&quot;3413004&quot;</td><td>null</td><td>-1</td><td>0.000005</td><td>null</td><td>1.0</td><td>1.0</td><td>&quot;europe stoneag…</td><td>&quot;europe stoneag…</td><td>3</td><td>0.000006</td><td>0.000006</td><td>67666.27948</td><td>1.134151</td><td>&quot;WR5 2DQ&quot;</td><td>&quot;WR5 2DQ&quot;</td><td>4</td><td>520.071434</td><td>&quot;aquapower salo…</td><td>null</td><td>&quot;1&quot;</td></tr><tr><td>8.450592</td><td>0.99715</td><td>&quot;companieshouse…</td><td>&quot;hmrc_trade__ex…</td><td>&quot;05434133&quot;</td><td>&quot;1269999&quot;</td><td>&quot;5434133&quot;</td><td>null</td><td>-1</td><td>0.000005</td><td>null</td><td>1.0</td><td>1.0</td><td>&quot;dellner&quot;</td><td>&quot;dellner&quot;</td><td>3</td><td>0.000006</td><td>0.000006</td><td>67666.27948</td><td>1.134151</td><td>&quot;DE11 9DX&quot;</td><td>&quot;DE11 9DX&quot;</td><td>4</td><td>520.071434</td><td>&quot;couplers delln…</td><td>null</td><td>&quot;1&quot;</td></tr><tr><td>8.450592</td><td>0.99715</td><td>&quot;companieshouse…</td><td>&quot;hmrc_trade__ex…</td><td>&quot;12208468&quot;</td><td>&quot;2654556&quot;</td><td>&quot;12208468&quot;</td><td>null</td><td>-1</td><td>0.000005</td><td>null</td><td>1.0</td><td>1.0</td><td>&quot;cocompany ligh…</td><td>&quot;cocompany ligh…</td><td>3</td><td>0.000006</td><td>0.000006</td><td>67666.27948</td><td>1.134151</td><td>&quot;CM7 3QS&quot;</td><td>&quot;CM7 3QS&quot;</td><td>4</td><td>520.071434</td><td>&quot;&quot;</td><td>null</td><td>&quot;1&quot;</td></tr></tbody></table></div>"
      ],
      "text/plain": [
       "shape: (5, 27)\n",
       "┌────────────┬────────────┬────────────┬────────────┬───┬───────────┬────────────┬────────────┬─────────┐\n",
       "│ match_weig ┆ match_prob ┆ source_dat ┆ source_dat ┆ … ┆ bf_postco ┆ secondary_ ┆ secondary_ ┆ match_k │\n",
       "│ ht         ┆ ability    ┆ aset_l     ┆ aset_r     ┆   ┆ de        ┆ name_unusu ┆ name_unusu ┆ ey      │\n",
       "│ ---        ┆ ---        ┆ ---        ┆ ---        ┆   ┆ ---       ┆ al_tokens_ ┆ al_tokens_ ┆ ---     │\n",
       "│ f64        ┆ f64        ┆ str        ┆ str        ┆   ┆ f64       ┆ l          ┆ r          ┆ str     │\n",
       "│            ┆            ┆            ┆            ┆   ┆           ┆ ---        ┆ ---        ┆         │\n",
       "│            ┆            ┆            ┆            ┆   ┆           ┆ str        ┆ str        ┆         │\n",
       "╞════════════╪════════════╪════════════╪════════════╪═══╪═══════════╪════════════╪════════════╪═════════╡\n",
       "│ 8.450592   ┆ 0.99715    ┆ companiesh ┆ hmrc_trade ┆ … ┆ 520.07143 ┆            ┆ null       ┆ 1       │\n",
       "│            ┆            ┆ ouse_compa ┆ __exporter ┆   ┆ 4         ┆            ┆            ┆         │\n",
       "│            ┆            ┆ nies       ┆ s          ┆   ┆           ┆            ┆            ┆         │\n",
       "│ 8.450592   ┆ 0.99715    ┆ companiesh ┆ hmrc_trade ┆ … ┆ 520.07143 ┆            ┆ null       ┆ 1       │\n",
       "│            ┆            ┆ ouse_compa ┆ __exporter ┆   ┆ 4         ┆            ┆            ┆         │\n",
       "│            ┆            ┆ nies       ┆ s          ┆   ┆           ┆            ┆            ┆         │\n",
       "│ 8.450592   ┆ 0.99715    ┆ companiesh ┆ hmrc_trade ┆ … ┆ 520.07143 ┆ aquapower  ┆ null       ┆ 1       │\n",
       "│            ┆            ┆ ouse_compa ┆ __exporter ┆   ┆ 4         ┆ salotech   ┆            ┆         │\n",
       "│            ┆            ┆ nies       ┆ s          ┆   ┆           ┆            ┆            ┆         │\n",
       "│ 8.450592   ┆ 0.99715    ┆ companiesh ┆ hmrc_trade ┆ … ┆ 520.07143 ┆ couplers   ┆ null       ┆ 1       │\n",
       "│            ┆            ┆ ouse_compa ┆ __exporter ┆   ┆ 4         ┆ dellner    ┆            ┆         │\n",
       "│            ┆            ┆ nies       ┆ s          ┆   ┆           ┆            ┆            ┆         │\n",
       "│ 8.450592   ┆ 0.99715    ┆ companiesh ┆ hmrc_trade ┆ … ┆ 520.07143 ┆            ┆ null       ┆ 1       │\n",
       "│            ┆            ┆ ouse_compa ┆ __exporter ┆   ┆ 4         ┆            ┆            ┆         │\n",
       "│            ┆            ┆ nies       ┆ s          ┆   ┆           ┆            ┆            ┆         │\n",
       "└────────────┴────────────┴────────────┴────────────┴───┴───────────┴────────────┴────────────┴─────────┘"
      ]
     },
     "execution_count": 95,
     "metadata": {},
     "output_type": "execute_result"
    }
   ],
   "source": [
    "(\n",
    "    pl.from_pandas(predictions_2)\n",
    "    .filter(pl.col('source_dataset_r') == 'hmrc_trade__exporters')\n",
    "    .sort(by = 'match_probability', descending = True)\n",
    "    .head(5)\n",
    ")"
   ]
  },
  {
   "cell_type": "markdown",
   "id": "66a134f4-e789-482f-8b2b-8176884d3332",
   "metadata": {},
   "source": [
    "## Cluster experiment 2"
   ]
  },
  {
   "cell_type": "code",
   "execution_count": 32,
   "id": "3f1a5ac4-d78e-416a-833d-718412f5e5f6",
   "metadata": {},
   "outputs": [
    {
     "name": "stderr",
     "output_type": "stream",
     "text": [
      "Completed iteration 1, root rows count 1\n",
      "Completed iteration 2, root rows count 0\n"
     ]
    }
   ],
   "source": [
    "clusters = linker.cluster_pairwise_predictions_at_threshold(\n",
    "    predictions,\n",
    "    threshold_match_probability = 0.7\n",
    ")"
   ]
  },
  {
   "cell_type": "code",
   "execution_count": 134,
   "id": "a8987b59-a156-499d-907c-882eec1bf9f7",
   "metadata": {},
   "outputs": [],
   "source": [
    "linker.cluster_studio_dashboard(\n",
    "    predictions, \n",
    "    clusters, \n",
    "    \"cluster_studio.html\", \n",
    "    sampling_method=\"by_cluster_size\", \n",
    "    overwrite=True\n",
    ")"
   ]
  },
  {
   "cell_type": "code",
   "execution_count": 135,
   "id": "7b238f0f-8368-44ff-bd22-db371c4538ee",
   "metadata": {},
   "outputs": [
    {
     "data": {
      "text/html": [
       "\n",
       "        <iframe\n",
       "            width=\"100%\"\n",
       "            height=\"1000\"\n",
       "            src=\"./cluster_studio.html\"\n",
       "            frameborder=\"0\"\n",
       "            allowfullscreen\n",
       "            \n",
       "        ></iframe>\n",
       "        "
      ],
      "text/plain": [
       "<IPython.lib.display.IFrame at 0x7f7f1f7c6a30>"
      ]
     },
     "execution_count": 135,
     "metadata": {},
     "output_type": "execute_result"
    }
   ],
   "source": [
    "IFrame(\n",
    "    src=\"./cluster_studio.html\", \n",
    "    width=\"100%\", \n",
    "    height=1000\n",
    ")"
   ]
  },
  {
   "cell_type": "markdown",
   "id": "dae6372e-68c4-4ea9-a07a-a28734ab2c55",
   "metadata": {},
   "source": [
    "## Cluster experiment 1"
   ]
  },
  {
   "cell_type": "code",
   "execution_count": 22,
   "id": "c83e946e-57e6-4564-87b1-87187391bf3c",
   "metadata": {},
   "outputs": [
    {
     "name": "stderr",
     "output_type": "stream",
     "text": [
      "Completed iteration 1, root rows count 26\n",
      "Completed iteration 2, root rows count 0\n"
     ]
    }
   ],
   "source": [
    "clusters = linker.cluster_pairwise_predictions_at_threshold(\n",
    "    predictions,\n",
    "    threshold_match_probability=0.7,\n",
    "    pairwise_formatting=True,\n",
    "    filter_pairwise_format_for_clusters=False,\n",
    ")"
   ]
  },
  {
   "cell_type": "code",
   "execution_count": 23,
   "id": "0594025a-cb24-48ea-98c2-f1bd2f977cca",
   "metadata": {},
   "outputs": [],
   "source": [
    "df_clusters = clusters.as_pandas_dataframe()"
   ]
  },
  {
   "cell_type": "code",
   "execution_count": 43,
   "id": "5617a380-ed0f-4bbf-beb2-e50a93b4c807",
   "metadata": {},
   "outputs": [
    {
     "data": {
      "text/html": [
       "<div>\n",
       "<style scoped>\n",
       "    .dataframe tbody tr th:only-of-type {\n",
       "        vertical-align: middle;\n",
       "    }\n",
       "\n",
       "    .dataframe tbody tr th {\n",
       "        vertical-align: top;\n",
       "    }\n",
       "\n",
       "    .dataframe thead th {\n",
       "        text-align: right;\n",
       "    }\n",
       "</style>\n",
       "<table border=\"1\" class=\"dataframe\">\n",
       "  <thead>\n",
       "    <tr style=\"text-align: right;\">\n",
       "      <th></th>\n",
       "      <th>match_weight</th>\n",
       "      <th>match_probability</th>\n",
       "      <th>source_dataset_l</th>\n",
       "      <th>source_dataset_r</th>\n",
       "      <th>unique_id_l</th>\n",
       "      <th>unique_id_r</th>\n",
       "      <th>comp_num_clean_l</th>\n",
       "      <th>comp_num_clean_r</th>\n",
       "      <th>gamma_comp_num_clean</th>\n",
       "      <th>tf_comp_num_clean_l</th>\n",
       "      <th>tf_comp_num_clean_r</th>\n",
       "      <th>bf_comp_num_clean</th>\n",
       "      <th>bf_tf_adj_comp_num_clean</th>\n",
       "      <th>name_unusual_tokens_l</th>\n",
       "      <th>name_unusual_tokens_r</th>\n",
       "      <th>gamma_name_unusual_tokens</th>\n",
       "      <th>tf_name_unusual_tokens_l</th>\n",
       "      <th>tf_name_unusual_tokens_r</th>\n",
       "      <th>bf_name_unusual_tokens</th>\n",
       "      <th>bf_tf_adj_name_unusual_tokens</th>\n",
       "      <th>postcode_area_l</th>\n",
       "      <th>postcode_area_r</th>\n",
       "      <th>gamma_postcode_area</th>\n",
       "      <th>bf_postcode_area</th>\n",
       "      <th>secondary_name_unusual_tokens_l</th>\n",
       "      <th>secondary_name_unusual_tokens_r</th>\n",
       "      <th>match_key</th>\n",
       "      <th>cluster_id_l</th>\n",
       "      <th>cluster_id_r</th>\n",
       "    </tr>\n",
       "  </thead>\n",
       "  <tbody>\n",
       "  </tbody>\n",
       "</table>\n",
       "</div>"
      ],
      "text/plain": [
       "Empty DataFrame\n",
       "Columns: [match_weight, match_probability, source_dataset_l, source_dataset_r, unique_id_l, unique_id_r, comp_num_clean_l, comp_num_clean_r, gamma_comp_num_clean, tf_comp_num_clean_l, tf_comp_num_clean_r, bf_comp_num_clean, bf_tf_adj_comp_num_clean, name_unusual_tokens_l, name_unusual_tokens_r, gamma_name_unusual_tokens, tf_name_unusual_tokens_l, tf_name_unusual_tokens_r, bf_name_unusual_tokens, bf_tf_adj_name_unusual_tokens, postcode_area_l, postcode_area_r, gamma_postcode_area, bf_postcode_area, secondary_name_unusual_tokens_l, secondary_name_unusual_tokens_r, match_key, cluster_id_l, cluster_id_r]\n",
       "Index: []"
      ]
     },
     "execution_count": 43,
     "metadata": {},
     "output_type": "execute_result"
    }
   ],
   "source": [
    "df_clusters[df_clusters.cluster_id_l != df_clusters.cluster_id_r].head(5)"
   ]
  },
  {
   "cell_type": "markdown",
   "id": "e5f9cae8-5d49-4904-aef0-258c6dd9a0b7",
   "metadata": {},
   "source": [
    "I told Leo there was a problem when these don't match. I think they only don't match when the _prediction_ threshold and _clustering_ threshold don't match. When clustering is higher than prediction, you end up with dangling, clusterless matches in the pairwise dataframe.\n",
    "\n",
    "Consider the following where prediction threshold was 0.5:\n",
    "\n",
    "```\n",
    "A -> B (0.5)\n",
    "B -> C (0.7)\n",
    "```\n",
    "\n",
    "With clustering threshold 0.7:\n",
    "\n",
    "```\n",
    "A, 1\n",
    "B, 2\n",
    "C, 2\n",
    "```\n",
    "\n",
    "And in the pairwise dataframe:\n",
    "\n",
    "```\n",
    "A (cluster 1) -> B (cluster 2) (0.5)\n",
    "B (cluster 2) -> C (cluster 2) (0.7)\n",
    "```\n",
    "\n",
    "But if they both match, where the prediction and clustering thresholds are both 0.5:\n",
    "\n",
    "```\n",
    "A (cluster 1) -> B (cluster 1) (0.5)\n",
    "B (cluster 1) -> C (cluster 1) (0.7)\n",
    "```\n",
    "\n",
    "Indeed, we can confirm by forcing the imbalance and checking that every combination of cluster l/r is unique in the clustering mismatches in the pairwise dataframe. They are."
   ]
  },
  {
   "cell_type": "code",
   "execution_count": 44,
   "id": "cb96c6d1-2a7a-4756-a39a-e48f9605e0a4",
   "metadata": {},
   "outputs": [
    {
     "data": {
      "text/html": [
       "<div><style>\n",
       ".dataframe > thead > tr > th,\n",
       ".dataframe > tbody > tr > td {\n",
       "  text-align: right;\n",
       "}\n",
       "</style>\n",
       "<small>shape: (0, 3)</small><table border=\"1\" class=\"dataframe\"><thead><tr><th>cluster_id_l</th><th>cluster_id_r</th><th>count</th></tr><tr><td>str</td><td>str</td><td>u32</td></tr></thead><tbody></tbody></table></div>"
      ],
      "text/plain": [
       "shape: (0, 3)\n",
       "┌──────────────┬──────────────┬───────┐\n",
       "│ cluster_id_l ┆ cluster_id_r ┆ count │\n",
       "│ ---          ┆ ---          ┆ ---   │\n",
       "│ str          ┆ str          ┆ u32   │\n",
       "╞══════════════╪══════════════╪═══════╡\n",
       "└──────────────┴──────────────┴───────┘"
      ]
     },
     "execution_count": 44,
     "metadata": {},
     "output_type": "execute_result"
    }
   ],
   "source": [
    "(\n",
    "    pl.from_pandas(df_clusters[df_clusters.cluster_id_l != df_clusters.cluster_id_r])\n",
    "    .groupby(['cluster_id_l', 'cluster_id_r'])\n",
    "    .count()\n",
    "    .filter(pl.col('count') > 1)\n",
    ")"
   ]
  },
  {
   "cell_type": "code",
   "execution_count": 74,
   "id": "bc3ea12a-2dc5-4405-96e9-245bb5b69bfa",
   "metadata": {},
   "outputs": [
    {
     "data": {
      "text/plain": [
       "dit_export_wins__wins_dataset    146817\n",
       "dit_data_hub__companies            8967\n",
       "companieshouse_companies           1289\n",
       "Name: source_dataset_l, dtype: int64"
      ]
     },
     "execution_count": 74,
     "metadata": {},
     "output_type": "execute_result"
    },
    {
     "data": {
      "text/plain": [
       "dit_export_wins__wins_dataset    155957\n",
       "dit_data_hub__companies            1116\n",
       "Name: source_dataset_r, dtype: int64"
      ]
     },
     "execution_count": 74,
     "metadata": {},
     "output_type": "execute_result"
    }
   ],
   "source": [
    "df_clusters.source_dataset_l.value_counts()\n",
    "df_clusters.source_dataset_r.value_counts()"
   ]
  },
  {
   "cell_type": "code",
   "execution_count": 24,
   "id": "de134e7d-8540-4714-b00d-43e1e0e2b181",
   "metadata": {},
   "outputs": [],
   "source": [
    "lookup = duckdb.sql(\"\"\"\n",
    "    select\n",
    "        source_dataset_l as source,\n",
    "        unique_id_l as source_id,\n",
    "        cluster_id_l as source_cluster,\n",
    "        source_dataset_r as target,\n",
    "        unique_id_r as target_id,\n",
    "        cluster_id_r as target_cluster,\n",
    "        match_probability\n",
    "    from\n",
    "        df_clusters\n",
    "    union\n",
    "    select\n",
    "        source_dataset_r as source,\n",
    "        unique_id_r as source_id,\n",
    "        cluster_id_r as source_cluster,\n",
    "        source_dataset_l as target,\n",
    "        unique_id_l as target_id,\n",
    "        cluster_id_l as target_cluster,\n",
    "        match_probability\n",
    "    from\n",
    "        df_clusters\n",
    "\"\"\")"
   ]
  },
  {
   "cell_type": "code",
   "execution_count": 99,
   "id": "782e3334-558d-43f3-a314-21d60dd22690",
   "metadata": {},
   "outputs": [
    {
     "data": {
      "text/plain": [
       "dit_export_wins__wins_dataset    299523\n",
       "hmrc_trade__exporters            151828\n",
       "dit_data_hub__companies           28231\n",
       "companieshouse_companies           2536\n",
       "Name: source, dtype: int64"
      ]
     },
     "execution_count": 99,
     "metadata": {},
     "output_type": "execute_result"
    }
   ],
   "source": [
    "lookup.df().source.value_counts()"
   ]
  },
  {
   "cell_type": "code",
   "execution_count": 42,
   "id": "90b56b9d-8416-4206-bc82-3d632f3fe570",
   "metadata": {},
   "outputs": [
    {
     "data": {
      "text/html": [
       "<div>\n",
       "<style scoped>\n",
       "    .dataframe tbody tr th:only-of-type {\n",
       "        vertical-align: middle;\n",
       "    }\n",
       "\n",
       "    .dataframe tbody tr th {\n",
       "        vertical-align: top;\n",
       "    }\n",
       "\n",
       "    .dataframe thead th {\n",
       "        text-align: right;\n",
       "    }\n",
       "</style>\n",
       "<table border=\"1\" class=\"dataframe\">\n",
       "  <thead>\n",
       "    <tr style=\"text-align: right;\">\n",
       "      <th></th>\n",
       "      <th>source</th>\n",
       "      <th>source_id</th>\n",
       "      <th>source_cluster</th>\n",
       "      <th>target</th>\n",
       "      <th>target_id</th>\n",
       "      <th>target_cluster</th>\n",
       "      <th>match_probability</th>\n",
       "    </tr>\n",
       "  </thead>\n",
       "  <tbody>\n",
       "    <tr>\n",
       "      <th>0</th>\n",
       "      <td>dit_export_wins__wins_dataset</td>\n",
       "      <td>1dbec4d3-da65-4642-b343-4e611f41982d</td>\n",
       "      <td>dit_export_wins__wins_dataset-__-1dbec4d3-da65...</td>\n",
       "      <td>dit_export_wins__wins_dataset</td>\n",
       "      <td>a9a73745-1696-48bd-beb7-522a2cd325c6</td>\n",
       "      <td>dit_export_wins__wins_dataset-__-1dbec4d3-da65...</td>\n",
       "      <td>0.999913</td>\n",
       "    </tr>\n",
       "    <tr>\n",
       "      <th>1</th>\n",
       "      <td>dit_export_wins__wins_dataset</td>\n",
       "      <td>2e724392-abcf-437e-a8c5-fec6f2a72fe2</td>\n",
       "      <td>dit_export_wins__wins_dataset-__-1dc53fda-805a...</td>\n",
       "      <td>dit_export_wins__wins_dataset</td>\n",
       "      <td>b9b3badd-68a9-48f8-b800-50ac146bf91c</td>\n",
       "      <td>dit_export_wins__wins_dataset-__-1dc53fda-805a...</td>\n",
       "      <td>0.999935</td>\n",
       "    </tr>\n",
       "    <tr>\n",
       "      <th>2</th>\n",
       "      <td>dit_export_wins__wins_dataset</td>\n",
       "      <td>1df38b15-ba6e-4378-9ded-753cc27dc87d</td>\n",
       "      <td>dit_export_wins__wins_dataset-__-1df38b15-ba6e...</td>\n",
       "      <td>dit_export_wins__wins_dataset</td>\n",
       "      <td>3485848d-8ffd-4ef1-a4ee-479d47bc448b</td>\n",
       "      <td>dit_export_wins__wins_dataset-__-1df38b15-ba6e...</td>\n",
       "      <td>0.999674</td>\n",
       "    </tr>\n",
       "    <tr>\n",
       "      <th>3</th>\n",
       "      <td>dit_export_wins__wins_dataset</td>\n",
       "      <td>1df38b15-ba6e-4378-9ded-753cc27dc87d</td>\n",
       "      <td>dit_export_wins__wins_dataset-__-1df38b15-ba6e...</td>\n",
       "      <td>dit_export_wins__wins_dataset</td>\n",
       "      <td>764b6f8a-4ac8-4b5f-a8f3-3164ff41d4b9</td>\n",
       "      <td>dit_export_wins__wins_dataset-__-1df38b15-ba6e...</td>\n",
       "      <td>0.999674</td>\n",
       "    </tr>\n",
       "    <tr>\n",
       "      <th>4</th>\n",
       "      <td>dit_export_wins__wins_dataset</td>\n",
       "      <td>764b6f8a-4ac8-4b5f-a8f3-3164ff41d4b9</td>\n",
       "      <td>dit_export_wins__wins_dataset-__-1df38b15-ba6e...</td>\n",
       "      <td>dit_export_wins__wins_dataset</td>\n",
       "      <td>e6b6f554-f5ff-4658-8079-0134e09e00a0</td>\n",
       "      <td>dit_export_wins__wins_dataset-__-1df38b15-ba6e...</td>\n",
       "      <td>0.999674</td>\n",
       "    </tr>\n",
       "    <tr>\n",
       "      <th>...</th>\n",
       "      <td>...</td>\n",
       "      <td>...</td>\n",
       "      <td>...</td>\n",
       "      <td>...</td>\n",
       "      <td>...</td>\n",
       "      <td>...</td>\n",
       "      <td>...</td>\n",
       "    </tr>\n",
       "    <tr>\n",
       "      <th>313537</th>\n",
       "      <td>dit_export_wins__wins_dataset</td>\n",
       "      <td>ecd3306e-1909-461f-b994-c028da621ca9</td>\n",
       "      <td>dit_export_wins__wins_dataset-__-0e68c25c-0230...</td>\n",
       "      <td>dit_export_wins__wins_dataset</td>\n",
       "      <td>409b43e7-14d6-488e-9bb9-de81c7aa3704</td>\n",
       "      <td>dit_export_wins__wins_dataset-__-0e68c25c-0230...</td>\n",
       "      <td>0.999823</td>\n",
       "    </tr>\n",
       "    <tr>\n",
       "      <th>313538</th>\n",
       "      <td>dit_export_wins__wins_dataset</td>\n",
       "      <td>d3bbbb75-34eb-43c0-bfbf-d772b64d1a72</td>\n",
       "      <td>dit_export_wins__wins_dataset-__-0e6f01a3-98be...</td>\n",
       "      <td>dit_export_wins__wins_dataset</td>\n",
       "      <td>8c1940f2-6c0c-4aee-97cc-1ee67937c0d3</td>\n",
       "      <td>dit_export_wins__wins_dataset-__-0e6f01a3-98be...</td>\n",
       "      <td>0.999772</td>\n",
       "    </tr>\n",
       "    <tr>\n",
       "      <th>313539</th>\n",
       "      <td>dit_export_wins__wins_dataset</td>\n",
       "      <td>cb3a076c-bc51-4950-a31a-0e47029ab1de</td>\n",
       "      <td>dit_export_wins__wins_dataset-__-0e714516-011d...</td>\n",
       "      <td>dit_export_wins__wins_dataset</td>\n",
       "      <td>47d90de2-7ee4-45b9-a3c4-dd92e3ab7132</td>\n",
       "      <td>dit_export_wins__wins_dataset-__-0e714516-011d...</td>\n",
       "      <td>0.999436</td>\n",
       "    </tr>\n",
       "    <tr>\n",
       "      <th>313540</th>\n",
       "      <td>dit_export_wins__wins_dataset</td>\n",
       "      <td>a5699268-a2e9-4d8b-9b15-0956dc37f36c</td>\n",
       "      <td>dit_export_wins__wins_dataset-__-0e714516-011d...</td>\n",
       "      <td>dit_export_wins__wins_dataset</td>\n",
       "      <td>6599a87b-2e42-4e99-bcf1-cbcc7695dd77</td>\n",
       "      <td>dit_export_wins__wins_dataset-__-0e714516-011d...</td>\n",
       "      <td>0.999436</td>\n",
       "    </tr>\n",
       "    <tr>\n",
       "      <th>313541</th>\n",
       "      <td>dit_export_wins__wins_dataset</td>\n",
       "      <td>f7a63b54-a909-40e4-a8b8-1ff8784c9acc</td>\n",
       "      <td>dit_export_wins__wins_dataset-__-0e788c34-27d6...</td>\n",
       "      <td>dit_export_wins__wins_dataset</td>\n",
       "      <td>be8a696b-892a-40fe-b91c-eb163bb5c913</td>\n",
       "      <td>dit_export_wins__wins_dataset-__-0e788c34-27d6...</td>\n",
       "      <td>0.999768</td>\n",
       "    </tr>\n",
       "  </tbody>\n",
       "</table>\n",
       "<p>313542 rows × 7 columns</p>\n",
       "</div>"
      ],
      "text/plain": [
       "                               source                             source_id  \\\n",
       "0       dit_export_wins__wins_dataset  1dbec4d3-da65-4642-b343-4e611f41982d   \n",
       "1       dit_export_wins__wins_dataset  2e724392-abcf-437e-a8c5-fec6f2a72fe2   \n",
       "2       dit_export_wins__wins_dataset  1df38b15-ba6e-4378-9ded-753cc27dc87d   \n",
       "3       dit_export_wins__wins_dataset  1df38b15-ba6e-4378-9ded-753cc27dc87d   \n",
       "4       dit_export_wins__wins_dataset  764b6f8a-4ac8-4b5f-a8f3-3164ff41d4b9   \n",
       "...                               ...                                   ...   \n",
       "313537  dit_export_wins__wins_dataset  ecd3306e-1909-461f-b994-c028da621ca9   \n",
       "313538  dit_export_wins__wins_dataset  d3bbbb75-34eb-43c0-bfbf-d772b64d1a72   \n",
       "313539  dit_export_wins__wins_dataset  cb3a076c-bc51-4950-a31a-0e47029ab1de   \n",
       "313540  dit_export_wins__wins_dataset  a5699268-a2e9-4d8b-9b15-0956dc37f36c   \n",
       "313541  dit_export_wins__wins_dataset  f7a63b54-a909-40e4-a8b8-1ff8784c9acc   \n",
       "\n",
       "                                           source_cluster  \\\n",
       "0       dit_export_wins__wins_dataset-__-1dbec4d3-da65...   \n",
       "1       dit_export_wins__wins_dataset-__-1dc53fda-805a...   \n",
       "2       dit_export_wins__wins_dataset-__-1df38b15-ba6e...   \n",
       "3       dit_export_wins__wins_dataset-__-1df38b15-ba6e...   \n",
       "4       dit_export_wins__wins_dataset-__-1df38b15-ba6e...   \n",
       "...                                                   ...   \n",
       "313537  dit_export_wins__wins_dataset-__-0e68c25c-0230...   \n",
       "313538  dit_export_wins__wins_dataset-__-0e6f01a3-98be...   \n",
       "313539  dit_export_wins__wins_dataset-__-0e714516-011d...   \n",
       "313540  dit_export_wins__wins_dataset-__-0e714516-011d...   \n",
       "313541  dit_export_wins__wins_dataset-__-0e788c34-27d6...   \n",
       "\n",
       "                               target                             target_id  \\\n",
       "0       dit_export_wins__wins_dataset  a9a73745-1696-48bd-beb7-522a2cd325c6   \n",
       "1       dit_export_wins__wins_dataset  b9b3badd-68a9-48f8-b800-50ac146bf91c   \n",
       "2       dit_export_wins__wins_dataset  3485848d-8ffd-4ef1-a4ee-479d47bc448b   \n",
       "3       dit_export_wins__wins_dataset  764b6f8a-4ac8-4b5f-a8f3-3164ff41d4b9   \n",
       "4       dit_export_wins__wins_dataset  e6b6f554-f5ff-4658-8079-0134e09e00a0   \n",
       "...                               ...                                   ...   \n",
       "313537  dit_export_wins__wins_dataset  409b43e7-14d6-488e-9bb9-de81c7aa3704   \n",
       "313538  dit_export_wins__wins_dataset  8c1940f2-6c0c-4aee-97cc-1ee67937c0d3   \n",
       "313539  dit_export_wins__wins_dataset  47d90de2-7ee4-45b9-a3c4-dd92e3ab7132   \n",
       "313540  dit_export_wins__wins_dataset  6599a87b-2e42-4e99-bcf1-cbcc7695dd77   \n",
       "313541  dit_export_wins__wins_dataset  be8a696b-892a-40fe-b91c-eb163bb5c913   \n",
       "\n",
       "                                           target_cluster  match_probability  \n",
       "0       dit_export_wins__wins_dataset-__-1dbec4d3-da65...           0.999913  \n",
       "1       dit_export_wins__wins_dataset-__-1dc53fda-805a...           0.999935  \n",
       "2       dit_export_wins__wins_dataset-__-1df38b15-ba6e...           0.999674  \n",
       "3       dit_export_wins__wins_dataset-__-1df38b15-ba6e...           0.999674  \n",
       "4       dit_export_wins__wins_dataset-__-1df38b15-ba6e...           0.999674  \n",
       "...                                                   ...                ...  \n",
       "313537  dit_export_wins__wins_dataset-__-0e68c25c-0230...           0.999823  \n",
       "313538  dit_export_wins__wins_dataset-__-0e6f01a3-98be...           0.999772  \n",
       "313539  dit_export_wins__wins_dataset-__-0e714516-011d...           0.999436  \n",
       "313540  dit_export_wins__wins_dataset-__-0e714516-011d...           0.999436  \n",
       "313541  dit_export_wins__wins_dataset-__-0e788c34-27d6...           0.999768  \n",
       "\n",
       "[313542 rows x 7 columns]"
      ]
     },
     "execution_count": 42,
     "metadata": {},
     "output_type": "execute_result"
    }
   ],
   "source": [
    "lookup.df()"
   ]
  },
  {
   "cell_type": "code",
   "execution_count": 100,
   "id": "05bb1d3b-3c49-48bb-85d1-58a1dccf1cbc",
   "metadata": {},
   "outputs": [
    {
     "data": {
      "text/plain": [
       "┌──────────────────────────────────┬──────────────────────────────────┐\n",
       "│           company_name           │           company_name           │\n",
       "│             varchar              │             varchar              │\n",
       "├──────────────────────────────────┼──────────────────────────────────┤\n",
       "│ MICRO:BIT EDUCATIONAL FOUNDATION │ MICRO:BIT EDUCATIONAL FOUNDATION │\n",
       "│ TSL PROFESSIONAL PRODUCTS LTD.   │ TSL Professional Products Ltd    │\n",
       "│ FORTIS TECHNOLOGIES LIMITED      │ FORTIS TECHNOLOGIES LIMITED      │\n",
       "│ RAILD IMPORTS LIMITED            │ Raild Imports Ltd                │\n",
       "│ DOMINO UK LIMITED                │ Domino UK Ltd                    │\n",
       "│ PS DISTRIBUTION LTD              │ PS DISTRIBUTION LTD              │\n",
       "│ WILD LIFE WORLD LIMITED          │ Wild Life World                  │\n",
       "│ PEAK COMMUNICATIONS LIMITED      │ Peak Communications Limited      │\n",
       "│ ANYWHERE WI-FI LIMITED           │ ANYWHERE WI-FI LIMITED           │\n",
       "│ THERMOTEKNIX SYSTEMS LIMITED     │ Thermoteknix Systems Ltd         │\n",
       "│            ·                     │            ·                     │\n",
       "│            ·                     │            ·                     │\n",
       "│            ·                     │            ·                     │\n",
       "│ RYSE ENERGY (UK) LIMITED         │ RYSE ENERGY (UK) LIMITED         │\n",
       "│ KOBUS SERVICES LIMITED           │ KOBUS SERVICES LIMITED           │\n",
       "│ FABFUNKY LTD                     │ Fabfunky Ltd                     │\n",
       "│ FABFUNKY LTD                     │ Fabfunky Ltd                     │\n",
       "│ SEA-BAND LIMITED                 │ SEA-BAND LIMITED                 │\n",
       "│ TEMPLE FORTUNE LTD               │ Temple Fortune LTD               │\n",
       "│ AERLOOM LONDON LIMITED           │ AERLOOM LONDON LIMITED           │\n",
       "│ RYSE ENERGY (UK) LIMITED         │ Ryse Energy                      │\n",
       "│ TEMPLE FORTUNE LTD               │ Temple Fortune LTD               │\n",
       "│ ROMA PRAMS LIMITED               │ Roma Prams Limited               │\n",
       "├──────────────────────────────────┴──────────────────────────────────┤\n",
       "│ 8568 rows (20 shown)                                      2 columns │\n",
       "└─────────────────────────────────────────────────────────────────────┘"
      ]
     },
     "execution_count": 100,
     "metadata": {},
     "output_type": "execute_result"
    }
   ],
   "source": [
    "duckdb.sql(\"\"\"\n",
    "    select\n",
    "        dh.company_name,\n",
    "        ew.company_name\n",
    "    from\n",
    "        lookup lookup\n",
    "    inner join df_dh dh on\n",
    "        lookup.source_id = dh.unique_id and\n",
    "        lookup.source = 'dit_data_hub__companies'\n",
    "    inner join df_ew ew on\n",
    "        lookup.target_id = ew.unique_id and\n",
    "        lookup.target = 'dit_export_wins__wins_dataset'\n",
    "\"\"\")"
   ]
  },
  {
   "cell_type": "markdown",
   "id": "66607f98-d895-4f53-b1c5-f0324beff981",
   "metadata": {},
   "source": [
    "## Lookup testing"
   ]
  },
  {
   "cell_type": "code",
   "execution_count": 16,
   "id": "b254f876-d57c-4094-b93c-c0872236cd8a",
   "metadata": {},
   "outputs": [],
   "source": [
    "lookup = duckdb.sql(\"\"\"\n",
    "    select\n",
    "        source_dataset_l as source,\n",
    "        unique_id_l as source_id,\n",
    "        cluster_id_l as source_cluster,\n",
    "        source_dataset_r as target,\n",
    "        unique_id_r as target_id,\n",
    "        cluster_id_r as target_cluster,\n",
    "        match_probability\n",
    "    from\n",
    "        df_clusters\n",
    "    union\n",
    "    select\n",
    "        source_dataset_r as source,\n",
    "        unique_id_r as source_id,\n",
    "        cluster_id_r as source_cluster,\n",
    "        source_dataset_l as target,\n",
    "        unique_id_l as target_id,\n",
    "        cluster_id_l as target_cluster,\n",
    "        match_probability\n",
    "    from\n",
    "        df_clusters\n",
    "\"\"\")"
   ]
  },
  {
   "cell_type": "markdown",
   "id": "69b6208a-8973-4409-a23a-363100af75cb",
   "metadata": {},
   "source": [
    "21/6: This seems like the best selection method for joining an eventual lookup. This RETAINS duplicates. If there are lots of export wins in the target dataset, every one is getting returned. "
   ]
  },
  {
   "cell_type": "code",
   "execution_count": 17,
   "id": "d5eb8416-c837-4e11-bffc-b10f2ebc90fa",
   "metadata": {},
   "outputs": [
    {
     "data": {
      "text/plain": [
       "(100273, 4)"
      ]
     },
     "execution_count": 17,
     "metadata": {},
     "output_type": "execute_result"
    },
    {
     "data": {
      "text/plain": [
       "┌───────────┬─────────────────────────────────────────────┬─────────────────────────────────────────────┬─────────┐\n",
       "│ unique_id │                   ch_name                   │                   dh_name                   │ ew_name │\n",
       "│  varchar  │                   varchar                   │                   varchar                   │ varchar │\n",
       "├───────────┼─────────────────────────────────────────────┼─────────────────────────────────────────────┼─────────┤\n",
       "│ 01341280  │ T.E.L. ENGINEERING LIMITED                  │ T.E.L. ENGINEERING LIMITED                  │ NULL    │\n",
       "│ 02925653  │ CORPORATE DOCUMENT SERVICES LIMITED         │ CORPORATE DOCUMENT SERVICES LIMITED         │ NULL    │\n",
       "│ 04650763  │ KEYSTONE LAW LIMITED                        │ KEYSTONE LAW LIMITED                        │ NULL    │\n",
       "│ 05517238  │ DESCOMED LIMITED                            │ DESCOMED LIMITED                            │ NULL    │\n",
       "│ 05912338  │ IMA (KLESSMANN) UK LTD                      │ IMA (KLESSMANN) UK LTD                      │ NULL    │\n",
       "│ 07171071  │ HS VENTURES LTD                             │ HS VENTURES LTD                             │ NULL    │\n",
       "│ 07661388  │ PR AGENCY ONE LTD                           │ PR AGENCY ONE LTD                           │ NULL    │\n",
       "│ 08267996  │ DRINKWELL BEVERAGES LIMITED                 │ DRINKWELL BEVERAGES LIMITED                 │ NULL    │\n",
       "│ 08355388  │ ALLIED PROTEK ENGINEERING SOLUTIONS LIMITED │ ALLIED PROTEK ENGINEERING SOLUTIONS LIMITED │ NULL    │\n",
       "│ 08813662  │ VIKING SYSTEMS LIMITED                      │ VIKING SYSTEMS LIMITED                      │ NULL    │\n",
       "│    ·      │       ·                                     │  ·                                          │  ·      │\n",
       "│    ·      │       ·                                     │  ·                                          │  ·      │\n",
       "│    ·      │       ·                                     │  ·                                          │  ·      │\n",
       "│ 08452243  │ L WOOLLARD LTD                              │ NULL                                        │ NULL    │\n",
       "│ 07536706  │ RBM MEDIA LIMITED                           │ NULL                                        │ NULL    │\n",
       "│ 04957037  │ ABBEYDEAN LIMITED                           │ NULL                                        │ NULL    │\n",
       "│ 12888136  │ BAKA TRANS LIMITED                          │ NULL                                        │ NULL    │\n",
       "│ 08018267  │ CLAIRE WILSON CONSULTING LIMITED            │ NULL                                        │ NULL    │\n",
       "│ 08096083  │ IN CAR PRODUCTS LIMITED                     │ NULL                                        │ NULL    │\n",
       "│ 10199031  │ VIA PROPERTIES DEVELOPMENTS LTD             │ NULL                                        │ NULL    │\n",
       "│ SC701232  │ PARKDALE HOLDINGS LTD                       │ NULL                                        │ NULL    │\n",
       "│ 10737855  │ COLONIAL RECRUITMENT LONDON LIMITED         │ NULL                                        │ NULL    │\n",
       "│ 05046203  │ GREENKEY PROPERTIES LIMITED                 │ NULL                                        │ NULL    │\n",
       "├───────────┴─────────────────────────────────────────────┴─────────────────────────────────────────────┴─────────┤\n",
       "│ ? rows (>9999 rows, 20 shown)                                                                         4 columns │\n",
       "└─────────────────────────────────────────────────────────────────────────────────────────────────────────────────┘"
      ]
     },
     "execution_count": 17,
     "metadata": {},
     "output_type": "execute_result"
    }
   ],
   "source": [
    "join_with_dupes = duckdb.sql(\"\"\"\n",
    "    select\n",
    "        ch.unique_id,\n",
    "        ch.company_name as ch_name,\n",
    "        dh.company_name as dh_name,\n",
    "        ew.company_name as ew_name\n",
    "    from (\n",
    "        select \n",
    "            *\n",
    "        from\n",
    "            lookup lookup\n",
    "        where\n",
    "            lookup.source = 'companieshouse_companies'\n",
    "            and lookup.target in (\n",
    "                'dit_data_hub__companies',\n",
    "                'dit_export_wins__wins_dataset'\n",
    "            )\n",
    "    ) lookup\n",
    "    right outer join df_ch ch on\n",
    "        lookup.source_id = ch.unique_id \n",
    "        and lookup.source = 'companieshouse_companies'\n",
    "    left join df_dh dh on\n",
    "        lookup.target_id = dh.unique_id \n",
    "        and lookup.target = 'dit_data_hub__companies'\n",
    "    left join df_ew ew on\n",
    "        lookup.target_id = ew.unique_id\n",
    "        and lookup.target = 'dit_export_wins__wins_dataset'\n",
    "\"\"\")\n",
    "\n",
    "join_with_dupes.df().shape\n",
    "join_with_dupes"
   ]
  },
  {
   "cell_type": "code",
   "execution_count": 120,
   "id": "5ef6adf2-287a-427b-bebc-a067219a4ccb",
   "metadata": {},
   "outputs": [
    {
     "data": {
      "text/plain": [
       "100000"
      ]
     },
     "execution_count": 120,
     "metadata": {},
     "output_type": "execute_result"
    },
    {
     "data": {
      "text/plain": [
       "dh_name    972\n",
       "ew_name    369\n",
       "dtype: int64"
      ]
     },
     "execution_count": 120,
     "metadata": {},
     "output_type": "execute_result"
    }
   ],
   "source": [
    "join_with_dupes.df()['unique_id'].nunique()\n",
    "join_with_dupes.df()[['dh_name', 'ew_name']].notnull().sum()"
   ]
  },
  {
   "cell_type": "code",
   "execution_count": 122,
   "id": "62606ad8-5654-4325-9761-576be111e8f7",
   "metadata": {},
   "outputs": [
    {
     "data": {
      "text/plain": [
       "┌───────────┬──────────────┐\n",
       "│ unique_id │ count_star() │\n",
       "│  varchar  │    int64     │\n",
       "├───────────┼──────────────┤\n",
       "│ 04338382  │          114 │\n",
       "│ 01243967  │           18 │\n",
       "│ 03947927  │           12 │\n",
       "│ 04501699  │            9 │\n",
       "│ 02122174  │            8 │\n",
       "└───────────┴──────────────┘"
      ]
     },
     "execution_count": 122,
     "metadata": {},
     "output_type": "execute_result"
    }
   ],
   "source": [
    "duckdb.sql(\"\"\"\n",
    "    select\n",
    "        unique_id,\n",
    "        count(*)\n",
    "    from\n",
    "        join_with_dupes\n",
    "    group by\n",
    "        unique_id\n",
    "    having\n",
    "        count(*) > 1\n",
    "    order by\n",
    "        count(*) desc\n",
    "    limit\n",
    "        5\n",
    "\"\"\")"
   ]
  },
  {
   "cell_type": "code",
   "execution_count": 123,
   "id": "aa1694c0-6101-4619-81ca-7d4af6b482de",
   "metadata": {},
   "outputs": [
    {
     "data": {
      "text/plain": [
       "┌──────────────────────────┬───────────┬───────────────────────────────┬──────────────────────────────────────┐\n",
       "│          source          │ source_id │            target             │              target_id               │\n",
       "│         varchar          │  varchar  │            varchar            │               varchar                │\n",
       "├──────────────────────────┼───────────┼───────────────────────────────┼──────────────────────────────────────┤\n",
       "│ companieshouse_companies │ 04338382  │ dit_export_wins__wins_dataset │ 92a9911a-8b61-4353-a892-af7d0c350dd2 │\n",
       "│ companieshouse_companies │ 04338382  │ dit_export_wins__wins_dataset │ 45d7793c-1506-4ddf-a1fd-757ce81c0d1f │\n",
       "│ companieshouse_companies │ 04338382  │ dit_export_wins__wins_dataset │ 2bafbb00-bdea-4227-b64e-4813ea1b9257 │\n",
       "│ companieshouse_companies │ 04338382  │ dit_export_wins__wins_dataset │ e33a2dc7-ffb5-4441-be77-5e5c7147f9dd │\n",
       "│ companieshouse_companies │ 04338382  │ hmrc_trade__exporters         │ 1642517                              │\n",
       "│ companieshouse_companies │ 04338382  │ hmrc_trade__exporters         │ 2190502                              │\n",
       "│ companieshouse_companies │ 04338382  │ dit_export_wins__wins_dataset │ df4ab573-7845-4944-a2ad-40591b43e49d │\n",
       "│ companieshouse_companies │ 04338382  │ dit_export_wins__wins_dataset │ 01791539-0425-4e66-9b5d-689de852c5ad │\n",
       "│ companieshouse_companies │ 04338382  │ dit_export_wins__wins_dataset │ 9af6062e-fd06-4bb8-ae5e-b22035ed1b2f │\n",
       "│ companieshouse_companies │ 04338382  │ dit_export_wins__wins_dataset │ 97bcb9c9-51ca-4d24-89be-a382e1605366 │\n",
       "│            ·             │    ·      │               ·               │                  ·                   │\n",
       "│            ·             │    ·      │               ·               │                  ·                   │\n",
       "│            ·             │    ·      │               ·               │                  ·                   │\n",
       "│ companieshouse_companies │ 04338382  │ dit_export_wins__wins_dataset │ b1c5181d-b10c-4e3a-98dc-2c7a827391b3 │\n",
       "│ companieshouse_companies │ 04338382  │ dit_export_wins__wins_dataset │ 80bfd1ac-13da-4727-866d-6d345891ccc0 │\n",
       "│ companieshouse_companies │ 04338382  │ dit_export_wins__wins_dataset │ 354a5653-d6ec-4ae7-b539-eeba3f8d5f7b │\n",
       "│ companieshouse_companies │ 04338382  │ dit_export_wins__wins_dataset │ 75475bd7-b1c0-4f20-957f-186fe24b8837 │\n",
       "│ companieshouse_companies │ 04338382  │ dit_export_wins__wins_dataset │ 14d0844d-77f4-4474-a30f-44285f4e9da7 │\n",
       "│ companieshouse_companies │ 04338382  │ dit_export_wins__wins_dataset │ 167b5651-37f6-4dc2-af15-401f077fa498 │\n",
       "│ companieshouse_companies │ 04338382  │ dit_export_wins__wins_dataset │ 3fd57eec-2d5d-4b1d-96ea-f51f28a15a48 │\n",
       "│ companieshouse_companies │ 04338382  │ dit_export_wins__wins_dataset │ 42fa45d9-be44-4b51-b2fc-c504cdead8b6 │\n",
       "│ companieshouse_companies │ 04338382  │ dit_export_wins__wins_dataset │ a8cc0d40-21aa-4164-9045-216449be18bc │\n",
       "│ companieshouse_companies │ 04338382  │ dit_export_wins__wins_dataset │ 5ee1a42d-f864-46a6-9902-c9a81c1839ef │\n",
       "├──────────────────────────┴───────────┴───────────────────────────────┴──────────────────────────────────────┤\n",
       "│ 116 rows (20 shown)                                                                               4 columns │\n",
       "└─────────────────────────────────────────────────────────────────────────────────────────────────────────────┘"
      ]
     },
     "execution_count": 123,
     "metadata": {},
     "output_type": "execute_result"
    }
   ],
   "source": [
    "duckdb.sql(\"\"\"\n",
    "    select\n",
    "        source, source_id, target, target_id\n",
    "    from\n",
    "        lookup\n",
    "    where\n",
    "        source_id = '04338382'\n",
    "\"\"\")"
   ]
  },
  {
   "cell_type": "code",
   "execution_count": 124,
   "id": "19636e09-2b37-4be1-a097-b72e8c59653d",
   "metadata": {},
   "outputs": [
    {
     "data": {
      "text/plain": [
       "┌──────────────────────────────────────┬────────────────┬─────────────────┬─────────────────┬──────────┐\n",
       "│              unique_id               │ company_number │  company_name   │ secondary_names │ postcode │\n",
       "│               varchar                │    varchar     │     varchar     │      int32      │  int32   │\n",
       "├──────────────────────────────────────┼────────────────┼─────────────────┼─────────────────┼──────────┤\n",
       "│ 4db14954-4396-43a4-b8bd-86b1f0c010c7 │ 04338382       │ Ruark Audio Ltd │            NULL │     NULL │\n",
       "│ bcba2b26-c263-4653-9ec9-b33cf8e5b27a │ 04338382       │ Ruark Audio Ltd │            NULL │     NULL │\n",
       "│ 24c0c65f-66ab-446d-bde3-83822098c644 │ 04338382       │ Ruark Audio Ltd │            NULL │     NULL │\n",
       "│ 3900dcae-80a7-40c7-bd5f-322603b02198 │ 04338382       │ Ruark Audio Ltd │            NULL │     NULL │\n",
       "│ eb2ecb03-ed37-4f0d-ad5e-220a1201b5a8 │ 04338382       │ Ruark Audio Ltd │            NULL │     NULL │\n",
       "│ 2cc0f862-83b9-4123-bc38-27451efa1be9 │ 04338382       │ Ruark Audio Ltd │            NULL │     NULL │\n",
       "│ e33a2dc7-ffb5-4441-be77-5e5c7147f9dd │ 04338382       │ Ruark Audio Ltd │            NULL │     NULL │\n",
       "│ 80b0fd21-7644-4c17-900a-3c56e92d47f6 │ 04338382       │ Ruark Audio Ltd │            NULL │     NULL │\n",
       "│ 61eb3d6d-5128-4dda-832f-f6276b7d7f5c │ 04338382       │ Ruark Audio Ltd │            NULL │     NULL │\n",
       "│ 15734a3a-03fb-4d62-9eda-4d77a043aff3 │ 04338382       │ Ruark Audio Ltd │            NULL │     NULL │\n",
       "│                  ·                   │    ·           │        ·        │              ·  │       ·  │\n",
       "│                  ·                   │    ·           │        ·        │              ·  │       ·  │\n",
       "│                  ·                   │    ·           │        ·        │              ·  │       ·  │\n",
       "│ 92a9911a-8b61-4353-a892-af7d0c350dd2 │ 04338382       │ Ruark Audio Ltd │            NULL │     NULL │\n",
       "│ 80bfd1ac-13da-4727-866d-6d345891ccc0 │ 04338382       │ Ruark Audio Ltd │            NULL │     NULL │\n",
       "│ b1c5181d-b10c-4e3a-98dc-2c7a827391b3 │ 04338382       │ Ruark Audio Ltd │            NULL │     NULL │\n",
       "│ c8ce120d-0405-4bbb-95f4-569e14979c08 │ 04338382       │ Ruark Audio Ltd │            NULL │     NULL │\n",
       "│ 5114a667-5514-4a01-97a3-754c37c25614 │ 04338382       │ Ruark Audio Ltd │            NULL │     NULL │\n",
       "│ a52ff3b1-fd26-4bfd-ab39-d7b06389531d │ 04338382       │ Ruark Audio Ltd │            NULL │     NULL │\n",
       "│ 2bafbb00-bdea-4227-b64e-4813ea1b9257 │ 04338382       │ Ruark Audio Ltd │            NULL │     NULL │\n",
       "│ 55fcd382-521b-4f6b-b438-323d21e66f57 │ 04338382       │ Ruark Audio Ltd │            NULL │     NULL │\n",
       "│ f1a3aa0e-2e3e-4d86-ba84-52d33ac56d97 │ 04338382       │ Ruark Audio Ltd │            NULL │     NULL │\n",
       "│ e5f1da00-4596-4a44-ae87-732315c33cca │ 04338382       │ Ruark Audio Ltd │            NULL │     NULL │\n",
       "├──────────────────────────────────────┴────────────────┴─────────────────┴─────────────────┴──────────┤\n",
       "│ 114 rows (20 shown)                                                                        5 columns │\n",
       "└──────────────────────────────────────────────────────────────────────────────────────────────────────┘"
      ]
     },
     "execution_count": 124,
     "metadata": {},
     "output_type": "execute_result"
    }
   ],
   "source": [
    "duckdb.sql(\"\"\"\n",
    "    select\n",
    "        *\n",
    "    from\n",
    "        df_ew\n",
    "    where\n",
    "        unique_id in (\n",
    "            select\n",
    "                target_id\n",
    "            from\n",
    "                lookup\n",
    "            where\n",
    "                source_id = '04338382'\n",
    "                and target = 'dit_export_wins__wins_dataset'\n",
    "        )\n",
    "\"\"\")"
   ]
  },
  {
   "cell_type": "markdown",
   "id": "3e70f810-67ca-4b3e-9c67-a6d6f8d5d37d",
   "metadata": {},
   "source": [
    "21/6: Here's my attempt with deduplication. For wins this makes little sense. For companies house to data hub, it makes loads -- you only want the match with the highest probability. Note we do this using clusters as the ID is unique to the row."
   ]
  },
  {
   "cell_type": "code",
   "execution_count": 18,
   "id": "2d2a7411-0d3b-42af-9ed8-f111a9612258",
   "metadata": {},
   "outputs": [
    {
     "data": {
      "text/plain": [
       "(100000, 4)"
      ]
     },
     "execution_count": 18,
     "metadata": {},
     "output_type": "execute_result"
    },
    {
     "data": {
      "text/plain": [
       "┌───────────┬─────────────────────────────────────┬─────────────────────────────────────────────┬──────────────────────┐\n",
       "│ unique_id │               ch_name               │                   dh_name                   │       ew_name        │\n",
       "│  varchar  │               varchar               │                   varchar                   │       varchar        │\n",
       "├───────────┼─────────────────────────────────────┼─────────────────────────────────────────────┼──────────────────────┤\n",
       "│ 01341280  │ T.E.L. ENGINEERING LIMITED          │ T.E.L. ENGINEERING LIMITED                  │ NULL                 │\n",
       "│ 01910675  │ QUARTEX COMPONENTS LIMITED          │ QUARTEX COMPONENTS LIMITED                  │ NULL                 │\n",
       "│ 02925653  │ CORPORATE DOCUMENT SERVICES LIMITED │ CORPORATE DOCUMENT SERVICES LIMITED         │ NULL                 │\n",
       "│ 04650763  │ KEYSTONE LAW LIMITED                │ KEYSTONE LAW LIMITED                        │ KEYSTONE LAW LIMITED │\n",
       "│ 05912338  │ IMA (KLESSMANN) UK LTD              │ IMA (KLESSMANN) UK LTD                      │ NULL                 │\n",
       "│ 07171071  │ HS VENTURES LTD                     │ HS VENTURES LTD                             │ NULL                 │\n",
       "│ 07661388  │ PR AGENCY ONE LTD                   │ PR AGENCY ONE LTD                           │ NULL                 │\n",
       "│ 08267996  │ DRINKWELL BEVERAGES LIMITED         │ DRINKWELL BEVERAGES LIMITED                 │ NULL                 │\n",
       "│ 08355388  │ ALLIED PROTEK ENGINEERING SOLUTIO…  │ ALLIED PROTEK ENGINEERING SOLUTIONS LIMITED │ NULL                 │\n",
       "│ 08813662  │ VIKING SYSTEMS LIMITED              │ VIKING SYSTEMS LIMITED                      │ Viking Systems Ltd.  │\n",
       "│    ·      │           ·                         │  ·                                          │  ·                   │\n",
       "│    ·      │           ·                         │  ·                                          │  ·                   │\n",
       "│    ·      │           ·                         │  ·                                          │  ·                   │\n",
       "│ 12454032  │ JASPER JENNINGS LIMITED             │ NULL                                        │ NULL                 │\n",
       "│ 14362422  │ SEDLEY LIMITED                      │ NULL                                        │ NULL                 │\n",
       "│ 04315362  │ ROSSINI SERVICES LIMITED            │ NULL                                        │ NULL                 │\n",
       "│ 14239345  │ CLAIRE BYRNE SOCIAL WORK LIMITED    │ NULL                                        │ NULL                 │\n",
       "│ NI680889  │ K & R CARS LTD                      │ NULL                                        │ NULL                 │\n",
       "│ 10912982  │ 81A ALBERT BRIDGE ROAD FREEHOLD L…  │ NULL                                        │ NULL                 │\n",
       "│ 13014537  │ HUGO MASCIE-TAYLOR CONSULTING LIM…  │ NULL                                        │ NULL                 │\n",
       "│ 08333921  │ BLACKSTAR EQUITIES LIMITED          │ NULL                                        │ NULL                 │\n",
       "│ 11336418  │ AASOG LIMITED                       │ NULL                                        │ NULL                 │\n",
       "│ 14554807  │ WOOD LETTINGS LTD                   │ NULL                                        │ NULL                 │\n",
       "├───────────┴─────────────────────────────────────┴─────────────────────────────────────────────┴──────────────────────┤\n",
       "│ ? rows (>9999 rows, 20 shown)                                                                              4 columns │\n",
       "└──────────────────────────────────────────────────────────────────────────────────────────────────────────────────────┘"
      ]
     },
     "execution_count": 18,
     "metadata": {},
     "output_type": "execute_result"
    }
   ],
   "source": [
    "join_no_dupes = duckdb.sql(\"\"\"\n",
    "    select\n",
    "        ch.unique_id,\n",
    "        ch.company_name as ch_name,\n",
    "        dh.company_name as dh_name,\n",
    "        ew.company_name as ew_name\n",
    "    from (\n",
    "        select\n",
    "            source,\n",
    "            source_id,\n",
    "            array_agg(target) as target, \n",
    "            array_agg(target_id) as target_id\n",
    "        from (\n",
    "            select distinct on (\n",
    "                lookup.source_id, \n",
    "                lookup.target,\n",
    "                lookup.target_cluster\n",
    "            )\n",
    "                *\n",
    "            from\n",
    "                lookup lookup\n",
    "            where\n",
    "                lookup.source = 'companieshouse_companies'\n",
    "                and lookup.target in (\n",
    "                    'dit_data_hub__companies',\n",
    "                    'dit_export_wins__wins_dataset'\n",
    "                )\n",
    "            order by\n",
    "                lookup.source_id, \n",
    "                lookup.target,\n",
    "                lookup.target_cluster,\n",
    "                lookup.match_probability desc\n",
    "        ) lookup\n",
    "        where\n",
    "            lookup.source = 'companieshouse_companies'\n",
    "            and lookup.target in (\n",
    "                'dit_data_hub__companies',\n",
    "                'dit_export_wins__wins_dataset'\n",
    "            )\n",
    "        group by\n",
    "            source,\n",
    "            source_id\n",
    "    ) lookup\n",
    "    right join df_ch ch on\n",
    "        lookup.source_id = ch.unique_id \n",
    "        and lookup.source = 'companieshouse_companies'\n",
    "    left join df_dh dh on\n",
    "        array_has(lookup.target_id, dh.unique_id)\n",
    "        and array_has(lookup.target, 'dit_data_hub__companies')\n",
    "    left join df_ew ew on\n",
    "        array_has(lookup.target_id, ew.unique_id)\n",
    "        and array_has(lookup.target, 'dit_export_wins__wins_dataset')\n",
    "\"\"\")\n",
    "\n",
    "join_no_dupes.df().shape\n",
    "join_no_dupes"
   ]
  },
  {
   "cell_type": "markdown",
   "id": "2f96e621-5202-4a36-ad36-cf0610ed72f4",
   "metadata": {},
   "source": [
    "## Joining experiments"
   ]
  },
  {
   "cell_type": "markdown",
   "id": "49b901e1-3952-4bd2-bbac-6ee8970b511d",
   "metadata": {},
   "source": [
    "`03104628` is a good test case."
   ]
  },
  {
   "cell_type": "code",
   "execution_count": 152,
   "id": "dcea0fa4-6bb6-43be-9e91-b2bcff1923a9",
   "metadata": {},
   "outputs": [
    {
     "data": {
      "text/plain": [
       "'companieshouse_companies-__-03104628'"
      ]
     },
     "execution_count": 152,
     "metadata": {},
     "output_type": "execute_result"
    }
   ],
   "source": [
    "duckdb.sql(\"\"\"\n",
    "    select\n",
    "        source_cluster\n",
    "    from\n",
    "        lookup\n",
    "    where\n",
    "        source_id = '03104628'\n",
    "\"\"\").df().iloc[0,0]"
   ]
  },
  {
   "cell_type": "code",
   "execution_count": 153,
   "id": "744df402-f087-4602-815a-a7dea9c87400",
   "metadata": {},
   "outputs": [
    {
     "data": {
      "text/plain": [
       "┌──────────────────────┬──────────────────────┬───┬──────────────────────┬──────────────────────┬────────────────────┐\n",
       "│        source        │      source_id       │ … │      target_id       │    target_cluster    │ match_probability  │\n",
       "│       varchar        │       varchar        │   │       varchar        │       varchar        │       double       │\n",
       "├──────────────────────┼──────────────────────┼───┼──────────────────────┼──────────────────────┼────────────────────┤\n",
       "│ companieshouse_com…  │ 03104628             │ … │ 729e4a59-ec8e-46b6…  │ companieshouse_com…  │ 0.9999652872525622 │\n",
       "│ companieshouse_com…  │ 03104628             │ … │ 2a64728a-1afa-4121…  │ companieshouse_com…  │  0.999999933251573 │\n",
       "│ dit_data_hub__comp…  │ 2a64728a-1afa-4121…  │ … │ 729e4a59-ec8e-46b6…  │ companieshouse_com…  │ 0.9999652872525622 │\n",
       "│ dit_export_wins__w…  │ 729e4a59-ec8e-46b6…  │ … │ 03104628             │ companieshouse_com…  │ 0.9999652872525622 │\n",
       "│ dit_data_hub__comp…  │ 2a64728a-1afa-4121…  │ … │ 03104628             │ companieshouse_com…  │  0.999999933251573 │\n",
       "│ dit_export_wins__w…  │ 729e4a59-ec8e-46b6…  │ … │ 2a64728a-1afa-4121…  │ companieshouse_com…  │ 0.9999652872525622 │\n",
       "├──────────────────────┴──────────────────────┴───┴──────────────────────┴──────────────────────┴────────────────────┤\n",
       "│ 6 rows                                                                                         7 columns (5 shown) │\n",
       "└────────────────────────────────────────────────────────────────────────────────────────────────────────────────────┘"
      ]
     },
     "execution_count": 153,
     "metadata": {},
     "output_type": "execute_result"
    }
   ],
   "source": [
    "duckdb.sql(\"\"\"\n",
    "    select\n",
    "        *\n",
    "    from\n",
    "        lookup\n",
    "    where\n",
    "        source_cluster = 'companieshouse_companies-__-03104628'\n",
    "\"\"\")"
   ]
  },
  {
   "cell_type": "code",
   "execution_count": 174,
   "id": "adc7b0c2-ec12-4fad-acda-1a4159419b5e",
   "metadata": {},
   "outputs": [
    {
     "data": {
      "text/plain": [
       "┌───────────┬──────────────────────────────────────────────────────────┬─────────────────────────────────────┬─────────┐\n",
       "│ unique_id │                         ch_name                          │               dh_name               │ ew_name │\n",
       "│  varchar  │                         varchar                          │               varchar               │ varchar │\n",
       "├───────────┼──────────────────────────────────────────────────────────┼─────────────────────────────────────┼─────────┤\n",
       "│ 00591960  │ CALDER OILS LIMITED                                      │ CALDER OILS LIMITED                 │ NULL    │\n",
       "│ 02926804  │ CHIEF PRODUCTIONS LIMITED                                │ CHIEF PRODUCTIONS LIMITED           │ NULL    │\n",
       "│ 05325357  │ ONE STOP PROMOTIONS LIMITED                              │ ONE STOP PROMOTIONS LIMITED         │ NULL    │\n",
       "│ 05537361  │ CONCRETE CANVAS LIMITED                                  │ CONCRETE CANVAS LIMITED             │ NULL    │\n",
       "│ 05576852  │ MINDRAY (UK) LIMITED                                     │ MINDRAY (UK) LIMITED                │ NULL    │\n",
       "│ 07735930  │ LAZARUS TRAINING LTD                                     │ LAZARUS TRAINING LTD                │ NULL    │\n",
       "│ 07928073  │ THRIVE THERAPEUTIC SOFTWARE LIMITED                      │ THRIVE THERAPEUTIC SOFTWARE LIMITED │ NULL    │\n",
       "│ 08155213  │ PIING LIMITED                                            │ PIING GROUP LIMITED                 │ NULL    │\n",
       "│ 09182461  │ FREE RUNNING BUILDINGS LIMITED                           │ FREE RUNNING BUILDINGS LIMITED      │ NULL    │\n",
       "│ 10962926  │ TREASURED TIMES LIMITED                                  │ TREASURED TIMES LIMITED             │ NULL    │\n",
       "│    ·      │      ·                                                   │  ·                                  │  ·      │\n",
       "│    ·      │      ·                                                   │  ·                                  │  ·      │\n",
       "│    ·      │      ·                                                   │  ·                                  │  ·      │\n",
       "│ 02184638  │ YORK IMPORTS                                             │ NULL                                │ NULL    │\n",
       "│ 14586231  │ BABYLON SHAWARMA LTD                                     │ NULL                                │ NULL    │\n",
       "│ 05280253  │ DE MONTFORT PARK (ASHFORD - PHASE 1) MANAGEMENT COMPAN…  │ NULL                                │ NULL    │\n",
       "│ 13680329  │ RS AUTO LEAD LTD                                         │ NULL                                │ NULL    │\n",
       "│ 09515287  │ K EUROPEAN LIMITED                                       │ NULL                                │ NULL    │\n",
       "│ 09846830  │ A.J. CORNALL (HOLDINGS) LIMITED                          │ NULL                                │ NULL    │\n",
       "│ 04257948  │ THE TRAINING & DEVELOPMENT CONSULTANCY LTD               │ NULL                                │ NULL    │\n",
       "│ 10405944  │ SW PROPERTIES (NW) LTD                                   │ NULL                                │ NULL    │\n",
       "│ 11298808  │ BEETON CONSULTING LIMITED                                │ NULL                                │ NULL    │\n",
       "│ 12701688  │ ABP MIDCO UK HOLDINGS LIMITED                            │ NULL                                │ NULL    │\n",
       "├───────────┴──────────────────────────────────────────────────────────┴─────────────────────────────────────┴─────────┤\n",
       "│ ? rows (>9999 rows, 20 shown)                                                                              4 columns │\n",
       "└──────────────────────────────────────────────────────────────────────────────────────────────────────────────────────┘"
      ]
     },
     "execution_count": 174,
     "metadata": {},
     "output_type": "execute_result"
    }
   ],
   "source": [
    "duckdb.sql(\"\"\"\n",
    "    select\n",
    "        ch.unique_id,\n",
    "        ch.company_name as ch_name,\n",
    "        dh.company_name as dh_name,\n",
    "        ew.company_name as ew_name\n",
    "    from (\n",
    "        select\n",
    "            source,\n",
    "            source_id,\n",
    "            array_agg(target) as target, \n",
    "            array_agg(target_id) as target_id\n",
    "        from (\n",
    "            select distinct on (\n",
    "                lookup.source_id, \n",
    "                lookup.target,\n",
    "                lookup.target_cluster\n",
    "            )\n",
    "                *\n",
    "            from\n",
    "                lookup lookup\n",
    "            where\n",
    "                lookup.source = 'companieshouse_companies'\n",
    "                and lookup.target in (\n",
    "                    'dit_data_hub__companies',\n",
    "                    'dit_export_wins__wins_dataset'\n",
    "                )\n",
    "            order by\n",
    "                lookup.source_id, \n",
    "                lookup.target,\n",
    "                lookup.target_cluster,\n",
    "                lookup.match_probability desc\n",
    "        ) lookup\n",
    "        where\n",
    "            lookup.source = 'companieshouse_companies'\n",
    "            and lookup.target in (\n",
    "                'dit_data_hub__companies',\n",
    "                'dit_export_wins__wins_dataset'\n",
    "            )\n",
    "        group by\n",
    "            source,\n",
    "            source_id\n",
    "    ) lookup\n",
    "    right join df_ch ch on\n",
    "        lookup.source_id = ch.unique_id \n",
    "        and lookup.source = 'companieshouse_companies'\n",
    "    left join df_dh dh on\n",
    "        array_has(lookup.target_id, dh.unique_id)\n",
    "        and array_has(lookup.target, 'dit_data_hub__companies')\n",
    "    left join df_ew ew on\n",
    "        array_has(lookup.target_id, ew.unique_id)\n",
    "        and array_has(lookup.target, 'dit_export_wins__wins_dataset')\n",
    "\"\"\")"
   ]
  },
  {
   "cell_type": "code",
   "execution_count": 127,
   "id": "436df50d-0316-44e2-ac2a-287982514f82",
   "metadata": {},
   "outputs": [
    {
     "data": {
      "text/plain": [
       "(100068, 4)"
      ]
     },
     "execution_count": 127,
     "metadata": {},
     "output_type": "execute_result"
    },
    {
     "data": {
      "text/plain": [
       "┌───────────┬───────────────────────────────────────────────┬─────────────────────────────────────┬─────────┐\n",
       "│ unique_id │                    ch_name                    │               dh_name               │ ew_name │\n",
       "│  varchar  │                    varchar                    │               varchar               │ varchar │\n",
       "├───────────┼───────────────────────────────────────────────┼─────────────────────────────────────┼─────────┤\n",
       "│ 00591960  │ CALDER OILS LIMITED                           │ CALDER OILS LIMITED                 │ NULL    │\n",
       "│ 02926804  │ CHIEF PRODUCTIONS LIMITED                     │ CHIEF PRODUCTIONS LIMITED           │ NULL    │\n",
       "│ 05325357  │ ONE STOP PROMOTIONS LIMITED                   │ ONE STOP PROMOTIONS LIMITED         │ NULL    │\n",
       "│ 05537361  │ CONCRETE CANVAS LIMITED                       │ CONCRETE CANVAS LIMITED             │ NULL    │\n",
       "│ 05576852  │ MINDRAY (UK) LIMITED                          │ MINDRAY (UK) LIMITED                │ NULL    │\n",
       "│ 07073880  │ HEAR 4 U AND HEALTHSCREEN LIMITED             │ HEAR 4 U AND HEALTHSCREEN LIMITED   │ NULL    │\n",
       "│ 07735930  │ LAZARUS TRAINING LTD                          │ LAZARUS TRAINING LTD                │ NULL    │\n",
       "│ 07928073  │ THRIVE THERAPEUTIC SOFTWARE LIMITED           │ THRIVE THERAPEUTIC SOFTWARE LIMITED │ NULL    │\n",
       "│ 08155213  │ PIING LIMITED                                 │ PIING GROUP LIMITED                 │ NULL    │\n",
       "│ 09182461  │ FREE RUNNING BUILDINGS LIMITED                │ FREE RUNNING BUILDINGS LIMITED      │ NULL    │\n",
       "│    ·      │               ·                               │  ·                                  │  ·      │\n",
       "│    ·      │               ·                               │  ·                                  │  ·      │\n",
       "│    ·      │               ·                               │  ·                                  │  ·      │\n",
       "│ 08462178  │ SOLOMON KEY PUBLISHING LIMITED                │ NULL                                │ NULL    │\n",
       "│ 05105346  │ CAPITAL PROPERTIES SOLUTIONS LIMITED          │ NULL                                │ NULL    │\n",
       "│ 13638716  │ AKSH BUILDING SERVICES LTD                    │ NULL                                │ NULL    │\n",
       "│ 14707380  │ H & S MARKETING LIMITED                       │ NULL                                │ NULL    │\n",
       "│ 14132794  │ RESOURCE LABOUR SUPPLY LTD                    │ NULL                                │ NULL    │\n",
       "│ 07311410  │ PROMOSEO LTD                                  │ NULL                                │ NULL    │\n",
       "│ 06445687  │ BUCKINGHAM PLUMBING LIMITED                   │ NULL                                │ NULL    │\n",
       "│ 11875845  │ T4C CONTRACTORS LTD                           │ NULL                                │ NULL    │\n",
       "│ 13325715  │ DERRY HILL MENSTON MANAGEMENT COMPANY LIMITED │ NULL                                │ NULL    │\n",
       "│ 02102349  │ ANCHOR DOOR SYSTEMS LIMITED                   │ NULL                                │ NULL    │\n",
       "├───────────┴───────────────────────────────────────────────┴─────────────────────────────────────┴─────────┤\n",
       "│ ? rows (>9999 rows, 20 shown)                                                                   4 columns │\n",
       "└───────────────────────────────────────────────────────────────────────────────────────────────────────────┘"
      ]
     },
     "execution_count": 127,
     "metadata": {},
     "output_type": "execute_result"
    }
   ],
   "source": [
    "join_no_dupes = duckdb.sql(\"\"\"\n",
    "    select\n",
    "        ch.unique_id,\n",
    "        ch.company_name as ch_name,\n",
    "        dh.company_name as dh_name,\n",
    "        ew.company_name as ew_name\n",
    "    from (\n",
    "        select distinct on (\n",
    "            lookup.source_id, \n",
    "            lookup.target,\n",
    "            lookup.target_cluster\n",
    "        )\n",
    "            *\n",
    "        from\n",
    "            lookup lookup\n",
    "        where\n",
    "            lookup.source = 'companieshouse_companies'\n",
    "            and lookup.target in (\n",
    "                'dit_data_hub__companies',\n",
    "                'dit_export_wins__wins_dataset'\n",
    "            )\n",
    "        order by\n",
    "            lookup.source_id, \n",
    "            lookup.target,\n",
    "            lookup.target_cluster,\n",
    "            lookup.match_probability desc\n",
    "    ) lookup\n",
    "    right outer join df_ch ch on\n",
    "        lookup.source_id = ch.unique_id \n",
    "        and lookup.source = 'companieshouse_companies'\n",
    "    left join df_dh dh on\n",
    "        lookup.target_id = dh.unique_id \n",
    "        and lookup.target = 'dit_data_hub__companies'\n",
    "    left join df_ew ew on\n",
    "        lookup.target_id = ew.unique_id\n",
    "        and lookup.target = 'dit_export_wins__wins_dataset'\n",
    "\"\"\")\n",
    "\n",
    "join_no_dupes.df().shape\n",
    "join_no_dupes"
   ]
  },
  {
   "cell_type": "code",
   "execution_count": 128,
   "id": "9164eb42-21b0-4b01-a86b-23dbe6c8c72a",
   "metadata": {},
   "outputs": [
    {
     "data": {
      "text/plain": [
       "100000"
      ]
     },
     "execution_count": 128,
     "metadata": {},
     "output_type": "execute_result"
    },
    {
     "data": {
      "text/plain": [
       "dh_name    965\n",
       "ew_name    110\n",
       "dtype: int64"
      ]
     },
     "execution_count": 128,
     "metadata": {},
     "output_type": "execute_result"
    }
   ],
   "source": [
    "join_no_dupes.df()['unique_id'].nunique()\n",
    "join_no_dupes.df()[['dh_name', 'ew_name']].notnull().sum()"
   ]
  },
  {
   "cell_type": "code",
   "execution_count": 129,
   "id": "e36eb73a-2132-4efb-b192-6bfdf8de43f3",
   "metadata": {},
   "outputs": [
    {
     "data": {
      "text/plain": [
       "┌───────────┬──────────────┐\n",
       "│ unique_id │ count_star() │\n",
       "│  varchar  │    int64     │\n",
       "├───────────┼──────────────┤\n",
       "│ 03104628  │            2 │\n",
       "│ 05191341  │            2 │\n",
       "│ 03643009  │            2 │\n",
       "│ 05939666  │            2 │\n",
       "│ 04080825  │            2 │\n",
       "└───────────┴──────────────┘"
      ]
     },
     "execution_count": 129,
     "metadata": {},
     "output_type": "execute_result"
    }
   ],
   "source": [
    "duckdb.sql(\"\"\"\n",
    "    select\n",
    "        unique_id,\n",
    "        count(*)\n",
    "    from\n",
    "        join_no_dupes\n",
    "    group by\n",
    "        unique_id\n",
    "    having\n",
    "        count(*) > 1\n",
    "    order by\n",
    "        count(*) desc\n",
    "    limit\n",
    "        5\n",
    "\"\"\")"
   ]
  },
  {
   "cell_type": "code",
   "execution_count": 130,
   "id": "bfb0e9d3-6d45-4e5c-aa99-be250e16d5f2",
   "metadata": {},
   "outputs": [
    {
     "data": {
      "text/plain": [
       "┌──────────────────────────┬───────────┬───────────────────────────────┬──────────────────────────────────────┐\n",
       "│          source          │ source_id │            target             │              target_id               │\n",
       "│         varchar          │  varchar  │            varchar            │               varchar                │\n",
       "├──────────────────────────┼───────────┼───────────────────────────────┼──────────────────────────────────────┤\n",
       "│ companieshouse_companies │ 03104628  │ dit_export_wins__wins_dataset │ 729e4a59-ec8e-46b6-a9b4-f0854cd61cd2 │\n",
       "│ companieshouse_companies │ 03104628  │ dit_data_hub__companies       │ 2a64728a-1afa-4121-8a50-16a826c7a449 │\n",
       "└──────────────────────────┴───────────┴───────────────────────────────┴──────────────────────────────────────┘"
      ]
     },
     "execution_count": 130,
     "metadata": {},
     "output_type": "execute_result"
    }
   ],
   "source": [
    "duckdb.sql(\"\"\"\n",
    "    select\n",
    "        source, source_id, target, target_id\n",
    "    from\n",
    "        lookup\n",
    "    where\n",
    "        source_id = '03104628'\n",
    "\"\"\")"
   ]
  },
  {
   "cell_type": "code",
   "execution_count": 52,
   "id": "f9d8d12f-cbe4-4413-97f0-b7d9cea411a6",
   "metadata": {},
   "outputs": [
    {
     "data": {
      "text/plain": [
       "┌───────────────────────────────┬──────────────────────────────────────┬──────────────────────────────────────┐\n",
       "│            target             │              target_id               │            target_cluster            │\n",
       "│            varchar            │               varchar                │               varchar                │\n",
       "├───────────────────────────────┼──────────────────────────────────────┼──────────────────────────────────────┤\n",
       "│ dit_data_hub__companies       │ 29a63f85-d175-e711-b809-e4115bead28a │ companieshouse_companies-__-05473995 │\n",
       "│ dit_export_wins__wins_dataset │ 5540b265-bc14-42b8-a86f-c9e8fe8fac26 │ companieshouse_companies-__-05473995 │\n",
       "└───────────────────────────────┴──────────────────────────────────────┴──────────────────────────────────────┘"
      ]
     },
     "execution_count": 52,
     "metadata": {},
     "output_type": "execute_result"
    }
   ],
   "source": [
    "duckdb.sql(\"\"\"\n",
    "    select\n",
    "        target,\n",
    "        target_id,\n",
    "        target_cluster\n",
    "    from\n",
    "        lookup\n",
    "    where\n",
    "        source = 'companieshouse_companies'\n",
    "        and source_id = '05473995'\n",
    "\"\"\")"
   ]
  },
  {
   "cell_type": "code",
   "execution_count": 250,
   "id": "c982ff7e-2d0d-4843-b1a7-80509e9c92c1",
   "metadata": {},
   "outputs": [
    {
     "data": {
      "text/plain": [
       "┌──────────────────────────────────────┬────────────────┬─────────────────┬─────────────────┬──────────┐\n",
       "│              unique_id               │ company_number │  company_name   │ secondary_names │ postcode │\n",
       "│               varchar                │    varchar     │     varchar     │     varchar     │ varchar  │\n",
       "├──────────────────────────────────────┼────────────────┼─────────────────┼─────────────────┼──────────┤\n",
       "│ c563b6d0-c9d0-4807-abc2-50924e0fd187 │ 04934116       │ IGENNUS LIMITED │                 │          │\n",
       "│ 7225951f-a78e-45ea-9227-b19f8f547609 │ 04934116       │ IGENNUS LIMITED │                 │          │\n",
       "│ 5762ed98-c51e-4371-b80f-5133130ffdb2 │ 04934116       │ IGENNUS LIMITED │                 │          │\n",
       "│ ce6d9e46-643e-4679-bc93-c7ff12d1f822 │ 04934116       │ IGENNUS LIMITED │                 │          │\n",
       "└──────────────────────────────────────┴────────────────┴─────────────────┴─────────────────┴──────────┘"
      ]
     },
     "execution_count": 250,
     "metadata": {},
     "output_type": "execute_result"
    }
   ],
   "source": [
    "duckdb.sql(\"\"\"\n",
    "    select\n",
    "        *\n",
    "    from\n",
    "        df_ew\n",
    "    where\n",
    "        unique_id in (\n",
    "            '5762ed98-c51e-4371-b80f-5133130ffdb2',\n",
    "            '7225951f-a78e-45ea-9227-b19f8f547609',\n",
    "            'c563b6d0-c9d0-4807-abc2-50924e0fd187',\n",
    "            'ce6d9e46-643e-4679-bc93-c7ff12d1f822'\n",
    "        )\n",
    "\"\"\")"
   ]
  },
  {
   "cell_type": "code",
   "execution_count": 236,
   "id": "e5f42a92-08a9-4cea-bc3f-ef39ebe5f306",
   "metadata": {},
   "outputs": [
    {
     "data": {
      "text/html": [
       "<div>\n",
       "<style scoped>\n",
       "    .dataframe tbody tr th:only-of-type {\n",
       "        vertical-align: middle;\n",
       "    }\n",
       "\n",
       "    .dataframe tbody tr th {\n",
       "        vertical-align: top;\n",
       "    }\n",
       "\n",
       "    .dataframe thead th {\n",
       "        text-align: right;\n",
       "    }\n",
       "</style>\n",
       "<table border=\"1\" class=\"dataframe\">\n",
       "  <thead>\n",
       "    <tr style=\"text-align: right;\">\n",
       "      <th></th>\n",
       "      <th>unique_id</th>\n",
       "      <th>company_number</th>\n",
       "      <th>company_name</th>\n",
       "      <th>secondary_names</th>\n",
       "      <th>company_status</th>\n",
       "      <th>account_category</th>\n",
       "      <th>address_line_1</th>\n",
       "      <th>address_line_2</th>\n",
       "      <th>post_town</th>\n",
       "      <th>county</th>\n",
       "      <th>country</th>\n",
       "      <th>postcode</th>\n",
       "      <th>sic_code_1</th>\n",
       "      <th>sic_code_2</th>\n",
       "      <th>sic_code_3</th>\n",
       "      <th>sic_code_4</th>\n",
       "    </tr>\n",
       "  </thead>\n",
       "  <tbody>\n",
       "    <tr>\n",
       "      <th>99995</th>\n",
       "      <td>13212079</td>\n",
       "      <td>13212079</td>\n",
       "      <td>JCS TRANSPORT AUDITING SERVICES LTD</td>\n",
       "      <td>[]</td>\n",
       "      <td>Active</td>\n",
       "      <td>MICRO ENTITY</td>\n",
       "      <td>WESLEY HHOUSE</td>\n",
       "      <td>BULL HILL</td>\n",
       "      <td>LEATHERHEAD</td>\n",
       "      <td></td>\n",
       "      <td>ENGLAND</td>\n",
       "      <td>KT22 7AH</td>\n",
       "      <td>70229 - Management consultancy activities othe...</td>\n",
       "      <td></td>\n",
       "      <td></td>\n",
       "      <td></td>\n",
       "    </tr>\n",
       "    <tr>\n",
       "      <th>99996</th>\n",
       "      <td>09593695</td>\n",
       "      <td>09593695</td>\n",
       "      <td>6 AND 6A QUADRANT ROAD MANAGEMENT COMPANY LTD.</td>\n",
       "      <td>[]</td>\n",
       "      <td>Active</td>\n",
       "      <td>MICRO ENTITY</td>\n",
       "      <td>FLAT 2</td>\n",
       "      <td>6A QUADRANT ROAD</td>\n",
       "      <td>THORNTON HEATH</td>\n",
       "      <td></td>\n",
       "      <td>ENGLAND</td>\n",
       "      <td>CR7 7DA</td>\n",
       "      <td>98000 - Residents property management</td>\n",
       "      <td></td>\n",
       "      <td></td>\n",
       "      <td></td>\n",
       "    </tr>\n",
       "    <tr>\n",
       "      <th>99997</th>\n",
       "      <td>11098492</td>\n",
       "      <td>11098492</td>\n",
       "      <td>CJ WEBB PROPERTY LIMITED</td>\n",
       "      <td>[]</td>\n",
       "      <td>Active</td>\n",
       "      <td>UNAUDITED ABRIDGED</td>\n",
       "      <td>19-20 BOURNE COURT</td>\n",
       "      <td>SOUTHEND ROAD</td>\n",
       "      <td>WOODFORD GREEN</td>\n",
       "      <td>ESSEX</td>\n",
       "      <td>UNITED KINGDOM</td>\n",
       "      <td>IG8 8HD</td>\n",
       "      <td>68209 - Other letting and operating of own or ...</td>\n",
       "      <td></td>\n",
       "      <td></td>\n",
       "      <td></td>\n",
       "    </tr>\n",
       "    <tr>\n",
       "      <th>99998</th>\n",
       "      <td>13854604</td>\n",
       "      <td>13854604</td>\n",
       "      <td>DB CAPTURES LIMITED</td>\n",
       "      <td>[]</td>\n",
       "      <td>Active - Proposal to Strike off</td>\n",
       "      <td>NO ACCOUNTS FILED</td>\n",
       "      <td>154 STERLING GARDENS</td>\n",
       "      <td></td>\n",
       "      <td>LONDON</td>\n",
       "      <td></td>\n",
       "      <td>ENGLAND</td>\n",
       "      <td>SE14 6DZ</td>\n",
       "      <td>74202 - Other specialist photography</td>\n",
       "      <td></td>\n",
       "      <td></td>\n",
       "      <td></td>\n",
       "    </tr>\n",
       "    <tr>\n",
       "      <th>99999</th>\n",
       "      <td>07304560</td>\n",
       "      <td>07304560</td>\n",
       "      <td>YOGA &amp; YOU LIMITED</td>\n",
       "      <td>[]</td>\n",
       "      <td>Active</td>\n",
       "      <td>DORMANT</td>\n",
       "      <td>43 VICTORIA ROAD</td>\n",
       "      <td></td>\n",
       "      <td>DARLINGTON</td>\n",
       "      <td>COUNTY DURHAM</td>\n",
       "      <td></td>\n",
       "      <td>DL1 5SF</td>\n",
       "      <td>99999 - Dormant Company</td>\n",
       "      <td></td>\n",
       "      <td></td>\n",
       "      <td></td>\n",
       "    </tr>\n",
       "  </tbody>\n",
       "</table>\n",
       "</div>"
      ],
      "text/plain": [
       "      unique_id company_number  \\\n",
       "99995  13212079       13212079   \n",
       "99996  09593695       09593695   \n",
       "99997  11098492       11098492   \n",
       "99998  13854604       13854604   \n",
       "99999  07304560       07304560   \n",
       "\n",
       "                                         company_name secondary_names  \\\n",
       "99995             JCS TRANSPORT AUDITING SERVICES LTD              []   \n",
       "99996  6 AND 6A QUADRANT ROAD MANAGEMENT COMPANY LTD.              []   \n",
       "99997                        CJ WEBB PROPERTY LIMITED              []   \n",
       "99998                             DB CAPTURES LIMITED              []   \n",
       "99999                              YOGA & YOU LIMITED              []   \n",
       "\n",
       "                        company_status    account_category  \\\n",
       "99995                           Active        MICRO ENTITY   \n",
       "99996                           Active        MICRO ENTITY   \n",
       "99997                           Active  UNAUDITED ABRIDGED   \n",
       "99998  Active - Proposal to Strike off   NO ACCOUNTS FILED   \n",
       "99999                           Active             DORMANT   \n",
       "\n",
       "             address_line_1    address_line_2       post_town         county  \\\n",
       "99995         WESLEY HHOUSE         BULL HILL     LEATHERHEAD                  \n",
       "99996                FLAT 2  6A QUADRANT ROAD  THORNTON HEATH                  \n",
       "99997    19-20 BOURNE COURT     SOUTHEND ROAD  WOODFORD GREEN          ESSEX   \n",
       "99998  154 STERLING GARDENS                            LONDON                  \n",
       "99999      43 VICTORIA ROAD                        DARLINGTON  COUNTY DURHAM   \n",
       "\n",
       "              country  postcode  \\\n",
       "99995         ENGLAND  KT22 7AH   \n",
       "99996         ENGLAND   CR7 7DA   \n",
       "99997  UNITED KINGDOM   IG8 8HD   \n",
       "99998         ENGLAND  SE14 6DZ   \n",
       "99999                   DL1 5SF   \n",
       "\n",
       "                                              sic_code_1 sic_code_2  \\\n",
       "99995  70229 - Management consultancy activities othe...              \n",
       "99996              98000 - Residents property management              \n",
       "99997  68209 - Other letting and operating of own or ...              \n",
       "99998               74202 - Other specialist photography              \n",
       "99999                            99999 - Dormant Company              \n",
       "\n",
       "      sic_code_3 sic_code_4  \n",
       "99995                        \n",
       "99996                        \n",
       "99997                        \n",
       "99998                        \n",
       "99999                        "
      ]
     },
     "execution_count": 236,
     "metadata": {},
     "output_type": "execute_result"
    }
   ],
   "source": [
    "df_ch.tail(5)"
   ]
  },
  {
   "cell_type": "markdown",
   "id": "c32230ca-e54c-428e-894c-4dd92d1cb690",
   "metadata": {},
   "source": [
    "### Failed experiments in functionalisation"
   ]
  },
  {
   "cell_type": "code",
   "execution_count": 29,
   "id": "3022bf7f-f17e-4943-94b0-49e968767f18",
   "metadata": {},
   "outputs": [
    {
     "data": {
      "text/plain": [
       "['table', 'table2']"
      ]
     },
     "execution_count": 29,
     "metadata": {},
     "output_type": "execute_result"
    }
   ],
   "source": [
    "x = [\"table alias\", \"table2 alias2\"]\n",
    "y = {}\n",
    "for i in x:\n",
    "    xi = i.split()\n",
    "    y[xi[0]] = xi[1]\n",
    "    \n",
    "list(y.keys())"
   ]
  },
  {
   "cell_type": "code",
   "execution_count": 41,
   "id": "83bca5d4-2f25-4e42-b43e-944e6ffcc640",
   "metadata": {},
   "outputs": [],
   "source": [
    "def dw_join(from_table: str = None, left_join: list = None, dedupe: bool = False):\n",
    "    # Process source\n",
    "    source_clean = from_table.replace(\"\\\"\", \"\").replace(\".\", \"_\").split()\n",
    "    \n",
    "    # Process target(s)\n",
    "    targets_clean = [\n",
    "        table.replace(\"\\\"\", \"\").replace(\".\", \"_\") \n",
    "        for table \n",
    "        in left_join\n",
    "    ]\n",
    "    targets_dict = {}  \n",
    "    for target in targets_clean:\n",
    "        target_and_alias = target.split()\n",
    "        targets_dict[target_and_alias[0]] = target_and_alias[1]\n",
    "        \n",
    "    # Some checks here\n",
    "    if dedupe:\n",
    "        dedupe_sql = f\"\"\"\n",
    "            {from_table}\n",
    "            (\n",
    "                select\n",
    "                    source,\n",
    "                    source_id,\n",
    "                    array_agg(target) as target, \n",
    "                    array_agg(target_id) as target_id\n",
    "                from (\n",
    "                    select distinct on (\n",
    "                        lookup.source_id, \n",
    "                        lookup.target,\n",
    "                        lookup.target_cluster\n",
    "                    )\n",
    "                        *\n",
    "                    from\n",
    "                        lookup lookup\n",
    "                    where\n",
    "                        lookup.source = 'companieshouse_companies'\n",
    "                        and lookup.target in (\n",
    "                            {list(targets_dict.keys())}\n",
    "                        )\n",
    "                    order by\n",
    "                        lookup.source_id, \n",
    "                        lookup.target,\n",
    "                        lookup.target_cluster,\n",
    "                        lookup.match_probability desc\n",
    "                ) lookup\n",
    "                where\n",
    "                    lookup.source = {source_clean[0]}\n",
    "                    and lookup.target in (\n",
    "                        {list(targets_dict.keys())}\n",
    "                    )\n",
    "                group by\n",
    "                    source,\n",
    "                    source_id\n",
    "            ) lookup\n",
    "            right join {source_clean[0]} {source_clean[1]} on\n",
    "                lookup.source_id = {source_clean[1]}.unique_id \n",
    "                and lookup.source = {source_clean[0]}\n",
    "        \"\"\"\n",
    "\n",
    "        for target in targets_dict.keys():\n",
    "            dedupe_sql += f\"\"\"\n",
    "                left join {target} {targets_dict[target]} on\n",
    "                    array_has(lookup.target_id, {targets_dict[target]}.unique_id)\n",
    "                    and array_has(lookup.target, {target})\n",
    "            \"\"\"\n",
    "            \n",
    "        sql = dedupe_sql\n",
    "    \n",
    "    return sql"
   ]
  },
  {
   "cell_type": "code",
   "execution_count": 42,
   "id": "48adc4ee-18cb-43e0-8d2e-8d5d47d1c55f",
   "metadata": {},
   "outputs": [
    {
     "data": {
      "text/plain": [
       "'\\n            \"companieshouse\".\"companies\" ch\\n            (\\n                select\\n                    source,\\n                    source_id,\\n                    array_agg(target) as target, \\n                    array_agg(target_id) as target_id\\n                from (\\n                    select distinct on (\\n                        lookup.source_id, \\n                        lookup.target,\\n                        lookup.target_cluster\\n                    )\\n                        *\\n                    from\\n                        lookup lookup\\n                    where\\n                        lookup.source = \\'companieshouse_companies\\'\\n                        and lookup.target in (\\n                            [\\'dit_export_wins__wins_dataset\\', \\'dit_data_hub__companies\\']\\n                        )\\n                    order by\\n                        lookup.source_id, \\n                        lookup.target,\\n                        lookup.target_cluster,\\n                        lookup.match_probability desc\\n                ) lookup\\n                where\\n                    lookup.source = companieshouse_companies\\n                    and lookup.target in (\\n                        [\\'dit_export_wins__wins_dataset\\', \\'dit_data_hub__companies\\']\\n                    )\\n                group by\\n                    source,\\n                    source_id\\n            ) lookup\\n            right join companieshouse_companies ch on\\n                lookup.source_id = ch.unique_id \\n                and lookup.source = companieshouse_companies\\n        \\n                left join dit_export_wins__wins_dataset ew on\\n                    array_has(lookup.target_id, ew.unique_id)\\n                    and array_has(lookup.target, dit_export_wins__wins_dataset)\\n            \\n                left join dit_data_hub__companies dh on\\n                    array_has(lookup.target_id, dh.unique_id)\\n                    and array_has(lookup.target, dit_data_hub__companies)\\n            '"
      ]
     },
     "execution_count": 42,
     "metadata": {},
     "output_type": "execute_result"
    }
   ],
   "source": [
    "dw_join(\n",
    "    from_table = '\"companieshouse\".\"companies\" ch',\n",
    "    left_join = [\n",
    "        '\"dit\".\"export_wins__wins_dataset\" ew',\n",
    "        '\"dit\".\"data_hub__companies\" dh',\t\n",
    "    ],\n",
    "    dedupe = True\n",
    ")"
   ]
  },
  {
   "cell_type": "code",
   "execution_count": 40,
   "id": "3f0a9c28-5ba4-4438-9768-bc2891fb6461",
   "metadata": {},
   "outputs": [
    {
     "ename": "ParserException",
     "evalue": "Parser Error: syntax error at or near \"select\"\nLINE 10:                 select\n                         ^",
     "output_type": "error",
     "traceback": [
      "\u001b[0;31m---------------------------------------------------------------------------\u001b[0m",
      "\u001b[0;31mParserException\u001b[0m                           Traceback (most recent call last)",
      "Cell \u001b[0;32mIn[40], line 1\u001b[0m\n\u001b[0;32m----> 1\u001b[0m \u001b[43mduckdb\u001b[49m\u001b[38;5;241;43m.\u001b[39;49m\u001b[43msql\u001b[49m\u001b[43m(\u001b[49m\u001b[38;5;124;43mf\u001b[39;49m\u001b[38;5;124;43m\"\"\"\u001b[39;49m\n\u001b[1;32m      2\u001b[0m \u001b[38;5;124;43m    select\u001b[39;49m\n\u001b[1;32m      3\u001b[0m \u001b[38;5;124;43m        ch.unique_id,\u001b[39;49m\n\u001b[1;32m      4\u001b[0m \u001b[38;5;124;43m        ch.company_name as ch_name,\u001b[39;49m\n\u001b[1;32m      5\u001b[0m \u001b[38;5;124;43m        dh.company_name as dh_name,\u001b[39;49m\n\u001b[1;32m      6\u001b[0m \u001b[38;5;124;43m        ew.company_name as ew_name\u001b[39;49m\n\u001b[1;32m      7\u001b[0m \u001b[38;5;124;43m    from \u001b[39;49m\u001b[38;5;132;43;01m{\u001b[39;49;00m\n\u001b[1;32m      8\u001b[0m \u001b[38;5;250;43m        \u001b[39;49m\u001b[43mdw_join\u001b[49m\u001b[43m(\u001b[49m\n\u001b[1;32m      9\u001b[0m \u001b[38;5;250;43m            \u001b[39;49m\u001b[43mfrom_table\u001b[49m\u001b[38;5;250;43m \u001b[39;49m\u001b[38;5;241;43m=\u001b[39;49m\u001b[38;5;250;43m \u001b[39;49m\u001b[38;5;124;43m'\u001b[39;49m\u001b[38;5;124;43m\"\u001b[39;49m\u001b[38;5;124;43mcompanieshouse\u001b[39;49m\u001b[38;5;124;43m\"\u001b[39;49m\u001b[38;5;124;43m.\u001b[39;49m\u001b[38;5;124;43m\"\u001b[39;49m\u001b[38;5;124;43mcompanies\u001b[39;49m\u001b[38;5;124;43m\"\u001b[39;49m\u001b[38;5;124;43m ch\u001b[39;49m\u001b[38;5;124;43m'\u001b[39;49m\u001b[43m,\u001b[49m\n\u001b[1;32m     10\u001b[0m \u001b[38;5;250;43m            \u001b[39;49m\u001b[43mleft_join\u001b[49m\u001b[38;5;250;43m \u001b[39;49m\u001b[38;5;241;43m=\u001b[39;49m\u001b[38;5;250;43m \u001b[39;49m\u001b[43m[\u001b[49m\n\u001b[1;32m     11\u001b[0m \u001b[38;5;250;43m                \u001b[39;49m\u001b[38;5;124;43m'\u001b[39;49m\u001b[38;5;124;43m\"\u001b[39;49m\u001b[38;5;124;43mdit\u001b[39;49m\u001b[38;5;124;43m\"\u001b[39;49m\u001b[38;5;124;43m.\u001b[39;49m\u001b[38;5;124;43m\"\u001b[39;49m\u001b[38;5;124;43mexport_wins__wins_dataset\u001b[39;49m\u001b[38;5;124;43m\"\u001b[39;49m\u001b[38;5;124;43m ew\u001b[39;49m\u001b[38;5;124;43m'\u001b[39;49m\u001b[43m,\u001b[49m\n\u001b[1;32m     12\u001b[0m \u001b[38;5;250;43m                \u001b[39;49m\u001b[38;5;124;43m'\u001b[39;49m\u001b[38;5;124;43m\"\u001b[39;49m\u001b[38;5;124;43mdit\u001b[39;49m\u001b[38;5;124;43m\"\u001b[39;49m\u001b[38;5;124;43m.\u001b[39;49m\u001b[38;5;124;43m\"\u001b[39;49m\u001b[38;5;124;43mdata_hub__companies\u001b[39;49m\u001b[38;5;124;43m\"\u001b[39;49m\u001b[38;5;124;43m dh\u001b[39;49m\u001b[38;5;124;43m'\u001b[39;49m\u001b[43m,\u001b[49m\u001b[38;5;250;43m\t\u001b[39;49m\n\u001b[1;32m     13\u001b[0m \u001b[38;5;250;43m            \u001b[39;49m\u001b[43m]\u001b[49m\u001b[43m,\u001b[49m\n\u001b[1;32m     14\u001b[0m \u001b[38;5;250;43m            \u001b[39;49m\u001b[43mdedupe\u001b[49m\u001b[38;5;250;43m \u001b[39;49m\u001b[38;5;241;43m=\u001b[39;49m\u001b[38;5;250;43m \u001b[39;49m\u001b[38;5;28;43;01mTrue\u001b[39;49;00m\n\u001b[1;32m     15\u001b[0m \u001b[38;5;250;43m        \u001b[39;49m\u001b[43m)\u001b[49m\n\u001b[1;32m     16\u001b[0m \u001b[38;5;250;43m    \u001b[39;49m\u001b[38;5;132;43;01m}\u001b[39;49;00m\n\u001b[1;32m     17\u001b[0m \u001b[38;5;124;43m\"\"\"\u001b[39;49m\u001b[43m)\u001b[49m\n",
      "\u001b[0;31mParserException\u001b[0m: Parser Error: syntax error at or near \"select\"\nLINE 10:                 select\n                         ^"
     ]
    }
   ],
   "source": [
    "duckdb.sql(f\"\"\"\n",
    "    select\n",
    "        ch.unique_id,\n",
    "        ch.company_name as ch_name,\n",
    "        dh.company_name as dh_name,\n",
    "        ew.company_name as ew_name\n",
    "    from {\n",
    "        dw_join(\n",
    "            from_table = '\"companieshouse\".\"companies\" ch',\n",
    "            left_join = [\n",
    "                '\"dit\".\"export_wins__wins_dataset\" ew',\n",
    "                '\"dit\".\"data_hub__companies\" dh',\t\n",
    "            ],\n",
    "            dedupe = True\n",
    "        )\n",
    "    }\n",
    "\"\"\")"
   ]
  },
  {
   "cell_type": "code",
   "execution_count": 30,
   "id": "cb2e4e31-cae0-4a54-800b-f9f100db3da2",
   "metadata": {},
   "outputs": [],
   "source": [
    "def dw_join(*args):\n",
    "    \n",
    "    lookup = {\n",
    "        'df_ch': \"'companies_house'\",\n",
    "        'df_dh': \"'datahub'\",\n",
    "    }\n",
    "    \n",
    "    sql = f\"\"\"\n",
    "            {args[0]}\n",
    "        left join test_lookup lookup on\n",
    "            lookup.source = {lookup[args[0].split()[0]]}\n",
    "            and lookup.target = {lookup[args[1].split()[0]]}\n",
    "            and lookup.source_id = {args[0].split()[1]}.unique_id\n",
    "        left join {args[1]} on\n",
    "            lookup.target_id = {args[1].split()[1]}.unique_id\n",
    "        where\n",
    "            lookup.source_cluster = lookup.target_cluster\n",
    "        order by\n",
    "            lookup.source_id, \n",
    "            lookup.target_id,\n",
    "            lookup.match_probability desc\n",
    "    \"\"\"\n",
    "    \n",
    "    return sql"
   ]
  },
  {
   "cell_type": "code",
   "execution_count": 36,
   "id": "31ecaa57-6625-4357-8783-04449c8048ca",
   "metadata": {},
   "outputs": [],
   "source": [
    "def dw_join_subquery(*args):\n",
    "    \n",
    "    lookup = {\n",
    "        'df_ch': \"'companies_house'\",\n",
    "        'df_dh': \"'datahub'\",\n",
    "    }\n",
    "    \n",
    "    sql = f\"\"\"\n",
    "        (\n",
    "            select distinct on (lookup.source_id, lookup.target_id)\n",
    "                {args[0].split()[1]}.*,\n",
    "                {args[1].split()[1]}.*\n",
    "            from\n",
    "                {args[0]}\n",
    "            left join test_lookup lookup on\n",
    "                lookup.source = {lookup[args[0].split()[0]]}\n",
    "                and lookup.target = {lookup[args[1].split()[0]]}\n",
    "                and lookup.source_id = {args[0].split()[1]}.unique_id\n",
    "            left join {args[1]} on\n",
    "                lookup.target_id = {args[1].split()[1]}.unique_id\n",
    "            where\n",
    "                lookup.source_cluster = lookup.target_cluster\n",
    "            order by\n",
    "                lookup.source_id, \n",
    "                lookup.target_id,\n",
    "                lookup.match_probability desc\n",
    "        )\n",
    "    \"\"\"\n",
    "    \n",
    "    return sql"
   ]
  },
  {
   "cell_type": "code",
   "execution_count": 40,
   "id": "f5d4f761-f693-40fd-a313-0eeba2f5729f",
   "metadata": {},
   "outputs": [
    {
     "data": {
      "text/plain": [
       "┌───────────────────────┬──────────────────────────────────────────────────────────────────────────────────────────────┐\n",
       "│     company_name      │                                       secondary_names                                        │\n",
       "│        varchar        │                                          varchar[]                                           │\n",
       "├───────────────────────┼──────────────────────────────────────────────────────────────────────────────────────────────┤\n",
       "│ NORFOLK CHAMBERS OF…  │ [NORFOLK CHAMBER OF COMMERCE AND INDUSTRY]                                                   │\n",
       "│ TATE & LYLE PUBLIC …  │ []                                                                                           │\n",
       "│ COLEHERNE LIMITED     │ []                                                                                           │\n",
       "│ J.T.DOVE,LIMITED      │ []                                                                                           │\n",
       "│ SMITHS GROUP PLC      │ []                                                                                           │\n",
       "│ SIMPSONS MALT LIMITED │ []                                                                                           │\n",
       "│ REFRESCO BEVERAGES …  │ [REFRESCO GERBER UK LIMITED, GERBER JUICE COMPANY LIMITED, GERBER FOODS SOFT DRINKS LIMITED] │\n",
       "│ JAMES CLARKE AND CO…  │ []                                                                                           │\n",
       "│ NUERA PRODUCTS LIMI…  │ []                                                                                           │\n",
       "│ THE GREETING CARD A…  │ []                                                                                           │\n",
       "│           ·           │ ·                                                                                            │\n",
       "│           ·           │ ·                                                                                            │\n",
       "│           ·           │ ·                                                                                            │\n",
       "│ LIFE TRAINING SYSTE…  │ []                                                                                           │\n",
       "│ OCEAN INSTALLER LIM…  │ [HAVFRAM LIMITED, OCEAN INSTALLER LIMITED, PACIFIC SHELF 1687 LIMITED]                       │\n",
       "│ AUTOMATION XL LIMITED │ []                                                                                           │\n",
       "│ BERINGAR LTD          │ []                                                                                           │\n",
       "│ HARRIET B LTD         │ [FENNEL MEDIA LIMITED]                                                                       │\n",
       "│ SPACE INTELLIGENCE …  │ []                                                                                           │\n",
       "│ SLOW ADVENTURE LTD    │ []                                                                                           │\n",
       "│ STORY LEARNING LIMI…  │ []                                                                                           │\n",
       "│ K-VELL LTD            │ []                                                                                           │\n",
       "│ BR CHAPEL LIMITED     │ []                                                                                           │\n",
       "├───────────────────────┴──────────────────────────────────────────────────────────────────────────────────────────────┤\n",
       "│ 848 rows (20 shown)                                                                                        2 columns │\n",
       "└──────────────────────────────────────────────────────────────────────────────────────────────────────────────────────┘"
      ]
     },
     "execution_count": 40,
     "metadata": {},
     "output_type": "execute_result"
    }
   ],
   "source": [
    "duckdb.sql(f\"\"\"\n",
    "    select \n",
    "        company_name,\n",
    "        secondary_names\n",
    "    from {dw_join_subquery('df_ch ch', 'df_dh dh')}\n",
    "\"\"\")"
   ]
  },
  {
   "cell_type": "code",
   "execution_count": 35,
   "id": "a70b48e9-3afb-46c2-846c-6630945681df",
   "metadata": {},
   "outputs": [
    {
     "data": {
      "text/plain": [
       "┌──────────────────────┬──────────────────────┬─────────────────────────────────────┬──────────────────────────────────┐\n",
       "│     company_name     │     company_name     │           secondary_names           │         secondary_names          │\n",
       "│       varchar        │       varchar        │              varchar[]              │            varchar[]             │\n",
       "├──────────────────────┼──────────────────────┼─────────────────────────────────────┼──────────────────────────────────┤\n",
       "│ PROSADDLES LIMITED   │ PROSADDLES LIMITED   │ []                                  │ []                               │\n",
       "│ MOCA FASHION LIMITED │ MOCA FASHION LIMITED │ []                                  │ []                               │\n",
       "│ OCEAN INSTALLER LI…  │ OCEAN INSTALLER LI…  │ [HAVFRAM LIMITED, OCEAN INSTALLER…  │ ['OCEAN INSTALLER']              │\n",
       "│ NEEDL ANALYTICS LI…  │ NEEDL ANALYTICS LI…  │ [NEEDLE ANALYTICS LIMITED, NEEDL …  │ []                               │\n",
       "│ PCT LONDON LIMITED   │ PCT LONDON LIMITED   │ [OMNIO LONDON LIMITED]              │ []                               │\n",
       "│ SPACE INTELLIGENCE…  │ SPACE INTELLIGENCE…  │ []                                  │ []                               │\n",
       "│ VISIONALITY MEDIA …  │ VISIONALITY MEDIA …  │ []                                  │ []                               │\n",
       "│ WELLS PLASTICS LIM…  │ WELLS PLASTICS LIM…  │ []                                  │ []                               │\n",
       "│ SNOOPBY UK LIMITED   │ SNOOPBY UK LIMITED   │ []                                  │ []                               │\n",
       "│ BOSTON PUTFORD OFF…  │ BOSTON PUTFORD OFF…  │ []                                  │ []                               │\n",
       "│          ·           │          ·           │ ·                                   │ ·                                │\n",
       "│          ·           │          ·           │ ·                                   │ ·                                │\n",
       "│          ·           │          ·           │ ·                                   │ ·                                │\n",
       "│ AB WORLD FOODS LIM…  │ AB WORLD FOODS LIM…  │ [PATAK'S FOODS LIMITED]             │ ['AB WORLD FOODS']               │\n",
       "│ BULLETPROOF DESIGN…  │ BULLETPROOF DESIGN…  │ []                                  │ ['SOUTHPAW', 'BULLETPROOF INC.'] │\n",
       "│ STORY LEARNING LIM…  │ STORY LEARNING LIM…  │ []                                  │ []                               │\n",
       "│ BLACKTHORNE INTERN…  │ BLACKTHORNE INTERN…  │ []                                  │ []                               │\n",
       "│ SPEEDITEAR RULE PR…  │ SPEEDITEAR RULE PR…  │ []                                  │ []                               │\n",
       "│ BOXFAB LIMITED       │ BOXFAB LIMITED       │ []                                  │ []                               │\n",
       "│ KELKAY LIMITED       │ KELKAY LIMITED       │ []                                  │ ['Kelkay', 'AnchorFast']         │\n",
       "│ SWALLOW PLACE ASSO…  │ SWALLOW PLACE ASSO…  │ [RBAKJA LLP, CAIRNEAGLE ASSOCIATE…  │ []                               │\n",
       "│ BLUE BOX-LONDON LI…  │ BLUE BOX-LONDON LI…  │ []                                  │ []                               │\n",
       "│ DURESTA UPHOLSTERY…  │ DURESTA UPHOLSTERY…  │ []                                  │ ['Duresta']                      │\n",
       "├──────────────────────┴──────────────────────┴─────────────────────────────────────┴──────────────────────────────────┤\n",
       "│ 848 rows (20 shown)                                                                                        4 columns │\n",
       "└──────────────────────────────────────────────────────────────────────────────────────────────────────────────────────┘"
      ]
     },
     "execution_count": 35,
     "metadata": {},
     "output_type": "execute_result"
    }
   ],
   "source": [
    "duckdb.sql(f\"\"\"\n",
    "    select distinct on (lookup.source_id, lookup.target_id)\n",
    "        ch.company_name,\n",
    "        dh.company_name,\n",
    "        ch.secondary_names,\n",
    "        dh.secondary_names\n",
    "    from {dw_join('df_dh dh', 'df_ch ch')}\n",
    "\"\"\")"
   ]
  },
  {
   "cell_type": "code",
   "execution_count": 95,
   "id": "651edb39-ee8e-4613-bd84-d6270302ae28",
   "metadata": {},
   "outputs": [
    {
     "data": {
      "text/plain": [
       "┌─────────┬──────────────────────┬──────────────────────┬─────────┬──────────────────────┬─────────────────────────────┐\n",
       "│ source  │     company_name     │   secondary_names    │ target  │     company_name     │       secondary_names       │\n",
       "│ varchar │       varchar        │      varchar[]       │ varchar │       varchar        │          varchar[]          │\n",
       "├─────────┼──────────────────────┼──────────────────────┼─────────┼──────────────────────┼─────────────────────────────┤\n",
       "│ ch      │ RICHARD GRIFFIN (1…  │ []                   │ dh      │ RICHARD GRIFFIN (1…  │ ['Tarquin']                 │\n",
       "│ ch      │ RIGHTON & BLACKBUR…  │ [RIGHTON LIMITED]    │ dh      │ RIGHTON & BLACKBUR…  │ ['RIGHTON BLACKBURNS', 'R…  │\n",
       "│ ch      │ F.HINDS LIMITED      │ []                   │ dh      │ F.HINDS LIMITED      │ ['Chapelle']                │\n",
       "│ ch      │ H. CLARKSON & COMP…  │ []                   │ dh      │ H. CLARKSON & COMP…  │ []                          │\n",
       "│ ch      │ JAMES LOCK AND CO.…  │ []                   │ dh      │ JAMES LOCK AND CO.…  │ []                          │\n",
       "│ ch      │ JOHN HUNT (BOLTON)…  │ []                   │ dh      │ JOHN HUNT (BOLTON)…  │ []                          │\n",
       "│ ch      │ SUCAFINA UK LTD      │ [COMPLETE COFFEE L…  │ dh      │ SUCAFINA UK LTD      │ ['CCL', 'Ridge & Breminer…  │\n",
       "│ ch      │ PARALLOY LIMITED     │ []                   │ dh      │ PARALLOY LIMITED     │ ['PARALLOY']                │\n",
       "│ ch      │ S.BRANNAN & SONS,L…  │ []                   │ dh      │ S.BRANNAN & SONS,L…  │ ['BRANNAN']                 │\n",
       "│ ch      │ D.A.SOLEY LIMITED    │ []                   │ dh      │ D.A.SOLEY LIMITED    │ []                          │\n",
       "│ ·       │         ·            │ ·                    │ ·       │         ·            │ ·                           │\n",
       "│ ·       │         ·            │ ·                    │ ·       │         ·            │ ·                           │\n",
       "│ ·       │         ·            │ ·                    │ ·       │         ·            │ ·                           │\n",
       "│ ch      │ WILLO TECHNOLOGIES…  │ [WEEVE TECHNOLOGIE…  │ dh      │ WILLO TECHNOLOGIES…  │ []                          │\n",
       "│ ch      │ EARTHWAVE LTD        │ []                   │ dh      │ EARTHWAVE LTD        │ []                          │\n",
       "│ ch      │ N2 APPLIED LTD       │ []                   │ dh      │ N2 APPLIED LTD       │ []                          │\n",
       "│ ch      │ KONGLOMERATE GAMES…  │ []                   │ dh      │ KONGLOMERATE GAMES…  │ []                          │\n",
       "│ ch      │ TOLL HOUSE SPIRITS…  │ []                   │ dh      │ TOLL HOUSE SPIRITS…  │ []                          │\n",
       "│ ch      │ AGILIS HEALTH LIMI…  │ []                   │ dh      │ AGILIS HEALTH LIMI…  │ []                          │\n",
       "│ ch      │ CALEDONIA EDUCATIO…  │ []                   │ dh      │ CALEDONIA EDUCATIO…  │ []                          │\n",
       "│ ch      │ APODIUM INTERNATIO…  │ []                   │ dh      │ APODIUM INTERNATIO…  │ []                          │\n",
       "│ ch      │ SCOTTISH SPACE GRO…  │ []                   │ dh      │ SCOTTISH SPACE GRO…  │ []                          │\n",
       "│ ch      │ EMPORIUM DIGITAL LTD │ []                   │ dh      │ EMPORIUM DIGITAL LTD │ []                          │\n",
       "├─────────┴──────────────────────┴──────────────────────┴─────────┴──────────────────────┴─────────────────────────────┤\n",
       "│ 684 rows (20 shown)                                                                                        6 columns │\n",
       "└──────────────────────────────────────────────────────────────────────────────────────────────────────────────────────┘"
      ]
     },
     "execution_count": 95,
     "metadata": {},
     "output_type": "execute_result"
    }
   ],
   "source": [
    "duckdb.sql(\"\"\"\n",
    "    select distinct on (lookup.source_id, lookup.target_id)\n",
    "        'ch' as source,\n",
    "        ch.company_name,\n",
    "        ch.secondary_names,\n",
    "        'dh' as target,\n",
    "        dh.company_name,\n",
    "        dh.secondary_names\n",
    "    from\n",
    "        df_ch ch\n",
    "    left join test_lookup lookup on\n",
    "        lookup.source = 'companies_house'\n",
    "        and lookup.target = 'datahub'\n",
    "        and lookup.source_id = ch.unique_id\n",
    "    left join df_dh dh on\n",
    "        lookup.target_id = dh.unique_id\n",
    "    where\n",
    "        lookup.source_cluster = lookup.target_cluster\n",
    "    order by\n",
    "        lookup.source_id, \n",
    "        lookup.target_id,\n",
    "        lookup.match_probability desc\n",
    "\"\"\")"
   ]
  },
  {
   "cell_type": "code",
   "execution_count": 25,
   "id": "398274ff-639c-4958-9668-c0daa908dc6c",
   "metadata": {},
   "outputs": [
    {
     "data": {
      "text/plain": [
       "┌─────────┬────────────────────────┬────────────────────┬─────────┬──────────────────────────────────┬─────────────────┐\n",
       "│ source  │      company_name      │  secondary_names   │ target  │           company_name           │ secondary_names │\n",
       "│ varchar │        varchar         │     varchar[]      │ varchar │             varchar              │     varchar     │\n",
       "├─────────┼────────────────────────┼────────────────────┼─────────┼──────────────────────────────────┼─────────────────┤\n",
       "│ dh      │ THE BRIARS GROUP LIM…  │ []                 │ ew      │ The Briars Group Ltd             │                 │\n",
       "│ dh      │ AVEVA GROUP LIMITED    │ ['AVEVA']          │ ew      │ AVEVA                            │                 │\n",
       "│ dh      │ CLUCAS METHOD OF ENT…  │ ['Clucas M O E']   │ ew      │ Clucas Method Of Entry Limited   │                 │\n",
       "│ dh      │ MENOPOISED LTD         │ []                 │ ew      │ Menopoised Ltd                   │                 │\n",
       "│ dh      │ LOVESEITAN LTD         │ []                 │ ew      │ Loveseitan Ltd                   │                 │\n",
       "│ dh      │ CHERIDA LIMITED        │ []                 │ ew      │ CHERIDA LIMITED                  │                 │\n",
       "│ dh      │ INTASITE LTD           │ []                 │ ew      │ Intasite Ltd                     │                 │\n",
       "│ dh      │ UKDE LIMITED           │ []                 │ ew      │ UKDE Limited                     │                 │\n",
       "│ dh      │ TODDLE BORN WILD LIM…  │ []                 │ ew      │ TODDLE BORN WILD LIMITED         │                 │\n",
       "│ dh      │ EXSEL DESIGN AND INT…  │ []                 │ ew      │ Exsel Design and Integration Ltd │                 │\n",
       "│ ·       │           ·            │ ·                  │ ·       │       ·                          │        ·        │\n",
       "│ ·       │           ·            │ ·                  │ ·       │       ·                          │        ·        │\n",
       "│ ·       │           ·            │ ·                  │ ·       │       ·                          │        ·        │\n",
       "│ dh      │ ASCENDAL GROUP LIMITED │ ['ASCENDAL GROUP'] │ ew      │ ASCENDAL GROUP                   │                 │\n",
       "│ dh      │ GFM FILMS LLP          │ []                 │ ew      │ GFM Films                        │                 │\n",
       "│ dh      │ X-RAY MINERAL SERVIC…  │ []                 │ ew      │ X-ray Mineral Services Ltd       │                 │\n",
       "│ dh      │ ALLIOT TECHNOLOGIES …  │ []                 │ ew      │ ALLIOT TECHNOLOGIES LIMITED      │                 │\n",
       "│ dh      │ SALOTO LTD.            │ []                 │ ew      │ Saloto Ltd                       │                 │\n",
       "│ dh      │ SCITEK CONSULTANTS L…  │ []                 │ ew      │ SCITEK CONSULTANTS LIMITED       │                 │\n",
       "│ dh      │ CUSTOM VET PRODUCTS …  │ []                 │ ew      │ CUSTOM VET PRODUCTS LIMITED      │                 │\n",
       "│ dh      │ TROY ASSET MANAGEMEN…  │ []                 │ ew      │ Troy Asset Management            │                 │\n",
       "│ dh      │ SIMPLY DOUGHNUTS LTD   │ []                 │ ew      │ SIMPLY DOUGHNUTS LTD             │                 │\n",
       "│ dh      │ INSIGHTFUL BRANDS LI…  │ ['HIP POP']        │ ew      │ Insightful Brands Limited        │                 │\n",
       "├─────────┴────────────────────────┴────────────────────┴─────────┴──────────────────────────────────┴─────────────────┤\n",
       "│ 1206 rows (20 shown)                                                                                       6 columns │\n",
       "└──────────────────────────────────────────────────────────────────────────────────────────────────────────────────────┘"
      ]
     },
     "execution_count": 25,
     "metadata": {},
     "output_type": "execute_result"
    }
   ],
   "source": [
    "duckdb.sql(\"\"\"\n",
    "    select distinct on (lookup.source_id, lookup.target_id)\n",
    "        'dh' as source,\n",
    "        dh.company_name,\n",
    "        dh.secondary_names,\n",
    "        'ew' as target,\n",
    "        ew.company_name,\n",
    "        ew.secondary_names\n",
    "    from\n",
    "        df_dh dh\n",
    "    left join test_lookup lookup on\n",
    "        lookup.source = 'datahub'\n",
    "        and lookup.target = 'export_wins'\n",
    "        and lookup.source_id = dh.unique_id\n",
    "    left join df_ew ew on\n",
    "        lookup.target_id = ew.unique_id\n",
    "    where\n",
    "        lookup.source_cluster = lookup.target_cluster\n",
    "    order by\n",
    "        lookup.source_id, \n",
    "        lookup.target_id,\n",
    "        lookup.match_probability desc\n",
    "\"\"\")"
   ]
  },
  {
   "cell_type": "code",
   "execution_count": 164,
   "id": "d496a5fd-d70b-4c34-946b-9cfc60060c6a",
   "metadata": {},
   "outputs": [
    {
     "data": {
      "text/html": [
       "<div><style>\n",
       ".dataframe > thead > tr > th,\n",
       ".dataframe > tbody > tr > td {\n",
       "  text-align: right;\n",
       "}\n",
       "</style>\n",
       "<small>shape: (4, 14)</small><table border=\"1\" class=\"dataframe\"><thead><tr><th>cluster_id</th><th>source_dataset</th><th>unique_id</th><th>comp_num_clean</th><th>name_unusual_tokens</th><th>secondary_name_unusual_tokens</th><th>names_tokens_stopwords</th><th>postcode</th><th>postcode_alt</th><th>name_unusual_tokens_first5</th><th>name_unusual_tokens_last5</th><th>postcode_area</th><th>tf_comp_num_clean</th><th>tf_name_unusual_tokens</th></tr><tr><td>str</td><td>str</td><td>str</td><td>str</td><td>str</td><td>str</td><td>str</td><td>str</td><td>f64</td><td>str</td><td>str</td><td>str</td><td>f64</td><td>f64</td></tr></thead><tbody><tr><td>&quot;companies_hous…</td><td>&quot;datahub&quot;</td><td>&quot;6e56cb7c-d286-…</td><td>&quot;1846493&quot;</td><td>&quot;aecom&quot;</td><td>&quot;aecom arabia&quot;</td><td>&quot;limited&quot;</td><td>&quot;&quot;</td><td>null</td><td>&quot;aecom&quot;</td><td>&quot;aecom&quot;</td><td>null</td><td>0.000026</td><td>0.000055</td></tr><tr><td>&quot;companies_hous…</td><td>&quot;companies_hous…</td><td>&quot;01846493&quot;</td><td>&quot;1846493&quot;</td><td>&quot;aecom&quot;</td><td>&quot;faber fabermau…</td><td>&quot;limited&quot;</td><td>&quot;E1 8FA&quot;</td><td>null</td><td>&quot;aecom&quot;</td><td>&quot;aecom&quot;</td><td>&quot;E&quot;</td><td>0.000026</td><td>0.000055</td></tr><tr><td>&quot;companies_hous…</td><td>&quot;datahub&quot;</td><td>&quot;e3b2f38a-cb5c-…</td><td>&quot;1846493&quot;</td><td>&quot;aecom&quot;</td><td>&quot;&quot;</td><td>&quot;limited&quot;</td><td>&quot;&quot;</td><td>null</td><td>&quot;aecom&quot;</td><td>&quot;aecom&quot;</td><td>null</td><td>0.000026</td><td>0.000055</td></tr><tr><td>&quot;companies_hous…</td><td>&quot;datahub&quot;</td><td>&quot;ae5b6e81-0d17-…</td><td>&quot;1846493&quot;</td><td>&quot;aecom&quot;</td><td>&quot;&quot;</td><td>&quot;limited&quot;</td><td>&quot;&quot;</td><td>null</td><td>&quot;aecom&quot;</td><td>&quot;aecom&quot;</td><td>null</td><td>0.000026</td><td>0.000055</td></tr></tbody></table></div>"
      ],
      "text/plain": [
       "shape: (4, 14)\n",
       "┌──────────┬────────────┬─────────┬────────────┬───┬────────────┬────────────┬────────────┬────────────┐\n",
       "│ cluster_ ┆ source_dat ┆ unique_ ┆ comp_num_c ┆ … ┆ name_unusu ┆ postcode_a ┆ tf_comp_nu ┆ tf_name_un │\n",
       "│ id       ┆ aset       ┆ id      ┆ lean       ┆   ┆ al_tokens_ ┆ rea        ┆ m_clean    ┆ usual_toke │\n",
       "│ ---      ┆ ---        ┆ ---     ┆ ---        ┆   ┆ last5      ┆ ---        ┆ ---        ┆ ns         │\n",
       "│ str      ┆ str        ┆ str     ┆ str        ┆   ┆ ---        ┆ str        ┆ f64        ┆ ---        │\n",
       "│          ┆            ┆         ┆            ┆   ┆ str        ┆            ┆            ┆ f64        │\n",
       "╞══════════╪════════════╪═════════╪════════════╪═══╪════════════╪════════════╪════════════╪════════════╡\n",
       "│ companie ┆ datahub    ┆ 6e56cb7 ┆ 1846493    ┆ … ┆ aecom      ┆ null       ┆ 0.000026   ┆ 0.000055   │\n",
       "│ s_house- ┆            ┆ c-d286- ┆            ┆   ┆            ┆            ┆            ┆            │\n",
       "│ __-01846 ┆            ┆ 403b-9a ┆            ┆   ┆            ┆            ┆            ┆            │\n",
       "│ 493      ┆            ┆ 5d-b338 ┆            ┆   ┆            ┆            ┆            ┆            │\n",
       "│          ┆            ┆ 20e1…   ┆            ┆   ┆            ┆            ┆            ┆            │\n",
       "│ companie ┆ companies_ ┆ 0184649 ┆ 1846493    ┆ … ┆ aecom      ┆ E          ┆ 0.000026   ┆ 0.000055   │\n",
       "│ s_house- ┆ house      ┆ 3       ┆            ┆   ┆            ┆            ┆            ┆            │\n",
       "│ __-01846 ┆            ┆         ┆            ┆   ┆            ┆            ┆            ┆            │\n",
       "│ 493      ┆            ┆         ┆            ┆   ┆            ┆            ┆            ┆            │\n",
       "│ companie ┆ datahub    ┆ e3b2f38 ┆ 1846493    ┆ … ┆ aecom      ┆ null       ┆ 0.000026   ┆ 0.000055   │\n",
       "│ s_house- ┆            ┆ a-cb5c- ┆            ┆   ┆            ┆            ┆            ┆            │\n",
       "│ __-01846 ┆            ┆ 477b-8d ┆            ┆   ┆            ┆            ┆            ┆            │\n",
       "│ 493      ┆            ┆ 4e-d1ba ┆            ┆   ┆            ┆            ┆            ┆            │\n",
       "│          ┆            ┆ 9d2f…   ┆            ┆   ┆            ┆            ┆            ┆            │\n",
       "│ companie ┆ datahub    ┆ ae5b6e8 ┆ 1846493    ┆ … ┆ aecom      ┆ null       ┆ 0.000026   ┆ 0.000055   │\n",
       "│ s_house- ┆            ┆ 1-0d17- ┆            ┆   ┆            ┆            ┆            ┆            │\n",
       "│ __-01846 ┆            ┆ 4211-9a ┆            ┆   ┆            ┆            ┆            ┆            │\n",
       "│ 493      ┆            ┆ 2e-c556 ┆            ┆   ┆            ┆            ┆            ┆            │\n",
       "│          ┆            ┆ 6451…   ┆            ┆   ┆            ┆            ┆            ┆            │\n",
       "└──────────┴────────────┴─────────┴────────────┴───┴────────────┴────────────┴────────────┴────────────┘"
      ]
     },
     "execution_count": 164,
     "metadata": {},
     "output_type": "execute_result"
    }
   ],
   "source": [
    "(\n",
    "    pl.from_pandas(df_clusters)\n",
    "    .filter(pl.col('cluster_id') == 'companies_house-__-01846493')\n",
    ")"
   ]
  },
  {
   "cell_type": "code",
   "execution_count": 107,
   "id": "cfd71714-2edc-445d-bdc9-32e52c5a7e69",
   "metadata": {},
   "outputs": [
    {
     "data": {
      "text/plain": [
       "┌──────────────────────┬──────────────────────┬──────────────────────────────────────────────────────┬─────────────────┐\n",
       "│     company_name     │     company_name     │                   secondary_names                    │ secondary_names │\n",
       "│       varchar        │       varchar        │                      varchar[]                       │    varchar[]    │\n",
       "├──────────────────────┼──────────────────────┼──────────────────────────────────────────────────────┼─────────────────┤\n",
       "│ DEPT DESIGN & TECH…  │ DEPT DESIGN & TECH…  │ [DEBT DESIGN & TECHNOLOGY LTD, BUILDING BLOCKS (UK…  │ []              │\n",
       "│ GREEN PIONEER LIMI…  │ GREEN PIONEER LIMI…  │ []                                                   │ []              │\n",
       "│ OPAL PARTNERS LIMI…  │ OPAL PARTNERS LIMI…  │ []                                                   │ []              │\n",
       "│ HARRY HALL INTERNA…  │ HARRY HALL INTERNA…  │ [MATCHMAKERS INTERNATIONAL LIMITED]                  │ ['Harry Hall']  │\n",
       "│ DH SALES LIMITED     │ DH SALES LIMITED     │ []                                                   │ []              │\n",
       "└──────────────────────┴──────────────────────┴──────────────────────────────────────────────────────┴─────────────────┘"
      ]
     },
     "execution_count": 107,
     "metadata": {},
     "output_type": "execute_result"
    }
   ],
   "source": [
    "duckdb.sql(\"\"\"\n",
    "    select\n",
    "        ch.company_name,\n",
    "        dh.company_name,\n",
    "        ch.secondary_names,\n",
    "        dh.secondary_names\n",
    "    from\n",
    "        df_ch ch\n",
    "    left join df_dh dh on\n",
    "        ch.company_number = dh.company_number\n",
    "    limit 5\n",
    "\"\"\")"
   ]
  },
  {
   "cell_type": "code",
   "execution_count": null,
   "id": "c26d3330-2a9c-4652-92f5-e97d3eb8ca1e",
   "metadata": {},
   "outputs": [],
   "source": [
    "duckdb.sql(\"\"\"\n",
    "    select\n",
    "        ch.company_name,\n",
    "        dh.company_name,\n",
    "        ch.secondary_names,\n",
    "        dh.secondary_names\n",
    "    from\n",
    "        df_ch ch\n",
    "    left join (\n",
    "        select \n",
    "            cluster_id,\n",
    "            unique_id\n",
    "        from\n",
    "            df_clusters\n",
    "        where\n",
    "            source_dataset in ['datahub', 'companies_house']\n",
    "        ) clu on\n",
    "    left join df_dh dh on\n",
    "        ch.company_number = dh.company_number\n",
    "    limit 5\n",
    "\"\"\")"
   ]
  },
  {
   "cell_type": "code",
   "execution_count": 102,
   "id": "ca5b62ee-36b0-4f38-9bdc-427127de42dc",
   "metadata": {},
   "outputs": [
    {
     "data": {
      "text/html": [
       "<div>\n",
       "<style scoped>\n",
       "    .dataframe tbody tr th:only-of-type {\n",
       "        vertical-align: middle;\n",
       "    }\n",
       "\n",
       "    .dataframe tbody tr th {\n",
       "        vertical-align: top;\n",
       "    }\n",
       "\n",
       "    .dataframe thead th {\n",
       "        text-align: right;\n",
       "    }\n",
       "</style>\n",
       "<table border=\"1\" class=\"dataframe\">\n",
       "  <thead>\n",
       "    <tr style=\"text-align: right;\">\n",
       "      <th></th>\n",
       "      <th>company_number</th>\n",
       "      <th>company_name</th>\n",
       "      <th>secondary_names</th>\n",
       "      <th>company_status</th>\n",
       "      <th>account_category</th>\n",
       "      <th>address_line_1</th>\n",
       "      <th>address_line_2</th>\n",
       "      <th>post_town</th>\n",
       "      <th>county</th>\n",
       "      <th>country</th>\n",
       "      <th>postcode</th>\n",
       "      <th>sic_code_1</th>\n",
       "      <th>sic_code_2</th>\n",
       "      <th>sic_code_3</th>\n",
       "      <th>sic_code_4</th>\n",
       "    </tr>\n",
       "  </thead>\n",
       "  <tbody>\n",
       "    <tr>\n",
       "      <th>0</th>\n",
       "      <td>05750887</td>\n",
       "      <td>YEM PROPERTY INVESTMENTS LIMITED</td>\n",
       "      <td>[]</td>\n",
       "      <td>Active</td>\n",
       "      <td>TOTAL EXEMPTION FULL</td>\n",
       "      <td>ASM HOUSE</td>\n",
       "      <td>103A KEYMER ROAD</td>\n",
       "      <td>HASSOCKS</td>\n",
       "      <td>WEST SUSSEX</td>\n",
       "      <td>UNITED KINGDOM</td>\n",
       "      <td>BN6 8QL</td>\n",
       "      <td>68209 - Other letting and operating of own or ...</td>\n",
       "      <td></td>\n",
       "      <td></td>\n",
       "      <td></td>\n",
       "    </tr>\n",
       "    <tr>\n",
       "      <th>1</th>\n",
       "      <td>09123245</td>\n",
       "      <td>FAIRMONT PROPERTY SERVICES LIMITED</td>\n",
       "      <td>[]</td>\n",
       "      <td>Active</td>\n",
       "      <td>MICRO ENTITY</td>\n",
       "      <td>QUEENS COURT</td>\n",
       "      <td>9-17 EASTERN ROAD</td>\n",
       "      <td>ROMFORD</td>\n",
       "      <td>ESSEX</td>\n",
       "      <td>ENGLAND</td>\n",
       "      <td>RM1 3NH</td>\n",
       "      <td>43341 - Painting</td>\n",
       "      <td>43390 - Other building completion and finishing</td>\n",
       "      <td></td>\n",
       "      <td></td>\n",
       "    </tr>\n",
       "    <tr>\n",
       "      <th>2</th>\n",
       "      <td>11383369</td>\n",
       "      <td>CHRIST KINGDOM WELFARE MINISTRIES LTD</td>\n",
       "      <td>[]</td>\n",
       "      <td>Active</td>\n",
       "      <td>MICRO ENTITY</td>\n",
       "      <td>29A LONDON ROAD</td>\n",
       "      <td></td>\n",
       "      <td>BARKING</td>\n",
       "      <td></td>\n",
       "      <td>UNITED KINGDOM</td>\n",
       "      <td>IG11 8AF</td>\n",
       "      <td>94910 - Activities of religious organizations</td>\n",
       "      <td></td>\n",
       "      <td></td>\n",
       "      <td></td>\n",
       "    </tr>\n",
       "    <tr>\n",
       "      <th>3</th>\n",
       "      <td>09939647</td>\n",
       "      <td>DURONIC FOUNDATION LIMITED</td>\n",
       "      <td>[]</td>\n",
       "      <td>Active</td>\n",
       "      <td>MICRO ENTITY</td>\n",
       "      <td>1A SPILSBY ROAD</td>\n",
       "      <td></td>\n",
       "      <td>ROMFORD</td>\n",
       "      <td>ESSEX</td>\n",
       "      <td>UNITED KINGDOM</td>\n",
       "      <td>RM8 8SB</td>\n",
       "      <td>99000 - Activities of extraterritorial organiz...</td>\n",
       "      <td></td>\n",
       "      <td></td>\n",
       "      <td></td>\n",
       "    </tr>\n",
       "    <tr>\n",
       "      <th>4</th>\n",
       "      <td>07441481</td>\n",
       "      <td>DENTAL APPLIANCE MANUFACTURING LTD</td>\n",
       "      <td>[]</td>\n",
       "      <td>Active</td>\n",
       "      <td>DORMANT</td>\n",
       "      <td>300 ST. MARYS ROAD</td>\n",
       "      <td>GARSTON</td>\n",
       "      <td>LIVERPOOL</td>\n",
       "      <td></td>\n",
       "      <td></td>\n",
       "      <td>L19 0NQ</td>\n",
       "      <td>32500 - Manufacture of medical and dental inst...</td>\n",
       "      <td></td>\n",
       "      <td></td>\n",
       "      <td></td>\n",
       "    </tr>\n",
       "    <tr>\n",
       "      <th>...</th>\n",
       "      <td>...</td>\n",
       "      <td>...</td>\n",
       "      <td>...</td>\n",
       "      <td>...</td>\n",
       "      <td>...</td>\n",
       "      <td>...</td>\n",
       "      <td>...</td>\n",
       "      <td>...</td>\n",
       "      <td>...</td>\n",
       "      <td>...</td>\n",
       "      <td>...</td>\n",
       "      <td>...</td>\n",
       "      <td>...</td>\n",
       "      <td>...</td>\n",
       "      <td>...</td>\n",
       "    </tr>\n",
       "    <tr>\n",
       "      <th>99995</th>\n",
       "      <td>14710751</td>\n",
       "      <td>AUTOGRAPH AGENCY LTD</td>\n",
       "      <td>[]</td>\n",
       "      <td>Active</td>\n",
       "      <td>NO ACCOUNTS FILED</td>\n",
       "      <td>71-75 SHELTON STREET</td>\n",
       "      <td>COVENT GARDEN</td>\n",
       "      <td>LONDON</td>\n",
       "      <td></td>\n",
       "      <td>UNITED KINGDOM</td>\n",
       "      <td>WC2H 9JQ</td>\n",
       "      <td>73110 - Advertising agencies</td>\n",
       "      <td></td>\n",
       "      <td></td>\n",
       "      <td></td>\n",
       "    </tr>\n",
       "    <tr>\n",
       "      <th>99996</th>\n",
       "      <td>10965149</td>\n",
       "      <td>STEFAN HORNIG LIMITED</td>\n",
       "      <td>[]</td>\n",
       "      <td>Active</td>\n",
       "      <td>MICRO ENTITY</td>\n",
       "      <td>29 MORRISON AVENUE</td>\n",
       "      <td></td>\n",
       "      <td>LONDON</td>\n",
       "      <td></td>\n",
       "      <td>ENGLAND</td>\n",
       "      <td>N17 6TU</td>\n",
       "      <td>59112 - Video production activities</td>\n",
       "      <td></td>\n",
       "      <td></td>\n",
       "      <td></td>\n",
       "    </tr>\n",
       "    <tr>\n",
       "      <th>99997</th>\n",
       "      <td>14043983</td>\n",
       "      <td>LAFAMILLIA LIMITED</td>\n",
       "      <td>[]</td>\n",
       "      <td>Active</td>\n",
       "      <td>NO ACCOUNTS FILED</td>\n",
       "      <td>39 ENDERS COURT</td>\n",
       "      <td>MEDBOURNE</td>\n",
       "      <td>MILTON KEYNES</td>\n",
       "      <td></td>\n",
       "      <td>ENGLAND</td>\n",
       "      <td>MK5 6GD</td>\n",
       "      <td>56103 - Take-away food shops and mobile food s...</td>\n",
       "      <td>78200 - Temporary employment agency activities</td>\n",
       "      <td></td>\n",
       "      <td></td>\n",
       "    </tr>\n",
       "    <tr>\n",
       "      <th>99998</th>\n",
       "      <td>08975663</td>\n",
       "      <td>PB COMMUNICATIONS CONSULTANTS LTD</td>\n",
       "      <td>[]</td>\n",
       "      <td>Active</td>\n",
       "      <td>TOTAL EXEMPTION FULL</td>\n",
       "      <td>30/32 GILDREDGE ROAD</td>\n",
       "      <td></td>\n",
       "      <td>EASTBOURNE</td>\n",
       "      <td>EAST SUSSEX</td>\n",
       "      <td></td>\n",
       "      <td>BN21 4SH</td>\n",
       "      <td>62020 - Information technology consultancy act...</td>\n",
       "      <td></td>\n",
       "      <td></td>\n",
       "      <td></td>\n",
       "    </tr>\n",
       "    <tr>\n",
       "      <th>99999</th>\n",
       "      <td>09448448</td>\n",
       "      <td>J&amp;M CIVILS LIMITED</td>\n",
       "      <td>[]</td>\n",
       "      <td>Active</td>\n",
       "      <td>TOTAL EXEMPTION FULL</td>\n",
       "      <td>1 HARDY CLOSE, NELSON COURT BUSINESS CENTRE</td>\n",
       "      <td>ASHTON-ON-RIBBLE</td>\n",
       "      <td>PRESTON</td>\n",
       "      <td></td>\n",
       "      <td>ENGLAND</td>\n",
       "      <td>PR2 2XP</td>\n",
       "      <td>42210 - Construction of utility projects for f...</td>\n",
       "      <td></td>\n",
       "      <td></td>\n",
       "      <td></td>\n",
       "    </tr>\n",
       "  </tbody>\n",
       "</table>\n",
       "<p>100000 rows × 15 columns</p>\n",
       "</div>"
      ],
      "text/plain": [
       "      company_number                           company_name secondary_names  \\\n",
       "0           05750887       YEM PROPERTY INVESTMENTS LIMITED              []   \n",
       "1           09123245     FAIRMONT PROPERTY SERVICES LIMITED              []   \n",
       "2           11383369  CHRIST KINGDOM WELFARE MINISTRIES LTD              []   \n",
       "3           09939647             DURONIC FOUNDATION LIMITED              []   \n",
       "4           07441481     DENTAL APPLIANCE MANUFACTURING LTD              []   \n",
       "...              ...                                    ...             ...   \n",
       "99995       14710751                   AUTOGRAPH AGENCY LTD              []   \n",
       "99996       10965149                  STEFAN HORNIG LIMITED              []   \n",
       "99997       14043983                     LAFAMILLIA LIMITED              []   \n",
       "99998       08975663      PB COMMUNICATIONS CONSULTANTS LTD              []   \n",
       "99999       09448448                     J&M CIVILS LIMITED              []   \n",
       "\n",
       "      company_status      account_category  \\\n",
       "0             Active  TOTAL EXEMPTION FULL   \n",
       "1             Active          MICRO ENTITY   \n",
       "2             Active          MICRO ENTITY   \n",
       "3             Active          MICRO ENTITY   \n",
       "4             Active               DORMANT   \n",
       "...              ...                   ...   \n",
       "99995         Active     NO ACCOUNTS FILED   \n",
       "99996         Active          MICRO ENTITY   \n",
       "99997         Active     NO ACCOUNTS FILED   \n",
       "99998         Active  TOTAL EXEMPTION FULL   \n",
       "99999         Active  TOTAL EXEMPTION FULL   \n",
       "\n",
       "                                    address_line_1     address_line_2  \\\n",
       "0                                        ASM HOUSE   103A KEYMER ROAD   \n",
       "1                                     QUEENS COURT  9-17 EASTERN ROAD   \n",
       "2                                  29A LONDON ROAD                      \n",
       "3                                  1A SPILSBY ROAD                      \n",
       "4                               300 ST. MARYS ROAD            GARSTON   \n",
       "...                                            ...                ...   \n",
       "99995                         71-75 SHELTON STREET      COVENT GARDEN   \n",
       "99996                           29 MORRISON AVENUE                      \n",
       "99997                              39 ENDERS COURT          MEDBOURNE   \n",
       "99998                         30/32 GILDREDGE ROAD                      \n",
       "99999  1 HARDY CLOSE, NELSON COURT BUSINESS CENTRE   ASHTON-ON-RIBBLE   \n",
       "\n",
       "           post_town       county         country  postcode  \\\n",
       "0           HASSOCKS  WEST SUSSEX  UNITED KINGDOM   BN6 8QL   \n",
       "1            ROMFORD        ESSEX         ENGLAND   RM1 3NH   \n",
       "2            BARKING               UNITED KINGDOM  IG11 8AF   \n",
       "3            ROMFORD        ESSEX  UNITED KINGDOM   RM8 8SB   \n",
       "4          LIVERPOOL                                L19 0NQ   \n",
       "...              ...          ...             ...       ...   \n",
       "99995         LONDON               UNITED KINGDOM  WC2H 9JQ   \n",
       "99996         LONDON                      ENGLAND   N17 6TU   \n",
       "99997  MILTON KEYNES                      ENGLAND   MK5 6GD   \n",
       "99998     EASTBOURNE  EAST SUSSEX                  BN21 4SH   \n",
       "99999        PRESTON                      ENGLAND   PR2 2XP   \n",
       "\n",
       "                                              sic_code_1  \\\n",
       "0      68209 - Other letting and operating of own or ...   \n",
       "1                                       43341 - Painting   \n",
       "2          94910 - Activities of religious organizations   \n",
       "3      99000 - Activities of extraterritorial organiz...   \n",
       "4      32500 - Manufacture of medical and dental inst...   \n",
       "...                                                  ...   \n",
       "99995                       73110 - Advertising agencies   \n",
       "99996                59112 - Video production activities   \n",
       "99997  56103 - Take-away food shops and mobile food s...   \n",
       "99998  62020 - Information technology consultancy act...   \n",
       "99999  42210 - Construction of utility projects for f...   \n",
       "\n",
       "                                            sic_code_2 sic_code_3 sic_code_4  \n",
       "0                                                                             \n",
       "1      43390 - Other building completion and finishing                        \n",
       "2                                                                             \n",
       "3                                                                             \n",
       "4                                                                             \n",
       "...                                                ...        ...        ...  \n",
       "99995                                                                         \n",
       "99996                                                                         \n",
       "99997   78200 - Temporary employment agency activities                        \n",
       "99998                                                                         \n",
       "99999                                                                         \n",
       "\n",
       "[100000 rows x 15 columns]"
      ]
     },
     "execution_count": 102,
     "metadata": {},
     "output_type": "execute_result"
    }
   ],
   "source": [
    "df_ch"
   ]
  },
  {
   "cell_type": "markdown",
   "id": "2915287f-60ed-4a9e-99ea-a0a9432bbfd4",
   "metadata": {},
   "source": [
    "## Refining blocking rules"
   ]
  },
  {
   "cell_type": "code",
   "execution_count": 69,
   "id": "67ceb58c-20ed-415b-a598-c439de8bec6c",
   "metadata": {},
   "outputs": [],
   "source": [
    "blocking_rules = {\n",
    "    'blocking_rule_1': \"\"\"\n",
    "        ((l.comp_num_clean = r.comp_num_clean)) \n",
    "        and (\n",
    "            l.comp_num_clean <> '' \n",
    "            and r.comp_num_clean <> ''\n",
    "        )\n",
    "    \"\"\",\n",
    "    'blocking_rule_2': \"\"\"\n",
    "        (l.name_unusual_tokens = r.name_unusual_tokens) \n",
    "        and (\n",
    "            l.name_unusual_tokens <> '' \n",
    "            and r.name_unusual_tokens <> ''\n",
    "        )\n",
    "    \"\"\",\n",
    "    # 'blocking_rule_3': \"\"\"\n",
    "    #     (l.name_unusual_tokens_first5 = r.name_unusual_tokens_first5) \n",
    "    #     and (\n",
    "    #         length(l.name_unusual_tokens_first5) = 5 \n",
    "    #         and length(r.name_unusual_tokens_first5) = 5\n",
    "    #     )\n",
    "    # \"\"\",\n",
    "    # 'blocking_rule_4': \"\"\"\n",
    "    #     (l.name_unusual_tokens_last5 = r.name_unusual_tokens_last5) \n",
    "    #     and (\n",
    "    #         length(l.name_unusual_tokens_last5) = 5 \n",
    "    #         and length(r.name_unusual_tokens_last5) = 5\n",
    "    #     )\n",
    "    # \"\"\",\n",
    "    'blocking_rule_5': \"\"\"\n",
    "        (l.secondary_name_unusual_tokens = r.secondary_name_unusual_tokens) \n",
    "        and (\n",
    "            l.secondary_name_unusual_tokens <> '' \n",
    "            and r.secondary_name_unusual_tokens <> ''\n",
    "        )\n",
    "    \"\"\",\n",
    "    'blocking_rule_6': \"\"\"\n",
    "        (l.secondary_name_unusual_tokens = r.name_unusual_tokens) \n",
    "        and (\n",
    "            l.secondary_name_unusual_tokens <> '' \n",
    "            and r.name_unusual_tokens <> ''\n",
    "        )\n",
    "    \"\"\",\n",
    "    'blocking_rule_7': \"\"\"\n",
    "        (r.secondary_name_unusual_tokens = l.name_unusual_tokens) \n",
    "        and (\n",
    "            r.secondary_name_unusual_tokens <> '' \n",
    "            and l.name_unusual_tokens <> ''\n",
    "        )\n",
    "    \"\"\",\n",
    "    # 'blocking_rule_8': \"\"\"\n",
    "    #     (l.name_sig_first5 = r.name_sig_first5) \n",
    "    #     and (\n",
    "    #         length(l.name_sig_first5) = 5 \n",
    "    #         and length(r.name_sig_first5) = 5\n",
    "    #     )\n",
    "    # \"\"\",\n",
    "    # 'blocking_rule_9': \"\"\"\n",
    "    #     (l.name_sig_last5 = r.name_sig_last5) \n",
    "    #     and (\n",
    "    #         length(l.name_sig_last5) = 5 \n",
    "    #         and length(r.name_sig_last5) = 5\n",
    "    #     )\n",
    "    # \"\"\",\n",
    "}"
   ]
  },
  {
   "cell_type": "code",
   "execution_count": 65,
   "id": "4fe28341-7e2c-451e-84e1-33e03fa70e36",
   "metadata": {},
   "outputs": [
    {
     "name": "stdout",
     "output_type": "stream",
     "text": [
      "2023-06-21 11:13:11.551834: Evaluating blocking_rule_1\n",
      "2023-06-21 11:13:11.775857: Finished evaluating blocking_rule_1\n",
      "2023-06-21 11:13:11.775945: Evaluating blocking_rule_2\n",
      "2023-06-21 11:13:12.080950: Finished evaluating blocking_rule_2\n",
      "2023-06-21 11:13:12.081043: Evaluating blocking_rule_3\n",
      "2023-06-21 11:13:15.578577: Finished evaluating blocking_rule_3\n",
      "2023-06-21 11:13:15.578697: Evaluating blocking_rule_4\n",
      "2023-06-21 11:13:22.542116: Finished evaluating blocking_rule_4\n",
      "2023-06-21 11:13:22.542208: Evaluating blocking_rule_5\n",
      "2023-06-21 11:13:22.675390: Finished evaluating blocking_rule_5\n",
      "2023-06-21 11:13:22.675431: Evaluating blocking_rule_6\n",
      "2023-06-21 11:13:22.852258: Finished evaluating blocking_rule_6\n",
      "2023-06-21 11:13:22.852348: Evaluating blocking_rule_7\n",
      "2023-06-21 11:13:23.007059: Finished evaluating blocking_rule_7\n",
      "2023-06-21 11:13:23.007099: Evaluating blocking_rule_8\n",
      "2023-06-21 11:13:23.517889: Finished evaluating blocking_rule_8\n",
      "2023-06-21 11:13:23.517984: Evaluating blocking_rule_9\n",
      "2023-06-21 11:13:23.975362: Finished evaluating blocking_rule_9\n"
     ]
    },
    {
     "data": {
      "text/html": [
       "<div>\n",
       "<style scoped>\n",
       "    .dataframe tbody tr th:only-of-type {\n",
       "        vertical-align: middle;\n",
       "    }\n",
       "\n",
       "    .dataframe tbody tr th {\n",
       "        vertical-align: top;\n",
       "    }\n",
       "\n",
       "    .dataframe thead th {\n",
       "        text-align: right;\n",
       "    }\n",
       "</style>\n",
       "<table border=\"1\" class=\"dataframe\">\n",
       "  <thead>\n",
       "    <tr style=\"text-align: right;\">\n",
       "      <th></th>\n",
       "      <th>rule</th>\n",
       "      <th>count</th>\n",
       "    </tr>\n",
       "  </thead>\n",
       "  <tbody>\n",
       "    <tr>\n",
       "      <th>0</th>\n",
       "      <td>blocking_rule_1</td>\n",
       "      <td>11539</td>\n",
       "    </tr>\n",
       "    <tr>\n",
       "      <th>1</th>\n",
       "      <td>blocking_rule_2</td>\n",
       "      <td>105347</td>\n",
       "    </tr>\n",
       "    <tr>\n",
       "      <th>2</th>\n",
       "      <td>blocking_rule_3</td>\n",
       "      <td>31721861</td>\n",
       "    </tr>\n",
       "    <tr>\n",
       "      <th>3</th>\n",
       "      <td>blocking_rule_4</td>\n",
       "      <td>62421318</td>\n",
       "    </tr>\n",
       "    <tr>\n",
       "      <th>4</th>\n",
       "      <td>blocking_rule_5</td>\n",
       "      <td>35</td>\n",
       "    </tr>\n",
       "    <tr>\n",
       "      <th>5</th>\n",
       "      <td>blocking_rule_6</td>\n",
       "      <td>12530</td>\n",
       "    </tr>\n",
       "    <tr>\n",
       "      <th>6</th>\n",
       "      <td>blocking_rule_7</td>\n",
       "      <td>277</td>\n",
       "    </tr>\n",
       "    <tr>\n",
       "      <th>7</th>\n",
       "      <td>blocking_rule_8</td>\n",
       "      <td>2124023</td>\n",
       "    </tr>\n",
       "    <tr>\n",
       "      <th>8</th>\n",
       "      <td>blocking_rule_9</td>\n",
       "      <td>1529366</td>\n",
       "    </tr>\n",
       "  </tbody>\n",
       "</table>\n",
       "</div>"
      ],
      "text/plain": [
       "              rule     count\n",
       "0  blocking_rule_1     11539\n",
       "1  blocking_rule_2    105347\n",
       "2  blocking_rule_3  31721861\n",
       "3  blocking_rule_4  62421318\n",
       "4  blocking_rule_5        35\n",
       "5  blocking_rule_6     12530\n",
       "6  blocking_rule_7       277\n",
       "7  blocking_rule_8   2124023\n",
       "8  blocking_rule_9   1529366"
      ]
     },
     "execution_count": 65,
     "metadata": {},
     "output_type": "execute_result"
    }
   ],
   "source": [
    "rule_counts = {\n",
    "    'rule': [],\n",
    "    'count': []\n",
    "}\n",
    "\n",
    "for rule in blocking_rules.keys():\n",
    "    print(f'{datetime.datetime.now()}: Evaluating {rule}')\n",
    "    \n",
    "    count = linker.count_num_comparisons_from_blocking_rule(blocking_rules[rule])\n",
    "    \n",
    "    print(f'{datetime.datetime.now()}: Finished evaluating {rule}')\n",
    "    \n",
    "    rule_counts['rule'].append(rule)\n",
    "    rule_counts['count'].append(count)\n",
    "\n",
    "pd.DataFrame.from_dict(rule_counts)"
   ]
  },
  {
   "cell_type": "code",
   "execution_count": 70,
   "id": "ac92e9b8-e8a6-4be8-a533-353a06f8ae37",
   "metadata": {},
   "outputs": [
    {
     "data": {
      "application/vnd.vegalite.v4+json": {
       "$schema": "https://vega.github.io/schema/vega-lite/v5.json",
       "data": {
        "values": [
         {
          "cartesian": 46148700000,
          "cumulative_rows": 11539,
          "reduction_ratio": "The rolling reduction ratio with your given blocking rule(s) is 1.0. This represents the reduction in the total number of comparisons due to your rule(s).",
          "row_count": 11539,
          "rule": "\n        ((l.comp_num_clean = r.comp_num_clean)) \n        and (\n            l.comp_num_clean <> '' \n            and r.comp_num_clean <> ''\n        )\n    ",
          "start": 0
         },
         {
          "cartesian": 46148700000,
          "cumulative_rows": 107204,
          "reduction_ratio": "The rolling reduction ratio with your given blocking rule(s) is 0.999998. This represents the reduction in the total number of comparisons due to your rule(s).",
          "row_count": 95665,
          "rule": "\n        (l.name_unusual_tokens = r.name_unusual_tokens) \n        and (\n            l.name_unusual_tokens <> '' \n            and r.name_unusual_tokens <> ''\n        )\n    ",
          "start": 11539
         },
         {
          "cartesian": 46148700000,
          "cumulative_rows": 107238,
          "reduction_ratio": "The rolling reduction ratio with your given blocking rule(s) is 0.999998. This represents the reduction in the total number of comparisons due to your rule(s).",
          "row_count": 34,
          "rule": "\n        (l.secondary_name_unusual_tokens = r.secondary_name_unusual_tokens) \n        and (\n            l.secondary_name_unusual_tokens <> '' \n            and r.secondary_name_unusual_tokens <> ''\n        )\n    ",
          "start": 107204
         },
         {
          "cartesian": 46148700000,
          "cumulative_rows": 113882,
          "reduction_ratio": "The rolling reduction ratio with your given blocking rule(s) is 0.999998. This represents the reduction in the total number of comparisons due to your rule(s).",
          "row_count": 6644,
          "rule": "\n        (l.secondary_name_unusual_tokens = r.name_unusual_tokens) \n        and (\n            l.secondary_name_unusual_tokens <> '' \n            and r.name_unusual_tokens <> ''\n        )\n    ",
          "start": 107238
         },
         {
          "cartesian": 46148700000,
          "cumulative_rows": 114078,
          "reduction_ratio": "The rolling reduction ratio with your given blocking rule(s) is 0.999998. This represents the reduction in the total number of comparisons due to your rule(s).",
          "row_count": 196,
          "rule": "\n        (r.secondary_name_unusual_tokens = l.name_unusual_tokens) \n        and (\n            r.secondary_name_unusual_tokens <> '' \n            and l.name_unusual_tokens <> ''\n        )\n    ",
          "start": 113882
         }
        ]
       },
       "encoding": {
        "color": {
         "field": "rule",
         "legend": null,
         "scale": {
          "scheme": "category20c"
         }
        },
        "order": {
         "field": "cumulative_rows"
        },
        "tooltip": [
         {
          "field": "rule",
          "title": "SQL Condition",
          "type": "nominal"
         },
         {
          "field": "row_count",
          "format": ",",
          "title": "Comparisons Generated",
          "type": "quantitative"
         },
         {
          "field": "cumulative_rows",
          "format": ",",
          "title": "Cumulative Comparisons",
          "type": "quantitative"
         },
         {
          "field": "cartesian",
          "format": ",",
          "title": "Cartesian Product of Input Data",
          "type": "quantitative"
         },
         {
          "field": "reduction_ratio",
          "title": "Reduction Ratio (cumulative rows/cartesian product)",
          "type": "nominal"
         }
        ],
        "x": {
         "field": "start",
         "title": "Comparisons Generated by Rule(s)",
         "type": "quantitative"
        },
        "x2": {
         "field": "cumulative_rows"
        },
        "y": {
         "field": "rule",
         "sort": [
          "-x2"
         ],
         "title": "SQL Blocking Rule"
        }
       },
       "height": {
        "step": 20
       },
       "mark": "bar",
       "title": {
        "subtitle": "(Counts exclude comparisons already generated by previous rules)",
        "text": "Count of Additional Comparisons Generated by Each Blocking Rule"
       },
       "width": 450
      },
      "image/png": "[encoded data removed]",
      "text/plain": [
       "<VegaLite 4 object>\n",
       "\n",
       "If you see this message, it means the renderer has not been properly enabled\n",
       "for the frontend that you are using. For more information, see\n",
       "https://altair-viz.github.io/user_guide/troubleshooting.html\n"
      ]
     },
     "execution_count": 70,
     "metadata": {},
     "output_type": "execute_result"
    }
   ],
   "source": [
    "linker.cumulative_num_comparisons_from_blocking_rules_chart(\n",
    "    list(blocking_rules.values())\n",
    ")"
   ]
  }
 ],
 "metadata": {
  "kernelspec": {
   "display_name": "lead_generation_experiments",
   "language": "python",
   "name": "lead_generation_experiments"
  },
  "language_info": {
   "codemirror_mode": {
    "name": "ipython",
    "version": 3
   },
   "file_extension": ".py",
   "mimetype": "text/x-python",
   "name": "python",
   "nbconvert_exporter": "python",
   "pygments_lexer": "ipython3",
   "version": "3.9.16"
  }
 },
 "nbformat": 4,
 "nbformat_minor": 5
}