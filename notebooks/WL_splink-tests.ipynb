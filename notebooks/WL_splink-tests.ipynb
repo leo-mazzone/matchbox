{
 "cells": [
  {
   "cell_type": "markdown",
   "id": "776b2be3-a092-481c-bb3b-2b659affd578",
   "metadata": {},
   "source": [
    "# Splink tests\n",
    "\n",
    "Bringing Sarah's code in leads to some inevitable bugs with our versions of packages, and I need a place to work out how some of these functions work."
   ]
  },
  {
   "cell_type": "code",
   "execution_count": 1,
   "id": "5661e8cc-24a8-4025-96f1-02faab428c81",
   "metadata": {},
   "outputs": [],
   "source": [
    "%load_ext autoreload\n",
    "%autoreload 2\n",
    "from IPython.core.interactiveshell import InteractiveShell\n",
    "InteractiveShell.ast_node_interactivity = \"all\""
   ]
  },
  {
   "cell_type": "code",
   "execution_count": 2,
   "id": "82660568-9ccb-447e-b6d5-1be5791f5197",
   "metadata": {},
   "outputs": [
    {
     "data": {
      "text/plain": [
       "RendererRegistry.enable('mimetype')"
      ]
     },
     "execution_count": 2,
     "metadata": {},
     "output_type": "execute_result"
    }
   ],
   "source": [
    "import duckdb\n",
    "import pandas as pd\n",
    "import random\n",
    "import datetime\n",
    "\n",
    "import altair as alt\n",
    "alt.renderers.enable(\"mimetype\")\n",
    "\n",
    "from cmf.models import model_train as ld\n",
    "from cmf.features.clean_complex import clean_comp_names\n",
    "from cmf.config import stopwords\n",
    "from cmf.config import settings\n",
    "from cmf.features.clean_basic import (\n",
    "    remove_notnumbers_leadingzeroes,\n",
    "    clean_company_name,\n",
    "    array_except,\n",
    "    array_intersect,\n",
    "    list_join_to_string,\n",
    ")\n",
    "\n",
    "from splink.duckdb.linker import DuckDBLinker\n",
    "from splink.charts import save_offline_chart"
   ]
  },
  {
   "cell_type": "markdown",
   "id": "36e23c6e-d12f-45da-bfe2-b5d7cd79151b",
   "metadata": {},
   "source": [
    "## From Sarah's tests\n",
    "\n",
    "I'm just aiming to replicate her code so I can explore it a bit and see why it's not running for me."
   ]
  },
  {
   "cell_type": "markdown",
   "id": "538bbb99-ae70-4076-a9c4-81cdbb316266",
   "metadata": {},
   "source": [
    "Sarah's comments:\n",
    "\n",
    "Read in Companies House data, return `company_number`, `postcodes` and `company_name` split into: 'unusual' tokens, most common 3 tokens and most common 4 to 6 tokens."
   ]
  },
  {
   "cell_type": "code",
   "execution_count": 3,
   "id": "5e4021a2-409a-4f3a-8ab5-852d567a4097",
   "metadata": {},
   "outputs": [
    {
     "name": "stderr",
     "output_type": "stream",
     "text": [
      "/opt/conda/envs/lead_generation_experiments/lib/python3.9/site-packages/pandas/io/sql.py:1410: RemovedIn20Warning: Deprecated API features detected! These feature(s) are not compatible with SQLAlchemy 2.0. To prevent incompatible upgrades prior to updating applications, ensure requirements files are pinned to \"sqlalchemy<2.0\". Set environment variable SQLALCHEMY_WARN_20=1 to show all deprecation warnings.  Set environment variable SQLALCHEMY_SILENCE_UBER_WARNING=1 to silence this message. (Background on SQLAlchemy 2.0 at: https://sqlalche.me/e/b8d9)\n",
      "  meta = MetaData(self.connectable, schema=schema)\n"
     ]
    }
   ],
   "source": [
    "df_ch = ld.comp_house_read()"
   ]
  },
  {
   "cell_type": "code",
   "execution_count": 4,
   "id": "cab2f9ad-5c3d-464d-ba5e-e3b09e7630d0",
   "metadata": {},
   "outputs": [],
   "source": [
    "df_ch_clean = ld.clean_numbers_and_names(df_ch)\n",
    "df_ch_clean.reset_index(inplace=True)\n",
    "df_ch_clean.rename(columns={\"index\": \"unique_id\"}, inplace=True)"
   ]
  },
  {
   "cell_type": "code",
   "execution_count": 5,
   "id": "11bafe83-0374-4e73-ae3a-07904d98251e",
   "metadata": {},
   "outputs": [
    {
     "data": {
      "text/html": [
       "<div>\n",
       "<style scoped>\n",
       "    .dataframe tbody tr th:only-of-type {\n",
       "        vertical-align: middle;\n",
       "    }\n",
       "\n",
       "    .dataframe tbody tr th {\n",
       "        vertical-align: top;\n",
       "    }\n",
       "\n",
       "    .dataframe thead th {\n",
       "        text-align: right;\n",
       "    }\n",
       "</style>\n",
       "<table border=\"1\" class=\"dataframe\">\n",
       "  <thead>\n",
       "    <tr style=\"text-align: right;\">\n",
       "      <th></th>\n",
       "      <th>unique_id</th>\n",
       "      <th>comp_num_clean</th>\n",
       "      <th>name_unusual_tokens</th>\n",
       "      <th>secondary_name_unusual_tokens</th>\n",
       "      <th>names_tokens_stopwords</th>\n",
       "      <th>postcode</th>\n",
       "      <th>postcode_alt</th>\n",
       "      <th>name_unusual_tokens_first5</th>\n",
       "      <th>name_unusual_tokens_last5</th>\n",
       "      <th>postcode_area</th>\n",
       "    </tr>\n",
       "  </thead>\n",
       "  <tbody>\n",
       "    <tr>\n",
       "      <th>count</th>\n",
       "      <td>5.350528e+06</td>\n",
       "      <td>5350528</td>\n",
       "      <td>5350454</td>\n",
       "      <td>5350519</td>\n",
       "      <td>5350528</td>\n",
       "      <td>5350528</td>\n",
       "      <td>0.0</td>\n",
       "      <td>5350454</td>\n",
       "      <td>5350454</td>\n",
       "      <td>5265568</td>\n",
       "    </tr>\n",
       "    <tr>\n",
       "      <th>unique</th>\n",
       "      <td>NaN</td>\n",
       "      <td>5160761</td>\n",
       "      <td>5191154</td>\n",
       "      <td>506352</td>\n",
       "      <td>747</td>\n",
       "      <td>947538</td>\n",
       "      <td>NaN</td>\n",
       "      <td>601612</td>\n",
       "      <td>576680</td>\n",
       "      <td>488</td>\n",
       "    </tr>\n",
       "    <tr>\n",
       "      <th>top</th>\n",
       "      <td>NaN</td>\n",
       "      <td>1</td>\n",
       "      <td>property</td>\n",
       "      <td></td>\n",
       "      <td>limited</td>\n",
       "      <td></td>\n",
       "      <td>NaN</td>\n",
       "      <td>consu</td>\n",
       "      <td>vices</td>\n",
       "      <td>N</td>\n",
       "    </tr>\n",
       "    <tr>\n",
       "      <th>freq</th>\n",
       "      <td>NaN</td>\n",
       "      <td>22</td>\n",
       "      <td>29</td>\n",
       "      <td>4840406</td>\n",
       "      <td>4416784</td>\n",
       "      <td>81701</td>\n",
       "      <td>NaN</td>\n",
       "      <td>120371</td>\n",
       "      <td>177742</td>\n",
       "      <td>176447</td>\n",
       "    </tr>\n",
       "    <tr>\n",
       "      <th>mean</th>\n",
       "      <td>2.675264e+06</td>\n",
       "      <td>NaN</td>\n",
       "      <td>NaN</td>\n",
       "      <td>NaN</td>\n",
       "      <td>NaN</td>\n",
       "      <td>NaN</td>\n",
       "      <td>NaN</td>\n",
       "      <td>NaN</td>\n",
       "      <td>NaN</td>\n",
       "      <td>NaN</td>\n",
       "    </tr>\n",
       "    <tr>\n",
       "      <th>std</th>\n",
       "      <td>1.544565e+06</td>\n",
       "      <td>NaN</td>\n",
       "      <td>NaN</td>\n",
       "      <td>NaN</td>\n",
       "      <td>NaN</td>\n",
       "      <td>NaN</td>\n",
       "      <td>NaN</td>\n",
       "      <td>NaN</td>\n",
       "      <td>NaN</td>\n",
       "      <td>NaN</td>\n",
       "    </tr>\n",
       "    <tr>\n",
       "      <th>min</th>\n",
       "      <td>0.000000e+00</td>\n",
       "      <td>NaN</td>\n",
       "      <td>NaN</td>\n",
       "      <td>NaN</td>\n",
       "      <td>NaN</td>\n",
       "      <td>NaN</td>\n",
       "      <td>NaN</td>\n",
       "      <td>NaN</td>\n",
       "      <td>NaN</td>\n",
       "      <td>NaN</td>\n",
       "    </tr>\n",
       "    <tr>\n",
       "      <th>25%</th>\n",
       "      <td>1.337632e+06</td>\n",
       "      <td>NaN</td>\n",
       "      <td>NaN</td>\n",
       "      <td>NaN</td>\n",
       "      <td>NaN</td>\n",
       "      <td>NaN</td>\n",
       "      <td>NaN</td>\n",
       "      <td>NaN</td>\n",
       "      <td>NaN</td>\n",
       "      <td>NaN</td>\n",
       "    </tr>\n",
       "    <tr>\n",
       "      <th>50%</th>\n",
       "      <td>2.675264e+06</td>\n",
       "      <td>NaN</td>\n",
       "      <td>NaN</td>\n",
       "      <td>NaN</td>\n",
       "      <td>NaN</td>\n",
       "      <td>NaN</td>\n",
       "      <td>NaN</td>\n",
       "      <td>NaN</td>\n",
       "      <td>NaN</td>\n",
       "      <td>NaN</td>\n",
       "    </tr>\n",
       "    <tr>\n",
       "      <th>75%</th>\n",
       "      <td>4.012895e+06</td>\n",
       "      <td>NaN</td>\n",
       "      <td>NaN</td>\n",
       "      <td>NaN</td>\n",
       "      <td>NaN</td>\n",
       "      <td>NaN</td>\n",
       "      <td>NaN</td>\n",
       "      <td>NaN</td>\n",
       "      <td>NaN</td>\n",
       "      <td>NaN</td>\n",
       "    </tr>\n",
       "    <tr>\n",
       "      <th>max</th>\n",
       "      <td>5.350527e+06</td>\n",
       "      <td>NaN</td>\n",
       "      <td>NaN</td>\n",
       "      <td>NaN</td>\n",
       "      <td>NaN</td>\n",
       "      <td>NaN</td>\n",
       "      <td>NaN</td>\n",
       "      <td>NaN</td>\n",
       "      <td>NaN</td>\n",
       "      <td>NaN</td>\n",
       "    </tr>\n",
       "  </tbody>\n",
       "</table>\n",
       "</div>"
      ],
      "text/plain": [
       "           unique_id comp_num_clean name_unusual_tokens  \\\n",
       "count   5.350528e+06        5350528             5350454   \n",
       "unique           NaN        5160761             5191154   \n",
       "top              NaN              1            property   \n",
       "freq             NaN             22                  29   \n",
       "mean    2.675264e+06            NaN                 NaN   \n",
       "std     1.544565e+06            NaN                 NaN   \n",
       "min     0.000000e+00            NaN                 NaN   \n",
       "25%     1.337632e+06            NaN                 NaN   \n",
       "50%     2.675264e+06            NaN                 NaN   \n",
       "75%     4.012895e+06            NaN                 NaN   \n",
       "max     5.350527e+06            NaN                 NaN   \n",
       "\n",
       "       secondary_name_unusual_tokens names_tokens_stopwords postcode  \\\n",
       "count                        5350519                5350528  5350528   \n",
       "unique                        506352                    747   947538   \n",
       "top                                                 limited            \n",
       "freq                         4840406                4416784    81701   \n",
       "mean                             NaN                    NaN      NaN   \n",
       "std                              NaN                    NaN      NaN   \n",
       "min                              NaN                    NaN      NaN   \n",
       "25%                              NaN                    NaN      NaN   \n",
       "50%                              NaN                    NaN      NaN   \n",
       "75%                              NaN                    NaN      NaN   \n",
       "max                              NaN                    NaN      NaN   \n",
       "\n",
       "        postcode_alt name_unusual_tokens_first5 name_unusual_tokens_last5  \\\n",
       "count            0.0                    5350454                   5350454   \n",
       "unique           NaN                     601612                    576680   \n",
       "top              NaN                      consu                     vices   \n",
       "freq             NaN                     120371                    177742   \n",
       "mean             NaN                        NaN                       NaN   \n",
       "std              NaN                        NaN                       NaN   \n",
       "min              NaN                        NaN                       NaN   \n",
       "25%              NaN                        NaN                       NaN   \n",
       "50%              NaN                        NaN                       NaN   \n",
       "75%              NaN                        NaN                       NaN   \n",
       "max              NaN                        NaN                       NaN   \n",
       "\n",
       "       postcode_area  \n",
       "count        5265568  \n",
       "unique           488  \n",
       "top                N  \n",
       "freq          176447  \n",
       "mean             NaN  \n",
       "std              NaN  \n",
       "min              NaN  \n",
       "25%              NaN  \n",
       "50%              NaN  \n",
       "75%              NaN  \n",
       "max              NaN  "
      ]
     },
     "execution_count": 5,
     "metadata": {},
     "output_type": "execute_result"
    }
   ],
   "source": [
    "df_ch_clean.describe(include='all')"
   ]
  },
  {
   "cell_type": "code",
   "execution_count": 6,
   "id": "ac5a4047-2765-4499-b5cd-1320c5cd793e",
   "metadata": {},
   "outputs": [],
   "source": [
    "df_dh = ld.data_hub_read()"
   ]
  },
  {
   "cell_type": "code",
   "execution_count": 7,
   "id": "94bb131e-e3f7-4f79-b21f-a526f93a895f",
   "metadata": {},
   "outputs": [],
   "source": [
    "df_dh_clean = ld.clean_numbers_and_names(df_dh)\n",
    "df_dh_clean.reset_index(inplace=True)\n",
    "df_dh_clean.rename(columns={\"index\": \"unique_id\"}, inplace=True)"
   ]
  },
  {
   "cell_type": "code",
   "execution_count": 8,
   "id": "4470d6f1-dbcd-44f4-af49-4756bb323c2e",
   "metadata": {
    "tags": []
   },
   "outputs": [
    {
     "data": {
      "text/html": [
       "<div>\n",
       "<style scoped>\n",
       "    .dataframe tbody tr th:only-of-type {\n",
       "        vertical-align: middle;\n",
       "    }\n",
       "\n",
       "    .dataframe tbody tr th {\n",
       "        vertical-align: top;\n",
       "    }\n",
       "\n",
       "    .dataframe thead th {\n",
       "        text-align: right;\n",
       "    }\n",
       "</style>\n",
       "<table border=\"1\" class=\"dataframe\">\n",
       "  <thead>\n",
       "    <tr style=\"text-align: right;\">\n",
       "      <th></th>\n",
       "      <th>unique_id</th>\n",
       "      <th>comp_num_clean</th>\n",
       "      <th>name_unusual_tokens</th>\n",
       "      <th>secondary_name_unusual_tokens</th>\n",
       "      <th>names_tokens_stopwords</th>\n",
       "      <th>postcode</th>\n",
       "      <th>postcode_alt</th>\n",
       "      <th>name_unusual_tokens_first5</th>\n",
       "      <th>name_unusual_tokens_last5</th>\n",
       "      <th>postcode_area</th>\n",
       "    </tr>\n",
       "  </thead>\n",
       "  <tbody>\n",
       "    <tr>\n",
       "      <th>count</th>\n",
       "      <td>176050.000000</td>\n",
       "      <td>90742</td>\n",
       "      <td>176046</td>\n",
       "      <td>176048</td>\n",
       "      <td>176050</td>\n",
       "      <td>176050</td>\n",
       "      <td>0.0</td>\n",
       "      <td>176046</td>\n",
       "      <td>176046</td>\n",
       "      <td>115526</td>\n",
       "    </tr>\n",
       "    <tr>\n",
       "      <th>unique</th>\n",
       "      <td>NaN</td>\n",
       "      <td>89757</td>\n",
       "      <td>168517</td>\n",
       "      <td>33476</td>\n",
       "      <td>412</td>\n",
       "      <td>90830</td>\n",
       "      <td>NaN</td>\n",
       "      <td>54777</td>\n",
       "      <td>53102</td>\n",
       "      <td>271</td>\n",
       "    </tr>\n",
       "    <tr>\n",
       "      <th>top</th>\n",
       "      <td>NaN</td>\n",
       "      <td></td>\n",
       "      <td>barclays</td>\n",
       "      <td></td>\n",
       "      <td>limited</td>\n",
       "      <td></td>\n",
       "      <td>NaN</td>\n",
       "      <td>consu</td>\n",
       "      <td>tions</td>\n",
       "      <td>EC</td>\n",
       "    </tr>\n",
       "    <tr>\n",
       "      <th>freq</th>\n",
       "      <td>NaN</td>\n",
       "      <td>143</td>\n",
       "      <td>34</td>\n",
       "      <td>140244</td>\n",
       "      <td>81278</td>\n",
       "      <td>12088</td>\n",
       "      <td>NaN</td>\n",
       "      <td>2099</td>\n",
       "      <td>3319</td>\n",
       "      <td>5251</td>\n",
       "    </tr>\n",
       "    <tr>\n",
       "      <th>mean</th>\n",
       "      <td>88024.500000</td>\n",
       "      <td>NaN</td>\n",
       "      <td>NaN</td>\n",
       "      <td>NaN</td>\n",
       "      <td>NaN</td>\n",
       "      <td>NaN</td>\n",
       "      <td>NaN</td>\n",
       "      <td>NaN</td>\n",
       "      <td>NaN</td>\n",
       "      <td>NaN</td>\n",
       "    </tr>\n",
       "    <tr>\n",
       "      <th>std</th>\n",
       "      <td>50821.401783</td>\n",
       "      <td>NaN</td>\n",
       "      <td>NaN</td>\n",
       "      <td>NaN</td>\n",
       "      <td>NaN</td>\n",
       "      <td>NaN</td>\n",
       "      <td>NaN</td>\n",
       "      <td>NaN</td>\n",
       "      <td>NaN</td>\n",
       "      <td>NaN</td>\n",
       "    </tr>\n",
       "    <tr>\n",
       "      <th>min</th>\n",
       "      <td>0.000000</td>\n",
       "      <td>NaN</td>\n",
       "      <td>NaN</td>\n",
       "      <td>NaN</td>\n",
       "      <td>NaN</td>\n",
       "      <td>NaN</td>\n",
       "      <td>NaN</td>\n",
       "      <td>NaN</td>\n",
       "      <td>NaN</td>\n",
       "      <td>NaN</td>\n",
       "    </tr>\n",
       "    <tr>\n",
       "      <th>25%</th>\n",
       "      <td>44012.250000</td>\n",
       "      <td>NaN</td>\n",
       "      <td>NaN</td>\n",
       "      <td>NaN</td>\n",
       "      <td>NaN</td>\n",
       "      <td>NaN</td>\n",
       "      <td>NaN</td>\n",
       "      <td>NaN</td>\n",
       "      <td>NaN</td>\n",
       "      <td>NaN</td>\n",
       "    </tr>\n",
       "    <tr>\n",
       "      <th>50%</th>\n",
       "      <td>88024.500000</td>\n",
       "      <td>NaN</td>\n",
       "      <td>NaN</td>\n",
       "      <td>NaN</td>\n",
       "      <td>NaN</td>\n",
       "      <td>NaN</td>\n",
       "      <td>NaN</td>\n",
       "      <td>NaN</td>\n",
       "      <td>NaN</td>\n",
       "      <td>NaN</td>\n",
       "    </tr>\n",
       "    <tr>\n",
       "      <th>75%</th>\n",
       "      <td>132036.750000</td>\n",
       "      <td>NaN</td>\n",
       "      <td>NaN</td>\n",
       "      <td>NaN</td>\n",
       "      <td>NaN</td>\n",
       "      <td>NaN</td>\n",
       "      <td>NaN</td>\n",
       "      <td>NaN</td>\n",
       "      <td>NaN</td>\n",
       "      <td>NaN</td>\n",
       "    </tr>\n",
       "    <tr>\n",
       "      <th>max</th>\n",
       "      <td>176049.000000</td>\n",
       "      <td>NaN</td>\n",
       "      <td>NaN</td>\n",
       "      <td>NaN</td>\n",
       "      <td>NaN</td>\n",
       "      <td>NaN</td>\n",
       "      <td>NaN</td>\n",
       "      <td>NaN</td>\n",
       "      <td>NaN</td>\n",
       "      <td>NaN</td>\n",
       "    </tr>\n",
       "  </tbody>\n",
       "</table>\n",
       "</div>"
      ],
      "text/plain": [
       "            unique_id comp_num_clean name_unusual_tokens  \\\n",
       "count   176050.000000          90742              176046   \n",
       "unique            NaN          89757              168517   \n",
       "top               NaN                           barclays   \n",
       "freq              NaN            143                  34   \n",
       "mean     88024.500000            NaN                 NaN   \n",
       "std      50821.401783            NaN                 NaN   \n",
       "min          0.000000            NaN                 NaN   \n",
       "25%      44012.250000            NaN                 NaN   \n",
       "50%      88024.500000            NaN                 NaN   \n",
       "75%     132036.750000            NaN                 NaN   \n",
       "max     176049.000000            NaN                 NaN   \n",
       "\n",
       "       secondary_name_unusual_tokens names_tokens_stopwords postcode  \\\n",
       "count                         176048                 176050   176050   \n",
       "unique                         33476                    412    90830   \n",
       "top                                                 limited            \n",
       "freq                          140244                  81278    12088   \n",
       "mean                             NaN                    NaN      NaN   \n",
       "std                              NaN                    NaN      NaN   \n",
       "min                              NaN                    NaN      NaN   \n",
       "25%                              NaN                    NaN      NaN   \n",
       "50%                              NaN                    NaN      NaN   \n",
       "75%                              NaN                    NaN      NaN   \n",
       "max                              NaN                    NaN      NaN   \n",
       "\n",
       "        postcode_alt name_unusual_tokens_first5 name_unusual_tokens_last5  \\\n",
       "count            0.0                     176046                    176046   \n",
       "unique           NaN                      54777                     53102   \n",
       "top              NaN                      consu                     tions   \n",
       "freq             NaN                       2099                      3319   \n",
       "mean             NaN                        NaN                       NaN   \n",
       "std              NaN                        NaN                       NaN   \n",
       "min              NaN                        NaN                       NaN   \n",
       "25%              NaN                        NaN                       NaN   \n",
       "50%              NaN                        NaN                       NaN   \n",
       "75%              NaN                        NaN                       NaN   \n",
       "max              NaN                        NaN                       NaN   \n",
       "\n",
       "       postcode_area  \n",
       "count         115526  \n",
       "unique           271  \n",
       "top               EC  \n",
       "freq            5251  \n",
       "mean             NaN  \n",
       "std              NaN  \n",
       "min              NaN  \n",
       "25%              NaN  \n",
       "50%              NaN  \n",
       "75%              NaN  \n",
       "max              NaN  "
      ]
     },
     "execution_count": 8,
     "metadata": {},
     "output_type": "execute_result"
    }
   ],
   "source": [
    "df_dh_clean.describe(include='all')"
   ]
  },
  {
   "cell_type": "markdown",
   "id": "ff5b94ee-cd68-472d-a431-11af8d8cf630",
   "metadata": {},
   "source": [
    "Sarah's comments:\n",
    "\n",
    "Instantiate the linker"
   ]
  },
  {
   "cell_type": "code",
   "execution_count": 9,
   "id": "3a2b9d75-0896-41dd-814e-2f87d97ff9b2",
   "metadata": {},
   "outputs": [],
   "source": [
    "linker = DuckDBLinker(\n",
    "    [df_dh_clean, df_ch_clean],\n",
    "    settings,\n",
    "    input_table_aliases=[\"datahub\", \"companies_house\"],\n",
    ")"
   ]
  },
  {
   "cell_type": "markdown",
   "id": "32cdee89-1572-419a-ade0-464e3a10b3b0",
   "metadata": {},
   "source": [
    "Sarah's comments:\n",
    "\n",
    "This is how you do a deterministic link. It uses whatever rules you specify in 'blocking_rules_to_generate_predictions'\n",
    "\n",
    "`linker.deterministic_link().as_pandas_dataframe()`\n",
    "\n",
    "Determine probability two random records match i.e. the prior. Should admit very few (none if possible) false positives. [Linker docs](https://moj-analytical-services.github.io/splink/linkerest.html#splink.linker).\n",
    "\n",
    "`Linker.estimate_probability_two_random_records_match`\n",
    "\n",
    "This assumption is important to what we think 'a company is'. If just using equality on name, we - for instance - think astrazeneca cambridge and astrazeneca macclesfield are 'the same' comp may need revisiting / alternative models building."
   ]
  },
  {
   "cell_type": "code",
   "execution_count": 36,
   "id": "2feac536-edf5-49b1-af99-b7f76993e42b",
   "metadata": {},
   "outputs": [
    {
     "data": {
      "text/plain": [
       "10798      coop genossenschaft gruppe\n",
       "169844                  mango scripts\n",
       "109134                   qnap systems\n",
       "69510                          cypfer\n",
       "88599     architects bradley steffian\n",
       "Name: name_unusual_tokens, dtype: object"
      ]
     },
     "execution_count": 36,
     "metadata": {},
     "output_type": "execute_result"
    },
    {
     "data": {
      "text/plain": [
       "4428412       dark grimsby kitchen\n",
       "2217747         ostereo publishing\n",
       "5139079      distribution symmetry\n",
       "2203595    bovingdon court orchard\n",
       "832055              bargains nifty\n",
       "Name: name_unusual_tokens, dtype: object"
      ]
     },
     "execution_count": 36,
     "metadata": {},
     "output_type": "execute_result"
    }
   ],
   "source": [
    "df_dh_clean.name_unusual_tokens.sample(5)\n",
    "df_ch_clean.name_unusual_tokens.sample(5)"
   ]
  },
  {
   "cell_type": "code",
   "execution_count": 14,
   "id": "f5aaea87-86e8-4040-af8f-43791ebcb742",
   "metadata": {},
   "outputs": [
    {
     "name": "stderr",
     "output_type": "stream",
     "text": [
      "Probability two random records match is estimated to be  1.89e-07.\n",
      "This means that amongst all possible pairwise record comparisons, one in 5,302,807.68 are expected to match.  With 941,960,454,400 total possible comparisons, we expect a total of around 177,634.29 matching pairs\n"
     ]
    }
   ],
   "source": [
    "linker.estimate_probability_two_random_records_match(\n",
    "    \"l.name_unusual_tokens = r.name_unusual_tokens\",\n",
    "    recall=0.7,\n",
    ")"
   ]
  },
  {
   "cell_type": "markdown",
   "id": "f8d88c07-f9f2-4161-a366-39f99d311744",
   "metadata": {},
   "source": [
    "Sarah's comments:\n",
    "\n",
    "But let's do probabilistic linkage instead. Increased `max_pairs` so that the model more likely to encounter the required comparison levels.\n",
    "\n",
    "NOTE: random sampling and can't set seed anymore"
   ]
  },
  {
   "cell_type": "code",
   "execution_count": 44,
   "id": "24069b5a-f428-4c53-a9ae-805cc18cdb0b",
   "metadata": {
    "tags": []
   },
   "outputs": [
    {
     "name": "stderr",
     "output_type": "stream",
     "text": [
      "----- Estimating u probabilities using random sampling -----\n",
      "u probability not trained for comp_num_clean - Exact match (comparison vector value: 2). This usually means the comparison level was never observed in the training data.\n",
      "u probability not trained for postcode_area - All other comparisons (comparison vector value: 0). This usually means the comparison level was never observed in the training data.\n",
      "\n",
      "Estimated u probabilities using random sampling\n",
      "\n",
      "Your model is not yet fully trained. Missing estimates for:\n",
      "    - comp_num_clean (some m values are not trained).\n",
      "    - postcode_area (some u values are not trained, some m values are not trained).\n"
     ]
    }
   ],
   "source": [
    "linker.estimate_u_using_random_sampling(max_pairs=1e7)"
   ]
  },
  {
   "cell_type": "markdown",
   "id": "b15cc4be-a5a3-40f5-8a0d-969f2d937c47",
   "metadata": {},
   "source": [
    "That warning is because we've got a bunch of values in Companies House that aren't in Data Hub, and vice versa.\n",
    "\n",
    "Should we clean these? Could provide weird signal."
   ]
  },
  {
   "cell_type": "code",
   "execution_count": 43,
   "id": "eab1ded7-e771-4fb7-89d4-7102cfd25e1b",
   "metadata": {},
   "outputs": [
    {
     "data": {
      "text/plain": [
       "['KIGALI', 'BFPO', 'BHI', 'BJL', 'BROOKHILL']"
      ]
     },
     "execution_count": 43,
     "metadata": {},
     "output_type": "execute_result"
    }
   ],
   "source": [
    "random.sample(\n",
    "    list(set(df_dh_clean.postcode_area).difference(df_ch_clean.postcode_area)),\n",
    "    5\n",
    ")"
   ]
  },
  {
   "cell_type": "markdown",
   "id": "5305b102-9ccf-4b1d-9de9-967ca16c484d",
   "metadata": {},
   "source": [
    "Sarah's comments:\n",
    "\n",
    "If we can treat company number as a partially-completed label we can estimate the m values from the numbers."
   ]
  },
  {
   "cell_type": "code",
   "execution_count": 45,
   "id": "f55f4591-c408-40ee-99da-ee6e1231889c",
   "metadata": {},
   "outputs": [
    {
     "data": {
      "text/plain": [
       "133969        NaN\n",
       "165627    9307691\n",
       "152270        NaN\n",
       "89588     4917626\n",
       "25141         NaN\n",
       "Name: comp_num_clean, dtype: object"
      ]
     },
     "execution_count": 45,
     "metadata": {},
     "output_type": "execute_result"
    },
    {
     "data": {
      "text/plain": [
       "4349781     1931158\n",
       "4718797     5505973\n",
       "17037      14224009\n",
       "1971377     6070287\n",
       "3807590    13628591\n",
       "Name: comp_num_clean, dtype: object"
      ]
     },
     "execution_count": 45,
     "metadata": {},
     "output_type": "execute_result"
    }
   ],
   "source": [
    "df_dh_clean.comp_num_clean.sample(5)\n",
    "df_ch_clean.comp_num_clean.sample(5)"
   ]
  },
  {
   "cell_type": "code",
   "execution_count": 47,
   "id": "ef618a05-82d4-4223-8318-a1b6d6e73539",
   "metadata": {},
   "outputs": [
    {
     "data": {
      "text/plain": [
       "['1370190', '11095559', '7277274', '10604962', '7109059']"
      ]
     },
     "execution_count": 47,
     "metadata": {},
     "output_type": "execute_result"
    }
   ],
   "source": [
    "random.sample(\n",
    "    list(set(df_dh_clean.comp_num_clean).intersection(df_ch_clean.comp_num_clean)),\n",
    "    5\n",
    ")"
   ]
  },
  {
   "cell_type": "code",
   "execution_count": 48,
   "id": "2ef55089-05cd-48d5-ac50-f1d3520c560d",
   "metadata": {},
   "outputs": [
    {
     "name": "stderr",
     "output_type": "stream",
     "text": [
      "---- Estimating m probabilities using from column comp_num_clean -----\n",
      "m probability not trained for comp_num_clean - Jaro_winkler_similarity >= 0.75 (comparison vector value: 1). This usually means the comparison level was never observed in the training data.\n",
      "m probability not trained for comp_num_clean - All other comparisons (comparison vector value: 0). This usually means the comparison level was never observed in the training data.\n",
      "m probability not trained for postcode_area - All other comparisons (comparison vector value: 0). This usually means the comparison level was never observed in the training data.\n",
      "\n",
      "Your model is not yet fully trained. Missing estimates for:\n",
      "    - comp_num_clean (some m values are not trained).\n",
      "    - postcode_area (some u values are not trained, some m values are not trained).\n"
     ]
    }
   ],
   "source": [
    "linker.estimate_m_from_label_column(\"comp_num_clean\")"
   ]
  },
  {
   "cell_type": "code",
   "execution_count": 54,
   "id": "55b968d3-eab5-44b8-a8c6-07573e059b38",
   "metadata": {},
   "outputs": [
    {
     "data": {
      "application/vnd.vegalite.v4+json": {
       "$schema": "https://vega.github.io/schema/vega-lite/v5.2.json",
       "config": {
        "header": {
         "title": null
        },
        "mark": {
         "tooltip": null
        },
        "title": {
         "anchor": "middle"
        },
        "view": {
         "height": 60,
         "width": 400
        }
       },
       "data": {
        "values": [
         {
          "bayes_factor": 1.8857938078260088e-7,
          "bayes_factor_description": "The probability that two random records drawn at random match is 0.000 or one in  5,302,807.7 records.This is equivalent to a starting match weight of -22.338.",
          "comparison_name": "probability_two_random_records_match",
          "comparison_sort_order": -1,
          "comparison_vector_value": 0,
          "has_tf_adjustments": false,
          "is_null_level": false,
          "label_for_charts": "",
          "log2_bayes_factor": -22.33832472345254,
          "m_probability": null,
          "m_probability_description": null,
          "max_comparison_vector_value": 0,
          "probability_two_random_records_match": 1.8857934522042473e-7,
          "sql_condition": null,
          "tf_adjustment_column": null,
          "tf_adjustment_weight": null,
          "u_probability": null,
          "u_probability_description": null
         },
         {
          "bayes_factor": 4948061.444887786,
          "bayes_factor_description": "If comparison level is `exact match` then comparison is 4,948,061.44 times more likely to be a match",
          "comparison_name": "comp_num_clean",
          "comparison_sort_order": 0,
          "comparison_vector_value": 2,
          "has_tf_adjustments": true,
          "is_null_level": false,
          "label_for_charts": "Exact match",
          "log2_bayes_factor": 22.238431985096113,
          "m_probability": 1,
          "m_probability_description": "Amongst matching record comparisons, 100.00% of records are in the exact match comparison level",
          "max_comparison_vector_value": 2,
          "probability_two_random_records_match": 1.8857934522042473e-7,
          "sql_condition": "\"comp_num_clean_l\" = \"comp_num_clean_r\"",
          "tf_adjustment_column": "comp_num_clean",
          "tf_adjustment_weight": 1,
          "u_probability": 2.020993496419037e-7,
          "u_probability_description": "Amongst non-matching record comparisons, 0.00% of records are in the exact match comparison level"
         },
         {
          "bayes_factor": 1.3654800037318084,
          "bayes_factor_description": "If comparison level is `jaro_winkler_similarity >= 0.75` then comparison is 1.37 times more likely to be a match",
          "comparison_name": "comp_num_clean",
          "comparison_sort_order": 0,
          "comparison_vector_value": 1,
          "has_tf_adjustments": false,
          "is_null_level": false,
          "label_for_charts": "Jaro_winkler_similarity >= 0.75",
          "log2_bayes_factor": 0.4494081872425724,
          "m_probability": 0.025000000000000022,
          "m_probability_description": "Amongst matching record comparisons, 2.50% of records are in the jaro_winkler_similarity >= 0.75 comparison level",
          "max_comparison_vector_value": 2,
          "probability_two_random_records_match": 1.8857934522042473e-7,
          "sql_condition": "jaro_winkler_similarity(\"comp_num_clean_l\", \"comp_num_clean_r\") >= 0.75",
          "tf_adjustment_column": null,
          "tf_adjustment_weight": 1,
          "u_probability": 0.01830858008295684,
          "u_probability_description": "Amongst non-matching record comparisons, 1.83% of records are in the jaro_winkler_similarity >= 0.75 comparison level"
         },
         {
          "bayes_factor": 0.02546625581726258,
          "bayes_factor_description": "If comparison level is `all other comparisons` then comparison is  39.27 times less likely to be a match",
          "comparison_name": "comp_num_clean",
          "comparison_sort_order": 0,
          "comparison_vector_value": 0,
          "has_tf_adjustments": false,
          "is_null_level": false,
          "label_for_charts": "All other comparisons",
          "log2_bayes_factor": -5.295269327176444,
          "m_probability": 0.025000000000000022,
          "m_probability_description": "Amongst matching record comparisons, 2.50% of records are in the all other comparisons comparison level",
          "max_comparison_vector_value": 2,
          "probability_two_random_records_match": 1.8857934522042473e-7,
          "sql_condition": "ELSE",
          "tf_adjustment_column": null,
          "tf_adjustment_weight": 1,
          "u_probability": 0.9816912301278894,
          "u_probability_description": "Amongst non-matching record comparisons, 98.17% of records are in the all other comparisons comparison level"
         },
         {
          "bayes_factor": 9073085.184755592,
          "bayes_factor_description": "If comparison level is `exact match` then comparison is 9,073,085.18 times more likely to be a match",
          "comparison_name": "name_unusual_tokens",
          "comparison_sort_order": 1,
          "comparison_vector_value": 3,
          "has_tf_adjustments": true,
          "is_null_level": false,
          "label_for_charts": "Exact match",
          "log2_bayes_factor": 23.11316177321052,
          "m_probability": 0.9126429163214581,
          "m_probability_description": "Amongst matching record comparisons, 91.26% of records are in the exact match comparison level",
          "max_comparison_vector_value": 3,
          "probability_two_random_records_match": 1.8857934522042473e-7,
          "sql_condition": "\"name_unusual_tokens_l\" = \"name_unusual_tokens_r\"",
          "tf_adjustment_column": "name_unusual_tokens",
          "tf_adjustment_weight": 1,
          "u_probability": 1.005879364887769e-7,
          "u_probability_description": "Amongst non-matching record comparisons, 0.00% of records are in the exact match comparison level"
         },
         {
          "bayes_factor": 2.525226260074343,
          "bayes_factor_description": "If comparison level is `jaro_winkler_similarity >= 0.8` then comparison is 2.53 times more likely to be a match",
          "comparison_name": "name_unusual_tokens",
          "comparison_sort_order": 1,
          "comparison_vector_value": 2,
          "has_tf_adjustments": false,
          "is_null_level": false,
          "label_for_charts": "Jaro_winkler_similarity >= 0.8",
          "log2_bayes_factor": 1.3364126590180854,
          "m_probability": 0.0018668876001104668,
          "m_probability_description": "Amongst matching record comparisons, 0.19% of records are in the jaro_winkler_similarity >= 0.8 comparison level",
          "max_comparison_vector_value": 3,
          "probability_two_random_records_match": 1.8857934522042473e-7,
          "sql_condition": "jaro_winkler_similarity(\"name_unusual_tokens_l\", \"name_unusual_tokens_r\") >= 0.8",
          "tf_adjustment_column": null,
          "tf_adjustment_weight": 1,
          "u_probability": 0.0007392951790607094,
          "u_probability_description": "Amongst non-matching record comparisons, 0.07% of records are in the jaro_winkler_similarity >= 0.8 comparison level"
         },
         {
          "bayes_factor": 0.12707702474714255,
          "bayes_factor_description": "If comparison level is `jaro_winkler_similarity >= 0.6` then comparison is  7.87 times less likely to be a match",
          "comparison_name": "name_unusual_tokens",
          "comparison_sort_order": 1,
          "comparison_vector_value": 1,
          "has_tf_adjustments": false,
          "is_null_level": false,
          "label_for_charts": "Jaro_winkler_similarity >= 0.6",
          "log2_bayes_factor": -2.976224877129608,
          "m_probability": 0.011411212372272854,
          "m_probability_description": "Amongst matching record comparisons, 1.14% of records are in the jaro_winkler_similarity >= 0.6 comparison level",
          "max_comparison_vector_value": 3,
          "probability_two_random_records_match": 1.8857934522042473e-7,
          "sql_condition": "jaro_winkler_similarity(\"name_unusual_tokens_l\", \"name_unusual_tokens_r\") >= 0.6",
          "tf_adjustment_column": null,
          "tf_adjustment_weight": 1,
          "u_probability": 0.08979760420877689,
          "u_probability_description": "Amongst non-matching record comparisons, 8.98% of records are in the jaro_winkler_similarity >= 0.6 comparison level"
         },
         {
          "bayes_factor": 0.08145354849808316,
          "bayes_factor_description": "If comparison level is `all other comparisons` then comparison is  12.28 times less likely to be a match",
          "comparison_name": "name_unusual_tokens",
          "comparison_sort_order": 1,
          "comparison_vector_value": 0,
          "has_tf_adjustments": false,
          "is_null_level": false,
          "label_for_charts": "All other comparisons",
          "log2_bayes_factor": -3.617878639101611,
          "m_probability": 0.07407898370615852,
          "m_probability_description": "Amongst matching record comparisons, 7.41% of records are in the all other comparisons comparison level",
          "max_comparison_vector_value": 3,
          "probability_two_random_records_match": 1.8857934522042473e-7,
          "sql_condition": "ELSE",
          "tf_adjustment_column": null,
          "tf_adjustment_weight": 1,
          "u_probability": 0.9094629401922473,
          "u_probability_description": "Amongst non-matching record comparisons, 90.95% of records are in the all other comparisons comparison level"
         },
         {
          "bayes_factor": 1,
          "bayes_factor_description": "If comparison level is `exact match` then comparison is 1.00 times more likely to be a match",
          "comparison_name": "postcode_area",
          "comparison_sort_order": 2,
          "comparison_vector_value": 1,
          "has_tf_adjustments": false,
          "is_null_level": false,
          "label_for_charts": "Exact match",
          "log2_bayes_factor": 0,
          "m_probability": 1,
          "m_probability_description": "Amongst matching record comparisons, 100.00% of records are in the exact match comparison level",
          "max_comparison_vector_value": 1,
          "probability_two_random_records_match": 1.8857934522042473e-7,
          "sql_condition": "\n        regexp_extract(\"postcode_area_l\", '2')\n     = \n        regexp_extract(\"postcode_area_r\", '2')\n    ",
          "tf_adjustment_column": null,
          "tf_adjustment_weight": 1,
          "u_probability": 1,
          "u_probability_description": "Amongst non-matching record comparisons, 100.00% of records are in the exact match comparison level"
         },
         {
          "bayes_factor": 0.03125,
          "bayes_factor_description": "If comparison level is `all other comparisons` then comparison is  32.00 times less likely to be a match",
          "comparison_name": "postcode_area",
          "comparison_sort_order": 2,
          "comparison_vector_value": 0,
          "has_tf_adjustments": false,
          "is_null_level": false,
          "label_for_charts": "All other comparisons",
          "log2_bayes_factor": -5,
          "m_probability": 0.050000000000000044,
          "m_probability_description": "Amongst matching record comparisons, 5.00% of records are in the all other comparisons comparison level",
          "max_comparison_vector_value": 1,
          "probability_two_random_records_match": 1.8857934522042473e-7,
          "sql_condition": "ELSE",
          "tf_adjustment_column": null,
          "tf_adjustment_weight": 1,
          "u_probability": 1.6000000000000014,
          "u_probability_description": "Amongst non-matching record comparisons, 160.00% of records are in the all other comparisons comparison level"
         }
        ]
       },
       "resolve": {
        "axis": {
         "y": "independent"
        },
        "scale": {
         "y": "independent"
        }
       },
       "selection": {
        "zoom_selector": {
         "bind": "scales",
         "encodings": [
          "x"
         ],
         "type": "interval"
        }
       },
       "title": {
        "subtitle": "Use mousewheel to zoom",
        "text": "Model parameters (components of final match weight)"
       },
       "vconcat": [
        {
         "encoding": {
          "color": {
           "field": "log2_bayes_factor",
           "scale": {
            "domain": [
             -10,
             0,
             10
            ],
            "range": [
             "red",
             "orange",
             "green"
            ]
           },
           "title": "Match weight",
           "type": "quantitative"
          },
          "tooltip": [
           {
            "field": "comparison_name",
            "title": "Comparison name",
            "type": "nominal"
           },
           {
            "field": "probability_two_random_records_match",
            "format": ".4f",
            "title": "Probability two random records match",
            "type": "nominal"
           },
           {
            "field": "log2_bayes_factor",
            "format": ",.4f",
            "title": "Equivalent match weight",
            "type": "quantitative"
           },
           {
            "field": "bayes_factor_description",
            "title": "Match weight description",
            "type": "nominal"
           }
          ],
          "x": {
           "axis": {
            "domain": false,
            "labels": false,
            "ticks": false,
            "title": ""
           },
           "field": "log2_bayes_factor",
           "scale": {
            "domain": [
             -10,
             10
            ]
           },
           "type": "quantitative"
          },
          "y": {
           "axis": {
            "title": "Prior (starting) match weight",
            "titleAlign": "right",
            "titleAngle": 0,
            "titleFontWeight": "normal"
           },
           "field": "label_for_charts",
           "sort": {
            "field": "comparison_vector_value",
            "order": "descending"
           },
           "type": "nominal"
          }
         },
         "height": 20,
         "mark": {
          "clip": true,
          "height": 15,
          "type": "bar"
         },
         "selection": {
          "zoom_selector": {
           "bind": "scales",
           "encodings": [
            "x"
           ],
           "type": "interval"
          }
         },
         "transform": [
          {
           "filter": "(datum.comparison_name == 'probability_two_random_records_match')"
          }
         ]
        },
        {
         "encoding": {
          "color": {
           "field": "log2_bayes_factor",
           "scale": {
            "domain": [
             -10,
             0,
             10
            ],
            "range": [
             "red",
             "orange",
             "green"
            ]
           },
           "title": "Match weight",
           "type": "quantitative"
          },
          "row": {
           "field": "comparison_name",
           "header": {
            "labelAlign": "left",
            "labelAnchor": "middle",
            "labelAngle": 0
           },
           "sort": {
            "field": "comparison_sort_order"
           },
           "type": "nominal"
          },
          "tooltip": [
           {
            "field": "comparison_name",
            "title": "Comparison name",
            "type": "nominal"
           },
           {
            "field": "label_for_charts",
            "title": "Label",
            "type": "ordinal"
           },
           {
            "field": "sql_condition",
            "title": "SQL condition",
            "type": "nominal"
           },
           {
            "field": "m_probability",
            "format": ".4f",
            "title": "M probability",
            "type": "quantitative"
           },
           {
            "field": "u_probability",
            "format": ".4f",
            "title": "U probability",
            "type": "quantitative"
           },
           {
            "field": "bayes_factor",
            "format": ",.4f",
            "title": "Bayes factor = m/u",
            "type": "quantitative"
           },
           {
            "field": "log2_bayes_factor",
            "format": ",.4f",
            "title": "Match weight = log2(m/u)",
            "type": "quantitative"
           },
           {
            "field": "bayes_factor_description",
            "title": "Match weight description",
            "type": "nominal"
           }
          ],
          "x": {
           "axis": {
            "title": "Comparison level match weight = log2(m/u)"
           },
           "field": "log2_bayes_factor",
           "scale": {
            "domain": [
             -10,
             10
            ]
           },
           "type": "quantitative"
          },
          "y": {
           "axis": {
            "title": null
           },
           "field": "label_for_charts",
           "sort": {
            "field": "comparison_vector_value",
            "order": "descending"
           },
           "type": "nominal"
          }
         },
         "height": {
          "step": 12
         },
         "mark": {
          "clip": true,
          "type": "bar"
         },
         "resolve": {
          "axis": {
           "y": "independent"
          },
          "scale": {
           "y": "independent"
          }
         },
         "selection": {
          "zoom_selector": {
           "bind": "scales",
           "encodings": [
            "x"
           ],
           "type": "interval"
          }
         },
         "transform": [
          {
           "filter": "(datum.comparison_name != 'probability_two_random_records_match')"
          }
         ]
        }
       ]
      },
      "image/png": "[encoded data removed]",
      "text/plain": [
       "<VegaLite 4 object>\n",
       "\n",
       "If you see this message, it means the renderer has not been properly enabled\n",
       "for the frontend that you are using. For more information, see\n",
       "https://altair-viz.github.io/user_guide/troubleshooting.html\n"
      ]
     },
     "execution_count": 54,
     "metadata": {},
     "output_type": "execute_result"
    }
   ],
   "source": [
    "linker.match_weights_chart()"
   ]
  },
  {
   "cell_type": "code",
   "execution_count": 55,
   "id": "6a3dddb6-f9f2-48a4-9511-76fa0c0f79d3",
   "metadata": {},
   "outputs": [
    {
     "data": {
      "application/vnd.vegalite.v4+json": {
       "$schema": "https://vega.github.io/schema/vega-lite/v4.json",
       "config": {
        "header": {
         "title": null
        },
        "title": {
         "anchor": "middle",
         "offset": 10
        },
        "view": {
         "height": 300,
         "width": 400
        }
       },
       "data": {
        "values": [
         {
          "bayes_factor": 4948061.444887786,
          "bayes_factor_description": "If comparison level is `exact match` then comparison is 4,948,061.44 times more likely to be a match",
          "comparison_name": "comp_num_clean",
          "comparison_sort_order": 0,
          "comparison_vector_value": 2,
          "has_tf_adjustments": true,
          "is_null_level": false,
          "label_for_charts": "Exact match",
          "log2_bayes_factor": 22.238431985096113,
          "m_probability": 1,
          "m_probability_description": "Amongst matching record comparisons, 100.00% of records are in the exact match comparison level",
          "max_comparison_vector_value": 2,
          "probability_two_random_records_match": 1.8857934522042473e-7,
          "sql_condition": "\"comp_num_clean_l\" = \"comp_num_clean_r\"",
          "tf_adjustment_column": "comp_num_clean",
          "tf_adjustment_weight": 1,
          "u_probability": 2.020993496419037e-7,
          "u_probability_description": "Amongst non-matching record comparisons, 0.00% of records are in the exact match comparison level"
         },
         {
          "bayes_factor": 1.3654800037318084,
          "bayes_factor_description": "If comparison level is `jaro_winkler_similarity >= 0.75` then comparison is 1.37 times more likely to be a match",
          "comparison_name": "comp_num_clean",
          "comparison_sort_order": 0,
          "comparison_vector_value": 1,
          "has_tf_adjustments": false,
          "is_null_level": false,
          "label_for_charts": "Jaro_winkler_similarity >= 0.75",
          "log2_bayes_factor": 0.4494081872425724,
          "m_probability": 0.025000000000000022,
          "m_probability_description": "Amongst matching record comparisons, 2.50% of records are in the jaro_winkler_similarity >= 0.75 comparison level",
          "max_comparison_vector_value": 2,
          "probability_two_random_records_match": 1.8857934522042473e-7,
          "sql_condition": "jaro_winkler_similarity(\"comp_num_clean_l\", \"comp_num_clean_r\") >= 0.75",
          "tf_adjustment_column": null,
          "tf_adjustment_weight": 1,
          "u_probability": 0.01830858008295684,
          "u_probability_description": "Amongst non-matching record comparisons, 1.83% of records are in the jaro_winkler_similarity >= 0.75 comparison level"
         },
         {
          "bayes_factor": 0.02546625581726258,
          "bayes_factor_description": "If comparison level is `all other comparisons` then comparison is  39.27 times less likely to be a match",
          "comparison_name": "comp_num_clean",
          "comparison_sort_order": 0,
          "comparison_vector_value": 0,
          "has_tf_adjustments": false,
          "is_null_level": false,
          "label_for_charts": "All other comparisons",
          "log2_bayes_factor": -5.295269327176444,
          "m_probability": 0.025000000000000022,
          "m_probability_description": "Amongst matching record comparisons, 2.50% of records are in the all other comparisons comparison level",
          "max_comparison_vector_value": 2,
          "probability_two_random_records_match": 1.8857934522042473e-7,
          "sql_condition": "ELSE",
          "tf_adjustment_column": null,
          "tf_adjustment_weight": 1,
          "u_probability": 0.9816912301278894,
          "u_probability_description": "Amongst non-matching record comparisons, 98.17% of records are in the all other comparisons comparison level"
         },
         {
          "bayes_factor": 9073085.184755592,
          "bayes_factor_description": "If comparison level is `exact match` then comparison is 9,073,085.18 times more likely to be a match",
          "comparison_name": "name_unusual_tokens",
          "comparison_sort_order": 1,
          "comparison_vector_value": 3,
          "has_tf_adjustments": true,
          "is_null_level": false,
          "label_for_charts": "Exact match",
          "log2_bayes_factor": 23.11316177321052,
          "m_probability": 0.9126429163214581,
          "m_probability_description": "Amongst matching record comparisons, 91.26% of records are in the exact match comparison level",
          "max_comparison_vector_value": 3,
          "probability_two_random_records_match": 1.8857934522042473e-7,
          "sql_condition": "\"name_unusual_tokens_l\" = \"name_unusual_tokens_r\"",
          "tf_adjustment_column": "name_unusual_tokens",
          "tf_adjustment_weight": 1,
          "u_probability": 1.005879364887769e-7,
          "u_probability_description": "Amongst non-matching record comparisons, 0.00% of records are in the exact match comparison level"
         },
         {
          "bayes_factor": 2.525226260074343,
          "bayes_factor_description": "If comparison level is `jaro_winkler_similarity >= 0.8` then comparison is 2.53 times more likely to be a match",
          "comparison_name": "name_unusual_tokens",
          "comparison_sort_order": 1,
          "comparison_vector_value": 2,
          "has_tf_adjustments": false,
          "is_null_level": false,
          "label_for_charts": "Jaro_winkler_similarity >= 0.8",
          "log2_bayes_factor": 1.3364126590180854,
          "m_probability": 0.0018668876001104668,
          "m_probability_description": "Amongst matching record comparisons, 0.19% of records are in the jaro_winkler_similarity >= 0.8 comparison level",
          "max_comparison_vector_value": 3,
          "probability_two_random_records_match": 1.8857934522042473e-7,
          "sql_condition": "jaro_winkler_similarity(\"name_unusual_tokens_l\", \"name_unusual_tokens_r\") >= 0.8",
          "tf_adjustment_column": null,
          "tf_adjustment_weight": 1,
          "u_probability": 0.0007392951790607094,
          "u_probability_description": "Amongst non-matching record comparisons, 0.07% of records are in the jaro_winkler_similarity >= 0.8 comparison level"
         },
         {
          "bayes_factor": 0.12707702474714255,
          "bayes_factor_description": "If comparison level is `jaro_winkler_similarity >= 0.6` then comparison is  7.87 times less likely to be a match",
          "comparison_name": "name_unusual_tokens",
          "comparison_sort_order": 1,
          "comparison_vector_value": 1,
          "has_tf_adjustments": false,
          "is_null_level": false,
          "label_for_charts": "Jaro_winkler_similarity >= 0.6",
          "log2_bayes_factor": -2.976224877129608,
          "m_probability": 0.011411212372272854,
          "m_probability_description": "Amongst matching record comparisons, 1.14% of records are in the jaro_winkler_similarity >= 0.6 comparison level",
          "max_comparison_vector_value": 3,
          "probability_two_random_records_match": 1.8857934522042473e-7,
          "sql_condition": "jaro_winkler_similarity(\"name_unusual_tokens_l\", \"name_unusual_tokens_r\") >= 0.6",
          "tf_adjustment_column": null,
          "tf_adjustment_weight": 1,
          "u_probability": 0.08979760420877689,
          "u_probability_description": "Amongst non-matching record comparisons, 8.98% of records are in the jaro_winkler_similarity >= 0.6 comparison level"
         },
         {
          "bayes_factor": 0.08145354849808316,
          "bayes_factor_description": "If comparison level is `all other comparisons` then comparison is  12.28 times less likely to be a match",
          "comparison_name": "name_unusual_tokens",
          "comparison_sort_order": 1,
          "comparison_vector_value": 0,
          "has_tf_adjustments": false,
          "is_null_level": false,
          "label_for_charts": "All other comparisons",
          "log2_bayes_factor": -3.617878639101611,
          "m_probability": 0.07407898370615852,
          "m_probability_description": "Amongst matching record comparisons, 7.41% of records are in the all other comparisons comparison level",
          "max_comparison_vector_value": 3,
          "probability_two_random_records_match": 1.8857934522042473e-7,
          "sql_condition": "ELSE",
          "tf_adjustment_column": null,
          "tf_adjustment_weight": 1,
          "u_probability": 0.9094629401922473,
          "u_probability_description": "Amongst non-matching record comparisons, 90.95% of records are in the all other comparisons comparison level"
         },
         {
          "bayes_factor": 1,
          "bayes_factor_description": "If comparison level is `exact match` then comparison is 1.00 times more likely to be a match",
          "comparison_name": "postcode_area",
          "comparison_sort_order": 2,
          "comparison_vector_value": 1,
          "has_tf_adjustments": false,
          "is_null_level": false,
          "label_for_charts": "Exact match",
          "log2_bayes_factor": 0,
          "m_probability": 1,
          "m_probability_description": "Amongst matching record comparisons, 100.00% of records are in the exact match comparison level",
          "max_comparison_vector_value": 1,
          "probability_two_random_records_match": 1.8857934522042473e-7,
          "sql_condition": "\n        regexp_extract(\"postcode_area_l\", '2')\n     = \n        regexp_extract(\"postcode_area_r\", '2')\n    ",
          "tf_adjustment_column": null,
          "tf_adjustment_weight": 1,
          "u_probability": 1,
          "u_probability_description": "Amongst non-matching record comparisons, 100.00% of records are in the exact match comparison level"
         },
         {
          "bayes_factor": 0.03125,
          "bayes_factor_description": "If comparison level is `all other comparisons` then comparison is  32.00 times less likely to be a match",
          "comparison_name": "postcode_area",
          "comparison_sort_order": 2,
          "comparison_vector_value": 0,
          "has_tf_adjustments": false,
          "is_null_level": false,
          "label_for_charts": "All other comparisons",
          "log2_bayes_factor": -5,
          "m_probability": 0.050000000000000044,
          "m_probability_description": "Amongst matching record comparisons, 5.00% of records are in the all other comparisons comparison level",
          "max_comparison_vector_value": 1,
          "probability_two_random_records_match": 1.8857934522042473e-7,
          "sql_condition": "ELSE",
          "tf_adjustment_column": null,
          "tf_adjustment_weight": 1,
          "u_probability": 1.6000000000000014,
          "u_probability_description": "Amongst non-matching record comparisons, 160.00% of records are in the all other comparisons comparison level"
         }
        ]
       },
       "hconcat": [
        {
         "encoding": {
          "color": {
           "value": "green"
          },
          "row": {
           "field": "comparison_name",
           "header": {
            "labelAlign": "left",
            "labelAnchor": "middle",
            "labelAngle": 0
           },
           "sort": {
            "field": "comparison_sort_order"
           },
           "type": "nominal"
          },
          "tooltip": [
           {
            "field": "m_probability_description",
            "title": "m probability description",
            "type": "nominal"
           },
           {
            "field": "comparison_name",
            "title": "Comparison column name",
            "type": "nominal"
           },
           {
            "field": "label_for_charts",
            "title": "Label",
            "type": "ordinal"
           },
           {
            "field": "sql_condition",
            "title": "SQL condition",
            "type": "nominal"
           },
           {
            "field": "m_probability",
            "format": ".4p",
            "title": "m probability",
            "type": "quantitative"
           },
           {
            "field": "u_probability",
            "format": ".4p",
            "title": "u probability",
            "type": "quantitative"
           },
           {
            "field": "bayes_factor",
            "format": ",.4f",
            "title": "Bayes factor = m/u",
            "type": "quantitative"
           },
           {
            "field": "log2_bayes_factor",
            "format": ",.4f",
            "title": "Match weight = log2(m/u)",
            "type": "quantitative"
           }
          ],
          "x": {
           "axis": {
            "title": "Proportion of record comparisons"
           },
           "field": "m_probability",
           "type": "quantitative"
          },
          "y": {
           "axis": {
            "title": null
           },
           "field": "label_for_charts",
           "sort": {
            "field": "comparison_vector_value",
            "order": "descending"
           },
           "type": "nominal"
          }
         },
         "height": {
          "step": 12
         },
         "mark": "bar",
         "resolve": {
          "scale": {
           "y": "independent"
          }
         },
         "title": {
          "fontSize": 12,
          "fontWeight": "bold",
          "text": "Amongst matching record comparisons:"
         },
         "transform": [
          {
           "filter": "(datum.bayes_factor != 'no-op filter due to vega lite issue 4680')"
          }
         ],
         "width": 150
        },
        {
         "encoding": {
          "color": {
           "value": "red"
          },
          "row": {
           "field": "comparison_name",
           "header": {
            "labels": false
           },
           "sort": {
            "field": "comparison_sort_order"
           },
           "type": "nominal"
          },
          "tooltip": [
           {
            "field": "u_probability_description",
            "title": "u probability description",
            "type": "nominal"
           },
           {
            "field": "comparison_name",
            "title": "Comparison column name",
            "type": "nominal"
           },
           {
            "field": "label_for_charts",
            "title": "Label",
            "type": "ordinal"
           },
           {
            "field": "sql_condition",
            "title": "SQL condition",
            "type": "nominal"
           },
           {
            "field": "m_probability",
            "format": ".4p",
            "title": "m probability",
            "type": "quantitative"
           },
           {
            "field": "u_probability",
            "format": ".4p",
            "title": "u probability",
            "type": "quantitative"
           },
           {
            "field": "bayes_factor",
            "format": ",.4f",
            "title": "Bayes factor = m/u",
            "type": "quantitative"
           },
           {
            "field": "log2_bayes_factor",
            "format": ",.4f",
            "title": "Match weight = log2(m/u)",
            "type": "quantitative"
           }
          ],
          "x": {
           "axis": {
            "title": "Proportion of record comparisons"
           },
           "field": "u_probability",
           "type": "quantitative"
          },
          "y": {
           "axis": {
            "title": null
           },
           "field": "label_for_charts",
           "sort": {
            "field": "comparison_vector_value",
            "order": "descending"
           },
           "type": "nominal"
          }
         },
         "height": {
          "step": 12
         },
         "mark": "bar",
         "resolve": {
          "scale": {
           "y": "independent"
          }
         },
         "title": {
          "fontSize": 12,
          "fontWeight": "bold",
          "text": "Amongst non-matching record comparisons:"
         },
         "transform": [
          {
           "filter": "(datum.bayes_factor != 'no-op filter2 due to vega lite issue 4680')"
          }
         ],
         "width": 150
        }
       ],
       "title": {
        "subtitle": "(m and u probabilities)",
        "text": "Proportion of record comparisons in each comparison level by match status"
       }
      },
      "image/png": "[encoded data removed]",
      "text/plain": [
       "<VegaLite 4 object>\n",
       "\n",
       "If you see this message, it means the renderer has not been properly enabled\n",
       "for the frontend that you are using. For more information, see\n",
       "https://altair-viz.github.io/user_guide/troubleshooting.html\n"
      ]
     },
     "execution_count": 55,
     "metadata": {},
     "output_type": "execute_result"
    }
   ],
   "source": [
    "linker.m_u_parameters_chart()"
   ]
  },
  {
   "cell_type": "code",
   "execution_count": 56,
   "id": "87cf8e90-8109-4f9a-9a2e-bab8c4ff2118",
   "metadata": {},
   "outputs": [
    {
     "data": {
      "application/vnd.vegalite.v4+json": {
       "$schema": "https://vega.github.io/schema/vega-lite/v4.8.1.json",
       "config": {
        "view": {
         "continuousHeight": 300,
         "continuousWidth": 400
        }
       },
       "data": {
        "values": [
         {
          "cum_prop": 1.809438003874675e-7,
          "match_probability": 0,
          "match_weight": -22.34,
          "prop": 1.809438003874675e-7
         },
         {
          "cum_prop": 0.000005609257470950979,
          "match_probability": 0.02506,
          "match_weight": -5.28,
          "prop": 0.0000054283136705635116
         },
         {
          "cum_prop": 0.000009409077222244377,
          "match_probability": 0.03073,
          "match_weight": -4.98,
          "prop": 0.0000037998197512933984
         },
         {
          "cum_prop": 0.000009590021022631845,
          "match_probability": 0.03285,
          "match_weight": -4.88,
          "prop": 1.809438003874675e-7
         },
         {
          "cum_prop": 0.000016827773038130545,
          "match_probability": 0.03665,
          "match_weight": -4.72,
          "prop": 0.0000072377520154987
         },
         {
          "cum_prop": 0.000024065525053629244,
          "match_probability": 0.03812,
          "match_weight": -4.66,
          "prop": 0.0000072377520154987
         },
         {
          "cum_prop": 0.000025513075456728984,
          "match_probability": 0.04333,
          "match_weight": -4.46,
          "prop": 0.00000144755040309974
         },
         {
          "cum_prop": 0.000029855726666028204,
          "match_probability": 0.0454,
          "match_weight": -4.39,
          "prop": 0.00000434265120929922
         },
         {
          "cum_prop": 0.00003293177121577173,
          "match_probability": 0.04767,
          "match_weight": -4.32,
          "prop": 0.0000030760445497435285
         },
         {
          "cum_prop": 0.00003636970325260336,
          "match_probability": 0.05019,
          "match_weight": -4.24,
          "prop": 0.0000034379320368316257
         },
         {
          "cum_prop": 0.000043426511297184334,
          "match_probability": 0.05299,
          "match_weight": -4.16,
          "prop": 0.0000070568080445809755
         },
         {
          "cum_prop": 0.00004595972438892204,
          "match_probability": 0.05611,
          "match_weight": -4.07,
          "prop": 0.000002533213091737707
         },
         {
          "cum_prop": 0.000050121431627303537,
          "match_probability": 0.05963,
          "match_weight": -3.98,
          "prop": 0.000004161707238381496
         },
         {
          "cum_prop": 0.0000589876780168197,
          "match_probability": 0.06362,
          "match_weight": -3.88,
          "prop": 0.000008866246389516164
         },
         {
          "cum_prop": 0.00006785392440633586,
          "match_probability": 0.06818,
          "match_weight": -3.77,
          "prop": 0.000008866246389516164
         },
         {
          "cum_prop": 0.00007889149571838061,
          "match_probability": 0.07344,
          "match_weight": -3.66,
          "prop": 0.000011037571312044747
         },
         {
          "cum_prop": 0.00009590021261374204,
          "match_probability": 0.07959,
          "match_weight": -3.53,
          "prop": 0.00001700871689536143
         },
         {
          "cum_prop": 0.00011815629920874926,
          "match_probability": 0.08685,
          "match_weight": -3.39,
          "prop": 0.00002225608659500722
         },
         {
          "cum_prop": 0.00015796393279288168,
          "match_probability": 0.09558,
          "match_weight": -3.24,
          "prop": 0.00003980763358413242
         },
         {
          "cum_prop": 0.00018999098472249898,
          "match_probability": 0.10626,
          "match_weight": -3.07,
          "prop": 0.0000320270519296173
         },
         {
          "cum_prop": 0.00025006432485952246,
          "match_probability": 0.11962,
          "match_weight": -2.88,
          "prop": 0.00006007334013702348
         },
         {
          "cum_prop": 0.00034071716879680025,
          "match_probability": 0.13683,
          "match_weight": -2.66,
          "prop": 0.0000906528439372778
         },
         {
          "cum_prop": 0.0003408981125971877,
          "match_probability": 0.14604,
          "match_weight": -2.55,
          "prop": 1.809438003874675e-7
         },
         {
          "cum_prop": 0.000486919757065607,
          "match_probability": 0.15983,
          "match_weight": -2.39,
          "prop": 0.00014602164446841925
         },
         {
          "cum_prop": 0.0007744394376345554,
          "match_probability": 0.19211,
          "match_weight": -2.07,
          "prop": 0.0002875196805689484
         },
         {
          "cum_prop": 0.0015637162857160547,
          "match_probability": 0.24073,
          "match_weight": -1.66,
          "prop": 0.0007892768480814993
         },
         {
          "cum_prop": 0.003648731696273444,
          "match_probability": 0.3223,
          "match_weight": -1.07,
          "prop": 0.0020850154105573893
         },
         {
          "cum_prop": 0.003649998302819313,
          "match_probability": 0.33909,
          "match_weight": -0.96,
          "prop": 0.0000012666065458688536
         },
         {
          "cum_prop": 0.015437400746407093,
          "match_probability": 0.48748,
          "match_weight": -0.07,
          "prop": 0.01178740244358778
         },
         {
          "cum_prop": 0.015449885868576985,
          "match_probability": 0.50644,
          "match_weight": 0.04,
          "prop": 0.000012485122169891838
         },
         {
          "cum_prop": 0.015450066812377372,
          "match_probability": 0.99966,
          "match_weight": 11.53,
          "prop": 1.809438003874675e-7
         },
         {
          "cum_prop": 0.01545024775617776,
          "match_probability": 0.99972,
          "match_weight": 11.79,
          "prop": 1.809438003874675e-7
         },
         {
          "cum_prop": 0.015450428699978147,
          "match_probability": 0.99977,
          "match_weight": 12.11,
          "prop": 1.809438003874675e-7
         },
         {
          "cum_prop": 0.015450790587578922,
          "match_probability": 0.99983,
          "match_weight": 12.53,
          "prop": 3.61887600774935e-7
         },
         {
          "cum_prop": 0.01545097153137931,
          "match_probability": 0.99986,
          "match_weight": 12.79,
          "prop": 1.809438003874675e-7
         },
         {
          "cum_prop": 0.01545169530658086,
          "match_probability": 0.99989,
          "match_weight": 13.11,
          "prop": 7.2377520154987e-7
         },
         {
          "cum_prop": 0.015452961913126728,
          "match_probability": 0.99992,
          "match_weight": 13.53,
          "prop": 0.0000012666065458688536
         },
         {
          "cum_prop": 0.01545712362036511,
          "match_probability": 0.99994,
          "match_weight": 14.11,
          "prop": 0.000004161707238381496
         },
         {
          "cum_prop": 0.015457666451766272,
          "match_probability": 0.99995,
          "match_weight": 14.23,
          "prop": 5.428314011624025e-7
         },
         {
          "cum_prop": 0.015478474988412927,
          "match_probability": 0.99997,
          "match_weight": 15.26,
          "prop": 0.00002080853664665483
         },
         {
          "cum_prop": 0.015486255571886431,
          "match_probability": 0.99998,
          "match_weight": 16.02,
          "prop": 0.000007780583473504521
         },
         {
          "cum_prop": 0.015716235131549183,
          "match_probability": 0.99999,
          "match_weight": 17.6,
          "prop": 0.00022997955966275185
         }
        ]
       },
       "height": 400,
       "layer": [
        {
         "encoding": {
          "x": {
           "axis": {
            "format": "+",
            "title": "Threshold match weight"
           },
           "field": "match_weight",
           "type": "quantitative"
          },
          "y": {
           "axis": {
            "format": "%",
            "title": "Percentage of unlinkable records"
           },
           "field": "cum_prop",
           "type": "quantitative"
          }
         },
         "mark": "line"
        },
        {
         "encoding": {
          "opacity": {
           "value": 0
          },
          "tooltip": [
           {
            "field": "match_weight",
            "format": "+.5",
            "title": "Match weight",
            "type": "quantitative"
           },
           {
            "field": "match_probability",
            "format": ".5",
            "title": "Match probability",
            "type": "quantitative"
           },
           {
            "field": "cum_prop",
            "format": ".3%",
            "title": "Proportion of unlinkable records",
            "type": "quantitative"
           }
          ],
          "x": {
           "field": "match_weight",
           "type": "quantitative"
          },
          "y": {
           "field": "cum_prop",
           "type": "quantitative"
          }
         },
         "mark": "point",
         "selection": {
          "selector112": {
           "empty": "none",
           "fields": [
            "match_weight",
            "cum_prop"
           ],
           "nearest": true,
           "on": "mouseover",
           "type": "single"
          }
         }
        },
        {
         "encoding": {
          "opacity": {
           "condition": {
            "selection": "selector112",
            "value": 1
           },
           "value": 0
          },
          "x": {
           "axis": {
            "title": "Threshold match weight"
           },
           "field": "match_weight",
           "type": "quantitative"
          },
          "y": {
           "axis": {
            "format": "%",
            "title": "Percentage of unlinkable records"
           },
           "field": "cum_prop",
           "type": "quantitative"
          }
         },
         "mark": "point"
        },
        {
         "encoding": {
          "x": {
           "field": "match_weight",
           "type": "quantitative"
          }
         },
         "mark": {
          "color": "gray",
          "type": "rule"
         },
         "transform": [
          {
           "filter": {
            "selection": "selector112"
           }
          }
         ]
        },
        {
         "encoding": {
          "y": {
           "field": "cum_prop",
           "type": "quantitative"
          }
         },
         "mark": {
          "color": "gray",
          "type": "rule"
         },
         "transform": [
          {
           "filter": {
            "selection": "selector112"
           }
          }
         ]
        }
       ],
       "title": {
        "subtitle": "Records with insufficient information to exceed a given match threshold",
        "text": "Unlinkable records"
       },
       "width": 400
      },
      "image/png": "[encoded data removed]",
      "text/plain": [
       "<VegaLite 4 object>\n",
       "\n",
       "If you see this message, it means the renderer has not been properly enabled\n",
       "for the frontend that you are using. For more information, see\n",
       "https://altair-viz.github.io/user_guide/troubleshooting.html\n"
      ]
     },
     "execution_count": 56,
     "metadata": {},
     "output_type": "execute_result"
    }
   ],
   "source": [
    "linker.unlinkables_chart()"
   ]
  },
  {
   "cell_type": "code",
   "execution_count": 57,
   "id": "f5f7513e-e15e-4978-a9a1-8829a3c071eb",
   "metadata": {},
   "outputs": [
    {
     "name": "stderr",
     "output_type": "stream",
     "text": [
      "\n",
      " -- WARNING --\n",
      "You have called predict(), but there are some parameter estimates which have neither been estimated or specified in your settings dictionary.  To produce predictions the following untrained trained parameters will use default values.\n",
      "Comparison: 'comp_num_clean':\n",
      "    m values not fully trained\n",
      "Comparison: 'postcode_area':\n",
      "    m values not fully trained\n",
      "Comparison: 'postcode_area':\n",
      "    u values not fully trained\n"
     ]
    }
   ],
   "source": [
    "predictions = linker.predict(threshold_match_probability=0.1)"
   ]
  },
  {
   "cell_type": "code",
   "execution_count": 58,
   "id": "1b7207f0-50e9-4a1c-9d1f-35020086545e",
   "metadata": {},
   "outputs": [
    {
     "data": {
      "text/html": [
       "<div>\n",
       "<style scoped>\n",
       "    .dataframe tbody tr th:only-of-type {\n",
       "        vertical-align: middle;\n",
       "    }\n",
       "\n",
       "    .dataframe tbody tr th {\n",
       "        vertical-align: top;\n",
       "    }\n",
       "\n",
       "    .dataframe thead th {\n",
       "        text-align: right;\n",
       "    }\n",
       "</style>\n",
       "<table border=\"1\" class=\"dataframe\">\n",
       "  <thead>\n",
       "    <tr style=\"text-align: right;\">\n",
       "      <th></th>\n",
       "      <th>match_weight</th>\n",
       "      <th>match_probability</th>\n",
       "      <th>source_dataset_l</th>\n",
       "      <th>source_dataset_r</th>\n",
       "      <th>unique_id_l</th>\n",
       "      <th>unique_id_r</th>\n",
       "      <th>comp_num_clean_l</th>\n",
       "      <th>comp_num_clean_r</th>\n",
       "      <th>gamma_comp_num_clean</th>\n",
       "      <th>tf_comp_num_clean_l</th>\n",
       "      <th>tf_comp_num_clean_r</th>\n",
       "      <th>bf_comp_num_clean</th>\n",
       "      <th>bf_tf_adj_comp_num_clean</th>\n",
       "      <th>name_unusual_tokens_l</th>\n",
       "      <th>name_unusual_tokens_r</th>\n",
       "      <th>gamma_name_unusual_tokens</th>\n",
       "      <th>tf_name_unusual_tokens_l</th>\n",
       "      <th>tf_name_unusual_tokens_r</th>\n",
       "      <th>bf_name_unusual_tokens</th>\n",
       "      <th>bf_tf_adj_name_unusual_tokens</th>\n",
       "      <th>postcode_area_l</th>\n",
       "      <th>postcode_area_r</th>\n",
       "      <th>gamma_postcode_area</th>\n",
       "      <th>bf_postcode_area</th>\n",
       "      <th>name_unusual_tokens_first5_l</th>\n",
       "      <th>name_unusual_tokens_first5_r</th>\n",
       "      <th>match_key</th>\n",
       "    </tr>\n",
       "  </thead>\n",
       "  <tbody>\n",
       "    <tr>\n",
       "      <th>15770</th>\n",
       "      <td>20.303244</td>\n",
       "      <td>0.999999</td>\n",
       "      <td>companies_house</td>\n",
       "      <td>datahub</td>\n",
       "      <td>1908008</td>\n",
       "      <td>95326</td>\n",
       "      <td>5575376</td>\n",
       "      <td>5575376</td>\n",
       "      <td>2</td>\n",
       "      <td>3.675612e-07</td>\n",
       "      <td>3.675612e-07</td>\n",
       "      <td>4.948061e+06</td>\n",
       "      <td>0.549839</td>\n",
       "      <td>ietg</td>\n",
       "      <td>ietg</td>\n",
       "      <td>3</td>\n",
       "      <td>3.618927e-07</td>\n",
       "      <td>3.618927e-07</td>\n",
       "      <td>9.073085e+06</td>\n",
       "      <td>0.27795</td>\n",
       "      <td>LS</td>\n",
       "      <td>LS</td>\n",
       "      <td>1</td>\n",
       "      <td>1.0</td>\n",
       "      <td>ietg</td>\n",
       "      <td>ietg</td>\n",
       "      <td>0</td>\n",
       "    </tr>\n",
       "    <tr>\n",
       "      <th>87400</th>\n",
       "      <td>-1.657230</td>\n",
       "      <td>0.240726</td>\n",
       "      <td>companies_house</td>\n",
       "      <td>datahub</td>\n",
       "      <td>752630</td>\n",
       "      <td>34441</td>\n",
       "      <td>6315791</td>\n",
       "      <td>NaN</td>\n",
       "      <td>-1</td>\n",
       "      <td>1.837806e-07</td>\n",
       "      <td>NaN</td>\n",
       "      <td>1.000000e+00</td>\n",
       "      <td>1.000000</td>\n",
       "      <td>medinet</td>\n",
       "      <td>medinet</td>\n",
       "      <td>3</td>\n",
       "      <td>5.428390e-07</td>\n",
       "      <td>5.428390e-07</td>\n",
       "      <td>9.073085e+06</td>\n",
       "      <td>0.18530</td>\n",
       "      <td>N</td>\n",
       "      <td>NaN</td>\n",
       "      <td>-1</td>\n",
       "      <td>1.0</td>\n",
       "      <td>medin</td>\n",
       "      <td>medin</td>\n",
       "      <td>1</td>\n",
       "    </tr>\n",
       "    <tr>\n",
       "      <th>64978</th>\n",
       "      <td>20.303244</td>\n",
       "      <td>0.999999</td>\n",
       "      <td>companies_house</td>\n",
       "      <td>datahub</td>\n",
       "      <td>4609396</td>\n",
       "      <td>102136</td>\n",
       "      <td>3534846</td>\n",
       "      <td>3534846</td>\n",
       "      <td>2</td>\n",
       "      <td>3.675612e-07</td>\n",
       "      <td>3.675612e-07</td>\n",
       "      <td>4.948061e+06</td>\n",
       "      <td>0.549839</td>\n",
       "      <td>lakeinvest</td>\n",
       "      <td>lakeinvest</td>\n",
       "      <td>3</td>\n",
       "      <td>3.618927e-07</td>\n",
       "      <td>3.618927e-07</td>\n",
       "      <td>9.073085e+06</td>\n",
       "      <td>0.27795</td>\n",
       "      <td>LA</td>\n",
       "      <td>LA</td>\n",
       "      <td>1</td>\n",
       "      <td>1.0</td>\n",
       "      <td>lakei</td>\n",
       "      <td>lakei</td>\n",
       "      <td>0</td>\n",
       "    </tr>\n",
       "    <tr>\n",
       "      <th>77176</th>\n",
       "      <td>20.303244</td>\n",
       "      <td>0.999999</td>\n",
       "      <td>companies_house</td>\n",
       "      <td>datahub</td>\n",
       "      <td>560761</td>\n",
       "      <td>133888</td>\n",
       "      <td>40892</td>\n",
       "      <td>40892</td>\n",
       "      <td>2</td>\n",
       "      <td>3.675612e-07</td>\n",
       "      <td>3.675612e-07</td>\n",
       "      <td>4.948061e+06</td>\n",
       "      <td>0.549839</td>\n",
       "      <td>alloys ireland</td>\n",
       "      <td>alloys ireland</td>\n",
       "      <td>3</td>\n",
       "      <td>3.618927e-07</td>\n",
       "      <td>3.618927e-07</td>\n",
       "      <td>9.073085e+06</td>\n",
       "      <td>0.27795</td>\n",
       "      <td>ML</td>\n",
       "      <td>ML</td>\n",
       "      <td>1</td>\n",
       "      <td>1.0</td>\n",
       "      <td>alloy</td>\n",
       "      <td>alloy</td>\n",
       "      <td>0</td>\n",
       "    </tr>\n",
       "    <tr>\n",
       "      <th>21550</th>\n",
       "      <td>20.303244</td>\n",
       "      <td>0.999999</td>\n",
       "      <td>companies_house</td>\n",
       "      <td>datahub</td>\n",
       "      <td>307789</td>\n",
       "      <td>44422</td>\n",
       "      <td>9899234</td>\n",
       "      <td>9899234</td>\n",
       "      <td>2</td>\n",
       "      <td>3.675612e-07</td>\n",
       "      <td>3.675612e-07</td>\n",
       "      <td>4.948061e+06</td>\n",
       "      <td>0.549839</td>\n",
       "      <td>alliance cyber defence</td>\n",
       "      <td>alliance cyber defence</td>\n",
       "      <td>3</td>\n",
       "      <td>3.618927e-07</td>\n",
       "      <td>3.618927e-07</td>\n",
       "      <td>9.073085e+06</td>\n",
       "      <td>0.27795</td>\n",
       "      <td>E</td>\n",
       "      <td>E</td>\n",
       "      <td>1</td>\n",
       "      <td>1.0</td>\n",
       "      <td>allia</td>\n",
       "      <td>allia</td>\n",
       "      <td>0</td>\n",
       "    </tr>\n",
       "  </tbody>\n",
       "</table>\n",
       "</div>"
      ],
      "text/plain": [
       "       match_weight  match_probability source_dataset_l source_dataset_r  \\\n",
       "15770     20.303244           0.999999  companies_house          datahub   \n",
       "87400     -1.657230           0.240726  companies_house          datahub   \n",
       "64978     20.303244           0.999999  companies_house          datahub   \n",
       "77176     20.303244           0.999999  companies_house          datahub   \n",
       "21550     20.303244           0.999999  companies_house          datahub   \n",
       "\n",
       "       unique_id_l  unique_id_r comp_num_clean_l comp_num_clean_r  \\\n",
       "15770      1908008        95326          5575376          5575376   \n",
       "87400       752630        34441          6315791              NaN   \n",
       "64978      4609396       102136          3534846          3534846   \n",
       "77176       560761       133888            40892            40892   \n",
       "21550       307789        44422          9899234          9899234   \n",
       "\n",
       "       gamma_comp_num_clean  tf_comp_num_clean_l  tf_comp_num_clean_r  \\\n",
       "15770                     2         3.675612e-07         3.675612e-07   \n",
       "87400                    -1         1.837806e-07                  NaN   \n",
       "64978                     2         3.675612e-07         3.675612e-07   \n",
       "77176                     2         3.675612e-07         3.675612e-07   \n",
       "21550                     2         3.675612e-07         3.675612e-07   \n",
       "\n",
       "       bf_comp_num_clean  bf_tf_adj_comp_num_clean   name_unusual_tokens_l  \\\n",
       "15770       4.948061e+06                  0.549839                    ietg   \n",
       "87400       1.000000e+00                  1.000000                 medinet   \n",
       "64978       4.948061e+06                  0.549839              lakeinvest   \n",
       "77176       4.948061e+06                  0.549839          alloys ireland   \n",
       "21550       4.948061e+06                  0.549839  alliance cyber defence   \n",
       "\n",
       "        name_unusual_tokens_r  gamma_name_unusual_tokens  \\\n",
       "15770                    ietg                          3   \n",
       "87400                 medinet                          3   \n",
       "64978              lakeinvest                          3   \n",
       "77176          alloys ireland                          3   \n",
       "21550  alliance cyber defence                          3   \n",
       "\n",
       "       tf_name_unusual_tokens_l  tf_name_unusual_tokens_r  \\\n",
       "15770              3.618927e-07              3.618927e-07   \n",
       "87400              5.428390e-07              5.428390e-07   \n",
       "64978              3.618927e-07              3.618927e-07   \n",
       "77176              3.618927e-07              3.618927e-07   \n",
       "21550              3.618927e-07              3.618927e-07   \n",
       "\n",
       "       bf_name_unusual_tokens  bf_tf_adj_name_unusual_tokens postcode_area_l  \\\n",
       "15770            9.073085e+06                        0.27795              LS   \n",
       "87400            9.073085e+06                        0.18530               N   \n",
       "64978            9.073085e+06                        0.27795              LA   \n",
       "77176            9.073085e+06                        0.27795              ML   \n",
       "21550            9.073085e+06                        0.27795               E   \n",
       "\n",
       "      postcode_area_r  gamma_postcode_area  bf_postcode_area  \\\n",
       "15770              LS                    1               1.0   \n",
       "87400             NaN                   -1               1.0   \n",
       "64978              LA                    1               1.0   \n",
       "77176              ML                    1               1.0   \n",
       "21550               E                    1               1.0   \n",
       "\n",
       "      name_unusual_tokens_first5_l name_unusual_tokens_first5_r match_key  \n",
       "15770                         ietg                         ietg         0  \n",
       "87400                        medin                        medin         1  \n",
       "64978                        lakei                        lakei         0  \n",
       "77176                        alloy                        alloy         0  \n",
       "21550                        allia                        allia         0  "
      ]
     },
     "execution_count": 58,
     "metadata": {},
     "output_type": "execute_result"
    }
   ],
   "source": [
    "df_predict = predictions.as_pandas_dataframe()\n",
    "df_predict.sample(5)"
   ]
  },
  {
   "cell_type": "code",
   "execution_count": null,
   "id": "87457d67-ac21-4fa9-a590-70d7170a6c34",
   "metadata": {},
   "outputs": [],
   "source": [
    "clusters = linker.cluster_pairwise_predictions_at_threshold(predictions, threshold_match_probability=0.5)"
   ]
  },
  {
   "cell_type": "code",
   "execution_count": null,
   "id": "291bd9c8-6def-4614-914f-dfc2445076dd",
   "metadata": {},
   "outputs": [],
   "source": [
    "df_cluster = clusters.as_pandas_dataframe()\n",
    "df_cluster.sample(5)"
   ]
  },
  {
   "cell_type": "markdown",
   "id": "27c01ad5-d68b-4f65-9c0c-90279525615c",
   "metadata": {},
   "source": [
    "## Blocking rules\n",
    "\n",
    "I've pretty much got Sarah's code working, but it currently takes 45 mins to run the whole pipeline end to end, with the bulk of that time being `predict`, which takes 41 mins.\n",
    "\n",
    "Splink is very, very clear about tweaking performance via blocking [in the tutorial](https://moj-analytical-services.github.io/splink/demos/03_Blocking.html):\n",
    "\n",
    "> Blocking rules are the most important determinant of the performance of your linkage job.\n",
    "\n",
    "We need to investigate how to optimise this, especially as we move into using more than two datasets.\n",
    "\n",
    "To reiterate the goals of this process, our rules need to:\n",
    "\n",
    "1. Eliminate enough non-matching comparison pairs so your record linkage job is small enough to compute \n",
    "2. Eliminate as few truly matching pairs as possible (ideally none)\n",
    "\n",
    "So let's get to it."
   ]
  },
  {
   "cell_type": "markdown",
   "id": "b9fe131b-c0b8-48d9-9c9f-8731f008c386",
   "metadata": {},
   "source": [
    "Let's start with the rules in Sarah's code, many of which were commented out:\n",
    "\n",
    "* `\"l.comp_num_clean = r.comp_num_clean\"`\n",
    "* `\"l.name_unusual_tokens = r.name_unusual_tokens\"`\n",
    "* `\"l.name_unusual_tokens_first5 = r.name_unusual_tokens_first5\"`\n",
    "* `\"l.name_unusual_tokens_last5 = r.name_unusual_tokens_last5\"`\n",
    "* `\"l.secondary_name_unusual_tokens = r.secondary_name_unusual_tokens\"`\n",
    "* `\"l.secondary_name_unusual_tokens = r.name_unusual_tokens\"`\n",
    "* `\"r.secondary_name_unusual_tokens = l.name_unusual_tokens\"`\n",
    "*  TODO: blocking rule on first token name_unusual_tokens?\n",
    "\n",
    "Note that Splink will generate all comparison pairs that meet ANY of these rules. So as unique values rise, so do the amount of things that must be compared."
   ]
  },
  {
   "cell_type": "code",
   "execution_count": 11,
   "id": "a4ae2201-e6ab-46ca-b472-250b421e9b42",
   "metadata": {},
   "outputs": [],
   "source": [
    "settings_2 = {\"link_type\": \"link_only\"}\n",
    "\n",
    "linker_2 = DuckDBLinker(\n",
    "    [df_dh_clean, df_ch_clean],\n",
    "    settings_2,\n",
    "    input_table_aliases=[\"datahub\", \"companies_house\"],\n",
    ")"
   ]
  },
  {
   "cell_type": "code",
   "execution_count": 16,
   "id": "a71ab9a0-ebdf-4b0a-8cfc-2367f9446301",
   "metadata": {},
   "outputs": [],
   "source": [
    "blocking_rules = {\n",
    "    'blocking_rule_1': \"l.comp_num_clean = r.comp_num_clean\",\n",
    "    'blocking_rule_2': \"l.name_unusual_tokens = r.name_unusual_tokens\",\n",
    "    'blocking_rule_3': \"l.name_unusual_tokens_first5 = r.name_unusual_tokens_first5\",\n",
    "    'blocking_rule_4': \"l.name_unusual_tokens_last5 = r.name_unusual_tokens_last5\",\n",
    "    'blocking_rule_5': \"l.secondary_name_unusual_tokens = r.secondary_name_unusual_tokens\",\n",
    "    'blocking_rule_6': \"l.secondary_name_unusual_tokens = r.name_unusual_tokens\",\n",
    "    'blocking_rule_7': \"r.secondary_name_unusual_tokens = l.name_unusual_tokens\"\n",
    "}"
   ]
  },
  {
   "cell_type": "code",
   "execution_count": 35,
   "id": "84a0b6bf-67a0-48bd-8901-501854f6f04b",
   "metadata": {},
   "outputs": [
    {
     "name": "stdout",
     "output_type": "stream",
     "text": [
      "2023-06-16 14:03:09.506043: Evaluating blocking_rule_1\n",
      "2023-06-16 14:03:09.560729: Finished evaluating blocking_rule_1\n",
      "2023-06-16 14:03:09.560762: Evaluating blocking_rule_2\n",
      "2023-06-16 14:03:09.588338: Finished evaluating blocking_rule_2\n",
      "2023-06-16 14:03:09.588370: Evaluating blocking_rule_3\n",
      "2023-06-16 14:11:22.168216: Finished evaluating blocking_rule_3\n",
      "2023-06-16 14:11:22.168313: Evaluating blocking_rule_4\n",
      "2023-06-16 14:23:40.211857: Finished evaluating blocking_rule_4\n",
      "2023-06-16 14:23:40.211948: Evaluating blocking_rule_5\n"
     ]
    },
    {
     "ename": "SplinkException",
     "evalue": "Error executing the following sql for table `__splink__analyse_blocking_rule` (__splink__analyse_blocking_rule_d7bbebb07):\nCREATE TABLE __splink__analyse_blocking_rule_d7bbebb07 AS\n(\n  WITH __splink__df_concat AS (\n    SELECT\n      'datahub' AS source_dataset,\n      \"unique_id\",\n      \"comp_num_clean\",\n      \"name_unusual_tokens\",\n      \"secondary_name_unusual_tokens\",\n      \"names_tokens_stopwords\",\n      \"postcode\",\n      \"postcode_alt\",\n      \"name_unusual_tokens_first5\",\n      \"name_unusual_tokens_last5\",\n      \"postcode_area\"\n    FROM datahub\n    UNION ALL\n    SELECT\n      'companies_house' AS source_dataset,\n      \"unique_id\",\n      \"comp_num_clean\",\n      \"name_unusual_tokens\",\n      \"secondary_name_unusual_tokens\",\n      \"names_tokens_stopwords\",\n      \"postcode\",\n      \"postcode_alt\",\n      \"name_unusual_tokens_first5\",\n      \"name_unusual_tokens_last5\",\n      \"postcode_area\"\n    FROM companies_house\n  )\n  SELECT\n    COUNT(*) AS count_of_pairwise_comparisons_generated\n  FROM __splink__df_concat AS l\n  INNER JOIN __splink__df_concat AS r\n    ON l.secondary_name_unusual_tokens = r.secondary_name_unusual_tokens\n  WHERE\n    l.\"source_dataset\" || '-__-' || l.\"unique_id\" < r.\"source_dataset\" || '-__-' || r.\"unique_id\"\n    AND l.\"source_dataset\" <> r.\"source_dataset\"\n)",
     "output_type": "error",
     "traceback": [
      "\u001b[0;31m---------------------------------------------------------------------------\u001b[0m",
      "\u001b[0;31mKeyboardInterrupt\u001b[0m                         Traceback (most recent call last)",
      "\u001b[0;31mKeyboardInterrupt\u001b[0m: ",
      "\nThe above exception was the direct cause of the following exception:\n",
      "\u001b[0;31mRuntimeError\u001b[0m                              Traceback (most recent call last)",
      "File \u001b[0;32m/opt/conda/envs/lead_generation_experiments/lib/python3.9/site-packages/splink/linker.py:632\u001b[0m, in \u001b[0;36mLinker._log_and_run_sql_execution\u001b[0;34m(self, final_sql, templated_name, physical_name)\u001b[0m\n\u001b[1;32m    631\u001b[0m \u001b[38;5;28;01mtry\u001b[39;00m:\n\u001b[0;32m--> 632\u001b[0m     \u001b[38;5;28;01mreturn\u001b[39;00m \u001b[38;5;28;43mself\u001b[39;49m\u001b[38;5;241;43m.\u001b[39;49m\u001b[43m_run_sql_execution\u001b[49m\u001b[43m(\u001b[49m\u001b[43mfinal_sql\u001b[49m\u001b[43m,\u001b[49m\u001b[43m \u001b[49m\u001b[43mtemplated_name\u001b[49m\u001b[43m,\u001b[49m\u001b[43m \u001b[49m\u001b[43mphysical_name\u001b[49m\u001b[43m)\u001b[49m\n\u001b[1;32m    633\u001b[0m \u001b[38;5;28;01mexcept\u001b[39;00m \u001b[38;5;167;01mException\u001b[39;00m \u001b[38;5;28;01mas\u001b[39;00m e:\n\u001b[1;32m    634\u001b[0m     \u001b[38;5;66;03m# Parse our SQL through sqlglot to pretty print\u001b[39;00m\n",
      "File \u001b[0;32m/opt/conda/envs/lead_generation_experiments/lib/python3.9/site-packages/splink/duckdb/linker.py:221\u001b[0m, in \u001b[0;36mDuckDBLinker._run_sql_execution\u001b[0;34m(self, final_sql, templated_name, physical_name)\u001b[0m\n\u001b[1;32m    220\u001b[0m \u001b[38;5;28;01mdef\u001b[39;00m \u001b[38;5;21m_run_sql_execution\u001b[39m(\u001b[38;5;28mself\u001b[39m, final_sql, templated_name, physical_name):\n\u001b[0;32m--> 221\u001b[0m     \u001b[38;5;28;43mself\u001b[39;49m\u001b[38;5;241;43m.\u001b[39;49m\u001b[43m_con\u001b[49m\u001b[38;5;241;43m.\u001b[39;49m\u001b[43mexecute\u001b[49m\u001b[43m(\u001b[49m\u001b[43mfinal_sql\u001b[49m\u001b[43m)\u001b[49m\n",
      "\u001b[0;31mRuntimeError\u001b[0m: Query interrupted",
      "\nThe above exception was the direct cause of the following exception:\n",
      "\u001b[0;31mSplinkException\u001b[0m                           Traceback (most recent call last)",
      "Cell \u001b[0;32mIn[35], line 9\u001b[0m\n\u001b[1;32m      6\u001b[0m \u001b[38;5;28;01mfor\u001b[39;00m rule \u001b[38;5;129;01min\u001b[39;00m blocking_rules\u001b[38;5;241m.\u001b[39mkeys():\n\u001b[1;32m      7\u001b[0m     \u001b[38;5;28mprint\u001b[39m(\u001b[38;5;124mf\u001b[39m\u001b[38;5;124m'\u001b[39m\u001b[38;5;132;01m{\u001b[39;00mdatetime\u001b[38;5;241m.\u001b[39mdatetime\u001b[38;5;241m.\u001b[39mnow()\u001b[38;5;132;01m}\u001b[39;00m\u001b[38;5;124m: Evaluating \u001b[39m\u001b[38;5;132;01m{\u001b[39;00mrule\u001b[38;5;132;01m}\u001b[39;00m\u001b[38;5;124m'\u001b[39m)\n\u001b[0;32m----> 9\u001b[0m     count \u001b[38;5;241m=\u001b[39m \u001b[43mlinker_2\u001b[49m\u001b[38;5;241;43m.\u001b[39;49m\u001b[43mcount_num_comparisons_from_blocking_rule\u001b[49m\u001b[43m(\u001b[49m\u001b[43mblocking_rules\u001b[49m\u001b[43m[\u001b[49m\u001b[43mrule\u001b[49m\u001b[43m]\u001b[49m\u001b[43m)\u001b[49m\n\u001b[1;32m     11\u001b[0m     \u001b[38;5;28mprint\u001b[39m(\u001b[38;5;124mf\u001b[39m\u001b[38;5;124m'\u001b[39m\u001b[38;5;132;01m{\u001b[39;00mdatetime\u001b[38;5;241m.\u001b[39mdatetime\u001b[38;5;241m.\u001b[39mnow()\u001b[38;5;132;01m}\u001b[39;00m\u001b[38;5;124m: Finished evaluating \u001b[39m\u001b[38;5;132;01m{\u001b[39;00mrule\u001b[38;5;132;01m}\u001b[39;00m\u001b[38;5;124m'\u001b[39m)\n\u001b[1;32m     13\u001b[0m     rule_counts[\u001b[38;5;124m'\u001b[39m\u001b[38;5;124mrule\u001b[39m\u001b[38;5;124m'\u001b[39m]\u001b[38;5;241m.\u001b[39mappend(rule)\n",
      "File \u001b[0;32m/opt/conda/envs/lead_generation_experiments/lib/python3.9/site-packages/splink/linker.py:2724\u001b[0m, in \u001b[0;36mLinker.count_num_comparisons_from_blocking_rule\u001b[0;34m(self, blocking_rule)\u001b[0m\n\u001b[1;32m   2722\u001b[0m sql \u001b[38;5;241m=\u001b[39m number_of_comparisons_generated_by_blocking_rule_sql(\u001b[38;5;28mself\u001b[39m, blocking_rule)\n\u001b[1;32m   2723\u001b[0m \u001b[38;5;28mself\u001b[39m\u001b[38;5;241m.\u001b[39m_enqueue_sql(sql, \u001b[38;5;124m\"\u001b[39m\u001b[38;5;124m__splink__analyse_blocking_rule\u001b[39m\u001b[38;5;124m\"\u001b[39m)\n\u001b[0;32m-> 2724\u001b[0m res \u001b[38;5;241m=\u001b[39m \u001b[38;5;28;43mself\u001b[39;49m\u001b[38;5;241;43m.\u001b[39;49m\u001b[43m_execute_sql_pipeline\u001b[49m\u001b[43m(\u001b[49m\u001b[43m)\u001b[49m\u001b[38;5;241m.\u001b[39mas_record_dict()[\u001b[38;5;241m0\u001b[39m]\n\u001b[1;32m   2725\u001b[0m \u001b[38;5;28;01mreturn\u001b[39;00m res[\u001b[38;5;124m\"\u001b[39m\u001b[38;5;124mcount_of_pairwise_comparisons_generated\u001b[39m\u001b[38;5;124m\"\u001b[39m]\n",
      "File \u001b[0;32m/opt/conda/envs/lead_generation_experiments/lib/python3.9/site-packages/splink/linker.py:574\u001b[0m, in \u001b[0;36mLinker._execute_sql_pipeline\u001b[0;34m(self, input_dataframes, materialise_as_hash, use_cache)\u001b[0m\n\u001b[1;32m    567\u001b[0m     dataframe \u001b[38;5;241m=\u001b[39m \u001b[38;5;28mself\u001b[39m\u001b[38;5;241m.\u001b[39m_sql_to_splink_dataframe_checking_cache(\n\u001b[1;32m    568\u001b[0m         sql_gen,\n\u001b[1;32m    569\u001b[0m         output_tablename_templated,\n\u001b[1;32m    570\u001b[0m         materialise_as_hash,\n\u001b[1;32m    571\u001b[0m         use_cache,\n\u001b[1;32m    572\u001b[0m     )\n\u001b[1;32m    573\u001b[0m \u001b[38;5;28;01mexcept\u001b[39;00m \u001b[38;5;167;01mException\u001b[39;00m \u001b[38;5;28;01mas\u001b[39;00m e:\n\u001b[0;32m--> 574\u001b[0m     \u001b[38;5;28;01mraise\u001b[39;00m e\n\u001b[1;32m    575\u001b[0m \u001b[38;5;28;01mfinally\u001b[39;00m:\n\u001b[1;32m    576\u001b[0m     \u001b[38;5;28mself\u001b[39m\u001b[38;5;241m.\u001b[39m_pipeline\u001b[38;5;241m.\u001b[39mreset()\n",
      "File \u001b[0;32m/opt/conda/envs/lead_generation_experiments/lib/python3.9/site-packages/splink/linker.py:567\u001b[0m, in \u001b[0;36mLinker._execute_sql_pipeline\u001b[0;34m(self, input_dataframes, materialise_as_hash, use_cache)\u001b[0m\n\u001b[1;32m    564\u001b[0m output_tablename_templated \u001b[38;5;241m=\u001b[39m \u001b[38;5;28mself\u001b[39m\u001b[38;5;241m.\u001b[39m_pipeline\u001b[38;5;241m.\u001b[39mqueue[\u001b[38;5;241m-\u001b[39m\u001b[38;5;241m1\u001b[39m]\u001b[38;5;241m.\u001b[39moutput_table_name\n\u001b[1;32m    566\u001b[0m \u001b[38;5;28;01mtry\u001b[39;00m:\n\u001b[0;32m--> 567\u001b[0m     dataframe \u001b[38;5;241m=\u001b[39m \u001b[38;5;28;43mself\u001b[39;49m\u001b[38;5;241;43m.\u001b[39;49m\u001b[43m_sql_to_splink_dataframe_checking_cache\u001b[49m\u001b[43m(\u001b[49m\n\u001b[1;32m    568\u001b[0m \u001b[43m        \u001b[49m\u001b[43msql_gen\u001b[49m\u001b[43m,\u001b[49m\n\u001b[1;32m    569\u001b[0m \u001b[43m        \u001b[49m\u001b[43moutput_tablename_templated\u001b[49m\u001b[43m,\u001b[49m\n\u001b[1;32m    570\u001b[0m \u001b[43m        \u001b[49m\u001b[43mmaterialise_as_hash\u001b[49m\u001b[43m,\u001b[49m\n\u001b[1;32m    571\u001b[0m \u001b[43m        \u001b[49m\u001b[43muse_cache\u001b[49m\u001b[43m,\u001b[49m\n\u001b[1;32m    572\u001b[0m \u001b[43m    \u001b[49m\u001b[43m)\u001b[49m\n\u001b[1;32m    573\u001b[0m \u001b[38;5;28;01mexcept\u001b[39;00m \u001b[38;5;167;01mException\u001b[39;00m \u001b[38;5;28;01mas\u001b[39;00m e:\n\u001b[1;32m    574\u001b[0m     \u001b[38;5;28;01mraise\u001b[39;00m e\n",
      "File \u001b[0;32m/opt/conda/envs/lead_generation_experiments/lib/python3.9/site-packages/splink/linker.py:803\u001b[0m, in \u001b[0;36mLinker._sql_to_splink_dataframe_checking_cache\u001b[0;34m(self, sql, output_tablename_templated, materialise_as_hash, use_cache)\u001b[0m\n\u001b[1;32m    800\u001b[0m     \u001b[38;5;28mprint\u001b[39m(sql)\n\u001b[1;32m    802\u001b[0m \u001b[38;5;28;01mif\u001b[39;00m materialise_as_hash:\n\u001b[0;32m--> 803\u001b[0m     splink_dataframe \u001b[38;5;241m=\u001b[39m \u001b[38;5;28;43mself\u001b[39;49m\u001b[38;5;241;43m.\u001b[39;49m\u001b[43m_execute_sql_against_backend\u001b[49m\u001b[43m(\u001b[49m\n\u001b[1;32m    804\u001b[0m \u001b[43m        \u001b[49m\u001b[43msql\u001b[49m\u001b[43m,\u001b[49m\u001b[43m \u001b[49m\u001b[43moutput_tablename_templated\u001b[49m\u001b[43m,\u001b[49m\u001b[43m \u001b[49m\u001b[43mtable_name_hash\u001b[49m\n\u001b[1;32m    805\u001b[0m \u001b[43m    \u001b[49m\u001b[43m)\u001b[49m\n\u001b[1;32m    806\u001b[0m \u001b[38;5;28;01melse\u001b[39;00m:\n\u001b[1;32m    807\u001b[0m     splink_dataframe \u001b[38;5;241m=\u001b[39m \u001b[38;5;28mself\u001b[39m\u001b[38;5;241m.\u001b[39m_execute_sql_against_backend(\n\u001b[1;32m    808\u001b[0m         sql,\n\u001b[1;32m    809\u001b[0m         output_tablename_templated,\n\u001b[1;32m    810\u001b[0m         output_tablename_templated,\n\u001b[1;32m    811\u001b[0m     )\n",
      "File \u001b[0;32m/opt/conda/envs/lead_generation_experiments/lib/python3.9/site-packages/splink/duckdb/linker.py:216\u001b[0m, in \u001b[0;36mDuckDBLinker._execute_sql_against_backend\u001b[0;34m(self, sql, templated_name, physical_name)\u001b[0m\n\u001b[1;32m    209\u001b[0m \u001b[38;5;28mself\u001b[39m\u001b[38;5;241m.\u001b[39m_delete_table_from_database(physical_name)\n\u001b[1;32m    211\u001b[0m sql \u001b[38;5;241m=\u001b[39m \u001b[38;5;124mf\u001b[39m\u001b[38;5;124m\"\"\"\u001b[39m\n\u001b[1;32m    212\u001b[0m \u001b[38;5;124mCREATE TABLE \u001b[39m\u001b[38;5;132;01m{\u001b[39;00mphysical_name\u001b[38;5;132;01m}\u001b[39;00m\n\u001b[1;32m    213\u001b[0m \u001b[38;5;124mAS\u001b[39m\n\u001b[1;32m    214\u001b[0m \u001b[38;5;124m(\u001b[39m\u001b[38;5;132;01m{\u001b[39;00msql\u001b[38;5;132;01m}\u001b[39;00m\u001b[38;5;124m)\u001b[39m\n\u001b[1;32m    215\u001b[0m \u001b[38;5;124m\u001b[39m\u001b[38;5;124m\"\"\"\u001b[39m\n\u001b[0;32m--> 216\u001b[0m \u001b[38;5;28;43mself\u001b[39;49m\u001b[38;5;241;43m.\u001b[39;49m\u001b[43m_log_and_run_sql_execution\u001b[49m\u001b[43m(\u001b[49m\u001b[43msql\u001b[49m\u001b[43m,\u001b[49m\u001b[43m \u001b[49m\u001b[43mtemplated_name\u001b[49m\u001b[43m,\u001b[49m\u001b[43m \u001b[49m\u001b[43mphysical_name\u001b[49m\u001b[43m)\u001b[49m\n\u001b[1;32m    218\u001b[0m \u001b[38;5;28;01mreturn\u001b[39;00m DuckDBLinkerDataFrame(templated_name, physical_name, \u001b[38;5;28mself\u001b[39m)\n",
      "File \u001b[0;32m/opt/conda/envs/lead_generation_experiments/lib/python3.9/site-packages/splink/linker.py:644\u001b[0m, in \u001b[0;36mLinker._log_and_run_sql_execution\u001b[0;34m(self, final_sql, templated_name, physical_name)\u001b[0m\n\u001b[1;32m    641\u001b[0m \u001b[38;5;28;01mexcept\u001b[39;00m \u001b[38;5;167;01mException\u001b[39;00m:\n\u001b[1;32m    642\u001b[0m     \u001b[38;5;28;01mpass\u001b[39;00m\n\u001b[0;32m--> 644\u001b[0m \u001b[38;5;28;01mraise\u001b[39;00m SplinkException(\n\u001b[1;32m    645\u001b[0m     \u001b[38;5;124mf\u001b[39m\u001b[38;5;124m\"\u001b[39m\u001b[38;5;124mError executing the following sql for table \u001b[39m\u001b[38;5;124m\"\u001b[39m\n\u001b[1;32m    646\u001b[0m     \u001b[38;5;124mf\u001b[39m\u001b[38;5;124m\"\u001b[39m\u001b[38;5;124m`\u001b[39m\u001b[38;5;132;01m{\u001b[39;00mtemplated_name\u001b[38;5;132;01m}\u001b[39;00m\u001b[38;5;124m` (\u001b[39m\u001b[38;5;132;01m{\u001b[39;00mphysical_name\u001b[38;5;132;01m}\u001b[39;00m\u001b[38;5;124m):\u001b[39m\u001b[38;5;130;01m\\n\u001b[39;00m\u001b[38;5;132;01m{\u001b[39;00mfinal_sql\u001b[38;5;132;01m}\u001b[39;00m\u001b[38;5;124m\"\u001b[39m\n\u001b[1;32m    647\u001b[0m ) \u001b[38;5;28;01mfrom\u001b[39;00m \u001b[38;5;21;01me\u001b[39;00m\n",
      "\u001b[0;31mSplinkException\u001b[0m: Error executing the following sql for table `__splink__analyse_blocking_rule` (__splink__analyse_blocking_rule_d7bbebb07):\nCREATE TABLE __splink__analyse_blocking_rule_d7bbebb07 AS\n(\n  WITH __splink__df_concat AS (\n    SELECT\n      'datahub' AS source_dataset,\n      \"unique_id\",\n      \"comp_num_clean\",\n      \"name_unusual_tokens\",\n      \"secondary_name_unusual_tokens\",\n      \"names_tokens_stopwords\",\n      \"postcode\",\n      \"postcode_alt\",\n      \"name_unusual_tokens_first5\",\n      \"name_unusual_tokens_last5\",\n      \"postcode_area\"\n    FROM datahub\n    UNION ALL\n    SELECT\n      'companies_house' AS source_dataset,\n      \"unique_id\",\n      \"comp_num_clean\",\n      \"name_unusual_tokens\",\n      \"secondary_name_unusual_tokens\",\n      \"names_tokens_stopwords\",\n      \"postcode\",\n      \"postcode_alt\",\n      \"name_unusual_tokens_first5\",\n      \"name_unusual_tokens_last5\",\n      \"postcode_area\"\n    FROM companies_house\n  )\n  SELECT\n    COUNT(*) AS count_of_pairwise_comparisons_generated\n  FROM __splink__df_concat AS l\n  INNER JOIN __splink__df_concat AS r\n    ON l.secondary_name_unusual_tokens = r.secondary_name_unusual_tokens\n  WHERE\n    l.\"source_dataset\" || '-__-' || l.\"unique_id\" < r.\"source_dataset\" || '-__-' || r.\"unique_id\"\n    AND l.\"source_dataset\" <> r.\"source_dataset\"\n)"
     ]
    }
   ],
   "source": [
    "rule_counts = {\n",
    "    'rule': [],\n",
    "    'count': []\n",
    "}\n",
    "\n",
    "for rule in blocking_rules.keys():\n",
    "    print(f'{datetime.datetime.now()}: Evaluating {rule}')\n",
    "    \n",
    "    count = linker_2.count_num_comparisons_from_blocking_rule(blocking_rules[rule])\n",
    "    \n",
    "    print(f'{datetime.datetime.now()}: Finished evaluating {rule}')\n",
    "    \n",
    "    rule_counts['rule'].append(rule)\n",
    "    rule_counts['count'].append(count)\n"
   ]
  },
  {
   "cell_type": "markdown",
   "id": "6838681c-56c8-41c3-a59c-e5086b448b65",
   "metadata": {},
   "source": [
    "Rule 5 (and likely 6) took 90 mins and counting to evaluate. It's not going to work for us.\n",
    "\n",
    "Interesting that from the error we can see the `union all` that powers the counts."
   ]
  },
  {
   "cell_type": "code",
   "execution_count": 37,
   "id": "8a145c84-63cf-4d10-8396-dc6e119a3f1c",
   "metadata": {},
   "outputs": [
    {
     "data": {
      "text/html": [
       "<div>\n",
       "<style scoped>\n",
       "    .dataframe tbody tr th:only-of-type {\n",
       "        vertical-align: middle;\n",
       "    }\n",
       "\n",
       "    .dataframe tbody tr th {\n",
       "        vertical-align: top;\n",
       "    }\n",
       "\n",
       "    .dataframe thead th {\n",
       "        text-align: right;\n",
       "    }\n",
       "</style>\n",
       "<table border=\"1\" class=\"dataframe\">\n",
       "  <thead>\n",
       "    <tr style=\"text-align: right;\">\n",
       "      <th></th>\n",
       "      <th>rule</th>\n",
       "      <th>count</th>\n",
       "    </tr>\n",
       "  </thead>\n",
       "  <tbody>\n",
       "    <tr>\n",
       "      <th>0</th>\n",
       "      <td>blocking_rule_1</td>\n",
       "      <td>90528</td>\n",
       "    </tr>\n",
       "    <tr>\n",
       "      <th>1</th>\n",
       "      <td>blocking_rule_2</td>\n",
       "      <td>124344</td>\n",
       "    </tr>\n",
       "    <tr>\n",
       "      <th>2</th>\n",
       "      <td>blocking_rule_3</td>\n",
       "      <td>791167934</td>\n",
       "    </tr>\n",
       "    <tr>\n",
       "      <th>3</th>\n",
       "      <td>blocking_rule_4</td>\n",
       "      <td>1265705234</td>\n",
       "    </tr>\n",
       "  </tbody>\n",
       "</table>\n",
       "</div>"
      ],
      "text/plain": [
       "              rule       count\n",
       "0  blocking_rule_1       90528\n",
       "1  blocking_rule_2      124344\n",
       "2  blocking_rule_3   791167934\n",
       "3  blocking_rule_4  1265705234"
      ]
     },
     "execution_count": 37,
     "metadata": {},
     "output_type": "execute_result"
    }
   ],
   "source": [
    "pd.DataFrame.from_dict(rule_counts)"
   ]
  },
  {
   "cell_type": "markdown",
   "id": "07b29cc9-c3ac-4d7d-92d5-23596c0a433a",
   "metadata": {},
   "source": [
    "Let's test the cumulative function."
   ]
  },
  {
   "cell_type": "code",
   "execution_count": 43,
   "id": "ba916bb1-e9dc-4321-bae3-ae9003cb5bc8",
   "metadata": {},
   "outputs": [],
   "source": [
    "blocking_rules_2 = {\n",
    "    'blocking_rule_1': \"l.comp_num_clean = r.comp_num_clean\",\n",
    "    'blocking_rule_2': \"l.name_unusual_tokens = r.name_unusual_tokens\"\n",
    "}"
   ]
  },
  {
   "cell_type": "code",
   "execution_count": 44,
   "id": "422053d5-19c9-496b-a22c-4b08398bc6a4",
   "metadata": {},
   "outputs": [
    {
     "data": {
      "application/vnd.vegalite.v4+json": {
       "$schema": "https://vega.github.io/schema/vega-lite/v5.json",
       "data": {
        "values": [
         {
          "cartesian": 941960454400,
          "cumulative_rows": 90528,
          "reduction_ratio": "The rolling reduction ratio with your given blocking rule(s) is 1.0. This represents the reduction in the total number of comparisons due to your rule(s).",
          "row_count": 90528,
          "rule": "l.comp_num_clean = r.comp_num_clean",
          "start": 0
         },
         {
          "cartesian": 941960454400,
          "cumulative_rows": 132255,
          "reduction_ratio": "The rolling reduction ratio with your given blocking rule(s) is 1.0. This represents the reduction in the total number of comparisons due to your rule(s).",
          "row_count": 41727,
          "rule": "l.name_unusual_tokens = r.name_unusual_tokens",
          "start": 90528
         }
        ]
       },
       "encoding": {
        "color": {
         "field": "rule",
         "legend": null,
         "scale": {
          "scheme": "category20c"
         }
        },
        "order": {
         "field": "cumulative_rows"
        },
        "tooltip": [
         {
          "field": "rule",
          "title": "SQL Condition",
          "type": "nominal"
         },
         {
          "field": "row_count",
          "format": ",",
          "title": "Comparisons Generated",
          "type": "quantitative"
         },
         {
          "field": "cumulative_rows",
          "format": ",",
          "title": "Cumulative Comparisons",
          "type": "quantitative"
         },
         {
          "field": "cartesian",
          "format": ",",
          "title": "Cartesian Product of Input Data",
          "type": "quantitative"
         },
         {
          "field": "reduction_ratio",
          "title": "Reduction Ratio (cumulative rows/cartesian product)",
          "type": "nominal"
         }
        ],
        "x": {
         "field": "start",
         "title": "Comparisons Generated by Rule(s)",
         "type": "quantitative"
        },
        "x2": {
         "field": "cumulative_rows"
        },
        "y": {
         "field": "rule",
         "sort": [
          "-x2"
         ],
         "title": "SQL Blocking Rule"
        }
       },
       "height": {
        "step": 20
       },
       "mark": "bar",
       "title": {
        "subtitle": "(Counts exclude comparisons already generated by previous rules)",
        "text": "Count of Additional Comparisons Generated by Each Blocking Rule"
       },
       "width": 450
      },
      "image/png": "[encoded data removed]",
      "text/plain": [
       "<VegaLite 4 object>\n",
       "\n",
       "If you see this message, it means the renderer has not been properly enabled\n",
       "for the frontend that you are using. For more information, see\n",
       "https://altair-viz.github.io/user_guide/troubleshooting.html\n"
      ]
     },
     "execution_count": 44,
     "metadata": {},
     "output_type": "execute_result"
    }
   ],
   "source": [
    "linker_2.cumulative_num_comparisons_from_blocking_rules_chart(\n",
    "    list(blocking_rules_2.values())\n",
    ")"
   ]
  },
  {
   "cell_type": "markdown",
   "id": "cbf0c31c-31dc-4b35-bcec-610b823aa979",
   "metadata": {},
   "source": [
    "The plan of attack for Monday:\n",
    "\n",
    "* Begin testing the blocking rules and combinations of the blocking rules. Ideas:\n",
    "    * Match comp_num_clean OR name_unusual_tokens\n",
    "        * Is OR functionally different to the ANY rule splink uses for separate rules?\n",
    "    * Match comp_num_clean OR name_unusual_tokens OR postcode\n",
    "* Find some way to evaluate the quality of my choices\n",
    "* Think about any obvious wins that might improve the match process\n",
    "* Bring in some other datasets (we can enumerate them while stuff runs)\n",
    "\n",
    "> More generally, we can often specify multiple blocking rules such that it becomes highly implausible that a true match would not meet at least one of these blocking critera. This is the recommended approach in Splink. Generally we would recommend between about 3 and 10, though even more is possible."
   ]
  },
  {
   "cell_type": "code",
   "execution_count": null,
   "id": "84090034-4661-4810-9946-afce3a11bd9c",
   "metadata": {},
   "outputs": [],
   "source": []
  }
 ],
 "metadata": {
  "kernelspec": {
   "display_name": "Python 3.9.16 64-bit ('company_matching': conda)",
   "language": "python",
   "name": "python_defaultSpec_1687520767704"
  },
  "language_info": {
   "codemirror_mode": {
    "name": "ipython",
    "version": 3
   },
   "file_extension": ".py",
   "mimetype": "text/x-python",
   "name": "python",
   "nbconvert_exporter": "python",
   "pygments_lexer": "ipython3",
   "version": "3.9.16-final"
  }
 },
 "nbformat": 4,
 "nbformat_minor": 5
}