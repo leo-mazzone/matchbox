{
 "cells": [
  {
   "cell_type": "code",
   "execution_count": null,
   "id": "b239cd5d-5c6b-4370-9e9f-662ffae4d58f",
   "metadata": {},
   "outputs": [],
   "source": [
    "%load_ext autoreload\n",
    "%autoreload 2\n",
    "from IPython.core.interactiveshell import InteractiveShell\n",
    "from IPython.display import IFrame, display\n",
    "InteractiveShell.ast_node_interactivity = \"all\""
   ]
  },
  {
   "cell_type": "markdown",
   "id": "865b59b8-fc8e-4402-97c5-1192dba6fd42",
   "metadata": {},
   "source": [
    "# Deterministic linker\n",
    "\n",
    "A place to fix and test the deterministic linker."
   ]
  },
  {
   "cell_type": "code",
   "execution_count": null,
   "id": "bb0f2cfd-4aa9-483c-99fa-49152aefaad0",
   "metadata": {},
   "outputs": [],
   "source": [
    "from src.data import utils as du\n",
    "from src.data.star import Star\n",
    "from src.data.datasets import Dataset\n",
    "from src.data.probabilities import Probabilities\n",
    "from src.data.clusters import Clusters\n",
    "from src.data.validation import Validation\n",
    "from src.link.deterministic_linker import DeterministicLinker\n",
    "from src.config import link_pipeline, stopwords\n",
    "from src.features.clean_complex import clean_comp_names\n",
    "\n",
    "from dotenv import load_dotenv, find_dotenv\n",
    "import os\n",
    "\n",
    "dotenv_path = find_dotenv()\n",
    "load_dotenv(dotenv_path)"
   ]
  },
  {
   "cell_type": "code",
   "execution_count": null,
   "id": "a47bb693-085a-431e-a14b-ab7acf55f773",
   "metadata": {},
   "outputs": [],
   "source": [
    "star = Star(\n",
    "    schema = os.getenv(\"SCHEMA\"),\n",
    "    table = os.getenv(\"STAR_TABLE\")\n",
    ")\n",
    "probabilities = Probabilities(\n",
    "    schema = os.getenv(\"SCHEMA\"),\n",
    "    table = os.getenv(\"PROBABILITIES_TABLE\"),\n",
    "    star = star\n",
    ")\n",
    "clusters = Clusters(\n",
    "    schema = os.getenv(\"SCHEMA\"),\n",
    "    table = os.getenv(\"CLUSTERS_TABLE\"),\n",
    "    star = star\n",
    ")\n",
    "validation = Validation(\n",
    "    schema = os.getenv(\"SCHEMA\"),\n",
    "    table = os.getenv(\"VALIDATE_TABLE\")\n",
    ")"
   ]
  },
  {
   "cell_type": "markdown",
   "id": "623f3d9d-ac97-4a72-872b-2e89bfb61210",
   "metadata": {},
   "source": [
    "## Prepare data"
   ]
  },
  {
   "cell_type": "code",
   "execution_count": null,
   "id": "f11719a3-9023-4683-8664-542988bd81b3",
   "metadata": {},
   "outputs": [],
   "source": [
    "cl_x_exp = DeterministicLinker(\n",
    "    name=\"n1_deterministic_basic\",\n",
    "    dataset = Dataset(\n",
    "        star_id=54717,\n",
    "        star=star\n",
    "    ), \n",
    "    probabilities=probabilities, \n",
    "    clusters=clusters, \n",
    "    n=1,\n",
    "    overwrite=True\n",
    ")"
   ]
  },
  {
   "cell_type": "code",
   "execution_count": null,
   "id": "5c5aa81e-db8a-4b4b-806b-e5f3f0b3a5d7",
   "metadata": {},
   "outputs": [],
   "source": [
    "cl_x_exp.get_data(\n",
    "    # sample=5,\n",
    "    cluster_select={\n",
    "        '\"companieshouse\".\"companies\"': [\n",
    "            \"company_name as company_name\",\n",
    "            \"postcode as postcode\"\n",
    "        ]\n",
    "    },\n",
    "    dim_select=[\n",
    "        \"id\",\n",
    "        \"company_name\",\n",
    "        \"postcode\"\n",
    "    ],\n",
    ")"
   ]
  },
  {
   "cell_type": "code",
   "execution_count": null,
   "id": "597f1d03-de9c-45a1-a454-7ce879c5b24c",
   "metadata": {},
   "outputs": [],
   "source": [
    "cluster_pipeline={\n",
    "    \"clean_comp_names\": {\n",
    "        \"function\": clean_comp_names,\n",
    "        \"arguments\": {\n",
    "            \"primary_col\": \"company_name\",\n",
    "            \"secondary_col\": None,\n",
    "            \"stopwords\": stopwords,\n",
    "        },\n",
    "    }\n",
    "}\n",
    "dim_pipeline={\n",
    "    \"clean_comp_names\": {\n",
    "        \"function\": clean_comp_names,\n",
    "        \"arguments\": {\n",
    "            \"primary_col\": \"company_name\",\n",
    "            \"secondary_col\": None,\n",
    "            \"stopwords\": stopwords,\n",
    "        },\n",
    "    }\n",
    "}"
   ]
  },
  {
   "cell_type": "markdown",
   "id": "8be87bdf-8b75-4811-b01a-5976b413e8ad",
   "metadata": {},
   "source": [
    "## Link data"
   ]
  },
  {
   "cell_type": "code",
   "execution_count": null,
   "id": "0eadf151-fc22-4610-b389-4ba551175cee",
   "metadata": {},
   "outputs": [],
   "source": []
  }
 ],
 "metadata": {
  "kernelspec": {
   "display_name": "company_matching",
   "language": "python",
   "name": "company_matching"
  },
  "language_info": {
   "codemirror_mode": {
    "name": "ipython",
    "version": 3
   },
   "file_extension": ".py",
   "mimetype": "text/x-python",
   "name": "python",
   "nbconvert_exporter": "python",
   "pygments_lexer": "ipython3",
   "version": "3.9.16"
  }
 },
 "nbformat": 4,
 "nbformat_minor": 5
}
