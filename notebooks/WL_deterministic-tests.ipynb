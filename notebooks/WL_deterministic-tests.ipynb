{
 "cells": [
  {
   "cell_type": "code",
   "execution_count": 1,
   "id": "b239cd5d-5c6b-4370-9e9f-662ffae4d58f",
   "metadata": {},
   "outputs": [],
   "source": [
    "%load_ext autoreload\n",
    "%autoreload 2\n",
    "from IPython.core.interactiveshell import InteractiveShell\n",
    "from IPython.display import IFrame, display\n",
    "InteractiveShell.ast_node_interactivity = \"all\""
   ]
  },
  {
   "cell_type": "markdown",
   "id": "865b59b8-fc8e-4402-97c5-1192dba6fd42",
   "metadata": {},
   "source": [
    "# Deterministic linker\n",
    "\n",
    "A place to fix and test the deterministic linker."
   ]
  },
  {
   "cell_type": "code",
   "execution_count": 35,
   "id": "bb0f2cfd-4aa9-483c-99fa-49152aefaad0",
   "metadata": {},
   "outputs": [
    {
     "data": {
      "text/plain": [
       "True"
      ]
     },
     "execution_count": 35,
     "metadata": {},
     "output_type": "execute_result"
    }
   ],
   "source": [
    "from src.data import utils as du\n",
    "from src.data.star import Star\n",
    "from src.data.datasets import Dataset\n",
    "from src.data.probabilities import Probabilities\n",
    "from src.data.clusters import Clusters\n",
    "from src.data.validation import Validation\n",
    "from src.link.deterministic_linker import DeterministicLinker\n",
    "from src.features.clean_complex import duckdb_cleaning_factory\n",
    "from src.features.clean_basic_original import (\n",
    "    cms_original_clean_company_name_general,\n",
    "    cms_original_clean_company_name_ch,\n",
    "    cms_original_clean_postcode,\n",
    "    cms_original_clean_email,\n",
    "    cms_original_clean_ch_id,\n",
    "    cms_original_clean_cdms_id\n",
    ")\n",
    "\n",
    "from dotenv import load_dotenv, find_dotenv\n",
    "import os\n",
    "\n",
    "dotenv_path = find_dotenv()\n",
    "load_dotenv(dotenv_path)"
   ]
  },
  {
   "cell_type": "code",
   "execution_count": 12,
   "id": "a47bb693-085a-431e-a14b-ab7acf55f773",
   "metadata": {},
   "outputs": [],
   "source": [
    "star = Star(\n",
    "    schema = os.getenv(\"SCHEMA\"),\n",
    "    table = os.getenv(\"STAR_TABLE\")\n",
    ")\n",
    "probabilities = Probabilities(\n",
    "    schema = os.getenv(\"SCHEMA\"),\n",
    "    table = os.getenv(\"PROBABILITIES_TABLE\"),\n",
    "    star = star\n",
    ")\n",
    "clusters = Clusters(\n",
    "    schema = os.getenv(\"SCHEMA\"),\n",
    "    table = os.getenv(\"CLUSTERS_TABLE\"),\n",
    "    star = star\n",
    ")\n",
    "validation = Validation(\n",
    "    schema = os.getenv(\"SCHEMA\"),\n",
    "    table = os.getenv(\"VALIDATE_TABLE\")\n",
    ")"
   ]
  },
  {
   "cell_type": "markdown",
   "id": "623f3d9d-ac97-4a72-872b-2e89bfb61210",
   "metadata": {},
   "source": [
    "## Prepare data"
   ]
  },
  {
   "cell_type": "code",
   "execution_count": 13,
   "id": "f11719a3-9023-4683-8664-542988bd81b3",
   "metadata": {},
   "outputs": [],
   "source": [
    "cl_x_exp = DeterministicLinker(\n",
    "    name=\"n1_deterministic_basic\",\n",
    "    dataset = Dataset(\n",
    "        star_id=54717,\n",
    "        star=star\n",
    "    ), \n",
    "    probabilities=probabilities, \n",
    "    clusters=clusters, \n",
    "    n=1,\n",
    "    overwrite=True\n",
    ")"
   ]
  },
  {
   "cell_type": "code",
   "execution_count": 14,
   "id": "5c5aa81e-db8a-4b4b-806b-e5f3f0b3a5d7",
   "metadata": {},
   "outputs": [],
   "source": [
    "cl_x_exp.get_data(\n",
    "    sample=5,\n",
    "    cluster_select={\n",
    "        '\"companieshouse\".\"companies\"': [\n",
    "            \"company_name as company_name\",\n",
    "            \"postcode as postcode\"\n",
    "        ]\n",
    "    },\n",
    "    dim_select=[\n",
    "        \"id\",\n",
    "        \"company_name\",\n",
    "        \"postcode\"\n",
    "    ],\n",
    ")"
   ]
  },
  {
   "cell_type": "code",
   "execution_count": 16,
   "id": "6cabe126-b0bb-4845-aa35-303a463c04bf",
   "metadata": {},
   "outputs": [
    {
     "data": {
      "text/html": [
       "<div>\n",
       "<style scoped>\n",
       "    .dataframe tbody tr th:only-of-type {\n",
       "        vertical-align: middle;\n",
       "    }\n",
       "\n",
       "    .dataframe tbody tr th {\n",
       "        vertical-align: top;\n",
       "    }\n",
       "\n",
       "    .dataframe thead th {\n",
       "        text-align: right;\n",
       "    }\n",
       "</style>\n",
       "<table border=\"1\" class=\"dataframe\">\n",
       "  <thead>\n",
       "    <tr style=\"text-align: right;\">\n",
       "      <th></th>\n",
       "      <th>id</th>\n",
       "      <th>company_name</th>\n",
       "      <th>postcode</th>\n",
       "    </tr>\n",
       "  </thead>\n",
       "  <tbody>\n",
       "    <tr>\n",
       "      <th>0</th>\n",
       "      <td>3142495</td>\n",
       "      <td>427 HARDTOPS LIMITED</td>\n",
       "      <td>CM16 6AP</td>\n",
       "    </tr>\n",
       "    <tr>\n",
       "      <th>1</th>\n",
       "      <td>2098624</td>\n",
       "      <td>42 INFORMATION TECHNOLOGY SOLUTIONSLTD</td>\n",
       "      <td>NG33 5EF</td>\n",
       "    </tr>\n",
       "    <tr>\n",
       "      <th>2</th>\n",
       "      <td>282341</td>\n",
       "      <td>42 SQUARE (LONDON) LIMITED</td>\n",
       "      <td>SE1 3PA</td>\n",
       "    </tr>\n",
       "    <tr>\n",
       "      <th>3</th>\n",
       "      <td>547213</td>\n",
       "      <td>42 TECHNOLOGY HOLDINGS LIMITED</td>\n",
       "      <td>PE27 4LG</td>\n",
       "    </tr>\n",
       "    <tr>\n",
       "      <th>4</th>\n",
       "      <td>2153165</td>\n",
       "      <td>42 TECHNOLOGY LIMITED</td>\n",
       "      <td>PE27 4LG</td>\n",
       "    </tr>\n",
       "  </tbody>\n",
       "</table>\n",
       "</div>"
      ],
      "text/plain": [
       "        id                            company_name  postcode\n",
       "0  3142495                    427 HARDTOPS LIMITED  CM16 6AP\n",
       "1  2098624  42 INFORMATION TECHNOLOGY SOLUTIONSLTD  NG33 5EF\n",
       "2   282341              42 SQUARE (LONDON) LIMITED   SE1 3PA\n",
       "3   547213          42 TECHNOLOGY HOLDINGS LIMITED  PE27 4LG\n",
       "4  2153165                   42 TECHNOLOGY LIMITED  PE27 4LG"
      ]
     },
     "execution_count": 16,
     "metadata": {},
     "output_type": "execute_result"
    }
   ],
   "source": [
    "cl_x_exp.dim_raw.head(5)"
   ]
  },
  {
   "cell_type": "code",
   "execution_count": 44,
   "id": "4e60f7b1-b6f0-4b1d-8610-b9ee861decf5",
   "metadata": {},
   "outputs": [],
   "source": [
    "clean_postcode = duckdb_cleaning_factory(cms_original_clean_postcode)\n",
    "clean_ch_name = duckdb_cleaning_factory(cms_original_clean_company_name_ch)\n",
    "clean_gen_name = duckdb_cleaning_factory(cms_original_clean_company_name_general)\n",
    "\n",
    "cluster_pipeline={\n",
    "    \"clean_ch_comp_names\": {\n",
    "        \"function\": clean_ch_name,\n",
    "        \"arguments\": {\n",
    "            \"column\": \"company_name\"\n",
    "        },\n",
    "    },\n",
    "    \"clean_postcode\": {\n",
    "        \"function\": clean_postcode,\n",
    "        \"arguments\": {\n",
    "            \"column\": \"postcode\"\n",
    "        },\n",
    "    }\n",
    "}\n",
    "dim_pipeline={\n",
    "    \"clean__comp_names\": {\n",
    "        \"function\": clean_gen_name,\n",
    "        \"arguments\": {\n",
    "            \"column\": \"company_name\"\n",
    "        },\n",
    "    },\n",
    "    \"clean_postcode\": {\n",
    "        \"function\": clean_postcode,\n",
    "        \"arguments\": {\n",
    "            \"column\": \"postcode\"\n",
    "        },\n",
    "    }\n",
    "}"
   ]
  },
  {
   "cell_type": "code",
   "execution_count": 45,
   "id": "10e84e9f-d590-486d-935e-51b1acb078da",
   "metadata": {},
   "outputs": [],
   "source": [
    "cl_x_exp._clean_data(\n",
    "    cluster_pipeline=cluster_pipeline,\n",
    "    dim_pipeline=dim_pipeline\n",
    ")"
   ]
  },
  {
   "cell_type": "code",
   "execution_count": 46,
   "id": "956ab425-a7de-4be2-988b-32240a94f81c",
   "metadata": {
    "scrolled": true
   },
   "outputs": [
    {
     "data": {
      "text/html": [
       "<div>\n",
       "<style scoped>\n",
       "    .dataframe tbody tr th:only-of-type {\n",
       "        vertical-align: middle;\n",
       "    }\n",
       "\n",
       "    .dataframe tbody tr th {\n",
       "        vertical-align: top;\n",
       "    }\n",
       "\n",
       "    .dataframe thead th {\n",
       "        text-align: right;\n",
       "    }\n",
       "</style>\n",
       "<table border=\"1\" class=\"dataframe\">\n",
       "  <thead>\n",
       "    <tr style=\"text-align: right;\">\n",
       "      <th></th>\n",
       "      <th>id</th>\n",
       "      <th>company_name</th>\n",
       "      <th>postcode</th>\n",
       "    </tr>\n",
       "  </thead>\n",
       "  <tbody>\n",
       "    <tr>\n",
       "      <th>0</th>\n",
       "      <td>3142495</td>\n",
       "      <td>427hardtops</td>\n",
       "      <td>cm166ap</td>\n",
       "    </tr>\n",
       "    <tr>\n",
       "      <th>1</th>\n",
       "      <td>2098624</td>\n",
       "      <td>42informationtechnologysolutions</td>\n",
       "      <td>ng335ef</td>\n",
       "    </tr>\n",
       "    <tr>\n",
       "      <th>2</th>\n",
       "      <td>282341</td>\n",
       "      <td>42squarelondon</td>\n",
       "      <td>se13pa</td>\n",
       "    </tr>\n",
       "    <tr>\n",
       "      <th>3</th>\n",
       "      <td>547213</td>\n",
       "      <td>42technologyholdings</td>\n",
       "      <td>pe274lg</td>\n",
       "    </tr>\n",
       "    <tr>\n",
       "      <th>4</th>\n",
       "      <td>2153165</td>\n",
       "      <td>42technology</td>\n",
       "      <td>pe274lg</td>\n",
       "    </tr>\n",
       "  </tbody>\n",
       "</table>\n",
       "</div>"
      ],
      "text/plain": [
       "        id                      company_name postcode\n",
       "0  3142495                       427hardtops  cm166ap\n",
       "1  2098624  42informationtechnologysolutions  ng335ef\n",
       "2   282341                    42squarelondon   se13pa\n",
       "3   547213              42technologyholdings  pe274lg\n",
       "4  2153165                      42technology  pe274lg"
      ]
     },
     "execution_count": 46,
     "metadata": {},
     "output_type": "execute_result"
    },
    {
     "data": {
      "text/html": [
       "<div>\n",
       "<style scoped>\n",
       "    .dataframe tbody tr th:only-of-type {\n",
       "        vertical-align: middle;\n",
       "    }\n",
       "\n",
       "    .dataframe tbody tr th {\n",
       "        vertical-align: top;\n",
       "    }\n",
       "\n",
       "    .dataframe thead th {\n",
       "        text-align: right;\n",
       "    }\n",
       "</style>\n",
       "<table border=\"1\" class=\"dataframe\">\n",
       "  <thead>\n",
       "    <tr style=\"text-align: right;\">\n",
       "      <th></th>\n",
       "      <th>id</th>\n",
       "      <th>company_name</th>\n",
       "      <th>postcode</th>\n",
       "    </tr>\n",
       "  </thead>\n",
       "  <tbody>\n",
       "    <tr>\n",
       "      <th>0</th>\n",
       "      <td>9e26ce95-93dd-444d-8f76-a170b7765a05</td>\n",
       "      <td>080808</td>\n",
       "      <td>sp27fu</td>\n",
       "    </tr>\n",
       "    <tr>\n",
       "      <th>1</th>\n",
       "      <td>88ce2dec-56c8-4da4-9a5e-e2149b8affc7</td>\n",
       "      <td>08141019</td>\n",
       "      <td>en55yl</td>\n",
       "    </tr>\n",
       "    <tr>\n",
       "      <th>2</th>\n",
       "      <td>9dab483f-847c-4752-bfd6-af4ec523dc55</td>\n",
       "      <td>08241526</td>\n",
       "      <td>e148gs</td>\n",
       "    </tr>\n",
       "    <tr>\n",
       "      <th>3</th>\n",
       "      <td>e3aba908-96d8-41eb-9d73-cb79639ed2d4</td>\n",
       "      <td>082925</td>\n",
       "      <td>rh101ht</td>\n",
       "    </tr>\n",
       "    <tr>\n",
       "      <th>4</th>\n",
       "      <td>d046ba7d-0bda-441d-b141-8b9493d624b2</td>\n",
       "      <td>08461200</td>\n",
       "      <td>sp12as</td>\n",
       "    </tr>\n",
       "  </tbody>\n",
       "</table>\n",
       "</div>"
      ],
      "text/plain": [
       "                                     id company_name postcode\n",
       "0  9e26ce95-93dd-444d-8f76-a170b7765a05       080808   sp27fu\n",
       "1  88ce2dec-56c8-4da4-9a5e-e2149b8affc7     08141019   en55yl\n",
       "2  9dab483f-847c-4752-bfd6-af4ec523dc55     08241526   e148gs\n",
       "3  e3aba908-96d8-41eb-9d73-cb79639ed2d4       082925  rh101ht\n",
       "4  d046ba7d-0bda-441d-b141-8b9493d624b2     08461200   sp12as"
      ]
     },
     "execution_count": 46,
     "metadata": {},
     "output_type": "execute_result"
    }
   ],
   "source": [
    "cl_x_exp.dim_processed.head(5)\n",
    "cl_x_exp.cluster_processed.head(5)"
   ]
  },
  {
   "cell_type": "markdown",
   "id": "8be87bdf-8b75-4811-b01a-5976b413e8ad",
   "metadata": {},
   "source": [
    "## Link data"
   ]
  },
  {
   "cell_type": "code",
   "execution_count": null,
   "id": "0eadf151-fc22-4610-b389-4ba551175cee",
   "metadata": {},
   "outputs": [],
   "source": []
  }
 ],
 "metadata": {
  "kernelspec": {
   "display_name": "company_matching",
   "language": "python",
   "name": "company_matching"
  },
  "language_info": {
   "codemirror_mode": {
    "name": "ipython",
    "version": 3
   },
   "file_extension": ".py",
   "mimetype": "text/x-python",
   "name": "python",
   "nbconvert_exporter": "python",
   "pygments_lexer": "ipython3",
   "version": "3.9.16"
  }
 },
 "nbformat": 4,
 "nbformat_minor": 5
}
