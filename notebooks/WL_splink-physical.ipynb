{
 "cells": [
  {
   "cell_type": "code",
   "execution_count": 2,
   "id": "41289fef-1d16-4d33-8ee4-a6e120f06cb6",
   "metadata": {},
   "outputs": [],
   "source": [
    "%load_ext autoreload\n",
    "%autoreload 2\n",
    "from IPython.core.interactiveshell import InteractiveShell\n",
    "InteractiveShell.ast_node_interactivity = \"all\""
   ]
  },
  {
   "cell_type": "code",
   "execution_count": 41,
   "id": "65b6cebf-85bb-49c9-9120-8f5b13cfbe2e",
   "metadata": {},
   "outputs": [],
   "source": [
    "from pathlib import Path\n",
    "\n",
    "from splink.duckdb.linker import DuckDBLinker\n",
    "\n",
    "from src.data import utils as du\n",
    "import src.locations as loc\n",
    "from src.config import settings\n",
    "\n",
    "CLUSTER_PATH = Path(loc.DATA_SUBDIR['processed']) / 'company-matching__full' / 'clusters.parquet' "
   ]
  },
  {
   "cell_type": "markdown",
   "id": "d0dfbcb7-f88b-4412-949c-3f59ddf13685",
   "metadata": {
    "tags": []
   },
   "source": [
    "# Using Splink with physical duckdb\n",
    "\n",
    "Gonna try and run it off the file system. Raw db about 1GB pre-Splink."
   ]
  },
  {
   "cell_type": "code",
   "execution_count": 4,
   "id": "b9e42069-7719-467d-8dd2-5a66cac6be67",
   "metadata": {},
   "outputs": [],
   "source": [
    "con = du.get_duckdb_connection()"
   ]
  },
  {
   "cell_type": "code",
   "execution_count": 16,
   "id": "af87a859-1957-42b0-a49b-97a148d66ec8",
   "metadata": {},
   "outputs": [],
   "source": [
    "table_name = []\n",
    "table_alias = []\n",
    "\n",
    "for i in con.query(\"select * from table_alias_lookup;\").fetchall():\n",
    "    table_alias.append(i[0])\n",
    "    table_name.append(i[1])"
   ]
  },
  {
   "cell_type": "code",
   "execution_count": 17,
   "id": "2def9a4f-16d5-49eb-80b6-6c3d3482f6b3",
   "metadata": {},
   "outputs": [],
   "source": [
    "linker = DuckDBLinker(\n",
    "    table_name,\n",
    "    settings_dict=settings,\n",
    "    connection=con,\n",
    "    input_table_aliases=table_alias,\n",
    ")"
   ]
  },
  {
   "cell_type": "markdown",
   "id": "f515f37c-9cca-4a1c-988f-95b539cb182b",
   "metadata": {},
   "source": [
    "## Train"
   ]
  },
  {
   "cell_type": "code",
   "execution_count": 22,
   "id": "5107e63b-09a3-492a-b1e1-e6a3be30abc5",
   "metadata": {},
   "outputs": [
    {
     "name": "stderr",
     "output_type": "stream",
     "text": [
      "Probability two random records match is estimated to be  3.24e-06.\n",
      "This means that amongst all possible pairwise record comparisons, one in 309,025.51 are expected to match.  With 40,009,433,095,801 total possible comparisons, we expect a total of around 129,469,675.71 matching pairs\n"
     ]
    }
   ],
   "source": [
    "linker.estimate_probability_two_random_records_match(\n",
    "    \"l.name_unusual_tokens = r.name_unusual_tokens\",\n",
    "    recall=0.7,\n",
    ")"
   ]
  },
  {
   "cell_type": "code",
   "execution_count": 23,
   "id": "1c00d60a-7a09-41b2-9957-5faf36053675",
   "metadata": {},
   "outputs": [
    {
     "name": "stderr",
     "output_type": "stream",
     "text": [
      "----- Estimating u probabilities using random sampling -----\n",
      "u probability not trained for comp_num_clean - Exact match (comparison vector value: 2). This usually means the comparison level was never observed in the training data.\n",
      "\n",
      "Estimated u probabilities using random sampling\n",
      "\n",
      "Your model is not yet fully trained. Missing estimates for:\n",
      "    - comp_num_clean (some u values are not trained, no m values are trained).\n",
      "    - name_unusual_tokens (no m values are trained).\n",
      "    - postcode (no m values are trained).\n"
     ]
    }
   ],
   "source": [
    "linker.estimate_u_using_random_sampling(max_pairs=1e7)"
   ]
  },
  {
   "cell_type": "code",
   "execution_count": 24,
   "id": "9bf50a59-457f-4219-8c10-2671779a3944",
   "metadata": {},
   "outputs": [
    {
     "name": "stderr",
     "output_type": "stream",
     "text": [
      "---- Estimating m probabilities using from column comp_num_clean -----\n",
      "m probability not trained for comp_num_clean - Jaro_winkler_similarity >= 0.75 (comparison vector value: 1). This usually means the comparison level was never observed in the training data.\n",
      "m probability not trained for comp_num_clean - All other comparisons (comparison vector value: 0). This usually means the comparison level was never observed in the training data.\n",
      "\n",
      "Your model is not yet fully trained. Missing estimates for:\n",
      "    - comp_num_clean (some u values are not trained, some m values are not trained).\n",
      "\n",
      "----- Starting EM training session -----\n",
      "\n",
      "Estimating the m probabilities of the model by blocking on:\n",
      "\n",
      "    l.name_unusual_tokens = r.name_unusual_tokens\n",
      "    and l.postcode_area = r.postcode_area\n",
      "\n",
      "\n",
      "Parameter estimates will be made for the following comparison(s):\n",
      "    - comp_num_clean\n",
      "    - postcode\n",
      "\n",
      "Parameter estimates cannot be made for the following comparison(s) since they are used in the blocking rules: \n",
      "    - name_unusual_tokens\n",
      "\n",
      "\n",
      "WARNING:\n",
      "Level All other comparisons on comparison postcode not observed in dataset, unable to train m value\n",
      "Iteration 1: Largest change in params was 0.714 in probability_two_random_records_match\n",
      "\n",
      "WARNING:\n",
      "Level All other comparisons on comparison postcode not observed in dataset, unable to train m value\n",
      "Iteration 2: Largest change in params was -0.0554 in the m_probability of comp_num_clean, level `Exact match`\n",
      "\n",
      "WARNING:\n",
      "Level All other comparisons on comparison postcode not observed in dataset, unable to train m value\n",
      "Iteration 3: Largest change in params was 0.00704 in the m_probability of comp_num_clean, level `All other comparisons`\n",
      "\n",
      "WARNING:\n",
      "Level All other comparisons on comparison postcode not observed in dataset, unable to train m value\n",
      "Iteration 4: Largest change in params was 7.51e-05 in the m_probability of comp_num_clean, level `All other comparisons`\n",
      "\n",
      "EM converged after 4 iterations\n",
      "m probability not trained for postcode - All other comparisons (comparison vector value: 0). This usually means the comparison level was never observed in the training data.\n",
      "\n",
      "Your model is not yet fully trained. Missing estimates for:\n",
      "    - comp_num_clean (some u values are not trained).\n"
     ]
    },
    {
     "data": {
      "text/plain": [
       "<EMTrainingSession, blocking on \n",
       "    l.name_unusual_tokens = r.name_unusual_tokens\n",
       "    and l.postcode_area = r.postcode_area\n",
       ", deactivating comparisons name_unusual_tokens>"
      ]
     },
     "execution_count": 24,
     "metadata": {},
     "output_type": "execute_result"
    }
   ],
   "source": [
    "linker.estimate_m_from_label_column(\"comp_num_clean\")\n",
    "m_by_name_and_postcode_area = \"\"\"\n",
    "    l.name_unusual_tokens = r.name_unusual_tokens\n",
    "    and l.postcode_area = r.postcode_area\n",
    "\"\"\"\n",
    "linker.estimate_parameters_using_expectation_maximisation(\n",
    "    m_by_name_and_postcode_area\n",
    ")"
   ]
  },
  {
   "cell_type": "markdown",
   "id": "045c4bc3-fd4e-4b86-ac4d-212c0f0c3a4c",
   "metadata": {},
   "source": [
    "## Predict"
   ]
  },
  {
   "cell_type": "code",
   "execution_count": 25,
   "id": "e5712b44-6919-4420-9b93-14468f8e0662",
   "metadata": {},
   "outputs": [
    {
     "name": "stderr",
     "output_type": "stream",
     "text": [
      "\n",
      " -- WARNING --\n",
      "You have called predict(), but there are some parameter estimates which have neither been estimated or specified in your settings dictionary.  To produce predictions the following untrained trained parameters will use default values.\n",
      "Comparison: 'comp_num_clean':\n",
      "    u values not fully trained\n"
     ]
    }
   ],
   "source": [
    "predictions = linker.predict(threshold_match_probability=0.7)"
   ]
  },
  {
   "cell_type": "markdown",
   "id": "453b4d9b-b283-47d8-a58b-03b68bb04a12",
   "metadata": {},
   "source": [
    "## Cluster"
   ]
  },
  {
   "cell_type": "code",
   "execution_count": 22,
   "id": "0845d55e-7f69-4794-ae6c-2a68facc55e7",
   "metadata": {},
   "outputs": [],
   "source": [
    "predict_table = con.query(\"\"\"\n",
    "    select table_name\n",
    "    from information_schema.tables\n",
    "    where table_name like '%predict%';\n",
    "\"\"\").fetchone()[0]\n",
    "predictions = linker.register_table(predict_table, predict_table)"
   ]
  },
  {
   "cell_type": "code",
   "execution_count": 24,
   "id": "738c3dec-a32c-4123-a1cf-6f50fb338f27",
   "metadata": {},
   "outputs": [
    {
     "name": "stderr",
     "output_type": "stream",
     "text": [
      "Completed iteration 1, root rows count 11876\n",
      "Completed iteration 2, root rows count 208\n",
      "Completed iteration 3, root rows count 97\n",
      "Completed iteration 4, root rows count 3\n",
      "Completed iteration 5, root rows count 0\n"
     ]
    }
   ],
   "source": [
    "clusters = linker.cluster_pairwise_predictions_at_threshold(\n",
    "    predictions,\n",
    "    threshold_match_probability=0.7,\n",
    "    pairwise_formatting=True,\n",
    "    filter_pairwise_format_for_clusters=False,\n",
    ")"
   ]
  },
  {
   "cell_type": "code",
   "execution_count": 30,
   "id": "8a6ad9f1-2ac2-4068-86d7-4adc9a3c4797",
   "metadata": {},
   "outputs": [
    {
     "data": {
      "text/plain": [
       "'__splink__df_representatives_ea153478b'"
      ]
     },
     "execution_count": 30,
     "metadata": {},
     "output_type": "execute_result"
    }
   ],
   "source": [
    "clusters.physical_name"
   ]
  },
  {
   "cell_type": "markdown",
   "id": "b794845b-808d-4c38-abae-5ed916341e84",
   "metadata": {},
   "source": [
    "## Review"
   ]
  },
  {
   "cell_type": "code",
   "execution_count": 20,
   "id": "8db53b9f-a23a-4fb2-b4df-03460ca3ae02",
   "metadata": {},
   "outputs": [
    {
     "data": {
      "text/plain": [
       "┌──────────────┐\n",
       "│ count_star() │\n",
       "│    int64     │\n",
       "├──────────────┤\n",
       "│     79578102 │\n",
       "└──────────────┘"
      ]
     },
     "execution_count": 20,
     "metadata": {},
     "output_type": "execute_result"
    }
   ],
   "source": [
    "con.query(f\"select count(*) from {predict_table};\")"
   ]
  },
  {
   "cell_type": "code",
   "execution_count": 31,
   "id": "08de38a7-d98b-4954-ace9-749ba2ead129",
   "metadata": {},
   "outputs": [
    {
     "data": {
      "text/plain": [
       "┌──────────────┐\n",
       "│ count_star() │\n",
       "│    int64     │\n",
       "├──────────────┤\n",
       "│     79578102 │\n",
       "└──────────────┘"
      ]
     },
     "execution_count": 31,
     "metadata": {},
     "output_type": "execute_result"
    }
   ],
   "source": [
    "con.query(f\"select count(*) from {clusters.physical_name};\")"
   ]
  },
  {
   "cell_type": "code",
   "execution_count": 25,
   "id": "8cc32ad2-4ef4-41ad-ba8a-7fd1996b3301",
   "metadata": {},
   "outputs": [
    {
     "data": {
      "text/plain": [
       "┌──────────────────┬───────────────┬────────────┬───┬─────────────┬──────────┬──────────────┬──────────────┐\n",
       "│  database_name   │ database_size │ block_size │ … │ free_blocks │ wal_size │ memory_usage │ memory_limit │\n",
       "│     varchar      │    varchar    │   int64    │   │    int64    │ varchar  │   varchar    │   varchar    │\n",
       "├──────────────────┼───────────────┼────────────┼───┼─────────────┼──────────┼──────────────┼──────────────┤\n",
       "│ company_matching │ 10.0GB        │     262144 │ … │        1365 │ 0 bytes  │ 5.6GB        │ 26.4GB       │\n",
       "├──────────────────┴───────────────┴────────────┴───┴─────────────┴──────────┴──────────────┴──────────────┤\n",
       "│ 1 rows                                                                               9 columns (7 shown) │\n",
       "└──────────────────────────────────────────────────────────────────────────────────────────────────────────┘"
      ]
     },
     "execution_count": 25,
     "metadata": {},
     "output_type": "execute_result"
    }
   ],
   "source": [
    "con.query(\"pragma database_size;\")"
   ]
  },
  {
   "cell_type": "code",
   "execution_count": 27,
   "id": "39da8589-740e-4b1a-9378-126dd42fa789",
   "metadata": {},
   "outputs": [
    {
     "data": {
      "text/plain": [
       "┌────────────────────────────────────────────────┐\n",
       "│                   table_name                   │\n",
       "│                    varchar                     │\n",
       "├────────────────────────────────────────────────┤\n",
       "│ __splink__df_representatives_ea153478b         │\n",
       "│ __splink__df_representatives_5_d028e6a58       │\n",
       "│ __splink__df_neighbours_0591198d8              │\n",
       "│ __splink__df_connected_components_df_f10684aa6 │\n",
       "│ table_alias_lookup                             │\n",
       "│ __splink__df_connected_components_df_c16c235f8 │\n",
       "│ hmrc_trade__exporters                          │\n",
       "│ __splink__df_predict_d21134292                 │\n",
       "│ companieshouse_companies                       │\n",
       "│ dit_data_hub__companies                        │\n",
       "│ dit_export_wins__wins_dataset                  │\n",
       "│ __splink__df_representatives_4_7613b3b70       │\n",
       "│ __splink__df_representatives_5_7003110e3       │\n",
       "│ __splink__df_concat_b79089d01                  │\n",
       "│ __splink__df_concat_with_tf_4034084f6          │\n",
       "│ __splink__m_u_counts_e96a5fb77                 │\n",
       "│ __splink__df_comparison_vectors_21b507a49      │\n",
       "│ __splink__df_neighbours_340e4a931              │\n",
       "│ unique_id_lookup                               │\n",
       "│ __splink__df_concat_with_tf_6d5bad333          │\n",
       "├────────────────────────────────────────────────┤\n",
       "│                    20 rows                     │\n",
       "└────────────────────────────────────────────────┘"
      ]
     },
     "execution_count": 27,
     "metadata": {},
     "output_type": "execute_result"
    }
   ],
   "source": [
    "con.query(\"\"\"\n",
    "    select table_name\n",
    "    from information_schema.tables;\n",
    "\"\"\")"
   ]
  },
  {
   "cell_type": "markdown",
   "id": "12259af6-6c4e-4197-86c1-f317950e5956",
   "metadata": {},
   "source": [
    "## Export"
   ]
  },
  {
   "cell_type": "code",
   "execution_count": 42,
   "id": "99332ff3-5b26-42ae-abe4-8546fbb970ca",
   "metadata": {},
   "outputs": [],
   "source": [
    "con.query(f\"\"\"\n",
    "    copy (\n",
    "        select\n",
    "            src_tbl.table_name as source,\n",
    "            src_id.unique_id as source_id,\n",
    "            cl.source_cluster,\n",
    "            tgt_tbl.table_name as target,\n",
    "            tgt_id.unique_id as target_id,\n",
    "            cl.target_cluster\n",
    "        from (\n",
    "            select\n",
    "                source_dataset_l as source,\n",
    "                unique_id_l as source_id,\n",
    "                cluster_id_l as source_cluster,\n",
    "                source_dataset_r as target,\n",
    "                unique_id_r as target_id,\n",
    "                cluster_id_r as target_cluster,\n",
    "                match_probability\n",
    "            from\n",
    "                { clusters.physical_name }\n",
    "            union\n",
    "            select\n",
    "                source_dataset_r as source,\n",
    "                unique_id_r as source_id,\n",
    "                cluster_id_r as source_cluster,\n",
    "                source_dataset_l as target,\n",
    "                unique_id_l as target_id,\n",
    "                cluster_id_l as target_cluster,\n",
    "                match_probability\n",
    "            from\n",
    "                { clusters.physical_name }\n",
    "        ) cl\n",
    "        join table_alias_lookup src_tbl on\n",
    "            (cl.source = src_tbl.id)\n",
    "        join unique_id_lookup src_id on\n",
    "            (cl.source_id = src_id.id)\n",
    "        join table_alias_lookup tgt_tbl on\n",
    "            (cl.target = tgt_tbl.id)\n",
    "        join unique_id_lookup tgt_id on\n",
    "            (cl.target_id = tgt_id.id)\n",
    "    )\n",
    "    to '{CLUSTER_PATH.as_posix()}'\n",
    "    (format parquet);\n",
    "\"\"\")"
   ]
  }
 ],
 "metadata": {
  "kernelspec": {
   "display_name": "company_matching",
   "language": "python",
   "name": "company_matching"
  },
  "language_info": {
   "codemirror_mode": {
    "name": "ipython",
    "version": 3
   },
   "file_extension": ".py",
   "mimetype": "text/x-python",
   "name": "python",
   "nbconvert_exporter": "python",
   "pygments_lexer": "ipython3",
   "version": "3.9.16"
  }
 },
 "nbformat": 4,
 "nbformat_minor": 5
}
