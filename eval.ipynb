{
 "cells": [
  {
   "cell_type": "code",
   "execution_count": 1,
   "id": "75501357",
   "metadata": {},
   "outputs": [],
   "source": [
    "%load_ext autoreload\n",
    "%autoreload 2"
   ]
  },
  {
   "cell_type": "code",
   "execution_count": 2,
   "id": "2d53b10e",
   "metadata": {},
   "outputs": [],
   "source": [
    "from matchbox.client.eval import EvalData\n",
    "from matchbox.client.results import Results\n",
    "from matchbox.common.dtos import ModelConfig, ModelType\n",
    "from pyarrow import Table\n",
    "import polars as pl"
   ]
  },
  {
   "cell_type": "code",
   "execution_count": 3,
   "id": "44a9532a",
   "metadata": {},
   "outputs": [
    {
     "data": {
      "text/plain": [
       "pyarrow.Table\n",
       "parent: int64\n",
       "leaf: int64\n",
       "----\n",
       "parent: [[1,2,3,4,4,4]]\n",
       "leaf: [[null,null,null,5,6,7]]"
      ]
     },
     "execution_count": 3,
     "metadata": {},
     "output_type": "execute_result"
    }
   ],
   "source": [
    "ed = EvalData()\n",
    "ed.eval_data"
   ]
  },
  {
   "cell_type": "code",
   "execution_count": 4,
   "id": "5d737b1d",
   "metadata": {},
   "outputs": [],
   "source": [
    "res_data = Table.from_pylist([\n",
    "    {\"left_id\": 5, \"right_id\": 6, \"probability\": 0.9},\n",
    "    {\"left_id\": 1, \"right_id\": 2, \"probability\": 0.7},\n",
    "    {\"left_id\": 1, \"right_id\": 3, \"probability\": 0.7},\n",
    "    {\"left_id\": 2, \"right_id\": 3, \"probability\": 0.7},\n",
    "    {\"left_id\": 6, \"right_id\": 7, \"probability\": 0.5},\n",
    "    {\"left_id\": 5, \"right_id\": 7, \"probability\": 0.5},\n",
    "])\n",
    "results = Results(probabilities=res_data, metadata=ModelConfig(\n",
    "    name=\"mymodel\",\n",
    "    description=\"A great, great model\",\n",
    "    type=ModelType.DEDUPER, \n",
    "    left_resolution=\"source\",\n",
    "))"
   ]
  },
  {
   "cell_type": "code",
   "execution_count": 5,
   "id": "8ab6c6c4",
   "metadata": {},
   "outputs": [
    {
     "data": {
      "text/html": [
       "<div><style>\n",
       ".dataframe > thead > tr,\n",
       ".dataframe > tbody > tr {\n",
       "  text-align: right;\n",
       "  white-space: pre-wrap;\n",
       "}\n",
       "</style>\n",
       "<small>shape: (8, 3)</small><table border=\"1\" class=\"dataframe\"><thead><tr><th>parent</th><th>child</th><th>threshold</th></tr><tr><td>i64</td><td>i64</td><td>u8</td></tr></thead><tbody><tr><td>-947</td><td>5</td><td>90</td></tr><tr><td>-947</td><td>6</td><td>90</td></tr><tr><td>-992</td><td>1</td><td>70</td></tr><tr><td>-992</td><td>2</td><td>70</td></tr><tr><td>-992</td><td>3</td><td>70</td></tr><tr><td>-1038</td><td>5</td><td>50</td></tr><tr><td>-1038</td><td>6</td><td>50</td></tr><tr><td>-1038</td><td>7</td><td>50</td></tr></tbody></table></div>"
      ],
      "text/plain": [
       "shape: (8, 3)\n",
       "┌────────┬───────┬───────────┐\n",
       "│ parent ┆ child ┆ threshold │\n",
       "│ ---    ┆ ---   ┆ ---       │\n",
       "│ i64    ┆ i64   ┆ u8        │\n",
       "╞════════╪═══════╪═══════════╡\n",
       "│ -947   ┆ 5     ┆ 90        │\n",
       "│ -947   ┆ 6     ┆ 90        │\n",
       "│ -992   ┆ 1     ┆ 70        │\n",
       "│ -992   ┆ 2     ┆ 70        │\n",
       "│ -992   ┆ 3     ┆ 70        │\n",
       "│ -1038  ┆ 5     ┆ 50        │\n",
       "│ -1038  ┆ 6     ┆ 50        │\n",
       "│ -1038  ┆ 7     ┆ 50        │\n",
       "└────────┴───────┴───────────┘"
      ]
     },
     "execution_count": 5,
     "metadata": {},
     "output_type": "execute_result"
    }
   ],
   "source": [
    "pl.from_arrow(results.clusters).filter(pl.col(\"threshold\") >= 50)"
   ]
  },
  {
   "cell_type": "code",
   "execution_count": 6,
   "id": "c080912d",
   "metadata": {},
   "outputs": [
    {
     "data": {
      "text/plain": [
       "(0.5, 1.0)"
      ]
     },
     "execution_count": 6,
     "metadata": {},
     "output_type": "execute_result"
    }
   ],
   "source": [
    "ed.precision_recall(results=results, threshold=0.5)"
   ]
  },
  {
   "cell_type": "code",
   "execution_count": 7,
   "id": "b087cdf1",
   "metadata": {},
   "outputs": [
    {
     "data": {
      "text/plain": [
       "<module 'matplotlib.pyplot' from '/Users/lmazz/Desktop/matchbox/.venv/lib/python3.11/site-packages/matplotlib/pyplot.py'>"
      ]
     },
     "execution_count": 7,
     "metadata": {},
     "output_type": "execute_result"
    },
    {
     "data": {
      "image/png": "[encoded data removed]",
      "text/plain": [
       "<Figure size 640x480 with 1 Axes>"
      ]
     },
     "metadata": {},
     "output_type": "display_data"
    }
   ],
   "source": [
    "ed.pr_curve(results=results)"
   ]
  }
 ],
 "metadata": {
  "kernelspec": {
   "display_name": ".venv",
   "language": "python",
   "name": "python3"
  },
  "language_info": {
   "codemirror_mode": {
    "name": "ipython",
    "version": 3
   },
   "file_extension": ".py",
   "mimetype": "text/x-python",
   "name": "python",
   "nbconvert_exporter": "python",
   "pygments_lexer": "ipython3",
   "version": "3.11.10"
  }
 },
 "nbformat": 4,
 "nbformat_minor": 5
}
